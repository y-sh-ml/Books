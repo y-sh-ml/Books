{
 "cells": [
  {
   "cell_type": "markdown",
   "metadata": {},
   "source": [
    "### continue"
   ]
  },
  {
   "cell_type": "markdown",
   "metadata": {},
   "source": [
    "残りの処理をスキップし、次のループ処理に移る"
   ]
  },
  {
   "cell_type": "code",
   "execution_count": 1,
   "metadata": {},
   "outputs": [
    {
     "name": "stdout",
     "output_type": "stream",
     "text": [
      "3\n",
      "4\n",
      "5\n",
      "6\n"
     ]
    }
   ],
   "source": [
    "storages = [1, 2, 3, 4, 5, 6]\n",
    "for n in storages: \n",
    "    if n < 3:\n",
    "        continue  \n",
    "    print(n)"
   ]
  },
  {
   "cell_type": "code",
   "execution_count": 2,
   "metadata": {},
   "outputs": [
    {
     "name": "stdout",
     "output_type": "stream",
     "text": [
      "0\n",
      "2\n"
     ]
    }
   ],
   "source": [
    "for i in range(0,3):\n",
    "    if i == 1:\n",
    "        continue\n",
    "    print(i)"
   ]
  },
  {
   "cell_type": "code",
   "execution_count": 3,
   "metadata": {},
   "outputs": [
    {
     "name": "stdout",
     "output_type": "stream",
     "text": [
      "0\n",
      "2\n"
     ]
    }
   ],
   "source": [
    "i=0\n",
    "while (i < 3):\n",
    "    if i == 1:\n",
    "        i = i+1\n",
    "        continue\n",
    "    print(i)\n",
    "    i = i+1"
   ]
  },
  {
   "cell_type": "markdown",
   "metadata": {},
   "source": [
    "### break"
   ]
  },
  {
   "cell_type": "markdown",
   "metadata": {},
   "source": [
    "if文ではなく、forやwhileによる「ループ」を抜け出す"
   ]
  },
  {
   "cell_type": "code",
   "execution_count": 4,
   "metadata": {},
   "outputs": [
    {
     "name": "stdout",
     "output_type": "stream",
     "text": [
      "0\n",
      "1\n",
      "2\n",
      "3\n",
      "4\n",
      "5\n",
      "nが5以上になったので、処理を終了します\n"
     ]
    }
   ],
   "source": [
    "storages = [0, 1, 2, 3, 4, 5, 6, 7, 8, 9, 10]\n",
    "for n in storages:\n",
    "    print(n)\n",
    "    if n >= 5:\n",
    "        print('nが5以上になったので、処理を終了します')\n",
    "        break"
   ]
  },
  {
   "cell_type": "markdown",
   "metadata": {},
   "source": [
    "### for・else"
   ]
  },
  {
   "cell_type": "code",
   "execution_count": 5,
   "metadata": {},
   "outputs": [
    {
     "name": "stdout",
     "output_type": "stream",
     "text": [
      "2 is a prime number\n",
      "3 is a prime number\n",
      "4 equals 2 * 2\n",
      "5 is a prime number\n",
      "6 equals 2 * 3\n",
      "7 is a prime number\n",
      "8 equals 2 * 4\n",
      "9 equals 3 * 3\n"
     ]
    }
   ],
   "source": [
    "# for x のループを使い切ったら、else以下が実行される\n",
    "for n in range(2, 10):\n",
    "    for x in range(2, n):\n",
    "        if n % x == 0:\n",
    "            print(n, 'equals', x, '*', n//x)\n",
    "            break\n",
    "    else:\n",
    "            print(n, 'is a prime number')\n",
    "            \n",
    "# breakは小さい方（for x）のループを強制終了している"
   ]
  },
  {
   "cell_type": "code",
   "execution_count": 6,
   "metadata": {},
   "outputs": [
    {
     "data": {
      "text/plain": [
       "[]"
      ]
     },
     "execution_count": 6,
     "metadata": {},
     "output_type": "execute_result"
    }
   ],
   "source": [
    "list(range(2, 2))"
   ]
  },
  {
   "cell_type": "markdown",
   "metadata": {},
   "source": [
    "### while"
   ]
  },
  {
   "cell_type": "code",
   "execution_count": 7,
   "metadata": {},
   "outputs": [
    {
     "name": "stdout",
     "output_type": "stream",
     "text": [
      "2\n",
      "1\n"
     ]
    }
   ],
   "source": [
    "n = 2\n",
    "while n > 0:\n",
    "    print(n)\n",
    "    n = n - 1"
   ]
  },
  {
   "cell_type": "markdown",
   "metadata": {},
   "source": [
    "### try"
   ]
  },
  {
   "cell_type": "markdown",
   "metadata": {},
   "source": [
    "エラーを指定して、それが起きたら、except以下の処理を行う"
   ]
  },
  {
   "cell_type": "code",
   "execution_count": 8,
   "metadata": {},
   "outputs": [
    {
     "name": "stdout",
     "output_type": "stream",
     "text": [
      "計算エラーです\n"
     ]
    }
   ],
   "source": [
    "try:\n",
    "    print(1 / 0)\n",
    "except ZeroDivisionError:\n",
    "    print('計算エラーです')"
   ]
  },
  {
   "cell_type": "markdown",
   "metadata": {},
   "source": [
    "### raise\n",
    "\n",
    "強制的にエラーを引き起こす"
   ]
  },
  {
   "cell_type": "code",
   "execution_count": 9,
   "metadata": {},
   "outputs": [
    {
     "name": "stdout",
     "output_type": "stream",
     "text": [
      "ZeroDivisionErrorです\n"
     ]
    }
   ],
   "source": [
    "try:\n",
    "    raise ZeroDivisionError\n",
    "    \n",
    "except ZeroDivisionError:\n",
    "    print('ZeroDivisionErrorです')"
   ]
  },
  {
   "cell_type": "markdown",
   "metadata": {},
   "source": [
    "### Class"
   ]
  },
  {
   "cell_type": "code",
   "execution_count": 10,
   "metadata": {},
   "outputs": [
    {
     "name": "stdout",
     "output_type": "stream",
     "text": [
      "cake\n",
      "500\n"
     ]
    }
   ],
   "source": [
    "# クラスの定義\n",
    "class Myproduct:\n",
    "    def __init__(self, name, price): # インスタンスが作成された直後に実行される処理\n",
    "        self.name = name\n",
    "        self.price = price\n",
    "        self.stock = 0\n",
    "        self.sales = 0\n",
    "        \n",
    "# インスタンスの作成\n",
    "product1 = Myproduct('cake', 500)\n",
    "\n",
    "print(product1.name)\n",
    "print(product1.price)"
   ]
  },
  {
   "cell_type": "code",
   "execution_count": 11,
   "metadata": {},
   "outputs": [
    {
     "name": "stdout",
     "output_type": "stream",
     "text": [
      "cake\n",
      "500\n",
      "0\n",
      "0\n"
     ]
    }
   ],
   "source": [
    "# クラスの定義\n",
    "class Myproduct:\n",
    "    def __init__(self, name, price):\n",
    "        self.name = name\n",
    "        self.price = price\n",
    "        self.stock = 0\n",
    "        self.sales = 0\n",
    "\n",
    "# インスタンスの作成\n",
    "product1 = Myproduct('cake', 500)\n",
    "\n",
    "print(product1.name)\n",
    "print(product1.price)\n",
    "print(product1.stock)\n",
    "print(product1.sales)\n",
    "\n",
    "# class：レシピ（設計書）\n",
    "# インスタンス：レシピに材料を与えて、作成した料理"
   ]
  },
  {
   "cell_type": "code",
   "execution_count": 12,
   "metadata": {},
   "outputs": [
    {
     "name": "stdout",
     "output_type": "stream",
     "text": [
      "phone\n",
      "30000\n",
      "100\n",
      "called summary().\n",
      " name: phone\n",
      " price: 25000\n",
      " stock: 100\n",
      " sales: 0\n"
     ]
    }
   ],
   "source": [
    "# クラスの定義\n",
    "class MyProduct:\n",
    "    def __init__(self, name, price, stock):\n",
    "        self.name = name\n",
    "        self.price = price\n",
    "        self.stock = stock\n",
    "        self.sales = 0\n",
    "\n",
    "    def summary(self):\n",
    "        message = \"called summary().\"  + \\\n",
    "        \"\\n name: \"  + self.get_name() + \\\n",
    "        \"\\n price: \" + str(self.price) + \\\n",
    "        \"\\n stock: \" + str(self.stock) + \\\n",
    "        \"\\n sales: \" + str(self.sales)\n",
    "        print(message)\n",
    "\n",
    "    def get_name(self): # 引数はすでにあるものを使用するので、新たには不要\n",
    "        return self.name\n",
    "\n",
    "    def discount(self, n):\n",
    "        self.price -= n\n",
    "\n",
    "        \n",
    "# インスタンスの作成\n",
    "product_2 = MyProduct(\"phone\", 30000, 100)\n",
    "\n",
    "# 「self = product2」というイメージで良い\n",
    "print(product_2.name)\n",
    "print(product_2.price)\n",
    "print(product_2.stock)\n",
    "\n",
    "product_2.discount(5000)\n",
    "product_2.summary()"
   ]
  },
  {
   "cell_type": "code",
   "execution_count": 13,
   "metadata": {},
   "outputs": [
    {
     "data": {
      "text/plain": [
       "(3.0, -4.5)"
      ]
     },
     "execution_count": 13,
     "metadata": {},
     "output_type": "execute_result"
    }
   ],
   "source": [
    "# クラスの定義\n",
    "class Complex:\n",
    "    def __init__(self, realpart, imagpart):\n",
    "        self.r = realpart\n",
    "        self.i = imagpart\n",
    "\n",
    "# インスタンスの作成\n",
    "x = Complex(3.0, -4.5)\n",
    "x.r, x.i"
   ]
  },
  {
   "cell_type": "code",
   "execution_count": 14,
   "metadata": {},
   "outputs": [
    {
     "name": "stdout",
     "output_type": "stream",
     "text": [
      "canine\n",
      "canine\n",
      "Fido\n",
      "Buddy\n"
     ]
    }
   ],
   "source": [
    "# クラスの定義\n",
    "class Dog:\n",
    "    kind = 'canine'\n",
    "    \n",
    "    def __init__(self, name):\n",
    "        self.name = name\n",
    "\n",
    "# インスタンスの作成\n",
    "d = Dog('Fido')\n",
    "e = Dog('Buddy')\n",
    "\n",
    "print(d.kind)\n",
    "print(e.kind)\n",
    "\n",
    "print(d.name)\n",
    "print(e.name)"
   ]
  },
  {
   "cell_type": "code",
   "execution_count": 15,
   "metadata": {},
   "outputs": [
    {
     "name": "stdout",
     "output_type": "stream",
     "text": [
      "Fido\n",
      "Buddy\n",
      "['ころがる']\n",
      "['死んだふり']\n"
     ]
    }
   ],
   "source": [
    "# クラスの定義\n",
    "class Dog:\n",
    "    def __init__(self, name):\n",
    "        self.name = name\n",
    "        self.tricks = []\n",
    "        \n",
    "    def add_trick(self, trick):\n",
    "        self.tricks.append(trick)\n",
    "\n",
    "# インスタンスの作成\n",
    "d = Dog('Fido')\n",
    "e = Dog('Buddy')\n",
    "\n",
    "d.add_trick('ころがる')\n",
    "e.add_trick('死んだふり')\n",
    "\n",
    "print(d.name)\n",
    "print(e.name)\n",
    "\n",
    "print(d.tricks)\n",
    "print(e.tricks)"
   ]
  },
  {
   "cell_type": "code",
   "execution_count": 16,
   "metadata": {},
   "outputs": [
    {
     "name": "stdout",
     "output_type": "stream",
     "text": [
      "phone(税込)\n",
      "33000\n",
      "phone(税込)\n",
      "33000\n",
      "called summary().\n",
      " name: phone\n",
      " price: 30000\n",
      " stock: 100\n",
      " sales: 0\n"
     ]
    }
   ],
   "source": [
    "class MyProduct:\n",
    "    def __init__(self, name, price, stock):\n",
    "        self.name = name\n",
    "        self.price = price\n",
    "        self.stock = stock\n",
    "        self.sales = 0\n",
    "\n",
    "    def buy_up(self, n):\n",
    "        self.stock += n\n",
    "            \n",
    "    def get_name(self): \n",
    "        return self.name\n",
    "\n",
    "    def sell(self, n): \n",
    "        self.stock -= n\n",
    "        self.sales += n * self.price\n",
    "\n",
    "    def summary(self): \n",
    "        message = \"called summary().\\n name: \" + self.name + \\\n",
    "        \"\\n price: \" + str(self.price) + \\\n",
    "        \"\\n stock: \" + str(self.stock) + \\\n",
    "        \"\\n sales: \" + str(self.sales)\n",
    "        print(message)\n",
    "        \n",
    "# 子クラス（継承）\n",
    "class MyProductSalesTax(MyProduct):\n",
    "\n",
    "    def __init__(self, name, price, stock, tax_rate):\n",
    "        super().__init__(name, price, stock) # 親クラスのイニシャライザを呼び出す\n",
    "        self.tax_rate = tax_rate\n",
    "\n",
    "    def get_name(self): # MyProductのget_nameを上書き\n",
    "        return self.name + \"(税込)\"\n",
    " \n",
    "    def get_price_with_tax(self): # get_price_with_taxを追加\n",
    "        return int(self.price * (1 + self.tax_rate))\n",
    "    \n",
    "    \n",
    "product_3 = MyProductSalesTax(\"phone\", 30000, 100, 0.1)\n",
    "\n",
    "print(product_3.get_name())\n",
    "print(product_3.get_price_with_tax())\n",
    "\n",
    "print(MyProductSalesTax(\"phone\", 30000, 100, 0.1).get_name())\n",
    "print(MyProductSalesTax(\"phone\", 30000, 100, 0.1).get_price_with_tax())\n",
    "\n",
    "product_3.summary()"
   ]
  },
  {
   "cell_type": "code",
   "execution_count": 17,
   "metadata": {},
   "outputs": [
    {
     "name": "stdout",
     "output_type": "stream",
     "text": [
      "私の名前はbase.aです。\n"
     ]
    }
   ],
   "source": [
    "# クラスの定義\n",
    "class base():\n",
    "    def a(self):\n",
    "        print('私の名前はbase.aです。')\n",
    "    def b(self):\n",
    "        print('私の名前はbase.bです。')\n",
    "    \n",
    "class der(base):# baseを()に入れて上書きする\n",
    "    def b(self):\n",
    "        print('上の関数bを上書きしています。')\n",
    "\n",
    "# インスタンスの作成\n",
    "b = base()\n",
    "d = der()\n",
    "\n",
    "b.a() # b=baseの関数aを呼び出す"
   ]
  },
  {
   "cell_type": "code",
   "execution_count": 18,
   "metadata": {},
   "outputs": [
    {
     "name": "stdout",
     "output_type": "stream",
     "text": [
      "私の名前はbase.bです。\n"
     ]
    }
   ],
   "source": [
    "b.b() # b=baseの関数bを呼び出す"
   ]
  },
  {
   "cell_type": "code",
   "execution_count": 19,
   "metadata": {},
   "outputs": [
    {
     "name": "stdout",
     "output_type": "stream",
     "text": [
      "上の関数bを上書きしています。\n"
     ]
    }
   ],
   "source": [
    "d.b()"
   ]
  },
  {
   "cell_type": "markdown",
   "metadata": {},
   "source": [
    "### Scope"
   ]
  },
  {
   "cell_type": "code",
   "execution_count": 20,
   "metadata": {},
   "outputs": [
    {
     "name": "stdout",
     "output_type": "stream",
     "text": [
      "inner: 2\n",
      "outer: 1\n",
      "global: 5\n"
     ]
    }
   ],
   "source": [
    "# global：関数の外側（outer外）の変数定義を変える\n",
    "x = 5\n",
    "def outer():\n",
    "    x = 1\n",
    "    def inner():\n",
    "        x = 2\n",
    "        print(\"inner:\", x)\n",
    "    inner()\n",
    "    print(\"outer:\", x)\n",
    "outer()\n",
    "print(\"global:\", x)"
   ]
  },
  {
   "cell_type": "code",
   "execution_count": 21,
   "metadata": {},
   "outputs": [
    {
     "name": "stdout",
     "output_type": "stream",
     "text": [
      "inner: 2\n",
      "outer: 2\n",
      "global: 5\n"
     ]
    }
   ],
   "source": [
    "# nonlocal:関数の内側（inner）と外側（outer内まで）の変数定義を変える\n",
    "x = 5\n",
    "def outer():\n",
    "    x = 1\n",
    "    def inner():\n",
    "        nonlocal x\n",
    "        x = 2\n",
    "        print(\"inner:\", x)\n",
    "    inner()\n",
    "    print(\"outer:\", x)\n",
    "outer()\n",
    "print(\"global:\", x)"
   ]
  },
  {
   "cell_type": "code",
   "execution_count": 22,
   "metadata": {},
   "outputs": [
    {
     "name": "stdout",
     "output_type": "stream",
     "text": [
      "one: 4\n",
      "two: 4\n"
     ]
    }
   ],
   "source": [
    "# nonlocal:関数の内側（new_number）と外側（number内まで）の変数定義を変える\n",
    "def number():\n",
    "    x = 2\n",
    "    def new_number():\n",
    "        nonlocal x\n",
    "        x = 4\n",
    "        print(\"one:\", x)\n",
    "    new_number()\n",
    "    print(\"two:\", x)\n",
    "number()"
   ]
  },
  {
   "cell_type": "markdown",
   "metadata": {},
   "source": [
    "Python超初心者向け！breakとcontinueの基礎の基礎を解説！：https://www.sejuku.net/blog/23035<br>\n",
    "classの使い方を理解しよう！役割や実践方法を徹底解説！:https://www.tech-teacher.jp/blog/python-class/<br>\n",
    "python3: nonlocal vs global：https://qiita.com/weedslayer/items/5980736c42e096c725a3<br>\n",
    "たびんちゅ中澤のノマドエンジニアブログ:https://nakazawakan.com/python-scope/"
   ]
  }
 ],
 "metadata": {
  "kernelspec": {
   "display_name": "Python 3",
   "language": "python",
   "name": "python3"
  },
  "language_info": {
   "codemirror_mode": {
    "name": "ipython",
    "version": 3
   },
   "file_extension": ".py",
   "mimetype": "text/x-python",
   "name": "python",
   "nbconvert_exporter": "python",
   "pygments_lexer": "ipython3",
   "version": "3.7.6"
  }
 },
 "nbformat": 4,
 "nbformat_minor": 4
}
