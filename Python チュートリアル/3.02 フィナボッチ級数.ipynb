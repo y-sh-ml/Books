{
 "cells": [
  {
   "cell_type": "markdown",
   "metadata": {},
   "source": [
    "## 3.2 フィナボッチ級数"
   ]
  },
  {
   "cell_type": "code",
   "execution_count": 3,
   "metadata": {},
   "outputs": [],
   "source": [
    "# 多重代入（複数に代入すること）\n",
    "a, b = 0, 1\n",
    "\n",
    "# シーケンスとは、複数の値をリスト型などでひとまとめにすること"
   ]
  },
  {
   "cell_type": "code",
   "execution_count": 4,
   "metadata": {},
   "outputs": [
    {
     "name": "stdout",
     "output_type": "stream",
     "text": [
      "1\n",
      "1\n",
      "2\n",
      "3\n",
      "5\n",
      "8\n"
     ]
    }
   ],
   "source": [
    "while b < 10:\n",
    "    print(b)\n",
    "    # 代入より先に、右辺の a, b の計算（処理）がなされる\n",
    "    a, b = b, a + b\n",
    "    \n",
    "# まず最初にbを出力、その後 a, a+b に 1, 0+1 と処理（計算）したのち、a, b へ代入（上書き）をする\n",
    "# 次に、b は 1 なのでそのまま出力をし、b, a+b は 1, 2 となり、a, b へ代入（上書き）される、これで a = 1, b = 2\n",
    "# 次に、b は 2 なのでそのまま出力をし、b, a+b は 2, 3 となり、a, b へ代入（上書き）される、これで a = 2, b = 3\n",
    "# 次に、b は 3 なのでそのまま出力をし、b, a+b は 3, 5 となり、a, b へ代入（上書き）される、これで a = 3, b = 5\n",
    "\n",
    "# とひたすら繰り返していく"
   ]
  },
  {
   "cell_type": "code",
   "execution_count": 5,
   "metadata": {},
   "outputs": [
    {
     "name": "stdout",
     "output_type": "stream",
     "text": [
      "The value of i is 65536\n"
     ]
    }
   ],
   "source": [
    "i = 256 * 256\n",
    "print('The value of i is', i)"
   ]
  },
  {
   "cell_type": "code",
   "execution_count": 6,
   "metadata": {},
   "outputs": [],
   "source": [
    "a, b = 0, 1"
   ]
  },
  {
   "cell_type": "code",
   "execution_count": 7,
   "metadata": {},
   "outputs": [
    {
     "name": "stdout",
     "output_type": "stream",
     "text": [
      "1,1,2,3,5,8,13,21,34,55,89,144,233,377,610,987,"
     ]
    }
   ],
   "source": [
    "while b < 1000:\n",
    "    print(b, end = ',')\n",
    "    a, b = b, a + b\n",
    "    \n",
    "# 改行をなくすかつ、1つの出力結果の直後に , を付けるようにしている"
   ]
  }
 ],
 "metadata": {
  "kernelspec": {
   "display_name": "Python 3",
   "language": "python",
   "name": "python3"
  },
  "language_info": {
   "codemirror_mode": {
    "name": "ipython",
    "version": 3
   },
   "file_extension": ".py",
   "mimetype": "text/x-python",
   "name": "python",
   "nbconvert_exporter": "python",
   "pygments_lexer": "ipython3",
   "version": "3.7.6"
  }
 },
 "nbformat": 4,
 "nbformat_minor": 4
}
