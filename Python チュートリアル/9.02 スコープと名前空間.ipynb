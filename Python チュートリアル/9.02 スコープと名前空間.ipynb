{
 "cells": [
  {
   "cell_type": "markdown",
   "metadata": {},
   "source": [
    "## 9.2　スコープと名前空間"
   ]
  },
  {
   "cell_type": "code",
   "execution_count": 1,
   "metadata": {},
   "outputs": [],
   "source": [
    "def scope_test():\n",
    "    def do_local():\n",
    "        spam = 'local spam'\n",
    "    def do_nonlocal():\n",
    "        nonlocal spam\n",
    "        spam = 'nonlocal spam'\n",
    "    def do_global():\n",
    "        global spam\n",
    "        spam = 'global spam'\n",
    "    \n",
    "    spam = 'test spam'\n",
    "    do_local()\n",
    "    print('After local assigment:', spam)\n",
    "    do_nonlocal()\n",
    "    print('After nonlocal assigment:', spam)\n",
    "    do_global()\n",
    "    print('After global assigment:', spam)"
   ]
  },
  {
   "cell_type": "code",
   "execution_count": 2,
   "metadata": {},
   "outputs": [
    {
     "name": "stdout",
     "output_type": "stream",
     "text": [
      "After local assigment: test spam\n",
      "After nonlocal assigment: nonlocal spam\n",
      "After global assigment: nonlocal spam\n",
      "In global assigment: global spam\n"
     ]
    }
   ],
   "source": [
    "scope_test()\n",
    "print('In global assigment:', spam)"
   ]
  }
 ],
 "metadata": {
  "kernelspec": {
   "display_name": "Python 3",
   "language": "python",
   "name": "python3"
  },
  "language_info": {
   "codemirror_mode": {
    "name": "ipython",
    "version": 3
   },
   "file_extension": ".py",
   "mimetype": "text/x-python",
   "name": "python",
   "nbconvert_exporter": "python",
   "pygments_lexer": "ipython3",
   "version": "3.7.6"
  }
 },
 "nbformat": 4,
 "nbformat_minor": 4
}
