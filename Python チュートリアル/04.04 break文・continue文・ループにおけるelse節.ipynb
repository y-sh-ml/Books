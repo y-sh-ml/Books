{
 "cells": [
  {
   "cell_type": "markdown",
   "metadata": {},
   "source": [
    "## 4.4　break文・continue文・ループにおけるelse節"
   ]
  },
  {
   "cell_type": "code",
   "execution_count": 7,
   "metadata": {},
   "outputs": [
    {
     "name": "stdout",
     "output_type": "stream",
     "text": [
      "2 is a prime number\n",
      "3 is a prime number\n",
      "4 equals 2 * 2\n",
      "5 is a prime number\n",
      "6 equals 2 * 3\n",
      "7 is a prime number\n",
      "8 equals 2 * 4\n",
      "9 equals 3 * 3\n"
     ]
    }
   ],
   "source": [
    "for n in (2, 3, 4, 5, 6, 7, 8, 9):\n",
    "    \n",
    "    # 2なら2-1まででしか割れない\n",
    "    # 3なら3-1までしか割れない\n",
    "    # 4なら4-1までしか割れない（np.arangeで考えよう、終わりの1つ手前までだから、その数n自体で割れないようにしている）\n",
    "    for x in range(2, n):\n",
    "        if n % x == 0:\n",
    "            print(n, 'equals', x, '*', n // x)\n",
    "            break\n",
    "    else:\n",
    "            print(n, 'is a prime number')"
   ]
  },
  {
   "cell_type": "code",
   "execution_count": 8,
   "metadata": {},
   "outputs": [
    {
     "name": "stdout",
     "output_type": "stream",
     "text": [
      "4.0\n",
      "4\n"
     ]
    }
   ],
   "source": [
    "print(8 / 2)\n",
    "print(8 // 2)"
   ]
  },
  {
   "cell_type": "code",
   "execution_count": 9,
   "metadata": {},
   "outputs": [
    {
     "name": "stdout",
     "output_type": "stream",
     "text": [
      "[]\n",
      "[2]\n"
     ]
    }
   ],
   "source": [
    "import numpy as np\n",
    "\n",
    "print(np.arange(2, 2))\n",
    "print(np.arange(2, 3))"
   ]
  },
  {
   "cell_type": "code",
   "execution_count": 10,
   "metadata": {},
   "outputs": [
    {
     "name": "stdout",
     "output_type": "stream",
     "text": [
      "9 is a prime number\n"
     ]
    }
   ],
   "source": [
    "for x in range(2, 3):\n",
    "    if n % x == 0:\n",
    "            print(n, 'equals', x, '*', n // x)\n",
    "            break\n",
    "else:\n",
    "    print(n, 'is a prime number')"
   ]
  },
  {
   "cell_type": "code",
   "execution_count": 11,
   "metadata": {},
   "outputs": [
    {
     "name": "stdout",
     "output_type": "stream",
     "text": [
      "Found an even number 2\n",
      "Found a number\n",
      "Found an even number 4\n",
      "Found a number\n",
      "Found an even number 6\n",
      "Found a number\n",
      "Found an even number 8\n",
      "Found a number\n"
     ]
    }
   ],
   "source": [
    "for num in range(2, 10):\n",
    "    if num % 2 == 0:\n",
    "        print('Found an even number', num)\n",
    "        continue\n",
    "    print('Found a number')"
   ]
  }
 ],
 "metadata": {
  "kernelspec": {
   "display_name": "Python 3",
   "language": "python",
   "name": "python3"
  },
  "language_info": {
   "codemirror_mode": {
    "name": "ipython",
    "version": 3
   },
   "file_extension": ".py",
   "mimetype": "text/x-python",
   "name": "python",
   "nbconvert_exporter": "python",
   "pygments_lexer": "ipython3",
   "version": "3.7.6"
  }
 },
 "nbformat": 4,
 "nbformat_minor": 4
}
