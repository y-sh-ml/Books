{
 "cells": [
  {
   "cell_type": "markdown",
   "metadata": {},
   "source": [
    "## 11.3　struct"
   ]
  },
  {
   "cell_type": "code",
   "execution_count": 1,
   "metadata": {},
   "outputs": [],
   "source": [
    "import struct"
   ]
  },
  {
   "cell_type": "code",
   "execution_count": 3,
   "metadata": {},
   "outputs": [],
   "source": [
    "# with open('myfile.zip', 'rb') as f:\n",
    "    # data = f.read()"
   ]
  },
  {
   "cell_type": "code",
   "execution_count": 4,
   "metadata": {},
   "outputs": [],
   "source": [
    "start = 0"
   ]
  },
  {
   "cell_type": "code",
   "execution_count": 5,
   "metadata": {},
   "outputs": [],
   "source": [
    "# for i in range(3):\n",
    "    # start += 14\n",
    "    # fields = struct.unpack('<IIIHHH', data[start:start+16])\n",
    "    # crc32, comp_size, uncomp_size, filenamesize, extra_size = fields\n",
    "    \n",
    "    # start += 16\n",
    "    # filename = data[start:start+filename]\n",
    "    # start += filenamesize\n",
    "    # extra = data[start:start+extra_size]\n",
    "    # print(filename, hex(crc32), comp_size, uncomp_size)\n",
    "    \n",
    "    #start += extra_size * comp_size"
   ]
  }
 ],
 "metadata": {
  "kernelspec": {
   "display_name": "Python 3",
   "language": "python",
   "name": "python3"
  },
  "language_info": {
   "codemirror_mode": {
    "name": "ipython",
    "version": 3
   },
   "file_extension": ".py",
   "mimetype": "text/x-python",
   "name": "python",
   "nbconvert_exporter": "python",
   "pygments_lexer": "ipython3",
   "version": "3.7.6"
  }
 },
 "nbformat": 4,
 "nbformat_minor": 4
}
