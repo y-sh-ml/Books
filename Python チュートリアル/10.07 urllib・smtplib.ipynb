{
 "cells": [
  {
   "cell_type": "markdown",
   "metadata": {},
   "source": [
    "## 10.7　urllib・smtplib"
   ]
  },
  {
   "cell_type": "markdown",
   "metadata": {},
   "source": [
    "urllibはURLにあるデータを取得し、smtplibはメールを送信することができる。"
   ]
  },
  {
   "cell_type": "code",
   "execution_count": 1,
   "metadata": {},
   "outputs": [],
   "source": [
    "from urllib.request import urlopen\n",
    "\n",
    "with urlopen('https://bellcurve.jp/statistics/course/4317.html') as response:\n",
    "    for line in response:\n",
    "        line = line.decode('utf-8')\n",
    "        if 'EST' in line or 'EDT' in line:\n",
    "            print(line)"
   ]
  },
  {
   "cell_type": "code",
   "execution_count": 2,
   "metadata": {},
   "outputs": [],
   "source": [
    "import smtplib"
   ]
  },
  {
   "cell_type": "code",
   "execution_count": 8,
   "metadata": {},
   "outputs": [],
   "source": [
    "# server = smtplib.SMTP('localhost')\n",
    "# server.sendmail('soothsayer@example.org', 'jcaesar@example.org',\n",
    "# '''\n",
    "# To: jcaesar@example.org\n",
    "# From: soothsayer@example.org\n",
    "\n",
    "# Beware the Ides of March.\n",
    "\n",
    "# ''')\n",
    "\n",
    "# server.quit()"
   ]
  }
 ],
 "metadata": {
  "kernelspec": {
   "display_name": "Python 3",
   "language": "python",
   "name": "python3"
  },
  "language_info": {
   "codemirror_mode": {
    "name": "ipython",
    "version": 3
   },
   "file_extension": ".py",
   "mimetype": "text/x-python",
   "name": "python",
   "nbconvert_exporter": "python",
   "pygments_lexer": "ipython3",
   "version": "3.7.6"
  }
 },
 "nbformat": 4,
 "nbformat_minor": 4
}
