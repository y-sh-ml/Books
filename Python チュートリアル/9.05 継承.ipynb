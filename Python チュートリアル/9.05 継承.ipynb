{
 "cells": [
  {
   "cell_type": "markdown",
   "metadata": {},
   "source": [
    "## 9.5　継承"
   ]
  },
  {
   "cell_type": "code",
   "execution_count": 1,
   "metadata": {},
   "outputs": [],
   "source": [
    "class base():\n",
    "    def a(self):\n",
    "        print('私の名前は base.a です。base.b をコールします')\n",
    "        self.b()\n",
    "    def b(self):\n",
    "        print('私の名前は base.bです。der.bでオーバーライドされます')"
   ]
  },
  {
   "cell_type": "code",
   "execution_count": 2,
   "metadata": {},
   "outputs": [],
   "source": [
    "class der(base):\n",
    "    def b(self):\n",
    "        print('ウヒョ！オイラはder.bだよ。')"
   ]
  },
  {
   "cell_type": "code",
   "execution_count": 3,
   "metadata": {},
   "outputs": [
    {
     "name": "stdout",
     "output_type": "stream",
     "text": [
      "私の名前は base.a です。base.b をコールします\n",
      "私の名前は base.bです。der.bでオーバーライドされます\n"
     ]
    }
   ],
   "source": [
    "b = base()\n",
    "d = der()\n",
    "b.a()"
   ]
  },
  {
   "cell_type": "code",
   "execution_count": 4,
   "metadata": {},
   "outputs": [
    {
     "name": "stdout",
     "output_type": "stream",
     "text": [
      "私の名前は base.a です。base.b をコールします\n",
      "ウヒョ！オイラはder.bだよ。\n"
     ]
    }
   ],
   "source": [
    "d.a()"
   ]
  }
 ],
 "metadata": {
  "kernelspec": {
   "display_name": "Python 3",
   "language": "python",
   "name": "python3"
  },
  "language_info": {
   "codemirror_mode": {
    "name": "ipython",
    "version": 3
   },
   "file_extension": ".py",
   "mimetype": "text/x-python",
   "name": "python",
   "nbconvert_exporter": "python",
   "pygments_lexer": "ipython3",
   "version": "3.7.6"
  }
 },
 "nbformat": 4,
 "nbformat_minor": 4
}
