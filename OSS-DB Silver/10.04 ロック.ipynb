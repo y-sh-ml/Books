{
 "cells": [
  {
   "cell_type": "markdown",
   "metadata": {},
   "source": [
    "## 10-4　ロック"
   ]
  },
  {
   "cell_type": "markdown",
   "metadata": {},
   "source": [
    "ロックは更新処理時の矛盾を避けるための排他処理として利用される。"
   ]
  },
  {
   "cell_type": "markdown",
   "metadata": {},
   "source": [
    "### 10-4-1　行ロック"
   ]
  },
  {
   "cell_type": "markdown",
   "metadata": {},
   "source": [
    "行ロックは、ある行（レコード）に対して取得されるロックである。<br>\n",
    "これには、以下の2種類がある。\n",
    "\n",
    "・排他ロック（FOR UPDATE）：別の処理からは排他・共有ロックが取得できない<br>\n",
    "・共有ロック（FOR SHARE）：排他ロックとは衝突するが、共有ロックは複数取得できる"
   ]
  },
  {
   "cell_type": "markdown",
   "metadata": {},
   "source": [
    "### 10-4-2　テーブルロック"
   ]
  },
  {
   "cell_type": "markdown",
   "metadata": {},
   "source": [
    "テーブル単位での排他・共有ロックを明示的に指定する。\n",
    "\n",
    "・EXCLUSIVE MODE：ロックしているテーブルへのSELECTのみを許可する<br>\n",
    "・ACCESS EXCLUSIVE MODE：ロックしているテーブルへの全ての処理をブロックする、ロックモード省略でも設定される"
   ]
  },
  {
   "cell_type": "markdown",
   "metadata": {},
   "source": [
    "### 10-4-3　デッドロック"
   ]
  },
  {
   "cell_type": "markdown",
   "metadata": {},
   "source": [
    "2つのトランザクションが、互いの処理の終了（ロックの解放）を待っており、処理を進めることができない状態のことを指す。<br>\n",
    "PostgreSQLでは、デッドロックを検知したトランザクションをアボートし、デッドロック状態から自動的に回復する。"
   ]
  }
 ],
 "metadata": {
  "kernelspec": {
   "display_name": "Python 3",
   "language": "python",
   "name": "python3"
  },
  "language_info": {
   "codemirror_mode": {
    "name": "ipython",
    "version": 3
   },
   "file_extension": ".py",
   "mimetype": "text/x-python",
   "name": "python",
   "nbconvert_exporter": "python",
   "pygments_lexer": "ipython3",
   "version": "3.7.6"
  }
 },
 "nbformat": 4,
 "nbformat_minor": 4
}
