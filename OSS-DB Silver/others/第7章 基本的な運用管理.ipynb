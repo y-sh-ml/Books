{
 "cells": [
  {
   "cell_type": "markdown",
   "metadata": {},
   "source": [
    "# 第7章　基本的な運用管理"
   ]
  },
  {
   "cell_type": "markdown",
   "metadata": {},
   "source": [
    "## 7-1　データベースユーザの追加／削除／変更"
   ]
  },
  {
   "cell_type": "markdown",
   "metadata": {},
   "source": [
    "### 7-1-1　ユーザの追加"
   ]
  },
  {
   "cell_type": "markdown",
   "metadata": {},
   "source": [
    "ユーザには2種類ある。\n",
    "\n",
    "・一般ユーザ<br>\n",
    "・スーパーユーザ\n",
    "\n",
    "スーパーユーザは、非常に強い権限を持つため<br>\n",
    "通常はデータベース作成権限とユーザ作成権限を持つユーザの作成が推奨されている。"
   ]
  },
  {
   "cell_type": "code",
   "execution_count": null,
   "metadata": {},
   "outputs": [],
   "source": [
    "# パスワード付きの一般ユーザを作成\n",
    "createuser -P user1"
   ]
  },
  {
   "cell_type": "code",
   "execution_count": null,
   "metadata": {},
   "outputs": [],
   "source": [
    "# user1がデータベース（examdb）にパスワード認証付きで接続する\n",
    "psql -U user1 examdb"
   ]
  },
  {
   "cell_type": "code",
   "execution_count": null,
   "metadata": {},
   "outputs": [],
   "source": [
    "# 登録されているユーザの一覧を出力し、user1が登録されていることを確認\n",
    "examdb=> \\du\n",
    "---\n",
    "Role nama | Member of\n",
    "user1     | {}"
   ]
  },
  {
   "cell_type": "markdown",
   "metadata": {},
   "source": [
    "### 7-1-2　ユーザの削除"
   ]
  },
  {
   "cell_type": "code",
   "execution_count": null,
   "metadata": {},
   "outputs": [],
   "source": [
    "# user1を削除する\n",
    "dropuser user1\n",
    "\n",
    "# user1でexamdbに接続しようとするとエラーになる\n",
    "psql -U user1 examdb"
   ]
  },
  {
   "cell_type": "markdown",
   "metadata": {},
   "source": [
    "### 7-1-3　ユーザの変更"
   ]
  },
  {
   "cell_type": "markdown",
   "metadata": {},
   "source": [
    "ALTERUSERで、ユーザの様々な設定を変更できる。\n",
    "\n",
    "・SUPERUSER／NOUSUPERUSER：スーパユーザ権限の有無<br>\n",
    "・CREATEDB／NOCREATEDB：データベース作成権限の有無<br>\n",
    "・CREATEROLE／NOCREATEROLE：ユーザ作成権限の有無<br>\n",
    "・LOGIN／NOLOGIN：ログイン権限の有無<br>\n",
    "・PASSWORD 'パスワード'：パスワードの設定または変更<br>\n",
    "・VALID UNTIL '日付'：パスワードの有効期限<br>"
   ]
  },
  {
   "cell_type": "code",
   "execution_count": null,
   "metadata": {},
   "outputs": [],
   "source": [
    "# パスワードの設定または変更を行う\n",
    "ALTER USER user1 WITH PASSWORD 'password';"
   ]
  },
  {
   "cell_type": "code",
   "execution_count": null,
   "metadata": {},
   "outputs": [],
   "source": [
    "# psqlコマンドでも可能\n",
    "\\password user1"
   ]
  },
  {
   "cell_type": "code",
   "execution_count": null,
   "metadata": {},
   "outputs": [],
   "source": [
    "# user1にスーパーユーザ権限を設定する\n",
    "ALTER USER user1 WITH SUPERUSER;\n",
    "\n",
    "# user1からスーパーユーザ権限を取り消す\n",
    "ALTER USER user1 WITH NOSUPERUSER;"
   ]
  },
  {
   "cell_type": "markdown",
   "metadata": {},
   "source": [
    "## 7-2　VACUUM、ANALYZE"
   ]
  },
  {
   "cell_type": "markdown",
   "metadata": {},
   "source": [
    "### 7-2-1　VACUUM"
   ]
  },
  {
   "cell_type": "markdown",
   "metadata": {},
   "source": [
    "PostgreSQLでは、MVCCを実装している。\n",
    "\n",
    "・MVCC（Multi-Version-Concurrency-Control：多版型同時実行制御）：書き込みロックと読み込みロックが衝突しない仕組み\n",
    "\n",
    "例えば、500円の商品データがある際に、Aさんが800円に更新するためのロックと、Bさんが読み込むためのロックが<br>\n",
    "通常であれば衝突してどちらかが待たされるはずだが、MVCCは領域を確保して、2つの処理を同時に実行できるようにする。\n",
    "\n",
    "しかし、不要領域が増えると様々な弊害が出てくるため、不要領域の回収をする必要がある。<br>\n",
    "また、**データを削除する際**にも同様に**不要領域が発生**する。そのための処理が、**VACUUM**である。\n",
    "\n",
    "・VACUUM：不要領域を**回収**する（物理的な削除ではなく、再利用可能なマークをつける）、**同時にSQLの実行もできる**<br>\n",
    "・VACUUM FULL：テーブル内容を新しいファイルに書き換えて、**物理的に削除**、排他ロックをするので**SQLの同時実行はできない**\n",
    "\n",
    "VACUUM FULLは、大量のデータ削除によって不要領域が大半を占める際に利用すべきであり、定期的には実行しない。"
   ]
  },
  {
   "cell_type": "code",
   "execution_count": null,
   "metadata": {},
   "outputs": [],
   "source": [
    "# テーブル（tab1）に対してVACUUMを実行する\n",
    "VACUUM tab1;\n",
    "---\n",
    "VACUUM"
   ]
  },
  {
   "cell_type": "code",
   "execution_count": null,
   "metadata": {},
   "outputs": [],
   "source": [
    "# データベースを指定しない場合、データベース内のすべてのテーブルに対してVACUUMを実行する\n",
    "VACUUM;"
   ]
  },
  {
   "cell_type": "code",
   "execution_count": null,
   "metadata": {},
   "outputs": [],
   "source": [
    "# VERBOSEオプションで、実際に回収した不要領域を知ることができる\n",
    "VACUUM VERBOSE tab1;"
   ]
  },
  {
   "cell_type": "markdown",
   "metadata": {},
   "source": [
    "VERBOSEログは標準ログに出力されるので、注意すること。"
   ]
  },
  {
   "cell_type": "markdown",
   "metadata": {},
   "source": [
    "### 7-2-2　ANALYZE"
   ]
  },
  {
   "cell_type": "markdown",
   "metadata": {},
   "source": [
    "データベースへのSQLの実行は、テーブルに実際にどのようにデータが格納されているかという統計情報に基づいて行われる。<br>\n",
    "この統計情報を更新するのが、ANALYZEである。テーブル名を省略すると、すべてのテーブルが対象となる。"
   ]
  },
  {
   "cell_type": "code",
   "execution_count": null,
   "metadata": {},
   "outputs": [],
   "source": [
    "# テーブル（tab1）に対して、ANALYZEで統計情報を更新する\n",
    "ANALYZE tab1;"
   ]
  },
  {
   "cell_type": "markdown",
   "metadata": {},
   "source": [
    "### 7-2-3　VACUUM ANALYZE"
   ]
  },
  {
   "cell_type": "markdown",
   "metadata": {},
   "source": [
    "不要領域を回収するVACUUMと、統計情報を更新するANALYZEをまとめて実行することもできる。"
   ]
  },
  {
   "cell_type": "code",
   "execution_count": null,
   "metadata": {},
   "outputs": [],
   "source": [
    "VACUUM ANALYZE tab1;"
   ]
  },
  {
   "cell_type": "markdown",
   "metadata": {},
   "source": [
    "## 7-3　自動バキューム"
   ]
  },
  {
   "cell_type": "markdown",
   "metadata": {},
   "source": [
    "PostgreSQLには、自動バキューム（autovacuum：オートバキューム）という機能がある。<br>\n",
    "これは、テーブル内の不要領域の割合が多くなったテーブルに、自動で**VACUUM**と**ANALYZE**を実行する。<br>\n",
    "\n",
    "**postgresql.conf**ファイルに設定があり、デフォルトで有効（autovacuum = on）になっている。"
   ]
  },
  {
   "cell_type": "markdown",
   "metadata": {},
   "source": [
    "## 7-4　システム情報取得関数"
   ]
  },
  {
   "cell_type": "markdown",
   "metadata": {},
   "source": [
    "運用管理では、操作の前後でシステムの情報を確認することがある。<br>\n",
    "このとき、システム情報関数を利用する。"
   ]
  },
  {
   "cell_type": "markdown",
   "metadata": {},
   "source": [
    "### 7-4-1　version（）関数"
   ]
  },
  {
   "cell_type": "markdown",
   "metadata": {},
   "source": [
    "サーバで稼働しているPostgreSQLのバージョンは、version()関数で確認できる。"
   ]
  },
  {
   "cell_type": "code",
   "execution_count": null,
   "metadata": {},
   "outputs": [],
   "source": [
    "# psqlコマンドのバージョンを確認する\n",
    "psql\n",
    "\n",
    "# PostgreSQLのバージョンを確認する\n",
    "SELECT version()"
   ]
  },
  {
   "cell_type": "markdown",
   "metadata": {},
   "source": [
    "### 7-4-2　current_database（）関数"
   ]
  },
  {
   "cell_type": "markdown",
   "metadata": {},
   "source": [
    "現在接続しているデータベースは、current_database()関数で確認できる。"
   ]
  },
  {
   "cell_type": "code",
   "execution_count": null,
   "metadata": {},
   "outputs": [],
   "source": [
    "SELECT current_database();"
   ]
  },
  {
   "cell_type": "markdown",
   "metadata": {},
   "source": [
    "### 7-4-3　current_userとuser"
   ]
  },
  {
   "cell_type": "markdown",
   "metadata": {},
   "source": [
    "current_userとuserは、どちらも現在のユーザを確認できる。<br>\n",
    "上の関数と違い、**どちらも最後に()をつけない**ことに注意する。"
   ]
  },
  {
   "cell_type": "code",
   "execution_count": null,
   "metadata": {},
   "outputs": [],
   "source": [
    "SELECT current_user;\n",
    "\n",
    "SELECT user;"
   ]
  },
  {
   "cell_type": "markdown",
   "metadata": {},
   "source": [
    "## 7-5　情報スキーマ、システムカタログ"
   ]
  },
  {
   "cell_type": "markdown",
   "metadata": {},
   "source": [
    "データベースクラスタ全体にかかわる各種の情報は<br>\n",
    "**情報スキーマ**と**システムカタログ**（pg_roles、pg_authid）に格納されている。"
   ]
  },
  {
   "cell_type": "markdown",
   "metadata": {},
   "source": [
    "### 7-5-1　情報スキーマ（information_schema）"
   ]
  },
  {
   "cell_type": "markdown",
   "metadata": {},
   "source": [
    "情報スキーマ：データベース内のテーブルや列、ユーザなどの様々な情報における**定義情報**が格納されている<br>\n",
    "システムカタログ：**PosgreSQL固有の情報**や、テータベースに関する内部情報が格納されている"
   ]
  },
  {
   "cell_type": "code",
   "execution_count": null,
   "metadata": {},
   "outputs": [],
   "source": [
    "# 情報スキーマから現在有効なユーザ（enabled_roles）の情報を表示する\n",
    "SELECT * FROM information_schema.enabled_roles;"
   ]
  },
  {
   "cell_type": "markdown",
   "metadata": {},
   "source": [
    "情報スキーマのtablesビュー（information_schema.tables）では、**データベースに登録されている全てのテーブル**を調べることができる。"
   ]
  },
  {
   "cell_type": "code",
   "execution_count": null,
   "metadata": {},
   "outputs": [],
   "source": [
    "SELECT * FROM information_schema.tables;"
   ]
  },
  {
   "cell_type": "markdown",
   "metadata": {},
   "source": [
    "### 7-5-2　システムカタログ（pg_rolesビュー、pg_authidカタログ）"
   ]
  },
  {
   "cell_type": "markdown",
   "metadata": {},
   "source": [
    "システムカタログは、データベースに関する内部情報を格納したテーブルである。<br>\n",
    "PostgreSQLのシステムカタログは、**pg_catalog**という名前のスキーマで定義されている。"
   ]
  },
  {
   "cell_type": "code",
   "execution_count": null,
   "metadata": {},
   "outputs": [],
   "source": [
    "# psqlコマンド（\\du）で表示されるようなユーザに関する情報を参照する\n",
    "SELECT * FROM pg_roles WHERE rolcanlogin IS TRUE;"
   ]
  },
  {
   "cell_type": "markdown",
   "metadata": {},
   "source": [
    "pg_rolesビューは、pg_authidカタログのビューである。\n",
    "\n",
    "pg_authidカタログは、MD5でハッシュ化されたパスワードをrolpasswordに含んでおり<br>\n",
    "pg_rolesビューでは見えないようになっている。\n",
    "\n",
    "※ハッシュ化：パスワードを他の適当な文字に置き換えること（暗号化）"
   ]
  },
  {
   "cell_type": "code",
   "execution_count": null,
   "metadata": {},
   "outputs": [],
   "source": [
    "# スキーマも含めて指定する\n",
    "SELECT * FROM pg_catalog.pg_roles;"
   ]
  },
  {
   "cell_type": "markdown",
   "metadata": {},
   "source": [
    "### 7-5-3　その他のシステムカタログ"
   ]
  },
  {
   "cell_type": "markdown",
   "metadata": {},
   "source": [
    "pg_settingビューでは、**SHOW文を扱うようなパラメータ設定を参照**できる。"
   ]
  },
  {
   "cell_type": "code",
   "execution_count": null,
   "metadata": {},
   "outputs": [],
   "source": [
    "SELECT * FROM pg_settings;"
   ]
  },
  {
   "cell_type": "markdown",
   "metadata": {},
   "source": [
    "pg_databaseカタログには、データベースの情報が格納されている。<br>\n",
    "尚、pg_databaseカタログは、データベースごとに存在するものではなく、**データベースクラスタごと**に1つ存在する。"
   ]
  },
  {
   "cell_type": "code",
   "execution_count": null,
   "metadata": {},
   "outputs": [],
   "source": [
    "SELECT * FROM pg_database;"
   ]
  },
  {
   "cell_type": "markdown",
   "metadata": {},
   "source": [
    "schemanameがpublicと一致する行をpg_tablesビューを使って検索すると<br>\n",
    "ユーザが作成したテーブルを調べることができる。"
   ]
  },
  {
   "cell_type": "code",
   "execution_count": null,
   "metadata": {},
   "outputs": [],
   "source": [
    "SELECT * FROM pg_tables WHWRE schemaname='public';"
   ]
  },
  {
   "cell_type": "markdown",
   "metadata": {},
   "source": [
    "情報スキーマとシステムカタログをまとめると、以下の通りになる\n",
    "\n",
    "・information_schema.enabled_roles：現在有効なユーザの情報を表示する<br>\n",
    "・information_schema.tables：**現在接続中の**データベースに含まれている全てのテーブルを調べる<br>\n",
    "\n",
    "・pg_authid：MD5でハッシュ化されたパスワードをrolpasswordに含むカタログ<br>\n",
    "・pg_roles：pg_authidのビュー<br>\n",
    "・pg_setting：SHOW文を扱うようなパラメータ設定を参照できる<br>\n",
    "・pg_database：データベースの情報を表示する、データベースクラスタごとに1つ存在する<br>\n",
    "・pg_tables：データベース内のテーブルに関する情報（スキーマ名、テーブル名、テーブル所有者、インデックスの有無）を表示する"
   ]
  },
  {
   "cell_type": "markdown",
   "metadata": {},
   "source": [
    "## 7-6　テーブル単位の権限、GRANT 文とREVOKE 文"
   ]
  },
  {
   "cell_type": "markdown",
   "metadata": {},
   "source": [
    "テーブル単位で権限を設定するにはGRANT文、権限を取り消すにはREVOKE文を使用する。"
   ]
  },
  {
   "cell_type": "markdown",
   "metadata": {},
   "source": [
    "### 7-6-1　GRANT 文"
   ]
  },
  {
   "cell_type": "code",
   "execution_count": null,
   "metadata": {},
   "outputs": [],
   "source": [
    "# user1が作成したテーブル（tab1）を、誰からでも参照可能に設定する\n",
    "GRANT SELECT ON tab1 TO PUBLIC;\n",
    "\n",
    "# 結果を見る\n",
    "\\dp\n",
    "---\n",
    "user1=arwdDxt/user1+\n",
    "# user1が作成したテーブルに対して、すべてのユーザにSELECT権限が設定されている（左辺なしは、全てのユーザを表す）\n",
    "=r/user1"
   ]
  },
  {
   "cell_type": "code",
   "execution_count": null,
   "metadata": {},
   "outputs": [],
   "source": [
    "GRANT SELECT, UPDATE ON tab2 TO user3;\n",
    "\n",
    "\\dp\n",
    "---\n",
    "user1=arwdDxt/user1+\n",
    "# user1が作成したテーブルに対して、user3にrw権限が設定されている\n",
    "user3=rw/user1"
   ]
  },
  {
   "cell_type": "markdown",
   "metadata": {},
   "source": [
    "UPDATE権限だけの設定だと、参照を伴うような更新処理はエラーとなってしまう。<br>\n",
    "そのため、UPDATEを設定する際には、SELECT権限も併せて設定すると良い。"
   ]
  },
  {
   "cell_type": "markdown",
   "metadata": {},
   "source": [
    "### 7-6-2　REVOKE 文"
   ]
  },
  {
   "cell_type": "markdown",
   "metadata": {},
   "source": [
    "テーブルに設定されたアクセス権限を取り消すには、REVOKE権限を使用する。"
   ]
  },
  {
   "cell_type": "code",
   "execution_count": null,
   "metadata": {},
   "outputs": [],
   "source": [
    "# まず権限を確認する\n",
    "\\dp\n",
    "---\n",
    "user3=rw/user1\n",
    "\n",
    "# 権限を取り消す\n",
    "REVOKE ALL ON tab2 FROM user3;\n",
    "\n",
    "\\dp tab2\n",
    "---\n",
    "# user3の権限がなくなっている\n",
    "user1=arwdDxt/user1"
   ]
  },
  {
   "cell_type": "code",
   "execution_count": null,
   "metadata": {},
   "outputs": [],
   "source": [
    "# 全てのユーザは、全ての権限を持っている\n",
    "\\dp tab3\n",
    "---\n",
    "user1=arwdDxt+\n",
    "=arwdDxt/user1\n",
    "\n",
    "REVOKE INSERT, UPDATE, DELETE, TRUNCATE, REFERENCES, TRIGGER ON tab3 FROM PUBLIC;\n",
    "\n",
    "\\dp tab3\n",
    "---\n",
    "# 参照権限のみを残っている\n",
    "user1=arwdDxt+\n",
    "=r/user1"
   ]
  },
  {
   "cell_type": "markdown",
   "metadata": {},
   "source": [
    "### 7-6-3　\\dp または \\z（テーブル権限の確認）"
   ]
  },
  {
   "cell_type": "markdown",
   "metadata": {},
   "source": [
    "psqlコマンドの**\\dp**または**z**で、各テーブルのアクセス権限を確認できる。<br>\n",
    "引数としてテーブルを指定しなかった場合には、テーブル内の全てのテーブルについて権限の情報を表示する。"
   ]
  },
  {
   "cell_type": "code",
   "execution_count": null,
   "metadata": {},
   "outputs": [],
   "source": [
    "\\dp\n",
    "\n",
    "\\dp tab1"
   ]
  },
  {
   "cell_type": "markdown",
   "metadata": {},
   "source": [
    "権限の見方を、下記に示す。\n",
    "\n",
    "・ユーザ名=xxxx：ユーザに設定された権限<br>\n",
    "・=xxxx：すべてのユーザに設定された権限<br>\n",
    "・r：SELECT（読み取り：r）<br>\n",
    "・w：UPDATE（書き込み：w）<br>\n",
    "・a：INDERT（追加：append）<br>\n",
    "・d：DELETE<br>\n",
    "・D：TRANCATE（テーブルそのものではなく、テーブルの中身を空にする）<br>\n",
    "・x：REFFERENCES（外部キー制約の作成）<br>\n",
    "・t：TRIGGER（トリガの作成）<br>\n",
    "・arwdDxt：すべての権限<br>\n",
    "・/yyyy：この権限を設定したユーザ"
   ]
  }
 ],
 "metadata": {
  "kernelspec": {
   "display_name": "Python 3",
   "language": "python",
   "name": "python3"
  },
  "language_info": {
   "codemirror_mode": {
    "name": "ipython",
    "version": 3
   },
   "file_extension": ".py",
   "mimetype": "text/x-python",
   "name": "python",
   "nbconvert_exporter": "python",
   "pygments_lexer": "ipython3",
   "version": "3.7.6"
  }
 },
 "nbformat": 4,
 "nbformat_minor": 4
}
