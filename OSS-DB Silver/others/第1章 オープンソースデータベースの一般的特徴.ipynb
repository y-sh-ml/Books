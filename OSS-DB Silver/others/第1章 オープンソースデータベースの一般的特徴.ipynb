{
 "cells": [
  {
   "cell_type": "markdown",
   "metadata": {},
   "source": [
    "# 第1章　オープンソースデータベースの一般的特徴"
   ]
  },
  {
   "cell_type": "markdown",
   "metadata": {},
   "source": [
    "## 1-1　一般的特徴"
   ]
  },
  {
   "cell_type": "markdown",
   "metadata": {},
   "source": [
    "### 1-1-2　PostgreSQLの特徴"
   ]
  },
  {
   "cell_type": "markdown",
   "metadata": {},
   "source": [
    "・**PostgreSQL Global Development Group**（PostgreSQL グローバル開発グループ）により開発と配布が行われている<br>\n",
    "・WindowsやLinuxなど、様々なOSで動作する<br>\n",
    "・商用／非商用を問わず無償で利用できる<br>\n",
    "・ソースコードを自由に改変でき、公開が不要である<br>\n",
    "・レプリケーションが可能である<br>\n",
    "・ソースコードとバイナリコードが配布されている<br>\n",
    "・ビルドをしなくても使用可能である\n",
    "\n",
    "※レプリケーション：データ本体が壊れるのに備えて、複製品（レプリカ）を作成しておくこと<br>\n",
    "※ビルド：ソースコードに問題（バグ）がないか解析を行い、問題がなければ実行できる形のファイルに変換し、組み立てること<br>\n",
    "※バイナリコード：人間が書いたコード（ソースコード）を翻訳（コンパイル）してコンピュータが分かる形にしたもの\n",
    "\n",
    "PostgeSQLの歴史は、以下の通りである。\n",
    "\n",
    "・1986年：カルフォルニアバークレイ校で**POSTGRES**が開発される<br>\n",
    "・1995年：**Postgres95**<br>\n",
    "・1996年：**PostgreSQL 6.0**<br>\n",
    "・2018年：**PostgreSQL 11**<br>"
   ]
  },
  {
   "cell_type": "markdown",
   "metadata": {},
   "source": [
    "## 1-2　ライセンス"
   ]
  },
  {
   "cell_type": "markdown",
   "metadata": {},
   "source": [
    "PostgreSQLは、**BSDライセンス**をベースにしたライセンス（The PostgreSQL License）で公開されている。<br>\n",
    "\n",
    "また、再配布の際は、**無保証であること・著作権ライセンス条文**を表示する必要がある。"
   ]
  },
  {
   "cell_type": "markdown",
   "metadata": {},
   "source": [
    "## 1-3　コミュニティと情報収集"
   ]
  },
  {
   "cell_type": "markdown",
   "metadata": {},
   "source": [
    "### 1-3-1　開発コミュニティ"
   ]
  },
  {
   "cell_type": "markdown",
   "metadata": {},
   "source": [
    "PostgreSQL Global Developmentの特徴は、以下の通りである。\n",
    "\n",
    "・次のバージョンの機能や実装について議論<br>\n",
    "・開発コミュニティには誰でも参加できる<br>\n",
    "・メーリングリストへの登録にも**審査などはない**<br>\n",
    "・ソースコードやバイナリコードも配布しており、開発中のものもダウンロードできる<br>\n"
   ]
  },
  {
   "cell_type": "markdown",
   "metadata": {},
   "source": [
    "### 1-3-2　バージョン"
   ]
  },
  {
   "cell_type": "markdown",
   "metadata": {},
   "source": [
    "バージョンの記載方法は、以下の通りである。\n",
    "\n",
    "**バージョン9**まで：x.y.z（x.yをメジャーバージョン、zをマイナーバージョン）<br>\n",
    "**バージョン10**以降：x.z（xをメジャーバージョン、zをマイナーバージョン）<br>\n",
    "\n",
    "バージョンアップには、2種類ある。\n",
    "\n",
    "・メジャーバージョンアップ：**機能拡張**（データ形式が変更される場合もある）<br>\n",
    "・マイナーバージョンアップ：**不具合、セキュリティ対策** など\n",
    "\n",
    "開発中のバージョンには、3種類ある。\n",
    "\n",
    "・α（Alpha）<br>\n",
    "・β（Beta）<br>\n",
    "・**RC**（Release Candidate）：安定版になる直前のもの\n",
    "\n",
    "※candidate：「候補」の意<br>\n",
    "※カウントアップ：不具合の修正や機能の追加などによって、バージョンの数字が上がる（バージョンアップする）こと"
   ]
  },
  {
   "cell_type": "markdown",
   "metadata": {},
   "source": [
    "### 1-3-3　マニュアル"
   ]
  },
  {
   "cell_type": "markdown",
   "metadata": {},
   "source": [
    "PostgreSQLのマニュアルは、2種類ある。\n",
    "\n",
    "・ソフトウェア（ソフト内）に同梱されているマニュアル<br>\n",
    "・ネットに掲載されているオンラインマニュアル<br>"
   ]
  },
  {
   "cell_type": "markdown",
   "metadata": {},
   "source": [
    "### 1-3-4　ユーザ会"
   ]
  },
  {
   "cell_type": "markdown",
   "metadata": {},
   "source": [
    "・**PostgreSQL Global Development Group**（PostgreSQL グローバル開発グループ）により開発と配布が行われている<br>\n",
    "・**ユーザ会**：利用者の視点に立ったコミュニティ<br>\n",
    "・**JUPG**（日本 PostgreSQL ユーザ会）：PostgreSQLにおけるユーザ会\n",
    "\n",
    "JUPGの特徴は、以下の通りである。\n",
    "\n",
    "・**個人の資格**で参加できる<br>\n",
    "・英文マニュアルを**日本語へ翻訳**している<br>\n",
    "・ポータルサイト「**Let's Postgres**」を運営している"
   ]
  }
 ],
 "metadata": {
  "kernelspec": {
   "display_name": "Python 3",
   "language": "python",
   "name": "python3"
  },
  "language_info": {
   "codemirror_mode": {
    "name": "ipython",
    "version": 3
   },
   "file_extension": ".py",
   "mimetype": "text/x-python",
   "name": "python",
   "nbconvert_exporter": "python",
   "pygments_lexer": "ipython3",
   "version": "3.7.6"
  }
 },
 "nbformat": 4,
 "nbformat_minor": 4
}
