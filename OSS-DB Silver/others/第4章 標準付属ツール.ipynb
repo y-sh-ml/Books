{
 "cells": [
  {
   "cell_type": "markdown",
   "metadata": {},
   "source": [
    "# 第4章　標準付属ツール"
   ]
  },
  {
   "cell_type": "markdown",
   "metadata": {},
   "source": [
    "PostgreSQLは、データベースの管理・運用に関する様々なツールを提供している。"
   ]
  },
  {
   "cell_type": "markdown",
   "metadata": {},
   "source": [
    "## 4-1　共通的なオプション"
   ]
  },
  {
   "cell_type": "code",
   "execution_count": null,
   "metadata": {},
   "outputs": [],
   "source": [
    "initdb -?"
   ]
  },
  {
   "cell_type": "markdown",
   "metadata": {},
   "source": [
    "## 4-2　pg_ctl"
   ]
  },
  {
   "cell_type": "markdown",
   "metadata": {},
   "source": [
    "・pg_ctl：PostgreSQLの起動、停止、状態確認などに使う管理ツール<br>\n",
    "・実行できるユーザ：initdbを実行してデータベースクラスタを作成した**PostgreSQLの管理ユーザ**"
   ]
  },
  {
   "cell_type": "markdown",
   "metadata": {},
   "source": [
    "### 4-2-1　pg_ctl initdb"
   ]
  },
  {
   "cell_type": "markdown",
   "metadata": {},
   "source": [
    "・pg_ctl initdb：データベースクラスタの作成を行う\n",
    "\n",
    "オプションは、以下の通りである。\n",
    "\n",
    "・-D、--pgdata=データベースクラスタ：データベースクラスタを作成するディレクトリを指定する（未指定：**環境変数PGDATA**）<br>\n",
    "・-o オプション：initdbのオプションを指定する"
   ]
  },
  {
   "cell_type": "code",
   "execution_count": null,
   "metadata": {},
   "outputs": [],
   "source": [
    "pg_ctl initdb -D /pgdata -o '--encoding=UTF8 --no-locale'"
   ]
  },
  {
   "cell_type": "markdown",
   "metadata": {},
   "source": [
    "### 4-2-2　pg_ctl start"
   ]
  },
  {
   "cell_type": "markdown",
   "metadata": {},
   "source": [
    "・pg_ctl start：PostgreSQLをバックグラウンドで起動する\n",
    "\n",
    "オプションは、以下の通りである。\n",
    "\n",
    "・-D、--pgdata=データベースクラスタ：起動するPostgreSQLが使うデータベースクラスタを指定する（未指定：**環境変数PGDATA**）<br>\n",
    "・-t 最大待ち時間：起動が完了するまでの最大待ち時間を指定する（デフォルト：**60秒**）\n",
    "\n",
    "起動が完了するまでの最大待ち時間を指定できるが、それをオーバーすると失敗する。<br>\n",
    "ただし、**失敗するのは pg_ctl start**であって、PostgreSQL自体は起動する。"
   ]
  },
  {
   "cell_type": "code",
   "execution_count": null,
   "metadata": {},
   "outputs": [],
   "source": [
    "pg_ctl start -D /pgdata -t 120"
   ]
  },
  {
   "cell_type": "markdown",
   "metadata": {},
   "source": [
    "### 4-2-3　pg_ctl stop"
   ]
  },
  {
   "cell_type": "markdown",
   "metadata": {},
   "source": [
    "・pg_ctl stop：PostgreSQLを停止（シャットダウン）する\n",
    "\n",
    "オプションは、以下の通りである。\n",
    "\n",
    "・-D、--pgdata：停止するPostgreSQLが使うデータベースクラスタを指定する（未指定：**環境変数PGDATA**）<br>\n",
    "・-W：停止が完了するまで待たない<br>\n",
    "・-t 最大待ち時間：停止が完了するまでの最大待ち時間を指定する（デフォルト：**60秒**）<br>\n",
    "・-m シャットダウンモード：停止方法を指定する（デフォルト：**fast**）\n",
    "\n",
    "シャットダウンモードは、以下のものがある。\n",
    "\n",
    "・s（smart）：クライアントからの接続がすべて切断されるまで待ってから停止する（スマートシャットダウン）<br>\n",
    "・f（fast）：クライアントからの接続を強制的に切断してから停止する（高速シャットダウン）<br>\n",
    "・i（immediate）：クリーンアップ処理をせず緊急停止する、次回の起動に復旧処理が必要になる（即時シャットダウン）<br>"
   ]
  },
  {
   "cell_type": "code",
   "execution_count": null,
   "metadata": {},
   "outputs": [],
   "source": [
    "pg_ctl stop -D /pgdata -m smart"
   ]
  },
  {
   "cell_type": "markdown",
   "metadata": {},
   "source": [
    "### 4-2-4　pg_ctl restart"
   ]
  },
  {
   "cell_type": "markdown",
   "metadata": {},
   "source": [
    "・pg_ctl restart：PostgreSQLを再起動する\n",
    "\n",
    "オプションは、以下の通りである。\n",
    "\n",
    "・-D、--pgdata=データベースクラスタ：再起動するPostgreSQLが使っているデータベースクラスタを指定する（未指定：**環境変数PGDATA**）<br>\n",
    "・-m シャットダウンモード：停止方法を指定する（デフォルト：**fast**）<br>\n",
    "・-t 最大待ち時間：起動／停止が完了するまでの最大待ち時間を指定する（デフォルト：**60秒**）\n",
    "\n",
    "起動が停止するまでの最大待ち時間を指定できるが、それをオーバーすると失敗する。<br>\n",
    "ただし、**失敗するのは pg_ctl restart**であり、PostgreSQLの停止自体は継続される。"
   ]
  },
  {
   "cell_type": "code",
   "execution_count": null,
   "metadata": {},
   "outputs": [],
   "source": [
    "pg_ctl restart -D /pgdata -m f"
   ]
  },
  {
   "cell_type": "markdown",
   "metadata": {},
   "source": [
    "### 4-2-5　pg_ctl reload"
   ]
  },
  {
   "cell_type": "markdown",
   "metadata": {},
   "source": [
    "・pg_ctl reload：PostgreSQLに設定ファイルを再読み込みさせる\n",
    "\n",
    "オプションは、以下の通りである。\n",
    "\n",
    "・-D、--pgdata=データベースクラスタ：PostgreSQLが使っているデータベースクラスタを指定する（未指定：**環境変数PGDATA**）\n",
    "\n",
    "再読み込みさせる設定ファイルは、postgresql.confとpg_hba.confである。"
   ]
  },
  {
   "cell_type": "code",
   "execution_count": null,
   "metadata": {},
   "outputs": [],
   "source": [
    "pg_ctl reload -D /pgdata"
   ]
  },
  {
   "cell_type": "markdown",
   "metadata": {},
   "source": [
    "### 4-2-6　pg_ctl_status"
   ]
  },
  {
   "cell_type": "markdown",
   "metadata": {},
   "source": [
    "・pg_ctl_status：PostgreSQLが起動しているかどうかを確認する\n",
    "\n",
    "オプションは、以下の通りである。\n",
    "\n",
    "・-D、--pgdata=データベースクラスタ：起動の確認対象となるPostgreSQLが使っているデータベースクラスタを指定する（未指定：**環境変数PGDATA**）"
   ]
  },
  {
   "cell_type": "code",
   "execution_count": null,
   "metadata": {},
   "outputs": [],
   "source": [
    "pg_ctl status -D /pgdata"
   ]
  },
  {
   "cell_type": "markdown",
   "metadata": {},
   "source": [
    "### 4-2-7　pg_ctl kill"
   ]
  },
  {
   "cell_type": "markdown",
   "metadata": {},
   "source": [
    "・pg_ctl kill：プロセスにシグナルを送信する\n",
    "\n",
    "コマンドは、以下の通りである。\n",
    "\n",
    "・pg_ctl kill **TERM**：pg_ctl stop -m **smart**<br>\n",
    "・pg_ctl kill **INT**：pg_ctl stop -m **fast**<br>\n",
    "・pg_ctl kill **QUIT**：pg_ctl stop -m **immediate**<br>\n",
    "・pg_ctl kill **HUP**：pg_ctl **reload**<br>\n",
    "・pg_ctl kill **USR1**：ユーザ指定のシグナルを送る"
   ]
  },
  {
   "cell_type": "code",
   "execution_count": null,
   "metadata": {},
   "outputs": [],
   "source": [
    "pg_ctl status -D /pgdata\n",
    "\n",
    "pg_ctl kill TERM"
   ]
  },
  {
   "cell_type": "markdown",
   "metadata": {},
   "source": [
    "## 4-3　ツールから PostgreSQL への接続"
   ]
  },
  {
   "cell_type": "markdown",
   "metadata": {},
   "source": [
    "**psql**でPostgreSQLに接続する際のオプションを下記に示す。\n",
    "\n",
    "・-h --host 接続先のホスト名：デフォルトはPGHOST、それもなければ「ツールを実行をしたホスト」が接続先となる<br>\n",
    "・-p --port ポート番号：デフォルトはPGPORT、それもなければ「5432」が指定される<br>\n",
    "・-U --username ユーザ名：デフォルトはPGUSER、それもなければ「ツールを実行したOSユーザ名」が使われる"
   ]
  },
  {
   "cell_type": "code",
   "execution_count": null,
   "metadata": {},
   "outputs": [],
   "source": [
    "psql -h 192.188.0.10 -p 9999 -U user1"
   ]
  },
  {
   "cell_type": "markdown",
   "metadata": {},
   "source": [
    "### 4-3-1　データベースユーザ"
   ]
  },
  {
   "cell_type": "markdown",
   "metadata": {},
   "source": [
    "**PostgreSQLとOSのユーザは全く別物**である。\n",
    "\n",
    "データベースユーザの権限は、以下の通りである。\n",
    "\n",
    "・CREATEROLE：ユーザを作成する権限<br>\n",
    "・CREATEDB：データベースを作成する権限<br>\n",
    "・SUPERUSER：データベースに対するあらゆる操作が可能な権限<br>\n",
    "・LOGIN：データベースに接続できる権限<br>\n",
    "・REPLICATION：ストミングレプリケーションとして接続するための権限\n",
    "\n",
    "権限を必要とする操作を行う場合は、その権限を持ったユーザに接続して実行する必要がある。<br>\n",
    "また、データベースユーザはデータベースクラスタで共通（**一意**）である。"
   ]
  },
  {
   "cell_type": "markdown",
   "metadata": {},
   "source": [
    "## 4-4　createuser"
   ]
  },
  {
   "cell_type": "markdown",
   "metadata": {},
   "source": [
    "・createuser：データベースユーザを作成する<br>\n",
    "\n",
    "オプションは、以下の通りである。\n",
    "\n",
    "-P、--pwprompt：パスワードを設定する<br>\n",
    "-s、--superuser：スーパーユーザ権限を設定する<br>\n",
    "-S、--no-superuser：スーパーユーザ権限を設定しない（デフォルト）<br>\n",
    "-d、--createdb：データベースの作成権限を設定する<br>\n",
    "-D、--no-createdb：データベースの作成権限を設定しない（デフォルト）<br>\n",
    "-r、--createrole：ユーザの作成権限を設定する<br>\n",
    "-R、--no-createrole：ユーザの作成権限を設定しない（デフォルト）<br>\n",
    "-l、--login：ログイン権限を設定する（デフォルト）<br>\n",
    "-L、--no-login：ログイン権限を設定しない<br>\n",
    "--interractive：対話的に設定する場合に指定<br>\n",
    "-e、--echo：createuserが実行したSQLを出力\n",
    "\n",
    "スーパーユーザ権限はデータベースとユーザの作成権限も持つ。\n",
    "\n",
    "データベースクラスタには、PostgreSQLの管理ユーザと同じ名前のデータベースユーザ（PostgeSQLユーザ）が最初から定義されている。<br>また、このユーザはスーパユーザである。"
   ]
  },
  {
   "cell_type": "markdown",
   "metadata": {},
   "source": [
    "## 4-5　dropuser"
   ]
  },
  {
   "cell_type": "markdown",
   "metadata": {},
   "source": [
    "・dropuser：データベースユーザを削除する\n",
    "\n",
    "オプションは以下の通りである。\n",
    "\n",
    "・-i、--interactive：ユーザを削除してよいか、削除前に確認する"
   ]
  },
  {
   "cell_type": "code",
   "execution_count": null,
   "metadata": {},
   "outputs": [],
   "source": [
    "createuser -S -D -R -L user2\n",
    "\n",
    "dropuser -f user2"
   ]
  },
  {
   "cell_type": "markdown",
   "metadata": {},
   "source": [
    "## 4-6　createdb"
   ]
  },
  {
   "cell_type": "markdown",
   "metadata": {},
   "source": [
    "・createdb：データベースを作成する\n",
    "\n",
    "オプションは、以下の通りである。\n",
    "\n",
    "・-E、--encoding=エンコーディング：データベースのエンコーディングを指定する<br>\n",
    "・-l、--locale=ロケール：データベースのロケールを指定する<br>\n",
    "・-O、--owner=ユーザ名：データベースの所有者となるユーザを指定する<br>\n",
    "・-T、--template=データベース名：テンプレートデータベースを指定する"
   ]
  },
  {
   "cell_type": "code",
   "execution_count": null,
   "metadata": {},
   "outputs": [],
   "source": [
    "createdb -U user1 examdb\n",
    "\n",
    "# エンコーディングとロケールをテンプレートと異なるものに設定する場合には、テンプレート0を選択する必要がある\n",
    "createdb -E EUC_JP -l C -T template testdb\n",
    "\n",
    "# psql -lで、データベースの所有者・エンコーディング・ロケールを確認できる\n",
    "psql -l"
   ]
  },
  {
   "cell_type": "markdown",
   "metadata": {},
   "source": [
    "## 4-7　dropdb"
   ]
  },
  {
   "cell_type": "markdown",
   "metadata": {},
   "source": [
    "・dropdb：データベースを削除する\n",
    "\n",
    "オプションは、以下の通りである。\n",
    "\n",
    "・-i、--interactive：データベースを削除してよいか、削除前に確認する"
   ]
  },
  {
   "cell_type": "code",
   "execution_count": null,
   "metadata": {},
   "outputs": [],
   "source": [
    "dropdb -U postgres -i testdb"
   ]
  },
  {
   "cell_type": "markdown",
   "metadata": {},
   "source": [
    "## 4-8　psql"
   ]
  },
  {
   "cell_type": "markdown",
   "metadata": {},
   "source": [
    "### 4-8-1　データベースへの接続と切断"
   ]
  },
  {
   "cell_type": "markdown",
   "metadata": {},
   "source": [
    "・psql：PostgreSQLへの**接続**・SQLコマンドの発行・結果の表示などを行う\n",
    "\n",
    "オプションは、以下の通りである。\n",
    "\n",
    "・-l、--list：データベースの一覧を表示し、psqlを終了する<br>\n",
    "・-C、--command=\"コマンド\"：指定したコマンドを実行し、表示後にpsqlを終了する<br>\n",
    "・-f、--file=ファイル名：指定したファイルからコマンドを読み込んで実行し、表示後にpsqlを終了する<br>\n",
    "・-d、--dbname=データベース名：接続するデータベースの名前を指定する、d省略でdbnameとなる"
   ]
  },
  {
   "cell_type": "code",
   "execution_count": null,
   "metadata": {},
   "outputs": [],
   "source": [
    "psql -U user1 examdb\n",
    "\n",
    "# PostgreSQLへの接続を切断し、psqlを終了するには、下記のどちらかを使用すれば良い\n",
    "\\q\n",
    "\\quit"
   ]
  },
  {
   "cell_type": "markdown",
   "metadata": {},
   "source": [
    "### 4-8-2　SQLコマンドの入力"
   ]
  },
  {
   "cell_type": "markdown",
   "metadata": {},
   "source": [
    "SQLコマンドは、psqlがPostgreSQLに送信→PostgreSQLが実行→psqlが受け取って表示する。\n",
    "\n",
    "また「->」はコマンドの途中であることを表す。"
   ]
  },
  {
   "cell_type": "markdown",
   "metadata": {},
   "source": [
    "### 4-8-3　メタコマンド"
   ]
  },
  {
   "cell_type": "markdown",
   "metadata": {},
   "source": [
    "psqlはSQLコマンド以外にも、\\から始まるメタコマンドを入力できる。<br>\n",
    "ただし、あくまで**実行するのは**psqlではなく**PostgreSQL**である。\n",
    "\n",
    "・\\q：psqlを終了する<br>\n",
    "・\\l、\\list：データベースの一覧を表示する（psql -lと同じ効果）<br>\n",
    "・\\d パターン：パターン：指定したパターンにマッチしたオブジェクトの名前を表示する<br>\n",
    "・\\d：テーブル、ビュー、シーケンスの一覧を表示する<br>\n",
    "・\\du：データベースユーザの一覧を表示する<br>\n",
    "・\\dn：スキーマの一覧を表示する<br>\n",
    "・\\dt：テーブルの一覧を表示する<br>\n",
    "・\\di：インデックスの一覧を表示する<br>\n",
    "・\\dv：ビューの一覧を表示する<br>\n",
    "・\\ds：シーケンスの一覧を表示する<br>\n",
    "・\\dS：システムカタログの一覧を表示する<br>\n",
    "・\\df：関数の一覧を表示する<br>\n",
    "・\\dp：テーブル、ビュー、シーケンスの一覧と、それらに設定されているテーブル単位の情報を表示する<br>\n",
    "・\\z：\\dpの別名<br>\n",
    "・\\copy：PostgreSQLとpsqlの間でテーブルデータをコピーする<br>\n",
    "・\\password [ユーザ名]：指定したデータベースユーザ（デフォルトは現在のユーザ）のパスワードを変更する<br>\n",
    "・\\c、\\connect データベース名：現在のデータベースを切断ｓ、指定したデータベースに新規接続する<br>\n",
    "・\\x：結果の表示形式を拡張モード（1→複数行）に変更する、再度実行すると元に戻る<br>\n",
    "・\\?：メタコマンドの一覧を表示する<br>\n",
    "・\\h、\\help SQLコマンド：SQLコマンドのヘルプ情報を表示する、未指定でコマンドの一覧を表示する\n",
    "\n",
    "メタコマンドは、SQLコマンドと異なり、改行で終わりが判断される。"
   ]
  },
  {
   "cell_type": "markdown",
   "metadata": {},
   "source": [
    "### 4-8-4　コマンドのバッチ実行"
   ]
  },
  {
   "cell_type": "markdown",
   "metadata": {},
   "source": [
    "psqlでは、バッチ的（非対話的）にコマンドを実行することができる。<br>\n",
    "その際は、実行するコマンドをファイルに記述し、そのファイルを-fオプションで指定して、psqlを開始すれば良い。"
   ]
  },
  {
   "cell_type": "code",
   "execution_count": null,
   "metadata": {},
   "outputs": [],
   "source": [
    "cat exam.sql\n",
    "select current_user, current_date;\n",
    "\\du\n",
    "psql -f exam.sql -U user1 examdb"
   ]
  },
  {
   "cell_type": "markdown",
   "metadata": {},
   "source": [
    "psqlでは、**-cオプション**でもバッチ的に実行できる。<br>\n",
    "ただし、**SQLコマンドとメタコマンドを混在させることはできない。**"
   ]
  }
 ],
 "metadata": {
  "kernelspec": {
   "display_name": "Python 3",
   "language": "python",
   "name": "python3"
  },
  "language_info": {
   "codemirror_mode": {
    "name": "ipython",
    "version": 3
   },
   "file_extension": ".py",
   "mimetype": "text/x-python",
   "name": "python",
   "nbconvert_exporter": "python",
   "pygments_lexer": "ipython3",
   "version": "3.7.6"
  }
 },
 "nbformat": 4,
 "nbformat_minor": 4
}
