{
 "cells": [
  {
   "cell_type": "markdown",
   "metadata": {},
   "source": [
    "# 第4章　標準付属ツール"
   ]
  },
  {
   "cell_type": "markdown",
   "metadata": {},
   "source": [
    "PostgreSQLは、データベースの管理・運用に関する様々なツールを提供している。"
   ]
  },
  {
   "cell_type": "markdown",
   "metadata": {},
   "source": [
    "## 4-1　共通的なオプション"
   ]
  },
  {
   "cell_type": "code",
   "execution_count": null,
   "metadata": {},
   "outputs": [],
   "source": [
    "initdb -?"
   ]
  },
  {
   "cell_type": "markdown",
   "metadata": {},
   "source": [
    "## 4-2　pg_ctl"
   ]
  },
  {
   "cell_type": "markdown",
   "metadata": {},
   "source": [
    "PostgreSQLの起動、停止、状態確認などに使う管理ツールである。"
   ]
  },
  {
   "cell_type": "markdown",
   "metadata": {},
   "source": [
    "### 4-2-1　pg_ctl initdb"
   ]
  },
  {
   "cell_type": "markdown",
   "metadata": {},
   "source": [
    "データベースクラスタの作成を行う。"
   ]
  },
  {
   "cell_type": "code",
   "execution_count": null,
   "metadata": {},
   "outputs": [],
   "source": [
    "pg_ctl initdb -D /pgdata -o '--encoding=UTF8 --no-locale'"
   ]
  },
  {
   "cell_type": "markdown",
   "metadata": {},
   "source": [
    "### 4-2-2　pg_ctl start"
   ]
  },
  {
   "cell_type": "markdown",
   "metadata": {},
   "source": [
    "PostgreSQLをバックグラウンドで起動する。\n",
    "\n",
    "PostgreSQLの起動を待つ →　pg_ctl start が開始する\n",
    "\n",
    "待ち時間の指定ができ、それをオーバーすると失敗する。<br>\n",
    "ただし、失敗するのは pg_ctl start であって、PostgreSQL自体は起動する。"
   ]
  },
  {
   "cell_type": "code",
   "execution_count": null,
   "metadata": {},
   "outputs": [],
   "source": [
    "pg_ctl start -D /pgdata -t 120"
   ]
  },
  {
   "cell_type": "markdown",
   "metadata": {},
   "source": [
    "### 4-2-3　pg_ctl stop"
   ]
  },
  {
   "cell_type": "markdown",
   "metadata": {},
   "source": [
    "PostgreSQLを停止（シャットダウン）する。"
   ]
  },
  {
   "cell_type": "markdown",
   "metadata": {},
   "source": [
    "#### シャットダウンモード\n",
    "\n",
    "smart：クライアントからの接続がすべて切断されるまで待ってから停止する（スマートシャットダウン）<br>\n",
    "fast：クライアントからの接続を強制的に切断してから停止する（高速シャットダウン）<br>\n",
    "immediate：クリーンアップ処理をせず緊急停止する、次回の起動に復旧処理が必要になる（即時シャットダウン）<br>\n",
    "\n",
    "デフォルト：高速シャットダウン、停止までの待ち時間は60秒\n",
    "\n",
    "停止時間だけ待つ → 各停止方法の実行　となる。（待たない場合は、-Wを使う）"
   ]
  },
  {
   "cell_type": "code",
   "execution_count": null,
   "metadata": {},
   "outputs": [],
   "source": [
    "pg_ctl stop -D /pgdata -m smart"
   ]
  },
  {
   "cell_type": "markdown",
   "metadata": {},
   "source": [
    "-m smart でスマートシャットダウンを指定している。"
   ]
  },
  {
   "cell_type": "markdown",
   "metadata": {},
   "source": [
    "### 4-2-4　pg_ctl restart"
   ]
  },
  {
   "cell_type": "markdown",
   "metadata": {},
   "source": [
    "PostgreSQLを再起動する。\n",
    "\n",
    "停止までの時間を指定でき、それをオーバーすると失敗する。<br>\n",
    "ただし、失敗するのは pg_ctl restart であり、PostgreSQLの停止自体は継続される。"
   ]
  },
  {
   "cell_type": "code",
   "execution_count": null,
   "metadata": {},
   "outputs": [],
   "source": [
    "pg_ctl restart -D /pgdata -m f"
   ]
  },
  {
   "cell_type": "markdown",
   "metadata": {},
   "source": [
    "-m f で高速シャットダウンを指定している。"
   ]
  },
  {
   "cell_type": "markdown",
   "metadata": {},
   "source": [
    "### 4-2-5　pg_ctl reload"
   ]
  },
  {
   "cell_type": "markdown",
   "metadata": {},
   "source": [
    "PostgreSQLに設定ファイルを再読み込みさせる。"
   ]
  },
  {
   "cell_type": "code",
   "execution_count": null,
   "metadata": {},
   "outputs": [],
   "source": [
    "pg_ctl reload -D /pgdata"
   ]
  },
  {
   "cell_type": "markdown",
   "metadata": {},
   "source": [
    "### 4-2-6　pgctl_status"
   ]
  },
  {
   "cell_type": "markdown",
   "metadata": {},
   "source": [
    "PostgreSQLが起動しているかどうかを確認する。"
   ]
  },
  {
   "cell_type": "code",
   "execution_count": null,
   "metadata": {},
   "outputs": [],
   "source": [
    "pg_ctl status -D /pgdata"
   ]
  },
  {
   "cell_type": "markdown",
   "metadata": {},
   "source": [
    "### 4-2-7　pg_ctl kill"
   ]
  },
  {
   "cell_type": "markdown",
   "metadata": {},
   "source": [
    "プロセスにシグナルを送信する。\n",
    "\n",
    "マスタプロセスに送信するために、PIDを調べる必要があるので、最初にpg_ctl statusを実行する。"
   ]
  },
  {
   "cell_type": "code",
   "execution_count": null,
   "metadata": {},
   "outputs": [],
   "source": [
    "pg_ctl status -D /pgdata\n",
    "\n",
    "pg_ctl kill TERM"
   ]
  },
  {
   "cell_type": "markdown",
   "metadata": {},
   "source": [
    "同じ効果を持つコマンドごとにまとめておく。"
   ]
  },
  {
   "cell_type": "code",
   "execution_count": null,
   "metadata": {},
   "outputs": [],
   "source": [
    "pg_ctl kill TERM\n",
    "\n",
    "pg_ctl stop -m smart"
   ]
  },
  {
   "cell_type": "code",
   "execution_count": null,
   "metadata": {},
   "outputs": [],
   "source": [
    "pg_ctl kill INT\n",
    "\n",
    "pg_ctl stop -m fast"
   ]
  },
  {
   "cell_type": "code",
   "execution_count": null,
   "metadata": {},
   "outputs": [],
   "source": [
    "pg_ctl kill QUIT\n",
    "\n",
    "pg_ctl stop -m immediate"
   ]
  },
  {
   "cell_type": "code",
   "execution_count": null,
   "metadata": {},
   "outputs": [],
   "source": [
    "pg_ctl kill HUP\n",
    "\n",
    "pg_ctl reload"
   ]
  },
  {
   "cell_type": "markdown",
   "metadata": {},
   "source": [
    "## 4-3　ツールから PostgreSQL への接続"
   ]
  },
  {
   "cell_type": "markdown",
   "metadata": {},
   "source": [
    "-h --host 接続先のホスト名：デフォルトはPGHOST、それもなければ「ツールを実行をしたホスト」が接続先となる<br>\n",
    "-p --port ポート番号：デフォルトはPGPORT、それもなければ「5432」が指定される<br>\n",
    "-U --username ユーザ名：デフォルトはPGUSER、それもなければ「ツールを実行したOSユーザ名」が使われる"
   ]
  },
  {
   "cell_type": "code",
   "execution_count": null,
   "metadata": {},
   "outputs": [],
   "source": [
    "psql -h 192.188.0.10 -p 9999 -U user1"
   ]
  },
  {
   "cell_type": "markdown",
   "metadata": {},
   "source": [
    "### 4-3-1　データベースユーザ"
   ]
  },
  {
   "cell_type": "markdown",
   "metadata": {},
   "source": [
    "PostgreSQLとOSのユーザは全く別物である。\n",
    "\n",
    "CREATEROLE：ユーザを作成する権限<br>\n",
    "CREATEDB：データベースを作成する権限<br>\n",
    "SUPERUSER：データベースに対するあらゆる操作が可能な権限<br>\n",
    "LOGIN：データベースに接続できる権限<br>\n",
    "REPLICATION：ストミングレプリケーションとして接続するための権限\n",
    "\n",
    "権限を必要とする操作を行う場合は、その権限を持ったユーザに接続して実行する必要がある。\n",
    "\n",
    "また、データベースユーザはデータベースクラスタで共通（一意）である。"
   ]
  },
  {
   "cell_type": "markdown",
   "metadata": {},
   "source": [
    "## 4-4　createuser"
   ]
  },
  {
   "cell_type": "markdown",
   "metadata": {},
   "source": [
    "データベースユーザを作成するコマンドである。<br>\n",
    "下記のオプションで、権限を与えることができる。\n",
    "\n",
    "-P、--pwprompt：パスワードを設定する<br>\n",
    "-s、--superuser：スーパーユーザ権限を設定する<br>\n",
    "-S、--no-superuser：スーパーユーザ権限を設定しない（デフォルト）<br>\n",
    "-d、--createdb：データベースの作成権限を設定する<br>\n",
    "-D、--no-createdb：データベースの作成権限を設定しない<br>\n",
    "-r、--createrole：ユーザの作成権限を設定する<br>\n",
    "-R、--no-createrole：ユーザの作成権限を設定しない<br>\n",
    "-l、--login：ログイン権限を設定する<br>\n",
    "-L、--no-login：ログイン権限を設定しない<br>\n",
    "--interractive：対話的に設定する場合に指定<br>\n",
    "-e、--echo：createuserが実行したSQLを出力\n",
    "\n",
    "大文字と小文字のあるコマンドの場合は、大文字のものがネガティブな意味を持っている。\n",
    "\n",
    "デフォルトでログイン権限を持っている。<br>\n",
    "また、スーパーユーザ権限はデータベースとユーザの作成権限も持つ。\n",
    "\n",
    "データベースクラスタには、PostgreSQLの管理ユーザと同じ名前のデータベースユーザ（PostgeSQLユーザ）が最初から定義されている。<br>また、このユーザはスーパユーザである。"
   ]
  },
  {
   "cell_type": "markdown",
   "metadata": {},
   "source": [
    "## 4-5　dropuser"
   ]
  },
  {
   "cell_type": "markdown",
   "metadata": {},
   "source": [
    "データベースユーザを削除するコマンドである。"
   ]
  },
  {
   "cell_type": "code",
   "execution_count": null,
   "metadata": {},
   "outputs": [],
   "source": [
    "createuser -S -D -R -L user2\n",
    "\n",
    "dropuser -f user2"
   ]
  },
  {
   "cell_type": "markdown",
   "metadata": {},
   "source": [
    "## 4-6　createdb"
   ]
  },
  {
   "cell_type": "markdown",
   "metadata": {},
   "source": [
    "データベースを作成するコマンドである。"
   ]
  },
  {
   "cell_type": "code",
   "execution_count": null,
   "metadata": {},
   "outputs": [],
   "source": [
    "createdb -U user1 examdb"
   ]
  },
  {
   "cell_type": "markdown",
   "metadata": {},
   "source": [
    "エンコーディングとロケールをテンプレートと異なるものに設定する場合には、テンプレート0を選択する必要がある。"
   ]
  },
  {
   "cell_type": "code",
   "execution_count": null,
   "metadata": {},
   "outputs": [],
   "source": [
    "createdb -E EUC_JP -l C -T template testdb"
   ]
  },
  {
   "cell_type": "markdown",
   "metadata": {},
   "source": [
    "psql -lで、データベースの所有者・エンコーディング・ロケールを確認できる。"
   ]
  },
  {
   "cell_type": "code",
   "execution_count": null,
   "metadata": {},
   "outputs": [],
   "source": [
    "psql -l"
   ]
  },
  {
   "cell_type": "markdown",
   "metadata": {},
   "source": [
    "## 4-7　dropdb"
   ]
  },
  {
   "cell_type": "markdown",
   "metadata": {},
   "source": [
    "データベースを削除するコマンドである。"
   ]
  },
  {
   "cell_type": "code",
   "execution_count": null,
   "metadata": {},
   "outputs": [],
   "source": [
    "dropdb -U postgres -i testdb"
   ]
  },
  {
   "cell_type": "markdown",
   "metadata": {},
   "source": [
    "## 4-8　psql"
   ]
  },
  {
   "cell_type": "markdown",
   "metadata": {},
   "source": [
    "### 4-8-1　データベースへの接続と切断"
   ]
  },
  {
   "cell_type": "markdown",
   "metadata": {},
   "source": [
    "psqlは、PostgreSQLへの**接続**・SQLコマンドの発行・結果の表示などを行うコマンドである。\n",
    "下記のようなオプションが用意されている。\n",
    "\n",
    "-l、--list:データベースの一覧を表示し、psqlを終了する<br>\n",
    "-C、--command=\"コマンド\"：指定したコマンドを実行し、表示後にpsqlを終了する<br>\n",
    "-f、--file=ファイル名：指定したファイルからコマンドを読み込んで実行し、表示後にpsqlを終了する<br>\n",
    "-d、--dbname=データベース名：接続するデータベースの名前を指定する、d省略でdbnameとなる\n",
    "\n"
   ]
  },
  {
   "cell_type": "code",
   "execution_count": null,
   "metadata": {},
   "outputs": [],
   "source": [
    "psql -U user1 examdb"
   ]
  },
  {
   "cell_type": "markdown",
   "metadata": {},
   "source": [
    "PostgreSQLへの接続を切断し、psqlを終了するには、下記のどちらかを使用すれば良い。"
   ]
  },
  {
   "cell_type": "code",
   "execution_count": null,
   "metadata": {},
   "outputs": [],
   "source": [
    "\\q\n",
    "\n",
    "\\quit"
   ]
  },
  {
   "cell_type": "markdown",
   "metadata": {},
   "source": [
    "### 4-8-2　SQLコマンドの入力"
   ]
  },
  {
   "cell_type": "markdown",
   "metadata": {},
   "source": [
    "SQLコマンドは、psqlがPostgreSQLに送信→PostgreSQLが実行→psqlが受け取って表示する。\n",
    "\n",
    "また「->」はコマンドの途中であることを表す。"
   ]
  },
  {
   "cell_type": "markdown",
   "metadata": {},
   "source": [
    "### 4-8-3　メタコマンド"
   ]
  },
  {
   "cell_type": "markdown",
   "metadata": {},
   "source": [
    "psqlはSQLコマンド以外にも、\\から始まるメタコマンドを入力できる。<br>\n",
    "ただし、あくまで実行するのはpsqlではなくPostgreSQLである。\n",
    "\n",
    "\\q：psqlを終了する<br>\n",
    "\\l、\\list：データベースの一覧を表示する（psql -lと同じ効果）<br>\n",
    "\\d パターン：パターン：指定したパターンにマッチしたオブジェクトの名前を表示する<br>\n",
    "\\d：テーブル、ビュー、シーケンスの一覧を表示する<br>\n",
    "\\du：データベースユーザの一覧を表示する<br>\n",
    "\\dn：スキーマの一覧を表示する<br>\n",
    "\\dt：テーブルの一覧を表示する<br>\n",
    "\\di：インデックスの一覧を表示する<br>\n",
    "\\dv：ビューの一覧を表示する<br>\n",
    "\\ds：シーケンスの一覧を表示する<br>\n",
    "\\dS：システムカタログの一覧を表示する<br>\n",
    "\\df：関数の一覧を表示する<br>\n",
    "\\dp：テーブル、ビュー、シーケンスの一覧と、それらに設定されているテーブル単位の情報を表示する<br>\n",
    "\\z：\\dpの別名<br>\n",
    "\\copy：PostgreSQLとpsqlの間でテーブルデータをコピーする<br>\n",
    "\\password [ユーザ名]：指定したデータベースユーザ（デフォルトは現在のユーザ）のパスワードを変更する<br>\n",
    "\\c、\\connect データベース名：現在のデータベースを切断ｓ、指定したデータベースに新規接続する<br>\n",
    "\\x：結果の表示形式を拡張モード（1→複数行）に変更する、再度実行すると元に戻る<br>\n",
    "\\?：メタコマンドの一覧を表示する<br>\n",
    "\\h、\\help SQLコマンド：SQLコマンドのヘルプ情報を表示する、未指定でコマンドの一覧を表示する\n",
    "\n",
    "メタコマンドは、SQLコマンドと異なり、改行で終わりが判断される。"
   ]
  },
  {
   "cell_type": "markdown",
   "metadata": {},
   "source": [
    "### 4-8-4　コマンドのバッチ実行"
   ]
  },
  {
   "cell_type": "markdown",
   "metadata": {},
   "source": [
    "psqlでは、バッチ的（非対話的）にコマンドを実行することができる。<br>\n",
    "その際は、実行するコマンドをファイルに記述し、そのファイルを-fオプションで指定して、psqlを開始すれば良い。"
   ]
  },
  {
   "cell_type": "code",
   "execution_count": null,
   "metadata": {},
   "outputs": [],
   "source": [
    "cat exam.sql\n",
    "select current_user, current_date;\n",
    "\\du\n",
    "psql -f exam.sql -U user1 examdb"
   ]
  },
  {
   "cell_type": "markdown",
   "metadata": {},
   "source": [
    "psqlでは、-cオプションでもバッチ的に実行できる。<br>\n",
    "ただし、SQLコマンドとメタコマンドを混在させることはできない。"
   ]
  }
 ],
 "metadata": {
  "kernelspec": {
   "display_name": "Python 3",
   "language": "python",
   "name": "python3"
  },
  "language_info": {
   "codemirror_mode": {
    "name": "ipython",
    "version": 3
   },
   "file_extension": ".py",
   "mimetype": "text/x-python",
   "name": "python",
   "nbconvert_exporter": "python",
   "pygments_lexer": "ipython3",
   "version": "3.7.6"
  }
 },
 "nbformat": 4,
 "nbformat_minor": 4
}
