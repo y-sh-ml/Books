{
 "cells": [
  {
   "cell_type": "markdown",
   "metadata": {},
   "source": [
    "# 第5章　設定ファイル"
   ]
  },
  {
   "cell_type": "markdown",
   "metadata": {},
   "source": [
    "PostgreSQLには、postgresql.confとpg_hba.confという設定ファイルがある。\n",
    "\n",
    "・PostgreSQL.conf：パラメータを設定するファイル<br>\n",
    "・pg_hba.conf：クライアント認証を設定するファイル"
   ]
  },
  {
   "cell_type": "markdown",
   "metadata": {},
   "source": [
    "## 5-1　postgresql.conf"
   ]
  },
  {
   "cell_type": "markdown",
   "metadata": {},
   "source": [
    "・パラメータは、**1行に1つずつ設定**する<br>\n",
    "・パラメータ名と設定値の間の**イコール（=）は省略**できる\n",
    "\n",
    "指定できる値は、パラメータごとに限定されている。"
   ]
  },
  {
   "cell_type": "code",
   "execution_count": null,
   "metadata": {},
   "outputs": [],
   "source": [
    "log_connections # 論理値\n",
    "port = 5432 # 整数\n",
    "cpu_tuple_cost = 0.01 # 浮動小数点\n",
    "log_directory # 文字列\n",
    "log_min_messages = ERROR # 列挙値\n",
    "shared_buffers = 256MB # メモリの単位\n",
    "log_rotation_age = 1d # 時間の単位"
   ]
  },
  {
   "cell_type": "markdown",
   "metadata": {},
   "source": [
    "各パラメータの設定反映のタイミングは、以下のように分類される。\n",
    "\n",
    "・不可（internal）：ユーザは設定変更できない<br>\n",
    "・起動（postmaster）：PostgreSQLの起動／起動中：PostgreSQLの**再起動**<br>\n",
    "・再読み込み（signup）：PostgreSQLの起動 or pg_ctl_reloadの再読み込み／起動中：pg_ctl_reloadのみ<br>\n",
    "・スーパーユーザのみ（suset）：PostgreSQLの起動 or 再読み込み or スーパーユーザによるSET文<br>\n",
    "・いつでも（user）：PostgreSQLの起動 or 再読み込み or 一般ユーザによるSET文\n",
    "\n",
    "pg_ctl_reloadはPostgreSQL全体に設定変更が反映されるが、SET文は**実行したセッションのみ**に効果がある。"
   ]
  },
  {
   "cell_type": "code",
   "execution_count": null,
   "metadata": {},
   "outputs": [],
   "source": [
    "# まず現在の設定値を、SHOW文で見ておく\n",
    "psql -c 'SHOW max_connections'\n",
    "\n",
    "100"
   ]
  },
  {
   "cell_type": "code",
   "execution_count": null,
   "metadata": {},
   "outputs": [],
   "source": [
    "# postgresql.confで設定値を100から20に変更する\n",
    "vi $PGDATA/postgresql.conf"
   ]
  },
  {
   "cell_type": "code",
   "execution_count": null,
   "metadata": {},
   "outputs": [],
   "source": [
    "# pg_ctl_reloadでPostgresql.confを再読み込みする\n",
    "pg_ctl reload -D $PGDATA"
   ]
  },
  {
   "cell_type": "code",
   "execution_count": null,
   "metadata": {},
   "outputs": [],
   "source": [
    "# 設定変更が反映されていないことを確認\n",
    "psql -c 'SHOW max_connections'\n",
    "\n",
    "100"
   ]
  },
  {
   "cell_type": "markdown",
   "metadata": {},
   "source": [
    "正しい方法で、パラメータを設定変更していく。"
   ]
  },
  {
   "cell_type": "code",
   "execution_count": null,
   "metadata": {},
   "outputs": [],
   "source": [
    "# PostgreSQLを再起動する\n",
    "pg_ctl restart -D $PGDATA"
   ]
  },
  {
   "cell_type": "code",
   "execution_count": null,
   "metadata": {},
   "outputs": [],
   "source": [
    "# 設定値が20に変更されたことを確認\n",
    "psql -c 'SHOW max_connections'\n",
    "\n",
    "20"
   ]
  },
  {
   "cell_type": "markdown",
   "metadata": {},
   "source": [
    "## 5-2　接続と認証"
   ]
  },
  {
   "cell_type": "markdown",
   "metadata": {},
   "source": [
    "### 5-2-1　listen_addresses"
   ]
  },
  {
   "cell_type": "markdown",
   "metadata": {},
   "source": [
    "「PostgreSQLが監視する**PostgreSQL側**のIPアドレス」を設定する。<br>\n",
    "そうすると、PostgreSQLは、設定されたIPアドレスに届いた接続要求のみを受け付ける。\n",
    "\n",
    "・デフォルト：localhost<br>\n",
    "・設定反映のタイミング：起動"
   ]
  },
  {
   "cell_type": "markdown",
   "metadata": {},
   "source": [
    "### 5-2-2　port"
   ]
  },
  {
   "cell_type": "markdown",
   "metadata": {},
   "source": [
    "PostgreSQLがクライアントからの接続を受け付けるポート番号を設定する。\n",
    "\n",
    "・デフォルト：5432<br>\n",
    "・設定反映のタイミング：起動"
   ]
  },
  {
   "cell_type": "markdown",
   "metadata": {},
   "source": [
    "### 5-2-3　max_connections"
   ]
  },
  {
   "cell_type": "markdown",
   "metadata": {},
   "source": [
    "PostgreSQLに同時接続可能な最大数を設定する。\n",
    "\n",
    "・デフォルト：100<br>\n",
    "・設定反映のタイミング：起動"
   ]
  },
  {
   "cell_type": "markdown",
   "metadata": {},
   "source": [
    "## 5-3　クライアント接続デフォルト"
   ]
  },
  {
   "cell_type": "markdown",
   "metadata": {},
   "source": [
    "### 5-3-1　search_path"
   ]
  },
  {
   "cell_type": "markdown",
   "metadata": {},
   "source": [
    "スキーマ検索パスを設定する。\n",
    "\n",
    "・デフォルト：\"$user\", public<br>\n",
    "・設定反映のタイミング：いつでも"
   ]
  },
  {
   "cell_type": "markdown",
   "metadata": {},
   "source": [
    "### 5-3-2　default_transaction_isolation"
   ]
  },
  {
   "cell_type": "markdown",
   "metadata": {},
   "source": [
    "トランザクションのデフォルトの分離レベルを設定する。\n",
    "\n",
    "・デフォルト：read committed<br>\n",
    "・設定反映のタイミング：いつでも"
   ]
  },
  {
   "cell_type": "markdown",
   "metadata": {},
   "source": [
    "### 5-3-3　client_encoding"
   ]
  },
  {
   "cell_type": "markdown",
   "metadata": {},
   "source": [
    "クライアントエンコーディングを設定する。\n",
    "\n",
    "・デフォルト：SQL_ASCII（クライアントとデータベース間の自動的な文字の変換は行われない）<br>\n",
    "・設定反映のタイミング：いつでも"
   ]
  },
  {
   "cell_type": "code",
   "execution_count": null,
   "metadata": {},
   "outputs": [],
   "source": [
    "# クライアントからのSQLをSJISとして扱い、SQLの実行結果をSJISに変換してから返す\n",
    "client_encoding = 'SJIS'"
   ]
  },
  {
   "cell_type": "markdown",
   "metadata": {},
   "source": [
    "## 5-4　エラー報告とログ取得"
   ]
  },
  {
   "cell_type": "markdown",
   "metadata": {},
   "source": [
    "### 5-4-1　log_destination"
   ]
  },
  {
   "cell_type": "markdown",
   "metadata": {},
   "source": [
    "PostgreSQLサーバログの出力先を設定する。\n",
    "\n",
    "・デフォルト：stderr<br>\n",
    "・設定反映のタイミング：再読み込み\n",
    "\n",
    "ログの出力先には、以下の4つがある。\n",
    "\n",
    "・stderr：サーバログを**標準エラー出力**に出力する（**平文**形式）<br>\n",
    "・csvlog：サーバログを**標準エラー出力**に出力する（**CSV**形式）<br>\n",
    "・syslog：サーバログを**syslog**に出力する<br>\n",
    "・eventlog：サーバログを**eventlog**に出力する"
   ]
  },
  {
   "cell_type": "markdown",
   "metadata": {},
   "source": [
    "### 5-4-2　logging_collector"
   ]
  },
  {
   "cell_type": "markdown",
   "metadata": {},
   "source": [
    "サーバログをファイルに書き込む（リダイレクト）するかの設定を行う。<br>\n",
    "\n",
    "・デフォルト：off<br>\n",
    "・設定反映のタイミング：起動\n",
    "\n",
    "ログは必ず残すように、onにすることが重要。"
   ]
  },
  {
   "cell_type": "markdown",
   "metadata": {},
   "source": [
    "### 5-4-3　log_directory"
   ]
  },
  {
   "cell_type": "markdown",
   "metadata": {},
   "source": [
    "ログファイルを格納するディレクトリを設定する。\n",
    "\n",
    "・デフォルト：log($PGDATA/log）<br>\n",
    "・設定反映のタイミング：再読み込み\n",
    "\n",
    "絶対パス、もしくは$PGDATAディレクトリに対する相対パスで指定すること。"
   ]
  },
  {
   "cell_type": "markdown",
   "metadata": {},
   "source": [
    "### 5-4-4　log_filename"
   ]
  },
  {
   "cell_type": "markdown",
   "metadata": {},
   "source": [
    "ログファイルの名前を設定する。\n",
    "\n",
    "・デフォルト：postgresql-%Y-%m-%d_%H%M%S.log（日時の情報が組み込まれる）<br>\n",
    "・設定反映のタイミング：再読み込み"
   ]
  },
  {
   "cell_type": "markdown",
   "metadata": {},
   "source": [
    "### 5-4-5　log_min_messages"
   ]
  },
  {
   "cell_type": "markdown",
   "metadata": {},
   "source": [
    "どのレベル（ログレベル）のメッセージをサーバログに出力するかを設定する。\n",
    "\n",
    "・デフォルト：WARNING（設定したレベル以上のものだけが出力される）<br>\n",
    "・設定反映のタイミング：スーパーユーザのみ\n",
    "\n",
    "ログレベルは、以下の5つがある。\n",
    "\n",
    "・PANIC：致命的なエラーで、すべてのセッションが強制的に切断され、PostgreSQLは停止する<br>\n",
    "・FATEL：特定のセッションで問題が起きたことを示し、そのセッションだけ切断される<br>\n",
    "・LOG：データベースの管理者が着目すべきPostgreSQLの動作ログを意味する<br>\n",
    "・ERROR：特定のトランザクションで問題が起きたことを示し、そのトランザクションだけがアボートされる<br>\n",
    "・WARNING：想定外の動作に対する警告メッセージを意味する"
   ]
  },
  {
   "cell_type": "markdown",
   "metadata": {},
   "source": [
    "### 5-4-6　log_line_prefix"
   ]
  },
  {
   "cell_type": "markdown",
   "metadata": {},
   "source": [
    "サーバログの行頭に出力する内容を設定する。\n",
    "\n",
    "・デフォルト：%m[%p]<br>\n",
    "・設定反映のタイミング：再読み込み\n",
    "\n",
    "%文字は、以下の6つがある。\n",
    "\n",
    "・%u：データベースユーザ名<br>\n",
    "・%d：データベース名<br>\n",
    "・%p：プロセスID<br>\n",
    "・%t：タイムスタンプ<br>\n",
    "・%m：ミリ秒付きタイムスタンプ<br>\n",
    "・%%：%の文字そのもの"
   ]
  },
  {
   "cell_type": "code",
   "execution_count": null,
   "metadata": {},
   "outputs": [],
   "source": [
    "# ログメッセージの先頭に、次のように時刻とプロセスIDが出力される\n",
    "log_line_prefix = '%t[%p]'"
   ]
  },
  {
   "cell_type": "markdown",
   "metadata": {},
   "source": [
    "## 5-5　SET文／SHOW文の使い方"
   ]
  },
  {
   "cell_type": "markdown",
   "metadata": {},
   "source": [
    "### 5-5-1　SET文"
   ]
  },
  {
   "cell_type": "markdown",
   "metadata": {},
   "source": [
    "SETは、PostgreSQLの起動中にパラメータの設定値を変更することができる。<br>\n",
    "ただし変更できるのは、設定反映のタイミングが「スーパーユーザのみ」もしくは「いつでも」などの**一部のパラメータ**である。"
   ]
  },
  {
   "cell_type": "markdown",
   "metadata": {},
   "source": [
    "### 5-5-2　SHOW文"
   ]
  },
  {
   "cell_type": "markdown",
   "metadata": {},
   "source": [
    "SHOW文は、パラメータの設定値を表示する。"
   ]
  },
  {
   "cell_type": "code",
   "execution_count": null,
   "metadata": {},
   "outputs": [],
   "source": [
    "psql\n",
    "\n",
    "# 現在の設定値を確認\n",
    "SHOW search_path;\n",
    "\n",
    "-----\n",
    "\"$user\", public\n",
    "\n",
    "# 新しいスキーマを作成\n",
    "CREATE SCHEMA exam_schema;\n",
    "\n",
    "# SET文でスキーマをsearch_pathに登録\n",
    "SET search_path TO 'exam_schema';\n",
    "\n",
    "# 設定変更が反映されていることを確認する\n",
    "SHOW search_path;\n",
    "\n",
    "-----\n",
    "exam_schema"
   ]
  },
  {
   "cell_type": "markdown",
   "metadata": {},
   "source": [
    "## 5-6　pg_hba.conf"
   ]
  },
  {
   "cell_type": "markdown",
   "metadata": {},
   "source": [
    "クライアント認証を設定するファイルである。\n",
    "\n",
    "・1行に1つずつ設定する<br>\n",
    "・クライアント認証は、**複数フィールド**で構成され、それらは少なくとも**1つのタブもしくは空白**で区切られている必要がある<br>・フィールド内に空白を含めるときは、設定値を**ダブルクォート（''）**で囲む<br>\n",
    "・設定の反映タイミングは**再読み込み**である（PostgreSQLの起動 or pg_ctl_reloadによる再読み込み）\n",
    "\n",
    "接続方式には、以下の2つがある。\n",
    "\n",
    "・local：**UNIXドメイン接続**に対応する（CDIRアドレス、もしくはIPアドレスとネットマスクを設定する必要がある）<br>\n",
    "・host：**TCP/IP接続**に対応する\n",
    "\n",
    "認証方式には、以下の5つがある。\n",
    "\n",
    "・trust：接続を常に許可する<br>\n",
    "・reject：接続を常に拒否する<br>\n",
    "・md5：接続に対して、**MD5で暗号化されたパスワードの認証**を行う<br>\n",
    "・scram-sha-256：接続に対して、**md5より堅牢なパスワードの認証**を行う<br>\n",
    "・password：接続に対して、**平文のパスワードの認証**を行う"
   ]
  },
  {
   "cell_type": "code",
   "execution_count": null,
   "metadata": {},
   "outputs": [],
   "source": [
    "# UNIXドメインを使った全ての接続を許可する（pg_hba.confのデフォルト設定）\n",
    "local all all trust\n",
    "\n",
    "# ループバックアドレス（127.0.0.1）からの全ての情報を許可する（pg_hba.confのデフォルト設定）\n",
    "host all all 127.0.0.1/32 trust\n",
    "\n",
    "# ホスト（192.168.16.8）から、データベースユーザ（user1）がデータベース（examdb）にTCP/IPで接続するのを拒否する\n",
    "host examdb user1 192.168.16.8/32 reject\n",
    "\n",
    "# ホスト192.168.16.1～192.168.16.254（サブネットアドレス192.168.16.0）上の全てのデータベースユーザについて\n",
    "# データベース（examdb）に接続するときに、パスワードを認証する\n",
    "# パスワード認証が成功したときだけ、接続は許可される\n",
    "host examdb all 192.168.16.0/24 md5\n",
    "\n",
    "# 上記と同じ設定だが、CIDR形式の代わりに、IPアドレスとネットマスクでサブネットアドレスを指定している\n",
    "host examdb all 192.18.16.0  255.255.255.0 md5"
   ]
  },
  {
   "cell_type": "markdown",
   "metadata": {},
   "source": [
    "尚、pg_hba.confでは、一致する行のうち、よりファイルの先頭にあるものが評価されるため<br>\n",
    "上記では3番目の設定に従って、その接続は拒否される。\n",
    "\n",
    "・CIDRアドレス：192.168.16.0/24<br>\n",
    "・IPアドレスとネットマスク：192.18.16.0 　255.255.255.0\n",
    "\n",
    "以下は、CIDRアドレス（接続方式がhostの場合のみ有効）の設定例である。\n",
    "\n",
    "・192.168.100.0/24 → サブネットアドレスは192.168.100**.0** → IPアドレスは192.168.100.1～192.168.100.254が一致\n",
    "\n",
    "CIDRアドレスには、以下のような設定方法がある。\n",
    "\n",
    "・全てのIPアドレスに一致させたい場合：0.0.0.0/0<br>\n",
    "・1つのIPアドレスのみに一致させたい場合：192.18.100.99**/32**（マスク長を**32**にする）"
   ]
  }
 ],
 "metadata": {
  "kernelspec": {
   "display_name": "Python 3",
   "language": "python",
   "name": "python3"
  },
  "language_info": {
   "codemirror_mode": {
    "name": "ipython",
    "version": 3
   },
   "file_extension": ".py",
   "mimetype": "text/x-python",
   "name": "python",
   "nbconvert_exporter": "python",
   "pygments_lexer": "ipython3",
   "version": "3.7.6"
  }
 },
 "nbformat": 4,
 "nbformat_minor": 4
}
