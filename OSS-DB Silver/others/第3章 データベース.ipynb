{
 "cells": [
  {
   "cell_type": "markdown",
   "metadata": {},
   "source": [
    "# 第3章　データベース"
   ]
  },
  {
   "cell_type": "markdown",
   "metadata": {},
   "source": [
    "## 3-2　データベースクラスタ"
   ]
  },
  {
   "cell_type": "markdown",
   "metadata": {},
   "source": [
    "・サーバマシンとデータベースクラスタ：**1 対 多**<br>\n",
    "・データベースクラスタとPostgreSQLサーバ：**1 対 1**"
   ]
  },
  {
   "cell_type": "markdown",
   "metadata": {},
   "source": [
    "## 3-3　データベース"
   ]
  },
  {
   "cell_type": "code",
   "execution_count": null,
   "metadata": {},
   "outputs": [],
   "source": [
    "psql\n",
    "select oid, datname from pg_database;"
   ]
  },
  {
   "cell_type": "markdown",
   "metadata": {},
   "source": [
    "## 3-4　テンプレートデータベース"
   ]
  },
  {
   "cell_type": "markdown",
   "metadata": {},
   "source": [
    "template1：**デフォルトで参照**されるテンプレート<br>\n",
    "template0：データベースクラスタ作成直後のtemplate1と同じ内容のテンプレート"
   ]
  },
  {
   "cell_type": "markdown",
   "metadata": {},
   "source": [
    "## 3-5　initdb"
   ]
  },
  {
   "cell_type": "markdown",
   "metadata": {},
   "source": [
    "initdbの実行：root以外のOSユーザで行う<br>\n",
    "PostgreSQLの**管理ユーザ**：データベースクラスタを作成したOSユーザとなる<br>\n",
    "初期ユーザ：（PostgreSQLの）管理ユーザと同じ名前のデータベースユーザで作成される\n",
    "\n",
    "アルファベット1文字なら「-」、英単語であれば「--」で前につく。"
   ]
  },
  {
   "cell_type": "code",
   "execution_count": null,
   "metadata": {},
   "outputs": [],
   "source": [
    "initdb --encoding=UTF8 --no-locale/home/postgres/data"
   ]
  },
  {
   "cell_type": "code",
   "execution_count": null,
   "metadata": {},
   "outputs": [],
   "source": [
    "su -\n",
    "\n",
    "# rootユーザでディレクトリを作成\n",
    "mkdir /pgdata\n",
    "\n",
    "# rootユーザからinitdbの実行ユーザ（postgres）へ所有者を変更\n",
    "chown postgres:postgres /pgdata\n",
    "\n",
    "exit\n",
    "\n",
    "# postgresユーザでデータベースクラスタを作成\n",
    "initdb --encoding=EUC_JP --locale=C /pgdata"
   ]
  },
  {
   "cell_type": "code",
   "execution_count": null,
   "metadata": {},
   "outputs": [],
   "source": [
    "# ディレクトリへのアクセス権（postgresユーザが持っているか）を確認\n",
    "ls -ld /pgdata"
   ]
  },
  {
   "cell_type": "markdown",
   "metadata": {},
   "source": [
    "initdbでデータベースクラスタを作成しようとしているディレクトリに<br>\n",
    "別のデータベースクラスタが存在する場合、initdbは実行されない。"
   ]
  },
  {
   "cell_type": "markdown",
   "metadata": {},
   "source": [
    "### 3-5-1　ロケール"
   ]
  },
  {
   "cell_type": "markdown",
   "metadata": {},
   "source": [
    "ロケールとは、文字の並び順、文字の分類、ログメッセージの言語、通貨や数字、日時の書式などを指定するものである。\n",
    "\n",
    "ただしロケールを設定すると、データベースの検索性能が低くなるなどの問題が発生する場合があるため<br>\n",
    "普段からロケールは無効にしておくことが推奨されている。\n",
    "\n",
    "尚、未指定の場合はOSのロケールが使用される。"
   ]
  },
  {
   "cell_type": "markdown",
   "metadata": {},
   "source": [
    "### 3-5-2　エンコーディング"
   ]
  },
  {
   "cell_type": "markdown",
   "metadata": {},
   "source": [
    "エンコーディングとは、文字をバイト列で表現するときのルールである。\n",
    "\n",
    "データベースエンコーディングに**SJIS**は使用不可となっている。<br>\n",
    "また、データベースエンコーディング（データベース側）とクライアントエンコーディング（個人など）を一致させる必要はない。"
   ]
  }
 ],
 "metadata": {
  "kernelspec": {
   "display_name": "Python 3",
   "language": "python",
   "name": "python3"
  },
  "language_info": {
   "codemirror_mode": {
    "name": "ipython",
    "version": 3
   },
   "file_extension": ".py",
   "mimetype": "text/x-python",
   "name": "python",
   "nbconvert_exporter": "python",
   "pygments_lexer": "ipython3",
   "version": "3.7.6"
  }
 },
 "nbformat": 4,
 "nbformat_minor": 4
}
