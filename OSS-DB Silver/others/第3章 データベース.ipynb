{
 "cells": [
  {
   "cell_type": "markdown",
   "metadata": {},
   "source": [
    "# 第3章　データベース"
   ]
  },
  {
   "cell_type": "markdown",
   "metadata": {},
   "source": [
    "## 3-2　データベースクラスタ"
   ]
  },
  {
   "cell_type": "markdown",
   "metadata": {},
   "source": [
    "・サーバマシンとデータベースクラスタ：**1 対 多**<br>\n",
    "・データベースクラスタとPostgreSQLサーバ：**1 対 1**\n",
    "\n",
    "・ソースコードからPostgreSQLをインストールした場合、デフォルトではデータベースクラスタは作成されない<br>\n",
    "・テンプレートデータベースは、データベースクラスタ内に作成される"
   ]
  },
  {
   "cell_type": "markdown",
   "metadata": {},
   "source": [
    "## 3-3　データベース"
   ]
  },
  {
   "cell_type": "code",
   "execution_count": null,
   "metadata": {},
   "outputs": [],
   "source": [
    "psql\n",
    "select oid, datname from pg_database;"
   ]
  },
  {
   "cell_type": "markdown",
   "metadata": {},
   "source": [
    "## 3-4　テンプレートデータベース"
   ]
  },
  {
   "cell_type": "markdown",
   "metadata": {},
   "source": [
    "・template1：**デフォルトで参照**されるテンプレート<br>\n",
    "・template0：データベースクラスタ作成直後のtemplate1と同じ内容のテンプレート\n",
    "\n",
    "※標準付属ツールは、デフォルトの接続先として**postgres**を使用する"
   ]
  },
  {
   "cell_type": "markdown",
   "metadata": {},
   "source": [
    "## 3-5　initdb"
   ]
  },
  {
   "cell_type": "markdown",
   "metadata": {},
   "source": [
    "・initdbを実行するユーザ：root以外の**OSユーザ**で行う<br>\n",
    "・PostgreSQLの**管理ユーザ**：データベースクラスタを作成したOSユーザとなる<br>\n",
    "・初期ユーザ：（PostgreSQLの）**管理ユーザと同じ名前のデータベースユーザ**で作成される<br>\n",
    "\n",
    "補足事項は、以下の通りである。\n",
    "\n",
    "・データベースクラスタを作成しようとしているディレクトリに別のデータベースクラスタが存在する場合、initdbは実行されない\n",
    "\n",
    "initdbコマンドのオプションは、下記の通りである。\n",
    "\n",
    "・-D、--pgdata=ディレクトリ名：データベースクラスタを作成するディレクトリを指定する（未指定：環境変数PGDATA）<br>\n",
    "・-E、---encoding=エンコーディング：エンコーディングを指定する（未指定：OSのロケールから自動的にエンコーディングを決定）<br>\n",
    "・--locale=ロケール名：ロケールを指定する（未指定：OSのロケールが使われる）<br>\n",
    "・--no-locale：ロケールを無効にする（--locale=Cと同じ意味）<br>\n",
    "・-U、--username=ユーザ名：作成するデータベースの**スーパーユーザ**の名前を指定する（未指定：**PostgreSQLの管理ユーザ**）\n",
    "\n",
    "※アルファベット1文字なら「-」、英単語であれば「--」で前につく。"
   ]
  },
  {
   "cell_type": "code",
   "execution_count": null,
   "metadata": {},
   "outputs": [],
   "source": [
    "initdb --encoding=UTF8 --no-locale/home/postgres/data"
   ]
  },
  {
   "cell_type": "code",
   "execution_count": null,
   "metadata": {},
   "outputs": [],
   "source": [
    "su -\n",
    "\n",
    "# rootユーザでディレクトリを作成\n",
    "mkdir /pgdata\n",
    "\n",
    "# rootユーザからinitdbの実行ユーザ（postgres）へ所有者を変更\n",
    "chown postgres:postgres /pgdata\n",
    "\n",
    "exit\n",
    "\n",
    "# postgresユーザでデータベースクラスタを作成\n",
    "initdb --encoding=EUC_JP --locale=C /pgdata"
   ]
  },
  {
   "cell_type": "code",
   "execution_count": null,
   "metadata": {},
   "outputs": [],
   "source": [
    "# ディレクトリへのアクセス権（postgresユーザが持っているか）を確認\n",
    "ls -ld /pgdata"
   ]
  },
  {
   "cell_type": "markdown",
   "metadata": {},
   "source": [
    "### 3-5-1　ロケール"
   ]
  },
  {
   "cell_type": "markdown",
   "metadata": {},
   "source": [
    "・ロケール：**文字の並び順、文字の分類、ログメッセージの言語、通貨や数字、日時の書式**などを指定するもの\n",
    "\n",
    "補足事項は、以下の通りである。\n",
    "\n",
    "・データベースの検索性能が低下するのを防ぐため、普段から**ロケールは無効**にしておくことが推奨されている"
   ]
  },
  {
   "cell_type": "markdown",
   "metadata": {},
   "source": [
    "### 3-5-2　エンコーディング"
   ]
  },
  {
   "cell_type": "markdown",
   "metadata": {},
   "source": [
    "・エンコーディング：**文字をバイト列で表現するときのルール**\n",
    "\n",
    "補足事項は、以下の通りである。\n",
    "\n",
    "・データベースエンコーディングでは、**SJIS**が使用不可<br>\n",
    "・データベースエンコーディング（データベース側）とクライアントエンコーディング（個人側）を一致させる必要はない<br>\n",
    "・日本語を使用する場合、**データベースエンコーディング**に**EUC_JP**もしくは**UTF8**を指定する必要がある（ロケールの指定は不要）"
   ]
  }
 ],
 "metadata": {
  "kernelspec": {
   "display_name": "Python 3",
   "language": "python",
   "name": "python3"
  },
  "language_info": {
   "codemirror_mode": {
    "name": "ipython",
    "version": 3
   },
   "file_extension": ".py",
   "mimetype": "text/x-python",
   "name": "python",
   "nbconvert_exporter": "python",
   "pygments_lexer": "ipython3",
   "version": "3.7.6"
  }
 },
 "nbformat": 4,
 "nbformat_minor": 4
}
