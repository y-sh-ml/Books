{
 "cells": [
  {
   "cell_type": "markdown",
   "metadata": {},
   "source": [
    "# 第2章　データベースの基礎知識"
   ]
  },
  {
   "cell_type": "markdown",
   "metadata": {},
   "source": [
    "## 2-1　データベースマネジメントシステム"
   ]
  },
  {
   "cell_type": "markdown",
   "metadata": {},
   "source": [
    "・データベースマネジメントシステム（DBMS）：**アプリケーションとデータベースの間に立って**、データを一元管理するもの"
   ]
  },
  {
   "cell_type": "markdown",
   "metadata": {},
   "source": [
    "### 2-1-1　データベースマネジメントシステムの機能"
   ]
  },
  {
   "cell_type": "markdown",
   "metadata": {},
   "source": [
    "・データの機密保護を実現<br>\n",
    "・トランザクションの制御<br>\n",
    "・データの整合性を維持<br>\n",
    "・障害からの安全な復旧<br>\n",
    "・アプリケーションプログラムのためのインターフェイスを提供"
   ]
  },
  {
   "cell_type": "markdown",
   "metadata": {},
   "source": [
    "## 2-2　データモデル"
   ]
  },
  {
   "cell_type": "markdown",
   "metadata": {},
   "source": [
    "・対象世界：データベースを構築する範囲<br>\n",
    "・データモデル：対象世界を抽象化したもの<br>\n",
    "・データモデリング：データモデルを作成すること\n",
    "\n",
    "データモデリングの流れは、以下の通りである。\n",
    "\n",
    "・**対象世界** → **概念データモデル**（対象世界を抽象化したもの） → **論理データモデル**（データベースとして実装可能にしたもの）"
   ]
  },
  {
   "cell_type": "markdown",
   "metadata": {},
   "source": [
    "### 2-2-1　概念データモデル"
   ]
  },
  {
   "cell_type": "markdown",
   "metadata": {},
   "source": [
    "・概念データモデル：対象世界を抽象化して（まとめて）、対象世界のデータを概念的に捉えた結果を表現したもの<br>\n",
    "・**ERモデル**：概念データモデルの作成において、よく用いられるもの\n",
    "\n",
    "ERモデルの特徴は、以下の通りである。\n",
    "\n",
    "・**Entity（実体）**と**Relationship（関連）**によってモデルを作成する<br>\n",
    "・カーディナリティにより、1件のデータが、何件のデータに対応するかを表示する\n",
    "\n",
    "・Entity：管理対象とするデータの集合体<br>\n",
    "・Relationship：Entry間のつながり<br>\n",
    "・**カーディナリティ**：Entity間における関係の多重度（1対多 など）"
   ]
  },
  {
   "cell_type": "markdown",
   "metadata": {},
   "source": [
    "### 2-2-2　論理データモデル"
   ]
  },
  {
   "cell_type": "markdown",
   "metadata": {},
   "source": [
    "・論理データモデル：データとデータ間の関係を論理的に表現したもの（そのままデータベースとして実装可能なデータモデル）\n",
    "\n",
    "論理データモデルには、以下の3種類がある。\n",
    "\n",
    "・**階層モデル**：1つの親レコードに複数の子レコードが関連付けられたもの<br>\n",
    "・**ネットワークモデル**：1つの親レコードに複数の子レコードが関連付けられ、1つの子レコードにも複数の親レコードが関連付けられたもの<br>\n",
    "・**関係モデル**：関係（リレーション）と呼ばれる表構造でデータを表現する\n",
    "\n",
    "関係モデルは、以下の要素で構成されている。\n",
    "\n",
    "・**タプル**：行、組、ロー（row）<br>\n",
    "・**アトリビュート**：列、属性、カラム（columns）<br>\n",
    "・**定義域**：ドメイン、取りうる値の範囲<br>\n",
    "・**基数**：行の数<br>\n",
    "・**次数**：列の数<br>"
   ]
  },
  {
   "cell_type": "markdown",
   "metadata": {},
   "source": [
    "## 2-3　SQLの基礎"
   ]
  },
  {
   "cell_type": "markdown",
   "metadata": {},
   "source": [
    "・クエリ（Query）：データベースマネジメントシステムを操作するための命令"
   ]
  },
  {
   "cell_type": "markdown",
   "metadata": {},
   "source": [
    "### 2-3-1　SQLの規格"
   ]
  },
  {
   "cell_type": "markdown",
   "metadata": {},
   "source": [
    "下記の2つで、標準化が推進されている。\n",
    "\n",
    "・ANSI（American National Standards Institute）：米国国家規格協会<br>\n",
    "・ISO（International Standards Organization）：国際標準化機構"
   ]
  },
  {
   "cell_type": "markdown",
   "metadata": {},
   "source": [
    "### 2-3-2　SQLの分類"
   ]
  },
  {
   "cell_type": "markdown",
   "metadata": {},
   "source": [
    "・DDL（Data **Definition** Language）：データ**定義**言語（CREATE、ALTER、DROP）<br>\n",
    "・DML（Data **Manipulation** Language）：データ**操作**言語（SELECT、INSERT、UPDATE、DELETE）<br>\n",
    "・DCL（Data **Control** Language）：データ**制御**言語（GRANT、REVOKE、COMMIT、ROLLBACK）"
   ]
  },
  {
   "cell_type": "markdown",
   "metadata": {},
   "source": [
    "## 2-5　正規化"
   ]
  },
  {
   "cell_type": "markdown",
   "metadata": {},
   "source": [
    "### 2-5-2　候補キーと主キー"
   ]
  },
  {
   "cell_type": "markdown",
   "metadata": {},
   "source": [
    "・候補キー：データを1行に絞り込める列または列の組み合わせ<br>\n",
    "・主キー：候補キーの中から1つ選択され、NULLを含めることができないもの<br>\n",
    "・非キー属性：候補キーでも主キーでもない属性（列）"
   ]
  },
  {
   "cell_type": "markdown",
   "metadata": {},
   "source": [
    "### 2-5-4　関数従属"
   ]
  },
  {
   "cell_type": "markdown",
   "metadata": {},
   "source": [
    "・関数従属：ある値Xが決まればYも決まる関係（X→Y）<br>\n",
    "・部分関数従属：ある値Xが$x_1, x_2$で構成されているとき、$x_1, x_2$のどちらか**片方だけ**でもyが決まる関係<br>\n",
    "・完全関数従属：ある値Xが$x_1, x_2$で構成されているとき、$x_1, x_2$の**両方**が揃ってはじめてyが決まる関係<br>"
   ]
  },
  {
   "cell_type": "markdown",
   "metadata": {},
   "source": [
    "### 2-5-6　第一正規形"
   ]
  },
  {
   "cell_type": "markdown",
   "metadata": {},
   "source": [
    "・第一正規形：繰り返し項目や複数の値を持つ列が存在しない状態"
   ]
  },
  {
   "cell_type": "markdown",
   "metadata": {},
   "source": [
    "### 2-5-7　第二正規形"
   ]
  },
  {
   "cell_type": "markdown",
   "metadata": {},
   "source": [
    "・第二正規形：候補キーが$x_1, x_2$で構成されているとき、$x_1, x_2$のどちらか片方だけでも決まる列を第一正規形から排除した状態"
   ]
  },
  {
   "cell_type": "markdown",
   "metadata": {},
   "source": [
    "### 2-5-8　第三正規形"
   ]
  },
  {
   "cell_type": "markdown",
   "metadata": {},
   "source": [
    "・推移関数従属：Y→Xでないとき、X→YとY→Zのように**Xが決まると間接的にZが決まる（X→Z）**関係<br>\n",
    "・第三正規形：第二正規形から推移関数従属を排除した状態"
   ]
  },
  {
   "cell_type": "markdown",
   "metadata": {},
   "source": [
    "### 2-5-9　ボイスコッド正規形"
   ]
  },
  {
   "cell_type": "markdown",
   "metadata": {},
   "source": [
    "・ボイスコッド正規形：候補キーが複数あるとき、どれかを選択して残りを非キー属性とし、部分関数従属するものを排除した状態"
   ]
  }
 ],
 "metadata": {
  "kernelspec": {
   "display_name": "Python 3",
   "language": "python",
   "name": "python3"
  },
  "language_info": {
   "codemirror_mode": {
    "name": "ipython",
    "version": 3
   },
   "file_extension": ".py",
   "mimetype": "text/x-python",
   "name": "python",
   "nbconvert_exporter": "python",
   "pygments_lexer": "ipython3",
   "version": "3.7.6"
  }
 },
 "nbformat": 4,
 "nbformat_minor": 4
}
