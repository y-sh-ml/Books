{
 "cells": [
  {
   "cell_type": "markdown",
   "metadata": {},
   "source": [
    "# 第6章　バックアップとリストア"
   ]
  },
  {
   "cell_type": "markdown",
   "metadata": {},
   "source": [
    "## 6-1　pg_dump、pg_dumpall、pg_restore"
   ]
  },
  {
   "cell_type": "markdown",
   "metadata": {},
   "source": [
    "バックアップには、2通りの方法がある。\n",
    "\n",
    "平文形式：pg_dump、pg_dumpall（リストアは、psqlコマンド）<br>\n",
    "平文形式以外：pg_dump（リストアは、pg_restore）"
   ]
  },
  {
   "cell_type": "markdown",
   "metadata": {},
   "source": [
    "### 6-1-1　pg_dump、pg_dumpallによるバックアップ"
   ]
  },
  {
   "cell_type": "markdown",
   "metadata": {},
   "source": [
    "オプションは以下の4つとなる。\n",
    "\n",
    "-Fp：出力形式（Format）として**平文（plain）**を指定する、-Fの指定がない場合のデフォルト<br>\n",
    "-Fc：出力形式（Format）として**カスタム形式（custom）**を指定する<br>\n",
    "-Ft：出力形式（Format）として**tar形式（tar）**を指定する<br>\n",
    "-f：バックアップ先のファイル名を指定する、省略した場合は標準出力となる"
   ]
  },
  {
   "cell_type": "code",
   "execution_count": null,
   "metadata": {},
   "outputs": [],
   "source": [
    "# データベース（examdb）のバックアップを標準出力を出力\n",
    "pg_dump examdb"
   ]
  },
  {
   "cell_type": "code",
   "execution_count": null,
   "metadata": {},
   "outputs": [],
   "source": [
    "# カスタム形式で、バックアップをファイル（examdb.dump）に出力\n",
    "pg_dump -Fc examdb -f examdb.dump"
   ]
  },
  {
   "cell_type": "code",
   "execution_count": null,
   "metadata": {},
   "outputs": [],
   "source": [
    "# -fを省略し、標準出力のリダイレクトを行う\n",
    "pg_dump -Fc examdb < examdb.dump"
   ]
  },
  {
   "cell_type": "markdown",
   "metadata": {},
   "source": [
    "データベース全体に対するバックアップは、pg_dumpallを使用すれば良い。"
   ]
  },
  {
   "cell_type": "code",
   "execution_count": null,
   "metadata": {},
   "outputs": [],
   "source": [
    "pg_dumpall -f db.sql"
   ]
  },
  {
   "cell_type": "markdown",
   "metadata": {},
   "source": [
    "### 6-1-2　psqlコマンドを使った、平文形式のリストア"
   ]
  },
  {
   "cell_type": "code",
   "execution_count": null,
   "metadata": {},
   "outputs": [],
   "source": [
    "# バックアップファイル（db.sql）をリストア（復元・展開）する\n",
    "psql -f db.sql"
   ]
  },
  {
   "cell_type": "markdown",
   "metadata": {},
   "source": [
    "### 6-1-3　pg_restoreを使った平文形式意外のリストア"
   ]
  },
  {
   "cell_type": "markdown",
   "metadata": {},
   "source": [
    "-d：リストア先のデータベース名を指定する"
   ]
  },
  {
   "cell_type": "code",
   "execution_count": null,
   "metadata": {},
   "outputs": [],
   "source": [
    "# カスタム形式のバックアップファイル（exam.dump）からリストアする\n",
    "pg_restore -d examdb examdb.dump"
   ]
  },
  {
   "cell_type": "code",
   "execution_count": null,
   "metadata": {},
   "outputs": [],
   "source": [
    "# -dオプションでデータベース名を指定しなかった場合は、平文形式のSQLコマンドが標準出力に出力される\n",
    "pg_restore examdb.dump"
   ]
  },
  {
   "cell_type": "markdown",
   "metadata": {},
   "source": [
    "### 6-1-4　バックアップファイル＆リストアの組み合わせの例"
   ]
  },
  {
   "cell_type": "markdown",
   "metadata": {},
   "source": [
    "#### 平文でのバックアップ＆リストアの例"
   ]
  },
  {
   "cell_type": "code",
   "execution_count": null,
   "metadata": {},
   "outputs": [],
   "source": [
    "# examdbをファイル名（examdb.sql）でバックアップ\n",
    "pg_dump -f examdb.sql examdb\n",
    "\n",
    "dropdb examdb\n",
    "createdb examdb\n",
    "\n",
    "# データベース（examdb）にファイル（examdb.sql）を復元する\n",
    "psql -f examdb.sql examdb"
   ]
  },
  {
   "cell_type": "markdown",
   "metadata": {},
   "source": [
    "#### カスタム形式でのバックアップ＆リストアの例"
   ]
  },
  {
   "cell_type": "code",
   "execution_count": null,
   "metadata": {},
   "outputs": [],
   "source": [
    "# カスタム形式でexamdbをファイル名（examdb.dump）でバックアップ\n",
    "pg_dump -Fc examdb -f examdb.dump\n",
    "\n",
    "dropdb examdb\n",
    "createdb examdb\n",
    "\n",
    "# examdb.dumpをデータベース（examdb）に展開する\n",
    "pg_restore -d examdb examdb.dump"
   ]
  },
  {
   "cell_type": "markdown",
   "metadata": {},
   "source": [
    "**psql**は**-f**でファイル名を指定し、**pg_restore**は**-d**でデータベース名を指定する。"
   ]
  },
  {
   "cell_type": "markdown",
   "metadata": {},
   "source": [
    "## 6-2　ディレクトコピーによるバックアップ＆リストア"
   ]
  },
  {
   "cell_type": "markdown",
   "metadata": {},
   "source": [
    "サーバーを停止した状態でデータベースクラスタをバックアップ・リストアする方法もある。<br>\n",
    "これは、物理的なディレクトリ全体をコピーするバックアップ方法である。\n",
    "\n",
    "バックアップにも、下記のような種類がある。\n",
    "\n",
    "・物理バックアップ：データベース上のテーブル構造やデータとは無関係に取得するバックアップ<br>\n",
    "・論理バックアップ：テーブル構造やデータを意識したバックアップ\n",
    "\n",
    "・オンラインバックアップ（ホットバックアップ）：データベースの稼働中に実行するバックアップ<br>\n",
    "・オフラインバックアップ（コールドバックアップ）：データベースを停止させて実行するバックアップ\n",
    "\n",
    "例"
   ]
  },
  {
   "cell_type": "code",
   "execution_count": null,
   "metadata": {},
   "outputs": [],
   "source": [
    "# PostgreSQLを停止させる\n",
    "pg_ctl stop\n",
    "\n",
    "# ディレクトリのコピーにtarコマンドを使用し、backup.tarファイルにバックアップを取得する\n",
    "cd $PGDATA/..\n",
    "tar cvf backup.tar data"
   ]
  },
  {
   "cell_type": "markdown",
   "metadata": {},
   "source": [
    "例"
   ]
  },
  {
   "cell_type": "code",
   "execution_count": null,
   "metadata": {},
   "outputs": [],
   "source": [
    "pg_ctl status\n",
    "---\n",
    "no sever running\n",
    "\n",
    "cd /home/postgres\n",
    "ls\n",
    "---\n",
    "backup.tar\n",
    "\n",
    "# tarコマンドで、物理的にバックアップしたファイル（backup.tar）からリストアする\n",
    "tar xvf backup.tar\n",
    "ls\n",
    "---\n",
    "backup.tar data\n",
    "\n",
    "pg_ctl start\n",
    "---\n",
    "server starting"
   ]
  },
  {
   "cell_type": "markdown",
   "metadata": {},
   "source": [
    "## 6-3　PITR（point In Time Recovery）"
   ]
  },
  {
   "cell_type": "markdown",
   "metadata": {},
   "source": [
    "### 6-3-1　PITRの概要"
   ]
  },
  {
   "cell_type": "markdown",
   "metadata": {},
   "source": [
    "PITRでは、下記が取得される。\n",
    "\n",
    "・ベースバックアップ：ある時点でのデータベース全体のバックアップ<br>\n",
    "・WALファイル：最新のログ<br>\n",
    "・WALアーカイブ：古くなったログ<br>\n",
    "\n",
    "これらをまとめると、下記のようになる。\n",
    "\n",
    "・バックアップ＝ベースバックアップ＋WALファイル（最新のログ）＋WALアーカイブ（古くなったログ）\n",
    "\n",
    "WALファイルがいっぱいになると、古いものから順にWALアーカイブとして別の場所に保管される。\n",
    "\n",
    "・**ロールフォワードリカバリ**：ベースバックアップをもとに、WALアーカイブ＋WALファイルを用いて最新の状態にリカバリする方法\n",
    "\n",
    "バックアップ＆リカバリの流れは、下記となる。\n",
    "\n",
    "①前準備／設定：WALアーカイブの準備、postgres.confの設定<br>\n",
    "②ベースバックアップ：pg_start_backup()とpg_stop_backup()<br>\n",
    "③リカバリ：ベースバックアップのリストア→未アーカイブのWALファイルをコピー→recovery.confの設定、PostgreSQLの起動"
   ]
  },
  {
   "cell_type": "markdown",
   "metadata": {},
   "source": [
    "### 6-3-2　PITRによるバックアップの前準備／設定"
   ]
  },
  {
   "cell_type": "markdown",
   "metadata": {},
   "source": [
    "ベースバックアップを行うための準備をする。\n",
    "\n",
    "postgres.confファイルに設定する主なパラメータは、以下となる。\n",
    "\n",
    "・wal_level：WALに書き込まれる情報の度合い、デフォルト値はreplica、推奨はreplica、logical（minimalは使用しない）<br>\n",
    "・archive_mode：WALアーカイブを有効にするかの指定、デフォルトはoff、PITR使用時はonにする<br>\n",
    "・archive_command：WALファイルをWALアーカイブとしてコピーするためのシェルコマンドを指定する\n",
    "\n",
    "例"
   ]
  },
  {
   "cell_type": "code",
   "execution_count": null,
   "metadata": {},
   "outputs": [],
   "source": [
    "# WALアーカイブを有効にする\n",
    "achive_mode = on\n",
    "\n",
    "# シェルコマンドを使用して、古いWALファイルをWALアーカイブにコピーする\n",
    "'cp %p /mnt/archivedir/%f'"
   ]
  },
  {
   "cell_type": "code",
   "execution_count": null,
   "metadata": {},
   "outputs": [],
   "source": [
    "# WALアーカイブを確認する\n",
    "ls /mnt/archivedir\n",
    "\n",
    "# WALファイルを見て、同じ内容がWALアーカイブにコピーされていることを確認する\n",
    "ls $PGDATA/pg_wal"
   ]
  },
  {
   "cell_type": "markdown",
   "metadata": {},
   "source": [
    "PostgreSQLの運用中に、WALファイルのデータが満杯になると、WALアーカイブへのコピーが自動で行われる。"
   ]
  },
  {
   "cell_type": "markdown",
   "metadata": {},
   "source": [
    "### 6-3-3　PITRによるベースバックアップ"
   ]
  },
  {
   "cell_type": "markdown",
   "metadata": {},
   "source": [
    "実際にベースバックアップの取得をしていく。\n",
    "\n",
    "尚、PITRで使用するベースバックアップを取得する際は、スーパーユーザで実行する必要がある。"
   ]
  },
  {
   "cell_type": "code",
   "execution_count": null,
   "metadata": {},
   "outputs": [],
   "source": [
    "cd $PGDATA/..\n",
    "\n",
    "# ラベル名（label）でバックアップの開始\n",
    "psql -c \"select pg_start_backup('label', true);\"\n",
    "\n",
    "# tarコマンドで、tar.gzにベースバックアップを保存\n",
    "tar czvf /mnt/backup.tar.gz.data\n",
    "\n",
    "# バックアップの終了\n",
    "psql -c \"seledt pg_stop_backup()\""
   ]
  },
  {
   "cell_type": "markdown",
   "metadata": {},
   "source": [
    "### 6-3-4　PITRによるリカバリの手順"
   ]
  },
  {
   "cell_type": "markdown",
   "metadata": {},
   "source": [
    "取得したベースバックを用いて、実際にリカバリ（復旧）をしていく。<br>\n",
    "これは、PostgreSQLが停止した状態で行わなければいけない。\n",
    "\n",
    "リストアとリカバリの違いは、以下の通りとなる。\n",
    "\n",
    "リストア：バックアップしたデータを用いて、そのまま復元すること<br>\n",
    "リカバリ：バックアップ後に何らかの処理（WALファイルを用いて更新 など）を行い、データを正常化・最新化すること"
   ]
  },
  {
   "cell_type": "markdown",
   "metadata": {},
   "source": [
    "#### ①ベースバックアップのリストア"
   ]
  },
  {
   "cell_type": "code",
   "execution_count": null,
   "metadata": {},
   "outputs": [],
   "source": [
    "cd $PGDATA/..\n",
    "\n",
    "# PostgreSQLの停止を確認\n",
    "pg_ctl_status\n",
    "---\n",
    "no server running\n",
    "\n",
    "# データベースクラスタを移動\n",
    "mv $PGDATA /mnt\n",
    "\n",
    "# 移動されていることを確認\n",
    "ls data\n",
    "\n",
    "# ベースバックアップを展開\n",
    "tar xzvf /mnt/backup.tar.gz"
   ]
  },
  {
   "cell_type": "markdown",
   "metadata": {},
   "source": [
    "#### ②未アーカイブのWALファイルをコピー"
   ]
  },
  {
   "cell_type": "markdown",
   "metadata": {},
   "source": [
    "WALアーカイブ（古いWAL）に加え、WALファイル（最新のWAL）も復元させるため、未アーカイブのWALファイルをコピーする。<br>\n",
    "ベースバックアップには、前回バックアップした古いWALファイルがあるので、これを削除しておく。\n",
    "\n",
    "・古いWALファイルを削除しない場合：現在のWALアーカイブ分のみが加わるので、その時点までの復元となる<br>\n",
    "・古いWALファイルを削除した場合：現在のWALアーカイブに加え、最新のWALファイルまで加わるので、直前の状態までの復元となる\n",
    "\n",
    "※教科書では、前者についてWALアーカイブの「最新」の状態と書いてあるが<br>\n",
    "　これはあくまでWALアーカイブ（古いWAL）の中で最も新しい状態であることに注意する"
   ]
  },
  {
   "cell_type": "code",
   "execution_count": null,
   "metadata": {},
   "outputs": [],
   "source": [
    "# WALアーカイブの一覧\n",
    "ls /mnt/arvhivedir\n",
    "\n",
    "rm -rf $PGDATA/pg_wal\n",
    "\n",
    "# 未アーカイブのWALファイルのコピー\n",
    "cp -r /mnt/data/pg_wal $PGDATA"
   ]
  },
  {
   "cell_type": "markdown",
   "metadata": {},
   "source": [
    "#### ③recovery.confファイルを設定して、PostgreSQLを起動"
   ]
  },
  {
   "cell_type": "markdown",
   "metadata": {},
   "source": [
    "recovery.confファイルは、リカバリに関する設定ファイルである。<br>\n",
    "これを用いて、バックアップ後の処理（WALファイルやWALアーカイブの更新）を行う。"
   ]
  },
  {
   "cell_type": "code",
   "execution_count": null,
   "metadata": {},
   "outputs": [],
   "source": [
    "cat $PGDATA/recovery.conf\n",
    "\n",
    "# PostgreSQLの起動\n",
    "pg_ctl start"
   ]
  },
  {
   "cell_type": "markdown",
   "metadata": {},
   "source": [
    "これでリカバリが開始される。<br>\n",
    "終了すると、recovery.confファイルはrecovery.doneという名前のファイルにリネームされる。"
   ]
  },
  {
   "cell_type": "code",
   "execution_count": null,
   "metadata": {},
   "outputs": [],
   "source": [
    "ls $PGDATA/recovery.*\n",
    "---\n",
    "/home/postgres/data/recovery.done"
   ]
  },
  {
   "cell_type": "markdown",
   "metadata": {},
   "source": [
    "## 6-4　COPY文と \\copyコマンド"
   ]
  },
  {
   "cell_type": "markdown",
   "metadata": {},
   "source": [
    "テーブルのデータをファイルへコピー、もしくはファイルデータをテーブルへローディングする方法が2つある。\n",
    "\n",
    "・COPY：サーバー側で動作する、**スーパーユーザ権限**もしくは**デフォルトロール権限**が必要、ファイル名を**絶対パス**で指定<br>\n",
    "・\\copy：クライアント側で動作する、スーパーユーザ権限は必要なし、ファイル名は絶対パスでも相対パスでも構わない\n",
    "\n",
    "\\copyはネットワーク通信が発生するため、大量のデータであれば、COPYの方が望ましい。"
   ]
  },
  {
   "cell_type": "markdown",
   "metadata": {},
   "source": [
    "### 6-4-1　COPY文"
   ]
  },
  {
   "cell_type": "markdown",
   "metadata": {},
   "source": [
    "COPY文には、以下のオプションがある。\n",
    "\n",
    "・DELIMITER '区切り文字'：各行の列を区切る文字を指定する<br>\n",
    "・FORMAT csv：CSV形式で入出力する場合に指定する<br>\n",
    "・HEADER：ヘッダ行の指定、onにすると各列の名前が出力されて先頭行の入力は無効となる（CSV形式を指定した場合のみ有効）"
   ]
  },
  {
   "cell_type": "code",
   "execution_count": null,
   "metadata": {},
   "outputs": [],
   "source": [
    "# テーブル（tab1）のデータを、サーバー側のファイル（/tmp/tab1.txt）へコピーする\n",
    "COPY tab1 TO '/tmp/tab1.txt';\n",
    "---\n",
    "COPY 60"
   ]
  },
  {
   "cell_type": "code",
   "execution_count": null,
   "metadata": {},
   "outputs": [],
   "source": [
    "# サーバー側のファイル（tmp/tab1.txt）からテーブル（tab1）にデータをローディングする\n",
    "COPY tab1 FROM '/tmp/tab1.txt'\n",
    "---\n",
    "COPY 60"
   ]
  },
  {
   "cell_type": "markdown",
   "metadata": {},
   "source": [
    "### 6-4-2　\\copyコマンド　"
   ]
  },
  {
   "cell_type": "code",
   "execution_count": null,
   "metadata": {},
   "outputs": [],
   "source": [
    "select * from tab1;\n",
    "\n",
    "# テーブル（tab1）のデータを、クライアント側のファイルへコピーする\n",
    "\\copy tab1 to stdout csv header\n",
    "\n",
    "# クライアント側のファイル（tab1.txt）に、テーブル（tab1）のデータをコピーする\n",
    "\\copy tab1 to tab1.txt csv header\n",
    "\\q\n",
    "cat tab1.txt"
   ]
  },
  {
   "cell_type": "code",
   "execution_count": null,
   "metadata": {},
   "outputs": [],
   "source": [
    "# オプションにdelimiterを指定して、区切り文字「|」（ストローク）を指定する\n",
    "\\copy tab1 to stdout delimiter as '|'"
   ]
  },
  {
   "cell_type": "code",
   "execution_count": null,
   "metadata": {},
   "outputs": [],
   "source": [
    "# CSV形式でデータが格納されているクライアント側のファイル（tab1.txt）を、テーブル（tab1）にローディングする\n",
    "\\copy tab1 from tab1.txt csv"
   ]
  }
 ],
 "metadata": {
  "kernelspec": {
   "display_name": "Python 3",
   "language": "python",
   "name": "python3"
  },
  "language_info": {
   "codemirror_mode": {
    "name": "ipython",
    "version": 3
   },
   "file_extension": ".py",
   "mimetype": "text/x-python",
   "name": "python",
   "nbconvert_exporter": "python",
   "pygments_lexer": "ipython3",
   "version": "3.7.6"
  }
 },
 "nbformat": 4,
 "nbformat_minor": 4
}
