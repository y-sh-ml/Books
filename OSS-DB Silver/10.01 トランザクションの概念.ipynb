{
 "cells": [
  {
   "cell_type": "markdown",
   "metadata": {},
   "source": [
    "## 10-1　トランザクションの概念"
   ]
  },
  {
   "cell_type": "markdown",
   "metadata": {},
   "source": [
    "### 10-1-1　トランザクションについて"
   ]
  },
  {
   "cell_type": "markdown",
   "metadata": {},
   "source": [
    "トランザクションでは、複数のSQL処理を1つにまとめてグループ化することができる。<br>\n",
    "開始と終了には、「BEGIN」と「COMMIT」などを使用する。"
   ]
  },
  {
   "cell_type": "markdown",
   "metadata": {},
   "source": [
    "### 10-1-2　トランザクションのACID特性"
   ]
  },
  {
   "cell_type": "markdown",
   "metadata": {},
   "source": [
    "Atomicity（原子性）：トランザクションの実行が完了するか、あるいはまったく実行されないかのどちらかとなる<br>\n",
    "Consistency（整合性）：トランザクションの開始と終了時には、データベースは整合性を保った状態となっている<br>\n",
    "Isolation（分離性）：トランザクションは、別のトランザクションによる処理の影響を受けない<br>\n",
    "Durablity（持続性）：トランザクションにより変更されたデータは、確実に保持される"
   ]
  }
 ],
 "metadata": {
  "kernelspec": {
   "display_name": "Python 3",
   "language": "python",
   "name": "python3"
  },
  "language_info": {
   "codemirror_mode": {
    "name": "ipython",
    "version": 3
   },
   "file_extension": ".py",
   "mimetype": "text/x-python",
   "name": "python",
   "nbconvert_exporter": "python",
   "pygments_lexer": "ipython3",
   "version": "3.7.6"
  }
 },
 "nbformat": 4,
 "nbformat_minor": 4
}
