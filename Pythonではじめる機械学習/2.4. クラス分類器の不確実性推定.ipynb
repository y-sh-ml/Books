{
 "cells": [
  {
   "cell_type": "markdown",
   "metadata": {},
   "source": [
    "## 2.4　クラス分類器の不確実性推定"
   ]
  },
  {
   "cell_type": "code",
   "execution_count": 24,
   "metadata": {},
   "outputs": [],
   "source": [
    "import numpy as np\n",
    "import mglearn\n",
    "from matplotlib import pyplot as plt\n",
    "from sklearn.model_selection import train_test_split\n",
    "from sklearn.ensemble import GradientBoostingClassifier\n",
    "from sklearn.datasets import make_circles\n",
    "from sklearn.datasets import load_iris\n",
    "from sklearn.linear_model import LogisticRegression"
   ]
  },
  {
   "cell_type": "code",
   "execution_count": 2,
   "metadata": {},
   "outputs": [
    {
     "name": "stdout",
     "output_type": "stream",
     "text": [
      "[1 1 0 1 1]\n",
      "['red' 'red' 'blue' 'red' 'red']\n"
     ]
    }
   ],
   "source": [
    "X, y = make_circles(noise=0.25, factor=0.5, random_state=1)\n",
    "\n",
    "y_named = np.array(['blue', 'red'])[y]\n",
    "\n",
    "print(y[:5])\n",
    "print(y_named[:5])"
   ]
  },
  {
   "cell_type": "code",
   "execution_count": 3,
   "metadata": {},
   "outputs": [
    {
     "name": "stdout",
     "output_type": "stream",
     "text": [
      "X: (100, 2)\n",
      "y: (100,)\n",
      "y_named: (100,)\n",
      "\n",
      "\n",
      "X_train: (75, 2)\n",
      "y_train_named: (75,)\n",
      "y_train: (75,)\n",
      "\n",
      "\n",
      "X_test: (25, 2)\n",
      "y_test_named: (25,)\n",
      "y_test: (25,)\n"
     ]
    }
   ],
   "source": [
    "# 各引数に対して、trainとtestに分割している\n",
    "X_train, X_test, y_train_named, y_test_named, y_train, y_test = train_test_split(X, y_named, y, random_state=0)\n",
    "\n",
    "print('X:', X.shape)\n",
    "print('y:', y.shape)\n",
    "print('y_named:', y_named.shape)\n",
    "print('\\n')\n",
    "print('X_train:', X_train.shape)\n",
    "print('y_train_named:', y_train_named.shape)\n",
    "print('y_train:', y_train.shape)\n",
    "print('\\n')\n",
    "print('X_test:', X_test.shape)\n",
    "print('y_test_named:', y_test_named.shape)\n",
    "print('y_test:', y_test.shape)"
   ]
  },
  {
   "cell_type": "markdown",
   "metadata": {},
   "source": [
    "引数ごとにtrainとtestへ分割していることが分かれば、この構造はすぐに理解できる。\n",
    "\n",
    "X → X_train, X_test<br>\n",
    "y_named → y_train_named, y_test_named<br>\n",
    "y → y_train, y_test"
   ]
  },
  {
   "cell_type": "code",
   "execution_count": 4,
   "metadata": {},
   "outputs": [
    {
     "name": "stdout",
     "output_type": "stream",
     "text": [
      "['blue' 'blue' 'blue' 'blue' 'blue' 'blue' 'blue' 'blue' 'blue' 'red']\n",
      "[0 0 0 0 0 0 0 0 0 1]\n"
     ]
    }
   ],
   "source": [
    "print(y_train_named[:10])\n",
    "print(y_train[:10])"
   ]
  },
  {
   "cell_type": "code",
   "execution_count": 5,
   "metadata": {},
   "outputs": [
    {
     "data": {
      "text/plain": [
       "GradientBoostingClassifier(random_state=0)"
      ]
     },
     "execution_count": 5,
     "metadata": {},
     "output_type": "execute_result"
    }
   ],
   "source": [
    "gbrt = GradientBoostingClassifier(random_state=0)\n",
    "gbrt.fit(X_train, y_train_named)"
   ]
  },
  {
   "cell_type": "markdown",
   "metadata": {},
   "source": [
    "### 2.4.1　決定関数（Decision Function）"
   ]
  },
  {
   "cell_type": "code",
   "execution_count": 6,
   "metadata": {},
   "outputs": [
    {
     "name": "stdout",
     "output_type": "stream",
     "text": [
      "X_test.shape: (25, 2)\n",
      "Decision function shape: (25,)\n"
     ]
    }
   ],
   "source": [
    "print('X_test.shape: {}'.format(X_test.shape))\n",
    "print('Decision function shape: {}'.format(gbrt.decision_function(X_test).shape))"
   ]
  },
  {
   "cell_type": "code",
   "execution_count": 7,
   "metadata": {},
   "outputs": [
    {
     "name": "stdout",
     "output_type": "stream",
     "text": [
      "Decision function:\n",
      "[ 4.13592603 -1.70169917 -3.95106099 -3.62609552  4.28986642  3.66166081]\n"
     ]
    }
   ],
   "source": [
    "print('Decision function:\\n{}'.format(gbrt.decision_function(X_test)[:6]))"
   ]
  },
  {
   "cell_type": "markdown",
   "metadata": {},
   "source": [
    "符号を見ることで、X_testをもとにモデルが予測した結果がどちらなのか、確認をすることができる。"
   ]
  },
  {
   "cell_type": "code",
   "execution_count": 8,
   "metadata": {},
   "outputs": [
    {
     "name": "stdout",
     "output_type": "stream",
     "text": [
      "Thresholded decision function:\n",
      "[ True False False False  True  True False  True  True  True False  True\n",
      "  True False  True False False False  True  True  True  True  True False\n",
      " False]\n",
      "Predictions:\n",
      "['red' 'blue' 'blue' 'blue' 'red' 'red' 'blue' 'red' 'red' 'red' 'blue'\n",
      " 'red' 'red' 'blue' 'red' 'blue' 'blue' 'blue' 'red' 'red' 'red' 'red'\n",
      " 'red' 'blue' 'blue']\n"
     ]
    }
   ],
   "source": [
    "# decision function　と　predict を用いた、簡単なラベル判別\n",
    "print('Thresholded decision function:\\n{}'.format(gbrt.decision_function(X_test) > 0))\n",
    "\n",
    "print('Predictions:\\n{}'.format(gbrt.predict(X_test)))"
   ]
  },
  {
   "cell_type": "code",
   "execution_count": 9,
   "metadata": {},
   "outputs": [
    {
     "name": "stdout",
     "output_type": "stream",
     "text": [
      "[1 0 0 0 1 1 0 1 1 1 0 1 1 0 1 0 0 0 1 1 1 1 1 0 0]\n",
      "['red' 'blue' 'blue' 'blue' 'red' 'red' 'blue' 'red' 'red' 'red' 'blue'\n",
      " 'red' 'red' 'blue' 'red' 'blue' 'blue' 'blue' 'red' 'red' 'red' 'red'\n",
      " 'red' 'blue' 'blue']\n",
      "Pred is equal to predictions: True\n"
     ]
    }
   ],
   "source": [
    "greater_zero = (gbrt.decision_function(X_test) > 0).astype(int)\n",
    "print(greater_zero)\n",
    "\n",
    "# 分類結果をラベルに振り分ける\n",
    "pred = gbrt.classes_[greater_zero]\n",
    "print(pred)\n",
    "\n",
    "# そうすると、predict使用と同じ結果になる\n",
    "print('Pred is equal to predictions: {}'.format(np.all(pred == gbrt.predict(X_test))))"
   ]
  },
  {
   "cell_type": "markdown",
   "metadata": {},
   "source": [
    "decision functionは、予測結果をプラスとマイナスの結果を出力する。<br>\n",
    "それを、閾値0で分けると、真偽値で返される。<br>\n",
    "さらにclassesを使用すると、真偽値をラベルに振り分けてくれる。"
   ]
  },
  {
   "cell_type": "code",
   "execution_count": 10,
   "metadata": {},
   "outputs": [
    {
     "name": "stdout",
     "output_type": "stream",
     "text": [
      "Decision function minimum: -7.69 maximum: 4.29\n"
     ]
    }
   ],
   "source": [
    "decision_function = gbrt.decision_function(X_test)\n",
    "print('Decision function minimum: {:.2f} maximum: {:.2f}'.format(np.min(decision_function), np.max(decision_function)))"
   ]
  },
  {
   "cell_type": "markdown",
   "metadata": {},
   "source": [
    "Decision functionのレンジは決まっておらず、どのようなスケールで表示されているのかが分からない。"
   ]
  },
  {
   "cell_type": "code",
   "execution_count": 11,
   "metadata": {},
   "outputs": [
    {
     "data": {
      "text/plain": [
       "<matplotlib.legend.Legend at 0x1b367ee1a88>"
      ]
     },
     "execution_count": 11,
     "metadata": {},
     "output_type": "execute_result"
    },
    {
     "data": {
      "image/png": "[encoded data removed]",
      "text/plain": [
       "<Figure size 936x360 with 3 Axes>"
      ]
     },
     "metadata": {
      "needs_background": "light"
     },
     "output_type": "display_data"
    }
   ],
   "source": [
    "fig, axes = plt.subplots(1, 2, figsize=(13, 5))\n",
    "mglearn.tools.plot_2d_separator(gbrt, X, ax=axes[0], alpha=.4, fill=True, cm=mglearn.cm2)\n",
    "scores_image = mglearn.tools.plot_2d_scores(gbrt, X, ax=axes[1], alpha=.4, cm=mglearn.ReBl)\n",
    "\n",
    "for ax in axes:\n",
    "    mglearn.discrete_scatter(X_test[:, 0], X_test[:, 1], y_test, markers='^', ax=ax)\n",
    "    mglearn.discrete_scatter(X_train[:, 0], X_train[:, 1], y_train, markers='o', ax=ax)\n",
    "    ax.set_xlabel('Feature 0')\n",
    "    ax.set_ylabel('Feature 1')\n",
    "    \n",
    "cbar = plt.colorbar(scores_image, ax=axes.tolist())\n",
    "axes[0].legend(['Test class 0', 'Test class 1', 'Train class 0', 'Train class 1'], ncol=4, loc=(.1, 1.1))"
   ]
  },
  {
   "cell_type": "markdown",
   "metadata": {},
   "source": [
    "左が決定境界、右が決定関数を表している。右の決定関数では、決定境界（境目）がはっきり分からず、あまり参考にならない。"
   ]
  },
  {
   "cell_type": "markdown",
   "metadata": {},
   "source": [
    "### 2.4.2　確率の予測"
   ]
  },
  {
   "cell_type": "code",
   "execution_count": 12,
   "metadata": {},
   "outputs": [
    {
     "name": "stdout",
     "output_type": "stream",
     "text": [
      "Shape of probabilities: (25, 2)\n"
     ]
    }
   ],
   "source": [
    "print('Shape of probabilities: {}'.format(gbrt.predict_proba(X_test).shape))"
   ]
  },
  {
   "cell_type": "code",
   "execution_count": 13,
   "metadata": {},
   "outputs": [
    {
     "name": "stdout",
     "output_type": "stream",
     "text": [
      "Predicted probabilities:\n",
      "[[0.01573626 0.98426374]\n",
      " [0.84575653 0.15424347]\n",
      " [0.98112869 0.01887131]\n",
      " [0.97407033 0.02592967]\n",
      " [0.01352142 0.98647858]\n",
      " [0.02504637 0.97495363]]\n"
     ]
    }
   ],
   "source": [
    "print('Predicted probabilities:\\n{}'.format(gbrt.predict_proba(X_test[:6])))"
   ]
  },
  {
   "cell_type": "markdown",
   "metadata": {},
   "source": [
    "第1クラスの予測確率と第2クラスの予測確率を表している。つまり、行の数値を足すと、全確率の1となる。"
   ]
  },
  {
   "cell_type": "code",
   "execution_count": 14,
   "metadata": {},
   "outputs": [
    {
     "data": {
      "text/plain": [
       "<matplotlib.legend.Legend at 0x1b368003648>"
      ]
     },
     "execution_count": 14,
     "metadata": {},
     "output_type": "execute_result"
    },
    {
     "data": {
      "image/png": "[encoded data removed]",
      "text/plain": [
       "<Figure size 936x360 with 3 Axes>"
      ]
     },
     "metadata": {
      "needs_background": "light"
     },
     "output_type": "display_data"
    }
   ],
   "source": [
    "fig, axes = plt.subplots(1, 2, figsize=(13, 5))\n",
    "\n",
    "mglearn.tools.plot_2d_separator(gbrt, X, ax=axes[0], alpha=.4, fill=True, cm=mglearn.cm2)\n",
    "scores_image = mglearn.tools.plot_2d_scores(gbrt, X, ax=axes[1], alpha=.5, cm=mglearn.ReBl, function='predict_proba')\n",
    "\n",
    "for ax in axes:\n",
    "    mglearn.discrete_scatter(X_test[:, 0], X_test[:, 1], y_test, markers='^', ax=ax)\n",
    "    mglearn.discrete_scatter(X_train[:, 0], X_train[:, 1], y_train, markers='o', ax=ax)\n",
    "    \n",
    "    ax.set_xlabel('Feature 0')\n",
    "    ax.set_ylabel('Feature 1')\n",
    "    \n",
    "cbar = plt.colorbar(scores_image, ax=axes.tolist())\n",
    "axes[0].legend(['Test class 0', 'Test class 1', 'Train class 0', 'Train class 1'], ncol=4, loc=(.1, 1.1))"
   ]
  },
  {
   "cell_type": "markdown",
   "metadata": {},
   "source": [
    "決定境界と予測確率の比較をする。<br>\n",
    "右の予測確率では、わずかに存在する確信度（確率）の低い領域がはっきり分かる。（赤色が薄いエリア）"
   ]
  },
  {
   "cell_type": "markdown",
   "metadata": {},
   "source": [
    "### 2.4.3　多クラス分類の不確実性"
   ]
  },
  {
   "cell_type": "code",
   "execution_count": 31,
   "metadata": {},
   "outputs": [
    {
     "data": {
      "text/plain": [
       "GradientBoostingClassifier(learning_rate=0.01, random_state=0)"
      ]
     },
     "execution_count": 31,
     "metadata": {},
     "output_type": "execute_result"
    }
   ],
   "source": [
    "iris = load_iris()\n",
    "X_train, X_test, y_train, y_test = train_test_split(iris.data, iris.target, random_state=42)\n",
    "\n",
    "gbrt = GradientBoostingClassifier(learning_rate=0.01, random_state=0)\n",
    "gbrt.fit(X_train, y_train)"
   ]
  },
  {
   "cell_type": "markdown",
   "metadata": {},
   "source": [
    "irisデータにおける、決定関数の最初の6データを表示する。"
   ]
  },
  {
   "cell_type": "code",
   "execution_count": 32,
   "metadata": {},
   "outputs": [
    {
     "name": "stdout",
     "output_type": "stream",
     "text": [
      "Decision function shape: (38, 3)\n",
      "Decision function:\n",
      "[[-1.995715    0.04758267 -1.92720695]\n",
      " [ 0.06146394 -1.90755736 -1.92793758]\n",
      " [-1.99058203 -1.87637861  0.09686725]\n",
      " [-1.995715    0.04758267 -1.92720695]\n",
      " [-1.99730159 -0.13469108 -1.20341483]\n",
      " [ 0.06146394 -1.90755736 -1.92793758]]\n"
     ]
    }
   ],
   "source": [
    "print('Decision function shape: {}'.format(gbrt.decision_function(X_test).shape))\n",
    "\n",
    "print('Decision function:\\n{}'.format(gbrt.decision_function(X_test)[:6, :]))"
   ]
  },
  {
   "cell_type": "markdown",
   "metadata": {},
   "source": [
    "決定関数における確信度が1番高いクラスを選ぶことで、予測クラスを得ることができる。"
   ]
  },
  {
   "cell_type": "code",
   "execution_count": 33,
   "metadata": {},
   "outputs": [
    {
     "name": "stdout",
     "output_type": "stream",
     "text": [
      "Argmax of decision function:\n",
      "[1 0 2 1 1 0 1 2 1 1 2 0 0 0 0 1 2 1 1 2 0 2 0 2 2 2 2 2 0 0 0 0 1 0 0 2 1\n",
      " 0]\n",
      "Predictions:\n",
      "[1 0 2 1 1 0 1 2 1 1 2 0 0 0 0 1 2 1 1 2 0 2 0 2 2 2 2 2 0 0 0 0 1 0 0 2 1\n",
      " 0]\n"
     ]
    }
   ],
   "source": [
    "print('Argmax of decision function:\\n{}'.format(np.argmax(gbrt.decision_function(X_test), axis=1)))\n",
    "\n",
    "print('Predictions:\\n{}'.format(gbrt.predict(X_test)))"
   ]
  },
  {
   "cell_type": "markdown",
   "metadata": {},
   "source": [
    "predict_probaにおける各行の合計値は、当然1となる。axis=1で列方向（横）に計算をしている。"
   ]
  },
  {
   "cell_type": "code",
   "execution_count": 34,
   "metadata": {},
   "outputs": [
    {
     "name": "stdout",
     "output_type": "stream",
     "text": [
      "Predict probabilities:\n",
      "[1 0 2 1 1 0]\n",
      "Sums: [1. 1. 1. 1. 1. 1.]\n"
     ]
    }
   ],
   "source": [
    "print('Predict probabilities:\\n{}'.format(gbrt.predict(X_test)[:6]))\n",
    "\n",
    "print('Sums: {}'.format(gbrt.predict_proba(X_test)[:6].sum(axis=1)))"
   ]
  },
  {
   "cell_type": "code",
   "execution_count": 20,
   "metadata": {},
   "outputs": [
    {
     "name": "stdout",
     "output_type": "stream",
     "text": [
      "Argmas of predicted probabilicaties:\n",
      "[1 0 2 1 1 0 1 2 1 1 2 0 0 0 0 1 2 1 1 2 0 2 0 2 2 2 2 2 0 0 0 0 1 0 0 2 1\n",
      " 0]\n",
      "Prediction:\n",
      "[1 0 2 1 1 0 1 2 1 1 2 0 0 0 0 1 2 1 1 2 0 2 0 2 2 2 2 2 0 0 0 0 1 0 0 2 1\n",
      " 0]\n"
     ]
    }
   ],
   "source": [
    "print('Argmas of predicted probabilicaties:\\n{}'.format(np.argmax(gbrt.predict_proba(X_test), axis=1)))\n",
    "\n",
    "print('Prediction:\\n{}'.format(gbrt.predict(X_test)))"
   ]
  },
  {
   "cell_type": "markdown",
   "metadata": {},
   "source": [
    "予測値は、Decision_functionとPredict_probaにおける確信度（確率）の大きい方のクラスを選ぶことで得られるが<br>\n",
    "2クラス分類におけるDecision_functionは、出力結果が1次元となってしまうため、例外的に対応できない。"
   ]
  },
  {
   "cell_type": "code",
   "execution_count": 22,
   "metadata": {},
   "outputs": [
    {
     "name": "stdout",
     "output_type": "stream",
     "text": [
      "Decision function:\n",
      "[ 4.13592603 -1.70169917 -3.95106099 -3.62609552  4.28986642  3.66166081]\n"
     ]
    }
   ],
   "source": [
    "X, y = make_circles(noise=0.25, factor=0.5, random_state=1)\n",
    "y_named = np.array(['blue', 'red'])[y]\n",
    "\n",
    "X_train, X_test, y_train_named, y_test_named, y_train, y_test = train_test_split(X, y_named, y, random_state=0)\n",
    "\n",
    "gbrt = GradientBoostingClassifier(random_state=0)\n",
    "gbrt.fit(X_train, y_train_named)\n",
    "\n",
    "print('Decision function:\\n{}'.format(gbrt.decision_function(X_test)[:6]))"
   ]
  },
  {
   "cell_type": "markdown",
   "metadata": {},
   "source": [
    "predictの結果で、クラス名が0から始める数字でなかったり、文字列で表現されている場合には<br>\n",
    "decision_functionとpredict_probaに、classes_属性を使って、実際のクラス名にしてから比較すると良い。"
   ]
  },
  {
   "cell_type": "code",
   "execution_count": 46,
   "metadata": {},
   "outputs": [
    {
     "name": "stdout",
     "output_type": "stream",
     "text": [
      "['setosa' 'setosa' 'virginica' 'versicolor' 'versicolor']\n"
     ]
    }
   ],
   "source": [
    "iris = load_iris()\n",
    "X_train, X_test, y_train, y_test = train_test_split(iris.data, iris.target, random_state=42)\n",
    "named_target = iris.target_names[y_train]\n",
    "\n",
    "print(named_target[:5])"
   ]
  },
  {
   "cell_type": "code",
   "execution_count": 49,
   "metadata": {},
   "outputs": [
    {
     "name": "stdout",
     "output_type": "stream",
     "text": [
      "unique classes in training data: ['setosa' 'versicolor' 'virginica']\n",
      "predictions: ['versicolor' 'setosa' 'virginica' 'versicolor' 'versicolor']\n",
      "argmax of decision function:[1 0 2 1 1]\n",
      "argmax combined with classes: ['versicolor' 'setosa' 'virginica' 'versicolor' 'versicolor']\n"
     ]
    },
    {
     "name": "stderr",
     "output_type": "stream",
     "text": [
      "C:\\Users\\Owner\\anaconda3\\lib\\site-packages\\sklearn\\linear_model\\_logistic.py:764: ConvergenceWarning: lbfgs failed to converge (status=1):\n",
      "STOP: TOTAL NO. of ITERATIONS REACHED LIMIT.\n",
      "\n",
      "Increase the number of iterations (max_iter) or scale the data as shown in:\n",
      "    https://scikit-learn.org/stable/modules/preprocessing.html\n",
      "Please also refer to the documentation for alternative solver options:\n",
      "    https://scikit-learn.org/stable/modules/linear_model.html#logistic-regression\n",
      "  extra_warning_msg=_LOGISTIC_SOLVER_CONVERGENCE_MSG)\n"
     ]
    }
   ],
   "source": [
    "logreg = LogisticRegression()\n",
    "logreg.fit(X_train, named_target)\n",
    "\n",
    "# 訓練データ内にある、クラス名の種類を出力する\n",
    "print('unique classes in training data: {}'.format(logreg.classes_))\n",
    "\n",
    "print('predictions: {}'.format(logreg.predict(X_test)[:5]))\n",
    "\n",
    "argmax_dec_func = np.argmax(logreg.decision_function(X_test), axis=1)\n",
    "\n",
    "print('argmax of decision function:{}'.format(argmax_dec_func[:5]))\n",
    "\n",
    "# logreg.classesで、クラス名に変換している\n",
    "print('argmax combined with classes: {}'.format(logreg.classes_[argmax_dec_func][:5]))"
   ]
  }
 ],
 "metadata": {
  "kernelspec": {
   "display_name": "Python 3",
   "language": "python",
   "name": "python3"
  },
  "language_info": {
   "codemirror_mode": {
    "name": "ipython",
    "version": 3
   },
   "file_extension": ".py",
   "mimetype": "text/x-python",
   "name": "python",
   "nbconvert_exporter": "python",
   "pygments_lexer": "ipython3",
   "version": "3.7.6"
  }
 },
 "nbformat": 4,
 "nbformat_minor": 4
}
