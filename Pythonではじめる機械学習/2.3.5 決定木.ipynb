{
 "cells": [
  {
   "cell_type": "markdown",
   "metadata": {},
   "source": [
    "## 2.3.5　決定木"
   ]
  },
  {
   "cell_type": "code",
   "execution_count": 19,
   "metadata": {},
   "outputs": [],
   "source": [
    "import numpy as np\n",
    "import pandas as pd\n",
    "import matplotlib.pyplot as plt\n",
    "import mglearn\n",
    "import os\n",
    "import graphviz\n",
    "from sklearn.datasets import load_breast_cancer\n",
    "from sklearn.model_selection import train_test_split\n",
    "from sklearn.linear_model import LinearRegression\n",
    "from sklearn.tree import DecisionTreeClassifier\n",
    "from sklearn.tree import export_graphviz\n",
    "from sklearn.tree import DecisionTreeRegressor"
   ]
  },
  {
   "cell_type": "code",
   "execution_count": 4,
   "metadata": {},
   "outputs": [
    {
     "data": {
      "image/png": "[encoded data removed]",
      "text/plain": [
       "<Figure size 432x288 with 1 Axes>"
      ]
     },
     "metadata": {
      "needs_background": "light"
     },
     "output_type": "display_data"
    }
   ],
   "source": [
    "mglearn.plots.plot_animal_tree()"
   ]
  },
  {
   "cell_type": "markdown",
   "metadata": {},
   "source": [
    "### 2.3.5.2　決定木の複雑さの制御"
   ]
  },
  {
   "cell_type": "code",
   "execution_count": 5,
   "metadata": {},
   "outputs": [],
   "source": [
    "cancer = load_breast_cancer()\n",
    "\n",
    "X_train, X_test, y_train, y_test = train_test_split(cancer.data, cancer.target, random_state=42)"
   ]
  },
  {
   "cell_type": "code",
   "execution_count": 6,
   "metadata": {},
   "outputs": [
    {
     "name": "stdout",
     "output_type": "stream",
     "text": [
      "Accuracy on training set:1.000\n",
      "Accuracy on test set:0.930\n"
     ]
    }
   ],
   "source": [
    "tree = DecisionTreeClassifier(random_state=0)\n",
    "tree.fit(X_train, y_train)\n",
    "\n",
    "print('Accuracy on training set:{:.3f}'.format(tree.score(X_train, y_train)))\n",
    "print('Accuracy on test set:{:.3f}'.format(tree.score(X_test, y_test)))"
   ]
  },
  {
   "cell_type": "code",
   "execution_count": 7,
   "metadata": {},
   "outputs": [
    {
     "name": "stdout",
     "output_type": "stream",
     "text": [
      "Accuracy on training set:0.995\n",
      "Accuracy on test set:0.995\n"
     ]
    }
   ],
   "source": [
    "tree = DecisionTreeClassifier(max_depth=4, random_state=0)\n",
    "tree.fit(X_train, y_train)\n",
    "\n",
    "print('Accuracy on training set:{:.3f}'.format(tree.score(X_train, y_train)))\n",
    "print('Accuracy on test set:{:.3f}'.format(tree.score(X_train, y_train)))"
   ]
  },
  {
   "cell_type": "code",
   "execution_count": 8,
   "metadata": {},
   "outputs": [
    {
     "name": "stdout",
     "output_type": "stream",
     "text": [
      "training set(max_depth = 1):0.923\n",
      "test set(max_depth = 1):0.923\n",
      "training set(max_depth = 2):0.946\n",
      "test set(max_depth = 2):0.946\n",
      "training set(max_depth = 3):0.972\n",
      "test set(max_depth = 3):0.972\n",
      "training set(max_depth = 4):0.995\n",
      "test set(max_depth = 4):0.995\n",
      "training set(max_depth = 5):0.995\n",
      "test set(max_depth = 5):0.995\n"
     ]
    }
   ],
   "source": [
    "for n in range(1, 6):\n",
    "    tree = DecisionTreeClassifier(max_depth=n, random_state=0)\n",
    "    tree.fit(X_train, y_train)\n",
    "    print('training set(max_depth = {1}):{0:.3f}'.format(tree.score(X_train, y_train), n))\n",
    "    print('test set(max_depth = {1}):{0:.3f}'.format(tree.score(X_train, y_train), n))"
   ]
  },
  {
   "cell_type": "markdown",
   "metadata": {},
   "source": [
    "### 2.3.5.3　決定木の解析"
   ]
  },
  {
   "cell_type": "code",
   "execution_count": 9,
   "metadata": {},
   "outputs": [],
   "source": [
    "export_graphviz(tree, out_file=\"tree.dot\", class_names=[\"malignant\", \"benign\"],\n",
    "                feature_names=cancer.feature_names, impurity=False, filled=True)"
   ]
  },
  {
   "cell_type": "markdown",
   "metadata": {},
   "source": [
    "malignant：悪性、benign：良性"
   ]
  },
  {
   "cell_type": "code",
   "execution_count": 10,
   "metadata": {},
   "outputs": [
    {
     "data": {
      "image/svg+xml": [
       "<?xml version=\"1.0\" encoding=\"UTF-8\" standalone=\"no\"?>\r\n",
       "<!DOCTYPE svg PUBLIC \"-//W3C//DTD SVG 1.1//EN\"\r\n",
       " \"http://www.w3.org/Graphics/SVG/1.1/DTD/svg11.dtd\">\r\n",
       "<!-- Generated by graphviz version 2.38.0 (20140413.2041)\r\n",
       " -->\r\n",
       "<!-- Title: Tree Pages: 1 -->\r\n",
       "<svg width=\"1401pt\" height=\"581pt\"\r\n",
       " viewBox=\"0.00 0.00 1401.00 581.00\" xmlns=\"http://www.w3.org/2000/svg\" xmlns:xlink=\"http://www.w3.org/1999/xlink\">\r\n",
       "<g id=\"graph0\" class=\"graph\" transform=\"scale(1 1) rotate(0) translate(4 577)\">\r\n",
       "<title>Tree</title>\r\n",
       "<polygon fill=\"white\" stroke=\"none\" points=\"-4,4 -4,-577 1397,-577 1397,4 -4,4\"/>\r\n",
       "<!-- 0 -->\r\n",
       "<g id=\"node1\" class=\"node\"><title>0</title>\r\n",
       "<polygon fill=\"#aed7f4\" stroke=\"black\" points=\"928,-573 739,-573 739,-505 928,-505 928,-573\"/>\r\n",
       "<text text-anchor=\"middle\" x=\"833.5\" y=\"-557.8\" font-family=\"Times New Roman,serif\" font-size=\"14.00\">mean concave points &lt;= 0.051</text>\r\n",
       "<text text-anchor=\"middle\" x=\"833.5\" y=\"-542.8\" font-family=\"Times New Roman,serif\" font-size=\"14.00\">samples = 426</text>\r\n",
       "<text text-anchor=\"middle\" x=\"833.5\" y=\"-527.8\" font-family=\"Times New Roman,serif\" font-size=\"14.00\">value = [158, 268]</text>\r\n",
       "<text text-anchor=\"middle\" x=\"833.5\" y=\"-512.8\" font-family=\"Times New Roman,serif\" font-size=\"14.00\">class = benign</text>\r\n",
       "</g>\r\n",
       "<!-- 1 -->\r\n",
       "<g id=\"node2\" class=\"node\"><title>1</title>\r\n",
       "<polygon fill=\"#46a3e7\" stroke=\"black\" points=\"782.5,-469 642.5,-469 642.5,-401 782.5,-401 782.5,-469\"/>\r\n",
       "<text text-anchor=\"middle\" x=\"712.5\" y=\"-453.8\" font-family=\"Times New Roman,serif\" font-size=\"14.00\">worst radius &lt;= 16.83</text>\r\n",
       "<text text-anchor=\"middle\" x=\"712.5\" y=\"-438.8\" font-family=\"Times New Roman,serif\" font-size=\"14.00\">samples = 267</text>\r\n",
       "<text text-anchor=\"middle\" x=\"712.5\" y=\"-423.8\" font-family=\"Times New Roman,serif\" font-size=\"14.00\">value = [16, 251]</text>\r\n",
       "<text text-anchor=\"middle\" x=\"712.5\" y=\"-408.8\" font-family=\"Times New Roman,serif\" font-size=\"14.00\">class = benign</text>\r\n",
       "</g>\r\n",
       "<!-- 0&#45;&gt;1 -->\r\n",
       "<g id=\"edge1\" class=\"edge\"><title>0&#45;&gt;1</title>\r\n",
       "<path fill=\"none\" stroke=\"black\" d=\"M794.215,-504.884C783.226,-495.62 771.167,-485.455 759.768,-475.845\"/>\r\n",
       "<polygon fill=\"black\" stroke=\"black\" points=\"761.904,-473.069 752.002,-469.299 757.392,-478.421 761.904,-473.069\"/>\r\n",
       "<text text-anchor=\"middle\" x=\"754.125\" y=\"-490.509\" font-family=\"Times New Roman,serif\" font-size=\"14.00\">True</text>\r\n",
       "</g>\r\n",
       "<!-- 16 -->\r\n",
       "<g id=\"node17\" class=\"node\"><title>16</title>\r\n",
       "<polygon fill=\"#e89051\" stroke=\"black\" points=\"1030,-469 879,-469 879,-401 1030,-401 1030,-469\"/>\r\n",
       "<text text-anchor=\"middle\" x=\"954.5\" y=\"-453.8\" font-family=\"Times New Roman,serif\" font-size=\"14.00\">worst texture &lt;= 20.405</text>\r\n",
       "<text text-anchor=\"middle\" x=\"954.5\" y=\"-438.8\" font-family=\"Times New Roman,serif\" font-size=\"14.00\">samples = 159</text>\r\n",
       "<text text-anchor=\"middle\" x=\"954.5\" y=\"-423.8\" font-family=\"Times New Roman,serif\" font-size=\"14.00\">value = [142, 17]</text>\r\n",
       "<text text-anchor=\"middle\" x=\"954.5\" y=\"-408.8\" font-family=\"Times New Roman,serif\" font-size=\"14.00\">class = malignant</text>\r\n",
       "</g>\r\n",
       "<!-- 0&#45;&gt;16 -->\r\n",
       "<g id=\"edge16\" class=\"edge\"><title>0&#45;&gt;16</title>\r\n",
       "<path fill=\"none\" stroke=\"black\" d=\"M872.785,-504.884C883.774,-495.62 895.833,-485.455 907.232,-475.845\"/>\r\n",
       "<polygon fill=\"black\" stroke=\"black\" points=\"909.608,-478.421 914.998,-469.299 905.096,-473.069 909.608,-478.421\"/>\r\n",
       "<text text-anchor=\"middle\" x=\"912.875\" y=\"-490.509\" font-family=\"Times New Roman,serif\" font-size=\"14.00\">False</text>\r\n",
       "</g>\r\n",
       "<!-- 2 -->\r\n",
       "<g id=\"node3\" class=\"node\"><title>2</title>\r\n",
       "<polygon fill=\"#3d9fe6\" stroke=\"black\" points=\"511.5,-365 375.5,-365 375.5,-297 511.5,-297 511.5,-365\"/>\r\n",
       "<text text-anchor=\"middle\" x=\"443.5\" y=\"-349.8\" font-family=\"Times New Roman,serif\" font-size=\"14.00\">radius error &lt;= 0.626</text>\r\n",
       "<text text-anchor=\"middle\" x=\"443.5\" y=\"-334.8\" font-family=\"Times New Roman,serif\" font-size=\"14.00\">samples = 249</text>\r\n",
       "<text text-anchor=\"middle\" x=\"443.5\" y=\"-319.8\" font-family=\"Times New Roman,serif\" font-size=\"14.00\">value = [5, 244]</text>\r\n",
       "<text text-anchor=\"middle\" x=\"443.5\" y=\"-304.8\" font-family=\"Times New Roman,serif\" font-size=\"14.00\">class = benign</text>\r\n",
       "</g>\r\n",
       "<!-- 1&#45;&gt;2 -->\r\n",
       "<g id=\"edge2\" class=\"edge\"><title>1&#45;&gt;2</title>\r\n",
       "<path fill=\"none\" stroke=\"black\" d=\"M642.175,-407.334C605.006,-393.24 559.298,-375.909 521.098,-361.424\"/>\r\n",
       "<polygon fill=\"black\" stroke=\"black\" points=\"522.149,-358.079 511.557,-357.806 519.667,-364.624 522.149,-358.079\"/>\r\n",
       "</g>\r\n",
       "<!-- 11 -->\r\n",
       "<g id=\"node12\" class=\"node\"><title>11</title>\r\n",
       "<polygon fill=\"#f6d1b7\" stroke=\"black\" points=\"783.5,-365 641.5,-365 641.5,-297 783.5,-297 783.5,-365\"/>\r\n",
       "<text text-anchor=\"middle\" x=\"712.5\" y=\"-349.8\" font-family=\"Times New Roman,serif\" font-size=\"14.00\">mean texture &lt;= 16.19</text>\r\n",
       "<text text-anchor=\"middle\" x=\"712.5\" y=\"-334.8\" font-family=\"Times New Roman,serif\" font-size=\"14.00\">samples = 18</text>\r\n",
       "<text text-anchor=\"middle\" x=\"712.5\" y=\"-319.8\" font-family=\"Times New Roman,serif\" font-size=\"14.00\">value = [11, 7]</text>\r\n",
       "<text text-anchor=\"middle\" x=\"712.5\" y=\"-304.8\" font-family=\"Times New Roman,serif\" font-size=\"14.00\">class = malignant</text>\r\n",
       "</g>\r\n",
       "<!-- 1&#45;&gt;11 -->\r\n",
       "<g id=\"edge11\" class=\"edge\"><title>1&#45;&gt;11</title>\r\n",
       "<path fill=\"none\" stroke=\"black\" d=\"M712.5,-400.884C712.5,-392.778 712.5,-383.982 712.5,-375.472\"/>\r\n",
       "<polygon fill=\"black\" stroke=\"black\" points=\"716,-375.299 712.5,-365.299 709,-375.299 716,-375.299\"/>\r\n",
       "</g>\r\n",
       "<!-- 3 -->\r\n",
       "<g id=\"node4\" class=\"node\"><title>3</title>\r\n",
       "<polygon fill=\"#3b9ee5\" stroke=\"black\" points=\"337,-261 164,-261 164,-193 337,-193 337,-261\"/>\r\n",
       "<text text-anchor=\"middle\" x=\"250.5\" y=\"-245.8\" font-family=\"Times New Roman,serif\" font-size=\"14.00\">worst smoothness &lt;= 0.178</text>\r\n",
       "<text text-anchor=\"middle\" x=\"250.5\" y=\"-230.8\" font-family=\"Times New Roman,serif\" font-size=\"14.00\">samples = 246</text>\r\n",
       "<text text-anchor=\"middle\" x=\"250.5\" y=\"-215.8\" font-family=\"Times New Roman,serif\" font-size=\"14.00\">value = [3, 243]</text>\r\n",
       "<text text-anchor=\"middle\" x=\"250.5\" y=\"-200.8\" font-family=\"Times New Roman,serif\" font-size=\"14.00\">class = benign</text>\r\n",
       "</g>\r\n",
       "<!-- 2&#45;&gt;3 -->\r\n",
       "<g id=\"edge3\" class=\"edge\"><title>2&#45;&gt;3</title>\r\n",
       "<path fill=\"none\" stroke=\"black\" d=\"M380.838,-296.884C362.12,-286.991 341.456,-276.07 322.204,-265.895\"/>\r\n",
       "<polygon fill=\"black\" stroke=\"black\" points=\"323.654,-262.703 313.177,-261.125 320.383,-268.892 323.654,-262.703\"/>\r\n",
       "</g>\r\n",
       "<!-- 8 -->\r\n",
       "<g id=\"node9\" class=\"node\"><title>8</title>\r\n",
       "<polygon fill=\"#f2c09c\" stroke=\"black\" points=\"531.5,-261 355.5,-261 355.5,-193 531.5,-193 531.5,-261\"/>\r\n",
       "<text text-anchor=\"middle\" x=\"443.5\" y=\"-245.8\" font-family=\"Times New Roman,serif\" font-size=\"14.00\">compactness error &lt;= 0.014</text>\r\n",
       "<text text-anchor=\"middle\" x=\"443.5\" y=\"-230.8\" font-family=\"Times New Roman,serif\" font-size=\"14.00\">samples = 3</text>\r\n",
       "<text text-anchor=\"middle\" x=\"443.5\" y=\"-215.8\" font-family=\"Times New Roman,serif\" font-size=\"14.00\">value = [2, 1]</text>\r\n",
       "<text text-anchor=\"middle\" x=\"443.5\" y=\"-200.8\" font-family=\"Times New Roman,serif\" font-size=\"14.00\">class = malignant</text>\r\n",
       "</g>\r\n",
       "<!-- 2&#45;&gt;8 -->\r\n",
       "<g id=\"edge8\" class=\"edge\"><title>2&#45;&gt;8</title>\r\n",
       "<path fill=\"none\" stroke=\"black\" d=\"M443.5,-296.884C443.5,-288.778 443.5,-279.982 443.5,-271.472\"/>\r\n",
       "<polygon fill=\"black\" stroke=\"black\" points=\"447,-271.299 443.5,-261.299 440,-271.299 447,-271.299\"/>\r\n",
       "</g>\r\n",
       "<!-- 4 -->\r\n",
       "<g id=\"node5\" class=\"node\"><title>4</title>\r\n",
       "<polygon fill=\"#3b9ee5\" stroke=\"black\" points=\"192,-157 23,-157 23,-89 192,-89 192,-157\"/>\r\n",
       "<text text-anchor=\"middle\" x=\"107.5\" y=\"-141.8\" font-family=\"Times New Roman,serif\" font-size=\"14.00\">smoothness error &lt;= 0.003</text>\r\n",
       "<text text-anchor=\"middle\" x=\"107.5\" y=\"-126.8\" font-family=\"Times New Roman,serif\" font-size=\"14.00\">samples = 245</text>\r\n",
       "<text text-anchor=\"middle\" x=\"107.5\" y=\"-111.8\" font-family=\"Times New Roman,serif\" font-size=\"14.00\">value = [2, 243]</text>\r\n",
       "<text text-anchor=\"middle\" x=\"107.5\" y=\"-96.8\" font-family=\"Times New Roman,serif\" font-size=\"14.00\">class = benign</text>\r\n",
       "</g>\r\n",
       "<!-- 3&#45;&gt;4 -->\r\n",
       "<g id=\"edge4\" class=\"edge\"><title>3&#45;&gt;4</title>\r\n",
       "<path fill=\"none\" stroke=\"black\" d=\"M204.072,-192.884C190.835,-183.442 176.285,-173.064 162.585,-163.292\"/>\r\n",
       "<polygon fill=\"black\" stroke=\"black\" points=\"164.358,-160.257 154.184,-157.299 160.293,-165.956 164.358,-160.257\"/>\r\n",
       "</g>\r\n",
       "<!-- 7 -->\r\n",
       "<g id=\"node8\" class=\"node\"><title>7</title>\r\n",
       "<polygon fill=\"#e58139\" stroke=\"black\" points=\"323,-149.5 210,-149.5 210,-96.5 323,-96.5 323,-149.5\"/>\r\n",
       "<text text-anchor=\"middle\" x=\"266.5\" y=\"-134.3\" font-family=\"Times New Roman,serif\" font-size=\"14.00\">samples = 1</text>\r\n",
       "<text text-anchor=\"middle\" x=\"266.5\" y=\"-119.3\" font-family=\"Times New Roman,serif\" font-size=\"14.00\">value = [1, 0]</text>\r\n",
       "<text text-anchor=\"middle\" x=\"266.5\" y=\"-104.3\" font-family=\"Times New Roman,serif\" font-size=\"14.00\">class = malignant</text>\r\n",
       "</g>\r\n",
       "<!-- 3&#45;&gt;7 -->\r\n",
       "<g id=\"edge7\" class=\"edge\"><title>3&#45;&gt;7</title>\r\n",
       "<path fill=\"none\" stroke=\"black\" d=\"M255.695,-192.884C257.368,-182.216 259.229,-170.352 260.928,-159.519\"/>\r\n",
       "<polygon fill=\"black\" stroke=\"black\" points=\"264.405,-159.942 262.497,-149.52 257.489,-158.857 264.405,-159.942\"/>\r\n",
       "</g>\r\n",
       "<!-- 5 -->\r\n",
       "<g id=\"node6\" class=\"node\"><title>5</title>\r\n",
       "<polygon fill=\"#61b1ea\" stroke=\"black\" points=\"97,-53 0,-53 0,-0 97,-0 97,-53\"/>\r\n",
       "<text text-anchor=\"middle\" x=\"48.5\" y=\"-37.8\" font-family=\"Times New Roman,serif\" font-size=\"14.00\">samples = 6</text>\r\n",
       "<text text-anchor=\"middle\" x=\"48.5\" y=\"-22.8\" font-family=\"Times New Roman,serif\" font-size=\"14.00\">value = [1, 5]</text>\r\n",
       "<text text-anchor=\"middle\" x=\"48.5\" y=\"-7.8\" font-family=\"Times New Roman,serif\" font-size=\"14.00\">class = benign</text>\r\n",
       "</g>\r\n",
       "<!-- 4&#45;&gt;5 -->\r\n",
       "<g id=\"edge5\" class=\"edge\"><title>4&#45;&gt;5</title>\r\n",
       "<path fill=\"none\" stroke=\"black\" d=\"M86.8647,-88.9485C81.3817,-80.1664 75.4483,-70.6629 69.9242,-61.815\"/>\r\n",
       "<polygon fill=\"black\" stroke=\"black\" points=\"72.8333,-59.8656 64.5684,-53.2367 66.8955,-63.5728 72.8333,-59.8656\"/>\r\n",
       "</g>\r\n",
       "<!-- 6 -->\r\n",
       "<g id=\"node7\" class=\"node\"><title>6</title>\r\n",
       "<polygon fill=\"#3a9de5\" stroke=\"black\" points=\"219.5,-53 115.5,-53 115.5,-0 219.5,-0 219.5,-53\"/>\r\n",
       "<text text-anchor=\"middle\" x=\"167.5\" y=\"-37.8\" font-family=\"Times New Roman,serif\" font-size=\"14.00\">samples = 239</text>\r\n",
       "<text text-anchor=\"middle\" x=\"167.5\" y=\"-22.8\" font-family=\"Times New Roman,serif\" font-size=\"14.00\">value = [1, 238]</text>\r\n",
       "<text text-anchor=\"middle\" x=\"167.5\" y=\"-7.8\" font-family=\"Times New Roman,serif\" font-size=\"14.00\">class = benign</text>\r\n",
       "</g>\r\n",
       "<!-- 4&#45;&gt;6 -->\r\n",
       "<g id=\"edge6\" class=\"edge\"><title>4&#45;&gt;6</title>\r\n",
       "<path fill=\"none\" stroke=\"black\" d=\"M128.485,-88.9485C134.061,-80.1664 140.095,-70.6629 145.713,-61.815\"/>\r\n",
       "<polygon fill=\"black\" stroke=\"black\" points=\"148.754,-63.5549 151.159,-53.2367 142.844,-59.8028 148.754,-63.5549\"/>\r\n",
       "</g>\r\n",
       "<!-- 9 -->\r\n",
       "<g id=\"node10\" class=\"node\"><title>9</title>\r\n",
       "<polygon fill=\"#e58139\" stroke=\"black\" points=\"485,-149.5 372,-149.5 372,-96.5 485,-96.5 485,-149.5\"/>\r\n",
       "<text text-anchor=\"middle\" x=\"428.5\" y=\"-134.3\" font-family=\"Times New Roman,serif\" font-size=\"14.00\">samples = 2</text>\r\n",
       "<text text-anchor=\"middle\" x=\"428.5\" y=\"-119.3\" font-family=\"Times New Roman,serif\" font-size=\"14.00\">value = [2, 0]</text>\r\n",
       "<text text-anchor=\"middle\" x=\"428.5\" y=\"-104.3\" font-family=\"Times New Roman,serif\" font-size=\"14.00\">class = malignant</text>\r\n",
       "</g>\r\n",
       "<!-- 8&#45;&gt;9 -->\r\n",
       "<g id=\"edge9\" class=\"edge\"><title>8&#45;&gt;9</title>\r\n",
       "<path fill=\"none\" stroke=\"black\" d=\"M438.63,-192.884C437.061,-182.216 435.317,-170.352 433.723,-159.519\"/>\r\n",
       "<polygon fill=\"black\" stroke=\"black\" points=\"437.171,-158.904 432.253,-149.52 430.245,-159.923 437.171,-158.904\"/>\r\n",
       "</g>\r\n",
       "<!-- 10 -->\r\n",
       "<g id=\"node11\" class=\"node\"><title>10</title>\r\n",
       "<polygon fill=\"#399de5\" stroke=\"black\" points=\"600,-149.5 503,-149.5 503,-96.5 600,-96.5 600,-149.5\"/>\r\n",
       "<text text-anchor=\"middle\" x=\"551.5\" y=\"-134.3\" font-family=\"Times New Roman,serif\" font-size=\"14.00\">samples = 1</text>\r\n",
       "<text text-anchor=\"middle\" x=\"551.5\" y=\"-119.3\" font-family=\"Times New Roman,serif\" font-size=\"14.00\">value = [0, 1]</text>\r\n",
       "<text text-anchor=\"middle\" x=\"551.5\" y=\"-104.3\" font-family=\"Times New Roman,serif\" font-size=\"14.00\">class = benign</text>\r\n",
       "</g>\r\n",
       "<!-- 8&#45;&gt;10 -->\r\n",
       "<g id=\"edge10\" class=\"edge\"><title>8&#45;&gt;10</title>\r\n",
       "<path fill=\"none\" stroke=\"black\" d=\"M478.565,-192.884C490.908,-181.226 504.763,-168.141 517.055,-156.532\"/>\r\n",
       "<polygon fill=\"black\" stroke=\"black\" points=\"519.612,-158.931 524.479,-149.52 514.806,-153.842 519.612,-158.931\"/>\r\n",
       "</g>\r\n",
       "<!-- 12 -->\r\n",
       "<g id=\"node13\" class=\"node\"><title>12</title>\r\n",
       "<polygon fill=\"#399de5\" stroke=\"black\" points=\"647,-253.5 550,-253.5 550,-200.5 647,-200.5 647,-253.5\"/>\r\n",
       "<text text-anchor=\"middle\" x=\"598.5\" y=\"-238.3\" font-family=\"Times New Roman,serif\" font-size=\"14.00\">samples = 5</text>\r\n",
       "<text text-anchor=\"middle\" x=\"598.5\" y=\"-223.3\" font-family=\"Times New Roman,serif\" font-size=\"14.00\">value = [0, 5]</text>\r\n",
       "<text text-anchor=\"middle\" x=\"598.5\" y=\"-208.3\" font-family=\"Times New Roman,serif\" font-size=\"14.00\">class = benign</text>\r\n",
       "</g>\r\n",
       "<!-- 11&#45;&gt;12 -->\r\n",
       "<g id=\"edge12\" class=\"edge\"><title>11&#45;&gt;12</title>\r\n",
       "<path fill=\"none\" stroke=\"black\" d=\"M675.487,-296.884C662.335,-285.116 647.558,-271.894 634.492,-260.203\"/>\r\n",
       "<polygon fill=\"black\" stroke=\"black\" points=\"636.809,-257.58 627.022,-253.52 632.141,-262.796 636.809,-257.58\"/>\r\n",
       "</g>\r\n",
       "<!-- 13 -->\r\n",
       "<g id=\"node14\" class=\"node\"><title>13</title>\r\n",
       "<polygon fill=\"#ea985d\" stroke=\"black\" points=\"845.5,-261 665.5,-261 665.5,-193 845.5,-193 845.5,-261\"/>\r\n",
       "<text text-anchor=\"middle\" x=\"755.5\" y=\"-245.8\" font-family=\"Times New Roman,serif\" font-size=\"14.00\">concave points error &lt;= 0.01</text>\r\n",
       "<text text-anchor=\"middle\" x=\"755.5\" y=\"-230.8\" font-family=\"Times New Roman,serif\" font-size=\"14.00\">samples = 13</text>\r\n",
       "<text text-anchor=\"middle\" x=\"755.5\" y=\"-215.8\" font-family=\"Times New Roman,serif\" font-size=\"14.00\">value = [11, 2]</text>\r\n",
       "<text text-anchor=\"middle\" x=\"755.5\" y=\"-200.8\" font-family=\"Times New Roman,serif\" font-size=\"14.00\">class = malignant</text>\r\n",
       "</g>\r\n",
       "<!-- 11&#45;&gt;13 -->\r\n",
       "<g id=\"edge13\" class=\"edge\"><title>11&#45;&gt;13</title>\r\n",
       "<path fill=\"none\" stroke=\"black\" d=\"M726.461,-296.884C729.991,-288.511 733.831,-279.401 737.528,-270.631\"/>\r\n",
       "<polygon fill=\"black\" stroke=\"black\" points=\"740.802,-271.874 741.462,-261.299 734.352,-269.154 740.802,-271.874\"/>\r\n",
       "</g>\r\n",
       "<!-- 14 -->\r\n",
       "<g id=\"node15\" class=\"node\"><title>14</title>\r\n",
       "<polygon fill=\"#e58139\" stroke=\"black\" points=\"779,-149.5 666,-149.5 666,-96.5 779,-96.5 779,-149.5\"/>\r\n",
       "<text text-anchor=\"middle\" x=\"722.5\" y=\"-134.3\" font-family=\"Times New Roman,serif\" font-size=\"14.00\">samples = 11</text>\r\n",
       "<text text-anchor=\"middle\" x=\"722.5\" y=\"-119.3\" font-family=\"Times New Roman,serif\" font-size=\"14.00\">value = [11, 0]</text>\r\n",
       "<text text-anchor=\"middle\" x=\"722.5\" y=\"-104.3\" font-family=\"Times New Roman,serif\" font-size=\"14.00\">class = malignant</text>\r\n",
       "</g>\r\n",
       "<!-- 13&#45;&gt;14 -->\r\n",
       "<g id=\"edge14\" class=\"edge\"><title>13&#45;&gt;14</title>\r\n",
       "<path fill=\"none\" stroke=\"black\" d=\"M744.786,-192.884C741.299,-182.106 737.417,-170.108 733.883,-159.184\"/>\r\n",
       "<polygon fill=\"black\" stroke=\"black\" points=\"737.165,-157.957 730.756,-149.52 730.505,-160.112 737.165,-157.957\"/>\r\n",
       "</g>\r\n",
       "<!-- 15 -->\r\n",
       "<g id=\"node16\" class=\"node\"><title>15</title>\r\n",
       "<polygon fill=\"#399de5\" stroke=\"black\" points=\"894,-149.5 797,-149.5 797,-96.5 894,-96.5 894,-149.5\"/>\r\n",
       "<text text-anchor=\"middle\" x=\"845.5\" y=\"-134.3\" font-family=\"Times New Roman,serif\" font-size=\"14.00\">samples = 2</text>\r\n",
       "<text text-anchor=\"middle\" x=\"845.5\" y=\"-119.3\" font-family=\"Times New Roman,serif\" font-size=\"14.00\">value = [0, 2]</text>\r\n",
       "<text text-anchor=\"middle\" x=\"845.5\" y=\"-104.3\" font-family=\"Times New Roman,serif\" font-size=\"14.00\">class = benign</text>\r\n",
       "</g>\r\n",
       "<!-- 13&#45;&gt;15 -->\r\n",
       "<g id=\"edge15\" class=\"edge\"><title>13&#45;&gt;15</title>\r\n",
       "<path fill=\"none\" stroke=\"black\" d=\"M784.72,-192.884C794.813,-181.446 806.117,-168.634 816.215,-157.19\"/>\r\n",
       "<polygon fill=\"black\" stroke=\"black\" points=\"818.991,-159.334 822.982,-149.52 813.742,-154.703 818.991,-159.334\"/>\r\n",
       "</g>\r\n",
       "<!-- 17 -->\r\n",
       "<g id=\"node18\" class=\"node\"><title>17</title>\r\n",
       "<polygon fill=\"#88c4ef\" stroke=\"black\" points=\"1037,-365 872,-365 872,-297 1037,-297 1037,-365\"/>\r\n",
       "<text text-anchor=\"middle\" x=\"954.5\" y=\"-349.8\" font-family=\"Times New Roman,serif\" font-size=\"14.00\">worst perimeter &lt;= 119.65</text>\r\n",
       "<text text-anchor=\"middle\" x=\"954.5\" y=\"-334.8\" font-family=\"Times New Roman,serif\" font-size=\"14.00\">samples = 14</text>\r\n",
       "<text text-anchor=\"middle\" x=\"954.5\" y=\"-319.8\" font-family=\"Times New Roman,serif\" font-size=\"14.00\">value = [4, 10]</text>\r\n",
       "<text text-anchor=\"middle\" x=\"954.5\" y=\"-304.8\" font-family=\"Times New Roman,serif\" font-size=\"14.00\">class = benign</text>\r\n",
       "</g>\r\n",
       "<!-- 16&#45;&gt;17 -->\r\n",
       "<g id=\"edge17\" class=\"edge\"><title>16&#45;&gt;17</title>\r\n",
       "<path fill=\"none\" stroke=\"black\" d=\"M954.5,-400.884C954.5,-392.778 954.5,-383.982 954.5,-375.472\"/>\r\n",
       "<polygon fill=\"black\" stroke=\"black\" points=\"958,-375.299 954.5,-365.299 951,-375.299 958,-375.299\"/>\r\n",
       "</g>\r\n",
       "<!-- 20 -->\r\n",
       "<g id=\"node21\" class=\"node\"><title>20</title>\r\n",
       "<polygon fill=\"#e68743\" stroke=\"black\" points=\"1254.5,-365 1118.5,-365 1118.5,-297 1254.5,-297 1254.5,-365\"/>\r\n",
       "<text text-anchor=\"middle\" x=\"1186.5\" y=\"-349.8\" font-family=\"Times New Roman,serif\" font-size=\"14.00\">worst area &lt;= 718.65</text>\r\n",
       "<text text-anchor=\"middle\" x=\"1186.5\" y=\"-334.8\" font-family=\"Times New Roman,serif\" font-size=\"14.00\">samples = 145</text>\r\n",
       "<text text-anchor=\"middle\" x=\"1186.5\" y=\"-319.8\" font-family=\"Times New Roman,serif\" font-size=\"14.00\">value = [138, 7]</text>\r\n",
       "<text text-anchor=\"middle\" x=\"1186.5\" y=\"-304.8\" font-family=\"Times New Roman,serif\" font-size=\"14.00\">class = malignant</text>\r\n",
       "</g>\r\n",
       "<!-- 16&#45;&gt;20 -->\r\n",
       "<g id=\"edge20\" class=\"edge\"><title>16&#45;&gt;20</title>\r\n",
       "<path fill=\"none\" stroke=\"black\" d=\"M1029.82,-400.884C1055.16,-389.745 1083.46,-377.303 1108.96,-366.091\"/>\r\n",
       "<polygon fill=\"black\" stroke=\"black\" points=\"1110.47,-369.249 1118.22,-362.02 1107.66,-362.841 1110.47,-369.249\"/>\r\n",
       "</g>\r\n",
       "<!-- 18 -->\r\n",
       "<g id=\"node19\" class=\"node\"><title>18</title>\r\n",
       "<polygon fill=\"#399de5\" stroke=\"black\" points=\"961.5,-253.5 863.5,-253.5 863.5,-200.5 961.5,-200.5 961.5,-253.5\"/>\r\n",
       "<text text-anchor=\"middle\" x=\"912.5\" y=\"-238.3\" font-family=\"Times New Roman,serif\" font-size=\"14.00\">samples = 10</text>\r\n",
       "<text text-anchor=\"middle\" x=\"912.5\" y=\"-223.3\" font-family=\"Times New Roman,serif\" font-size=\"14.00\">value = [0, 10]</text>\r\n",
       "<text text-anchor=\"middle\" x=\"912.5\" y=\"-208.3\" font-family=\"Times New Roman,serif\" font-size=\"14.00\">class = benign</text>\r\n",
       "</g>\r\n",
       "<!-- 17&#45;&gt;18 -->\r\n",
       "<g id=\"edge18\" class=\"edge\"><title>17&#45;&gt;18</title>\r\n",
       "<path fill=\"none\" stroke=\"black\" d=\"M940.864,-296.884C936.381,-285.996 931.385,-273.863 926.85,-262.85\"/>\r\n",
       "<polygon fill=\"black\" stroke=\"black\" points=\"930.052,-261.434 923.008,-253.52 923.579,-264.099 930.052,-261.434\"/>\r\n",
       "</g>\r\n",
       "<!-- 19 -->\r\n",
       "<g id=\"node20\" class=\"node\"><title>19</title>\r\n",
       "<polygon fill=\"#e58139\" stroke=\"black\" points=\"1093,-253.5 980,-253.5 980,-200.5 1093,-200.5 1093,-253.5\"/>\r\n",
       "<text text-anchor=\"middle\" x=\"1036.5\" y=\"-238.3\" font-family=\"Times New Roman,serif\" font-size=\"14.00\">samples = 4</text>\r\n",
       "<text text-anchor=\"middle\" x=\"1036.5\" y=\"-223.3\" font-family=\"Times New Roman,serif\" font-size=\"14.00\">value = [4, 0]</text>\r\n",
       "<text text-anchor=\"middle\" x=\"1036.5\" y=\"-208.3\" font-family=\"Times New Roman,serif\" font-size=\"14.00\">class = malignant</text>\r\n",
       "</g>\r\n",
       "<!-- 17&#45;&gt;19 -->\r\n",
       "<g id=\"edge19\" class=\"edge\"><title>17&#45;&gt;19</title>\r\n",
       "<path fill=\"none\" stroke=\"black\" d=\"M981.123,-296.884C990.23,-285.556 1000.42,-272.88 1009.55,-261.521\"/>\r\n",
       "<polygon fill=\"black\" stroke=\"black\" points=\"1012.45,-263.507 1015.98,-253.52 1006.99,-259.121 1012.45,-263.507\"/>\r\n",
       "</g>\r\n",
       "<!-- 21 -->\r\n",
       "<g id=\"node22\" class=\"node\"><title>21</title>\r\n",
       "<polygon fill=\"#e3f1fb\" stroke=\"black\" points=\"1262,-261 1111,-261 1111,-193 1262,-193 1262,-261\"/>\r\n",
       "<text text-anchor=\"middle\" x=\"1186.5\" y=\"-245.8\" font-family=\"Times New Roman,serif\" font-size=\"14.00\">worst texture &lt;= 25.925</text>\r\n",
       "<text text-anchor=\"middle\" x=\"1186.5\" y=\"-230.8\" font-family=\"Times New Roman,serif\" font-size=\"14.00\">samples = 13</text>\r\n",
       "<text text-anchor=\"middle\" x=\"1186.5\" y=\"-215.8\" font-family=\"Times New Roman,serif\" font-size=\"14.00\">value = [6, 7]</text>\r\n",
       "<text text-anchor=\"middle\" x=\"1186.5\" y=\"-200.8\" font-family=\"Times New Roman,serif\" font-size=\"14.00\">class = benign</text>\r\n",
       "</g>\r\n",
       "<!-- 20&#45;&gt;21 -->\r\n",
       "<g id=\"edge21\" class=\"edge\"><title>20&#45;&gt;21</title>\r\n",
       "<path fill=\"none\" stroke=\"black\" d=\"M1186.5,-296.884C1186.5,-288.778 1186.5,-279.982 1186.5,-271.472\"/>\r\n",
       "<polygon fill=\"black\" stroke=\"black\" points=\"1190,-271.299 1186.5,-261.299 1183,-271.299 1190,-271.299\"/>\r\n",
       "</g>\r\n",
       "<!-- 24 -->\r\n",
       "<g id=\"node25\" class=\"node\"><title>24</title>\r\n",
       "<polygon fill=\"#e58139\" stroke=\"black\" points=\"1393,-253.5 1280,-253.5 1280,-200.5 1393,-200.5 1393,-253.5\"/>\r\n",
       "<text text-anchor=\"middle\" x=\"1336.5\" y=\"-238.3\" font-family=\"Times New Roman,serif\" font-size=\"14.00\">samples = 132</text>\r\n",
       "<text text-anchor=\"middle\" x=\"1336.5\" y=\"-223.3\" font-family=\"Times New Roman,serif\" font-size=\"14.00\">value = [132, 0]</text>\r\n",
       "<text text-anchor=\"middle\" x=\"1336.5\" y=\"-208.3\" font-family=\"Times New Roman,serif\" font-size=\"14.00\">class = malignant</text>\r\n",
       "</g>\r\n",
       "<!-- 20&#45;&gt;24 -->\r\n",
       "<g id=\"edge24\" class=\"edge\"><title>20&#45;&gt;24</title>\r\n",
       "<path fill=\"none\" stroke=\"black\" d=\"M1235.2,-296.884C1252.99,-284.786 1273.04,-271.151 1290.58,-259.224\"/>\r\n",
       "<polygon fill=\"black\" stroke=\"black\" points=\"1292.67,-262.037 1298.97,-253.52 1288.73,-256.249 1292.67,-262.037\"/>\r\n",
       "</g>\r\n",
       "<!-- 22 -->\r\n",
       "<g id=\"node23\" class=\"node\"><title>22</title>\r\n",
       "<polygon fill=\"#399de5\" stroke=\"black\" points=\"1173,-149.5 1076,-149.5 1076,-96.5 1173,-96.5 1173,-149.5\"/>\r\n",
       "<text text-anchor=\"middle\" x=\"1124.5\" y=\"-134.3\" font-family=\"Times New Roman,serif\" font-size=\"14.00\">samples = 7</text>\r\n",
       "<text text-anchor=\"middle\" x=\"1124.5\" y=\"-119.3\" font-family=\"Times New Roman,serif\" font-size=\"14.00\">value = [0, 7]</text>\r\n",
       "<text text-anchor=\"middle\" x=\"1124.5\" y=\"-104.3\" font-family=\"Times New Roman,serif\" font-size=\"14.00\">class = benign</text>\r\n",
       "</g>\r\n",
       "<!-- 21&#45;&gt;22 -->\r\n",
       "<g id=\"edge22\" class=\"edge\"><title>21&#45;&gt;22</title>\r\n",
       "<path fill=\"none\" stroke=\"black\" d=\"M1166.37,-192.884C1159.62,-181.776 1152.08,-169.372 1145.28,-158.184\"/>\r\n",
       "<polygon fill=\"black\" stroke=\"black\" points=\"1148.2,-156.247 1140.01,-149.52 1142.22,-159.883 1148.2,-156.247\"/>\r\n",
       "</g>\r\n",
       "<!-- 23 -->\r\n",
       "<g id=\"node24\" class=\"node\"><title>23</title>\r\n",
       "<polygon fill=\"#e58139\" stroke=\"black\" points=\"1304,-149.5 1191,-149.5 1191,-96.5 1304,-96.5 1304,-149.5\"/>\r\n",
       "<text text-anchor=\"middle\" x=\"1247.5\" y=\"-134.3\" font-family=\"Times New Roman,serif\" font-size=\"14.00\">samples = 6</text>\r\n",
       "<text text-anchor=\"middle\" x=\"1247.5\" y=\"-119.3\" font-family=\"Times New Roman,serif\" font-size=\"14.00\">value = [6, 0]</text>\r\n",
       "<text text-anchor=\"middle\" x=\"1247.5\" y=\"-104.3\" font-family=\"Times New Roman,serif\" font-size=\"14.00\">class = malignant</text>\r\n",
       "</g>\r\n",
       "<!-- 21&#45;&gt;23 -->\r\n",
       "<g id=\"edge23\" class=\"edge\"><title>21&#45;&gt;23</title>\r\n",
       "<path fill=\"none\" stroke=\"black\" d=\"M1206.3,-192.884C1212.95,-181.776 1220.37,-169.372 1227.06,-158.184\"/>\r\n",
       "<polygon fill=\"black\" stroke=\"black\" points=\"1230.11,-159.899 1232.24,-149.52 1224.1,-156.306 1230.11,-159.899\"/>\r\n",
       "</g>\r\n",
       "</g>\r\n",
       "</svg>\r\n"
      ],
      "text/plain": [
       "<graphviz.files.Source at 0x17655c259c8>"
      ]
     },
     "execution_count": 10,
     "metadata": {},
     "output_type": "execute_result"
    }
   ],
   "source": [
    "with open('tree.dot') as f:\n",
    "    dot_graph = f.read()\n",
    "\n",
    "graphviz.Source(dot_graph)"
   ]
  },
  {
   "cell_type": "markdown",
   "metadata": {},
   "source": [
    "### 2.3.5.4　決定木の特徴量の重要性"
   ]
  },
  {
   "cell_type": "code",
   "execution_count": 11,
   "metadata": {},
   "outputs": [
    {
     "name": "stdout",
     "output_type": "stream",
     "text": [
      "Feature importances:\n",
      "[0.         0.02649864 0.         0.         0.         0.\n",
      " 0.         0.70898365 0.         0.         0.01301136 0.\n",
      " 0.         0.         0.00158373 0.00683271 0.         0.01734457\n",
      " 0.         0.         0.06009867 0.09115461 0.02928303 0.0351676\n",
      " 0.01004143 0.         0.         0.         0.         0.        ]\n"
     ]
    }
   ],
   "source": [
    "print('Feature importances:\\n{}'.format(tree.feature_importances_))"
   ]
  },
  {
   "cell_type": "code",
   "execution_count": 12,
   "metadata": {},
   "outputs": [
    {
     "data": {
      "image/png": "[encoded data removed]",
      "text/plain": [
       "<Figure size 432x288 with 1 Axes>"
      ]
     },
     "metadata": {
      "needs_background": "light"
     },
     "output_type": "display_data"
    }
   ],
   "source": [
    "def plot_feature_importances_cancer(model):\n",
    "    n_features = cancer.data.shape[1] # 特徴量の数\n",
    "    plt.barh(range(n_features), model.feature_importances_, align='center')\n",
    "    plt.yticks(np.arange(n_features), cancer\n",
    "               .feature_names)\n",
    "    plt.xlabel('Feature importance')\n",
    "    plt.ylabel('Feature')\n",
    "\n",
    "plot_feature_importances_cancer(tree)"
   ]
  },
  {
   "cell_type": "code",
   "execution_count": 13,
   "metadata": {},
   "outputs": [
    {
     "name": "stdout",
     "output_type": "stream",
     "text": [
      "Feature importances: [0. 1.]\n"
     ]
    },
    {
     "data": {
      "image/svg+xml": [
       "<?xml version=\"1.0\" encoding=\"UTF-8\" standalone=\"no\"?>\r\n",
       "<!DOCTYPE svg PUBLIC \"-//W3C//DTD SVG 1.1//EN\"\r\n",
       " \"http://www.w3.org/Graphics/SVG/1.1/DTD/svg11.dtd\">\r\n",
       "<!-- Generated by graphviz version 2.38.0 (20140413.2041)\r\n",
       " -->\r\n",
       "<!-- Title: Tree Pages: 1 -->\r\n",
       "<svg width=\"283pt\" height=\"224pt\"\r\n",
       " viewBox=\"0.00 0.00 283.00 224.00\" xmlns=\"http://www.w3.org/2000/svg\" xmlns:xlink=\"http://www.w3.org/1999/xlink\">\r\n",
       "<g id=\"graph0\" class=\"graph\" transform=\"scale(1 1) rotate(0) translate(4 220)\">\r\n",
       "<title>Tree</title>\r\n",
       "<polygon fill=\"white\" stroke=\"none\" points=\"-4,4 -4,-220 279,-220 279,4 -4,4\"/>\r\n",
       "<!-- 0 -->\r\n",
       "<g id=\"node1\" class=\"node\"><title>0</title>\r\n",
       "<polygon fill=\"#ffffff\" stroke=\"black\" points=\"160,-216 56,-216 56,-163 160,-163 160,-216\"/>\r\n",
       "<text text-anchor=\"middle\" x=\"108\" y=\"-200.8\" font-family=\"Times New Roman,serif\" font-size=\"14.00\">X[1] &lt;= &#45;5.814</text>\r\n",
       "<text text-anchor=\"middle\" x=\"108\" y=\"-185.8\" font-family=\"Times New Roman,serif\" font-size=\"14.00\">samples = 100</text>\r\n",
       "<text text-anchor=\"middle\" x=\"108\" y=\"-170.8\" font-family=\"Times New Roman,serif\" font-size=\"14.00\">value = [50, 50]</text>\r\n",
       "</g>\r\n",
       "<!-- 1 -->\r\n",
       "<g id=\"node2\" class=\"node\"><title>1</title>\r\n",
       "<polygon fill=\"#e58139\" stroke=\"black\" points=\"98,-119.5 0,-119.5 0,-81.5 98,-81.5 98,-119.5\"/>\r\n",
       "<text text-anchor=\"middle\" x=\"49\" y=\"-104.3\" font-family=\"Times New Roman,serif\" font-size=\"14.00\">samples = 25</text>\r\n",
       "<text text-anchor=\"middle\" x=\"49\" y=\"-89.3\" font-family=\"Times New Roman,serif\" font-size=\"14.00\">value = [25, 0]</text>\r\n",
       "</g>\r\n",
       "<!-- 0&#45;&gt;1 -->\r\n",
       "<g id=\"edge1\" class=\"edge\"><title>0&#45;&gt;1</title>\r\n",
       "<path fill=\"none\" stroke=\"black\" d=\"M90.6172,-162.868C83.1609,-151.873 74.4545,-139.035 66.9379,-127.951\"/>\r\n",
       "<polygon fill=\"black\" stroke=\"black\" points=\"69.7209,-125.819 61.2114,-119.507 63.9274,-129.747 69.7209,-125.819\"/>\r\n",
       "<text text-anchor=\"middle\" x=\"56.5027\" y=\"-140.359\" font-family=\"Times New Roman,serif\" font-size=\"14.00\">True</text>\r\n",
       "</g>\r\n",
       "<!-- 2 -->\r\n",
       "<g id=\"node3\" class=\"node\"><title>2</title>\r\n",
       "<polygon fill=\"#9ccef2\" stroke=\"black\" points=\"220,-127 116,-127 116,-74 220,-74 220,-127\"/>\r\n",
       "<text text-anchor=\"middle\" x=\"168\" y=\"-111.8\" font-family=\"Times New Roman,serif\" font-size=\"14.00\">X[1] &lt;= 5.348</text>\r\n",
       "<text text-anchor=\"middle\" x=\"168\" y=\"-96.8\" font-family=\"Times New Roman,serif\" font-size=\"14.00\">samples = 75</text>\r\n",
       "<text text-anchor=\"middle\" x=\"168\" y=\"-81.8\" font-family=\"Times New Roman,serif\" font-size=\"14.00\">value = [25, 50]</text>\r\n",
       "</g>\r\n",
       "<!-- 0&#45;&gt;2 -->\r\n",
       "<g id=\"edge2\" class=\"edge\"><title>0&#45;&gt;2</title>\r\n",
       "<path fill=\"none\" stroke=\"black\" d=\"M125.677,-162.868C131.545,-154.359 138.174,-144.747 144.415,-135.698\"/>\r\n",
       "<polygon fill=\"black\" stroke=\"black\" points=\"147.445,-137.469 150.242,-127.25 141.683,-133.495 147.445,-137.469\"/>\r\n",
       "<text text-anchor=\"middle\" x=\"154.758\" y=\"-148.138\" font-family=\"Times New Roman,serif\" font-size=\"14.00\">False</text>\r\n",
       "</g>\r\n",
       "<!-- 3 -->\r\n",
       "<g id=\"node4\" class=\"node\"><title>3</title>\r\n",
       "<polygon fill=\"#399de5\" stroke=\"black\" points=\"159,-38 61,-38 61,-0 159,-0 159,-38\"/>\r\n",
       "<text text-anchor=\"middle\" x=\"110\" y=\"-22.8\" font-family=\"Times New Roman,serif\" font-size=\"14.00\">samples = 50</text>\r\n",
       "<text text-anchor=\"middle\" x=\"110\" y=\"-7.8\" font-family=\"Times New Roman,serif\" font-size=\"14.00\">value = [0, 50]</text>\r\n",
       "</g>\r\n",
       "<!-- 2&#45;&gt;3 -->\r\n",
       "<g id=\"edge3\" class=\"edge\"><title>2&#45;&gt;3</title>\r\n",
       "<path fill=\"none\" stroke=\"black\" d=\"M149.329,-73.9081C142.905,-65.1022 135.702,-55.2299 129.234,-46.3636\"/>\r\n",
       "<polygon fill=\"black\" stroke=\"black\" points=\"132.028,-44.2546 123.306,-38.2389 126.373,-48.3803 132.028,-44.2546\"/>\r\n",
       "</g>\r\n",
       "<!-- 4 -->\r\n",
       "<g id=\"node5\" class=\"node\"><title>4</title>\r\n",
       "<polygon fill=\"#e58139\" stroke=\"black\" points=\"275,-38 177,-38 177,-0 275,-0 275,-38\"/>\r\n",
       "<text text-anchor=\"middle\" x=\"226\" y=\"-22.8\" font-family=\"Times New Roman,serif\" font-size=\"14.00\">samples = 25</text>\r\n",
       "<text text-anchor=\"middle\" x=\"226\" y=\"-7.8\" font-family=\"Times New Roman,serif\" font-size=\"14.00\">value = [25, 0]</text>\r\n",
       "</g>\r\n",
       "<!-- 2&#45;&gt;4 -->\r\n",
       "<g id=\"edge4\" class=\"edge\"><title>2&#45;&gt;4</title>\r\n",
       "<path fill=\"none\" stroke=\"black\" d=\"M186.671,-73.9081C193.095,-65.1022 200.298,-55.2299 206.766,-46.3636\"/>\r\n",
       "<polygon fill=\"black\" stroke=\"black\" points=\"209.627,-48.3803 212.694,-38.2389 203.972,-44.2546 209.627,-48.3803\"/>\r\n",
       "</g>\r\n",
       "</g>\r\n",
       "</svg>\r\n"
      ],
      "text/plain": [
       "<graphviz.files.Source at 0x17655d861c8>"
      ]
     },
     "metadata": {},
     "output_type": "display_data"
    },
    {
     "data": {
      "image/png": "[encoded data removed]",
      "text/plain": [
       "<Figure size 432x288 with 1 Axes>"
      ]
     },
     "metadata": {},
     "output_type": "display_data"
    }
   ],
   "source": [
    "tree = mglearn.plots.plot_tree_not_monotone()\n",
    "display(tree)"
   ]
  },
  {
   "cell_type": "code",
   "execution_count": 14,
   "metadata": {},
   "outputs": [
    {
     "data": {
      "text/plain": [
       "Text(0, 0.5, 'Price in $/Mbyte')"
      ]
     },
     "execution_count": 14,
     "metadata": {},
     "output_type": "execute_result"
    },
    {
     "data": {
      "image/png": "[encoded data removed]",
      "text/plain": [
       "<Figure size 432x288 with 1 Axes>"
      ]
     },
     "metadata": {
      "needs_background": "light"
     },
     "output_type": "display_data"
    }
   ],
   "source": [
    "# 計算機メモリ（RAM）の価格履歴データ\n",
    "ram_prices = pd.read_csv(os.path.join(mglearn.datasets.DATA_PATH, 'ram_price.csv'))\n",
    "\n",
    "plt.semilogy(ram_prices.date, ram_prices.price)\n",
    "plt.xlabel('Year')\n",
    "plt.ylabel('Price in $/Mbyte')"
   ]
  },
  {
   "cell_type": "code",
   "execution_count": 15,
   "metadata": {},
   "outputs": [
    {
     "data": {
      "text/html": [
       "<div>\n",
       "<style scoped>\n",
       "    .dataframe tbody tr th:only-of-type {\n",
       "        vertical-align: middle;\n",
       "    }\n",
       "\n",
       "    .dataframe tbody tr th {\n",
       "        vertical-align: top;\n",
       "    }\n",
       "\n",
       "    .dataframe thead th {\n",
       "        text-align: right;\n",
       "    }\n",
       "</style>\n",
       "<table border=\"1\" class=\"dataframe\">\n",
       "  <thead>\n",
       "    <tr style=\"text-align: right;\">\n",
       "      <th></th>\n",
       "      <th>Unnamed: 0</th>\n",
       "      <th>date</th>\n",
       "      <th>price</th>\n",
       "    </tr>\n",
       "  </thead>\n",
       "  <tbody>\n",
       "    <tr>\n",
       "      <th>0</th>\n",
       "      <td>0</td>\n",
       "      <td>1957.0</td>\n",
       "      <td>411041792.0</td>\n",
       "    </tr>\n",
       "    <tr>\n",
       "      <th>1</th>\n",
       "      <td>1</td>\n",
       "      <td>1959.0</td>\n",
       "      <td>67947725.0</td>\n",
       "    </tr>\n",
       "    <tr>\n",
       "      <th>2</th>\n",
       "      <td>2</td>\n",
       "      <td>1960.0</td>\n",
       "      <td>5242880.0</td>\n",
       "    </tr>\n",
       "    <tr>\n",
       "      <th>3</th>\n",
       "      <td>3</td>\n",
       "      <td>1965.0</td>\n",
       "      <td>2642412.0</td>\n",
       "    </tr>\n",
       "    <tr>\n",
       "      <th>4</th>\n",
       "      <td>4</td>\n",
       "      <td>1970.0</td>\n",
       "      <td>734003.0</td>\n",
       "    </tr>\n",
       "  </tbody>\n",
       "</table>\n",
       "</div>"
      ],
      "text/plain": [
       "   Unnamed: 0    date        price\n",
       "0           0  1957.0  411041792.0\n",
       "1           1  1959.0   67947725.0\n",
       "2           2  1960.0    5242880.0\n",
       "3           3  1965.0    2642412.0\n",
       "4           4  1970.0     734003.0"
      ]
     },
     "execution_count": 15,
     "metadata": {},
     "output_type": "execute_result"
    }
   ],
   "source": [
    "# 1目的変数に対して、1説明変数の単純なデータ\n",
    "ram_prices.head()"
   ]
  },
  {
   "cell_type": "code",
   "execution_count": 16,
   "metadata": {},
   "outputs": [
    {
     "name": "stdout",
     "output_type": "stream",
     "text": [
      "(202, 3)\n",
      "(202, 3)\n"
     ]
    },
    {
     "data": {
      "text/html": [
       "<div>\n",
       "<style scoped>\n",
       "    .dataframe tbody tr th:only-of-type {\n",
       "        vertical-align: middle;\n",
       "    }\n",
       "\n",
       "    .dataframe tbody tr th {\n",
       "        vertical-align: top;\n",
       "    }\n",
       "\n",
       "    .dataframe thead th {\n",
       "        text-align: right;\n",
       "    }\n",
       "</style>\n",
       "<table border=\"1\" class=\"dataframe\">\n",
       "  <thead>\n",
       "    <tr style=\"text-align: right;\">\n",
       "      <th></th>\n",
       "      <th>Unnamed: 0</th>\n",
       "      <th>date</th>\n",
       "      <th>price</th>\n",
       "    </tr>\n",
       "  </thead>\n",
       "  <tbody>\n",
       "    <tr>\n",
       "      <th>0</th>\n",
       "      <td>0</td>\n",
       "      <td>1957.0</td>\n",
       "      <td>411041792.0</td>\n",
       "    </tr>\n",
       "    <tr>\n",
       "      <th>1</th>\n",
       "      <td>1</td>\n",
       "      <td>1959.0</td>\n",
       "      <td>67947725.0</td>\n",
       "    </tr>\n",
       "    <tr>\n",
       "      <th>2</th>\n",
       "      <td>2</td>\n",
       "      <td>1960.0</td>\n",
       "      <td>5242880.0</td>\n",
       "    </tr>\n",
       "    <tr>\n",
       "      <th>3</th>\n",
       "      <td>3</td>\n",
       "      <td>1965.0</td>\n",
       "      <td>2642412.0</td>\n",
       "    </tr>\n",
       "    <tr>\n",
       "      <th>4</th>\n",
       "      <td>4</td>\n",
       "      <td>1970.0</td>\n",
       "      <td>734003.0</td>\n",
       "    </tr>\n",
       "  </tbody>\n",
       "</table>\n",
       "</div>"
      ],
      "text/plain": [
       "   Unnamed: 0    date        price\n",
       "0           0  1957.0  411041792.0\n",
       "1           1  1959.0   67947725.0\n",
       "2           2  1960.0    5242880.0\n",
       "3           3  1965.0    2642412.0\n",
       "4           4  1970.0     734003.0"
      ]
     },
     "execution_count": 16,
     "metadata": {},
     "output_type": "execute_result"
    }
   ],
   "source": [
    "# 2000年より前はtrain、それより後はtestデータ\n",
    "data_train = ram_prices[ram_prices.date < 2000]\n",
    "data_test = ram_prices[ram_prices.date < 2000]\n",
    "\n",
    "print(data_train.shape)\n",
    "print(data_test.shape)\n",
    "\n",
    "data_train.head()"
   ]
  },
  {
   "cell_type": "code",
   "execution_count": 20,
   "metadata": {},
   "outputs": [],
   "source": [
    "# 2000年より前をtrain、それ以降をtest\n",
    "data_train = ram_prices[ram_prices.date < 2000]\n",
    "data_test = ram_prices[ram_prices.date >= 2000]\n",
    "\n",
    "# 目的変数を対数化\n",
    "X_train = data_train.date[:, np.newaxis]\n",
    "y_train = np.log(data_train.price)\n",
    "\n",
    "tree = DecisionTreeRegressor(max_depth=3).fit(X_train, y_train)\n",
    "linear_reg = LinearRegression().fit(X_train, y_train)\n",
    "\n",
    "# 全てのデータに対して予測\n",
    "X_all = ram_prices.date[:, np.newaxis]\n",
    "\n",
    "pred_tree = tree.predict(X_all)\n",
    "pred_lr = linear_reg.predict(X_all)\n",
    "\n",
    "# 最後に対数化から戻すための指数化\n",
    "price_tree = np.exp(pred_tree)\n",
    "price_lr = np.exp(pred_lr)"
   ]
  },
  {
   "cell_type": "code",
   "execution_count": 21,
   "metadata": {},
   "outputs": [
    {
     "data": {
      "text/plain": [
       "<matplotlib.legend.Legend at 0x17655d87b88>"
      ]
     },
     "execution_count": 21,
     "metadata": {},
     "output_type": "execute_result"
    },
    {
     "data": {
      "image/png": "[encoded data removed]",
      "text/plain": [
       "<Figure size 432x288 with 1 Axes>"
      ]
     },
     "metadata": {
      "needs_background": "light"
     },
     "output_type": "display_data"
    }
   ],
   "source": [
    "plt.semilogy(data_train.date, data_train.price, label=\"Training data\")\n",
    "plt.semilogy(data_test.date, data_test.price, label=\"Test data\")\n",
    "plt.semilogy(ram_prices.date, price_tree, label=\"Tree prediction\")\n",
    "plt.semilogy(ram_prices.date, price_lr, label=\"Linear prediction\")\n",
    "plt.legend()"
   ]
  },
  {
   "cell_type": "markdown",
   "metadata": {},
   "source": [
    "線形回帰はtestに対して予測をするが、決定木はtrainデータの最後の予測点を返すのみとなる。<br>\n",
    "\n",
    "決定木において、個々の特徴量は独立に処理されるため、特徴量の正規化や標準化は不要である。<br>\n",
    "また決定木は過剰適合しやすく汎化性能が低いため、決定木単体での使用をすることは少なく、アンサンブル法が用いられる。"
   ]
  }
 ],
 "metadata": {
  "kernelspec": {
   "display_name": "Python 3",
   "language": "python",
   "name": "python3"
  },
  "language_info": {
   "codemirror_mode": {
    "name": "ipython",
    "version": 3
   },
   "file_extension": ".py",
   "mimetype": "text/x-python",
   "name": "python",
   "nbconvert_exporter": "python",
   "pygments_lexer": "ipython3",
   "version": "3.7.6"
  }
 },
 "nbformat": 4,
 "nbformat_minor": 4
}
