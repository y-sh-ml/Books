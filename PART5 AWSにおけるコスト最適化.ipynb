{
 "cells": [
  {
   "cell_type": "markdown",
   "metadata": {},
   "source": [
    "# PART5　AWSにおけるコスト最適化"
   ]
  },
  {
   "cell_type": "markdown",
   "metadata": {},
   "source": [
    "## 5-4　コスト管理"
   ]
  },
  {
   "cell_type": "markdown",
   "metadata": {},
   "source": [
    "・Amazon Kinesis：ストリーミングデータの**収集・処理・リアルタイム分析**ができるサービス<br>\n",
    "\n",
    "以下の3種類のサービスで構成されている。\n",
    "\n",
    "・Amazon Kinesis Data Streams：ストリーミングデータを**ほぼリアルタイムで保存**することができるサービス<br>\n",
    "・Amazon Kinesis Data Firehose：独自にアプリケーションを構築せずに、ストリームデータを**AWSの各サービスに配信・保存**ができるサービス<br>\n",
    "・Amazon Kinesis Data Analytics：ストリーミングデータに対して**SQLを実行し、リアルタイム分析**を行うサービス"
   ]
  }
 ],
 "metadata": {
  "kernelspec": {
   "display_name": "Python 3",
   "language": "python",
   "name": "python3"
  },
  "language_info": {
   "codemirror_mode": {
    "name": "ipython",
    "version": 3
   },
   "file_extension": ".py",
   "mimetype": "text/x-python",
   "name": "python",
   "nbconvert_exporter": "python",
   "pygments_lexer": "ipython3",
   "version": "3.7.6"
  }
 },
 "nbformat": 4,
 "nbformat_minor": 4
}
