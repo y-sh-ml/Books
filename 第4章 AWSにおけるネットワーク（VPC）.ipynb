{
 "cells": [
  {
   "cell_type": "markdown",
   "metadata": {},
   "source": [
    "# 第4章　AWSにおけるネットワーク（VPC）"
   ]
  },
  {
   "cell_type": "markdown",
   "metadata": {},
   "source": [
    "## 4-1　VPCの機能と設定"
   ]
  },
  {
   "cell_type": "markdown",
   "metadata": {},
   "source": [
    "・VPC：AWS上に利用者ごとのプライベートなネットワーク空間を提供する仕組み<br>\n",
    "・ルートテーブル：サブネット内のインスタンスに対する静的ルーティングを定義するもの\n",
    "\n",
    "サブネットの特徴について、以下のものがある。\n",
    "\n",
    "・セキュリティグループはインスタンス単位、ネットワークACLはサブネット単位でセキュリティ管理を行う（**サブネットと他のもの**）<br>\n",
    "・VPC内の全ての**サブネット間**の通信は、デフォルトで許可されており、**変更や削除はできない**"
   ]
  }
 ],
 "metadata": {
  "kernelspec": {
   "display_name": "Python 3",
   "language": "python",
   "name": "python3"
  },
  "language_info": {
   "codemirror_mode": {
    "name": "ipython",
    "version": 3
   },
   "file_extension": ".py",
   "mimetype": "text/x-python",
   "name": "python",
   "nbconvert_exporter": "python",
   "pygments_lexer": "ipython3",
   "version": "3.7.6"
  }
 },
 "nbformat": 4,
 "nbformat_minor": 4
}
