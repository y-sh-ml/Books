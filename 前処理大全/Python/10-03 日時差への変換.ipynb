{
 "cells": [
  {
   "cell_type": "markdown",
   "id": "42bf08e5",
   "metadata": {},
   "source": [
    "## 10-3　日時差への変換"
   ]
  },
  {
   "cell_type": "code",
   "execution_count": 1,
   "id": "5e5aa62d",
   "metadata": {},
   "outputs": [],
   "source": [
    "import pandas as pd"
   ]
  },
  {
   "cell_type": "code",
   "execution_count": 2,
   "id": "3e21801c",
   "metadata": {},
   "outputs": [
    {
     "name": "stdout",
     "output_type": "stream",
     "text": [
      "(4030, 9)\n"
     ]
    },
    {
     "data": {
      "text/html": [
       "<div>\n",
       "<style scoped>\n",
       "    .dataframe tbody tr th:only-of-type {\n",
       "        vertical-align: middle;\n",
       "    }\n",
       "\n",
       "    .dataframe tbody tr th {\n",
       "        vertical-align: top;\n",
       "    }\n",
       "\n",
       "    .dataframe thead th {\n",
       "        text-align: right;\n",
       "    }\n",
       "</style>\n",
       "<table border=\"1\" class=\"dataframe\">\n",
       "  <thead>\n",
       "    <tr style=\"text-align: right;\">\n",
       "      <th></th>\n",
       "      <th>reserve_id</th>\n",
       "      <th>hotel_id</th>\n",
       "      <th>customer_id</th>\n",
       "      <th>reserve_datetime</th>\n",
       "      <th>checkin_date</th>\n",
       "      <th>checkin_time</th>\n",
       "      <th>checkout_date</th>\n",
       "      <th>people_num</th>\n",
       "      <th>total_price</th>\n",
       "    </tr>\n",
       "  </thead>\n",
       "  <tbody>\n",
       "    <tr>\n",
       "      <th>0</th>\n",
       "      <td>r1</td>\n",
       "      <td>h_75</td>\n",
       "      <td>c_1</td>\n",
       "      <td>2016-03-06 13:09:42</td>\n",
       "      <td>2016-03-26</td>\n",
       "      <td>10:00:00</td>\n",
       "      <td>2016-03-29</td>\n",
       "      <td>4</td>\n",
       "      <td>97200</td>\n",
       "    </tr>\n",
       "    <tr>\n",
       "      <th>1</th>\n",
       "      <td>r2</td>\n",
       "      <td>h_219</td>\n",
       "      <td>c_1</td>\n",
       "      <td>2016-07-16 23:39:55</td>\n",
       "      <td>2016-07-20</td>\n",
       "      <td>11:30:00</td>\n",
       "      <td>2016-07-21</td>\n",
       "      <td>2</td>\n",
       "      <td>20600</td>\n",
       "    </tr>\n",
       "    <tr>\n",
       "      <th>2</th>\n",
       "      <td>r3</td>\n",
       "      <td>h_179</td>\n",
       "      <td>c_1</td>\n",
       "      <td>2016-09-24 10:03:17</td>\n",
       "      <td>2016-10-19</td>\n",
       "      <td>09:00:00</td>\n",
       "      <td>2016-10-22</td>\n",
       "      <td>2</td>\n",
       "      <td>33600</td>\n",
       "    </tr>\n",
       "    <tr>\n",
       "      <th>3</th>\n",
       "      <td>r4</td>\n",
       "      <td>h_214</td>\n",
       "      <td>c_1</td>\n",
       "      <td>2017-03-08 03:20:10</td>\n",
       "      <td>2017-03-29</td>\n",
       "      <td>11:00:00</td>\n",
       "      <td>2017-03-30</td>\n",
       "      <td>4</td>\n",
       "      <td>194400</td>\n",
       "    </tr>\n",
       "    <tr>\n",
       "      <th>4</th>\n",
       "      <td>r5</td>\n",
       "      <td>h_16</td>\n",
       "      <td>c_1</td>\n",
       "      <td>2017-09-05 19:50:37</td>\n",
       "      <td>2017-09-22</td>\n",
       "      <td>10:30:00</td>\n",
       "      <td>2017-09-23</td>\n",
       "      <td>3</td>\n",
       "      <td>68100</td>\n",
       "    </tr>\n",
       "  </tbody>\n",
       "</table>\n",
       "</div>"
      ],
      "text/plain": [
       "  reserve_id hotel_id customer_id     reserve_datetime checkin_date  \\\n",
       "0         r1     h_75         c_1  2016-03-06 13:09:42   2016-03-26   \n",
       "1         r2    h_219         c_1  2016-07-16 23:39:55   2016-07-20   \n",
       "2         r3    h_179         c_1  2016-09-24 10:03:17   2016-10-19   \n",
       "3         r4    h_214         c_1  2017-03-08 03:20:10   2017-03-29   \n",
       "4         r5     h_16         c_1  2017-09-05 19:50:37   2017-09-22   \n",
       "\n",
       "  checkin_time checkout_date  people_num  total_price  \n",
       "0     10:00:00    2016-03-29           4        97200  \n",
       "1     11:30:00    2016-07-21           2        20600  \n",
       "2     09:00:00    2016-10-22           2        33600  \n",
       "3     11:00:00    2017-03-30           4       194400  \n",
       "4     10:30:00    2017-09-23           3        68100  "
      ]
     },
     "execution_count": 2,
     "metadata": {},
     "output_type": "execute_result"
    }
   ],
   "source": [
    "reserve_tb = pd.read_csv('reserve.csv')\n",
    "print(reserve_tb.shape)\n",
    "reserve_tb.head()"
   ]
  },
  {
   "cell_type": "code",
   "execution_count": 3,
   "id": "7e9d924b",
   "metadata": {},
   "outputs": [
    {
     "name": "stdout",
     "output_type": "stream",
     "text": [
      "datetime64[ns]\n"
     ]
    }
   ],
   "source": [
    "reserve_tb['reserve_datetime'] = pd.to_datetime(reserve_tb['reserve_datetime'], format='%Y-%m-%d %H:%M:%S')\n",
    "print(reserve_tb['reserve_datetime'].dtype)"
   ]
  },
  {
   "cell_type": "code",
   "execution_count": 4,
   "id": "379c61c4",
   "metadata": {},
   "outputs": [
    {
     "data": {
      "text/html": [
       "<div>\n",
       "<style scoped>\n",
       "    .dataframe tbody tr th:only-of-type {\n",
       "        vertical-align: middle;\n",
       "    }\n",
       "\n",
       "    .dataframe tbody tr th {\n",
       "        vertical-align: top;\n",
       "    }\n",
       "\n",
       "    .dataframe thead th {\n",
       "        text-align: right;\n",
       "    }\n",
       "</style>\n",
       "<table border=\"1\" class=\"dataframe\">\n",
       "  <thead>\n",
       "    <tr style=\"text-align: right;\">\n",
       "      <th></th>\n",
       "      <th>reserve_id</th>\n",
       "      <th>hotel_id</th>\n",
       "      <th>customer_id</th>\n",
       "      <th>reserve_datetime</th>\n",
       "      <th>checkin_datetime</th>\n",
       "    </tr>\n",
       "  </thead>\n",
       "  <tbody>\n",
       "    <tr>\n",
       "      <th>0</th>\n",
       "      <td>r1</td>\n",
       "      <td>h_75</td>\n",
       "      <td>c_1</td>\n",
       "      <td>2016-03-06 13:09:42</td>\n",
       "      <td>2016-03-26 10:00:00</td>\n",
       "    </tr>\n",
       "    <tr>\n",
       "      <th>1</th>\n",
       "      <td>r2</td>\n",
       "      <td>h_219</td>\n",
       "      <td>c_1</td>\n",
       "      <td>2016-07-16 23:39:55</td>\n",
       "      <td>2016-07-20 11:30:00</td>\n",
       "    </tr>\n",
       "    <tr>\n",
       "      <th>2</th>\n",
       "      <td>r3</td>\n",
       "      <td>h_179</td>\n",
       "      <td>c_1</td>\n",
       "      <td>2016-09-24 10:03:17</td>\n",
       "      <td>2016-10-19 09:00:00</td>\n",
       "    </tr>\n",
       "    <tr>\n",
       "      <th>3</th>\n",
       "      <td>r4</td>\n",
       "      <td>h_214</td>\n",
       "      <td>c_1</td>\n",
       "      <td>2017-03-08 03:20:10</td>\n",
       "      <td>2017-03-29 11:00:00</td>\n",
       "    </tr>\n",
       "    <tr>\n",
       "      <th>4</th>\n",
       "      <td>r5</td>\n",
       "      <td>h_16</td>\n",
       "      <td>c_1</td>\n",
       "      <td>2017-09-05 19:50:37</td>\n",
       "      <td>2017-09-22 10:30:00</td>\n",
       "    </tr>\n",
       "  </tbody>\n",
       "</table>\n",
       "</div>"
      ],
      "text/plain": [
       "  reserve_id hotel_id customer_id    reserve_datetime    checkin_datetime\n",
       "0         r1     h_75         c_1 2016-03-06 13:09:42 2016-03-26 10:00:00\n",
       "1         r2    h_219         c_1 2016-07-16 23:39:55 2016-07-20 11:30:00\n",
       "2         r3    h_179         c_1 2016-09-24 10:03:17 2016-10-19 09:00:00\n",
       "3         r4    h_214         c_1 2017-03-08 03:20:10 2017-03-29 11:00:00\n",
       "4         r5     h_16         c_1 2017-09-05 19:50:37 2017-09-22 10:30:00"
      ]
     },
     "execution_count": 4,
     "metadata": {},
     "output_type": "execute_result"
    }
   ],
   "source": [
    "reserve_tb['checkin_datetime'] = pd.to_datetime(reserve_tb['checkin_date'] + reserve_tb['checkin_time'], format='%Y-%m-%d%H:%M:%S')\n",
    "reserve_tb = reserve_tb[['reserve_id', 'hotel_id', 'customer_id', 'reserve_datetime', 'checkin_datetime']]\n",
    "reserve_tb.head()"
   ]
  },
  {
   "cell_type": "markdown",
   "id": "e260d005",
   "metadata": {},
   "source": [
    "年の差分"
   ]
  },
  {
   "cell_type": "code",
   "execution_count": 5,
   "id": "b7fc8f43",
   "metadata": {},
   "outputs": [],
   "source": [
    "reserve_tb['diff_year'] = reserve_tb['reserve_datetime'].dt.year - reserve_tb['checkin_datetime'].dt.year"
   ]
  },
  {
   "cell_type": "markdown",
   "id": "b6e2be33",
   "metadata": {},
   "source": [
    "月の差分"
   ]
  },
  {
   "cell_type": "code",
   "execution_count": 6,
   "id": "1fbacc2f",
   "metadata": {},
   "outputs": [],
   "source": [
    "reserve_tb['diff_month'] = (reserve_tb['reserve_datetime'].dt.year*12 + reserve_tb['reserve_datetime'].dt.month)\\\n",
    "- (reserve_tb['checkin_datetime'].dt.year*12 + reserve_tb['checkin_datetime'].dt.month)"
   ]
  },
  {
   "cell_type": "markdown",
   "id": "88f0b441",
   "metadata": {},
   "source": [
    "日単位での差分"
   ]
  },
  {
   "cell_type": "code",
   "execution_count": 7,
   "id": "0861ca60",
   "metadata": {},
   "outputs": [],
   "source": [
    "reserve_tb['diff_day'] = (reserve_tb['reserve_datetime'] - reserve_tb['checkin_datetime']).astype('timedelta64[D]')"
   ]
  },
  {
   "cell_type": "markdown",
   "id": "bdc19f6a",
   "metadata": {},
   "source": [
    "時単位での差分"
   ]
  },
  {
   "cell_type": "code",
   "execution_count": 8,
   "id": "811991e2",
   "metadata": {},
   "outputs": [],
   "source": [
    "reserve_tb['diff_hour'] = (reserve_tb['reserve_datetime'] - reserve_tb['checkin_datetime']).astype('timedelta64[h]')"
   ]
  },
  {
   "cell_type": "markdown",
   "id": "b5f4dcb5",
   "metadata": {},
   "source": [
    "分単位での差分"
   ]
  },
  {
   "cell_type": "code",
   "execution_count": 9,
   "id": "0c5f162a",
   "metadata": {},
   "outputs": [],
   "source": [
    "reserve_tb['diff_minute'] = (reserve_tb['reserve_datetime'] - reserve_tb['checkin_datetime']).astype('timedelta64[m]')"
   ]
  },
  {
   "cell_type": "markdown",
   "id": "22790765",
   "metadata": {},
   "source": [
    "秒単位での差分"
   ]
  },
  {
   "cell_type": "code",
   "execution_count": 10,
   "id": "1ca64bb5",
   "metadata": {},
   "outputs": [],
   "source": [
    "reserve_tb['diff_second'] = (reserve_tb['reserve_datetime'] - reserve_tb['checkin_datetime']).astype('timedelta64[s]')"
   ]
  },
  {
   "cell_type": "markdown",
   "id": "1ead108b",
   "metadata": {},
   "source": [
    "日／時／分／秒単位に変換した場合、少数点以下は切り上げた結果が返ってくるため、注意が必要である。"
   ]
  },
  {
   "cell_type": "code",
   "execution_count": 11,
   "id": "81459cc7",
   "metadata": {},
   "outputs": [
    {
     "data": {
      "text/html": [
       "<div>\n",
       "<style scoped>\n",
       "    .dataframe tbody tr th:only-of-type {\n",
       "        vertical-align: middle;\n",
       "    }\n",
       "\n",
       "    .dataframe tbody tr th {\n",
       "        vertical-align: top;\n",
       "    }\n",
       "\n",
       "    .dataframe thead th {\n",
       "        text-align: right;\n",
       "    }\n",
       "</style>\n",
       "<table border=\"1\" class=\"dataframe\">\n",
       "  <thead>\n",
       "    <tr style=\"text-align: right;\">\n",
       "      <th></th>\n",
       "      <th>reserve_id</th>\n",
       "      <th>hotel_id</th>\n",
       "      <th>customer_id</th>\n",
       "      <th>reserve_datetime</th>\n",
       "      <th>checkin_datetime</th>\n",
       "      <th>diff_year</th>\n",
       "      <th>diff_month</th>\n",
       "      <th>diff_day</th>\n",
       "      <th>diff_hour</th>\n",
       "      <th>diff_minute</th>\n",
       "      <th>diff_second</th>\n",
       "    </tr>\n",
       "  </thead>\n",
       "  <tbody>\n",
       "    <tr>\n",
       "      <th>0</th>\n",
       "      <td>r1</td>\n",
       "      <td>h_75</td>\n",
       "      <td>c_1</td>\n",
       "      <td>2016-03-06 13:09:42</td>\n",
       "      <td>2016-03-26 10:00:00</td>\n",
       "      <td>0</td>\n",
       "      <td>0</td>\n",
       "      <td>-20.0</td>\n",
       "      <td>-477.0</td>\n",
       "      <td>-28611.0</td>\n",
       "      <td>-1716618.0</td>\n",
       "    </tr>\n",
       "    <tr>\n",
       "      <th>1</th>\n",
       "      <td>r2</td>\n",
       "      <td>h_219</td>\n",
       "      <td>c_1</td>\n",
       "      <td>2016-07-16 23:39:55</td>\n",
       "      <td>2016-07-20 11:30:00</td>\n",
       "      <td>0</td>\n",
       "      <td>0</td>\n",
       "      <td>-4.0</td>\n",
       "      <td>-84.0</td>\n",
       "      <td>-5031.0</td>\n",
       "      <td>-301805.0</td>\n",
       "    </tr>\n",
       "    <tr>\n",
       "      <th>2</th>\n",
       "      <td>r3</td>\n",
       "      <td>h_179</td>\n",
       "      <td>c_1</td>\n",
       "      <td>2016-09-24 10:03:17</td>\n",
       "      <td>2016-10-19 09:00:00</td>\n",
       "      <td>0</td>\n",
       "      <td>-1</td>\n",
       "      <td>-25.0</td>\n",
       "      <td>-599.0</td>\n",
       "      <td>-35937.0</td>\n",
       "      <td>-2156203.0</td>\n",
       "    </tr>\n",
       "    <tr>\n",
       "      <th>3</th>\n",
       "      <td>r4</td>\n",
       "      <td>h_214</td>\n",
       "      <td>c_1</td>\n",
       "      <td>2017-03-08 03:20:10</td>\n",
       "      <td>2017-03-29 11:00:00</td>\n",
       "      <td>0</td>\n",
       "      <td>0</td>\n",
       "      <td>-22.0</td>\n",
       "      <td>-512.0</td>\n",
       "      <td>-30700.0</td>\n",
       "      <td>-1841990.0</td>\n",
       "    </tr>\n",
       "    <tr>\n",
       "      <th>4</th>\n",
       "      <td>r5</td>\n",
       "      <td>h_16</td>\n",
       "      <td>c_1</td>\n",
       "      <td>2017-09-05 19:50:37</td>\n",
       "      <td>2017-09-22 10:30:00</td>\n",
       "      <td>0</td>\n",
       "      <td>0</td>\n",
       "      <td>-17.0</td>\n",
       "      <td>-399.0</td>\n",
       "      <td>-23920.0</td>\n",
       "      <td>-1435163.0</td>\n",
       "    </tr>\n",
       "  </tbody>\n",
       "</table>\n",
       "</div>"
      ],
      "text/plain": [
       "  reserve_id hotel_id customer_id    reserve_datetime    checkin_datetime  \\\n",
       "0         r1     h_75         c_1 2016-03-06 13:09:42 2016-03-26 10:00:00   \n",
       "1         r2    h_219         c_1 2016-07-16 23:39:55 2016-07-20 11:30:00   \n",
       "2         r3    h_179         c_1 2016-09-24 10:03:17 2016-10-19 09:00:00   \n",
       "3         r4    h_214         c_1 2017-03-08 03:20:10 2017-03-29 11:00:00   \n",
       "4         r5     h_16         c_1 2017-09-05 19:50:37 2017-09-22 10:30:00   \n",
       "\n",
       "   diff_year  diff_month  diff_day  diff_hour  diff_minute  diff_second  \n",
       "0          0           0     -20.0     -477.0     -28611.0   -1716618.0  \n",
       "1          0           0      -4.0      -84.0      -5031.0    -301805.0  \n",
       "2          0          -1     -25.0     -599.0     -35937.0   -2156203.0  \n",
       "3          0           0     -22.0     -512.0     -30700.0   -1841990.0  \n",
       "4          0           0     -17.0     -399.0     -23920.0   -1435163.0  "
      ]
     },
     "execution_count": 11,
     "metadata": {},
     "output_type": "execute_result"
    }
   ],
   "source": [
    "reserve_tb.head()"
   ]
  }
 ],
 "metadata": {
  "kernelspec": {
   "display_name": "Python 3",
   "language": "python",
   "name": "python3"
  },
  "language_info": {
   "codemirror_mode": {
    "name": "ipython",
    "version": 3
   },
   "file_extension": ".py",
   "mimetype": "text/x-python",
   "name": "python",
   "nbconvert_exporter": "python",
   "pygments_lexer": "ipython3",
   "version": "3.8.8"
  }
 },
 "nbformat": 4,
 "nbformat_minor": 5
}
