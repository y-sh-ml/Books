{
 "cells": [
  {
   "cell_type": "markdown",
   "metadata": {},
   "source": [
    "## 第8章　数値型"
   ]
  },
  {
   "cell_type": "code",
   "execution_count": 31,
   "metadata": {},
   "outputs": [],
   "source": [
    "import numpy as np\n",
    "import pandas as pd\n",
    "from sklearn.preprocessing import StandardScaler\n",
    "from sklearn.decomposition import PCA"
   ]
  },
  {
   "cell_type": "markdown",
   "metadata": {},
   "source": [
    "### 8-1　数値型への変換"
   ]
  },
  {
   "cell_type": "code",
   "execution_count": 32,
   "metadata": {},
   "outputs": [
    {
     "name": "stdout",
     "output_type": "stream",
     "text": [
      "<class 'float'>\n",
      "<class 'int'>\n",
      "<class 'float'>\n"
     ]
    }
   ],
   "source": [
    "print(type(40000 / 3))\n",
    "\n",
    "print(type(int(40000 / 3)))\n",
    "\n",
    "print(type(float(40000 / 3)))"
   ]
  },
  {
   "cell_type": "code",
   "execution_count": 33,
   "metadata": {},
   "outputs": [
    {
     "name": "stdout",
     "output_type": "stream",
     "text": [
      "value    float64\n",
      "dtype: object\n"
     ]
    },
    {
     "data": {
      "text/html": [
       "<div>\n",
       "<style scoped>\n",
       "    .dataframe tbody tr th:only-of-type {\n",
       "        vertical-align: middle;\n",
       "    }\n",
       "\n",
       "    .dataframe tbody tr th {\n",
       "        vertical-align: top;\n",
       "    }\n",
       "\n",
       "    .dataframe thead th {\n",
       "        text-align: right;\n",
       "    }\n",
       "</style>\n",
       "<table border=\"1\" class=\"dataframe\">\n",
       "  <thead>\n",
       "    <tr style=\"text-align: right;\">\n",
       "      <th></th>\n",
       "      <th>value</th>\n",
       "    </tr>\n",
       "  </thead>\n",
       "  <tbody>\n",
       "    <tr>\n",
       "      <th>0</th>\n",
       "      <td>13333.333333</td>\n",
       "    </tr>\n",
       "  </tbody>\n",
       "</table>\n",
       "</div>"
      ],
      "text/plain": [
       "          value\n",
       "0  13333.333333"
      ]
     },
     "execution_count": 33,
     "metadata": {},
     "output_type": "execute_result"
    }
   ],
   "source": [
    "df = pd.DataFrame({'value': [40000 / 3]})\n",
    "\n",
    "print(df.dtypes)\n",
    "df.head()"
   ]
  },
  {
   "cell_type": "code",
   "execution_count": 34,
   "metadata": {},
   "outputs": [
    {
     "data": {
      "text/plain": [
       "0    13333\n",
       "Name: value, dtype: int64"
      ]
     },
     "execution_count": 34,
     "metadata": {},
     "output_type": "execute_result"
    }
   ],
   "source": [
    "df['value'].astype('int8')\n",
    "df['value'].astype('int16')\n",
    "df['value'].astype('int32')\n",
    "df['value'].astype('int64')"
   ]
  },
  {
   "cell_type": "code",
   "execution_count": 35,
   "metadata": {},
   "outputs": [
    {
     "data": {
      "text/plain": [
       "0    13333.333333\n",
       "Name: value, dtype: float64"
      ]
     },
     "execution_count": 35,
     "metadata": {},
     "output_type": "execute_result"
    }
   ],
   "source": [
    "df['value'].astype('float16')\n",
    "df['value'].astype('float32')\n",
    "df['value'].astype('float64')"
   ]
  },
  {
   "cell_type": "markdown",
   "metadata": {},
   "source": [
    "大まかなデータ型指定の場合、クォート（' '）は不要となる。"
   ]
  },
  {
   "cell_type": "code",
   "execution_count": 36,
   "metadata": {},
   "outputs": [
    {
     "data": {
      "text/plain": [
       "0    13333.333333\n",
       "Name: value, dtype: float64"
      ]
     },
     "execution_count": 36,
     "metadata": {},
     "output_type": "execute_result"
    }
   ],
   "source": [
    "df['value'].astype(int)\n",
    "df['value'].astype(float)"
   ]
  },
  {
   "cell_type": "markdown",
   "metadata": {},
   "source": [
    "### 8-2　対数化による非線形な変化"
   ]
  },
  {
   "cell_type": "markdown",
   "metadata": {},
   "source": [
    "対数化とは、値が大きくなるほど、値の差の意味を小さくしたいときに有効な手法である。<br>\n",
    "例えば、10から11歳への身長の伸びと、50から51歳への身長の伸びは異なる場合などに必要となる。"
   ]
  },
  {
   "cell_type": "code",
   "execution_count": 37,
   "metadata": {},
   "outputs": [
    {
     "data": {
      "text/html": [
       "<div>\n",
       "<style scoped>\n",
       "    .dataframe tbody tr th:only-of-type {\n",
       "        vertical-align: middle;\n",
       "    }\n",
       "\n",
       "    .dataframe tbody tr th {\n",
       "        vertical-align: top;\n",
       "    }\n",
       "\n",
       "    .dataframe thead th {\n",
       "        text-align: right;\n",
       "    }\n",
       "</style>\n",
       "<table border=\"1\" class=\"dataframe\">\n",
       "  <thead>\n",
       "    <tr style=\"text-align: right;\">\n",
       "      <th></th>\n",
       "      <th>reserve_id</th>\n",
       "      <th>hotel_id</th>\n",
       "      <th>customer_id</th>\n",
       "      <th>reserve_datetime</th>\n",
       "      <th>checkin_date</th>\n",
       "      <th>checkin_time</th>\n",
       "      <th>checkout_date</th>\n",
       "      <th>people_num</th>\n",
       "      <th>total_price</th>\n",
       "    </tr>\n",
       "  </thead>\n",
       "  <tbody>\n",
       "    <tr>\n",
       "      <th>0</th>\n",
       "      <td>r1</td>\n",
       "      <td>h_75</td>\n",
       "      <td>c_1</td>\n",
       "      <td>2016-03-06 13:09:42</td>\n",
       "      <td>2016-03-26</td>\n",
       "      <td>10:00:00</td>\n",
       "      <td>2016-03-29</td>\n",
       "      <td>4</td>\n",
       "      <td>97200</td>\n",
       "    </tr>\n",
       "    <tr>\n",
       "      <th>1</th>\n",
       "      <td>r2</td>\n",
       "      <td>h_219</td>\n",
       "      <td>c_1</td>\n",
       "      <td>2016-07-16 23:39:55</td>\n",
       "      <td>2016-07-20</td>\n",
       "      <td>11:30:00</td>\n",
       "      <td>2016-07-21</td>\n",
       "      <td>2</td>\n",
       "      <td>20600</td>\n",
       "    </tr>\n",
       "    <tr>\n",
       "      <th>2</th>\n",
       "      <td>r3</td>\n",
       "      <td>h_179</td>\n",
       "      <td>c_1</td>\n",
       "      <td>2016-09-24 10:03:17</td>\n",
       "      <td>2016-10-19</td>\n",
       "      <td>09:00:00</td>\n",
       "      <td>2016-10-22</td>\n",
       "      <td>2</td>\n",
       "      <td>33600</td>\n",
       "    </tr>\n",
       "    <tr>\n",
       "      <th>3</th>\n",
       "      <td>r4</td>\n",
       "      <td>h_214</td>\n",
       "      <td>c_1</td>\n",
       "      <td>2017-03-08 03:20:10</td>\n",
       "      <td>2017-03-29</td>\n",
       "      <td>11:00:00</td>\n",
       "      <td>2017-03-30</td>\n",
       "      <td>4</td>\n",
       "      <td>194400</td>\n",
       "    </tr>\n",
       "    <tr>\n",
       "      <th>4</th>\n",
       "      <td>r5</td>\n",
       "      <td>h_16</td>\n",
       "      <td>c_1</td>\n",
       "      <td>2017-09-05 19:50:37</td>\n",
       "      <td>2017-09-22</td>\n",
       "      <td>10:30:00</td>\n",
       "      <td>2017-09-23</td>\n",
       "      <td>3</td>\n",
       "      <td>68100</td>\n",
       "    </tr>\n",
       "  </tbody>\n",
       "</table>\n",
       "</div>"
      ],
      "text/plain": [
       "  reserve_id hotel_id customer_id     reserve_datetime checkin_date  \\\n",
       "0         r1     h_75         c_1  2016-03-06 13:09:42   2016-03-26   \n",
       "1         r2    h_219         c_1  2016-07-16 23:39:55   2016-07-20   \n",
       "2         r3    h_179         c_1  2016-09-24 10:03:17   2016-10-19   \n",
       "3         r4    h_214         c_1  2017-03-08 03:20:10   2017-03-29   \n",
       "4         r5     h_16         c_1  2017-09-05 19:50:37   2017-09-22   \n",
       "\n",
       "  checkin_time checkout_date  people_num  total_price  \n",
       "0     10:00:00    2016-03-29           4        97200  \n",
       "1     11:30:00    2016-07-21           2        20600  \n",
       "2     09:00:00    2016-10-22           2        33600  \n",
       "3     11:00:00    2017-03-30           4       194400  \n",
       "4     10:30:00    2017-09-23           3        68100  "
      ]
     },
     "execution_count": 37,
     "metadata": {},
     "output_type": "execute_result"
    }
   ],
   "source": [
    "reserve_tb = pd.read_csv('reserve.csv')\n",
    "\n",
    "reserve_tb.head()"
   ]
  },
  {
   "cell_type": "code",
   "execution_count": 38,
   "metadata": {},
   "outputs": [
    {
     "data": {
      "text/html": [
       "<div>\n",
       "<style scoped>\n",
       "    .dataframe tbody tr th:only-of-type {\n",
       "        vertical-align: middle;\n",
       "    }\n",
       "\n",
       "    .dataframe tbody tr th {\n",
       "        vertical-align: top;\n",
       "    }\n",
       "\n",
       "    .dataframe thead th {\n",
       "        text-align: right;\n",
       "    }\n",
       "</style>\n",
       "<table border=\"1\" class=\"dataframe\">\n",
       "  <thead>\n",
       "    <tr style=\"text-align: right;\">\n",
       "      <th></th>\n",
       "      <th>reserve_id</th>\n",
       "      <th>hotel_id</th>\n",
       "      <th>customer_id</th>\n",
       "      <th>reserve_datetime</th>\n",
       "      <th>checkin_date</th>\n",
       "      <th>checkin_time</th>\n",
       "      <th>checkout_date</th>\n",
       "      <th>people_num</th>\n",
       "      <th>total_price</th>\n",
       "      <th>total_price_log</th>\n",
       "    </tr>\n",
       "  </thead>\n",
       "  <tbody>\n",
       "    <tr>\n",
       "      <th>0</th>\n",
       "      <td>r1</td>\n",
       "      <td>h_75</td>\n",
       "      <td>c_1</td>\n",
       "      <td>2016-03-06 13:09:42</td>\n",
       "      <td>2016-03-26</td>\n",
       "      <td>10:00:00</td>\n",
       "      <td>2016-03-29</td>\n",
       "      <td>4</td>\n",
       "      <td>97200</td>\n",
       "      <td>1.992111</td>\n",
       "    </tr>\n",
       "    <tr>\n",
       "      <th>1</th>\n",
       "      <td>r2</td>\n",
       "      <td>h_219</td>\n",
       "      <td>c_1</td>\n",
       "      <td>2016-07-16 23:39:55</td>\n",
       "      <td>2016-07-20</td>\n",
       "      <td>11:30:00</td>\n",
       "      <td>2016-07-21</td>\n",
       "      <td>2</td>\n",
       "      <td>20600</td>\n",
       "      <td>1.334454</td>\n",
       "    </tr>\n",
       "    <tr>\n",
       "      <th>2</th>\n",
       "      <td>r3</td>\n",
       "      <td>h_179</td>\n",
       "      <td>c_1</td>\n",
       "      <td>2016-09-24 10:03:17</td>\n",
       "      <td>2016-10-19</td>\n",
       "      <td>09:00:00</td>\n",
       "      <td>2016-10-22</td>\n",
       "      <td>2</td>\n",
       "      <td>33600</td>\n",
       "      <td>1.539076</td>\n",
       "    </tr>\n",
       "    <tr>\n",
       "      <th>3</th>\n",
       "      <td>r4</td>\n",
       "      <td>h_214</td>\n",
       "      <td>c_1</td>\n",
       "      <td>2017-03-08 03:20:10</td>\n",
       "      <td>2017-03-29</td>\n",
       "      <td>11:00:00</td>\n",
       "      <td>2017-03-30</td>\n",
       "      <td>4</td>\n",
       "      <td>194400</td>\n",
       "      <td>2.290925</td>\n",
       "    </tr>\n",
       "    <tr>\n",
       "      <th>4</th>\n",
       "      <td>r5</td>\n",
       "      <td>h_16</td>\n",
       "      <td>c_1</td>\n",
       "      <td>2017-09-05 19:50:37</td>\n",
       "      <td>2017-09-22</td>\n",
       "      <td>10:30:00</td>\n",
       "      <td>2017-09-23</td>\n",
       "      <td>3</td>\n",
       "      <td>68100</td>\n",
       "      <td>1.839478</td>\n",
       "    </tr>\n",
       "  </tbody>\n",
       "</table>\n",
       "</div>"
      ],
      "text/plain": [
       "  reserve_id hotel_id customer_id     reserve_datetime checkin_date  \\\n",
       "0         r1     h_75         c_1  2016-03-06 13:09:42   2016-03-26   \n",
       "1         r2    h_219         c_1  2016-07-16 23:39:55   2016-07-20   \n",
       "2         r3    h_179         c_1  2016-09-24 10:03:17   2016-10-19   \n",
       "3         r4    h_214         c_1  2017-03-08 03:20:10   2017-03-29   \n",
       "4         r5     h_16         c_1  2017-09-05 19:50:37   2017-09-22   \n",
       "\n",
       "  checkin_time checkout_date  people_num  total_price  total_price_log  \n",
       "0     10:00:00    2016-03-29           4        97200         1.992111  \n",
       "1     11:30:00    2016-07-21           2        20600         1.334454  \n",
       "2     09:00:00    2016-10-22           2        33600         1.539076  \n",
       "3     11:00:00    2017-03-30           4       194400         2.290925  \n",
       "4     10:30:00    2017-09-23           3        68100         1.839478  "
      ]
     },
     "execution_count": 38,
     "metadata": {},
     "output_type": "execute_result"
    }
   ],
   "source": [
    "reserve_tb['total_price_log'] = reserve_tb['total_price'].apply(lambda x: np.log10(x / 1000 + 1))\n",
    "\n",
    "reserve_tb.head()"
   ]
  },
  {
   "cell_type": "markdown",
   "metadata": {},
   "source": [
    "上の表を見ての通り、値が大きいものほど、なるべく小さく対数変換されていることが分かる。"
   ]
  },
  {
   "cell_type": "markdown",
   "metadata": {},
   "source": [
    "### 8-3　カテゴリ化による非線形な変化"
   ]
  },
  {
   "cell_type": "code",
   "execution_count": 39,
   "metadata": {},
   "outputs": [
    {
     "data": {
      "text/html": [
       "<div>\n",
       "<style scoped>\n",
       "    .dataframe tbody tr th:only-of-type {\n",
       "        vertical-align: middle;\n",
       "    }\n",
       "\n",
       "    .dataframe tbody tr th {\n",
       "        vertical-align: top;\n",
       "    }\n",
       "\n",
       "    .dataframe thead th {\n",
       "        text-align: right;\n",
       "    }\n",
       "</style>\n",
       "<table border=\"1\" class=\"dataframe\">\n",
       "  <thead>\n",
       "    <tr style=\"text-align: right;\">\n",
       "      <th></th>\n",
       "      <th>customer_id</th>\n",
       "      <th>age</th>\n",
       "      <th>sex</th>\n",
       "      <th>home_latitude</th>\n",
       "      <th>home_longitude</th>\n",
       "    </tr>\n",
       "  </thead>\n",
       "  <tbody>\n",
       "    <tr>\n",
       "      <th>0</th>\n",
       "      <td>c_1</td>\n",
       "      <td>41</td>\n",
       "      <td>man</td>\n",
       "      <td>35.092193</td>\n",
       "      <td>136.512347</td>\n",
       "    </tr>\n",
       "    <tr>\n",
       "      <th>1</th>\n",
       "      <td>c_2</td>\n",
       "      <td>38</td>\n",
       "      <td>man</td>\n",
       "      <td>35.325076</td>\n",
       "      <td>139.410551</td>\n",
       "    </tr>\n",
       "    <tr>\n",
       "      <th>2</th>\n",
       "      <td>c_3</td>\n",
       "      <td>49</td>\n",
       "      <td>woman</td>\n",
       "      <td>35.120543</td>\n",
       "      <td>136.511179</td>\n",
       "    </tr>\n",
       "    <tr>\n",
       "      <th>3</th>\n",
       "      <td>c_4</td>\n",
       "      <td>43</td>\n",
       "      <td>man</td>\n",
       "      <td>43.034868</td>\n",
       "      <td>141.240314</td>\n",
       "    </tr>\n",
       "    <tr>\n",
       "      <th>4</th>\n",
       "      <td>c_5</td>\n",
       "      <td>31</td>\n",
       "      <td>man</td>\n",
       "      <td>35.102661</td>\n",
       "      <td>136.523797</td>\n",
       "    </tr>\n",
       "  </tbody>\n",
       "</table>\n",
       "</div>"
      ],
      "text/plain": [
       "  customer_id  age    sex  home_latitude  home_longitude\n",
       "0         c_1   41    man      35.092193      136.512347\n",
       "1         c_2   38    man      35.325076      139.410551\n",
       "2         c_3   49  woman      35.120543      136.511179\n",
       "3         c_4   43    man      43.034868      141.240314\n",
       "4         c_5   31    man      35.102661      136.523797"
      ]
     },
     "execution_count": 39,
     "metadata": {},
     "output_type": "execute_result"
    }
   ],
   "source": [
    "customer_tb = pd.read_csv('customer.csv')\n",
    "\n",
    "customer_tb.head()"
   ]
  },
  {
   "cell_type": "code",
   "execution_count": 40,
   "metadata": {},
   "outputs": [
    {
     "name": "stdout",
     "output_type": "stream",
     "text": [
      "customer_id         object\n",
      "age                  int64\n",
      "sex                 object\n",
      "home_latitude      float64\n",
      "home_longitude     float64\n",
      "age_rank          category\n",
      "dtype: object\n",
      "(1000, 6)\n"
     ]
    },
    {
     "data": {
      "text/html": [
       "<div>\n",
       "<style scoped>\n",
       "    .dataframe tbody tr th:only-of-type {\n",
       "        vertical-align: middle;\n",
       "    }\n",
       "\n",
       "    .dataframe tbody tr th {\n",
       "        vertical-align: top;\n",
       "    }\n",
       "\n",
       "    .dataframe thead th {\n",
       "        text-align: right;\n",
       "    }\n",
       "</style>\n",
       "<table border=\"1\" class=\"dataframe\">\n",
       "  <thead>\n",
       "    <tr style=\"text-align: right;\">\n",
       "      <th></th>\n",
       "      <th>customer_id</th>\n",
       "      <th>age</th>\n",
       "      <th>sex</th>\n",
       "      <th>home_latitude</th>\n",
       "      <th>home_longitude</th>\n",
       "      <th>age_rank</th>\n",
       "    </tr>\n",
       "  </thead>\n",
       "  <tbody>\n",
       "    <tr>\n",
       "      <th>0</th>\n",
       "      <td>c_1</td>\n",
       "      <td>41</td>\n",
       "      <td>man</td>\n",
       "      <td>35.092193</td>\n",
       "      <td>136.512347</td>\n",
       "      <td>40.0</td>\n",
       "    </tr>\n",
       "    <tr>\n",
       "      <th>1</th>\n",
       "      <td>c_2</td>\n",
       "      <td>38</td>\n",
       "      <td>man</td>\n",
       "      <td>35.325076</td>\n",
       "      <td>139.410551</td>\n",
       "      <td>30.0</td>\n",
       "    </tr>\n",
       "    <tr>\n",
       "      <th>2</th>\n",
       "      <td>c_3</td>\n",
       "      <td>49</td>\n",
       "      <td>woman</td>\n",
       "      <td>35.120543</td>\n",
       "      <td>136.511179</td>\n",
       "      <td>40.0</td>\n",
       "    </tr>\n",
       "    <tr>\n",
       "      <th>3</th>\n",
       "      <td>c_4</td>\n",
       "      <td>43</td>\n",
       "      <td>man</td>\n",
       "      <td>43.034868</td>\n",
       "      <td>141.240314</td>\n",
       "      <td>40.0</td>\n",
       "    </tr>\n",
       "    <tr>\n",
       "      <th>4</th>\n",
       "      <td>c_5</td>\n",
       "      <td>31</td>\n",
       "      <td>man</td>\n",
       "      <td>35.102661</td>\n",
       "      <td>136.523797</td>\n",
       "      <td>30.0</td>\n",
       "    </tr>\n",
       "  </tbody>\n",
       "</table>\n",
       "</div>"
      ],
      "text/plain": [
       "  customer_id  age    sex  home_latitude  home_longitude age_rank\n",
       "0         c_1   41    man      35.092193      136.512347     40.0\n",
       "1         c_2   38    man      35.325076      139.410551     30.0\n",
       "2         c_3   49  woman      35.120543      136.511179     40.0\n",
       "3         c_4   43    man      43.034868      141.240314     40.0\n",
       "4         c_5   31    man      35.102661      136.523797     30.0"
      ]
     },
     "execution_count": 40,
     "metadata": {},
     "output_type": "execute_result"
    }
   ],
   "source": [
    "customer_tb['age_rank'] = (np.floor(customer_tb['age'] / 10) * 10).astype('category')\n",
    "\n",
    "print(customer_tb.dtypes)\n",
    "print(customer_tb.shape)\n",
    "customer_tb.head()"
   ]
  },
  {
   "cell_type": "markdown",
   "metadata": {},
   "source": [
    "np.floor関数は、引数の小数点以下を切り捨てることができる。（正確には、引数以下の最大整数を返す）\n",
    "\n",
    "そのため、1行目の41歳であれば、41を10で割って4.1する。<br>\n",
    "小数点を切り捨てして4.0にしてから、10倍して40にすることで、rank値を与えることができる。"
   ]
  },
  {
   "cell_type": "markdown",
   "metadata": {},
   "source": [
    "### 8-4　正規化"
   ]
  },
  {
   "cell_type": "code",
   "execution_count": 41,
   "metadata": {},
   "outputs": [
    {
     "data": {
      "text/html": [
       "<div>\n",
       "<style scoped>\n",
       "    .dataframe tbody tr th:only-of-type {\n",
       "        vertical-align: middle;\n",
       "    }\n",
       "\n",
       "    .dataframe tbody tr th {\n",
       "        vertical-align: top;\n",
       "    }\n",
       "\n",
       "    .dataframe thead th {\n",
       "        text-align: right;\n",
       "    }\n",
       "</style>\n",
       "<table border=\"1\" class=\"dataframe\">\n",
       "  <thead>\n",
       "    <tr style=\"text-align: right;\">\n",
       "      <th></th>\n",
       "      <th>reserve_id</th>\n",
       "      <th>hotel_id</th>\n",
       "      <th>customer_id</th>\n",
       "      <th>reserve_datetime</th>\n",
       "      <th>checkin_date</th>\n",
       "      <th>checkin_time</th>\n",
       "      <th>checkout_date</th>\n",
       "      <th>people_num</th>\n",
       "      <th>total_price</th>\n",
       "    </tr>\n",
       "  </thead>\n",
       "  <tbody>\n",
       "    <tr>\n",
       "      <th>0</th>\n",
       "      <td>r1</td>\n",
       "      <td>h_75</td>\n",
       "      <td>c_1</td>\n",
       "      <td>2016-03-06 13:09:42</td>\n",
       "      <td>2016-03-26</td>\n",
       "      <td>10:00:00</td>\n",
       "      <td>2016-03-29</td>\n",
       "      <td>4</td>\n",
       "      <td>97200</td>\n",
       "    </tr>\n",
       "    <tr>\n",
       "      <th>1</th>\n",
       "      <td>r2</td>\n",
       "      <td>h_219</td>\n",
       "      <td>c_1</td>\n",
       "      <td>2016-07-16 23:39:55</td>\n",
       "      <td>2016-07-20</td>\n",
       "      <td>11:30:00</td>\n",
       "      <td>2016-07-21</td>\n",
       "      <td>2</td>\n",
       "      <td>20600</td>\n",
       "    </tr>\n",
       "    <tr>\n",
       "      <th>2</th>\n",
       "      <td>r3</td>\n",
       "      <td>h_179</td>\n",
       "      <td>c_1</td>\n",
       "      <td>2016-09-24 10:03:17</td>\n",
       "      <td>2016-10-19</td>\n",
       "      <td>09:00:00</td>\n",
       "      <td>2016-10-22</td>\n",
       "      <td>2</td>\n",
       "      <td>33600</td>\n",
       "    </tr>\n",
       "    <tr>\n",
       "      <th>3</th>\n",
       "      <td>r4</td>\n",
       "      <td>h_214</td>\n",
       "      <td>c_1</td>\n",
       "      <td>2017-03-08 03:20:10</td>\n",
       "      <td>2017-03-29</td>\n",
       "      <td>11:00:00</td>\n",
       "      <td>2017-03-30</td>\n",
       "      <td>4</td>\n",
       "      <td>194400</td>\n",
       "    </tr>\n",
       "    <tr>\n",
       "      <th>4</th>\n",
       "      <td>r5</td>\n",
       "      <td>h_16</td>\n",
       "      <td>c_1</td>\n",
       "      <td>2017-09-05 19:50:37</td>\n",
       "      <td>2017-09-22</td>\n",
       "      <td>10:30:00</td>\n",
       "      <td>2017-09-23</td>\n",
       "      <td>3</td>\n",
       "      <td>68100</td>\n",
       "    </tr>\n",
       "  </tbody>\n",
       "</table>\n",
       "</div>"
      ],
      "text/plain": [
       "  reserve_id hotel_id customer_id     reserve_datetime checkin_date  \\\n",
       "0         r1     h_75         c_1  2016-03-06 13:09:42   2016-03-26   \n",
       "1         r2    h_219         c_1  2016-07-16 23:39:55   2016-07-20   \n",
       "2         r3    h_179         c_1  2016-09-24 10:03:17   2016-10-19   \n",
       "3         r4    h_214         c_1  2017-03-08 03:20:10   2017-03-29   \n",
       "4         r5     h_16         c_1  2017-09-05 19:50:37   2017-09-22   \n",
       "\n",
       "  checkin_time checkout_date  people_num  total_price  \n",
       "0     10:00:00    2016-03-29           4        97200  \n",
       "1     11:30:00    2016-07-21           2        20600  \n",
       "2     09:00:00    2016-10-22           2        33600  \n",
       "3     11:00:00    2017-03-30           4       194400  \n",
       "4     10:30:00    2017-09-23           3        68100  "
      ]
     },
     "execution_count": 41,
     "metadata": {},
     "output_type": "execute_result"
    }
   ],
   "source": [
    "reserve_tb = pd.read_csv('reserve.csv')\n",
    "\n",
    "reserve_tb.head()"
   ]
  },
  {
   "cell_type": "code",
   "execution_count": 42,
   "metadata": {},
   "outputs": [
    {
     "data": {
      "text/html": [
       "<div>\n",
       "<style scoped>\n",
       "    .dataframe tbody tr th:only-of-type {\n",
       "        vertical-align: middle;\n",
       "    }\n",
       "\n",
       "    .dataframe tbody tr th {\n",
       "        vertical-align: top;\n",
       "    }\n",
       "\n",
       "    .dataframe thead th {\n",
       "        text-align: right;\n",
       "    }\n",
       "</style>\n",
       "<table border=\"1\" class=\"dataframe\">\n",
       "  <thead>\n",
       "    <tr style=\"text-align: right;\">\n",
       "      <th></th>\n",
       "      <th>reserve_id</th>\n",
       "      <th>hotel_id</th>\n",
       "      <th>customer_id</th>\n",
       "      <th>reserve_datetime</th>\n",
       "      <th>checkin_date</th>\n",
       "      <th>checkin_time</th>\n",
       "      <th>checkout_date</th>\n",
       "      <th>people_num</th>\n",
       "      <th>total_price</th>\n",
       "      <th>people_num_normalized</th>\n",
       "      <th>total_price_normalized</th>\n",
       "    </tr>\n",
       "  </thead>\n",
       "  <tbody>\n",
       "    <tr>\n",
       "      <th>0</th>\n",
       "      <td>r1</td>\n",
       "      <td>h_75</td>\n",
       "      <td>c_1</td>\n",
       "      <td>2016-03-06 13:09:42</td>\n",
       "      <td>2016-03-26</td>\n",
       "      <td>10:00:00</td>\n",
       "      <td>2016-03-29</td>\n",
       "      <td>4.0</td>\n",
       "      <td>97200</td>\n",
       "      <td>1.300709</td>\n",
       "      <td>-0.053194</td>\n",
       "    </tr>\n",
       "    <tr>\n",
       "      <th>1</th>\n",
       "      <td>r2</td>\n",
       "      <td>h_219</td>\n",
       "      <td>c_1</td>\n",
       "      <td>2016-07-16 23:39:55</td>\n",
       "      <td>2016-07-20</td>\n",
       "      <td>11:30:00</td>\n",
       "      <td>2016-07-21</td>\n",
       "      <td>2.0</td>\n",
       "      <td>20600</td>\n",
       "      <td>-0.483753</td>\n",
       "      <td>-0.747822</td>\n",
       "    </tr>\n",
       "    <tr>\n",
       "      <th>2</th>\n",
       "      <td>r3</td>\n",
       "      <td>h_179</td>\n",
       "      <td>c_1</td>\n",
       "      <td>2016-09-24 10:03:17</td>\n",
       "      <td>2016-10-19</td>\n",
       "      <td>09:00:00</td>\n",
       "      <td>2016-10-22</td>\n",
       "      <td>2.0</td>\n",
       "      <td>33600</td>\n",
       "      <td>-0.483753</td>\n",
       "      <td>-0.629935</td>\n",
       "    </tr>\n",
       "    <tr>\n",
       "      <th>3</th>\n",
       "      <td>r4</td>\n",
       "      <td>h_214</td>\n",
       "      <td>c_1</td>\n",
       "      <td>2017-03-08 03:20:10</td>\n",
       "      <td>2017-03-29</td>\n",
       "      <td>11:00:00</td>\n",
       "      <td>2017-03-30</td>\n",
       "      <td>4.0</td>\n",
       "      <td>194400</td>\n",
       "      <td>1.300709</td>\n",
       "      <td>0.828240</td>\n",
       "    </tr>\n",
       "    <tr>\n",
       "      <th>4</th>\n",
       "      <td>r5</td>\n",
       "      <td>h_16</td>\n",
       "      <td>c_1</td>\n",
       "      <td>2017-09-05 19:50:37</td>\n",
       "      <td>2017-09-22</td>\n",
       "      <td>10:30:00</td>\n",
       "      <td>2017-09-23</td>\n",
       "      <td>3.0</td>\n",
       "      <td>68100</td>\n",
       "      <td>0.408478</td>\n",
       "      <td>-0.317080</td>\n",
       "    </tr>\n",
       "  </tbody>\n",
       "</table>\n",
       "</div>"
      ],
      "text/plain": [
       "  reserve_id hotel_id customer_id     reserve_datetime checkin_date  \\\n",
       "0         r1     h_75         c_1  2016-03-06 13:09:42   2016-03-26   \n",
       "1         r2    h_219         c_1  2016-07-16 23:39:55   2016-07-20   \n",
       "2         r3    h_179         c_1  2016-09-24 10:03:17   2016-10-19   \n",
       "3         r4    h_214         c_1  2017-03-08 03:20:10   2017-03-29   \n",
       "4         r5     h_16         c_1  2017-09-05 19:50:37   2017-09-22   \n",
       "\n",
       "  checkin_time checkout_date  people_num  total_price  people_num_normalized  \\\n",
       "0     10:00:00    2016-03-29         4.0        97200               1.300709   \n",
       "1     11:30:00    2016-07-21         2.0        20600              -0.483753   \n",
       "2     09:00:00    2016-10-22         2.0        33600              -0.483753   \n",
       "3     11:00:00    2017-03-30         4.0       194400               1.300709   \n",
       "4     10:30:00    2017-09-23         3.0        68100               0.408478   \n",
       "\n",
       "   total_price_normalized  \n",
       "0               -0.053194  \n",
       "1               -0.747822  \n",
       "2               -0.629935  \n",
       "3                0.828240  \n",
       "4               -0.317080  "
      ]
     },
     "execution_count": 42,
     "metadata": {},
     "output_type": "execute_result"
    }
   ],
   "source": [
    "reserve_tb['people_num'] = reserve_tb['people_num'].astype(float)\n",
    "\n",
    "ss = StandardScaler()\n",
    "result = ss.fit_transform(reserve_tb[['people_num', 'total_price']])\n",
    "\n",
    "reserve_tb['people_num_normalized'] = [x[0] for x in result]\n",
    "reserve_tb['total_price_normalized'] = [x[1] for x in result]\n",
    "\n",
    "reserve_tb.head()"
   ]
  },
  {
   "cell_type": "markdown",
   "metadata": {},
   "source": [
    "### 8-5　外れ値の除去"
   ]
  },
  {
   "cell_type": "code",
   "execution_count": 43,
   "metadata": {},
   "outputs": [
    {
     "data": {
      "text/html": [
       "<div>\n",
       "<style scoped>\n",
       "    .dataframe tbody tr th:only-of-type {\n",
       "        vertical-align: middle;\n",
       "    }\n",
       "\n",
       "    .dataframe tbody tr th {\n",
       "        vertical-align: top;\n",
       "    }\n",
       "\n",
       "    .dataframe thead th {\n",
       "        text-align: right;\n",
       "    }\n",
       "</style>\n",
       "<table border=\"1\" class=\"dataframe\">\n",
       "  <thead>\n",
       "    <tr style=\"text-align: right;\">\n",
       "      <th></th>\n",
       "      <th>reserve_id</th>\n",
       "      <th>hotel_id</th>\n",
       "      <th>customer_id</th>\n",
       "      <th>reserve_datetime</th>\n",
       "      <th>checkin_date</th>\n",
       "      <th>checkin_time</th>\n",
       "      <th>checkout_date</th>\n",
       "      <th>people_num</th>\n",
       "      <th>total_price</th>\n",
       "    </tr>\n",
       "  </thead>\n",
       "  <tbody>\n",
       "    <tr>\n",
       "      <th>0</th>\n",
       "      <td>r1</td>\n",
       "      <td>h_75</td>\n",
       "      <td>c_1</td>\n",
       "      <td>2016-03-06 13:09:42</td>\n",
       "      <td>2016-03-26</td>\n",
       "      <td>10:00:00</td>\n",
       "      <td>2016-03-29</td>\n",
       "      <td>4</td>\n",
       "      <td>97200</td>\n",
       "    </tr>\n",
       "    <tr>\n",
       "      <th>1</th>\n",
       "      <td>r2</td>\n",
       "      <td>h_219</td>\n",
       "      <td>c_1</td>\n",
       "      <td>2016-07-16 23:39:55</td>\n",
       "      <td>2016-07-20</td>\n",
       "      <td>11:30:00</td>\n",
       "      <td>2016-07-21</td>\n",
       "      <td>2</td>\n",
       "      <td>20600</td>\n",
       "    </tr>\n",
       "    <tr>\n",
       "      <th>2</th>\n",
       "      <td>r3</td>\n",
       "      <td>h_179</td>\n",
       "      <td>c_1</td>\n",
       "      <td>2016-09-24 10:03:17</td>\n",
       "      <td>2016-10-19</td>\n",
       "      <td>09:00:00</td>\n",
       "      <td>2016-10-22</td>\n",
       "      <td>2</td>\n",
       "      <td>33600</td>\n",
       "    </tr>\n",
       "    <tr>\n",
       "      <th>3</th>\n",
       "      <td>r4</td>\n",
       "      <td>h_214</td>\n",
       "      <td>c_1</td>\n",
       "      <td>2017-03-08 03:20:10</td>\n",
       "      <td>2017-03-29</td>\n",
       "      <td>11:00:00</td>\n",
       "      <td>2017-03-30</td>\n",
       "      <td>4</td>\n",
       "      <td>194400</td>\n",
       "    </tr>\n",
       "    <tr>\n",
       "      <th>4</th>\n",
       "      <td>r5</td>\n",
       "      <td>h_16</td>\n",
       "      <td>c_1</td>\n",
       "      <td>2017-09-05 19:50:37</td>\n",
       "      <td>2017-09-22</td>\n",
       "      <td>10:30:00</td>\n",
       "      <td>2017-09-23</td>\n",
       "      <td>3</td>\n",
       "      <td>68100</td>\n",
       "    </tr>\n",
       "  </tbody>\n",
       "</table>\n",
       "</div>"
      ],
      "text/plain": [
       "  reserve_id hotel_id customer_id     reserve_datetime checkin_date  \\\n",
       "0         r1     h_75         c_1  2016-03-06 13:09:42   2016-03-26   \n",
       "1         r2    h_219         c_1  2016-07-16 23:39:55   2016-07-20   \n",
       "2         r3    h_179         c_1  2016-09-24 10:03:17   2016-10-19   \n",
       "3         r4    h_214         c_1  2017-03-08 03:20:10   2017-03-29   \n",
       "4         r5     h_16         c_1  2017-09-05 19:50:37   2017-09-22   \n",
       "\n",
       "  checkin_time checkout_date  people_num  total_price  \n",
       "0     10:00:00    2016-03-29           4        97200  \n",
       "1     11:30:00    2016-07-21           2        20600  \n",
       "2     09:00:00    2016-10-22           2        33600  \n",
       "3     11:00:00    2017-03-30           4       194400  \n",
       "4     10:30:00    2017-09-23           3        68100  "
      ]
     },
     "execution_count": 43,
     "metadata": {},
     "output_type": "execute_result"
    }
   ],
   "source": [
    "reserve_tb = pd.read_csv('reserve.csv')\n",
    "\n",
    "reserve_tb.head()"
   ]
  },
  {
   "cell_type": "code",
   "execution_count": 44,
   "metadata": {},
   "outputs": [
    {
     "data": {
      "text/html": [
       "<div>\n",
       "<style scoped>\n",
       "    .dataframe tbody tr th:only-of-type {\n",
       "        vertical-align: middle;\n",
       "    }\n",
       "\n",
       "    .dataframe tbody tr th {\n",
       "        vertical-align: top;\n",
       "    }\n",
       "\n",
       "    .dataframe thead th {\n",
       "        text-align: right;\n",
       "    }\n",
       "</style>\n",
       "<table border=\"1\" class=\"dataframe\">\n",
       "  <thead>\n",
       "    <tr style=\"text-align: right;\">\n",
       "      <th></th>\n",
       "      <th>index</th>\n",
       "      <th>reserve_id</th>\n",
       "      <th>hotel_id</th>\n",
       "      <th>customer_id</th>\n",
       "      <th>reserve_datetime</th>\n",
       "      <th>checkin_date</th>\n",
       "      <th>checkin_time</th>\n",
       "      <th>checkout_date</th>\n",
       "      <th>people_num</th>\n",
       "      <th>total_price</th>\n",
       "    </tr>\n",
       "  </thead>\n",
       "  <tbody>\n",
       "    <tr>\n",
       "      <th>0</th>\n",
       "      <td>0</td>\n",
       "      <td>r1</td>\n",
       "      <td>h_75</td>\n",
       "      <td>c_1</td>\n",
       "      <td>2016-03-06 13:09:42</td>\n",
       "      <td>2016-03-26</td>\n",
       "      <td>10:00:00</td>\n",
       "      <td>2016-03-29</td>\n",
       "      <td>4</td>\n",
       "      <td>97200</td>\n",
       "    </tr>\n",
       "    <tr>\n",
       "      <th>1</th>\n",
       "      <td>1</td>\n",
       "      <td>r2</td>\n",
       "      <td>h_219</td>\n",
       "      <td>c_1</td>\n",
       "      <td>2016-07-16 23:39:55</td>\n",
       "      <td>2016-07-20</td>\n",
       "      <td>11:30:00</td>\n",
       "      <td>2016-07-21</td>\n",
       "      <td>2</td>\n",
       "      <td>20600</td>\n",
       "    </tr>\n",
       "    <tr>\n",
       "      <th>2</th>\n",
       "      <td>2</td>\n",
       "      <td>r3</td>\n",
       "      <td>h_179</td>\n",
       "      <td>c_1</td>\n",
       "      <td>2016-09-24 10:03:17</td>\n",
       "      <td>2016-10-19</td>\n",
       "      <td>09:00:00</td>\n",
       "      <td>2016-10-22</td>\n",
       "      <td>2</td>\n",
       "      <td>33600</td>\n",
       "    </tr>\n",
       "    <tr>\n",
       "      <th>3</th>\n",
       "      <td>3</td>\n",
       "      <td>r4</td>\n",
       "      <td>h_214</td>\n",
       "      <td>c_1</td>\n",
       "      <td>2017-03-08 03:20:10</td>\n",
       "      <td>2017-03-29</td>\n",
       "      <td>11:00:00</td>\n",
       "      <td>2017-03-30</td>\n",
       "      <td>4</td>\n",
       "      <td>194400</td>\n",
       "    </tr>\n",
       "    <tr>\n",
       "      <th>4</th>\n",
       "      <td>4</td>\n",
       "      <td>r5</td>\n",
       "      <td>h_16</td>\n",
       "      <td>c_1</td>\n",
       "      <td>2017-09-05 19:50:37</td>\n",
       "      <td>2017-09-22</td>\n",
       "      <td>10:30:00</td>\n",
       "      <td>2017-09-23</td>\n",
       "      <td>3</td>\n",
       "      <td>68100</td>\n",
       "    </tr>\n",
       "  </tbody>\n",
       "</table>\n",
       "</div>"
      ],
      "text/plain": [
       "   index reserve_id hotel_id customer_id     reserve_datetime checkin_date  \\\n",
       "0      0         r1     h_75         c_1  2016-03-06 13:09:42   2016-03-26   \n",
       "1      1         r2    h_219         c_1  2016-07-16 23:39:55   2016-07-20   \n",
       "2      2         r3    h_179         c_1  2016-09-24 10:03:17   2016-10-19   \n",
       "3      3         r4    h_214         c_1  2017-03-08 03:20:10   2017-03-29   \n",
       "4      4         r5     h_16         c_1  2017-09-05 19:50:37   2017-09-22   \n",
       "\n",
       "  checkin_time checkout_date  people_num  total_price  \n",
       "0     10:00:00    2016-03-29           4        97200  \n",
       "1     11:30:00    2016-07-21           2        20600  \n",
       "2     09:00:00    2016-10-22           2        33600  \n",
       "3     11:00:00    2017-03-30           4       194400  \n",
       "4     10:30:00    2017-09-23           3        68100  "
      ]
     },
     "execution_count": 44,
     "metadata": {},
     "output_type": "execute_result"
    }
   ],
   "source": [
    "reserve_tb = reserve_tb[(abs(reserve_tb['total_price']\n",
    "                             - np.mean(reserve_tb['total_price'])) / np.std(reserve_tb['total_price']) <= 3)].reset_index()\n",
    "\n",
    "reserve_tb.head()"
   ]
  },
  {
   "cell_type": "markdown",
   "metadata": {},
   "source": [
    "データから平均値を引いた値の絶対値を標準偏差で割ることによって、データが平均値から標準偏差の何倍離れているかを計算している。\n",
    "\n",
    "つまり、平均値との差を、標準偏差で割っている（標準偏差の何倍かを計算している）。"
   ]
  },
  {
   "cell_type": "markdown",
   "metadata": {},
   "source": [
    "### 8-6　主成分分析による次元圧縮"
   ]
  },
  {
   "cell_type": "code",
   "execution_count": 45,
   "metadata": {},
   "outputs": [
    {
     "name": "stdout",
     "output_type": "stream",
     "text": [
      "(1000, 4)\n"
     ]
    },
    {
     "data": {
      "text/html": [
       "<div>\n",
       "<style scoped>\n",
       "    .dataframe tbody tr th:only-of-type {\n",
       "        vertical-align: middle;\n",
       "    }\n",
       "\n",
       "    .dataframe tbody tr th {\n",
       "        vertical-align: top;\n",
       "    }\n",
       "\n",
       "    .dataframe thead th {\n",
       "        text-align: right;\n",
       "    }\n",
       "</style>\n",
       "<table border=\"1\" class=\"dataframe\">\n",
       "  <thead>\n",
       "    <tr style=\"text-align: right;\">\n",
       "      <th></th>\n",
       "      <th>type</th>\n",
       "      <th>length</th>\n",
       "      <th>thickness</th>\n",
       "      <th>fault_flg</th>\n",
       "    </tr>\n",
       "  </thead>\n",
       "  <tbody>\n",
       "    <tr>\n",
       "      <th>0</th>\n",
       "      <td>E</td>\n",
       "      <td>274.027383</td>\n",
       "      <td>40.241131</td>\n",
       "      <td>False</td>\n",
       "    </tr>\n",
       "    <tr>\n",
       "      <th>1</th>\n",
       "      <td>D</td>\n",
       "      <td>86.319269</td>\n",
       "      <td>16.906715</td>\n",
       "      <td>False</td>\n",
       "    </tr>\n",
       "    <tr>\n",
       "      <th>2</th>\n",
       "      <td>E</td>\n",
       "      <td>123.940388</td>\n",
       "      <td>1.018462</td>\n",
       "      <td>False</td>\n",
       "    </tr>\n",
       "    <tr>\n",
       "      <th>3</th>\n",
       "      <td>B</td>\n",
       "      <td>175.554886</td>\n",
       "      <td>16.414924</td>\n",
       "      <td>False</td>\n",
       "    </tr>\n",
       "    <tr>\n",
       "      <th>4</th>\n",
       "      <td>B</td>\n",
       "      <td>244.934740</td>\n",
       "      <td>29.061081</td>\n",
       "      <td>False</td>\n",
       "    </tr>\n",
       "  </tbody>\n",
       "</table>\n",
       "</div>"
      ],
      "text/plain": [
       "  type      length  thickness  fault_flg\n",
       "0    E  274.027383  40.241131      False\n",
       "1    D   86.319269  16.906715      False\n",
       "2    E  123.940388   1.018462      False\n",
       "3    B  175.554886  16.414924      False\n",
       "4    B  244.934740  29.061081      False"
      ]
     },
     "execution_count": 45,
     "metadata": {},
     "output_type": "execute_result"
    }
   ],
   "source": [
    "production_tb = pd.read_csv('production.csv')\n",
    "\n",
    "print(production_tb.shape)\n",
    "production_tb.head()"
   ]
  },
  {
   "cell_type": "code",
   "execution_count": 46,
   "metadata": {},
   "outputs": [
    {
     "name": "stdout",
     "output_type": "stream",
     "text": [
      "累積寄与率: 1.0\n",
      "各次元の寄与率: [0.97897794 0.02102206]\n"
     ]
    }
   ],
   "source": [
    "pca = PCA(n_components=2)\n",
    "\n",
    "pca_values = pca.fit_transform(production_tb[['length', 'thickness']])\n",
    "\n",
    "print('累積寄与率: {0}'.format(sum(pca.explained_variance_ratio_)))\n",
    "print('各次元の寄与率: {0}'.format(pca.explained_variance_ratio_))\n",
    "\n",
    "pca_newvalues = pca.transform(production_tb[['length', 'thickness']])"
   ]
  },
  {
   "cell_type": "markdown",
   "metadata": {},
   "source": [
    "fitは回帰や分類と同様にオブジェクトの作成、transformは回帰や分類でいうpredictと同じ意味合いを持つ。\n",
    "\n",
    "fit_transformは、fitとtransformを両方同時に実行することができる。"
   ]
  },
  {
   "cell_type": "code",
   "execution_count": 47,
   "metadata": {},
   "outputs": [
    {
     "data": {
      "text/html": [
       "<div>\n",
       "<style scoped>\n",
       "    .dataframe tbody tr th:only-of-type {\n",
       "        vertical-align: middle;\n",
       "    }\n",
       "\n",
       "    .dataframe tbody tr th {\n",
       "        vertical-align: top;\n",
       "    }\n",
       "\n",
       "    .dataframe thead th {\n",
       "        text-align: right;\n",
       "    }\n",
       "</style>\n",
       "<table border=\"1\" class=\"dataframe\">\n",
       "  <thead>\n",
       "    <tr style=\"text-align: right;\">\n",
       "      <th></th>\n",
       "      <th>0</th>\n",
       "      <th>1</th>\n",
       "    </tr>\n",
       "  </thead>\n",
       "  <tbody>\n",
       "    <tr>\n",
       "      <th>0</th>\n",
       "      <td>76.968382</td>\n",
       "      <td>-13.389069</td>\n",
       "    </tr>\n",
       "    <tr>\n",
       "      <th>1</th>\n",
       "      <td>-112.114693</td>\n",
       "      <td>-8.248848</td>\n",
       "    </tr>\n",
       "    <tr>\n",
       "      <th>2</th>\n",
       "      <td>-76.199434</td>\n",
       "      <td>11.190271</td>\n",
       "    </tr>\n",
       "    <tr>\n",
       "      <th>3</th>\n",
       "      <td>-23.341625</td>\n",
       "      <td>0.838485</td>\n",
       "    </tr>\n",
       "    <tr>\n",
       "      <th>4</th>\n",
       "      <td>46.933896</td>\n",
       "      <td>-5.064103</td>\n",
       "    </tr>\n",
       "  </tbody>\n",
       "</table>\n",
       "</div>"
      ],
      "text/plain": [
       "            0          1\n",
       "0   76.968382 -13.389069\n",
       "1 -112.114693  -8.248848\n",
       "2  -76.199434  11.190271\n",
       "3  -23.341625   0.838485\n",
       "4   46.933896  -5.064103"
      ]
     },
     "execution_count": 47,
     "metadata": {},
     "output_type": "execute_result"
    }
   ],
   "source": [
    "pd.DataFrame(pca_values).head()"
   ]
  },
  {
   "cell_type": "code",
   "execution_count": 48,
   "metadata": {},
   "outputs": [
    {
     "data": {
      "text/html": [
       "<div>\n",
       "<style scoped>\n",
       "    .dataframe tbody tr th:only-of-type {\n",
       "        vertical-align: middle;\n",
       "    }\n",
       "\n",
       "    .dataframe tbody tr th {\n",
       "        vertical-align: top;\n",
       "    }\n",
       "\n",
       "    .dataframe thead th {\n",
       "        text-align: right;\n",
       "    }\n",
       "</style>\n",
       "<table border=\"1\" class=\"dataframe\">\n",
       "  <thead>\n",
       "    <tr style=\"text-align: right;\">\n",
       "      <th></th>\n",
       "      <th>0</th>\n",
       "      <th>1</th>\n",
       "    </tr>\n",
       "  </thead>\n",
       "  <tbody>\n",
       "    <tr>\n",
       "      <th>0</th>\n",
       "      <td>76.968382</td>\n",
       "      <td>-13.389069</td>\n",
       "    </tr>\n",
       "    <tr>\n",
       "      <th>1</th>\n",
       "      <td>-112.114693</td>\n",
       "      <td>-8.248848</td>\n",
       "    </tr>\n",
       "    <tr>\n",
       "      <th>2</th>\n",
       "      <td>-76.199434</td>\n",
       "      <td>11.190271</td>\n",
       "    </tr>\n",
       "    <tr>\n",
       "      <th>3</th>\n",
       "      <td>-23.341625</td>\n",
       "      <td>0.838485</td>\n",
       "    </tr>\n",
       "    <tr>\n",
       "      <th>4</th>\n",
       "      <td>46.933896</td>\n",
       "      <td>-5.064103</td>\n",
       "    </tr>\n",
       "  </tbody>\n",
       "</table>\n",
       "</div>"
      ],
      "text/plain": [
       "            0          1\n",
       "0   76.968382 -13.389069\n",
       "1 -112.114693  -8.248848\n",
       "2  -76.199434  11.190271\n",
       "3  -23.341625   0.838485\n",
       "4   46.933896  -5.064103"
      ]
     },
     "execution_count": 48,
     "metadata": {},
     "output_type": "execute_result"
    }
   ],
   "source": [
    "pd.DataFrame(pca_newvalues).head()"
   ]
  },
  {
   "cell_type": "markdown",
   "metadata": {},
   "source": [
    "### 8-7　数値型の補完"
   ]
  },
  {
   "cell_type": "markdown",
   "metadata": {},
   "source": [
    "#### 欠損レコードの削除"
   ]
  },
  {
   "cell_type": "code",
   "execution_count": 49,
   "metadata": {},
   "outputs": [
    {
     "name": "stdout",
     "output_type": "stream",
     "text": [
      "(1000, 4)\n"
     ]
    },
    {
     "data": {
      "text/html": [
       "<div>\n",
       "<style scoped>\n",
       "    .dataframe tbody tr th:only-of-type {\n",
       "        vertical-align: middle;\n",
       "    }\n",
       "\n",
       "    .dataframe tbody tr th {\n",
       "        vertical-align: top;\n",
       "    }\n",
       "\n",
       "    .dataframe thead th {\n",
       "        text-align: right;\n",
       "    }\n",
       "</style>\n",
       "<table border=\"1\" class=\"dataframe\">\n",
       "  <thead>\n",
       "    <tr style=\"text-align: right;\">\n",
       "      <th></th>\n",
       "      <th>type</th>\n",
       "      <th>length</th>\n",
       "      <th>thickness</th>\n",
       "      <th>fault_flg</th>\n",
       "    </tr>\n",
       "  </thead>\n",
       "  <tbody>\n",
       "    <tr>\n",
       "      <th>0</th>\n",
       "      <td>E</td>\n",
       "      <td>274.027383</td>\n",
       "      <td>40.24113135955541</td>\n",
       "      <td>False</td>\n",
       "    </tr>\n",
       "    <tr>\n",
       "      <th>1</th>\n",
       "      <td>D</td>\n",
       "      <td>86.319269</td>\n",
       "      <td>16.906714630016268</td>\n",
       "      <td>False</td>\n",
       "    </tr>\n",
       "    <tr>\n",
       "      <th>2</th>\n",
       "      <td>E</td>\n",
       "      <td>123.940388</td>\n",
       "      <td>1.0184619943950775</td>\n",
       "      <td>False</td>\n",
       "    </tr>\n",
       "    <tr>\n",
       "      <th>3</th>\n",
       "      <td>B</td>\n",
       "      <td>175.554886</td>\n",
       "      <td>16.41492419553766</td>\n",
       "      <td>False</td>\n",
       "    </tr>\n",
       "    <tr>\n",
       "      <th>4</th>\n",
       "      <td>B</td>\n",
       "      <td>244.934740</td>\n",
       "      <td>29.061080805480326</td>\n",
       "      <td>False</td>\n",
       "    </tr>\n",
       "  </tbody>\n",
       "</table>\n",
       "</div>"
      ],
      "text/plain": [
       "  type      length           thickness  fault_flg\n",
       "0    E  274.027383   40.24113135955541      False\n",
       "1    D   86.319269  16.906714630016268      False\n",
       "2    E  123.940388  1.0184619943950775      False\n",
       "3    B  175.554886   16.41492419553766      False\n",
       "4    B  244.934740  29.061080805480326      False"
      ]
     },
     "execution_count": 49,
     "metadata": {},
     "output_type": "execute_result"
    }
   ],
   "source": [
    "production_miss_num = pd.read_csv('production_missing_num.csv')\n",
    "\n",
    "print(production_miss_num.shape)\n",
    "production_miss_num.head()"
   ]
  },
  {
   "cell_type": "markdown",
   "metadata": {},
   "source": [
    "dropnaはnanを認識しても、Noneを認識することはできない。<br>\n",
    "そのため、欠損値の除去をする前に、Noneをnanに変換する作業が必要となる。"
   ]
  },
  {
   "cell_type": "code",
   "execution_count": 50,
   "metadata": {},
   "outputs": [
    {
     "name": "stdout",
     "output_type": "stream",
     "text": [
      "0\n"
     ]
    }
   ],
   "source": [
    "production_miss_num.replace('None', np.nan, inplace=True)\n",
    "production_miss_num.dropna(subset=['thickness'], inplace=True)\n",
    "\n",
    "print(production_miss_num['thickness'].isnull().sum())"
   ]
  },
  {
   "cell_type": "markdown",
   "metadata": {},
   "source": [
    "subsetは、欠損値があるかどうかチェックする列を指定できる。"
   ]
  },
  {
   "cell_type": "markdown",
   "metadata": {},
   "source": [
    "#### 定数補完"
   ]
  },
  {
   "cell_type": "code",
   "execution_count": 51,
   "metadata": {},
   "outputs": [
    {
     "name": "stdout",
     "output_type": "stream",
     "text": [
      "(1000, 4)\n"
     ]
    },
    {
     "data": {
      "text/html": [
       "<div>\n",
       "<style scoped>\n",
       "    .dataframe tbody tr th:only-of-type {\n",
       "        vertical-align: middle;\n",
       "    }\n",
       "\n",
       "    .dataframe tbody tr th {\n",
       "        vertical-align: top;\n",
       "    }\n",
       "\n",
       "    .dataframe thead th {\n",
       "        text-align: right;\n",
       "    }\n",
       "</style>\n",
       "<table border=\"1\" class=\"dataframe\">\n",
       "  <thead>\n",
       "    <tr style=\"text-align: right;\">\n",
       "      <th></th>\n",
       "      <th>type</th>\n",
       "      <th>length</th>\n",
       "      <th>thickness</th>\n",
       "      <th>fault_flg</th>\n",
       "    </tr>\n",
       "  </thead>\n",
       "  <tbody>\n",
       "    <tr>\n",
       "      <th>0</th>\n",
       "      <td>E</td>\n",
       "      <td>274.027383</td>\n",
       "      <td>40.24113135955541</td>\n",
       "      <td>False</td>\n",
       "    </tr>\n",
       "    <tr>\n",
       "      <th>1</th>\n",
       "      <td>D</td>\n",
       "      <td>86.319269</td>\n",
       "      <td>16.906714630016268</td>\n",
       "      <td>False</td>\n",
       "    </tr>\n",
       "    <tr>\n",
       "      <th>2</th>\n",
       "      <td>E</td>\n",
       "      <td>123.940388</td>\n",
       "      <td>1.0184619943950775</td>\n",
       "      <td>False</td>\n",
       "    </tr>\n",
       "    <tr>\n",
       "      <th>3</th>\n",
       "      <td>B</td>\n",
       "      <td>175.554886</td>\n",
       "      <td>16.41492419553766</td>\n",
       "      <td>False</td>\n",
       "    </tr>\n",
       "    <tr>\n",
       "      <th>4</th>\n",
       "      <td>B</td>\n",
       "      <td>244.934740</td>\n",
       "      <td>29.061080805480326</td>\n",
       "      <td>False</td>\n",
       "    </tr>\n",
       "  </tbody>\n",
       "</table>\n",
       "</div>"
      ],
      "text/plain": [
       "  type      length           thickness  fault_flg\n",
       "0    E  274.027383   40.24113135955541      False\n",
       "1    D   86.319269  16.906714630016268      False\n",
       "2    E  123.940388  1.0184619943950775      False\n",
       "3    B  175.554886   16.41492419553766      False\n",
       "4    B  244.934740  29.061080805480326      False"
      ]
     },
     "execution_count": 51,
     "metadata": {},
     "output_type": "execute_result"
    }
   ],
   "source": [
    "production_miss_num = pd.read_csv('production_missing_num.csv')\n",
    "\n",
    "print(production_miss_num.shape)\n",
    "production_miss_num.head()"
   ]
  },
  {
   "cell_type": "code",
   "execution_count": 52,
   "metadata": {},
   "outputs": [
    {
     "name": "stdout",
     "output_type": "stream",
     "text": [
      "0\n"
     ]
    }
   ],
   "source": [
    "production_miss_num.replace('None', np.nan, inplace=True)\n",
    "production_miss_num['thickness'].fillna(1, inplace=True)\n",
    "\n",
    "print(production_miss_num['thickness'].isnull().sum())"
   ]
  },
  {
   "cell_type": "markdown",
   "metadata": {},
   "source": [
    "#### 平均値補完"
   ]
  },
  {
   "cell_type": "markdown",
   "metadata": {},
   "source": [
    "Noneが含まれているため、thicknessが数値型になっていないので、変換しておく。"
   ]
  },
  {
   "cell_type": "code",
   "execution_count": 53,
   "metadata": {},
   "outputs": [],
   "source": [
    "production_miss_num.replace('None', np.nan, inplace=True)\n",
    "production_miss_num['thickness'] = production_miss_num['thickness'].astype('float64')"
   ]
  },
  {
   "cell_type": "code",
   "execution_count": 54,
   "metadata": {},
   "outputs": [
    {
     "name": "stdout",
     "output_type": "stream",
     "text": [
      "0\n"
     ]
    }
   ],
   "source": [
    "thickness_mean = production_miss_num['thickness'].mean()\n",
    "production_miss_num['thickness'].fillna(thickness_mean, inplace=True)\n",
    "\n",
    "print(production_miss_num['thickness'].isnull().sum())"
   ]
  },
  {
   "cell_type": "markdown",
   "metadata": {},
   "source": [
    "#### PMMによる多重代入"
   ]
  },
  {
   "cell_type": "code",
   "execution_count": 55,
   "metadata": {},
   "outputs": [
    {
     "name": "stdout",
     "output_type": "stream",
     "text": [
      "(1000, 4)\n"
     ]
    },
    {
     "data": {
      "text/html": [
       "<div>\n",
       "<style scoped>\n",
       "    .dataframe tbody tr th:only-of-type {\n",
       "        vertical-align: middle;\n",
       "    }\n",
       "\n",
       "    .dataframe tbody tr th {\n",
       "        vertical-align: top;\n",
       "    }\n",
       "\n",
       "    .dataframe thead th {\n",
       "        text-align: right;\n",
       "    }\n",
       "</style>\n",
       "<table border=\"1\" class=\"dataframe\">\n",
       "  <thead>\n",
       "    <tr style=\"text-align: right;\">\n",
       "      <th></th>\n",
       "      <th>type</th>\n",
       "      <th>length</th>\n",
       "      <th>thickness</th>\n",
       "      <th>fault_flg</th>\n",
       "    </tr>\n",
       "  </thead>\n",
       "  <tbody>\n",
       "    <tr>\n",
       "      <th>0</th>\n",
       "      <td>E</td>\n",
       "      <td>274.027383</td>\n",
       "      <td>40.24113135955541</td>\n",
       "      <td>False</td>\n",
       "    </tr>\n",
       "    <tr>\n",
       "      <th>1</th>\n",
       "      <td>D</td>\n",
       "      <td>86.319269</td>\n",
       "      <td>16.906714630016268</td>\n",
       "      <td>False</td>\n",
       "    </tr>\n",
       "    <tr>\n",
       "      <th>2</th>\n",
       "      <td>E</td>\n",
       "      <td>123.940388</td>\n",
       "      <td>1.0184619943950775</td>\n",
       "      <td>False</td>\n",
       "    </tr>\n",
       "    <tr>\n",
       "      <th>3</th>\n",
       "      <td>B</td>\n",
       "      <td>175.554886</td>\n",
       "      <td>16.41492419553766</td>\n",
       "      <td>False</td>\n",
       "    </tr>\n",
       "    <tr>\n",
       "      <th>4</th>\n",
       "      <td>B</td>\n",
       "      <td>244.934740</td>\n",
       "      <td>29.061080805480326</td>\n",
       "      <td>False</td>\n",
       "    </tr>\n",
       "  </tbody>\n",
       "</table>\n",
       "</div>"
      ],
      "text/plain": [
       "  type      length           thickness  fault_flg\n",
       "0    E  274.027383   40.24113135955541      False\n",
       "1    D   86.319269  16.906714630016268      False\n",
       "2    E  123.940388  1.0184619943950775      False\n",
       "3    B  175.554886   16.41492419553766      False\n",
       "4    B  244.934740  29.061080805480326      False"
      ]
     },
     "execution_count": 55,
     "metadata": {},
     "output_type": "execute_result"
    }
   ],
   "source": [
    "production_miss_num = pd.read_csv('production_missing_num.csv')\n",
    "\n",
    "print(production_miss_num.shape)\n",
    "production_miss_num.head()"
   ]
  },
  {
   "cell_type": "code",
   "execution_count": 56,
   "metadata": {},
   "outputs": [
    {
     "data": {
      "text/html": [
       "<div>\n",
       "<style scoped>\n",
       "    .dataframe tbody tr th:only-of-type {\n",
       "        vertical-align: middle;\n",
       "    }\n",
       "\n",
       "    .dataframe tbody tr th {\n",
       "        vertical-align: top;\n",
       "    }\n",
       "\n",
       "    .dataframe thead th {\n",
       "        text-align: right;\n",
       "    }\n",
       "</style>\n",
       "<table border=\"1\" class=\"dataframe\">\n",
       "  <thead>\n",
       "    <tr style=\"text-align: right;\">\n",
       "      <th></th>\n",
       "      <th>type</th>\n",
       "      <th>length</th>\n",
       "      <th>thickness</th>\n",
       "      <th>fault_flg</th>\n",
       "    </tr>\n",
       "  </thead>\n",
       "  <tbody>\n",
       "    <tr>\n",
       "      <th>0</th>\n",
       "      <td>E</td>\n",
       "      <td>274.027383</td>\n",
       "      <td>40.241131</td>\n",
       "      <td>False</td>\n",
       "    </tr>\n",
       "    <tr>\n",
       "      <th>1</th>\n",
       "      <td>D</td>\n",
       "      <td>86.319269</td>\n",
       "      <td>16.906715</td>\n",
       "      <td>False</td>\n",
       "    </tr>\n",
       "    <tr>\n",
       "      <th>2</th>\n",
       "      <td>E</td>\n",
       "      <td>123.940388</td>\n",
       "      <td>1.018462</td>\n",
       "      <td>False</td>\n",
       "    </tr>\n",
       "    <tr>\n",
       "      <th>3</th>\n",
       "      <td>B</td>\n",
       "      <td>175.554886</td>\n",
       "      <td>16.414924</td>\n",
       "      <td>False</td>\n",
       "    </tr>\n",
       "    <tr>\n",
       "      <th>4</th>\n",
       "      <td>B</td>\n",
       "      <td>244.934740</td>\n",
       "      <td>29.061081</td>\n",
       "      <td>False</td>\n",
       "    </tr>\n",
       "  </tbody>\n",
       "</table>\n",
       "</div>"
      ],
      "text/plain": [
       "  type      length  thickness  fault_flg\n",
       "0    E  274.027383  40.241131      False\n",
       "1    D   86.319269  16.906715      False\n",
       "2    E  123.940388   1.018462      False\n",
       "3    B  175.554886  16.414924      False\n",
       "4    B  244.934740  29.061081      False"
      ]
     },
     "execution_count": 56,
     "metadata": {},
     "output_type": "execute_result"
    }
   ],
   "source": [
    "production_miss_num.replace('None', np.nan, inplace=True)\n",
    "\n",
    "production_miss_num['thickness'] = production_miss_num['thickness'].astype('float64')\n",
    "production_miss_num['type'] = production_miss_num['type'].astype('category')\n",
    "production_miss_num['fault_flg'].astype('category')\n",
    "\n",
    "production_miss_num.head()"
   ]
  },
  {
   "cell_type": "code",
   "execution_count": 57,
   "metadata": {},
   "outputs": [
    {
     "name": "stdout",
     "output_type": "stream",
     "text": [
      "(1000, 6)\n"
     ]
    },
    {
     "data": {
      "text/html": [
       "<div>\n",
       "<style scoped>\n",
       "    .dataframe tbody tr th:only-of-type {\n",
       "        vertical-align: middle;\n",
       "    }\n",
       "\n",
       "    .dataframe tbody tr th {\n",
       "        vertical-align: top;\n",
       "    }\n",
       "\n",
       "    .dataframe thead th {\n",
       "        text-align: right;\n",
       "    }\n",
       "</style>\n",
       "<table border=\"1\" class=\"dataframe\">\n",
       "  <thead>\n",
       "    <tr style=\"text-align: right;\">\n",
       "      <th></th>\n",
       "      <th>fault_flg</th>\n",
       "      <th>type_A</th>\n",
       "      <th>type_B</th>\n",
       "      <th>type_C</th>\n",
       "      <th>type_D</th>\n",
       "      <th>type_E</th>\n",
       "    </tr>\n",
       "  </thead>\n",
       "  <tbody>\n",
       "    <tr>\n",
       "      <th>0</th>\n",
       "      <td>False</td>\n",
       "      <td>0</td>\n",
       "      <td>0</td>\n",
       "      <td>0</td>\n",
       "      <td>0</td>\n",
       "      <td>1</td>\n",
       "    </tr>\n",
       "    <tr>\n",
       "      <th>1</th>\n",
       "      <td>False</td>\n",
       "      <td>0</td>\n",
       "      <td>0</td>\n",
       "      <td>0</td>\n",
       "      <td>1</td>\n",
       "      <td>0</td>\n",
       "    </tr>\n",
       "    <tr>\n",
       "      <th>2</th>\n",
       "      <td>False</td>\n",
       "      <td>0</td>\n",
       "      <td>0</td>\n",
       "      <td>0</td>\n",
       "      <td>0</td>\n",
       "      <td>1</td>\n",
       "    </tr>\n",
       "    <tr>\n",
       "      <th>3</th>\n",
       "      <td>False</td>\n",
       "      <td>0</td>\n",
       "      <td>1</td>\n",
       "      <td>0</td>\n",
       "      <td>0</td>\n",
       "      <td>0</td>\n",
       "    </tr>\n",
       "    <tr>\n",
       "      <th>4</th>\n",
       "      <td>False</td>\n",
       "      <td>0</td>\n",
       "      <td>1</td>\n",
       "      <td>0</td>\n",
       "      <td>0</td>\n",
       "      <td>0</td>\n",
       "    </tr>\n",
       "  </tbody>\n",
       "</table>\n",
       "</div>"
      ],
      "text/plain": [
       "   fault_flg  type_A  type_B  type_C  type_D  type_E\n",
       "0      False       0       0       0       0       1\n",
       "1      False       0       0       0       1       0\n",
       "2      False       0       0       0       0       1\n",
       "3      False       0       1       0       0       0\n",
       "4      False       0       1       0       0       0"
      ]
     },
     "execution_count": 57,
     "metadata": {},
     "output_type": "execute_result"
    }
   ],
   "source": [
    "production_dummy_flg = pd.get_dummies(production_miss_num[['type', 'fault_flg']])\n",
    "\n",
    "print(production_dummy_flg.shape)\n",
    "production_dummy_flg.head()"
   ]
  },
  {
   "cell_type": "markdown",
   "metadata": {},
   "source": [
    "get_dummies()は `drop_first=True` を使用することで、ダミー変数（特徴量の数）を1つ減らすことができる。<br>\n",
    "k-1個のダミー変数が分かれば、残りの1個も自動的に分かるので、特に問題はない。"
   ]
  },
  {
   "cell_type": "code",
   "execution_count": 58,
   "metadata": {},
   "outputs": [
    {
     "name": "stdout",
     "output_type": "stream",
     "text": [
      "(1000, 5)\n"
     ]
    },
    {
     "data": {
      "text/html": [
       "<div>\n",
       "<style scoped>\n",
       "    .dataframe tbody tr th:only-of-type {\n",
       "        vertical-align: middle;\n",
       "    }\n",
       "\n",
       "    .dataframe tbody tr th {\n",
       "        vertical-align: top;\n",
       "    }\n",
       "\n",
       "    .dataframe thead th {\n",
       "        text-align: right;\n",
       "    }\n",
       "</style>\n",
       "<table border=\"1\" class=\"dataframe\">\n",
       "  <thead>\n",
       "    <tr style=\"text-align: right;\">\n",
       "      <th></th>\n",
       "      <th>fault_flg</th>\n",
       "      <th>type_B</th>\n",
       "      <th>type_C</th>\n",
       "      <th>type_D</th>\n",
       "      <th>type_E</th>\n",
       "    </tr>\n",
       "  </thead>\n",
       "  <tbody>\n",
       "    <tr>\n",
       "      <th>0</th>\n",
       "      <td>False</td>\n",
       "      <td>0</td>\n",
       "      <td>0</td>\n",
       "      <td>0</td>\n",
       "      <td>1</td>\n",
       "    </tr>\n",
       "    <tr>\n",
       "      <th>1</th>\n",
       "      <td>False</td>\n",
       "      <td>0</td>\n",
       "      <td>0</td>\n",
       "      <td>1</td>\n",
       "      <td>0</td>\n",
       "    </tr>\n",
       "    <tr>\n",
       "      <th>2</th>\n",
       "      <td>False</td>\n",
       "      <td>0</td>\n",
       "      <td>0</td>\n",
       "      <td>0</td>\n",
       "      <td>1</td>\n",
       "    </tr>\n",
       "    <tr>\n",
       "      <th>3</th>\n",
       "      <td>False</td>\n",
       "      <td>1</td>\n",
       "      <td>0</td>\n",
       "      <td>0</td>\n",
       "      <td>0</td>\n",
       "    </tr>\n",
       "    <tr>\n",
       "      <th>4</th>\n",
       "      <td>False</td>\n",
       "      <td>1</td>\n",
       "      <td>0</td>\n",
       "      <td>0</td>\n",
       "      <td>0</td>\n",
       "    </tr>\n",
       "  </tbody>\n",
       "</table>\n",
       "</div>"
      ],
      "text/plain": [
       "   fault_flg  type_B  type_C  type_D  type_E\n",
       "0      False       0       0       0       1\n",
       "1      False       0       0       1       0\n",
       "2      False       0       0       0       1\n",
       "3      False       1       0       0       0\n",
       "4      False       1       0       0       0"
      ]
     },
     "execution_count": 58,
     "metadata": {},
     "output_type": "execute_result"
    }
   ],
   "source": [
    "production_dummy_flg = pd.get_dummies(production_miss_num[['type', 'fault_flg']], drop_first=True)\n",
    "\n",
    "print(production_dummy_flg.shape)\n",
    "production_dummy_flg.head()"
   ]
  },
  {
   "cell_type": "markdown",
   "metadata": {},
   "source": [
    "fancyimputeは廃止されてしまったようなので、様々な方法を試してみたが、上手くインストールできなかった。<br>\n",
    "そのため、PMMによる多重代入はスキップとする。"
   ]
  }
 ],
 "metadata": {
  "kernelspec": {
   "display_name": "Python 3",
   "language": "python",
   "name": "python3"
  },
  "language_info": {
   "codemirror_mode": {
    "name": "ipython",
    "version": 3
   },
   "file_extension": ".py",
   "mimetype": "text/x-python",
   "name": "python",
   "nbconvert_exporter": "python",
   "pygments_lexer": "ipython3",
   "version": "3.7.6"
  }
 },
 "nbformat": 4,
 "nbformat_minor": 4
}
