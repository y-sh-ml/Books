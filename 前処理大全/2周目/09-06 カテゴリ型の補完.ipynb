{
 "cells": [
  {
   "cell_type": "markdown",
   "id": "f237c192",
   "metadata": {},
   "source": [
    "## 9-6　カテゴリ型の補完"
   ]
  },
  {
   "cell_type": "code",
   "execution_count": 1,
   "id": "cd54fb93",
   "metadata": {},
   "outputs": [],
   "source": [
    "import numpy as np\n",
    "import pandas as pd\n",
    "from sklearn.neighbors import KNeighborsClassifier"
   ]
  },
  {
   "cell_type": "code",
   "execution_count": 2,
   "id": "8d1999ef",
   "metadata": {},
   "outputs": [
    {
     "name": "stdout",
     "output_type": "stream",
     "text": [
      "(1000, 4)\n"
     ]
    },
    {
     "data": {
      "text/html": [
       "<div>\n",
       "<style scoped>\n",
       "    .dataframe tbody tr th:only-of-type {\n",
       "        vertical-align: middle;\n",
       "    }\n",
       "\n",
       "    .dataframe tbody tr th {\n",
       "        vertical-align: top;\n",
       "    }\n",
       "\n",
       "    .dataframe thead th {\n",
       "        text-align: right;\n",
       "    }\n",
       "</style>\n",
       "<table border=\"1\" class=\"dataframe\">\n",
       "  <thead>\n",
       "    <tr style=\"text-align: right;\">\n",
       "      <th></th>\n",
       "      <th>type</th>\n",
       "      <th>length</th>\n",
       "      <th>thickness</th>\n",
       "      <th>fault_flg</th>\n",
       "    </tr>\n",
       "  </thead>\n",
       "  <tbody>\n",
       "    <tr>\n",
       "      <th>0</th>\n",
       "      <td>E</td>\n",
       "      <td>274.027383</td>\n",
       "      <td>40.241131</td>\n",
       "      <td>False</td>\n",
       "    </tr>\n",
       "    <tr>\n",
       "      <th>1</th>\n",
       "      <td>D</td>\n",
       "      <td>86.319269</td>\n",
       "      <td>16.906715</td>\n",
       "      <td>False</td>\n",
       "    </tr>\n",
       "    <tr>\n",
       "      <th>2</th>\n",
       "      <td>E</td>\n",
       "      <td>123.940388</td>\n",
       "      <td>1.018462</td>\n",
       "      <td>False</td>\n",
       "    </tr>\n",
       "    <tr>\n",
       "      <th>3</th>\n",
       "      <td>B</td>\n",
       "      <td>175.554886</td>\n",
       "      <td>16.414924</td>\n",
       "      <td>False</td>\n",
       "    </tr>\n",
       "    <tr>\n",
       "      <th>4</th>\n",
       "      <td>B</td>\n",
       "      <td>244.934740</td>\n",
       "      <td>29.061081</td>\n",
       "      <td>False</td>\n",
       "    </tr>\n",
       "  </tbody>\n",
       "</table>\n",
       "</div>"
      ],
      "text/plain": [
       "  type      length  thickness  fault_flg\n",
       "0    E  274.027383  40.241131      False\n",
       "1    D   86.319269  16.906715      False\n",
       "2    E  123.940388   1.018462      False\n",
       "3    B  175.554886  16.414924      False\n",
       "4    B  244.934740  29.061081      False"
      ]
     },
     "execution_count": 2,
     "metadata": {},
     "output_type": "execute_result"
    }
   ],
   "source": [
    "production_missc_tb = pd.read_csv('production_missing_category.csv')\n",
    "print(production_missc_tb.shape)\n",
    "production_missc_tb.head()"
   ]
  },
  {
   "cell_type": "code",
   "execution_count": 3,
   "id": "50654b34",
   "metadata": {},
   "outputs": [
    {
     "data": {
      "text/plain": [
       "type         100\n",
       "length         0\n",
       "thickness      0\n",
       "fault_flg      0\n",
       "dtype: int64"
      ]
     },
     "execution_count": 3,
     "metadata": {},
     "output_type": "execute_result"
    }
   ],
   "source": [
    "production_missc_tb.isnull().sum()"
   ]
  },
  {
   "cell_type": "code",
   "execution_count": 4,
   "id": "af1a7bbe",
   "metadata": {},
   "outputs": [
    {
     "name": "stdout",
     "output_type": "stream",
     "text": [
      "(900, 4)\n",
      "(100, 4)\n"
     ]
    }
   ],
   "source": [
    "production_missc_tb.replace('None', np.nan, inplace=True)\n",
    "\n",
    "train = production_missc_tb.dropna(subset=['type'], inplace=False)\n",
    "test = production_missc_tb.loc[production_missc_tb.index.difference(train.index), :]\n",
    "\n",
    "print(train.shape)\n",
    "print(test.shape)"
   ]
  },
  {
   "cell_type": "code",
   "execution_count": 5,
   "id": "95114520",
   "metadata": {},
   "outputs": [],
   "source": [
    "kn = KNeighborsClassifier(n_neighbors=3)\n",
    "kn.fit(train[['length', 'thickness']], train['type'])\n",
    "test['type'] = kn.predict(test[['length', 'thickness']])"
   ]
  },
  {
   "cell_type": "code",
   "execution_count": 6,
   "id": "c4f71a80",
   "metadata": {},
   "outputs": [
    {
     "data": {
      "text/html": [
       "<div>\n",
       "<style scoped>\n",
       "    .dataframe tbody tr th:only-of-type {\n",
       "        vertical-align: middle;\n",
       "    }\n",
       "\n",
       "    .dataframe tbody tr th {\n",
       "        vertical-align: top;\n",
       "    }\n",
       "\n",
       "    .dataframe thead th {\n",
       "        text-align: right;\n",
       "    }\n",
       "</style>\n",
       "<table border=\"1\" class=\"dataframe\">\n",
       "  <thead>\n",
       "    <tr style=\"text-align: right;\">\n",
       "      <th></th>\n",
       "      <th>type</th>\n",
       "      <th>length</th>\n",
       "      <th>thickness</th>\n",
       "      <th>fault_flg</th>\n",
       "    </tr>\n",
       "  </thead>\n",
       "  <tbody>\n",
       "    <tr>\n",
       "      <th>8</th>\n",
       "      <td>E</td>\n",
       "      <td>276.386631</td>\n",
       "      <td>29.899611</td>\n",
       "      <td>False</td>\n",
       "    </tr>\n",
       "    <tr>\n",
       "      <th>26</th>\n",
       "      <td>E</td>\n",
       "      <td>263.844324</td>\n",
       "      <td>34.664251</td>\n",
       "      <td>False</td>\n",
       "    </tr>\n",
       "    <tr>\n",
       "      <th>30</th>\n",
       "      <td>E</td>\n",
       "      <td>129.364736</td>\n",
       "      <td>21.346752</td>\n",
       "      <td>False</td>\n",
       "    </tr>\n",
       "    <tr>\n",
       "      <th>36</th>\n",
       "      <td>A</td>\n",
       "      <td>203.378972</td>\n",
       "      <td>30.286454</td>\n",
       "      <td>False</td>\n",
       "    </tr>\n",
       "    <tr>\n",
       "      <th>41</th>\n",
       "      <td>E</td>\n",
       "      <td>157.463166</td>\n",
       "      <td>11.166165</td>\n",
       "      <td>False</td>\n",
       "    </tr>\n",
       "  </tbody>\n",
       "</table>\n",
       "</div>"
      ],
      "text/plain": [
       "   type      length  thickness  fault_flg\n",
       "8     E  276.386631  29.899611      False\n",
       "26    E  263.844324  34.664251      False\n",
       "30    E  129.364736  21.346752      False\n",
       "36    A  203.378972  30.286454      False\n",
       "41    E  157.463166  11.166165      False"
      ]
     },
     "execution_count": 6,
     "metadata": {},
     "output_type": "execute_result"
    }
   ],
   "source": [
    "test.head()"
   ]
  }
 ],
 "metadata": {
  "kernelspec": {
   "display_name": "Python 3",
   "language": "python",
   "name": "python3"
  },
  "language_info": {
   "codemirror_mode": {
    "name": "ipython",
    "version": 3
   },
   "file_extension": ".py",
   "mimetype": "text/x-python",
   "name": "python",
   "nbconvert_exporter": "python",
   "pygments_lexer": "ipython3",
   "version": "3.8.8"
  }
 },
 "nbformat": 4,
 "nbformat_minor": 5
}
