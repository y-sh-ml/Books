{
 "cells": [
  {
   "cell_type": "markdown",
   "id": "9ab5c9ac",
   "metadata": {},
   "source": [
    "## 2-4　集約IDに基づくサンプリング"
   ]
  },
  {
   "cell_type": "code",
   "execution_count": 1,
   "id": "c0a9ce54",
   "metadata": {},
   "outputs": [],
   "source": [
    "import pandas as pd"
   ]
  },
  {
   "cell_type": "code",
   "execution_count": 2,
   "id": "95b725d8",
   "metadata": {},
   "outputs": [
    {
     "name": "stdout",
     "output_type": "stream",
     "text": [
      "(4030, 9)\n"
     ]
    },
    {
     "data": {
      "text/html": [
       "<div>\n",
       "<style scoped>\n",
       "    .dataframe tbody tr th:only-of-type {\n",
       "        vertical-align: middle;\n",
       "    }\n",
       "\n",
       "    .dataframe tbody tr th {\n",
       "        vertical-align: top;\n",
       "    }\n",
       "\n",
       "    .dataframe thead th {\n",
       "        text-align: right;\n",
       "    }\n",
       "</style>\n",
       "<table border=\"1\" class=\"dataframe\">\n",
       "  <thead>\n",
       "    <tr style=\"text-align: right;\">\n",
       "      <th></th>\n",
       "      <th>reserve_id</th>\n",
       "      <th>hotel_id</th>\n",
       "      <th>customer_id</th>\n",
       "      <th>reserve_datetime</th>\n",
       "      <th>checkin_date</th>\n",
       "      <th>checkin_time</th>\n",
       "      <th>checkout_date</th>\n",
       "      <th>people_num</th>\n",
       "      <th>total_price</th>\n",
       "    </tr>\n",
       "  </thead>\n",
       "  <tbody>\n",
       "    <tr>\n",
       "      <th>0</th>\n",
       "      <td>r1</td>\n",
       "      <td>h_75</td>\n",
       "      <td>c_1</td>\n",
       "      <td>2016-03-06 13:09:42</td>\n",
       "      <td>2016-03-26</td>\n",
       "      <td>10:00:00</td>\n",
       "      <td>2016-03-29</td>\n",
       "      <td>4</td>\n",
       "      <td>97200</td>\n",
       "    </tr>\n",
       "    <tr>\n",
       "      <th>1</th>\n",
       "      <td>r2</td>\n",
       "      <td>h_219</td>\n",
       "      <td>c_1</td>\n",
       "      <td>2016-07-16 23:39:55</td>\n",
       "      <td>2016-07-20</td>\n",
       "      <td>11:30:00</td>\n",
       "      <td>2016-07-21</td>\n",
       "      <td>2</td>\n",
       "      <td>20600</td>\n",
       "    </tr>\n",
       "    <tr>\n",
       "      <th>2</th>\n",
       "      <td>r3</td>\n",
       "      <td>h_179</td>\n",
       "      <td>c_1</td>\n",
       "      <td>2016-09-24 10:03:17</td>\n",
       "      <td>2016-10-19</td>\n",
       "      <td>09:00:00</td>\n",
       "      <td>2016-10-22</td>\n",
       "      <td>2</td>\n",
       "      <td>33600</td>\n",
       "    </tr>\n",
       "    <tr>\n",
       "      <th>3</th>\n",
       "      <td>r4</td>\n",
       "      <td>h_214</td>\n",
       "      <td>c_1</td>\n",
       "      <td>2017-03-08 03:20:10</td>\n",
       "      <td>2017-03-29</td>\n",
       "      <td>11:00:00</td>\n",
       "      <td>2017-03-30</td>\n",
       "      <td>4</td>\n",
       "      <td>194400</td>\n",
       "    </tr>\n",
       "    <tr>\n",
       "      <th>4</th>\n",
       "      <td>r5</td>\n",
       "      <td>h_16</td>\n",
       "      <td>c_1</td>\n",
       "      <td>2017-09-05 19:50:37</td>\n",
       "      <td>2017-09-22</td>\n",
       "      <td>10:30:00</td>\n",
       "      <td>2017-09-23</td>\n",
       "      <td>3</td>\n",
       "      <td>68100</td>\n",
       "    </tr>\n",
       "  </tbody>\n",
       "</table>\n",
       "</div>"
      ],
      "text/plain": [
       "  reserve_id hotel_id customer_id     reserve_datetime checkin_date  \\\n",
       "0         r1     h_75         c_1  2016-03-06 13:09:42   2016-03-26   \n",
       "1         r2    h_219         c_1  2016-07-16 23:39:55   2016-07-20   \n",
       "2         r3    h_179         c_1  2016-09-24 10:03:17   2016-10-19   \n",
       "3         r4    h_214         c_1  2017-03-08 03:20:10   2017-03-29   \n",
       "4         r5     h_16         c_1  2017-09-05 19:50:37   2017-09-22   \n",
       "\n",
       "  checkin_time checkout_date  people_num  total_price  \n",
       "0     10:00:00    2016-03-29           4        97200  \n",
       "1     11:30:00    2016-07-21           2        20600  \n",
       "2     09:00:00    2016-10-22           2        33600  \n",
       "3     11:00:00    2017-03-30           4       194400  \n",
       "4     10:30:00    2017-09-23           3        68100  "
      ]
     },
     "execution_count": 2,
     "metadata": {},
     "output_type": "execute_result"
    }
   ],
   "source": [
    "reserve_tb = pd.read_csv('reserve.csv')\n",
    "print(reserve_tb.shape)\n",
    "reserve_tb.head()"
   ]
  },
  {
   "cell_type": "markdown",
   "id": "5400d3e9",
   "metadata": {},
   "source": [
    "データの 50 % をサンプリングするので、1 つのレコードにおいて、残る確率と残らない確率が 50 % ずつとなる。<br>\n",
    "これをもとに、2 つのレコードの確率が計算されている。\n",
    "\n",
    "1 つ目の解決する方法は、最初に集約をするため、サンプリングで抽出されない顧客についても処理が発生してしまう。"
   ]
  },
  {
   "cell_type": "code",
   "execution_count": 3,
   "id": "a0e9c43f",
   "metadata": {},
   "outputs": [
    {
     "data": {
      "text/plain": [
       "542    c_617\n",
       "713    c_808\n",
       "535    c_610\n",
       "444    c_508\n",
       "256    c_296\n",
       "dtype: object"
      ]
     },
     "execution_count": 3,
     "metadata": {},
     "output_type": "execute_result"
    }
   ],
   "source": [
    "target = pd.Series(reserve_tb['customer_id'].unique()).sample(frac=0.5)\n",
    "target.head()"
   ]
  },
  {
   "cell_type": "markdown",
   "id": "f348dcda",
   "metadata": {},
   "source": [
    "`sample` を使用するために、`pd.Series` に変換している。"
   ]
  },
  {
   "cell_type": "code",
   "execution_count": 4,
   "id": "a9941a26",
   "metadata": {},
   "outputs": [
    {
     "name": "stdout",
     "output_type": "stream",
     "text": [
      "(1990, 9)\n"
     ]
    },
    {
     "data": {
      "text/html": [
       "<div>\n",
       "<style scoped>\n",
       "    .dataframe tbody tr th:only-of-type {\n",
       "        vertical-align: middle;\n",
       "    }\n",
       "\n",
       "    .dataframe tbody tr th {\n",
       "        vertical-align: top;\n",
       "    }\n",
       "\n",
       "    .dataframe thead th {\n",
       "        text-align: right;\n",
       "    }\n",
       "</style>\n",
       "<table border=\"1\" class=\"dataframe\">\n",
       "  <thead>\n",
       "    <tr style=\"text-align: right;\">\n",
       "      <th></th>\n",
       "      <th>reserve_id</th>\n",
       "      <th>hotel_id</th>\n",
       "      <th>customer_id</th>\n",
       "      <th>reserve_datetime</th>\n",
       "      <th>checkin_date</th>\n",
       "      <th>checkin_time</th>\n",
       "      <th>checkout_date</th>\n",
       "      <th>people_num</th>\n",
       "      <th>total_price</th>\n",
       "    </tr>\n",
       "  </thead>\n",
       "  <tbody>\n",
       "    <tr>\n",
       "      <th>8</th>\n",
       "      <td>r9</td>\n",
       "      <td>h_217</td>\n",
       "      <td>c_2</td>\n",
       "      <td>2016-03-05 13:31:06</td>\n",
       "      <td>2016-03-25</td>\n",
       "      <td>09:30:00</td>\n",
       "      <td>2016-03-27</td>\n",
       "      <td>3</td>\n",
       "      <td>68400</td>\n",
       "    </tr>\n",
       "    <tr>\n",
       "      <th>9</th>\n",
       "      <td>r10</td>\n",
       "      <td>h_240</td>\n",
       "      <td>c_2</td>\n",
       "      <td>2016-06-25 09:12:22</td>\n",
       "      <td>2016-07-14</td>\n",
       "      <td>11:00:00</td>\n",
       "      <td>2016-07-17</td>\n",
       "      <td>4</td>\n",
       "      <td>320400</td>\n",
       "    </tr>\n",
       "    <tr>\n",
       "      <th>10</th>\n",
       "      <td>r11</td>\n",
       "      <td>h_183</td>\n",
       "      <td>c_2</td>\n",
       "      <td>2016-11-19 12:49:10</td>\n",
       "      <td>2016-12-08</td>\n",
       "      <td>11:00:00</td>\n",
       "      <td>2016-12-11</td>\n",
       "      <td>1</td>\n",
       "      <td>29700</td>\n",
       "    </tr>\n",
       "    <tr>\n",
       "      <th>11</th>\n",
       "      <td>r12</td>\n",
       "      <td>h_268</td>\n",
       "      <td>c_2</td>\n",
       "      <td>2017-05-24 10:06:21</td>\n",
       "      <td>2017-06-20</td>\n",
       "      <td>09:00:00</td>\n",
       "      <td>2017-06-21</td>\n",
       "      <td>4</td>\n",
       "      <td>81600</td>\n",
       "    </tr>\n",
       "    <tr>\n",
       "      <th>12</th>\n",
       "      <td>r13</td>\n",
       "      <td>h_223</td>\n",
       "      <td>c_2</td>\n",
       "      <td>2017-10-19 03:03:30</td>\n",
       "      <td>2017-10-21</td>\n",
       "      <td>09:30:00</td>\n",
       "      <td>2017-10-23</td>\n",
       "      <td>1</td>\n",
       "      <td>137000</td>\n",
       "    </tr>\n",
       "  </tbody>\n",
       "</table>\n",
       "</div>"
      ],
      "text/plain": [
       "   reserve_id hotel_id customer_id     reserve_datetime checkin_date  \\\n",
       "8          r9    h_217         c_2  2016-03-05 13:31:06   2016-03-25   \n",
       "9         r10    h_240         c_2  2016-06-25 09:12:22   2016-07-14   \n",
       "10        r11    h_183         c_2  2016-11-19 12:49:10   2016-12-08   \n",
       "11        r12    h_268         c_2  2017-05-24 10:06:21   2017-06-20   \n",
       "12        r13    h_223         c_2  2017-10-19 03:03:30   2017-10-21   \n",
       "\n",
       "   checkin_time checkout_date  people_num  total_price  \n",
       "8      09:30:00    2016-03-27           3        68400  \n",
       "9      11:00:00    2016-07-17           4       320400  \n",
       "10     11:00:00    2016-12-11           1        29700  \n",
       "11     09:00:00    2017-06-21           4        81600  \n",
       "12     09:30:00    2017-10-23           1       137000  "
      ]
     },
     "execution_count": 4,
     "metadata": {},
     "output_type": "execute_result"
    }
   ],
   "source": [
    "sampling = reserve_tb[reserve_tb['customer_id'].isin(target)]\n",
    "print(sampling.shape)\n",
    "sampling.head()"
   ]
  }
 ],
 "metadata": {
  "kernelspec": {
   "display_name": "Python 3",
   "language": "python",
   "name": "python3"
  },
  "language_info": {
   "codemirror_mode": {
    "name": "ipython",
    "version": 3
   },
   "file_extension": ".py",
   "mimetype": "text/x-python",
   "name": "python",
   "nbconvert_exporter": "python",
   "pygments_lexer": "ipython3",
   "version": "3.8.8"
  }
 },
 "nbformat": 4,
 "nbformat_minor": 5
}
