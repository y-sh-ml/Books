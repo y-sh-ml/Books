{
 "cells": [
  {
   "cell_type": "markdown",
   "id": "42bf08e5",
   "metadata": {},
   "source": [
    "## 4-2　条件に応じた結合テーブルの切り替え"
   ]
  },
  {
   "cell_type": "code",
   "execution_count": 1,
   "id": "5e5aa62d",
   "metadata": {},
   "outputs": [],
   "source": [
    "import gc\n",
    "import numpy as np\n",
    "import pandas as pd"
   ]
  },
  {
   "cell_type": "code",
   "execution_count": 2,
   "id": "3e21801c",
   "metadata": {},
   "outputs": [
    {
     "name": "stdout",
     "output_type": "stream",
     "text": [
      "(300, 7)\n"
     ]
    },
    {
     "data": {
      "text/html": [
       "<div>\n",
       "<style scoped>\n",
       "    .dataframe tbody tr th:only-of-type {\n",
       "        vertical-align: middle;\n",
       "    }\n",
       "\n",
       "    .dataframe tbody tr th {\n",
       "        vertical-align: top;\n",
       "    }\n",
       "\n",
       "    .dataframe thead th {\n",
       "        text-align: right;\n",
       "    }\n",
       "</style>\n",
       "<table border=\"1\" class=\"dataframe\">\n",
       "  <thead>\n",
       "    <tr style=\"text-align: right;\">\n",
       "      <th></th>\n",
       "      <th>hotel_id</th>\n",
       "      <th>base_price</th>\n",
       "      <th>big_area_name</th>\n",
       "      <th>small_area_name</th>\n",
       "      <th>hotel_latitude</th>\n",
       "      <th>hotel_longitude</th>\n",
       "      <th>is_business</th>\n",
       "    </tr>\n",
       "  </thead>\n",
       "  <tbody>\n",
       "    <tr>\n",
       "      <th>0</th>\n",
       "      <td>h_1</td>\n",
       "      <td>26100</td>\n",
       "      <td>D</td>\n",
       "      <td>D-2</td>\n",
       "      <td>43.064569</td>\n",
       "      <td>141.511397</td>\n",
       "      <td>True</td>\n",
       "    </tr>\n",
       "    <tr>\n",
       "      <th>1</th>\n",
       "      <td>h_2</td>\n",
       "      <td>26400</td>\n",
       "      <td>A</td>\n",
       "      <td>A-1</td>\n",
       "      <td>35.715320</td>\n",
       "      <td>139.939446</td>\n",
       "      <td>True</td>\n",
       "    </tr>\n",
       "    <tr>\n",
       "      <th>2</th>\n",
       "      <td>h_3</td>\n",
       "      <td>41300</td>\n",
       "      <td>E</td>\n",
       "      <td>E-4</td>\n",
       "      <td>35.281572</td>\n",
       "      <td>136.988565</td>\n",
       "      <td>False</td>\n",
       "    </tr>\n",
       "    <tr>\n",
       "      <th>3</th>\n",
       "      <td>h_4</td>\n",
       "      <td>5200</td>\n",
       "      <td>C</td>\n",
       "      <td>C-3</td>\n",
       "      <td>38.431293</td>\n",
       "      <td>140.795615</td>\n",
       "      <td>False</td>\n",
       "    </tr>\n",
       "    <tr>\n",
       "      <th>4</th>\n",
       "      <td>h_5</td>\n",
       "      <td>13500</td>\n",
       "      <td>G</td>\n",
       "      <td>G-3</td>\n",
       "      <td>33.597291</td>\n",
       "      <td>130.533872</td>\n",
       "      <td>True</td>\n",
       "    </tr>\n",
       "  </tbody>\n",
       "</table>\n",
       "</div>"
      ],
      "text/plain": [
       "  hotel_id  base_price big_area_name small_area_name  hotel_latitude  \\\n",
       "0      h_1       26100             D             D-2       43.064569   \n",
       "1      h_2       26400             A             A-1       35.715320   \n",
       "2      h_3       41300             E             E-4       35.281572   \n",
       "3      h_4        5200             C             C-3       38.431293   \n",
       "4      h_5       13500             G             G-3       33.597291   \n",
       "\n",
       "   hotel_longitude  is_business  \n",
       "0       141.511397         True  \n",
       "1       139.939446         True  \n",
       "2       136.988565        False  \n",
       "3       140.795615        False  \n",
       "4       130.533872         True  "
      ]
     },
     "execution_count": 2,
     "metadata": {},
     "output_type": "execute_result"
    }
   ],
   "source": [
    "hotel_tb = pd.read_csv('hotel.csv')\n",
    "print(hotel_tb.shape)\n",
    "hotel_tb.head()"
   ]
  },
  {
   "cell_type": "markdown",
   "id": "fbc7b833",
   "metadata": {},
   "source": [
    "推薦される側のテーブルを作成する。"
   ]
  },
  {
   "cell_type": "code",
   "execution_count": 3,
   "id": "8fd73b9e",
   "metadata": {},
   "outputs": [
    {
     "data": {
      "text/html": [
       "<div>\n",
       "<style scoped>\n",
       "    .dataframe tbody tr th:only-of-type {\n",
       "        vertical-align: middle;\n",
       "    }\n",
       "\n",
       "    .dataframe tbody tr th {\n",
       "        vertical-align: top;\n",
       "    }\n",
       "\n",
       "    .dataframe thead th {\n",
       "        text-align: right;\n",
       "    }\n",
       "</style>\n",
       "<table border=\"1\" class=\"dataframe\">\n",
       "  <thead>\n",
       "    <tr style=\"text-align: right;\">\n",
       "      <th></th>\n",
       "      <th>big_area_name</th>\n",
       "      <th>small_area_name</th>\n",
       "      <th>hotel_cnt</th>\n",
       "    </tr>\n",
       "  </thead>\n",
       "  <tbody>\n",
       "    <tr>\n",
       "      <th>0</th>\n",
       "      <td>A</td>\n",
       "      <td>A-1</td>\n",
       "      <td>35</td>\n",
       "    </tr>\n",
       "    <tr>\n",
       "      <th>1</th>\n",
       "      <td>A</td>\n",
       "      <td>A-3</td>\n",
       "      <td>30</td>\n",
       "    </tr>\n",
       "    <tr>\n",
       "      <th>2</th>\n",
       "      <td>B</td>\n",
       "      <td>B-1</td>\n",
       "      <td>15</td>\n",
       "    </tr>\n",
       "    <tr>\n",
       "      <th>3</th>\n",
       "      <td>B</td>\n",
       "      <td>B-2</td>\n",
       "      <td>18</td>\n",
       "    </tr>\n",
       "    <tr>\n",
       "      <th>4</th>\n",
       "      <td>B</td>\n",
       "      <td>B-3</td>\n",
       "      <td>19</td>\n",
       "    </tr>\n",
       "  </tbody>\n",
       "</table>\n",
       "</div>"
      ],
      "text/plain": [
       "  big_area_name small_area_name  hotel_cnt\n",
       "0             A             A-1         35\n",
       "1             A             A-3         30\n",
       "2             B             B-1         15\n",
       "3             B             B-2         18\n",
       "4             B             B-3         19"
      ]
     },
     "execution_count": 3,
     "metadata": {},
     "output_type": "execute_result"
    }
   ],
   "source": [
    "small_area_mst = hotel_tb.groupby(['big_area_name', 'small_area_name']).size().reset_index()\n",
    "small_area_mst.columns = ['big_area_name', 'small_area_name', 'hotel_cnt']\n",
    "small_area_mst.head()"
   ]
  },
  {
   "cell_type": "code",
   "execution_count": 4,
   "id": "d029af00",
   "metadata": {},
   "outputs": [
    {
     "data": {
      "text/html": [
       "<div>\n",
       "<style scoped>\n",
       "    .dataframe tbody tr th:only-of-type {\n",
       "        vertical-align: middle;\n",
       "    }\n",
       "\n",
       "    .dataframe tbody tr th {\n",
       "        vertical-align: top;\n",
       "    }\n",
       "\n",
       "    .dataframe thead th {\n",
       "        text-align: right;\n",
       "    }\n",
       "</style>\n",
       "<table border=\"1\" class=\"dataframe\">\n",
       "  <thead>\n",
       "    <tr style=\"text-align: right;\">\n",
       "      <th></th>\n",
       "      <th>small_area_name</th>\n",
       "      <th>join_area_id</th>\n",
       "    </tr>\n",
       "  </thead>\n",
       "  <tbody>\n",
       "    <tr>\n",
       "      <th>0</th>\n",
       "      <td>A-1</td>\n",
       "      <td>A</td>\n",
       "    </tr>\n",
       "    <tr>\n",
       "      <th>1</th>\n",
       "      <td>A-3</td>\n",
       "      <td>A</td>\n",
       "    </tr>\n",
       "    <tr>\n",
       "      <th>2</th>\n",
       "      <td>B-1</td>\n",
       "      <td>B-1</td>\n",
       "    </tr>\n",
       "    <tr>\n",
       "      <th>3</th>\n",
       "      <td>B-2</td>\n",
       "      <td>B-2</td>\n",
       "    </tr>\n",
       "    <tr>\n",
       "      <th>4</th>\n",
       "      <td>B-3</td>\n",
       "      <td>B-3</td>\n",
       "    </tr>\n",
       "  </tbody>\n",
       "</table>\n",
       "</div>"
      ],
      "text/plain": [
       "  small_area_name join_area_id\n",
       "0             A-1            A\n",
       "1             A-3            A\n",
       "2             B-1          B-1\n",
       "3             B-2          B-2\n",
       "4             B-3          B-3"
      ]
     },
     "execution_count": 4,
     "metadata": {},
     "output_type": "execute_result"
    }
   ],
   "source": [
    "small_area_mst['join_area_id'] = np.where(small_area_mst['hotel_cnt']-1 <= 20,\n",
    "                                          small_area_mst['small_area_name'], small_area_mst['big_area_name'])\n",
    "small_area_mst.drop(['hotel_cnt', 'big_area_name'], axis=1, inplace=True)\n",
    "small_area_mst.head()"
   ]
  },
  {
   "cell_type": "code",
   "execution_count": 5,
   "id": "538c6a3f",
   "metadata": {},
   "outputs": [
    {
     "name": "stdout",
     "output_type": "stream",
     "text": [
      "(300, 2)\n"
     ]
    },
    {
     "data": {
      "text/html": [
       "<div>\n",
       "<style scoped>\n",
       "    .dataframe tbody tr th:only-of-type {\n",
       "        vertical-align: middle;\n",
       "    }\n",
       "\n",
       "    .dataframe tbody tr th {\n",
       "        vertical-align: top;\n",
       "    }\n",
       "\n",
       "    .dataframe thead th {\n",
       "        text-align: right;\n",
       "    }\n",
       "</style>\n",
       "<table border=\"1\" class=\"dataframe\">\n",
       "  <thead>\n",
       "    <tr style=\"text-align: right;\">\n",
       "      <th></th>\n",
       "      <th>hotel_id</th>\n",
       "      <th>join_area_id</th>\n",
       "    </tr>\n",
       "  </thead>\n",
       "  <tbody>\n",
       "    <tr>\n",
       "      <th>0</th>\n",
       "      <td>h_1</td>\n",
       "      <td>D-2</td>\n",
       "    </tr>\n",
       "    <tr>\n",
       "      <th>1</th>\n",
       "      <td>h_79</td>\n",
       "      <td>D-2</td>\n",
       "    </tr>\n",
       "    <tr>\n",
       "      <th>2</th>\n",
       "      <td>h_125</td>\n",
       "      <td>D-2</td>\n",
       "    </tr>\n",
       "    <tr>\n",
       "      <th>3</th>\n",
       "      <td>h_127</td>\n",
       "      <td>D-2</td>\n",
       "    </tr>\n",
       "    <tr>\n",
       "      <th>4</th>\n",
       "      <td>h_129</td>\n",
       "      <td>D-2</td>\n",
       "    </tr>\n",
       "  </tbody>\n",
       "</table>\n",
       "</div>"
      ],
      "text/plain": [
       "  hotel_id join_area_id\n",
       "0      h_1          D-2\n",
       "1     h_79          D-2\n",
       "2    h_125          D-2\n",
       "3    h_127          D-2\n",
       "4    h_129          D-2"
      ]
     },
     "execution_count": 5,
     "metadata": {},
     "output_type": "execute_result"
    }
   ],
   "source": [
    "base_hotel_mst = pd.merge(hotel_tb, small_area_mst, on='small_area_name').loc[:, ['hotel_id', 'join_area_id']]\n",
    "print(base_hotel_mst.shape)\n",
    "base_hotel_mst.head()"
   ]
  },
  {
   "cell_type": "code",
   "execution_count": 6,
   "id": "8286a3be",
   "metadata": {},
   "outputs": [
    {
     "data": {
      "text/plain": [
       "15"
      ]
     },
     "execution_count": 6,
     "metadata": {},
     "output_type": "execute_result"
    }
   ],
   "source": [
    "del small_area_mst\n",
    "gc.collect()"
   ]
  },
  {
   "cell_type": "markdown",
   "id": "7381cb48",
   "metadata": {},
   "source": [
    "推薦先のテーブルを作成する。"
   ]
  },
  {
   "cell_type": "code",
   "execution_count": 7,
   "id": "89bc9a95",
   "metadata": {},
   "outputs": [
    {
     "name": "stdout",
     "output_type": "stream",
     "text": [
      "(600, 2)\n"
     ]
    },
    {
     "data": {
      "text/html": [
       "<div>\n",
       "<style scoped>\n",
       "    .dataframe tbody tr th:only-of-type {\n",
       "        vertical-align: middle;\n",
       "    }\n",
       "\n",
       "    .dataframe tbody tr th {\n",
       "        vertical-align: top;\n",
       "    }\n",
       "\n",
       "    .dataframe thead th {\n",
       "        text-align: right;\n",
       "    }\n",
       "</style>\n",
       "<table border=\"1\" class=\"dataframe\">\n",
       "  <thead>\n",
       "    <tr style=\"text-align: right;\">\n",
       "      <th></th>\n",
       "      <th>join_area_id</th>\n",
       "      <th>rec_hotel_id</th>\n",
       "    </tr>\n",
       "  </thead>\n",
       "  <tbody>\n",
       "    <tr>\n",
       "      <th>0</th>\n",
       "      <td>D-2</td>\n",
       "      <td>h_1</td>\n",
       "    </tr>\n",
       "    <tr>\n",
       "      <th>1</th>\n",
       "      <td>A-1</td>\n",
       "      <td>h_2</td>\n",
       "    </tr>\n",
       "    <tr>\n",
       "      <th>2</th>\n",
       "      <td>E-4</td>\n",
       "      <td>h_3</td>\n",
       "    </tr>\n",
       "    <tr>\n",
       "      <th>3</th>\n",
       "      <td>C-3</td>\n",
       "      <td>h_4</td>\n",
       "    </tr>\n",
       "    <tr>\n",
       "      <th>4</th>\n",
       "      <td>G-3</td>\n",
       "      <td>h_5</td>\n",
       "    </tr>\n",
       "  </tbody>\n",
       "</table>\n",
       "</div>"
      ],
      "text/plain": [
       "  join_area_id rec_hotel_id\n",
       "0          D-2          h_1\n",
       "1          A-1          h_2\n",
       "2          E-4          h_3\n",
       "3          C-3          h_4\n",
       "4          G-3          h_5"
      ]
     },
     "execution_count": 7,
     "metadata": {},
     "output_type": "execute_result"
    }
   ],
   "source": [
    "recommend_hotel_mst = pd.concat([\n",
    "    hotel_tb[['small_area_name', 'hotel_id']].rename(columns={'small_area_name': 'join_area_id'}, inplace=False),\n",
    "    hotel_tb[['big_area_name', 'hotel_id']].rename(columns={'big_area_name': 'join_area_id'}, inplace=False)\n",
    "])\n",
    "recommend_hotel_mst.rename(columns={'hotel_id': 'rec_hotel_id'}, inplace=True)\n",
    "print(recommend_hotel_mst.shape)\n",
    "recommend_hotel_mst.head()"
   ]
  },
  {
   "cell_type": "markdown",
   "id": "09767618",
   "metadata": {},
   "source": [
    "両テーブルを結合する。"
   ]
  },
  {
   "cell_type": "code",
   "execution_count": 8,
   "id": "7aee2b77",
   "metadata": {},
   "outputs": [
    {
     "name": "stdout",
     "output_type": "stream",
     "text": [
      "(10227, 2)\n"
     ]
    },
    {
     "data": {
      "text/html": [
       "<div>\n",
       "<style scoped>\n",
       "    .dataframe tbody tr th:only-of-type {\n",
       "        vertical-align: middle;\n",
       "    }\n",
       "\n",
       "    .dataframe tbody tr th {\n",
       "        vertical-align: top;\n",
       "    }\n",
       "\n",
       "    .dataframe thead th {\n",
       "        text-align: right;\n",
       "    }\n",
       "</style>\n",
       "<table border=\"1\" class=\"dataframe\">\n",
       "  <thead>\n",
       "    <tr style=\"text-align: right;\">\n",
       "      <th></th>\n",
       "      <th>hotel_id</th>\n",
       "      <th>rec_hotel_id</th>\n",
       "    </tr>\n",
       "  </thead>\n",
       "  <tbody>\n",
       "    <tr>\n",
       "      <th>1</th>\n",
       "      <td>h_1</td>\n",
       "      <td>h_79</td>\n",
       "    </tr>\n",
       "    <tr>\n",
       "      <th>2</th>\n",
       "      <td>h_1</td>\n",
       "      <td>h_125</td>\n",
       "    </tr>\n",
       "    <tr>\n",
       "      <th>3</th>\n",
       "      <td>h_1</td>\n",
       "      <td>h_127</td>\n",
       "    </tr>\n",
       "    <tr>\n",
       "      <th>4</th>\n",
       "      <td>h_1</td>\n",
       "      <td>h_129</td>\n",
       "    </tr>\n",
       "    <tr>\n",
       "      <th>5</th>\n",
       "      <td>h_1</td>\n",
       "      <td>h_196</td>\n",
       "    </tr>\n",
       "  </tbody>\n",
       "</table>\n",
       "</div>"
      ],
      "text/plain": [
       "  hotel_id rec_hotel_id\n",
       "1      h_1         h_79\n",
       "2      h_1        h_125\n",
       "3      h_1        h_127\n",
       "4      h_1        h_129\n",
       "5      h_1        h_196"
      ]
     },
     "execution_count": 8,
     "metadata": {},
     "output_type": "execute_result"
    }
   ],
   "source": [
    "df = pd.merge(base_hotel_mst, recommend_hotel_mst, on='join_area_id').loc[:, ['hotel_id', 'rec_hotel_id']].query('hotel_id != rec_hotel_id')\n",
    "print(df.shape)\n",
    "df.head()"
   ]
  }
 ],
 "metadata": {
  "kernelspec": {
   "display_name": "Python 3",
   "language": "python",
   "name": "python3"
  },
  "language_info": {
   "codemirror_mode": {
    "name": "ipython",
    "version": 3
   },
   "file_extension": ".py",
   "mimetype": "text/x-python",
   "name": "python",
   "nbconvert_exporter": "python",
   "pygments_lexer": "ipython3",
   "version": "3.8.8"
  }
 },
 "nbformat": 4,
 "nbformat_minor": 5
}
