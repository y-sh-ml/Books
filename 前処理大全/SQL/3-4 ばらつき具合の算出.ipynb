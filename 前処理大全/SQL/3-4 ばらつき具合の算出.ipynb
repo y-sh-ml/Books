{
 "cells": [
  {
   "cell_type": "markdown",
   "id": "b64ccefc",
   "metadata": {},
   "source": [
    "## 3-4　ばらつき具合の算出"
   ]
  },
  {
   "cell_type": "code",
   "execution_count": 1,
   "id": "035d2f36",
   "metadata": {},
   "outputs": [],
   "source": [
    "import pandas as pd\n",
    "import psycopg2\n",
    "import config"
   ]
  },
  {
   "cell_type": "code",
   "execution_count": 2,
   "id": "cfed74e1",
   "metadata": {},
   "outputs": [],
   "source": [
    "conn = psycopg2.connect(**config.connection_config)"
   ]
  },
  {
   "cell_type": "code",
   "execution_count": 3,
   "id": "b029dba2",
   "metadata": {},
   "outputs": [
    {
     "data": {
      "text/html": [
       "<div>\n",
       "<style scoped>\n",
       "    .dataframe tbody tr th:only-of-type {\n",
       "        vertical-align: middle;\n",
       "    }\n",
       "\n",
       "    .dataframe tbody tr th {\n",
       "        vertical-align: top;\n",
       "    }\n",
       "\n",
       "    .dataframe thead th {\n",
       "        text-align: right;\n",
       "    }\n",
       "</style>\n",
       "<table border=\"1\" class=\"dataframe\">\n",
       "  <thead>\n",
       "    <tr style=\"text-align: right;\">\n",
       "      <th></th>\n",
       "      <th>hotel_id</th>\n",
       "      <th>price_var</th>\n",
       "      <th>price_std</th>\n",
       "    </tr>\n",
       "  </thead>\n",
       "  <tbody>\n",
       "    <tr>\n",
       "      <th>0</th>\n",
       "      <td>h_1</td>\n",
       "      <td>3.186549e+09</td>\n",
       "      <td>56449.526127</td>\n",
       "    </tr>\n",
       "    <tr>\n",
       "      <th>1</th>\n",
       "      <td>h_10</td>\n",
       "      <td>8.258133e+08</td>\n",
       "      <td>28736.968061</td>\n",
       "    </tr>\n",
       "    <tr>\n",
       "      <th>2</th>\n",
       "      <td>h_100</td>\n",
       "      <td>3.198316e+08</td>\n",
       "      <td>17883.835689</td>\n",
       "    </tr>\n",
       "    <tr>\n",
       "      <th>3</th>\n",
       "      <td>h_101</td>\n",
       "      <td>2.402441e+09</td>\n",
       "      <td>49014.703676</td>\n",
       "    </tr>\n",
       "    <tr>\n",
       "      <th>4</th>\n",
       "      <td>h_102</td>\n",
       "      <td>3.576923e+08</td>\n",
       "      <td>18912.755159</td>\n",
       "    </tr>\n",
       "  </tbody>\n",
       "</table>\n",
       "</div>"
      ],
      "text/plain": [
       "  hotel_id     price_var     price_std\n",
       "0      h_1  3.186549e+09  56449.526127\n",
       "1     h_10  8.258133e+08  28736.968061\n",
       "2    h_100  3.198316e+08  17883.835689\n",
       "3    h_101  2.402441e+09  49014.703676\n",
       "4    h_102  3.576923e+08  18912.755159"
      ]
     },
     "execution_count": 3,
     "metadata": {},
     "output_type": "execute_result"
    }
   ],
   "source": [
    "query =\"\"\"\n",
    "\n",
    "SELECT\n",
    "  hotel_id,\n",
    "  COALESCE(VARIANCE(total_price), 0) AS price_var,\n",
    "  COALESCE(STDDEV(total_price), 0) AS price_std\n",
    "FROM\n",
    "  reserve_tb\n",
    "GROUP BY\n",
    "  hotel_id\n",
    "ORDER BY\n",
    "  hotel_id\n",
    "LIMIT\n",
    "  5\n",
    ";\n",
    "\n",
    "\"\"\"\n",
    "\n",
    "pd.read_sql(query, con=conn)"
   ]
  }
 ],
 "metadata": {
  "kernelspec": {
   "display_name": "Python 3",
   "language": "python",
   "name": "python3"
  },
  "language_info": {
   "codemirror_mode": {
    "name": "ipython",
    "version": 3
   },
   "file_extension": ".py",
   "mimetype": "text/x-python",
   "name": "python",
   "nbconvert_exporter": "python",
   "pygments_lexer": "ipython3",
   "version": "3.8.8"
  }
 },
 "nbformat": 4,
 "nbformat_minor": 5
}
