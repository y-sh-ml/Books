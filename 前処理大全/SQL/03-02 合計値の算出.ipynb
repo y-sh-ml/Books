{
 "cells": [
  {
   "cell_type": "markdown",
   "id": "b64ccefc",
   "metadata": {},
   "source": [
    "## 3-2　合計値の算出"
   ]
  },
  {
   "cell_type": "code",
   "execution_count": 1,
   "id": "035d2f36",
   "metadata": {},
   "outputs": [],
   "source": [
    "import pandas as pd\n",
    "import psycopg2\n",
    "import config"
   ]
  },
  {
   "cell_type": "code",
   "execution_count": 2,
   "id": "cfed74e1",
   "metadata": {},
   "outputs": [],
   "source": [
    "conn = psycopg2.connect(**config.connection_config)"
   ]
  },
  {
   "cell_type": "code",
   "execution_count": 3,
   "id": "b029dba2",
   "metadata": {},
   "outputs": [
    {
     "data": {
      "text/html": [
       "<div>\n",
       "<style scoped>\n",
       "    .dataframe tbody tr th:only-of-type {\n",
       "        vertical-align: middle;\n",
       "    }\n",
       "\n",
       "    .dataframe tbody tr th {\n",
       "        vertical-align: top;\n",
       "    }\n",
       "\n",
       "    .dataframe thead th {\n",
       "        text-align: right;\n",
       "    }\n",
       "</style>\n",
       "<table border=\"1\" class=\"dataframe\">\n",
       "  <thead>\n",
       "    <tr style=\"text-align: right;\">\n",
       "      <th></th>\n",
       "      <th>hotel_id</th>\n",
       "      <th>people_num</th>\n",
       "      <th>price_num</th>\n",
       "    </tr>\n",
       "  </thead>\n",
       "  <tbody>\n",
       "    <tr>\n",
       "      <th>0</th>\n",
       "      <td>h_1</td>\n",
       "      <td>1</td>\n",
       "      <td>156600</td>\n",
       "    </tr>\n",
       "    <tr>\n",
       "      <th>1</th>\n",
       "      <td>h_1</td>\n",
       "      <td>2</td>\n",
       "      <td>156600</td>\n",
       "    </tr>\n",
       "    <tr>\n",
       "      <th>2</th>\n",
       "      <td>h_1</td>\n",
       "      <td>3</td>\n",
       "      <td>391500</td>\n",
       "    </tr>\n",
       "    <tr>\n",
       "      <th>3</th>\n",
       "      <td>h_1</td>\n",
       "      <td>4</td>\n",
       "      <td>417600</td>\n",
       "    </tr>\n",
       "    <tr>\n",
       "      <th>4</th>\n",
       "      <td>h_10</td>\n",
       "      <td>1</td>\n",
       "      <td>11200</td>\n",
       "    </tr>\n",
       "  </tbody>\n",
       "</table>\n",
       "</div>"
      ],
      "text/plain": [
       "  hotel_id  people_num  price_num\n",
       "0      h_1           1     156600\n",
       "1      h_1           2     156600\n",
       "2      h_1           3     391500\n",
       "3      h_1           4     417600\n",
       "4     h_10           1      11200"
      ]
     },
     "execution_count": 3,
     "metadata": {},
     "output_type": "execute_result"
    }
   ],
   "source": [
    "query =\"\"\"\n",
    "\n",
    "SELECT\n",
    "  hotel_id,\n",
    "  people_num,\n",
    "  SUM(total_price) AS price_num\n",
    "FROM\n",
    "  reserve_tb\n",
    "GROUP BY\n",
    "  hotel_id, people_num\n",
    "ORDER BY\n",
    "  hotel_id, people_num\n",
    "LIMIT\n",
    "  5\n",
    ";\n",
    "\n",
    "\"\"\"\n",
    "\n",
    "pd.read_sql(query, con=conn)"
   ]
  }
 ],
 "metadata": {
  "kernelspec": {
   "display_name": "Python 3",
   "language": "python",
   "name": "python3"
  },
  "language_info": {
   "codemirror_mode": {
    "name": "ipython",
    "version": 3
   },
   "file_extension": ".py",
   "mimetype": "text/x-python",
   "name": "python",
   "nbconvert_exporter": "python",
   "pygments_lexer": "ipython3",
   "version": "3.8.8"
  }
 },
 "nbformat": 4,
 "nbformat_minor": 5
}
