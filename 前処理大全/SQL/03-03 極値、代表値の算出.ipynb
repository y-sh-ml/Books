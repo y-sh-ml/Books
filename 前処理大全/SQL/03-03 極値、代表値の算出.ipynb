{
 "cells": [
  {
   "cell_type": "markdown",
   "id": "b64ccefc",
   "metadata": {},
   "source": [
    "## 3-3　極値、代表値の算出"
   ]
  },
  {
   "cell_type": "code",
   "execution_count": 1,
   "id": "035d2f36",
   "metadata": {},
   "outputs": [],
   "source": [
    "import pandas as pd\n",
    "import psycopg2\n",
    "import config"
   ]
  },
  {
   "cell_type": "code",
   "execution_count": 2,
   "id": "cfed74e1",
   "metadata": {},
   "outputs": [],
   "source": [
    "conn = psycopg2.connect(**config.connection_config)"
   ]
  },
  {
   "cell_type": "markdown",
   "id": "b12fb088",
   "metadata": {},
   "source": [
    "PostgreSQL では、`MEDIAN` 関数は実装されていない。"
   ]
  },
  {
   "cell_type": "code",
   "execution_count": 3,
   "id": "b029dba2",
   "metadata": {},
   "outputs": [
    {
     "data": {
      "text/html": [
       "<div>\n",
       "<style scoped>\n",
       "    .dataframe tbody tr th:only-of-type {\n",
       "        vertical-align: middle;\n",
       "    }\n",
       "\n",
       "    .dataframe tbody tr th {\n",
       "        vertical-align: top;\n",
       "    }\n",
       "\n",
       "    .dataframe thead th {\n",
       "        text-align: right;\n",
       "    }\n",
       "</style>\n",
       "<table border=\"1\" class=\"dataframe\">\n",
       "  <thead>\n",
       "    <tr style=\"text-align: right;\">\n",
       "      <th></th>\n",
       "      <th>hotel_id</th>\n",
       "      <th>price_max</th>\n",
       "      <th>price_min</th>\n",
       "      <th>price_avg</th>\n",
       "      <th>price_median</th>\n",
       "      <th>price_20per</th>\n",
       "    </tr>\n",
       "  </thead>\n",
       "  <tbody>\n",
       "    <tr>\n",
       "      <th>0</th>\n",
       "      <td>h_1</td>\n",
       "      <td>208800</td>\n",
       "      <td>26100</td>\n",
       "      <td>112230.000000</td>\n",
       "      <td>104400.0</td>\n",
       "      <td>73080.0</td>\n",
       "    </tr>\n",
       "    <tr>\n",
       "      <th>1</th>\n",
       "      <td>h_10</td>\n",
       "      <td>67200</td>\n",
       "      <td>11200</td>\n",
       "      <td>42933.333333</td>\n",
       "      <td>50400.0</td>\n",
       "      <td>26880.0</td>\n",
       "    </tr>\n",
       "    <tr>\n",
       "      <th>2</th>\n",
       "      <td>h_100</td>\n",
       "      <td>57600</td>\n",
       "      <td>4800</td>\n",
       "      <td>27600.000000</td>\n",
       "      <td>28800.0</td>\n",
       "      <td>9600.0</td>\n",
       "    </tr>\n",
       "    <tr>\n",
       "      <th>3</th>\n",
       "      <td>h_101</td>\n",
       "      <td>168000</td>\n",
       "      <td>14000</td>\n",
       "      <td>75764.705882</td>\n",
       "      <td>56000.0</td>\n",
       "      <td>30800.0</td>\n",
       "    </tr>\n",
       "    <tr>\n",
       "      <th>4</th>\n",
       "      <td>h_102</td>\n",
       "      <td>72000</td>\n",
       "      <td>12000</td>\n",
       "      <td>32769.230769</td>\n",
       "      <td>24000.0</td>\n",
       "      <td>18000.0</td>\n",
       "    </tr>\n",
       "  </tbody>\n",
       "</table>\n",
       "</div>"
      ],
      "text/plain": [
       "  hotel_id  price_max  price_min      price_avg  price_median  price_20per\n",
       "0      h_1     208800      26100  112230.000000      104400.0      73080.0\n",
       "1     h_10      67200      11200   42933.333333       50400.0      26880.0\n",
       "2    h_100      57600       4800   27600.000000       28800.0       9600.0\n",
       "3    h_101     168000      14000   75764.705882       56000.0      30800.0\n",
       "4    h_102      72000      12000   32769.230769       24000.0      18000.0"
      ]
     },
     "execution_count": 3,
     "metadata": {},
     "output_type": "execute_result"
    }
   ],
   "source": [
    "query =\"\"\"\n",
    "\n",
    "SELECT\n",
    "  hotel_id,\n",
    "  MAX(total_price) AS price_max,\n",
    "  MIN(total_price) AS price_min,\n",
    "  AVG(total_price) AS price_avg,\n",
    "  PERCENTILE_CONT(0.5) WITHIN GROUP(ORDER BY total_price) AS price_median,\n",
    "  PERCENTILE_CONT(0.2) WITHIN GROUP(ORDER BY total_price) AS price_20per\n",
    "FROM\n",
    "  reserve_tb\n",
    "GROUP BY\n",
    "  hotel_id\n",
    "LIMIT\n",
    "  5\n",
    ";\n",
    "\n",
    "\"\"\"\n",
    "\n",
    "pd.read_sql(query, con=conn)"
   ]
  }
 ],
 "metadata": {
  "kernelspec": {
   "display_name": "Python 3",
   "language": "python",
   "name": "python3"
  },
  "language_info": {
   "codemirror_mode": {
    "name": "ipython",
    "version": 3
   },
   "file_extension": ".py",
   "mimetype": "text/x-python",
   "name": "python",
   "nbconvert_exporter": "python",
   "pygments_lexer": "ipython3",
   "version": "3.8.8"
  }
 },
 "nbformat": 4,
 "nbformat_minor": 5
}
