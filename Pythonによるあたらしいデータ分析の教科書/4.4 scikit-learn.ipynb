{
 "cells": [
  {
   "cell_type": "code",
   "execution_count": 2,
   "metadata": {},
   "outputs": [
    {
     "data": {
      "text/html": [
       "<div>\n",
       "<style scoped>\n",
       "    .dataframe tbody tr th:only-of-type {\n",
       "        vertical-align: middle;\n",
       "    }\n",
       "\n",
       "    .dataframe tbody tr th {\n",
       "        vertical-align: top;\n",
       "    }\n",
       "\n",
       "    .dataframe thead th {\n",
       "        text-align: right;\n",
       "    }\n",
       "</style>\n",
       "<table border=\"1\" class=\"dataframe\">\n",
       "  <thead>\n",
       "    <tr style=\"text-align: right;\">\n",
       "      <th></th>\n",
       "      <th>A</th>\n",
       "      <th>B</th>\n",
       "      <th>C</th>\n",
       "    </tr>\n",
       "  </thead>\n",
       "  <tbody>\n",
       "    <tr>\n",
       "      <th>0</th>\n",
       "      <td>1.0</td>\n",
       "      <td>6.0</td>\n",
       "      <td>11</td>\n",
       "    </tr>\n",
       "    <tr>\n",
       "      <th>1</th>\n",
       "      <td>NaN</td>\n",
       "      <td>7.0</td>\n",
       "      <td>12</td>\n",
       "    </tr>\n",
       "    <tr>\n",
       "      <th>2</th>\n",
       "      <td>3.0</td>\n",
       "      <td>8.0</td>\n",
       "      <td>13</td>\n",
       "    </tr>\n",
       "    <tr>\n",
       "      <th>3</th>\n",
       "      <td>4.0</td>\n",
       "      <td>NaN</td>\n",
       "      <td>14</td>\n",
       "    </tr>\n",
       "    <tr>\n",
       "      <th>4</th>\n",
       "      <td>5.0</td>\n",
       "      <td>10.0</td>\n",
       "      <td>15</td>\n",
       "    </tr>\n",
       "  </tbody>\n",
       "</table>\n",
       "</div>"
      ],
      "text/plain": [
       "     A     B   C\n",
       "0  1.0   6.0  11\n",
       "1  NaN   7.0  12\n",
       "2  3.0   8.0  13\n",
       "3  4.0   NaN  14\n",
       "4  5.0  10.0  15"
      ]
     },
     "execution_count": 2,
     "metadata": {},
     "output_type": "execute_result"
    }
   ],
   "source": [
    "import numpy as np\n",
    "import pandas as pd\n",
    "\n",
    "df = pd.DataFrame(\n",
    "\n",
    "    {\n",
    "        'A': [1, np.nan, 3, 4, 5],\n",
    "        'B': [6, 7, 8, np.nan, 10],\n",
    "        'C': [11, 12, 13, 14, 15]\n",
    "    \n",
    "}\n",
    "\n",
    ")\n",
    "\n",
    "df"
   ]
  },
  {
   "cell_type": "code",
   "execution_count": 3,
   "metadata": {},
   "outputs": [
    {
     "data": {
      "text/html": [
       "<div>\n",
       "<style scoped>\n",
       "    .dataframe tbody tr th:only-of-type {\n",
       "        vertical-align: middle;\n",
       "    }\n",
       "\n",
       "    .dataframe tbody tr th {\n",
       "        vertical-align: top;\n",
       "    }\n",
       "\n",
       "    .dataframe thead th {\n",
       "        text-align: right;\n",
       "    }\n",
       "</style>\n",
       "<table border=\"1\" class=\"dataframe\">\n",
       "  <thead>\n",
       "    <tr style=\"text-align: right;\">\n",
       "      <th></th>\n",
       "      <th>A</th>\n",
       "      <th>B</th>\n",
       "      <th>C</th>\n",
       "    </tr>\n",
       "  </thead>\n",
       "  <tbody>\n",
       "    <tr>\n",
       "      <th>0</th>\n",
       "      <td>False</td>\n",
       "      <td>False</td>\n",
       "      <td>False</td>\n",
       "    </tr>\n",
       "    <tr>\n",
       "      <th>1</th>\n",
       "      <td>True</td>\n",
       "      <td>False</td>\n",
       "      <td>False</td>\n",
       "    </tr>\n",
       "    <tr>\n",
       "      <th>2</th>\n",
       "      <td>False</td>\n",
       "      <td>False</td>\n",
       "      <td>False</td>\n",
       "    </tr>\n",
       "    <tr>\n",
       "      <th>3</th>\n",
       "      <td>False</td>\n",
       "      <td>True</td>\n",
       "      <td>False</td>\n",
       "    </tr>\n",
       "    <tr>\n",
       "      <th>4</th>\n",
       "      <td>False</td>\n",
       "      <td>False</td>\n",
       "      <td>False</td>\n",
       "    </tr>\n",
       "  </tbody>\n",
       "</table>\n",
       "</div>"
      ],
      "text/plain": [
       "       A      B      C\n",
       "0  False  False  False\n",
       "1   True  False  False\n",
       "2  False  False  False\n",
       "3  False   True  False\n",
       "4  False  False  False"
      ]
     },
     "execution_count": 3,
     "metadata": {},
     "output_type": "execute_result"
    }
   ],
   "source": [
    "df.isnull()"
   ]
  },
  {
   "cell_type": "code",
   "execution_count": 4,
   "metadata": {},
   "outputs": [
    {
     "data": {
      "text/html": [
       "<div>\n",
       "<style scoped>\n",
       "    .dataframe tbody tr th:only-of-type {\n",
       "        vertical-align: middle;\n",
       "    }\n",
       "\n",
       "    .dataframe tbody tr th {\n",
       "        vertical-align: top;\n",
       "    }\n",
       "\n",
       "    .dataframe thead th {\n",
       "        text-align: right;\n",
       "    }\n",
       "</style>\n",
       "<table border=\"1\" class=\"dataframe\">\n",
       "  <thead>\n",
       "    <tr style=\"text-align: right;\">\n",
       "      <th></th>\n",
       "      <th>A</th>\n",
       "      <th>B</th>\n",
       "      <th>C</th>\n",
       "    </tr>\n",
       "  </thead>\n",
       "  <tbody>\n",
       "    <tr>\n",
       "      <th>0</th>\n",
       "      <td>1.00</td>\n",
       "      <td>6.00</td>\n",
       "      <td>11</td>\n",
       "    </tr>\n",
       "    <tr>\n",
       "      <th>1</th>\n",
       "      <td>3.25</td>\n",
       "      <td>7.00</td>\n",
       "      <td>12</td>\n",
       "    </tr>\n",
       "    <tr>\n",
       "      <th>2</th>\n",
       "      <td>3.00</td>\n",
       "      <td>8.00</td>\n",
       "      <td>13</td>\n",
       "    </tr>\n",
       "    <tr>\n",
       "      <th>3</th>\n",
       "      <td>4.00</td>\n",
       "      <td>7.75</td>\n",
       "      <td>14</td>\n",
       "    </tr>\n",
       "    <tr>\n",
       "      <th>4</th>\n",
       "      <td>5.00</td>\n",
       "      <td>10.00</td>\n",
       "      <td>15</td>\n",
       "    </tr>\n",
       "  </tbody>\n",
       "</table>\n",
       "</div>"
      ],
      "text/plain": [
       "      A      B   C\n",
       "0  1.00   6.00  11\n",
       "1  3.25   7.00  12\n",
       "2  3.00   8.00  13\n",
       "3  4.00   7.75  14\n",
       "4  5.00  10.00  15"
      ]
     },
     "execution_count": 4,
     "metadata": {},
     "output_type": "execute_result"
    }
   ],
   "source": [
    "# imputer廃止、fillnaを使用する\n",
    "\n",
    "import pandas as pd\n",
    "\n",
    "df.fillna(df.mean())"
   ]
  },
  {
   "cell_type": "code",
   "execution_count": 5,
   "metadata": {},
   "outputs": [
    {
     "data": {
      "text/html": [
       "<div>\n",
       "<style scoped>\n",
       "    .dataframe tbody tr th:only-of-type {\n",
       "        vertical-align: middle;\n",
       "    }\n",
       "\n",
       "    .dataframe tbody tr th {\n",
       "        vertical-align: top;\n",
       "    }\n",
       "\n",
       "    .dataframe thead th {\n",
       "        text-align: right;\n",
       "    }\n",
       "</style>\n",
       "<table border=\"1\" class=\"dataframe\">\n",
       "  <thead>\n",
       "    <tr style=\"text-align: right;\">\n",
       "      <th></th>\n",
       "      <th>A</th>\n",
       "      <th>B</th>\n",
       "    </tr>\n",
       "  </thead>\n",
       "  <tbody>\n",
       "    <tr>\n",
       "      <th>0</th>\n",
       "      <td>1</td>\n",
       "      <td>a</td>\n",
       "    </tr>\n",
       "    <tr>\n",
       "      <th>1</th>\n",
       "      <td>2</td>\n",
       "      <td>b</td>\n",
       "    </tr>\n",
       "    <tr>\n",
       "      <th>2</th>\n",
       "      <td>3</td>\n",
       "      <td>a</td>\n",
       "    </tr>\n",
       "    <tr>\n",
       "      <th>3</th>\n",
       "      <td>4</td>\n",
       "      <td>b</td>\n",
       "    </tr>\n",
       "    <tr>\n",
       "      <th>4</th>\n",
       "      <td>5</td>\n",
       "      <td>c</td>\n",
       "    </tr>\n",
       "  </tbody>\n",
       "</table>\n",
       "</div>"
      ],
      "text/plain": [
       "   A  B\n",
       "0  1  a\n",
       "1  2  b\n",
       "2  3  a\n",
       "3  4  b\n",
       "4  5  c"
      ]
     },
     "execution_count": 5,
     "metadata": {},
     "output_type": "execute_result"
    }
   ],
   "source": [
    "# 1つめのカンマ忘れがち\n",
    "\n",
    "df = pd.DataFrame(\n",
    "    \n",
    "    {\n",
    "    'A': [1, 2, 3, 4, 5],\n",
    "    'B': ['a', 'b', 'a', 'b', 'c']\n",
    "    })\n",
    "\n",
    "df"
   ]
  },
  {
   "cell_type": "code",
   "execution_count": 6,
   "metadata": {},
   "outputs": [
    {
     "data": {
      "text/plain": [
       "array([0, 1, 0, 1, 2])"
      ]
     },
     "execution_count": 6,
     "metadata": {},
     "output_type": "execute_result"
    }
   ],
   "source": [
    "from sklearn.preprocessing import LabelEncoder\n",
    "\n",
    "le = LabelEncoder()\n",
    "le.fit(df['B'])\n",
    "le.transform(df['B'])"
   ]
  },
  {
   "cell_type": "code",
   "execution_count": 7,
   "metadata": {},
   "outputs": [
    {
     "data": {
      "text/plain": [
       "array(['a', 'b', 'c'], dtype=object)"
      ]
     },
     "execution_count": 7,
     "metadata": {},
     "output_type": "execute_result"
    }
   ],
   "source": [
    "le.classes_"
   ]
  },
  {
   "cell_type": "code",
   "execution_count": 8,
   "metadata": {},
   "outputs": [
    {
     "data": {
      "text/html": [
       "<div>\n",
       "<style scoped>\n",
       "    .dataframe tbody tr th:only-of-type {\n",
       "        vertical-align: middle;\n",
       "    }\n",
       "\n",
       "    .dataframe tbody tr th {\n",
       "        vertical-align: top;\n",
       "    }\n",
       "\n",
       "    .dataframe thead th {\n",
       "        text-align: right;\n",
       "    }\n",
       "</style>\n",
       "<table border=\"1\" class=\"dataframe\">\n",
       "  <thead>\n",
       "    <tr style=\"text-align: right;\">\n",
       "      <th></th>\n",
       "      <th>A</th>\n",
       "      <th>B</th>\n",
       "    </tr>\n",
       "  </thead>\n",
       "  <tbody>\n",
       "    <tr>\n",
       "      <th>0</th>\n",
       "      <td>1</td>\n",
       "      <td>a</td>\n",
       "    </tr>\n",
       "    <tr>\n",
       "      <th>1</th>\n",
       "      <td>2</td>\n",
       "      <td>b</td>\n",
       "    </tr>\n",
       "    <tr>\n",
       "      <th>2</th>\n",
       "      <td>3</td>\n",
       "      <td>a</td>\n",
       "    </tr>\n",
       "    <tr>\n",
       "      <th>3</th>\n",
       "      <td>4</td>\n",
       "      <td>b</td>\n",
       "    </tr>\n",
       "    <tr>\n",
       "      <th>4</th>\n",
       "      <td>5</td>\n",
       "      <td>c</td>\n",
       "    </tr>\n",
       "  </tbody>\n",
       "</table>\n",
       "</div>"
      ],
      "text/plain": [
       "   A  B\n",
       "0  1  a\n",
       "1  2  b\n",
       "2  3  a\n",
       "3  4  b\n",
       "4  5  c"
      ]
     },
     "execution_count": 8,
     "metadata": {},
     "output_type": "execute_result"
    }
   ],
   "source": [
    "df"
   ]
  },
  {
   "cell_type": "code",
   "execution_count": 9,
   "metadata": {},
   "outputs": [
    {
     "data": {
      "text/html": [
       "<div>\n",
       "<style scoped>\n",
       "    .dataframe tbody tr th:only-of-type {\n",
       "        vertical-align: middle;\n",
       "    }\n",
       "\n",
       "    .dataframe tbody tr th {\n",
       "        vertical-align: top;\n",
       "    }\n",
       "\n",
       "    .dataframe thead th {\n",
       "        text-align: right;\n",
       "    }\n",
       "</style>\n",
       "<table border=\"1\" class=\"dataframe\">\n",
       "  <thead>\n",
       "    <tr style=\"text-align: right;\">\n",
       "      <th></th>\n",
       "      <th>A</th>\n",
       "      <th>B</th>\n",
       "    </tr>\n",
       "  </thead>\n",
       "  <tbody>\n",
       "    <tr>\n",
       "      <th>0</th>\n",
       "      <td>1</td>\n",
       "      <td>0</td>\n",
       "    </tr>\n",
       "    <tr>\n",
       "      <th>1</th>\n",
       "      <td>2</td>\n",
       "      <td>1</td>\n",
       "    </tr>\n",
       "    <tr>\n",
       "      <th>2</th>\n",
       "      <td>3</td>\n",
       "      <td>0</td>\n",
       "    </tr>\n",
       "    <tr>\n",
       "      <th>3</th>\n",
       "      <td>4</td>\n",
       "      <td>1</td>\n",
       "    </tr>\n",
       "    <tr>\n",
       "      <th>4</th>\n",
       "      <td>5</td>\n",
       "      <td>2</td>\n",
       "    </tr>\n",
       "  </tbody>\n",
       "</table>\n",
       "</div>"
      ],
      "text/plain": [
       "   A  B\n",
       "0  1  0\n",
       "1  2  1\n",
       "2  3  0\n",
       "3  4  1\n",
       "4  5  2"
      ]
     },
     "execution_count": 9,
     "metadata": {},
     "output_type": "execute_result"
    }
   ],
   "source": [
    "# これでB列のアルファベットを数字にする\n",
    "\n",
    "df['B'] = le.fit_transform(df['B'])\n",
    "\n",
    "df"
   ]
  },
  {
   "cell_type": "code",
   "execution_count": 10,
   "metadata": {},
   "outputs": [
    {
     "data": {
      "text/html": [
       "<div>\n",
       "<style scoped>\n",
       "    .dataframe tbody tr th:only-of-type {\n",
       "        vertical-align: middle;\n",
       "    }\n",
       "\n",
       "    .dataframe tbody tr th {\n",
       "        vertical-align: top;\n",
       "    }\n",
       "\n",
       "    .dataframe thead th {\n",
       "        text-align: right;\n",
       "    }\n",
       "</style>\n",
       "<table border=\"1\" class=\"dataframe\">\n",
       "  <thead>\n",
       "    <tr style=\"text-align: right;\">\n",
       "      <th></th>\n",
       "      <th>0</th>\n",
       "      <th>1</th>\n",
       "      <th>2</th>\n",
       "    </tr>\n",
       "  </thead>\n",
       "  <tbody>\n",
       "    <tr>\n",
       "      <th>0</th>\n",
       "      <td>1</td>\n",
       "      <td>0</td>\n",
       "      <td>0</td>\n",
       "    </tr>\n",
       "    <tr>\n",
       "      <th>1</th>\n",
       "      <td>0</td>\n",
       "      <td>1</td>\n",
       "      <td>0</td>\n",
       "    </tr>\n",
       "    <tr>\n",
       "      <th>2</th>\n",
       "      <td>1</td>\n",
       "      <td>0</td>\n",
       "      <td>0</td>\n",
       "    </tr>\n",
       "    <tr>\n",
       "      <th>3</th>\n",
       "      <td>0</td>\n",
       "      <td>1</td>\n",
       "      <td>0</td>\n",
       "    </tr>\n",
       "    <tr>\n",
       "      <th>4</th>\n",
       "      <td>0</td>\n",
       "      <td>0</td>\n",
       "      <td>1</td>\n",
       "    </tr>\n",
       "  </tbody>\n",
       "</table>\n",
       "</div>"
      ],
      "text/plain": [
       "   0  1  2\n",
       "0  1  0  0\n",
       "1  0  1  0\n",
       "2  1  0  0\n",
       "3  0  1  0\n",
       "4  0  0  1"
      ]
     },
     "execution_count": 10,
     "metadata": {},
     "output_type": "execute_result"
    }
   ],
   "source": [
    "# dfではなくpd.get_dummies\n",
    "\n",
    "df_ohe = pd.get_dummies(df.loc[:, 'B'])\n",
    "\n",
    "df_ohe"
   ]
  },
  {
   "cell_type": "code",
   "execution_count": 10,
   "metadata": {},
   "outputs": [
    {
     "data": {
      "text/html": [
       "<div>\n",
       "<style scoped>\n",
       "    .dataframe tbody tr th:only-of-type {\n",
       "        vertical-align: middle;\n",
       "    }\n",
       "\n",
       "    .dataframe tbody tr th {\n",
       "        vertical-align: top;\n",
       "    }\n",
       "\n",
       "    .dataframe thead th {\n",
       "        text-align: right;\n",
       "    }\n",
       "</style>\n",
       "<table border=\"1\" class=\"dataframe\">\n",
       "  <thead>\n",
       "    <tr style=\"text-align: right;\">\n",
       "      <th></th>\n",
       "      <th>A</th>\n",
       "      <th>B</th>\n",
       "    </tr>\n",
       "  </thead>\n",
       "  <tbody>\n",
       "    <tr>\n",
       "      <th>0</th>\n",
       "      <td>1</td>\n",
       "      <td>100</td>\n",
       "    </tr>\n",
       "    <tr>\n",
       "      <th>1</th>\n",
       "      <td>2</td>\n",
       "      <td>200</td>\n",
       "    </tr>\n",
       "    <tr>\n",
       "      <th>2</th>\n",
       "      <td>3</td>\n",
       "      <td>400</td>\n",
       "    </tr>\n",
       "    <tr>\n",
       "      <th>3</th>\n",
       "      <td>4</td>\n",
       "      <td>500</td>\n",
       "    </tr>\n",
       "    <tr>\n",
       "      <th>4</th>\n",
       "      <td>5</td>\n",
       "      <td>800</td>\n",
       "    </tr>\n",
       "  </tbody>\n",
       "</table>\n",
       "</div>"
      ],
      "text/plain": [
       "   A    B\n",
       "0  1  100\n",
       "1  2  200\n",
       "2  3  400\n",
       "3  4  500\n",
       "4  5  800"
      ]
     },
     "execution_count": 10,
     "metadata": {},
     "output_type": "execute_result"
    }
   ],
   "source": [
    "df = pd.DataFrame(\n",
    "    {\n",
    "        'A': [1, 2, 3, 4, 5],\n",
    "        'B': [100, 200, 400, 500, 800]\n",
    "    }\n",
    ")\n",
    "\n",
    "df"
   ]
  },
  {
   "cell_type": "code",
   "execution_count": 11,
   "metadata": {},
   "outputs": [
    {
     "data": {
      "text/plain": [
       "array([[-1.41421356, -1.22474487],\n",
       "       [-0.70710678, -0.81649658],\n",
       "       [ 0.        ,  0.        ],\n",
       "       [ 0.70710678,  0.40824829],\n",
       "       [ 1.41421356,  1.63299316]])"
      ]
     },
     "execution_count": 11,
     "metadata": {},
     "output_type": "execute_result"
    }
   ],
   "source": [
    "from sklearn.preprocessing import StandardScaler\n",
    "\n",
    "stdsc = StandardScaler()\n",
    "\n",
    "stdsc.fit(df)\n",
    "\n",
    "stdsc.transform(df)"
   ]
  },
  {
   "cell_type": "code",
   "execution_count": 12,
   "metadata": {},
   "outputs": [
    {
     "data": {
      "text/plain": [
       "A      1.581139\n",
       "B    273.861279\n",
       "dtype: float64"
      ]
     },
     "execution_count": 12,
     "metadata": {},
     "output_type": "execute_result"
    }
   ],
   "source": [
    "# 上は全体の値に対して分散正規化（標準化）をしている\n",
    "# 一方で下記は、列A,Bに対する標準偏差を求めているだけ\n",
    "\n",
    "df.std()"
   ]
  },
  {
   "cell_type": "code",
   "execution_count": 13,
   "metadata": {},
   "outputs": [
    {
     "data": {
      "text/plain": [
       "array([[0.        , 0.        ],\n",
       "       [0.25      , 0.14285714],\n",
       "       [0.5       , 0.42857143],\n",
       "       [0.75      , 0.57142857],\n",
       "       [1.        , 1.        ]])"
      ]
     },
     "execution_count": 13,
     "metadata": {},
     "output_type": "execute_result"
    }
   ],
   "source": [
    "from sklearn.preprocessing import MinMaxScaler\n",
    "\n",
    "mmsc = MinMaxScaler()\n",
    "\n",
    "mmsc.fit(df)\n",
    "mmsc.transform(df)"
   ]
  },
  {
   "cell_type": "code",
   "execution_count": 14,
   "metadata": {},
   "outputs": [
    {
     "name": "stdout",
     "output_type": "stream",
     "text": [
      "X:\n",
      "[[5.1 3.5 1.4 0.2]\n",
      " [4.9 3.  1.4 0.2]\n",
      " [4.7 3.2 1.3 0.2]\n",
      " [4.6 3.1 1.5 0.2]\n",
      " [5.  3.6 1.4 0.2]]\n",
      "y:\n",
      "[0 0 0 0 0]\n"
     ]
    }
   ],
   "source": [
    "# 変数Xが大文字なのは説明変数（特徴量）がいくつかあるのを1つのXとしてまとめているからである\n",
    "\n",
    "from sklearn.datasets import load_iris\n",
    "\n",
    "iris = load_iris()\n",
    "\n",
    "X, y = iris.data, iris.target\n",
    "\n",
    "print('X:')\n",
    "print(X[:5, :])\n",
    "print('y:')\n",
    "print(y[:5])\n",
    "\n",
    "# yには正解ラベルがある（今回は全てsetosa）\n",
    "# Xには、がくや花びらの長さや幅が4つの説明変数で格納されている（4つの説明変数の集合体）\n",
    "# Xの列数 = 説明変数の数\n",
    "# あとはこれらを学習データとテストデータに分割しているだけ\n",
    "\n",
    "# これを y_train = aX_train +b　の関係性を見出し\n",
    "# この式に X_testを代入してy_predを求め、y_test（正解データ、目的変数はデータが1つ）とどのくらい近いのかを確かめる"
   ]
  },
  {
   "cell_type": "code",
   "execution_count": 15,
   "metadata": {},
   "outputs": [
    {
     "name": "stdout",
     "output_type": "stream",
     "text": [
      "(105, 4)\n",
      "(45, 4)\n",
      "(105,)\n",
      "(45,)\n"
     ]
    }
   ],
   "source": [
    "from sklearn.model_selection import train_test_split\n",
    "\n",
    "X_train, X_test, y_train, y_test = train_test_split(X, y, test_size = 0.3, random_state = 123)\n",
    "\n",
    "print(X_train.shape)\n",
    "print(X_test.shape)\n",
    "print(y_train.shape)\n",
    "print(y_test.shape)\n",
    "\n",
    "# これにより、目的変数yに対して、説明変数X（x1, x2, x3, x4）にいくつ特徴量があるのかを確かめられる\n",
    "# 150個のデータが105:45で、トレーニングデータとテストデータに分けられた"
   ]
  },
  {
   "cell_type": "code",
   "execution_count": 16,
   "metadata": {},
   "outputs": [
    {
     "data": {
      "image/png": "[encoded data removed]",
      "text/plain": [
       "<Figure size 432x288 with 1 Axes>"
      ]
     },
     "metadata": {
      "needs_background": "light"
     },
     "output_type": "display_data"
    }
   ],
   "source": [
    "import numpy as np\n",
    "import matplotlib.pyplot as plt\n",
    "np.random.seed(123)\n",
    "\n",
    "x0 = np.random.uniform(size = (100, 2))\n",
    "\n",
    "# repeat は uniformという関数だけをパクっている（中身の引数はパクっていない）\n",
    "y0 = np.repeat(0, 100)\n",
    "\n",
    "x1 = np.random.uniform(-1.0, 0.0, size =(100, 2))\n",
    "\n",
    "y1 = np.repeat(1,100)\n",
    "\n",
    "fig, ax = plt.subplots()\n",
    "\n",
    "ax.scatter(x0[:, 0], x0[:, 1], marker = 'o', label = 'class 0')\n",
    "\n",
    "ax.scatter(x1[:, 0], x1[:, 1], marker = 'x', label = 'class 1')\n",
    "\n",
    "ax.set_xlabel('x')\n",
    "ax.set_ylabel('y')\n",
    "\n",
    "ax.legend()\n",
    "\n",
    "plt.show()"
   ]
  },
  {
   "cell_type": "code",
   "execution_count": 17,
   "metadata": {},
   "outputs": [
    {
     "data": {
      "text/plain": [
       "array([0, 0, 0, 0, 0, 0, 0, 0, 0, 0, 0, 0, 0, 0, 0, 0, 0, 0, 0, 0, 0, 0,\n",
       "       0, 0, 0, 0, 0, 0, 0, 0, 0, 0, 0, 0, 0, 0, 0, 0, 0, 0, 0, 0, 0, 0,\n",
       "       0, 0, 0, 0, 0, 0, 0, 0, 0, 0, 0, 0, 0, 0, 0, 0, 0, 0, 0, 0, 0, 0,\n",
       "       0, 0, 0, 0, 0, 0, 0, 0, 0, 0, 0, 0, 0, 0, 0, 0, 0, 0, 0, 0, 0, 0,\n",
       "       0, 0, 0, 0, 0, 0, 0, 0, 0, 0, 0, 0])"
      ]
     },
     "execution_count": 17,
     "metadata": {},
     "output_type": "execute_result"
    }
   ],
   "source": [
    "y0"
   ]
  },
  {
   "cell_type": "code",
   "execution_count": 18,
   "metadata": {},
   "outputs": [
    {
     "data": {
      "image/png": "[encoded data removed]",
      "text/plain": [
       "<Figure size 432x288 with 1 Axes>"
      ]
     },
     "metadata": {
      "needs_background": "light"
     },
     "output_type": "display_data"
    }
   ],
   "source": [
    "import numpy as np\n",
    "import matplotlib.pyplot as plt\n",
    "np.random.seed(123)\n",
    "\n",
    "X0 = np.random.uniform(size = (100, 2))\n",
    "y0 = np.repeat(0, 100)\n",
    "\n",
    "X1 = np.random.uniform(-1.0, 0.0, size =(100, 2))\n",
    "y1 = np.repeat(1,100)\n",
    "\n",
    "fig, ax = plt.subplots()\n",
    "\n",
    "ax.scatter(X0[:, 0], X0[:, 1], marker = 'o', label = 'class 0')\n",
    "\n",
    "ax.scatter(X1[:, 0], X1[:, 1], marker = 'x', label = 'class 1')\n",
    "\n",
    "ax.set_xlabel('x')\n",
    "ax.set_ylabel('y')\n",
    "\n",
    "ax.legend()\n",
    "\n",
    "plt.show()"
   ]
  },
  {
   "cell_type": "code",
   "execution_count": 19,
   "metadata": {},
   "outputs": [],
   "source": [
    "from sklearn.svm import SVC\n",
    "\n",
    "# 下記のような条件であるとき、svcのプロットを行う「インスタンスの作成」\n",
    "def plot_boundary_margin_sv(X0, y0, X1, y1, kernel, C, xmin= -1, xmax = 1, ymin = -1, ymax = 1):\n",
    "    svc = SVC(kernel=kernel, C=C)\n",
    "    \n",
    "    # 学習させる\n",
    "    # =と.を間違える癖がある、気を付けること\n",
    "    svc.fit(np.vstack((X0, X1)), np.hstack((y0, y1)))\n",
    "    \n",
    "    fig, ax = plt.subplots()\n",
    "    \n",
    "    # プロットの設定を行う\n",
    "    ax.scatter(X0[:, 0], X0[:, 1], marker = 'o', label = 'class 0')\n",
    "    ax.scatter(X1[:, 0], X1[:, 1], marker = 'x', label = 'class 1')\n",
    "    \n",
    "    # 決定協会とマージンをプロット\n",
    "    xx, yy = np.meshgrid(np.linspace(xmin, xmax, 100), np.linspace(ymin, ymax, 100))\n",
    "    xy = np.vstack([xx.ravel(), yy.ravel()]).T\n",
    "    p = svc.decision_function(xy).reshape((100, 100))\n",
    "    ax.contour(xx, yy, p,\n",
    "               colors='k', levels=[-1, 0, 1],\n",
    "               alpha=0.5, linestyles=['--', '-', '--'])\n",
    "    \n",
    "    # サポートベクタをプロット\n",
    "    ax.scatter(svc.support_vectors_[:, 0],\n",
    "               svc.support_vectors_[:, 1],\n",
    "               s=250, facecolors='none',\n",
    "              edgecolors='black')\n",
    "    ax.set_xlabel('x')\n",
    "    ax.set_ylabel('y')\n",
    "    ax.legend(loc='best')\n",
    "    plt.show()"
   ]
  },
  {
   "cell_type": "code",
   "execution_count": 20,
   "metadata": {},
   "outputs": [
    {
     "data": {
      "image/png": "[encoded data removed]",
      "text/plain": [
       "<Figure size 432x288 with 1 Axes>"
      ]
     },
     "metadata": {
      "needs_background": "light"
     },
     "output_type": "display_data"
    }
   ],
   "source": [
    "# 実際にプロットしてみる\n",
    "\n",
    "plot_boundary_margin_sv(X0, y0, X1, y1, kernel='linear', C=1e6)"
   ]
  },
  {
   "cell_type": "code",
   "execution_count": 21,
   "metadata": {},
   "outputs": [
    {
     "data": {
      "image/png": "[encoded data removed]",
      "text/plain": [
       "<Figure size 432x288 with 1 Axes>"
      ]
     },
     "metadata": {
      "needs_background": "light"
     },
     "output_type": "display_data"
    }
   ],
   "source": [
    "# Cの大きさはマージン大きさを調整する\n",
    "\n",
    "plot_boundary_margin_sv(X0, y0, X1, y1, kernel = 'linear', C = 0.1)"
   ]
  },
  {
   "cell_type": "code",
   "execution_count": 22,
   "metadata": {},
   "outputs": [
    {
     "data": {
      "image/png": "[encoded data removed]",
      "text/plain": [
       "<Figure size 432x288 with 1 Axes>"
      ]
     },
     "metadata": {
      "needs_background": "light"
     },
     "output_type": "display_data"
    }
   ],
   "source": [
    "np.random.seed(123)\n",
    "\n",
    "X = np.random.random(size = (100, 2))\n",
    "\n",
    "y = (X[:, 1] > 2*(X[:, 0] - 0.5) ** 2 + 0.5).astype(int)\n",
    "\n",
    "fig, ax = plt.subplots()\n",
    "\n",
    "ax.scatter(X[y == 0, 0], X[y == 0, 1], marker = 'x', label = 'class 0')\n",
    "ax.scatter(X[y == 1, 0], X[y == 1, 1], marker = 'o', label = 'class 1')\n",
    "\n",
    "ax.legend()\n",
    "plt.show()"
   ]
  },
  {
   "cell_type": "code",
   "execution_count": 23,
   "metadata": {},
   "outputs": [
    {
     "data": {
      "text/plain": [
       "array([0.69646919, 0.22685145, 0.71946897, 0.9807642 , 0.4809319 ,\n",
       "       0.43857224, 0.18249173, 0.72244338, 0.36178866, 0.09210494,\n",
       "       0.43086276, 0.42583029, 0.94416002, 0.62395295, 0.31728548,\n",
       "       0.86630916, 0.34276383, 0.87545684, 0.84234244, 0.76368284,\n",
       "       0.19422296, 0.01612921, 0.55678519, 0.15307052, 0.55438325,\n",
       "       0.92513249, 0.35739757, 0.30476807, 0.15112745, 0.2408559 ,\n",
       "       0.10590849, 0.84650623, 0.85445249, 0.3167879 , 0.00268806,\n",
       "       0.90534158, 0.29248941, 0.25754206, 0.80696868, 0.73107304,\n",
       "       0.98352161, 0.42834727, 0.09332671, 0.92758424, 0.74186215,\n",
       "       0.28653662, 0.66526147, 0.69631127, 0.565642  , 0.750717  ,\n",
       "       0.75164399, 0.90987166, 0.08178009, 0.39937871, 0.56221838,\n",
       "       0.00742638, 0.93193215, 0.02931972, 0.03219793, 0.472913  ])"
      ]
     },
     "execution_count": 23,
     "metadata": {},
     "output_type": "execute_result"
    }
   ],
   "source": [
    "X[y == 0, 0]"
   ]
  },
  {
   "cell_type": "code",
   "execution_count": 24,
   "metadata": {},
   "outputs": [
    {
     "data": {
      "text/plain": [
       "array([0.28613933, 0.55131477, 0.42310646, 0.68482974, 0.39211752,\n",
       "       0.0596779 , 0.17545176, 0.32295891, 0.22826323, 0.43370117,\n",
       "       0.4936851 , 0.31226122, 0.50183668, 0.1156184 , 0.41482621,\n",
       "       0.25045537, 0.30412079, 0.51042234, 0.08319499, 0.24366637,\n",
       "       0.57245696, 0.59443188, 0.15895964, 0.69552953, 0.38895057,\n",
       "       0.84167   , 0.04359146, 0.39818568, 0.39887629, 0.34345601,\n",
       "       0.13089495, 0.55325734, 0.38483781, 0.35426468, 0.98834542,\n",
       "       0.20763586, 0.52001015, 0.56435904, 0.39437005, 0.16106901,\n",
       "       0.07936579, 0.20454286, 0.29686078, 0.56900373, 0.04857903,\n",
       "       0.30646975, 0.11139217, 0.44032788, 0.08490416, 0.57406383,\n",
       "       0.07914896, 0.1286312 , 0.13841557, 0.42430686, 0.12224355,\n",
       "       0.55159273, 0.58217546, 0.63590036, 0.74478066, 0.12175436])"
      ]
     },
     "execution_count": 24,
     "metadata": {},
     "output_type": "execute_result"
    }
   ],
   "source": [
    "X[y == 0, 1]"
   ]
  },
  {
   "cell_type": "code",
   "execution_count": 25,
   "metadata": {},
   "outputs": [
    {
     "data": {
      "text/plain": [
       "array([0.34317802, 0.39804426, 0.53155137, 0.63440096, 0.72445532,\n",
       "       0.29371405, 0.42635131, 0.48303426, 0.51948512, 0.12062867,\n",
       "       0.60306013, 0.41702221, 0.66931378, 0.6249035 , 0.09571252,\n",
       "       0.62724897, 0.31876643, 0.70495883, 0.35591487, 0.59317692,\n",
       "       0.51312815, 0.32198061, 0.17108183, 0.33867085, 0.57855147,\n",
       "       0.90191137, 0.60069857, 0.45063649, 0.457412  , 0.7086974 ,\n",
       "       0.16593788, 0.66487245, 0.43821438, 0.58267109, 0.33706638,\n",
       "       0.85938908, 0.2013995 , 0.46798757, 0.20609573, 0.37898585])"
      ]
     },
     "execution_count": 25,
     "metadata": {},
     "output_type": "execute_result"
    }
   ],
   "source": [
    "X[y == 1, 0]"
   ]
  },
  {
   "cell_type": "code",
   "execution_count": 26,
   "metadata": {},
   "outputs": [
    {
     "data": {
      "image/png": "[encoded data removed]",
      "text/plain": [
       "<Figure size 432x288 with 1 Axes>"
      ]
     },
     "metadata": {
      "needs_background": "light"
     },
     "output_type": "display_data"
    }
   ],
   "source": [
    "X0, X1 = X[y == 0, :], X[y == 1, :]\n",
    "y0, y1 = y[y == 0], y[y == 1]\n",
    "plot_boundary_margin_sv(X0, y0, X1, y1, kernel = 'rbf', C = 1e3, xmin = 0, ymin = 0)"
   ]
  },
  {
   "cell_type": "code",
   "execution_count": 27,
   "metadata": {},
   "outputs": [
    {
     "data": {
      "text/plain": [
       "DecisionTreeClassifier(ccp_alpha=0.0, class_weight=None, criterion='gini',\n",
       "                       max_depth=3, max_features=None, max_leaf_nodes=None,\n",
       "                       min_impurity_decrease=0.0, min_impurity_split=None,\n",
       "                       min_samples_leaf=1, min_samples_split=2,\n",
       "                       min_weight_fraction_leaf=0.0, presort='deprecated',\n",
       "                       random_state=None, splitter='best')"
      ]
     },
     "execution_count": 27,
     "metadata": {},
     "output_type": "execute_result"
    }
   ],
   "source": [
    "# 決定木の作成\n",
    "\n",
    "from sklearn.datasets import load_iris\n",
    "from sklearn.model_selection import train_test_split\n",
    "from sklearn.tree import DecisionTreeClassifier\n",
    "\n",
    "iris = load_iris()\n",
    "X, y = iris.data, iris.target\n",
    "\n",
    "X_train, X_test, y_train, y_test = train_test_split(X, y, test_size = 0.3, random_state = 123)\n",
    "\n",
    "tree = DecisionTreeClassifier(max_depth = 3)\n",
    "\n",
    "tree.fit(X_train, y_train)"
   ]
  },
  {
   "cell_type": "code",
   "execution_count": 34,
   "metadata": {},
   "outputs": [
    {
     "data": {
      "text/plain": [
       "True"
      ]
     },
     "execution_count": 34,
     "metadata": {},
     "output_type": "execute_result"
    }
   ],
   "source": [
    "from pydotplus import graph_from_dot_data\n",
    "from sklearn.tree import export_graphviz\n",
    "\n",
    "dot_data = export_graphviz(tree, filled = True,\n",
    "                           rounded = True,\n",
    "                           class_names = ['Setosa', 'Versicolor', 'Virginica'],\n",
    "                           feature_names = ['Sepal Length', 'Sepal Width', 'Petal Length', 'Petal Width'],\n",
    "                           out_file = None)\n",
    "\n",
    "\n",
    "# 決定木を出力する\n",
    "graph = graph_from_dot_data(dot_data)\n",
    "graph.write_png('tree.png')"
   ]
  },
  {
   "cell_type": "code",
   "execution_count": 35,
   "metadata": {},
   "outputs": [
    {
     "data": {
      "text/plain": [
       "array([1, 2, 2, 1, 0, 1, 1, 0, 0, 1, 2, 0, 1, 2, 2, 2, 0, 0, 1, 0, 0, 1,\n",
       "       0, 2, 0, 0, 0, 2, 2, 0, 2, 1, 0, 0, 1, 1, 2, 0, 0, 1, 1, 0, 2, 2,\n",
       "       2])"
      ]
     },
     "execution_count": 35,
     "metadata": {},
     "output_type": "execute_result"
    }
   ],
   "source": [
    "y_pred = tree.predict(X_test)\n",
    "y_pred"
   ]
  },
  {
   "cell_type": "code",
   "execution_count": 39,
   "metadata": {},
   "outputs": [
    {
     "data": {
      "text/plain": [
       "array([1, 2, 2, 1, 0, 1, 1, 0, 0, 1, 2, 0, 1, 2, 2, 2, 0, 0, 1, 0, 0, 1,\n",
       "       0, 2, 0, 0, 0, 2, 2, 0, 2, 1, 0, 0, 1, 1, 2, 0, 0, 1, 1, 0, 2, 2,\n",
       "       2])"
      ]
     },
     "execution_count": 39,
     "metadata": {},
     "output_type": "execute_result"
    }
   ],
   "source": [
    "# ランダムフォレストのモジュールをインポート\n",
    "from sklearn.ensemble import RandomForestClassifier\n",
    "\n",
    "#　ランダムフォレストのインスタンス（実行機）を作成\n",
    "forest = RandomForestClassifier(n_estimators = 100, random_state = 123)\n",
    "\n",
    "# 学習させ、モデルを作成\n",
    "forest.fit(X_train, y_train)\n",
    "\n",
    "# 作成したモデルに、X_testを入れる\n",
    "y_pred = forest.predict(X_test)\n",
    "\n",
    "# 予測値を出力\n",
    "y_pred"
   ]
  },
  {
   "cell_type": "code",
   "execution_count": 47,
   "metadata": {},
   "outputs": [],
   "source": [
    "# モジュールの準備\n",
    "from sklearn.linear_model import LinearRegression\n",
    "from sklearn.datasets import load_boston\n",
    "from sklearn.model_selection import train_test_split"
   ]
  },
  {
   "cell_type": "code",
   "execution_count": 54,
   "metadata": {},
   "outputs": [],
   "source": [
    "# データの準備\n",
    "boston = load_boston()\n",
    "\n",
    "# Xの小文字ミス\n",
    "X, y = boston.data, boston.target\n",
    "X_train, X_test, y_train, y_test = train_test_split(X, y, test_size = 0.3, random_state = 123)"
   ]
  },
  {
   "cell_type": "code",
   "execution_count": 57,
   "metadata": {},
   "outputs": [
    {
     "data": {
      "text/plain": [
       "LinearRegression(copy_X=True, fit_intercept=True, n_jobs=None, normalize=False)"
      ]
     },
     "execution_count": 57,
     "metadata": {},
     "output_type": "execute_result"
    }
   ],
   "source": [
    "# インスタンスの作成\n",
    "# ( )の付け忘れ\n",
    "lr = LinearRegression()\n",
    "\n",
    "# 学習させる\n",
    "lr.fit(X_train, y_train)"
   ]
  },
  {
   "cell_type": "code",
   "execution_count": 58,
   "metadata": {},
   "outputs": [],
   "source": [
    "y_pred = lr.predict(X_test)"
   ]
  },
  {
   "cell_type": "code",
   "execution_count": 59,
   "metadata": {},
   "outputs": [
    {
     "data": {
      "text/plain": [
       "array([15.4757088 , 27.85786595, 39.71821366, 17.94591734, 30.19441873,\n",
       "       37.51057831, 25.20492485, 11.29301795, 13.93325033, 32.10798674,\n",
       "       28.51346127, 19.10242965, 14.16909335, 30.59883198, 16.91765089,\n",
       "       21.57521646, 20.56956106, 38.0388848 , 18.28489886, 15.44455502,\n",
       "       13.942728  , 22.89202676, 33.08289616, 38.85747118, 29.91747968,\n",
       "       22.34030137, 17.88075723, 20.6598468 , 23.37690089, 20.51319684,\n",
       "       25.78620928, 33.83339852, 15.33132641, 21.79161378, 24.14376798,\n",
       "       35.2106862 , 29.20302521, 18.566505  , 13.9622867 , 38.63492008,\n",
       "       31.18122326, 19.10959362, 19.1273964 , 39.74779582,  8.86534866,\n",
       "       27.28051165, 19.04476095, 25.44873252, 15.50076478, 26.17581245,\n",
       "       33.69571146, 24.40124874, 19.39414746, 12.55330545, 24.50462883,\n",
       "       18.21889479, 10.63052092,  2.28680811, 31.72266364, 13.46355579,\n",
       "       20.09462113, 22.38725561, 19.98251601, 17.86587813, 24.34154548,\n",
       "       26.93269765, 25.82034717, 22.2255162 , 24.67832008, 30.3663481 ,\n",
       "       20.3191293 , 28.49908288, 15.23867856, 24.73337515, 20.10878704,\n",
       "       18.07200705, 18.41320553, 16.91768359, 28.79668288, -0.72764932,\n",
       "       32.77235423, 12.77182194, 25.01611175, 20.22882563, 14.1490244 ,\n",
       "       22.51784692, 18.35783384, 24.55026023, 19.53341548, 32.04610432,\n",
       "       16.09965501, 34.70398223, 23.28578903, 25.53343033, 30.95210281,\n",
       "       28.95220518, 19.02010607, 31.35828173, 26.99246425, 36.53001853,\n",
       "       16.6427046 , 16.771446  , 42.70557651, 17.78401758, 21.81493146,\n",
       "       28.54938925, 14.6574944 , 17.8560892 , 14.87432738, 20.8621114 ,\n",
       "       24.87422157, 20.55017983, 14.27906223, 20.78463901, 20.00188302,\n",
       "       27.61959443, 29.92816998, 13.25454015, 22.09977257, 19.44854557,\n",
       "       17.38140304, 37.07793354, 20.22729663, 10.39330738, 12.09698538,\n",
       "       22.76369432, 24.18804203, 20.73747423, 13.05998852, 23.0364222 ,\n",
       "       23.32008533, 16.89707977,  8.76419188,  5.64213312, 14.960935  ,\n",
       "       18.24093462, 17.8822589 , 18.00948788, 17.42921915, 19.31137073,\n",
       "       24.87453105, 21.59756669, 15.34556404, 22.22071512, 32.12077573,\n",
       "       15.89157658, 23.35882503, 17.69939011, 27.061577  , 18.85920733,\n",
       "       16.92716636, 22.47051248])"
      ]
     },
     "execution_count": 59,
     "metadata": {},
     "output_type": "execute_result"
    }
   ],
   "source": [
    "y_pred"
   ]
  },
  {
   "cell_type": "code",
   "execution_count": 69,
   "metadata": {},
   "outputs": [
    {
     "data": {
      "image/png": "[encoded data removed]",
      "text/plain": [
       "<Figure size 432x288 with 1 Axes>"
      ]
     },
     "metadata": {
      "needs_background": "light"
     },
     "output_type": "display_data"
    }
   ],
   "source": [
    "import matplotlib.pyplot as plt\n",
    "\n",
    "fig, ax = plt.subplots()\n",
    "\n",
    "ax.scatter(y_pred, y_test)\n",
    "\n",
    "ax.plot((0, 50), (0, 50), linestyle = 'dashed', color = 'red')\n",
    "\n",
    "ax.set_xlabel('predicted value')\n",
    "ax.set_ylabel('actual value')\n",
    "\n",
    "plt.show()"
   ]
  },
  {
   "cell_type": "code",
   "execution_count": 70,
   "metadata": {},
   "outputs": [
    {
     "data": {
      "image/png": "[encoded data removed]",
      "text/plain": [
       "<Figure size 432x288 with 1 Axes>"
      ]
     },
     "metadata": {
      "needs_background": "light"
     },
     "output_type": "display_data"
    }
   ],
   "source": [
    "import matplotlib.pyplot as plt\n",
    "\n",
    "fig, ax = plt.subplots()\n",
    "\n",
    "# (x1, x2), (y1, y2)のコードを入力　→　(x1, y1),(x2, y2)を結ぶプロットが表示される\n",
    "# xとyは別々に書かなければいけないという意識を持っておくと良い\n",
    "\n",
    "ax.plot((1, 3), (4, 2), linestyle = 'dashed', color = 'red')\n",
    "\n",
    "\n",
    "plt.show()"
   ]
  },
  {
   "cell_type": "code",
   "execution_count": 80,
   "metadata": {},
   "outputs": [],
   "source": [
    "import pandas as pd"
   ]
  },
  {
   "cell_type": "code",
   "execution_count": 71,
   "metadata": {},
   "outputs": [
    {
     "data": {
      "image/png": "[encoded data removed]",
      "text/plain": [
       "<Figure size 432x288 with 1 Axes>"
      ]
     },
     "metadata": {
      "needs_background": "light"
     },
     "output_type": "display_data"
    }
   ],
   "source": [
    "import numpy as np\n",
    "import matplotlib.pyplot as plt\n",
    "\n",
    "np.random.seed(123)\n",
    "\n",
    "X = np.random.random(size = 50)\n",
    "\n",
    "Y = 2*X + 0.5 * np.random.rand(50)\n",
    "\n",
    "fig, ax = plt.subplots()\n",
    "\n",
    "ax.scatter(X, Y)\n",
    "\n",
    "plt.show()"
   ]
  },
  {
   "cell_type": "code",
   "execution_count": 72,
   "metadata": {},
   "outputs": [],
   "source": [
    "from sklearn.decomposition import PCA\n",
    "\n",
    "pca = PCA(n_components = 2)\n",
    "\n",
    "# XとYについて行を全て列に直して、横連結する\n",
    "X_pca = pca.fit_transform(np.hstack((X[:, np.newaxis], Y[:, np.newaxis])))"
   ]
  },
  {
   "cell_type": "code",
   "execution_count": 73,
   "metadata": {},
   "outputs": [
    {
     "data": {
      "text/plain": [
       "array([0.69646919, 0.28613933, 0.22685145, 0.55131477, 0.71946897,\n",
       "       0.42310646, 0.9807642 , 0.68482974, 0.4809319 , 0.39211752,\n",
       "       0.34317802, 0.72904971, 0.43857224, 0.0596779 , 0.39804426,\n",
       "       0.73799541, 0.18249173, 0.17545176, 0.53155137, 0.53182759,\n",
       "       0.63440096, 0.84943179, 0.72445532, 0.61102351, 0.72244338,\n",
       "       0.32295891, 0.36178866, 0.22826323, 0.29371405, 0.63097612,\n",
       "       0.09210494, 0.43370117, 0.43086276, 0.4936851 , 0.42583029,\n",
       "       0.31226122, 0.42635131, 0.89338916, 0.94416002, 0.50183668,\n",
       "       0.62395295, 0.1156184 , 0.31728548, 0.41482621, 0.86630916,\n",
       "       0.25045537, 0.48303426, 0.98555979, 0.51948512, 0.61289453])"
      ]
     },
     "execution_count": 73,
     "metadata": {},
     "output_type": "execute_result"
    }
   ],
   "source": [
    "X"
   ]
  },
  {
   "cell_type": "code",
   "execution_count": 83,
   "metadata": {},
   "outputs": [
    {
     "data": {
      "text/html": [
       "<div>\n",
       "<style scoped>\n",
       "    .dataframe tbody tr th:only-of-type {\n",
       "        vertical-align: middle;\n",
       "    }\n",
       "\n",
       "    .dataframe tbody tr th {\n",
       "        vertical-align: top;\n",
       "    }\n",
       "\n",
       "    .dataframe thead th {\n",
       "        text-align: right;\n",
       "    }\n",
       "</style>\n",
       "<table border=\"1\" class=\"dataframe\">\n",
       "  <thead>\n",
       "    <tr style=\"text-align: right;\">\n",
       "      <th></th>\n",
       "      <th>0</th>\n",
       "    </tr>\n",
       "  </thead>\n",
       "  <tbody>\n",
       "    <tr>\n",
       "      <th>0</th>\n",
       "      <td>0.696469</td>\n",
       "    </tr>\n",
       "    <tr>\n",
       "      <th>1</th>\n",
       "      <td>0.286139</td>\n",
       "    </tr>\n",
       "    <tr>\n",
       "      <th>2</th>\n",
       "      <td>0.226851</td>\n",
       "    </tr>\n",
       "    <tr>\n",
       "      <th>3</th>\n",
       "      <td>0.551315</td>\n",
       "    </tr>\n",
       "    <tr>\n",
       "      <th>4</th>\n",
       "      <td>0.719469</td>\n",
       "    </tr>\n",
       "    <tr>\n",
       "      <th>5</th>\n",
       "      <td>0.423106</td>\n",
       "    </tr>\n",
       "    <tr>\n",
       "      <th>6</th>\n",
       "      <td>0.980764</td>\n",
       "    </tr>\n",
       "    <tr>\n",
       "      <th>7</th>\n",
       "      <td>0.684830</td>\n",
       "    </tr>\n",
       "    <tr>\n",
       "      <th>8</th>\n",
       "      <td>0.480932</td>\n",
       "    </tr>\n",
       "    <tr>\n",
       "      <th>9</th>\n",
       "      <td>0.392118</td>\n",
       "    </tr>\n",
       "    <tr>\n",
       "      <th>10</th>\n",
       "      <td>0.343178</td>\n",
       "    </tr>\n",
       "    <tr>\n",
       "      <th>11</th>\n",
       "      <td>0.729050</td>\n",
       "    </tr>\n",
       "    <tr>\n",
       "      <th>12</th>\n",
       "      <td>0.438572</td>\n",
       "    </tr>\n",
       "    <tr>\n",
       "      <th>13</th>\n",
       "      <td>0.059678</td>\n",
       "    </tr>\n",
       "    <tr>\n",
       "      <th>14</th>\n",
       "      <td>0.398044</td>\n",
       "    </tr>\n",
       "    <tr>\n",
       "      <th>15</th>\n",
       "      <td>0.737995</td>\n",
       "    </tr>\n",
       "    <tr>\n",
       "      <th>16</th>\n",
       "      <td>0.182492</td>\n",
       "    </tr>\n",
       "    <tr>\n",
       "      <th>17</th>\n",
       "      <td>0.175452</td>\n",
       "    </tr>\n",
       "    <tr>\n",
       "      <th>18</th>\n",
       "      <td>0.531551</td>\n",
       "    </tr>\n",
       "    <tr>\n",
       "      <th>19</th>\n",
       "      <td>0.531828</td>\n",
       "    </tr>\n",
       "    <tr>\n",
       "      <th>20</th>\n",
       "      <td>0.634401</td>\n",
       "    </tr>\n",
       "    <tr>\n",
       "      <th>21</th>\n",
       "      <td>0.849432</td>\n",
       "    </tr>\n",
       "    <tr>\n",
       "      <th>22</th>\n",
       "      <td>0.724455</td>\n",
       "    </tr>\n",
       "    <tr>\n",
       "      <th>23</th>\n",
       "      <td>0.611024</td>\n",
       "    </tr>\n",
       "    <tr>\n",
       "      <th>24</th>\n",
       "      <td>0.722443</td>\n",
       "    </tr>\n",
       "    <tr>\n",
       "      <th>25</th>\n",
       "      <td>0.322959</td>\n",
       "    </tr>\n",
       "    <tr>\n",
       "      <th>26</th>\n",
       "      <td>0.361789</td>\n",
       "    </tr>\n",
       "    <tr>\n",
       "      <th>27</th>\n",
       "      <td>0.228263</td>\n",
       "    </tr>\n",
       "    <tr>\n",
       "      <th>28</th>\n",
       "      <td>0.293714</td>\n",
       "    </tr>\n",
       "    <tr>\n",
       "      <th>29</th>\n",
       "      <td>0.630976</td>\n",
       "    </tr>\n",
       "    <tr>\n",
       "      <th>30</th>\n",
       "      <td>0.092105</td>\n",
       "    </tr>\n",
       "    <tr>\n",
       "      <th>31</th>\n",
       "      <td>0.433701</td>\n",
       "    </tr>\n",
       "    <tr>\n",
       "      <th>32</th>\n",
       "      <td>0.430863</td>\n",
       "    </tr>\n",
       "    <tr>\n",
       "      <th>33</th>\n",
       "      <td>0.493685</td>\n",
       "    </tr>\n",
       "    <tr>\n",
       "      <th>34</th>\n",
       "      <td>0.425830</td>\n",
       "    </tr>\n",
       "    <tr>\n",
       "      <th>35</th>\n",
       "      <td>0.312261</td>\n",
       "    </tr>\n",
       "    <tr>\n",
       "      <th>36</th>\n",
       "      <td>0.426351</td>\n",
       "    </tr>\n",
       "    <tr>\n",
       "      <th>37</th>\n",
       "      <td>0.893389</td>\n",
       "    </tr>\n",
       "    <tr>\n",
       "      <th>38</th>\n",
       "      <td>0.944160</td>\n",
       "    </tr>\n",
       "    <tr>\n",
       "      <th>39</th>\n",
       "      <td>0.501837</td>\n",
       "    </tr>\n",
       "    <tr>\n",
       "      <th>40</th>\n",
       "      <td>0.623953</td>\n",
       "    </tr>\n",
       "    <tr>\n",
       "      <th>41</th>\n",
       "      <td>0.115618</td>\n",
       "    </tr>\n",
       "    <tr>\n",
       "      <th>42</th>\n",
       "      <td>0.317285</td>\n",
       "    </tr>\n",
       "    <tr>\n",
       "      <th>43</th>\n",
       "      <td>0.414826</td>\n",
       "    </tr>\n",
       "    <tr>\n",
       "      <th>44</th>\n",
       "      <td>0.866309</td>\n",
       "    </tr>\n",
       "    <tr>\n",
       "      <th>45</th>\n",
       "      <td>0.250455</td>\n",
       "    </tr>\n",
       "    <tr>\n",
       "      <th>46</th>\n",
       "      <td>0.483034</td>\n",
       "    </tr>\n",
       "    <tr>\n",
       "      <th>47</th>\n",
       "      <td>0.985560</td>\n",
       "    </tr>\n",
       "    <tr>\n",
       "      <th>48</th>\n",
       "      <td>0.519485</td>\n",
       "    </tr>\n",
       "    <tr>\n",
       "      <th>49</th>\n",
       "      <td>0.612895</td>\n",
       "    </tr>\n",
       "  </tbody>\n",
       "</table>\n",
       "</div>"
      ],
      "text/plain": [
       "           0\n",
       "0   0.696469\n",
       "1   0.286139\n",
       "2   0.226851\n",
       "3   0.551315\n",
       "4   0.719469\n",
       "5   0.423106\n",
       "6   0.980764\n",
       "7   0.684830\n",
       "8   0.480932\n",
       "9   0.392118\n",
       "10  0.343178\n",
       "11  0.729050\n",
       "12  0.438572\n",
       "13  0.059678\n",
       "14  0.398044\n",
       "15  0.737995\n",
       "16  0.182492\n",
       "17  0.175452\n",
       "18  0.531551\n",
       "19  0.531828\n",
       "20  0.634401\n",
       "21  0.849432\n",
       "22  0.724455\n",
       "23  0.611024\n",
       "24  0.722443\n",
       "25  0.322959\n",
       "26  0.361789\n",
       "27  0.228263\n",
       "28  0.293714\n",
       "29  0.630976\n",
       "30  0.092105\n",
       "31  0.433701\n",
       "32  0.430863\n",
       "33  0.493685\n",
       "34  0.425830\n",
       "35  0.312261\n",
       "36  0.426351\n",
       "37  0.893389\n",
       "38  0.944160\n",
       "39  0.501837\n",
       "40  0.623953\n",
       "41  0.115618\n",
       "42  0.317285\n",
       "43  0.414826\n",
       "44  0.866309\n",
       "45  0.250455\n",
       "46  0.483034\n",
       "47  0.985560\n",
       "48  0.519485\n",
       "49  0.612895"
      ]
     },
     "execution_count": 83,
     "metadata": {},
     "output_type": "execute_result"
    }
   ],
   "source": [
    "dfX = pd.DataFrame(X)\n",
    "dfX"
   ]
  },
  {
   "cell_type": "code",
   "execution_count": 74,
   "metadata": {},
   "outputs": [
    {
     "data": {
      "text/plain": [
       "array([1.4532527 , 0.98544907, 0.75523297, 1.37516354, 1.61031986,\n",
       "       0.99827331, 2.1700395 , 1.71030986, 1.39959222, 1.03944621,\n",
       "       1.02101292, 1.75106769, 1.18959624, 0.45670032, 1.21725973,\n",
       "       1.51758831, 0.74682488, 0.4727367 , 1.16021423, 1.34988365,\n",
       "       1.31665818, 2.141527  , 1.76253514, 1.5837552 , 1.45295137,\n",
       "       0.94313377, 1.00196991, 0.53600628, 0.66396335, 1.60971701,\n",
       "       0.34359309, 1.21338749, 1.13891715, 1.18184548, 1.31422683,\n",
       "       1.04535744, 1.0314014 , 1.80857406, 2.04070407, 1.20276619,\n",
       "       1.60038532, 0.72891603, 0.8125284 , 1.21092633, 2.02920677,\n",
       "       0.84676163, 1.04163225, 2.17055772, 1.15939819, 1.39751706])"
      ]
     },
     "execution_count": 74,
     "metadata": {},
     "output_type": "execute_result"
    }
   ],
   "source": [
    "Y"
   ]
  },
  {
   "cell_type": "code",
   "execution_count": 84,
   "metadata": {},
   "outputs": [
    {
     "data": {
      "text/html": [
       "<div>\n",
       "<style scoped>\n",
       "    .dataframe tbody tr th:only-of-type {\n",
       "        vertical-align: middle;\n",
       "    }\n",
       "\n",
       "    .dataframe tbody tr th {\n",
       "        vertical-align: top;\n",
       "    }\n",
       "\n",
       "    .dataframe thead th {\n",
       "        text-align: right;\n",
       "    }\n",
       "</style>\n",
       "<table border=\"1\" class=\"dataframe\">\n",
       "  <thead>\n",
       "    <tr style=\"text-align: right;\">\n",
       "      <th></th>\n",
       "      <th>0</th>\n",
       "    </tr>\n",
       "  </thead>\n",
       "  <tbody>\n",
       "    <tr>\n",
       "      <th>0</th>\n",
       "      <td>1.453253</td>\n",
       "    </tr>\n",
       "    <tr>\n",
       "      <th>1</th>\n",
       "      <td>0.985449</td>\n",
       "    </tr>\n",
       "    <tr>\n",
       "      <th>2</th>\n",
       "      <td>0.755233</td>\n",
       "    </tr>\n",
       "    <tr>\n",
       "      <th>3</th>\n",
       "      <td>1.375164</td>\n",
       "    </tr>\n",
       "    <tr>\n",
       "      <th>4</th>\n",
       "      <td>1.610320</td>\n",
       "    </tr>\n",
       "    <tr>\n",
       "      <th>5</th>\n",
       "      <td>0.998273</td>\n",
       "    </tr>\n",
       "    <tr>\n",
       "      <th>6</th>\n",
       "      <td>2.170040</td>\n",
       "    </tr>\n",
       "    <tr>\n",
       "      <th>7</th>\n",
       "      <td>1.710310</td>\n",
       "    </tr>\n",
       "    <tr>\n",
       "      <th>8</th>\n",
       "      <td>1.399592</td>\n",
       "    </tr>\n",
       "    <tr>\n",
       "      <th>9</th>\n",
       "      <td>1.039446</td>\n",
       "    </tr>\n",
       "    <tr>\n",
       "      <th>10</th>\n",
       "      <td>1.021013</td>\n",
       "    </tr>\n",
       "    <tr>\n",
       "      <th>11</th>\n",
       "      <td>1.751068</td>\n",
       "    </tr>\n",
       "    <tr>\n",
       "      <th>12</th>\n",
       "      <td>1.189596</td>\n",
       "    </tr>\n",
       "    <tr>\n",
       "      <th>13</th>\n",
       "      <td>0.456700</td>\n",
       "    </tr>\n",
       "    <tr>\n",
       "      <th>14</th>\n",
       "      <td>1.217260</td>\n",
       "    </tr>\n",
       "    <tr>\n",
       "      <th>15</th>\n",
       "      <td>1.517588</td>\n",
       "    </tr>\n",
       "    <tr>\n",
       "      <th>16</th>\n",
       "      <td>0.746825</td>\n",
       "    </tr>\n",
       "    <tr>\n",
       "      <th>17</th>\n",
       "      <td>0.472737</td>\n",
       "    </tr>\n",
       "    <tr>\n",
       "      <th>18</th>\n",
       "      <td>1.160214</td>\n",
       "    </tr>\n",
       "    <tr>\n",
       "      <th>19</th>\n",
       "      <td>1.349884</td>\n",
       "    </tr>\n",
       "    <tr>\n",
       "      <th>20</th>\n",
       "      <td>1.316658</td>\n",
       "    </tr>\n",
       "    <tr>\n",
       "      <th>21</th>\n",
       "      <td>2.141527</td>\n",
       "    </tr>\n",
       "    <tr>\n",
       "      <th>22</th>\n",
       "      <td>1.762535</td>\n",
       "    </tr>\n",
       "    <tr>\n",
       "      <th>23</th>\n",
       "      <td>1.583755</td>\n",
       "    </tr>\n",
       "    <tr>\n",
       "      <th>24</th>\n",
       "      <td>1.452951</td>\n",
       "    </tr>\n",
       "    <tr>\n",
       "      <th>25</th>\n",
       "      <td>0.943134</td>\n",
       "    </tr>\n",
       "    <tr>\n",
       "      <th>26</th>\n",
       "      <td>1.001970</td>\n",
       "    </tr>\n",
       "    <tr>\n",
       "      <th>27</th>\n",
       "      <td>0.536006</td>\n",
       "    </tr>\n",
       "    <tr>\n",
       "      <th>28</th>\n",
       "      <td>0.663963</td>\n",
       "    </tr>\n",
       "    <tr>\n",
       "      <th>29</th>\n",
       "      <td>1.609717</td>\n",
       "    </tr>\n",
       "    <tr>\n",
       "      <th>30</th>\n",
       "      <td>0.343593</td>\n",
       "    </tr>\n",
       "    <tr>\n",
       "      <th>31</th>\n",
       "      <td>1.213387</td>\n",
       "    </tr>\n",
       "    <tr>\n",
       "      <th>32</th>\n",
       "      <td>1.138917</td>\n",
       "    </tr>\n",
       "    <tr>\n",
       "      <th>33</th>\n",
       "      <td>1.181845</td>\n",
       "    </tr>\n",
       "    <tr>\n",
       "      <th>34</th>\n",
       "      <td>1.314227</td>\n",
       "    </tr>\n",
       "    <tr>\n",
       "      <th>35</th>\n",
       "      <td>1.045357</td>\n",
       "    </tr>\n",
       "    <tr>\n",
       "      <th>36</th>\n",
       "      <td>1.031401</td>\n",
       "    </tr>\n",
       "    <tr>\n",
       "      <th>37</th>\n",
       "      <td>1.808574</td>\n",
       "    </tr>\n",
       "    <tr>\n",
       "      <th>38</th>\n",
       "      <td>2.040704</td>\n",
       "    </tr>\n",
       "    <tr>\n",
       "      <th>39</th>\n",
       "      <td>1.202766</td>\n",
       "    </tr>\n",
       "    <tr>\n",
       "      <th>40</th>\n",
       "      <td>1.600385</td>\n",
       "    </tr>\n",
       "    <tr>\n",
       "      <th>41</th>\n",
       "      <td>0.728916</td>\n",
       "    </tr>\n",
       "    <tr>\n",
       "      <th>42</th>\n",
       "      <td>0.812528</td>\n",
       "    </tr>\n",
       "    <tr>\n",
       "      <th>43</th>\n",
       "      <td>1.210926</td>\n",
       "    </tr>\n",
       "    <tr>\n",
       "      <th>44</th>\n",
       "      <td>2.029207</td>\n",
       "    </tr>\n",
       "    <tr>\n",
       "      <th>45</th>\n",
       "      <td>0.846762</td>\n",
       "    </tr>\n",
       "    <tr>\n",
       "      <th>46</th>\n",
       "      <td>1.041632</td>\n",
       "    </tr>\n",
       "    <tr>\n",
       "      <th>47</th>\n",
       "      <td>2.170558</td>\n",
       "    </tr>\n",
       "    <tr>\n",
       "      <th>48</th>\n",
       "      <td>1.159398</td>\n",
       "    </tr>\n",
       "    <tr>\n",
       "      <th>49</th>\n",
       "      <td>1.397517</td>\n",
       "    </tr>\n",
       "  </tbody>\n",
       "</table>\n",
       "</div>"
      ],
      "text/plain": [
       "           0\n",
       "0   1.453253\n",
       "1   0.985449\n",
       "2   0.755233\n",
       "3   1.375164\n",
       "4   1.610320\n",
       "5   0.998273\n",
       "6   2.170040\n",
       "7   1.710310\n",
       "8   1.399592\n",
       "9   1.039446\n",
       "10  1.021013\n",
       "11  1.751068\n",
       "12  1.189596\n",
       "13  0.456700\n",
       "14  1.217260\n",
       "15  1.517588\n",
       "16  0.746825\n",
       "17  0.472737\n",
       "18  1.160214\n",
       "19  1.349884\n",
       "20  1.316658\n",
       "21  2.141527\n",
       "22  1.762535\n",
       "23  1.583755\n",
       "24  1.452951\n",
       "25  0.943134\n",
       "26  1.001970\n",
       "27  0.536006\n",
       "28  0.663963\n",
       "29  1.609717\n",
       "30  0.343593\n",
       "31  1.213387\n",
       "32  1.138917\n",
       "33  1.181845\n",
       "34  1.314227\n",
       "35  1.045357\n",
       "36  1.031401\n",
       "37  1.808574\n",
       "38  2.040704\n",
       "39  1.202766\n",
       "40  1.600385\n",
       "41  0.728916\n",
       "42  0.812528\n",
       "43  1.210926\n",
       "44  2.029207\n",
       "45  0.846762\n",
       "46  1.041632\n",
       "47  2.170558\n",
       "48  1.159398\n",
       "49  1.397517"
      ]
     },
     "execution_count": 84,
     "metadata": {},
     "output_type": "execute_result"
    }
   ],
   "source": [
    "dfY = pd.DataFrame(Y)\n",
    "dfY"
   ]
  },
  {
   "cell_type": "code",
   "execution_count": 87,
   "metadata": {},
   "outputs": [
    {
     "data": {
      "text/plain": [
       "array([[0.69646919],\n",
       "       [0.28613933],\n",
       "       [0.22685145],\n",
       "       [0.55131477],\n",
       "       [0.71946897],\n",
       "       [0.42310646],\n",
       "       [0.9807642 ],\n",
       "       [0.68482974],\n",
       "       [0.4809319 ],\n",
       "       [0.39211752],\n",
       "       [0.34317802],\n",
       "       [0.72904971],\n",
       "       [0.43857224],\n",
       "       [0.0596779 ],\n",
       "       [0.39804426],\n",
       "       [0.73799541],\n",
       "       [0.18249173],\n",
       "       [0.17545176],\n",
       "       [0.53155137],\n",
       "       [0.53182759],\n",
       "       [0.63440096],\n",
       "       [0.84943179],\n",
       "       [0.72445532],\n",
       "       [0.61102351],\n",
       "       [0.72244338],\n",
       "       [0.32295891],\n",
       "       [0.36178866],\n",
       "       [0.22826323],\n",
       "       [0.29371405],\n",
       "       [0.63097612],\n",
       "       [0.09210494],\n",
       "       [0.43370117],\n",
       "       [0.43086276],\n",
       "       [0.4936851 ],\n",
       "       [0.42583029],\n",
       "       [0.31226122],\n",
       "       [0.42635131],\n",
       "       [0.89338916],\n",
       "       [0.94416002],\n",
       "       [0.50183668],\n",
       "       [0.62395295],\n",
       "       [0.1156184 ],\n",
       "       [0.31728548],\n",
       "       [0.41482621],\n",
       "       [0.86630916],\n",
       "       [0.25045537],\n",
       "       [0.48303426],\n",
       "       [0.98555979],\n",
       "       [0.51948512],\n",
       "       [0.61289453]])"
      ]
     },
     "execution_count": 87,
     "metadata": {},
     "output_type": "execute_result"
    }
   ],
   "source": [
    "X[:, np.newaxis]"
   ]
  },
  {
   "cell_type": "code",
   "execution_count": 93,
   "metadata": {},
   "outputs": [
    {
     "data": {
      "text/plain": [
       "array([[1.4532527 ],\n",
       "       [0.98544907],\n",
       "       [0.75523297],\n",
       "       [1.37516354],\n",
       "       [1.61031986],\n",
       "       [0.99827331],\n",
       "       [2.1700395 ],\n",
       "       [1.71030986],\n",
       "       [1.39959222],\n",
       "       [1.03944621],\n",
       "       [1.02101292],\n",
       "       [1.75106769],\n",
       "       [1.18959624],\n",
       "       [0.45670032],\n",
       "       [1.21725973],\n",
       "       [1.51758831],\n",
       "       [0.74682488],\n",
       "       [0.4727367 ],\n",
       "       [1.16021423],\n",
       "       [1.34988365],\n",
       "       [1.31665818],\n",
       "       [2.141527  ],\n",
       "       [1.76253514],\n",
       "       [1.5837552 ],\n",
       "       [1.45295137],\n",
       "       [0.94313377],\n",
       "       [1.00196991],\n",
       "       [0.53600628],\n",
       "       [0.66396335],\n",
       "       [1.60971701],\n",
       "       [0.34359309],\n",
       "       [1.21338749],\n",
       "       [1.13891715],\n",
       "       [1.18184548],\n",
       "       [1.31422683],\n",
       "       [1.04535744],\n",
       "       [1.0314014 ],\n",
       "       [1.80857406],\n",
       "       [2.04070407],\n",
       "       [1.20276619],\n",
       "       [1.60038532],\n",
       "       [0.72891603],\n",
       "       [0.8125284 ],\n",
       "       [1.21092633],\n",
       "       [2.02920677],\n",
       "       [0.84676163],\n",
       "       [1.04163225],\n",
       "       [2.17055772],\n",
       "       [1.15939819],\n",
       "       [1.39751706]])"
      ]
     },
     "execution_count": 93,
     "metadata": {},
     "output_type": "execute_result"
    }
   ],
   "source": [
    "Y[:, np.newaxis]"
   ]
  },
  {
   "cell_type": "code",
   "execution_count": 91,
   "metadata": {},
   "outputs": [
    {
     "data": {
      "text/html": [
       "<div>\n",
       "<style scoped>\n",
       "    .dataframe tbody tr th:only-of-type {\n",
       "        vertical-align: middle;\n",
       "    }\n",
       "\n",
       "    .dataframe tbody tr th {\n",
       "        vertical-align: top;\n",
       "    }\n",
       "\n",
       "    .dataframe thead th {\n",
       "        text-align: right;\n",
       "    }\n",
       "</style>\n",
       "<table border=\"1\" class=\"dataframe\">\n",
       "  <thead>\n",
       "    <tr style=\"text-align: right;\">\n",
       "      <th></th>\n",
       "      <th>0</th>\n",
       "    </tr>\n",
       "  </thead>\n",
       "  <tbody>\n",
       "    <tr>\n",
       "      <th>0</th>\n",
       "      <td>0.696469</td>\n",
       "    </tr>\n",
       "    <tr>\n",
       "      <th>1</th>\n",
       "      <td>0.286139</td>\n",
       "    </tr>\n",
       "    <tr>\n",
       "      <th>2</th>\n",
       "      <td>0.226851</td>\n",
       "    </tr>\n",
       "    <tr>\n",
       "      <th>3</th>\n",
       "      <td>0.551315</td>\n",
       "    </tr>\n",
       "    <tr>\n",
       "      <th>4</th>\n",
       "      <td>0.719469</td>\n",
       "    </tr>\n",
       "    <tr>\n",
       "      <th>5</th>\n",
       "      <td>0.423106</td>\n",
       "    </tr>\n",
       "    <tr>\n",
       "      <th>6</th>\n",
       "      <td>0.980764</td>\n",
       "    </tr>\n",
       "    <tr>\n",
       "      <th>7</th>\n",
       "      <td>0.684830</td>\n",
       "    </tr>\n",
       "    <tr>\n",
       "      <th>8</th>\n",
       "      <td>0.480932</td>\n",
       "    </tr>\n",
       "    <tr>\n",
       "      <th>9</th>\n",
       "      <td>0.392118</td>\n",
       "    </tr>\n",
       "    <tr>\n",
       "      <th>10</th>\n",
       "      <td>0.343178</td>\n",
       "    </tr>\n",
       "    <tr>\n",
       "      <th>11</th>\n",
       "      <td>0.729050</td>\n",
       "    </tr>\n",
       "    <tr>\n",
       "      <th>12</th>\n",
       "      <td>0.438572</td>\n",
       "    </tr>\n",
       "    <tr>\n",
       "      <th>13</th>\n",
       "      <td>0.059678</td>\n",
       "    </tr>\n",
       "    <tr>\n",
       "      <th>14</th>\n",
       "      <td>0.398044</td>\n",
       "    </tr>\n",
       "    <tr>\n",
       "      <th>15</th>\n",
       "      <td>0.737995</td>\n",
       "    </tr>\n",
       "    <tr>\n",
       "      <th>16</th>\n",
       "      <td>0.182492</td>\n",
       "    </tr>\n",
       "    <tr>\n",
       "      <th>17</th>\n",
       "      <td>0.175452</td>\n",
       "    </tr>\n",
       "    <tr>\n",
       "      <th>18</th>\n",
       "      <td>0.531551</td>\n",
       "    </tr>\n",
       "    <tr>\n",
       "      <th>19</th>\n",
       "      <td>0.531828</td>\n",
       "    </tr>\n",
       "    <tr>\n",
       "      <th>20</th>\n",
       "      <td>0.634401</td>\n",
       "    </tr>\n",
       "    <tr>\n",
       "      <th>21</th>\n",
       "      <td>0.849432</td>\n",
       "    </tr>\n",
       "    <tr>\n",
       "      <th>22</th>\n",
       "      <td>0.724455</td>\n",
       "    </tr>\n",
       "    <tr>\n",
       "      <th>23</th>\n",
       "      <td>0.611024</td>\n",
       "    </tr>\n",
       "    <tr>\n",
       "      <th>24</th>\n",
       "      <td>0.722443</td>\n",
       "    </tr>\n",
       "    <tr>\n",
       "      <th>25</th>\n",
       "      <td>0.322959</td>\n",
       "    </tr>\n",
       "    <tr>\n",
       "      <th>26</th>\n",
       "      <td>0.361789</td>\n",
       "    </tr>\n",
       "    <tr>\n",
       "      <th>27</th>\n",
       "      <td>0.228263</td>\n",
       "    </tr>\n",
       "    <tr>\n",
       "      <th>28</th>\n",
       "      <td>0.293714</td>\n",
       "    </tr>\n",
       "    <tr>\n",
       "      <th>29</th>\n",
       "      <td>0.630976</td>\n",
       "    </tr>\n",
       "    <tr>\n",
       "      <th>30</th>\n",
       "      <td>0.092105</td>\n",
       "    </tr>\n",
       "    <tr>\n",
       "      <th>31</th>\n",
       "      <td>0.433701</td>\n",
       "    </tr>\n",
       "    <tr>\n",
       "      <th>32</th>\n",
       "      <td>0.430863</td>\n",
       "    </tr>\n",
       "    <tr>\n",
       "      <th>33</th>\n",
       "      <td>0.493685</td>\n",
       "    </tr>\n",
       "    <tr>\n",
       "      <th>34</th>\n",
       "      <td>0.425830</td>\n",
       "    </tr>\n",
       "    <tr>\n",
       "      <th>35</th>\n",
       "      <td>0.312261</td>\n",
       "    </tr>\n",
       "    <tr>\n",
       "      <th>36</th>\n",
       "      <td>0.426351</td>\n",
       "    </tr>\n",
       "    <tr>\n",
       "      <th>37</th>\n",
       "      <td>0.893389</td>\n",
       "    </tr>\n",
       "    <tr>\n",
       "      <th>38</th>\n",
       "      <td>0.944160</td>\n",
       "    </tr>\n",
       "    <tr>\n",
       "      <th>39</th>\n",
       "      <td>0.501837</td>\n",
       "    </tr>\n",
       "    <tr>\n",
       "      <th>40</th>\n",
       "      <td>0.623953</td>\n",
       "    </tr>\n",
       "    <tr>\n",
       "      <th>41</th>\n",
       "      <td>0.115618</td>\n",
       "    </tr>\n",
       "    <tr>\n",
       "      <th>42</th>\n",
       "      <td>0.317285</td>\n",
       "    </tr>\n",
       "    <tr>\n",
       "      <th>43</th>\n",
       "      <td>0.414826</td>\n",
       "    </tr>\n",
       "    <tr>\n",
       "      <th>44</th>\n",
       "      <td>0.866309</td>\n",
       "    </tr>\n",
       "    <tr>\n",
       "      <th>45</th>\n",
       "      <td>0.250455</td>\n",
       "    </tr>\n",
       "    <tr>\n",
       "      <th>46</th>\n",
       "      <td>0.483034</td>\n",
       "    </tr>\n",
       "    <tr>\n",
       "      <th>47</th>\n",
       "      <td>0.985560</td>\n",
       "    </tr>\n",
       "    <tr>\n",
       "      <th>48</th>\n",
       "      <td>0.519485</td>\n",
       "    </tr>\n",
       "    <tr>\n",
       "      <th>49</th>\n",
       "      <td>0.612895</td>\n",
       "    </tr>\n",
       "  </tbody>\n",
       "</table>\n",
       "</div>"
      ],
      "text/plain": [
       "           0\n",
       "0   0.696469\n",
       "1   0.286139\n",
       "2   0.226851\n",
       "3   0.551315\n",
       "4   0.719469\n",
       "5   0.423106\n",
       "6   0.980764\n",
       "7   0.684830\n",
       "8   0.480932\n",
       "9   0.392118\n",
       "10  0.343178\n",
       "11  0.729050\n",
       "12  0.438572\n",
       "13  0.059678\n",
       "14  0.398044\n",
       "15  0.737995\n",
       "16  0.182492\n",
       "17  0.175452\n",
       "18  0.531551\n",
       "19  0.531828\n",
       "20  0.634401\n",
       "21  0.849432\n",
       "22  0.724455\n",
       "23  0.611024\n",
       "24  0.722443\n",
       "25  0.322959\n",
       "26  0.361789\n",
       "27  0.228263\n",
       "28  0.293714\n",
       "29  0.630976\n",
       "30  0.092105\n",
       "31  0.433701\n",
       "32  0.430863\n",
       "33  0.493685\n",
       "34  0.425830\n",
       "35  0.312261\n",
       "36  0.426351\n",
       "37  0.893389\n",
       "38  0.944160\n",
       "39  0.501837\n",
       "40  0.623953\n",
       "41  0.115618\n",
       "42  0.317285\n",
       "43  0.414826\n",
       "44  0.866309\n",
       "45  0.250455\n",
       "46  0.483034\n",
       "47  0.985560\n",
       "48  0.519485\n",
       "49  0.612895"
      ]
     },
     "execution_count": 91,
     "metadata": {},
     "output_type": "execute_result"
    }
   ],
   "source": [
    "df_axisX = pd.DataFrame(X[:, np.newaxis])\n",
    "df_axisX"
   ]
  },
  {
   "cell_type": "code",
   "execution_count": 86,
   "metadata": {},
   "outputs": [
    {
     "data": {
      "text/html": [
       "<div>\n",
       "<style scoped>\n",
       "    .dataframe tbody tr th:only-of-type {\n",
       "        vertical-align: middle;\n",
       "    }\n",
       "\n",
       "    .dataframe tbody tr th {\n",
       "        vertical-align: top;\n",
       "    }\n",
       "\n",
       "    .dataframe thead th {\n",
       "        text-align: right;\n",
       "    }\n",
       "</style>\n",
       "<table border=\"1\" class=\"dataframe\">\n",
       "  <thead>\n",
       "    <tr style=\"text-align: right;\">\n",
       "      <th></th>\n",
       "      <th>0</th>\n",
       "      <th>1</th>\n",
       "    </tr>\n",
       "  </thead>\n",
       "  <tbody>\n",
       "    <tr>\n",
       "      <th>0</th>\n",
       "      <td>0.696469</td>\n",
       "      <td>1.453253</td>\n",
       "    </tr>\n",
       "    <tr>\n",
       "      <th>1</th>\n",
       "      <td>0.286139</td>\n",
       "      <td>0.985449</td>\n",
       "    </tr>\n",
       "    <tr>\n",
       "      <th>2</th>\n",
       "      <td>0.226851</td>\n",
       "      <td>0.755233</td>\n",
       "    </tr>\n",
       "    <tr>\n",
       "      <th>3</th>\n",
       "      <td>0.551315</td>\n",
       "      <td>1.375164</td>\n",
       "    </tr>\n",
       "    <tr>\n",
       "      <th>4</th>\n",
       "      <td>0.719469</td>\n",
       "      <td>1.610320</td>\n",
       "    </tr>\n",
       "    <tr>\n",
       "      <th>5</th>\n",
       "      <td>0.423106</td>\n",
       "      <td>0.998273</td>\n",
       "    </tr>\n",
       "    <tr>\n",
       "      <th>6</th>\n",
       "      <td>0.980764</td>\n",
       "      <td>2.170040</td>\n",
       "    </tr>\n",
       "    <tr>\n",
       "      <th>7</th>\n",
       "      <td>0.684830</td>\n",
       "      <td>1.710310</td>\n",
       "    </tr>\n",
       "    <tr>\n",
       "      <th>8</th>\n",
       "      <td>0.480932</td>\n",
       "      <td>1.399592</td>\n",
       "    </tr>\n",
       "    <tr>\n",
       "      <th>9</th>\n",
       "      <td>0.392118</td>\n",
       "      <td>1.039446</td>\n",
       "    </tr>\n",
       "    <tr>\n",
       "      <th>10</th>\n",
       "      <td>0.343178</td>\n",
       "      <td>1.021013</td>\n",
       "    </tr>\n",
       "    <tr>\n",
       "      <th>11</th>\n",
       "      <td>0.729050</td>\n",
       "      <td>1.751068</td>\n",
       "    </tr>\n",
       "    <tr>\n",
       "      <th>12</th>\n",
       "      <td>0.438572</td>\n",
       "      <td>1.189596</td>\n",
       "    </tr>\n",
       "    <tr>\n",
       "      <th>13</th>\n",
       "      <td>0.059678</td>\n",
       "      <td>0.456700</td>\n",
       "    </tr>\n",
       "    <tr>\n",
       "      <th>14</th>\n",
       "      <td>0.398044</td>\n",
       "      <td>1.217260</td>\n",
       "    </tr>\n",
       "    <tr>\n",
       "      <th>15</th>\n",
       "      <td>0.737995</td>\n",
       "      <td>1.517588</td>\n",
       "    </tr>\n",
       "    <tr>\n",
       "      <th>16</th>\n",
       "      <td>0.182492</td>\n",
       "      <td>0.746825</td>\n",
       "    </tr>\n",
       "    <tr>\n",
       "      <th>17</th>\n",
       "      <td>0.175452</td>\n",
       "      <td>0.472737</td>\n",
       "    </tr>\n",
       "    <tr>\n",
       "      <th>18</th>\n",
       "      <td>0.531551</td>\n",
       "      <td>1.160214</td>\n",
       "    </tr>\n",
       "    <tr>\n",
       "      <th>19</th>\n",
       "      <td>0.531828</td>\n",
       "      <td>1.349884</td>\n",
       "    </tr>\n",
       "    <tr>\n",
       "      <th>20</th>\n",
       "      <td>0.634401</td>\n",
       "      <td>1.316658</td>\n",
       "    </tr>\n",
       "    <tr>\n",
       "      <th>21</th>\n",
       "      <td>0.849432</td>\n",
       "      <td>2.141527</td>\n",
       "    </tr>\n",
       "    <tr>\n",
       "      <th>22</th>\n",
       "      <td>0.724455</td>\n",
       "      <td>1.762535</td>\n",
       "    </tr>\n",
       "    <tr>\n",
       "      <th>23</th>\n",
       "      <td>0.611024</td>\n",
       "      <td>1.583755</td>\n",
       "    </tr>\n",
       "    <tr>\n",
       "      <th>24</th>\n",
       "      <td>0.722443</td>\n",
       "      <td>1.452951</td>\n",
       "    </tr>\n",
       "    <tr>\n",
       "      <th>25</th>\n",
       "      <td>0.322959</td>\n",
       "      <td>0.943134</td>\n",
       "    </tr>\n",
       "    <tr>\n",
       "      <th>26</th>\n",
       "      <td>0.361789</td>\n",
       "      <td>1.001970</td>\n",
       "    </tr>\n",
       "    <tr>\n",
       "      <th>27</th>\n",
       "      <td>0.228263</td>\n",
       "      <td>0.536006</td>\n",
       "    </tr>\n",
       "    <tr>\n",
       "      <th>28</th>\n",
       "      <td>0.293714</td>\n",
       "      <td>0.663963</td>\n",
       "    </tr>\n",
       "    <tr>\n",
       "      <th>29</th>\n",
       "      <td>0.630976</td>\n",
       "      <td>1.609717</td>\n",
       "    </tr>\n",
       "    <tr>\n",
       "      <th>30</th>\n",
       "      <td>0.092105</td>\n",
       "      <td>0.343593</td>\n",
       "    </tr>\n",
       "    <tr>\n",
       "      <th>31</th>\n",
       "      <td>0.433701</td>\n",
       "      <td>1.213387</td>\n",
       "    </tr>\n",
       "    <tr>\n",
       "      <th>32</th>\n",
       "      <td>0.430863</td>\n",
       "      <td>1.138917</td>\n",
       "    </tr>\n",
       "    <tr>\n",
       "      <th>33</th>\n",
       "      <td>0.493685</td>\n",
       "      <td>1.181845</td>\n",
       "    </tr>\n",
       "    <tr>\n",
       "      <th>34</th>\n",
       "      <td>0.425830</td>\n",
       "      <td>1.314227</td>\n",
       "    </tr>\n",
       "    <tr>\n",
       "      <th>35</th>\n",
       "      <td>0.312261</td>\n",
       "      <td>1.045357</td>\n",
       "    </tr>\n",
       "    <tr>\n",
       "      <th>36</th>\n",
       "      <td>0.426351</td>\n",
       "      <td>1.031401</td>\n",
       "    </tr>\n",
       "    <tr>\n",
       "      <th>37</th>\n",
       "      <td>0.893389</td>\n",
       "      <td>1.808574</td>\n",
       "    </tr>\n",
       "    <tr>\n",
       "      <th>38</th>\n",
       "      <td>0.944160</td>\n",
       "      <td>2.040704</td>\n",
       "    </tr>\n",
       "    <tr>\n",
       "      <th>39</th>\n",
       "      <td>0.501837</td>\n",
       "      <td>1.202766</td>\n",
       "    </tr>\n",
       "    <tr>\n",
       "      <th>40</th>\n",
       "      <td>0.623953</td>\n",
       "      <td>1.600385</td>\n",
       "    </tr>\n",
       "    <tr>\n",
       "      <th>41</th>\n",
       "      <td>0.115618</td>\n",
       "      <td>0.728916</td>\n",
       "    </tr>\n",
       "    <tr>\n",
       "      <th>42</th>\n",
       "      <td>0.317285</td>\n",
       "      <td>0.812528</td>\n",
       "    </tr>\n",
       "    <tr>\n",
       "      <th>43</th>\n",
       "      <td>0.414826</td>\n",
       "      <td>1.210926</td>\n",
       "    </tr>\n",
       "    <tr>\n",
       "      <th>44</th>\n",
       "      <td>0.866309</td>\n",
       "      <td>2.029207</td>\n",
       "    </tr>\n",
       "    <tr>\n",
       "      <th>45</th>\n",
       "      <td>0.250455</td>\n",
       "      <td>0.846762</td>\n",
       "    </tr>\n",
       "    <tr>\n",
       "      <th>46</th>\n",
       "      <td>0.483034</td>\n",
       "      <td>1.041632</td>\n",
       "    </tr>\n",
       "    <tr>\n",
       "      <th>47</th>\n",
       "      <td>0.985560</td>\n",
       "      <td>2.170558</td>\n",
       "    </tr>\n",
       "    <tr>\n",
       "      <th>48</th>\n",
       "      <td>0.519485</td>\n",
       "      <td>1.159398</td>\n",
       "    </tr>\n",
       "    <tr>\n",
       "      <th>49</th>\n",
       "      <td>0.612895</td>\n",
       "      <td>1.397517</td>\n",
       "    </tr>\n",
       "  </tbody>\n",
       "</table>\n",
       "</div>"
      ],
      "text/plain": [
       "           0         1\n",
       "0   0.696469  1.453253\n",
       "1   0.286139  0.985449\n",
       "2   0.226851  0.755233\n",
       "3   0.551315  1.375164\n",
       "4   0.719469  1.610320\n",
       "5   0.423106  0.998273\n",
       "6   0.980764  2.170040\n",
       "7   0.684830  1.710310\n",
       "8   0.480932  1.399592\n",
       "9   0.392118  1.039446\n",
       "10  0.343178  1.021013\n",
       "11  0.729050  1.751068\n",
       "12  0.438572  1.189596\n",
       "13  0.059678  0.456700\n",
       "14  0.398044  1.217260\n",
       "15  0.737995  1.517588\n",
       "16  0.182492  0.746825\n",
       "17  0.175452  0.472737\n",
       "18  0.531551  1.160214\n",
       "19  0.531828  1.349884\n",
       "20  0.634401  1.316658\n",
       "21  0.849432  2.141527\n",
       "22  0.724455  1.762535\n",
       "23  0.611024  1.583755\n",
       "24  0.722443  1.452951\n",
       "25  0.322959  0.943134\n",
       "26  0.361789  1.001970\n",
       "27  0.228263  0.536006\n",
       "28  0.293714  0.663963\n",
       "29  0.630976  1.609717\n",
       "30  0.092105  0.343593\n",
       "31  0.433701  1.213387\n",
       "32  0.430863  1.138917\n",
       "33  0.493685  1.181845\n",
       "34  0.425830  1.314227\n",
       "35  0.312261  1.045357\n",
       "36  0.426351  1.031401\n",
       "37  0.893389  1.808574\n",
       "38  0.944160  2.040704\n",
       "39  0.501837  1.202766\n",
       "40  0.623953  1.600385\n",
       "41  0.115618  0.728916\n",
       "42  0.317285  0.812528\n",
       "43  0.414826  1.210926\n",
       "44  0.866309  2.029207\n",
       "45  0.250455  0.846762\n",
       "46  0.483034  1.041632\n",
       "47  0.985560  2.170558\n",
       "48  0.519485  1.159398\n",
       "49  0.612895  1.397517"
      ]
     },
     "execution_count": 86,
     "metadata": {},
     "output_type": "execute_result"
    }
   ],
   "source": [
    "xy = pd.DataFrame(np.hstack((X[:, np.newaxis], Y[:, np.newaxis])))\n",
    "xy"
   ]
  },
  {
   "cell_type": "code",
   "execution_count": 96,
   "metadata": {},
   "outputs": [
    {
     "data": {
      "text/plain": [
       "array([[0.69646919, 1.4532527 ],\n",
       "       [0.28613933, 0.98544907],\n",
       "       [0.22685145, 0.75523297],\n",
       "       [0.55131477, 1.37516354],\n",
       "       [0.71946897, 1.61031986],\n",
       "       [0.42310646, 0.99827331],\n",
       "       [0.9807642 , 2.1700395 ],\n",
       "       [0.68482974, 1.71030986],\n",
       "       [0.4809319 , 1.39959222],\n",
       "       [0.39211752, 1.03944621],\n",
       "       [0.34317802, 1.02101292],\n",
       "       [0.72904971, 1.75106769],\n",
       "       [0.43857224, 1.18959624],\n",
       "       [0.0596779 , 0.45670032],\n",
       "       [0.39804426, 1.21725973],\n",
       "       [0.73799541, 1.51758831],\n",
       "       [0.18249173, 0.74682488],\n",
       "       [0.17545176, 0.4727367 ],\n",
       "       [0.53155137, 1.16021423],\n",
       "       [0.53182759, 1.34988365],\n",
       "       [0.63440096, 1.31665818],\n",
       "       [0.84943179, 2.141527  ],\n",
       "       [0.72445532, 1.76253514],\n",
       "       [0.61102351, 1.5837552 ],\n",
       "       [0.72244338, 1.45295137],\n",
       "       [0.32295891, 0.94313377],\n",
       "       [0.36178866, 1.00196991],\n",
       "       [0.22826323, 0.53600628],\n",
       "       [0.29371405, 0.66396335],\n",
       "       [0.63097612, 1.60971701],\n",
       "       [0.09210494, 0.34359309],\n",
       "       [0.43370117, 1.21338749],\n",
       "       [0.43086276, 1.13891715],\n",
       "       [0.4936851 , 1.18184548],\n",
       "       [0.42583029, 1.31422683],\n",
       "       [0.31226122, 1.04535744],\n",
       "       [0.42635131, 1.0314014 ],\n",
       "       [0.89338916, 1.80857406],\n",
       "       [0.94416002, 2.04070407],\n",
       "       [0.50183668, 1.20276619],\n",
       "       [0.62395295, 1.60038532],\n",
       "       [0.1156184 , 0.72891603],\n",
       "       [0.31728548, 0.8125284 ],\n",
       "       [0.41482621, 1.21092633],\n",
       "       [0.86630916, 2.02920677],\n",
       "       [0.25045537, 0.84676163],\n",
       "       [0.48303426, 1.04163225],\n",
       "       [0.98555979, 2.17055772],\n",
       "       [0.51948512, 1.15939819],\n",
       "       [0.61289453, 1.39751706]])"
      ]
     },
     "execution_count": 96,
     "metadata": {},
     "output_type": "execute_result"
    }
   ],
   "source": [
    "np.hstack((X[:, np.newaxis], Y[:, np.newaxis]))"
   ]
  },
  {
   "cell_type": "code",
   "execution_count": 98,
   "metadata": {},
   "outputs": [
    {
     "data": {
      "image/png": "[encoded data removed]",
      "text/plain": [
       "<Figure size 432x288 with 1 Axes>"
      ]
     },
     "metadata": {
      "needs_background": "light"
     },
     "output_type": "display_data"
    }
   ],
   "source": [
    "fig, ax = plt.subplots()\n",
    "\n",
    "# X_pca（Xとyを合体させ、主成分分析したもの）の1列目を横軸、2列目を縦軸に取っただけ\n",
    "ax.scatter(X_pca[:, 0], X_pca[:, 1])\n",
    "ax.set_xlabel('PC1')\n",
    "ax.set_ylabel('PC2')\n",
    "\n",
    "# limitということは、座標の範囲の限界を決めているということ\n",
    "ax.set_xlim(-1.1, 1.1)\n",
    "ax.set_ylim(-1.1, 1.1)\n",
    "\n",
    "plt.show()"
   ]
  },
  {
   "cell_type": "code",
   "execution_count": 100,
   "metadata": {},
   "outputs": [],
   "source": [
    "from sklearn.datasets import load_iris\n",
    "from sklearn.svm import SVC\n",
    "from sklearn.model_selection import train_test_split\n",
    "\n",
    "# データセットの最初の100データのみについて考える\n",
    "iris = load_iris()\n",
    "X, y = iris.data[:100, :], iris.target[:100]"
   ]
  },
  {
   "cell_type": "code",
   "execution_count": 106,
   "metadata": {},
   "outputs": [
    {
     "data": {
      "text/plain": [
       "array([0, 0, 0, 0, 0, 0, 0, 0, 0, 0, 0, 0, 0, 0, 0, 0, 0, 0, 0, 0, 0, 0,\n",
       "       0, 0, 0, 0, 0, 0, 0, 0, 0, 0, 0, 0, 0, 0, 0, 0, 0, 0, 0, 0, 0, 0,\n",
       "       0, 0, 0, 0, 0, 0, 1, 1, 1, 1, 1, 1, 1, 1, 1, 1, 1, 1, 1, 1, 1, 1,\n",
       "       1, 1, 1, 1, 1, 1, 1, 1, 1, 1, 1, 1, 1, 1, 1, 1, 1, 1, 1, 1, 1, 1,\n",
       "       1, 1, 1, 1, 1, 1, 1, 1, 1, 1, 1, 1])"
      ]
     },
     "execution_count": 106,
     "metadata": {},
     "output_type": "execute_result"
    }
   ],
   "source": [
    "y"
   ]
  },
  {
   "cell_type": "code",
   "execution_count": 105,
   "metadata": {},
   "outputs": [
    {
     "data": {
      "text/plain": [
       "array([[5.1, 3.5, 1.4, 0.2],\n",
       "       [4.9, 3. , 1.4, 0.2],\n",
       "       [4.7, 3.2, 1.3, 0.2],\n",
       "       [4.6, 3.1, 1.5, 0.2],\n",
       "       [5. , 3.6, 1.4, 0.2],\n",
       "       [5.4, 3.9, 1.7, 0.4],\n",
       "       [4.6, 3.4, 1.4, 0.3],\n",
       "       [5. , 3.4, 1.5, 0.2],\n",
       "       [4.4, 2.9, 1.4, 0.2],\n",
       "       [4.9, 3.1, 1.5, 0.1],\n",
       "       [5.4, 3.7, 1.5, 0.2],\n",
       "       [4.8, 3.4, 1.6, 0.2],\n",
       "       [4.8, 3. , 1.4, 0.1],\n",
       "       [4.3, 3. , 1.1, 0.1],\n",
       "       [5.8, 4. , 1.2, 0.2],\n",
       "       [5.7, 4.4, 1.5, 0.4],\n",
       "       [5.4, 3.9, 1.3, 0.4],\n",
       "       [5.1, 3.5, 1.4, 0.3],\n",
       "       [5.7, 3.8, 1.7, 0.3],\n",
       "       [5.1, 3.8, 1.5, 0.3],\n",
       "       [5.4, 3.4, 1.7, 0.2],\n",
       "       [5.1, 3.7, 1.5, 0.4],\n",
       "       [4.6, 3.6, 1. , 0.2],\n",
       "       [5.1, 3.3, 1.7, 0.5],\n",
       "       [4.8, 3.4, 1.9, 0.2],\n",
       "       [5. , 3. , 1.6, 0.2],\n",
       "       [5. , 3.4, 1.6, 0.4],\n",
       "       [5.2, 3.5, 1.5, 0.2],\n",
       "       [5.2, 3.4, 1.4, 0.2],\n",
       "       [4.7, 3.2, 1.6, 0.2],\n",
       "       [4.8, 3.1, 1.6, 0.2],\n",
       "       [5.4, 3.4, 1.5, 0.4],\n",
       "       [5.2, 4.1, 1.5, 0.1],\n",
       "       [5.5, 4.2, 1.4, 0.2],\n",
       "       [4.9, 3.1, 1.5, 0.2],\n",
       "       [5. , 3.2, 1.2, 0.2],\n",
       "       [5.5, 3.5, 1.3, 0.2],\n",
       "       [4.9, 3.6, 1.4, 0.1],\n",
       "       [4.4, 3. , 1.3, 0.2],\n",
       "       [5.1, 3.4, 1.5, 0.2],\n",
       "       [5. , 3.5, 1.3, 0.3],\n",
       "       [4.5, 2.3, 1.3, 0.3],\n",
       "       [4.4, 3.2, 1.3, 0.2],\n",
       "       [5. , 3.5, 1.6, 0.6],\n",
       "       [5.1, 3.8, 1.9, 0.4],\n",
       "       [4.8, 3. , 1.4, 0.3],\n",
       "       [5.1, 3.8, 1.6, 0.2],\n",
       "       [4.6, 3.2, 1.4, 0.2],\n",
       "       [5.3, 3.7, 1.5, 0.2],\n",
       "       [5. , 3.3, 1.4, 0.2],\n",
       "       [7. , 3.2, 4.7, 1.4],\n",
       "       [6.4, 3.2, 4.5, 1.5],\n",
       "       [6.9, 3.1, 4.9, 1.5],\n",
       "       [5.5, 2.3, 4. , 1.3],\n",
       "       [6.5, 2.8, 4.6, 1.5],\n",
       "       [5.7, 2.8, 4.5, 1.3],\n",
       "       [6.3, 3.3, 4.7, 1.6],\n",
       "       [4.9, 2.4, 3.3, 1. ],\n",
       "       [6.6, 2.9, 4.6, 1.3],\n",
       "       [5.2, 2.7, 3.9, 1.4],\n",
       "       [5. , 2. , 3.5, 1. ],\n",
       "       [5.9, 3. , 4.2, 1.5],\n",
       "       [6. , 2.2, 4. , 1. ],\n",
       "       [6.1, 2.9, 4.7, 1.4],\n",
       "       [5.6, 2.9, 3.6, 1.3],\n",
       "       [6.7, 3.1, 4.4, 1.4],\n",
       "       [5.6, 3. , 4.5, 1.5],\n",
       "       [5.8, 2.7, 4.1, 1. ],\n",
       "       [6.2, 2.2, 4.5, 1.5],\n",
       "       [5.6, 2.5, 3.9, 1.1],\n",
       "       [5.9, 3.2, 4.8, 1.8],\n",
       "       [6.1, 2.8, 4. , 1.3],\n",
       "       [6.3, 2.5, 4.9, 1.5],\n",
       "       [6.1, 2.8, 4.7, 1.2],\n",
       "       [6.4, 2.9, 4.3, 1.3],\n",
       "       [6.6, 3. , 4.4, 1.4],\n",
       "       [6.8, 2.8, 4.8, 1.4],\n",
       "       [6.7, 3. , 5. , 1.7],\n",
       "       [6. , 2.9, 4.5, 1.5],\n",
       "       [5.7, 2.6, 3.5, 1. ],\n",
       "       [5.5, 2.4, 3.8, 1.1],\n",
       "       [5.5, 2.4, 3.7, 1. ],\n",
       "       [5.8, 2.7, 3.9, 1.2],\n",
       "       [6. , 2.7, 5.1, 1.6],\n",
       "       [5.4, 3. , 4.5, 1.5],\n",
       "       [6. , 3.4, 4.5, 1.6],\n",
       "       [6.7, 3.1, 4.7, 1.5],\n",
       "       [6.3, 2.3, 4.4, 1.3],\n",
       "       [5.6, 3. , 4.1, 1.3],\n",
       "       [5.5, 2.5, 4. , 1.3],\n",
       "       [5.5, 2.6, 4.4, 1.2],\n",
       "       [6.1, 3. , 4.6, 1.4],\n",
       "       [5.8, 2.6, 4. , 1.2],\n",
       "       [5. , 2.3, 3.3, 1. ],\n",
       "       [5.6, 2.7, 4.2, 1.3],\n",
       "       [5.7, 3. , 4.2, 1.2],\n",
       "       [5.7, 2.9, 4.2, 1.3],\n",
       "       [6.2, 2.9, 4.3, 1.3],\n",
       "       [5.1, 2.5, 3. , 1.1],\n",
       "       [5.7, 2.8, 4.1, 1.3]])"
      ]
     },
     "execution_count": 105,
     "metadata": {},
     "output_type": "execute_result"
    }
   ],
   "source": [
    "X"
   ]
  },
  {
   "cell_type": "code",
   "execution_count": 108,
   "metadata": {},
   "outputs": [
    {
     "data": {
      "text/plain": [
       "array([0, 1, 1, 0, 1, 0, 0, 1, 1, 0, 0, 1, 1, 1, 0, 0, 1, 0, 1, 1, 0, 1,\n",
       "       0, 0, 0, 1, 1, 0, 1, 0])"
      ]
     },
     "execution_count": 108,
     "metadata": {},
     "output_type": "execute_result"
    }
   ],
   "source": [
    "X_train, X_test, y_train, y_test = train_test_split(X, y, test_size = 0.3, random_state = 123)\n",
    "\n",
    "svc = SVC()\n",
    "\n",
    "svc.fit(X_train, y_train)\n",
    "\n",
    "# test_sizeが30%なので、出力結果のデータ数でOK\n",
    "y_pred = svc.predict(X_test)\n",
    "\n",
    "y_pred"
   ]
  },
  {
   "cell_type": "code",
   "execution_count": 109,
   "metadata": {},
   "outputs": [
    {
     "name": "stdout",
     "output_type": "stream",
     "text": [
      "              precision    recall  f1-score   support\n",
      "\n",
      "           0       1.00      1.00      1.00        15\n",
      "           1       1.00      1.00      1.00        15\n",
      "\n",
      "    accuracy                           1.00        30\n",
      "   macro avg       1.00      1.00      1.00        30\n",
      "weighted avg       1.00      1.00      1.00        30\n",
      "\n"
     ]
    }
   ],
   "source": [
    "from sklearn.metrics import classification_report\n",
    "\n",
    "print(classification_report(y_test, y_pred))"
   ]
  },
  {
   "cell_type": "code",
   "execution_count": 111,
   "metadata": {},
   "outputs": [
    {
     "data": {
      "text/plain": [
       "array([1., 1., 1., 1., 1., 1., 1., 1., 1., 1.])"
      ]
     },
     "execution_count": 111,
     "metadata": {},
     "output_type": "execute_result"
    }
   ],
   "source": [
    "# さっきはtrain_testを分割してからSVCしたが、今度は「分割→SVC」を繰り返す\n",
    "# 分割するのは、X,y自体である\n",
    "\n",
    "from sklearn.svm import SVC\n",
    "from sklearn.model_selection import cross_val_score\n",
    "\n",
    "svc = SVC()\n",
    "\n",
    "cross_val_score (svc, X, y, cv = 10, scoring = 'precision')"
   ]
  },
  {
   "cell_type": "code",
   "execution_count": 112,
   "metadata": {},
   "outputs": [
    {
     "data": {
      "image/png": "[encoded data removed]",
      "text/plain": [
       "<Figure size 432x288 with 1 Axes>"
      ]
     },
     "metadata": {
      "needs_background": "light"
     },
     "output_type": "display_data"
    }
   ],
   "source": [
    "import numpy as np\n",
    "import matplotlib.pyplot as plt\n",
    "\n",
    "# 最後に1/14で括って、魏陽性率のリストを表記している\n",
    "fpr = np.array([0, 0, 0, 1, 1, 2, 3, 3, 3, 3, 4, 5, 5, 6, 7, 8, 8, 8, 9, 10, 10, 11, 12, 12, 13, 14])/14\n",
    "\n",
    "tpr = np.array([0, 1, 2, 2, 3, 3, 3, 4, 5, 6, 6, 6, 7, 7, 7, 7, 8, 9, 9, 9, 10, 10, 10, 11, 11, 11])/11\n",
    "\n",
    "fig, ax = plt.subplots()\n",
    "\n",
    "ax.step(fpr, tpr)\n",
    "\n",
    "ax.set_xlabel('false positive rate')\n",
    "ax.set_ylabel('true positive rate')\n",
    "\n",
    "plt.show()"
   ]
  },
  {
   "cell_type": "code",
   "execution_count": 132,
   "metadata": {},
   "outputs": [
    {
     "data": {
      "text/plain": [
       "array([0.        , 0.        , 0.        , 0.07142857, 0.07142857,\n",
       "       0.21428571, 0.21428571, 0.35714286, 0.35714286, 0.57142857,\n",
       "       0.57142857, 0.71428571, 0.71428571, 0.85714286, 0.85714286,\n",
       "       1.        ])"
      ]
     },
     "execution_count": 132,
     "metadata": {},
     "output_type": "execute_result"
    }
   ],
   "source": [
    "fpr"
   ]
  },
  {
   "cell_type": "code",
   "execution_count": 133,
   "metadata": {},
   "outputs": [
    {
     "data": {
      "text/plain": [
       "array([0.        , 0.09090909, 0.18181818, 0.18181818, 0.27272727,\n",
       "       0.27272727, 0.54545455, 0.54545455, 0.63636364, 0.63636364,\n",
       "       0.81818182, 0.81818182, 0.90909091, 0.90909091, 1.        ,\n",
       "       1.        ])"
      ]
     },
     "execution_count": 133,
     "metadata": {},
     "output_type": "execute_result"
    }
   ],
   "source": [
    "tpr"
   ]
  },
  {
   "cell_type": "code",
   "execution_count": 130,
   "metadata": {},
   "outputs": [],
   "source": [
    "# 違う方法で、tprとfprを求めていく\n",
    "\n",
    "from sklearn.metrics import roc_curve\n",
    "\n",
    "# 全25人において、退会したは1、退会しなかったは0を入力する\n",
    "labels = np.array([1, 1, 0, 1, 0, 0, 1, 1, 1, 0, 0, 1, 0, 0, 0, 1, 1, 0, 0, 1, 0, 0, 1, 0, 0])\n",
    "\n",
    "# 各ユーザーの予測退会確率を入力していく\n",
    "# 小数点がカンマ,になっていたミス\n",
    "probs = np.array([0.98, 0.95, 0.9, 0.87, 0.85, \n",
    "                  0.8, 0.75, 0.71, 0.63, 0.55, \n",
    "                  0.51, 0.47, 0.43, 0.38, 0.35, \n",
    "                  0.31, 0.28, 0.24, 0.22, 0.19,\n",
    "                  0.15, 0.12, 0.08, 0.04, 0.01])\n",
    "\n",
    "fpr, tpr, threshold = roc_curve(labels, probs)"
   ]
  },
  {
   "cell_type": "code",
   "execution_count": 131,
   "metadata": {},
   "outputs": [
    {
     "name": "stdout",
     "output_type": "stream",
     "text": [
      "偽陽性率: [0.         0.         0.         0.07142857 0.07142857 0.21428571\n",
      " 0.21428571 0.35714286 0.35714286 0.57142857 0.57142857 0.71428571\n",
      " 0.71428571 0.85714286 0.85714286 1.        ]\n",
      "真陽性率: [0.         0.09090909 0.18181818 0.18181818 0.27272727 0.27272727\n",
      " 0.54545455 0.54545455 0.63636364 0.63636364 0.81818182 0.81818182\n",
      " 0.90909091 0.90909091 1.         1.        ]\n"
     ]
    }
   ],
   "source": [
    "\n",
    "\n",
    "print('偽陽性率:', fpr)\n",
    "print('真陽性率:', tpr)"
   ]
  },
  {
   "cell_type": "code",
   "execution_count": 135,
   "metadata": {},
   "outputs": [
    {
     "data": {
      "image/png": "[encoded data removed]",
      "text/plain": [
       "<Figure size 432x288 with 1 Axes>"
      ]
     },
     "metadata": {
      "needs_background": "light"
     },
     "output_type": "display_data"
    }
   ],
   "source": [
    "fig, ax = plt.subplots()\n",
    "ax.step(fpr, tpr)\n",
    "ax.set_xlabel('false positive rate')\n",
    "ax.set_ylabel('true positive rate')\n",
    "\n",
    "plt.show()"
   ]
  },
  {
   "cell_type": "code",
   "execution_count": 136,
   "metadata": {},
   "outputs": [
    {
     "data": {
      "text/plain": [
       "0.6558441558441558"
      ]
     },
     "execution_count": 136,
     "metadata": {},
     "output_type": "execute_result"
    }
   ],
   "source": [
    "from sklearn.metrics import roc_auc_score\n",
    "\n",
    "roc_auc_score(labels, probs)"
   ]
  },
  {
   "cell_type": "code",
   "execution_count": 138,
   "metadata": {},
   "outputs": [
    {
     "data": {
      "text/plain": [
       "GridSearchCV(cv=10, error_score=nan,\n",
       "             estimator=DecisionTreeClassifier(ccp_alpha=0.0, class_weight=None,\n",
       "                                              criterion='gini', max_depth=None,\n",
       "                                              max_features=None,\n",
       "                                              max_leaf_nodes=None,\n",
       "                                              min_impurity_decrease=0.0,\n",
       "                                              min_impurity_split=None,\n",
       "                                              min_samples_leaf=1,\n",
       "                                              min_samples_split=2,\n",
       "                                              min_weight_fraction_leaf=0.0,\n",
       "                                              presort='deprecated',\n",
       "                                              random_state=None,\n",
       "                                              splitter='best'),\n",
       "             iid='deprecated', n_jobs=None, param_grid={'max_depth': [3, 4, 5]},\n",
       "             pre_dispatch='2*n_jobs', refit=True, return_train_score=False,\n",
       "             scoring=None, verbose=0)"
      ]
     },
     "execution_count": 138,
     "metadata": {},
     "output_type": "execute_result"
    }
   ],
   "source": [
    "from sklearn.datasets import load_iris\n",
    "from sklearn.model_selection import GridSearchCV\n",
    "\n",
    "# クラシファイア（分類）\n",
    "from sklearn.tree import DecisionTreeClassifier\n",
    "from sklearn.model_selection import train_test_split\n",
    "\n",
    "iris = load_iris()\n",
    "X, y = iris.data, iris.target\n",
    "\n",
    "X_train, X_test, y_train, y_test = train_test_split(X, y, test_size = 0.3, random_state = 123)\n",
    "\n",
    "clf = DecisionTreeClassifier()\n",
    "\n",
    "param_grid = {'max_depth': [3, 4, 5]}\n",
    "\n",
    "# 「データ分割→結果を出す」を繰り返し、最適なパラメータを求めている\n",
    "# cv でグリッドサーチ（交差検証含む）を実行する\n",
    "\n",
    "# ちなみに交差検証であるが、対象はトレーニングデータのみ\n",
    "# 後ほどy_predの計算をしているので、ここで扱っているのはトレーニングデータのみのはず\n",
    "\n",
    "cv = GridSearchCV(clf, param_grid  = param_grid, cv= 10)\n",
    "\n",
    "cv.fit(X_train, y_train)"
   ]
  },
  {
   "cell_type": "code",
   "execution_count": 139,
   "metadata": {},
   "outputs": [
    {
     "data": {
      "text/plain": [
       "{'max_depth': 3}"
      ]
     },
     "execution_count": 139,
     "metadata": {},
     "output_type": "execute_result"
    }
   ],
   "source": [
    "cv.best_params_"
   ]
  },
  {
   "cell_type": "code",
   "execution_count": 141,
   "metadata": {},
   "outputs": [
    {
     "data": {
      "text/plain": [
       "DecisionTreeClassifier(ccp_alpha=0.0, class_weight=None, criterion='gini',\n",
       "                       max_depth=3, max_features=None, max_leaf_nodes=None,\n",
       "                       min_impurity_decrease=0.0, min_impurity_split=None,\n",
       "                       min_samples_leaf=1, min_samples_split=2,\n",
       "                       min_weight_fraction_leaf=0.0, presort='deprecated',\n",
       "                       random_state=None, splitter='best')"
      ]
     },
     "execution_count": 141,
     "metadata": {},
     "output_type": "execute_result"
    }
   ],
   "source": [
    "cv.best_estimator_"
   ]
  },
  {
   "cell_type": "code",
   "execution_count": 142,
   "metadata": {},
   "outputs": [
    {
     "data": {
      "text/plain": [
       "array([1, 2, 2, 1, 0, 1, 1, 0, 0, 1, 2, 0, 1, 2, 2, 2, 0, 0, 1, 0, 0, 1,\n",
       "       0, 2, 0, 0, 0, 2, 2, 0, 2, 1, 0, 0, 1, 1, 2, 0, 0, 1, 1, 0, 2, 2,\n",
       "       2])"
      ]
     },
     "execution_count": 142,
     "metadata": {},
     "output_type": "execute_result"
    }
   ],
   "source": [
    "y_pred = cv.predict(X_test)\n",
    "y_pred"
   ]
  },
  {
   "cell_type": "code",
   "execution_count": 143,
   "metadata": {},
   "outputs": [],
   "source": [
    "from sklearn.datasets import load_iris\n",
    "\n",
    "iris = load_iris()\n",
    "\n",
    "data = iris.data\n",
    "\n",
    "X = data[:100, [0, 2]]"
   ]
  },
  {
   "cell_type": "code",
   "execution_count": 163,
   "metadata": {},
   "outputs": [
    {
     "data": {
      "text/html": [
       "<div>\n",
       "<style scoped>\n",
       "    .dataframe tbody tr th:only-of-type {\n",
       "        vertical-align: middle;\n",
       "    }\n",
       "\n",
       "    .dataframe tbody tr th {\n",
       "        vertical-align: top;\n",
       "    }\n",
       "\n",
       "    .dataframe thead th {\n",
       "        text-align: right;\n",
       "    }\n",
       "</style>\n",
       "<table border=\"1\" class=\"dataframe\">\n",
       "  <thead>\n",
       "    <tr style=\"text-align: right;\">\n",
       "      <th></th>\n",
       "      <th>sepal length</th>\n",
       "      <th>sepal width</th>\n",
       "      <th>petal length</th>\n",
       "      <th>petal width</th>\n",
       "    </tr>\n",
       "  </thead>\n",
       "  <tbody>\n",
       "    <tr>\n",
       "      <th>0</th>\n",
       "      <td>5.1</td>\n",
       "      <td>3.5</td>\n",
       "      <td>1.4</td>\n",
       "      <td>0.2</td>\n",
       "    </tr>\n",
       "    <tr>\n",
       "      <th>0</th>\n",
       "      <td>4.9</td>\n",
       "      <td>3.0</td>\n",
       "      <td>1.4</td>\n",
       "      <td>0.2</td>\n",
       "    </tr>\n",
       "    <tr>\n",
       "      <th>0</th>\n",
       "      <td>4.7</td>\n",
       "      <td>3.2</td>\n",
       "      <td>1.3</td>\n",
       "      <td>0.2</td>\n",
       "    </tr>\n",
       "    <tr>\n",
       "      <th>0</th>\n",
       "      <td>4.6</td>\n",
       "      <td>3.1</td>\n",
       "      <td>1.5</td>\n",
       "      <td>0.2</td>\n",
       "    </tr>\n",
       "    <tr>\n",
       "      <th>0</th>\n",
       "      <td>5.0</td>\n",
       "      <td>3.6</td>\n",
       "      <td>1.4</td>\n",
       "      <td>0.2</td>\n",
       "    </tr>\n",
       "    <tr>\n",
       "      <th>...</th>\n",
       "      <td>...</td>\n",
       "      <td>...</td>\n",
       "      <td>...</td>\n",
       "      <td>...</td>\n",
       "    </tr>\n",
       "    <tr>\n",
       "      <th>2</th>\n",
       "      <td>6.7</td>\n",
       "      <td>3.0</td>\n",
       "      <td>5.2</td>\n",
       "      <td>2.3</td>\n",
       "    </tr>\n",
       "    <tr>\n",
       "      <th>2</th>\n",
       "      <td>6.3</td>\n",
       "      <td>2.5</td>\n",
       "      <td>5.0</td>\n",
       "      <td>1.9</td>\n",
       "    </tr>\n",
       "    <tr>\n",
       "      <th>2</th>\n",
       "      <td>6.5</td>\n",
       "      <td>3.0</td>\n",
       "      <td>5.2</td>\n",
       "      <td>2.0</td>\n",
       "    </tr>\n",
       "    <tr>\n",
       "      <th>2</th>\n",
       "      <td>6.2</td>\n",
       "      <td>3.4</td>\n",
       "      <td>5.4</td>\n",
       "      <td>2.3</td>\n",
       "    </tr>\n",
       "    <tr>\n",
       "      <th>2</th>\n",
       "      <td>5.9</td>\n",
       "      <td>3.0</td>\n",
       "      <td>5.1</td>\n",
       "      <td>1.8</td>\n",
       "    </tr>\n",
       "  </tbody>\n",
       "</table>\n",
       "<p>150 rows × 4 columns</p>\n",
       "</div>"
      ],
      "text/plain": [
       "    sepal length  sepal width  petal length  petal width\n",
       "0            5.1          3.5           1.4          0.2\n",
       "0            4.9          3.0           1.4          0.2\n",
       "0            4.7          3.2           1.3          0.2\n",
       "0            4.6          3.1           1.5          0.2\n",
       "0            5.0          3.6           1.4          0.2\n",
       "..           ...          ...           ...          ...\n",
       "2            6.7          3.0           5.2          2.3\n",
       "2            6.3          2.5           5.0          1.9\n",
       "2            6.5          3.0           5.2          2.0\n",
       "2            6.2          3.4           5.4          2.3\n",
       "2            5.9          3.0           5.1          1.8\n",
       "\n",
       "[150 rows x 4 columns]"
      ]
     },
     "execution_count": 163,
     "metadata": {},
     "output_type": "execute_result"
    }
   ],
   "source": [
    "# 自分で可視化して見やすくする工夫も重要である\n",
    "\n",
    "df = pd.DataFrame(iris.data, iris.target, columns = ['sepal length', 'sepal width', 'petal length', 'petal width'])\n",
    "df"
   ]
  },
  {
   "cell_type": "code",
   "execution_count": 145,
   "metadata": {},
   "outputs": [
    {
     "data": {
      "text/plain": [
       "array([[5.1, 3.5, 1.4, 0.2],\n",
       "       [4.9, 3. , 1.4, 0.2],\n",
       "       [4.7, 3.2, 1.3, 0.2],\n",
       "       [4.6, 3.1, 1.5, 0.2],\n",
       "       [5. , 3.6, 1.4, 0.2],\n",
       "       [5.4, 3.9, 1.7, 0.4],\n",
       "       [4.6, 3.4, 1.4, 0.3],\n",
       "       [5. , 3.4, 1.5, 0.2],\n",
       "       [4.4, 2.9, 1.4, 0.2],\n",
       "       [4.9, 3.1, 1.5, 0.1],\n",
       "       [5.4, 3.7, 1.5, 0.2],\n",
       "       [4.8, 3.4, 1.6, 0.2],\n",
       "       [4.8, 3. , 1.4, 0.1],\n",
       "       [4.3, 3. , 1.1, 0.1],\n",
       "       [5.8, 4. , 1.2, 0.2],\n",
       "       [5.7, 4.4, 1.5, 0.4],\n",
       "       [5.4, 3.9, 1.3, 0.4],\n",
       "       [5.1, 3.5, 1.4, 0.3],\n",
       "       [5.7, 3.8, 1.7, 0.3],\n",
       "       [5.1, 3.8, 1.5, 0.3],\n",
       "       [5.4, 3.4, 1.7, 0.2],\n",
       "       [5.1, 3.7, 1.5, 0.4],\n",
       "       [4.6, 3.6, 1. , 0.2],\n",
       "       [5.1, 3.3, 1.7, 0.5],\n",
       "       [4.8, 3.4, 1.9, 0.2],\n",
       "       [5. , 3. , 1.6, 0.2],\n",
       "       [5. , 3.4, 1.6, 0.4],\n",
       "       [5.2, 3.5, 1.5, 0.2],\n",
       "       [5.2, 3.4, 1.4, 0.2],\n",
       "       [4.7, 3.2, 1.6, 0.2],\n",
       "       [4.8, 3.1, 1.6, 0.2],\n",
       "       [5.4, 3.4, 1.5, 0.4],\n",
       "       [5.2, 4.1, 1.5, 0.1],\n",
       "       [5.5, 4.2, 1.4, 0.2],\n",
       "       [4.9, 3.1, 1.5, 0.2],\n",
       "       [5. , 3.2, 1.2, 0.2],\n",
       "       [5.5, 3.5, 1.3, 0.2],\n",
       "       [4.9, 3.6, 1.4, 0.1],\n",
       "       [4.4, 3. , 1.3, 0.2],\n",
       "       [5.1, 3.4, 1.5, 0.2],\n",
       "       [5. , 3.5, 1.3, 0.3],\n",
       "       [4.5, 2.3, 1.3, 0.3],\n",
       "       [4.4, 3.2, 1.3, 0.2],\n",
       "       [5. , 3.5, 1.6, 0.6],\n",
       "       [5.1, 3.8, 1.9, 0.4],\n",
       "       [4.8, 3. , 1.4, 0.3],\n",
       "       [5.1, 3.8, 1.6, 0.2],\n",
       "       [4.6, 3.2, 1.4, 0.2],\n",
       "       [5.3, 3.7, 1.5, 0.2],\n",
       "       [5. , 3.3, 1.4, 0.2],\n",
       "       [7. , 3.2, 4.7, 1.4],\n",
       "       [6.4, 3.2, 4.5, 1.5],\n",
       "       [6.9, 3.1, 4.9, 1.5],\n",
       "       [5.5, 2.3, 4. , 1.3],\n",
       "       [6.5, 2.8, 4.6, 1.5],\n",
       "       [5.7, 2.8, 4.5, 1.3],\n",
       "       [6.3, 3.3, 4.7, 1.6],\n",
       "       [4.9, 2.4, 3.3, 1. ],\n",
       "       [6.6, 2.9, 4.6, 1.3],\n",
       "       [5.2, 2.7, 3.9, 1.4],\n",
       "       [5. , 2. , 3.5, 1. ],\n",
       "       [5.9, 3. , 4.2, 1.5],\n",
       "       [6. , 2.2, 4. , 1. ],\n",
       "       [6.1, 2.9, 4.7, 1.4],\n",
       "       [5.6, 2.9, 3.6, 1.3],\n",
       "       [6.7, 3.1, 4.4, 1.4],\n",
       "       [5.6, 3. , 4.5, 1.5],\n",
       "       [5.8, 2.7, 4.1, 1. ],\n",
       "       [6.2, 2.2, 4.5, 1.5],\n",
       "       [5.6, 2.5, 3.9, 1.1],\n",
       "       [5.9, 3.2, 4.8, 1.8],\n",
       "       [6.1, 2.8, 4. , 1.3],\n",
       "       [6.3, 2.5, 4.9, 1.5],\n",
       "       [6.1, 2.8, 4.7, 1.2],\n",
       "       [6.4, 2.9, 4.3, 1.3],\n",
       "       [6.6, 3. , 4.4, 1.4],\n",
       "       [6.8, 2.8, 4.8, 1.4],\n",
       "       [6.7, 3. , 5. , 1.7],\n",
       "       [6. , 2.9, 4.5, 1.5],\n",
       "       [5.7, 2.6, 3.5, 1. ],\n",
       "       [5.5, 2.4, 3.8, 1.1],\n",
       "       [5.5, 2.4, 3.7, 1. ],\n",
       "       [5.8, 2.7, 3.9, 1.2],\n",
       "       [6. , 2.7, 5.1, 1.6],\n",
       "       [5.4, 3. , 4.5, 1.5],\n",
       "       [6. , 3.4, 4.5, 1.6],\n",
       "       [6.7, 3.1, 4.7, 1.5],\n",
       "       [6.3, 2.3, 4.4, 1.3],\n",
       "       [5.6, 3. , 4.1, 1.3],\n",
       "       [5.5, 2.5, 4. , 1.3],\n",
       "       [5.5, 2.6, 4.4, 1.2],\n",
       "       [6.1, 3. , 4.6, 1.4],\n",
       "       [5.8, 2.6, 4. , 1.2],\n",
       "       [5. , 2.3, 3.3, 1. ],\n",
       "       [5.6, 2.7, 4.2, 1.3],\n",
       "       [5.7, 3. , 4.2, 1.2],\n",
       "       [5.7, 2.9, 4.2, 1.3],\n",
       "       [6.2, 2.9, 4.3, 1.3],\n",
       "       [5.1, 2.5, 3. , 1.1],\n",
       "       [5.7, 2.8, 4.1, 1.3],\n",
       "       [6.3, 3.3, 6. , 2.5],\n",
       "       [5.8, 2.7, 5.1, 1.9],\n",
       "       [7.1, 3. , 5.9, 2.1],\n",
       "       [6.3, 2.9, 5.6, 1.8],\n",
       "       [6.5, 3. , 5.8, 2.2],\n",
       "       [7.6, 3. , 6.6, 2.1],\n",
       "       [4.9, 2.5, 4.5, 1.7],\n",
       "       [7.3, 2.9, 6.3, 1.8],\n",
       "       [6.7, 2.5, 5.8, 1.8],\n",
       "       [7.2, 3.6, 6.1, 2.5],\n",
       "       [6.5, 3.2, 5.1, 2. ],\n",
       "       [6.4, 2.7, 5.3, 1.9],\n",
       "       [6.8, 3. , 5.5, 2.1],\n",
       "       [5.7, 2.5, 5. , 2. ],\n",
       "       [5.8, 2.8, 5.1, 2.4],\n",
       "       [6.4, 3.2, 5.3, 2.3],\n",
       "       [6.5, 3. , 5.5, 1.8],\n",
       "       [7.7, 3.8, 6.7, 2.2],\n",
       "       [7.7, 2.6, 6.9, 2.3],\n",
       "       [6. , 2.2, 5. , 1.5],\n",
       "       [6.9, 3.2, 5.7, 2.3],\n",
       "       [5.6, 2.8, 4.9, 2. ],\n",
       "       [7.7, 2.8, 6.7, 2. ],\n",
       "       [6.3, 2.7, 4.9, 1.8],\n",
       "       [6.7, 3.3, 5.7, 2.1],\n",
       "       [7.2, 3.2, 6. , 1.8],\n",
       "       [6.2, 2.8, 4.8, 1.8],\n",
       "       [6.1, 3. , 4.9, 1.8],\n",
       "       [6.4, 2.8, 5.6, 2.1],\n",
       "       [7.2, 3. , 5.8, 1.6],\n",
       "       [7.4, 2.8, 6.1, 1.9],\n",
       "       [7.9, 3.8, 6.4, 2. ],\n",
       "       [6.4, 2.8, 5.6, 2.2],\n",
       "       [6.3, 2.8, 5.1, 1.5],\n",
       "       [6.1, 2.6, 5.6, 1.4],\n",
       "       [7.7, 3. , 6.1, 2.3],\n",
       "       [6.3, 3.4, 5.6, 2.4],\n",
       "       [6.4, 3.1, 5.5, 1.8],\n",
       "       [6. , 3. , 4.8, 1.8],\n",
       "       [6.9, 3.1, 5.4, 2.1],\n",
       "       [6.7, 3.1, 5.6, 2.4],\n",
       "       [6.9, 3.1, 5.1, 2.3],\n",
       "       [5.8, 2.7, 5.1, 1.9],\n",
       "       [6.8, 3.2, 5.9, 2.3],\n",
       "       [6.7, 3.3, 5.7, 2.5],\n",
       "       [6.7, 3. , 5.2, 2.3],\n",
       "       [6.3, 2.5, 5. , 1.9],\n",
       "       [6.5, 3. , 5.2, 2. ],\n",
       "       [6.2, 3.4, 5.4, 2.3],\n",
       "       [5.9, 3. , 5.1, 1.8]])"
      ]
     },
     "execution_count": 145,
     "metadata": {},
     "output_type": "execute_result"
    }
   ],
   "source": [
    "data"
   ]
  },
  {
   "cell_type": "code",
   "execution_count": 144,
   "metadata": {},
   "outputs": [
    {
     "data": {
      "text/plain": [
       "array([[5.1, 1.4],\n",
       "       [4.9, 1.4],\n",
       "       [4.7, 1.3],\n",
       "       [4.6, 1.5],\n",
       "       [5. , 1.4],\n",
       "       [5.4, 1.7],\n",
       "       [4.6, 1.4],\n",
       "       [5. , 1.5],\n",
       "       [4.4, 1.4],\n",
       "       [4.9, 1.5]])"
      ]
     },
     "execution_count": 144,
     "metadata": {},
     "output_type": "execute_result"
    }
   ],
   "source": [
    "# 今どのデータを扱っているかを明確にするのは最重要\n",
    "\n",
    "data[:10, [0, 2]]"
   ]
  },
  {
   "cell_type": "code",
   "execution_count": 164,
   "metadata": {},
   "outputs": [
    {
     "data": {
      "text/html": [
       "<div>\n",
       "<style scoped>\n",
       "    .dataframe tbody tr th:only-of-type {\n",
       "        vertical-align: middle;\n",
       "    }\n",
       "\n",
       "    .dataframe tbody tr th {\n",
       "        vertical-align: top;\n",
       "    }\n",
       "\n",
       "    .dataframe thead th {\n",
       "        text-align: right;\n",
       "    }\n",
       "</style>\n",
       "<table border=\"1\" class=\"dataframe\">\n",
       "  <thead>\n",
       "    <tr style=\"text-align: right;\">\n",
       "      <th></th>\n",
       "      <th>sepal length</th>\n",
       "      <th>petal length</th>\n",
       "    </tr>\n",
       "  </thead>\n",
       "  <tbody>\n",
       "    <tr>\n",
       "      <th>0</th>\n",
       "      <td>5.1</td>\n",
       "      <td>1.4</td>\n",
       "    </tr>\n",
       "    <tr>\n",
       "      <th>1</th>\n",
       "      <td>4.9</td>\n",
       "      <td>1.4</td>\n",
       "    </tr>\n",
       "    <tr>\n",
       "      <th>2</th>\n",
       "      <td>4.7</td>\n",
       "      <td>1.3</td>\n",
       "    </tr>\n",
       "    <tr>\n",
       "      <th>3</th>\n",
       "      <td>4.6</td>\n",
       "      <td>1.5</td>\n",
       "    </tr>\n",
       "    <tr>\n",
       "      <th>4</th>\n",
       "      <td>5.0</td>\n",
       "      <td>1.4</td>\n",
       "    </tr>\n",
       "    <tr>\n",
       "      <th>...</th>\n",
       "      <td>...</td>\n",
       "      <td>...</td>\n",
       "    </tr>\n",
       "    <tr>\n",
       "      <th>95</th>\n",
       "      <td>5.7</td>\n",
       "      <td>4.2</td>\n",
       "    </tr>\n",
       "    <tr>\n",
       "      <th>96</th>\n",
       "      <td>5.7</td>\n",
       "      <td>4.2</td>\n",
       "    </tr>\n",
       "    <tr>\n",
       "      <th>97</th>\n",
       "      <td>6.2</td>\n",
       "      <td>4.3</td>\n",
       "    </tr>\n",
       "    <tr>\n",
       "      <th>98</th>\n",
       "      <td>5.1</td>\n",
       "      <td>3.0</td>\n",
       "    </tr>\n",
       "    <tr>\n",
       "      <th>99</th>\n",
       "      <td>5.7</td>\n",
       "      <td>4.1</td>\n",
       "    </tr>\n",
       "  </tbody>\n",
       "</table>\n",
       "<p>100 rows × 2 columns</p>\n",
       "</div>"
      ],
      "text/plain": [
       "    sepal length  petal length\n",
       "0            5.1           1.4\n",
       "1            4.9           1.4\n",
       "2            4.7           1.3\n",
       "3            4.6           1.5\n",
       "4            5.0           1.4\n",
       "..           ...           ...\n",
       "95           5.7           4.2\n",
       "96           5.7           4.2\n",
       "97           6.2           4.3\n",
       "98           5.1           3.0\n",
       "99           5.7           4.1\n",
       "\n",
       "[100 rows x 2 columns]"
      ]
     },
     "execution_count": 164,
     "metadata": {},
     "output_type": "execute_result"
    }
   ],
   "source": [
    "dfX = pd.DataFrame(X , columns = ['sepal length', 'petal length'])\n",
    "dfX"
   ]
  },
  {
   "cell_type": "code",
   "execution_count": 146,
   "metadata": {},
   "outputs": [
    {
     "data": {
      "image/png": "[encoded data removed]",
      "text/plain": [
       "<Figure size 432x288 with 1 Axes>"
      ]
     },
     "metadata": {
      "needs_background": "light"
     },
     "output_type": "display_data"
    }
   ],
   "source": [
    "import matplotlib.pyplot as plt\n",
    "\n",
    "fig, ax = plt.subplots()\n",
    "\n",
    "# さっき抽出した2つのものが、Xの中では0,1になる\n",
    "\n",
    "ax.scatter(X[:, 0], X[:, 1])\n",
    "ax.set_xlabel('Sepal Width')\n",
    "ax.set_ylabel('Petal Width')\n",
    "\n",
    "plt.show()"
   ]
  },
  {
   "cell_type": "code",
   "execution_count": 149,
   "metadata": {},
   "outputs": [],
   "source": [
    "from sklearn.cluster import KMeans\n",
    "\n",
    "#n_clustersは複数形であることに注意\n",
    "km = KMeans(n_clusters = 3, init = 'random', n_init= 10, random_state = 123)\n",
    "\n",
    "# fitとpredictが合体している\n",
    "y_km = km.fit_predict(X)"
   ]
  },
  {
   "cell_type": "code",
   "execution_count": 166,
   "metadata": {},
   "outputs": [
    {
     "data": {
      "text/plain": [
       "array([0, 0, 0, 0, 0, 0, 0, 0, 0, 0, 0, 0, 0, 0, 0, 0, 0, 0, 0, 0, 0, 0,\n",
       "       0, 0, 0, 0, 0, 0, 0, 0, 0, 0, 0, 0, 0, 0, 0, 0, 0, 0, 0, 0, 0, 0,\n",
       "       0, 0, 0, 0, 0, 0, 2, 2, 2, 1, 2, 1, 2, 1, 2, 1, 1, 1, 1, 2, 1, 2,\n",
       "       1, 1, 2, 1, 2, 1, 2, 2, 2, 2, 2, 2, 2, 1, 1, 1, 1, 2, 1, 2, 2, 2,\n",
       "       1, 1, 1, 2, 1, 1, 1, 1, 1, 2, 1, 1])"
      ]
     },
     "execution_count": 166,
     "metadata": {},
     "output_type": "execute_result"
    }
   ],
   "source": [
    "y_km"
   ]
  },
  {
   "cell_type": "code",
   "execution_count": 189,
   "metadata": {},
   "outputs": [
    {
     "data": {
      "image/png": "[encoded data removed]",
      "text/plain": [
       "<Figure size 432x288 with 1 Axes>"
      ]
     },
     "metadata": {
      "needs_background": "light"
     },
     "output_type": "display_data"
    }
   ],
   "source": [
    "import numpy as np\n",
    "\n",
    "fig, ax = plt.subplots()\n",
    "\n",
    "# 0に分類されたXの1列目（sepal length)と2列目（petal length)　でプロットを作成する\n",
    "\n",
    "# 行（クラスタされた花の種類）が y_km ==0 で　列が0、　行が y_km == 0で　列が1　の2つをプロットするだけ\n",
    "#（つまりa,bの2変数についてプロットするようなもの)\n",
    "\n",
    "ax.scatter(X[y_km == 0, 0], X[y_km == 0, 1], s = 50, edgecolor = 'black', marker = 's', label = 'cluster 1')\n",
    "\n",
    "ax.scatter(X[y_km == 1, 0], X[y_km == 1, 1], s = 50, edgecolor = 'black', marker = 'o', label = 'cluster 2')\n",
    "\n",
    "ax.scatter(X[y_km == 2, 0], X[y_km == 2, 1], s = 50, edgecolor = 'black', marker = 'v', label = 'cluster 3')\n",
    "\n",
    "# 各クラスタの中心のプロットを作成する\n",
    "ax.plot(np.mean(X[y_km == 0, 0]), np.mean(X[y_km == 0, 1]), marker ='x', markersize = 10, color = 'red')\n",
    "\n",
    "ax.plot(np.mean(X[y_km == 1, 0]), np.mean(X[y_km == 1, 1]), marker = 'x', markersize = 10, color ='red')\n",
    "\n",
    "ax.plot(np.mean(X[y_km == 2, 0]), np.mean(X[y_km == 2, 1]), marker = 'x', markersize = 10, color = 'red')\n",
    "\n",
    "ax.set_xlabel('Sepal Width')\n",
    "ax.set_ylabel('Petal Width')\n",
    "\n",
    "ax.legend()\n",
    "plt.show()"
   ]
  },
  {
   "cell_type": "code",
   "execution_count": 165,
   "metadata": {},
   "outputs": [
    {
     "data": {
      "text/html": [
       "<div>\n",
       "<style scoped>\n",
       "    .dataframe tbody tr th:only-of-type {\n",
       "        vertical-align: middle;\n",
       "    }\n",
       "\n",
       "    .dataframe tbody tr th {\n",
       "        vertical-align: top;\n",
       "    }\n",
       "\n",
       "    .dataframe thead th {\n",
       "        text-align: right;\n",
       "    }\n",
       "</style>\n",
       "<table border=\"1\" class=\"dataframe\">\n",
       "  <thead>\n",
       "    <tr style=\"text-align: right;\">\n",
       "      <th></th>\n",
       "      <th>sepal length</th>\n",
       "      <th>petal length</th>\n",
       "    </tr>\n",
       "  </thead>\n",
       "  <tbody>\n",
       "    <tr>\n",
       "      <th>0</th>\n",
       "      <td>5.1</td>\n",
       "      <td>1.4</td>\n",
       "    </tr>\n",
       "    <tr>\n",
       "      <th>1</th>\n",
       "      <td>4.9</td>\n",
       "      <td>1.4</td>\n",
       "    </tr>\n",
       "    <tr>\n",
       "      <th>2</th>\n",
       "      <td>4.7</td>\n",
       "      <td>1.3</td>\n",
       "    </tr>\n",
       "    <tr>\n",
       "      <th>3</th>\n",
       "      <td>4.6</td>\n",
       "      <td>1.5</td>\n",
       "    </tr>\n",
       "    <tr>\n",
       "      <th>4</th>\n",
       "      <td>5.0</td>\n",
       "      <td>1.4</td>\n",
       "    </tr>\n",
       "    <tr>\n",
       "      <th>...</th>\n",
       "      <td>...</td>\n",
       "      <td>...</td>\n",
       "    </tr>\n",
       "    <tr>\n",
       "      <th>95</th>\n",
       "      <td>5.7</td>\n",
       "      <td>4.2</td>\n",
       "    </tr>\n",
       "    <tr>\n",
       "      <th>96</th>\n",
       "      <td>5.7</td>\n",
       "      <td>4.2</td>\n",
       "    </tr>\n",
       "    <tr>\n",
       "      <th>97</th>\n",
       "      <td>6.2</td>\n",
       "      <td>4.3</td>\n",
       "    </tr>\n",
       "    <tr>\n",
       "      <th>98</th>\n",
       "      <td>5.1</td>\n",
       "      <td>3.0</td>\n",
       "    </tr>\n",
       "    <tr>\n",
       "      <th>99</th>\n",
       "      <td>5.7</td>\n",
       "      <td>4.1</td>\n",
       "    </tr>\n",
       "  </tbody>\n",
       "</table>\n",
       "<p>100 rows × 2 columns</p>\n",
       "</div>"
      ],
      "text/plain": [
       "    sepal length  petal length\n",
       "0            5.1           1.4\n",
       "1            4.9           1.4\n",
       "2            4.7           1.3\n",
       "3            4.6           1.5\n",
       "4            5.0           1.4\n",
       "..           ...           ...\n",
       "95           5.7           4.2\n",
       "96           5.7           4.2\n",
       "97           6.2           4.3\n",
       "98           5.1           3.0\n",
       "99           5.7           4.1\n",
       "\n",
       "[100 rows x 2 columns]"
      ]
     },
     "execution_count": 165,
     "metadata": {},
     "output_type": "execute_result"
    }
   ],
   "source": [
    "dfX"
   ]
  },
  {
   "cell_type": "code",
   "execution_count": 190,
   "metadata": {},
   "outputs": [
    {
     "data": {
      "text/plain": [
       "array([[5.5, 4. ],\n",
       "       [5.7, 4.5],\n",
       "       [4.9, 3.3],\n",
       "       [5.2, 3.9],\n",
       "       [5. , 3.5],\n",
       "       [5.9, 4.2],\n",
       "       [6. , 4. ],\n",
       "       [5.6, 3.6],\n",
       "       [5.6, 4.5],\n",
       "       [5.8, 4.1],\n",
       "       [5.6, 3.9],\n",
       "       [6.1, 4. ],\n",
       "       [5.7, 3.5],\n",
       "       [5.5, 3.8],\n",
       "       [5.5, 3.7],\n",
       "       [5.8, 3.9],\n",
       "       [5.4, 4.5],\n",
       "       [5.6, 4.1],\n",
       "       [5.5, 4. ],\n",
       "       [5.5, 4.4],\n",
       "       [5.8, 4. ],\n",
       "       [5. , 3.3],\n",
       "       [5.6, 4.2],\n",
       "       [5.7, 4.2],\n",
       "       [5.7, 4.2],\n",
       "       [5.1, 3. ],\n",
       "       [5.7, 4.1]])"
      ]
     },
     "execution_count": 190,
     "metadata": {},
     "output_type": "execute_result"
    }
   ],
   "source": [
    "X[y_km == 1]"
   ]
  },
  {
   "cell_type": "code",
   "execution_count": 175,
   "metadata": {},
   "outputs": [
    {
     "data": {
      "text/plain": [
       "array([5.5, 5.7, 4.9, 5.2, 5. , 5.9, 6. , 5.6, 5.6, 5.8, 5.6, 6.1, 5.7,\n",
       "       5.5, 5.5, 5.8, 5.4, 5.6, 5.5, 5.5, 5.8, 5. , 5.6, 5.7, 5.7, 5.1,\n",
       "       5.7])"
      ]
     },
     "execution_count": 175,
     "metadata": {},
     "output_type": "execute_result"
    }
   ],
   "source": [
    "X[y_km == 1 , 0]"
   ]
  },
  {
   "cell_type": "code",
   "execution_count": 179,
   "metadata": {},
   "outputs": [
    {
     "data": {
      "text/plain": [
       "array([4. , 4.5, 3.3, 3.9, 3.5, 4.2, 4. , 3.6, 4.5, 4.1, 3.9, 4. , 3.5,\n",
       "       3.8, 3.7, 3.9, 4.5, 4.1, 4. , 4.4, 4. , 3.3, 4.2, 4.2, 4.2, 3. ,\n",
       "       4.1])"
      ]
     },
     "execution_count": 179,
     "metadata": {},
     "output_type": "execute_result"
    }
   ],
   "source": [
    "X[y_km == 1, 1]"
   ]
  },
  {
   "cell_type": "code",
   "execution_count": 181,
   "metadata": {},
   "outputs": [
    {
     "data": {
      "text/plain": [
       "array([[5.1, 1.4],\n",
       "       [4.9, 1.4],\n",
       "       [4.7, 1.3],\n",
       "       [4.6, 1.5],\n",
       "       [5. , 1.4],\n",
       "       [5.4, 1.7],\n",
       "       [4.6, 1.4],\n",
       "       [5. , 1.5],\n",
       "       [4.4, 1.4],\n",
       "       [4.9, 1.5],\n",
       "       [5.4, 1.5],\n",
       "       [4.8, 1.6],\n",
       "       [4.8, 1.4],\n",
       "       [4.3, 1.1],\n",
       "       [5.8, 1.2],\n",
       "       [5.7, 1.5],\n",
       "       [5.4, 1.3],\n",
       "       [5.1, 1.4],\n",
       "       [5.7, 1.7],\n",
       "       [5.1, 1.5],\n",
       "       [5.4, 1.7],\n",
       "       [5.1, 1.5],\n",
       "       [4.6, 1. ],\n",
       "       [5.1, 1.7],\n",
       "       [4.8, 1.9],\n",
       "       [5. , 1.6],\n",
       "       [5. , 1.6],\n",
       "       [5.2, 1.5],\n",
       "       [5.2, 1.4],\n",
       "       [4.7, 1.6],\n",
       "       [4.8, 1.6],\n",
       "       [5.4, 1.5],\n",
       "       [5.2, 1.5],\n",
       "       [5.5, 1.4],\n",
       "       [4.9, 1.5],\n",
       "       [5. , 1.2],\n",
       "       [5.5, 1.3],\n",
       "       [4.9, 1.4],\n",
       "       [4.4, 1.3],\n",
       "       [5.1, 1.5],\n",
       "       [5. , 1.3],\n",
       "       [4.5, 1.3],\n",
       "       [4.4, 1.3],\n",
       "       [5. , 1.6],\n",
       "       [5.1, 1.9],\n",
       "       [4.8, 1.4],\n",
       "       [5.1, 1.6],\n",
       "       [4.6, 1.4],\n",
       "       [5.3, 1.5],\n",
       "       [5. , 1.4]])"
      ]
     },
     "execution_count": 181,
     "metadata": {},
     "output_type": "execute_result"
    }
   ],
   "source": [
    "X[y_km == 0]"
   ]
  },
  {
   "cell_type": "code",
   "execution_count": 168,
   "metadata": {},
   "outputs": [
    {
     "data": {
      "text/plain": [
       "array([1.4, 1.4, 1.3, 1.5, 1.4, 1.7, 1.4, 1.5, 1.4, 1.5, 1.5, 1.6, 1.4,\n",
       "       1.1, 1.2, 1.5, 1.3, 1.4, 1.7, 1.5, 1.7, 1.5, 1. , 1.7, 1.9, 1.6,\n",
       "       1.6, 1.5, 1.4, 1.6, 1.6, 1.5, 1.5, 1.4, 1.5, 1.2, 1.3, 1.4, 1.3,\n",
       "       1.5, 1.3, 1.3, 1.3, 1.6, 1.9, 1.4, 1.6, 1.4, 1.5, 1.4])"
      ]
     },
     "execution_count": 168,
     "metadata": {},
     "output_type": "execute_result"
    }
   ],
   "source": [
    "X[y_km == 0, 1]"
   ]
  },
  {
   "cell_type": "code",
   "execution_count": 180,
   "metadata": {},
   "outputs": [
    {
     "data": {
      "text/plain": [
       "array([5.1, 4.9, 4.7, 4.6, 5. , 5.4, 4.6, 5. , 4.4, 4.9, 5.4, 4.8, 4.8,\n",
       "       4.3, 5.8, 5.7, 5.4, 5.1, 5.7, 5.1, 5.4, 5.1, 4.6, 5.1, 4.8, 5. ,\n",
       "       5. , 5.2, 5.2, 4.7, 4.8, 5.4, 5.2, 5.5, 4.9, 5. , 5.5, 4.9, 4.4,\n",
       "       5.1, 5. , 4.5, 4.4, 5. , 5.1, 4.8, 5.1, 4.6, 5.3, 5. ])"
      ]
     },
     "execution_count": 180,
     "metadata": {},
     "output_type": "execute_result"
    }
   ],
   "source": [
    "X[y_km == 0, 0]"
   ]
  },
  {
   "cell_type": "code",
   "execution_count": 170,
   "metadata": {},
   "outputs": [
    {
     "data": {
      "text/plain": [
       "array([4. , 4.5, 3.3, 3.9, 3.5, 4.2, 4. , 3.6, 4.5, 4.1, 3.9, 4. , 3.5,\n",
       "       3.8, 3.7, 3.9, 4.5, 4.1, 4. , 4.4, 4. , 3.3, 4.2, 4.2, 4.2, 3. ,\n",
       "       4.1])"
      ]
     },
     "execution_count": 170,
     "metadata": {},
     "output_type": "execute_result"
    }
   ],
   "source": [
    "X[y_km == 1, 1]"
   ]
  },
  {
   "cell_type": "code",
   "execution_count": 193,
   "metadata": {},
   "outputs": [
    {
     "data": {
      "text/plain": [
       "array([1, 1, 1, 1, 1, 1, 1, 1, 1, 1, 1, 1, 1, 1, 1, 1, 1, 1, 1, 1, 1, 1,\n",
       "       1, 1, 1, 1, 1, 1, 1, 1, 1, 1, 1, 1, 1, 1, 1, 1, 1, 1, 1, 1, 1, 1,\n",
       "       1, 1, 1, 1, 1, 1, 2, 2, 2, 0, 2, 0, 2, 0, 2, 0, 0, 0, 0, 2, 0, 2,\n",
       "       0, 0, 2, 0, 2, 0, 2, 2, 2, 2, 2, 2, 2, 0, 0, 0, 0, 2, 0, 2, 2, 2,\n",
       "       0, 0, 0, 2, 0, 0, 0, 0, 0, 2, 0, 0], dtype=int64)"
      ]
     },
     "execution_count": 193,
     "metadata": {},
     "output_type": "execute_result"
    }
   ],
   "source": [
    "# agglomerative：塊状の（クラスタを集めていくため）\n",
    "# 階層的クラスタリングのモジュールをインポート\n",
    "from sklearn.cluster import AgglomerativeClustering\n",
    "\n",
    "# インスタンスに作成\n",
    "ac = AgglomerativeClustering(n_clusters = 3, affinity = 'euclidean', linkage = 'complete')\n",
    "\n",
    "labels = ac.fit_predict(X)\n",
    "\n",
    "labels"
   ]
  },
  {
   "cell_type": "code",
   "execution_count": 206,
   "metadata": {},
   "outputs": [
    {
     "data": {
      "text/plain": [
       "array([[5.1, 1.4],\n",
       "       [4.9, 1.4],\n",
       "       [4.7, 1.3],\n",
       "       [4.6, 1.5],\n",
       "       [5. , 1.4],\n",
       "       [5.4, 1.7],\n",
       "       [4.6, 1.4],\n",
       "       [5. , 1.5],\n",
       "       [4.4, 1.4],\n",
       "       [4.9, 1.5],\n",
       "       [5.4, 1.5],\n",
       "       [4.8, 1.6],\n",
       "       [4.8, 1.4],\n",
       "       [4.3, 1.1],\n",
       "       [5.8, 1.2],\n",
       "       [5.7, 1.5],\n",
       "       [5.4, 1.3],\n",
       "       [5.1, 1.4],\n",
       "       [5.7, 1.7],\n",
       "       [5.1, 1.5],\n",
       "       [5.4, 1.7],\n",
       "       [5.1, 1.5],\n",
       "       [4.6, 1. ],\n",
       "       [5.1, 1.7],\n",
       "       [4.8, 1.9],\n",
       "       [5. , 1.6],\n",
       "       [5. , 1.6],\n",
       "       [5.2, 1.5],\n",
       "       [5.2, 1.4],\n",
       "       [4.7, 1.6]])"
      ]
     },
     "execution_count": 206,
     "metadata": {},
     "output_type": "execute_result"
    }
   ],
   "source": [
    "X[0:30]"
   ]
  },
  {
   "cell_type": "code",
   "execution_count": 195,
   "metadata": {},
   "outputs": [],
   "source": [
    "import numpy as np\n",
    "\n",
    "from scipy.cluster.hierarchy import dendrogram\n",
    "\n",
    "# 子クラスタとの関係を抽出\n",
    "children = ac.children_\n",
    "\n",
    "# クラスタ間の距離を抽出\n",
    "distance = np.arange(children.shape[0])\n",
    "\n",
    "# observations：観測\n",
    "# 各データのクラスタ番号\n",
    "no_of_observations = np.arange(2, children.shape[0]+2)"
   ]
  },
  {
   "cell_type": "code",
   "execution_count": 207,
   "metadata": {},
   "outputs": [
    {
     "data": {
      "text/plain": [
       "array([[  0,  17],\n",
       "       [  1,  37],\n",
       "       [ 12,  45],\n",
       "       [  4,  49],\n",
       "       [  6,  47],\n",
       "       [  5,  20],\n",
       "       [  9,  34],\n",
       "       [ 19,  21],\n",
       "       [ 39, 107],\n",
       "       [ 38,  42],\n",
       "       [ 10,  31],\n",
       "       [ 11,  30],\n",
       "       [ 27,  32],\n",
       "       [ 25,  26],\n",
       "       [ 43, 113],\n",
       "       [ 53,  89],\n",
       "       [ 95,  96],\n",
       "       [ 78,  85],\n",
       "       [ 63,  73],\n",
       "       [101, 103],\n",
       "       [  7, 106],\n",
       "       [ 41, 109],\n",
       "       [ 16,  36],\n",
       "       [ 48, 112],\n",
       "       [ 46, 114],\n",
       "       [ 29, 111],\n",
       "       [ 57,  93],\n",
       "       [ 80,  81],\n",
       "       [ 67,  99],\n",
       "       [ 62,  71],\n",
       "       [ 54,  58],\n",
       "       [  3, 104],\n",
       "       [100, 108],\n",
       "       [ 35,  40],\n",
       "       [ 82,  92],\n",
       "       [ 88,  94],\n",
       "       [ 55,  66],\n",
       "       [ 91, 118],\n",
       "       [ 65,  75],\n",
       "       [ 84,  90],\n",
       "       [ 68,  87],\n",
       "       [ 76,  86],\n",
       "       [  2, 102],\n",
       "       [  8, 121],\n",
       "       [ 33, 122],\n",
       "       [ 23, 124],\n",
       "       [ 28, 123],\n",
       "       [119, 120],\n",
       "       [ 69, 115],\n",
       "       [116, 128],\n",
       "       [ 64,  79],\n",
       "       [ 15,  18],\n",
       "       [105, 110],\n",
       "       [ 74,  97],\n",
       "       [ 51, 140],\n",
       "       [ 56,  72],\n",
       "       [132, 147],\n",
       "       [ 60, 126],\n",
       "       [117, 137],\n",
       "       [ 50,  52],\n",
       "       [131, 142],\n",
       "       [ 61, 149],\n",
       "       [130, 138],\n",
       "       [153, 154],\n",
       "       [ 24,  44],\n",
       "       [127, 148],\n",
       "       [136, 139],\n",
       "       [141, 159],\n",
       "       [ 70, 158],\n",
       "       [ 13,  22],\n",
       "       [125, 160],\n",
       "       [133, 156],\n",
       "       [129, 134],\n",
       "       [145, 146],\n",
       "       [135, 161],\n",
       "       [151, 152],\n",
       "       [ 59, 165],\n",
       "       [ 14, 144],\n",
       "       [ 77, 167],\n",
       "       [143, 169],\n",
       "       [ 83, 155],\n",
       "       [171, 173],\n",
       "       [ 98, 157],\n",
       "       [162, 163],\n",
       "       [172, 174],\n",
       "       [168, 180],\n",
       "       [175, 177],\n",
       "       [150, 176],\n",
       "       [170, 179],\n",
       "       [164, 181],\n",
       "       [166, 184],\n",
       "       [178, 183],\n",
       "       [187, 190],\n",
       "       [185, 191],\n",
       "       [188, 189],\n",
       "       [186, 194],\n",
       "       [182, 192],\n",
       "       [193, 196],\n",
       "       [195, 197]])"
      ]
     },
     "execution_count": 207,
     "metadata": {},
     "output_type": "execute_result"
    }
   ],
   "source": [
    "# pandasのheadよりも簡単にできる\n",
    "\n",
    "children"
   ]
  },
  {
   "cell_type": "code",
   "execution_count": 208,
   "metadata": {},
   "outputs": [
    {
     "data": {
      "text/plain": [
       "99"
      ]
     },
     "execution_count": 208,
     "metadata": {},
     "output_type": "execute_result"
    }
   ],
   "source": [
    "# 0なら行列数\n",
    "\n",
    "children.shape[0]"
   ]
  },
  {
   "cell_type": "code",
   "execution_count": 204,
   "metadata": {},
   "outputs": [
    {
     "data": {
      "text/plain": [
       "2"
      ]
     },
     "execution_count": 204,
     "metadata": {},
     "output_type": "execute_result"
    }
   ],
   "source": [
    "# 1なら列数\n",
    "\n",
    "children.shape[1]"
   ]
  },
  {
   "cell_type": "code",
   "execution_count": 199,
   "metadata": {},
   "outputs": [
    {
     "data": {
      "text/plain": [
       "array([  2,   3,   4,   5,   6,   7,   8,   9,  10,  11,  12,  13,  14,\n",
       "        15,  16,  17,  18,  19,  20,  21,  22,  23,  24,  25,  26,  27,\n",
       "        28,  29,  30,  31,  32,  33,  34,  35,  36,  37,  38,  39,  40,\n",
       "        41,  42,  43,  44,  45,  46,  47,  48,  49,  50,  51,  52,  53,\n",
       "        54,  55,  56,  57,  58,  59,  60,  61,  62,  63,  64,  65,  66,\n",
       "        67,  68,  69,  70,  71,  72,  73,  74,  75,  76,  77,  78,  79,\n",
       "        80,  81,  82,  83,  84,  85,  86,  87,  88,  89,  90,  91,  92,\n",
       "        93,  94,  95,  96,  97,  98,  99, 100])"
      ]
     },
     "execution_count": 199,
     "metadata": {},
     "output_type": "execute_result"
    }
   ],
   "source": [
    "no_of_observations"
   ]
  },
  {
   "cell_type": "code",
   "execution_count": 213,
   "metadata": {},
   "outputs": [],
   "source": [
    "# hstackで横結合\n",
    "\n",
    "linkage_matrix = np.hstack((children, distance[:, np.newaxis], no_of_observations[:, np.newaxis])).astype(float)"
   ]
  },
  {
   "cell_type": "code",
   "execution_count": 214,
   "metadata": {},
   "outputs": [
    {
     "data": {
      "text/plain": [
       "array([[  0.,  17.,   0.,   2.],\n",
       "       [  1.,  37.,   1.,   3.],\n",
       "       [ 12.,  45.,   2.,   4.],\n",
       "       [  4.,  49.,   3.,   5.],\n",
       "       [  6.,  47.,   4.,   6.],\n",
       "       [  5.,  20.,   5.,   7.],\n",
       "       [  9.,  34.,   6.,   8.],\n",
       "       [ 19.,  21.,   7.,   9.],\n",
       "       [ 39., 107.,   8.,  10.],\n",
       "       [ 38.,  42.,   9.,  11.],\n",
       "       [ 10.,  31.,  10.,  12.],\n",
       "       [ 11.,  30.,  11.,  13.],\n",
       "       [ 27.,  32.,  12.,  14.],\n",
       "       [ 25.,  26.,  13.,  15.],\n",
       "       [ 43., 113.,  14.,  16.],\n",
       "       [ 53.,  89.,  15.,  17.],\n",
       "       [ 95.,  96.,  16.,  18.],\n",
       "       [ 78.,  85.,  17.,  19.],\n",
       "       [ 63.,  73.,  18.,  20.],\n",
       "       [101., 103.,  19.,  21.],\n",
       "       [  7., 106.,  20.,  22.],\n",
       "       [ 41., 109.,  21.,  23.],\n",
       "       [ 16.,  36.,  22.,  24.],\n",
       "       [ 48., 112.,  23.,  25.],\n",
       "       [ 46., 114.,  24.,  26.],\n",
       "       [ 29., 111.,  25.,  27.],\n",
       "       [ 57.,  93.,  26.,  28.],\n",
       "       [ 80.,  81.,  27.,  29.],\n",
       "       [ 67.,  99.,  28.,  30.],\n",
       "       [ 62.,  71.,  29.,  31.],\n",
       "       [ 54.,  58.,  30.,  32.],\n",
       "       [  3., 104.,  31.,  33.],\n",
       "       [100., 108.,  32.,  34.],\n",
       "       [ 35.,  40.,  33.,  35.],\n",
       "       [ 82.,  92.,  34.,  36.],\n",
       "       [ 88.,  94.,  35.,  37.],\n",
       "       [ 55.,  66.,  36.,  38.],\n",
       "       [ 91., 118.,  37.,  39.],\n",
       "       [ 65.,  75.,  38.,  40.],\n",
       "       [ 84.,  90.,  39.,  41.],\n",
       "       [ 68.,  87.,  40.,  42.],\n",
       "       [ 76.,  86.,  41.,  43.],\n",
       "       [  2., 102.,  42.,  44.],\n",
       "       [  8., 121.,  43.,  45.],\n",
       "       [ 33., 122.,  44.,  46.],\n",
       "       [ 23., 124.,  45.,  47.],\n",
       "       [ 28., 123.,  46.,  48.],\n",
       "       [119., 120.,  47.,  49.],\n",
       "       [ 69., 115.,  48.,  50.],\n",
       "       [116., 128.,  49.,  51.],\n",
       "       [ 64.,  79.,  50.,  52.],\n",
       "       [ 15.,  18.,  51.,  53.],\n",
       "       [105., 110.,  52.,  54.],\n",
       "       [ 74.,  97.,  53.,  55.],\n",
       "       [ 51., 140.,  54.,  56.],\n",
       "       [ 56.,  72.,  55.,  57.],\n",
       "       [132., 147.,  56.,  58.],\n",
       "       [ 60., 126.,  57.,  59.],\n",
       "       [117., 137.,  58.,  60.],\n",
       "       [ 50.,  52.,  59.,  61.],\n",
       "       [131., 142.,  60.,  62.],\n",
       "       [ 61., 149.,  61.,  63.],\n",
       "       [130., 138.,  62.,  64.],\n",
       "       [153., 154.,  63.,  65.],\n",
       "       [ 24.,  44.,  64.,  66.],\n",
       "       [127., 148.,  65.,  67.],\n",
       "       [136., 139.,  66.,  68.],\n",
       "       [141., 159.,  67.,  69.],\n",
       "       [ 70., 158.,  68.,  70.],\n",
       "       [ 13.,  22.,  69.,  71.],\n",
       "       [125., 160.,  70.,  72.],\n",
       "       [133., 156.,  71.,  73.],\n",
       "       [129., 134.,  72.,  74.],\n",
       "       [145., 146.,  73.,  75.],\n",
       "       [135., 161.,  74.,  76.],\n",
       "       [151., 152.,  75.,  77.],\n",
       "       [ 59., 165.,  76.,  78.],\n",
       "       [ 14., 144.,  77.,  79.],\n",
       "       [ 77., 167.,  78.,  80.],\n",
       "       [143., 169.,  79.,  81.],\n",
       "       [ 83., 155.,  80.,  82.],\n",
       "       [171., 173.,  81.,  83.],\n",
       "       [ 98., 157.,  82.,  84.],\n",
       "       [162., 163.,  83.,  85.],\n",
       "       [172., 174.,  84.,  86.],\n",
       "       [168., 180.,  85.,  87.],\n",
       "       [175., 177.,  86.,  88.],\n",
       "       [150., 176.,  87.,  89.],\n",
       "       [170., 179.,  88.,  90.],\n",
       "       [164., 181.,  89.,  91.],\n",
       "       [166., 184.,  90.,  92.],\n",
       "       [178., 183.,  91.,  93.],\n",
       "       [187., 190.,  92.,  94.],\n",
       "       [185., 191.,  93.,  95.],\n",
       "       [188., 189.,  94.,  96.],\n",
       "       [186., 194.,  95.,  97.],\n",
       "       [182., 192.,  96.,  98.],\n",
       "       [193., 196.,  97.,  99.],\n",
       "       [195., 197.,  98., 100.]])"
      ]
     },
     "execution_count": 214,
     "metadata": {},
     "output_type": "execute_result"
    }
   ],
   "source": [
    "linkage_matrix"
   ]
  },
  {
   "cell_type": "code",
   "execution_count": 215,
   "metadata": {},
   "outputs": [
    {
     "data": {
      "image/png": "[encoded data removed]",
      "text/plain": [
       "<Figure size 432x288 with 1 Axes>"
      ]
     },
     "metadata": {
      "needs_background": "light"
     },
     "output_type": "display_data"
    }
   ],
   "source": [
    "fig, ax = plt.subplots()\n",
    "\n",
    "dendrogram(linkage_matrix, labels = np.arange(100), leaf_font_size = 8, color_threshold = np.inf)\n",
    "plt.show()"
   ]
  },
  {
   "cell_type": "code",
   "execution_count": null,
   "metadata": {},
   "outputs": [],
   "source": []
  }
 ],
 "metadata": {
  "kernelspec": {
   "display_name": "Python 3",
   "language": "python",
   "name": "python3"
  },
  "language_info": {
   "codemirror_mode": {
    "name": "ipython",
    "version": 3
   },
   "file_extension": ".py",
   "mimetype": "text/x-python",
   "name": "python",
   "nbconvert_exporter": "python",
   "pygments_lexer": "ipython3",
   "version": "3.7.6"
  }
 },
 "nbformat": 4,
 "nbformat_minor": 4
}
