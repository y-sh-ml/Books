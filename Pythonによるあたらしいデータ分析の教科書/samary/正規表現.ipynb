{
 "cells": [
  {
   "cell_type": "code",
   "execution_count": 54,
   "metadata": {},
   "outputs": [],
   "source": [
    "import re\n",
    "\n",
    "s = 'aaa@xxx.com, bbb@yyy.com, ccc@zzz.com'"
   ]
  },
  {
   "cell_type": "markdown",
   "metadata": {},
   "source": [
    "### ■関数で実行"
   ]
  },
  {
   "cell_type": "code",
   "execution_count": 55,
   "metadata": {},
   "outputs": [
    {
     "name": "stdout",
     "output_type": "stream",
     "text": [
      "<re.Match object; span=(0, 11), match='aaa@xxx.com'>\n"
     ]
    }
   ],
   "source": [
    "# 第一引数に検索する文字列の方を入れる、第二引数にはデータを入れる\n",
    "\n",
    "m = re.match(r'([a-z]+)@([a-z]+)\\.com', s)\n",
    "\n",
    "print(m)"
   ]
  },
  {
   "cell_type": "code",
   "execution_count": 56,
   "metadata": {},
   "outputs": [
    {
     "name": "stdout",
     "output_type": "stream",
     "text": [
      "new-address, new-address, new-address\n"
     ]
    }
   ],
   "source": [
    "result = re.sub(r'([a-z]+)@([a-z]+)\\.com', 'new-address', s)\n",
    "\n",
    "print(result)"
   ]
  },
  {
   "cell_type": "markdown",
   "metadata": {},
   "source": [
    "### ■compileで実行<br>\n",
    "compileを使用すると、上と同じ実行をする際に<br>\n",
    "[re]と[r'([a-z]+)@([a-z]+)\\.com']を省略することができる。"
   ]
  },
  {
   "cell_type": "code",
   "execution_count": 57,
   "metadata": {},
   "outputs": [
    {
     "name": "stdout",
     "output_type": "stream",
     "text": [
      "re.compile('([a-z]+)@([a-z]+)\\\\.com')\n"
     ]
    }
   ],
   "source": [
    "# 検索するデータ型を定義（インスタンスを作成）\n",
    "p = re.compile(r'([a-z]+)@([a-z]+)\\.com')\n",
    "\n",
    "print(p)"
   ]
  },
  {
   "cell_type": "code",
   "execution_count": 58,
   "metadata": {},
   "outputs": [
    {
     "name": "stdout",
     "output_type": "stream",
     "text": [
      "<re.Match object; span=(0, 11), match='aaa@xxx.com'>\n"
     ]
    }
   ],
   "source": [
    "m = p.match(s)\n",
    "print(m)"
   ]
  },
  {
   "cell_type": "code",
   "execution_count": 59,
   "metadata": {},
   "outputs": [
    {
     "name": "stdout",
     "output_type": "stream",
     "text": [
      "new-address, new-address, new-address\n"
     ]
    }
   ],
   "source": [
    "# compileを使用すると、re\n",
    "result = p.sub('new-address', s)\n",
    "\n",
    "print(result)"
   ]
  },
  {
   "cell_type": "markdown",
   "metadata": {},
   "source": [
    "### ■Pythonによるデータ分析の教科書"
   ]
  },
  {
   "cell_type": "code",
   "execution_count": 80,
   "metadata": {},
   "outputs": [],
   "source": [
    "s = 'Python'"
   ]
  },
  {
   "cell_type": "code",
   "execution_count": 81,
   "metadata": {},
   "outputs": [],
   "source": [
    "p = re.compile('(P(yth|l)|Z)o[pn]e?')"
   ]
  },
  {
   "cell_type": "markdown",
   "metadata": {},
   "source": [
    "Pyth または Pl<br>\n",
    "Po または　Zo<br>\n",
    "\n",
    "p または n<br>\n",
    "〇〇　もしくは　〇〇e （直前のeが0回、または1回だけ登場する）\n",
    "\n",
    "上記だと最初に P 以下か Z を選択する<br>\n",
    "P を選択した場合、さらに（）の中で二択に分かれる<br>\n",
    "oは、いずれにしても入る<br>\n",
    "p または n が選ばれる<br>\n",
    "e は含まれないか、1回だけ入るか<br>\n",
    "<br>\n",
    "【今回想定される文字】<br>\n",
    "Python, Pythop, Pythope, Pythone, Plop, Plope, Plon, Plone, Zop, Zope, Zone, Zon, Plope, Plop<br>\n",
    "<br>\n",
    "【ポイント】<br>\n",
    "・やっていることは、検索条件文字列を作って（インスタンスの作成）、<br>\n",
    "　キーワードを入れて、当てはまるかどうかを確認しているだけ<br>"
   ]
  },
  {
   "cell_type": "code",
   "execution_count": 82,
   "metadata": {},
   "outputs": [
    {
     "name": "stdout",
     "output_type": "stream",
     "text": [
      "<re.Match object; span=(0, 6), match='Python'>\n"
     ]
    }
   ],
   "source": [
    "m = p.search(s)\n",
    "\n",
    "print(m)"
   ]
  },
  {
   "cell_type": "markdown",
   "metadata": {},
   "source": [
    "### ■ 模擬試験"
   ]
  },
  {
   "cell_type": "markdown",
   "metadata": {},
   "source": [
    "re.IGNORECASE は compile の中に入れる（大文字小文字を区別しなくなる）"
   ]
  },
  {
   "cell_type": "code",
   "execution_count": 87,
   "metadata": {},
   "outputs": [],
   "source": [
    "p = re.compile('Kus(a|u)n(a|o|k)g?i(saya|ro)?', re.IGNORECASE)"
   ]
  },
  {
   "cell_type": "code",
   "execution_count": 90,
   "metadata": {},
   "outputs": [],
   "source": [
    "m = p.search('kusunoki')"
   ]
  },
  {
   "cell_type": "code",
   "execution_count": 91,
   "metadata": {},
   "outputs": [
    {
     "name": "stdout",
     "output_type": "stream",
     "text": [
      "None\n"
     ]
    }
   ],
   "source": [
    "print(m)"
   ]
  },
  {
   "cell_type": "markdown",
   "metadata": {},
   "source": [
    "正規表現：https://note.nkmk.me/python-re-match-search-findall-etc/"
   ]
  },
  {
   "cell_type": "markdown",
   "metadata": {},
   "source": [
    "正規表現の記号：https://murashun.jp/blog/20190215-01.html"
   ]
  }
 ],
 "metadata": {
  "kernelspec": {
   "display_name": "Python 3",
   "language": "python",
   "name": "python3"
  },
  "language_info": {
   "codemirror_mode": {
    "name": "ipython",
    "version": 3
   },
   "file_extension": ".py",
   "mimetype": "text/x-python",
   "name": "python",
   "nbconvert_exporter": "python",
   "pygments_lexer": "ipython3",
   "version": "3.7.6"
  }
 },
 "nbformat": 4,
 "nbformat_minor": 4
}
