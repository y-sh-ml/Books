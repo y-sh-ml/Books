{
 "cells": [
  {
   "cell_type": "code",
   "execution_count": 201,
   "metadata": {},
   "outputs": [],
   "source": [
    "import numpy as np\n",
    "import pandas as pd"
   ]
  },
  {
   "cell_type": "code",
   "execution_count": 202,
   "metadata": {},
   "outputs": [
    {
     "data": {
      "text/html": [
       "<div>\n",
       "<style scoped>\n",
       "    .dataframe tbody tr th:only-of-type {\n",
       "        vertical-align: middle;\n",
       "    }\n",
       "\n",
       "    .dataframe tbody tr th {\n",
       "        vertical-align: top;\n",
       "    }\n",
       "\n",
       "    .dataframe thead th {\n",
       "        text-align: right;\n",
       "    }\n",
       "</style>\n",
       "<table border=\"1\" class=\"dataframe\">\n",
       "  <thead>\n",
       "    <tr style=\"text-align: right;\">\n",
       "      <th></th>\n",
       "      <th>A</th>\n",
       "      <th>B</th>\n",
       "      <th>C</th>\n",
       "    </tr>\n",
       "  </thead>\n",
       "  <tbody>\n",
       "    <tr>\n",
       "      <th>0</th>\n",
       "      <td>1.0</td>\n",
       "      <td>6.0</td>\n",
       "      <td>11</td>\n",
       "    </tr>\n",
       "    <tr>\n",
       "      <th>1</th>\n",
       "      <td>NaN</td>\n",
       "      <td>7.0</td>\n",
       "      <td>12</td>\n",
       "    </tr>\n",
       "    <tr>\n",
       "      <th>2</th>\n",
       "      <td>3.0</td>\n",
       "      <td>8.0</td>\n",
       "      <td>13</td>\n",
       "    </tr>\n",
       "    <tr>\n",
       "      <th>3</th>\n",
       "      <td>4.0</td>\n",
       "      <td>NaN</td>\n",
       "      <td>14</td>\n",
       "    </tr>\n",
       "    <tr>\n",
       "      <th>4</th>\n",
       "      <td>5.0</td>\n",
       "      <td>10.0</td>\n",
       "      <td>15</td>\n",
       "    </tr>\n",
       "  </tbody>\n",
       "</table>\n",
       "</div>"
      ],
      "text/plain": [
       "     A     B   C\n",
       "0  1.0   6.0  11\n",
       "1  NaN   7.0  12\n",
       "2  3.0   8.0  13\n",
       "3  4.0   NaN  14\n",
       "4  5.0  10.0  15"
      ]
     },
     "execution_count": 202,
     "metadata": {},
     "output_type": "execute_result"
    }
   ],
   "source": [
    "df = pd.DataFrame({\n",
    "    'A':[1, np.nan, 3, 4, 5],\n",
    "    'B':[6, 7, 8, np.nan, 10],\n",
    "    'C':[11, 12, 13, 14, 15]\n",
    "})\n",
    "\n",
    "df"
   ]
  },
  {
   "cell_type": "code",
   "execution_count": 203,
   "metadata": {},
   "outputs": [
    {
     "data": {
      "text/html": [
       "<div>\n",
       "<style scoped>\n",
       "    .dataframe tbody tr th:only-of-type {\n",
       "        vertical-align: middle;\n",
       "    }\n",
       "\n",
       "    .dataframe tbody tr th {\n",
       "        vertical-align: top;\n",
       "    }\n",
       "\n",
       "    .dataframe thead th {\n",
       "        text-align: right;\n",
       "    }\n",
       "</style>\n",
       "<table border=\"1\" class=\"dataframe\">\n",
       "  <thead>\n",
       "    <tr style=\"text-align: right;\">\n",
       "      <th></th>\n",
       "      <th>A</th>\n",
       "      <th>B</th>\n",
       "      <th>C</th>\n",
       "    </tr>\n",
       "  </thead>\n",
       "  <tbody>\n",
       "    <tr>\n",
       "      <th>0</th>\n",
       "      <td>False</td>\n",
       "      <td>False</td>\n",
       "      <td>False</td>\n",
       "    </tr>\n",
       "    <tr>\n",
       "      <th>1</th>\n",
       "      <td>True</td>\n",
       "      <td>False</td>\n",
       "      <td>False</td>\n",
       "    </tr>\n",
       "    <tr>\n",
       "      <th>2</th>\n",
       "      <td>False</td>\n",
       "      <td>False</td>\n",
       "      <td>False</td>\n",
       "    </tr>\n",
       "    <tr>\n",
       "      <th>3</th>\n",
       "      <td>False</td>\n",
       "      <td>True</td>\n",
       "      <td>False</td>\n",
       "    </tr>\n",
       "    <tr>\n",
       "      <th>4</th>\n",
       "      <td>False</td>\n",
       "      <td>False</td>\n",
       "      <td>False</td>\n",
       "    </tr>\n",
       "  </tbody>\n",
       "</table>\n",
       "</div>"
      ],
      "text/plain": [
       "       A      B      C\n",
       "0  False  False  False\n",
       "1   True  False  False\n",
       "2  False  False  False\n",
       "3  False   True  False\n",
       "4  False  False  False"
      ]
     },
     "execution_count": 203,
     "metadata": {},
     "output_type": "execute_result"
    }
   ],
   "source": [
    "df.isnull()"
   ]
  },
  {
   "cell_type": "code",
   "execution_count": 204,
   "metadata": {},
   "outputs": [
    {
     "data": {
      "text/html": [
       "<div>\n",
       "<style scoped>\n",
       "    .dataframe tbody tr th:only-of-type {\n",
       "        vertical-align: middle;\n",
       "    }\n",
       "\n",
       "    .dataframe tbody tr th {\n",
       "        vertical-align: top;\n",
       "    }\n",
       "\n",
       "    .dataframe thead th {\n",
       "        text-align: right;\n",
       "    }\n",
       "</style>\n",
       "<table border=\"1\" class=\"dataframe\">\n",
       "  <thead>\n",
       "    <tr style=\"text-align: right;\">\n",
       "      <th></th>\n",
       "      <th>A</th>\n",
       "      <th>B</th>\n",
       "      <th>C</th>\n",
       "    </tr>\n",
       "  </thead>\n",
       "  <tbody>\n",
       "    <tr>\n",
       "      <th>0</th>\n",
       "      <td>1.00</td>\n",
       "      <td>6.00</td>\n",
       "      <td>11</td>\n",
       "    </tr>\n",
       "    <tr>\n",
       "      <th>1</th>\n",
       "      <td>3.25</td>\n",
       "      <td>7.00</td>\n",
       "      <td>12</td>\n",
       "    </tr>\n",
       "    <tr>\n",
       "      <th>2</th>\n",
       "      <td>3.00</td>\n",
       "      <td>8.00</td>\n",
       "      <td>13</td>\n",
       "    </tr>\n",
       "    <tr>\n",
       "      <th>3</th>\n",
       "      <td>4.00</td>\n",
       "      <td>7.75</td>\n",
       "      <td>14</td>\n",
       "    </tr>\n",
       "    <tr>\n",
       "      <th>4</th>\n",
       "      <td>5.00</td>\n",
       "      <td>10.00</td>\n",
       "      <td>15</td>\n",
       "    </tr>\n",
       "  </tbody>\n",
       "</table>\n",
       "</div>"
      ],
      "text/plain": [
       "      A      B   C\n",
       "0  1.00   6.00  11\n",
       "1  3.25   7.00  12\n",
       "2  3.00   8.00  13\n",
       "3  4.00   7.75  14\n",
       "4  5.00  10.00  15"
      ]
     },
     "execution_count": 204,
     "metadata": {},
     "output_type": "execute_result"
    }
   ],
   "source": [
    "df.fillna(df.mean())"
   ]
  },
  {
   "cell_type": "code",
   "execution_count": 205,
   "metadata": {},
   "outputs": [
    {
     "data": {
      "text/html": [
       "<div>\n",
       "<style scoped>\n",
       "    .dataframe tbody tr th:only-of-type {\n",
       "        vertical-align: middle;\n",
       "    }\n",
       "\n",
       "    .dataframe tbody tr th {\n",
       "        vertical-align: top;\n",
       "    }\n",
       "\n",
       "    .dataframe thead th {\n",
       "        text-align: right;\n",
       "    }\n",
       "</style>\n",
       "<table border=\"1\" class=\"dataframe\">\n",
       "  <thead>\n",
       "    <tr style=\"text-align: right;\">\n",
       "      <th></th>\n",
       "      <th>A</th>\n",
       "      <th>B</th>\n",
       "    </tr>\n",
       "  </thead>\n",
       "  <tbody>\n",
       "    <tr>\n",
       "      <th>0</th>\n",
       "      <td>1</td>\n",
       "      <td>a</td>\n",
       "    </tr>\n",
       "    <tr>\n",
       "      <th>1</th>\n",
       "      <td>2</td>\n",
       "      <td>b</td>\n",
       "    </tr>\n",
       "    <tr>\n",
       "      <th>2</th>\n",
       "      <td>3</td>\n",
       "      <td>a</td>\n",
       "    </tr>\n",
       "    <tr>\n",
       "      <th>3</th>\n",
       "      <td>4</td>\n",
       "      <td>b</td>\n",
       "    </tr>\n",
       "    <tr>\n",
       "      <th>4</th>\n",
       "      <td>5</td>\n",
       "      <td>c</td>\n",
       "    </tr>\n",
       "  </tbody>\n",
       "</table>\n",
       "</div>"
      ],
      "text/plain": [
       "   A  B\n",
       "0  1  a\n",
       "1  2  b\n",
       "2  3  a\n",
       "3  4  b\n",
       "4  5  c"
      ]
     },
     "execution_count": 205,
     "metadata": {},
     "output_type": "execute_result"
    }
   ],
   "source": [
    "df = pd.DataFrame({'A':[1, 2, 3, 4, 5],\n",
    "                  'B':['a', 'b', 'a', 'b', 'c']})\n",
    "\n",
    "df"
   ]
  },
  {
   "cell_type": "code",
   "execution_count": 206,
   "metadata": {},
   "outputs": [],
   "source": [
    "from sklearn.preprocessing import LabelEncoder"
   ]
  },
  {
   "cell_type": "code",
   "execution_count": 207,
   "metadata": {},
   "outputs": [],
   "source": [
    "le = LabelEncoder()"
   ]
  },
  {
   "cell_type": "code",
   "execution_count": 208,
   "metadata": {},
   "outputs": [
    {
     "data": {
      "text/plain": [
       "array([0, 1, 0, 1, 2])"
      ]
     },
     "execution_count": 208,
     "metadata": {},
     "output_type": "execute_result"
    }
   ],
   "source": [
    "# 1度インスタンスを立てたら、fitやtransformの( )の中にしか引数を入れられない\n",
    "le.fit(df['B'])\n",
    "le.transform(df['B'])"
   ]
  },
  {
   "cell_type": "code",
   "execution_count": 209,
   "metadata": {},
   "outputs": [
    {
     "data": {
      "text/plain": [
       "array(['a', 'b', 'c'], dtype=object)"
      ]
     },
     "execution_count": 209,
     "metadata": {},
     "output_type": "execute_result"
    }
   ],
   "source": [
    "le.classes_"
   ]
  },
  {
   "cell_type": "code",
   "execution_count": 210,
   "metadata": {},
   "outputs": [
    {
     "data": {
      "text/html": [
       "<div>\n",
       "<style scoped>\n",
       "    .dataframe tbody tr th:only-of-type {\n",
       "        vertical-align: middle;\n",
       "    }\n",
       "\n",
       "    .dataframe tbody tr th {\n",
       "        vertical-align: top;\n",
       "    }\n",
       "\n",
       "    .dataframe thead th {\n",
       "        text-align: right;\n",
       "    }\n",
       "</style>\n",
       "<table border=\"1\" class=\"dataframe\">\n",
       "  <thead>\n",
       "    <tr style=\"text-align: right;\">\n",
       "      <th></th>\n",
       "      <th>B_a</th>\n",
       "      <th>B_b</th>\n",
       "      <th>B_c</th>\n",
       "    </tr>\n",
       "  </thead>\n",
       "  <tbody>\n",
       "    <tr>\n",
       "      <th>0</th>\n",
       "      <td>1</td>\n",
       "      <td>0</td>\n",
       "      <td>0</td>\n",
       "    </tr>\n",
       "    <tr>\n",
       "      <th>1</th>\n",
       "      <td>0</td>\n",
       "      <td>1</td>\n",
       "      <td>0</td>\n",
       "    </tr>\n",
       "    <tr>\n",
       "      <th>2</th>\n",
       "      <td>0</td>\n",
       "      <td>0</td>\n",
       "      <td>1</td>\n",
       "    </tr>\n",
       "  </tbody>\n",
       "</table>\n",
       "</div>"
      ],
      "text/plain": [
       "   B_a  B_b  B_c\n",
       "0    1    0    0\n",
       "1    0    1    0\n",
       "2    0    0    1"
      ]
     },
     "execution_count": 210,
     "metadata": {},
     "output_type": "execute_result"
    }
   ],
   "source": [
    "# get_dummisはpdで行います\n",
    "\n",
    "pd.get_dummies(['a', 'b', 'c'], prefix = 'B')"
   ]
  },
  {
   "cell_type": "code",
   "execution_count": 211,
   "metadata": {},
   "outputs": [
    {
     "data": {
      "text/html": [
       "<div>\n",
       "<style scoped>\n",
       "    .dataframe tbody tr th:only-of-type {\n",
       "        vertical-align: middle;\n",
       "    }\n",
       "\n",
       "    .dataframe tbody tr th {\n",
       "        vertical-align: top;\n",
       "    }\n",
       "\n",
       "    .dataframe thead th {\n",
       "        text-align: right;\n",
       "    }\n",
       "</style>\n",
       "<table border=\"1\" class=\"dataframe\">\n",
       "  <thead>\n",
       "    <tr style=\"text-align: right;\">\n",
       "      <th></th>\n",
       "      <th>A</th>\n",
       "      <th>B</th>\n",
       "    </tr>\n",
       "  </thead>\n",
       "  <tbody>\n",
       "    <tr>\n",
       "      <th>0</th>\n",
       "      <td>1</td>\n",
       "      <td>100</td>\n",
       "    </tr>\n",
       "    <tr>\n",
       "      <th>1</th>\n",
       "      <td>2</td>\n",
       "      <td>200</td>\n",
       "    </tr>\n",
       "    <tr>\n",
       "      <th>2</th>\n",
       "      <td>3</td>\n",
       "      <td>300</td>\n",
       "    </tr>\n",
       "    <tr>\n",
       "      <th>3</th>\n",
       "      <td>4</td>\n",
       "      <td>400</td>\n",
       "    </tr>\n",
       "    <tr>\n",
       "      <th>4</th>\n",
       "      <td>5</td>\n",
       "      <td>500</td>\n",
       "    </tr>\n",
       "  </tbody>\n",
       "</table>\n",
       "</div>"
      ],
      "text/plain": [
       "   A    B\n",
       "0  1  100\n",
       "1  2  200\n",
       "2  3  300\n",
       "3  4  400\n",
       "4  5  500"
      ]
     },
     "execution_count": 211,
     "metadata": {},
     "output_type": "execute_result"
    }
   ],
   "source": [
    "df = pd.DataFrame({\n",
    "    'A':[1, 2, 3, 4, 5],\n",
    "    'B':[100, 200, 300, 400, 500]\n",
    "})\n",
    "\n",
    "df"
   ]
  },
  {
   "cell_type": "code",
   "execution_count": 212,
   "metadata": {},
   "outputs": [],
   "source": [
    "from sklearn.preprocessing import StandardScaler\n",
    "\n",
    "stdsc = StandardScaler()"
   ]
  },
  {
   "cell_type": "code",
   "execution_count": 213,
   "metadata": {},
   "outputs": [
    {
     "data": {
      "text/plain": [
       "array([[-1.41421356, -1.41421356],\n",
       "       [-0.70710678, -0.70710678],\n",
       "       [ 0.        ,  0.        ],\n",
       "       [ 0.70710678,  0.70710678],\n",
       "       [ 1.41421356,  1.41421356]])"
      ]
     },
     "execution_count": 213,
     "metadata": {},
     "output_type": "execute_result"
    }
   ],
   "source": [
    "# エラー箇所が不明な時は、1行ずつコードを実行して確かめていく\n",
    "\n",
    "stdsc.fit(df)\n",
    "stdsc.transform(df)"
   ]
  },
  {
   "cell_type": "code",
   "execution_count": 214,
   "metadata": {},
   "outputs": [
    {
     "data": {
      "text/plain": [
       "array([[0.  , 0.  ],\n",
       "       [0.25, 0.25],\n",
       "       [0.5 , 0.5 ],\n",
       "       [0.75, 0.75],\n",
       "       [1.  , 1.  ]])"
      ]
     },
     "execution_count": 214,
     "metadata": {},
     "output_type": "execute_result"
    }
   ],
   "source": [
    "from sklearn.preprocessing import MinMaxScaler\n",
    "\n",
    "mmsc = MinMaxScaler()\n",
    "\n",
    "mmsc.fit(df)\n",
    "mmsc.transform(df)"
   ]
  },
  {
   "cell_type": "code",
   "execution_count": 215,
   "metadata": {},
   "outputs": [
    {
     "name": "stdout",
     "output_type": "stream",
     "text": [
      "X:\n",
      "[[5.1 3.5 1.4 0.2]\n",
      " [4.9 3.  1.4 0.2]\n",
      " [4.7 3.2 1.3 0.2]\n",
      " [4.6 3.1 1.5 0.2]\n",
      " [5.  3.6 1.4 0.2]]\n",
      "y\n",
      "[0 0 0 0 0]\n"
     ]
    }
   ],
   "source": [
    "from sklearn.datasets import load_iris\n",
    "\n",
    "iris = load_iris()\n",
    "\n",
    "X, y = iris.data, iris.target\n",
    "\n",
    "print('X:')\n",
    "print(X[:5,:])\n",
    "print('y')\n",
    "print(y[:5])\n",
    "\n",
    "# yは0番目の目的ラベル（setosa）のみが出力される"
   ]
  },
  {
   "cell_type": "code",
   "execution_count": 216,
   "metadata": {},
   "outputs": [
    {
     "name": "stdout",
     "output_type": "stream",
     "text": [
      "(105, 4)\n",
      "(105,)\n",
      "(45, 4)\n",
      "(45,)\n"
     ]
    }
   ],
   "source": [
    "from sklearn.model_selection import train_test_split\n",
    "\n",
    "X_train, X_test, y_train, y_test = train_test_split(X, y, test_size = 0.3, random_state = 123)\n",
    "print(X_train.shape)\n",
    "print(y_train.shape)\n",
    "print(X_test.shape)\n",
    "print(y_test.shape)"
   ]
  },
  {
   "cell_type": "code",
   "execution_count": 217,
   "metadata": {},
   "outputs": [
    {
     "data": {
      "image/png": "[encoded data removed]",
      "text/plain": [
       "<Figure size 432x288 with 1 Axes>"
      ]
     },
     "metadata": {
      "needs_background": "light"
     },
     "output_type": "display_data"
    }
   ],
   "source": [
    "import matplotlib.pyplot as plt\n",
    "\n",
    "np.random.seed(123)\n",
    "\n",
    "# デフォルトで0～1未満の乱数\n",
    "X0 = np.random.uniform(size = (100, 2))\n",
    "\n",
    "# -1～0を指定\n",
    "X1 = np.random.uniform(-1.0, 0.0, size = (100, 2))\n",
    "\n",
    "fig, ax = plt.subplots()\n",
    "\n",
    "# X0（0～1未満）の0列目と1列目を表示する（両方とも0以上1未満）\n",
    "ax.scatter(X0[:, 0], X0[:, 1], marker = 'o', label = 'X0')\n",
    "\n",
    "# 同様に X1 も2列分をプロットする（両方とも-1 ～ 0）\n",
    "ax.scatter(X1[:, 0], X1[:, 1], marker = 'x', label = 'X1')\n",
    "\n",
    "ax.legend()\n",
    "\n",
    "ax.set_xlabel('column 0')\n",
    "ax.set_ylabel('column 1')\n",
    "\n",
    "plt.show()\n",
    "\n",
    "# この時点では y は無関係である"
   ]
  },
  {
   "cell_type": "code",
   "execution_count": 218,
   "metadata": {},
   "outputs": [],
   "source": [
    "# repeatも先入観で間違った解釈をした、ただの1次元配列作成するためのメソッド\n",
    "y0 = np.repeat(0, 100)\n",
    "y1 = np.repeat(1, 100)"
   ]
  },
  {
   "cell_type": "code",
   "execution_count": 219,
   "metadata": {},
   "outputs": [
    {
     "data": {
      "text/plain": [
       "array([[0.69646919, 0.28613933],\n",
       "       [0.22685145, 0.55131477],\n",
       "       [0.71946897, 0.42310646],\n",
       "       [0.9807642 , 0.68482974],\n",
       "       [0.4809319 , 0.39211752],\n",
       "       [0.34317802, 0.72904971],\n",
       "       [0.43857224, 0.0596779 ],\n",
       "       [0.39804426, 0.73799541],\n",
       "       [0.18249173, 0.17545176],\n",
       "       [0.53155137, 0.53182759],\n",
       "       [0.63440096, 0.84943179],\n",
       "       [0.72445532, 0.61102351],\n",
       "       [0.72244338, 0.32295891],\n",
       "       [0.36178866, 0.22826323],\n",
       "       [0.29371405, 0.63097612],\n",
       "       [0.09210494, 0.43370117],\n",
       "       [0.43086276, 0.4936851 ],\n",
       "       [0.42583029, 0.31226122],\n",
       "       [0.42635131, 0.89338916],\n",
       "       [0.94416002, 0.50183668],\n",
       "       [0.62395295, 0.1156184 ],\n",
       "       [0.31728548, 0.41482621],\n",
       "       [0.86630916, 0.25045537],\n",
       "       [0.48303426, 0.98555979],\n",
       "       [0.51948512, 0.61289453],\n",
       "       [0.12062867, 0.8263408 ],\n",
       "       [0.60306013, 0.54506801],\n",
       "       [0.34276383, 0.30412079],\n",
       "       [0.41702221, 0.68130077],\n",
       "       [0.87545684, 0.51042234],\n",
       "       [0.66931378, 0.58593655],\n",
       "       [0.6249035 , 0.67468905],\n",
       "       [0.84234244, 0.08319499],\n",
       "       [0.76368284, 0.24366637],\n",
       "       [0.19422296, 0.57245696],\n",
       "       [0.09571252, 0.88532683],\n",
       "       [0.62724897, 0.72341636],\n",
       "       [0.01612921, 0.59443188],\n",
       "       [0.55678519, 0.15895964],\n",
       "       [0.15307052, 0.69552953],\n",
       "       [0.31876643, 0.6919703 ],\n",
       "       [0.55438325, 0.38895057],\n",
       "       [0.92513249, 0.84167   ],\n",
       "       [0.35739757, 0.04359146],\n",
       "       [0.30476807, 0.39818568],\n",
       "       [0.70495883, 0.99535848],\n",
       "       [0.35591487, 0.76254781],\n",
       "       [0.59317692, 0.6917018 ],\n",
       "       [0.15112745, 0.39887629],\n",
       "       [0.2408559 , 0.34345601],\n",
       "       [0.51312815, 0.66662455],\n",
       "       [0.10590849, 0.13089495],\n",
       "       [0.32198061, 0.66156434],\n",
       "       [0.84650623, 0.55325734],\n",
       "       [0.85445249, 0.38483781],\n",
       "       [0.3167879 , 0.35426468],\n",
       "       [0.17108183, 0.82911263],\n",
       "       [0.33867085, 0.55237008],\n",
       "       [0.57855147, 0.52153306],\n",
       "       [0.00268806, 0.98834542],\n",
       "       [0.90534158, 0.20763586],\n",
       "       [0.29248941, 0.52001015],\n",
       "       [0.90191137, 0.98363088],\n",
       "       [0.25754206, 0.56435904],\n",
       "       [0.80696868, 0.39437005],\n",
       "       [0.73107304, 0.16106901],\n",
       "       [0.60069857, 0.86586446],\n",
       "       [0.98352161, 0.07936579],\n",
       "       [0.42834727, 0.20454286],\n",
       "       [0.45063649, 0.54776357],\n",
       "       [0.09332671, 0.29686078],\n",
       "       [0.92758424, 0.56900373],\n",
       "       [0.457412  , 0.75352599],\n",
       "       [0.74186215, 0.04857903],\n",
       "       [0.7086974 , 0.83924335],\n",
       "       [0.16593788, 0.78099794],\n",
       "       [0.28653662, 0.30646975],\n",
       "       [0.66526147, 0.11139217],\n",
       "       [0.66487245, 0.88785679],\n",
       "       [0.69631127, 0.44032788],\n",
       "       [0.43821438, 0.7650961 ],\n",
       "       [0.565642  , 0.08490416],\n",
       "       [0.58267109, 0.8148437 ],\n",
       "       [0.33706638, 0.92757658],\n",
       "       [0.750717  , 0.57406383],\n",
       "       [0.75164399, 0.07914896],\n",
       "       [0.85938908, 0.82150411],\n",
       "       [0.90987166, 0.1286312 ],\n",
       "       [0.08178009, 0.13841557],\n",
       "       [0.39937871, 0.42430686],\n",
       "       [0.56221838, 0.12224355],\n",
       "       [0.2013995 , 0.81164435],\n",
       "       [0.46798757, 0.80793821],\n",
       "       [0.00742638, 0.55159273],\n",
       "       [0.93193215, 0.58217546],\n",
       "       [0.20609573, 0.71775756],\n",
       "       [0.37898585, 0.66838395],\n",
       "       [0.02931972, 0.63590036],\n",
       "       [0.03219793, 0.74478066],\n",
       "       [0.472913  , 0.12175436]])"
      ]
     },
     "execution_count": 219,
     "metadata": {},
     "output_type": "execute_result"
    }
   ],
   "source": [
    "X0"
   ]
  },
  {
   "cell_type": "code",
   "execution_count": 220,
   "metadata": {},
   "outputs": [
    {
     "data": {
      "text/plain": [
       "array([[-0.45736407, -0.93322556],\n",
       "       [-0.34663513, -0.00391367],\n",
       "       [-0.23060266, -0.42622589],\n",
       "       [-0.89736474, -0.30016593],\n",
       "       [-0.33883213, -0.95090287],\n",
       "       [-0.2077007 , -0.48128341],\n",
       "       [-0.57413231, -0.21181283],\n",
       "       [-0.58843078, -0.51897372],\n",
       "       [-0.81837116, -0.6786811 ],\n",
       "       [-0.154467  , -0.81309625],\n",
       "       [-0.58270894, -0.01096549],\n",
       "       [-0.76340019, -0.08316767],\n",
       "       [-0.08160253, -0.90870366],\n",
       "       [-0.53634728, -0.49778366],\n",
       "       [-0.68633105, -0.95266046],\n",
       "       [-0.75831436, -0.90447036],\n",
       "       [-0.76175009, -0.19220891],\n",
       "       [-0.10502171, -0.95677711],\n",
       "       [-0.69805316, -0.0194178 ],\n",
       "       [-0.46049518, -0.37369064],\n",
       "       [-0.99445459, -0.51509056],\n",
       "       [-0.01167147, -0.62481447],\n",
       "       [-0.90296184, -0.53809124],\n",
       "       [-0.03699553, -0.65816939],\n",
       "       [-0.20107727, -0.20115367],\n",
       "       [-0.7917517 , -0.5566323 ],\n",
       "       [-0.28439872, -0.58948021],\n",
       "       [-0.80899304, -0.03250569],\n",
       "       [-0.34924963, -0.13454015],\n",
       "       [-0.97475764, -0.73309419],\n",
       "       [-0.4979289 , -0.93255136],\n",
       "       [-0.00696674, -0.7635376 ],\n",
       "       [-0.62570782, -0.78598809],\n",
       "       [-0.89455413, -0.76752021],\n",
       "       [-0.69938986, -0.36555773],\n",
       "       [-0.71876522, -0.63772324],\n",
       "       [-0.99405716, -0.63428087],\n",
       "       [-0.46611402, -0.83798416],\n",
       "       [-0.40256689, -0.70684753],\n",
       "       [-0.36794951, -0.97380339],\n",
       "       [-0.11240654, -0.98388137],\n",
       "       [-0.87304197, -0.22283754],\n",
       "       [-0.95410477, -0.28900131],\n",
       "       [-0.02895386, -0.12831707],\n",
       "       [-0.28983835, -0.04149026],\n",
       "       [-0.57018666, -0.12712109],\n",
       "       [-0.64404233, -0.07023635],\n",
       "       [-0.85122234, -0.05997099],\n",
       "       [-0.1672838 , -0.15394516],\n",
       "       [-0.87607699, -0.4035131 ],\n",
       "       [-0.98360752, -0.27881563],\n",
       "       [-0.99226249, -0.91517772],\n",
       "       [-0.77450159, -0.12487547],\n",
       "       [-0.63642368, -0.46004006],\n",
       "       [-0.43189679, -0.77453664],\n",
       "       [-0.42785323, -0.3390482 ],\n",
       "       [-0.70175461, -0.58137314],\n",
       "       [-0.54691108, -0.06764934],\n",
       "       [-0.41250625, -0.05174763],\n",
       "       [-0.44396525, -0.49943858],\n",
       "       [-0.99646779, -0.51911096],\n",
       "       [-0.072545  , -0.80163431],\n",
       "       [-0.94790887, -0.59322111],\n",
       "       [-0.62760352, -0.14284694],\n",
       "       [-0.97338888, -0.07985077],\n",
       "       [-0.319097  , -0.09577401],\n",
       "       [-0.39247093, -0.18804669],\n",
       "       [-0.66445613, -0.65043377],\n",
       "       [-0.61012577, -0.24520292],\n",
       "       [-0.63070883, -0.75778019],\n",
       "       [-0.06233164, -0.09198892],\n",
       "       [-0.65120268, -0.36536193],\n",
       "       [-0.72615779, -0.79388487],\n",
       "       [-0.66366047, -0.67290011],\n",
       "       [-0.1177239 , -0.17769619],\n",
       "       [-0.29037677, -0.04065477],\n",
       "       [-0.57745665, -0.75496696],\n",
       "       [-0.88260156, -0.69894664],\n",
       "       [-0.85473627, -0.9078139 ],\n",
       "       [-0.3970678 , -0.63581255],\n",
       "       [-0.43542966, -0.80866428],\n",
       "       [-0.32309414, -0.78449455],\n",
       "       [-0.72197641, -0.25823958],\n",
       "       [-0.4402621 , -0.66516359],\n",
       "       [-0.45701122, -0.3060153 ],\n",
       "       [-0.08786788, -0.41928679],\n",
       "       [-0.76731362, -0.25330237],\n",
       "       [-0.22223098, -0.79959869],\n",
       "       [-0.17942578, -0.53506515],\n",
       "       [-0.22023334, -0.76252178],\n",
       "       [-0.66741973, -0.04630288],\n",
       "       [-0.34218493, -0.22712217],\n",
       "       [-0.31162566, -0.79569588],\n",
       "       [-0.52931125, -0.19103613],\n",
       "       [-0.32496487, -0.99397211],\n",
       "       [-0.91259226, -0.65320528],\n",
       "       [-0.05563446, -0.50880952],\n",
       "       [-0.72982373, -0.63957628],\n",
       "       [-0.78934737, -0.57879994],\n",
       "       [-0.78196456, -0.15424749]])"
      ]
     },
     "execution_count": 220,
     "metadata": {},
     "output_type": "execute_result"
    }
   ],
   "source": [
    "X1"
   ]
  },
  {
   "cell_type": "code",
   "execution_count": 221,
   "metadata": {},
   "outputs": [
    {
     "data": {
      "text/plain": [
       "array([0, 0, 0, 0, 0, 0, 0, 0, 0, 0, 0, 0, 0, 0, 0, 0, 0, 0, 0, 0, 0, 0,\n",
       "       0, 0, 0, 0, 0, 0, 0, 0, 0, 0, 0, 0, 0, 0, 0, 0, 0, 0, 0, 0, 0, 0,\n",
       "       0, 0, 0, 0, 0, 0, 0, 0, 0, 0, 0, 0, 0, 0, 0, 0, 0, 0, 0, 0, 0, 0,\n",
       "       0, 0, 0, 0, 0, 0, 0, 0, 0, 0, 0, 0, 0, 0, 0, 0, 0, 0, 0, 0, 0, 0,\n",
       "       0, 0, 0, 0, 0, 0, 0, 0, 0, 0, 0, 0])"
      ]
     },
     "execution_count": 221,
     "metadata": {},
     "output_type": "execute_result"
    }
   ],
   "source": [
    "# 1行100列の目的変数\n",
    "\n",
    "y0"
   ]
  },
  {
   "cell_type": "code",
   "execution_count": 222,
   "metadata": {
    "scrolled": true
   },
   "outputs": [
    {
     "data": {
      "text/plain": [
       "array([1, 1, 1, 1, 1, 1, 1, 1, 1, 1, 1, 1, 1, 1, 1, 1, 1, 1, 1, 1, 1, 1,\n",
       "       1, 1, 1, 1, 1, 1, 1, 1, 1, 1, 1, 1, 1, 1, 1, 1, 1, 1, 1, 1, 1, 1,\n",
       "       1, 1, 1, 1, 1, 1, 1, 1, 1, 1, 1, 1, 1, 1, 1, 1, 1, 1, 1, 1, 1, 1,\n",
       "       1, 1, 1, 1, 1, 1, 1, 1, 1, 1, 1, 1, 1, 1, 1, 1, 1, 1, 1, 1, 1, 1,\n",
       "       1, 1, 1, 1, 1, 1, 1, 1, 1, 1, 1, 1])"
      ]
     },
     "execution_count": 222,
     "metadata": {},
     "output_type": "execute_result"
    }
   ],
   "source": [
    "# 1行100列の目的変数\n",
    "\n",
    "y1"
   ]
  },
  {
   "cell_type": "code",
   "execution_count": 223,
   "metadata": {},
   "outputs": [
    {
     "data": {
      "text/plain": [
       "array([[ 0.69646919,  0.28613933],\n",
       "       [ 0.22685145,  0.55131477],\n",
       "       [ 0.71946897,  0.42310646],\n",
       "       [ 0.9807642 ,  0.68482974],\n",
       "       [ 0.4809319 ,  0.39211752],\n",
       "       [ 0.34317802,  0.72904971],\n",
       "       [ 0.43857224,  0.0596779 ],\n",
       "       [ 0.39804426,  0.73799541],\n",
       "       [ 0.18249173,  0.17545176],\n",
       "       [ 0.53155137,  0.53182759],\n",
       "       [ 0.63440096,  0.84943179],\n",
       "       [ 0.72445532,  0.61102351],\n",
       "       [ 0.72244338,  0.32295891],\n",
       "       [ 0.36178866,  0.22826323],\n",
       "       [ 0.29371405,  0.63097612],\n",
       "       [ 0.09210494,  0.43370117],\n",
       "       [ 0.43086276,  0.4936851 ],\n",
       "       [ 0.42583029,  0.31226122],\n",
       "       [ 0.42635131,  0.89338916],\n",
       "       [ 0.94416002,  0.50183668],\n",
       "       [ 0.62395295,  0.1156184 ],\n",
       "       [ 0.31728548,  0.41482621],\n",
       "       [ 0.86630916,  0.25045537],\n",
       "       [ 0.48303426,  0.98555979],\n",
       "       [ 0.51948512,  0.61289453],\n",
       "       [ 0.12062867,  0.8263408 ],\n",
       "       [ 0.60306013,  0.54506801],\n",
       "       [ 0.34276383,  0.30412079],\n",
       "       [ 0.41702221,  0.68130077],\n",
       "       [ 0.87545684,  0.51042234],\n",
       "       [ 0.66931378,  0.58593655],\n",
       "       [ 0.6249035 ,  0.67468905],\n",
       "       [ 0.84234244,  0.08319499],\n",
       "       [ 0.76368284,  0.24366637],\n",
       "       [ 0.19422296,  0.57245696],\n",
       "       [ 0.09571252,  0.88532683],\n",
       "       [ 0.62724897,  0.72341636],\n",
       "       [ 0.01612921,  0.59443188],\n",
       "       [ 0.55678519,  0.15895964],\n",
       "       [ 0.15307052,  0.69552953],\n",
       "       [ 0.31876643,  0.6919703 ],\n",
       "       [ 0.55438325,  0.38895057],\n",
       "       [ 0.92513249,  0.84167   ],\n",
       "       [ 0.35739757,  0.04359146],\n",
       "       [ 0.30476807,  0.39818568],\n",
       "       [ 0.70495883,  0.99535848],\n",
       "       [ 0.35591487,  0.76254781],\n",
       "       [ 0.59317692,  0.6917018 ],\n",
       "       [ 0.15112745,  0.39887629],\n",
       "       [ 0.2408559 ,  0.34345601],\n",
       "       [ 0.51312815,  0.66662455],\n",
       "       [ 0.10590849,  0.13089495],\n",
       "       [ 0.32198061,  0.66156434],\n",
       "       [ 0.84650623,  0.55325734],\n",
       "       [ 0.85445249,  0.38483781],\n",
       "       [ 0.3167879 ,  0.35426468],\n",
       "       [ 0.17108183,  0.82911263],\n",
       "       [ 0.33867085,  0.55237008],\n",
       "       [ 0.57855147,  0.52153306],\n",
       "       [ 0.00268806,  0.98834542],\n",
       "       [ 0.90534158,  0.20763586],\n",
       "       [ 0.29248941,  0.52001015],\n",
       "       [ 0.90191137,  0.98363088],\n",
       "       [ 0.25754206,  0.56435904],\n",
       "       [ 0.80696868,  0.39437005],\n",
       "       [ 0.73107304,  0.16106901],\n",
       "       [ 0.60069857,  0.86586446],\n",
       "       [ 0.98352161,  0.07936579],\n",
       "       [ 0.42834727,  0.20454286],\n",
       "       [ 0.45063649,  0.54776357],\n",
       "       [ 0.09332671,  0.29686078],\n",
       "       [ 0.92758424,  0.56900373],\n",
       "       [ 0.457412  ,  0.75352599],\n",
       "       [ 0.74186215,  0.04857903],\n",
       "       [ 0.7086974 ,  0.83924335],\n",
       "       [ 0.16593788,  0.78099794],\n",
       "       [ 0.28653662,  0.30646975],\n",
       "       [ 0.66526147,  0.11139217],\n",
       "       [ 0.66487245,  0.88785679],\n",
       "       [ 0.69631127,  0.44032788],\n",
       "       [ 0.43821438,  0.7650961 ],\n",
       "       [ 0.565642  ,  0.08490416],\n",
       "       [ 0.58267109,  0.8148437 ],\n",
       "       [ 0.33706638,  0.92757658],\n",
       "       [ 0.750717  ,  0.57406383],\n",
       "       [ 0.75164399,  0.07914896],\n",
       "       [ 0.85938908,  0.82150411],\n",
       "       [ 0.90987166,  0.1286312 ],\n",
       "       [ 0.08178009,  0.13841557],\n",
       "       [ 0.39937871,  0.42430686],\n",
       "       [ 0.56221838,  0.12224355],\n",
       "       [ 0.2013995 ,  0.81164435],\n",
       "       [ 0.46798757,  0.80793821],\n",
       "       [ 0.00742638,  0.55159273],\n",
       "       [ 0.93193215,  0.58217546],\n",
       "       [ 0.20609573,  0.71775756],\n",
       "       [ 0.37898585,  0.66838395],\n",
       "       [ 0.02931972,  0.63590036],\n",
       "       [ 0.03219793,  0.74478066],\n",
       "       [ 0.472913  ,  0.12175436],\n",
       "       [-0.45736407, -0.93322556],\n",
       "       [-0.34663513, -0.00391367],\n",
       "       [-0.23060266, -0.42622589],\n",
       "       [-0.89736474, -0.30016593],\n",
       "       [-0.33883213, -0.95090287],\n",
       "       [-0.2077007 , -0.48128341],\n",
       "       [-0.57413231, -0.21181283],\n",
       "       [-0.58843078, -0.51897372],\n",
       "       [-0.81837116, -0.6786811 ],\n",
       "       [-0.154467  , -0.81309625],\n",
       "       [-0.58270894, -0.01096549],\n",
       "       [-0.76340019, -0.08316767],\n",
       "       [-0.08160253, -0.90870366],\n",
       "       [-0.53634728, -0.49778366],\n",
       "       [-0.68633105, -0.95266046],\n",
       "       [-0.75831436, -0.90447036],\n",
       "       [-0.76175009, -0.19220891],\n",
       "       [-0.10502171, -0.95677711],\n",
       "       [-0.69805316, -0.0194178 ],\n",
       "       [-0.46049518, -0.37369064],\n",
       "       [-0.99445459, -0.51509056],\n",
       "       [-0.01167147, -0.62481447],\n",
       "       [-0.90296184, -0.53809124],\n",
       "       [-0.03699553, -0.65816939],\n",
       "       [-0.20107727, -0.20115367],\n",
       "       [-0.7917517 , -0.5566323 ],\n",
       "       [-0.28439872, -0.58948021],\n",
       "       [-0.80899304, -0.03250569],\n",
       "       [-0.34924963, -0.13454015],\n",
       "       [-0.97475764, -0.73309419],\n",
       "       [-0.4979289 , -0.93255136],\n",
       "       [-0.00696674, -0.7635376 ],\n",
       "       [-0.62570782, -0.78598809],\n",
       "       [-0.89455413, -0.76752021],\n",
       "       [-0.69938986, -0.36555773],\n",
       "       [-0.71876522, -0.63772324],\n",
       "       [-0.99405716, -0.63428087],\n",
       "       [-0.46611402, -0.83798416],\n",
       "       [-0.40256689, -0.70684753],\n",
       "       [-0.36794951, -0.97380339],\n",
       "       [-0.11240654, -0.98388137],\n",
       "       [-0.87304197, -0.22283754],\n",
       "       [-0.95410477, -0.28900131],\n",
       "       [-0.02895386, -0.12831707],\n",
       "       [-0.28983835, -0.04149026],\n",
       "       [-0.57018666, -0.12712109],\n",
       "       [-0.64404233, -0.07023635],\n",
       "       [-0.85122234, -0.05997099],\n",
       "       [-0.1672838 , -0.15394516],\n",
       "       [-0.87607699, -0.4035131 ],\n",
       "       [-0.98360752, -0.27881563],\n",
       "       [-0.99226249, -0.91517772],\n",
       "       [-0.77450159, -0.12487547],\n",
       "       [-0.63642368, -0.46004006],\n",
       "       [-0.43189679, -0.77453664],\n",
       "       [-0.42785323, -0.3390482 ],\n",
       "       [-0.70175461, -0.58137314],\n",
       "       [-0.54691108, -0.06764934],\n",
       "       [-0.41250625, -0.05174763],\n",
       "       [-0.44396525, -0.49943858],\n",
       "       [-0.99646779, -0.51911096],\n",
       "       [-0.072545  , -0.80163431],\n",
       "       [-0.94790887, -0.59322111],\n",
       "       [-0.62760352, -0.14284694],\n",
       "       [-0.97338888, -0.07985077],\n",
       "       [-0.319097  , -0.09577401],\n",
       "       [-0.39247093, -0.18804669],\n",
       "       [-0.66445613, -0.65043377],\n",
       "       [-0.61012577, -0.24520292],\n",
       "       [-0.63070883, -0.75778019],\n",
       "       [-0.06233164, -0.09198892],\n",
       "       [-0.65120268, -0.36536193],\n",
       "       [-0.72615779, -0.79388487],\n",
       "       [-0.66366047, -0.67290011],\n",
       "       [-0.1177239 , -0.17769619],\n",
       "       [-0.29037677, -0.04065477],\n",
       "       [-0.57745665, -0.75496696],\n",
       "       [-0.88260156, -0.69894664],\n",
       "       [-0.85473627, -0.9078139 ],\n",
       "       [-0.3970678 , -0.63581255],\n",
       "       [-0.43542966, -0.80866428],\n",
       "       [-0.32309414, -0.78449455],\n",
       "       [-0.72197641, -0.25823958],\n",
       "       [-0.4402621 , -0.66516359],\n",
       "       [-0.45701122, -0.3060153 ],\n",
       "       [-0.08786788, -0.41928679],\n",
       "       [-0.76731362, -0.25330237],\n",
       "       [-0.22223098, -0.79959869],\n",
       "       [-0.17942578, -0.53506515],\n",
       "       [-0.22023334, -0.76252178],\n",
       "       [-0.66741973, -0.04630288],\n",
       "       [-0.34218493, -0.22712217],\n",
       "       [-0.31162566, -0.79569588],\n",
       "       [-0.52931125, -0.19103613],\n",
       "       [-0.32496487, -0.99397211],\n",
       "       [-0.91259226, -0.65320528],\n",
       "       [-0.05563446, -0.50880952],\n",
       "       [-0.72982373, -0.63957628],\n",
       "       [-0.78934737, -0.57879994],\n",
       "       [-0.78196456, -0.15424749]])"
      ]
     },
     "execution_count": 223,
     "metadata": {},
     "output_type": "execute_result"
    }
   ],
   "source": [
    "np.vstack((X0, X1))"
   ]
  },
  {
   "cell_type": "code",
   "execution_count": 224,
   "metadata": {},
   "outputs": [
    {
     "data": {
      "text/plain": [
       "array([0, 0, 0, 0, 0, 0, 0, 0, 0, 0, 0, 0, 0, 0, 0, 0, 0, 0, 0, 0, 0, 0,\n",
       "       0, 0, 0, 0, 0, 0, 0, 0, 0, 0, 0, 0, 0, 0, 0, 0, 0, 0, 0, 0, 0, 0,\n",
       "       0, 0, 0, 0, 0, 0, 0, 0, 0, 0, 0, 0, 0, 0, 0, 0, 0, 0, 0, 0, 0, 0,\n",
       "       0, 0, 0, 0, 0, 0, 0, 0, 0, 0, 0, 0, 0, 0, 0, 0, 0, 0, 0, 0, 0, 0,\n",
       "       0, 0, 0, 0, 0, 0, 0, 0, 0, 0, 0, 0, 1, 1, 1, 1, 1, 1, 1, 1, 1, 1,\n",
       "       1, 1, 1, 1, 1, 1, 1, 1, 1, 1, 1, 1, 1, 1, 1, 1, 1, 1, 1, 1, 1, 1,\n",
       "       1, 1, 1, 1, 1, 1, 1, 1, 1, 1, 1, 1, 1, 1, 1, 1, 1, 1, 1, 1, 1, 1,\n",
       "       1, 1, 1, 1, 1, 1, 1, 1, 1, 1, 1, 1, 1, 1, 1, 1, 1, 1, 1, 1, 1, 1,\n",
       "       1, 1, 1, 1, 1, 1, 1, 1, 1, 1, 1, 1, 1, 1, 1, 1, 1, 1, 1, 1, 1, 1,\n",
       "       1, 1])"
      ]
     },
     "execution_count": 224,
     "metadata": {},
     "output_type": "execute_result"
    }
   ],
   "source": [
    "np.hstack((y0, y1))"
   ]
  },
  {
   "cell_type": "code",
   "execution_count": 225,
   "metadata": {},
   "outputs": [],
   "source": [
    "from sklearn.svm import SVC\n",
    "\n",
    "# 学習、決定境界、マージン、サポートベクタを可視化する関数を作成\n",
    "\n",
    "# プロット範囲について x も y も -1～1に設定する\n",
    "def plot_boundary_margin_sv(X0, y0, X1, y1, kernel, C, xmin = -1, xmax = 1, ymin = -1, ymax = 1):\n",
    "    \n",
    "    # インスタンスを作成\n",
    "    svc = SVC(kernel = kernel, C = C)\n",
    "    \n",
    "    # X0: y0に対応する特徴量2列\n",
    "    # X1: y1に対応する特徴量2列\n",
    "    \n",
    "    # 結合データに学習をさせる（モデルの作成）\n",
    "    svc.fit(np.vstack((X0, X1)), np.hstack((y0, y1)))\n",
    "    \n",
    "    fig, ax = plt.subplots()\n",
    "    \n",
    "    # 先ほどを同じプロットをする\n",
    "    ax.scatter(X0[:, 0], X0[:, 1], marker = 'o', label = 'X0')\n",
    "    ax.scatter(X1[:, 0], X1[:, 1], marker = 'x', label = 'X1')\n",
    "    \n",
    "    # 決定境界をプロットする\n",
    "    \n",
    "    # minとmax を100分割する\n",
    "    xx, yy = np.meshgrid(np.linspace(xmin, xmax, 100), np.linspace(ymin, ymax, 100))\n",
    "    \n",
    "    xy = np.vstack([xx.ravel(), yy.ravel()]).T\n",
    "    p = svc.decision_function(xy).reshape(100, 100)\n",
    "    \n",
    "    ax.contour(xx, yy, p, colors = 'k', levels = [-1, 0, 1], alpha = 0.5, linestyles = ['--', '-', '--'])\n",
    "    \n",
    "    ax.scatter(svc.support_vectors_[:, 0], svc.support_vectors_[:, 1], s = 250, facecolors = 'none', edgecolors = 'black')\n",
    "    \n",
    "    ax.set_xlabel('x')\n",
    "    ax.set_ylabel('y')\n",
    "    \n",
    "    ax.legend(loc = 'best')\n",
    "    \n",
    "    plt.show()"
   ]
  },
  {
   "cell_type": "code",
   "execution_count": 226,
   "metadata": {},
   "outputs": [
    {
     "data": {
      "image/png": "[encoded data removed]",
      "text/plain": [
       "<Figure size 432x288 with 1 Axes>"
      ]
     },
     "metadata": {
      "needs_background": "light"
     },
     "output_type": "display_data"
    }
   ],
   "source": [
    "plot_boundary_margin_sv(X0, y0, X1, y1, kernel ='linear', C = 1e6)"
   ]
  },
  {
   "cell_type": "code",
   "execution_count": 227,
   "metadata": {},
   "outputs": [
    {
     "data": {
      "image/png": "[encoded data removed]",
      "text/plain": [
       "<Figure size 432x288 with 1 Axes>"
      ]
     },
     "metadata": {
      "needs_background": "light"
     },
     "output_type": "display_data"
    }
   ],
   "source": [
    "plot_boundary_margin_sv(X0, y0, X1, y1, kernel= 'linear', C = 0.1)"
   ]
  },
  {
   "cell_type": "markdown",
   "metadata": {},
   "source": [
    "$x_{colunms = 1} > 2(x_{columns = 0} - 0.5)^2 + 0.5$　を $y$ に代入していると考える。<br>\n",
    "そしてこれが True なら 1 を、False なら 0 を出力させている。"
   ]
  },
  {
   "cell_type": "code",
   "execution_count": 228,
   "metadata": {},
   "outputs": [
    {
     "data": {
      "image/png": "[encoded data removed]",
      "text/plain": [
       "<Figure size 432x288 with 1 Axes>"
      ]
     },
     "metadata": {
      "needs_background": "light"
     },
     "output_type": "display_data"
    }
   ],
   "source": [
    "np.random.seed(123)\n",
    "\n",
    "X = np.random.random(size = (100, 2))\n",
    "\n",
    "# 今ここでは、yがX1、xがX0\n",
    "# ここでyに代入している（x1がx0に対して条件を満たしているもの）\n",
    "# astype で小数点も四捨五入されている\n",
    "# > ならば1、<= なら0で出力される\n",
    "# Trueなら1、Falseなら0を出力させている\n",
    "y = (X[:, 1] > 2 * (X[:, 0] - 0.5) ** 2 + 0.5).astype(int)\n",
    "\n",
    "fig, ax = plt.subplots()\n",
    "\n",
    "# プラスとマイナスになるというよりも、y(x1)が0と1になるときで場合分けをしているだけ\n",
    "ax.scatter(X[y == 0, 0], X[y == 0, 1], marker = 'x', label = 'class 0')\n",
    "ax.scatter(X[y == 1, 0], X[y == 1, 1], marker = 'o', label = 'class 1')\n",
    "\n",
    "ax.legend()\n",
    "\n",
    "plt.show()"
   ]
  },
  {
   "cell_type": "code",
   "execution_count": 229,
   "metadata": {},
   "outputs": [
    {
     "data": {
      "text/plain": [
       "array([0, 0, 0, 0, 0, 1, 0, 1, 0, 1, 1, 1, 0, 0, 1, 0, 0, 0, 1, 0, 0, 0,\n",
       "       0, 1, 1, 1, 1, 0, 1, 0, 1, 1, 0, 0, 0, 1, 1, 0, 0, 0, 1, 0, 0, 0,\n",
       "       0, 1, 1, 1, 0, 0, 1, 0, 1, 0, 0, 0, 1, 1, 1, 0, 0, 0, 1, 0, 0, 0,\n",
       "       1, 0, 0, 1, 0, 0, 1, 0, 1, 1, 0, 0, 1, 0, 1, 0, 1, 1, 0, 0, 1, 0,\n",
       "       0, 0, 0, 1, 1, 0, 0, 1, 1, 0, 0, 0])"
      ]
     },
     "execution_count": 229,
     "metadata": {},
     "output_type": "execute_result"
    }
   ],
   "source": [
    "y = (X[:, 1] > 2 * (X[:, 0] - 0.5) ** 2 + 0.5).astype(int)\n",
    "y"
   ]
  },
  {
   "cell_type": "code",
   "execution_count": 230,
   "metadata": {},
   "outputs": [
    {
     "data": {
      "text/plain": [
       "array([False, False, False, False, False,  True, False,  True, False,\n",
       "        True,  True,  True, False, False,  True, False, False, False,\n",
       "        True, False, False, False, False,  True,  True,  True,  True,\n",
       "       False,  True, False,  True,  True, False, False, False,  True,\n",
       "        True, False, False, False,  True, False, False, False, False,\n",
       "        True,  True,  True, False, False,  True, False,  True, False,\n",
       "       False, False,  True,  True,  True, False, False, False,  True,\n",
       "       False, False, False,  True, False, False,  True, False, False,\n",
       "        True, False,  True,  True, False, False,  True, False,  True,\n",
       "       False,  True,  True, False, False,  True, False, False, False,\n",
       "       False,  True,  True, False, False,  True,  True, False, False,\n",
       "       False])"
      ]
     },
     "execution_count": 230,
     "metadata": {},
     "output_type": "execute_result"
    }
   ],
   "source": [
    "y = (X[:, 1] > 2 * (X[:, 0] - 0.5) ** 2 + 0.5)\n",
    "y"
   ]
  },
  {
   "cell_type": "code",
   "execution_count": 231,
   "metadata": {
    "scrolled": true
   },
   "outputs": [
    {
     "data": {
      "image/png": "[encoded data removed]",
      "text/plain": [
       "<Figure size 432x288 with 1 Axes>"
      ]
     },
     "metadata": {
      "needs_background": "light"
     },
     "output_type": "display_data"
    }
   ],
   "source": [
    "X0 ,X1  = X[y == 0,:], X[y == 1,:]\n",
    "\n",
    "y0, y1 = y[y ==0], y[y == 1]\n",
    "\n",
    "plot_boundary_margin_sv(X0, y0, X1, y1, kernel = 'rbf', C = 1e3, xmin = 0, ymin = 0)"
   ]
  },
  {
   "cell_type": "code",
   "execution_count": 232,
   "metadata": {},
   "outputs": [
    {
     "data": {
      "text/plain": [
       "DecisionTreeClassifier(ccp_alpha=0.0, class_weight=None, criterion='gini',\n",
       "                       max_depth=3, max_features=None, max_leaf_nodes=None,\n",
       "                       min_impurity_decrease=0.0, min_impurity_split=None,\n",
       "                       min_samples_leaf=1, min_samples_split=2,\n",
       "                       min_weight_fraction_leaf=0.0, presort='deprecated',\n",
       "                       random_state=None, splitter='best')"
      ]
     },
     "execution_count": 232,
     "metadata": {},
     "output_type": "execute_result"
    }
   ],
   "source": [
    "from sklearn.datasets import load_iris\n",
    "from sklearn.model_selection import train_test_split\n",
    "from sklearn.tree import DecisionTreeClassifier\n",
    "\n",
    "iris = load_iris()\n",
    "\n",
    "X, y = iris.data, iris.target\n",
    "\n",
    "X_train, X_test, y_train, y_test = train_test_split(X, y, test_size = 0.3, random_state = 123)\n",
    "\n",
    "tree = DecisionTreeClassifier(max_depth = 3)\n",
    "\n",
    "tree.fit(X_train, y_train)"
   ]
  },
  {
   "cell_type": "code",
   "execution_count": 233,
   "metadata": {},
   "outputs": [],
   "source": [
    "# 2つセットで、決定木を可視化するモジュール\n",
    "from pydotplus import graph_from_dot_data\n",
    "from sklearn.tree import export_graphviz"
   ]
  },
  {
   "cell_type": "code",
   "execution_count": 234,
   "metadata": {
    "scrolled": true
   },
   "outputs": [],
   "source": [
    "# おそらく本当の決定木のコードではない\n",
    "# Pythonではじめる機械学習で学ぼう\n",
    "\n",
    "dot_data = export_graphviz(tree, \n",
    "                           \n",
    "                           # filled = Trueで枝に色が塗られる\n",
    "                           filled = True, \n",
    "                           \n",
    "                           # rounded = Trueでノードの角が丸くなる\n",
    "                           rounded = True, \n",
    "                           \n",
    "                           # クラス：目的変数\n",
    "                           class_names = ['Setosa', 'Versicolor', 'Virginica'],\n",
    "                           \n",
    "                           # 特徴量：説明変数\n",
    "                           feature_names = ['Sepal Length', 'Sepal Width', 'Petal Length', 'Petal Width'])"
   ]
  },
  {
   "cell_type": "code",
   "execution_count": 235,
   "metadata": {},
   "outputs": [
    {
     "data": {
      "text/plain": [
       "True"
      ]
     },
     "execution_count": 235,
     "metadata": {},
     "output_type": "execute_result"
    }
   ],
   "source": [
    "graph = graph_from_dot_data(dot_data)\n",
    "graph.write_png('tree.png')"
   ]
  },
  {
   "cell_type": "code",
   "execution_count": 236,
   "metadata": {},
   "outputs": [
    {
     "data": {
      "text/plain": [
       "array([1, 2, 2, 1, 0, 1, 1, 0, 0, 1, 2, 0, 1, 2, 2, 2, 0, 0, 1, 0, 0, 1,\n",
       "       0, 2, 0, 0, 0, 2, 2, 0, 2, 1, 0, 0, 1, 1, 2, 0, 0, 1, 1, 0, 2, 2,\n",
       "       2])"
      ]
     },
     "execution_count": 236,
     "metadata": {},
     "output_type": "execute_result"
    }
   ],
   "source": [
    "from sklearn.ensemble import RandomForestClassifier\n",
    "\n",
    "forest = RandomForestClassifier(n_estimators = 100, random_state = 123)\n",
    "\n",
    "forest.fit(X_train, y_train)\n",
    "\n",
    "y_pred = forest.predict(X_test)\n",
    "y_pred"
   ]
  },
  {
   "cell_type": "code",
   "execution_count": 237,
   "metadata": {},
   "outputs": [
    {
     "data": {
      "text/plain": [
       "LinearRegression(copy_X=True, fit_intercept=True, n_jobs=None, normalize=False)"
      ]
     },
     "execution_count": 237,
     "metadata": {},
     "output_type": "execute_result"
    }
   ],
   "source": [
    "# from に関しては、基本的に小文字のものが多い\n",
    "from sklearn.linear_model import LinearRegression\n",
    "from sklearn.datasets import load_boston\n",
    "from sklearn.model_selection import train_test_split\n",
    "\n",
    "boston = load_boston()\n",
    "\n",
    "X, y = boston.data, boston.target\n",
    "\n",
    "X_train, X_test, y_train, y_test = train_test_split(X, y, test_size = 0.3)\n",
    "\n",
    "lr = LinearRegression()\n",
    "\n",
    "lr.fit(X_train, y_train)"
   ]
  },
  {
   "cell_type": "code",
   "execution_count": 238,
   "metadata": {},
   "outputs": [],
   "source": [
    "y_pred = lr.predict(X_test)"
   ]
  },
  {
   "cell_type": "code",
   "execution_count": 239,
   "metadata": {},
   "outputs": [
    {
     "data": {
      "text/plain": [
       "array([15.92672476, 16.11182363, 18.64781476, 34.30460426, 24.27151859,\n",
       "       30.84485296, 35.4916426 , 22.08964232, 18.7155506 , 32.48058797,\n",
       "       22.48471223, 36.67010589, 37.54705608, 30.30921235, 13.69066556,\n",
       "       27.16641538, 16.82359533, 32.16083847, 21.08416685, 17.51515068,\n",
       "       28.11932811, 24.56412874,  6.70213702, 23.73945838, 33.45681386,\n",
       "       27.66051135,  7.20110583, 24.20266072, 22.07715869, 19.38580633,\n",
       "       20.25292157, 22.92545709, 23.68341191, 15.65008921, 24.95490439,\n",
       "       22.85461742, 16.87166159, 15.87326378, 25.61526282, 35.84568975,\n",
       "       21.09330635, 27.63797589, 25.98469549, 21.28181102, 19.85826475,\n",
       "       28.31641865, 35.65900014, 20.99859267, 13.99085171, 26.49140423,\n",
       "       29.20367563, 37.13314988, 20.50778392, 22.24497269, 32.41445434,\n",
       "       23.66125043, 21.30388869, 33.47129872, 35.95444517, 32.54432445,\n",
       "       24.18025445, 35.95417114, 17.00179219,  6.67529311, 29.844667  ,\n",
       "       35.35162731, 14.75668513, 24.72515062, 26.27726675, 24.58556301,\n",
       "       19.4329203 , 25.1804374 , 32.83033433, 24.16406246, 15.42274606,\n",
       "       24.28843197, 41.00983249, 33.22047061, 17.16259287, 24.90945036,\n",
       "       21.13032894, 27.84434787, 17.69610152, 40.79526813, 14.94785707,\n",
       "       24.94634788, 14.11458412, 28.626127  , 21.81670629, 10.54994165,\n",
       "       31.59675878, 27.20906053, 19.47978641, 31.65445644, 30.4285084 ,\n",
       "       36.84249315, 29.18485231,  8.08991593, 18.82172129,  3.66035938,\n",
       "       16.56943662, 22.72712047, 21.43624629, 18.40734749, 20.34351766,\n",
       "       14.157636  , 12.09345511, 21.57604011, 33.06014412, 22.21115798,\n",
       "       35.23863725, 13.05574086, 20.56580311, 22.32567016, 10.27037391,\n",
       "       23.72706781, 25.6120891 , 23.01881013, 30.97370909, 28.05192806,\n",
       "       21.48714839, 20.80745241, 19.54346843, 10.76617094, 25.45518862,\n",
       "       19.81098993, 16.53305406, 18.9263462 , 23.2340798 , 23.21341339,\n",
       "       27.78723058, 26.2095209 , 18.83507133, 21.10468777, 36.1331542 ,\n",
       "       18.0188111 , 26.14770575, 22.6340574 , 18.11293204, 15.28041659,\n",
       "       21.22659292, 21.28642345, 25.79931902, 29.10785542, 38.83561216,\n",
       "       25.12204662, 16.01726069, 22.36642743, 19.72268821,  6.31292746,\n",
       "       31.51328309, 16.53275231])"
      ]
     },
     "execution_count": 239,
     "metadata": {},
     "output_type": "execute_result"
    }
   ],
   "source": [
    "y_pred"
   ]
  },
  {
   "cell_type": "code",
   "execution_count": 240,
   "metadata": {},
   "outputs": [
    {
     "data": {
      "image/png": "[encoded data removed]",
      "text/plain": [
       "<Figure size 432x288 with 1 Axes>"
      ]
     },
     "metadata": {
      "needs_background": "light"
     },
     "output_type": "display_data"
    }
   ],
   "source": [
    "import matplotlib.pyplot as plt\n",
    "\n",
    "fig, ax = plt.subplots()\n",
    "\n",
    "ax.scatter(y_pred, y_test)\n",
    "\n",
    "ax.plot((0, 50), (0, 50), linestyle = 'dashed', color = 'red')\n",
    "\n",
    "ax.set_xlabel('predict')\n",
    "ax.set_ylabel('test')\n",
    "\n",
    "plt.show()\n",
    "\n",
    "# y=xの直線に近い点が多いので、あまり誤差はないと確認できる"
   ]
  },
  {
   "cell_type": "code",
   "execution_count": 241,
   "metadata": {},
   "outputs": [
    {
     "data": {
      "image/png": "[encoded data removed]",
      "text/plain": [
       "<Figure size 432x288 with 1 Axes>"
      ]
     },
     "metadata": {
      "needs_background": "light"
     },
     "output_type": "display_data"
    }
   ],
   "source": [
    "np.random.seed(123)\n",
    "\n",
    "X = np.random.random(size = 50)\n",
    "\n",
    "y = 2*X + 0.5 * np.random.rand(50)\n",
    "\n",
    "fig, ax = plt.subplots()\n",
    "\n",
    "ax.scatter(X, y)\n",
    "\n",
    "plt.show()"
   ]
  },
  {
   "cell_type": "code",
   "execution_count": 242,
   "metadata": {},
   "outputs": [
    {
     "data": {
      "text/plain": [
       "array([0.69646919, 0.28613933, 0.22685145, 0.55131477, 0.71946897,\n",
       "       0.42310646, 0.9807642 , 0.68482974, 0.4809319 , 0.39211752,\n",
       "       0.34317802, 0.72904971, 0.43857224, 0.0596779 , 0.39804426,\n",
       "       0.73799541, 0.18249173, 0.17545176, 0.53155137, 0.53182759,\n",
       "       0.63440096, 0.84943179, 0.72445532, 0.61102351, 0.72244338,\n",
       "       0.32295891, 0.36178866, 0.22826323, 0.29371405, 0.63097612,\n",
       "       0.09210494, 0.43370117, 0.43086276, 0.4936851 , 0.42583029,\n",
       "       0.31226122, 0.42635131, 0.89338916, 0.94416002, 0.50183668,\n",
       "       0.62395295, 0.1156184 , 0.31728548, 0.41482621, 0.86630916,\n",
       "       0.25045537, 0.48303426, 0.98555979, 0.51948512, 0.61289453])"
      ]
     },
     "execution_count": 242,
     "metadata": {},
     "output_type": "execute_result"
    }
   ],
   "source": [
    "# 1次元配列\n",
    "X"
   ]
  },
  {
   "cell_type": "code",
   "execution_count": 243,
   "metadata": {},
   "outputs": [
    {
     "data": {
      "text/plain": [
       "array([1.4532527 , 0.98544907, 0.75523297, 1.37516354, 1.61031986,\n",
       "       0.99827331, 2.1700395 , 1.71030986, 1.39959222, 1.03944621,\n",
       "       1.02101292, 1.75106769, 1.18959624, 0.45670032, 1.21725973,\n",
       "       1.51758831, 0.74682488, 0.4727367 , 1.16021423, 1.34988365,\n",
       "       1.31665818, 2.141527  , 1.76253514, 1.5837552 , 1.45295137,\n",
       "       0.94313377, 1.00196991, 0.53600628, 0.66396335, 1.60971701,\n",
       "       0.34359309, 1.21338749, 1.13891715, 1.18184548, 1.31422683,\n",
       "       1.04535744, 1.0314014 , 1.80857406, 2.04070407, 1.20276619,\n",
       "       1.60038532, 0.72891603, 0.8125284 , 1.21092633, 2.02920677,\n",
       "       0.84676163, 1.04163225, 2.17055772, 1.15939819, 1.39751706])"
      ]
     },
     "execution_count": 243,
     "metadata": {},
     "output_type": "execute_result"
    }
   ],
   "source": [
    "# 1次元配列\n",
    "y"
   ]
  },
  {
   "cell_type": "code",
   "execution_count": 244,
   "metadata": {},
   "outputs": [
    {
     "data": {
      "text/plain": [
       "array([[0.69646919, 1.4532527 ],\n",
       "       [0.28613933, 0.98544907],\n",
       "       [0.22685145, 0.75523297],\n",
       "       [0.55131477, 1.37516354],\n",
       "       [0.71946897, 1.61031986],\n",
       "       [0.42310646, 0.99827331],\n",
       "       [0.9807642 , 2.1700395 ],\n",
       "       [0.68482974, 1.71030986],\n",
       "       [0.4809319 , 1.39959222],\n",
       "       [0.39211752, 1.03944621],\n",
       "       [0.34317802, 1.02101292],\n",
       "       [0.72904971, 1.75106769],\n",
       "       [0.43857224, 1.18959624],\n",
       "       [0.0596779 , 0.45670032],\n",
       "       [0.39804426, 1.21725973],\n",
       "       [0.73799541, 1.51758831],\n",
       "       [0.18249173, 0.74682488],\n",
       "       [0.17545176, 0.4727367 ],\n",
       "       [0.53155137, 1.16021423],\n",
       "       [0.53182759, 1.34988365],\n",
       "       [0.63440096, 1.31665818],\n",
       "       [0.84943179, 2.141527  ],\n",
       "       [0.72445532, 1.76253514],\n",
       "       [0.61102351, 1.5837552 ],\n",
       "       [0.72244338, 1.45295137],\n",
       "       [0.32295891, 0.94313377],\n",
       "       [0.36178866, 1.00196991],\n",
       "       [0.22826323, 0.53600628],\n",
       "       [0.29371405, 0.66396335],\n",
       "       [0.63097612, 1.60971701],\n",
       "       [0.09210494, 0.34359309],\n",
       "       [0.43370117, 1.21338749],\n",
       "       [0.43086276, 1.13891715],\n",
       "       [0.4936851 , 1.18184548],\n",
       "       [0.42583029, 1.31422683],\n",
       "       [0.31226122, 1.04535744],\n",
       "       [0.42635131, 1.0314014 ],\n",
       "       [0.89338916, 1.80857406],\n",
       "       [0.94416002, 2.04070407],\n",
       "       [0.50183668, 1.20276619],\n",
       "       [0.62395295, 1.60038532],\n",
       "       [0.1156184 , 0.72891603],\n",
       "       [0.31728548, 0.8125284 ],\n",
       "       [0.41482621, 1.21092633],\n",
       "       [0.86630916, 2.02920677],\n",
       "       [0.25045537, 0.84676163],\n",
       "       [0.48303426, 1.04163225],\n",
       "       [0.98555979, 2.17055772],\n",
       "       [0.51948512, 1.15939819],\n",
       "       [0.61289453, 1.39751706]])"
      ]
     },
     "execution_count": 244,
     "metadata": {},
     "output_type": "execute_result"
    }
   ],
   "source": [
    "# 両方とも2次元以上に変換しないと、結合はできない（覚えておく）\n",
    "\n",
    "np.hstack((X[:, np.newaxis], y[:, np.newaxis]))"
   ]
  },
  {
   "cell_type": "code",
   "execution_count": 245,
   "metadata": {},
   "outputs": [],
   "source": [
    "# 2つの主成分 x, y を違う2つの成分（特徴量）に変換する\n",
    "\n",
    "from sklearn.decomposition import PCA\n",
    "\n",
    "pca = PCA(n_components = 2)\n",
    "\n",
    "# インスタンス定義したら、基本的にfitしかできない\n",
    "\n",
    "X_pca = pca.fit_transform(np.hstack((X[:, np.newaxis], y[:, np.newaxis])))"
   ]
  },
  {
   "cell_type": "code",
   "execution_count": 246,
   "metadata": {},
   "outputs": [
    {
     "data": {
      "image/png": "[encoded data removed]",
      "text/plain": [
       "<Figure size 432x288 with 1 Axes>"
      ]
     },
     "metadata": {
      "needs_background": "light"
     },
     "output_type": "display_data"
    }
   ],
   "source": [
    "fig, ax = plt.subplots()\n",
    "\n",
    "# 新たな列（特徴量）の2つを取ってプロットとする\n",
    "ax.scatter(X_pca[:, 0], X_pca[:, 1])\n",
    "\n",
    "ax.set_xlabel('PC1')\n",
    "ax.set_ylabel('PC2')\n",
    "\n",
    "ax.set_xlim(-1.1, 1.1)\n",
    "ax.set_ylim(-1.1, 1.1)\n",
    "\n",
    "plt.show()"
   ]
  },
  {
   "cell_type": "code",
   "execution_count": 247,
   "metadata": {},
   "outputs": [],
   "source": [
    "from sklearn .datasets import load_iris\n",
    "from sklearn.svm import SVC\n",
    "from sklearn.model_selection import train_test_split\n",
    "\n",
    "iris = load_iris()\n",
    "\n",
    "X, y = iris.data[:100, :], iris.target[:100]\n",
    "\n",
    "X_train, X_test, y_train, y_test = train_test_split(X, y, test_size = 0.3)\n",
    "\n",
    "svc = SVC()\n",
    "\n",
    "# SVCというモジュールには、transformが搭載されていない\n",
    "svc.fit(X_train, y_train)\n",
    "\n",
    "y_pred = svc.predict(X_test)"
   ]
  },
  {
   "cell_type": "code",
   "execution_count": 248,
   "metadata": {},
   "outputs": [
    {
     "data": {
      "text/plain": [
       "array([0, 1, 0, 1, 0, 0, 0, 1, 0, 0, 1, 1, 1, 1, 1, 0, 1, 0, 0, 1, 0, 1,\n",
       "       1, 1, 1, 0, 1, 0, 1, 0])"
      ]
     },
     "execution_count": 248,
     "metadata": {},
     "output_type": "execute_result"
    }
   ],
   "source": [
    "y_pred"
   ]
  },
  {
   "cell_type": "code",
   "execution_count": 249,
   "metadata": {
    "scrolled": true
   },
   "outputs": [
    {
     "name": "stdout",
     "output_type": "stream",
     "text": [
      "              precision    recall  f1-score   support\n",
      "\n",
      "           0       1.00      1.00      1.00        14\n",
      "           1       1.00      1.00      1.00        16\n",
      "\n",
      "    accuracy                           1.00        30\n",
      "   macro avg       1.00      1.00      1.00        30\n",
      "weighted avg       1.00      1.00      1.00        30\n",
      "\n"
     ]
    }
   ],
   "source": [
    "# 混同行列は出力結果が1か0の時しか使用できない（だから分類のみなのである）\n",
    "\n",
    "from sklearn.metrics import classification_report\n",
    "\n",
    "print(classification_report(y_test, y_pred))"
   ]
  },
  {
   "cell_type": "code",
   "execution_count": 250,
   "metadata": {},
   "outputs": [
    {
     "data": {
      "text/plain": [
       "array([1., 1., 1., 1., 1., 1., 1., 1., 1., 1.])"
      ]
     },
     "execution_count": 250,
     "metadata": {},
     "output_type": "execute_result"
    }
   ],
   "source": [
    "from sklearn.svm import SVC\n",
    "from sklearn.model_selection import cross_val_score\n",
    "\n",
    "svc = SVC()\n",
    "\n",
    "cross_val_score(svc, X, y, cv = 10, scoring = 'precision')"
   ]
  },
  {
   "cell_type": "code",
   "execution_count": 251,
   "metadata": {},
   "outputs": [],
   "source": [
    "import numpy as np\n",
    "import matplotlib.pyplot as plt"
   ]
  },
  {
   "cell_type": "code",
   "execution_count": 252,
   "metadata": {},
   "outputs": [],
   "source": [
    "fpr = np.array([0, 0, 0, 1, 1, 2, 3, 3, 3, 3, 4, 5, 5, 6, 7, 8, 8, 8,  9, 10, 10, 11, 12, 12, 13, 14]) /14\n",
    "\n",
    "tpr = np.array([0, 1, 2, 2, 3, 3, 3, 4, 5, 6, 6, 6, 7, 7, 7, 7, 8, 9, 9, 9, 10, 10, 10, 11, 11, 11]) / 11"
   ]
  },
  {
   "cell_type": "code",
   "execution_count": 253,
   "metadata": {},
   "outputs": [
    {
     "data": {
      "image/png": "[encoded data removed]",
      "text/plain": [
       "<Figure size 432x288 with 1 Axes>"
      ]
     },
     "metadata": {
      "needs_background": "light"
     },
     "output_type": "display_data"
    }
   ],
   "source": [
    "fig, ax = plt.subplots()\n",
    "\n",
    "ax.step(fpr, tpr)\n",
    "ax.set_xlabel('fpr')\n",
    "ax.set_ylabel('tpr')\n",
    "\n",
    "plt.show()"
   ]
  },
  {
   "cell_type": "code",
   "execution_count": 254,
   "metadata": {},
   "outputs": [],
   "source": [
    "# 疑陽性率と真陽性率を自動で計算してくれる\n",
    "from sklearn.metrics import roc_curve\n",
    "\n",
    "# 退会したかどうか\n",
    "labels = np.array([1, 1, 0, 1, 0, 0, 1, 1, 1, 0, 0, 1, 0, 0, 0, 1, 1, 0, 0, 1, 0, 0, 1, 0, 0])\n",
    "\n",
    "# 退会する確率\n",
    "probs = np.array([0.98, 0.95, 0.9, 0.87, 0.85,\n",
    "                 0.8, 0.75, 0.71, 0.63, 0.55,\n",
    "                 0.51, 0.47, 0.43, 0.38, 0.35, \n",
    "                 0.31, 0.28, 0.24, 0.22, 0.19,\n",
    "                  0.15, 0.12, 0.08, 0.04, 0.01])"
   ]
  },
  {
   "cell_type": "code",
   "execution_count": 255,
   "metadata": {},
   "outputs": [
    {
     "name": "stdout",
     "output_type": "stream",
     "text": [
      "偽陽性率： [0.         0.         0.         0.07142857 0.07142857 0.21428571\n",
      " 0.21428571 0.35714286 0.35714286 0.57142857 0.57142857 0.71428571\n",
      " 0.71428571 0.85714286 0.85714286 1.        ]\n",
      "真陽性率： [0.         0.09090909 0.18181818 0.18181818 0.27272727 0.27272727\n",
      " 0.54545455 0.54545455 0.63636364 0.63636364 0.81818182 0.81818182\n",
      " 0.90909091 0.90909091 1.         1.        ]\n"
     ]
    }
   ],
   "source": [
    "# 実際に計算する（先ほどのデータ2つを引数に入れる）\n",
    "fpr, tpr, threshold = roc_curve(labels, probs)\n",
    "\n",
    "print('偽陽性率：', fpr)\n",
    "print('真陽性率：', tpr)"
   ]
  },
  {
   "cell_type": "code",
   "execution_count": 256,
   "metadata": {},
   "outputs": [
    {
     "data": {
      "image/png": "[encoded data removed]",
      "text/plain": [
       "<Figure size 432x288 with 1 Axes>"
      ]
     },
     "metadata": {
      "needs_background": "light"
     },
     "output_type": "display_data"
    }
   ],
   "source": [
    "fig, ax = plt.subplots()\n",
    "\n",
    "ax.step(fpr, tpr)\n",
    "\n",
    "ax.set_xlabel('fpr')\n",
    "ax.set_ylabel('tpr')\n",
    "\n",
    "plt.show()"
   ]
  },
  {
   "cell_type": "code",
   "execution_count": 257,
   "metadata": {},
   "outputs": [
    {
     "data": {
      "text/plain": [
       "0.6558441558441558"
      ]
     },
     "execution_count": 257,
     "metadata": {},
     "output_type": "execute_result"
    }
   ],
   "source": [
    "from sklearn.metrics import roc_auc_score\n",
    "\n",
    "# 引数には、退会の有無と退会確率を入れる\n",
    "roc_auc_score(labels, probs)\n",
    "\n",
    "# つまり偽陽性率と真陽性率を求めなくても、全体の面積の値を求めることができる"
   ]
  },
  {
   "cell_type": "code",
   "execution_count": 258,
   "metadata": {},
   "outputs": [],
   "source": [
    "from sklearn.datasets import load_iris\n",
    "from sklearn.model_selection import GridSearchCV\n",
    "from sklearn.tree import DecisionTreeClassifier\n",
    "from sklearn.model_selection import train_test_split"
   ]
  },
  {
   "cell_type": "code",
   "execution_count": 259,
   "metadata": {},
   "outputs": [],
   "source": [
    "iris = load_iris()\n",
    "\n",
    "X, y = iris.data, iris.target\n",
    "\n",
    "X_train, X_test, y_train, y_test = train_test_split(X, y, test_size = 0.3)\n",
    "\n",
    "# classifierの略、インスタンス（適用関数f(x)の作成）\n",
    "clf = DecisionTreeClassifier()\n",
    "\n",
    "# 訓練データでモデルを構築するときの、パラメータを探索するから、対象は訓練データのみになる\n",
    "# x と y の関係式を作る上で、最も最適パラメータを探索している"
   ]
  },
  {
   "cell_type": "code",
   "execution_count": 260,
   "metadata": {},
   "outputs": [],
   "source": [
    "param_grid = {'max_depth': [3, 4, 5]}"
   ]
  },
  {
   "cell_type": "code",
   "execution_count": 261,
   "metadata": {},
   "outputs": [
    {
     "data": {
      "text/plain": [
       "GridSearchCV(cv=10, error_score=nan,\n",
       "             estimator=DecisionTreeClassifier(ccp_alpha=0.0, class_weight=None,\n",
       "                                              criterion='gini', max_depth=None,\n",
       "                                              max_features=None,\n",
       "                                              max_leaf_nodes=None,\n",
       "                                              min_impurity_decrease=0.0,\n",
       "                                              min_impurity_split=None,\n",
       "                                              min_samples_leaf=1,\n",
       "                                              min_samples_split=2,\n",
       "                                              min_weight_fraction_leaf=0.0,\n",
       "                                              presort='deprecated',\n",
       "                                              random_state=None,\n",
       "                                              splitter='best'),\n",
       "             iid='deprecated', n_jobs=None, param_grid={'max_depth': [3, 4, 5]},\n",
       "             pre_dispatch='2*n_jobs', refit=True, return_train_score=False,\n",
       "             scoring=None, verbose=0)"
      ]
     },
     "execution_count": 261,
     "metadata": {},
     "output_type": "execute_result"
    }
   ],
   "source": [
    "# さらに大きなインスタンスを作成\n",
    "cv = GridSearchCV(clf, param_grid = param_grid, cv = 10)\n",
    "cv.fit(X_train, y_train)\n",
    "\n",
    "# pramではなく、paramであることに注意"
   ]
  },
  {
   "cell_type": "code",
   "execution_count": 262,
   "metadata": {},
   "outputs": [
    {
     "data": {
      "text/plain": [
       "{'max_depth': 4}"
      ]
     },
     "execution_count": 262,
     "metadata": {},
     "output_type": "execute_result"
    }
   ],
   "source": [
    "cv.best_params_"
   ]
  },
  {
   "cell_type": "code",
   "execution_count": 263,
   "metadata": {},
   "outputs": [
    {
     "data": {
      "text/plain": [
       "DecisionTreeClassifier(ccp_alpha=0.0, class_weight=None, criterion='gini',\n",
       "                       max_depth=4, max_features=None, max_leaf_nodes=None,\n",
       "                       min_impurity_decrease=0.0, min_impurity_split=None,\n",
       "                       min_samples_leaf=1, min_samples_split=2,\n",
       "                       min_weight_fraction_leaf=0.0, presort='deprecated',\n",
       "                       random_state=None, splitter='best')"
      ]
     },
     "execution_count": 263,
     "metadata": {},
     "output_type": "execute_result"
    }
   ],
   "source": [
    "cv.best_estimator_"
   ]
  },
  {
   "cell_type": "code",
   "execution_count": 264,
   "metadata": {},
   "outputs": [],
   "source": [
    "# cv.predictを使用すると、そのままベストなパラメータで予測値を出してくれる\n",
    "# SEが楽にできるように、こういった仕組みにしてくれていると考える\n",
    "\n",
    "y_pred = cv.predict(X_test)"
   ]
  },
  {
   "cell_type": "code",
   "execution_count": 265,
   "metadata": {},
   "outputs": [
    {
     "data": {
      "text/plain": [
       "array([0, 1, 0, 1, 0, 0, 0, 0, 0, 1, 2, 2, 1, 0, 1, 0, 0, 1, 2, 0, 1, 2,\n",
       "       1, 1, 2, 2, 1, 0, 2, 1, 1, 1, 1, 0, 0, 1, 1, 2, 0, 1, 0, 1, 1, 2,\n",
       "       0])"
      ]
     },
     "execution_count": 265,
     "metadata": {},
     "output_type": "execute_result"
    }
   ],
   "source": [
    "y_pred"
   ]
  },
  {
   "cell_type": "code",
   "execution_count": 266,
   "metadata": {},
   "outputs": [],
   "source": [
    "from sklearn.datasets import load_iris\n",
    "\n",
    "iris = load_iris()\n",
    "data = iris.data\n",
    "\n",
    "X = data[:100, [0, 2]]"
   ]
  },
  {
   "cell_type": "code",
   "execution_count": 267,
   "metadata": {},
   "outputs": [
    {
     "data": {
      "image/png": "[encoded data removed]",
      "text/plain": [
       "<Figure size 432x288 with 1 Axes>"
      ]
     },
     "metadata": {
      "needs_background": "light"
     },
     "output_type": "display_data"
    }
   ],
   "source": [
    "fig, ax = plt.subplots()\n",
    "\n",
    "ax.scatter(X[:, 0], X[:, 1])\n",
    "\n",
    "ax.set_xlabel('Sepal Width')\n",
    "ax.set_ylabel('Petal Width')\n",
    "\n",
    "plt.show()"
   ]
  },
  {
   "cell_type": "code",
   "execution_count": 268,
   "metadata": {},
   "outputs": [
    {
     "data": {
      "text/plain": [
       "array([0, 0, 0, 0, 0, 0, 0, 0, 0, 0, 0, 0, 0, 0, 0, 0, 0, 0, 0, 0, 0, 0,\n",
       "       0, 0, 0, 0, 0, 0, 0, 0, 0, 0, 0, 0, 0, 0, 0, 0, 0, 0, 0, 0, 0, 0,\n",
       "       0, 0, 0, 0, 0, 0, 2, 2, 2, 1, 2, 1, 2, 1, 2, 1, 1, 1, 1, 2, 1, 2,\n",
       "       1, 1, 2, 1, 2, 1, 2, 2, 2, 2, 2, 2, 2, 1, 1, 1, 1, 2, 1, 2, 2, 2,\n",
       "       1, 1, 1, 2, 1, 1, 1, 1, 1, 2, 1, 1])"
      ]
     },
     "execution_count": 268,
     "metadata": {},
     "output_type": "execute_result"
    }
   ],
   "source": [
    "from sklearn.cluster import KMeans\n",
    "\n",
    "km = KMeans(\n",
    "    \n",
    "    # 3つに分類\n",
    "    n_clusters = 3, \n",
    "    \n",
    "    # 初期値（最初の中心点）の与え方\n",
    "    init = 'random', \n",
    "    \n",
    "    # kmeans を実行する回数\n",
    "    n_init = 10,\n",
    "    \n",
    "    random_state = 123)\n",
    "\n",
    "y_km = km.fit_predict(X)\n",
    "y_km"
   ]
  },
  {
   "cell_type": "code",
   "execution_count": 269,
   "metadata": {},
   "outputs": [
    {
     "data": {
      "image/png": "[encoded data removed]",
      "text/plain": [
       "<Figure size 432x288 with 1 Axes>"
      ]
     },
     "metadata": {
      "needs_background": "light"
     },
     "output_type": "display_data"
    }
   ],
   "source": [
    "import numpy as np\n",
    "\n",
    "fig, ax = plt.subplots()\n",
    "\n",
    "# 各クラスタ\n",
    "\n",
    "# y_km=0 に分類される X[0]：Sepal Length と X[1]:Petal length でプロット\n",
    "ax.scatter(X[y_km == 0, 0], X[y_km == 0, 1], s = 50, edgecolor = 'black', marker = 's', label = 'cluster 1')\n",
    "\n",
    "\n",
    "ax.scatter(X[y_km == 1, 0], X[y_km == 1, 0], s = 50, edgecolor = 'black', marker = 'o', label = 'cluster 2')\n",
    "ax.scatter(X[y_km == 2, 0], X[y_km == 2, 1], s = 50, edgecolor = 'black', marker = 'v', label = 'cluster 3')\n",
    "\n",
    "# クラスタ中心\n",
    "ax.plot(np.mean(X[y_km == 0, 0]), np.mean(X[y_km == 0, 1]), marker = 'x', markersize = 10, color = 'red')\n",
    "ax.plot(np.mean(X[y_km == 1, 0]), np.mean(X[y_km == 1, 0]), marker = 'x', markersize = 10, color = 'red')\n",
    "ax.plot(np.mean(X[y_km == 2, 0]), np.mean(X[y_km == 2, 1]), marker = 'x', markersize = 10, color = 'red')\n",
    "\n",
    "ax.set_xlabel('Sepal length')\n",
    "ax.set_ylabel('Petal length')\n",
    "\n",
    "ax.legend()\n",
    "\n",
    "plt.show()"
   ]
  },
  {
   "cell_type": "code",
   "execution_count": 270,
   "metadata": {},
   "outputs": [
    {
     "data": {
      "text/plain": [
       "array([1, 1, 1, 1, 1, 1, 1, 1, 1, 1, 1, 1, 1, 1, 1, 1, 1, 1, 1, 1, 1, 1,\n",
       "       1, 1, 1, 1, 1, 1, 1, 1, 1, 1, 1, 1, 1, 1, 1, 1, 1, 1, 1, 1, 1, 1,\n",
       "       1, 1, 1, 1, 1, 1, 2, 2, 2, 0, 2, 0, 2, 0, 2, 0, 0, 0, 0, 2, 0, 2,\n",
       "       0, 0, 2, 0, 2, 0, 2, 2, 2, 2, 2, 2, 2, 0, 0, 0, 0, 2, 0, 2, 2, 2,\n",
       "       0, 0, 0, 2, 0, 0, 0, 0, 0, 2, 0, 0], dtype=int64)"
      ]
     },
     "execution_count": 270,
     "metadata": {},
     "output_type": "execute_result"
    }
   ],
   "source": [
    "from sklearn.cluster import AgglomerativeClustering\n",
    "\n",
    "# インスタンスの作成\n",
    "ac = AgglomerativeClustering(\n",
    "    \n",
    "    n_clusters = 3, \n",
    "    \n",
    "    # ユークリッド距離\n",
    "    affinity = 'euclidean', \n",
    "    \n",
    "    # 最長距離法\n",
    "    linkage = 'complete') \n",
    "\n",
    "# 予測値を出力\n",
    "labels = ac.fit_predict(X)\n",
    "\n",
    "labels"
   ]
  },
  {
   "cell_type": "code",
   "execution_count": 271,
   "metadata": {},
   "outputs": [],
   "source": [
    "import numpy as np\n",
    "\n",
    "# デンドログラムのモジュールインポート\n",
    "from scipy.cluster.hierarchy import dendrogram\n",
    "\n",
    "# 3つのデータを準備する\n",
    "\n",
    "# 結合されるデータリスト\n",
    "children = ac.children_\n",
    "\n",
    "# children の0番目の列\n",
    "distance = np.arange(children.shape[0])\n",
    "\n",
    "# それに2を足したもの\n",
    "no_of_observations = np.arange(2, children.shape[0] + 2)\n",
    "\n",
    "# 上記3つを1つのデータにまとめて引数とする\n",
    "linkage_matrix = np.hstack((children, distance[:, np.newaxis], no_of_observations[:, np.newaxis])).astype(float)"
   ]
  },
  {
   "cell_type": "code",
   "execution_count": 272,
   "metadata": {},
   "outputs": [
    {
     "data": {
      "text/plain": [
       "array([[  0,  17],\n",
       "       [  1,  37],\n",
       "       [ 12,  45],\n",
       "       [  4,  49],\n",
       "       [  6,  47],\n",
       "       [  5,  20],\n",
       "       [  9,  34],\n",
       "       [ 19,  21],\n",
       "       [ 39, 107],\n",
       "       [ 38,  42]])"
      ]
     },
     "execution_count": 272,
     "metadata": {},
     "output_type": "execute_result"
    }
   ],
   "source": [
    "children[:10]"
   ]
  },
  {
   "cell_type": "code",
   "execution_count": 273,
   "metadata": {},
   "outputs": [
    {
     "data": {
      "text/plain": [
       "array([ 0,  1,  2,  3,  4,  5,  6,  7,  8,  9, 10, 11, 12, 13, 14, 15, 16,\n",
       "       17, 18, 19, 20, 21, 22, 23, 24, 25, 26, 27, 28, 29, 30, 31, 32, 33,\n",
       "       34, 35, 36, 37, 38, 39, 40, 41, 42, 43, 44, 45, 46, 47, 48, 49, 50,\n",
       "       51, 52, 53, 54, 55, 56, 57, 58, 59, 60, 61, 62, 63, 64, 65, 66, 67,\n",
       "       68, 69, 70, 71, 72, 73, 74, 75, 76, 77, 78, 79, 80, 81, 82, 83, 84,\n",
       "       85, 86, 87, 88, 89, 90, 91, 92, 93, 94, 95, 96, 97, 98])"
      ]
     },
     "execution_count": 273,
     "metadata": {},
     "output_type": "execute_result"
    }
   ],
   "source": [
    "distance"
   ]
  },
  {
   "cell_type": "code",
   "execution_count": 274,
   "metadata": {},
   "outputs": [
    {
     "data": {
      "text/plain": [
       "array([  2,   3,   4,   5,   6,   7,   8,   9,  10,  11,  12,  13,  14,\n",
       "        15,  16,  17,  18,  19,  20,  21,  22,  23,  24,  25,  26,  27,\n",
       "        28,  29,  30,  31,  32,  33,  34,  35,  36,  37,  38,  39,  40,\n",
       "        41,  42,  43,  44,  45,  46,  47,  48,  49,  50,  51,  52,  53,\n",
       "        54,  55,  56,  57,  58,  59,  60,  61,  62,  63,  64,  65,  66,\n",
       "        67,  68,  69,  70,  71,  72,  73,  74,  75,  76,  77,  78,  79,\n",
       "        80,  81,  82,  83,  84,  85,  86,  87,  88,  89,  90,  91,  92,\n",
       "        93,  94,  95,  96,  97,  98,  99, 100])"
      ]
     },
     "execution_count": 274,
     "metadata": {},
     "output_type": "execute_result"
    }
   ],
   "source": [
    "no_of_observations"
   ]
  },
  {
   "cell_type": "code",
   "execution_count": 275,
   "metadata": {},
   "outputs": [
    {
     "data": {
      "image/png": "[encoded data removed]",
      "text/plain": [
       "<Figure size 4500x900 with 1 Axes>"
      ]
     },
     "metadata": {
      "needs_background": "light"
     },
     "output_type": "display_data"
    }
   ],
   "source": [
    "fig, ax = plt.subplots(figsize = (15, 3), dpi = 300)\n",
    "\n",
    "dendrogram(linkage_matrix, labels = np.arange(100), leaf_font_size = 8, color_threshold = np.inf)\n",
    "\n",
    "plt.show()"
   ]
  }
 ],
 "metadata": {
  "kernelspec": {
   "display_name": "Python 3",
   "language": "python",
   "name": "python3"
  },
  "language_info": {
   "codemirror_mode": {
    "name": "ipython",
    "version": 3
   },
   "file_extension": ".py",
   "mimetype": "text/x-python",
   "name": "python",
   "nbconvert_exporter": "python",
   "pygments_lexer": "ipython3",
   "version": "3.7.6"
  }
 },
 "nbformat": 4,
 "nbformat_minor": 4
}
