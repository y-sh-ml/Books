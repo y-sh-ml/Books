{
 "cells": [
  {
   "cell_type": "markdown",
   "metadata": {},
   "source": [
    "# CHAPTER3　リージョンとアベイラビリティゾーン"
   ]
  },
  {
   "cell_type": "markdown",
   "metadata": {},
   "source": [
    "## 3-1　リージョンとアベイラビリティゾーン"
   ]
  },
  {
   "cell_type": "markdown",
   "metadata": {},
   "source": [
    "AWSがサービスを提供するロケーション（エリア）は<br>\n",
    "**リージョン**と**アベイラビリティゾーン**で構成されている。\n",
    "\n",
    "リージョン：地理的に離れた領域で、「**ほぼ国レベル**」<br>\n",
    "アベイラビリティゾーン：リージョンの中にあり、1つ以上のデータセンターから成る\n",
    "\n",
    "また、リージョンは、2つ以上のアベイラビリティゾーンから構成されている。"
   ]
  },
  {
   "cell_type": "markdown",
   "metadata": {},
   "source": [
    "## 3-2　グローバルサービス"
   ]
  },
  {
   "cell_type": "markdown",
   "metadata": {},
   "source": [
    "AWSでは基本的にリージョン（≒国）ごとにサービスが提供されているが<br>\n",
    "グローバルサービス（**世界共通のサービス**）もいくつかある。\n",
    "\n",
    "・IAM：認証とアクセス管理をセキュアに行うサービス<br>\n",
    "・Route53：DNS（ホスト名やドメイン名とIPアドレスを紐づける）サービス<br>\n",
    "・CloudFlont：CDN（サーバーを世界中に分散配置し、高速なコンテンツ配信を可能にする）サービス<br>\n",
    "・WAF：ユーザー側のセキュリティにおいて、アプリケーションを保護してくれるサービス"
   ]
  }
 ],
 "metadata": {
  "kernelspec": {
   "display_name": "Python 3",
   "language": "python",
   "name": "python3"
  },
  "language_info": {
   "codemirror_mode": {
    "name": "ipython",
    "version": 3
   },
   "file_extension": ".py",
   "mimetype": "text/x-python",
   "name": "python",
   "nbconvert_exporter": "python",
   "pygments_lexer": "ipython3",
   "version": "3.7.6"
  }
 },
 "nbformat": 4,
 "nbformat_minor": 4
}
