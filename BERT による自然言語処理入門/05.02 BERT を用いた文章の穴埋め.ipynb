{
 "cells": [
  {
   "cell_type": "markdown",
   "id": "db02b43d",
   "metadata": {
    "_cell_guid": "b1076dfc-b9ad-4769-8c92-a6c4dae69d19",
    "_uuid": "8f2839f25d086af736a60e9eeb907d3b93b6e0e5",
    "papermill": {
     "duration": 0.017084,
     "end_time": "2022-03-31T06:29:21.721408",
     "exception": false,
     "start_time": "2022-03-31T06:29:21.704324",
     "status": "completed"
    },
    "tags": []
   },
   "source": [
    "## 5-2　BERT を用いた文章の穴埋め"
   ]
  },
  {
   "cell_type": "code",
   "execution_count": 1,
   "id": "898ae44d",
   "metadata": {
    "execution": {
     "iopub.execute_input": "2022-03-31T06:29:21.757189Z",
     "iopub.status.busy": "2022-03-31T06:29:21.755727Z",
     "iopub.status.idle": "2022-03-31T06:29:42.838200Z",
     "shell.execute_reply": "2022-03-31T06:29:42.836763Z",
     "shell.execute_reply.started": "2022-03-31T06:10:06.377845Z"
    },
    "papermill": {
     "duration": 21.101281,
     "end_time": "2022-03-31T06:29:42.838371",
     "exception": false,
     "start_time": "2022-03-31T06:29:21.737090",
     "status": "completed"
    },
    "tags": []
   },
   "outputs": [
    {
     "name": "stdout",
     "output_type": "stream",
     "text": [
      "Collecting transformers==4.5.0\r\n",
      "  Downloading transformers-4.5.0-py3-none-any.whl (2.1 MB)\r\n",
      "     |████████████████████████████████| 2.1 MB 523 kB/s            \r\n",
      "\u001b[?25hCollecting fugashi==1.1.0\r\n",
      "  Downloading fugashi-1.1.0-cp37-cp37m-manylinux1_x86_64.whl (486 kB)\r\n",
      "     |████████████████████████████████| 486 kB 64.1 MB/s            \r\n",
      "\u001b[?25hCollecting ipadic==1.0.0\r\n",
      "  Downloading ipadic-1.0.0.tar.gz (13.4 MB)\r\n",
      "     |████████████████████████████████| 13.4 MB 54.8 MB/s            \r\n",
      "\u001b[?25h  Preparing metadata (setup.py) ... \u001b[?25l-\b \bdone\r\n",
      "\u001b[?25hRequirement already satisfied: sacremoses in /opt/conda/lib/python3.7/site-packages (from transformers==4.5.0) (0.0.49)\r\n",
      "Collecting tokenizers<0.11,>=0.10.1\r\n",
      "  Downloading tokenizers-0.10.3-cp37-cp37m-manylinux_2_5_x86_64.manylinux1_x86_64.manylinux_2_12_x86_64.manylinux2010_x86_64.whl (3.3 MB)\r\n",
      "     |████████████████████████████████| 3.3 MB 52.8 MB/s            \r\n",
      "\u001b[?25hRequirement already satisfied: filelock in /opt/conda/lib/python3.7/site-packages (from transformers==4.5.0) (3.6.0)\r\n",
      "Requirement already satisfied: requests in /opt/conda/lib/python3.7/site-packages (from transformers==4.5.0) (2.26.0)\r\n",
      "Requirement already satisfied: packaging in /opt/conda/lib/python3.7/site-packages (from transformers==4.5.0) (21.3)\r\n",
      "Requirement already satisfied: tqdm>=4.27 in /opt/conda/lib/python3.7/site-packages (from transformers==4.5.0) (4.62.3)\r\n",
      "Requirement already satisfied: regex!=2019.12.17 in /opt/conda/lib/python3.7/site-packages (from transformers==4.5.0) (2021.11.10)\r\n",
      "Requirement already satisfied: numpy>=1.17 in /opt/conda/lib/python3.7/site-packages (from transformers==4.5.0) (1.20.3)\r\n",
      "Requirement already satisfied: importlib-metadata in /opt/conda/lib/python3.7/site-packages (from transformers==4.5.0) (4.11.3)\r\n",
      "Requirement already satisfied: zipp>=0.5 in /opt/conda/lib/python3.7/site-packages (from importlib-metadata->transformers==4.5.0) (3.6.0)\r\n",
      "Requirement already satisfied: typing-extensions>=3.6.4 in /opt/conda/lib/python3.7/site-packages (from importlib-metadata->transformers==4.5.0) (4.1.1)\r\n",
      "Requirement already satisfied: pyparsing!=3.0.5,>=2.0.2 in /opt/conda/lib/python3.7/site-packages (from packaging->transformers==4.5.0) (3.0.6)\r\n",
      "Requirement already satisfied: idna<4,>=2.5 in /opt/conda/lib/python3.7/site-packages (from requests->transformers==4.5.0) (3.1)\r\n",
      "Requirement already satisfied: urllib3<1.27,>=1.21.1 in /opt/conda/lib/python3.7/site-packages (from requests->transformers==4.5.0) (1.26.7)\r\n",
      "Requirement already satisfied: charset-normalizer~=2.0.0 in /opt/conda/lib/python3.7/site-packages (from requests->transformers==4.5.0) (2.0.9)\r\n",
      "Requirement already satisfied: certifi>=2017.4.17 in /opt/conda/lib/python3.7/site-packages (from requests->transformers==4.5.0) (2021.10.8)\r\n",
      "Requirement already satisfied: six in /opt/conda/lib/python3.7/site-packages (from sacremoses->transformers==4.5.0) (1.16.0)\r\n",
      "Requirement already satisfied: click in /opt/conda/lib/python3.7/site-packages (from sacremoses->transformers==4.5.0) (8.0.3)\r\n",
      "Requirement already satisfied: joblib in /opt/conda/lib/python3.7/site-packages (from sacremoses->transformers==4.5.0) (1.1.0)\r\n",
      "Building wheels for collected packages: ipadic\r\n",
      "  Building wheel for ipadic (setup.py) ... \u001b[?25l-\b \b\\\b \b|\b \b/\b \b-\b \bdone\r\n",
      "\u001b[?25h  Created wheel for ipadic: filename=ipadic-1.0.0-py3-none-any.whl size=13556723 sha256=9a7d9c6a449812041e3c6291a82b62bf656d230221ef6a990af836c294cbaea6\r\n",
      "  Stored in directory: /root/.cache/pip/wheels/33/8b/99/cf0d27191876637cd3639a560f93aa982d7855ce826c94348b\r\n",
      "Successfully built ipadic\r\n",
      "Installing collected packages: tokenizers, transformers, ipadic, fugashi\r\n",
      "  Attempting uninstall: tokenizers\r\n",
      "    Found existing installation: tokenizers 0.11.6\r\n",
      "    Uninstalling tokenizers-0.11.6:\r\n",
      "      Successfully uninstalled tokenizers-0.11.6\r\n",
      "  Attempting uninstall: transformers\r\n",
      "    Found existing installation: transformers 4.16.2\r\n",
      "    Uninstalling transformers-4.16.2:\r\n",
      "      Successfully uninstalled transformers-4.16.2\r\n",
      "Successfully installed fugashi-1.1.0 ipadic-1.0.0 tokenizers-0.10.3 transformers-4.5.0\r\n",
      "\u001b[33mWARNING: Running pip as the 'root' user can result in broken permissions and conflicting behaviour with the system package manager. It is recommended to use a virtual environment instead: https://pip.pypa.io/warnings/venv\u001b[0m\r\n"
     ]
    }
   ],
   "source": [
    "!pip install transformers==4.5.0 fugashi==1.1.0 ipadic==1.0.0"
   ]
  },
  {
   "cell_type": "code",
   "execution_count": 2,
   "id": "f4558fa4",
   "metadata": {
    "execution": {
     "iopub.execute_input": "2022-03-31T06:29:42.911353Z",
     "iopub.status.busy": "2022-03-31T06:29:42.910602Z",
     "iopub.status.idle": "2022-03-31T06:29:44.380693Z",
     "shell.execute_reply": "2022-03-31T06:29:44.380144Z",
     "shell.execute_reply.started": "2022-03-31T06:10:28.452213Z"
    },
    "papermill": {
     "duration": 1.50736,
     "end_time": "2022-03-31T06:29:44.380827",
     "exception": false,
     "start_time": "2022-03-31T06:29:42.873467",
     "status": "completed"
    },
    "tags": []
   },
   "outputs": [],
   "source": [
    "import numpy as np\n",
    "import torch\n",
    "from transformers import BertJapaneseTokenizer, BertForMaskedLM"
   ]
  },
  {
   "cell_type": "code",
   "execution_count": 3,
   "id": "12443b70",
   "metadata": {
    "execution": {
     "iopub.execute_input": "2022-03-31T06:29:44.453665Z",
     "iopub.status.busy": "2022-03-31T06:29:44.452822Z",
     "iopub.status.idle": "2022-03-31T06:30:11.531020Z",
     "shell.execute_reply": "2022-03-31T06:30:11.530512Z",
     "shell.execute_reply.started": "2022-03-31T06:10:30.028081Z"
    },
    "papermill": {
     "duration": 27.116195,
     "end_time": "2022-03-31T06:30:11.531185",
     "exception": false,
     "start_time": "2022-03-31T06:29:44.414990",
     "status": "completed"
    },
    "tags": []
   },
   "outputs": [
    {
     "data": {
      "application/vnd.jupyter.widget-view+json": {
       "model_id": "784c14fd64b54531bab8c5ae644dfe59",
       "version_major": 2,
       "version_minor": 0
      },
      "text/plain": [
       "Downloading:   0%|          | 0.00/258k [00:00<?, ?B/s]"
      ]
     },
     "metadata": {},
     "output_type": "display_data"
    },
    {
     "data": {
      "application/vnd.jupyter.widget-view+json": {
       "model_id": "40adea25566843af9aded6bb9ef0b8fe",
       "version_major": 2,
       "version_minor": 0
      },
      "text/plain": [
       "Downloading:   0%|          | 0.00/110 [00:00<?, ?B/s]"
      ]
     },
     "metadata": {},
     "output_type": "display_data"
    },
    {
     "data": {
      "application/vnd.jupyter.widget-view+json": {
       "model_id": "e425bb1d36d64dc7a4570fd3750a5676",
       "version_major": 2,
       "version_minor": 0
      },
      "text/plain": [
       "Downloading:   0%|          | 0.00/479 [00:00<?, ?B/s]"
      ]
     },
     "metadata": {},
     "output_type": "display_data"
    },
    {
     "data": {
      "application/vnd.jupyter.widget-view+json": {
       "model_id": "1324c3cb0e3541f0ba5acfb3e20446ab",
       "version_major": 2,
       "version_minor": 0
      },
      "text/plain": [
       "Downloading:   0%|          | 0.00/445M [00:00<?, ?B/s]"
      ]
     },
     "metadata": {},
     "output_type": "display_data"
    },
    {
     "name": "stderr",
     "output_type": "stream",
     "text": [
      "Some weights of the model checkpoint at cl-tohoku/bert-base-japanese-whole-word-masking were not used when initializing BertForMaskedLM: ['cls.seq_relationship.weight', 'cls.seq_relationship.bias']\n",
      "- This IS expected if you are initializing BertForMaskedLM from the checkpoint of a model trained on another task or with another architecture (e.g. initializing a BertForSequenceClassification model from a BertForPreTraining model).\n",
      "- This IS NOT expected if you are initializing BertForMaskedLM from the checkpoint of a model that you expect to be exactly identical (initializing a BertForSequenceClassification model from a BertForSequenceClassification model).\n"
     ]
    }
   ],
   "source": [
    "model_name = 'cl-tohoku/bert-base-japanese-whole-word-masking'\n",
    "tokenizer = BertJapaneseTokenizer.from_pretrained(model_name)\n",
    "bert_mlm = BertForMaskedLM.from_pretrained(model_name)\n",
    "bert_mlm = bert_mlm.cuda()"
   ]
  },
  {
   "cell_type": "code",
   "execution_count": 4,
   "id": "88be0332",
   "metadata": {
    "execution": {
     "iopub.execute_input": "2022-03-31T06:30:11.608111Z",
     "iopub.status.busy": "2022-03-31T06:30:11.607546Z",
     "iopub.status.idle": "2022-03-31T06:30:11.610255Z",
     "shell.execute_reply": "2022-03-31T06:30:11.610834Z",
     "shell.execute_reply.started": "2022-03-31T06:10:58.132896Z"
    },
    "papermill": {
     "duration": 0.043383,
     "end_time": "2022-03-31T06:30:11.610993",
     "exception": false,
     "start_time": "2022-03-31T06:30:11.567610",
     "status": "completed"
    },
    "tags": []
   },
   "outputs": [
    {
     "name": "stdout",
     "output_type": "stream",
     "text": [
      "['今日', 'は', '[MASK]', 'へ', '行く', '。']\n"
     ]
    }
   ],
   "source": [
    "text = '今日は[MASK]へ行く。'\n",
    "tokens = tokenizer.tokenize(text)\n",
    "print(tokens)"
   ]
  },
  {
   "cell_type": "code",
   "execution_count": 5,
   "id": "6871c3c5",
   "metadata": {
    "execution": {
     "iopub.execute_input": "2022-03-31T06:30:11.689190Z",
     "iopub.status.busy": "2022-03-31T06:30:11.688682Z",
     "iopub.status.idle": "2022-03-31T06:30:12.433382Z",
     "shell.execute_reply": "2022-03-31T06:30:12.432915Z",
     "shell.execute_reply.started": "2022-03-31T06:10:58.139456Z"
    },
    "papermill": {
     "duration": 0.785531,
     "end_time": "2022-03-31T06:30:12.433544",
     "exception": false,
     "start_time": "2022-03-31T06:30:11.648013",
     "status": "completed"
    },
    "tags": []
   },
   "outputs": [
    {
     "name": "stdout",
     "output_type": "stream",
     "text": [
      "tensor([[   2, 3246,    9,    4,  118, 3488,    8,    3]], device='cuda:0')\n"
     ]
    }
   ],
   "source": [
    "input_ids = tokenizer.encode(text, return_tensors='pt')\n",
    "input_ids = input_ids.cuda()\n",
    "print(input_ids)\n",
    "\n",
    "with torch.no_grad():\n",
    "    output = bert_mlm(input_ids=input_ids)\n",
    "    scores = output.logits"
   ]
  },
  {
   "cell_type": "code",
   "execution_count": 6,
   "id": "be05d319",
   "metadata": {
    "execution": {
     "iopub.execute_input": "2022-03-31T06:30:12.516312Z",
     "iopub.status.busy": "2022-03-31T06:30:12.515692Z",
     "iopub.status.idle": "2022-03-31T06:30:12.521879Z",
     "shell.execute_reply": "2022-03-31T06:30:12.522557Z",
     "shell.execute_reply.started": "2022-03-31T06:10:58.958131Z"
    },
    "papermill": {
     "duration": 0.052394,
     "end_time": "2022-03-31T06:30:12.522734",
     "exception": false,
     "start_time": "2022-03-31T06:30:12.470340",
     "status": "completed"
    },
    "tags": []
   },
   "outputs": [
    {
     "name": "stdout",
     "output_type": "stream",
     "text": [
      "3\n",
      "391\n",
      "今日は東京へ行く。\n"
     ]
    }
   ],
   "source": [
    "mask_position = input_ids[0].tolist().index(4)\n",
    "print(mask_position)\n",
    "\n",
    "id_best = scores[0, mask_position].argmax(-1).item()\n",
    "print(id_best)\n",
    "\n",
    "token_best = tokenizer.convert_ids_to_tokens(id_best)\n",
    "token_best = token_best.replace('##', '')\n",
    "\n",
    "text = text.replace('[MASK]', token_best)\n",
    "\n",
    "print(text)"
   ]
  },
  {
   "cell_type": "code",
   "execution_count": 7,
   "id": "f1767e06",
   "metadata": {
    "execution": {
     "iopub.execute_input": "2022-03-31T06:30:12.607002Z",
     "iopub.status.busy": "2022-03-31T06:30:12.606058Z",
     "iopub.status.idle": "2022-03-31T06:30:12.608691Z",
     "shell.execute_reply": "2022-03-31T06:30:12.608255Z",
     "shell.execute_reply.started": "2022-03-31T06:10:58.969723Z"
    },
    "papermill": {
     "duration": 0.046631,
     "end_time": "2022-03-31T06:30:12.608802",
     "exception": false,
     "start_time": "2022-03-31T06:30:12.562171",
     "status": "completed"
    },
    "tags": []
   },
   "outputs": [],
   "source": [
    "def predict_mask_topk(text, tokenizer, bert_mlm, num_topk):\n",
    "    input_ids = tokenizer.encode(text, return_tensors='pt')\n",
    "    \n",
    "    input_ids = input_ids.cuda()\n",
    "    with torch.no_grad():\n",
    "        output = bert_mlm(input_ids=input_ids)\n",
    "    scores = output.logits\n",
    "    \n",
    "    mask_position = input_ids[0].tolist().index(4)\n",
    "    topk = scores[0, mask_position].topk(num_topk)\n",
    "    ids_topk = topk.indices\n",
    "    tokens_topk = tokenizer.convert_ids_to_tokens(ids_topk)\n",
    "    scores_topk = topk.values.cpu().numpy()\n",
    "    \n",
    "    text_topk = []\n",
    "    for token in tokens_topk:\n",
    "        token = token.replace('##', '')\n",
    "        text_topk.append(text.replace('[MASK]', token, 1))\n",
    "        \n",
    "    return text_topk, scores_topk"
   ]
  },
  {
   "cell_type": "code",
   "execution_count": 8,
   "id": "1ebf5cbd",
   "metadata": {
    "execution": {
     "iopub.execute_input": "2022-03-31T06:30:12.694965Z",
     "iopub.status.busy": "2022-03-31T06:30:12.694208Z",
     "iopub.status.idle": "2022-03-31T06:30:12.713958Z",
     "shell.execute_reply": "2022-03-31T06:30:12.713399Z",
     "shell.execute_reply.started": "2022-03-31T06:10:58.979366Z"
    },
    "papermill": {
     "duration": 0.064334,
     "end_time": "2022-03-31T06:30:12.714099",
     "exception": false,
     "start_time": "2022-03-31T06:30:12.649765",
     "status": "completed"
    },
    "tags": []
   },
   "outputs": [
    {
     "name": "stdout",
     "output_type": "stream",
     "text": [
      "今日は東京へ行く。\n",
      "今日はハワイへ行く。\n",
      "今日は学校へ行く。\n",
      "今日はニューヨークへ行く。\n",
      "今日はどこへ行く。\n",
      "今日は空港へ行く。\n",
      "今日はアメリカへ行く。\n",
      "今日は病院へ行く。\n",
      "今日はそこへ行く。\n",
      "今日はロンドンへ行く。\n"
     ]
    }
   ],
   "source": [
    "text = '今日は[MASK]へ行く。'\n",
    "text_topk, _ = predict_mask_topk(text, tokenizer, bert_mlm, 10)\n",
    "print(*text_topk, sep='\\n')"
   ]
  },
  {
   "cell_type": "markdown",
   "id": "6630144d",
   "metadata": {
    "papermill": {
     "duration": 0.036443,
     "end_time": "2022-03-31T06:30:12.788306",
     "exception": false,
     "start_time": "2022-03-31T06:30:12.751863",
     "status": "completed"
    },
    "tags": []
   },
   "source": [
    "`replace` の 3 つ目の引数には、置換する対象の数を入れる。"
   ]
  },
  {
   "cell_type": "code",
   "execution_count": 9,
   "id": "3feb692c",
   "metadata": {
    "execution": {
     "iopub.execute_input": "2022-03-31T06:30:12.867379Z",
     "iopub.status.busy": "2022-03-31T06:30:12.866708Z",
     "iopub.status.idle": "2022-03-31T06:30:12.869643Z",
     "shell.execute_reply": "2022-03-31T06:30:12.870202Z",
     "shell.execute_reply.started": "2022-03-31T06:10:59.005753Z"
    },
    "papermill": {
     "duration": 0.045649,
     "end_time": "2022-03-31T06:30:12.870359",
     "exception": false,
     "start_time": "2022-03-31T06:30:12.824710",
     "status": "completed"
    },
    "tags": []
   },
   "outputs": [
    {
     "name": "stdout",
     "output_type": "stream",
     "text": [
      "aaabbbccc\n",
      "aaaBbbccc\n"
     ]
    }
   ],
   "source": [
    "before = 'aaabbbccc'\n",
    "after = before.replace('b', 'B', 1)\n",
    "print(before)\n",
    "print(after)"
   ]
  },
  {
   "cell_type": "code",
   "execution_count": 10,
   "id": "ce03786e",
   "metadata": {
    "execution": {
     "iopub.execute_input": "2022-03-31T06:30:12.951487Z",
     "iopub.status.busy": "2022-03-31T06:30:12.950671Z",
     "iopub.status.idle": "2022-03-31T06:30:12.974281Z",
     "shell.execute_reply": "2022-03-31T06:30:12.973856Z",
     "shell.execute_reply.started": "2022-03-31T06:10:59.014288Z"
    },
    "papermill": {
     "duration": 0.065941,
     "end_time": "2022-03-31T06:30:12.974388",
     "exception": false,
     "start_time": "2022-03-31T06:30:12.908447",
     "status": "completed"
    },
    "tags": []
   },
   "outputs": [
    {
     "data": {
      "text/plain": [
       "'今日は、東京へ行く。'"
      ]
     },
     "execution_count": 10,
     "metadata": {},
     "output_type": "execute_result"
    }
   ],
   "source": [
    "def greedy_prediction(text, tokenizer, bert_mlm):\n",
    "    for _ in range(text.count('[MASK]')):\n",
    "        text = predict_mask_topk(text, tokenizer, bert_mlm, 1)[0][0]\n",
    "    return text\n",
    "\n",
    "text = '今日は[MASK][MASK]へ行く。'\n",
    "greedy_prediction(text, tokenizer, bert_mlm)"
   ]
  },
  {
   "cell_type": "code",
   "execution_count": 11,
   "id": "8e33e83a",
   "metadata": {
    "execution": {
     "iopub.execute_input": "2022-03-31T06:30:13.053784Z",
     "iopub.status.busy": "2022-03-31T06:30:13.052975Z",
     "iopub.status.idle": "2022-03-31T06:30:13.100595Z",
     "shell.execute_reply": "2022-03-31T06:30:13.101005Z",
     "shell.execute_reply.started": "2022-03-31T06:10:59.044587Z"
    },
    "papermill": {
     "duration": 0.089174,
     "end_time": "2022-03-31T06:30:13.101134",
     "exception": false,
     "start_time": "2022-03-31T06:30:13.011960",
     "status": "completed"
    },
    "tags": []
   },
   "outputs": [
    {
     "data": {
      "text/plain": [
       "'今日は社会社会的な地位'"
      ]
     },
     "execution_count": 11,
     "metadata": {},
     "output_type": "execute_result"
    }
   ],
   "source": [
    "text = '今日は[MASK][MASK][MASK][MASK][MASK]'\n",
    "greedy_prediction(text, tokenizer, bert_mlm)"
   ]
  },
  {
   "cell_type": "code",
   "execution_count": 12,
   "id": "89bf9060",
   "metadata": {
    "execution": {
     "iopub.execute_input": "2022-03-31T06:30:13.184149Z",
     "iopub.status.busy": "2022-03-31T06:30:13.183416Z",
     "iopub.status.idle": "2022-03-31T06:30:13.185886Z",
     "shell.execute_reply": "2022-03-31T06:30:13.185429Z",
     "shell.execute_reply.started": "2022-03-31T06:22:21.556953Z"
    },
    "papermill": {
     "duration": 0.046811,
     "end_time": "2022-03-31T06:30:13.185991",
     "exception": false,
     "start_time": "2022-03-31T06:30:13.139180",
     "status": "completed"
    },
    "tags": []
   },
   "outputs": [],
   "source": [
    "def beam_search(text, tokenizer, bert_mlm, num_topk):\n",
    "    num_mask = text.count('[MASK]')\n",
    "    text_topk = [text]\n",
    "    scores_topk = np.array([0])\n",
    "    for _ in range(num_mask):\n",
    "        text_candidates = []\n",
    "        score_candidates = []\n",
    "        for text_mask, score in zip(text_topk, scores_topk):\n",
    "            text_topk_inner, scores_topk_inner = predict_mask_topk(\n",
    "                text_mask,\n",
    "                tokenizer,\n",
    "                bert_mlm,\n",
    "                num_topk\n",
    "            )\n",
    "            text_candidates.extend(text_topk_inner)\n",
    "            score_candidates.append(score + scores_topk_inner)\n",
    "        \n",
    "        score_candidates = np.hstack(score_candidates)\n",
    "        idx_list = score_candidates.argsort()[::-1][:num_topk]\n",
    "        text_topk = [text_candidates[idx] for idx in idx_list]\n",
    "        scores_topk = score_candidates[idx_list]\n",
    "        \n",
    "    return text_topk"
   ]
  },
  {
   "cell_type": "code",
   "execution_count": 13,
   "id": "8c7f3b2e",
   "metadata": {
    "execution": {
     "iopub.execute_input": "2022-03-31T06:30:13.264861Z",
     "iopub.status.busy": "2022-03-31T06:30:13.264080Z",
     "iopub.status.idle": "2022-03-31T06:30:13.372449Z",
     "shell.execute_reply": "2022-03-31T06:30:13.371886Z",
     "shell.execute_reply.started": "2022-03-31T06:23:21.406304Z"
    },
    "papermill": {
     "duration": 0.148966,
     "end_time": "2022-03-31T06:30:13.372614",
     "exception": false,
     "start_time": "2022-03-31T06:30:13.223648",
     "status": "completed"
    },
    "tags": []
   },
   "outputs": [
    {
     "name": "stdout",
     "output_type": "stream",
     "text": [
      "今日はお台場へ行く。\n",
      "今日はお祭りへ行く。\n",
      "今日はゲームセンターへ行く。\n",
      "今日はお風呂へ行く。\n",
      "今日はゲームショップへ行く。\n",
      "今日は東京ディズニーランドへ行く。\n",
      "今日はお店へ行く。\n",
      "今日は同じ場所へ行く。\n",
      "今日はあの場所へ行く。\n",
      "今日は同じ学校へ行く。\n"
     ]
    }
   ],
   "source": [
    "text = '今日は[MASK][MASK]へ行く。'\n",
    "text_topk = beam_search(text, tokenizer, bert_mlm, 10)\n",
    "print(*text_topk, sep='\\n')"
   ]
  },
  {
   "cell_type": "markdown",
   "id": "dcf5a89b",
   "metadata": {
    "papermill": {
     "duration": 0.038127,
     "end_time": "2022-03-31T06:30:13.450721",
     "exception": false,
     "start_time": "2022-03-31T06:30:13.412594",
     "status": "completed"
    },
    "tags": []
   },
   "source": [
    "`extend` は、末尾に別のリストやタプルを結合できる。"
   ]
  },
  {
   "cell_type": "code",
   "execution_count": 14,
   "id": "be8597c4",
   "metadata": {
    "execution": {
     "iopub.execute_input": "2022-03-31T06:30:13.533036Z",
     "iopub.status.busy": "2022-03-31T06:30:13.532391Z",
     "iopub.status.idle": "2022-03-31T06:30:13.535884Z",
     "shell.execute_reply": "2022-03-31T06:30:13.536465Z",
     "shell.execute_reply.started": "2022-03-31T06:26:48.412800Z"
    },
    "papermill": {
     "duration": 0.048,
     "end_time": "2022-03-31T06:30:13.536668",
     "exception": false,
     "start_time": "2022-03-31T06:30:13.488668",
     "status": "completed"
    },
    "tags": []
   },
   "outputs": [
    {
     "name": "stdout",
     "output_type": "stream",
     "text": [
      "[0, 1, 2]\n",
      "[0, 1, 2, 100, 101, 102]\n"
     ]
    }
   ],
   "source": [
    "l = list(range(3))\n",
    "print(l)\n",
    "\n",
    "l.extend([100, 101, 102])\n",
    "print(l)"
   ]
  },
  {
   "cell_type": "code",
   "execution_count": 15,
   "id": "180df2b2",
   "metadata": {
    "execution": {
     "iopub.execute_input": "2022-03-31T06:30:13.628939Z",
     "iopub.status.busy": "2022-03-31T06:30:13.628090Z",
     "iopub.status.idle": "2022-03-31T06:30:13.989726Z",
     "shell.execute_reply": "2022-03-31T06:30:13.990322Z",
     "shell.execute_reply.started": "2022-03-31T06:28:28.995934Z"
    },
    "papermill": {
     "duration": 0.409407,
     "end_time": "2022-03-31T06:30:13.990521",
     "exception": false,
     "start_time": "2022-03-31T06:30:13.581114",
     "status": "completed"
    },
    "tags": []
   },
   "outputs": [
    {
     "name": "stdout",
     "output_type": "stream",
     "text": [
      "今日は社会社会学会所属。\n",
      "今日は社会社会学会会長。\n",
      "今日は社会社会に属する。\n",
      "今日は時代社会に属する。\n",
      "今日は社会社会学会理事。\n",
      "今日は時代社会にあたる。\n",
      "今日は社会社会にある。\n",
      "今日は社会社会学会会員。\n",
      "今日は時代社会にある。\n",
      "今日は社会社会になる。\n"
     ]
    }
   ],
   "source": [
    "text = '今日は[MASK][MASK][MASK][MASK][MASK]'\n",
    "text_topk = beam_search(text, tokenizer, bert_mlm, 10)\n",
    "print(*text_topk, sep='\\n')"
   ]
  }
 ],
 "metadata": {
  "kernelspec": {
   "display_name": "Python 3",
   "language": "python",
   "name": "python3"
  },
  "language_info": {
   "codemirror_mode": {
    "name": "ipython",
    "version": 3
   },
   "file_extension": ".py",
   "mimetype": "text/x-python",
   "name": "python",
   "nbconvert_exporter": "python",
   "pygments_lexer": "ipython3",
   "version": "3.7.12"
  },
  "papermill": {
   "default_parameters": {},
   "duration": 64.418373,
   "end_time": "2022-03-31T06:30:17.692009",
   "environment_variables": {},
   "exception": null,
   "input_path": "__notebook__.ipynb",
   "output_path": "__notebook__.ipynb",
   "parameters": {},
   "start_time": "2022-03-31T06:29:13.273636",
   "version": "2.3.3"
  },
  "widgets": {
   "application/vnd.jupyter.widget-state+json": {
    "state": {
     "0678e67e27ed4d24a786abb16c45cb95": {
      "model_module": "@jupyter-widgets/controls",
      "model_module_version": "1.5.0",
      "model_name": "HTMLModel",
      "state": {
       "_dom_classes": [],
       "_model_module": "@jupyter-widgets/controls",
       "_model_module_version": "1.5.0",
       "_model_name": "HTMLModel",
       "_view_count": null,
       "_view_module": "@jupyter-widgets/controls",
       "_view_module_version": "1.5.0",
       "_view_name": "HTMLView",
       "description": "",
       "description_tooltip": null,
       "layout": "IPY_MODEL_8aaf811859a9401a8b569d0bc57e597b",
       "placeholder": "​",
       "style": "IPY_MODEL_867d3914c5334ed0b56173a4789f4e3f",
       "value": "Downloading: 100%"
      }
     },
     "12c60435e235450fa807b047495ae880": {
      "model_module": "@jupyter-widgets/base",
      "model_module_version": "1.2.0",
      "model_name": "LayoutModel",
      "state": {
       "_model_module": "@jupyter-widgets/base",
       "_model_module_version": "1.2.0",
       "_model_name": "LayoutModel",
       "_view_count": null,
       "_view_module": "@jupyter-widgets/base",
       "_view_module_version": "1.2.0",
       "_view_name": "LayoutView",
       "align_content": null,
       "align_items": null,
       "align_self": null,
       "border": null,
       "bottom": null,
       "display": null,
       "flex": null,
       "flex_flow": null,
       "grid_area": null,
       "grid_auto_columns": null,
       "grid_auto_flow": null,
       "grid_auto_rows": null,
       "grid_column": null,
       "grid_gap": null,
       "grid_row": null,
       "grid_template_areas": null,
       "grid_template_columns": null,
       "grid_template_rows": null,
       "height": null,
       "justify_content": null,
       "justify_items": null,
       "left": null,
       "margin": null,
       "max_height": null,
       "max_width": null,
       "min_height": null,
       "min_width": null,
       "object_fit": null,
       "object_position": null,
       "order": null,
       "overflow": null,
       "overflow_x": null,
       "overflow_y": null,
       "padding": null,
       "right": null,
       "top": null,
       "visibility": null,
       "width": null
      }
     },
     "1324c3cb0e3541f0ba5acfb3e20446ab": {
      "model_module": "@jupyter-widgets/controls",
      "model_module_version": "1.5.0",
      "model_name": "HBoxModel",
      "state": {
       "_dom_classes": [],
       "_model_module": "@jupyter-widgets/controls",
       "_model_module_version": "1.5.0",
       "_model_name": "HBoxModel",
       "_view_count": null,
       "_view_module": "@jupyter-widgets/controls",
       "_view_module_version": "1.5.0",
       "_view_name": "HBoxView",
       "box_style": "",
       "children": [
        "IPY_MODEL_6f21c70a25154fa7aaa59b3e18d43546",
        "IPY_MODEL_63adbeabdf3e44d8ac4925ee35ed65ad",
        "IPY_MODEL_43ba583f56034896a202079e8cfa4791"
       ],
       "layout": "IPY_MODEL_e74e447f22224d8eae319dccfcf24646"
      }
     },
     "145e50ac1ec947b9a8e28d990f6b50e0": {
      "model_module": "@jupyter-widgets/controls",
      "model_module_version": "1.5.0",
      "model_name": "DescriptionStyleModel",
      "state": {
       "_model_module": "@jupyter-widgets/controls",
       "_model_module_version": "1.5.0",
       "_model_name": "DescriptionStyleModel",
       "_view_count": null,
       "_view_module": "@jupyter-widgets/base",
       "_view_module_version": "1.2.0",
       "_view_name": "StyleView",
       "description_width": ""
      }
     },
     "1f8466bdf1e348d68d726c1918727625": {
      "model_module": "@jupyter-widgets/controls",
      "model_module_version": "1.5.0",
      "model_name": "DescriptionStyleModel",
      "state": {
       "_model_module": "@jupyter-widgets/controls",
       "_model_module_version": "1.5.0",
       "_model_name": "DescriptionStyleModel",
       "_view_count": null,
       "_view_module": "@jupyter-widgets/base",
       "_view_module_version": "1.2.0",
       "_view_name": "StyleView",
       "description_width": ""
      }
     },
     "2a28299fc5f7428d8a8e2c752d87ea06": {
      "model_module": "@jupyter-widgets/controls",
      "model_module_version": "1.5.0",
      "model_name": "DescriptionStyleModel",
      "state": {
       "_model_module": "@jupyter-widgets/controls",
       "_model_module_version": "1.5.0",
       "_model_name": "DescriptionStyleModel",
       "_view_count": null,
       "_view_module": "@jupyter-widgets/base",
       "_view_module_version": "1.2.0",
       "_view_name": "StyleView",
       "description_width": ""
      }
     },
     "3a7c8b97e0af43eb831a9793a554ba2c": {
      "model_module": "@jupyter-widgets/controls",
      "model_module_version": "1.5.0",
      "model_name": "HTMLModel",
      "state": {
       "_dom_classes": [],
       "_model_module": "@jupyter-widgets/controls",
       "_model_module_version": "1.5.0",
       "_model_name": "HTMLModel",
       "_view_count": null,
       "_view_module": "@jupyter-widgets/controls",
       "_view_module_version": "1.5.0",
       "_view_name": "HTMLView",
       "description": "",
       "description_tooltip": null,
       "layout": "IPY_MODEL_fc45825584c146a6b62b56a5d3b75a4d",
       "placeholder": "​",
       "style": "IPY_MODEL_2a28299fc5f7428d8a8e2c752d87ea06",
       "value": " 110/110 [00:00&lt;00:00, 4.25kB/s]"
      }
     },
     "3f532063a4d24a00ac19669a79041187": {
      "model_module": "@jupyter-widgets/base",
      "model_module_version": "1.2.0",
      "model_name": "LayoutModel",
      "state": {
       "_model_module": "@jupyter-widgets/base",
       "_model_module_version": "1.2.0",
       "_model_name": "LayoutModel",
       "_view_count": null,
       "_view_module": "@jupyter-widgets/base",
       "_view_module_version": "1.2.0",
       "_view_name": "LayoutView",
       "align_content": null,
       "align_items": null,
       "align_self": null,
       "border": null,
       "bottom": null,
       "display": null,
       "flex": null,
       "flex_flow": null,
       "grid_area": null,
       "grid_auto_columns": null,
       "grid_auto_flow": null,
       "grid_auto_rows": null,
       "grid_column": null,
       "grid_gap": null,
       "grid_row": null,
       "grid_template_areas": null,
       "grid_template_columns": null,
       "grid_template_rows": null,
       "height": null,
       "justify_content": null,
       "justify_items": null,
       "left": null,
       "margin": null,
       "max_height": null,
       "max_width": null,
       "min_height": null,
       "min_width": null,
       "object_fit": null,
       "object_position": null,
       "order": null,
       "overflow": null,
       "overflow_x": null,
       "overflow_y": null,
       "padding": null,
       "right": null,
       "top": null,
       "visibility": null,
       "width": null
      }
     },
     "40adea25566843af9aded6bb9ef0b8fe": {
      "model_module": "@jupyter-widgets/controls",
      "model_module_version": "1.5.0",
      "model_name": "HBoxModel",
      "state": {
       "_dom_classes": [],
       "_model_module": "@jupyter-widgets/controls",
       "_model_module_version": "1.5.0",
       "_model_name": "HBoxModel",
       "_view_count": null,
       "_view_module": "@jupyter-widgets/controls",
       "_view_module_version": "1.5.0",
       "_view_name": "HBoxView",
       "box_style": "",
       "children": [
        "IPY_MODEL_fc5ac2a8b465439fa1ff8c2943925ba9",
        "IPY_MODEL_fb3313d15e7c4f2fbea1074d3c585747",
        "IPY_MODEL_3a7c8b97e0af43eb831a9793a554ba2c"
       ],
       "layout": "IPY_MODEL_4bd81e543225443cb84c1eaa8310cddd"
      }
     },
     "43ba583f56034896a202079e8cfa4791": {
      "model_module": "@jupyter-widgets/controls",
      "model_module_version": "1.5.0",
      "model_name": "HTMLModel",
      "state": {
       "_dom_classes": [],
       "_model_module": "@jupyter-widgets/controls",
       "_model_module_version": "1.5.0",
       "_model_name": "HTMLModel",
       "_view_count": null,
       "_view_module": "@jupyter-widgets/controls",
       "_view_module_version": "1.5.0",
       "_view_name": "HTMLView",
       "description": "",
       "description_tooltip": null,
       "layout": "IPY_MODEL_57a9b0fc516646f0923574b30510c7ff",
       "placeholder": "​",
       "style": "IPY_MODEL_d85178dc7b4640e5b8860474e1788b1d",
       "value": " 445M/445M [00:14&lt;00:00, 31.2MB/s]"
      }
     },
     "44c84704919c4d6f872c5f42cb93a8cd": {
      "model_module": "@jupyter-widgets/controls",
      "model_module_version": "1.5.0",
      "model_name": "HTMLModel",
      "state": {
       "_dom_classes": [],
       "_model_module": "@jupyter-widgets/controls",
       "_model_module_version": "1.5.0",
       "_model_name": "HTMLModel",
       "_view_count": null,
       "_view_module": "@jupyter-widgets/controls",
       "_view_module_version": "1.5.0",
       "_view_name": "HTMLView",
       "description": "",
       "description_tooltip": null,
       "layout": "IPY_MODEL_dafdac8a54fc46c29a1e7c90152b4112",
       "placeholder": "​",
       "style": "IPY_MODEL_1f8466bdf1e348d68d726c1918727625",
       "value": "Downloading: 100%"
      }
     },
     "45c38c79a38a43f09d446fcc128ddb4e": {
      "model_module": "@jupyter-widgets/controls",
      "model_module_version": "1.5.0",
      "model_name": "ProgressStyleModel",
      "state": {
       "_model_module": "@jupyter-widgets/controls",
       "_model_module_version": "1.5.0",
       "_model_name": "ProgressStyleModel",
       "_view_count": null,
       "_view_module": "@jupyter-widgets/base",
       "_view_module_version": "1.2.0",
       "_view_name": "StyleView",
       "bar_color": null,
       "description_width": ""
      }
     },
     "4bd81e543225443cb84c1eaa8310cddd": {
      "model_module": "@jupyter-widgets/base",
      "model_module_version": "1.2.0",
      "model_name": "LayoutModel",
      "state": {
       "_model_module": "@jupyter-widgets/base",
       "_model_module_version": "1.2.0",
       "_model_name": "LayoutModel",
       "_view_count": null,
       "_view_module": "@jupyter-widgets/base",
       "_view_module_version": "1.2.0",
       "_view_name": "LayoutView",
       "align_content": null,
       "align_items": null,
       "align_self": null,
       "border": null,
       "bottom": null,
       "display": null,
       "flex": null,
       "flex_flow": null,
       "grid_area": null,
       "grid_auto_columns": null,
       "grid_auto_flow": null,
       "grid_auto_rows": null,
       "grid_column": null,
       "grid_gap": null,
       "grid_row": null,
       "grid_template_areas": null,
       "grid_template_columns": null,
       "grid_template_rows": null,
       "height": null,
       "justify_content": null,
       "justify_items": null,
       "left": null,
       "margin": null,
       "max_height": null,
       "max_width": null,
       "min_height": null,
       "min_width": null,
       "object_fit": null,
       "object_position": null,
       "order": null,
       "overflow": null,
       "overflow_x": null,
       "overflow_y": null,
       "padding": null,
       "right": null,
       "top": null,
       "visibility": null,
       "width": null
      }
     },
     "5557ee15d49d47d9bc0abd3033686030": {
      "model_module": "@jupyter-widgets/base",
      "model_module_version": "1.2.0",
      "model_name": "LayoutModel",
      "state": {
       "_model_module": "@jupyter-widgets/base",
       "_model_module_version": "1.2.0",
       "_model_name": "LayoutModel",
       "_view_count": null,
       "_view_module": "@jupyter-widgets/base",
       "_view_module_version": "1.2.0",
       "_view_name": "LayoutView",
       "align_content": null,
       "align_items": null,
       "align_self": null,
       "border": null,
       "bottom": null,
       "display": null,
       "flex": null,
       "flex_flow": null,
       "grid_area": null,
       "grid_auto_columns": null,
       "grid_auto_flow": null,
       "grid_auto_rows": null,
       "grid_column": null,
       "grid_gap": null,
       "grid_row": null,
       "grid_template_areas": null,
       "grid_template_columns": null,
       "grid_template_rows": null,
       "height": null,
       "justify_content": null,
       "justify_items": null,
       "left": null,
       "margin": null,
       "max_height": null,
       "max_width": null,
       "min_height": null,
       "min_width": null,
       "object_fit": null,
       "object_position": null,
       "order": null,
       "overflow": null,
       "overflow_x": null,
       "overflow_y": null,
       "padding": null,
       "right": null,
       "top": null,
       "visibility": null,
       "width": null
      }
     },
     "57a9b0fc516646f0923574b30510c7ff": {
      "model_module": "@jupyter-widgets/base",
      "model_module_version": "1.2.0",
      "model_name": "LayoutModel",
      "state": {
       "_model_module": "@jupyter-widgets/base",
       "_model_module_version": "1.2.0",
       "_model_name": "LayoutModel",
       "_view_count": null,
       "_view_module": "@jupyter-widgets/base",
       "_view_module_version": "1.2.0",
       "_view_name": "LayoutView",
       "align_content": null,
       "align_items": null,
       "align_self": null,
       "border": null,
       "bottom": null,
       "display": null,
       "flex": null,
       "flex_flow": null,
       "grid_area": null,
       "grid_auto_columns": null,
       "grid_auto_flow": null,
       "grid_auto_rows": null,
       "grid_column": null,
       "grid_gap": null,
       "grid_row": null,
       "grid_template_areas": null,
       "grid_template_columns": null,
       "grid_template_rows": null,
       "height": null,
       "justify_content": null,
       "justify_items": null,
       "left": null,
       "margin": null,
       "max_height": null,
       "max_width": null,
       "min_height": null,
       "min_width": null,
       "object_fit": null,
       "object_position": null,
       "order": null,
       "overflow": null,
       "overflow_x": null,
       "overflow_y": null,
       "padding": null,
       "right": null,
       "top": null,
       "visibility": null,
       "width": null
      }
     },
     "63adbeabdf3e44d8ac4925ee35ed65ad": {
      "model_module": "@jupyter-widgets/controls",
      "model_module_version": "1.5.0",
      "model_name": "FloatProgressModel",
      "state": {
       "_dom_classes": [],
       "_model_module": "@jupyter-widgets/controls",
       "_model_module_version": "1.5.0",
       "_model_name": "FloatProgressModel",
       "_view_count": null,
       "_view_module": "@jupyter-widgets/controls",
       "_view_module_version": "1.5.0",
       "_view_name": "ProgressView",
       "bar_style": "success",
       "description": "",
       "description_tooltip": null,
       "layout": "IPY_MODEL_12c60435e235450fa807b047495ae880",
       "max": 445021143.0,
       "min": 0.0,
       "orientation": "horizontal",
       "style": "IPY_MODEL_ea4e72572e194f8599b5d37dccb7ade3",
       "value": 445021143.0
      }
     },
     "6f21c70a25154fa7aaa59b3e18d43546": {
      "model_module": "@jupyter-widgets/controls",
      "model_module_version": "1.5.0",
      "model_name": "HTMLModel",
      "state": {
       "_dom_classes": [],
       "_model_module": "@jupyter-widgets/controls",
       "_model_module_version": "1.5.0",
       "_model_name": "HTMLModel",
       "_view_count": null,
       "_view_module": "@jupyter-widgets/controls",
       "_view_module_version": "1.5.0",
       "_view_name": "HTMLView",
       "description": "",
       "description_tooltip": null,
       "layout": "IPY_MODEL_f2ac9255a1c24e3c97aff7005324d11b",
       "placeholder": "​",
       "style": "IPY_MODEL_145e50ac1ec947b9a8e28d990f6b50e0",
       "value": "Downloading: 100%"
      }
     },
     "73ec465c4ac04f1daf784076d2b2ab79": {
      "model_module": "@jupyter-widgets/controls",
      "model_module_version": "1.5.0",
      "model_name": "ProgressStyleModel",
      "state": {
       "_model_module": "@jupyter-widgets/controls",
       "_model_module_version": "1.5.0",
       "_model_name": "ProgressStyleModel",
       "_view_count": null,
       "_view_module": "@jupyter-widgets/base",
       "_view_module_version": "1.2.0",
       "_view_name": "StyleView",
       "bar_color": null,
       "description_width": ""
      }
     },
     "7437754e92384bc581e003314892b136": {
      "model_module": "@jupyter-widgets/controls",
      "model_module_version": "1.5.0",
      "model_name": "DescriptionStyleModel",
      "state": {
       "_model_module": "@jupyter-widgets/controls",
       "_model_module_version": "1.5.0",
       "_model_name": "DescriptionStyleModel",
       "_view_count": null,
       "_view_module": "@jupyter-widgets/base",
       "_view_module_version": "1.2.0",
       "_view_name": "StyleView",
       "description_width": ""
      }
     },
     "784c14fd64b54531bab8c5ae644dfe59": {
      "model_module": "@jupyter-widgets/controls",
      "model_module_version": "1.5.0",
      "model_name": "HBoxModel",
      "state": {
       "_dom_classes": [],
       "_model_module": "@jupyter-widgets/controls",
       "_model_module_version": "1.5.0",
       "_model_name": "HBoxModel",
       "_view_count": null,
       "_view_module": "@jupyter-widgets/controls",
       "_view_module_version": "1.5.0",
       "_view_name": "HBoxView",
       "box_style": "",
       "children": [
        "IPY_MODEL_0678e67e27ed4d24a786abb16c45cb95",
        "IPY_MODEL_ec1b432512b34d809dd5c5d468d73e0c",
        "IPY_MODEL_c9dab030d63a44f2840f9ba0467932f0"
       ],
       "layout": "IPY_MODEL_bd3b70d252414478b323d29518c1405d"
      }
     },
     "7ec4f0492dbc494a9fa44da2aad79c27": {
      "model_module": "@jupyter-widgets/controls",
      "model_module_version": "1.5.0",
      "model_name": "DescriptionStyleModel",
      "state": {
       "_model_module": "@jupyter-widgets/controls",
       "_model_module_version": "1.5.0",
       "_model_name": "DescriptionStyleModel",
       "_view_count": null,
       "_view_module": "@jupyter-widgets/base",
       "_view_module_version": "1.2.0",
       "_view_name": "StyleView",
       "description_width": ""
      }
     },
     "867d3914c5334ed0b56173a4789f4e3f": {
      "model_module": "@jupyter-widgets/controls",
      "model_module_version": "1.5.0",
      "model_name": "DescriptionStyleModel",
      "state": {
       "_model_module": "@jupyter-widgets/controls",
       "_model_module_version": "1.5.0",
       "_model_name": "DescriptionStyleModel",
       "_view_count": null,
       "_view_module": "@jupyter-widgets/base",
       "_view_module_version": "1.2.0",
       "_view_name": "StyleView",
       "description_width": ""
      }
     },
     "8aaf811859a9401a8b569d0bc57e597b": {
      "model_module": "@jupyter-widgets/base",
      "model_module_version": "1.2.0",
      "model_name": "LayoutModel",
      "state": {
       "_model_module": "@jupyter-widgets/base",
       "_model_module_version": "1.2.0",
       "_model_name": "LayoutModel",
       "_view_count": null,
       "_view_module": "@jupyter-widgets/base",
       "_view_module_version": "1.2.0",
       "_view_name": "LayoutView",
       "align_content": null,
       "align_items": null,
       "align_self": null,
       "border": null,
       "bottom": null,
       "display": null,
       "flex": null,
       "flex_flow": null,
       "grid_area": null,
       "grid_auto_columns": null,
       "grid_auto_flow": null,
       "grid_auto_rows": null,
       "grid_column": null,
       "grid_gap": null,
       "grid_row": null,
       "grid_template_areas": null,
       "grid_template_columns": null,
       "grid_template_rows": null,
       "height": null,
       "justify_content": null,
       "justify_items": null,
       "left": null,
       "margin": null,
       "max_height": null,
       "max_width": null,
       "min_height": null,
       "min_width": null,
       "object_fit": null,
       "object_position": null,
       "order": null,
       "overflow": null,
       "overflow_x": null,
       "overflow_y": null,
       "padding": null,
       "right": null,
       "top": null,
       "visibility": null,
       "width": null
      }
     },
     "9e7346222ac44d2f976051d62662c3c8": {
      "model_module": "@jupyter-widgets/base",
      "model_module_version": "1.2.0",
      "model_name": "LayoutModel",
      "state": {
       "_model_module": "@jupyter-widgets/base",
       "_model_module_version": "1.2.0",
       "_model_name": "LayoutModel",
       "_view_count": null,
       "_view_module": "@jupyter-widgets/base",
       "_view_module_version": "1.2.0",
       "_view_name": "LayoutView",
       "align_content": null,
       "align_items": null,
       "align_self": null,
       "border": null,
       "bottom": null,
       "display": null,
       "flex": null,
       "flex_flow": null,
       "grid_area": null,
       "grid_auto_columns": null,
       "grid_auto_flow": null,
       "grid_auto_rows": null,
       "grid_column": null,
       "grid_gap": null,
       "grid_row": null,
       "grid_template_areas": null,
       "grid_template_columns": null,
       "grid_template_rows": null,
       "height": null,
       "justify_content": null,
       "justify_items": null,
       "left": null,
       "margin": null,
       "max_height": null,
       "max_width": null,
       "min_height": null,
       "min_width": null,
       "object_fit": null,
       "object_position": null,
       "order": null,
       "overflow": null,
       "overflow_x": null,
       "overflow_y": null,
       "padding": null,
       "right": null,
       "top": null,
       "visibility": null,
       "width": null
      }
     },
     "ba5c4aa221544281ae91843a7f78ec8a": {
      "model_module": "@jupyter-widgets/base",
      "model_module_version": "1.2.0",
      "model_name": "LayoutModel",
      "state": {
       "_model_module": "@jupyter-widgets/base",
       "_model_module_version": "1.2.0",
       "_model_name": "LayoutModel",
       "_view_count": null,
       "_view_module": "@jupyter-widgets/base",
       "_view_module_version": "1.2.0",
       "_view_name": "LayoutView",
       "align_content": null,
       "align_items": null,
       "align_self": null,
       "border": null,
       "bottom": null,
       "display": null,
       "flex": null,
       "flex_flow": null,
       "grid_area": null,
       "grid_auto_columns": null,
       "grid_auto_flow": null,
       "grid_auto_rows": null,
       "grid_column": null,
       "grid_gap": null,
       "grid_row": null,
       "grid_template_areas": null,
       "grid_template_columns": null,
       "grid_template_rows": null,
       "height": null,
       "justify_content": null,
       "justify_items": null,
       "left": null,
       "margin": null,
       "max_height": null,
       "max_width": null,
       "min_height": null,
       "min_width": null,
       "object_fit": null,
       "object_position": null,
       "order": null,
       "overflow": null,
       "overflow_x": null,
       "overflow_y": null,
       "padding": null,
       "right": null,
       "top": null,
       "visibility": null,
       "width": null
      }
     },
     "bd3b70d252414478b323d29518c1405d": {
      "model_module": "@jupyter-widgets/base",
      "model_module_version": "1.2.0",
      "model_name": "LayoutModel",
      "state": {
       "_model_module": "@jupyter-widgets/base",
       "_model_module_version": "1.2.0",
       "_model_name": "LayoutModel",
       "_view_count": null,
       "_view_module": "@jupyter-widgets/base",
       "_view_module_version": "1.2.0",
       "_view_name": "LayoutView",
       "align_content": null,
       "align_items": null,
       "align_self": null,
       "border": null,
       "bottom": null,
       "display": null,
       "flex": null,
       "flex_flow": null,
       "grid_area": null,
       "grid_auto_columns": null,
       "grid_auto_flow": null,
       "grid_auto_rows": null,
       "grid_column": null,
       "grid_gap": null,
       "grid_row": null,
       "grid_template_areas": null,
       "grid_template_columns": null,
       "grid_template_rows": null,
       "height": null,
       "justify_content": null,
       "justify_items": null,
       "left": null,
       "margin": null,
       "max_height": null,
       "max_width": null,
       "min_height": null,
       "min_width": null,
       "object_fit": null,
       "object_position": null,
       "order": null,
       "overflow": null,
       "overflow_x": null,
       "overflow_y": null,
       "padding": null,
       "right": null,
       "top": null,
       "visibility": null,
       "width": null
      }
     },
     "bdd8227c57f240fe859b6702c9be5815": {
      "model_module": "@jupyter-widgets/base",
      "model_module_version": "1.2.0",
      "model_name": "LayoutModel",
      "state": {
       "_model_module": "@jupyter-widgets/base",
       "_model_module_version": "1.2.0",
       "_model_name": "LayoutModel",
       "_view_count": null,
       "_view_module": "@jupyter-widgets/base",
       "_view_module_version": "1.2.0",
       "_view_name": "LayoutView",
       "align_content": null,
       "align_items": null,
       "align_self": null,
       "border": null,
       "bottom": null,
       "display": null,
       "flex": null,
       "flex_flow": null,
       "grid_area": null,
       "grid_auto_columns": null,
       "grid_auto_flow": null,
       "grid_auto_rows": null,
       "grid_column": null,
       "grid_gap": null,
       "grid_row": null,
       "grid_template_areas": null,
       "grid_template_columns": null,
       "grid_template_rows": null,
       "height": null,
       "justify_content": null,
       "justify_items": null,
       "left": null,
       "margin": null,
       "max_height": null,
       "max_width": null,
       "min_height": null,
       "min_width": null,
       "object_fit": null,
       "object_position": null,
       "order": null,
       "overflow": null,
       "overflow_x": null,
       "overflow_y": null,
       "padding": null,
       "right": null,
       "top": null,
       "visibility": null,
       "width": null
      }
     },
     "c4bd8d5e08fd4e13a3e35b138ee321df": {
      "model_module": "@jupyter-widgets/controls",
      "model_module_version": "1.5.0",
      "model_name": "FloatProgressModel",
      "state": {
       "_dom_classes": [],
       "_model_module": "@jupyter-widgets/controls",
       "_model_module_version": "1.5.0",
       "_model_name": "FloatProgressModel",
       "_view_count": null,
       "_view_module": "@jupyter-widgets/controls",
       "_view_module_version": "1.5.0",
       "_view_name": "ProgressView",
       "bar_style": "success",
       "description": "",
       "description_tooltip": null,
       "layout": "IPY_MODEL_9e7346222ac44d2f976051d62662c3c8",
       "max": 479.0,
       "min": 0.0,
       "orientation": "horizontal",
       "style": "IPY_MODEL_73ec465c4ac04f1daf784076d2b2ab79",
       "value": 479.0
      }
     },
     "c5c9adcea278494d82e3a7d39ae20401": {
      "model_module": "@jupyter-widgets/controls",
      "model_module_version": "1.5.0",
      "model_name": "ProgressStyleModel",
      "state": {
       "_model_module": "@jupyter-widgets/controls",
       "_model_module_version": "1.5.0",
       "_model_name": "ProgressStyleModel",
       "_view_count": null,
       "_view_module": "@jupyter-widgets/base",
       "_view_module_version": "1.2.0",
       "_view_name": "StyleView",
       "bar_color": null,
       "description_width": ""
      }
     },
     "c9dab030d63a44f2840f9ba0467932f0": {
      "model_module": "@jupyter-widgets/controls",
      "model_module_version": "1.5.0",
      "model_name": "HTMLModel",
      "state": {
       "_dom_classes": [],
       "_model_module": "@jupyter-widgets/controls",
       "_model_module_version": "1.5.0",
       "_model_name": "HTMLModel",
       "_view_count": null,
       "_view_module": "@jupyter-widgets/controls",
       "_view_module_version": "1.5.0",
       "_view_name": "HTMLView",
       "description": "",
       "description_tooltip": null,
       "layout": "IPY_MODEL_ba5c4aa221544281ae91843a7f78ec8a",
       "placeholder": "​",
       "style": "IPY_MODEL_f6d0881ae46f46edab6620d5f0357773",
       "value": " 258k/258k [00:00&lt;00:00, 611kB/s]"
      }
     },
     "d85178dc7b4640e5b8860474e1788b1d": {
      "model_module": "@jupyter-widgets/controls",
      "model_module_version": "1.5.0",
      "model_name": "DescriptionStyleModel",
      "state": {
       "_model_module": "@jupyter-widgets/controls",
       "_model_module_version": "1.5.0",
       "_model_name": "DescriptionStyleModel",
       "_view_count": null,
       "_view_module": "@jupyter-widgets/base",
       "_view_module_version": "1.2.0",
       "_view_name": "StyleView",
       "description_width": ""
      }
     },
     "dafdac8a54fc46c29a1e7c90152b4112": {
      "model_module": "@jupyter-widgets/base",
      "model_module_version": "1.2.0",
      "model_name": "LayoutModel",
      "state": {
       "_model_module": "@jupyter-widgets/base",
       "_model_module_version": "1.2.0",
       "_model_name": "LayoutModel",
       "_view_count": null,
       "_view_module": "@jupyter-widgets/base",
       "_view_module_version": "1.2.0",
       "_view_name": "LayoutView",
       "align_content": null,
       "align_items": null,
       "align_self": null,
       "border": null,
       "bottom": null,
       "display": null,
       "flex": null,
       "flex_flow": null,
       "grid_area": null,
       "grid_auto_columns": null,
       "grid_auto_flow": null,
       "grid_auto_rows": null,
       "grid_column": null,
       "grid_gap": null,
       "grid_row": null,
       "grid_template_areas": null,
       "grid_template_columns": null,
       "grid_template_rows": null,
       "height": null,
       "justify_content": null,
       "justify_items": null,
       "left": null,
       "margin": null,
       "max_height": null,
       "max_width": null,
       "min_height": null,
       "min_width": null,
       "object_fit": null,
       "object_position": null,
       "order": null,
       "overflow": null,
       "overflow_x": null,
       "overflow_y": null,
       "padding": null,
       "right": null,
       "top": null,
       "visibility": null,
       "width": null
      }
     },
     "df02f058eefd4058b124e960c2d9bd1d": {
      "model_module": "@jupyter-widgets/controls",
      "model_module_version": "1.5.0",
      "model_name": "HTMLModel",
      "state": {
       "_dom_classes": [],
       "_model_module": "@jupyter-widgets/controls",
       "_model_module_version": "1.5.0",
       "_model_name": "HTMLModel",
       "_view_count": null,
       "_view_module": "@jupyter-widgets/controls",
       "_view_module_version": "1.5.0",
       "_view_name": "HTMLView",
       "description": "",
       "description_tooltip": null,
       "layout": "IPY_MODEL_eddae8dd27c7432d9a9931e1decca768",
       "placeholder": "​",
       "style": "IPY_MODEL_7437754e92384bc581e003314892b136",
       "value": " 479/479 [00:00&lt;00:00, 18.7kB/s]"
      }
     },
     "e425bb1d36d64dc7a4570fd3750a5676": {
      "model_module": "@jupyter-widgets/controls",
      "model_module_version": "1.5.0",
      "model_name": "HBoxModel",
      "state": {
       "_dom_classes": [],
       "_model_module": "@jupyter-widgets/controls",
       "_model_module_version": "1.5.0",
       "_model_name": "HBoxModel",
       "_view_count": null,
       "_view_module": "@jupyter-widgets/controls",
       "_view_module_version": "1.5.0",
       "_view_name": "HBoxView",
       "box_style": "",
       "children": [
        "IPY_MODEL_44c84704919c4d6f872c5f42cb93a8cd",
        "IPY_MODEL_c4bd8d5e08fd4e13a3e35b138ee321df",
        "IPY_MODEL_df02f058eefd4058b124e960c2d9bd1d"
       ],
       "layout": "IPY_MODEL_bdd8227c57f240fe859b6702c9be5815"
      }
     },
     "e74e447f22224d8eae319dccfcf24646": {
      "model_module": "@jupyter-widgets/base",
      "model_module_version": "1.2.0",
      "model_name": "LayoutModel",
      "state": {
       "_model_module": "@jupyter-widgets/base",
       "_model_module_version": "1.2.0",
       "_model_name": "LayoutModel",
       "_view_count": null,
       "_view_module": "@jupyter-widgets/base",
       "_view_module_version": "1.2.0",
       "_view_name": "LayoutView",
       "align_content": null,
       "align_items": null,
       "align_self": null,
       "border": null,
       "bottom": null,
       "display": null,
       "flex": null,
       "flex_flow": null,
       "grid_area": null,
       "grid_auto_columns": null,
       "grid_auto_flow": null,
       "grid_auto_rows": null,
       "grid_column": null,
       "grid_gap": null,
       "grid_row": null,
       "grid_template_areas": null,
       "grid_template_columns": null,
       "grid_template_rows": null,
       "height": null,
       "justify_content": null,
       "justify_items": null,
       "left": null,
       "margin": null,
       "max_height": null,
       "max_width": null,
       "min_height": null,
       "min_width": null,
       "object_fit": null,
       "object_position": null,
       "order": null,
       "overflow": null,
       "overflow_x": null,
       "overflow_y": null,
       "padding": null,
       "right": null,
       "top": null,
       "visibility": null,
       "width": null
      }
     },
     "ea4e72572e194f8599b5d37dccb7ade3": {
      "model_module": "@jupyter-widgets/controls",
      "model_module_version": "1.5.0",
      "model_name": "ProgressStyleModel",
      "state": {
       "_model_module": "@jupyter-widgets/controls",
       "_model_module_version": "1.5.0",
       "_model_name": "ProgressStyleModel",
       "_view_count": null,
       "_view_module": "@jupyter-widgets/base",
       "_view_module_version": "1.2.0",
       "_view_name": "StyleView",
       "bar_color": null,
       "description_width": ""
      }
     },
     "ec1b432512b34d809dd5c5d468d73e0c": {
      "model_module": "@jupyter-widgets/controls",
      "model_module_version": "1.5.0",
      "model_name": "FloatProgressModel",
      "state": {
       "_dom_classes": [],
       "_model_module": "@jupyter-widgets/controls",
       "_model_module_version": "1.5.0",
       "_model_name": "FloatProgressModel",
       "_view_count": null,
       "_view_module": "@jupyter-widgets/controls",
       "_view_module_version": "1.5.0",
       "_view_name": "ProgressView",
       "bar_style": "success",
       "description": "",
       "description_tooltip": null,
       "layout": "IPY_MODEL_fab8f2fd1fb04f7a8d0253f2e7cfa9fd",
       "max": 257706.0,
       "min": 0.0,
       "orientation": "horizontal",
       "style": "IPY_MODEL_c5c9adcea278494d82e3a7d39ae20401",
       "value": 257706.0
      }
     },
     "eddae8dd27c7432d9a9931e1decca768": {
      "model_module": "@jupyter-widgets/base",
      "model_module_version": "1.2.0",
      "model_name": "LayoutModel",
      "state": {
       "_model_module": "@jupyter-widgets/base",
       "_model_module_version": "1.2.0",
       "_model_name": "LayoutModel",
       "_view_count": null,
       "_view_module": "@jupyter-widgets/base",
       "_view_module_version": "1.2.0",
       "_view_name": "LayoutView",
       "align_content": null,
       "align_items": null,
       "align_self": null,
       "border": null,
       "bottom": null,
       "display": null,
       "flex": null,
       "flex_flow": null,
       "grid_area": null,
       "grid_auto_columns": null,
       "grid_auto_flow": null,
       "grid_auto_rows": null,
       "grid_column": null,
       "grid_gap": null,
       "grid_row": null,
       "grid_template_areas": null,
       "grid_template_columns": null,
       "grid_template_rows": null,
       "height": null,
       "justify_content": null,
       "justify_items": null,
       "left": null,
       "margin": null,
       "max_height": null,
       "max_width": null,
       "min_height": null,
       "min_width": null,
       "object_fit": null,
       "object_position": null,
       "order": null,
       "overflow": null,
       "overflow_x": null,
       "overflow_y": null,
       "padding": null,
       "right": null,
       "top": null,
       "visibility": null,
       "width": null
      }
     },
     "f2ac9255a1c24e3c97aff7005324d11b": {
      "model_module": "@jupyter-widgets/base",
      "model_module_version": "1.2.0",
      "model_name": "LayoutModel",
      "state": {
       "_model_module": "@jupyter-widgets/base",
       "_model_module_version": "1.2.0",
       "_model_name": "LayoutModel",
       "_view_count": null,
       "_view_module": "@jupyter-widgets/base",
       "_view_module_version": "1.2.0",
       "_view_name": "LayoutView",
       "align_content": null,
       "align_items": null,
       "align_self": null,
       "border": null,
       "bottom": null,
       "display": null,
       "flex": null,
       "flex_flow": null,
       "grid_area": null,
       "grid_auto_columns": null,
       "grid_auto_flow": null,
       "grid_auto_rows": null,
       "grid_column": null,
       "grid_gap": null,
       "grid_row": null,
       "grid_template_areas": null,
       "grid_template_columns": null,
       "grid_template_rows": null,
       "height": null,
       "justify_content": null,
       "justify_items": null,
       "left": null,
       "margin": null,
       "max_height": null,
       "max_width": null,
       "min_height": null,
       "min_width": null,
       "object_fit": null,
       "object_position": null,
       "order": null,
       "overflow": null,
       "overflow_x": null,
       "overflow_y": null,
       "padding": null,
       "right": null,
       "top": null,
       "visibility": null,
       "width": null
      }
     },
     "f6d0881ae46f46edab6620d5f0357773": {
      "model_module": "@jupyter-widgets/controls",
      "model_module_version": "1.5.0",
      "model_name": "DescriptionStyleModel",
      "state": {
       "_model_module": "@jupyter-widgets/controls",
       "_model_module_version": "1.5.0",
       "_model_name": "DescriptionStyleModel",
       "_view_count": null,
       "_view_module": "@jupyter-widgets/base",
       "_view_module_version": "1.2.0",
       "_view_name": "StyleView",
       "description_width": ""
      }
     },
     "fab8f2fd1fb04f7a8d0253f2e7cfa9fd": {
      "model_module": "@jupyter-widgets/base",
      "model_module_version": "1.2.0",
      "model_name": "LayoutModel",
      "state": {
       "_model_module": "@jupyter-widgets/base",
       "_model_module_version": "1.2.0",
       "_model_name": "LayoutModel",
       "_view_count": null,
       "_view_module": "@jupyter-widgets/base",
       "_view_module_version": "1.2.0",
       "_view_name": "LayoutView",
       "align_content": null,
       "align_items": null,
       "align_self": null,
       "border": null,
       "bottom": null,
       "display": null,
       "flex": null,
       "flex_flow": null,
       "grid_area": null,
       "grid_auto_columns": null,
       "grid_auto_flow": null,
       "grid_auto_rows": null,
       "grid_column": null,
       "grid_gap": null,
       "grid_row": null,
       "grid_template_areas": null,
       "grid_template_columns": null,
       "grid_template_rows": null,
       "height": null,
       "justify_content": null,
       "justify_items": null,
       "left": null,
       "margin": null,
       "max_height": null,
       "max_width": null,
       "min_height": null,
       "min_width": null,
       "object_fit": null,
       "object_position": null,
       "order": null,
       "overflow": null,
       "overflow_x": null,
       "overflow_y": null,
       "padding": null,
       "right": null,
       "top": null,
       "visibility": null,
       "width": null
      }
     },
     "fb3313d15e7c4f2fbea1074d3c585747": {
      "model_module": "@jupyter-widgets/controls",
      "model_module_version": "1.5.0",
      "model_name": "FloatProgressModel",
      "state": {
       "_dom_classes": [],
       "_model_module": "@jupyter-widgets/controls",
       "_model_module_version": "1.5.0",
       "_model_name": "FloatProgressModel",
       "_view_count": null,
       "_view_module": "@jupyter-widgets/controls",
       "_view_module_version": "1.5.0",
       "_view_name": "ProgressView",
       "bar_style": "success",
       "description": "",
       "description_tooltip": null,
       "layout": "IPY_MODEL_5557ee15d49d47d9bc0abd3033686030",
       "max": 110.0,
       "min": 0.0,
       "orientation": "horizontal",
       "style": "IPY_MODEL_45c38c79a38a43f09d446fcc128ddb4e",
       "value": 110.0
      }
     },
     "fc45825584c146a6b62b56a5d3b75a4d": {
      "model_module": "@jupyter-widgets/base",
      "model_module_version": "1.2.0",
      "model_name": "LayoutModel",
      "state": {
       "_model_module": "@jupyter-widgets/base",
       "_model_module_version": "1.2.0",
       "_model_name": "LayoutModel",
       "_view_count": null,
       "_view_module": "@jupyter-widgets/base",
       "_view_module_version": "1.2.0",
       "_view_name": "LayoutView",
       "align_content": null,
       "align_items": null,
       "align_self": null,
       "border": null,
       "bottom": null,
       "display": null,
       "flex": null,
       "flex_flow": null,
       "grid_area": null,
       "grid_auto_columns": null,
       "grid_auto_flow": null,
       "grid_auto_rows": null,
       "grid_column": null,
       "grid_gap": null,
       "grid_row": null,
       "grid_template_areas": null,
       "grid_template_columns": null,
       "grid_template_rows": null,
       "height": null,
       "justify_content": null,
       "justify_items": null,
       "left": null,
       "margin": null,
       "max_height": null,
       "max_width": null,
       "min_height": null,
       "min_width": null,
       "object_fit": null,
       "object_position": null,
       "order": null,
       "overflow": null,
       "overflow_x": null,
       "overflow_y": null,
       "padding": null,
       "right": null,
       "top": null,
       "visibility": null,
       "width": null
      }
     },
     "fc5ac2a8b465439fa1ff8c2943925ba9": {
      "model_module": "@jupyter-widgets/controls",
      "model_module_version": "1.5.0",
      "model_name": "HTMLModel",
      "state": {
       "_dom_classes": [],
       "_model_module": "@jupyter-widgets/controls",
       "_model_module_version": "1.5.0",
       "_model_name": "HTMLModel",
       "_view_count": null,
       "_view_module": "@jupyter-widgets/controls",
       "_view_module_version": "1.5.0",
       "_view_name": "HTMLView",
       "description": "",
       "description_tooltip": null,
       "layout": "IPY_MODEL_3f532063a4d24a00ac19669a79041187",
       "placeholder": "​",
       "style": "IPY_MODEL_7ec4f0492dbc494a9fa44da2aad79c27",
       "value": "Downloading: 100%"
      }
     }
    },
    "version_major": 2,
    "version_minor": 0
   }
  }
 },
 "nbformat": 4,
 "nbformat_minor": 5
}
