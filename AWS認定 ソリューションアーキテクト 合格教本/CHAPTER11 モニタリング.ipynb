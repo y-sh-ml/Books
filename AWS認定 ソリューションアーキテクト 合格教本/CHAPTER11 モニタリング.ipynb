{
 "cells": [
  {
   "cell_type": "markdown",
   "metadata": {},
   "source": [
    "# CHAPTER11　モニタリング"
   ]
  },
  {
   "cell_type": "markdown",
   "metadata": {},
   "source": [
    "## 11-1　CloudWatchによるモニタリング"
   ]
  },
  {
   "cell_type": "markdown",
   "metadata": {},
   "source": [
    "CloudWatchには、以下の3つの機能が提供されている。\n",
    "\n",
    "・CloudWatch：AWSの各種リソースを監視・モニタリングするための機能、主にメトリクスの保存やグラフ表示を行う<br>\n",
    "・CloudWatch Logs：AWSの各種サービスのログやサーバー内の各種ログを保管・閲覧する機能<br>\n",
    "・CloudWatch Events：AWSリソースの状態監視サービス、AWSリソースに対するイベントをトリガーに様々なアクションを実行できる\n",
    "\n",
    "※メトリクス：システムのパフォーマンスに関するデータ\n",
    "\n",
    "**CloudWatchはハイパーバイザーレベルでメトリクスを取得し、メモリはOSレベルのメトリクスとなるため標準では取得できない。**<br>\n",
    "EC2はOS上のメトリクスを取得できないが、RDSはOSを含めたフルマネージドサービスであるため取得することができる。"
   ]
  },
  {
   "cell_type": "markdown",
   "metadata": {},
   "source": [
    "## 11-2　カスタムメトリクス"
   ]
  },
  {
   "cell_type": "markdown",
   "metadata": {},
   "source": [
    "**CloudWatchはハイパーバイザーレベルのメトリクスしか取得できないので<br>\n",
    "OSレベルのメモリやディスク容量に関するメトリクスは、標準では取得できない。**<br>\n",
    "そのため、カスタムメトリクスで取得する必要がある。\n",
    "\n",
    "メモリやディスクを取得する方法として、主に以下の2つがある。\n",
    "\n",
    "・CloudWatch エージェントの導入<br>\n",
    "・CloudWatch モニタリングスクリプトの導入\n",
    "\n",
    "カスタムメトリクスの送信方法は、以下の通りである。\n",
    "\n",
    "・**EC2**にCloudWatch エージェントをインストールして、カスタムメトリクスを送信<br>\n",
    "・CloudWatch Logsから特定のログを検知し、Lambdaを起動してカスタムメトリクスを送信（SDKを利用して送信）<br>\n",
    "・定期的にLambdaを起動し、EC2の起動台数を計算してカスタムメトリクスを送信（SDKを利用して送信）<br>\n",
    "・CLIやAPIを利用して送信"
   ]
  },
  {
   "cell_type": "markdown",
   "metadata": {},
   "source": [
    "## 11-3　アラーム"
   ]
  },
  {
   "cell_type": "markdown",
   "metadata": {},
   "source": [
    "CloudWatchには、メトリクスの内容を条件にアクションを起こす機能がある。<br>\n",
    "SNS経由であればLambdaが起動可能であるため、実質的にどのような操作でも行うことができる。"
   ]
  }
 ],
 "metadata": {
  "kernelspec": {
   "display_name": "Python 3",
   "language": "python",
   "name": "python3"
  },
  "language_info": {
   "codemirror_mode": {
    "name": "ipython",
    "version": 3
   },
   "file_extension": ".py",
   "mimetype": "text/x-python",
   "name": "python",
   "nbconvert_exporter": "python",
   "pygments_lexer": "ipython3",
   "version": "3.7.6"
  }
 },
 "nbformat": 4,
 "nbformat_minor": 4
}
