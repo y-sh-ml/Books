{
 "cells": [
  {
   "cell_type": "markdown",
   "metadata": {},
   "source": [
    "# CHAPTER8　データベース"
   ]
  },
  {
   "cell_type": "markdown",
   "metadata": {},
   "source": [
    "## 8-1　AWSのデータベースサービス"
   ]
  },
  {
   "cell_type": "markdown",
   "metadata": {},
   "source": [
    "・RDS：構築・運用・拡張が用意なリレーショナルデータベース<br>\n",
    "・DynamoDB：シームレスな拡張性と高い信頼性を持つ高速なNoSQL<br>\n",
    "・Redshift：ペタバイト規模に拡張できる高速なデータウェアハウス<br>\n",
    "・ElasticCache：構築・運用・拡張が容易なインメモリキャッシュ"
   ]
  },
  {
   "cell_type": "markdown",
   "metadata": {},
   "source": [
    "## 8-2　RDS"
   ]
  },
  {
   "cell_type": "markdown",
   "metadata": {},
   "source": [
    "・RDS（Relational Database Service）：リレーショナルデータベースをフルマネージドで提供してくれるサービス<br>\n",
    "・フルマネージド（Full Managed）：全ての管理・運用してくれるという意味<br>\n",
    "・リードレプリカ：マスターデータベースから同期された**読み取り専用データ**で、**読み取り負荷を軽減**させる機能<br>\n",
    "・Aurora：Amazonがクラウドを前提として、1から再設計したデータベースサービス<br>\n",
    "・冗長化：障害が起こっても、システム全体が正常に作動できるように普段からバックアップをして運用しておくこと\n",
    "\n",
    "ELB、EC2、RDSの3層アプリケーションが鉄板の構成である。<br>\n",
    "データベースであるため、インターネットから直接アクセスできないサブネットに配置することが一般的である。\n",
    "\n",
    "RDSには、以下の特徴がある。\n",
    "\n",
    "・**オートスケールはできない**（自動で台数を拡張することはできない）<br>\n",
    "・**スケールアップ時は、ダウンタイムが発生する**（インスタンスの再起動が発生して、数分間のダウンタイムが発生してしまうため）<br>\n",
    "・Multi AZの構築によって、AZレベルでの冗長化が可能<br>\n",
    "・リードレプリカを作成できる"
   ]
  },
  {
   "cell_type": "markdown",
   "metadata": {},
   "source": [
    "## 8-3　DynamoDB"
   ]
  },
  {
   "cell_type": "markdown",
   "metadata": {},
   "source": [
    "・DynamoDB：AWSが開発したフルマネージド型NoSQLサービス<br>\n",
    "\n",
    "以下のような特徴がある。\n",
    "\n",
    "・**オートスケール（台数を増やす）が可能**<br>\n",
    "・**トランザクション処理はできない**<br>\n",
    "・CPU、メモリ、ストレージのキャパシティプランニングが不要"
   ]
  },
  {
   "cell_type": "markdown",
   "metadata": {},
   "source": [
    "## 8-4　ElastiCache"
   ]
  },
  {
   "cell_type": "markdown",
   "metadata": {},
   "source": [
    "・ElastiCache：フルマネージド型インメモリデータストアサービス<br>\n",
    "・インメモリデータベース：外部装置（ディスクなど）に頼らず、メインメモリ上で処理を行うデータベース<br>\n",
    "・Cache（キャッシュ）：1度利用したデータなどを、また使う場合に高速にアクセスできるような形で保存しておくこと\n",
    "\n",
    "以下のような特徴がある。\n",
    "\n",
    "・データベースの種類として、**Redis**と**Memcached**を選択できる<br>\n",
    "・AZレベルでの冗長化が可能<br>\n",
    "・リーダレプリカの作成ができる<br>\n",
    "・バックアップやリストアも行える\n",
    "\n",
    "※冗長化：障害が起こっても、システム全体が正常に作動できるように普段からバックアップをして運用しておくこと\n",
    "\n",
    "ユースケースは、下記となる。\n",
    "\n",
    "・**セッション管理**<br>\n",
    "・**データベースキャッシュ**<br>\n",
    "・ストリームデータ分析<br>\n",
    "・メタデータストア"
   ]
  },
  {
   "cell_type": "markdown",
   "metadata": {},
   "source": [
    "## 8-5　Redshift"
   ]
  },
  {
   "cell_type": "markdown",
   "metadata": {},
   "source": [
    "・Redshift：フルマネージド型で、ペタバイトスケールのデータウェアハウスサービス<br>\n",
    "・ペタバイト：1,024テラバイト<br>\n",
    "・デプロイ（deploy）：配備する、IT用語としての意味は「使える状態にすること」\n",
    "\n",
    "以下のような特徴がある。\n",
    "\n",
    "・PostgreSQLをベースとしたデータウェアハウスに特化した高速RDB<br>\n",
    "・ペタバイト級までスケールアウト<br>\n",
    "・**オートスケールができない**ので、手動でのスケールイン・スケールアウトが必要<br>\n",
    "・数クリックでデプロイ可能<br>\n",
    "・データウェアハウスに適した**カラム型データベース**"
   ]
  },
  {
   "cell_type": "markdown",
   "metadata": {},
   "source": [
    "## 8-6　データベースサービスの比較"
   ]
  },
  {
   "cell_type": "markdown",
   "metadata": {},
   "source": [
    "・RDS：汎用性が高い<br>\n",
    "・DynamoDB、ElastiCache：低レイテンシー（通信の遅延時間が少ない）やキャッシュ要件<br>\n",
    "・Redshift：大容量のデータ分析"
   ]
  }
 ],
 "metadata": {
  "kernelspec": {
   "display_name": "Python 3",
   "language": "python",
   "name": "python3"
  },
  "language_info": {
   "codemirror_mode": {
    "name": "ipython",
    "version": 3
   },
   "file_extension": ".py",
   "mimetype": "text/x-python",
   "name": "python",
   "nbconvert_exporter": "python",
   "pygments_lexer": "ipython3",
   "version": "3.7.6"
  }
 },
 "nbformat": 4,
 "nbformat_minor": 4
}
