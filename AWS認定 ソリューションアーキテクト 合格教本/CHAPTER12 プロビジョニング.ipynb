{
 "cells": [
  {
   "cell_type": "markdown",
   "metadata": {},
   "source": [
    "# CHAPTER12　プロビジョニング"
   ]
  },
  {
   "cell_type": "markdown",
   "metadata": {},
   "source": [
    "## 12-1　コードを用いたインフラ構築の自動化"
   ]
  },
  {
   "cell_type": "markdown",
   "metadata": {},
   "source": [
    "・CloudFormation：インフラ構築のコード化を通じて、AWSリソースの環境構築を自動化できるサービス<br>\n",
    "・プロビジョニング：ネットワークやコンピューター設備などを、必要に応じて提供できるように準備しておくこと\n",
    "\n",
    "ユースケースは、以下の通りである。\n",
    "\n",
    "・開発環境、ステージング環境、本番環境を統一する<br>\n",
    "・災害時に別リージョンで一気にインフラ環境を構築し、リードタイムを短くする"
   ]
  },
  {
   "cell_type": "markdown",
   "metadata": {},
   "source": [
    "## 12-2　プロビジョニングツール"
   ]
  },
  {
   "cell_type": "markdown",
   "metadata": {},
   "source": [
    "AWSの環境構築を自動化するサービスには、以下の3つがある。\n",
    "\n",
    "・**CloudFormation**：インフラ構築を**コード化**して自分で書く、フレキシビリティ（柔軟性）が高い、導入のハードルも高い<br>\n",
    "・**Elastic Beanstalk**：インフラ構築を**テンプレート化**して容易に行う、フレキシビリティが低い、導入ハードルも低い<br>\n",
    "・**OpsWorks**：上記2つの中間にあたる位置付けとなる\n",
    "\n",
    "※デプロイ（deploy）：配備するの意、あるものを使用できる状態にすること"
   ]
  }
 ],
 "metadata": {
  "kernelspec": {
   "display_name": "Python 3",
   "language": "python",
   "name": "python3"
  },
  "language_info": {
   "codemirror_mode": {
    "name": "ipython",
    "version": 3
   },
   "file_extension": ".py",
   "mimetype": "text/x-python",
   "name": "python",
   "nbconvert_exporter": "python",
   "pygments_lexer": "ipython3",
   "version": "3.7.6"
  }
 },
 "nbformat": 4,
 "nbformat_minor": 4
}
