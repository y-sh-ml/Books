{
 "cells": [
  {
   "cell_type": "markdown",
   "metadata": {},
   "source": [
    "# CHAPTER6　コンピューティング"
   ]
  },
  {
   "cell_type": "markdown",
   "metadata": {},
   "source": [
    "## 6-1　EC2インスタンス"
   ]
  },
  {
   "cell_type": "markdown",
   "metadata": {},
   "source": [
    "・EC2（Elastic Compute Cloud）：AWSにおける仮想サーバー<br>\n",
    "・**AMI**（Amazon Machine Image)：EC2の起動に必要な情報をまとめたもので、**EC2の起動元**となる<br>\n",
    "・ユーザーデータ：EC2の起動と同時に、何かしらの処理を行いたい場合に使用するもの<br>\n",
    "・タグ：インスタンスに役職名や組織名、AWSリソース名を付与して、絞り込みをしたりカウントしたりすることができる<br>\n",
    "・クラスタプレイスメントグループ：インスタンス間の通信速度を高速化させる機能\n",
    "\n",
    "EC2起動時の処理は「ユーザーデータによる実行」か「AMIに埋め込む方法」があるため<br>\n",
    "そのときのケースに応じて使い分ける必要がある。\n",
    "\n",
    "・クラスタプレイスメントグループ：**単一アベイラビリティーゾーン内**のEC2インスタンスをグループ化して起動する<br>\n",
    "・スプレッドプレイスメントグループ：異なるハードウェアに配置されるEC2インスタンスをグループ化して起動する\n",
    "\n",
    "クラスタプレイスメントグループは、複数のアベイラビリティーゾーンやネットワーク帯域が小さいインスタンスタイプでは利用できない。"
   ]
  },
  {
   "cell_type": "markdown",
   "metadata": {},
   "source": [
    "## 6-2　EC2購入オプションによるコスト最適化"
   ]
  },
  {
   "cell_type": "markdown",
   "metadata": {},
   "source": [
    "EC2の購入オプションには、以下の3つがある。\n",
    "\n",
    "・オンデマンドインスタンス：通常の購入方法<br>\n",
    "・リザーブドインスタンス：一定期間利用できるように事前予約をし、大幅割引を受けられる購入方法<br>\n",
    "・スポットインスタンス：AWS上で余っているEC2の余剰リソースを大幅割引で利用できる購入方法"
   ]
  },
  {
   "cell_type": "markdown",
   "metadata": {},
   "source": [
    "## 6-3　Lambda"
   ]
  },
  {
   "cell_type": "markdown",
   "metadata": {},
   "source": [
    "Lambdaは、EC2と対比して覚えておくと良い。\n",
    "\n",
    "・EC2：AWSにおける仮想サーバー、課金対象は稼働時間、1回の処理が長いワークロードも対応可<br>\n",
    "・Lambda：**サーバーレス**型サービス、稼働時間はアプリケーションの実行時間、1回の処理が長いワークロードは対応不可<br>\n",
    "・Faas（Fanction as a Service）：サーバーレス型サービスのことで、**関数単位で処理を実行できる**"
   ]
  }
 ],
 "metadata": {
  "kernelspec": {
   "display_name": "Python 3",
   "language": "python",
   "name": "python3"
  },
  "language_info": {
   "codemirror_mode": {
    "name": "ipython",
    "version": 3
   },
   "file_extension": ".py",
   "mimetype": "text/x-python",
   "name": "python",
   "nbconvert_exporter": "python",
   "pygments_lexer": "ipython3",
   "version": "3.7.6"
  }
 },
 "nbformat": 4,
 "nbformat_minor": 4
}
