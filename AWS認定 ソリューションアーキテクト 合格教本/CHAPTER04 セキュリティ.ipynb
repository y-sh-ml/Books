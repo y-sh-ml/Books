{
 "cells": [
  {
   "cell_type": "markdown",
   "metadata": {},
   "source": [
    "# CHAPTER4　セキュリティ"
   ]
  },
  {
   "cell_type": "markdown",
   "metadata": {},
   "source": [
    "## 4-1　責任共有モデル"
   ]
  },
  {
   "cell_type": "markdown",
   "metadata": {},
   "source": [
    "責任共有モデルは、以下のように分担されている。\n",
    "\n",
    "・AWS：すべてのサービスを実行するインフラストラクチャの保護の責任<br>\n",
    "・ユーザ：AWSの各種設定について管理と運用を行う責任\n",
    "\n",
    "**EC2**では、物理部分がAWS、論理部分はユーザに分類される。\n",
    "\n",
    "・物理部分：ネットワーク機器、物理ホスト、データセンターやサーバー機器<br>\n",
    "・論理部分：OS、アプリケーション、ネットワークレベルでのアクセスコントロール（セキュリティグループ）\n",
    "\n",
    "AWSには、ユーザ側のセキュリティを強化するサービスも用意されている。\n",
    "\n",
    "・CloudTrail：監査用にAWSの操作履歴を記録する<br>\n",
    "・セキュリティグループ：ファイアーウォールの機能を担う<br>\n",
    "・WAF：アプリケーションの保護をしてくれる<br>\n",
    "・KMS：データ暗号化の鍵管理をしてくれる"
   ]
  },
  {
   "cell_type": "markdown",
   "metadata": {},
   "source": [
    "## 4-2　AWSの権限管理"
   ]
  },
  {
   "cell_type": "markdown",
   "metadata": {},
   "source": [
    "ルートアカウントは、MFA（多要素認証）でロックをかけて金庫などに保管する。<br>\n",
    "通常時は、IAMユーザーを使用するようにする。\n",
    "\n",
    "IAMには、次のような機能がある。\n",
    "\n",
    "・IAM：AWSのセキュリティを高めるために、認証・アクセス管理・権限管理などを行う<br>\n",
    "・IAMユーザー：個人もしくはサービスごとに発行される<br>\n",
    "・IAMグループ：IAMユーザーを束ね、グループ化することができる<br>\n",
    "・IAMポリシー：IAMユーザーやIAMグループに付与して、アクセス許可やアクセス制限をかける（ルールを付ける機能）<br>\n",
    "・IAMロール：AWSのサービスに操作権限を付与するための仕組み\n",
    "\n",
    "IAMポリシーはEC2などに直接付与できない。<br>\n",
    "そのため、IAMポリシーをIAMロールに割り当て、それからIAMロールをEC2に付与する。<br>\n",
    "これにより、アクセスキーやシークレットキーを利用しないで済む。\n",
    "\n",
    "その他にも以下のような権限管理ツールがある。\n",
    "\n",
    "・クロスアカウントアクセス：AWSのアカウントAからアカウントBのAWSリソースを扱う際に用いる機能<br>\n",
    "・MFA（多要素認証）：マネジメントコンソールへのアクセスのセキュリティレベルを向上させる<br>\n",
    "・ID Federation：企業などで導入されている認証の仕組みとAWSの認証を紐づける<br>\n",
    "・SAML：異なるドメイン間においてユーザー認証を繋げる"
   ]
  },
  {
   "cell_type": "markdown",
   "metadata": {},
   "source": [
    "## 4-3　AWSのセキュリティ管理"
   ]
  },
  {
   "cell_type": "markdown",
   "metadata": {},
   "source": [
    "・CloudTrail：「いつ・誰が・何の操作を行ったのか」など、監査ログを記録するもの<br>\n",
    "・CloudFlont：CDN（サーバーを世界中に分散配置し、高速なコンテンツ配信を可能にする）サービス<br>\n",
    "・Trusted Advisor：セキュリティや最適化において、AWSのベストプラクティスに沿っているかをチェックする機能<br>\n",
    "\n",
    "・VPC Flowlog：ネットワークログを管理する機能<br>\n",
    "・CloudWatch Logs：アプリケーションやOS上のシステムログを管理する機能<br>\n",
    "・Macie：S3に格納されている個人情報の検知と分析<br>\n",
    "・GuardDuty：ネットワークログを元に不正アクセスの記録と検知"
   ]
  },
  {
   "cell_type": "markdown",
   "metadata": {},
   "source": [
    "## 4-4　AWSのサポート"
   ]
  },
  {
   "cell_type": "markdown",
   "metadata": {},
   "source": [
    "AWSには、いくつかのサポート契約が用意されている。\n",
    "\n",
    "・ベーシック<br>\n",
    "・開発者<br>\n",
    "・ビジネス<br>\n",
    "・エンタープライズ\n",
    "\n",
    "AWSを本番環境で利用する場合には「ビジネス」以上、大規模システムの場合には「エンタープライズ」を契約することが多い。"
   ]
  }
 ],
 "metadata": {
  "kernelspec": {
   "display_name": "Python 3",
   "language": "python",
   "name": "python3"
  },
  "language_info": {
   "codemirror_mode": {
    "name": "ipython",
    "version": 3
   },
   "file_extension": ".py",
   "mimetype": "text/x-python",
   "name": "python",
   "nbconvert_exporter": "python",
   "pygments_lexer": "ipython3",
   "version": "3.7.6"
  }
 },
 "nbformat": 4,
 "nbformat_minor": 4
}
