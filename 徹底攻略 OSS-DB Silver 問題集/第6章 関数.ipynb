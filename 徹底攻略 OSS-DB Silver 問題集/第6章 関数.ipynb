{
 "cells": [
  {
   "cell_type": "markdown",
   "metadata": {},
   "source": [
    "## 第6章　関数"
   ]
  },
  {
   "cell_type": "markdown",
   "metadata": {},
   "source": [
    "### 20."
   ]
  },
  {
   "cell_type": "markdown",
   "metadata": {},
   "source": [
    "・COALESCE（A, B）：AがNULLならば、Bを返す"
   ]
  },
  {
   "cell_type": "markdown",
   "metadata": {},
   "source": [
    "### 21."
   ]
  },
  {
   "cell_type": "markdown",
   "metadata": {},
   "source": [
    "・NULLIF(A, B)：AがBならば、NULLを返す"
   ]
  }
 ],
 "metadata": {
  "kernelspec": {
   "display_name": "Python 3",
   "language": "python",
   "name": "python3"
  },
  "language_info": {
   "codemirror_mode": {
    "name": "ipython",
    "version": 3
   },
   "file_extension": ".py",
   "mimetype": "text/x-python",
   "name": "python",
   "nbconvert_exporter": "python",
   "pygments_lexer": "ipython3",
   "version": "3.7.6"
  }
 },
 "nbformat": 4,
 "nbformat_minor": 4
}
