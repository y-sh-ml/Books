{
 "cells": [
  {
   "cell_type": "markdown",
   "id": "cd60b454",
   "metadata": {},
   "source": [
    "## 3.1　時系列データの性質"
   ]
  },
  {
   "cell_type": "markdown",
   "id": "55716f5a",
   "metadata": {},
   "source": [
    "### 3.1.1　時系列データ解析の背景"
   ]
  },
  {
   "cell_type": "markdown",
   "id": "7e8693e8",
   "metadata": {},
   "source": [
    "・時系列データの前処理：共和分（非定常→定常への変換）\n",
    "\n",
    "・非時系列データ：各時間における分布から、独立サンプリングできる<br>\n",
    "・時系列データ：各時間における分布から、独立サンプリングできない"
   ]
  },
  {
   "cell_type": "markdown",
   "id": "a7c4c312",
   "metadata": {},
   "source": [
    "### 3.1.2　時系列データ解析の前提条件"
   ]
  },
  {
   "cell_type": "markdown",
   "id": "e8c4a7a9",
   "metadata": {},
   "source": [
    "・定常性とは、弱定常性と強定常性をまとめた表現である"
   ]
  },
  {
   "cell_type": "markdown",
   "id": "8f07fd30",
   "metadata": {},
   "source": [
    "#### 弱定常性"
   ]
  },
  {
   "cell_type": "markdown",
   "id": "95ddfee8",
   "metadata": {},
   "source": [
    "・時系列データの観測値 $y(t)$ の平均値は、時間依存せず、一定あるいは定常である<br>\n",
    "・時系列データの観測値 $y(t)$ の分散は、時間依存せず、一定あるいは定常である<br>\n",
    "・時系列データの観測値 $y(t)$ と $y(t-h)$ からなる自己共分散は、時間依存せず、ラグ $h$ のみに依存する<br>\n",
    "\n",
    "◎どの時間においても平均と分散は一定であり、自己共分散はラグのみに依存するということ"
   ]
  },
  {
   "cell_type": "markdown",
   "id": "3db4b31c",
   "metadata": {},
   "source": [
    "#### 強定常性"
   ]
  },
  {
   "cell_type": "markdown",
   "id": "fdc63be5",
   "metadata": {},
   "source": [
    "・任意のデータの観測値 $y(t)$ に対して同一確率分布をもつ"
   ]
  },
  {
   "cell_type": "markdown",
   "id": "2f805125",
   "metadata": {},
   "source": [
    "#### 定常性検定"
   ]
  },
  {
   "cell_type": "markdown",
   "id": "ed2a1999",
   "metadata": {},
   "source": [
    "・時系列解析前に行う検定と、時系列解析後に行う検定の2種類がある"
   ]
  },
  {
   "cell_type": "markdown",
   "id": "f14a006b",
   "metadata": {},
   "source": [
    "### 参考サイト"
   ]
  },
  {
   "cell_type": "markdown",
   "id": "27550ae3",
   "metadata": {},
   "source": [
    "・https://ai-trend.jp/basic-study/time-series-analysis/time-series-analysis-stationaly-noise/"
   ]
  }
 ],
 "metadata": {
  "kernelspec": {
   "display_name": "Python 3",
   "language": "python",
   "name": "python3"
  },
  "language_info": {
   "codemirror_mode": {
    "name": "ipython",
    "version": 3
   },
   "file_extension": ".py",
   "mimetype": "text/x-python",
   "name": "python",
   "nbconvert_exporter": "python",
   "pygments_lexer": "ipython3",
   "version": "3.8.8"
  }
 },
 "nbformat": 4,
 "nbformat_minor": 5
}
