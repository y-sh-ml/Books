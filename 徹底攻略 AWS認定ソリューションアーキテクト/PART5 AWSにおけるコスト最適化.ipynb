{
 "cells": [
  {
   "cell_type": "markdown",
   "metadata": {},
   "source": [
    "# PART5　AWSにおけるコスト最適化"
   ]
  },
  {
   "cell_type": "markdown",
   "metadata": {},
   "source": [
    "## 5-2　コスト効果が高いリソースの選定"
   ]
  },
  {
   "cell_type": "markdown",
   "metadata": {},
   "source": [
    "インスタンスファミリーとインスタンス世代は、以下の通りである。\n",
    "\n",
    "・汎用（T2、M4、M5）：バランス型<br>\n",
    "・コンピューティング最適化（C4、C5）：コスト効果の高い**CPU処理**に特化<br>\n",
    "・メモリ最適化（X1e、X1、R4）：大容量の**メモリ**に特化<br>\n",
    "・高速コンピューティング（P2、P3、G3、R4）：GPUやFPGAなど**高速処理**に特化<br>\n",
    "・ストレージ最適化（H1、I3、D2）：**ストレージ容量やI/Oスループット性能**に特化\n",
    "\n",
    "ストレージクラスの種類は、以下の通りである。\n",
    "\n",
    "・スタンダード：**通常**のストレージクラス<br>\n",
    "・標準低頻度アクセス：スタンダードより**安価**だが、データの**読み出し容量に対して課金**される<br>\n",
    "・Glacier：長期保管が目的で、データの**取り出しに3～5時間**ほどかかる<br>\n",
    "・低冗長化ストレージ：Glacierから取り出したデータを**一時的に保管**する場合などに使用する<br>\n",
    "・1ゾーン低頻度アクセス：**1つのAZのみ**でデータを保存する代わり、**安価**ですぐに取り出すことができる"
   ]
  },
  {
   "cell_type": "markdown",
   "metadata": {},
   "source": [
    "## 5-4　コスト管理"
   ]
  },
  {
   "cell_type": "markdown",
   "metadata": {},
   "source": [
    "・Amazon Kinesis：ストリーミングデータの**収集・処理・リアルタイム分析**ができるサービス<br>\n",
    "\n",
    "以下の3種類のサービスで構成されている。\n",
    "\n",
    "・Amazon Kinesis Data Streams：ストリーミングデータを**ほぼリアルタイムで保存**し、大容量のデータを**分割して並列処理**できるサービス<br>\n",
    "・Amazon Kinesis Data Firehose：独自にアプリケーションを構築せずに、ストリームデータを**AWSの各サービスに配信・保存**ができるサービス<br>\n",
    "・Amazon Kinesis Data Analytics：ストリーミングデータに対して**SQLを実行し、リアルタイム分析**を行うサービス"
   ]
  }
 ],
 "metadata": {
  "kernelspec": {
   "display_name": "Python 3",
   "language": "python",
   "name": "python3"
  },
  "language_info": {
   "codemirror_mode": {
    "name": "ipython",
    "version": 3
   },
   "file_extension": ".py",
   "mimetype": "text/x-python",
   "name": "python",
   "nbconvert_exporter": "python",
   "pygments_lexer": "ipython3",
   "version": "3.7.6"
  }
 },
 "nbformat": 4,
 "nbformat_minor": 4
}
