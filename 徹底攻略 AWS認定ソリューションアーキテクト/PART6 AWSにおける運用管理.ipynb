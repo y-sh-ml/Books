{
 "cells": [
  {
   "cell_type": "markdown",
   "metadata": {},
   "source": [
    "# PART6　AWSにおける運用管理"
   ]
  },
  {
   "cell_type": "markdown",
   "metadata": {},
   "source": [
    "## 6-2　作業の自動化"
   ]
  },
  {
   "cell_type": "markdown",
   "metadata": {},
   "source": [
    "CloudFormationの設定項目は、以下の通りである。\n",
    "\n",
    "・AWS Template Format Version：CloudFormationのテンプレートのバージョンを指定<br>\n",
    "・Description：テンプレートの説明を記述<br>\n",
    "・Parameters：テンプレート実行時に利用できる値を指定<br>\n",
    "・Resources：プロビジョニングしたいAWSリソースと、その設定を記述<br>\n",
    "・Output：スタック作成後に出力したい項目を指定\n",
    "\n",
    "CloudFormationのテンプレート作成において、ネットワークACLのエントリ（ルール）作成に関する記述する場合は\n",
    "Resources項目のプロパティで、以下のものが設定できる。\n",
    "\n",
    "・CidrBlock<br>\n",
    "・Egress<br>\n",
    "・RuleAction"
   ]
  }
 ],
 "metadata": {
  "kernelspec": {
   "display_name": "Python 3",
   "language": "python",
   "name": "python3"
  },
  "language_info": {
   "codemirror_mode": {
    "name": "ipython",
    "version": 3
   },
   "file_extension": ".py",
   "mimetype": "text/x-python",
   "name": "python",
   "nbconvert_exporter": "python",
   "pygments_lexer": "ipython3",
   "version": "3.7.6"
  }
 },
 "nbformat": 4,
 "nbformat_minor": 4
}
