{
 "cells": [
  {
   "cell_type": "markdown",
   "metadata": {},
   "source": [
    "# PART2　AWSにおける高可用アーキテクチャ"
   ]
  },
  {
   "cell_type": "markdown",
   "metadata": {},
   "source": [
    "## 2-2　ネットワークにおける高可用の実現"
   ]
  },
  {
   "cell_type": "markdown",
   "metadata": {},
   "source": [
    "Route53の主なレコードタイプは、以下の通りである。\n",
    "\n",
    "・Aレコード：ドメイン名からIPアドレスを参照する、ELBやCloudFrontに対して**ZoneApexレコード**を**Aレコード**で指定できる<br>\n",
    "・CNAMEレコード：ドメイン名から別のドメイン名を参照する\n",
    "\n",
    "※ZoneApex：「xxx.example.jp」ではなく「example.jp」のように、頭にサブドメインが付かないドメインのこと"
   ]
  },
  {
   "cell_type": "markdown",
   "metadata": {},
   "source": [
    "## 2-3　コンピューティングにおける高可用の実現"
   ]
  },
  {
   "cell_type": "markdown",
   "metadata": {},
   "source": [
    "・CDN（Content Delivery System）：世界中に分散配置されたサーバー群にコンテンツを配信し、高速なコンテンツ配信を可能にするもの<br>\n",
    "・CloudFront：エッジロケーションからコンテンツを配信するCDNサービス\n",
    "\n",
    "※エッジロケーション：データセンターの世界規模のネットワーク\n",
    "\n",
    "CloudFrontは、以下を提供する際に活用される。\n",
    "\n",
    "・世界中からアクセスされる大規模なWebサーバー<br>\n",
    "・予期できないアクセス集中が発生し得るサービス"
   ]
  },
  {
   "cell_type": "markdown",
   "metadata": {},
   "source": [
    "## 2-4　ストレージにおける高可用の実現"
   ]
  },
  {
   "cell_type": "markdown",
   "metadata": {},
   "source": [
    "EBS スナップショットの特徴は、以下の通りである。\n",
    "\n",
    "・オンラインで取得できる<br>\n",
    "・ルートボリュームのスナップショットが取得できる<br>\n",
    "・単一のEC2インスタンスにしかアタッチできない<br>\n",
    "・スナップショットは開始時のものが保管されるため、その後であればデータを変更したり削除しても問題ない\n",
    "\n",
    "S3で操作したデータには、以下の性質を保証する。\n",
    "\n",
    "・データの更新、削除：整合性<br>\n",
    "・データの追加：一貫性"
   ]
  }
 ],
 "metadata": {
  "kernelspec": {
   "display_name": "Python 3",
   "language": "python",
   "name": "python3"
  },
  "language_info": {
   "codemirror_mode": {
    "name": "ipython",
    "version": 3
   },
   "file_extension": ".py",
   "mimetype": "text/x-python",
   "name": "python",
   "nbconvert_exporter": "python",
   "pygments_lexer": "ipython3",
   "version": "3.7.6"
  }
 },
 "nbformat": 4,
 "nbformat_minor": 4
}
