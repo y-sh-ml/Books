{
 "cells": [
  {
   "cell_type": "markdown",
   "metadata": {},
   "source": [
    "# PART1　AWSサービス全体の概要"
   ]
  },
  {
   "cell_type": "markdown",
   "metadata": {},
   "source": [
    "## 1-8　データ通知・連携処理サービス"
   ]
  },
  {
   "cell_type": "markdown",
   "metadata": {},
   "source": [
    "・Amazon Simple Email Service（SES）：AWSで提供されるEメールサービス／WebアプリからSESで提供されるAPIを使って、メールでの通知ができる<br>\n",
    "・Amazon Simple Nortification（**SNS**）：AWSで提供されるメッセージ通知サービス／Webアプリから任意のメッセージを簡単に送信できる<br>\n",
    "・Amazon Simple Queue Service（SQS）：メッセージキューのマネージドサービス／複数のEC2インスタンスへ非同期に分散処理することができる<br>\n",
    "・AWS Data Pipeline：データベースからのデータの取り出し・変換・保存など、データに対して順次処理（パイプライン処理）を行うことができる\n",
    "\n",
    "CloudFormationには、以下の2つの要素がある。\n",
    "\n",
    "・テンプレート：CloudFormationの設定ファイルを指し、JSONまたはYAMLフォーマットで記述される<br>\n",
    "・スタック：テンプレートを利用してCloudFormationによってプロビジョニングされるAWSリソースの集合を指します"
   ]
  }
 ],
 "metadata": {
  "kernelspec": {
   "display_name": "Python 3",
   "language": "python",
   "name": "python3"
  },
  "language_info": {
   "codemirror_mode": {
    "name": "ipython",
    "version": 3
   },
   "file_extension": ".py",
   "mimetype": "text/x-python",
   "name": "python",
   "nbconvert_exporter": "python",
   "pygments_lexer": "ipython3",
   "version": "3.7.6"
  }
 },
 "nbformat": 4,
 "nbformat_minor": 4
}
