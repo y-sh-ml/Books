{
 "cells": [
  {
   "cell_type": "markdown",
   "metadata": {},
   "source": [
    "# 第5章　AWSにおけるコンピューティング"
   ]
  },
  {
   "cell_type": "markdown",
   "metadata": {},
   "source": [
    "## 5-1　EC2の初回起動と設定"
   ]
  },
  {
   "cell_type": "markdown",
   "metadata": {},
   "source": [
    "・AMI：EC2インスタンスを初回起動（作成）する際に必要となる仮想マシンイメージ<br>\n",
    "・ユーザデータ：OSの起動スクリプトのようなもので、EC2の初回起動時（作成時）に実行したい処理を設定できる<br>\n",
    "・メタデータ：インスタンスIDやIPアドレス、ホスト名などのEC2インスタンス自身に関するデータ"
   ]
  },
  {
   "cell_type": "markdown",
   "metadata": {},
   "source": [
    "## 5-5　EBSスナップショット"
   ]
  },
  {
   "cell_type": "markdown",
   "metadata": {},
   "source": [
    "・EBSスナップショット：S3内に保存されるEBS内のデータのバックアップ\n",
    "\n",
    "スナップショットの取得方法は、以下の通りである。\n",
    "\n",
    "・EBSボリュームをアンマウントして、スナップショットを取得し、再度マウントした後にディスクのI/Oを再開する\n",
    "\n",
    "補足用語は、以下の通りである。\n",
    "\n",
    "・I/O：入出力（InputとOutput）<br>\n",
    "・マウント：接続した機器を認識させて使える状態にすること<br>\n",
    "・アンマウント：接続しているものを外すときに、支障が出ないよう準備すること\n",
    "\n",
    "EBSボリュームをコピーする方法は、以下の通りである。\n",
    "\n",
    "・スナップショットを取得して、そのスナップショットからEBSボリュームを復元する"
   ]
  },
  {
   "cell_type": "markdown",
   "metadata": {},
   "source": [
    "## 5-7　Dedicated インスタンス"
   ]
  },
  {
   "cell_type": "markdown",
   "metadata": {},
   "source": [
    "インスタンスの種類は、以下の通りである。\n",
    "\n",
    "・EBS最適化インスタンス：EBSボリュームとの間にディスクI/O専用の帯域を確保し、ディスクI/Oを安定化させるEC2インスタンス<br>\n",
    "・リザーブインスタンス：1年もしくは3年の契約を結ぶことで、低価格で利用できるEC2インスタンス<br>\n",
    "・スポットインスタンス：市場価格を上回る価格で入札しておき、低価格で利用できるが、価格の高騰で急停止する可能性があるインスタンス<br>\n",
    "・Dedicated インスタンス：自アカウントで物理ホストを専有し、他には使用させないインスタンス"
   ]
  }
 ],
 "metadata": {
  "kernelspec": {
   "display_name": "Python 3",
   "language": "python",
   "name": "python3"
  },
  "language_info": {
   "codemirror_mode": {
    "name": "ipython",
    "version": 3
   },
   "file_extension": ".py",
   "mimetype": "text/x-python",
   "name": "python",
   "nbconvert_exporter": "python",
   "pygments_lexer": "ipython3",
   "version": "3.7.6"
  }
 },
 "nbformat": 4,
 "nbformat_minor": 4
}
