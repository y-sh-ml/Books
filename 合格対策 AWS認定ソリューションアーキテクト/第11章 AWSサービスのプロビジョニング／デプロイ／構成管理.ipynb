{
 "cells": [
  {
   "cell_type": "markdown",
   "metadata": {},
   "source": [
    "# 第11章　AWSサービスのプロビジョニング／デプロイ／構成管理"
   ]
  },
  {
   "cell_type": "markdown",
   "metadata": {},
   "source": [
    "## 11-1　CloudFormation"
   ]
  },
  {
   "cell_type": "markdown",
   "metadata": {},
   "source": [
    "・プロビジョニング：provision（供給）の派生単語で、システム利用の需要を予測し、必要に応じて設備やサービスなどのリソース提供に備えること<br>\n",
    "・デプロイ：アプリケーションを実行するためのファイル（バイナリコードやソースコード）やアセット（ドキュメントのまとめ）を配布すること\n",
    "\n",
    "CloudForamationには、以下の要素がある。\n",
    "\n",
    "・テンプレート：CloudFormationの設定ファイル<br>\n",
    "・スタック：テンプレートを利用してプロビジョニングされるAWSリソースの集合\n",
    "\n",
    "CloudFormationで実施できることは、以下の通りである。\n",
    "\n",
    "・インフラストラクチャをコードとして記述でき、バージョン管理ができる<br>\n",
    "・本番環境と開発環境でEC2インスタンスの台数が異なるが、**1つのテンプレートで**本番環境と開発環境の設定ができる<br>\n",
    "・CloudFormationで作成したリソースを一括して更新／削除できる<br>\n",
    "・マッピングテーブルを使用し、リージョンごとに異なる項目／値をスタックが作成されるリージョンに合わせ、1つのテンプレート内で指定できる\n",
    "\n",
    "CloudFormationには、以下の特徴がある。\n",
    "\n",
    "・テンプレートの記載順ではなく、並列で処理できるものは並列に作成していくので、作成順序の指定にはDependOn属性を使用する必要がある<br>\n",
    "・VPCを含んだ、ほぼ全てのAWSリソースを作成できる"
   ]
  },
  {
   "cell_type": "markdown",
   "metadata": {},
   "source": [
    "## 11-2　Elastic Beanstalk／OpsWorks"
   ]
  },
  {
   "cell_type": "markdown",
   "metadata": {},
   "source": [
    "各ツールには、以下のような使い分けがある。\n",
    "\n",
    "・CloudFormation：**VPCからの**リソース作成／プロビジョニングのみ<br>\n",
    "・Elastic Beanstalk：**アプリケーションの**管理／プロビジョニングとデプロイ<br>\n",
    "・OpsWorks：**アプリケーションサーバーの**構成管理（chefを用いてサーバー構築を自動化）／プロビジョニングとデプロイ<br>\n",
    "\n",
    "・CloudFormer：現在のアカウント上で作成されているリソースを元に、テンプレートを作成する"
   ]
  }
 ],
 "metadata": {
  "kernelspec": {
   "display_name": "Python 3",
   "language": "python",
   "name": "python3"
  },
  "language_info": {
   "codemirror_mode": {
    "name": "ipython",
    "version": 3
   },
   "file_extension": ".py",
   "mimetype": "text/x-python",
   "name": "python",
   "nbconvert_exporter": "python",
   "pygments_lexer": "ipython3",
   "version": "3.7.6"
  }
 },
 "nbformat": 4,
 "nbformat_minor": 4
}
