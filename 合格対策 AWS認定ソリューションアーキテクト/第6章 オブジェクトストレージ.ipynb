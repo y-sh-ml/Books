{
 "cells": [
  {
   "cell_type": "markdown",
   "metadata": {},
   "source": [
    "# 第6章　オブジェクトストレージ"
   ]
  },
  {
   "cell_type": "markdown",
   "metadata": {},
   "source": [
    "## 6-2　S3の整合性"
   ]
  },
  {
   "cell_type": "markdown",
   "metadata": {},
   "source": [
    "S3は、格納したデータを複数のデータセンターに複製することで高い耐久性を実現しているが<br>\n",
    "以下の処理に対して、結果の表示がすぐに反映されないことがある。\n",
    "\n",
    "・新規データの追加<br>\n",
    "・既存データの修正<br>\n",
    "・データの削除"
   ]
  },
  {
   "cell_type": "markdown",
   "metadata": {},
   "source": [
    "## 6-3　S3のアクセス制限とセキュリティ"
   ]
  },
  {
   "cell_type": "markdown",
   "metadata": {},
   "source": [
    "S3には、アクセス制限やセキュリティを行う機能がいくつかある。\n",
    "\n",
    "・アクセスコントロールリスト（ACL）：バケットとオブジェクトそれぞれについて、読み取り／書き込みの許可を他のAWSアカウントに与える<br>\n",
    "・バケットポリシー：バケットごとに、自アカウント内のIAMユーザやグループと他アカウントのユーザに対して、アクセスや様々な操作の許可を与える<br>\n",
    "・IAM（ユーザ）ポリシー：AWSリソースに対するアクセス可否を設定する<br>\n",
    "・署名（期限）付きURL：アクセス許可設定をしていない特定のオブジェクトに対して、指定した期間に限定してURLからアクセスさせる"
   ]
  },
  {
   "cell_type": "markdown",
   "metadata": {},
   "source": [
    "## 章末問題"
   ]
  },
  {
   "cell_type": "markdown",
   "metadata": {},
   "source": [
    "S3には、以下のような機能がある。\n",
    "\n",
    "・オブジェクトの暗号化（データの保護）<br>\n",
    "・アクセスログの取得（アクセスログをS3バケットに取得できる）<br>\n",
    "・オブジェクトのバージョニング（オブジェクトを誤って上書きしたり削除しても、操作前のオブジェクトを復元できる）<br>\n",
    "・オブジェクトのリージョン内複製　※デフォルトで有効"
   ]
  }
 ],
 "metadata": {
  "kernelspec": {
   "display_name": "Python 3",
   "language": "python",
   "name": "python3"
  },
  "language_info": {
   "codemirror_mode": {
    "name": "ipython",
    "version": 3
   },
   "file_extension": ".py",
   "mimetype": "text/x-python",
   "name": "python",
   "nbconvert_exporter": "python",
   "pygments_lexer": "ipython3",
   "version": "3.7.6"
  }
 },
 "nbformat": 4,
 "nbformat_minor": 4
}
