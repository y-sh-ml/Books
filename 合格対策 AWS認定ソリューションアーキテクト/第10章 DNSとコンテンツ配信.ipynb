{
 "cells": [
  {
   "cell_type": "markdown",
   "metadata": {},
   "source": [
    "# 第10章　DNSとコンテンツ配信"
   ]
  },
  {
   "cell_type": "markdown",
   "metadata": {},
   "source": [
    "## 10-2　Route 53"
   ]
  },
  {
   "cell_type": "markdown",
   "metadata": {},
   "source": [
    "・**ALIAS**レコード：AWS独自のレコードで、CNAMEでレコードでは対応できないZone Apexの名前解決をサポートしている\n",
    "\n",
    "Route 53では、各レコードに対して次のように設定をできる。\n",
    "\n",
    "・加重ラウンドロビン（加重ルーティング）：各レコードに重みづけをし、ある名前に対するクエリに、指定された比率で異なる値を応答する<br>\n",
    "・レイテンシーベースルーティング：クライアントへのレイテンシー（遅延）を小さくすることができる<br>\n",
    "・位置情報ルーティング：クライアントのIPアドレスをもとに地理データベースで接続元地域を特定し、地理的に近いレコードの値を返す<br>\n",
    "・ヘルスチェック／フェイルオーバー：何か問題が起きたときにフェイルオーバーをし、そのフェイルオーバー先のIPアドレスと名前を返す"
   ]
  }
 ],
 "metadata": {
  "kernelspec": {
   "display_name": "Python 3",
   "language": "python",
   "name": "python3"
  },
  "language_info": {
   "codemirror_mode": {
    "name": "ipython",
    "version": 3
   },
   "file_extension": ".py",
   "mimetype": "text/x-python",
   "name": "python",
   "nbconvert_exporter": "python",
   "pygments_lexer": "ipython3",
   "version": "3.7.6"
  }
 },
 "nbformat": 4,
 "nbformat_minor": 4
}
