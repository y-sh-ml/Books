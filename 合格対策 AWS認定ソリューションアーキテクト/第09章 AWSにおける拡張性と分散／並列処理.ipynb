{
 "cells": [
  {
   "cell_type": "markdown",
   "metadata": {},
   "source": [
    "# 第9章　AWSにおける拡張性と分散／並列処理"
   ]
  },
  {
   "cell_type": "markdown",
   "metadata": {},
   "source": [
    "Auto Scalingには、次の3つのコンポーネントが存在する。\n",
    "\n",
    "・起動設定：どんなEC2インスタンスを起動するか<br>\n",
    "・Auto Scaling Group：どこに、どんな規模のグループにするか<br>\n",
    "・Auto Scaling ポリシー：いつ、何台増減させるか\n",
    "\n",
    "起動設定には、以下の設定項目がある。\n",
    "\n",
    "・AMI<br>\n",
    "・インスタンスタイプ<br>\n",
    "・IAMロール<br>\n",
    "・CloudWatch 詳細モニタリング<br>\n",
    "・ユーザデータ<br>\n",
    "・IPアドレス<br>\n",
    "・ストレージ（EBS、インスタンスストア）<br>\n",
    "・セキュリティグループ<br>\n",
    "・キーペア<br>\n",
    "\n",
    "Auto Scaling Groupには、以下の設定項目がある。\n",
    "\n",
    "・スタートのグループサイズ（初期EC2インスタンス数）<br>\n",
    "・サブネット（AZ）<br>\n",
    "・ELB（ヘルスチェック設定も含む）<br>\n",
    "・最小／最大グループサイズ（EC2インスタンス数）<br>\n",
    "\n",
    "Auto Scalingポリシーには、以下の設定項目がある。\n",
    "\n",
    "・アラームXが発生した際（OKからアラーム遷移した際）／指定した日時<br>\n",
    "・N台追加／削除<br>\n",
    "・猶予時間（インスタンスの増減後に、次の増減アクションが発生するまでのクールダウン時間）"
   ]
  }
 ],
 "metadata": {
  "kernelspec": {
   "display_name": "Python 3",
   "language": "python",
   "name": "python3"
  },
  "language_info": {
   "codemirror_mode": {
    "name": "ipython",
    "version": 3
   },
   "file_extension": ".py",
   "mimetype": "text/x-python",
   "name": "python",
   "nbconvert_exporter": "python",
   "pygments_lexer": "ipython3",
   "version": "3.7.6"
  }
 },
 "nbformat": 4,
 "nbformat_minor": 4
}
