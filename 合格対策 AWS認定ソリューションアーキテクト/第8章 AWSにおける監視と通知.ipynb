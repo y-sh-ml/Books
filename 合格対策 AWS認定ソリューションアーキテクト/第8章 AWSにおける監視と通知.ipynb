{
 "cells": [
  {
   "cell_type": "markdown",
   "metadata": {},
   "source": [
    "# 第8章　AWSにおける監視と通知"
   ]
  },
  {
   "cell_type": "markdown",
   "metadata": {},
   "source": [
    "EC2のメトリクスには、以下のものがある。\n",
    "\n",
    "・標準メトリクス：ハイパーバイザが取得してCloudWatchに送信するメトリクス<br>\n",
    "・カスタムメトリクス：OSにインストールしたエージェントが取得してCloudWatchに送信するメトリクス\n",
    "\n",
    "※ハイパーバイザ：仮想化ソフト（ホストOSを必要としないソフト）\n",
    "\n",
    "EC2の標準メトリクスは、以下の12種類である。\n",
    "\n",
    "・CPUクレジット利用数と累積数\n",
    "・CPU利用率<br>\n",
    "・1秒あたりのDisk読み取り回数と書き込み回数<br>\n",
    "・インスタンスストレージの読み取りバイト数と書き込みバイト数<br>\n",
    "・受信したバイト数と送信したバイト数（**Network I/O**）<br>\n",
    "・OS／インフラストラクチャステータスチェックの成功／失敗<br>\n",
    "・OSステータスチェックの成功／失敗<br>\n",
    "・インフラストラクチャステータスチェックの成功／失敗"
   ]
  }
 ],
 "metadata": {
  "kernelspec": {
   "display_name": "Python 3",
   "language": "python",
   "name": "python3"
  },
  "language_info": {
   "codemirror_mode": {
    "name": "ipython",
    "version": 3
   },
   "file_extension": ".py",
   "mimetype": "text/x-python",
   "name": "python",
   "nbconvert_exporter": "python",
   "pygments_lexer": "ipython3",
   "version": "3.7.6"
  }
 },
 "nbformat": 4,
 "nbformat_minor": 4
}
