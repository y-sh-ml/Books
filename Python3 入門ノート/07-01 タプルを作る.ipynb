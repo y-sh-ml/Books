{
 "cells": [
  {
   "cell_type": "markdown",
   "id": "09d5b23a",
   "metadata": {},
   "source": [
    "## 7-1　タプルを作る"
   ]
  },
  {
   "cell_type": "markdown",
   "id": "5b05b7bb",
   "metadata": {},
   "source": [
    "### タプルを作る"
   ]
  },
  {
   "cell_type": "code",
   "execution_count": 1,
   "id": "4ce00c91",
   "metadata": {},
   "outputs": [
    {
     "name": "stdout",
     "output_type": "stream",
     "text": [
      "(1, 2)\n",
      "('py', 3.6)\n",
      "(89, 56, 75)\n",
      "((10, 20), 30, 40)\n"
     ]
    }
   ],
   "source": [
    "a = (1, 2)\n",
    "b = ('py', 3.6)\n",
    "c = (89, 56, 75)\n",
    "d = ((10, 20), 30, 40)\n",
    "\n",
    "print(a)\n",
    "print(b)\n",
    "print(c)\n",
    "print(d)"
   ]
  },
  {
   "cell_type": "code",
   "execution_count": 2,
   "id": "51fe28ff",
   "metadata": {},
   "outputs": [
    {
     "name": "stdout",
     "output_type": "stream",
     "text": [
      "(1, 2)\n",
      "('py', 3.6)\n",
      "(89, 56, 75)\n",
      "((10, 20), (30, 40))\n"
     ]
    }
   ],
   "source": [
    "a = 1, 2\n",
    "b = 'py', 3.6\n",
    "c = 89, 56, 75\n",
    "d = (10, 20), (30, 40)\n",
    "\n",
    "print(a)\n",
    "print(b)\n",
    "print(c)\n",
    "print(d)"
   ]
  },
  {
   "cell_type": "code",
   "execution_count": 3,
   "id": "020dfe52",
   "metadata": {},
   "outputs": [
    {
     "name": "stdout",
     "output_type": "stream",
     "text": [
      "(1,)\n"
     ]
    }
   ],
   "source": [
    "data = 1,\n",
    "print(data)"
   ]
  },
  {
   "cell_type": "code",
   "execution_count": 4,
   "id": "0e458ae0",
   "metadata": {},
   "outputs": [
    {
     "name": "stdout",
     "output_type": "stream",
     "text": [
      "(11, 12, 13, 20, 27, 24, 25, 39)\n"
     ]
    }
   ],
   "source": [
    "data = (\n",
    "    11, 12, 13,\n",
    "    20, 27,\n",
    "    24, 25, 39\n",
    ")\n",
    "\n",
    "print(data)"
   ]
  },
  {
   "cell_type": "code",
   "execution_count": 5,
   "id": "c6512c5c",
   "metadata": {},
   "outputs": [
    {
     "name": "stdout",
     "output_type": "stream",
     "text": [
      "(10, 20, 20, 30)\n"
     ]
    }
   ],
   "source": [
    "a = (10, 20)\n",
    "b = (20, 30)\n",
    "c = a + b\n",
    "print(c)"
   ]
  },
  {
   "cell_type": "code",
   "execution_count": 6,
   "id": "42b89e9f",
   "metadata": {},
   "outputs": [
    {
     "name": "stdout",
     "output_type": "stream",
     "text": [
      "(1, 2, 3)\n"
     ]
    }
   ],
   "source": [
    "data = (1, 2)\n",
    "data += (3,)\n",
    "print(data)"
   ]
  },
  {
   "cell_type": "markdown",
   "id": "1f922fbf",
   "metadata": {},
   "source": [
    "### tuple( ) を使ってタプルを作る"
   ]
  },
  {
   "cell_type": "code",
   "execution_count": 7,
   "id": "a8b75b84",
   "metadata": {},
   "outputs": [
    {
     "name": "stdout",
     "output_type": "stream",
     "text": [
      "(-5, -4, -3, -2, -1, 0, 1, 2, 3, 4, 5)\n"
     ]
    }
   ],
   "source": [
    "data = tuple(range(-5, 6))\n",
    "print(data)"
   ]
  },
  {
   "cell_type": "code",
   "execution_count": 8,
   "id": "4dbccba5",
   "metadata": {},
   "outputs": [
    {
     "name": "stdout",
     "output_type": "stream",
     "text": [
      "('日', '月', '火', '水', '木', '金', '土')\n"
     ]
    }
   ],
   "source": [
    "week = tuple('日月火水木金土')\n",
    "print(week)"
   ]
  },
  {
   "cell_type": "code",
   "execution_count": 9,
   "id": "c8097d45",
   "metadata": {},
   "outputs": [
    {
     "name": "stdout",
     "output_type": "stream",
     "text": [
      "('blue', 'black', 'green')\n"
     ]
    }
   ],
   "source": [
    "color = ['blue', 'black', 'green']\n",
    "data = tuple(color)\n",
    "print(data)"
   ]
  },
  {
   "cell_type": "code",
   "execution_count": 10,
   "id": "1ee4574c",
   "metadata": {},
   "outputs": [
    {
     "name": "stdout",
     "output_type": "stream",
     "text": [
      "['blue', 'black', 'green']\n"
     ]
    }
   ],
   "source": [
    "data = ('blue', 'black', 'green')\n",
    "data_list = list(data)\n",
    "print(data_list)"
   ]
  },
  {
   "cell_type": "markdown",
   "id": "407d5a27",
   "metadata": {},
   "source": [
    "### タプルをスライスする"
   ]
  },
  {
   "cell_type": "code",
   "execution_count": 11,
   "id": "415e7781",
   "metadata": {},
   "outputs": [
    {
     "name": "stdout",
     "output_type": "stream",
     "text": [
      "(1, 2, 3)\n"
     ]
    }
   ],
   "source": [
    "data = (1, 2, 3, 4, 5, 6, 7, 8, 9)\n",
    "top3 = data[:3]\n",
    "print(top3)"
   ]
  },
  {
   "cell_type": "code",
   "execution_count": 12,
   "id": "b0b938d5",
   "metadata": {},
   "outputs": [
    {
     "name": "stdout",
     "output_type": "stream",
     "text": [
      "(1, 3, 5, 7, 9)\n"
     ]
    }
   ],
   "source": [
    "data = (1, 2, 3, 4, 5, 6, 7, 8, 9)\n",
    "skip = data[::2]\n",
    "print(skip)"
   ]
  }
 ],
 "metadata": {
  "kernelspec": {
   "display_name": "Python 3",
   "language": "python",
   "name": "python3"
  },
  "language_info": {
   "codemirror_mode": {
    "name": "ipython",
    "version": 3
   },
   "file_extension": ".py",
   "mimetype": "text/x-python",
   "name": "python",
   "nbconvert_exporter": "python",
   "pygments_lexer": "ipython3",
   "version": "3.8.8"
  }
 },
 "nbformat": 4,
 "nbformat_minor": 5
}
