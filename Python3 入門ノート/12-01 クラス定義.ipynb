{
 "cells": [
  {
   "cell_type": "markdown",
   "id": "5ad6a6f0",
   "metadata": {},
   "source": [
    "## 12-1　クラス定義"
   ]
  },
  {
   "cell_type": "markdown",
   "id": "080b87c9",
   "metadata": {},
   "source": [
    "### クラスを定義する"
   ]
  },
  {
   "cell_type": "code",
   "execution_count": 1,
   "id": "52ed5a36",
   "metadata": {},
   "outputs": [],
   "source": [
    "class Car:\n",
    "    pass"
   ]
  },
  {
   "cell_type": "code",
   "execution_count": 2,
   "id": "dca23d28",
   "metadata": {},
   "outputs": [],
   "source": [
    "car1 = Car()\n",
    "car2 = Car()"
   ]
  },
  {
   "cell_type": "markdown",
   "id": "e8ce9e42",
   "metadata": {},
   "source": [
    "### オブジェクトの仕様を定義する"
   ]
  },
  {
   "cell_type": "code",
   "execution_count": 3,
   "id": "9f108f3b",
   "metadata": {},
   "outputs": [],
   "source": [
    "class Car:\n",
    "    def __init__(self, color='white'):\n",
    "        self.color = color\n",
    "        self.mileage = 0"
   ]
  },
  {
   "cell_type": "code",
   "execution_count": 4,
   "id": "b768697b",
   "metadata": {},
   "outputs": [],
   "source": [
    "from car_class1 import Car"
   ]
  },
  {
   "cell_type": "code",
   "execution_count": 5,
   "id": "2fb92d97",
   "metadata": {},
   "outputs": [],
   "source": [
    "car1 = Car()\n",
    "car2 = Car('red')"
   ]
  },
  {
   "cell_type": "code",
   "execution_count": 6,
   "id": "e0a3a812",
   "metadata": {},
   "outputs": [
    {
     "name": "stdout",
     "output_type": "stream",
     "text": [
      "white\n",
      "0\n"
     ]
    }
   ],
   "source": [
    "print(car1.color)\n",
    "print(car1.mileage)"
   ]
  },
  {
   "cell_type": "code",
   "execution_count": 7,
   "id": "43ef9435",
   "metadata": {},
   "outputs": [
    {
     "name": "stdout",
     "output_type": "stream",
     "text": [
      "red\n",
      "0\n"
     ]
    }
   ],
   "source": [
    "print(car2.color)\n",
    "print(car2.mileage)"
   ]
  },
  {
   "cell_type": "code",
   "execution_count": 8,
   "id": "a3683d05",
   "metadata": {},
   "outputs": [
    {
     "name": "stdout",
     "output_type": "stream",
     "text": [
      "white\n",
      "green\n"
     ]
    }
   ],
   "source": [
    "print(car1.color)\n",
    "car1.color = 'green'\n",
    "print(car1.color)"
   ]
  },
  {
   "cell_type": "code",
   "execution_count": 9,
   "id": "19a44528",
   "metadata": {},
   "outputs": [
    {
     "name": "stdout",
     "output_type": "stream",
     "text": [
      "0\n",
      "100\n"
     ]
    }
   ],
   "source": [
    "print(car1.mileage)\n",
    "car1.mileage = 100\n",
    "print(car1.mileage)"
   ]
  },
  {
   "cell_type": "markdown",
   "id": "eb2e78d6",
   "metadata": {},
   "source": [
    "### インスタンスメソッドを定義する"
   ]
  },
  {
   "cell_type": "code",
   "execution_count": 10,
   "id": "9d421728",
   "metadata": {},
   "outputs": [],
   "source": [
    "class Car:\n",
    "    def __init__(self, color='white'):\n",
    "        self.color = color\n",
    "        self.mileage = 0\n",
    "        \n",
    "    def drive(self, km):\n",
    "        self.mileage += km\n",
    "        msg = f'{km} km ドライブしました。総距離は {self.mileage} km です。'\n",
    "        print(msg)"
   ]
  },
  {
   "cell_type": "code",
   "execution_count": 11,
   "id": "c0c0836e",
   "metadata": {},
   "outputs": [],
   "source": [
    "from car_class2 import Car"
   ]
  },
  {
   "cell_type": "code",
   "execution_count": 12,
   "id": "69d9ec36",
   "metadata": {},
   "outputs": [
    {
     "name": "stdout",
     "output_type": "stream",
     "text": [
      "15 km ドライブしました。総距離は 15 km です。\n",
      "20 km ドライブしました。総距離は 35 km です。\n"
     ]
    }
   ],
   "source": [
    "car1 = Car()\n",
    "car1.drive(15)\n",
    "car1.drive(20)"
   ]
  },
  {
   "cell_type": "code",
   "execution_count": 13,
   "id": "81a7849b",
   "metadata": {},
   "outputs": [
    {
     "name": "stdout",
     "output_type": "stream",
     "text": [
      "10 km ドライブしました。総距離は 10 km です。\n",
      "10 km ドライブしました。総距離は 45 km です。\n"
     ]
    }
   ],
   "source": [
    "car2 = Car('red')\n",
    "car2.drive(10)\n",
    "car1.drive(10)"
   ]
  },
  {
   "cell_type": "markdown",
   "id": "977bfaad",
   "metadata": {},
   "source": [
    "### クラスメンバー"
   ]
  },
  {
   "cell_type": "code",
   "execution_count": 14,
   "id": "3e361863",
   "metadata": {},
   "outputs": [],
   "source": [
    "class Car:\n",
    "    maker = 'PEACE'\n",
    "    count = 0\n",
    "    \n",
    "    def __init__(self, color='white'):\n",
    "        self.color = color\n",
    "        self.mileage = 0\n",
    "        \n",
    "    def drive(self, km):\n",
    "        self.mileage += km\n",
    "        msg = f'{km} km ドライブしました。総距離は {self.mileage} km です。'\n",
    "        print(msg)"
   ]
  },
  {
   "cell_type": "code",
   "execution_count": 15,
   "id": "5c6b28d3",
   "metadata": {},
   "outputs": [],
   "source": [
    "from car_class3 import Car"
   ]
  },
  {
   "cell_type": "code",
   "execution_count": 16,
   "id": "94257813",
   "metadata": {},
   "outputs": [
    {
     "name": "stdout",
     "output_type": "stream",
     "text": [
      "PEACE\n",
      "0\n"
     ]
    }
   ],
   "source": [
    "print(Car.maker)\n",
    "print(Car.count)"
   ]
  },
  {
   "cell_type": "markdown",
   "id": "da657072",
   "metadata": {},
   "source": [
    "### クラスメソッドを定義する"
   ]
  },
  {
   "cell_type": "code",
   "execution_count": 17,
   "id": "fcd38e5d",
   "metadata": {},
   "outputs": [],
   "source": [
    "class Car:\n",
    "    maker = 'PEACE'\n",
    "    count = 0\n",
    "    \n",
    "    @classmethod\n",
    "    def countup(cls):\n",
    "        cls.count += 1\n",
    "        print(f'出荷台数: {cls.count}')\n",
    "    \n",
    "    def __init__(self, color='white'):\n",
    "        Car.countup()\n",
    "        self.mynumber = Car.count\n",
    "        self.color = color\n",
    "        self.mileage = 0\n",
    "        \n",
    "    def drive(self, km):\n",
    "        self.mileage += km\n",
    "        msg = f'{km} km ドライブしました。総距離は {self.mileage} km です。'\n",
    "        print(msg)"
   ]
  },
  {
   "cell_type": "code",
   "execution_count": 18,
   "id": "64924df2",
   "metadata": {},
   "outputs": [],
   "source": [
    "from car_class4 import Car"
   ]
  },
  {
   "cell_type": "code",
   "execution_count": 19,
   "id": "535ad002",
   "metadata": {},
   "outputs": [
    {
     "name": "stdout",
     "output_type": "stream",
     "text": [
      "出荷台数: 1\n",
      "出荷台数: 2\n",
      "出荷台数: 3\n"
     ]
    }
   ],
   "source": [
    "car1 = Car()\n",
    "car2 = Car('red')\n",
    "car3 = Car('blue')"
   ]
  },
  {
   "cell_type": "code",
   "execution_count": 20,
   "id": "a93df922",
   "metadata": {},
   "outputs": [
    {
     "name": "stdout",
     "output_type": "stream",
     "text": [
      "1\n",
      "2\n",
      "3\n"
     ]
    }
   ],
   "source": [
    "print(car1.mynumber)\n",
    "print(car2.mynumber)\n",
    "print(car3.mynumber)"
   ]
  },
  {
   "cell_type": "markdown",
   "id": "55f2f914",
   "metadata": {},
   "source": [
    "### 作った後から変数とメソッドを追加する"
   ]
  },
  {
   "cell_type": "code",
   "execution_count": 21,
   "id": "c086e1f5",
   "metadata": {},
   "outputs": [],
   "source": [
    "class Simple:\n",
    "    pass"
   ]
  },
  {
   "cell_type": "code",
   "execution_count": 22,
   "id": "2b4e9b16",
   "metadata": {},
   "outputs": [
    {
     "data": {
      "text/plain": [
       "200"
      ]
     },
     "execution_count": 22,
     "metadata": {},
     "output_type": "execute_result"
    }
   ],
   "source": [
    "Simple.x = 100\n",
    "Simple.x * 2"
   ]
  },
  {
   "cell_type": "code",
   "execution_count": 23,
   "id": "01bbeaec",
   "metadata": {},
   "outputs": [],
   "source": [
    "def hello(msg='ハロー'):\n",
    "    print(msg)"
   ]
  },
  {
   "cell_type": "code",
   "execution_count": 24,
   "id": "d150e3fe",
   "metadata": {},
   "outputs": [
    {
     "name": "stdout",
     "output_type": "stream",
     "text": [
      "おはよう！\n"
     ]
    }
   ],
   "source": [
    "Simple.greeting = hello\n",
    "Simple.greeting('おはよう！')"
   ]
  },
  {
   "cell_type": "code",
   "execution_count": 25,
   "id": "fa9e1183",
   "metadata": {},
   "outputs": [
    {
     "data": {
      "text/plain": [
       "123"
      ]
     },
     "execution_count": 25,
     "metadata": {},
     "output_type": "execute_result"
    }
   ],
   "source": [
    "obj = Simple()\n",
    "obj.a = 123\n",
    "obj.a"
   ]
  },
  {
   "cell_type": "code",
   "execution_count": 26,
   "id": "599ff484",
   "metadata": {},
   "outputs": [],
   "source": [
    "obj1 = Simple()\n",
    "obj2 = Simple()"
   ]
  },
  {
   "cell_type": "code",
   "execution_count": 27,
   "id": "7f3076f7",
   "metadata": {},
   "outputs": [],
   "source": [
    "def drum(beat='トコトコ'):\n",
    "    print(beat)\n",
    "    \n",
    "def sax(phrase='プープー'):\n",
    "    print(phrase)"
   ]
  },
  {
   "cell_type": "code",
   "execution_count": 28,
   "id": "75082f5c",
   "metadata": {},
   "outputs": [],
   "source": [
    "obj1.play = drum\n",
    "obj2.play = sax"
   ]
  },
  {
   "cell_type": "code",
   "execution_count": 29,
   "id": "9a5bc7b8",
   "metadata": {},
   "outputs": [
    {
     "name": "stdout",
     "output_type": "stream",
     "text": [
      "ドンドコ\n",
      "トコトコ\n",
      "プープー\n"
     ]
    }
   ],
   "source": [
    "obj1.play('ドンドコ')\n",
    "obj1.play()\n",
    "obj2.play()"
   ]
  },
  {
   "cell_type": "code",
   "execution_count": 30,
   "id": "983c4e02",
   "metadata": {},
   "outputs": [],
   "source": [
    "obj1.a = None\n",
    "obj1.play = None\n",
    "del Simple.x"
   ]
  }
 ],
 "metadata": {
  "kernelspec": {
   "display_name": "Python 3 (ipykernel)",
   "language": "python",
   "name": "python3"
  },
  "language_info": {
   "codemirror_mode": {
    "name": "ipython",
    "version": 3
   },
   "file_extension": ".py",
   "mimetype": "text/x-python",
   "name": "python",
   "nbconvert_exporter": "python",
   "pygments_lexer": "ipython3",
   "version": "3.11.5"
  }
 },
 "nbformat": 4,
 "nbformat_minor": 5
}
