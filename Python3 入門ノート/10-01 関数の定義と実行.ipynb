{
 "cells": [
  {
   "cell_type": "markdown",
   "id": "09d5b23a",
   "metadata": {},
   "source": [
    "## 10-01　関数の定義と実行"
   ]
  },
  {
   "cell_type": "code",
   "execution_count": 1,
   "id": "04cf021c",
   "metadata": {},
   "outputs": [],
   "source": [
    "from random import randint"
   ]
  },
  {
   "cell_type": "markdown",
   "id": "5b05b7bb",
   "metadata": {},
   "source": [
    "### 引数がない関数"
   ]
  },
  {
   "cell_type": "code",
   "execution_count": 2,
   "id": "784f52cd",
   "metadata": {},
   "outputs": [],
   "source": [
    "def hello():\n",
    "    return 'Hello !!'"
   ]
  },
  {
   "cell_type": "code",
   "execution_count": 3,
   "id": "2206adbf",
   "metadata": {},
   "outputs": [
    {
     "data": {
      "text/plain": [
       "'Hello !!'"
      ]
     },
     "execution_count": 3,
     "metadata": {},
     "output_type": "execute_result"
    }
   ],
   "source": [
    "msg = hello()\n",
    "msg"
   ]
  },
  {
   "cell_type": "code",
   "execution_count": 4,
   "id": "4298d70b",
   "metadata": {},
   "outputs": [],
   "source": [
    "def dice():\n",
    "    num = randint(1, 6)\n",
    "    return num"
   ]
  },
  {
   "cell_type": "code",
   "execution_count": 5,
   "id": "825a8cd8",
   "metadata": {},
   "outputs": [
    {
     "name": "stdout",
     "output_type": "stream",
     "text": [
      "6\n",
      "6\n",
      "6\n",
      "1\n",
      "5\n"
     ]
    }
   ],
   "source": [
    "for i in range(5):\n",
    "    result = dice()\n",
    "    print(result)"
   ]
  },
  {
   "cell_type": "code",
   "execution_count": 6,
   "id": "b11d226a",
   "metadata": {},
   "outputs": [
    {
     "name": "stdout",
     "output_type": "stream",
     "text": [
      "5 と 1 で合計 6\n",
      "4 と 2 で合計 6\n",
      "6 と 3 で合計 9\n",
      "6 と 2 で合計 8\n",
      "4 と 1 で合計 5\n"
     ]
    }
   ],
   "source": [
    "for i in range(5):\n",
    "    dice1 = dice()\n",
    "    dice2 = dice()\n",
    "    sum = dice1 + dice2\n",
    "    print(f'{dice1} と {dice2} で合計 {sum}')"
   ]
  },
  {
   "cell_type": "markdown",
   "id": "aebc1a48",
   "metadata": {},
   "source": [
    "### 引数がある関数"
   ]
  },
  {
   "cell_type": "code",
   "execution_count": 7,
   "id": "f59ddafd",
   "metadata": {},
   "outputs": [],
   "source": [
    "def mile2meter(mile):\n",
    "    meter = mile * 1609.344\n",
    "    return meter"
   ]
  },
  {
   "cell_type": "code",
   "execution_count": 8,
   "id": "1339ff7f",
   "metadata": {},
   "outputs": [
    {
     "name": "stdout",
     "output_type": "stream",
     "text": [
      "32186.88\n"
     ]
    }
   ],
   "source": [
    "distance = mile2meter(20)\n",
    "print(distance)"
   ]
  },
  {
   "cell_type": "code",
   "execution_count": 9,
   "id": "3c6e77f9",
   "metadata": {},
   "outputs": [],
   "source": [
    "def triangle(base, height):\n",
    "    area = base * height / 2\n",
    "    return area"
   ]
  },
  {
   "cell_type": "code",
   "execution_count": 10,
   "id": "cf595bcd",
   "metadata": {},
   "outputs": [
    {
     "name": "stdout",
     "output_type": "stream",
     "text": [
      "底辺 15、高さ 13 の三角形の面積は 97.5 です。\n"
     ]
    }
   ],
   "source": [
    "b = 15\n",
    "h = 13\n",
    "v = triangle(b, h)\n",
    "print(f'底辺 {b}、高さ {h} の三角形の面積は {v :.1f} です。')"
   ]
  },
  {
   "cell_type": "code",
   "execution_count": 11,
   "id": "c98c2894",
   "metadata": {},
   "outputs": [],
   "source": [
    "def dicegame():\n",
    "    dice1 = dice()\n",
    "    dice2 = dice()\n",
    "    sum = dice1 + dice2\n",
    "    \n",
    "    if sum%2 == 0:\n",
    "        print(f'{dice1} と {dice2} で合計 {sum}、偶数')\n",
    "    else:\n",
    "        print(f'{dice1} と {dice2} で合計 {sum}、奇数')"
   ]
  },
  {
   "cell_type": "code",
   "execution_count": 12,
   "id": "d34b2518",
   "metadata": {},
   "outputs": [
    {
     "name": "stdout",
     "output_type": "stream",
     "text": [
      "2 と 2 で合計 4、偶数\n",
      "1 と 2 で合計 3、奇数\n",
      "3 と 4 で合計 7、奇数\n",
      "2 と 6 で合計 8、偶数\n",
      "3 と 3 で合計 6、偶数\n",
      "ゲーム終了\n"
     ]
    }
   ],
   "source": [
    "for i in range(5):\n",
    "    dicegame()\n",
    "print('ゲーム終了')"
   ]
  },
  {
   "cell_type": "markdown",
   "id": "36b78687",
   "metadata": {},
   "source": [
    "### 関数を途中で抜ける"
   ]
  },
  {
   "cell_type": "code",
   "execution_count": 13,
   "id": "eb78c4ff",
   "metadata": {},
   "outputs": [],
   "source": [
    "def calc(num):\n",
    "    unit_price = 180\n",
    "    if not num.isdigit():\n",
    "        return None\n",
    "    price = int(num) * unit_price\n",
    "    return price"
   ]
  },
  {
   "cell_type": "code",
   "execution_count": 14,
   "id": "bcfc3f8a",
   "metadata": {},
   "outputs": [
    {
     "name": "stdout",
     "output_type": "stream",
     "text": [
      "個数を入れてください。（q で終了）2\n",
      "360\n",
      "個数を入れてください。（q で終了）a\n",
      "None\n",
      "個数を入れてください。（q で終了）q\n"
     ]
    }
   ],
   "source": [
    "while True:\n",
    "    num = input('個数を入れてください。（q で終了）')\n",
    "    if num == '':\n",
    "        continue\n",
    "    elif num == 'q':\n",
    "        break\n",
    "        \n",
    "    result = calc(num)\n",
    "    print(result)"
   ]
  },
  {
   "cell_type": "code",
   "execution_count": 15,
   "id": "74edca3d",
   "metadata": {},
   "outputs": [],
   "source": [
    "def calc(num):\n",
    "    unit_price = 180\n",
    "    try:\n",
    "        num = float(num)\n",
    "        return num * unit_price\n",
    "    except:\n",
    "        return None"
   ]
  },
  {
   "cell_type": "code",
   "execution_count": 16,
   "id": "657f09fd",
   "metadata": {},
   "outputs": [
    {
     "name": "stdout",
     "output_type": "stream",
     "text": [
      "個数を入力してください。（q で終了）3\n",
      "540.0\n",
      "個数を入力してください。（q で終了）1.5\n",
      "270.0\n",
      "個数を入力してください。（q で終了）-3\n",
      "-540.0\n",
      "個数を入力してください。（q で終了）a\n",
      "None\n",
      "個数を入力してください。（q で終了）q\n"
     ]
    }
   ],
   "source": [
    "while True:\n",
    "    num = input('個数を入力してください。（q で終了）')\n",
    "    if num == '':\n",
    "        continue\n",
    "    elif num == 'q':\n",
    "        break\n",
    "    \n",
    "    result = calc(num)\n",
    "    print(result)"
   ]
  },
  {
   "cell_type": "markdown",
   "id": "178c6249",
   "metadata": {},
   "source": [
    "### 関数で使う変数の有効範囲"
   ]
  },
  {
   "cell_type": "code",
   "execution_count": 17,
   "id": "5807af50",
   "metadata": {},
   "outputs": [
    {
     "name": "stdout",
     "output_type": "stream",
     "text": [
      "6\n"
     ]
    }
   ],
   "source": [
    "def calc():\n",
    "    v = 2\n",
    "    ans = 3 * v\n",
    "    print(ans)\n",
    "\n",
    "calc()"
   ]
  },
  {
   "cell_type": "code",
   "execution_count": 18,
   "id": "2f3cca21",
   "metadata": {},
   "outputs": [
    {
     "name": "stdout",
     "output_type": "stream",
     "text": [
      "6\n",
      "2\n"
     ]
    }
   ],
   "source": [
    "v = 2\n",
    "calc()\n",
    "print(v)"
   ]
  },
  {
   "cell_type": "code",
   "execution_count": 19,
   "id": "3cf28ff7",
   "metadata": {},
   "outputs": [
    {
     "name": "stdout",
     "output_type": "stream",
     "text": [
      "60\n"
     ]
    }
   ],
   "source": [
    "v = 2\n",
    "\n",
    "def calc():\n",
    "    v_local = v * 10\n",
    "    ans = 3 * v_local\n",
    "    print(ans)\n",
    "    \n",
    "calc()"
   ]
  }
 ],
 "metadata": {
  "kernelspec": {
   "display_name": "Python 3 (ipykernel)",
   "language": "python",
   "name": "python3"
  },
  "language_info": {
   "codemirror_mode": {
    "name": "ipython",
    "version": 3
   },
   "file_extension": ".py",
   "mimetype": "text/x-python",
   "name": "python",
   "nbconvert_exporter": "python",
   "pygments_lexer": "ipython3",
   "version": "3.11.5"
  }
 },
 "nbformat": 4,
 "nbformat_minor": 5
}
