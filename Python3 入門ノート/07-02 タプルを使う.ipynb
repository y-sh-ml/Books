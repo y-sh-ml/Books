{
 "cells": [
  {
   "cell_type": "markdown",
   "id": "09d5b23a",
   "metadata": {},
   "source": [
    "## 7-2　タプルを使う"
   ]
  },
  {
   "cell_type": "markdown",
   "id": "5b05b7bb",
   "metadata": {},
   "source": [
    "### タプルの要素を取り出す"
   ]
  },
  {
   "cell_type": "code",
   "execution_count": 1,
   "id": "525df204",
   "metadata": {},
   "outputs": [],
   "source": [
    "color = ('green', 'red', 'blue', 'yellow')"
   ]
  },
  {
   "cell_type": "code",
   "execution_count": 2,
   "id": "95c6ec57",
   "metadata": {},
   "outputs": [
    {
     "data": {
      "text/plain": [
       "'green'"
      ]
     },
     "execution_count": 2,
     "metadata": {},
     "output_type": "execute_result"
    }
   ],
   "source": [
    "color[0]"
   ]
  },
  {
   "cell_type": "code",
   "execution_count": 3,
   "id": "7fd11414",
   "metadata": {},
   "outputs": [
    {
     "data": {
      "text/plain": [
       "'red'"
      ]
     },
     "execution_count": 3,
     "metadata": {},
     "output_type": "execute_result"
    }
   ],
   "source": [
    "color[1]"
   ]
  },
  {
   "cell_type": "code",
   "execution_count": 4,
   "id": "cef2140c",
   "metadata": {},
   "outputs": [
    {
     "data": {
      "text/plain": [
       "'blue'"
      ]
     },
     "execution_count": 4,
     "metadata": {},
     "output_type": "execute_result"
    }
   ],
   "source": [
    "color[2]"
   ]
  },
  {
   "cell_type": "code",
   "execution_count": 5,
   "id": "4fb334fd",
   "metadata": {},
   "outputs": [
    {
     "name": "stdout",
     "output_type": "stream",
     "text": [
      "green\n",
      "red\n",
      "blue\n",
      "yellow\n"
     ]
    }
   ],
   "source": [
    "for item in color:\n",
    "    print(item)"
   ]
  },
  {
   "cell_type": "code",
   "execution_count": 6,
   "id": "d049ecad",
   "metadata": {},
   "outputs": [
    {
     "name": "stdout",
     "output_type": "stream",
     "text": [
      "1 green\n",
      "2 red\n",
      "3 blue\n",
      "4 yellow\n"
     ]
    }
   ],
   "source": [
    "for i, item in enumerate(color, 1):\n",
    "    print(i, item)"
   ]
  },
  {
   "cell_type": "markdown",
   "id": "a0d5015e",
   "metadata": {},
   "source": [
    "### タプルのアンパック"
   ]
  },
  {
   "cell_type": "code",
   "execution_count": 7,
   "id": "fd9b94e1",
   "metadata": {},
   "outputs": [
    {
     "name": "stdout",
     "output_type": "stream",
     "text": [
      "100\n",
      "200\n"
     ]
    }
   ],
   "source": [
    "(a, b) = (100, 200)\n",
    "print(a)\n",
    "print(b)"
   ]
  },
  {
   "cell_type": "code",
   "execution_count": 8,
   "id": "9e97982e",
   "metadata": {},
   "outputs": [
    {
     "name": "stdout",
     "output_type": "stream",
     "text": [
      "100\n",
      "200\n"
     ]
    }
   ],
   "source": [
    "a, b = 100, 200\n",
    "print(a)\n",
    "print(b)"
   ]
  },
  {
   "cell_type": "code",
   "execution_count": 9,
   "id": "f4d8199b",
   "metadata": {},
   "outputs": [
    {
     "name": "stdout",
     "output_type": "stream",
     "text": [
      "12 15 27\n"
     ]
    }
   ],
   "source": [
    "data = (12, 15)\n",
    "(boy, girl) = data\n",
    "all = boy + girl\n",
    "print(boy, girl, all)"
   ]
  },
  {
   "cell_type": "markdown",
   "id": "0526a8c2",
   "metadata": {},
   "source": [
    "### ある値がタプルに含まれているかどうか"
   ]
  },
  {
   "cell_type": "code",
   "execution_count": 10,
   "id": "eaf32bf2",
   "metadata": {},
   "outputs": [],
   "source": [
    "numbers = (4, 8, 15, 16, 23, 42)"
   ]
  },
  {
   "cell_type": "code",
   "execution_count": 11,
   "id": "c3de9bd2",
   "metadata": {},
   "outputs": [
    {
     "name": "stdout",
     "output_type": "stream",
     "text": [
      "受験番号を入力してください。: 6\n",
      "不合格です。\n"
     ]
    }
   ],
   "source": [
    "num = int(input('受験番号を入力してください。: '))\n",
    "if num in numbers:\n",
    "    print('合格です。')\n",
    "else:\n",
    "    print('不合格です。')"
   ]
  },
  {
   "cell_type": "code",
   "execution_count": 12,
   "id": "ff618578",
   "metadata": {},
   "outputs": [
    {
     "name": "stdout",
     "output_type": "stream",
     "text": [
      "受験番号を入力してください。: 8\n",
      "合格です。\n"
     ]
    }
   ],
   "source": [
    "num = int(input('受験番号を入力してください。: '))\n",
    "if num in numbers:\n",
    "    print('合格です。')\n",
    "else:\n",
    "    print('不合格です。')"
   ]
  },
  {
   "cell_type": "markdown",
   "id": "aa786222",
   "metadata": {},
   "source": [
    "### 合計、最大値、最小値"
   ]
  },
  {
   "cell_type": "code",
   "execution_count": 13,
   "id": "a7723ff8",
   "metadata": {},
   "outputs": [
    {
     "name": "stdout",
     "output_type": "stream",
     "text": [
      "428\n",
      "83\n",
      "41\n"
     ]
    }
   ],
   "source": [
    "data = (56, 45, 83, 67, 59, 41, 77)\n",
    "print(sum(data))\n",
    "print(max(data))\n",
    "print(min(data))"
   ]
  },
  {
   "cell_type": "markdown",
   "id": "716f86f0",
   "metadata": {},
   "source": [
    "### タプルを比較する"
   ]
  },
  {
   "cell_type": "code",
   "execution_count": 14,
   "id": "12bb5092",
   "metadata": {},
   "outputs": [
    {
     "name": "stdout",
     "output_type": "stream",
     "text": [
      "True\n",
      "True\n",
      "True\n",
      "False\n"
     ]
    }
   ],
   "source": [
    "a = (1, 2, 3)\n",
    "b = a\n",
    "c = (1, 2, 3)\n",
    "\n",
    "print(a == b)\n",
    "print(a is b)\n",
    "print(a == c)\n",
    "print(a is c)"
   ]
  },
  {
   "cell_type": "markdown",
   "id": "67997c26",
   "metadata": {},
   "source": [
    "### 複数のリストを 1 つにまとめる"
   ]
  },
  {
   "cell_type": "code",
   "execution_count": 15,
   "id": "44cf96ff",
   "metadata": {},
   "outputs": [
    {
     "data": {
      "text/plain": [
       "[(1, 4, 7), (2, 5, 8), (3, 6, 9)]"
      ]
     },
     "execution_count": 15,
     "metadata": {},
     "output_type": "execute_result"
    }
   ],
   "source": [
    "x = [1, 2, 3]\n",
    "y = [4, 5, 6]\n",
    "z = [7, 8, 9]\n",
    "zip_obj = zip(x, y, z)\n",
    "xyx = list(zip_obj)\n",
    "xyx"
   ]
  }
 ],
 "metadata": {
  "kernelspec": {
   "display_name": "Python 3 (ipykernel)",
   "language": "python",
   "name": "python3"
  },
  "language_info": {
   "codemirror_mode": {
    "name": "ipython",
    "version": 3
   },
   "file_extension": ".py",
   "mimetype": "text/x-python",
   "name": "python",
   "nbconvert_exporter": "python",
   "pygments_lexer": "ipython3",
   "version": "3.11.5"
  }
 },
 "nbformat": 4,
 "nbformat_minor": 5
}
