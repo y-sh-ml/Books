{
 "cells": [
  {
   "cell_type": "markdown",
   "id": "8b3d3e55",
   "metadata": {},
   "source": [
    "## 12-2　クラスの継承"
   ]
  },
  {
   "cell_type": "code",
   "execution_count": 1,
   "id": "96ecfe59",
   "metadata": {},
   "outputs": [],
   "source": [
    "from datetime import datetime"
   ]
  },
  {
   "cell_type": "markdown",
   "id": "8db5c4cf",
   "metadata": {},
   "source": [
    "### クラスを継承する"
   ]
  },
  {
   "cell_type": "code",
   "execution_count": 2,
   "id": "404c249b",
   "metadata": {},
   "outputs": [],
   "source": [
    "class A:\n",
    "    def hello(self):\n",
    "        print('ハロー')"
   ]
  },
  {
   "cell_type": "code",
   "execution_count": 3,
   "id": "7f8257bd",
   "metadata": {},
   "outputs": [],
   "source": [
    "class B(A):\n",
    "    def bye(self):\n",
    "        print('グッバイ')"
   ]
  },
  {
   "cell_type": "code",
   "execution_count": 4,
   "id": "04255df7",
   "metadata": {},
   "outputs": [
    {
     "name": "stdout",
     "output_type": "stream",
     "text": [
      "ハロー\n",
      "グッバイ\n"
     ]
    }
   ],
   "source": [
    "obj = B()\n",
    "obj.hello()\n",
    "obj.bye()"
   ]
  },
  {
   "cell_type": "code",
   "execution_count": 5,
   "id": "aa41b491",
   "metadata": {},
   "outputs": [],
   "source": [
    "class Datalog:\n",
    "    def __init__(self):\n",
    "        self.loglist = []\n",
    "        \n",
    "    def log(self, data):\n",
    "        now = datetime.now()\n",
    "        item = (now, data)\n",
    "        self.loglist.append(item)"
   ]
  },
  {
   "cell_type": "code",
   "execution_count": 6,
   "id": "17560aff",
   "metadata": {},
   "outputs": [],
   "source": [
    "from datalog import Datalog"
   ]
  },
  {
   "cell_type": "code",
   "execution_count": 7,
   "id": "bf05a2c6",
   "metadata": {},
   "outputs": [],
   "source": [
    "class Mydata(Datalog):\n",
    "    def printlog(self):\n",
    "        for date, data in self.loglist:\n",
    "            print(date, data)"
   ]
  },
  {
   "cell_type": "code",
   "execution_count": 8,
   "id": "7d395fbf",
   "metadata": {},
   "outputs": [
    {
     "name": "stdout",
     "output_type": "stream",
     "text": [
      "2024-11-22 16:30:07.937430 あいう\n",
      "2024-11-22 16:30:07.937448 abc\n",
      "2024-11-22 16:30:07.937463 123\n"
     ]
    }
   ],
   "source": [
    "obj = Mydata()\n",
    "obj.log('あいう')\n",
    "obj.log('abc')\n",
    "obj.log('123')\n",
    "obj.printlog()"
   ]
  },
  {
   "cell_type": "markdown",
   "id": "6356130e",
   "metadata": {},
   "source": [
    "### オーバーライド"
   ]
  },
  {
   "cell_type": "code",
   "execution_count": 9,
   "id": "58d1cf2b",
   "metadata": {},
   "outputs": [],
   "source": [
    "class Greet():\n",
    "    def hello(self):\n",
    "        print('やあ！')\n",
    "        \n",
    "    def bye(self):\n",
    "        print('さよなら')\n",
    "        \n",
    "class Greet2(Greet):\n",
    "    def hello(self, name=None):\n",
    "        if name:\n",
    "            print(name + 'さん、こんにちは！')\n",
    "        else:\n",
    "            super().hello()"
   ]
  },
  {
   "cell_type": "code",
   "execution_count": 10,
   "id": "2fa57e32",
   "metadata": {},
   "outputs": [],
   "source": [
    "from override import Greet2"
   ]
  },
  {
   "cell_type": "code",
   "execution_count": 11,
   "id": "58345363",
   "metadata": {},
   "outputs": [
    {
     "name": "stdout",
     "output_type": "stream",
     "text": [
      "井上さん、こんにちは！\n",
      "やあ！\n"
     ]
    }
   ],
   "source": [
    "obj = Greet2()\n",
    "obj.hello('井上')\n",
    "obj.hello()"
   ]
  },
  {
   "cell_type": "markdown",
   "id": "591157d5",
   "metadata": {},
   "source": [
    "### スーパークラスの初期化メソッドに引数を渡す"
   ]
  },
  {
   "cell_type": "code",
   "execution_count": 12,
   "id": "ad794780",
   "metadata": {},
   "outputs": [],
   "source": [
    "class Person():\n",
    "    def __init__(self, name, age):\n",
    "        self.name = name\n",
    "        self.age = age\n",
    "        \n",
    "class Player(Person):\n",
    "    def __init__(self, number, position):\n",
    "        self.number = number\n",
    "        self.position = position"
   ]
  },
  {
   "cell_type": "code",
   "execution_count": 13,
   "id": "9d55b430",
   "metadata": {},
   "outputs": [],
   "source": [
    "class Person():\n",
    "    def __init__(self, name, age):\n",
    "        self.name = name\n",
    "        self.age = age\n",
    "        \n",
    "class Player(Person):\n",
    "    def __init__(self, name, age, number, position):\n",
    "        super().__init__(name, age)\n",
    "        self.number = number\n",
    "        self.position = position"
   ]
  },
  {
   "cell_type": "code",
   "execution_count": 14,
   "id": "ae0ada25",
   "metadata": {},
   "outputs": [],
   "source": [
    "from super2 import Player"
   ]
  },
  {
   "cell_type": "code",
   "execution_count": 15,
   "id": "12a08d27",
   "metadata": {},
   "outputs": [
    {
     "name": "stdout",
     "output_type": "stream",
     "text": [
      "青木\n",
      "16\n",
      "10\n",
      "MF\n"
     ]
    }
   ],
   "source": [
    "player1 = Player('青木', 16, 10, 'MF')\n",
    "print(player1.name)\n",
    "print(player1.age)\n",
    "print(player1.number)\n",
    "print(player1.position)"
   ]
  }
 ],
 "metadata": {
  "kernelspec": {
   "display_name": "Python 3 (ipykernel)",
   "language": "python",
   "name": "python3"
  },
  "language_info": {
   "codemirror_mode": {
    "name": "ipython",
    "version": 3
   },
   "file_extension": ".py",
   "mimetype": "text/x-python",
   "name": "python",
   "nbconvert_exporter": "python",
   "pygments_lexer": "ipython3",
   "version": "3.11.5"
  }
 },
 "nbformat": 4,
 "nbformat_minor": 5
}
