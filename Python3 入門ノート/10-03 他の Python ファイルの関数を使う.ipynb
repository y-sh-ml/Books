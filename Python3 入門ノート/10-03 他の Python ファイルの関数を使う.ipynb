{
 "cells": [
  {
   "cell_type": "markdown",
   "id": "09d5b23a",
   "metadata": {},
   "source": [
    "## 10-03　他の Python ファイルの関数を使う"
   ]
  },
  {
   "cell_type": "code",
   "execution_count": 1,
   "id": "5a613579",
   "metadata": {},
   "outputs": [],
   "source": [
    "import os\n",
    "import cheer\n",
    "import exchange\n",
    "import importlib\n",
    "from mylib import judgement\n",
    "from mylib.judgement import average"
   ]
  },
  {
   "cell_type": "code",
   "execution_count": 2,
   "id": "28a7157e",
   "metadata": {},
   "outputs": [
    {
     "name": "stdout",
     "output_type": "stream",
     "text": [
      " 216.98 ドル\n"
     ]
    }
   ],
   "source": [
    "yen = 25000\n",
    "rate = 114.22\n",
    "charge = 1.0\n",
    "dollar = exchange.yen2dollar(yen, rate, charge)\n",
    "print(f'{dollar: ,.2f} ドル')"
   ]
  },
  {
   "cell_type": "code",
   "execution_count": 3,
   "id": "db89aa06",
   "metadata": {},
   "outputs": [],
   "source": [
    "# importlib.reload(exchange)"
   ]
  },
  {
   "cell_type": "code",
   "execution_count": 4,
   "id": "b3c0219a",
   "metadata": {},
   "outputs": [
    {
     "name": "stdout",
     "output_type": "stream",
     "text": [
      "65.2\n"
     ]
    }
   ],
   "source": [
    "result = judgement.average(56, 67, 46, 81, 76)\n",
    "print(result)"
   ]
  },
  {
   "cell_type": "code",
   "execution_count": 5,
   "id": "a4eb5f40",
   "metadata": {},
   "outputs": [
    {
     "name": "stdout",
     "output_type": "stream",
     "text": [
      "65.2\n"
     ]
    }
   ],
   "source": [
    "result = average(56, 67, 46, 81, 76)\n",
    "print(result)"
   ]
  },
  {
   "cell_type": "code",
   "execution_count": 6,
   "id": "5ee53659",
   "metadata": {},
   "outputs": [],
   "source": [
    "# os.getcwd()"
   ]
  },
  {
   "cell_type": "code",
   "execution_count": 7,
   "id": "a9e462ce",
   "metadata": {},
   "outputs": [],
   "source": [
    "# help(cheer)"
   ]
  },
  {
   "cell_type": "code",
   "execution_count": 8,
   "id": "0402c607",
   "metadata": {},
   "outputs": [
    {
     "name": "stdout",
     "output_type": "stream",
     "text": [
      "君はスゴイ！最高だ！\n"
     ]
    }
   ],
   "source": [
    "cheer.cheer()"
   ]
  },
  {
   "cell_type": "code",
   "execution_count": 9,
   "id": "6dd39e55",
   "metadata": {},
   "outputs": [
    {
     "name": "stdout",
     "output_type": "stream",
     "text": [
      "五十嵐はスゴイ！最高だ！\n"
     ]
    }
   ],
   "source": [
    "cheer.cheer('五十嵐')"
   ]
  }
 ],
 "metadata": {
  "kernelspec": {
   "display_name": "Python 3 (ipykernel)",
   "language": "python",
   "name": "python3"
  },
  "language_info": {
   "codemirror_mode": {
    "name": "ipython",
    "version": 3
   },
   "file_extension": ".py",
   "mimetype": "text/x-python",
   "name": "python",
   "nbconvert_exporter": "python",
   "pygments_lexer": "ipython3",
   "version": "3.11.5"
  }
 },
 "nbformat": 4,
 "nbformat_minor": 5
}
