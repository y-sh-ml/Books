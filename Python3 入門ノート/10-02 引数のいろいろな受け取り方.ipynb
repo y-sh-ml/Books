{
 "cells": [
  {
   "cell_type": "markdown",
   "id": "09d5b23a",
   "metadata": {},
   "source": [
    "## 10-02　引数のいろいろな受け取り方"
   ]
  },
  {
   "cell_type": "markdown",
   "id": "e7afe38b",
   "metadata": {},
   "source": [
    "### 位置引数とキーワード引数"
   ]
  },
  {
   "cell_type": "code",
   "execution_count": 1,
   "id": "cfaa561d",
   "metadata": {},
   "outputs": [],
   "source": [
    "def price(adult, child):\n",
    "    return (adult * 1200) + (child * 500)"
   ]
  },
  {
   "cell_type": "code",
   "execution_count": 2,
   "id": "031d1a59",
   "metadata": {},
   "outputs": [
    {
     "data": {
      "text/plain": [
       "2200"
      ]
     },
     "execution_count": 2,
     "metadata": {},
     "output_type": "execute_result"
    }
   ],
   "source": [
    "price(1, 2)"
   ]
  },
  {
   "cell_type": "code",
   "execution_count": 3,
   "id": "e136e21f",
   "metadata": {},
   "outputs": [
    {
     "data": {
      "text/plain": [
       "2200"
      ]
     },
     "execution_count": 3,
     "metadata": {},
     "output_type": "execute_result"
    }
   ],
   "source": [
    "price(adult=1, child=2)"
   ]
  },
  {
   "cell_type": "code",
   "execution_count": 4,
   "id": "c1e1bd9b",
   "metadata": {},
   "outputs": [
    {
     "data": {
      "text/plain": [
       "2200"
      ]
     },
     "execution_count": 4,
     "metadata": {},
     "output_type": "execute_result"
    }
   ],
   "source": [
    "price(child=2, adult=1)"
   ]
  },
  {
   "cell_type": "code",
   "execution_count": 5,
   "id": "c32c22af",
   "metadata": {},
   "outputs": [],
   "source": [
    "def calc(size, num=6):\n",
    "    unit_price = {'S': 120, 'M': 150, 'L': 180}\n",
    "    price = unit_price[size] * num\n",
    "    return (size, num, price)"
   ]
  },
  {
   "cell_type": "code",
   "execution_count": 6,
   "id": "46982cba",
   "metadata": {},
   "outputs": [
    {
     "name": "stdout",
     "output_type": "stream",
     "text": [
      "S サイズ、2 個、240 円\n"
     ]
    }
   ],
   "source": [
    "a = calc('S', 2)\n",
    "print(f'{a[0]} サイズ、{a[1]} 個、{a[2]} 円')"
   ]
  },
  {
   "cell_type": "code",
   "execution_count": 7,
   "id": "ab772d69",
   "metadata": {},
   "outputs": [
    {
     "name": "stdout",
     "output_type": "stream",
     "text": [
      "M サイズ、6 個、900 円\n"
     ]
    }
   ],
   "source": [
    "b = calc('M')\n",
    "print(f'{b[0]} サイズ、{b[1]} 個、{b[2]} 円')"
   ]
  },
  {
   "cell_type": "code",
   "execution_count": 8,
   "id": "07a1c891",
   "metadata": {},
   "outputs": [],
   "source": [
    "def calc(size='M', num=6):\n",
    "    unit_price = {'S': 120, 'M': 150, 'L': 180}\n",
    "    price = unit_price[size] * num\n",
    "    return (size, num, price)"
   ]
  },
  {
   "cell_type": "code",
   "execution_count": 9,
   "id": "c2cda7f2",
   "metadata": {},
   "outputs": [
    {
     "name": "stdout",
     "output_type": "stream",
     "text": [
      "M サイズ、6 個、900 円\n"
     ]
    }
   ],
   "source": [
    "a = calc()\n",
    "print(f'{a[0]} サイズ、{a[1]} 個、{a[2]} 円')"
   ]
  },
  {
   "cell_type": "code",
   "execution_count": 10,
   "id": "0e91c1d5",
   "metadata": {},
   "outputs": [
    {
     "name": "stdout",
     "output_type": "stream",
     "text": [
      "L サイズ、6 個、1080 円\n"
     ]
    }
   ],
   "source": [
    "a = calc('L')\n",
    "print(f'{a[0]} サイズ、{a[1]} 個、{a[2]} 円')"
   ]
  },
  {
   "cell_type": "code",
   "execution_count": 11,
   "id": "e74d1c67",
   "metadata": {},
   "outputs": [
    {
     "name": "stdout",
     "output_type": "stream",
     "text": [
      "M サイズ、1 個、150 円\n"
     ]
    }
   ],
   "source": [
    "c = calc(num=1)\n",
    "print(f'{c[0]} サイズ、{c[1]} 個、{c[2]} 円')"
   ]
  },
  {
   "cell_type": "markdown",
   "id": "860ea4c0",
   "metadata": {},
   "source": [
    "### 引数の個数を固定しない関数"
   ]
  },
  {
   "cell_type": "code",
   "execution_count": 12,
   "id": "6f569df3",
   "metadata": {},
   "outputs": [],
   "source": [
    "def fruit(*args):\n",
    "    print(args)"
   ]
  },
  {
   "cell_type": "code",
   "execution_count": 13,
   "id": "cadbf98b",
   "metadata": {},
   "outputs": [
    {
     "name": "stdout",
     "output_type": "stream",
     "text": [
      "()\n"
     ]
    }
   ],
   "source": [
    "fruit()"
   ]
  },
  {
   "cell_type": "code",
   "execution_count": 14,
   "id": "f1861c2d",
   "metadata": {},
   "outputs": [
    {
     "name": "stdout",
     "output_type": "stream",
     "text": [
      "('リンゴ', 'みかん', 'いちご', 'バナナ')\n"
     ]
    }
   ],
   "source": [
    "fruit('リンゴ', 'みかん', 'いちご', 'バナナ')"
   ]
  },
  {
   "cell_type": "code",
   "execution_count": 15,
   "id": "af1167a0",
   "metadata": {},
   "outputs": [],
   "source": [
    "def route(start, end, *args):\n",
    "    route_list = [start]\n",
    "    route_list += list(args)\n",
    "    route_list += [end]\n",
    "    \n",
    "    route_str = '→'.join(route_list)\n",
    "    print(route_str)"
   ]
  },
  {
   "cell_type": "code",
   "execution_count": 16,
   "id": "bc890f1c",
   "metadata": {},
   "outputs": [
    {
     "name": "stdout",
     "output_type": "stream",
     "text": [
      "東京→神戸→長崎→熊本→宮崎\n"
     ]
    }
   ],
   "source": [
    "start = '東京'\n",
    "end = '宮崎'\n",
    "route(start, end, '神戸', '長崎', '熊本')"
   ]
  },
  {
   "cell_type": "code",
   "execution_count": 17,
   "id": "54a2ce90",
   "metadata": {},
   "outputs": [],
   "source": [
    "def fruit(**kwargs):\n",
    "    print(kwargs)"
   ]
  },
  {
   "cell_type": "code",
   "execution_count": 18,
   "id": "60868bf8",
   "metadata": {},
   "outputs": [
    {
     "name": "stdout",
     "output_type": "stream",
     "text": [
      "{'apple': 2, 'orange': 3, 'banana': 1}\n"
     ]
    }
   ],
   "source": [
    "fruit(apple=2, orange=3, banana=1)"
   ]
  },
  {
   "cell_type": "code",
   "execution_count": 19,
   "id": "f5408761",
   "metadata": {},
   "outputs": [],
   "source": [
    "def entry(name, gender, **kwargs):\n",
    "    data = {'name': name, 'gender': gender}\n",
    "    data.update(kwargs)\n",
    "    print(data)"
   ]
  },
  {
   "cell_type": "code",
   "execution_count": 20,
   "id": "b2c1596e",
   "metadata": {},
   "outputs": [
    {
     "name": "stdout",
     "output_type": "stream",
     "text": [
      "{'name': '大山坂道', 'gender': '男性', 'age': 27, 'course': 'E'}\n"
     ]
    }
   ],
   "source": [
    "entry(name='大山坂道', gender='男性', age=27, course='E')"
   ]
  }
 ],
 "metadata": {
  "kernelspec": {
   "display_name": "Python 3 (ipykernel)",
   "language": "python",
   "name": "python3"
  },
  "language_info": {
   "codemirror_mode": {
    "name": "ipython",
    "version": 3
   },
   "file_extension": ".py",
   "mimetype": "text/x-python",
   "name": "python",
   "nbconvert_exporter": "python",
   "pygments_lexer": "ipython3",
   "version": "3.11.5"
  }
 },
 "nbformat": 4,
 "nbformat_minor": 5
}
