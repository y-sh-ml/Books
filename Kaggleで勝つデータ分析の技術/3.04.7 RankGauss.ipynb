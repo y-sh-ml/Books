{
 "cells": [
  {
   "cell_type": "markdown",
   "id": "63f50fdb",
   "metadata": {},
   "source": [
    "## 3.4.7　RankGauss"
   ]
  },
  {
   "cell_type": "code",
   "execution_count": 1,
   "id": "560904ee",
   "metadata": {},
   "outputs": [],
   "source": [
    "import numpy as np\n",
    "import pandas as pd\n",
    "from sklearn.preprocessing import QuantileTransformer"
   ]
  },
  {
   "cell_type": "code",
   "execution_count": 2,
   "id": "c9b9a515",
   "metadata": {},
   "outputs": [],
   "source": [
    "train = pd.read_csv('train.csv')\n",
    "test = pd.read_csv('test.csv')\n",
    "\n",
    "train_x =train.drop(['Survived'], axis=1)\n",
    "train_y = train['Survived']\n",
    "test_x = test.copy()\n",
    "\n",
    "train_x = train_x.drop(['PassengerId'], axis=1)\n",
    "test_x = test_x.drop(['PassengerId'], axis=1)\n",
    "\n",
    "train_x = train_x.drop(['Name', 'Ticket', 'Cabin'], axis=1)\n",
    "test_x = test_x.drop(['Name', 'Ticket', 'Cabin'], axis=1)\n",
    "\n",
    "num_cols = [col for col in train_x.columns if train_x[col].dtype != 'object']"
   ]
  },
  {
   "cell_type": "markdown",
   "id": "6fd6d086",
   "metadata": {},
   "source": [
    "数値変数を順位に変換した後に、順序を保ったまま、無理やりに正規分布となるように変換する。<br>\n",
    "これは特に、ニューラルネットでモデルを作成するに有効である。"
   ]
  },
  {
   "cell_type": "code",
   "execution_count": 3,
   "id": "6b025a1c",
   "metadata": {},
   "outputs": [
    {
     "data": {
      "text/plain": [
       "QuantileTransformer(n_quantiles=100, output_distribution='normal',\n",
       "                    random_state=0)"
      ]
     },
     "execution_count": 3,
     "metadata": {},
     "output_type": "execute_result"
    }
   ],
   "source": [
    "transformer = QuantileTransformer(n_quantiles=100, random_state=0, output_distribution='normal')\n",
    "transformer.fit(train_x[num_cols])"
   ]
  },
  {
   "cell_type": "code",
   "execution_count": 4,
   "id": "60f70730",
   "metadata": {},
   "outputs": [],
   "source": [
    "train_x[num_cols] = transformer.transform(train_x[num_cols])\n",
    "test_x[num_cols] = transformer.transform(test_x[num_cols])"
   ]
  },
  {
   "cell_type": "markdown",
   "id": "bf6f2ed2",
   "metadata": {},
   "source": [
    "`output_distribution='uniform'` で、順位への変換となる。"
   ]
  }
 ],
 "metadata": {
  "kernelspec": {
   "display_name": "Python 3",
   "language": "python",
   "name": "python3"
  },
  "language_info": {
   "codemirror_mode": {
    "name": "ipython",
    "version": 3
   },
   "file_extension": ".py",
   "mimetype": "text/x-python",
   "name": "python",
   "nbconvert_exporter": "python",
   "pygments_lexer": "ipython3",
   "version": "3.8.8"
  }
 },
 "nbformat": 4,
 "nbformat_minor": 5
}
