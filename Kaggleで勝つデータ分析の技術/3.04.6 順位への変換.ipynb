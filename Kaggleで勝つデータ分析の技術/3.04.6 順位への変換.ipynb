{
 "cells": [
  {
   "cell_type": "markdown",
   "id": "ae064fe9",
   "metadata": {},
   "source": [
    "## 3.4.6　順位への変換"
   ]
  },
  {
   "cell_type": "code",
   "execution_count": 1,
   "id": "fdcfd618",
   "metadata": {},
   "outputs": [],
   "source": [
    "import numpy as np\n",
    "import pandas as pd"
   ]
  },
  {
   "cell_type": "code",
   "execution_count": 2,
   "id": "59a90056",
   "metadata": {},
   "outputs": [],
   "source": [
    "x = [10, 20, 30, 0, 40, 40]"
   ]
  },
  {
   "cell_type": "code",
   "execution_count": 3,
   "id": "14e320a6",
   "metadata": {},
   "outputs": [
    {
     "name": "stdout",
     "output_type": "stream",
     "text": [
      "[2.  3.  4.  1.  5.5 5.5]\n"
     ]
    }
   ],
   "source": [
    "rank = pd.Series(x).rank()\n",
    "print(rank.values)"
   ]
  },
  {
   "cell_type": "markdown",
   "id": "fad6c6d6",
   "metadata": {},
   "source": [
    "`np.argsort` は、昇順に並べ替えたときのインデックスを返す。"
   ]
  },
  {
   "cell_type": "code",
   "execution_count": 4,
   "id": "2ac65d90",
   "metadata": {},
   "outputs": [
    {
     "name": "stdout",
     "output_type": "stream",
     "text": [
      "[3 0 1 2 4 5]\n",
      "[1 2 3 0 4 5]\n"
     ]
    }
   ],
   "source": [
    "order = np.argsort(x)\n",
    "rank = np.argsort(order)\n",
    "\n",
    "print(order)\n",
    "print(rank)"
   ]
  }
 ],
 "metadata": {
  "kernelspec": {
   "display_name": "Python 3",
   "language": "python",
   "name": "python3"
  },
  "language_info": {
   "codemirror_mode": {
    "name": "ipython",
    "version": 3
   },
   "file_extension": ".py",
   "mimetype": "text/x-python",
   "name": "python",
   "nbconvert_exporter": "python",
   "pygments_lexer": "ipython3",
   "version": "3.8.8"
  }
 },
 "nbformat": 4,
 "nbformat_minor": 5
}
