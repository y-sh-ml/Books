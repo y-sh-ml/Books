{
 "cells": [
  {
   "cell_type": "markdown",
   "id": "c3adfad2",
   "metadata": {},
   "source": [
    "## 3.4.3　非線形変換"
   ]
  },
  {
   "cell_type": "code",
   "execution_count": 1,
   "id": "565388c2",
   "metadata": {},
   "outputs": [],
   "source": [
    "import numpy as np\n",
    "import pandas as pd\n",
    "from sklearn.preprocessing import PowerTransformer"
   ]
  },
  {
   "cell_type": "code",
   "execution_count": 2,
   "id": "768ac0af",
   "metadata": {},
   "outputs": [],
   "source": [
    "train = pd.read_csv('train.csv')\n",
    "test = pd.read_csv('test.csv')\n",
    "\n",
    "train_x =train.drop(['Survived'], axis=1)\n",
    "train_y = train['Survived']\n",
    "test_x = test.copy()\n",
    "\n",
    "train_x = train_x.drop(['PassengerId'], axis=1)\n",
    "test_x = test_x.drop(['PassengerId'], axis=1)\n",
    "\n",
    "train_x = train_x.drop(['Name', 'Ticket', 'Cabin'], axis=1)\n",
    "test_x = test_x.drop(['Name', 'Ticket', 'Cabin'], axis=1)\n",
    "\n",
    "num_cols = [col for col in train_x.columns if train_x[col].dtype != 'object']"
   ]
  },
  {
   "cell_type": "markdown",
   "id": "606c305b",
   "metadata": {},
   "source": [
    "一般的に、変数の分布は偏っていない方が良い。"
   ]
  },
  {
   "cell_type": "markdown",
   "id": "40b03114",
   "metadata": {},
   "source": [
    "### 対数変換"
   ]
  },
  {
   "cell_type": "code",
   "execution_count": 3,
   "id": "450df6fc",
   "metadata": {},
   "outputs": [],
   "source": [
    "x = np.array([1.0, 10.0, 100.0, 1000.0, 10000.0])\n",
    "\n",
    "x1 = np.log(x)\n",
    "x2 = np.log1p(x)\n",
    "x3 = np.sign(x) * np.log(np.abs(x))"
   ]
  },
  {
   "cell_type": "markdown",
   "id": "d955be6e",
   "metadata": {},
   "source": [
    "### Box-Cox 変換"
   ]
  },
  {
   "cell_type": "code",
   "execution_count": 4,
   "id": "7d045385",
   "metadata": {},
   "outputs": [],
   "source": [
    "pos_cols = [c for c in num_cols if (train_x[c] > 0.0).all() and (test_x[c] > 0.0).all()]\n",
    "\n",
    "pt = PowerTransformer(method='box-cox')\n",
    "pt.fit(train_x[pos_cols])\n",
    "\n",
    "train_x[pos_cols] = pt.transform(train_x[pos_cols])\n",
    "test_x[pos_cols] = pt.transform(test_x[pos_cols])"
   ]
  },
  {
   "cell_type": "markdown",
   "id": "3cab3ecf",
   "metadata": {},
   "source": [
    "### Yeo-Johnson 変換"
   ]
  },
  {
   "cell_type": "markdown",
   "id": "bd430934",
   "metadata": {},
   "source": [
    "`box-cox` とは違い、正の値でなくても対応できる。"
   ]
  },
  {
   "cell_type": "code",
   "execution_count": 5,
   "id": "adf4cf7c",
   "metadata": {},
   "outputs": [],
   "source": [
    "pt = PowerTransformer(method='yeo-johnson')\n",
    "pt.fit(train_x[num_cols])\n",
    "\n",
    "train_x[num_cols] = pt.transform(train_x[num_cols])\n",
    "test_x[num_cols] = pt.transform(test_x[num_cols])"
   ]
  }
 ],
 "metadata": {
  "kernelspec": {
   "display_name": "Python 3",
   "language": "python",
   "name": "python3"
  },
  "language_info": {
   "codemirror_mode": {
    "name": "ipython",
    "version": 3
   },
   "file_extension": ".py",
   "mimetype": "text/x-python",
   "name": "python",
   "nbconvert_exporter": "python",
   "pygments_lexer": "ipython3",
   "version": "3.8.8"
  }
 },
 "nbformat": 4,
 "nbformat_minor": 5
}
