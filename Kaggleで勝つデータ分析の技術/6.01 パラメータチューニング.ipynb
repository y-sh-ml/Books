{
 "cells": [
  {
   "cell_type": "markdown",
   "id": "1e46ff81",
   "metadata": {},
   "source": [
    "## 6.1　パラメータチューニング"
   ]
  },
  {
   "cell_type": "code",
   "execution_count": 1,
   "id": "db0dc9a7",
   "metadata": {},
   "outputs": [],
   "source": [
    "import numpy as np\n",
    "import pandas as pd\n",
    "from hyperopt import hp\n",
    "from hyperopt import fmin, tpe, hp, STATUS_OK, Trials\n",
    "from sklearn.metrics import log_loss"
   ]
  },
  {
   "cell_type": "markdown",
   "id": "fda7f739",
   "metadata": {},
   "source": [
    "### 6.1.1 ハイパーパラメータの探索方法"
   ]
  },
  {
   "cell_type": "code",
   "execution_count": 2,
   "id": "0bf93d2d",
   "metadata": {},
   "outputs": [],
   "source": [
    "param1_list = [3, 5, 7, 9]\n",
    "param2_list = [1, 2, 3, 4, 5]\n",
    "\n",
    "grid_search_params = []\n",
    "for p1 in param1_list:\n",
    "    for p2 in param2_list:\n",
    "        grid_search_params.append((p1, p2))\n",
    "        \n",
    "random_search_params = []\n",
    "trials = 15\n",
    "for i in range(trials):\n",
    "    p1 = np.random.choice(param1_list)\n",
    "    p2 = np.random.choice(param2_list)\n",
    "    random_search_params.append((p1, p2))"
   ]
  },
  {
   "cell_type": "markdown",
   "id": "b17a0a73",
   "metadata": {},
   "source": [
    "### 6.1.4　ベイズ最適化でのパラメータ探索"
   ]
  },
  {
   "cell_type": "markdown",
   "id": "c8aceb9d",
   "metadata": {},
   "source": [
    "パラメータチューニングをすると、最適なパラメータの範囲が分かるので<br>\n",
    "その範囲に絞って、再度チューニングしてみるのが良い。"
   ]
  },
  {
   "cell_type": "code",
   "execution_count": 3,
   "id": "ed296d93",
   "metadata": {},
   "outputs": [],
   "source": [
    "space = {\n",
    "    'activation': hp.choice('activation', ['prelu', 'relu']),\n",
    "    'dropout': hp.uniform('dropout', 0, 0.2),\n",
    "    'units': hp.quniform('units', 32, 256, 32),\n",
    "    'learning_rate': hp.loguniform('learning_rate', np.log(0.00001), np.log(0.01))\n",
    "}"
   ]
  },
  {
   "cell_type": "code",
   "execution_count": null,
   "id": "44c4f447",
   "metadata": {},
   "outputs": [],
   "source": [
    "def score(params):\n",
    "    params['max_depth'] = int(prms['max_depth'])\n",
    "    \n",
    "    model = Model(params)\n",
    "    model.fit(tr_x, tr_y, va_x, va_y)\n",
    "    va_pred = model.predict(va_x)\n",
    "    score = log_loss(va_y, va_pred)\n",
    "    print(f'params: {params}, logloss: {score:.4f}')\n",
    "    \n",
    "    history.append((params, score))\n",
    "    \n",
    "    return {'loss': score, 'status': STATUS_OK}\n",
    "\n",
    "space = {\n",
    "    'min_child_weight': hp.quniform('min_child_weight', 1, 5, 1),\n",
    "    'max_depth': hp.quniform('max_depth', 3, 9, 1),\n",
    "    'gamma': hp.auniform('gamma', 0, 0.4, 0.1)\n",
    "}\n",
    "\n",
    "max_evals = 10\n",
    "trials = Trials()\n",
    "history = []\n",
    "fmin(score, space, algo=tpe.suggest, trials=trials, max_evals=max_evals)\n",
    "\n",
    "history = sorted(history, key=lambda tpl: tpl[1])\n",
    "best = history[0]\n",
    "print(f'best params:{best[0]}, score:{best[1]:.4f}')"
   ]
  },
  {
   "cell_type": "markdown",
   "id": "12399d7f",
   "metadata": {},
   "source": [
    "### 6.1.5　GBDT のパラメータおよびそのチューニング"
   ]
  },
  {
   "cell_type": "code",
   "execution_count": 4,
   "id": "61d334da",
   "metadata": {},
   "outputs": [],
   "source": [
    "params = {\n",
    "    'booster': 'gbtree',\n",
    "    'objective': 'binary_logistic',\n",
    "    'eta': 0.1,\n",
    "    'gamma': 0.0,\n",
    "    'alpha': 0.0,\n",
    "    'lambda': 1.0,\n",
    "    'min_child_weight': 1,\n",
    "    'max_depth': 5,\n",
    "    'subsample': 0.8,\n",
    "    'colsample_bytree': 0.8,\n",
    "    'random_state': 71\n",
    "}\n",
    "\n",
    "param_space = {\n",
    "    'min_child_weight': hp.loguniform('min_child_weight', np.log(0.1), np.log(10)),\n",
    "    'max_depth': hp.quniform('max_depth', 3, 9, 1),\n",
    "    'subsample': hp.quniform('subsample', 0.6, 0.95, 0.05),\n",
    "    'colsample_bytree': hp.loguniform('subsample', 0.6, 0.95, 0.05),\n",
    "    'gamma': hp.loguniform('gamma', np.log(1e-8), np.log(1.0)),\n",
    "    'alpha': hp.loguniform('alpha', np.log(1e-8), np.log(1.0)),\n",
    "    'lambda': hp.loguniform('lambda', np.log(1e-6), np.log(10.0))\n",
    "}"
   ]
  }
 ],
 "metadata": {
  "kernelspec": {
   "display_name": "Python 3",
   "language": "python",
   "name": "python3"
  },
  "language_info": {
   "codemirror_mode": {
    "name": "ipython",
    "version": 3
   },
   "file_extension": ".py",
   "mimetype": "text/x-python",
   "name": "python",
   "nbconvert_exporter": "python",
   "pygments_lexer": "ipython3",
   "version": "3.8.8"
  }
 },
 "nbformat": 4,
 "nbformat_minor": 5
}
