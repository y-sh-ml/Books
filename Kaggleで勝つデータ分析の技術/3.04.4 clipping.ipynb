{
 "cells": [
  {
   "cell_type": "markdown",
   "id": "9e4bab30",
   "metadata": {},
   "source": [
    "## 3.4.4　clipping"
   ]
  },
  {
   "cell_type": "code",
   "execution_count": 3,
   "id": "ed11dd23",
   "metadata": {},
   "outputs": [],
   "source": [
    "import numpy as np\n",
    "import pandas as pd"
   ]
  },
  {
   "cell_type": "code",
   "execution_count": 4,
   "id": "a3e63090",
   "metadata": {},
   "outputs": [],
   "source": [
    "train = pd.read_csv('train.csv')\n",
    "test = pd.read_csv('test.csv')\n",
    "\n",
    "train_x =train.drop(['Survived'], axis=1)\n",
    "train_y = train['Survived']\n",
    "test_x = test.copy()\n",
    "\n",
    "train_x = train_x.drop(['PassengerId'], axis=1)\n",
    "test_x = test_x.drop(['PassengerId'], axis=1)\n",
    "\n",
    "train_x = train_x.drop(['Name', 'Ticket', 'Cabin'], axis=1)\n",
    "test_x = test_x.drop(['Name', 'Ticket', 'Cabin'], axis=1)\n",
    "\n",
    "num_cols = [col for col in train_x.columns if train_x[col].dtype != 'object']"
   ]
  },
  {
   "cell_type": "code",
   "execution_count": 5,
   "id": "86e94815",
   "metadata": {},
   "outputs": [],
   "source": [
    "p01 = train_x[num_cols].quantile(0.01)\n",
    "p99 = train_x[num_cols].quantile(0.99)"
   ]
  },
  {
   "cell_type": "code",
   "execution_count": 6,
   "id": "a9ae5dbf",
   "metadata": {},
   "outputs": [],
   "source": [
    "train_x[num_cols] = train_x[num_cols].clip(p01, p99, axis=1)\n",
    "train_x[num_cols] = test_x[num_cols].clip(p01, p99, axis=1)"
   ]
  }
 ],
 "metadata": {
  "kernelspec": {
   "display_name": "Python 3",
   "language": "python",
   "name": "python3"
  },
  "language_info": {
   "codemirror_mode": {
    "name": "ipython",
    "version": 3
   },
   "file_extension": ".py",
   "mimetype": "text/x-python",
   "name": "python",
   "nbconvert_exporter": "python",
   "pygments_lexer": "ipython3",
   "version": "3.8.8"
  }
 },
 "nbformat": 4,
 "nbformat_minor": 5
}
