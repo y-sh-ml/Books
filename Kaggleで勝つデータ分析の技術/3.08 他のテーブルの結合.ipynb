{
 "cells": [
  {
   "cell_type": "markdown",
   "id": "545b481a",
   "metadata": {},
   "source": [
    "## 3.8　他のテーブルの結合"
   ]
  },
  {
   "cell_type": "markdown",
   "id": "819f7416",
   "metadata": {},
   "source": [
    "#### 1 対 1 の対応"
   ]
  },
  {
   "cell_type": "code",
   "execution_count": null,
   "id": "9f861c1e",
   "metadata": {},
   "outputs": [],
   "source": [
    "train = train.merge(product_master, on='product_id', how='left')"
   ]
  },
  {
   "cell_type": "markdown",
   "id": "1746534d",
   "metadata": {},
   "source": [
    "#### 1 対 多 の対応"
   ]
  },
  {
   "cell_type": "code",
   "execution_count": null,
   "id": "ee5b56c9",
   "metadata": {},
   "outputs": [],
   "source": [
    "user_log_agg = user_log.groupby('user_id').size().reset_index().rename(columns={0: 'user_count'})\n",
    "train = train.merge(user_log_agg, on='user_id', how='left')"
   ]
  }
 ],
 "metadata": {
  "kernelspec": {
   "display_name": "Python 3",
   "language": "python",
   "name": "python3"
  },
  "language_info": {
   "codemirror_mode": {
    "name": "ipython",
    "version": 3
   },
   "file_extension": ".py",
   "mimetype": "text/x-python",
   "name": "python",
   "nbconvert_exporter": "python",
   "pygments_lexer": "ipython3",
   "version": "3.8.8"
  }
 },
 "nbformat": 4,
 "nbformat_minor": 5
}
