{
 "cells": [
  {
   "cell_type": "markdown",
   "id": "17c2501c",
   "metadata": {},
   "source": [
    "## 4.3.4　xgboost"
   ]
  },
  {
   "cell_type": "code",
   "execution_count": 1,
   "id": "db8ac22e",
   "metadata": {},
   "outputs": [],
   "source": [
    "import numpy as np\n",
    "import pandas as pd\n",
    "import xgboost as xgb\n",
    "from sklearn.metrics import log_loss\n",
    "from sklearn.model_selection import train_test_split"
   ]
  },
  {
   "cell_type": "code",
   "execution_count": 2,
   "id": "d3284998",
   "metadata": {},
   "outputs": [],
   "source": [
    "train = pd.read_csv('train.csv')\n",
    "test = pd.read_csv('test.csv')\n",
    "\n",
    "train_x =train.drop(['Survived'], axis=1)\n",
    "train_y = train['Survived']\n",
    "test_x = test.copy()\n",
    "\n",
    "train_x = train_x.drop(['PassengerId'], axis=1)\n",
    "test_x = test_x.drop(['PassengerId'], axis=1)\n",
    "\n",
    "train_x = train_x.drop(['Name', 'Ticket', 'Cabin'], axis=1)\n",
    "test_x = test_x.drop(['Name', 'Ticket', 'Cabin'], axis=1)\n",
    "\n",
    "num_cols = [col for col in train_x.columns if train_x[col].dtype != 'object']\n",
    "cat_cols = [col for col in train_x.columns if train_x[col].dtype == 'object']"
   ]
  },
  {
   "cell_type": "code",
   "execution_count": 3,
   "id": "a6748819",
   "metadata": {},
   "outputs": [],
   "source": [
    "train_x = train_x[num_cols]\n",
    "test_x = test_x[num_cols]\n",
    "tr_x, va_x, tr_y, va_y = train_test_split(train_x, train_y, test_size=0.2, random_state=22)"
   ]
  },
  {
   "cell_type": "code",
   "execution_count": 4,
   "id": "97660d9a",
   "metadata": {},
   "outputs": [
    {
     "name": "stdout",
     "output_type": "stream",
     "text": [
      "[18:16:19] WARNING: /opt/concourse/worker/volumes/live/7a2b9f41-3287-451b-6691-43e9a6c0910f/volume/xgboost-split_1619728204606/work/src/learner.cc:1061: Starting in XGBoost 1.3.0, the default evaluation metric used with the objective 'binary:logistic' was changed from 'error' to 'logloss'. Explicitly set eval_metric if you'd like to restore the old behavior.\n",
      "[0]\ttrain-logloss:0.61618\teval-logloss:0.64308\n",
      "[1]\ttrain-logloss:0.56375\teval-logloss:0.61172\n",
      "[2]\ttrain-logloss:0.52687\teval-logloss:0.58735\n",
      "[3]\ttrain-logloss:0.50174\teval-logloss:0.57084\n",
      "[4]\ttrain-logloss:0.48548\teval-logloss:0.56140\n",
      "[5]\ttrain-logloss:0.47282\teval-logloss:0.55536\n",
      "[6]\ttrain-logloss:0.46002\teval-logloss:0.55274\n",
      "[7]\ttrain-logloss:0.45090\teval-logloss:0.55239\n",
      "[8]\ttrain-logloss:0.44157\teval-logloss:0.55004\n",
      "[9]\ttrain-logloss:0.43714\teval-logloss:0.55244\n",
      "[10]\ttrain-logloss:0.43345\teval-logloss:0.55536\n",
      "[11]\ttrain-logloss:0.42653\teval-logloss:0.55583\n",
      "[12]\ttrain-logloss:0.42467\teval-logloss:0.55634\n",
      "[13]\ttrain-logloss:0.41760\teval-logloss:0.55307\n",
      "[14]\ttrain-logloss:0.41167\teval-logloss:0.55139\n",
      "[15]\ttrain-logloss:0.40819\teval-logloss:0.55285\n",
      "[16]\ttrain-logloss:0.40288\teval-logloss:0.55024\n",
      "[17]\ttrain-logloss:0.39759\teval-logloss:0.54581\n",
      "[18]\ttrain-logloss:0.39637\teval-logloss:0.54624\n",
      "[19]\ttrain-logloss:0.38857\teval-logloss:0.55511\n",
      "[20]\ttrain-logloss:0.38511\teval-logloss:0.55962\n",
      "[21]\ttrain-logloss:0.38266\teval-logloss:0.56007\n",
      "[22]\ttrain-logloss:0.37744\teval-logloss:0.56271\n",
      "[23]\ttrain-logloss:0.36921\teval-logloss:0.56669\n",
      "[24]\ttrain-logloss:0.36415\teval-logloss:0.56332\n",
      "[25]\ttrain-logloss:0.36161\teval-logloss:0.56782\n",
      "[26]\ttrain-logloss:0.35751\teval-logloss:0.56580\n",
      "[27]\ttrain-logloss:0.34792\teval-logloss:0.56357\n",
      "[28]\ttrain-logloss:0.34343\teval-logloss:0.56265\n",
      "[29]\ttrain-logloss:0.34226\teval-logloss:0.56372\n",
      "[30]\ttrain-logloss:0.34129\teval-logloss:0.56409\n",
      "[31]\ttrain-logloss:0.33764\teval-logloss:0.56207\n",
      "[32]\ttrain-logloss:0.33201\teval-logloss:0.56098\n",
      "[33]\ttrain-logloss:0.32907\teval-logloss:0.56757\n",
      "[34]\ttrain-logloss:0.32523\teval-logloss:0.56740\n",
      "[35]\ttrain-logloss:0.32106\teval-logloss:0.56765\n",
      "[36]\ttrain-logloss:0.31387\teval-logloss:0.56986\n",
      "[37]\ttrain-logloss:0.30900\teval-logloss:0.57093\n",
      "[38]\ttrain-logloss:0.30713\teval-logloss:0.57573\n",
      "[39]\ttrain-logloss:0.30417\teval-logloss:0.57288\n",
      "[40]\ttrain-logloss:0.29874\teval-logloss:0.57684\n",
      "[41]\ttrain-logloss:0.29624\teval-logloss:0.57634\n",
      "[42]\ttrain-logloss:0.29465\teval-logloss:0.57470\n",
      "[43]\ttrain-logloss:0.29372\teval-logloss:0.57613\n",
      "[44]\ttrain-logloss:0.29281\teval-logloss:0.57640\n",
      "[45]\ttrain-logloss:0.29071\teval-logloss:0.57412\n",
      "[46]\ttrain-logloss:0.28939\teval-logloss:0.57530\n",
      "[47]\ttrain-logloss:0.28620\teval-logloss:0.57827\n",
      "[48]\ttrain-logloss:0.28337\teval-logloss:0.57715\n",
      "[49]\ttrain-logloss:0.28230\teval-logloss:0.57659\n",
      "logloss: 0.5766\n"
     ]
    }
   ],
   "source": [
    "dtrain = xgb.DMatrix(tr_x, label=tr_y)\n",
    "dvalid = xgb.DMatrix(va_x, label=va_y)\n",
    "dtest = xgb.DMatrix(test_x)\n",
    "\n",
    "params = {'objective': 'binary:logistic', 'random_state': 71}\n",
    "num_round = 50\n",
    "\n",
    "watchlist = [(dtrain, 'train'), (dvalid, 'eval')]\n",
    "model = xgb.train(params, dtrain, num_round, evals=watchlist)\n",
    "\n",
    "va_pred = model.predict(dvalid)\n",
    "score = log_loss(va_y, va_pred)\n",
    "print(f'logloss: {score:.4f}')\n",
    "\n",
    "pred = model.predict(dtest)"
   ]
  },
  {
   "cell_type": "markdown",
   "id": "103873e2",
   "metadata": {},
   "source": [
    "`objective` には、最小化したい目的関数を指定する。<br>\n",
    "`evals` に学習データとバリデーションデータを渡すことで、決定木を追加するごとにスコアを出力できる。<br>\n",
    "`eval_metric` には、モニタリングしたい評価指標を指定する。"
   ]
  },
  {
   "cell_type": "code",
   "execution_count": 5,
   "id": "7ce293cb",
   "metadata": {},
   "outputs": [
    {
     "name": "stdout",
     "output_type": "stream",
     "text": [
      "[0]\ttrain-logloss:0.61618\teval-logloss:0.64308\n",
      "[1]\ttrain-logloss:0.56375\teval-logloss:0.61172\n",
      "[2]\ttrain-logloss:0.52687\teval-logloss:0.58735\n",
      "[3]\ttrain-logloss:0.50174\teval-logloss:0.57084\n",
      "[4]\ttrain-logloss:0.48548\teval-logloss:0.56140\n",
      "[5]\ttrain-logloss:0.47282\teval-logloss:0.55536\n",
      "[6]\ttrain-logloss:0.46002\teval-logloss:0.55274\n",
      "[7]\ttrain-logloss:0.45090\teval-logloss:0.55239\n",
      "[8]\ttrain-logloss:0.44157\teval-logloss:0.55004\n",
      "[9]\ttrain-logloss:0.43714\teval-logloss:0.55244\n",
      "[10]\ttrain-logloss:0.43345\teval-logloss:0.55536\n",
      "[11]\ttrain-logloss:0.42653\teval-logloss:0.55583\n",
      "[12]\ttrain-logloss:0.42467\teval-logloss:0.55634\n",
      "[13]\ttrain-logloss:0.41760\teval-logloss:0.55307\n",
      "[14]\ttrain-logloss:0.41167\teval-logloss:0.55139\n",
      "[15]\ttrain-logloss:0.40819\teval-logloss:0.55285\n",
      "[16]\ttrain-logloss:0.40288\teval-logloss:0.55024\n",
      "[17]\ttrain-logloss:0.39759\teval-logloss:0.54581\n",
      "[18]\ttrain-logloss:0.39637\teval-logloss:0.54624\n",
      "[19]\ttrain-logloss:0.38857\teval-logloss:0.55511\n",
      "[20]\ttrain-logloss:0.38511\teval-logloss:0.55962\n",
      "[21]\ttrain-logloss:0.38266\teval-logloss:0.56007\n",
      "[22]\ttrain-logloss:0.37744\teval-logloss:0.56271\n",
      "[23]\ttrain-logloss:0.36921\teval-logloss:0.56669\n",
      "[24]\ttrain-logloss:0.36415\teval-logloss:0.56332\n",
      "[25]\ttrain-logloss:0.36161\teval-logloss:0.56782\n",
      "[26]\ttrain-logloss:0.35751\teval-logloss:0.56580\n",
      "[27]\ttrain-logloss:0.34792\teval-logloss:0.56357\n",
      "[28]\ttrain-logloss:0.34343\teval-logloss:0.56265\n",
      "[29]\ttrain-logloss:0.34226\teval-logloss:0.56372\n",
      "[30]\ttrain-logloss:0.34129\teval-logloss:0.56409\n",
      "[31]\ttrain-logloss:0.33764\teval-logloss:0.56207\n",
      "[32]\ttrain-logloss:0.33201\teval-logloss:0.56098\n",
      "[33]\ttrain-logloss:0.32907\teval-logloss:0.56757\n",
      "[34]\ttrain-logloss:0.32523\teval-logloss:0.56740\n",
      "[35]\ttrain-logloss:0.32106\teval-logloss:0.56765\n",
      "[36]\ttrain-logloss:0.31387\teval-logloss:0.56986\n"
     ]
    }
   ],
   "source": [
    "params = {'objective': 'binary:logistic', 'random_state': 71, 'eval_metric': 'logloss'}\n",
    "num_round = 500\n",
    "\n",
    "watchlist = [(dtrain, 'train'), (dvalid, 'eval')]\n",
    "model = xgb.train(params, dtrain, num_round, evals=watchlist, early_stopping_rounds=20)\n",
    "\n",
    "pred = model.predict(dtest, ntree_limit=model.best_ntree_limit)"
   ]
  }
 ],
 "metadata": {
  "kernelspec": {
   "display_name": "Python 3",
   "language": "python",
   "name": "python3"
  },
  "language_info": {
   "codemirror_mode": {
    "name": "ipython",
    "version": 3
   },
   "file_extension": ".py",
   "mimetype": "text/x-python",
   "name": "python",
   "nbconvert_exporter": "python",
   "pygments_lexer": "ipython3",
   "version": "3.8.8"
  }
 },
 "nbformat": 4,
 "nbformat_minor": 5
}
