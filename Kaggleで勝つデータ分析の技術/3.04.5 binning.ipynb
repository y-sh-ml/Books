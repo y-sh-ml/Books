{
 "cells": [
  {
   "cell_type": "markdown",
   "id": "54aa7e55",
   "metadata": {},
   "source": [
    "## 3.4.5　binning"
   ]
  },
  {
   "cell_type": "code",
   "execution_count": 2,
   "id": "db6953ee",
   "metadata": {},
   "outputs": [],
   "source": [
    "import numpy as np\n",
    "import pandas as pd"
   ]
  },
  {
   "cell_type": "code",
   "execution_count": 4,
   "id": "b84117f4",
   "metadata": {},
   "outputs": [
    {
     "name": "stdout",
     "output_type": "stream",
     "text": [
      "[0 2 1 1 2 0]\n"
     ]
    }
   ],
   "source": [
    "x = [1, 7, 5, 4, 6, 3]\n",
    "\n",
    "binned = pd.cut(x, 3, labels=False)\n",
    "print(binned)"
   ]
  },
  {
   "cell_type": "markdown",
   "id": "91d1f609",
   "metadata": {},
   "source": [
    "3 つの bin のどれに入ったかを示している。"
   ]
  },
  {
   "cell_type": "code",
   "execution_count": 5,
   "id": "2ee5b233",
   "metadata": {},
   "outputs": [
    {
     "name": "stdout",
     "output_type": "stream",
     "text": [
      "[0 2 1 1 2 0]\n"
     ]
    }
   ],
   "source": [
    "bin_edges = [-float('inf'), 3.0, 5.0, float('inf')]\n",
    "binned = pd.cut(x, bin_edges, labels=False)\n",
    "print(binned)"
   ]
  }
 ],
 "metadata": {
  "kernelspec": {
   "display_name": "Python 3",
   "language": "python",
   "name": "python3"
  },
  "language_info": {
   "codemirror_mode": {
    "name": "ipython",
    "version": 3
   },
   "file_extension": ".py",
   "mimetype": "text/x-python",
   "name": "python",
   "nbconvert_exporter": "python",
   "pygments_lexer": "ipython3",
   "version": "3.8.8"
  }
 },
 "nbformat": 4,
 "nbformat_minor": 5
}
