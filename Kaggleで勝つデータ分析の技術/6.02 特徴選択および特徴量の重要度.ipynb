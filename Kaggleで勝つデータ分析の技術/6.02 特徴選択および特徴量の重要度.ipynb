{
 "cells": [
  {
   "cell_type": "markdown",
   "id": "0f2b2133",
   "metadata": {},
   "source": [
    "## 6.2　特徴選択および特徴量の重要度"
   ]
  },
  {
   "cell_type": "code",
   "execution_count": 1,
   "id": "e0f94ef6",
   "metadata": {},
   "outputs": [],
   "source": [
    "import numpy as np\n",
    "import pandas as pd\n",
    "import xgboost as xgb\n",
    "import scipy.stats as st\n",
    "from sklearn.feature_selection import chi2\n",
    "from sklearn.preprocessing import MinMaxScaler\n",
    "from sklearn.feature_selection import mutual_info_classif\n",
    "from sklearn.ensemble import RandomForestClassifier"
   ]
  },
  {
   "cell_type": "markdown",
   "id": "717073d6",
   "metadata": {},
   "source": [
    "### 6.2.1　単変量統計を用いる方法"
   ]
  },
  {
   "cell_type": "code",
   "execution_count": 2,
   "id": "0325c2c4",
   "metadata": {},
   "outputs": [
    {
     "name": "stdout",
     "output_type": "stream",
     "text": [
      "[3 0 1 2]\n",
      "[2 1 0 3]\n",
      "[ 0 30 20]\n"
     ]
    }
   ],
   "source": [
    "ary = np.array([10, 20, 30, 0])\n",
    "idx = ary.argsort()\n",
    "print(idx)\n",
    "print(idx[::-1])\n",
    "\n",
    "print(ary[::-1][:3])"
   ]
  },
  {
   "cell_type": "markdown",
   "id": "b44ade58",
   "metadata": {},
   "source": [
    "`[::-1]` で降順にしている。"
   ]
  },
  {
   "cell_type": "code",
   "execution_count": 3,
   "id": "66cc8b45",
   "metadata": {},
   "outputs": [
    {
     "name": "stdout",
     "output_type": "stream",
     "text": [
      "Index(['Pclass', 'Age', 'SibSp', 'Parch', 'Fare'], dtype='object')\n"
     ]
    },
    {
     "data": {
      "text/html": [
       "<div>\n",
       "<style scoped>\n",
       "    .dataframe tbody tr th:only-of-type {\n",
       "        vertical-align: middle;\n",
       "    }\n",
       "\n",
       "    .dataframe tbody tr th {\n",
       "        vertical-align: top;\n",
       "    }\n",
       "\n",
       "    .dataframe thead th {\n",
       "        text-align: right;\n",
       "    }\n",
       "</style>\n",
       "<table border=\"1\" class=\"dataframe\">\n",
       "  <thead>\n",
       "    <tr style=\"text-align: right;\">\n",
       "      <th></th>\n",
       "      <th>Pclass</th>\n",
       "      <th>Age</th>\n",
       "      <th>SibSp</th>\n",
       "      <th>Parch</th>\n",
       "      <th>Fare</th>\n",
       "    </tr>\n",
       "  </thead>\n",
       "  <tbody>\n",
       "    <tr>\n",
       "      <th>0</th>\n",
       "      <td>3</td>\n",
       "      <td>22.0</td>\n",
       "      <td>1</td>\n",
       "      <td>0</td>\n",
       "      <td>7.2500</td>\n",
       "    </tr>\n",
       "    <tr>\n",
       "      <th>1</th>\n",
       "      <td>1</td>\n",
       "      <td>38.0</td>\n",
       "      <td>1</td>\n",
       "      <td>0</td>\n",
       "      <td>71.2833</td>\n",
       "    </tr>\n",
       "    <tr>\n",
       "      <th>2</th>\n",
       "      <td>3</td>\n",
       "      <td>26.0</td>\n",
       "      <td>0</td>\n",
       "      <td>0</td>\n",
       "      <td>7.9250</td>\n",
       "    </tr>\n",
       "    <tr>\n",
       "      <th>3</th>\n",
       "      <td>1</td>\n",
       "      <td>35.0</td>\n",
       "      <td>1</td>\n",
       "      <td>0</td>\n",
       "      <td>53.1000</td>\n",
       "    </tr>\n",
       "    <tr>\n",
       "      <th>4</th>\n",
       "      <td>3</td>\n",
       "      <td>35.0</td>\n",
       "      <td>0</td>\n",
       "      <td>0</td>\n",
       "      <td>8.0500</td>\n",
       "    </tr>\n",
       "  </tbody>\n",
       "</table>\n",
       "</div>"
      ],
      "text/plain": [
       "   Pclass   Age  SibSp  Parch     Fare\n",
       "0       3  22.0      1      0   7.2500\n",
       "1       1  38.0      1      0  71.2833\n",
       "2       3  26.0      0      0   7.9250\n",
       "3       1  35.0      1      0  53.1000\n",
       "4       3  35.0      0      0   8.0500"
      ]
     },
     "execution_count": 3,
     "metadata": {},
     "output_type": "execute_result"
    }
   ],
   "source": [
    "train = pd.read_csv('train.csv')\n",
    "test = pd.read_csv('test.csv')\n",
    "\n",
    "train_x =train.drop(['Survived'], axis=1)\n",
    "train_y = train['Survived']\n",
    "test_x = test.copy()\n",
    "\n",
    "train_x = train_x.drop(['PassengerId'], axis=1)\n",
    "test_x = test_x.drop(['PassengerId'], axis=1)\n",
    "\n",
    "train_x = train_x.drop(['Name', 'Ticket', 'Cabin'], axis=1)\n",
    "test_x = test_x.drop(['Name', 'Ticket', 'Cabin'], axis=1)\n",
    "\n",
    "num_cols = [col for col in train_x.columns if train_x[col].dtype != 'object']\n",
    "cat_cols = [col for col in train_x.columns if train_x[col].dtype == 'object']\n",
    "\n",
    "train_x = train_x[num_cols]\n",
    "test_x = test_x[num_cols]\n",
    "\n",
    "train_x = train_x.fillna(train_x.mean())\n",
    "\n",
    "print(train_x.columns)\n",
    "train_x.head()"
   ]
  },
  {
   "cell_type": "markdown",
   "id": "acc5418c",
   "metadata": {},
   "source": [
    "#### 相関係数（ピアソンの積率相関係数）"
   ]
  },
  {
   "cell_type": "code",
   "execution_count": 4,
   "id": "f2b13bd3",
   "metadata": {},
   "outputs": [
    {
     "name": "stdout",
     "output_type": "stream",
     "text": [
      "['Pclass' 'Fare' 'Parch' 'Age' 'SibSp'] [-0.33848104  0.25730652  0.08162941 -0.06980852 -0.0353225 ]\n"
     ]
    }
   ],
   "source": [
    "corrs = []\n",
    "for c in train_x.columns:\n",
    "    corr = np.corrcoef(train_x[c], train_y)[0, 1]\n",
    "    corrs.append(corr)\n",
    "corrs = np.array(corrs)\n",
    "\n",
    "idx = np.argsort(np.abs(corrs))[::-1]\n",
    "top_cols, top_importances = train_x.columns.values[idx][:5], corrs[idx][:5]\n",
    "print(top_cols, top_importances)"
   ]
  },
  {
   "cell_type": "markdown",
   "id": "3f1aaf3d",
   "metadata": {},
   "source": [
    "#### スピアマンの順位相関係数"
   ]
  },
  {
   "cell_type": "code",
   "execution_count": 5,
   "id": "bb05e7e5",
   "metadata": {},
   "outputs": [
    {
     "name": "stdout",
     "output_type": "stream",
     "text": [
      "['Pclass' 'Fare' 'Parch' 'SibSp' 'Age'] [-0.33966794  0.32373614  0.13826563  0.08887948 -0.03910946]\n"
     ]
    }
   ],
   "source": [
    "corrs_sp = []\n",
    "for c in train_x.columns:\n",
    "    corr_sp = st.spearmanr(train_x[c], train_y).correlation\n",
    "    corrs_sp.append(corr_sp)\n",
    "corrs_sp = np.array(corrs_sp)\n",
    "\n",
    "idx2 = np.argsort(np.abs(corrs_sp))[::-1]\n",
    "top_cols2, top_importances2 = train_x.columns.values[idx2][:5], corrs_sp[idx2][:5]\n",
    "print(top_cols2, top_importances2)"
   ]
  },
  {
   "cell_type": "markdown",
   "id": "61e1d854",
   "metadata": {},
   "source": [
    "#### カイ二乗統計量"
   ]
  },
  {
   "cell_type": "code",
   "execution_count": 6,
   "id": "628e01ac",
   "metadata": {},
   "outputs": [
    {
     "name": "stdout",
     "output_type": "stream",
     "text": [
      "['Pclass' 'Fare' 'Parch' 'SibSp' 'Age'] [-0.33848104  0.25730652  0.08162941 -0.0353225  -0.06980852]\n"
     ]
    }
   ],
   "source": [
    "x = MinMaxScaler().fit_transform(train_x)\n",
    "c2, _ = chi2(x, train_y)\n",
    "\n",
    "idx = np.argsort(c2)[::-1]\n",
    "top_cols, top_importances = train_x.columns.values[idx][:5], corrs[idx][:5]\n",
    "print(top_cols, top_importances)"
   ]
  },
  {
   "cell_type": "markdown",
   "id": "8afb5c7b",
   "metadata": {},
   "source": [
    "#### 相互情報量"
   ]
  },
  {
   "cell_type": "code",
   "execution_count": 7,
   "id": "82f704da",
   "metadata": {},
   "outputs": [
    {
     "name": "stdout",
     "output_type": "stream",
     "text": [
      "['Fare' 'SibSp' 'Pclass' 'Age' 'Parch'] [ 0.25730652 -0.0353225  -0.33848104 -0.06980852  0.08162941]\n"
     ]
    }
   ],
   "source": [
    "mi = mutual_info_classif(train_x, train_y)\n",
    "\n",
    "idx = np.argsort(mi)[::-1]\n",
    "top_cols, top_importances = train_x.columns.values[idx][:5], corrs[idx][:5]\n",
    "print(top_cols, top_importances)"
   ]
  },
  {
   "cell_type": "markdown",
   "id": "e40a5b92",
   "metadata": {},
   "source": [
    "### 6.2.2　特徴量の重要度を用いる方法"
   ]
  },
  {
   "cell_type": "markdown",
   "id": "ea85d578",
   "metadata": {},
   "source": [
    "#### ランダムフォレストの特徴量の重要度"
   ]
  },
  {
   "cell_type": "code",
   "execution_count": 8,
   "id": "b8e2ce46",
   "metadata": {},
   "outputs": [
    {
     "name": "stdout",
     "output_type": "stream",
     "text": [
      "['Fare' 'Age' 'Pclass' 'SibSp' 'Parch'] [0.39941057 0.39229804 0.100984   0.06360213 0.04370526]\n"
     ]
    }
   ],
   "source": [
    "clf = RandomForestClassifier(n_estimators=10, random_state=71)\n",
    "clf.fit(train_x, train_y)\n",
    "fi = clf.feature_importances_\n",
    "\n",
    "idx = np.argsort(fi)[::-1]\n",
    "top_cols, top_importances = train_x.columns.values[idx][:5], fi[idx][:5]\n",
    "print(top_cols, top_importances)"
   ]
  },
  {
   "cell_type": "markdown",
   "id": "61e225e1",
   "metadata": {},
   "source": [
    "#### GBDT の特徴量の重要度"
   ]
  },
  {
   "cell_type": "code",
   "execution_count": 9,
   "id": "b99ae083",
   "metadata": {},
   "outputs": [
    {
     "name": "stdout",
     "output_type": "stream",
     "text": [
      "[18:33:16] WARNING: /opt/concourse/worker/volumes/live/7a2b9f41-3287-451b-6691-43e9a6c0910f/volume/xgboost-split_1619728204606/work/src/learner.cc:1061: Starting in XGBoost 1.3.0, the default evaluation metric used with the objective 'binary:logistic' was changed from 'error' to 'logloss'. Explicitly set eval_metric if you'd like to restore the old behavior.\n",
      "\n",
      " [('Fare', 505.8520609669997), ('Age', 352.15255410134), ('Pclass', 201.55440776099996), ('SibSp', 79.50124594699999), ('Parch', 47.05670062870999)]\n"
     ]
    }
   ],
   "source": [
    "dtrain = xgb.DMatrix(train_x, label=train_y)\n",
    "params = {'objective': 'binary:logistic', 'random_state': 71}\n",
    "num_round = 50\n",
    "model = xgb.train(params, dtrain, num_round)\n",
    "\n",
    "fscore = model.get_score(importance_type='total_gain')\n",
    "fscore = sorted([(k, v) for k, v in fscore.items()], key=lambda tpl: tpl[1], reverse=True)\n",
    "print('\\n', fscore[:5])"
   ]
  },
  {
   "cell_type": "markdown",
   "id": "704e5404",
   "metadata": {},
   "source": [
    "基本的には `total_gain` を出力する。"
   ]
  },
  {
   "cell_type": "markdown",
   "id": "14f92c47",
   "metadata": {},
   "source": [
    "### 6.2.3　反復して探索する方法"
   ]
  },
  {
   "cell_type": "markdown",
   "id": "0d02b19d",
   "metadata": {},
   "source": [
    "#### Greedy Foward Selection"
   ]
  },
  {
   "cell_type": "code",
   "execution_count": null,
   "id": "5625bcc8",
   "metadata": {},
   "outputs": [],
   "source": [
    "best_score = 9999.0\n",
    "selected = set([])\n",
    "\n",
    "print('start greedy forward selection')\n",
    "\n",
    "while True:\n",
    "    \n",
    "    if len(selected) == len(train_x.columns):\n",
    "        break\n",
    "        \n",
    "    scores = []\n",
    "    for feature in train_x.columns:\n",
    "        if feature not in selected:\n",
    "            fs = list(selected) + [feature]\n",
    "            score = evaluate(fs)\n",
    "            scores.append((feature, score))\n",
    "            \n",
    "    b_feature, b_score = sorted(scores, key=lambda tpl: tpl[1])[0]\n",
    "    if b_score < best_score:\n",
    "        selected.add(b_feature)\n",
    "        best_score = b_score\n",
    "        print(f'selected: {b_feature}')\n",
    "        print(f'score: {b_score}')\n",
    "    else:\n",
    "        break\n",
    "\n",
    "print(f'selected features: {selected}')"
   ]
  },
  {
   "cell_type": "markdown",
   "id": "fb2ec20b",
   "metadata": {},
   "source": [
    "`sorted` のデフォルトは昇順である。"
   ]
  },
  {
   "cell_type": "code",
   "execution_count": null,
   "id": "914161aa",
   "metadata": {},
   "outputs": [],
   "source": [
    "best_score = 9999.0\n",
    "candidates = np.random.RandomState(71).permutation(train_x.columns)\n",
    "selected = set([])\n",
    "\n",
    "print('start simple selection')\n",
    "for feature in candidates:\n",
    "    fs = list(selected) * [feature]\n",
    "    score = evaluate(fs)\n",
    "    \n",
    "    if score < best_score:\n",
    "        selected.add(feature)\n",
    "        best_scores = score\n",
    "        print(f'selected: {feature}')\n",
    "        print(f'score: {score}')\n",
    "        \n",
    "print(f'selected features: {selected}')"
   ]
  },
  {
   "cell_type": "code",
   "execution_count": 10,
   "id": "60fce6e3",
   "metadata": {},
   "outputs": [
    {
     "name": "stdout",
     "output_type": "stream",
     "text": [
      "x + y = 2 + 3 = 5\n"
     ]
    }
   ],
   "source": [
    "x, y = 2, 3\n",
    "print(f'x + y = {x} + {y} = {x + y}')"
   ]
  }
 ],
 "metadata": {
  "kernelspec": {
   "display_name": "Python 3",
   "language": "python",
   "name": "python3"
  },
  "language_info": {
   "codemirror_mode": {
    "name": "ipython",
    "version": 3
   },
   "file_extension": ".py",
   "mimetype": "text/x-python",
   "name": "python",
   "nbconvert_exporter": "python",
   "pygments_lexer": "ipython3",
   "version": "3.8.8"
  }
 },
 "nbformat": 4,
 "nbformat_minor": 5
}
