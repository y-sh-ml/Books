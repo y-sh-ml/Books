{
 "cells": [
  {
   "cell_type": "markdown",
   "id": "4e8fb9df",
   "metadata": {
    "_cell_guid": "b1076dfc-b9ad-4769-8c92-a6c4dae69d19",
    "_uuid": "8f2839f25d086af736a60e9eeb907d3b93b6e0e5",
    "papermill": {
     "duration": 0.004817,
     "end_time": "2022-02-15T02:58:09.628843",
     "exception": false,
     "start_time": "2022-02-15T02:58:09.624026",
     "status": "completed"
    },
    "tags": []
   },
   "source": [
    "## 2.7　リーク（data leakage）"
   ]
  },
  {
   "cell_type": "markdown",
   "id": "8f983a8c",
   "metadata": {
    "papermill": {
     "duration": 0.003738,
     "end_time": "2022-02-15T02:58:09.636780",
     "exception": false,
     "start_time": "2022-02-15T02:58:09.633042",
     "status": "completed"
    },
    "tags": []
   },
   "source": [
    "リークには、2種類ある。\n",
    "\n",
    "・使うことが想定されていない有用な情報が想定外に漏れて使えてしまうこと<br>\n",
    "・バリデーションの枠組みを誤ったために、バリデーションで不当に高いスコアが出てしまうこと"
   ]
  },
  {
   "cell_type": "markdown",
   "id": "a590432f",
   "metadata": {
    "papermill": {
     "duration": 0.003659,
     "end_time": "2022-02-15T02:58:09.644332",
     "exception": false,
     "start_time": "2022-02-15T02:58:09.640673",
     "status": "completed"
    },
    "tags": []
   },
   "source": [
    "### 2.7.1　予測に有用な情報が想定外に漏れている意味でのリーク"
   ]
  },
  {
   "cell_type": "markdown",
   "id": "8c2935cb",
   "metadata": {
    "papermill": {
     "duration": 0.00361,
     "end_time": "2022-02-15T02:58:09.651799",
     "exception": false,
     "start_time": "2022-02-15T02:58:09.648189",
     "status": "completed"
    },
    "tags": []
   },
   "source": [
    "定義としては、「予期せず学習データに現れる追加の情報で、モデルや機械学習アルゴリズムに現実的でない良い予測を可能とさせるもの」である。<br>\n",
    "実際のリークのケースについては、以下が挙げられる。\n",
    "\n",
    "・テストデータが学習データに入っている<br>\n",
    "・テストデータの特徴量に予測対象の値が入っている<br>\n",
    "・将来の情報が過去のデータに入っている<br>\n",
    "・利用できないように削除した変数の代理となる変数が残っている<br>\n",
    "・難読化、ランダム化、匿名化などを解析して元に戻すことができる<br>\n",
    "・モデルを実際に学習、予測するときに利用できない情報が含まれている<br>\n",
    "・第三者のデータに上記の情報が含まれている"
   ]
  },
  {
   "cell_type": "markdown",
   "id": "7745d511",
   "metadata": {
    "papermill": {
     "duration": 0.003578,
     "end_time": "2022-02-15T02:58:09.659293",
     "exception": false,
     "start_time": "2022-02-15T02:58:09.655715",
     "status": "completed"
    },
    "tags": []
   },
   "source": [
    "### 2.7.2 バリデーションの枠組みの誤りという意味でのリーク"
   ]
  },
  {
   "cell_type": "markdown",
   "id": "0b652a1a",
   "metadata": {
    "papermill": {
     "duration": 0.003571,
     "end_time": "2022-02-15T02:58:09.666602",
     "exception": false,
     "start_time": "2022-02-15T02:58:09.663031",
     "status": "completed"
    },
    "tags": []
   },
   "source": [
    "バリデーションの枠組みに誤りがあったために、バリデーションデータの目的変数の情報を誤って取り込んで学習してしまい<br>\n",
    "バリデーションで不当に高いスコアが出てしまうことがある。特徴量の作成やバリデーションを行う際に注意する必要がある。"
   ]
  }
 ],
 "metadata": {
  "kernelspec": {
   "display_name": "Python 3",
   "language": "python",
   "name": "python3"
  },
  "language_info": {
   "codemirror_mode": {
    "name": "ipython",
    "version": 3
   },
   "file_extension": ".py",
   "mimetype": "text/x-python",
   "name": "python",
   "nbconvert_exporter": "python",
   "pygments_lexer": "ipython3",
   "version": "3.7.12"
  },
  "papermill": {
   "default_parameters": {},
   "duration": 8.380493,
   "end_time": "2022-02-15T02:58:10.180303",
   "environment_variables": {},
   "exception": null,
   "input_path": "__notebook__.ipynb",
   "output_path": "__notebook__.ipynb",
   "parameters": {},
   "start_time": "2022-02-15T02:58:01.799810",
   "version": "2.3.3"
  }
 },
 "nbformat": 4,
 "nbformat_minor": 5
}
