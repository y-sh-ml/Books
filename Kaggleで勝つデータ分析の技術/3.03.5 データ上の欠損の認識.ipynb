{
 "cells": [
  {
   "cell_type": "markdown",
   "id": "597cc9c8",
   "metadata": {},
   "source": [
    "## 3.3.5　データ上の欠損の認識"
   ]
  },
  {
   "cell_type": "code",
   "execution_count": 1,
   "id": "9c953e03",
   "metadata": {},
   "outputs": [],
   "source": [
    "import pandas as pd"
   ]
  },
  {
   "cell_type": "code",
   "execution_count": 2,
   "id": "bed34c6a",
   "metadata": {},
   "outputs": [],
   "source": [
    "train = pd.read_csv('train.csv', na_values=['', 'NA', -1, 9999])"
   ]
  },
  {
   "cell_type": "code",
   "execution_count": null,
   "id": "e7fbf56e",
   "metadata": {},
   "outputs": [],
   "source": [
    "data['col1'] = data['col1'].replace(-1, np.nan)"
   ]
  }
 ],
 "metadata": {
  "kernelspec": {
   "display_name": "Python 3",
   "language": "python",
   "name": "python3"
  },
  "language_info": {
   "codemirror_mode": {
    "name": "ipython",
    "version": 3
   },
   "file_extension": ".py",
   "mimetype": "text/x-python",
   "name": "python",
   "nbconvert_exporter": "python",
   "pygments_lexer": "ipython3",
   "version": "3.8.8"
  }
 },
 "nbformat": 4,
 "nbformat_minor": 5
}
