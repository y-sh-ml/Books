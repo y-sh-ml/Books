{
 "cells": [
  {
   "cell_type": "markdown",
   "id": "799f1865",
   "metadata": {},
   "source": [
    "## 5.2　バリデーションの手法"
   ]
  },
  {
   "cell_type": "code",
   "execution_count": 1,
   "id": "57391cdb",
   "metadata": {},
   "outputs": [],
   "source": [
    "import numpy as np\n",
    "import pandas as pd\n",
    "import lightgbm as lgb\n",
    "from sklearn.metrics import log_loss\n",
    "from sklearn.model_selection import KFold\n",
    "from sklearn.model_selection import StratifiedKFold\n",
    "from sklearn.model_selection import GroupKFold\n",
    "from sklearn.model_selection import LeaveOneOut"
   ]
  },
  {
   "cell_type": "markdown",
   "id": "70f9b133",
   "metadata": {},
   "source": [
    "### 5.2.1　hold-out 法"
   ]
  },
  {
   "cell_type": "code",
   "execution_count": 2,
   "id": "60c5a200",
   "metadata": {},
   "outputs": [
    {
     "name": "stdout",
     "output_type": "stream",
     "text": [
      "(891, 5)\n"
     ]
    }
   ],
   "source": [
    "train = pd.read_csv('train.csv')\n",
    "test = pd.read_csv('test.csv')\n",
    "\n",
    "train_x =train.drop(['Survived'], axis=1)\n",
    "train_y = train['Survived']\n",
    "test_x = test.copy()\n",
    "\n",
    "train_x = train_x.drop(['PassengerId'], axis=1)\n",
    "test_x = test_x.drop(['PassengerId'], axis=1)\n",
    "\n",
    "train_x = train_x.drop(['Name', 'Ticket', 'Cabin'], axis=1)\n",
    "test_x = test_x.drop(['Name', 'Ticket', 'Cabin'], axis=1)\n",
    "\n",
    "num_cols = [col for col in train_x.columns if train_x[col].dtype != 'object']\n",
    "cat_cols = [col for col in train_x.columns if train_x[col].dtype == 'object']\n",
    "\n",
    "train_x = train_x[num_cols]\n",
    "print(train_x.shape)"
   ]
  },
  {
   "cell_type": "code",
   "execution_count": 3,
   "id": "9f9e6b91",
   "metadata": {},
   "outputs": [
    {
     "name": "stdout",
     "output_type": "stream",
     "text": [
      "(668, 5)\n",
      "(223, 5)\n"
     ]
    }
   ],
   "source": [
    "kf = KFold(n_splits=4, shuffle=True, random_state=71)\n",
    "tr_idx, va_idx = list(kf.split(train_x))[0]\n",
    "tr_x, va_x = train_x.iloc[tr_idx], train_x.iloc[va_idx]\n",
    "tr_y, va_y = train_y.iloc[tr_idx], train_y.iloc[va_idx]\n",
    "\n",
    "print(tr_x.shape)\n",
    "print(va_x.shape)"
   ]
  },
  {
   "cell_type": "markdown",
   "id": "92e48470",
   "metadata": {},
   "source": [
    "### 5.2.2　クロスバリデーション"
   ]
  },
  {
   "cell_type": "code",
   "execution_count": 4,
   "id": "07f50c00",
   "metadata": {},
   "outputs": [
    {
     "name": "stdout",
     "output_type": "stream",
     "text": [
      "[9.138194584774205, 10.686982781970638, 10.532103962250995, 10.423947789188786]\n",
      "10.195307279546157\n"
     ]
    }
   ],
   "source": [
    "scores = []\n",
    "\n",
    "kf = KFold(n_splits=4, shuffle=True, random_state=71)\n",
    "for tr_idx, va_idx in kf.split(train_x):\n",
    "    tr_x, va_x = train_x.iloc[tr_idx], train_x.iloc[va_idx]\n",
    "    tr_y, va_y = train_y.iloc[tr_idx], train_y.iloc[va_idx]\n",
    "    \n",
    "    model = lgb.LGBMClassifier()\n",
    "    model.fit(tr_x, tr_y)\n",
    "    va_pred = model.predict(va_x)\n",
    "    score = log_loss(va_y, va_pred)\n",
    "    scores.append(score)\n",
    "    \n",
    "print(scores)\n",
    "print(np.mean(scores))"
   ]
  },
  {
   "cell_type": "markdown",
   "id": "2188c5bb",
   "metadata": {},
   "source": [
    "### 5.2.3　stratified k-fold"
   ]
  },
  {
   "cell_type": "code",
   "execution_count": 5,
   "id": "42f5edbb",
   "metadata": {},
   "outputs": [
    {
     "name": "stdout",
     "output_type": "stream",
     "text": [
      "[9.138155142748499, 10.99678703471303, 10.37720362869915, 8.712556171457667]\n",
      "9.806175494404586\n"
     ]
    }
   ],
   "source": [
    "scores = []\n",
    "\n",
    "kf = StratifiedKFold(n_splits=4, shuffle=True, random_state=71)\n",
    "for tr_idx, va_idx in kf.split(train_x, train_y):\n",
    "    tr_x, va_x = train_x.iloc[tr_idx], train_x.iloc[va_idx]\n",
    "    tr_y, va_y = train_y.iloc[tr_idx], train_y.iloc[va_idx]\n",
    "    \n",
    "    model = lgb.LGBMClassifier()\n",
    "    model.fit(tr_x, tr_y)\n",
    "    va_pred = model.predict(va_x)\n",
    "    score = log_loss(va_y, va_pred)\n",
    "    scores.append(score)\n",
    "    \n",
    "print(scores)\n",
    "print(np.mean(scores))"
   ]
  },
  {
   "cell_type": "markdown",
   "id": "7e59dbe7",
   "metadata": {},
   "source": [
    "### 5.2.4　Group k-fold"
   ]
  },
  {
   "cell_type": "code",
   "execution_count": null,
   "id": "7c5fd124",
   "metadata": {},
   "outputs": [],
   "source": [
    "user_id = train_x['user_id']\n",
    "unique_user_ids = user_id.unique()\n",
    "\n",
    "scores = []\n",
    "\n",
    "kf = KFold(n_splits=4, shuffle=True, random_state=71)\n",
    "for tr_group_idx, va_group_idx in kf.split(unique_user_ids):\n",
    "    tr_groups, va_groups = unique_user_ids[tr_group_idx], unique_user_ids[va_group_idx]\n",
    "    \n",
    "    is_tr = user_id.isin(tr_group)\n",
    "    is_va = user_id.isin(va_group)\n",
    "    tr_x, va_x = train_x[is_tr], train_x[is_va]\n",
    "    tr_y, va_y = train_y[is_tr], train_y[is_va]"
   ]
  },
  {
   "cell_type": "markdown",
   "id": "9b02aa4f",
   "metadata": {},
   "source": [
    "`GroupKFold` では、`shuffle` と `random_state` の指定ができない。"
   ]
  },
  {
   "cell_type": "code",
   "execution_count": null,
   "id": "980c0b1a",
   "metadata": {},
   "outputs": [],
   "source": [
    "kf = GroupKFold(n_splits=4)\n",
    "for tr_idx, va_idx in kf.split(train_x, train_y, user_id):\n",
    "    tr_x, va_x = train_x.iloc[tr_idx], train_x.iloc[va_idx]\n",
    "    tr_y, va_y = train_y.iloc[tr_idx], train_y.iloc[va_idx]"
   ]
  },
  {
   "cell_type": "markdown",
   "id": "81604a44",
   "metadata": {},
   "source": [
    "### 5.2.5　leave-one-out"
   ]
  },
  {
   "cell_type": "code",
   "execution_count": 6,
   "id": "e609e9e1",
   "metadata": {},
   "outputs": [
    {
     "name": "stdout",
     "output_type": "stream",
     "text": [
      "10.311342844838064\n"
     ]
    }
   ],
   "source": [
    "scores = []\n",
    "\n",
    "loo = LeaveOneOut()\n",
    "for tr_idx, va_idx in loo.split(train_x):\n",
    "    tr_x, va_x = train_x.iloc[tr_idx], train_x.iloc[va_idx]\n",
    "    tr_y, va_y = train_y.iloc[tr_idx], train_y.iloc[va_idx]\n",
    "    \n",
    "    model = lgb.LGBMClassifier()\n",
    "    model.fit(tr_x, tr_y)\n",
    "    va_pred = model.predict(va_x)\n",
    "    score = log_loss(va_y, va_pred, labels=[0, 1])\n",
    "    scores.append(score)\n",
    "    \n",
    "print(np.mean(scores))"
   ]
  }
 ],
 "metadata": {
  "kernelspec": {
   "display_name": "Python 3",
   "language": "python",
   "name": "python3"
  },
  "language_info": {
   "codemirror_mode": {
    "name": "ipython",
    "version": 3
   },
   "file_extension": ".py",
   "mimetype": "text/x-python",
   "name": "python",
   "nbconvert_exporter": "python",
   "pygments_lexer": "ipython3",
   "version": "3.8.8"
  }
 },
 "nbformat": 4,
 "nbformat_minor": 5
}
