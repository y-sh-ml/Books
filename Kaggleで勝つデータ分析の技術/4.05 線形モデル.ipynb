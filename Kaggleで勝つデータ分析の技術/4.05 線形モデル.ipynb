{
 "cells": [
  {
   "cell_type": "markdown",
   "id": "cf587630",
   "metadata": {},
   "source": [
    "## 4.5　線形モデル"
   ]
  },
  {
   "cell_type": "code",
   "execution_count": 1,
   "id": "c16fd0bb",
   "metadata": {},
   "outputs": [],
   "source": [
    "import numpy as np\n",
    "import pandas as pd\n",
    "from sklearn.metrics import log_loss\n",
    "from sklearn.preprocessing import StandardScaler\n",
    "from sklearn.linear_model import LogisticRegression\n",
    "from sklearn.model_selection import train_test_split"
   ]
  },
  {
   "cell_type": "code",
   "execution_count": 2,
   "id": "a513e7cc",
   "metadata": {},
   "outputs": [],
   "source": [
    "train = pd.read_csv('train.csv')\n",
    "test = pd.read_csv('test.csv')\n",
    "\n",
    "train = train.dropna()\n",
    "test = test.dropna()\n",
    "\n",
    "train_x =train.drop(['Survived'], axis=1)\n",
    "train_y = train['Survived']\n",
    "test_x = test.copy()\n",
    "\n",
    "train_x = train_x.drop(['PassengerId'], axis=1)\n",
    "test_x = test_x.drop(['PassengerId'], axis=1)\n",
    "\n",
    "train_x = train_x.drop(['Name', 'Ticket', 'Cabin'], axis=1)\n",
    "test_x = test_x.drop(['Name', 'Ticket', 'Cabin'], axis=1)\n",
    "\n",
    "num_cols = [col for col in train_x.columns if train_x[col].dtype != 'object']\n",
    "cat_cols = [col for col in train_x.columns if train_x[col].dtype == 'object']"
   ]
  },
  {
   "cell_type": "code",
   "execution_count": 3,
   "id": "bb558b0e",
   "metadata": {},
   "outputs": [
    {
     "name": "stdout",
     "output_type": "stream",
     "text": [
      "(183, 5)\n",
      "(87, 5)\n"
     ]
    }
   ],
   "source": [
    "train_x = train_x[num_cols]\n",
    "test_x = test_x[num_cols]\n",
    "print(train_x.shape)\n",
    "print(test_x.shape)"
   ]
  },
  {
   "cell_type": "code",
   "execution_count": 4,
   "id": "0a770bcb",
   "metadata": {},
   "outputs": [],
   "source": [
    "tr_x, va_x, tr_y, va_y = train_test_split(train_x, train_y, test_size=0.2, random_state=22)"
   ]
  },
  {
   "cell_type": "code",
   "execution_count": 5,
   "id": "beca591d",
   "metadata": {},
   "outputs": [
    {
     "name": "stdout",
     "output_type": "stream",
     "text": [
      "0.5283587928715964\n"
     ]
    }
   ],
   "source": [
    "scaler = StandardScaler()\n",
    "tr_x = scaler.fit_transform(tr_x)\n",
    "va_x = scaler.fit_transform(va_x)\n",
    "test_x = scaler.fit_transform(test_x)\n",
    "\n",
    "model = LogisticRegression(C=1.0)\n",
    "model.fit(tr_x, tr_y)\n",
    "\n",
    "va_pred = model.predict_proba(va_x)\n",
    "score = log_loss(va_y, va_pred)\n",
    "print(score)\n",
    "\n",
    "pred = model.predict(test_x)"
   ]
  }
 ],
 "metadata": {
  "kernelspec": {
   "display_name": "Python 3",
   "language": "python",
   "name": "python3"
  },
  "language_info": {
   "codemirror_mode": {
    "name": "ipython",
    "version": 3
   },
   "file_extension": ".py",
   "mimetype": "text/x-python",
   "name": "python",
   "nbconvert_exporter": "python",
   "pygments_lexer": "ipython3",
   "version": "3.8.8"
  }
 },
 "nbformat": 4,
 "nbformat_minor": 5
}
