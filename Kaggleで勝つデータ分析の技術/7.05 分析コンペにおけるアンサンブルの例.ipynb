{
 "cells": [
  {
   "cell_type": "markdown",
   "id": "80bbd524",
   "metadata": {},
   "source": [
    "## 7.5　分析コンペにおけるアンサンブルの例"
   ]
  },
  {
   "cell_type": "markdown",
   "id": "e1eb0f26",
   "metadata": {},
   "source": [
    "### 7.5.3　Kaggle の「Home Credit Default Risk」"
   ]
  },
  {
   "cell_type": "code",
   "execution_count": 1,
   "id": "c771f881",
   "metadata": {},
   "outputs": [],
   "source": [
    "from scipy.optimize import minimize\n",
    "from sklearn.metrics import roc_auc_score"
   ]
  },
  {
   "cell_type": "code",
   "execution_count": null,
   "id": "7fa5f1c2",
   "metadata": {},
   "outputs": [],
   "source": [
    "n_sampling = 50\n",
    "frac_sampling = 0.5\n",
    "\n",
    "def score(x data_x, data_y):\n",
    "    y_prob = data_x['model1'] * x + data_x['model2'] * (1 - x)\n",
    "    return -roc_auc_score(data_y, y_prob)\n",
    "\n",
    "results = []\n",
    "for i in range(n_sampling):\n",
    "    seed = i\n",
    "    idx = pd.Series(np.arange(len(train_y))).sample(frac=frac_sampling, replace=False, random_state=seed, weights=adv_train)\n",
    "    x_sample = train_x.iloc[idx]\n",
    "    y_sample = train_y.iloc[idx]\n",
    "    \n",
    "    init_x = np.array(0.5)\n",
    "    constraints = (\n",
    "    {'type': 'ineq', 'fun': lambda x: x},\n",
    "    {'type': 'ineq', 'fun': lambda x: 1.0-x}\n",
    "    )\n",
    "    \n",
    "    result = minmize(score, x0=init_x, arg=(x_sample, y_sample), constraints=constraints, method='COBYLA')\n",
    "    results.append((result.x, 1.0 - result.x))\n",
    "    \n",
    "results = np.array(results)\n",
    "w_model1, w_model2 = results.mean(axis=0)"
   ]
  },
  {
   "cell_type": "markdown",
   "id": "874547e1",
   "metadata": {},
   "source": [
    "### References"
   ]
  },
  {
   "cell_type": "markdown",
   "id": "4414a9da",
   "metadata": {},
   "source": [
    "・[加重平均（重みつき平均）の例と意味](https://mathwords.net/kajuheikin)"
   ]
  }
 ],
 "metadata": {
  "kernelspec": {
   "display_name": "Python 3",
   "language": "python",
   "name": "python3"
  },
  "language_info": {
   "codemirror_mode": {
    "name": "ipython",
    "version": 3
   },
   "file_extension": ".py",
   "mimetype": "text/x-python",
   "name": "python",
   "nbconvert_exporter": "python",
   "pygments_lexer": "ipython3",
   "version": "3.8.8"
  }
 },
 "nbformat": 4,
 "nbformat_minor": 5
}
