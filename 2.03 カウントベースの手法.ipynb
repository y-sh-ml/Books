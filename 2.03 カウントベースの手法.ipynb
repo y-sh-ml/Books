{
 "cells": [
  {
   "cell_type": "markdown",
   "id": "4131f296",
   "metadata": {
    "_cell_guid": "b1076dfc-b9ad-4769-8c92-a6c4dae69d19",
    "_uuid": "8f2839f25d086af736a60e9eeb907d3b93b6e0e5",
    "papermill": {
     "duration": 0.036988,
     "end_time": "2022-03-25T08:07:56.794280",
     "exception": false,
     "start_time": "2022-03-25T08:07:56.757292",
     "status": "completed"
    },
    "tags": []
   },
   "source": [
    "## 2.3　カウントベースの手法"
   ]
  },
  {
   "cell_type": "code",
   "execution_count": 1,
   "id": "9429477f",
   "metadata": {
    "execution": {
     "iopub.execute_input": "2022-03-25T08:07:56.878161Z",
     "iopub.status.busy": "2022-03-25T08:07:56.877566Z",
     "iopub.status.idle": "2022-03-25T08:07:56.879885Z",
     "shell.execute_reply": "2022-03-25T08:07:56.880423Z",
     "shell.execute_reply.started": "2022-03-25T07:50:03.024306Z"
    },
    "papermill": {
     "duration": 0.050093,
     "end_time": "2022-03-25T08:07:56.880746",
     "exception": false,
     "start_time": "2022-03-25T08:07:56.830653",
     "status": "completed"
    },
    "tags": []
   },
   "outputs": [],
   "source": [
    "import os\n",
    "import sys\n",
    "import numpy as np\n",
    "import pandas as pd"
   ]
  },
  {
   "cell_type": "code",
   "execution_count": 2,
   "id": "a57f7284",
   "metadata": {
    "execution": {
     "iopub.execute_input": "2022-03-25T08:07:56.954848Z",
     "iopub.status.busy": "2022-03-25T08:07:56.954241Z",
     "iopub.status.idle": "2022-03-25T08:07:56.961338Z",
     "shell.execute_reply": "2022-03-25T08:07:56.961903Z",
     "shell.execute_reply.started": "2022-03-25T07:18:15.976501Z"
    },
    "papermill": {
     "duration": 0.045587,
     "end_time": "2022-03-25T08:07:56.962074",
     "exception": false,
     "start_time": "2022-03-25T08:07:56.916487",
     "status": "completed"
    },
    "tags": []
   },
   "outputs": [
    {
     "data": {
      "text/plain": [
       "'/kaggle/working'"
      ]
     },
     "execution_count": 2,
     "metadata": {},
     "output_type": "execute_result"
    }
   ],
   "source": [
    "os.getcwd()"
   ]
  },
  {
   "cell_type": "code",
   "execution_count": 3,
   "id": "e2a70ab3",
   "metadata": {
    "execution": {
     "iopub.execute_input": "2022-03-25T08:07:57.038046Z",
     "iopub.status.busy": "2022-03-25T08:07:57.037343Z",
     "iopub.status.idle": "2022-03-25T08:07:57.040762Z",
     "shell.execute_reply": "2022-03-25T08:07:57.041371Z",
     "shell.execute_reply.started": "2022-03-25T07:18:15.985003Z"
    },
    "papermill": {
     "duration": 0.042869,
     "end_time": "2022-03-25T08:07:57.041538",
     "exception": false,
     "start_time": "2022-03-25T08:07:56.998669",
     "status": "completed"
    },
    "tags": []
   },
   "outputs": [],
   "source": [
    "sys.path.append('../input/deeplearningfromscratch2master/deep-learning-from-scratch-2-master')"
   ]
  },
  {
   "cell_type": "code",
   "execution_count": 4,
   "id": "2fe2a147",
   "metadata": {
    "execution": {
     "iopub.execute_input": "2022-03-25T08:07:57.117436Z",
     "iopub.status.busy": "2022-03-25T08:07:57.116763Z",
     "iopub.status.idle": "2022-03-25T08:07:57.145001Z",
     "shell.execute_reply": "2022-03-25T08:07:57.145545Z",
     "shell.execute_reply.started": "2022-03-25T07:42:38.598992Z"
    },
    "papermill": {
     "duration": 0.06738,
     "end_time": "2022-03-25T08:07:57.145716",
     "exception": false,
     "start_time": "2022-03-25T08:07:57.078336",
     "status": "completed"
    },
    "tags": []
   },
   "outputs": [],
   "source": [
    "from common.util import preprocess, create_co_matrix, cos_similarity, most_similar"
   ]
  },
  {
   "cell_type": "markdown",
   "id": "70d26e6c",
   "metadata": {
    "papermill": {
     "duration": 0.037235,
     "end_time": "2022-03-25T08:07:57.219749",
     "exception": false,
     "start_time": "2022-03-25T08:07:57.182514",
     "status": "completed"
    },
    "tags": []
   },
   "source": [
    "### 2.3.1　Python によるコーパスの下準備"
   ]
  },
  {
   "cell_type": "code",
   "execution_count": 5,
   "id": "6eef5ae1",
   "metadata": {
    "execution": {
     "iopub.execute_input": "2022-03-25T08:07:57.296523Z",
     "iopub.status.busy": "2022-03-25T08:07:57.295905Z",
     "iopub.status.idle": "2022-03-25T08:07:57.299074Z",
     "shell.execute_reply": "2022-03-25T08:07:57.299606Z",
     "shell.execute_reply.started": "2022-03-25T07:18:16.032815Z"
    },
    "papermill": {
     "duration": 0.042585,
     "end_time": "2022-03-25T08:07:57.299765",
     "exception": false,
     "start_time": "2022-03-25T08:07:57.257180",
     "status": "completed"
    },
    "tags": []
   },
   "outputs": [],
   "source": [
    "text = 'You say goodbye and I say hello.'"
   ]
  },
  {
   "cell_type": "code",
   "execution_count": 6,
   "id": "29b97b30",
   "metadata": {
    "execution": {
     "iopub.execute_input": "2022-03-25T08:07:57.375353Z",
     "iopub.status.busy": "2022-03-25T08:07:57.374649Z",
     "iopub.status.idle": "2022-03-25T08:07:57.379365Z",
     "shell.execute_reply": "2022-03-25T08:07:57.380058Z",
     "shell.execute_reply.started": "2022-03-25T07:18:16.037799Z"
    },
    "papermill": {
     "duration": 0.044242,
     "end_time": "2022-03-25T08:07:57.380224",
     "exception": false,
     "start_time": "2022-03-25T08:07:57.335982",
     "status": "completed"
    },
    "tags": []
   },
   "outputs": [
    {
     "data": {
      "text/plain": [
       "'you say goodbye and i say hello .'"
      ]
     },
     "execution_count": 6,
     "metadata": {},
     "output_type": "execute_result"
    }
   ],
   "source": [
    "text = text.lower()\n",
    "text = text.replace('.', ' .')\n",
    "text"
   ]
  },
  {
   "cell_type": "markdown",
   "id": "8d46d470",
   "metadata": {
    "execution": {
     "iopub.execute_input": "2022-03-24T01:57:18.659353Z",
     "iopub.status.busy": "2022-03-24T01:57:18.659049Z",
     "iopub.status.idle": "2022-03-24T01:57:18.666099Z",
     "shell.execute_reply": "2022-03-24T01:57:18.664794Z",
     "shell.execute_reply.started": "2022-03-24T01:57:18.659321Z"
    },
    "papermill": {
     "duration": 0.037205,
     "end_time": "2022-03-25T08:07:57.454399",
     "exception": false,
     "start_time": "2022-03-25T08:07:57.417194",
     "status": "completed"
    },
    "tags": []
   },
   "source": [
    "`split` でスペースを区切り文字に変換する。"
   ]
  },
  {
   "cell_type": "code",
   "execution_count": 7,
   "id": "f2ec2cb6",
   "metadata": {
    "execution": {
     "iopub.execute_input": "2022-03-25T08:07:57.531530Z",
     "iopub.status.busy": "2022-03-25T08:07:57.530892Z",
     "iopub.status.idle": "2022-03-25T08:07:57.535415Z",
     "shell.execute_reply": "2022-03-25T08:07:57.535953Z",
     "shell.execute_reply.started": "2022-03-25T07:18:16.051080Z"
    },
    "papermill": {
     "duration": 0.044827,
     "end_time": "2022-03-25T08:07:57.536122",
     "exception": false,
     "start_time": "2022-03-25T08:07:57.491295",
     "status": "completed"
    },
    "tags": []
   },
   "outputs": [
    {
     "data": {
      "text/plain": [
       "['you', 'say', 'goodbye', 'and', 'i', 'say', 'hello', '.']"
      ]
     },
     "execution_count": 7,
     "metadata": {},
     "output_type": "execute_result"
    }
   ],
   "source": [
    "words = text.split(' ')\n",
    "words"
   ]
  },
  {
   "cell_type": "code",
   "execution_count": 8,
   "id": "4cbd3bd6",
   "metadata": {
    "execution": {
     "iopub.execute_input": "2022-03-25T08:07:57.615846Z",
     "iopub.status.busy": "2022-03-25T08:07:57.615186Z",
     "iopub.status.idle": "2022-03-25T08:07:57.619425Z",
     "shell.execute_reply": "2022-03-25T08:07:57.619982Z",
     "shell.execute_reply.started": "2022-03-25T07:18:16.063336Z"
    },
    "papermill": {
     "duration": 0.045725,
     "end_time": "2022-03-25T08:07:57.620165",
     "exception": false,
     "start_time": "2022-03-25T08:07:57.574440",
     "status": "completed"
    },
    "tags": []
   },
   "outputs": [],
   "source": [
    "word_to_id = {}\n",
    "id_to_word = {}\n",
    "\n",
    "for word in words:\n",
    "    if word not in word_to_id:\n",
    "        new_id = len(word_to_id)\n",
    "        word_to_id[word] = new_id\n",
    "        id_to_word[new_id] = word"
   ]
  },
  {
   "cell_type": "code",
   "execution_count": 9,
   "id": "cd5fa040",
   "metadata": {
    "execution": {
     "iopub.execute_input": "2022-03-25T08:07:57.698713Z",
     "iopub.status.busy": "2022-03-25T08:07:57.698074Z",
     "iopub.status.idle": "2022-03-25T08:07:57.703866Z",
     "shell.execute_reply": "2022-03-25T08:07:57.703181Z",
     "shell.execute_reply.started": "2022-03-25T07:18:16.074719Z"
    },
    "papermill": {
     "duration": 0.045963,
     "end_time": "2022-03-25T08:07:57.704014",
     "exception": false,
     "start_time": "2022-03-25T08:07:57.658051",
     "status": "completed"
    },
    "tags": []
   },
   "outputs": [
    {
     "data": {
      "text/plain": [
       "{0: 'you', 1: 'say', 2: 'goodbye', 3: 'and', 4: 'i', 5: 'hello', 6: '.'}"
      ]
     },
     "execution_count": 9,
     "metadata": {},
     "output_type": "execute_result"
    }
   ],
   "source": [
    "id_to_word"
   ]
  },
  {
   "cell_type": "code",
   "execution_count": 10,
   "id": "4080705f",
   "metadata": {
    "execution": {
     "iopub.execute_input": "2022-03-25T08:07:57.785699Z",
     "iopub.status.busy": "2022-03-25T08:07:57.784991Z",
     "iopub.status.idle": "2022-03-25T08:07:57.787624Z",
     "shell.execute_reply": "2022-03-25T08:07:57.788096Z",
     "shell.execute_reply.started": "2022-03-25T07:18:16.088442Z"
    },
    "papermill": {
     "duration": 0.046195,
     "end_time": "2022-03-25T08:07:57.788256",
     "exception": false,
     "start_time": "2022-03-25T08:07:57.742061",
     "status": "completed"
    },
    "tags": []
   },
   "outputs": [
    {
     "data": {
      "text/plain": [
       "{'you': 0, 'say': 1, 'goodbye': 2, 'and': 3, 'i': 4, 'hello': 5, '.': 6}"
      ]
     },
     "execution_count": 10,
     "metadata": {},
     "output_type": "execute_result"
    }
   ],
   "source": [
    "word_to_id"
   ]
  },
  {
   "cell_type": "code",
   "execution_count": 11,
   "id": "760979aa",
   "metadata": {
    "execution": {
     "iopub.execute_input": "2022-03-25T08:07:57.870525Z",
     "iopub.status.busy": "2022-03-25T08:07:57.869628Z",
     "iopub.status.idle": "2022-03-25T08:07:57.872804Z",
     "shell.execute_reply": "2022-03-25T08:07:57.873504Z",
     "shell.execute_reply.started": "2022-03-25T07:18:16.100156Z"
    },
    "papermill": {
     "duration": 0.047193,
     "end_time": "2022-03-25T08:07:57.873719",
     "exception": false,
     "start_time": "2022-03-25T08:07:57.826526",
     "status": "completed"
    },
    "tags": []
   },
   "outputs": [
    {
     "name": "stdout",
     "output_type": "stream",
     "text": [
      "say\n",
      "5\n"
     ]
    }
   ],
   "source": [
    "print(id_to_word[1])\n",
    "print(word_to_id['hello'])"
   ]
  },
  {
   "cell_type": "code",
   "execution_count": 12,
   "id": "8c79a061",
   "metadata": {
    "execution": {
     "iopub.execute_input": "2022-03-25T08:07:57.959335Z",
     "iopub.status.busy": "2022-03-25T08:07:57.958533Z",
     "iopub.status.idle": "2022-03-25T08:07:57.961752Z",
     "shell.execute_reply": "2022-03-25T08:07:57.962246Z",
     "shell.execute_reply.started": "2022-03-25T07:18:16.112117Z"
    },
    "papermill": {
     "duration": 0.049072,
     "end_time": "2022-03-25T08:07:57.962457",
     "exception": false,
     "start_time": "2022-03-25T08:07:57.913385",
     "status": "completed"
    },
    "tags": []
   },
   "outputs": [
    {
     "data": {
      "text/plain": [
       "array([0, 1, 2, 3, 4, 1, 5, 6])"
      ]
     },
     "execution_count": 12,
     "metadata": {},
     "output_type": "execute_result"
    }
   ],
   "source": [
    "corpus = [word_to_id[w] for w in words]\n",
    "corpus = np.array(corpus)\n",
    "corpus"
   ]
  },
  {
   "cell_type": "code",
   "execution_count": 13,
   "id": "4b9ab8db",
   "metadata": {
    "execution": {
     "iopub.execute_input": "2022-03-25T08:07:58.048859Z",
     "iopub.status.busy": "2022-03-25T08:07:58.047869Z",
     "iopub.status.idle": "2022-03-25T08:07:58.050797Z",
     "shell.execute_reply": "2022-03-25T08:07:58.050217Z",
     "shell.execute_reply.started": "2022-03-25T07:18:16.127843Z"
    },
    "papermill": {
     "duration": 0.048507,
     "end_time": "2022-03-25T08:07:58.050949",
     "exception": false,
     "start_time": "2022-03-25T08:07:58.002442",
     "status": "completed"
    },
    "tags": []
   },
   "outputs": [],
   "source": [
    "def preprocess(text):\n",
    "    text = text.lower()\n",
    "    text = text.replace('.', ' .')\n",
    "    words = text.split(' ')\n",
    "    \n",
    "    word_to_id = {}\n",
    "    id_to_word = {}\n",
    "    for word in words:\n",
    "        if word not in word_to_id:\n",
    "            new_id = len(word_to_id)\n",
    "            word_to_id[word] = new_id\n",
    "            id_to_word[new_id] = word\n",
    "            \n",
    "    corpus = np.array([word_to_id[w] for w in words])\n",
    "    \n",
    "    return corpus, word_to_id, id_to_word"
   ]
  },
  {
   "cell_type": "code",
   "execution_count": 14,
   "id": "c2f44401",
   "metadata": {
    "execution": {
     "iopub.execute_input": "2022-03-25T08:07:58.134653Z",
     "iopub.status.busy": "2022-03-25T08:07:58.133672Z",
     "iopub.status.idle": "2022-03-25T08:07:58.135945Z",
     "shell.execute_reply": "2022-03-25T08:07:58.136475Z",
     "shell.execute_reply.started": "2022-03-25T07:18:16.139422Z"
    },
    "papermill": {
     "duration": 0.045633,
     "end_time": "2022-03-25T08:07:58.136640",
     "exception": false,
     "start_time": "2022-03-25T08:07:58.091007",
     "status": "completed"
    },
    "tags": []
   },
   "outputs": [],
   "source": [
    "text = 'You say goodbye and I say hello.'\n",
    "corpus, word_to_id, id_to_word = preprocess(text)"
   ]
  },
  {
   "cell_type": "code",
   "execution_count": 15,
   "id": "47a78671",
   "metadata": {
    "execution": {
     "iopub.execute_input": "2022-03-25T08:07:58.219484Z",
     "iopub.status.busy": "2022-03-25T08:07:58.218620Z",
     "iopub.status.idle": "2022-03-25T08:07:58.222010Z",
     "shell.execute_reply": "2022-03-25T08:07:58.222724Z",
     "shell.execute_reply.started": "2022-03-25T07:18:16.150686Z"
    },
    "papermill": {
     "duration": 0.047839,
     "end_time": "2022-03-25T08:07:58.222952",
     "exception": false,
     "start_time": "2022-03-25T08:07:58.175113",
     "status": "completed"
    },
    "tags": []
   },
   "outputs": [
    {
     "name": "stdout",
     "output_type": "stream",
     "text": [
      "[0 1 2 3 4 1 5 6]\n",
      "{'you': 0, 'say': 1, 'goodbye': 2, 'and': 3, 'i': 4, 'hello': 5, '.': 6}\n",
      "{0: 'you', 1: 'say', 2: 'goodbye', 3: 'and', 4: 'i', 5: 'hello', 6: '.'}\n"
     ]
    }
   ],
   "source": [
    "print(corpus)\n",
    "print(word_to_id)\n",
    "print(id_to_word)"
   ]
  },
  {
   "cell_type": "markdown",
   "id": "08cb12c3",
   "metadata": {
    "papermill": {
     "duration": 0.039884,
     "end_time": "2022-03-25T08:07:58.305732",
     "exception": false,
     "start_time": "2022-03-25T08:07:58.265848",
     "status": "completed"
    },
    "tags": []
   },
   "source": [
    "### 2.3.4　共起行列"
   ]
  },
  {
   "cell_type": "code",
   "execution_count": 16,
   "id": "070c069c",
   "metadata": {
    "execution": {
     "iopub.execute_input": "2022-03-25T08:07:58.390293Z",
     "iopub.status.busy": "2022-03-25T08:07:58.389511Z",
     "iopub.status.idle": "2022-03-25T08:07:58.392556Z",
     "shell.execute_reply": "2022-03-25T08:07:58.393052Z",
     "shell.execute_reply.started": "2022-03-25T07:18:16.163527Z"
    },
    "papermill": {
     "duration": 0.04796,
     "end_time": "2022-03-25T08:07:58.393220",
     "exception": false,
     "start_time": "2022-03-25T08:07:58.345260",
     "status": "completed"
    },
    "tags": []
   },
   "outputs": [
    {
     "name": "stdout",
     "output_type": "stream",
     "text": [
      "[0 1 2 3 4 1 5 6]\n",
      "{0: 'you', 1: 'say', 2: 'goodbye', 3: 'and', 4: 'i', 5: 'hello', 6: '.'}\n"
     ]
    }
   ],
   "source": [
    "text = 'You say goodbye and I say hello.'\n",
    "corpus, word_to_id, id_to_word = preprocess(text)\n",
    "\n",
    "print(corpus)\n",
    "print(id_to_word)"
   ]
  },
  {
   "cell_type": "code",
   "execution_count": 17,
   "id": "03545359",
   "metadata": {
    "execution": {
     "iopub.execute_input": "2022-03-25T08:07:58.481552Z",
     "iopub.status.busy": "2022-03-25T08:07:58.480633Z",
     "iopub.status.idle": "2022-03-25T08:07:58.483261Z",
     "shell.execute_reply": "2022-03-25T08:07:58.482742Z",
     "shell.execute_reply.started": "2022-03-25T07:18:16.172922Z"
    },
    "papermill": {
     "duration": 0.049711,
     "end_time": "2022-03-25T08:07:58.483431",
     "exception": false,
     "start_time": "2022-03-25T08:07:58.433720",
     "status": "completed"
    },
    "tags": []
   },
   "outputs": [],
   "source": [
    "C = np.array([\n",
    "    [0, 1, 0, 0, 0, 0, 0],\n",
    "    [1, 0, 1, 0, 1, 1, 0],\n",
    "    [0, 1, 0, 1, 0, 0, 0],\n",
    "    [0, 0, 1, 0, 1, 0, 0],\n",
    "    [0, 1, 0, 1, 0, 0, 0],\n",
    "    [0, 1, 0, 0, 0, 0, 1],\n",
    "    [0, 0, 0, 0, 0, 1, 0]\n",
    "], dtype=np.int32)"
   ]
  },
  {
   "cell_type": "code",
   "execution_count": 18,
   "id": "7b521640",
   "metadata": {
    "execution": {
     "iopub.execute_input": "2022-03-25T08:07:58.569876Z",
     "iopub.status.busy": "2022-03-25T08:07:58.569195Z",
     "iopub.status.idle": "2022-03-25T08:07:58.572982Z",
     "shell.execute_reply": "2022-03-25T08:07:58.572454Z",
     "shell.execute_reply.started": "2022-03-25T07:18:16.181561Z"
    },
    "papermill": {
     "duration": 0.048834,
     "end_time": "2022-03-25T08:07:58.573117",
     "exception": false,
     "start_time": "2022-03-25T08:07:58.524283",
     "status": "completed"
    },
    "tags": []
   },
   "outputs": [
    {
     "name": "stdout",
     "output_type": "stream",
     "text": [
      "[0 1 0 0 0 0 0]\n",
      "[0 1 0 1 0 0 0]\n",
      "[0 1 0 1 0 0 0]\n"
     ]
    }
   ],
   "source": [
    "print(C[0])\n",
    "print(C[4])\n",
    "print(C[word_to_id['goodbye']])"
   ]
  },
  {
   "cell_type": "markdown",
   "id": "df70bb8e",
   "metadata": {
    "papermill": {
     "duration": 0.039416,
     "end_time": "2022-03-25T08:07:58.652246",
     "exception": false,
     "start_time": "2022-03-25T08:07:58.612830",
     "status": "completed"
    },
    "tags": []
   },
   "source": [
    "`create_co_matrix` は、`corpus` （単語 ID リスト）から共起ベクトルを作成する。"
   ]
  },
  {
   "cell_type": "code",
   "execution_count": 19,
   "id": "0ce17b64",
   "metadata": {
    "execution": {
     "iopub.execute_input": "2022-03-25T08:07:58.738653Z",
     "iopub.status.busy": "2022-03-25T08:07:58.737934Z",
     "iopub.status.idle": "2022-03-25T08:07:58.740844Z",
     "shell.execute_reply": "2022-03-25T08:07:58.740204Z",
     "shell.execute_reply.started": "2022-03-25T07:18:16.195701Z"
    },
    "papermill": {
     "duration": 0.049422,
     "end_time": "2022-03-25T08:07:58.741000",
     "exception": false,
     "start_time": "2022-03-25T08:07:58.691578",
     "status": "completed"
    },
    "tags": []
   },
   "outputs": [],
   "source": [
    "def create_co_matrix(corpus, vocab_size, window_size=1):\n",
    "    corpus_size = len(corpus)\n",
    "    co_matrix = np.zeros((vocab_size, vocab_size), dtype=np.int32)\n",
    "    \n",
    "    for idx, word_id in enumerate(corpus):\n",
    "        for i in range(1, window_size + 1):\n",
    "            left_idx = idx - i\n",
    "            right_idx = idx + i\n",
    "            \n",
    "            if left_idx >= 0:\n",
    "                left_word_id = corpus[left_idx]\n",
    "                co_matrix[word_id, left_word_id] += 1\n",
    "                \n",
    "            if right_idx < corpus_size:\n",
    "                right_word_id = corpus[right_idx]\n",
    "                co_matrix[word_id, right_word_id] += 1\n",
    "                \n",
    "    return co_matrix"
   ]
  },
  {
   "cell_type": "markdown",
   "id": "404516de",
   "metadata": {
    "papermill": {
     "duration": 0.040865,
     "end_time": "2022-03-25T08:07:58.822572",
     "exception": false,
     "start_time": "2022-03-25T08:07:58.781707",
     "status": "completed"
    },
    "tags": []
   },
   "source": [
    "### 2.3.5　ベクトル間の類似度"
   ]
  },
  {
   "cell_type": "code",
   "execution_count": 20,
   "id": "e449f6fa",
   "metadata": {
    "execution": {
     "iopub.execute_input": "2022-03-25T08:07:58.911241Z",
     "iopub.status.busy": "2022-03-25T08:07:58.910587Z",
     "iopub.status.idle": "2022-03-25T08:07:58.913530Z",
     "shell.execute_reply": "2022-03-25T08:07:58.913004Z",
     "shell.execute_reply.started": "2022-03-25T07:24:45.048153Z"
    },
    "papermill": {
     "duration": 0.0511,
     "end_time": "2022-03-25T08:07:58.913681",
     "exception": false,
     "start_time": "2022-03-25T08:07:58.862581",
     "status": "completed"
    },
    "tags": []
   },
   "outputs": [],
   "source": [
    "def cos_similarity(x, y):\n",
    "    nx = x / np.sqrt(np.sum(x**2))\n",
    "    ny = y / np.sqrt(np.sum(y**2))\n",
    "    return np.dot(nx, ny)"
   ]
  },
  {
   "cell_type": "code",
   "execution_count": 21,
   "id": "3535c64e",
   "metadata": {
    "execution": {
     "iopub.execute_input": "2022-03-25T08:07:58.997604Z",
     "iopub.status.busy": "2022-03-25T08:07:58.996642Z",
     "iopub.status.idle": "2022-03-25T08:07:59.001446Z",
     "shell.execute_reply": "2022-03-25T08:07:59.001968Z",
     "shell.execute_reply.started": "2022-03-25T07:27:32.193438Z"
    },
    "papermill": {
     "duration": 0.048968,
     "end_time": "2022-03-25T08:07:59.002131",
     "exception": false,
     "start_time": "2022-03-25T08:07:58.953163",
     "status": "completed"
    },
    "tags": []
   },
   "outputs": [],
   "source": [
    "def cos_similarity(x, y, eps=1e-8):\n",
    "    nx = x / (np.sqrt(np.sum(x**2)) + eps)\n",
    "    ny = y / (np.sqrt(np.sum(y**2)) + eps)\n",
    "    return np.dot(nx, ny)"
   ]
  },
  {
   "cell_type": "code",
   "execution_count": 22,
   "id": "fdb22f0f",
   "metadata": {
    "execution": {
     "iopub.execute_input": "2022-03-25T08:07:59.090437Z",
     "iopub.status.busy": "2022-03-25T08:07:59.089401Z",
     "iopub.status.idle": "2022-03-25T08:07:59.097549Z",
     "shell.execute_reply": "2022-03-25T08:07:59.096930Z",
     "shell.execute_reply.started": "2022-03-25T07:30:50.152755Z"
    },
    "papermill": {
     "duration": 0.054044,
     "end_time": "2022-03-25T08:07:59.097693",
     "exception": false,
     "start_time": "2022-03-25T08:07:59.043649",
     "status": "completed"
    },
    "tags": []
   },
   "outputs": [
    {
     "name": "stdout",
     "output_type": "stream",
     "text": [
      "0.7071067691154799\n"
     ]
    }
   ],
   "source": [
    "text = 'You say goodbye and I say hello.'\n",
    "corpus, word_to_id, id_to_word = preprocess(text)\n",
    "vocab_size = len(word_to_id)\n",
    "C = create_co_matrix(corpus, vocab_size)\n",
    "\n",
    "c0 = C[word_to_id['you']]\n",
    "c1 = C[word_to_id['i']]\n",
    "print(cos_similarity(c0, c1))"
   ]
  },
  {
   "cell_type": "markdown",
   "id": "949b0c7c",
   "metadata": {
    "papermill": {
     "duration": 0.040491,
     "end_time": "2022-03-25T08:07:59.180389",
     "exception": false,
     "start_time": "2022-03-25T08:07:59.139898",
     "status": "completed"
    },
    "tags": []
   },
   "source": [
    "### 2.3.6　類似単語のランキング表記"
   ]
  },
  {
   "cell_type": "code",
   "execution_count": 23,
   "id": "3e12f0d0",
   "metadata": {
    "execution": {
     "iopub.execute_input": "2022-03-25T08:07:59.264933Z",
     "iopub.status.busy": "2022-03-25T08:07:59.263942Z",
     "iopub.status.idle": "2022-03-25T08:07:59.271643Z",
     "shell.execute_reply": "2022-03-25T08:07:59.272189Z",
     "shell.execute_reply.started": "2022-03-25T07:38:04.346317Z"
    },
    "papermill": {
     "duration": 0.051593,
     "end_time": "2022-03-25T08:07:59.272371",
     "exception": false,
     "start_time": "2022-03-25T08:07:59.220778",
     "status": "completed"
    },
    "tags": []
   },
   "outputs": [],
   "source": [
    "def most_similar(query, word_to_id, id_to_word, word_matrix, top=5):\n",
    "    if query not in word_to_id:\n",
    "        print('%s is not found' % query)\n",
    "        \n",
    "    print('\\n[query] ' + query)\n",
    "    query_id = word_to_id[query]\n",
    "    query_vec = word_matrix[query_id]\n",
    "    \n",
    "    vocab_size = len(id_to_word)\n",
    "    similarity = np.zeros(vocab_size)\n",
    "    for i in range(vocab_size):\n",
    "        similarity[i] = cos_similarity(word_matrix[i], query_vec)\n",
    "        \n",
    "    count = 0\n",
    "    for i in (-1 * similarity).argsort():\n",
    "        if id_to_word[i] == query:\n",
    "            continue\n",
    "        print(' %s: %s' % (id_to_word[i], similarity))\n",
    "        \n",
    "        count += 1\n",
    "        if count >= top:\n",
    "            return"
   ]
  },
  {
   "cell_type": "code",
   "execution_count": 24,
   "id": "82366fb3",
   "metadata": {
    "execution": {
     "iopub.execute_input": "2022-03-25T08:07:59.359932Z",
     "iopub.status.busy": "2022-03-25T08:07:59.358928Z",
     "iopub.status.idle": "2022-03-25T08:07:59.362644Z",
     "shell.execute_reply": "2022-03-25T08:07:59.363164Z",
     "shell.execute_reply.started": "2022-03-25T07:40:13.750305Z"
    },
    "papermill": {
     "duration": 0.049927,
     "end_time": "2022-03-25T08:07:59.363354",
     "exception": false,
     "start_time": "2022-03-25T08:07:59.313427",
     "status": "completed"
    },
    "tags": []
   },
   "outputs": [
    {
     "name": "stdout",
     "output_type": "stream",
     "text": [
      "[1 2 0]\n",
      "[0 2 1]\n"
     ]
    }
   ],
   "source": [
    "x = np.array([100, -20, 2])\n",
    "print(x.argsort())\n",
    "print((-x).argsort())"
   ]
  },
  {
   "cell_type": "code",
   "execution_count": 25,
   "id": "9e5fc23c",
   "metadata": {
    "execution": {
     "iopub.execute_input": "2022-03-25T08:07:59.449209Z",
     "iopub.status.busy": "2022-03-25T08:07:59.448204Z",
     "iopub.status.idle": "2022-03-25T08:07:59.453068Z",
     "shell.execute_reply": "2022-03-25T08:07:59.453719Z",
     "shell.execute_reply.started": "2022-03-25T07:43:23.335878Z"
    },
    "papermill": {
     "duration": 0.049742,
     "end_time": "2022-03-25T08:07:59.453914",
     "exception": false,
     "start_time": "2022-03-25T08:07:59.404172",
     "status": "completed"
    },
    "tags": []
   },
   "outputs": [],
   "source": [
    "text = 'You say goodbye and I say hello.'\n",
    "corpus, word_to_id, id_to_word = preprocess(text)\n",
    "vocab_size = len(word_to_id)\n",
    "C = create_co_matrix(corpus, vocab_size)"
   ]
  },
  {
   "cell_type": "code",
   "execution_count": 26,
   "id": "6756be0a",
   "metadata": {
    "execution": {
     "iopub.execute_input": "2022-03-25T08:07:59.539476Z",
     "iopub.status.busy": "2022-03-25T08:07:59.538498Z",
     "iopub.status.idle": "2022-03-25T08:07:59.545376Z",
     "shell.execute_reply": "2022-03-25T08:07:59.546085Z",
     "shell.execute_reply.started": "2022-03-25T07:44:08.940456Z"
    },
    "papermill": {
     "duration": 0.051139,
     "end_time": "2022-03-25T08:07:59.546303",
     "exception": false,
     "start_time": "2022-03-25T08:07:59.495164",
     "status": "completed"
    },
    "tags": []
   },
   "outputs": [
    {
     "name": "stdout",
     "output_type": "stream",
     "text": [
      "You say goodbye and I say hello.\n",
      "[0 1 2 3 4 1 5 6]\n",
      "{'you': 0, 'say': 1, 'goodbye': 2, 'and': 3, 'i': 4, 'hello': 5, '.': 6}\n",
      "{0: 'you', 1: 'say', 2: 'goodbye', 3: 'and', 4: 'i', 5: 'hello', 6: '.'}\n",
      "[[0 1 0 0 0 0 0]\n",
      " [1 0 1 0 1 1 0]\n",
      " [0 1 0 1 0 0 0]\n",
      " [0 0 1 0 1 0 0]\n",
      " [0 1 0 1 0 0 0]\n",
      " [0 1 0 0 0 0 1]\n",
      " [0 0 0 0 0 1 0]]\n"
     ]
    }
   ],
   "source": [
    "print(text)\n",
    "print(corpus)\n",
    "print(word_to_id)\n",
    "print(id_to_word)\n",
    "print(C)"
   ]
  },
  {
   "cell_type": "markdown",
   "id": "04a72dff",
   "metadata": {
    "execution": {
     "iopub.execute_input": "2022-03-25T07:46:09.480055Z",
     "iopub.status.busy": "2022-03-25T07:46:09.479783Z",
     "iopub.status.idle": "2022-03-25T07:46:09.485657Z",
     "shell.execute_reply": "2022-03-25T07:46:09.484743Z",
     "shell.execute_reply.started": "2022-03-25T07:46:09.480027Z"
    },
    "papermill": {
     "duration": 0.040458,
     "end_time": "2022-03-25T08:07:59.629392",
     "exception": false,
     "start_time": "2022-03-25T08:07:59.588934",
     "status": "completed"
    },
    "tags": []
   },
   "source": [
    "`corpus` は単語 ID を並べたものである。<br>"
   ]
  },
  {
   "cell_type": "code",
   "execution_count": 27,
   "id": "cd771e06",
   "metadata": {
    "execution": {
     "iopub.execute_input": "2022-03-25T08:07:59.716891Z",
     "iopub.status.busy": "2022-03-25T08:07:59.715894Z",
     "iopub.status.idle": "2022-03-25T08:07:59.721748Z",
     "shell.execute_reply": "2022-03-25T08:07:59.722254Z",
     "shell.execute_reply.started": "2022-03-25T07:48:24.091279Z"
    },
    "papermill": {
     "duration": 0.049989,
     "end_time": "2022-03-25T08:07:59.722444",
     "exception": false,
     "start_time": "2022-03-25T08:07:59.672455",
     "status": "completed"
    },
    "tags": []
   },
   "outputs": [
    {
     "name": "stdout",
     "output_type": "stream",
     "text": [
      "[0 1 2 3 4 1 5 6]\n",
      "{0: 'you', 1: 'say', 2: 'goodbye', 3: 'and', 4: 'i', 5: 'hello', 6: '.'}\n"
     ]
    }
   ],
   "source": [
    "print(corpus)\n",
    "print(id_to_word)"
   ]
  },
  {
   "cell_type": "markdown",
   "id": "d3e13d9c",
   "metadata": {
    "papermill": {
     "duration": 0.041861,
     "end_time": "2022-03-25T08:07:59.805658",
     "exception": false,
     "start_time": "2022-03-25T08:07:59.763797",
     "status": "completed"
    },
    "tags": []
   },
   "source": [
    "また、`C` は共起ベクトルで、となりにある単語をベクトル化している。"
   ]
  },
  {
   "cell_type": "code",
   "execution_count": 28,
   "id": "ac4eda23",
   "metadata": {
    "execution": {
     "iopub.execute_input": "2022-03-25T08:07:59.891817Z",
     "iopub.status.busy": "2022-03-25T08:07:59.890828Z",
     "iopub.status.idle": "2022-03-25T08:07:59.910724Z",
     "shell.execute_reply": "2022-03-25T08:07:59.911233Z",
     "shell.execute_reply.started": "2022-03-25T07:51:44.289412Z"
    },
    "papermill": {
     "duration": 0.064637,
     "end_time": "2022-03-25T08:07:59.911417",
     "exception": false,
     "start_time": "2022-03-25T08:07:59.846780",
     "status": "completed"
    },
    "tags": []
   },
   "outputs": [
    {
     "data": {
      "text/html": [
       "<div>\n",
       "<style scoped>\n",
       "    .dataframe tbody tr th:only-of-type {\n",
       "        vertical-align: middle;\n",
       "    }\n",
       "\n",
       "    .dataframe tbody tr th {\n",
       "        vertical-align: top;\n",
       "    }\n",
       "\n",
       "    .dataframe thead th {\n",
       "        text-align: right;\n",
       "    }\n",
       "</style>\n",
       "<table border=\"1\" class=\"dataframe\">\n",
       "  <thead>\n",
       "    <tr style=\"text-align: right;\">\n",
       "      <th></th>\n",
       "      <th>You</th>\n",
       "      <th>say</th>\n",
       "      <th>goodbye</th>\n",
       "      <th>and</th>\n",
       "      <th>I</th>\n",
       "      <th>say</th>\n",
       "      <th>hello</th>\n",
       "    </tr>\n",
       "  </thead>\n",
       "  <tbody>\n",
       "    <tr>\n",
       "      <th>You</th>\n",
       "      <td>0</td>\n",
       "      <td>1</td>\n",
       "      <td>0</td>\n",
       "      <td>0</td>\n",
       "      <td>0</td>\n",
       "      <td>0</td>\n",
       "      <td>0</td>\n",
       "    </tr>\n",
       "    <tr>\n",
       "      <th>say</th>\n",
       "      <td>1</td>\n",
       "      <td>0</td>\n",
       "      <td>1</td>\n",
       "      <td>0</td>\n",
       "      <td>1</td>\n",
       "      <td>1</td>\n",
       "      <td>0</td>\n",
       "    </tr>\n",
       "    <tr>\n",
       "      <th>goodbye</th>\n",
       "      <td>0</td>\n",
       "      <td>1</td>\n",
       "      <td>0</td>\n",
       "      <td>1</td>\n",
       "      <td>0</td>\n",
       "      <td>0</td>\n",
       "      <td>0</td>\n",
       "    </tr>\n",
       "    <tr>\n",
       "      <th>and</th>\n",
       "      <td>0</td>\n",
       "      <td>0</td>\n",
       "      <td>1</td>\n",
       "      <td>0</td>\n",
       "      <td>1</td>\n",
       "      <td>0</td>\n",
       "      <td>0</td>\n",
       "    </tr>\n",
       "    <tr>\n",
       "      <th>I</th>\n",
       "      <td>0</td>\n",
       "      <td>1</td>\n",
       "      <td>0</td>\n",
       "      <td>1</td>\n",
       "      <td>0</td>\n",
       "      <td>0</td>\n",
       "      <td>0</td>\n",
       "    </tr>\n",
       "    <tr>\n",
       "      <th>say</th>\n",
       "      <td>0</td>\n",
       "      <td>1</td>\n",
       "      <td>0</td>\n",
       "      <td>0</td>\n",
       "      <td>0</td>\n",
       "      <td>0</td>\n",
       "      <td>1</td>\n",
       "    </tr>\n",
       "    <tr>\n",
       "      <th>hello</th>\n",
       "      <td>0</td>\n",
       "      <td>0</td>\n",
       "      <td>0</td>\n",
       "      <td>0</td>\n",
       "      <td>0</td>\n",
       "      <td>1</td>\n",
       "      <td>0</td>\n",
       "    </tr>\n",
       "  </tbody>\n",
       "</table>\n",
       "</div>"
      ],
      "text/plain": [
       "         You  say  goodbye  and  I  say  hello\n",
       "You        0    1        0    0  0    0      0\n",
       "say        1    0        1    0  1    1      0\n",
       "goodbye    0    1        0    1  0    0      0\n",
       "and        0    0        1    0  1    0      0\n",
       "I          0    1        0    1  0    0      0\n",
       "say        0    1        0    0  0    0      1\n",
       "hello      0    0        0    0  0    1      0"
      ]
     },
     "execution_count": 28,
     "metadata": {},
     "output_type": "execute_result"
    }
   ],
   "source": [
    "text_list = ['You', 'say', 'goodbye', 'and', 'I', 'say', 'hello']\n",
    "pd.DataFrame(C, index=text_list, columns=text_list)"
   ]
  },
  {
   "cell_type": "code",
   "execution_count": 29,
   "id": "43cc8cc4",
   "metadata": {
    "execution": {
     "iopub.execute_input": "2022-03-25T08:07:59.999991Z",
     "iopub.status.busy": "2022-03-25T08:07:59.998108Z",
     "iopub.status.idle": "2022-03-25T08:08:00.005973Z",
     "shell.execute_reply": "2022-03-25T08:08:00.006496Z",
     "shell.execute_reply.started": "2022-03-25T07:56:49.591032Z"
    },
    "papermill": {
     "duration": 0.053258,
     "end_time": "2022-03-25T08:08:00.006703",
     "exception": false,
     "start_time": "2022-03-25T08:07:59.953445",
     "status": "completed"
    },
    "tags": []
   },
   "outputs": [
    {
     "name": "stdout",
     "output_type": "stream",
     "text": [
      "\n",
      "[query] you\n",
      " goodbye: [0.99999998 0.         0.70710677 0.         0.70710677 0.70710677\n",
      " 0.        ]\n",
      " i: [0.99999998 0.         0.70710677 0.         0.70710677 0.70710677\n",
      " 0.        ]\n",
      " hello: [0.99999998 0.         0.70710677 0.         0.70710677 0.70710677\n",
      " 0.        ]\n",
      " say: [0.99999998 0.         0.70710677 0.         0.70710677 0.70710677\n",
      " 0.        ]\n",
      " and: [0.99999998 0.         0.70710677 0.         0.70710677 0.70710677\n",
      " 0.        ]\n"
     ]
    }
   ],
   "source": [
    "most_similar('you', word_to_id, id_to_word, C, top=5)"
   ]
  },
  {
   "cell_type": "markdown",
   "id": "dbef98fa",
   "metadata": {
    "execution": {
     "iopub.execute_input": "2022-03-25T08:00:53.308998Z",
     "iopub.status.busy": "2022-03-25T08:00:53.308345Z",
     "iopub.status.idle": "2022-03-25T08:00:53.314488Z",
     "shell.execute_reply": "2022-03-25T08:00:53.313352Z",
     "shell.execute_reply.started": "2022-03-25T08:00:53.308940Z"
    },
    "papermill": {
     "duration": 0.042996,
     "end_time": "2022-03-25T08:08:00.092100",
     "exception": false,
     "start_time": "2022-03-25T08:08:00.049104",
     "status": "completed"
    },
    "tags": []
   },
   "source": [
    "`corpus` と `vocab_size` のサイズの違いに気を付ける。"
   ]
  },
  {
   "cell_type": "code",
   "execution_count": 30,
   "id": "af20b2b3",
   "metadata": {
    "execution": {
     "iopub.execute_input": "2022-03-25T08:08:00.181344Z",
     "iopub.status.busy": "2022-03-25T08:08:00.180673Z",
     "iopub.status.idle": "2022-03-25T08:08:00.186423Z",
     "shell.execute_reply": "2022-03-25T08:08:00.186879Z",
     "shell.execute_reply.started": "2022-03-25T08:05:12.451707Z"
    },
    "papermill": {
     "duration": 0.051051,
     "end_time": "2022-03-25T08:08:00.187048",
     "exception": false,
     "start_time": "2022-03-25T08:08:00.135997",
     "status": "completed"
    },
    "tags": []
   },
   "outputs": [
    {
     "name": "stdout",
     "output_type": "stream",
     "text": [
      "[0 1 2 3 4 1 5 6]\n",
      "8\n",
      "{0: 'you', 1: 'say', 2: 'goodbye', 3: 'and', 4: 'i', 5: 'hello', 6: '.'}\n",
      "7\n"
     ]
    }
   ],
   "source": [
    "print(corpus)\n",
    "print(len(corpus))\n",
    "print(id_to_word)\n",
    "print(vocab_size)"
   ]
  }
 ],
 "metadata": {
  "kernelspec": {
   "display_name": "Python 3",
   "language": "python",
   "name": "python3"
  },
  "language_info": {
   "codemirror_mode": {
    "name": "ipython",
    "version": 3
   },
   "file_extension": ".py",
   "mimetype": "text/x-python",
   "name": "python",
   "nbconvert_exporter": "python",
   "pygments_lexer": "ipython3",
   "version": "3.7.12"
  },
  "papermill": {
   "default_parameters": {},
   "duration": 13.762318,
   "end_time": "2022-03-25T08:08:00.839752",
   "environment_variables": {},
   "exception": null,
   "input_path": "__notebook__.ipynb",
   "output_path": "__notebook__.ipynb",
   "parameters": {},
   "start_time": "2022-03-25T08:07:47.077434",
   "version": "2.3.3"
  }
 },
 "nbformat": 4,
 "nbformat_minor": 5
}
