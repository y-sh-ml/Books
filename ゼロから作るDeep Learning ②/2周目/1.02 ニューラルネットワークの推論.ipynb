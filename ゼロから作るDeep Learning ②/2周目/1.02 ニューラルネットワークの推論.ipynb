{
 "cells": [
  {
   "cell_type": "markdown",
   "id": "82248f55",
   "metadata": {
    "_cell_guid": "b1076dfc-b9ad-4769-8c92-a6c4dae69d19",
    "_uuid": "8f2839f25d086af736a60e9eeb907d3b93b6e0e5",
    "papermill": {
     "duration": 0.006857,
     "end_time": "2022-06-01T05:47:23.869932",
     "exception": false,
     "start_time": "2022-06-01T05:47:23.863075",
     "status": "completed"
    },
    "tags": []
   },
   "source": [
    "## 1.2　ニューラルネットワークの推論"
   ]
  },
  {
   "cell_type": "code",
   "execution_count": 1,
   "id": "57473a71",
   "metadata": {
    "execution": {
     "iopub.execute_input": "2022-06-01T05:47:23.879562Z",
     "iopub.status.busy": "2022-06-01T05:47:23.878873Z",
     "iopub.status.idle": "2022-06-01T05:47:23.887109Z",
     "shell.execute_reply": "2022-06-01T05:47:23.886364Z"
    },
    "papermill": {
     "duration": 0.01522,
     "end_time": "2022-06-01T05:47:23.889031",
     "exception": false,
     "start_time": "2022-06-01T05:47:23.873811",
     "status": "completed"
    },
    "tags": []
   },
   "outputs": [],
   "source": [
    "import numpy as np"
   ]
  },
  {
   "cell_type": "markdown",
   "id": "2f9857c1",
   "metadata": {
    "papermill": {
     "duration": 0.003341,
     "end_time": "2022-06-01T05:47:23.896217",
     "exception": false,
     "start_time": "2022-06-01T05:47:23.892876",
     "status": "completed"
    },
    "tags": []
   },
   "source": [
    "### 1.2.1　ニューラルネットワークの推論の全体図"
   ]
  },
  {
   "cell_type": "code",
   "execution_count": 2,
   "id": "4bbb45c6",
   "metadata": {
    "execution": {
     "iopub.execute_input": "2022-06-01T05:47:23.905107Z",
     "iopub.status.busy": "2022-06-01T05:47:23.904427Z",
     "iopub.status.idle": "2022-06-01T05:47:23.912827Z",
     "shell.execute_reply": "2022-06-01T05:47:23.912226Z"
    },
    "papermill": {
     "duration": 0.014886,
     "end_time": "2022-06-01T05:47:23.914665",
     "exception": false,
     "start_time": "2022-06-01T05:47:23.899779",
     "status": "completed"
    },
    "tags": []
   },
   "outputs": [
    {
     "name": "stdout",
     "output_type": "stream",
     "text": [
      "(10, 2)\n",
      "(2, 4)\n",
      "(4,)\n",
      "(10, 4)\n"
     ]
    }
   ],
   "source": [
    "x = np.random.randn(10, 2)\n",
    "W1 = np.random.randn(2, 4)\n",
    "b1 = np.random.randn(4)\n",
    "h = np.dot(x, W1) + b1\n",
    "\n",
    "print(x.shape)\n",
    "print(W1.shape)\n",
    "print(b1.shape)\n",
    "print(h.shape)"
   ]
  },
  {
   "cell_type": "markdown",
   "id": "96930250",
   "metadata": {
    "papermill": {
     "duration": 0.004112,
     "end_time": "2022-06-01T05:47:23.923225",
     "exception": false,
     "start_time": "2022-06-01T05:47:23.919113",
     "status": "completed"
    },
    "tags": []
   },
   "source": [
    "列の数から、入力層のニューロンは 2 つである。"
   ]
  },
  {
   "cell_type": "code",
   "execution_count": 3,
   "id": "6b78051e",
   "metadata": {
    "execution": {
     "iopub.execute_input": "2022-06-01T05:47:23.933047Z",
     "iopub.status.busy": "2022-06-01T05:47:23.932442Z",
     "iopub.status.idle": "2022-06-01T05:47:23.937600Z",
     "shell.execute_reply": "2022-06-01T05:47:23.936565Z"
    },
    "papermill": {
     "duration": 0.012271,
     "end_time": "2022-06-01T05:47:23.939579",
     "exception": false,
     "start_time": "2022-06-01T05:47:23.927308",
     "status": "completed"
    },
    "tags": []
   },
   "outputs": [
    {
     "name": "stdout",
     "output_type": "stream",
     "text": [
      "[[-0.34278603  2.28012724]\n",
      " [-0.89611176  0.71173564]\n",
      " [ 1.24746525  0.38753727]\n",
      " [-1.19367525  0.04417855]\n",
      " [-0.24864817 -1.60161635]\n",
      " [-0.27426691  0.51825811]\n",
      " [ 1.0687191  -0.70046468]\n",
      " [ 0.03144597  0.18922447]\n",
      " [-0.98389596 -0.74562886]\n",
      " [ 0.28830939 -0.45913095]]\n"
     ]
    }
   ],
   "source": [
    "print(x)"
   ]
  },
  {
   "cell_type": "markdown",
   "id": "1b658b1d",
   "metadata": {
    "execution": {
     "iopub.execute_input": "2022-05-31T06:41:54.787551Z",
     "iopub.status.busy": "2022-05-31T06:41:54.787114Z",
     "iopub.status.idle": "2022-05-31T06:41:54.793461Z",
     "shell.execute_reply": "2022-05-31T06:41:54.792272Z",
     "shell.execute_reply.started": "2022-05-31T06:41:54.787519Z"
    },
    "papermill": {
     "duration": 0.003796,
     "end_time": "2022-06-01T05:47:23.947988",
     "exception": false,
     "start_time": "2022-06-01T05:47:23.944192",
     "status": "completed"
    },
    "tags": []
   },
   "source": [
    "列の数から、出力層のニューロンは 4 つである。"
   ]
  },
  {
   "cell_type": "code",
   "execution_count": 4,
   "id": "c4a54036",
   "metadata": {
    "execution": {
     "iopub.execute_input": "2022-06-01T05:47:23.957458Z",
     "iopub.status.busy": "2022-06-01T05:47:23.956841Z",
     "iopub.status.idle": "2022-06-01T05:47:23.961811Z",
     "shell.execute_reply": "2022-06-01T05:47:23.960984Z"
    },
    "papermill": {
     "duration": 0.011809,
     "end_time": "2022-06-01T05:47:23.963612",
     "exception": false,
     "start_time": "2022-06-01T05:47:23.951803",
     "status": "completed"
    },
    "tags": []
   },
   "outputs": [
    {
     "name": "stdout",
     "output_type": "stream",
     "text": [
      "[[-3.54565671 -3.31929684  1.46254019 -1.74548241]\n",
      " [-1.35877473 -1.46173235  1.66535881 -2.15424779]\n",
      " [-0.7109874   0.89015962 -1.13215168  0.23071129]\n",
      " [-0.43334773 -0.72517427  1.829715   -2.39609405]\n",
      " [ 1.99372104  2.55375419  0.12398581 -1.1564651 ]\n",
      " [-1.02917478 -0.63112275  0.82255591 -1.44992859]\n",
      " [ 0.82384481  2.35751642 -1.24937251  0.17145889]\n",
      " [-0.53382223  0.12619234  0.33468684 -1.07437915]\n",
      " [ 0.71025915  0.63593832  1.31764688 -2.06776734]\n",
      " [ 0.41230706  1.31731502 -0.19212726 -0.71227023]]\n"
     ]
    }
   ],
   "source": [
    "print(h)"
   ]
  },
  {
   "cell_type": "code",
   "execution_count": 5,
   "id": "325b1796",
   "metadata": {
    "execution": {
     "iopub.execute_input": "2022-06-01T05:47:23.973392Z",
     "iopub.status.busy": "2022-06-01T05:47:23.972802Z",
     "iopub.status.idle": "2022-06-01T05:47:23.976456Z",
     "shell.execute_reply": "2022-06-01T05:47:23.975886Z"
    },
    "papermill": {
     "duration": 0.010397,
     "end_time": "2022-06-01T05:47:23.978190",
     "exception": false,
     "start_time": "2022-06-01T05:47:23.967793",
     "status": "completed"
    },
    "tags": []
   },
   "outputs": [],
   "source": [
    "def sigmoid(x):\n",
    "    return 1 / (1 + np.exp(-x))"
   ]
  },
  {
   "cell_type": "code",
   "execution_count": 6,
   "id": "e7cc78aa",
   "metadata": {
    "execution": {
     "iopub.execute_input": "2022-06-01T05:47:23.988796Z",
     "iopub.status.busy": "2022-06-01T05:47:23.987941Z",
     "iopub.status.idle": "2022-06-01T05:47:23.993900Z",
     "shell.execute_reply": "2022-06-01T05:47:23.992936Z"
    },
    "papermill": {
     "duration": 0.013103,
     "end_time": "2022-06-01T05:47:23.995778",
     "exception": false,
     "start_time": "2022-06-01T05:47:23.982675",
     "status": "completed"
    },
    "tags": []
   },
   "outputs": [
    {
     "name": "stdout",
     "output_type": "stream",
     "text": [
      "(10, 4)\n",
      "(4, 3)\n",
      "(10, 3)\n"
     ]
    }
   ],
   "source": [
    "W2 = np.random.randn(4, 3)\n",
    "b2 = np.random.randn(3)\n",
    "\n",
    "a = sigmoid(h)\n",
    "s = np.dot(a, W2)\n",
    "\n",
    "print(h.shape)\n",
    "print(W2.shape)\n",
    "print(s.shape)"
   ]
  },
  {
   "cell_type": "markdown",
   "id": "9ebdefa4",
   "metadata": {
    "papermill": {
     "duration": 0.00396,
     "end_time": "2022-06-01T05:47:24.003958",
     "exception": false,
     "start_time": "2022-06-01T05:47:23.999998",
     "status": "completed"
    },
    "tags": []
   },
   "source": [
    "### 1.2.2　レイヤとしてのクラス化と順伝播の実装"
   ]
  },
  {
   "cell_type": "code",
   "execution_count": 7,
   "id": "e273fc5e",
   "metadata": {
    "execution": {
     "iopub.execute_input": "2022-06-01T05:47:24.013683Z",
     "iopub.status.busy": "2022-06-01T05:47:24.013282Z",
     "iopub.status.idle": "2022-06-01T05:47:24.018360Z",
     "shell.execute_reply": "2022-06-01T05:47:24.017406Z"
    },
    "papermill": {
     "duration": 0.011945,
     "end_time": "2022-06-01T05:47:24.020191",
     "exception": false,
     "start_time": "2022-06-01T05:47:24.008246",
     "status": "completed"
    },
    "tags": []
   },
   "outputs": [],
   "source": [
    "class Sigmoid:\n",
    "    def __init__(self):\n",
    "        self.params = []\n",
    "        \n",
    "    def forward(self, x):\n",
    "        return 1 / (1 + np.exp(-x))"
   ]
  },
  {
   "cell_type": "code",
   "execution_count": 8,
   "id": "381ce720",
   "metadata": {
    "execution": {
     "iopub.execute_input": "2022-06-01T05:47:24.030820Z",
     "iopub.status.busy": "2022-06-01T05:47:24.029913Z",
     "iopub.status.idle": "2022-06-01T05:47:24.035184Z",
     "shell.execute_reply": "2022-06-01T05:47:24.034389Z"
    },
    "papermill": {
     "duration": 0.01213,
     "end_time": "2022-06-01T05:47:24.036805",
     "exception": false,
     "start_time": "2022-06-01T05:47:24.024675",
     "status": "completed"
    },
    "tags": []
   },
   "outputs": [],
   "source": [
    "class Affine:\n",
    "    def __init__(self, W, b):\n",
    "        self.params = [W, b]\n",
    "        \n",
    "    def forward(self, x):\n",
    "        W, b = self.params\n",
    "        out = np.dot(x, W) + b\n",
    "        return out"
   ]
  },
  {
   "cell_type": "code",
   "execution_count": 9,
   "id": "b82fb4db",
   "metadata": {
    "execution": {
     "iopub.execute_input": "2022-06-01T05:47:24.046619Z",
     "iopub.status.busy": "2022-06-01T05:47:24.045826Z",
     "iopub.status.idle": "2022-06-01T05:47:24.053191Z",
     "shell.execute_reply": "2022-06-01T05:47:24.052580Z"
    },
    "papermill": {
     "duration": 0.014175,
     "end_time": "2022-06-01T05:47:24.055100",
     "exception": false,
     "start_time": "2022-06-01T05:47:24.040925",
     "status": "completed"
    },
    "tags": []
   },
   "outputs": [],
   "source": [
    "class TwoLayerNet:\n",
    "    def __init__(self, input_size, hidden_size, output_size):\n",
    "        I, H, O = input_size, hidden_size, output_size\n",
    "        \n",
    "        W1 = np.random.randn(I, H)\n",
    "        b1 = np.random.randn(H)\n",
    "        W2 = np.random.randn(H, O)\n",
    "        b2 = np.random.randn(O)\n",
    "        \n",
    "        self.layers = [Affine(W1, b1), Sigmoid(), Affine(W2, b2)]\n",
    "        \n",
    "        self.params = []\n",
    "        for layer in self.layers:\n",
    "            self.params += self.params\n",
    "            \n",
    "    def predict(self, x):\n",
    "        for layer in self.layers:\n",
    "            x = layer.forward(x)\n",
    "        return x"
   ]
  },
  {
   "cell_type": "markdown",
   "id": "d219389a",
   "metadata": {
    "papermill": {
     "duration": 0.004229,
     "end_time": "2022-06-01T05:47:24.063966",
     "exception": false,
     "start_time": "2022-06-01T05:47:24.059737",
     "status": "completed"
    },
    "tags": []
   },
   "source": [
    "パラメータの連結は、以下のように行われている。"
   ]
  },
  {
   "cell_type": "code",
   "execution_count": 10,
   "id": "ca6c5bd5",
   "metadata": {
    "execution": {
     "iopub.execute_input": "2022-06-01T05:47:24.074536Z",
     "iopub.status.busy": "2022-06-01T05:47:24.073592Z",
     "iopub.status.idle": "2022-06-01T05:47:24.078509Z",
     "shell.execute_reply": "2022-06-01T05:47:24.077848Z"
    },
    "papermill": {
     "duration": 0.012361,
     "end_time": "2022-06-01T05:47:24.080436",
     "exception": false,
     "start_time": "2022-06-01T05:47:24.068075",
     "status": "completed"
    },
    "tags": []
   },
   "outputs": [
    {
     "name": "stdout",
     "output_type": "stream",
     "text": [
      "['A', 'B', 'C', 'D']\n"
     ]
    }
   ],
   "source": [
    "a = ['A', 'B']\n",
    "a += ['C', 'D']\n",
    "print(a)"
   ]
  },
  {
   "cell_type": "code",
   "execution_count": 11,
   "id": "7b0805f9",
   "metadata": {
    "execution": {
     "iopub.execute_input": "2022-06-01T05:47:24.090821Z",
     "iopub.status.busy": "2022-06-01T05:47:24.090099Z",
     "iopub.status.idle": "2022-06-01T05:47:24.097878Z",
     "shell.execute_reply": "2022-06-01T05:47:24.096968Z"
    },
    "papermill": {
     "duration": 0.015064,
     "end_time": "2022-06-01T05:47:24.099963",
     "exception": false,
     "start_time": "2022-06-01T05:47:24.084899",
     "status": "completed"
    },
    "tags": []
   },
   "outputs": [
    {
     "name": "stdout",
     "output_type": "stream",
     "text": [
      "(10, 3)\n",
      "[[ 0.39876298 -2.19994332  1.06283883]\n",
      " [ 1.2349216  -2.26753972  0.61380018]\n",
      " [ 0.16251957 -2.1208273   1.1947324 ]\n",
      " [-0.53848172 -1.71346105  1.53117926]\n",
      " [ 0.9252974  -2.25756055  0.73767117]\n",
      " [-0.93707981 -2.49610651  1.52814495]\n",
      " [-0.04504725 -2.17698135  1.27783218]\n",
      " [ 0.13226657 -2.19014753  1.19942071]\n",
      " [ 1.0752527  -2.14398621  0.70245096]\n",
      " [ 0.32878689 -2.32616895  1.06724481]]\n"
     ]
    }
   ],
   "source": [
    "x = np.random.randn(10, 2)\n",
    "model = TwoLayerNet(2, 4, 3)\n",
    "s = model.predict(x)\n",
    "\n",
    "print(s.shape)\n",
    "print(s)"
   ]
  },
  {
   "cell_type": "markdown",
   "id": "1a0f940d",
   "metadata": {
    "papermill": {
     "duration": 0.003996,
     "end_time": "2022-06-01T05:47:24.108311",
     "exception": false,
     "start_time": "2022-06-01T05:47:24.104315",
     "status": "completed"
    },
    "tags": []
   },
   "source": [
    "バッチの数（10）だけ、3 層のデータが出力されている。"
   ]
  }
 ],
 "metadata": {
  "kernelspec": {
   "display_name": "Python 3",
   "language": "python",
   "name": "python3"
  },
  "language_info": {
   "codemirror_mode": {
    "name": "ipython",
    "version": 3
   },
   "file_extension": ".py",
   "mimetype": "text/x-python",
   "name": "python",
   "nbconvert_exporter": "python",
   "pygments_lexer": "ipython3",
   "version": "3.7.12"
  },
  "papermill": {
   "default_parameters": {},
   "duration": 8.998974,
   "end_time": "2022-06-01T05:47:24.733328",
   "environment_variables": {},
   "exception": null,
   "input_path": "__notebook__.ipynb",
   "output_path": "__notebook__.ipynb",
   "parameters": {},
   "start_time": "2022-06-01T05:47:15.734354",
   "version": "2.3.4"
  }
 },
 "nbformat": 4,
 "nbformat_minor": 5
}
