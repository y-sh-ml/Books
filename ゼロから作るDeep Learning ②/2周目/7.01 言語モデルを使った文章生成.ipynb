{
 "cells": [
  {
   "cell_type": "markdown",
   "id": "5202324c",
   "metadata": {},
   "source": [
    "## 7.1　言語モデルを使った文章生成"
   ]
  },
  {
   "cell_type": "code",
   "execution_count": 1,
   "id": "6a1336d4",
   "metadata": {},
   "outputs": [],
   "source": [
    "import os\n",
    "import sys\n",
    "import pickle\n",
    "import numpy as np\n",
    "import matplotlib.pyplot as plt"
   ]
  },
  {
   "cell_type": "code",
   "execution_count": 2,
   "id": "aead1854",
   "metadata": {},
   "outputs": [],
   "source": [
    "os.chdir('/Users/yuta.shimizu/Downloads/ML/deep-learning-from-scratch-2-master/ch07')\n",
    "sys.path.append(os.pardir)"
   ]
  },
  {
   "cell_type": "code",
   "execution_count": 3,
   "id": "469a2e16",
   "metadata": {},
   "outputs": [],
   "source": [
    "from dataset import ptb\n",
    "from ch06.rnnlm import Rnnlm\n",
    "from common.functions import softmax\n",
    "from ch06.better_rnnlm import BetterRnnlm"
   ]
  },
  {
   "cell_type": "markdown",
   "id": "5779d925",
   "metadata": {},
   "source": [
    "### 7.1.2　文章生成の実装"
   ]
  },
  {
   "cell_type": "code",
   "execution_count": 4,
   "id": "cea02c19",
   "metadata": {},
   "outputs": [],
   "source": [
    "class RnnlmGen(Rnnlm):\n",
    "    def generate(self, start_id, skip_ids=None, sample_size=100):\n",
    "        word_ids = [start_id]\n",
    "        \n",
    "        x = start_id\n",
    "        while len(word_ids) < sample_size:\n",
    "            x = np.array(x).reshape(1, 1)\n",
    "            score = self.predict(x)\n",
    "            p = softmax(score.flatten())\n",
    "            \n",
    "            sampled = np.random.choice(len(p), size=1, p=p)\n",
    "            if (skip_ids is None) or (sampled not in skip_ids):\n",
    "                x = sampled\n",
    "                word_ids.append(int(x))\n",
    "        \n",
    "        return word_ids"
   ]
  },
  {
   "cell_type": "code",
   "execution_count": 5,
   "id": "51704384",
   "metadata": {},
   "outputs": [
    {
     "name": "stdout",
     "output_type": "stream",
     "text": [
      "10000\n",
      "929589\n"
     ]
    }
   ],
   "source": [
    "corpus, word_to_id, id_to_word = ptb.load_data('train')\n",
    "vocab_size = len(word_to_id)\n",
    "corpus_size = len(corpus)\n",
    "\n",
    "print(vocab_size)\n",
    "print(corpus_size)"
   ]
  },
  {
   "cell_type": "code",
   "execution_count": 6,
   "id": "a0e9bb8b",
   "metadata": {},
   "outputs": [
    {
     "name": "stdout",
     "output_type": "stream",
     "text": [
      "you yetnikoff thereby fujitsu measurements free mortgages kohlberg electricity battery unpopular friend compared stones discussing professional funds sustained nominal absurd embraced yet sizable microsystems dishonesty voters custom floors outspoken doubling explain who four-day forces conduct materials vacation brewer mo. developing watched austin eroded on-site alone entering dingell welcomed commuters will offered pediatric tennessee centers extreme o'brien nadeau espectador complaint impetus patterns highlight jacobs hell chairmen prescription assume suez lived buck co-chief mortgage fame hung song pipeline warren special-interest fights mo. car pay end hewlett-packard arbitration expelled returning grasp sanctions worth dale participating wind dismal rubbermaid proved honesty contingent determining benchmark\n"
     ]
    }
   ],
   "source": [
    "model = RnnlmGen()\n",
    "\n",
    "start_word = 'you'\n",
    "start_id = word_to_id[start_word]\n",
    "skip_words = ['N', '<unk>', '$']\n",
    "skip_ids = [word_to_id[w] for w in skip_words]\n",
    "\n",
    "word_ids = model.generate(start_id, skip_ids)\n",
    "txt = ' '.join([id_to_word[i] for i in word_ids])\n",
    "txt = txt.replace(' <eos>', '.\\n')\n",
    "print(txt)"
   ]
  },
  {
   "cell_type": "code",
   "execution_count": 7,
   "id": "229c0e80",
   "metadata": {},
   "outputs": [
    {
     "name": "stdout",
     "output_type": "stream",
     "text": [
      "you can take into the people.\n",
      " eventually in an issue has a few most attractive inflation and an interest rate following a dance toward the previous balance of all countries fearful from most.\n",
      " ford exporters their cities act.\n",
      " under five ships aimed at a recent moment payouts with current and other workers are most important likely double-digit petition for many years can streamline trade because it could charts a shown room and pipes is high for unusually their military.\n",
      " the business is mr. lawson.\n",
      " stocks on these interest rates in the western world is a\n"
     ]
    }
   ],
   "source": [
    "model = RnnlmGen()\n",
    "model.load_params('../ch06/Rnnlm.pkl')\n",
    "\n",
    "start_word = 'you'\n",
    "start_id = word_to_id[start_word]\n",
    "skip_words = ['N', '<unk>', '$']\n",
    "skip_ids = [word_to_id[w] for w in skip_words]\n",
    "\n",
    "word_ids = model.generate(start_id, skip_ids)\n",
    "txt = ' '.join([id_to_word[i] for i in word_ids])\n",
    "txt = txt.replace(' <eos>', '.\\n')\n",
    "print(txt)"
   ]
  },
  {
   "cell_type": "markdown",
   "id": "c2134de9",
   "metadata": {},
   "source": [
    "### 7.1.3　さらに良い文章へ"
   ]
  },
  {
   "cell_type": "code",
   "execution_count": 8,
   "id": "4ca01fe1",
   "metadata": {},
   "outputs": [],
   "source": [
    "class RnnlmGen(BetterRnnlm):\n",
    "    def generate(self, start_id, skip_ids=None, sample_size=100):\n",
    "        word_ids = [start_id]\n",
    "        \n",
    "        x = start_id\n",
    "        while len(word_ids) < sample_size:\n",
    "            x = np.array(x).reshape(1, 1)\n",
    "            score = self.predict(x)\n",
    "            p = softmax(score.flatten())\n",
    "            \n",
    "            sampled = np.random.choice(len(p), size=1, p=p)\n",
    "            if (skip_ids is None) or (sampled not in skip_ids):\n",
    "                x = sampled\n",
    "                word_ids.append(int(x))\n",
    "        \n",
    "        return word_ids"
   ]
  },
  {
   "cell_type": "code",
   "execution_count": 9,
   "id": "a0096e04",
   "metadata": {},
   "outputs": [
    {
     "name": "stdout",
     "output_type": "stream",
     "text": [
      "you cure how their or believed business careers but we see get their fierce will finding in minicomputers they do received these markets or widely in the maneuver official murdoch and holding she in saw corporate or the navigation exterior.\n",
      " he said west germany 's most president he has n't been a more independent shops mr. gorbachev or as years of neither any more.\n",
      " mr. sciences is to acquire a elements regulatory particularly might be only try to midler them the total.\n",
      " we 've had open off telephone profitable nuclear germany and interest results in blood recruited\n"
     ]
    }
   ],
   "source": [
    "model = RnnlmGen()\n",
    "model.load_params('../ch06/BetterRnnlm.pkl')\n",
    "\n",
    "start_word = 'you'\n",
    "start_id = word_to_id[start_word]\n",
    "skip_words = ['N', '<unk>', '$']\n",
    "skip_ids = [word_to_id[w] for w in skip_words]\n",
    "\n",
    "word_ids = model.generate(start_id, skip_ids)\n",
    "txt = ' '.join([id_to_word[i] for i in word_ids])\n",
    "txt = txt.replace(' <eos>', '.\\n')\n",
    "print(txt)"
   ]
  },
  {
   "cell_type": "code",
   "execution_count": 10,
   "id": "1ff90c61",
   "metadata": {},
   "outputs": [
    {
     "name": "stdout",
     "output_type": "stream",
     "text": [
      "the meaning of life is to report the streets on minor changing.\n",
      " mr. green said that this is particularly heard by his cynthia source notes including put up the panel purchases of california involved.\n",
      " a national egon home bank transferred an pays time released corp. only willing to pursue chemical investment should be throughout his launched or guerrilla at the time 's consistent.\n",
      " by you 're not soon rush to perception and materials at a stretched healthy a problem in most war.\n",
      " because guber david ca n't familiar he was particularly the indexes to creditor home congress and found by\n"
     ]
    }
   ],
   "source": [
    "start_words = 'the meaning of life is'\n",
    "start_ids = [word_to_id[w] for w in start_words.split(' ')]\n",
    "\n",
    "for x in start_ids[:-1]:\n",
    "    x = np.array(x).reshape(1, 1)\n",
    "    model.predict(x)\n",
    "    \n",
    "word_ids = model.generate(start_ids[-1], skip_ids)\n",
    "word_ids = start_ids[:-1] + word_ids\n",
    "txt = ' '.join([id_to_word[i] for i in word_ids])\n",
    "txt = txt.replace(' <eos>', '.\\n')\n",
    "print(txt)"
   ]
  }
 ],
 "metadata": {
  "kernelspec": {
   "display_name": "Python 3",
   "language": "python",
   "name": "python3"
  },
  "language_info": {
   "codemirror_mode": {
    "name": "ipython",
    "version": 3
   },
   "file_extension": ".py",
   "mimetype": "text/x-python",
   "name": "python",
   "nbconvert_exporter": "python",
   "pygments_lexer": "ipython3",
   "version": "3.8.8"
  }
 },
 "nbformat": 4,
 "nbformat_minor": 5
}
