{
 "cells": [
  {
   "cell_type": "markdown",
   "id": "3bee89a0",
   "metadata": {
    "_cell_guid": "b1076dfc-b9ad-4769-8c92-a6c4dae69d19",
    "_uuid": "8f2839f25d086af736a60e9eeb907d3b93b6e0e5",
    "papermill": {
     "duration": 0.012313,
     "end_time": "2022-06-03T02:55:53.914880",
     "exception": false,
     "start_time": "2022-06-03T02:55:53.902567",
     "status": "completed"
    },
    "tags": []
   },
   "source": [
    "## 1.4　ニューラルネットワークで問題を解く"
   ]
  },
  {
   "cell_type": "code",
   "execution_count": 1,
   "id": "c458d3af",
   "metadata": {
    "execution": {
     "iopub.execute_input": "2022-06-03T02:55:53.933534Z",
     "iopub.status.busy": "2022-06-03T02:55:53.932958Z",
     "iopub.status.idle": "2022-06-03T02:55:53.943058Z",
     "shell.execute_reply": "2022-06-03T02:55:53.942278Z"
    },
    "papermill": {
     "duration": 0.022246,
     "end_time": "2022-06-03T02:55:53.945453",
     "exception": false,
     "start_time": "2022-06-03T02:55:53.923207",
     "status": "completed"
    },
    "tags": []
   },
   "outputs": [],
   "source": [
    "import sys\n",
    "import numpy as np\n",
    "import matplotlib.pyplot as plt"
   ]
  },
  {
   "cell_type": "code",
   "execution_count": 2,
   "id": "65bc539c",
   "metadata": {
    "execution": {
     "iopub.execute_input": "2022-06-03T02:55:53.965136Z",
     "iopub.status.busy": "2022-06-03T02:55:53.964219Z",
     "iopub.status.idle": "2022-06-03T02:55:53.968840Z",
     "shell.execute_reply": "2022-06-03T02:55:53.968102Z"
    },
    "papermill": {
     "duration": 0.016277,
     "end_time": "2022-06-03T02:55:53.970763",
     "exception": false,
     "start_time": "2022-06-03T02:55:53.954486",
     "status": "completed"
    },
    "tags": []
   },
   "outputs": [],
   "source": [
    "sys.path.append('../input/deeplearningfromscratch2master/deep-learning-from-scratch-2-master')"
   ]
  },
  {
   "cell_type": "code",
   "execution_count": 3,
   "id": "dfd77506",
   "metadata": {
    "execution": {
     "iopub.execute_input": "2022-06-03T02:55:53.990498Z",
     "iopub.status.busy": "2022-06-03T02:55:53.989320Z",
     "iopub.status.idle": "2022-06-03T02:55:54.068560Z",
     "shell.execute_reply": "2022-06-03T02:55:54.067440Z"
    },
    "papermill": {
     "duration": 0.091832,
     "end_time": "2022-06-03T02:55:54.071154",
     "exception": false,
     "start_time": "2022-06-03T02:55:53.979322",
     "status": "completed"
    },
    "tags": []
   },
   "outputs": [],
   "source": [
    "from common.layers import Affine, Sigmoid, SoftmaxWithLoss\n",
    "from common.trainer import Trainer"
   ]
  },
  {
   "cell_type": "markdown",
   "id": "8d8ba89f",
   "metadata": {
    "papermill": {
     "duration": 0.008883,
     "end_time": "2022-06-03T02:55:54.089167",
     "exception": false,
     "start_time": "2022-06-03T02:55:54.080284",
     "status": "completed"
    },
    "tags": []
   },
   "source": [
    "### 1.4.2　ニューラルネットワークの実装"
   ]
  },
  {
   "cell_type": "code",
   "execution_count": 4,
   "id": "b1d1ab1e",
   "metadata": {
    "execution": {
     "iopub.execute_input": "2022-06-03T02:55:54.107750Z",
     "iopub.status.busy": "2022-06-03T02:55:54.107155Z",
     "iopub.status.idle": "2022-06-03T02:55:54.123720Z",
     "shell.execute_reply": "2022-06-03T02:55:54.122828Z"
    },
    "papermill": {
     "duration": 0.028411,
     "end_time": "2022-06-03T02:55:54.125949",
     "exception": false,
     "start_time": "2022-06-03T02:55:54.097538",
     "status": "completed"
    },
    "tags": []
   },
   "outputs": [],
   "source": [
    "class TwoLayerNet:\n",
    "    def __init__(self, input_size, hidden_size, output_size):\n",
    "        I, H, O = input_size, hidden_size, output_size\n",
    "        \n",
    "        W1 = 0.01 * np.random.randn(I, H)\n",
    "        b1 = np.zeros(H)\n",
    "        W2 = 0.01 * np.random.randn(H, O)\n",
    "        b2 = np.zeros(O)\n",
    "        \n",
    "        self.layers = [Affine(W1, b1), Sigmoid(), Affine(W2, b2)]\n",
    "        self.loss_layer = SoftmaxWithLoss()\n",
    "        \n",
    "        self.params, self.grads = [], []\n",
    "        for layer in self.layers:\n",
    "            self.params += layer.params\n",
    "            self.grads += layer.grads\n",
    "            \n",
    "        print('params:', len(self.params))\n",
    "        print('')\n",
    "        print('W1:', self.params[0].shape)\n",
    "        print(self.params[0])\n",
    "        print('')\n",
    "        print('b1:', self.params[1].shape)\n",
    "        print(self.params[1])\n",
    "        print('')\n",
    "        print('W2:', self.params[2].shape)\n",
    "        print(self.params[2])\n",
    "        print('')\n",
    "        print('b2:', self.params[3].shape)\n",
    "        print(self.params[3])\n",
    "            \n",
    "    def predict(self, x):\n",
    "        for layer in self.layers:\n",
    "            x = layer.forward(x)\n",
    "        return x\n",
    "    \n",
    "    def forward(self, x, t):\n",
    "        score = self.predict(x)\n",
    "        loss = self.loss_layer.forward(score, t)\n",
    "        return loss\n",
    "    \n",
    "    def backward(self, dout=1):\n",
    "        dout = self.loss_layer.backward(dout)\n",
    "        for layer in reversed(self.layers):\n",
    "            dout = layer.backward(dout)\n",
    "        return dout"
   ]
  },
  {
   "cell_type": "markdown",
   "id": "01d83319",
   "metadata": {
    "execution": {
     "iopub.execute_input": "2022-06-02T09:22:32.447681Z",
     "iopub.status.busy": "2022-06-02T09:22:32.447286Z",
     "iopub.status.idle": "2022-06-02T09:22:32.453873Z",
     "shell.execute_reply": "2022-06-02T09:22:32.452674Z",
     "shell.execute_reply.started": "2022-06-02T09:22:32.447651Z"
    },
    "papermill": {
     "duration": 0.008313,
     "end_time": "2022-06-03T02:55:54.143655",
     "exception": false,
     "start_time": "2022-06-03T02:55:54.135342",
     "status": "completed"
    },
    "tags": []
   },
   "source": [
    "逆伝播で更新した `Affine` レイヤの勾配が、3 点リーダーの深いコピーによって、`TwoLayerNet` の `self.grads` にも反映されるようになっている。<br>\n",
    "これは代入ではなく、上書きにのみ有効である。"
   ]
  },
  {
   "cell_type": "code",
   "execution_count": 5,
   "id": "88e9d47a",
   "metadata": {
    "execution": {
     "iopub.execute_input": "2022-06-03T02:55:54.162874Z",
     "iopub.status.busy": "2022-06-03T02:55:54.162327Z",
     "iopub.status.idle": "2022-06-03T02:55:54.171034Z",
     "shell.execute_reply": "2022-06-03T02:55:54.169753Z"
    },
    "papermill": {
     "duration": 0.021268,
     "end_time": "2022-06-03T02:55:54.173618",
     "exception": false,
     "start_time": "2022-06-03T02:55:54.152350",
     "status": "completed"
    },
    "tags": []
   },
   "outputs": [
    {
     "name": "stdout",
     "output_type": "stream",
     "text": [
      "[1 2 3]\n",
      "[1 2 3]\n"
     ]
    }
   ],
   "source": [
    "Affine_params = np.array([1, 2, 3])\n",
    "TwoLayerNet_params = Affine_params\n",
    "print(Affine_params)\n",
    "print(TwoLayerNet_params)"
   ]
  },
  {
   "cell_type": "code",
   "execution_count": 6,
   "id": "fe3586ab",
   "metadata": {
    "execution": {
     "iopub.execute_input": "2022-06-03T02:55:54.192713Z",
     "iopub.status.busy": "2022-06-03T02:55:54.192291Z",
     "iopub.status.idle": "2022-06-03T02:55:54.199280Z",
     "shell.execute_reply": "2022-06-03T02:55:54.197824Z"
    },
    "papermill": {
     "duration": 0.019298,
     "end_time": "2022-06-03T02:55:54.201573",
     "exception": false,
     "start_time": "2022-06-03T02:55:54.182275",
     "status": "completed"
    },
    "tags": []
   },
   "outputs": [
    {
     "name": "stdout",
     "output_type": "stream",
     "text": [
      "[4 5 6]\n",
      "[4 5 6]\n"
     ]
    }
   ],
   "source": [
    "Affine_params[...] = np.array([4, 5, 6])\n",
    "print(Affine_params)\n",
    "print(TwoLayerNet_params)"
   ]
  },
  {
   "cell_type": "markdown",
   "id": "41c475b1",
   "metadata": {
    "papermill": {
     "duration": 0.008155,
     "end_time": "2022-06-03T02:55:54.218197",
     "exception": false,
     "start_time": "2022-06-03T02:55:54.210042",
     "status": "completed"
    },
    "tags": []
   },
   "source": [
    "一方、浅いコピーだと以下のようになる。"
   ]
  },
  {
   "cell_type": "code",
   "execution_count": 7,
   "id": "619438d0",
   "metadata": {
    "execution": {
     "iopub.execute_input": "2022-06-03T02:55:54.238113Z",
     "iopub.status.busy": "2022-06-03T02:55:54.237270Z",
     "iopub.status.idle": "2022-06-03T02:55:54.245502Z",
     "shell.execute_reply": "2022-06-03T02:55:54.243860Z"
    },
    "papermill": {
     "duration": 0.021786,
     "end_time": "2022-06-03T02:55:54.248672",
     "exception": false,
     "start_time": "2022-06-03T02:55:54.226886",
     "status": "completed"
    },
    "tags": []
   },
   "outputs": [
    {
     "name": "stdout",
     "output_type": "stream",
     "text": [
      "[1 2 3]\n",
      "[1 2 3]\n"
     ]
    }
   ],
   "source": [
    "Affine_params = np.array([1, 2, 3])\n",
    "TwoLayerNet_params = Affine_params\n",
    "print(Affine_params)\n",
    "print(TwoLayerNet_params)"
   ]
  },
  {
   "cell_type": "code",
   "execution_count": 8,
   "id": "23bf504b",
   "metadata": {
    "execution": {
     "iopub.execute_input": "2022-06-03T02:55:54.269025Z",
     "iopub.status.busy": "2022-06-03T02:55:54.268544Z",
     "iopub.status.idle": "2022-06-03T02:55:54.275221Z",
     "shell.execute_reply": "2022-06-03T02:55:54.274124Z"
    },
    "papermill": {
     "duration": 0.020143,
     "end_time": "2022-06-03T02:55:54.278034",
     "exception": false,
     "start_time": "2022-06-03T02:55:54.257891",
     "status": "completed"
    },
    "tags": []
   },
   "outputs": [
    {
     "name": "stdout",
     "output_type": "stream",
     "text": [
      "[4 5 6]\n",
      "[1 2 3]\n"
     ]
    }
   ],
   "source": [
    "Affine_params = np.array([4, 5, 6])\n",
    "print(Affine_params)\n",
    "print(TwoLayerNet_params)"
   ]
  },
  {
   "cell_type": "markdown",
   "id": "c76e736b",
   "metadata": {
    "papermill": {
     "duration": 0.008322,
     "end_time": "2022-06-03T02:55:54.294865",
     "exception": false,
     "start_time": "2022-06-03T02:55:54.286543",
     "status": "completed"
    },
    "tags": []
   },
   "source": [
    "### 1.4.3　学習用のソースコード"
   ]
  },
  {
   "cell_type": "code",
   "execution_count": 9,
   "id": "8870825b",
   "metadata": {
    "execution": {
     "iopub.execute_input": "2022-06-03T02:55:54.314597Z",
     "iopub.status.busy": "2022-06-03T02:55:54.313488Z",
     "iopub.status.idle": "2022-06-03T02:55:54.326033Z",
     "shell.execute_reply": "2022-06-03T02:55:54.325143Z"
    },
    "papermill": {
     "duration": 0.025061,
     "end_time": "2022-06-03T02:55:54.328523",
     "exception": false,
     "start_time": "2022-06-03T02:55:54.303462",
     "status": "completed"
    },
    "tags": []
   },
   "outputs": [],
   "source": [
    "from common.optimizer import SGD"
   ]
  },
  {
   "cell_type": "code",
   "execution_count": 10,
   "id": "ed893a68",
   "metadata": {
    "execution": {
     "iopub.execute_input": "2022-06-03T02:55:54.348561Z",
     "iopub.status.busy": "2022-06-03T02:55:54.347243Z",
     "iopub.status.idle": "2022-06-03T02:55:54.353220Z",
     "shell.execute_reply": "2022-06-03T02:55:54.352256Z"
    },
    "papermill": {
     "duration": 0.01824,
     "end_time": "2022-06-03T02:55:54.355400",
     "exception": false,
     "start_time": "2022-06-03T02:55:54.337160",
     "status": "completed"
    },
    "tags": []
   },
   "outputs": [],
   "source": [
    "max_epoch = 300\n",
    "batch_size = 30\n",
    "hidden_size = 10\n",
    "learning_rate = 1.0"
   ]
  },
  {
   "cell_type": "code",
   "execution_count": 11,
   "id": "faec73e2",
   "metadata": {
    "execution": {
     "iopub.execute_input": "2022-06-03T02:55:54.376003Z",
     "iopub.status.busy": "2022-06-03T02:55:54.375306Z",
     "iopub.status.idle": "2022-06-03T02:55:54.403278Z",
     "shell.execute_reply": "2022-06-03T02:55:54.401592Z"
    },
    "papermill": {
     "duration": 0.042236,
     "end_time": "2022-06-03T02:55:54.406969",
     "exception": false,
     "start_time": "2022-06-03T02:55:54.364733",
     "status": "completed"
    },
    "tags": []
   },
   "outputs": [
    {
     "name": "stdout",
     "output_type": "stream",
     "text": [
      "(300, 2)\n",
      "(300, 3)\n"
     ]
    }
   ],
   "source": [
    "x = np.load('../input/spiral/spiral/x.npy')\n",
    "t = np.load('../input/spiral/spiral/t.npy')\n",
    "\n",
    "print(x.shape)\n",
    "print(t.shape)"
   ]
  },
  {
   "cell_type": "code",
   "execution_count": 12,
   "id": "1f5d9978",
   "metadata": {
    "execution": {
     "iopub.execute_input": "2022-06-03T02:55:54.428383Z",
     "iopub.status.busy": "2022-06-03T02:55:54.427882Z",
     "iopub.status.idle": "2022-06-03T02:55:54.436574Z",
     "shell.execute_reply": "2022-06-03T02:55:54.435306Z"
    },
    "papermill": {
     "duration": 0.023684,
     "end_time": "2022-06-03T02:55:54.439958",
     "exception": false,
     "start_time": "2022-06-03T02:55:54.416274",
     "status": "completed"
    },
    "tags": []
   },
   "outputs": [
    {
     "name": "stdout",
     "output_type": "stream",
     "text": [
      "params: 4\n",
      "\n",
      "W1: (2, 10)\n",
      "[[ 0.00285265 -0.00222643 -0.00193683 -0.0004817   0.00520584 -0.00095291\n",
      "  -0.02199708 -0.01210766  0.0081587   0.00585074]\n",
      " [ 0.00287996  0.00710612 -0.00794521  0.00288518  0.00683323  0.01270689\n",
      "  -0.01882802 -0.0079536  -0.0118656   0.00051922]]\n",
      "\n",
      "b1: (10,)\n",
      "[0. 0. 0. 0. 0. 0. 0. 0. 0. 0.]\n",
      "\n",
      "W2: (10, 3)\n",
      "[[-0.00619715  0.00171832 -0.01142656]\n",
      " [ 0.00783299 -0.00332768  0.01079768]\n",
      " [ 0.00076889  0.02074829  0.01572071]\n",
      " [-0.01369476  0.01565417 -0.01888715]\n",
      " [-0.00174597  0.00442373 -0.00722995]\n",
      " [ 0.00149084 -0.00167925 -0.00407555]\n",
      " [ 0.00018719  0.00092187  0.00096997]\n",
      " [ 0.01297504  0.0031038  -0.00479886]\n",
      " [ 0.0046911   0.00048367 -0.00835348]\n",
      " [-0.00244343 -0.02250715  0.02017338]]\n",
      "\n",
      "b2: (3,)\n",
      "[0. 0. 0.]\n"
     ]
    }
   ],
   "source": [
    "model = TwoLayerNet(input_size=2, hidden_size=hidden_size, output_size=3)\n",
    "optimizer = SGD(lr=learning_rate)"
   ]
  },
  {
   "cell_type": "code",
   "execution_count": 13,
   "id": "f6e7e75b",
   "metadata": {
    "execution": {
     "iopub.execute_input": "2022-06-03T02:55:54.460170Z",
     "iopub.status.busy": "2022-06-03T02:55:54.459752Z",
     "iopub.status.idle": "2022-06-03T02:55:54.466507Z",
     "shell.execute_reply": "2022-06-03T02:55:54.465619Z"
    },
    "papermill": {
     "duration": 0.019083,
     "end_time": "2022-06-03T02:55:54.469016",
     "exception": false,
     "start_time": "2022-06-03T02:55:54.449933",
     "status": "completed"
    },
    "tags": []
   },
   "outputs": [
    {
     "name": "stdout",
     "output_type": "stream",
     "text": [
      "data_size: 300\n",
      "batch_size: 30\n",
      "max_iters | epoch: 10\n"
     ]
    }
   ],
   "source": [
    "data_size = len(x)\n",
    "max_iters = data_size // batch_size\n",
    "total_loss = 0\n",
    "loss_count = 0\n",
    "loss_list = []\n",
    "\n",
    "print('data_size:', data_size)\n",
    "print('batch_size:', batch_size)\n",
    "print('max_iters | epoch:', max_iters)"
   ]
  },
  {
   "cell_type": "code",
   "execution_count": 14,
   "id": "4c324ef7",
   "metadata": {
    "execution": {
     "iopub.execute_input": "2022-06-03T02:55:54.489155Z",
     "iopub.status.busy": "2022-06-03T02:55:54.488042Z",
     "iopub.status.idle": "2022-06-03T02:55:54.492576Z",
     "shell.execute_reply": "2022-06-03T02:55:54.491939Z"
    },
    "papermill": {
     "duration": 0.016768,
     "end_time": "2022-06-03T02:55:54.494616",
     "exception": false,
     "start_time": "2022-06-03T02:55:54.477848",
     "status": "completed"
    },
    "tags": []
   },
   "outputs": [],
   "source": [
    "import pandas as pd"
   ]
  },
  {
   "cell_type": "code",
   "execution_count": 15,
   "id": "34105c45",
   "metadata": {
    "execution": {
     "iopub.execute_input": "2022-06-03T02:55:54.514416Z",
     "iopub.status.busy": "2022-06-03T02:55:54.513664Z",
     "iopub.status.idle": "2022-06-03T02:55:55.073934Z",
     "shell.execute_reply": "2022-06-03T02:55:55.072868Z"
    },
    "papermill": {
     "duration": 0.573252,
     "end_time": "2022-06-03T02:55:55.076627",
     "exception": false,
     "start_time": "2022-06-03T02:55:54.503375",
     "status": "completed"
    },
    "tags": []
   },
   "outputs": [
    {
     "name": "stdout",
     "output_type": "stream",
     "text": [
      "| epoch 1 | iter 10 / 10 | loss 1.14\n",
      "| epoch 2 | iter 10 / 10 | loss 1.14\n",
      "| epoch 3 | iter 10 / 10 | loss 1.13\n",
      "| epoch 4 | iter 10 / 10 | loss 1.12\n",
      "| epoch 5 | iter 10 / 10 | loss 1.16\n",
      "| epoch 6 | iter 10 / 10 | loss 1.14\n",
      "| epoch 7 | iter 10 / 10 | loss 1.13\n",
      "| epoch 8 | iter 10 / 10 | loss 1.12\n",
      "| epoch 9 | iter 10 / 10 | loss 1.11\n",
      "| epoch 10 | iter 10 / 10 | loss 1.12\n",
      "| epoch 11 | iter 10 / 10 | loss 1.10\n",
      "| epoch 12 | iter 10 / 10 | loss 1.09\n",
      "| epoch 13 | iter 10 / 10 | loss 1.04\n",
      "| epoch 14 | iter 10 / 10 | loss 1.01\n",
      "| epoch 15 | iter 10 / 10 | loss 0.98\n",
      "| epoch 16 | iter 10 / 10 | loss 0.94\n",
      "| epoch 17 | iter 10 / 10 | loss 0.92\n",
      "| epoch 18 | iter 10 / 10 | loss 0.89\n",
      "| epoch 19 | iter 10 / 10 | loss 0.86\n",
      "| epoch 20 | iter 10 / 10 | loss 0.89\n",
      "| epoch 21 | iter 10 / 10 | loss 0.82\n",
      "| epoch 22 | iter 10 / 10 | loss 0.84\n",
      "| epoch 23 | iter 10 / 10 | loss 0.79\n",
      "| epoch 24 | iter 10 / 10 | loss 0.80\n",
      "| epoch 25 | iter 10 / 10 | loss 0.78\n",
      "| epoch 26 | iter 10 / 10 | loss 0.78\n",
      "| epoch 27 | iter 10 / 10 | loss 0.77\n",
      "| epoch 28 | iter 10 / 10 | loss 0.79\n",
      "| epoch 29 | iter 10 / 10 | loss 0.76\n",
      "| epoch 30 | iter 10 / 10 | loss 0.81\n",
      "| epoch 31 | iter 10 / 10 | loss 0.76\n",
      "| epoch 32 | iter 10 / 10 | loss 0.77\n",
      "| epoch 33 | iter 10 / 10 | loss 0.78\n",
      "| epoch 34 | iter 10 / 10 | loss 0.77\n",
      "| epoch 35 | iter 10 / 10 | loss 0.76\n",
      "| epoch 36 | iter 10 / 10 | loss 0.76\n",
      "| epoch 37 | iter 10 / 10 | loss 0.75\n",
      "| epoch 38 | iter 10 / 10 | loss 0.76\n",
      "| epoch 39 | iter 10 / 10 | loss 0.77\n",
      "| epoch 40 | iter 10 / 10 | loss 0.76\n",
      "| epoch 41 | iter 10 / 10 | loss 0.76\n",
      "| epoch 42 | iter 10 / 10 | loss 0.75\n",
      "| epoch 43 | iter 10 / 10 | loss 0.74\n",
      "| epoch 44 | iter 10 / 10 | loss 0.75\n",
      "| epoch 45 | iter 10 / 10 | loss 0.76\n",
      "| epoch 46 | iter 10 / 10 | loss 0.76\n",
      "| epoch 47 | iter 10 / 10 | loss 0.77\n",
      "| epoch 48 | iter 10 / 10 | loss 0.76\n",
      "| epoch 49 | iter 10 / 10 | loss 0.74\n",
      "| epoch 50 | iter 10 / 10 | loss 0.75\n",
      "| epoch 51 | iter 10 / 10 | loss 0.73\n",
      "| epoch 52 | iter 10 / 10 | loss 0.74\n",
      "| epoch 53 | iter 10 / 10 | loss 0.74\n",
      "| epoch 54 | iter 10 / 10 | loss 0.74\n",
      "| epoch 55 | iter 10 / 10 | loss 0.73\n",
      "| epoch 56 | iter 10 / 10 | loss 0.73\n",
      "| epoch 57 | iter 10 / 10 | loss 0.74\n",
      "| epoch 58 | iter 10 / 10 | loss 0.74\n",
      "| epoch 59 | iter 10 / 10 | loss 0.74\n",
      "| epoch 60 | iter 10 / 10 | loss 0.73\n",
      "| epoch 61 | iter 10 / 10 | loss 0.72\n",
      "| epoch 62 | iter 10 / 10 | loss 0.71\n",
      "| epoch 63 | iter 10 / 10 | loss 0.71\n",
      "| epoch 64 | iter 10 / 10 | loss 0.71\n",
      "| epoch 65 | iter 10 / 10 | loss 0.71\n",
      "| epoch 66 | iter 10 / 10 | loss 0.69\n",
      "| epoch 67 | iter 10 / 10 | loss 0.71\n",
      "| epoch 68 | iter 10 / 10 | loss 0.71\n",
      "| epoch 69 | iter 10 / 10 | loss 0.70\n",
      "| epoch 70 | iter 10 / 10 | loss 0.68\n",
      "| epoch 71 | iter 10 / 10 | loss 0.69\n",
      "| epoch 72 | iter 10 / 10 | loss 0.67\n",
      "| epoch 73 | iter 10 / 10 | loss 0.67\n",
      "| epoch 74 | iter 10 / 10 | loss 0.66\n",
      "| epoch 75 | iter 10 / 10 | loss 0.66\n",
      "| epoch 76 | iter 10 / 10 | loss 0.66\n",
      "| epoch 77 | iter 10 / 10 | loss 0.64\n",
      "| epoch 78 | iter 10 / 10 | loss 0.62\n",
      "| epoch 79 | iter 10 / 10 | loss 0.64\n",
      "| epoch 80 | iter 10 / 10 | loss 0.63\n",
      "| epoch 81 | iter 10 / 10 | loss 0.61\n",
      "| epoch 82 | iter 10 / 10 | loss 0.60\n",
      "| epoch 83 | iter 10 / 10 | loss 0.60\n",
      "| epoch 84 | iter 10 / 10 | loss 0.60\n",
      "| epoch 85 | iter 10 / 10 | loss 0.58\n",
      "| epoch 86 | iter 10 / 10 | loss 0.55\n",
      "| epoch 87 | iter 10 / 10 | loss 0.57\n",
      "| epoch 88 | iter 10 / 10 | loss 0.54\n",
      "| epoch 89 | iter 10 / 10 | loss 0.55\n",
      "| epoch 90 | iter 10 / 10 | loss 0.53\n",
      "| epoch 91 | iter 10 / 10 | loss 0.51\n",
      "| epoch 92 | iter 10 / 10 | loss 0.51\n",
      "| epoch 93 | iter 10 / 10 | loss 0.51\n",
      "| epoch 94 | iter 10 / 10 | loss 0.48\n",
      "| epoch 95 | iter 10 / 10 | loss 0.49\n",
      "| epoch 96 | iter 10 / 10 | loss 0.47\n",
      "| epoch 97 | iter 10 / 10 | loss 0.46\n",
      "| epoch 98 | iter 10 / 10 | loss 0.45\n",
      "| epoch 99 | iter 10 / 10 | loss 0.45\n",
      "| epoch 100 | iter 10 / 10 | loss 0.44\n",
      "| epoch 101 | iter 10 / 10 | loss 0.44\n",
      "| epoch 102 | iter 10 / 10 | loss 0.43\n",
      "| epoch 103 | iter 10 / 10 | loss 0.42\n",
      "| epoch 104 | iter 10 / 10 | loss 0.40\n",
      "| epoch 105 | iter 10 / 10 | loss 0.40\n",
      "| epoch 106 | iter 10 / 10 | loss 0.39\n",
      "| epoch 107 | iter 10 / 10 | loss 0.38\n",
      "| epoch 108 | iter 10 / 10 | loss 0.38\n",
      "| epoch 109 | iter 10 / 10 | loss 0.36\n",
      "| epoch 110 | iter 10 / 10 | loss 0.36\n",
      "| epoch 111 | iter 10 / 10 | loss 0.35\n",
      "| epoch 112 | iter 10 / 10 | loss 0.35\n",
      "| epoch 113 | iter 10 / 10 | loss 0.34\n",
      "| epoch 114 | iter 10 / 10 | loss 0.33\n",
      "| epoch 115 | iter 10 / 10 | loss 0.33\n",
      "| epoch 116 | iter 10 / 10 | loss 0.34\n",
      "| epoch 117 | iter 10 / 10 | loss 0.33\n",
      "| epoch 118 | iter 10 / 10 | loss 0.32\n",
      "| epoch 119 | iter 10 / 10 | loss 0.31\n",
      "| epoch 120 | iter 10 / 10 | loss 0.30\n",
      "| epoch 121 | iter 10 / 10 | loss 0.30\n",
      "| epoch 122 | iter 10 / 10 | loss 0.30\n",
      "| epoch 123 | iter 10 / 10 | loss 0.29\n",
      "| epoch 124 | iter 10 / 10 | loss 0.29\n",
      "| epoch 125 | iter 10 / 10 | loss 0.29\n",
      "| epoch 126 | iter 10 / 10 | loss 0.28\n",
      "| epoch 127 | iter 10 / 10 | loss 0.27\n",
      "| epoch 128 | iter 10 / 10 | loss 0.28\n",
      "| epoch 129 | iter 10 / 10 | loss 0.27\n",
      "| epoch 130 | iter 10 / 10 | loss 0.27\n",
      "| epoch 131 | iter 10 / 10 | loss 0.27\n",
      "| epoch 132 | iter 10 / 10 | loss 0.26\n",
      "| epoch 133 | iter 10 / 10 | loss 0.26\n",
      "| epoch 134 | iter 10 / 10 | loss 0.26\n",
      "| epoch 135 | iter 10 / 10 | loss 0.26\n",
      "| epoch 136 | iter 10 / 10 | loss 0.25\n",
      "| epoch 137 | iter 10 / 10 | loss 0.25\n",
      "| epoch 138 | iter 10 / 10 | loss 0.24\n",
      "| epoch 139 | iter 10 / 10 | loss 0.25\n",
      "| epoch 140 | iter 10 / 10 | loss 0.24\n",
      "| epoch 141 | iter 10 / 10 | loss 0.24\n",
      "| epoch 142 | iter 10 / 10 | loss 0.24\n",
      "| epoch 143 | iter 10 / 10 | loss 0.23\n",
      "| epoch 144 | iter 10 / 10 | loss 0.23\n",
      "| epoch 145 | iter 10 / 10 | loss 0.23\n",
      "| epoch 146 | iter 10 / 10 | loss 0.24\n",
      "| epoch 147 | iter 10 / 10 | loss 0.23\n",
      "| epoch 148 | iter 10 / 10 | loss 0.22\n",
      "| epoch 149 | iter 10 / 10 | loss 0.22\n",
      "| epoch 150 | iter 10 / 10 | loss 0.22\n",
      "| epoch 151 | iter 10 / 10 | loss 0.21\n",
      "| epoch 152 | iter 10 / 10 | loss 0.21\n",
      "| epoch 153 | iter 10 / 10 | loss 0.21\n",
      "| epoch 154 | iter 10 / 10 | loss 0.22\n",
      "| epoch 155 | iter 10 / 10 | loss 0.21\n",
      "| epoch 156 | iter 10 / 10 | loss 0.21\n",
      "| epoch 157 | iter 10 / 10 | loss 0.21\n",
      "| epoch 158 | iter 10 / 10 | loss 0.20\n",
      "| epoch 159 | iter 10 / 10 | loss 0.20\n",
      "| epoch 160 | iter 10 / 10 | loss 0.20\n",
      "| epoch 161 | iter 10 / 10 | loss 0.20\n",
      "| epoch 162 | iter 10 / 10 | loss 0.20\n",
      "| epoch 163 | iter 10 / 10 | loss 0.20\n",
      "| epoch 164 | iter 10 / 10 | loss 0.20\n",
      "| epoch 165 | iter 10 / 10 | loss 0.20\n",
      "| epoch 166 | iter 10 / 10 | loss 0.19\n",
      "| epoch 167 | iter 10 / 10 | loss 0.19\n",
      "| epoch 168 | iter 10 / 10 | loss 0.19\n",
      "| epoch 169 | iter 10 / 10 | loss 0.19\n",
      "| epoch 170 | iter 10 / 10 | loss 0.19\n",
      "| epoch 171 | iter 10 / 10 | loss 0.19\n",
      "| epoch 172 | iter 10 / 10 | loss 0.18\n",
      "| epoch 173 | iter 10 / 10 | loss 0.18\n",
      "| epoch 174 | iter 10 / 10 | loss 0.19\n",
      "| epoch 175 | iter 10 / 10 | loss 0.18\n",
      "| epoch 176 | iter 10 / 10 | loss 0.18\n",
      "| epoch 177 | iter 10 / 10 | loss 0.18\n",
      "| epoch 178 | iter 10 / 10 | loss 0.18\n",
      "| epoch 179 | iter 10 / 10 | loss 0.18\n",
      "| epoch 180 | iter 10 / 10 | loss 0.18\n",
      "| epoch 181 | iter 10 / 10 | loss 0.18\n",
      "| epoch 182 | iter 10 / 10 | loss 0.18\n",
      "| epoch 183 | iter 10 / 10 | loss 0.18\n",
      "| epoch 184 | iter 10 / 10 | loss 0.18\n",
      "| epoch 185 | iter 10 / 10 | loss 0.17\n",
      "| epoch 186 | iter 10 / 10 | loss 0.17\n",
      "| epoch 187 | iter 10 / 10 | loss 0.18\n",
      "| epoch 188 | iter 10 / 10 | loss 0.17\n",
      "| epoch 189 | iter 10 / 10 | loss 0.17\n",
      "| epoch 190 | iter 10 / 10 | loss 0.17\n",
      "| epoch 191 | iter 10 / 10 | loss 0.17\n",
      "| epoch 192 | iter 10 / 10 | loss 0.18\n",
      "| epoch 193 | iter 10 / 10 | loss 0.16\n",
      "| epoch 194 | iter 10 / 10 | loss 0.17\n",
      "| epoch 195 | iter 10 / 10 | loss 0.17\n",
      "| epoch 196 | iter 10 / 10 | loss 0.16\n",
      "| epoch 197 | iter 10 / 10 | loss 0.16\n",
      "| epoch 198 | iter 10 / 10 | loss 0.16\n",
      "| epoch 199 | iter 10 / 10 | loss 0.17\n",
      "| epoch 200 | iter 10 / 10 | loss 0.16\n",
      "| epoch 201 | iter 10 / 10 | loss 0.16\n",
      "| epoch 202 | iter 10 / 10 | loss 0.16\n",
      "| epoch 203 | iter 10 / 10 | loss 0.16\n",
      "| epoch 204 | iter 10 / 10 | loss 0.16\n",
      "| epoch 205 | iter 10 / 10 | loss 0.15\n",
      "| epoch 206 | iter 10 / 10 | loss 0.16\n",
      "| epoch 207 | iter 10 / 10 | loss 0.16\n",
      "| epoch 208 | iter 10 / 10 | loss 0.15\n",
      "| epoch 209 | iter 10 / 10 | loss 0.15\n",
      "| epoch 210 | iter 10 / 10 | loss 0.15\n",
      "| epoch 211 | iter 10 / 10 | loss 0.15\n",
      "| epoch 212 | iter 10 / 10 | loss 0.16\n",
      "| epoch 213 | iter 10 / 10 | loss 0.15\n",
      "| epoch 214 | iter 10 / 10 | loss 0.15\n",
      "| epoch 215 | iter 10 / 10 | loss 0.15\n",
      "| epoch 216 | iter 10 / 10 | loss 0.14\n",
      "| epoch 217 | iter 10 / 10 | loss 0.15\n",
      "| epoch 218 | iter 10 / 10 | loss 0.15\n",
      "| epoch 219 | iter 10 / 10 | loss 0.15\n",
      "| epoch 220 | iter 10 / 10 | loss 0.14\n",
      "| epoch 221 | iter 10 / 10 | loss 0.15\n",
      "| epoch 222 | iter 10 / 10 | loss 0.15\n",
      "| epoch 223 | iter 10 / 10 | loss 0.14\n",
      "| epoch 224 | iter 10 / 10 | loss 0.14\n",
      "| epoch 225 | iter 10 / 10 | loss 0.14\n",
      "| epoch 226 | iter 10 / 10 | loss 0.14\n",
      "| epoch 227 | iter 10 / 10 | loss 0.14\n",
      "| epoch 228 | iter 10 / 10 | loss 0.14\n",
      "| epoch 229 | iter 10 / 10 | loss 0.14\n",
      "| epoch 230 | iter 10 / 10 | loss 0.14\n",
      "| epoch 231 | iter 10 / 10 | loss 0.14\n",
      "| epoch 232 | iter 10 / 10 | loss 0.14\n",
      "| epoch 233 | iter 10 / 10 | loss 0.15\n",
      "| epoch 234 | iter 10 / 10 | loss 0.14\n",
      "| epoch 235 | iter 10 / 10 | loss 0.14\n",
      "| epoch 236 | iter 10 / 10 | loss 0.14\n",
      "| epoch 237 | iter 10 / 10 | loss 0.14\n",
      "| epoch 238 | iter 10 / 10 | loss 0.14\n",
      "| epoch 239 | iter 10 / 10 | loss 0.13\n",
      "| epoch 240 | iter 10 / 10 | loss 0.14\n",
      "| epoch 241 | iter 10 / 10 | loss 0.14\n",
      "| epoch 242 | iter 10 / 10 | loss 0.13\n",
      "| epoch 243 | iter 10 / 10 | loss 0.13\n",
      "| epoch 244 | iter 10 / 10 | loss 0.13\n",
      "| epoch 245 | iter 10 / 10 | loss 0.13\n",
      "| epoch 246 | iter 10 / 10 | loss 0.13\n",
      "| epoch 247 | iter 10 / 10 | loss 0.14\n",
      "| epoch 248 | iter 10 / 10 | loss 0.13\n",
      "| epoch 249 | iter 10 / 10 | loss 0.14\n",
      "| epoch 250 | iter 10 / 10 | loss 0.13\n",
      "| epoch 251 | iter 10 / 10 | loss 0.13\n",
      "| epoch 252 | iter 10 / 10 | loss 0.13\n",
      "| epoch 253 | iter 10 / 10 | loss 0.14\n",
      "| epoch 254 | iter 10 / 10 | loss 0.13\n",
      "| epoch 255 | iter 10 / 10 | loss 0.13\n",
      "| epoch 256 | iter 10 / 10 | loss 0.13\n",
      "| epoch 257 | iter 10 / 10 | loss 0.13\n",
      "| epoch 258 | iter 10 / 10 | loss 0.13\n",
      "| epoch 259 | iter 10 / 10 | loss 0.13\n",
      "| epoch 260 | iter 10 / 10 | loss 0.13\n",
      "| epoch 261 | iter 10 / 10 | loss 0.12\n",
      "| epoch 262 | iter 10 / 10 | loss 0.13\n",
      "| epoch 263 | iter 10 / 10 | loss 0.12\n",
      "| epoch 264 | iter 10 / 10 | loss 0.13\n",
      "| epoch 265 | iter 10 / 10 | loss 0.13\n",
      "| epoch 266 | iter 10 / 10 | loss 0.12\n",
      "| epoch 267 | iter 10 / 10 | loss 0.13\n",
      "| epoch 268 | iter 10 / 10 | loss 0.13\n",
      "| epoch 269 | iter 10 / 10 | loss 0.13\n",
      "| epoch 270 | iter 10 / 10 | loss 0.12\n",
      "| epoch 271 | iter 10 / 10 | loss 0.12\n",
      "| epoch 272 | iter 10 / 10 | loss 0.12\n",
      "| epoch 273 | iter 10 / 10 | loss 0.13\n",
      "| epoch 274 | iter 10 / 10 | loss 0.13\n",
      "| epoch 275 | iter 10 / 10 | loss 0.12\n",
      "| epoch 276 | iter 10 / 10 | loss 0.12\n",
      "| epoch 277 | iter 10 / 10 | loss 0.12\n",
      "| epoch 278 | iter 10 / 10 | loss 0.12\n",
      "| epoch 279 | iter 10 / 10 | loss 0.12\n",
      "| epoch 280 | iter 10 / 10 | loss 0.12\n",
      "| epoch 281 | iter 10 / 10 | loss 0.12\n",
      "| epoch 282 | iter 10 / 10 | loss 0.12\n",
      "| epoch 283 | iter 10 / 10 | loss 0.12\n",
      "| epoch 284 | iter 10 / 10 | loss 0.12\n",
      "| epoch 285 | iter 10 / 10 | loss 0.12\n",
      "| epoch 286 | iter 10 / 10 | loss 0.12\n",
      "| epoch 287 | iter 10 / 10 | loss 0.11\n",
      "| epoch 288 | iter 10 / 10 | loss 0.11\n",
      "| epoch 289 | iter 10 / 10 | loss 0.11\n",
      "| epoch 290 | iter 10 / 10 | loss 0.12\n",
      "| epoch 291 | iter 10 / 10 | loss 0.11\n",
      "| epoch 292 | iter 10 / 10 | loss 0.12\n",
      "| epoch 293 | iter 10 / 10 | loss 0.11\n",
      "| epoch 294 | iter 10 / 10 | loss 0.11\n",
      "| epoch 295 | iter 10 / 10 | loss 0.11\n",
      "| epoch 296 | iter 10 / 10 | loss 0.11\n",
      "| epoch 297 | iter 10 / 10 | loss 0.12\n",
      "| epoch 298 | iter 10 / 10 | loss 0.11\n",
      "| epoch 299 | iter 10 / 10 | loss 0.11\n",
      "| epoch 300 | iter 10 / 10 | loss 0.12\n"
     ]
    }
   ],
   "source": [
    "for epoch in range(max_epoch):\n",
    "        idx = np.random.permutation(data_size)\n",
    "        x = x[idx]\n",
    "        t = t[idx]\n",
    "        \n",
    "        for iters in range(max_iters):\n",
    "            batch_x = x[iters*batch_size:(iters+1)*batch_size]\n",
    "            batch_t = t[iters*batch_size:(iters+1)*batch_size]\n",
    "            \n",
    "            loss = model.forward(batch_x, batch_t)\n",
    "            model.backward()\n",
    "            optimizer.update(model.params, model.grads)\n",
    "            \n",
    "            total_loss += loss\n",
    "            loss_count += 1\n",
    "            \n",
    "            if (iters+1) % 10 == 0:\n",
    "                avg_loss = total_loss / loss_count\n",
    "                print('| epoch %d | iter %d / %d | loss %.2f' % (epoch+1, iters+1, max_iters, avg_loss))\n",
    "                loss_list.append(avg_loss)\n",
    "                total_loss, loss_count = 0, 0"
   ]
  },
  {
   "cell_type": "markdown",
   "id": "ff61bbc1",
   "metadata": {
    "papermill": {
     "duration": 0.009741,
     "end_time": "2022-06-03T02:55:55.096956",
     "exception": false,
     "start_time": "2022-06-03T02:55:55.087215",
     "status": "completed"
    },
    "tags": []
   },
   "source": [
    "`np.random.permutaion()` は、$0$ から $N-1$ までのランダムな並びを作成して返す。"
   ]
  },
  {
   "cell_type": "code",
   "execution_count": 16,
   "id": "d063d29f",
   "metadata": {
    "execution": {
     "iopub.execute_input": "2022-06-03T02:55:55.119009Z",
     "iopub.status.busy": "2022-06-03T02:55:55.118529Z",
     "iopub.status.idle": "2022-06-03T02:55:55.125350Z",
     "shell.execute_reply": "2022-06-03T02:55:55.124005Z"
    },
    "papermill": {
     "duration": 0.020747,
     "end_time": "2022-06-03T02:55:55.127880",
     "exception": false,
     "start_time": "2022-06-03T02:55:55.107133",
     "status": "completed"
    },
    "tags": []
   },
   "outputs": [
    {
     "name": "stdout",
     "output_type": "stream",
     "text": [
      "[7 4 0 2 5 8 9 3 1 6]\n",
      "[9 2 0 4 3 1 6 5 8 7]\n"
     ]
    }
   ],
   "source": [
    "print(np.random.permutation(10))\n",
    "print(np.random.permutation(10))"
   ]
  },
  {
   "cell_type": "code",
   "execution_count": 17,
   "id": "a47d4299",
   "metadata": {
    "execution": {
     "iopub.execute_input": "2022-06-03T02:55:55.149058Z",
     "iopub.status.busy": "2022-06-03T02:55:55.148651Z",
     "iopub.status.idle": "2022-06-03T02:55:57.873316Z",
     "shell.execute_reply": "2022-06-03T02:55:57.872085Z"
    },
    "papermill": {
     "duration": 2.737927,
     "end_time": "2022-06-03T02:55:57.875586",
     "exception": false,
     "start_time": "2022-06-03T02:55:55.137659",
     "status": "completed"
    },
    "tags": []
   },
   "outputs": [
    {
     "data": {
      "image/png": "[encoded data removed]",
      "text/plain": [
       "<Figure size 432x288 with 1 Axes>"
      ]
     },
     "metadata": {
      "needs_background": "light"
     },
     "output_type": "display_data"
    },
    {
     "data": {
      "image/png": "[encoded data removed]",
      "text/plain": [
       "<Figure size 432x288 with 1 Axes>"
      ]
     },
     "metadata": {
      "needs_background": "light"
     },
     "output_type": "display_data"
    }
   ],
   "source": [
    "plt.plot(np.arange(len(loss_list)), loss_list, label='train')\n",
    "plt.xlabel('iterations (x10)')\n",
    "plt.ylabel('loss')\n",
    "plt.show()\n",
    "\n",
    "h = 0.001\n",
    "x_min, x_max = x[:, 0].min() - .1, x[:, 0].max() + .1\n",
    "y_min, y_max = x[:, 1].min() - .1, x[:, 1].max() + .1\n",
    "xx, yy = np.meshgrid(np.arange(x_min, x_max, h), np.arange(y_min, y_max, h))\n",
    "X = np.c_[xx.ravel(), yy.ravel()]\n",
    "score = model.predict(X)\n",
    "predict_cls = np.argmax(score, axis=1)\n",
    "Z = predict_cls.reshape(xx.shape)\n",
    "plt.contourf(xx, yy, Z)\n",
    "plt.axis('off')\n",
    "\n",
    "x = np.load('../input/spiral/spiral/x.npy')\n",
    "t = np.load('../input/spiral/spiral/t.npy')\n",
    "\n",
    "N = 100\n",
    "CLS_NUM = 3\n",
    "markers = ['o', 'x', '^']\n",
    "for i in range(CLS_NUM):\n",
    "    plt.scatter(x[i*N:(i+1)*N, 0], x[i*N:(i+1)*N, 1], s=40, marker=markers[i])\n",
    "plt.show()"
   ]
  },
  {
   "cell_type": "markdown",
   "id": "27aeefbd",
   "metadata": {
    "papermill": {
     "duration": 0.011896,
     "end_time": "2022-06-03T02:55:57.901126",
     "exception": false,
     "start_time": "2022-06-03T02:55:57.889230",
     "status": "completed"
    },
    "tags": []
   },
   "source": [
    "横軸は、`epoch`（10 `iters`）の表記になっている。"
   ]
  },
  {
   "cell_type": "markdown",
   "id": "a5ed3621",
   "metadata": {
    "papermill": {
     "duration": 0.01058,
     "end_time": "2022-06-03T02:55:57.922920",
     "exception": false,
     "start_time": "2022-06-03T02:55:57.912340",
     "status": "completed"
    },
    "tags": []
   },
   "source": [
    "### 1.4.4　Traner クラス"
   ]
  },
  {
   "cell_type": "markdown",
   "id": "0d3d7d64",
   "metadata": {
    "papermill": {
     "duration": 0.010155,
     "end_time": "2022-06-03T02:55:57.943529",
     "exception": false,
     "start_time": "2022-06-03T02:55:57.933374",
     "status": "completed"
    },
    "tags": []
   },
   "source": [
    "`model` と `optimizer` 作成後の学習過程を、`Trainer` クラスにまとめる。"
   ]
  },
  {
   "cell_type": "code",
   "execution_count": 18,
   "id": "fa0814a7",
   "metadata": {
    "execution": {
     "iopub.execute_input": "2022-06-03T02:55:57.967265Z",
     "iopub.status.busy": "2022-06-03T02:55:57.966361Z",
     "iopub.status.idle": "2022-06-03T02:55:57.972082Z",
     "shell.execute_reply": "2022-06-03T02:55:57.971103Z"
    },
    "papermill": {
     "duration": 0.020397,
     "end_time": "2022-06-03T02:55:57.974366",
     "exception": false,
     "start_time": "2022-06-03T02:55:57.953969",
     "status": "completed"
    },
    "tags": []
   },
   "outputs": [],
   "source": [
    "max_epoch = 300\n",
    "batch_size = 30\n",
    "hidden_size = 10\n",
    "learning_rate = 1.0"
   ]
  },
  {
   "cell_type": "code",
   "execution_count": 19,
   "id": "6f1cd19d",
   "metadata": {
    "execution": {
     "iopub.execute_input": "2022-06-03T02:55:57.999023Z",
     "iopub.status.busy": "2022-06-03T02:55:57.998184Z",
     "iopub.status.idle": "2022-06-03T02:55:58.006870Z",
     "shell.execute_reply": "2022-06-03T02:55:58.005327Z"
    },
    "papermill": {
     "duration": 0.023894,
     "end_time": "2022-06-03T02:55:58.009320",
     "exception": false,
     "start_time": "2022-06-03T02:55:57.985426",
     "status": "completed"
    },
    "tags": []
   },
   "outputs": [],
   "source": [
    "x = np.load('../input/spiral/spiral/x.npy')\n",
    "t = np.load('../input/spiral/spiral/t.npy')"
   ]
  },
  {
   "cell_type": "code",
   "execution_count": 20,
   "id": "2c17b5ab",
   "metadata": {
    "execution": {
     "iopub.execute_input": "2022-06-03T02:55:58.032795Z",
     "iopub.status.busy": "2022-06-03T02:55:58.031523Z",
     "iopub.status.idle": "2022-06-03T02:55:58.040507Z",
     "shell.execute_reply": "2022-06-03T02:55:58.039290Z"
    },
    "papermill": {
     "duration": 0.022838,
     "end_time": "2022-06-03T02:55:58.042715",
     "exception": false,
     "start_time": "2022-06-03T02:55:58.019877",
     "status": "completed"
    },
    "tags": []
   },
   "outputs": [
    {
     "name": "stdout",
     "output_type": "stream",
     "text": [
      "params: 4\n",
      "\n",
      "W1: (2, 10)\n",
      "[[-0.00242774 -0.00408483  0.0022554   0.01319797 -0.01001939 -0.00669639\n",
      "  -0.00347048 -0.01807619 -0.00279395  0.00619281]\n",
      " [-0.0101171   0.00432937 -0.02102669  0.00621348 -0.01123467  0.00884312\n",
      "   0.01129091 -0.01470659 -0.00418886  0.00616983]]\n",
      "\n",
      "b1: (10,)\n",
      "[0. 0. 0. 0. 0. 0. 0. 0. 0. 0.]\n",
      "\n",
      "W2: (10, 3)\n",
      "[[-5.20259022e-03  9.12837108e-03  1.86551405e-02]\n",
      " [-4.05165359e-03 -4.35196969e-03 -6.02077599e-03]\n",
      " [ 1.38696232e-02 -3.35273240e-03  1.27020173e-02]\n",
      " [ 1.67753996e-02  1.10411481e-03  1.12024543e-02]\n",
      " [ 1.35773543e-02  1.35713121e-03 -9.37360365e-03]\n",
      " [ 8.11593350e-03  1.49615808e-02  8.90164423e-03]\n",
      " [ 3.10815110e-03  9.86568050e-03 -8.73229002e-05]\n",
      " [ 1.09559693e-02  5.81913462e-03  9.29377709e-03]\n",
      " [ 4.04259661e-03 -4.30380573e-03 -3.61919874e-03]\n",
      " [ 1.69825842e-02 -8.87789753e-04 -4.15597110e-03]]\n",
      "\n",
      "b2: (3,)\n",
      "[0. 0. 0.]\n"
     ]
    }
   ],
   "source": [
    "model = TwoLayerNet(input_size=2, hidden_size=hidden_size, output_size=3)\n",
    "optimizer = SGD(lr=learning_rate)"
   ]
  },
  {
   "cell_type": "code",
   "execution_count": 21,
   "id": "aba89ddd",
   "metadata": {
    "execution": {
     "iopub.execute_input": "2022-06-03T02:55:58.065761Z",
     "iopub.status.busy": "2022-06-03T02:55:58.065309Z",
     "iopub.status.idle": "2022-06-03T02:55:58.770025Z",
     "shell.execute_reply": "2022-06-03T02:55:58.768785Z"
    },
    "papermill": {
     "duration": 0.719013,
     "end_time": "2022-06-03T02:55:58.772264",
     "exception": false,
     "start_time": "2022-06-03T02:55:58.053251",
     "status": "completed"
    },
    "tags": []
   },
   "outputs": [
    {
     "name": "stdout",
     "output_type": "stream",
     "text": [
      "| epoch 1 |  iter 1 / 10 | time 0[s] | loss 1.10\n",
      "| epoch 2 |  iter 1 / 10 | time 0[s] | loss 1.13\n",
      "| epoch 3 |  iter 1 / 10 | time 0[s] | loss 1.17\n",
      "| epoch 4 |  iter 1 / 10 | time 0[s] | loss 1.12\n",
      "| epoch 5 |  iter 1 / 10 | time 0[s] | loss 1.17\n",
      "| epoch 6 |  iter 1 / 10 | time 0[s] | loss 1.13\n",
      "| epoch 7 |  iter 1 / 10 | time 0[s] | loss 1.14\n",
      "| epoch 8 |  iter 1 / 10 | time 0[s] | loss 1.13\n",
      "| epoch 9 |  iter 1 / 10 | time 0[s] | loss 1.12\n",
      "| epoch 10 |  iter 1 / 10 | time 0[s] | loss 1.14\n",
      "| epoch 11 |  iter 1 / 10 | time 0[s] | loss 1.12\n",
      "| epoch 12 |  iter 1 / 10 | time 0[s] | loss 1.11\n",
      "| epoch 13 |  iter 1 / 10 | time 0[s] | loss 1.14\n",
      "| epoch 14 |  iter 1 / 10 | time 0[s] | loss 1.06\n",
      "| epoch 15 |  iter 1 / 10 | time 0[s] | loss 1.03\n",
      "| epoch 16 |  iter 1 / 10 | time 0[s] | loss 0.99\n",
      "| epoch 17 |  iter 1 / 10 | time 0[s] | loss 0.95\n",
      "| epoch 18 |  iter 1 / 10 | time 0[s] | loss 0.91\n",
      "| epoch 19 |  iter 1 / 10 | time 0[s] | loss 0.91\n",
      "| epoch 20 |  iter 1 / 10 | time 0[s] | loss 0.85\n",
      "| epoch 21 |  iter 1 / 10 | time 0[s] | loss 0.88\n",
      "| epoch 22 |  iter 1 / 10 | time 0[s] | loss 0.84\n",
      "| epoch 23 |  iter 1 / 10 | time 0[s] | loss 0.82\n",
      "| epoch 24 |  iter 1 / 10 | time 0[s] | loss 0.80\n",
      "| epoch 25 |  iter 1 / 10 | time 0[s] | loss 0.77\n",
      "| epoch 26 |  iter 1 / 10 | time 0[s] | loss 0.79\n",
      "| epoch 27 |  iter 1 / 10 | time 0[s] | loss 0.78\n",
      "| epoch 28 |  iter 1 / 10 | time 0[s] | loss 0.75\n",
      "| epoch 29 |  iter 1 / 10 | time 0[s] | loss 0.82\n",
      "| epoch 30 |  iter 1 / 10 | time 0[s] | loss 0.75\n",
      "| epoch 31 |  iter 1 / 10 | time 0[s] | loss 0.76\n",
      "| epoch 32 |  iter 1 / 10 | time 0[s] | loss 0.76\n",
      "| epoch 33 |  iter 1 / 10 | time 0[s] | loss 0.77\n",
      "| epoch 34 |  iter 1 / 10 | time 0[s] | loss 0.73\n",
      "| epoch 35 |  iter 1 / 10 | time 0[s] | loss 0.74\n",
      "| epoch 36 |  iter 1 / 10 | time 0[s] | loss 0.72\n",
      "| epoch 37 |  iter 1 / 10 | time 0[s] | loss 0.78\n",
      "| epoch 38 |  iter 1 / 10 | time 0[s] | loss 0.75\n",
      "| epoch 39 |  iter 1 / 10 | time 0[s] | loss 0.74\n",
      "| epoch 40 |  iter 1 / 10 | time 0[s] | loss 0.76\n",
      "| epoch 41 |  iter 1 / 10 | time 0[s] | loss 0.74\n",
      "| epoch 42 |  iter 1 / 10 | time 0[s] | loss 0.73\n",
      "| epoch 43 |  iter 1 / 10 | time 0[s] | loss 0.73\n",
      "| epoch 44 |  iter 1 / 10 | time 0[s] | loss 0.72\n",
      "| epoch 45 |  iter 1 / 10 | time 0[s] | loss 0.72\n",
      "| epoch 46 |  iter 1 / 10 | time 0[s] | loss 0.76\n",
      "| epoch 47 |  iter 1 / 10 | time 0[s] | loss 0.74\n",
      "| epoch 48 |  iter 1 / 10 | time 0[s] | loss 0.72\n",
      "| epoch 49 |  iter 1 / 10 | time 0[s] | loss 0.73\n",
      "| epoch 50 |  iter 1 / 10 | time 0[s] | loss 0.73\n",
      "| epoch 51 |  iter 1 / 10 | time 0[s] | loss 0.72\n",
      "| epoch 52 |  iter 1 / 10 | time 0[s] | loss 0.73\n",
      "| epoch 53 |  iter 1 / 10 | time 0[s] | loss 0.70\n",
      "| epoch 54 |  iter 1 / 10 | time 0[s] | loss 0.72\n",
      "| epoch 55 |  iter 1 / 10 | time 0[s] | loss 0.71\n",
      "| epoch 56 |  iter 1 / 10 | time 0[s] | loss 0.70\n",
      "| epoch 57 |  iter 1 / 10 | time 0[s] | loss 0.69\n",
      "| epoch 58 |  iter 1 / 10 | time 0[s] | loss 0.71\n",
      "| epoch 59 |  iter 1 / 10 | time 0[s] | loss 0.70\n",
      "| epoch 60 |  iter 1 / 10 | time 0[s] | loss 0.70\n",
      "| epoch 61 |  iter 1 / 10 | time 0[s] | loss 0.68\n",
      "| epoch 62 |  iter 1 / 10 | time 0[s] | loss 0.69\n",
      "| epoch 63 |  iter 1 / 10 | time 0[s] | loss 0.70\n",
      "| epoch 64 |  iter 1 / 10 | time 0[s] | loss 0.70\n",
      "| epoch 65 |  iter 1 / 10 | time 0[s] | loss 0.68\n",
      "| epoch 66 |  iter 1 / 10 | time 0[s] | loss 0.68\n",
      "| epoch 67 |  iter 1 / 10 | time 0[s] | loss 0.71\n",
      "| epoch 68 |  iter 1 / 10 | time 0[s] | loss 0.66\n",
      "| epoch 69 |  iter 1 / 10 | time 0[s] | loss 0.70\n",
      "| epoch 70 |  iter 1 / 10 | time 0[s] | loss 0.68\n",
      "| epoch 71 |  iter 1 / 10 | time 0[s] | loss 0.69\n",
      "| epoch 72 |  iter 1 / 10 | time 0[s] | loss 0.67\n",
      "| epoch 73 |  iter 1 / 10 | time 0[s] | loss 0.66\n",
      "| epoch 74 |  iter 1 / 10 | time 0[s] | loss 0.67\n",
      "| epoch 75 |  iter 1 / 10 | time 0[s] | loss 0.62\n",
      "| epoch 76 |  iter 1 / 10 | time 0[s] | loss 0.69\n",
      "| epoch 77 |  iter 1 / 10 | time 0[s] | loss 0.63\n",
      "| epoch 78 |  iter 1 / 10 | time 0[s] | loss 0.65\n",
      "| epoch 79 |  iter 1 / 10 | time 0[s] | loss 0.61\n",
      "| epoch 80 |  iter 1 / 10 | time 0[s] | loss 0.62\n",
      "| epoch 81 |  iter 1 / 10 | time 0[s] | loss 0.62\n",
      "| epoch 82 |  iter 1 / 10 | time 0[s] | loss 0.62\n",
      "| epoch 83 |  iter 1 / 10 | time 0[s] | loss 0.62\n",
      "| epoch 84 |  iter 1 / 10 | time 0[s] | loss 0.61\n",
      "| epoch 85 |  iter 1 / 10 | time 0[s] | loss 0.63\n",
      "| epoch 86 |  iter 1 / 10 | time 0[s] | loss 0.59\n",
      "| epoch 87 |  iter 1 / 10 | time 0[s] | loss 0.57\n",
      "| epoch 88 |  iter 1 / 10 | time 0[s] | loss 0.57\n",
      "| epoch 89 |  iter 1 / 10 | time 0[s] | loss 0.57\n",
      "| epoch 90 |  iter 1 / 10 | time 0[s] | loss 0.58\n",
      "| epoch 91 |  iter 1 / 10 | time 0[s] | loss 0.56\n",
      "| epoch 92 |  iter 1 / 10 | time 0[s] | loss 0.53\n",
      "| epoch 93 |  iter 1 / 10 | time 0[s] | loss 0.56\n",
      "| epoch 94 |  iter 1 / 10 | time 0[s] | loss 0.53\n",
      "| epoch 95 |  iter 1 / 10 | time 0[s] | loss 0.54\n",
      "| epoch 96 |  iter 1 / 10 | time 0[s] | loss 0.53\n",
      "| epoch 97 |  iter 1 / 10 | time 0[s] | loss 0.51\n",
      "| epoch 98 |  iter 1 / 10 | time 0[s] | loss 0.51\n",
      "| epoch 99 |  iter 1 / 10 | time 0[s] | loss 0.50\n",
      "| epoch 100 |  iter 1 / 10 | time 0[s] | loss 0.50\n",
      "| epoch 101 |  iter 1 / 10 | time 0[s] | loss 0.47\n",
      "| epoch 102 |  iter 1 / 10 | time 0[s] | loss 0.47\n",
      "| epoch 103 |  iter 1 / 10 | time 0[s] | loss 0.49\n",
      "| epoch 104 |  iter 1 / 10 | time 0[s] | loss 0.45\n",
      "| epoch 105 |  iter 1 / 10 | time 0[s] | loss 0.46\n",
      "| epoch 106 |  iter 1 / 10 | time 0[s] | loss 0.43\n",
      "| epoch 107 |  iter 1 / 10 | time 0[s] | loss 0.44\n",
      "| epoch 108 |  iter 1 / 10 | time 0[s] | loss 0.42\n",
      "| epoch 109 |  iter 1 / 10 | time 0[s] | loss 0.43\n",
      "| epoch 110 |  iter 1 / 10 | time 0[s] | loss 0.40\n",
      "| epoch 111 |  iter 1 / 10 | time 0[s] | loss 0.40\n",
      "| epoch 112 |  iter 1 / 10 | time 0[s] | loss 0.40\n",
      "| epoch 113 |  iter 1 / 10 | time 0[s] | loss 0.38\n",
      "| epoch 114 |  iter 1 / 10 | time 0[s] | loss 0.38\n",
      "| epoch 115 |  iter 1 / 10 | time 0[s] | loss 0.37\n",
      "| epoch 116 |  iter 1 / 10 | time 0[s] | loss 0.37\n",
      "| epoch 117 |  iter 1 / 10 | time 0[s] | loss 0.34\n",
      "| epoch 118 |  iter 1 / 10 | time 0[s] | loss 0.35\n",
      "| epoch 119 |  iter 1 / 10 | time 0[s] | loss 0.34\n",
      "| epoch 120 |  iter 1 / 10 | time 0[s] | loss 0.34\n",
      "| epoch 121 |  iter 1 / 10 | time 0[s] | loss 0.34\n",
      "| epoch 122 |  iter 1 / 10 | time 0[s] | loss 0.31\n",
      "| epoch 123 |  iter 1 / 10 | time 0[s] | loss 0.32\n",
      "| epoch 124 |  iter 1 / 10 | time 0[s] | loss 0.32\n",
      "| epoch 125 |  iter 1 / 10 | time 0[s] | loss 0.31\n",
      "| epoch 126 |  iter 1 / 10 | time 0[s] | loss 0.30\n",
      "| epoch 127 |  iter 1 / 10 | time 0[s] | loss 0.30\n",
      "| epoch 128 |  iter 1 / 10 | time 0[s] | loss 0.28\n",
      "| epoch 129 |  iter 1 / 10 | time 0[s] | loss 0.30\n",
      "| epoch 130 |  iter 1 / 10 | time 0[s] | loss 0.29\n",
      "| epoch 131 |  iter 1 / 10 | time 0[s] | loss 0.28\n",
      "| epoch 132 |  iter 1 / 10 | time 0[s] | loss 0.26\n",
      "| epoch 133 |  iter 1 / 10 | time 0[s] | loss 0.29\n",
      "| epoch 134 |  iter 1 / 10 | time 0[s] | loss 0.27\n",
      "| epoch 135 |  iter 1 / 10 | time 0[s] | loss 0.28\n",
      "| epoch 136 |  iter 1 / 10 | time 0[s] | loss 0.24\n",
      "| epoch 137 |  iter 1 / 10 | time 0[s] | loss 0.25\n",
      "| epoch 138 |  iter 1 / 10 | time 0[s] | loss 0.28\n",
      "| epoch 139 |  iter 1 / 10 | time 0[s] | loss 0.25\n",
      "| epoch 140 |  iter 1 / 10 | time 0[s] | loss 0.24\n",
      "| epoch 141 |  iter 1 / 10 | time 0[s] | loss 0.25\n",
      "| epoch 142 |  iter 1 / 10 | time 0[s] | loss 0.25\n",
      "| epoch 143 |  iter 1 / 10 | time 0[s] | loss 0.23\n",
      "| epoch 144 |  iter 1 / 10 | time 0[s] | loss 0.25\n",
      "| epoch 145 |  iter 1 / 10 | time 0[s] | loss 0.23\n",
      "| epoch 146 |  iter 1 / 10 | time 0[s] | loss 0.23\n",
      "| epoch 147 |  iter 1 / 10 | time 0[s] | loss 0.23\n",
      "| epoch 148 |  iter 1 / 10 | time 0[s] | loss 0.24\n",
      "| epoch 149 |  iter 1 / 10 | time 0[s] | loss 0.23\n",
      "| epoch 150 |  iter 1 / 10 | time 0[s] | loss 0.23\n",
      "| epoch 151 |  iter 1 / 10 | time 0[s] | loss 0.21\n",
      "| epoch 152 |  iter 1 / 10 | time 0[s] | loss 0.23\n",
      "| epoch 153 |  iter 1 / 10 | time 0[s] | loss 0.21\n",
      "| epoch 154 |  iter 1 / 10 | time 0[s] | loss 0.21\n",
      "| epoch 155 |  iter 1 / 10 | time 0[s] | loss 0.22\n",
      "| epoch 156 |  iter 1 / 10 | time 0[s] | loss 0.20\n",
      "| epoch 157 |  iter 1 / 10 | time 0[s] | loss 0.22\n",
      "| epoch 158 |  iter 1 / 10 | time 0[s] | loss 0.22\n",
      "| epoch 159 |  iter 1 / 10 | time 0[s] | loss 0.21\n",
      "| epoch 160 |  iter 1 / 10 | time 0[s] | loss 0.22\n",
      "| epoch 161 |  iter 1 / 10 | time 0[s] | loss 0.20\n",
      "| epoch 162 |  iter 1 / 10 | time 0[s] | loss 0.21\n",
      "| epoch 163 |  iter 1 / 10 | time 0[s] | loss 0.19\n",
      "| epoch 164 |  iter 1 / 10 | time 0[s] | loss 0.21\n",
      "| epoch 165 |  iter 1 / 10 | time 0[s] | loss 0.19\n",
      "| epoch 166 |  iter 1 / 10 | time 0[s] | loss 0.21\n",
      "| epoch 167 |  iter 1 / 10 | time 0[s] | loss 0.19\n",
      "| epoch 168 |  iter 1 / 10 | time 0[s] | loss 0.20\n",
      "| epoch 169 |  iter 1 / 10 | time 0[s] | loss 0.18\n",
      "| epoch 170 |  iter 1 / 10 | time 0[s] | loss 0.21\n",
      "| epoch 171 |  iter 1 / 10 | time 0[s] | loss 0.19\n",
      "| epoch 172 |  iter 1 / 10 | time 0[s] | loss 0.18\n",
      "| epoch 173 |  iter 1 / 10 | time 0[s] | loss 0.20\n",
      "| epoch 174 |  iter 1 / 10 | time 0[s] | loss 0.18\n",
      "| epoch 175 |  iter 1 / 10 | time 0[s] | loss 0.19\n",
      "| epoch 176 |  iter 1 / 10 | time 0[s] | loss 0.20\n",
      "| epoch 177 |  iter 1 / 10 | time 0[s] | loss 0.17\n",
      "| epoch 178 |  iter 1 / 10 | time 0[s] | loss 0.18\n",
      "| epoch 179 |  iter 1 / 10 | time 0[s] | loss 0.18\n",
      "| epoch 180 |  iter 1 / 10 | time 0[s] | loss 0.19\n",
      "| epoch 181 |  iter 1 / 10 | time 0[s] | loss 0.17\n",
      "| epoch 182 |  iter 1 / 10 | time 0[s] | loss 0.17\n",
      "| epoch 183 |  iter 1 / 10 | time 0[s] | loss 0.19\n",
      "| epoch 184 |  iter 1 / 10 | time 0[s] | loss 0.17\n",
      "| epoch 185 |  iter 1 / 10 | time 0[s] | loss 0.19\n",
      "| epoch 186 |  iter 1 / 10 | time 0[s] | loss 0.18\n",
      "| epoch 187 |  iter 1 / 10 | time 0[s] | loss 0.15\n",
      "| epoch 188 |  iter 1 / 10 | time 0[s] | loss 0.18\n",
      "| epoch 189 |  iter 1 / 10 | time 0[s] | loss 0.18\n",
      "| epoch 190 |  iter 1 / 10 | time 0[s] | loss 0.17\n",
      "| epoch 191 |  iter 1 / 10 | time 0[s] | loss 0.17\n",
      "| epoch 192 |  iter 1 / 10 | time 0[s] | loss 0.17\n",
      "| epoch 193 |  iter 1 / 10 | time 0[s] | loss 0.17\n",
      "| epoch 194 |  iter 1 / 10 | time 0[s] | loss 0.16\n",
      "| epoch 195 |  iter 1 / 10 | time 0[s] | loss 0.17\n",
      "| epoch 196 |  iter 1 / 10 | time 0[s] | loss 0.17\n",
      "| epoch 197 |  iter 1 / 10 | time 0[s] | loss 0.16\n",
      "| epoch 198 |  iter 1 / 10 | time 0[s] | loss 0.16\n",
      "| epoch 199 |  iter 1 / 10 | time 0[s] | loss 0.17\n",
      "| epoch 200 |  iter 1 / 10 | time 0[s] | loss 0.16\n",
      "| epoch 201 |  iter 1 / 10 | time 0[s] | loss 0.15\n",
      "| epoch 202 |  iter 1 / 10 | time 0[s] | loss 0.16\n",
      "| epoch 203 |  iter 1 / 10 | time 0[s] | loss 0.15\n",
      "| epoch 204 |  iter 1 / 10 | time 0[s] | loss 0.17\n",
      "| epoch 205 |  iter 1 / 10 | time 0[s] | loss 0.16\n",
      "| epoch 206 |  iter 1 / 10 | time 0[s] | loss 0.16\n",
      "| epoch 207 |  iter 1 / 10 | time 0[s] | loss 0.15\n",
      "| epoch 208 |  iter 1 / 10 | time 0[s] | loss 0.15\n",
      "| epoch 209 |  iter 1 / 10 | time 0[s] | loss 0.16\n",
      "| epoch 210 |  iter 1 / 10 | time 0[s] | loss 0.16\n",
      "| epoch 211 |  iter 1 / 10 | time 0[s] | loss 0.16\n",
      "| epoch 212 |  iter 1 / 10 | time 0[s] | loss 0.16\n",
      "| epoch 213 |  iter 1 / 10 | time 0[s] | loss 0.15\n",
      "| epoch 214 |  iter 1 / 10 | time 0[s] | loss 0.15\n",
      "| epoch 215 |  iter 1 / 10 | time 0[s] | loss 0.16\n",
      "| epoch 216 |  iter 1 / 10 | time 0[s] | loss 0.15\n",
      "| epoch 217 |  iter 1 / 10 | time 0[s] | loss 0.16\n",
      "| epoch 218 |  iter 1 / 10 | time 0[s] | loss 0.15\n",
      "| epoch 219 |  iter 1 / 10 | time 0[s] | loss 0.15\n",
      "| epoch 220 |  iter 1 / 10 | time 0[s] | loss 0.17\n",
      "| epoch 221 |  iter 1 / 10 | time 0[s] | loss 0.13\n",
      "| epoch 222 |  iter 1 / 10 | time 0[s] | loss 0.16\n",
      "| epoch 223 |  iter 1 / 10 | time 0[s] | loss 0.16\n",
      "| epoch 224 |  iter 1 / 10 | time 0[s] | loss 0.16\n",
      "| epoch 225 |  iter 1 / 10 | time 0[s] | loss 0.13\n",
      "| epoch 226 |  iter 1 / 10 | time 0[s] | loss 0.15\n",
      "| epoch 227 |  iter 1 / 10 | time 0[s] | loss 0.15\n",
      "| epoch 228 |  iter 1 / 10 | time 0[s] | loss 0.14\n",
      "| epoch 229 |  iter 1 / 10 | time 0[s] | loss 0.16\n",
      "| epoch 230 |  iter 1 / 10 | time 0[s] | loss 0.14\n",
      "| epoch 231 |  iter 1 / 10 | time 0[s] | loss 0.15\n",
      "| epoch 232 |  iter 1 / 10 | time 0[s] | loss 0.13\n",
      "| epoch 233 |  iter 1 / 10 | time 0[s] | loss 0.15\n",
      "| epoch 234 |  iter 1 / 10 | time 0[s] | loss 0.14\n",
      "| epoch 235 |  iter 1 / 10 | time 0[s] | loss 0.14\n",
      "| epoch 236 |  iter 1 / 10 | time 0[s] | loss 0.15\n",
      "| epoch 237 |  iter 1 / 10 | time 0[s] | loss 0.14\n",
      "| epoch 238 |  iter 1 / 10 | time 0[s] | loss 0.14\n",
      "| epoch 239 |  iter 1 / 10 | time 0[s] | loss 0.14\n",
      "| epoch 240 |  iter 1 / 10 | time 0[s] | loss 0.14\n",
      "| epoch 241 |  iter 1 / 10 | time 0[s] | loss 0.15\n",
      "| epoch 242 |  iter 1 / 10 | time 0[s] | loss 0.12\n",
      "| epoch 243 |  iter 1 / 10 | time 0[s] | loss 0.14\n",
      "| epoch 244 |  iter 1 / 10 | time 0[s] | loss 0.15\n",
      "| epoch 245 |  iter 1 / 10 | time 0[s] | loss 0.14\n",
      "| epoch 246 |  iter 1 / 10 | time 0[s] | loss 0.13\n",
      "| epoch 247 |  iter 1 / 10 | time 0[s] | loss 0.14\n",
      "| epoch 248 |  iter 1 / 10 | time 0[s] | loss 0.15\n",
      "| epoch 249 |  iter 1 / 10 | time 0[s] | loss 0.13\n",
      "| epoch 250 |  iter 1 / 10 | time 0[s] | loss 0.13\n",
      "| epoch 251 |  iter 1 / 10 | time 0[s] | loss 0.13\n",
      "| epoch 252 |  iter 1 / 10 | time 0[s] | loss 0.15\n",
      "| epoch 253 |  iter 1 / 10 | time 0[s] | loss 0.13\n",
      "| epoch 254 |  iter 1 / 10 | time 0[s] | loss 0.14\n",
      "| epoch 255 |  iter 1 / 10 | time 0[s] | loss 0.13\n",
      "| epoch 256 |  iter 1 / 10 | time 0[s] | loss 0.14\n",
      "| epoch 257 |  iter 1 / 10 | time 0[s] | loss 0.13\n",
      "| epoch 258 |  iter 1 / 10 | time 0[s] | loss 0.13\n",
      "| epoch 259 |  iter 1 / 10 | time 0[s] | loss 0.13\n",
      "| epoch 260 |  iter 1 / 10 | time 0[s] | loss 0.13\n",
      "| epoch 261 |  iter 1 / 10 | time 0[s] | loss 0.14\n",
      "| epoch 262 |  iter 1 / 10 | time 0[s] | loss 0.13\n",
      "| epoch 263 |  iter 1 / 10 | time 0[s] | loss 0.13\n",
      "| epoch 264 |  iter 1 / 10 | time 0[s] | loss 0.13\n",
      "| epoch 265 |  iter 1 / 10 | time 0[s] | loss 0.13\n",
      "| epoch 266 |  iter 1 / 10 | time 0[s] | loss 0.14\n",
      "| epoch 267 |  iter 1 / 10 | time 0[s] | loss 0.13\n",
      "| epoch 268 |  iter 1 / 10 | time 0[s] | loss 0.13\n",
      "| epoch 269 |  iter 1 / 10 | time 0[s] | loss 0.12\n",
      "| epoch 270 |  iter 1 / 10 | time 0[s] | loss 0.13\n",
      "| epoch 271 |  iter 1 / 10 | time 0[s] | loss 0.12\n",
      "| epoch 272 |  iter 1 / 10 | time 0[s] | loss 0.14\n",
      "| epoch 273 |  iter 1 / 10 | time 0[s] | loss 0.13\n",
      "| epoch 274 |  iter 1 / 10 | time 0[s] | loss 0.13\n",
      "| epoch 275 |  iter 1 / 10 | time 0[s] | loss 0.13\n",
      "| epoch 276 |  iter 1 / 10 | time 0[s] | loss 0.13\n",
      "| epoch 277 |  iter 1 / 10 | time 0[s] | loss 0.12\n",
      "| epoch 278 |  iter 1 / 10 | time 0[s] | loss 0.13\n",
      "| epoch 279 |  iter 1 / 10 | time 0[s] | loss 0.14\n",
      "| epoch 280 |  iter 1 / 10 | time 0[s] | loss 0.12\n",
      "| epoch 281 |  iter 1 / 10 | time 0[s] | loss 0.12\n",
      "| epoch 282 |  iter 1 / 10 | time 0[s] | loss 0.12\n",
      "| epoch 283 |  iter 1 / 10 | time 0[s] | loss 0.13\n",
      "| epoch 284 |  iter 1 / 10 | time 0[s] | loss 0.13\n",
      "| epoch 285 |  iter 1 / 10 | time 0[s] | loss 0.11\n",
      "| epoch 286 |  iter 1 / 10 | time 0[s] | loss 0.12\n",
      "| epoch 287 |  iter 1 / 10 | time 0[s] | loss 0.13\n",
      "| epoch 288 |  iter 1 / 10 | time 0[s] | loss 0.13\n",
      "| epoch 289 |  iter 1 / 10 | time 0[s] | loss 0.13\n",
      "| epoch 290 |  iter 1 / 10 | time 0[s] | loss 0.11\n",
      "| epoch 291 |  iter 1 / 10 | time 0[s] | loss 0.12\n",
      "| epoch 292 |  iter 1 / 10 | time 0[s] | loss 0.13\n",
      "| epoch 293 |  iter 1 / 10 | time 0[s] | loss 0.12\n",
      "| epoch 294 |  iter 1 / 10 | time 0[s] | loss 0.12\n",
      "| epoch 295 |  iter 1 / 10 | time 0[s] | loss 0.13\n",
      "| epoch 296 |  iter 1 / 10 | time 0[s] | loss 0.12\n",
      "| epoch 297 |  iter 1 / 10 | time 0[s] | loss 0.12\n",
      "| epoch 298 |  iter 1 / 10 | time 0[s] | loss 0.12\n",
      "| epoch 299 |  iter 1 / 10 | time 0[s] | loss 0.12\n",
      "| epoch 300 |  iter 1 / 10 | time 0[s] | loss 0.12\n"
     ]
    },
    {
     "data": {
      "image/png": "[encoded data removed]",
      "text/plain": [
       "<Figure size 432x288 with 1 Axes>"
      ]
     },
     "metadata": {
      "needs_background": "light"
     },
     "output_type": "display_data"
    }
   ],
   "source": [
    "trainer = Trainer(model, optimizer)\n",
    "trainer.fit(x, t, max_epoch, batch_size, eval_interval=10)\n",
    "trainer.plot()"
   ]
  }
 ],
 "metadata": {
  "kernelspec": {
   "display_name": "Python 3",
   "language": "python",
   "name": "python3"
  },
  "language_info": {
   "codemirror_mode": {
    "name": "ipython",
    "version": 3
   },
   "file_extension": ".py",
   "mimetype": "text/x-python",
   "name": "python",
   "nbconvert_exporter": "python",
   "pygments_lexer": "ipython3",
   "version": "3.7.12"
  },
  "papermill": {
   "default_parameters": {},
   "duration": 15.781612,
   "end_time": "2022-06-03T02:55:59.509078",
   "environment_variables": {},
   "exception": null,
   "input_path": "__notebook__.ipynb",
   "output_path": "__notebook__.ipynb",
   "parameters": {},
   "start_time": "2022-06-03T02:55:43.727466",
   "version": "2.3.4"
  }
 },
 "nbformat": 4,
 "nbformat_minor": 5
}
