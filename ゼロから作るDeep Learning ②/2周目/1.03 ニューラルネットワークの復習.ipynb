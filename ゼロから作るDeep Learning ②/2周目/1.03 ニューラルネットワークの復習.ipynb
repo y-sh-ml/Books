{
 "cells": [
  {
   "cell_type": "markdown",
   "id": "74b9a564",
   "metadata": {
    "_cell_guid": "b1076dfc-b9ad-4769-8c92-a6c4dae69d19",
    "_uuid": "8f2839f25d086af736a60e9eeb907d3b93b6e0e5",
    "papermill": {
     "duration": 0.005812,
     "end_time": "2022-06-01T09:16:02.135220",
     "exception": false,
     "start_time": "2022-06-01T09:16:02.129408",
     "status": "completed"
    },
    "tags": []
   },
   "source": [
    "## 1.3　ニューラルネットワークの学習"
   ]
  },
  {
   "cell_type": "code",
   "execution_count": 1,
   "id": "b3df6bd3",
   "metadata": {
    "execution": {
     "iopub.execute_input": "2022-06-01T09:16:02.149305Z",
     "iopub.status.busy": "2022-06-01T09:16:02.148629Z",
     "iopub.status.idle": "2022-06-01T09:16:02.158223Z",
     "shell.execute_reply": "2022-06-01T09:16:02.157530Z"
    },
    "papermill": {
     "duration": 0.017814,
     "end_time": "2022-06-01T09:16:02.160304",
     "exception": false,
     "start_time": "2022-06-01T09:16:02.142490",
     "status": "completed"
    },
    "tags": []
   },
   "outputs": [],
   "source": [
    "import numpy as np"
   ]
  },
  {
   "cell_type": "markdown",
   "id": "3be9b764",
   "metadata": {
    "papermill": {
     "duration": 0.004501,
     "end_time": "2022-06-01T09:16:02.169746",
     "exception": false,
     "start_time": "2022-06-01T09:16:02.165245",
     "status": "completed"
    },
    "tags": []
   },
   "source": [
    "### 1.3.4 計算グラフ"
   ]
  },
  {
   "cell_type": "markdown",
   "id": "00774ff8",
   "metadata": {
    "papermill": {
     "duration": 0.004482,
     "end_time": "2022-06-01T09:16:02.178977",
     "exception": false,
     "start_time": "2022-06-01T09:16:02.174495",
     "status": "completed"
    },
    "tags": []
   },
   "source": [
    "#### 1.3.4.3　Repeat ノード"
   ]
  },
  {
   "cell_type": "code",
   "execution_count": 2,
   "id": "0a8798b5",
   "metadata": {
    "execution": {
     "iopub.execute_input": "2022-06-01T09:16:02.190322Z",
     "iopub.status.busy": "2022-06-01T09:16:02.189733Z",
     "iopub.status.idle": "2022-06-01T09:16:02.196243Z",
     "shell.execute_reply": "2022-06-01T09:16:02.195603Z"
    },
    "papermill": {
     "duration": 0.014832,
     "end_time": "2022-06-01T09:16:02.198663",
     "exception": false,
     "start_time": "2022-06-01T09:16:02.183831",
     "status": "completed"
    },
    "tags": []
   },
   "outputs": [
    {
     "name": "stdout",
     "output_type": "stream",
     "text": [
      "(1, 8)\n",
      "(7, 8)\n",
      "(7, 8)\n",
      "(1, 8)\n"
     ]
    }
   ],
   "source": [
    "D, N = 8, 7\n",
    "x = np.random.randn(1, D)\n",
    "y = np.repeat(x, N, axis=0)\n",
    "\n",
    "print(x.shape)\n",
    "print(y.shape)\n",
    "\n",
    "dy = np.random.randn(N, D)\n",
    "dx = np.sum(dy, axis=0, keepdims=True)\n",
    "\n",
    "print(dy.shape)\n",
    "print(dx.shape)"
   ]
  },
  {
   "cell_type": "markdown",
   "id": "8d2fc895",
   "metadata": {
    "papermill": {
     "duration": 0.004556,
     "end_time": "2022-06-01T09:16:02.209122",
     "exception": false,
     "start_time": "2022-06-01T09:16:02.204566",
     "status": "completed"
    },
    "tags": []
   },
   "source": [
    "`dy` は `dout` と同じである。<br>\n",
    "`axis`では、どの軸方向に沿って複製や和を求めるかを指定する。"
   ]
  },
  {
   "cell_type": "markdown",
   "id": "869cdd99",
   "metadata": {
    "papermill": {
     "duration": 0.004563,
     "end_time": "2022-06-01T09:16:02.218468",
     "exception": false,
     "start_time": "2022-06-01T09:16:02.213905",
     "status": "completed"
    },
    "tags": []
   },
   "source": [
    "#### 1.3.4.4　Sum ノード"
   ]
  },
  {
   "cell_type": "code",
   "execution_count": 3,
   "id": "3cc7efc3",
   "metadata": {
    "execution": {
     "iopub.execute_input": "2022-06-01T09:16:02.230085Z",
     "iopub.status.busy": "2022-06-01T09:16:02.229451Z",
     "iopub.status.idle": "2022-06-01T09:16:02.237183Z",
     "shell.execute_reply": "2022-06-01T09:16:02.235603Z"
    },
    "papermill": {
     "duration": 0.015832,
     "end_time": "2022-06-01T09:16:02.239131",
     "exception": false,
     "start_time": "2022-06-01T09:16:02.223299",
     "status": "completed"
    },
    "tags": []
   },
   "outputs": [
    {
     "name": "stdout",
     "output_type": "stream",
     "text": [
      "(7, 8)\n",
      "(1, 8)\n",
      "(1, 8)\n",
      "(7, 8)\n"
     ]
    }
   ],
   "source": [
    "D, N = 8, 7\n",
    "x = np.random.randn(N, D)\n",
    "y = np.sum(x, axis=0, keepdims=True)\n",
    "\n",
    "print(x.shape)\n",
    "print(y.shape)\n",
    "\n",
    "dy = np.random.randn(1, D)\n",
    "dx = np.repeat(dy, N, axis=0)\n",
    "\n",
    "print(dy.shape)\n",
    "print(dx.shape)"
   ]
  },
  {
   "cell_type": "markdown",
   "id": "b5676669",
   "metadata": {
    "papermill": {
     "duration": 0.004565,
     "end_time": "2022-06-01T09:16:02.248674",
     "exception": false,
     "start_time": "2022-06-01T09:16:02.244109",
     "status": "completed"
    },
    "tags": []
   },
   "source": [
    "#### 1.3.4.5　MatMul ノード"
   ]
  },
  {
   "cell_type": "markdown",
   "id": "79308be8",
   "metadata": {
    "papermill": {
     "duration": 0.004499,
     "end_time": "2022-06-01T09:16:02.257939",
     "exception": false,
     "start_time": "2022-06-01T09:16:02.253440",
     "status": "completed"
    },
    "tags": []
   },
   "source": [
    "MatMul ノードは、行列の掛け算 `Matrix Multiply` の略である。"
   ]
  },
  {
   "cell_type": "code",
   "execution_count": 4,
   "id": "ff61176c",
   "metadata": {
    "execution": {
     "iopub.execute_input": "2022-06-01T09:16:02.269466Z",
     "iopub.status.busy": "2022-06-01T09:16:02.268826Z",
     "iopub.status.idle": "2022-06-01T09:16:02.275889Z",
     "shell.execute_reply": "2022-06-01T09:16:02.275122Z"
    },
    "papermill": {
     "duration": 0.015079,
     "end_time": "2022-06-01T09:16:02.277801",
     "exception": false,
     "start_time": "2022-06-01T09:16:02.262722",
     "status": "completed"
    },
    "tags": []
   },
   "outputs": [],
   "source": [
    "class MatMul:\n",
    "    def __init__(self, W):\n",
    "        self.params = [W]\n",
    "        self.grads = [np.zeros_like(W)]\n",
    "        self.x = None\n",
    "        \n",
    "    def forward(self, x):\n",
    "        W = self.params\n",
    "        out = np.dot(x, W)\n",
    "        self.x = x\n",
    "        return out\n",
    "    \n",
    "    def backward(self, dout):\n",
    "        W = self.params\n",
    "        dx = np.dot(dout, W.T)\n",
    "        dw = np.dot(self.x.T, dout)\n",
    "        self.grads[0][...] = dW\n",
    "        return dx"
   ]
  },
  {
   "cell_type": "markdown",
   "id": "3b8dfab0",
   "metadata": {
    "papermill": {
     "duration": 0.004795,
     "end_time": "2022-06-01T09:16:02.287687",
     "exception": false,
     "start_time": "2022-06-01T09:16:02.282892",
     "status": "completed"
    },
    "tags": []
   },
   "source": [
    "### 1.3.5　勾配の導出と逆伝播の実装"
   ]
  },
  {
   "cell_type": "markdown",
   "id": "fa284a7e",
   "metadata": {
    "papermill": {
     "duration": 0.004731,
     "end_time": "2022-06-01T09:16:02.297434",
     "exception": false,
     "start_time": "2022-06-01T09:16:02.292703",
     "status": "completed"
    },
    "tags": []
   },
   "source": [
    "#### 1.3.5.1　Sigmoid レイヤ"
   ]
  },
  {
   "cell_type": "code",
   "execution_count": 5,
   "id": "40425e97",
   "metadata": {
    "execution": {
     "iopub.execute_input": "2022-06-01T09:16:02.309442Z",
     "iopub.status.busy": "2022-06-01T09:16:02.308726Z",
     "iopub.status.idle": "2022-06-01T09:16:02.316109Z",
     "shell.execute_reply": "2022-06-01T09:16:02.315358Z"
    },
    "papermill": {
     "duration": 0.015715,
     "end_time": "2022-06-01T09:16:02.318242",
     "exception": false,
     "start_time": "2022-06-01T09:16:02.302527",
     "status": "completed"
    },
    "tags": []
   },
   "outputs": [],
   "source": [
    "class Sigmoid:\n",
    "    def __init__(self):\n",
    "        self.params, self.grads = [], []\n",
    "        self.out = None\n",
    "        \n",
    "    def forward(self, x):\n",
    "        out = 1 / (1 + np.exp(-x))\n",
    "        self.out = out\n",
    "        return out\n",
    "    \n",
    "    def backward(self, dout):\n",
    "        dx = dout * (1.0 - self.out) * self.out\n",
    "        return dx"
   ]
  },
  {
   "cell_type": "markdown",
   "id": "1ea47e6e",
   "metadata": {
    "papermill": {
     "duration": 0.004655,
     "end_time": "2022-06-01T09:16:02.327953",
     "exception": false,
     "start_time": "2022-06-01T09:16:02.323298",
     "status": "completed"
    },
    "tags": []
   },
   "source": [
    "#### 1.3.5.2　Affine レイヤ"
   ]
  },
  {
   "cell_type": "code",
   "execution_count": 6,
   "id": "e3a45ef6",
   "metadata": {
    "execution": {
     "iopub.execute_input": "2022-06-01T09:16:02.339856Z",
     "iopub.status.busy": "2022-06-01T09:16:02.339229Z",
     "iopub.status.idle": "2022-06-01T09:16:02.348122Z",
     "shell.execute_reply": "2022-06-01T09:16:02.347378Z"
    },
    "papermill": {
     "duration": 0.01737,
     "end_time": "2022-06-01T09:16:02.350216",
     "exception": false,
     "start_time": "2022-06-01T09:16:02.332846",
     "status": "completed"
    },
    "tags": []
   },
   "outputs": [],
   "source": [
    "class Affine:\n",
    "    def __init__(self, W, b):\n",
    "        self.params = [W, b]\n",
    "        self.grads = [np.zeros_like(W), np.zeros_like(b)]\n",
    "        self.x = None\n",
    "    \n",
    "    def forward(self, x):\n",
    "        W, b = self.params\n",
    "        out - np.dot(x, W) + b\n",
    "        self.x = x\n",
    "        return out\n",
    "    \n",
    "    def backward(self, dout):\n",
    "        W, b = self.params\n",
    "        dx = np.dot(dout, W.T)\n",
    "        dW = np.dot(self.x.T, dout)\n",
    "        db = np.sum(dout, axis=0)\n",
    "        \n",
    "        self.grads[0][...] = dw\n",
    "        self.grads[1][...] = db\n",
    "        \n",
    "        return dx"
   ]
  },
  {
   "cell_type": "markdown",
   "id": "d4c2ec25",
   "metadata": {
    "papermill": {
     "duration": 0.00475,
     "end_time": "2022-06-01T09:16:02.359891",
     "exception": false,
     "start_time": "2022-06-01T09:16:02.355141",
     "status": "completed"
    },
    "tags": []
   },
   "source": [
    "### 1.3.6　重みの更新"
   ]
  },
  {
   "cell_type": "code",
   "execution_count": 7,
   "id": "f95e292c",
   "metadata": {
    "execution": {
     "iopub.execute_input": "2022-06-01T09:16:02.371222Z",
     "iopub.status.busy": "2022-06-01T09:16:02.370795Z",
     "iopub.status.idle": "2022-06-01T09:16:02.376704Z",
     "shell.execute_reply": "2022-06-01T09:16:02.375574Z"
    },
    "papermill": {
     "duration": 0.013937,
     "end_time": "2022-06-01T09:16:02.378723",
     "exception": false,
     "start_time": "2022-06-01T09:16:02.364786",
     "status": "completed"
    },
    "tags": []
   },
   "outputs": [],
   "source": [
    "class SGD:\n",
    "    def __init__(self, lr=0.01):\n",
    "        self.lr = lr\n",
    "        \n",
    "    def update(self, params, grads):\n",
    "        for i in range(len(params)):\n",
    "            params[i] -= self.lr *grads[i]"
   ]
  }
 ],
 "metadata": {
  "kernelspec": {
   "display_name": "Python 3",
   "language": "python",
   "name": "python3"
  },
  "language_info": {
   "codemirror_mode": {
    "name": "ipython",
    "version": 3
   },
   "file_extension": ".py",
   "mimetype": "text/x-python",
   "name": "python",
   "nbconvert_exporter": "python",
   "pygments_lexer": "ipython3",
   "version": "3.7.12"
  },
  "papermill": {
   "default_parameters": {},
   "duration": 10.882179,
   "end_time": "2022-06-01T09:16:03.003212",
   "environment_variables": {},
   "exception": null,
   "input_path": "__notebook__.ipynb",
   "output_path": "__notebook__.ipynb",
   "parameters": {},
   "start_time": "2022-06-01T09:15:52.121033",
   "version": "2.3.4"
  }
 },
 "nbformat": 4,
 "nbformat_minor": 5
}
