{
 "cells": [
  {
   "cell_type": "markdown",
   "id": "5202324c",
   "metadata": {},
   "source": [
    "## 5.5　RNNLM の学習と評価"
   ]
  },
  {
   "cell_type": "code",
   "execution_count": 1,
   "id": "6a1336d4",
   "metadata": {},
   "outputs": [],
   "source": [
    "import os\n",
    "import sys\n",
    "import numpy as np\n",
    "import matplotlib.pyplot as plt"
   ]
  },
  {
   "cell_type": "code",
   "execution_count": 2,
   "id": "aead1854",
   "metadata": {},
   "outputs": [],
   "source": [
    "os.chdir('/Users/yuta.shimizu/Downloads/ML/deep-learning-from-scratch-2-master/ch05')\n",
    "sys.path.append(os.pardir)"
   ]
  },
  {
   "cell_type": "code",
   "execution_count": 3,
   "id": "84944468",
   "metadata": {},
   "outputs": [],
   "source": [
    "from dataset import ptb\n",
    "from common.time_layers import *\n",
    "from common.optimizer import SGD\n",
    "from simple_rnnlm import SimpleRnnlm\n",
    "from common.trainer import RnnlmTrainer"
   ]
  },
  {
   "cell_type": "markdown",
   "id": "20c1dd2a",
   "metadata": {},
   "source": [
    "### 5.5.1　RNNLM の実装"
   ]
  },
  {
   "cell_type": "code",
   "execution_count": 4,
   "id": "94ae9c35",
   "metadata": {},
   "outputs": [],
   "source": [
    "class SimpleRnnlm:\n",
    "    def __init__(self, vocab_size, wordvec_size, hidden_size):\n",
    "        V, D, H = vocab_size, wordvec_size, hidden_size\n",
    "        rn = np.random.randn\n",
    "        \n",
    "        embed_W = (rn(V, D) / 100).astype('f')\n",
    "        rnn_Wx = (rn(D, H) / np.sqrt(D)).astype('f')\n",
    "        rnn_Wh = (rn(H, H) / np.sqrt(H)).astype('f')\n",
    "        rnn_b = np.zeros(H).astype('f')\n",
    "        affine_W = (rn(H, V) / np.sqrt(H)).astype('f')\n",
    "        affine_b = np.zeros(V).astype('f')\n",
    "        \n",
    "        self.layers = [\n",
    "            TimeEmbedding(embed_W),\n",
    "            TimeRNN(rnn_Wx, rnn_Wh, rnn_b, stateful=True),\n",
    "            TimeAffine(affine_W, affine_b)\n",
    "        ]\n",
    "        self.loss_layer = TimeSoftmaxWithLoss()\n",
    "        self.rnn_layer = self.layers[1]\n",
    "        \n",
    "        self.params, self.grads = [], []\n",
    "        for layer in self.layers:\n",
    "            self.params += layer.params\n",
    "            self.grads += layer.grads\n",
    "            \n",
    "    def forward(self, xs, ts):\n",
    "        for layer in self.layers:\n",
    "            xs = layer.forward(xs)\n",
    "        loss = self.loss_layer.forward(xs, ts)\n",
    "        return loss\n",
    "    \n",
    "    def backward(self, dout=1):\n",
    "        dout = self.loss_layer.backward(dout)\n",
    "        for layer in reversed(self.layers):\n",
    "            dout = layer.backward(dout)\n",
    "        return dout\n",
    "    \n",
    "    def reset_state(self):\n",
    "        self.rnn_layer.reset_state()"
   ]
  },
  {
   "cell_type": "markdown",
   "id": "333c5edb",
   "metadata": {},
   "source": [
    "`wordvec_size` は RNN レイヤにおける入力ベクトルの次元数 `D` である。<br>\n",
    "`Wx` と `Wh` の形状は、P.197 を参照する。<br>\n",
    "Time Embedding レイヤでは、`Xs` は $ N \\times T$、`embed_W` は $ V \\times D $ であり、必要なベクトルだけ抜き出すので、$ N \\times T \\times D $ になる。"
   ]
  },
  {
   "cell_type": "markdown",
   "id": "b7bc1750",
   "metadata": {},
   "source": [
    "### 5.5.3　RNNLM の学習コード"
   ]
  },
  {
   "cell_type": "code",
   "execution_count": 5,
   "id": "7a11f7b1",
   "metadata": {},
   "outputs": [],
   "source": [
    "batch_size = 10\n",
    "wordvec_size = 100\n",
    "hidden_size = 100\n",
    "time_size = 5\n",
    "lr = 0.1\n",
    "max_epoch = 100"
   ]
  },
  {
   "cell_type": "code",
   "execution_count": 6,
   "id": "aa1f8e62",
   "metadata": {},
   "outputs": [],
   "source": [
    "corpus, word_to_id, id_to_word = ptb.load_data('train')\n",
    "corpus_size = 1000\n",
    "corpus = corpus[:corpus_size]\n",
    "vocab_size = int(max(corpus) + 1)"
   ]
  },
  {
   "cell_type": "code",
   "execution_count": 7,
   "id": "ccd7ff6e",
   "metadata": {},
   "outputs": [
    {
     "name": "stdout",
     "output_type": "stream",
     "text": [
      "999\n",
      "corpus size: 1000, vocabulary size: 418\n"
     ]
    }
   ],
   "source": [
    "xs = corpus[:-1]\n",
    "ts = corpus[1:]\n",
    "data_size = len(xs)\n",
    "print(data_size)\n",
    "print('corpus size: %d, vocabulary size: %d' % (corpus_size, vocab_size))"
   ]
  },
  {
   "cell_type": "markdown",
   "id": "b76dea23",
   "metadata": {},
   "source": [
    "RNN は入力した次の単語を予測するので<br>\n",
    "`corpus` から最後の単語を除いたものが `xs`、最初の単語を除いたものが `ts` となる。"
   ]
  },
  {
   "cell_type": "code",
   "execution_count": 8,
   "id": "a34cd4be",
   "metadata": {},
   "outputs": [
    {
     "name": "stdout",
     "output_type": "stream",
     "text": [
      "19\n"
     ]
    }
   ],
   "source": [
    "max_iters = data_size // (batch_size * time_size)\n",
    "time_idx = 0\n",
    "total_loss = 0\n",
    "loss_count = 0\n",
    "ppl_list = []\n",
    "\n",
    "print(max_iters)"
   ]
  },
  {
   "cell_type": "code",
   "execution_count": 9,
   "id": "a73c0140",
   "metadata": {},
   "outputs": [],
   "source": [
    "model = SimpleRnnlm(vocab_size, wordvec_size, hidden_size)\n",
    "optimizer = SGD(lr)"
   ]
  },
  {
   "cell_type": "code",
   "execution_count": 10,
   "id": "53ca7084",
   "metadata": {},
   "outputs": [
    {
     "name": "stdout",
     "output_type": "stream",
     "text": [
      "| epoch 1 | perplexity 406.94\n",
      "| epoch 2 | perplexity 293.15\n",
      "| epoch 3 | perplexity 229.88\n",
      "| epoch 4 | perplexity 215.94\n",
      "| epoch 5 | perplexity 205.66\n",
      "| epoch 6 | perplexity 202.78\n",
      "| epoch 7 | perplexity 198.69\n",
      "| epoch 8 | perplexity 196.35\n",
      "| epoch 9 | perplexity 191.86\n",
      "| epoch 10 | perplexity 193.03\n",
      "| epoch 11 | perplexity 188.99\n",
      "| epoch 12 | perplexity 192.59\n",
      "| epoch 13 | perplexity 190.72\n",
      "| epoch 14 | perplexity 190.89\n",
      "| epoch 15 | perplexity 189.58\n",
      "| epoch 16 | perplexity 186.01\n",
      "| epoch 17 | perplexity 184.61\n",
      "| epoch 18 | perplexity 181.58\n",
      "| epoch 19 | perplexity 182.43\n",
      "| epoch 20 | perplexity 183.49\n",
      "| epoch 21 | perplexity 182.50\n",
      "| epoch 22 | perplexity 179.99\n",
      "| epoch 23 | perplexity 174.73\n",
      "| epoch 24 | perplexity 175.50\n",
      "| epoch 25 | perplexity 173.94\n",
      "| epoch 26 | perplexity 174.72\n",
      "| epoch 27 | perplexity 168.58\n",
      "| epoch 28 | perplexity 167.66\n",
      "| epoch 29 | perplexity 163.28\n",
      "| epoch 30 | perplexity 158.21\n",
      "| epoch 31 | perplexity 160.08\n",
      "| epoch 32 | perplexity 155.52\n",
      "| epoch 33 | perplexity 153.76\n",
      "| epoch 34 | perplexity 150.60\n",
      "| epoch 35 | perplexity 148.58\n",
      "| epoch 36 | perplexity 140.15\n",
      "| epoch 37 | perplexity 135.76\n",
      "| epoch 38 | perplexity 133.04\n",
      "| epoch 39 | perplexity 127.09\n",
      "| epoch 40 | perplexity 122.37\n",
      "| epoch 41 | perplexity 122.31\n",
      "| epoch 42 | perplexity 115.57\n",
      "| epoch 43 | perplexity 108.64\n",
      "| epoch 44 | perplexity 104.51\n",
      "| epoch 45 | perplexity 101.11\n",
      "| epoch 46 | perplexity 99.22\n",
      "| epoch 47 | perplexity 92.86\n",
      "| epoch 48 | perplexity 87.66\n",
      "| epoch 49 | perplexity 84.46\n",
      "| epoch 50 | perplexity 80.60\n",
      "| epoch 51 | perplexity 76.97\n",
      "| epoch 52 | perplexity 71.84\n",
      "| epoch 53 | perplexity 68.62\n",
      "| epoch 54 | perplexity 66.05\n",
      "| epoch 55 | perplexity 62.41\n",
      "| epoch 56 | perplexity 59.42\n",
      "| epoch 57 | perplexity 55.60\n",
      "| epoch 58 | perplexity 53.40\n",
      "| epoch 59 | perplexity 50.07\n",
      "| epoch 60 | perplexity 47.66\n",
      "| epoch 61 | perplexity 45.15\n",
      "| epoch 62 | perplexity 43.19\n",
      "| epoch 63 | perplexity 38.95\n",
      "| epoch 64 | perplexity 37.52\n",
      "| epoch 65 | perplexity 37.62\n",
      "| epoch 66 | perplexity 33.97\n",
      "| epoch 67 | perplexity 33.90\n",
      "| epoch 68 | perplexity 30.28\n",
      "| epoch 69 | perplexity 28.98\n",
      "| epoch 70 | perplexity 27.59\n",
      "| epoch 71 | perplexity 25.81\n",
      "| epoch 72 | perplexity 24.40\n",
      "| epoch 73 | perplexity 22.71\n",
      "| epoch 74 | perplexity 21.88\n",
      "| epoch 75 | perplexity 20.76\n",
      "| epoch 76 | perplexity 19.40\n",
      "| epoch 77 | perplexity 18.40\n",
      "| epoch 78 | perplexity 17.13\n",
      "| epoch 79 | perplexity 15.82\n",
      "| epoch 80 | perplexity 15.44\n",
      "| epoch 81 | perplexity 15.19\n",
      "| epoch 82 | perplexity 14.76\n",
      "| epoch 83 | perplexity 12.67\n",
      "| epoch 84 | perplexity 12.12\n",
      "| epoch 85 | perplexity 12.34\n",
      "| epoch 86 | perplexity 11.48\n",
      "| epoch 87 | perplexity 10.61\n",
      "| epoch 88 | perplexity 9.90\n",
      "| epoch 89 | perplexity 9.76\n",
      "| epoch 90 | perplexity 9.08\n",
      "| epoch 91 | perplexity 8.54\n",
      "| epoch 92 | perplexity 8.04\n",
      "| epoch 93 | perplexity 7.73\n",
      "| epoch 94 | perplexity 7.47\n",
      "| epoch 95 | perplexity 6.97\n",
      "| epoch 96 | perplexity 6.70\n",
      "| epoch 97 | perplexity 6.71\n",
      "| epoch 98 | perplexity 6.10\n",
      "| epoch 99 | perplexity 5.64\n",
      "| epoch 100 | perplexity 5.32\n"
     ]
    }
   ],
   "source": [
    "jump = (corpus_size -1) // batch_size\n",
    "offsets = [i * jump for i in range(batch_size)]\n",
    "\n",
    "for epoch in range(max_epoch):\n",
    "    for iter in range(max_iters):\n",
    "        batch_x = np.empty((batch_size, time_size), dtype='i')\n",
    "        batch_t = np.empty((batch_size, time_size), dtype='i')\n",
    "        for t in range(time_size):\n",
    "            for i, offset in enumerate(offsets):\n",
    "                batch_x[i, t] = xs[(offset + time_idx) % data_size]\n",
    "                batch_t[i, t] = ts[(offset + time_idx) % data_size]\n",
    "            time_idx += 1\n",
    "        \n",
    "        loss = model.forward(batch_x, batch_t)\n",
    "        model.backward()\n",
    "        optimizer.update(model.params, model.grads)\n",
    "        total_loss += loss\n",
    "        loss_count += 1\n",
    "        \n",
    "    ppl = np.exp(total_loss / loss_count)\n",
    "    print('| epoch %d | perplexity %.2f' % (epoch+1, ppl))\n",
    "    total_loss, loss_count = 0, 0"
   ]
  },
  {
   "cell_type": "code",
   "execution_count": 11,
   "id": "8c5a0054",
   "metadata": {},
   "outputs": [
    {
     "name": "stdout",
     "output_type": "stream",
     "text": [
      "99\n",
      "[0, 99, 198, 297, 396, 495, 594, 693, 792, 891]\n"
     ]
    }
   ],
   "source": [
    "time_idx = 0\n",
    "\n",
    "jump = (corpus_size -1) // batch_size\n",
    "offsets = [i * jump for i in range(batch_size)]\n",
    "print(jump)\n",
    "print(offsets)\n",
    "\n",
    "batch_x = np.empty((batch_size, time_size), dtype='i')\n",
    "batch_t = np.empty((batch_size, time_size), dtype='i')\n",
    "for t in range(time_size):\n",
    "    for i, offset in enumerate(offsets):\n",
    "        batch_x[i, t] = xs[(offset + time_idx) % data_size]\n",
    "        batch_t[i, t] = ts[(offset + time_idx) % data_size]\n",
    "    time_idx += 1"
   ]
  },
  {
   "cell_type": "code",
   "execution_count": 12,
   "id": "f7817301",
   "metadata": {},
   "outputs": [
    {
     "name": "stdout",
     "output_type": "stream",
     "text": [
      "2\n",
      "1\n"
     ]
    }
   ],
   "source": [
    "print(7 // 3)\n",
    "print(7 % 3)"
   ]
  },
  {
   "cell_type": "code",
   "execution_count": 13,
   "id": "986cfaf6",
   "metadata": {},
   "outputs": [
    {
     "name": "stdout",
     "output_type": "stream",
     "text": [
      "0\n",
      "1\n"
     ]
    }
   ],
   "source": [
    "print(999 % 999)\n",
    "print(1000 % 999)"
   ]
  },
  {
   "cell_type": "code",
   "execution_count": 14,
   "id": "971b5b56",
   "metadata": {},
   "outputs": [
    {
     "name": "stdout",
     "output_type": "stream",
     "text": [
      "\n"
     ]
    }
   ],
   "source": [
    "'''\n",
    "batch_x[0, 0] = xs[(0 + 0)]\n",
    "batch_x[1, 0] = xs[(99 + 0)]\n",
    "batch_x[2, 0] = xs[(198 + 0)]\n",
    ".\n",
    ".\n",
    "batch_x[0, 1] = xs[(0 + 1)]\n",
    "batch_x[1, 1] = xs[(99 + 1)]\n",
    "batch_x[2, 1] = xs[(198 + 1)]\n",
    ".\n",
    ".\n",
    "batch_x[0, 4] = xs[(0 + 4)]\n",
    "batch_x[1, 4] = xs[(99 + 4)]\n",
    "batch_x[2, 4] = xs[(198 + 4)]\n",
    "\n",
    "'''\n",
    "print('')"
   ]
  },
  {
   "cell_type": "code",
   "execution_count": 15,
   "id": "1433755f",
   "metadata": {},
   "outputs": [
    {
     "name": "stdout",
     "output_type": "stream",
     "text": [
      "[[  0   1   2   3   4]\n",
      " [ 42  76  77  64  78]\n",
      " [ 26  26  98  56  40]\n",
      " [ 24  32  26 175  98]\n",
      " [208 209  80 197  32]\n",
      " [ 26  79  26  80  32]\n",
      " [274 275 276  42  61]\n",
      " [ 88 303  26 304  26]\n",
      " [ 42  35  72 350  64]\n",
      " [339 359 181 328 386]]\n",
      "\n",
      "[[  1   2   3   4   5]\n",
      " [ 76  77  64  78  79]\n",
      " [ 26  98  56  40 128]\n",
      " [ 32  26 175  98  61]\n",
      " [209  80 197  32  82]\n",
      " [ 79  26  80  32 241]\n",
      " [275 276  42  61  24]\n",
      " [303  26 304  26  32]\n",
      " [ 35  72 350  64  27]\n",
      " [359 181 328 386 387]]\n"
     ]
    }
   ],
   "source": [
    "print(batch_x)\n",
    "print('')\n",
    "print(batch_t)"
   ]
  },
  {
   "cell_type": "code",
   "execution_count": 16,
   "id": "24485b7c",
   "metadata": {},
   "outputs": [
    {
     "name": "stdout",
     "output_type": "stream",
     "text": [
      "0\n",
      "42\n",
      "26\n",
      "24\n"
     ]
    }
   ],
   "source": [
    "print(xs[0])\n",
    "print(xs[99])\n",
    "print(xs[198])\n",
    "print(xs[297])"
   ]
  },
  {
   "cell_type": "markdown",
   "id": "06552c80",
   "metadata": {},
   "source": [
    "### 5.5.4　RNNLM の Trainer クラス"
   ]
  },
  {
   "cell_type": "code",
   "execution_count": 17,
   "id": "a9ccb2c3",
   "metadata": {},
   "outputs": [
    {
     "name": "stdout",
     "output_type": "stream",
     "text": [
      "| epoch 1 |  iter 1 / 19 | time 0[s] | perplexity 420.57\n",
      "| epoch 2 |  iter 1 / 19 | time 0[s] | perplexity 384.57\n",
      "| epoch 3 |  iter 1 / 19 | time 0[s] | perplexity 266.54\n",
      "| epoch 4 |  iter 1 / 19 | time 0[s] | perplexity 221.67\n",
      "| epoch 5 |  iter 1 / 19 | time 0[s] | perplexity 212.34\n",
      "| epoch 6 |  iter 1 / 19 | time 0[s] | perplexity 210.43\n",
      "| epoch 7 |  iter 1 / 19 | time 0[s] | perplexity 201.79\n",
      "| epoch 8 |  iter 1 / 19 | time 0[s] | perplexity 200.99\n",
      "| epoch 9 |  iter 1 / 19 | time 0[s] | perplexity 195.81\n",
      "| epoch 10 |  iter 1 / 19 | time 0[s] | perplexity 191.13\n",
      "| epoch 11 |  iter 1 / 19 | time 0[s] | perplexity 192.31\n",
      "| epoch 12 |  iter 1 / 19 | time 0[s] | perplexity 189.90\n",
      "| epoch 13 |  iter 1 / 19 | time 0[s] | perplexity 193.39\n",
      "| epoch 14 |  iter 1 / 19 | time 0[s] | perplexity 187.11\n",
      "| epoch 15 |  iter 1 / 19 | time 0[s] | perplexity 186.39\n",
      "| epoch 16 |  iter 1 / 19 | time 0[s] | perplexity 191.58\n",
      "| epoch 17 |  iter 1 / 19 | time 0[s] | perplexity 189.71\n",
      "| epoch 18 |  iter 1 / 19 | time 0[s] | perplexity 184.81\n",
      "| epoch 19 |  iter 1 / 19 | time 0[s] | perplexity 181.83\n",
      "| epoch 20 |  iter 1 / 19 | time 0[s] | perplexity 183.49\n",
      "| epoch 21 |  iter 1 / 19 | time 0[s] | perplexity 180.15\n",
      "| epoch 22 |  iter 1 / 19 | time 0[s] | perplexity 178.78\n",
      "| epoch 23 |  iter 1 / 19 | time 0[s] | perplexity 180.66\n",
      "| epoch 24 |  iter 1 / 19 | time 0[s] | perplexity 179.19\n",
      "| epoch 25 |  iter 1 / 19 | time 1[s] | perplexity 173.42\n",
      "| epoch 26 |  iter 1 / 19 | time 1[s] | perplexity 173.43\n",
      "| epoch 27 |  iter 1 / 19 | time 1[s] | perplexity 172.36\n",
      "| epoch 28 |  iter 1 / 19 | time 1[s] | perplexity 174.26\n",
      "| epoch 29 |  iter 1 / 19 | time 1[s] | perplexity 167.93\n",
      "| epoch 30 |  iter 1 / 19 | time 1[s] | perplexity 162.25\n",
      "| epoch 31 |  iter 1 / 19 | time 1[s] | perplexity 163.49\n",
      "| epoch 32 |  iter 1 / 19 | time 1[s] | perplexity 156.85\n",
      "| epoch 33 |  iter 1 / 19 | time 1[s] | perplexity 156.15\n",
      "| epoch 34 |  iter 1 / 19 | time 1[s] | perplexity 156.59\n",
      "| epoch 35 |  iter 1 / 19 | time 1[s] | perplexity 148.98\n",
      "| epoch 36 |  iter 1 / 19 | time 1[s] | perplexity 146.24\n",
      "| epoch 37 |  iter 1 / 19 | time 1[s] | perplexity 146.65\n",
      "| epoch 38 |  iter 1 / 19 | time 1[s] | perplexity 138.43\n",
      "| epoch 39 |  iter 1 / 19 | time 1[s] | perplexity 134.30\n",
      "| epoch 40 |  iter 1 / 19 | time 1[s] | perplexity 128.32\n",
      "| epoch 41 |  iter 1 / 19 | time 1[s] | perplexity 123.96\n",
      "| epoch 42 |  iter 1 / 19 | time 1[s] | perplexity 122.05\n",
      "| epoch 43 |  iter 1 / 19 | time 1[s] | perplexity 116.49\n",
      "| epoch 44 |  iter 1 / 19 | time 1[s] | perplexity 112.84\n",
      "| epoch 45 |  iter 1 / 19 | time 1[s] | perplexity 103.52\n",
      "| epoch 46 |  iter 1 / 19 | time 1[s] | perplexity 101.14\n",
      "| epoch 47 |  iter 1 / 19 | time 1[s] | perplexity 100.57\n",
      "| epoch 48 |  iter 1 / 19 | time 1[s] | perplexity 95.40\n",
      "| epoch 49 |  iter 1 / 19 | time 1[s] | perplexity 89.84\n",
      "| epoch 50 |  iter 1 / 19 | time 2[s] | perplexity 83.31\n",
      "| epoch 51 |  iter 1 / 19 | time 2[s] | perplexity 81.50\n",
      "| epoch 52 |  iter 1 / 19 | time 2[s] | perplexity 76.82\n",
      "| epoch 53 |  iter 1 / 19 | time 2[s] | perplexity 74.35\n",
      "| epoch 54 |  iter 1 / 19 | time 2[s] | perplexity 69.74\n",
      "| epoch 55 |  iter 1 / 19 | time 2[s] | perplexity 67.02\n",
      "| epoch 56 |  iter 1 / 19 | time 2[s] | perplexity 62.44\n",
      "| epoch 57 |  iter 1 / 19 | time 2[s] | perplexity 61.58\n",
      "| epoch 58 |  iter 1 / 19 | time 2[s] | perplexity 56.28\n",
      "| epoch 59 |  iter 1 / 19 | time 2[s] | perplexity 52.93\n",
      "| epoch 60 |  iter 1 / 19 | time 2[s] | perplexity 50.04\n",
      "| epoch 61 |  iter 1 / 19 | time 2[s] | perplexity 47.35\n",
      "| epoch 62 |  iter 1 / 19 | time 2[s] | perplexity 44.93\n",
      "| epoch 63 |  iter 1 / 19 | time 2[s] | perplexity 42.85\n",
      "| epoch 64 |  iter 1 / 19 | time 2[s] | perplexity 40.16\n",
      "| epoch 65 |  iter 1 / 19 | time 2[s] | perplexity 36.64\n",
      "| epoch 66 |  iter 1 / 19 | time 2[s] | perplexity 34.79\n",
      "| epoch 67 |  iter 1 / 19 | time 2[s] | perplexity 33.21\n",
      "| epoch 68 |  iter 1 / 19 | time 2[s] | perplexity 31.10\n",
      "| epoch 69 |  iter 1 / 19 | time 2[s] | perplexity 29.95\n",
      "| epoch 70 |  iter 1 / 19 | time 2[s] | perplexity 27.31\n",
      "| epoch 71 |  iter 1 / 19 | time 2[s] | perplexity 26.94\n",
      "| epoch 72 |  iter 1 / 19 | time 2[s] | perplexity 24.77\n",
      "| epoch 73 |  iter 1 / 19 | time 2[s] | perplexity 23.22\n",
      "| epoch 74 |  iter 1 / 19 | time 2[s] | perplexity 21.62\n",
      "| epoch 75 |  iter 1 / 19 | time 2[s] | perplexity 20.73\n",
      "| epoch 76 |  iter 1 / 19 | time 2[s] | perplexity 19.61\n",
      "| epoch 77 |  iter 1 / 19 | time 3[s] | perplexity 18.98\n",
      "| epoch 78 |  iter 1 / 19 | time 3[s] | perplexity 17.46\n",
      "| epoch 79 |  iter 1 / 19 | time 3[s] | perplexity 16.65\n",
      "| epoch 80 |  iter 1 / 19 | time 3[s] | perplexity 15.67\n",
      "| epoch 81 |  iter 1 / 19 | time 3[s] | perplexity 14.67\n",
      "| epoch 82 |  iter 1 / 19 | time 3[s] | perplexity 14.16\n",
      "| epoch 83 |  iter 1 / 19 | time 3[s] | perplexity 13.01\n",
      "| epoch 84 |  iter 1 / 19 | time 3[s] | perplexity 12.70\n",
      "| epoch 85 |  iter 1 / 19 | time 3[s] | perplexity 11.68\n",
      "| epoch 86 |  iter 1 / 19 | time 3[s] | perplexity 11.13\n",
      "| epoch 87 |  iter 1 / 19 | time 3[s] | perplexity 10.94\n",
      "| epoch 88 |  iter 1 / 19 | time 3[s] | perplexity 10.02\n",
      "| epoch 89 |  iter 1 / 19 | time 3[s] | perplexity 10.01\n",
      "| epoch 90 |  iter 1 / 19 | time 3[s] | perplexity 9.03\n",
      "| epoch 91 |  iter 1 / 19 | time 3[s] | perplexity 8.34\n",
      "| epoch 92 |  iter 1 / 19 | time 3[s] | perplexity 8.09\n",
      "| epoch 93 |  iter 1 / 19 | time 3[s] | perplexity 7.74\n",
      "| epoch 94 |  iter 1 / 19 | time 3[s] | perplexity 7.36\n",
      "| epoch 95 |  iter 1 / 19 | time 3[s] | perplexity 7.06\n",
      "| epoch 96 |  iter 1 / 19 | time 3[s] | perplexity 7.01\n",
      "| epoch 97 |  iter 1 / 19 | time 3[s] | perplexity 6.66\n",
      "| epoch 98 |  iter 1 / 19 | time 3[s] | perplexity 6.11\n",
      "| epoch 99 |  iter 1 / 19 | time 3[s] | perplexity 6.00\n",
      "| epoch 100 |  iter 1 / 19 | time 3[s] | perplexity 5.72\n"
     ]
    }
   ],
   "source": [
    "model = SimpleRnnlm(vocab_size, wordvec_size, hidden_size)\n",
    "optimizer = SGD(lr)\n",
    "trainer = RnnlmTrainer(model, optimizer)\n",
    "\n",
    "trainer.fit(xs, ts, max_epoch, batch_size, time_size)"
   ]
  }
 ],
 "metadata": {
  "kernelspec": {
   "display_name": "Python 3",
   "language": "python",
   "name": "python3"
  },
  "language_info": {
   "codemirror_mode": {
    "name": "ipython",
    "version": 3
   },
   "file_extension": ".py",
   "mimetype": "text/x-python",
   "name": "python",
   "nbconvert_exporter": "python",
   "pygments_lexer": "ipython3",
   "version": "3.8.8"
  }
 },
 "nbformat": 4,
 "nbformat_minor": 5
}
