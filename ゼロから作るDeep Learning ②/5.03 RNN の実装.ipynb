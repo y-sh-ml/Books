{
 "cells": [
  {
   "cell_type": "markdown",
   "id": "6fb7b9f9",
   "metadata": {
    "_cell_guid": "b1076dfc-b9ad-4769-8c92-a6c4dae69d19",
    "_uuid": "8f2839f25d086af736a60e9eeb907d3b93b6e0e5",
    "execution": {
     "iopub.execute_input": "2022-05-09T06:08:08.633619Z",
     "iopub.status.busy": "2022-05-09T06:08:08.632939Z",
     "iopub.status.idle": "2022-05-09T06:08:08.654825Z",
     "shell.execute_reply": "2022-05-09T06:08:08.653927Z",
     "shell.execute_reply.started": "2022-05-09T06:08:08.633512Z"
    },
    "papermill": {
     "duration": 0.007367,
     "end_time": "2022-05-09T08:13:25.895152",
     "exception": false,
     "start_time": "2022-05-09T08:13:25.887785",
     "status": "completed"
    },
    "tags": []
   },
   "source": [
    "## 5.3　RNN の実装"
   ]
  },
  {
   "cell_type": "markdown",
   "id": "5409af4a",
   "metadata": {
    "papermill": {
     "duration": 0.005694,
     "end_time": "2022-05-09T08:13:25.906973",
     "exception": false,
     "start_time": "2022-05-09T08:13:25.901279",
     "status": "completed"
    },
    "tags": []
   },
   "source": [
    "### 5.3.1　RNN レイヤの実装"
   ]
  },
  {
   "cell_type": "code",
   "execution_count": 1,
   "id": "b7c175e9",
   "metadata": {
    "execution": {
     "iopub.execute_input": "2022-05-09T08:13:25.921330Z",
     "iopub.status.busy": "2022-05-09T08:13:25.920677Z",
     "iopub.status.idle": "2022-05-09T08:13:25.934625Z",
     "shell.execute_reply": "2022-05-09T08:13:25.933586Z"
    },
    "papermill": {
     "duration": 0.024362,
     "end_time": "2022-05-09T08:13:25.937305",
     "exception": false,
     "start_time": "2022-05-09T08:13:25.912943",
     "status": "completed"
    },
    "tags": []
   },
   "outputs": [],
   "source": [
    "class RNN:\n",
    "    def __init__(self, Wx, Wh, b):\n",
    "        self.params = [Wx, Wh, b]\n",
    "        self.grads = [np.zeros_like(Wx), np.zeros_like(Wh), np.zeros_like(b)]\n",
    "        self.cache = None\n",
    "        \n",
    "    def forward(self, x, h_prev):\n",
    "        Wx, Wh, b = self.params\n",
    "        t = np.dot(h_prev, Wh) + np.dot(x, Wx) + b\n",
    "        h_next = np.tanh(t)\n",
    "        \n",
    "        self.cache = (x, h_prev, h_next)\n",
    "        return h_next\n",
    "    \n",
    "    def backward(self, dh_next):\n",
    "        Wx, Wh, b = self.params\n",
    "        x, h_prev, h_next = self.cache\n",
    "        \n",
    "        dt = dh_next * (1 - h_next ** 2)\n",
    "        db = np.sum(dt, axis=0)\n",
    "        dWh = np.dot(h)\n",
    "        dh_prev = np.dot(dt, Wh.T)\n",
    "        dWx = np.dot(x.T, dt)\n",
    "        dx = np.dot(dt, Wx.T)\n",
    "        \n",
    "        self.grads[0][...] = dWx\n",
    "        self.grads[1][...] = dWh\n",
    "        self.grads[2][...] = db\n",
    "        \n",
    "        return dx, dh_prev"
   ]
  },
  {
   "cell_type": "markdown",
   "id": "00370fa8",
   "metadata": {
    "papermill": {
     "duration": 0.005605,
     "end_time": "2022-05-09T08:13:25.949026",
     "exception": false,
     "start_time": "2022-05-09T08:13:25.943421",
     "status": "completed"
    },
    "tags": []
   },
   "source": [
    "順伝播では、下からの入力 `x` と左からの入力 `h_prev` を受け取っている。"
   ]
  },
  {
   "cell_type": "markdown",
   "id": "22cc062a",
   "metadata": {
    "execution": {
     "iopub.execute_input": "2022-05-09T07:03:21.283644Z",
     "iopub.status.busy": "2022-05-09T07:03:21.283203Z",
     "iopub.status.idle": "2022-05-09T07:03:21.288473Z",
     "shell.execute_reply": "2022-05-09T07:03:21.287182Z",
     "shell.execute_reply.started": "2022-05-09T07:03:21.283603Z"
    },
    "papermill": {
     "duration": 0.00554,
     "end_time": "2022-05-09T08:13:25.960508",
     "exception": false,
     "start_time": "2022-05-09T08:13:25.954968",
     "status": "completed"
    },
    "tags": []
   },
   "source": [
    "### 5.3.2　Time RNN レイヤの実装"
   ]
  },
  {
   "cell_type": "code",
   "execution_count": 2,
   "id": "f3911b24",
   "metadata": {
    "execution": {
     "iopub.execute_input": "2022-05-09T08:13:25.974056Z",
     "iopub.status.busy": "2022-05-09T08:13:25.973753Z",
     "iopub.status.idle": "2022-05-09T08:13:25.985925Z",
     "shell.execute_reply": "2022-05-09T08:13:25.985054Z"
    },
    "papermill": {
     "duration": 0.021649,
     "end_time": "2022-05-09T08:13:25.987986",
     "exception": false,
     "start_time": "2022-05-09T08:13:25.966337",
     "status": "completed"
    },
    "tags": []
   },
   "outputs": [],
   "source": [
    "class TimeRNN:\n",
    "    def __init__(self, Wx, Wh, b, stateful=False):\n",
    "        self.params = [Wx, Wh, b]\n",
    "        self.grads = [np.zeros_like(Wx), np.zeros_like(Wh), np.zeros_like(b)]\n",
    "        self.layers = None\n",
    "        \n",
    "        self.h, self.dh = None, None\n",
    "        self.stateful = stateful\n",
    "        \n",
    "        \n",
    "    def set_state(self, h):\n",
    "        self.h = h\n",
    "        \n",
    "        \n",
    "    def reset_state(self):\n",
    "        self.h = None\n",
    "        \n",
    "        \n",
    "    def forward(self, xs):\n",
    "        Wx, Wh, b = self.params\n",
    "        N, T, D = xs.shape\n",
    "        D, H = Wx.shape\n",
    "        \n",
    "        self.layers = []\n",
    "        hs = np.empty((N, T, H), dtype='f')\n",
    "        \n",
    "        if not self.stateful or self.h is None:\n",
    "            self.h = np.zeros((N, H), dtype='f')\n",
    "        \n",
    "        for t in range(T):\n",
    "            layer = RNN(*self.params)\n",
    "            self.h = layer.forward(xs[:, t, :], self.h)\n",
    "            hs[:, t, :] = self.h\n",
    "            self.layers.append(layer)\n",
    "            \n",
    "        return hs\n",
    "    \n",
    "    \n",
    "    def backward(self, dhs):\n",
    "        Wx, Wh, b = self.params\n",
    "        N, T, H = dhs.shape\n",
    "        D, H = Wx.shape\n",
    "        \n",
    "        dxs = np.empty((N, T, D), dtype='f')\n",
    "        dh = 0\n",
    "        grads = [0, 0, 0]\n",
    "        \n",
    "        for t in reversed(range(T)):\n",
    "            layer = self.layers[t]\n",
    "            dx, dh = layer.backward(dhs[:, t, :] + dh)\n",
    "            dxs[:, t, :] = dx\n",
    "            \n",
    "            for i, grad in enumerate(layer.grads):\n",
    "                grads[i] += grad\n",
    "                \n",
    "        for i, grad in enumerate(grads):\n",
    "            self.grads[i][...] = grad\n",
    "        self.dh = dh\n",
    "        \n",
    "        return dxs"
   ]
  },
  {
   "cell_type": "markdown",
   "id": "74f53d7b",
   "metadata": {
    "papermill": {
     "duration": 0.005567,
     "end_time": "2022-05-09T08:13:25.999671",
     "exception": false,
     "start_time": "2022-05-09T08:13:25.994104",
     "status": "completed"
    },
    "tags": []
   },
   "source": [
    "### 参考文献"
   ]
  },
  {
   "cell_type": "markdown",
   "id": "ef0f6da9",
   "metadata": {
    "execution": {
     "iopub.execute_input": "2022-05-09T08:08:31.559758Z",
     "iopub.status.busy": "2022-05-09T08:08:31.558791Z",
     "iopub.status.idle": "2022-05-09T08:08:31.567445Z",
     "shell.execute_reply": "2022-05-09T08:08:31.565695Z",
     "shell.execute_reply.started": "2022-05-09T08:08:31.559710Z"
    },
    "papermill": {
     "duration": 0.005417,
     "end_time": "2022-05-09T08:13:26.010918",
     "exception": false,
     "start_time": "2022-05-09T08:13:26.005501",
     "status": "completed"
    },
    "tags": []
   },
   "source": [
    "・[NumPy配列ndarrayの次元をEllipsis（...）で省略して指定](https://note.nkmk.me/python-numpy-ellipsis/)"
   ]
  }
 ],
 "metadata": {
  "kernelspec": {
   "display_name": "Python 3",
   "language": "python",
   "name": "python3"
  },
  "language_info": {
   "codemirror_mode": {
    "name": "ipython",
    "version": 3
   },
   "file_extension": ".py",
   "mimetype": "text/x-python",
   "name": "python",
   "nbconvert_exporter": "python",
   "pygments_lexer": "ipython3",
   "version": "3.7.12"
  },
  "papermill": {
   "default_parameters": {},
   "duration": 10.194526,
   "end_time": "2022-05-09T08:13:26.939860",
   "environment_variables": {},
   "exception": null,
   "input_path": "__notebook__.ipynb",
   "output_path": "__notebook__.ipynb",
   "parameters": {},
   "start_time": "2022-05-09T08:13:16.745334",
   "version": "2.3.4"
  }
 },
 "nbformat": 4,
 "nbformat_minor": 5
}
