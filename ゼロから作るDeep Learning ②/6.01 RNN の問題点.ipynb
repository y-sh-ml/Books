{
 "cells": [
  {
   "cell_type": "markdown",
   "id": "224a3b7f",
   "metadata": {
    "_cell_guid": "b1076dfc-b9ad-4769-8c92-a6c4dae69d19",
    "_uuid": "8f2839f25d086af736a60e9eeb907d3b93b6e0e5",
    "papermill": {
     "duration": 0.003581,
     "end_time": "2022-05-10T06:44:05.137045",
     "exception": false,
     "start_time": "2022-05-10T06:44:05.133464",
     "status": "completed"
    },
    "tags": []
   },
   "source": [
    "## 6.1　ゲート付き RNN"
   ]
  },
  {
   "cell_type": "code",
   "execution_count": null,
   "id": "6f25697e",
   "metadata": {
    "papermill": {
     "duration": 0.002093,
     "end_time": "2022-05-10T06:44:05.141695",
     "exception": false,
     "start_time": "2022-05-10T06:44:05.139602",
     "status": "completed"
    },
    "tags": []
   },
   "outputs": [],
   "source": []
  }
 ],
 "metadata": {
  "kernelspec": {
   "display_name": "Python 3",
   "language": "python",
   "name": "python3"
  },
  "language_info": {
   "codemirror_mode": {
    "name": "ipython",
    "version": 3
   },
   "file_extension": ".py",
   "mimetype": "text/x-python",
   "name": "python",
   "nbconvert_exporter": "python",
   "pygments_lexer": "ipython3",
   "version": "3.7.12"
  },
  "papermill": {
   "default_parameters": {},
   "duration": 9.390475,
   "end_time": "2022-05-10T06:44:05.766146",
   "environment_variables": {},
   "exception": null,
   "input_path": "__notebook__.ipynb",
   "output_path": "__notebook__.ipynb",
   "parameters": {},
   "start_time": "2022-05-10T06:43:56.375671",
   "version": "2.3.4"
  }
 },
 "nbformat": 4,
 "nbformat_minor": 5
}
