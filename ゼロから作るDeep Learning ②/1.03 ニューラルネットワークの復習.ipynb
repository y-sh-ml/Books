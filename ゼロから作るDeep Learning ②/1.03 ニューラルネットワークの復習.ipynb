{
 "cells": [
  {
   "cell_type": "markdown",
   "id": "4959ddb2",
   "metadata": {
    "_cell_guid": "b1076dfc-b9ad-4769-8c92-a6c4dae69d19",
    "_uuid": "8f2839f25d086af736a60e9eeb907d3b93b6e0e5",
    "papermill": {
     "duration": 0.018069,
     "end_time": "2022-05-13T01:46:13.427262",
     "exception": false,
     "start_time": "2022-05-13T01:46:13.409193",
     "status": "completed"
    },
    "tags": []
   },
   "source": [
    "## 1.3　ニューラルネットワークの学習"
   ]
  },
  {
   "cell_type": "code",
   "execution_count": 1,
   "id": "67bcc3f2",
   "metadata": {
    "execution": {
     "iopub.execute_input": "2022-05-13T01:46:13.461347Z",
     "iopub.status.busy": "2022-05-13T01:46:13.460762Z",
     "iopub.status.idle": "2022-05-13T01:46:13.470369Z",
     "shell.execute_reply": "2022-05-13T01:46:13.469658Z"
    },
    "papermill": {
     "duration": 0.029184,
     "end_time": "2022-05-13T01:46:13.472594",
     "exception": false,
     "start_time": "2022-05-13T01:46:13.443410",
     "status": "completed"
    },
    "tags": []
   },
   "outputs": [],
   "source": [
    "import numpy as np"
   ]
  },
  {
   "cell_type": "markdown",
   "id": "9a558441",
   "metadata": {
    "papermill": {
     "duration": 0.015717,
     "end_time": "2022-05-13T01:46:13.504521",
     "exception": false,
     "start_time": "2022-05-13T01:46:13.488804",
     "status": "completed"
    },
    "tags": []
   },
   "source": [
    "### 1.3.4　計算グラフ"
   ]
  },
  {
   "cell_type": "markdown",
   "id": "6c352be6",
   "metadata": {
    "execution": {
     "iopub.execute_input": "2022-05-11T07:13:50.491668Z",
     "iopub.status.busy": "2022-05-11T07:13:50.491258Z",
     "iopub.status.idle": "2022-05-11T07:13:50.51118Z",
     "shell.execute_reply": "2022-05-11T07:13:50.510526Z",
     "shell.execute_reply.started": "2022-05-11T07:13:50.491568Z"
    },
    "papermill": {
     "duration": 0.015837,
     "end_time": "2022-05-13T01:46:13.536464",
     "exception": false,
     "start_time": "2022-05-13T01:46:13.520627",
     "status": "completed"
    },
    "tags": []
   },
   "source": [
    "#### 1.3.4.3　Repeat ノード"
   ]
  },
  {
   "cell_type": "code",
   "execution_count": 2,
   "id": "04f46c4e",
   "metadata": {
    "execution": {
     "iopub.execute_input": "2022-05-13T01:46:13.570451Z",
     "iopub.status.busy": "2022-05-13T01:46:13.569947Z",
     "iopub.status.idle": "2022-05-13T01:46:13.575324Z",
     "shell.execute_reply": "2022-05-13T01:46:13.574416Z"
    },
    "papermill": {
     "duration": 0.024974,
     "end_time": "2022-05-13T01:46:13.577457",
     "exception": false,
     "start_time": "2022-05-13T01:46:13.552483",
     "status": "completed"
    },
    "tags": []
   },
   "outputs": [],
   "source": [
    "D, N = 8, 7\n",
    "\n",
    "x = np.random.randn(1, D)\n",
    "y = np.repeat(x, N, axis=0)\n",
    "\n",
    "dy = np.random.randn(N, D)\n",
    "dx = np.sum(dy, axis=0, keepdims=True)"
   ]
  },
  {
   "cell_type": "code",
   "execution_count": 3,
   "id": "265e723f",
   "metadata": {
    "execution": {
     "iopub.execute_input": "2022-05-13T01:46:13.611360Z",
     "iopub.status.busy": "2022-05-13T01:46:13.611060Z",
     "iopub.status.idle": "2022-05-13T01:46:13.620975Z",
     "shell.execute_reply": "2022-05-13T01:46:13.620060Z"
    },
    "papermill": {
     "duration": 0.029688,
     "end_time": "2022-05-13T01:46:13.623335",
     "exception": false,
     "start_time": "2022-05-13T01:46:13.593647",
     "status": "completed"
    },
    "tags": []
   },
   "outputs": [
    {
     "name": "stdout",
     "output_type": "stream",
     "text": [
      "x\n",
      "[[-1.44304996  1.17725675 -0.12420138  2.07285777 -0.12241686  0.31478663\n",
      "  -0.09785491 -0.2503511 ]]\n",
      "y\n",
      "[[-1.44304996  1.17725675 -0.12420138  2.07285777 -0.12241686  0.31478663\n",
      "  -0.09785491 -0.2503511 ]\n",
      " [-1.44304996  1.17725675 -0.12420138  2.07285777 -0.12241686  0.31478663\n",
      "  -0.09785491 -0.2503511 ]\n",
      " [-1.44304996  1.17725675 -0.12420138  2.07285777 -0.12241686  0.31478663\n",
      "  -0.09785491 -0.2503511 ]\n",
      " [-1.44304996  1.17725675 -0.12420138  2.07285777 -0.12241686  0.31478663\n",
      "  -0.09785491 -0.2503511 ]\n",
      " [-1.44304996  1.17725675 -0.12420138  2.07285777 -0.12241686  0.31478663\n",
      "  -0.09785491 -0.2503511 ]\n",
      " [-1.44304996  1.17725675 -0.12420138  2.07285777 -0.12241686  0.31478663\n",
      "  -0.09785491 -0.2503511 ]\n",
      " [-1.44304996  1.17725675 -0.12420138  2.07285777 -0.12241686  0.31478663\n",
      "  -0.09785491 -0.2503511 ]]\n",
      "dx\n",
      "[[-0.30708101  2.20544459 -2.67983521  2.45048637  1.30873204  4.3094086\n",
      "   3.39689304 -1.17790683]]\n",
      "dy\n",
      "[[ 1.41389297  0.20705071  0.97115376 -0.40047094 -0.09205361  0.15370419\n",
      "  -0.59222669 -0.38026573]\n",
      " [-0.51309315 -0.57122051 -1.61623124 -0.44929081  0.32437083 -1.1074423\n",
      "   1.63149044  0.33509661]\n",
      " [-0.33983851  0.61268511 -0.04144459  0.29535544  0.48591638 -1.05493809\n",
      "   1.07790327 -0.71002842]\n",
      " [ 0.37639261 -0.44833896  0.71962409 -0.29113323 -1.08875806  1.06332669\n",
      "   0.2430322   0.21904587]\n",
      " [ 0.63895877  0.18620664 -1.06633984  0.62660612  0.40723026  1.79560371\n",
      "   0.54955408 -0.7907378 ]\n",
      " [-0.92012039  0.94691817  1.11262728  1.34735338  1.17580987  1.87552959\n",
      "   1.16989204 -0.43671935]\n",
      " [-0.96327331  1.27214344 -2.75922466  1.3220664   0.09621637  1.5836248\n",
      "  -0.6827523   0.58570199]]\n"
     ]
    }
   ],
   "source": [
    "print('x')\n",
    "print(x)\n",
    "print('y')\n",
    "print(y)\n",
    "print('dx')\n",
    "print(dx)\n",
    "print('dy')\n",
    "print(dy)"
   ]
  },
  {
   "cell_type": "markdown",
   "id": "79d48097",
   "metadata": {
    "papermill": {
     "duration": 0.016102,
     "end_time": "2022-05-13T01:46:13.656832",
     "exception": false,
     "start_time": "2022-05-13T01:46:13.640730",
     "status": "completed"
    },
    "tags": []
   },
   "source": [
    "#### 1.3.4.4　Sum ノード"
   ]
  },
  {
   "cell_type": "code",
   "execution_count": 4,
   "id": "54cb25d5",
   "metadata": {
    "execution": {
     "iopub.execute_input": "2022-05-13T01:46:13.691370Z",
     "iopub.status.busy": "2022-05-13T01:46:13.691052Z",
     "iopub.status.idle": "2022-05-13T01:46:13.696827Z",
     "shell.execute_reply": "2022-05-13T01:46:13.695962Z"
    },
    "papermill": {
     "duration": 0.025599,
     "end_time": "2022-05-13T01:46:13.698907",
     "exception": false,
     "start_time": "2022-05-13T01:46:13.673308",
     "status": "completed"
    },
    "tags": []
   },
   "outputs": [],
   "source": [
    "D, N = 8, 7\n",
    "\n",
    "x = np.random.randn(N, D)\n",
    "y = np.sum(x, axis=0, keepdims=True)\n",
    "\n",
    "dy = np.random.randn(1, D)\n",
    "dx = np.repeat(dy, N, axis=0)"
   ]
  },
  {
   "cell_type": "code",
   "execution_count": 5,
   "id": "236f879a",
   "metadata": {
    "execution": {
     "iopub.execute_input": "2022-05-13T01:46:13.733702Z",
     "iopub.status.busy": "2022-05-13T01:46:13.733426Z",
     "iopub.status.idle": "2022-05-13T01:46:13.742375Z",
     "shell.execute_reply": "2022-05-13T01:46:13.741453Z"
    },
    "papermill": {
     "duration": 0.029115,
     "end_time": "2022-05-13T01:46:13.744431",
     "exception": false,
     "start_time": "2022-05-13T01:46:13.715316",
     "status": "completed"
    },
    "tags": []
   },
   "outputs": [
    {
     "name": "stdout",
     "output_type": "stream",
     "text": [
      "x\n",
      "[[-1.27344621  0.57444913 -0.36606353 -2.4049274   1.27963987 -1.05187072\n",
      "  -2.48543214  1.00224097]\n",
      " [-0.48693667  0.91252404  2.25142269  0.02843188 -0.29318408 -0.39238549\n",
      "   0.299127   -0.2857816 ]\n",
      " [ 0.79896507 -0.21413036  1.75822567  1.61725405  0.30554797 -1.30179997\n",
      "  -0.42161082 -0.4847266 ]\n",
      " [ 0.02244715  1.35306814  0.73275622 -0.42048722 -0.33600304 -0.93486638\n",
      "   0.37757002 -1.56368602]\n",
      " [-0.59370857  1.24565859  0.77562795 -0.39330915  1.31617643 -0.11063292\n",
      "   0.5442922  -2.30429861]\n",
      " [-0.63445299  0.51780221  0.63853411 -0.50922149 -0.08895127  1.23449091\n",
      "  -1.78234971 -0.00260806]\n",
      " [-0.14987842 -0.66006778  1.54535063  0.35321164  0.29537977 -1.91519179\n",
      "   0.38456794 -0.34328344]]\n",
      "y\n",
      "[[-2.31701064  3.72930397  7.33585374 -1.72904769  2.47860564 -4.47225636\n",
      "  -3.08383551 -3.98214336]]\n",
      "dx\n",
      "[[ 0.0284583  -0.02937256 -0.56595512 -0.42661958 -0.59715495 -0.72522904\n",
      "  -1.03434835  0.37130914]\n",
      " [ 0.0284583  -0.02937256 -0.56595512 -0.42661958 -0.59715495 -0.72522904\n",
      "  -1.03434835  0.37130914]\n",
      " [ 0.0284583  -0.02937256 -0.56595512 -0.42661958 -0.59715495 -0.72522904\n",
      "  -1.03434835  0.37130914]\n",
      " [ 0.0284583  -0.02937256 -0.56595512 -0.42661958 -0.59715495 -0.72522904\n",
      "  -1.03434835  0.37130914]\n",
      " [ 0.0284583  -0.02937256 -0.56595512 -0.42661958 -0.59715495 -0.72522904\n",
      "  -1.03434835  0.37130914]\n",
      " [ 0.0284583  -0.02937256 -0.56595512 -0.42661958 -0.59715495 -0.72522904\n",
      "  -1.03434835  0.37130914]\n",
      " [ 0.0284583  -0.02937256 -0.56595512 -0.42661958 -0.59715495 -0.72522904\n",
      "  -1.03434835  0.37130914]]\n",
      "dy\n",
      "[[ 0.0284583  -0.02937256 -0.56595512 -0.42661958 -0.59715495 -0.72522904\n",
      "  -1.03434835  0.37130914]]\n"
     ]
    }
   ],
   "source": [
    "print('x')\n",
    "print(x)\n",
    "print('y')\n",
    "print(y)\n",
    "print('dx')\n",
    "print(dx)\n",
    "print('dy')\n",
    "print(dy)"
   ]
  },
  {
   "cell_type": "markdown",
   "id": "a12bd3a8",
   "metadata": {
    "papermill": {
     "duration": 0.016459,
     "end_time": "2022-05-13T01:46:13.777903",
     "exception": false,
     "start_time": "2022-05-13T01:46:13.761444",
     "status": "completed"
    },
    "tags": []
   },
   "source": [
    "#### 1.3.4.5　MatMul ノード"
   ]
  },
  {
   "cell_type": "code",
   "execution_count": 6,
   "id": "ea25dcd0",
   "metadata": {
    "execution": {
     "iopub.execute_input": "2022-05-13T01:46:13.812854Z",
     "iopub.status.busy": "2022-05-13T01:46:13.812583Z",
     "iopub.status.idle": "2022-05-13T01:46:13.820169Z",
     "shell.execute_reply": "2022-05-13T01:46:13.819067Z"
    },
    "papermill": {
     "duration": 0.027488,
     "end_time": "2022-05-13T01:46:13.822208",
     "exception": false,
     "start_time": "2022-05-13T01:46:13.794720",
     "status": "completed"
    },
    "tags": []
   },
   "outputs": [],
   "source": [
    "class MatMul:\n",
    "    def __init__(self, W):\n",
    "        self.params = [W]\n",
    "        self.grads = [np.zeros_like(W)]\n",
    "        self.x = None\n",
    "        \n",
    "    def forward(self, x):\n",
    "        W, = self.params\n",
    "        out = np.dot(x, W)\n",
    "        self.x = x\n",
    "        return out\n",
    "    \n",
    "    def backward(self, dout):\n",
    "        W, = self.params\n",
    "        dx = np.dot(dout, W.T)\n",
    "        dW = np.dot(self.x.T, dout)\n",
    "        self.grads[0][...] = dw\n",
    "        return dx"
   ]
  },
  {
   "cell_type": "markdown",
   "id": "d22ff00a",
   "metadata": {
    "papermill": {
     "duration": 0.017134,
     "end_time": "2022-05-13T01:46:13.856399",
     "exception": false,
     "start_time": "2022-05-13T01:46:13.839265",
     "status": "completed"
    },
    "tags": []
   },
   "source": [
    "3 点リーダーで、上書き（深いコピー）が行われている。"
   ]
  },
  {
   "cell_type": "markdown",
   "id": "4971cd93",
   "metadata": {
    "papermill": {
     "duration": 0.016534,
     "end_time": "2022-05-13T01:46:13.889590",
     "exception": false,
     "start_time": "2022-05-13T01:46:13.873056",
     "status": "completed"
    },
    "tags": []
   },
   "source": [
    "### 1.3.5　勾配の導出と逆伝播の実装"
   ]
  },
  {
   "cell_type": "markdown",
   "id": "366c2207",
   "metadata": {
    "papermill": {
     "duration": 0.016245,
     "end_time": "2022-05-13T01:46:13.922489",
     "exception": false,
     "start_time": "2022-05-13T01:46:13.906244",
     "status": "completed"
    },
    "tags": []
   },
   "source": [
    "#### 1.3.5.1　Sigmoid レイヤ"
   ]
  },
  {
   "cell_type": "code",
   "execution_count": 7,
   "id": "4332fecc",
   "metadata": {
    "execution": {
     "iopub.execute_input": "2022-05-13T01:46:13.957997Z",
     "iopub.status.busy": "2022-05-13T01:46:13.957225Z",
     "iopub.status.idle": "2022-05-13T01:46:13.963802Z",
     "shell.execute_reply": "2022-05-13T01:46:13.963012Z"
    },
    "papermill": {
     "duration": 0.026329,
     "end_time": "2022-05-13T01:46:13.965761",
     "exception": false,
     "start_time": "2022-05-13T01:46:13.939432",
     "status": "completed"
    },
    "tags": []
   },
   "outputs": [],
   "source": [
    "class sigmoid:\n",
    "    def __init__(self):\n",
    "        self.params, self.grads = [], []\n",
    "        self.out = None\n",
    "        \n",
    "    def forward(self, x):\n",
    "        out = 1 / (1 + np.exp(-x))\n",
    "        self.out = out\n",
    "        return out\n",
    "    \n",
    "    def backward(self, dout):\n",
    "        dx = dout * (1.0 - self.out) * self.out\n",
    "        return dx"
   ]
  },
  {
   "cell_type": "markdown",
   "id": "97a265d7",
   "metadata": {
    "papermill": {
     "duration": 0.016412,
     "end_time": "2022-05-13T01:46:14.001279",
     "exception": false,
     "start_time": "2022-05-13T01:46:13.984867",
     "status": "completed"
    },
    "tags": []
   },
   "source": [
    "#### 1.3.5.2　Affine レイヤ"
   ]
  },
  {
   "cell_type": "code",
   "execution_count": 8,
   "id": "7630e5b7",
   "metadata": {
    "execution": {
     "iopub.execute_input": "2022-05-13T01:46:14.036976Z",
     "iopub.status.busy": "2022-05-13T01:46:14.036659Z",
     "iopub.status.idle": "2022-05-13T01:46:14.045193Z",
     "shell.execute_reply": "2022-05-13T01:46:14.044111Z"
    },
    "papermill": {
     "duration": 0.029238,
     "end_time": "2022-05-13T01:46:14.047303",
     "exception": false,
     "start_time": "2022-05-13T01:46:14.018065",
     "status": "completed"
    },
    "tags": []
   },
   "outputs": [],
   "source": [
    "class Affine:\n",
    "    def __init__(self, W, b):\n",
    "        self.params = [W, b]\n",
    "        self.grads = [np.zeros_like(W), np.zeros_like(b)]\n",
    "        self.x = None\n",
    "        \n",
    "    def forward(self, x):\n",
    "        W, b = self.params\n",
    "        out = np.dot(x, W) + b\n",
    "        self.x = x\n",
    "        return out\n",
    "    \n",
    "    def backward(self, dout):\n",
    "        W, b = self.params\n",
    "        dx = np.dot(dout, W.T)\n",
    "        dW = np.dot(self.x.T, dout)\n",
    "        db = np.sum(dout, axis=0)\n",
    "        \n",
    "        self.grads[0][...] = dW\n",
    "        self.grads[1][...] = db\n",
    "        return dx"
   ]
  },
  {
   "cell_type": "markdown",
   "id": "5fc16882",
   "metadata": {
    "papermill": {
     "duration": 0.016448,
     "end_time": "2022-05-13T01:46:14.080613",
     "exception": false,
     "start_time": "2022-05-13T01:46:14.064165",
     "status": "completed"
    },
    "tags": []
   },
   "source": [
    "### 1.3.6　重みの更新"
   ]
  },
  {
   "cell_type": "code",
   "execution_count": 9,
   "id": "8e4f6e8f",
   "metadata": {
    "execution": {
     "iopub.execute_input": "2022-05-13T01:46:14.116221Z",
     "iopub.status.busy": "2022-05-13T01:46:14.115929Z",
     "iopub.status.idle": "2022-05-13T01:46:14.121174Z",
     "shell.execute_reply": "2022-05-13T01:46:14.120307Z"
    },
    "papermill": {
     "duration": 0.025856,
     "end_time": "2022-05-13T01:46:14.123251",
     "exception": false,
     "start_time": "2022-05-13T01:46:14.097395",
     "status": "completed"
    },
    "tags": []
   },
   "outputs": [],
   "source": [
    "class SGD:\n",
    "    def __init__(self, lr=0.01):\n",
    "        self.lr = lr\n",
    "        \n",
    "    def update(self, params, grads):\n",
    "        for i in range(len(params)):\n",
    "            params[i] -= self.lr * grads[i]"
   ]
  }
 ],
 "metadata": {
  "kernelspec": {
   "display_name": "Python 3",
   "language": "python",
   "name": "python3"
  },
  "language_info": {
   "codemirror_mode": {
    "name": "ipython",
    "version": 3
   },
   "file_extension": ".py",
   "mimetype": "text/x-python",
   "name": "python",
   "nbconvert_exporter": "python",
   "pygments_lexer": "ipython3",
   "version": "3.7.12"
  },
  "papermill": {
   "default_parameters": {},
   "duration": 12.014196,
   "end_time": "2022-05-13T01:46:14.761483",
   "environment_variables": {},
   "exception": null,
   "input_path": "__notebook__.ipynb",
   "output_path": "__notebook__.ipynb",
   "parameters": {},
   "start_time": "2022-05-13T01:46:02.747287",
   "version": "2.3.4"
  }
 },
 "nbformat": 4,
 "nbformat_minor": 5
}
