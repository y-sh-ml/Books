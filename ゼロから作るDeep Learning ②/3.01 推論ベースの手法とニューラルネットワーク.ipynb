{
 "cells": [
  {
   "cell_type": "markdown",
   "id": "2d5e7590",
   "metadata": {
    "_cell_guid": "b1076dfc-b9ad-4769-8c92-a6c4dae69d19",
    "_uuid": "8f2839f25d086af736a60e9eeb907d3b93b6e0e5",
    "papermill": {
     "duration": 0.009425,
     "end_time": "2022-04-21T02:19:58.115456",
     "exception": false,
     "start_time": "2022-04-21T02:19:58.106031",
     "status": "completed"
    },
    "tags": []
   },
   "source": [
    "## 3.1　推論ベースの手法とニューラルネットワーク"
   ]
  },
  {
   "cell_type": "code",
   "execution_count": 1,
   "id": "24b2ac48",
   "metadata": {
    "execution": {
     "iopub.execute_input": "2022-04-21T02:19:58.134019Z",
     "iopub.status.busy": "2022-04-21T02:19:58.133543Z",
     "iopub.status.idle": "2022-04-21T02:19:58.147332Z",
     "shell.execute_reply": "2022-04-21T02:19:58.146633Z"
    },
    "papermill": {
     "duration": 0.026691,
     "end_time": "2022-04-21T02:19:58.150582",
     "exception": false,
     "start_time": "2022-04-21T02:19:58.123891",
     "status": "completed"
    },
    "tags": []
   },
   "outputs": [],
   "source": [
    "import sys\n",
    "import numpy as np"
   ]
  },
  {
   "cell_type": "code",
   "execution_count": 2,
   "id": "cbf00c5b",
   "metadata": {
    "execution": {
     "iopub.execute_input": "2022-04-21T02:19:58.175300Z",
     "iopub.status.busy": "2022-04-21T02:19:58.174821Z",
     "iopub.status.idle": "2022-04-21T02:19:58.179552Z",
     "shell.execute_reply": "2022-04-21T02:19:58.178634Z"
    },
    "papermill": {
     "duration": 0.020651,
     "end_time": "2022-04-21T02:19:58.182232",
     "exception": false,
     "start_time": "2022-04-21T02:19:58.161581",
     "status": "completed"
    },
    "tags": []
   },
   "outputs": [],
   "source": [
    "sys.path.append('../input/deeplearningfromscratch2master/deep-learning-from-scratch-2-master')"
   ]
  },
  {
   "cell_type": "code",
   "execution_count": 3,
   "id": "bab5f032",
   "metadata": {
    "execution": {
     "iopub.execute_input": "2022-04-21T02:19:58.206001Z",
     "iopub.status.busy": "2022-04-21T02:19:58.205200Z",
     "iopub.status.idle": "2022-04-21T02:19:58.262146Z",
     "shell.execute_reply": "2022-04-21T02:19:58.261483Z"
    },
    "papermill": {
     "duration": 0.069248,
     "end_time": "2022-04-21T02:19:58.264280",
     "exception": false,
     "start_time": "2022-04-21T02:19:58.195032",
     "status": "completed"
    },
    "tags": []
   },
   "outputs": [],
   "source": [
    "from common.layers import MatMul"
   ]
  },
  {
   "cell_type": "markdown",
   "id": "725f705e",
   "metadata": {
    "papermill": {
     "duration": 0.008145,
     "end_time": "2022-04-21T02:19:58.280788",
     "exception": false,
     "start_time": "2022-04-21T02:19:58.272643",
     "status": "completed"
    },
    "tags": []
   },
   "source": [
    "### 3.1.3　ニューラルネットワークにおける単語の処理方法"
   ]
  },
  {
   "cell_type": "code",
   "execution_count": 4,
   "id": "17eee564",
   "metadata": {
    "execution": {
     "iopub.execute_input": "2022-04-21T02:19:58.299007Z",
     "iopub.status.busy": "2022-04-21T02:19:58.298463Z",
     "iopub.status.idle": "2022-04-21T02:19:58.307820Z",
     "shell.execute_reply": "2022-04-21T02:19:58.307143Z"
    },
    "papermill": {
     "duration": 0.021875,
     "end_time": "2022-04-21T02:19:58.310850",
     "exception": false,
     "start_time": "2022-04-21T02:19:58.288975",
     "status": "completed"
    },
    "tags": []
   },
   "outputs": [
    {
     "name": "stdout",
     "output_type": "stream",
     "text": [
      "C\n",
      "[1 0 0 0 0 0 0]\n",
      "W\n",
      "[[ 0.38195308 -1.04431733  0.57852854]\n",
      " [ 0.18242308 -1.85629848 -2.24142461]\n",
      " [-1.64884369 -0.28013758  1.11099481]\n",
      " [-0.2927067   0.17678182  0.1233994 ]\n",
      " [ 1.62724595  0.13396386  0.32548187]\n",
      " [ 0.0182595   0.85973084  1.2849385 ]\n",
      " [-0.05293262  0.93596607 -0.46601532]]\n",
      "h\n",
      "[ 0.38195308 -1.04431733  0.57852854]\n"
     ]
    }
   ],
   "source": [
    "c = np.array([1, 0, 0, 0, 0, 0, 0])\n",
    "W = np.random.randn(7, 3)\n",
    "h = np.dot(c, W)\n",
    "\n",
    "print('C')\n",
    "print(c)\n",
    "print('W')\n",
    "print(W)\n",
    "print('h')\n",
    "print(h)"
   ]
  },
  {
   "cell_type": "markdown",
   "id": "64b2d695",
   "metadata": {
    "papermill": {
     "duration": 0.008474,
     "end_time": "2022-04-21T02:19:58.329317",
     "exception": false,
     "start_time": "2022-04-21T02:19:58.320843",
     "status": "completed"
    },
    "tags": []
   },
   "source": [
    "`W` の 1 行目には 1 を掛けるが、それ以降の行には 0 が掛けられるので、結果的に `W` の1 行目だけが計算される。"
   ]
  },
  {
   "cell_type": "code",
   "execution_count": 5,
   "id": "f5fa5e77",
   "metadata": {
    "execution": {
     "iopub.execute_input": "2022-04-21T02:19:58.348639Z",
     "iopub.status.busy": "2022-04-21T02:19:58.347994Z",
     "iopub.status.idle": "2022-04-21T02:19:58.353584Z",
     "shell.execute_reply": "2022-04-21T02:19:58.352520Z"
    },
    "papermill": {
     "duration": 0.018389,
     "end_time": "2022-04-21T02:19:58.356378",
     "exception": false,
     "start_time": "2022-04-21T02:19:58.337989",
     "status": "completed"
    },
    "tags": []
   },
   "outputs": [
    {
     "name": "stdout",
     "output_type": "stream",
     "text": [
      "[ 0.38195308 -1.04431733  0.57852854]\n"
     ]
    }
   ],
   "source": [
    "layer = MatMul(W)\n",
    "h = layer.forward(c)\n",
    "print(h)"
   ]
  }
 ],
 "metadata": {
  "kernelspec": {
   "display_name": "Python 3",
   "language": "python",
   "name": "python3"
  },
  "language_info": {
   "codemirror_mode": {
    "name": "ipython",
    "version": 3
   },
   "file_extension": ".py",
   "mimetype": "text/x-python",
   "name": "python",
   "nbconvert_exporter": "python",
   "pygments_lexer": "ipython3",
   "version": "3.7.12"
  },
  "papermill": {
   "default_parameters": {},
   "duration": 11.123132,
   "end_time": "2022-04-21T02:19:59.086851",
   "environment_variables": {},
   "exception": null,
   "input_path": "__notebook__.ipynb",
   "output_path": "__notebook__.ipynb",
   "parameters": {},
   "start_time": "2022-04-21T02:19:47.963719",
   "version": "2.3.4"
  }
 },
 "nbformat": 4,
 "nbformat_minor": 5
}
