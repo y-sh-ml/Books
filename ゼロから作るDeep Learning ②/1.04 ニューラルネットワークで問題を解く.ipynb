{
 "cells": [
  {
   "cell_type": "markdown",
   "id": "5cd28747",
   "metadata": {
    "_cell_guid": "b1076dfc-b9ad-4769-8c92-a6c4dae69d19",
    "_uuid": "8f2839f25d086af736a60e9eeb907d3b93b6e0e5",
    "papermill": {
     "duration": 0.021719,
     "end_time": "2022-05-13T01:44:14.624732",
     "exception": false,
     "start_time": "2022-05-13T01:44:14.603013",
     "status": "completed"
    },
    "tags": []
   },
   "source": [
    "## 1.4　ニューラルネットワークで問題を解く"
   ]
  },
  {
   "cell_type": "code",
   "execution_count": 1,
   "id": "f4db8f74",
   "metadata": {
    "execution": {
     "iopub.execute_input": "2022-05-13T01:44:14.667037Z",
     "iopub.status.busy": "2022-05-13T01:44:14.666488Z",
     "iopub.status.idle": "2022-05-13T01:44:14.676830Z",
     "shell.execute_reply": "2022-05-13T01:44:14.675929Z"
    },
    "papermill": {
     "duration": 0.03476,
     "end_time": "2022-05-13T01:44:14.679521",
     "exception": false,
     "start_time": "2022-05-13T01:44:14.644761",
     "status": "completed"
    },
    "tags": []
   },
   "outputs": [],
   "source": [
    "import sys\n",
    "import numpy as np\n",
    "import matplotlib.pyplot as plt"
   ]
  },
  {
   "cell_type": "code",
   "execution_count": 2,
   "id": "b909ead3",
   "metadata": {
    "execution": {
     "iopub.execute_input": "2022-05-13T01:44:14.722577Z",
     "iopub.status.busy": "2022-05-13T01:44:14.721941Z",
     "iopub.status.idle": "2022-05-13T01:44:14.727065Z",
     "shell.execute_reply": "2022-05-13T01:44:14.725770Z"
    },
    "papermill": {
     "duration": 0.02965,
     "end_time": "2022-05-13T01:44:14.729868",
     "exception": false,
     "start_time": "2022-05-13T01:44:14.700218",
     "status": "completed"
    },
    "tags": []
   },
   "outputs": [],
   "source": [
    "sys.path.append('../input/deeplearningfromscratch2master/deep-learning-from-scratch-2-master')"
   ]
  },
  {
   "cell_type": "code",
   "execution_count": 3,
   "id": "0a4b2220",
   "metadata": {
    "execution": {
     "iopub.execute_input": "2022-05-13T01:44:14.773299Z",
     "iopub.status.busy": "2022-05-13T01:44:14.772955Z",
     "iopub.status.idle": "2022-05-13T01:44:14.838793Z",
     "shell.execute_reply": "2022-05-13T01:44:14.837927Z"
    },
    "papermill": {
     "duration": 0.090253,
     "end_time": "2022-05-13T01:44:14.841549",
     "exception": false,
     "start_time": "2022-05-13T01:44:14.751296",
     "status": "completed"
    },
    "tags": []
   },
   "outputs": [],
   "source": [
    "from dataset import spiral\n",
    "from common.layers import Affine, Sigmoid, SoftmaxWithLoss\n",
    "from common.optimizer import SGD\n",
    "from common.trainer import Trainer"
   ]
  },
  {
   "cell_type": "markdown",
   "id": "c04bef03",
   "metadata": {
    "papermill": {
     "duration": 0.019529,
     "end_time": "2022-05-13T01:44:14.882917",
     "exception": false,
     "start_time": "2022-05-13T01:44:14.863388",
     "status": "completed"
    },
    "tags": []
   },
   "source": [
    "### 1.4.1　スパイラル・データセット"
   ]
  },
  {
   "cell_type": "code",
   "execution_count": 4,
   "id": "e8c70f1a",
   "metadata": {
    "execution": {
     "iopub.execute_input": "2022-05-13T01:44:14.926180Z",
     "iopub.status.busy": "2022-05-13T01:44:14.925615Z",
     "iopub.status.idle": "2022-05-13T01:44:14.936931Z",
     "shell.execute_reply": "2022-05-13T01:44:14.935954Z"
    },
    "papermill": {
     "duration": 0.035594,
     "end_time": "2022-05-13T01:44:14.939330",
     "exception": false,
     "start_time": "2022-05-13T01:44:14.903736",
     "status": "completed"
    },
    "tags": []
   },
   "outputs": [
    {
     "name": "stdout",
     "output_type": "stream",
     "text": [
      "x (300, 2)\n",
      "t (300, 3)\n"
     ]
    }
   ],
   "source": [
    "x, t = spiral.load_data()\n",
    "print('x', x.shape)\n",
    "print('t', t.shape)"
   ]
  },
  {
   "cell_type": "code",
   "execution_count": 5,
   "id": "71afed89",
   "metadata": {
    "execution": {
     "iopub.execute_input": "2022-05-13T01:44:14.984693Z",
     "iopub.status.busy": "2022-05-13T01:44:14.983834Z",
     "iopub.status.idle": "2022-05-13T01:44:14.994739Z",
     "shell.execute_reply": "2022-05-13T01:44:14.993636Z"
    },
    "papermill": {
     "duration": 0.037223,
     "end_time": "2022-05-13T01:44:14.997298",
     "exception": false,
     "start_time": "2022-05-13T01:44:14.960075",
     "status": "completed"
    },
    "tags": []
   },
   "outputs": [
    {
     "name": "stdout",
     "output_type": "stream",
     "text": [
      "x\n",
      "[[-0.          0.        ]\n",
      " [-0.00097699  0.00995216]\n",
      " [ 0.00512668  0.01933176]\n",
      " [-0.00038604  0.02999752]\n",
      " [ 0.01425097  0.03737526]]\n",
      "t\n",
      "[[1 0 0]\n",
      " [1 0 0]\n",
      " [1 0 0]\n",
      " [1 0 0]\n",
      " [1 0 0]]\n"
     ]
    }
   ],
   "source": [
    "print('x')\n",
    "print(x[:5])\n",
    "print('t')\n",
    "print(t[:5])"
   ]
  },
  {
   "cell_type": "markdown",
   "id": "be23757e",
   "metadata": {
    "papermill": {
     "duration": 0.022113,
     "end_time": "2022-05-13T01:44:15.041667",
     "exception": false,
     "start_time": "2022-05-13T01:44:15.019554",
     "status": "completed"
    },
    "tags": []
   },
   "source": [
    "### 1.4.2　ニューラルネットワークの実装"
   ]
  },
  {
   "cell_type": "markdown",
   "id": "75fed2c4",
   "metadata": {
    "papermill": {
     "duration": 0.022696,
     "end_time": "2022-05-13T01:44:15.088640",
     "exception": false,
     "start_time": "2022-05-13T01:44:15.065944",
     "status": "completed"
    },
    "tags": []
   },
   "source": [
    "入力層が 1 つ、中間層が 1 つ、出力層が 1 つのニューラルネットワークを実装する。"
   ]
  },
  {
   "cell_type": "code",
   "execution_count": 6,
   "id": "870f5d55",
   "metadata": {
    "execution": {
     "iopub.execute_input": "2022-05-13T01:44:15.138205Z",
     "iopub.status.busy": "2022-05-13T01:44:15.137486Z",
     "iopub.status.idle": "2022-05-13T01:44:15.149709Z",
     "shell.execute_reply": "2022-05-13T01:44:15.148407Z"
    },
    "papermill": {
     "duration": 0.04144,
     "end_time": "2022-05-13T01:44:15.152660",
     "exception": false,
     "start_time": "2022-05-13T01:44:15.111220",
     "status": "completed"
    },
    "tags": []
   },
   "outputs": [],
   "source": [
    "class TwoLayerNet:\n",
    "    def __init__(self, input_size, hidden_size, output_size):\n",
    "        I, H, O = input_size, hidden_size, output_size\n",
    "        \n",
    "        W1 = 0.01 * np.random.randn(I, H)\n",
    "        b1 = np.zeros(H)\n",
    "        W2 = 0.01 * np.random.randn(H, O)\n",
    "        b2 = np.zeros(O)\n",
    "        \n",
    "        self.layers = [Affine(W1, b1), Sigmoid(), Affine(W2, b2)]\n",
    "        self.loss_layer = SoftmaxWithLoss()\n",
    "        \n",
    "        self.params, self.grads = [], []\n",
    "        for layer in self.layers:\n",
    "            self.params += layer.params\n",
    "            self.grads += layer.grads\n",
    "            \n",
    "    def predict(self, x):\n",
    "        for layer in self.layers:\n",
    "            x = layer.forward(x)\n",
    "        return x\n",
    "        \n",
    "    def forward(self, x, t):\n",
    "        score = self.predict(x)\n",
    "        loss = self.loss_layer.forward(score, t)\n",
    "        return loss\n",
    "        \n",
    "    def backward(self, dout=1):\n",
    "        dout = self.loss_layer.backward(dout)\n",
    "        for layer in reversed(self.layers):\n",
    "            dout = layer.backward(dout)\n",
    "        return dout"
   ]
  },
  {
   "cell_type": "markdown",
   "id": "7f913f1c",
   "metadata": {
    "papermill": {
     "duration": 0.022561,
     "end_time": "2022-05-13T01:44:15.197236",
     "exception": false,
     "start_time": "2022-05-13T01:44:15.174675",
     "status": "completed"
    },
    "tags": []
   },
   "source": [
    "### 1.4.3　学習用のソースコード"
   ]
  },
  {
   "cell_type": "code",
   "execution_count": 7,
   "id": "a863a290",
   "metadata": {
    "execution": {
     "iopub.execute_input": "2022-05-13T01:44:15.241506Z",
     "iopub.status.busy": "2022-05-13T01:44:15.241176Z",
     "iopub.status.idle": "2022-05-13T01:44:15.245464Z",
     "shell.execute_reply": "2022-05-13T01:44:15.244727Z"
    },
    "papermill": {
     "duration": 0.029645,
     "end_time": "2022-05-13T01:44:15.247596",
     "exception": false,
     "start_time": "2022-05-13T01:44:15.217951",
     "status": "completed"
    },
    "tags": []
   },
   "outputs": [],
   "source": [
    "max_epoch = 300\n",
    "batch_size = 30\n",
    "hidden_size = 10\n",
    "learning_rate = 1.0"
   ]
  },
  {
   "cell_type": "markdown",
   "id": "47bac5d3",
   "metadata": {
    "papermill": {
     "duration": 0.021708,
     "end_time": "2022-05-13T01:44:15.291077",
     "exception": false,
     "start_time": "2022-05-13T01:44:15.269369",
     "status": "completed"
    },
    "tags": []
   },
   "source": [
    "入力層が 2 層、中間層が 10 層、出力層が 3 層のニューラルネットワークを作成する。"
   ]
  },
  {
   "cell_type": "code",
   "execution_count": 8,
   "id": "f06bcf0f",
   "metadata": {
    "execution": {
     "iopub.execute_input": "2022-05-13T01:44:15.337794Z",
     "iopub.status.busy": "2022-05-13T01:44:15.337222Z",
     "iopub.status.idle": "2022-05-13T01:44:15.345145Z",
     "shell.execute_reply": "2022-05-13T01:44:15.343766Z"
    },
    "papermill": {
     "duration": 0.034433,
     "end_time": "2022-05-13T01:44:15.347773",
     "exception": false,
     "start_time": "2022-05-13T01:44:15.313340",
     "status": "completed"
    },
    "tags": []
   },
   "outputs": [],
   "source": [
    "x, t = spiral.load_data()\n",
    "model = TwoLayerNet(input_size=2, hidden_size=hidden_size, output_size=3)\n",
    "optimizer = SGD(lr=learning_rate)"
   ]
  },
  {
   "cell_type": "code",
   "execution_count": 9,
   "id": "403d6dd7",
   "metadata": {
    "execution": {
     "iopub.execute_input": "2022-05-13T01:44:15.393534Z",
     "iopub.status.busy": "2022-05-13T01:44:15.392891Z",
     "iopub.status.idle": "2022-05-13T01:44:15.398851Z",
     "shell.execute_reply": "2022-05-13T01:44:15.397568Z"
    },
    "papermill": {
     "duration": 0.031576,
     "end_time": "2022-05-13T01:44:15.401075",
     "exception": false,
     "start_time": "2022-05-13T01:44:15.369499",
     "status": "completed"
    },
    "tags": []
   },
   "outputs": [
    {
     "name": "stdout",
     "output_type": "stream",
     "text": [
      "300\n",
      "30\n"
     ]
    }
   ],
   "source": [
    "data_size = len(x)\n",
    "max_iters = data_size // batch_size\n",
    "total_loss = 0\n",
    "loss_count = 0\n",
    "loss_list = []\n",
    "\n",
    "print(data_size)\n",
    "print(batch_size)"
   ]
  },
  {
   "cell_type": "markdown",
   "id": "410c587a",
   "metadata": {
    "papermill": {
     "duration": 0.020756,
     "end_time": "2022-05-13T01:44:15.443838",
     "exception": false,
     "start_time": "2022-05-13T01:44:15.423082",
     "status": "completed"
    },
    "tags": []
   },
   "source": [
    "1 `epoch` が 300 に対して、`batch_size` は 30 のため、`max_iter` は 10 になる。<br>\n",
    "`max_epoch` は 300 なので、データを 300 周したことになる。"
   ]
  },
  {
   "cell_type": "code",
   "execution_count": 10,
   "id": "a25f7a40",
   "metadata": {
    "execution": {
     "iopub.execute_input": "2022-05-13T01:44:15.488664Z",
     "iopub.status.busy": "2022-05-13T01:44:15.488335Z",
     "iopub.status.idle": "2022-05-13T01:44:16.244612Z",
     "shell.execute_reply": "2022-05-13T01:44:16.243483Z"
    },
    "papermill": {
     "duration": 0.781305,
     "end_time": "2022-05-13T01:44:16.247003",
     "exception": false,
     "start_time": "2022-05-13T01:44:15.465698",
     "status": "completed"
    },
    "tags": []
   },
   "outputs": [
    {
     "name": "stdout",
     "output_type": "stream",
     "text": [
      "| epoch 1 | iter 10 / 10 | loss 1.13\n",
      "| epoch 2 | iter 10 / 10 | loss 1.13\n",
      "| epoch 3 | iter 10 / 10 | loss 1.12\n",
      "| epoch 4 | iter 10 / 10 | loss 1.12\n",
      "| epoch 5 | iter 10 / 10 | loss 1.11\n",
      "| epoch 6 | iter 10 / 10 | loss 1.14\n",
      "| epoch 7 | iter 10 / 10 | loss 1.16\n",
      "| epoch 8 | iter 10 / 10 | loss 1.11\n",
      "| epoch 9 | iter 10 / 10 | loss 1.12\n",
      "| epoch 10 | iter 10 / 10 | loss 1.13\n",
      "| epoch 11 | iter 10 / 10 | loss 1.12\n",
      "| epoch 12 | iter 10 / 10 | loss 1.11\n",
      "| epoch 13 | iter 10 / 10 | loss 1.09\n",
      "| epoch 14 | iter 10 / 10 | loss 1.08\n",
      "| epoch 15 | iter 10 / 10 | loss 1.04\n",
      "| epoch 16 | iter 10 / 10 | loss 1.03\n",
      "| epoch 17 | iter 10 / 10 | loss 0.96\n",
      "| epoch 18 | iter 10 / 10 | loss 0.92\n",
      "| epoch 19 | iter 10 / 10 | loss 0.92\n",
      "| epoch 20 | iter 10 / 10 | loss 0.87\n",
      "| epoch 21 | iter 10 / 10 | loss 0.85\n",
      "| epoch 22 | iter 10 / 10 | loss 0.82\n",
      "| epoch 23 | iter 10 / 10 | loss 0.79\n",
      "| epoch 24 | iter 10 / 10 | loss 0.78\n",
      "| epoch 25 | iter 10 / 10 | loss 0.82\n",
      "| epoch 26 | iter 10 / 10 | loss 0.78\n",
      "| epoch 27 | iter 10 / 10 | loss 0.76\n",
      "| epoch 28 | iter 10 / 10 | loss 0.76\n",
      "| epoch 29 | iter 10 / 10 | loss 0.78\n",
      "| epoch 30 | iter 10 / 10 | loss 0.75\n",
      "| epoch 31 | iter 10 / 10 | loss 0.78\n",
      "| epoch 32 | iter 10 / 10 | loss 0.77\n",
      "| epoch 33 | iter 10 / 10 | loss 0.77\n",
      "| epoch 34 | iter 10 / 10 | loss 0.78\n",
      "| epoch 35 | iter 10 / 10 | loss 0.75\n",
      "| epoch 36 | iter 10 / 10 | loss 0.74\n",
      "| epoch 37 | iter 10 / 10 | loss 0.76\n",
      "| epoch 38 | iter 10 / 10 | loss 0.76\n",
      "| epoch 39 | iter 10 / 10 | loss 0.73\n",
      "| epoch 40 | iter 10 / 10 | loss 0.75\n",
      "| epoch 41 | iter 10 / 10 | loss 0.76\n",
      "| epoch 42 | iter 10 / 10 | loss 0.76\n",
      "| epoch 43 | iter 10 / 10 | loss 0.76\n",
      "| epoch 44 | iter 10 / 10 | loss 0.74\n",
      "| epoch 45 | iter 10 / 10 | loss 0.75\n",
      "| epoch 46 | iter 10 / 10 | loss 0.73\n",
      "| epoch 47 | iter 10 / 10 | loss 0.72\n",
      "| epoch 48 | iter 10 / 10 | loss 0.73\n",
      "| epoch 49 | iter 10 / 10 | loss 0.72\n",
      "| epoch 50 | iter 10 / 10 | loss 0.72\n",
      "| epoch 51 | iter 10 / 10 | loss 0.72\n",
      "| epoch 52 | iter 10 / 10 | loss 0.72\n",
      "| epoch 53 | iter 10 / 10 | loss 0.74\n",
      "| epoch 54 | iter 10 / 10 | loss 0.74\n",
      "| epoch 55 | iter 10 / 10 | loss 0.72\n",
      "| epoch 56 | iter 10 / 10 | loss 0.72\n",
      "| epoch 57 | iter 10 / 10 | loss 0.71\n",
      "| epoch 58 | iter 10 / 10 | loss 0.70\n",
      "| epoch 59 | iter 10 / 10 | loss 0.72\n",
      "| epoch 60 | iter 10 / 10 | loss 0.70\n",
      "| epoch 61 | iter 10 / 10 | loss 0.71\n",
      "| epoch 62 | iter 10 / 10 | loss 0.72\n",
      "| epoch 63 | iter 10 / 10 | loss 0.70\n",
      "| epoch 64 | iter 10 / 10 | loss 0.71\n",
      "| epoch 65 | iter 10 / 10 | loss 0.73\n",
      "| epoch 66 | iter 10 / 10 | loss 0.70\n",
      "| epoch 67 | iter 10 / 10 | loss 0.71\n",
      "| epoch 68 | iter 10 / 10 | loss 0.69\n",
      "| epoch 69 | iter 10 / 10 | loss 0.70\n",
      "| epoch 70 | iter 10 / 10 | loss 0.71\n",
      "| epoch 71 | iter 10 / 10 | loss 0.68\n",
      "| epoch 72 | iter 10 / 10 | loss 0.69\n",
      "| epoch 73 | iter 10 / 10 | loss 0.67\n",
      "| epoch 74 | iter 10 / 10 | loss 0.68\n",
      "| epoch 75 | iter 10 / 10 | loss 0.67\n",
      "| epoch 76 | iter 10 / 10 | loss 0.66\n",
      "| epoch 77 | iter 10 / 10 | loss 0.69\n",
      "| epoch 78 | iter 10 / 10 | loss 0.64\n",
      "| epoch 79 | iter 10 / 10 | loss 0.68\n",
      "| epoch 80 | iter 10 / 10 | loss 0.64\n",
      "| epoch 81 | iter 10 / 10 | loss 0.64\n",
      "| epoch 82 | iter 10 / 10 | loss 0.66\n",
      "| epoch 83 | iter 10 / 10 | loss 0.62\n",
      "| epoch 84 | iter 10 / 10 | loss 0.62\n",
      "| epoch 85 | iter 10 / 10 | loss 0.61\n",
      "| epoch 86 | iter 10 / 10 | loss 0.60\n",
      "| epoch 87 | iter 10 / 10 | loss 0.60\n",
      "| epoch 88 | iter 10 / 10 | loss 0.61\n",
      "| epoch 89 | iter 10 / 10 | loss 0.59\n",
      "| epoch 90 | iter 10 / 10 | loss 0.58\n",
      "| epoch 91 | iter 10 / 10 | loss 0.56\n",
      "| epoch 92 | iter 10 / 10 | loss 0.56\n",
      "| epoch 93 | iter 10 / 10 | loss 0.54\n",
      "| epoch 94 | iter 10 / 10 | loss 0.53\n",
      "| epoch 95 | iter 10 / 10 | loss 0.53\n",
      "| epoch 96 | iter 10 / 10 | loss 0.52\n",
      "| epoch 97 | iter 10 / 10 | loss 0.51\n",
      "| epoch 98 | iter 10 / 10 | loss 0.50\n",
      "| epoch 99 | iter 10 / 10 | loss 0.48\n",
      "| epoch 100 | iter 10 / 10 | loss 0.48\n",
      "| epoch 101 | iter 10 / 10 | loss 0.46\n",
      "| epoch 102 | iter 10 / 10 | loss 0.45\n",
      "| epoch 103 | iter 10 / 10 | loss 0.45\n",
      "| epoch 104 | iter 10 / 10 | loss 0.44\n",
      "| epoch 105 | iter 10 / 10 | loss 0.44\n",
      "| epoch 106 | iter 10 / 10 | loss 0.41\n",
      "| epoch 107 | iter 10 / 10 | loss 0.40\n",
      "| epoch 108 | iter 10 / 10 | loss 0.41\n",
      "| epoch 109 | iter 10 / 10 | loss 0.40\n",
      "| epoch 110 | iter 10 / 10 | loss 0.40\n",
      "| epoch 111 | iter 10 / 10 | loss 0.38\n",
      "| epoch 112 | iter 10 / 10 | loss 0.38\n",
      "| epoch 113 | iter 10 / 10 | loss 0.36\n",
      "| epoch 114 | iter 10 / 10 | loss 0.37\n",
      "| epoch 115 | iter 10 / 10 | loss 0.35\n",
      "| epoch 116 | iter 10 / 10 | loss 0.34\n",
      "| epoch 117 | iter 10 / 10 | loss 0.34\n",
      "| epoch 118 | iter 10 / 10 | loss 0.34\n",
      "| epoch 119 | iter 10 / 10 | loss 0.33\n",
      "| epoch 120 | iter 10 / 10 | loss 0.34\n",
      "| epoch 121 | iter 10 / 10 | loss 0.32\n",
      "| epoch 122 | iter 10 / 10 | loss 0.32\n",
      "| epoch 123 | iter 10 / 10 | loss 0.31\n",
      "| epoch 124 | iter 10 / 10 | loss 0.31\n",
      "| epoch 125 | iter 10 / 10 | loss 0.30\n",
      "| epoch 126 | iter 10 / 10 | loss 0.30\n",
      "| epoch 127 | iter 10 / 10 | loss 0.28\n",
      "| epoch 128 | iter 10 / 10 | loss 0.28\n",
      "| epoch 129 | iter 10 / 10 | loss 0.28\n",
      "| epoch 130 | iter 10 / 10 | loss 0.28\n",
      "| epoch 131 | iter 10 / 10 | loss 0.27\n",
      "| epoch 132 | iter 10 / 10 | loss 0.27\n",
      "| epoch 133 | iter 10 / 10 | loss 0.27\n",
      "| epoch 134 | iter 10 / 10 | loss 0.27\n",
      "| epoch 135 | iter 10 / 10 | loss 0.27\n",
      "| epoch 136 | iter 10 / 10 | loss 0.26\n",
      "| epoch 137 | iter 10 / 10 | loss 0.26\n",
      "| epoch 138 | iter 10 / 10 | loss 0.26\n",
      "| epoch 139 | iter 10 / 10 | loss 0.25\n",
      "| epoch 140 | iter 10 / 10 | loss 0.24\n",
      "| epoch 141 | iter 10 / 10 | loss 0.24\n",
      "| epoch 142 | iter 10 / 10 | loss 0.25\n",
      "| epoch 143 | iter 10 / 10 | loss 0.24\n",
      "| epoch 144 | iter 10 / 10 | loss 0.24\n",
      "| epoch 145 | iter 10 / 10 | loss 0.23\n",
      "| epoch 146 | iter 10 / 10 | loss 0.24\n",
      "| epoch 147 | iter 10 / 10 | loss 0.23\n",
      "| epoch 148 | iter 10 / 10 | loss 0.23\n",
      "| epoch 149 | iter 10 / 10 | loss 0.22\n",
      "| epoch 150 | iter 10 / 10 | loss 0.22\n",
      "| epoch 151 | iter 10 / 10 | loss 0.22\n",
      "| epoch 152 | iter 10 / 10 | loss 0.22\n",
      "| epoch 153 | iter 10 / 10 | loss 0.22\n",
      "| epoch 154 | iter 10 / 10 | loss 0.22\n",
      "| epoch 155 | iter 10 / 10 | loss 0.22\n",
      "| epoch 156 | iter 10 / 10 | loss 0.21\n",
      "| epoch 157 | iter 10 / 10 | loss 0.21\n",
      "| epoch 158 | iter 10 / 10 | loss 0.20\n",
      "| epoch 159 | iter 10 / 10 | loss 0.21\n",
      "| epoch 160 | iter 10 / 10 | loss 0.20\n",
      "| epoch 161 | iter 10 / 10 | loss 0.20\n",
      "| epoch 162 | iter 10 / 10 | loss 0.20\n",
      "| epoch 163 | iter 10 / 10 | loss 0.21\n",
      "| epoch 164 | iter 10 / 10 | loss 0.20\n",
      "| epoch 165 | iter 10 / 10 | loss 0.20\n",
      "| epoch 166 | iter 10 / 10 | loss 0.19\n",
      "| epoch 167 | iter 10 / 10 | loss 0.19\n",
      "| epoch 168 | iter 10 / 10 | loss 0.19\n",
      "| epoch 169 | iter 10 / 10 | loss 0.19\n",
      "| epoch 170 | iter 10 / 10 | loss 0.19\n",
      "| epoch 171 | iter 10 / 10 | loss 0.19\n",
      "| epoch 172 | iter 10 / 10 | loss 0.18\n",
      "| epoch 173 | iter 10 / 10 | loss 0.18\n",
      "| epoch 174 | iter 10 / 10 | loss 0.18\n",
      "| epoch 175 | iter 10 / 10 | loss 0.18\n",
      "| epoch 176 | iter 10 / 10 | loss 0.18\n",
      "| epoch 177 | iter 10 / 10 | loss 0.18\n",
      "| epoch 178 | iter 10 / 10 | loss 0.18\n",
      "| epoch 179 | iter 10 / 10 | loss 0.17\n",
      "| epoch 180 | iter 10 / 10 | loss 0.17\n",
      "| epoch 181 | iter 10 / 10 | loss 0.18\n",
      "| epoch 182 | iter 10 / 10 | loss 0.17\n",
      "| epoch 183 | iter 10 / 10 | loss 0.18\n",
      "| epoch 184 | iter 10 / 10 | loss 0.17\n",
      "| epoch 185 | iter 10 / 10 | loss 0.17\n",
      "| epoch 186 | iter 10 / 10 | loss 0.18\n",
      "| epoch 187 | iter 10 / 10 | loss 0.17\n",
      "| epoch 188 | iter 10 / 10 | loss 0.17\n",
      "| epoch 189 | iter 10 / 10 | loss 0.17\n",
      "| epoch 190 | iter 10 / 10 | loss 0.17\n",
      "| epoch 191 | iter 10 / 10 | loss 0.16\n",
      "| epoch 192 | iter 10 / 10 | loss 0.17\n",
      "| epoch 193 | iter 10 / 10 | loss 0.16\n",
      "| epoch 194 | iter 10 / 10 | loss 0.16\n",
      "| epoch 195 | iter 10 / 10 | loss 0.16\n",
      "| epoch 196 | iter 10 / 10 | loss 0.16\n",
      "| epoch 197 | iter 10 / 10 | loss 0.16\n",
      "| epoch 198 | iter 10 / 10 | loss 0.15\n",
      "| epoch 199 | iter 10 / 10 | loss 0.16\n",
      "| epoch 200 | iter 10 / 10 | loss 0.16\n",
      "| epoch 201 | iter 10 / 10 | loss 0.15\n",
      "| epoch 202 | iter 10 / 10 | loss 0.16\n",
      "| epoch 203 | iter 10 / 10 | loss 0.16\n",
      "| epoch 204 | iter 10 / 10 | loss 0.15\n",
      "| epoch 205 | iter 10 / 10 | loss 0.16\n",
      "| epoch 206 | iter 10 / 10 | loss 0.15\n",
      "| epoch 207 | iter 10 / 10 | loss 0.15\n",
      "| epoch 208 | iter 10 / 10 | loss 0.15\n",
      "| epoch 209 | iter 10 / 10 | loss 0.15\n",
      "| epoch 210 | iter 10 / 10 | loss 0.15\n",
      "| epoch 211 | iter 10 / 10 | loss 0.15\n",
      "| epoch 212 | iter 10 / 10 | loss 0.15\n",
      "| epoch 213 | iter 10 / 10 | loss 0.15\n",
      "| epoch 214 | iter 10 / 10 | loss 0.15\n",
      "| epoch 215 | iter 10 / 10 | loss 0.15\n",
      "| epoch 216 | iter 10 / 10 | loss 0.14\n",
      "| epoch 217 | iter 10 / 10 | loss 0.14\n",
      "| epoch 218 | iter 10 / 10 | loss 0.15\n",
      "| epoch 219 | iter 10 / 10 | loss 0.14\n",
      "| epoch 220 | iter 10 / 10 | loss 0.14\n",
      "| epoch 221 | iter 10 / 10 | loss 0.14\n",
      "| epoch 222 | iter 10 / 10 | loss 0.14\n",
      "| epoch 223 | iter 10 / 10 | loss 0.14\n",
      "| epoch 224 | iter 10 / 10 | loss 0.14\n",
      "| epoch 225 | iter 10 / 10 | loss 0.14\n",
      "| epoch 226 | iter 10 / 10 | loss 0.14\n",
      "| epoch 227 | iter 10 / 10 | loss 0.14\n",
      "| epoch 228 | iter 10 / 10 | loss 0.14\n",
      "| epoch 229 | iter 10 / 10 | loss 0.13\n",
      "| epoch 230 | iter 10 / 10 | loss 0.14\n",
      "| epoch 231 | iter 10 / 10 | loss 0.13\n",
      "| epoch 232 | iter 10 / 10 | loss 0.14\n",
      "| epoch 233 | iter 10 / 10 | loss 0.13\n",
      "| epoch 234 | iter 10 / 10 | loss 0.13\n",
      "| epoch 235 | iter 10 / 10 | loss 0.13\n",
      "| epoch 236 | iter 10 / 10 | loss 0.13\n",
      "| epoch 237 | iter 10 / 10 | loss 0.14\n",
      "| epoch 238 | iter 10 / 10 | loss 0.13\n",
      "| epoch 239 | iter 10 / 10 | loss 0.13\n",
      "| epoch 240 | iter 10 / 10 | loss 0.14\n",
      "| epoch 241 | iter 10 / 10 | loss 0.13\n",
      "| epoch 242 | iter 10 / 10 | loss 0.13\n",
      "| epoch 243 | iter 10 / 10 | loss 0.13\n",
      "| epoch 244 | iter 10 / 10 | loss 0.13\n",
      "| epoch 245 | iter 10 / 10 | loss 0.13\n",
      "| epoch 246 | iter 10 / 10 | loss 0.13\n",
      "| epoch 247 | iter 10 / 10 | loss 0.13\n",
      "| epoch 248 | iter 10 / 10 | loss 0.13\n",
      "| epoch 249 | iter 10 / 10 | loss 0.13\n",
      "| epoch 250 | iter 10 / 10 | loss 0.13\n",
      "| epoch 251 | iter 10 / 10 | loss 0.13\n",
      "| epoch 252 | iter 10 / 10 | loss 0.12\n",
      "| epoch 253 | iter 10 / 10 | loss 0.12\n",
      "| epoch 254 | iter 10 / 10 | loss 0.12\n",
      "| epoch 255 | iter 10 / 10 | loss 0.12\n",
      "| epoch 256 | iter 10 / 10 | loss 0.12\n",
      "| epoch 257 | iter 10 / 10 | loss 0.12\n",
      "| epoch 258 | iter 10 / 10 | loss 0.12\n",
      "| epoch 259 | iter 10 / 10 | loss 0.13\n",
      "| epoch 260 | iter 10 / 10 | loss 0.12\n",
      "| epoch 261 | iter 10 / 10 | loss 0.13\n",
      "| epoch 262 | iter 10 / 10 | loss 0.12\n",
      "| epoch 263 | iter 10 / 10 | loss 0.12\n",
      "| epoch 264 | iter 10 / 10 | loss 0.13\n",
      "| epoch 265 | iter 10 / 10 | loss 0.12\n",
      "| epoch 266 | iter 10 / 10 | loss 0.12\n",
      "| epoch 267 | iter 10 / 10 | loss 0.12\n",
      "| epoch 268 | iter 10 / 10 | loss 0.12\n",
      "| epoch 269 | iter 10 / 10 | loss 0.11\n",
      "| epoch 270 | iter 10 / 10 | loss 0.12\n",
      "| epoch 271 | iter 10 / 10 | loss 0.12\n",
      "| epoch 272 | iter 10 / 10 | loss 0.12\n",
      "| epoch 273 | iter 10 / 10 | loss 0.12\n",
      "| epoch 274 | iter 10 / 10 | loss 0.12\n",
      "| epoch 275 | iter 10 / 10 | loss 0.11\n",
      "| epoch 276 | iter 10 / 10 | loss 0.12\n",
      "| epoch 277 | iter 10 / 10 | loss 0.12\n",
      "| epoch 278 | iter 10 / 10 | loss 0.11\n",
      "| epoch 279 | iter 10 / 10 | loss 0.11\n",
      "| epoch 280 | iter 10 / 10 | loss 0.11\n",
      "| epoch 281 | iter 10 / 10 | loss 0.11\n",
      "| epoch 282 | iter 10 / 10 | loss 0.12\n",
      "| epoch 283 | iter 10 / 10 | loss 0.11\n",
      "| epoch 284 | iter 10 / 10 | loss 0.11\n",
      "| epoch 285 | iter 10 / 10 | loss 0.11\n",
      "| epoch 286 | iter 10 / 10 | loss 0.11\n",
      "| epoch 287 | iter 10 / 10 | loss 0.11\n",
      "| epoch 288 | iter 10 / 10 | loss 0.12\n",
      "| epoch 289 | iter 10 / 10 | loss 0.11\n",
      "| epoch 290 | iter 10 / 10 | loss 0.11\n",
      "| epoch 291 | iter 10 / 10 | loss 0.11\n",
      "| epoch 292 | iter 10 / 10 | loss 0.11\n",
      "| epoch 293 | iter 10 / 10 | loss 0.11\n",
      "| epoch 294 | iter 10 / 10 | loss 0.11\n",
      "| epoch 295 | iter 10 / 10 | loss 0.12\n",
      "| epoch 296 | iter 10 / 10 | loss 0.11\n",
      "| epoch 297 | iter 10 / 10 | loss 0.12\n",
      "| epoch 298 | iter 10 / 10 | loss 0.11\n",
      "| epoch 299 | iter 10 / 10 | loss 0.11\n",
      "| epoch 300 | iter 10 / 10 | loss 0.11\n"
     ]
    }
   ],
   "source": [
    "for epoch in range(max_epoch):\n",
    "    idx = np.random.permutation(data_size)\n",
    "    x = x[idx]\n",
    "    t = t[idx]\n",
    "    \n",
    "    for iters in range(max_iters):\n",
    "        batch_x = x[iters*batch_size:(iters+1)*batch_size]\n",
    "        batch_t = t[iters*batch_size:(iters+1)*batch_size]\n",
    "        \n",
    "        loss = model.forward(batch_x, batch_t)\n",
    "        model.backward()\n",
    "        optimizer.update(model.params, model.grads)\n",
    "        \n",
    "        total_loss += loss\n",
    "        loss_count += 1\n",
    "        \n",
    "        if (iters+1) % 10 == 0:\n",
    "            avg_loss = total_loss / loss_count\n",
    "            print('| epoch %d | iter %d / %d | loss %.2f' % (epoch+1, iters+1, max_iters, avg_loss))\n",
    "            loss_list.append(avg_loss)\n",
    "            total_loss, loss_count = 0, 0"
   ]
  },
  {
   "cell_type": "code",
   "execution_count": 11,
   "id": "7f1f5731",
   "metadata": {
    "execution": {
     "iopub.execute_input": "2022-05-13T01:44:16.299524Z",
     "iopub.status.busy": "2022-05-13T01:44:16.299212Z",
     "iopub.status.idle": "2022-05-13T01:44:16.307771Z",
     "shell.execute_reply": "2022-05-13T01:44:16.306017Z"
    },
    "papermill": {
     "duration": 0.039253,
     "end_time": "2022-05-13T01:44:16.310742",
     "exception": false,
     "start_time": "2022-05-13T01:44:16.271489",
     "status": "completed"
    },
    "tags": []
   },
   "outputs": [
    {
     "name": "stdout",
     "output_type": "stream",
     "text": [
      "1\n",
      "2\n",
      "[5 1 8 4 9 7 0 2 6 3]\n",
      "[3 4 2 7 8 5 6 0 9 1]\n"
     ]
    }
   ],
   "source": [
    "print(5 // 3)\n",
    "print(5 % 3)\n",
    "print(np.random.permutation(10))\n",
    "print(np.random.permutation(10))"
   ]
  },
  {
   "cell_type": "markdown",
   "id": "f7232353",
   "metadata": {
    "execution": {
     "iopub.execute_input": "2022-05-12T03:40:01.320335Z",
     "iopub.status.busy": "2022-05-12T03:40:01.318703Z",
     "iopub.status.idle": "2022-05-12T03:40:01.328595Z",
     "shell.execute_reply": "2022-05-12T03:40:01.328019Z",
     "shell.execute_reply.started": "2022-05-12T03:40:01.320299Z"
    },
    "papermill": {
     "duration": 0.026629,
     "end_time": "2022-05-13T01:44:16.362487",
     "exception": false,
     "start_time": "2022-05-13T01:44:16.335858",
     "status": "completed"
    },
    "tags": []
   },
   "source": [
    "### 1.4.4　Trainer クラス"
   ]
  },
  {
   "cell_type": "code",
   "execution_count": 12,
   "id": "33611221",
   "metadata": {
    "execution": {
     "iopub.execute_input": "2022-05-13T01:44:16.415825Z",
     "iopub.status.busy": "2022-05-13T01:44:16.415549Z",
     "iopub.status.idle": "2022-05-13T01:44:16.419936Z",
     "shell.execute_reply": "2022-05-13T01:44:16.418929Z"
    },
    "papermill": {
     "duration": 0.03391,
     "end_time": "2022-05-13T01:44:16.422282",
     "exception": false,
     "start_time": "2022-05-13T01:44:16.388372",
     "status": "completed"
    },
    "tags": []
   },
   "outputs": [],
   "source": [
    "max_epoch = 300\n",
    "batch_size = 30\n",
    "hidden_size = 10\n",
    "learning_rate = 1.0"
   ]
  },
  {
   "cell_type": "code",
   "execution_count": 13,
   "id": "dae91f18",
   "metadata": {
    "execution": {
     "iopub.execute_input": "2022-05-13T01:44:16.477523Z",
     "iopub.status.busy": "2022-05-13T01:44:16.477213Z",
     "iopub.status.idle": "2022-05-13T01:44:16.486430Z",
     "shell.execute_reply": "2022-05-13T01:44:16.485256Z"
    },
    "papermill": {
     "duration": 0.038988,
     "end_time": "2022-05-13T01:44:16.488715",
     "exception": false,
     "start_time": "2022-05-13T01:44:16.449727",
     "status": "completed"
    },
    "tags": []
   },
   "outputs": [],
   "source": [
    "x, t = spiral.load_data()\n",
    "model = TwoLayerNet(input_size=2, hidden_size=hidden_size, output_size=3)\n",
    "optimizer = SGD(lr=learning_rate)"
   ]
  },
  {
   "cell_type": "code",
   "execution_count": 14,
   "id": "8a60ad64",
   "metadata": {
    "execution": {
     "iopub.execute_input": "2022-05-13T01:44:16.544080Z",
     "iopub.status.busy": "2022-05-13T01:44:16.543786Z",
     "iopub.status.idle": "2022-05-13T01:44:17.556096Z",
     "shell.execute_reply": "2022-05-13T01:44:17.554986Z"
    },
    "papermill": {
     "duration": 1.044011,
     "end_time": "2022-05-13T01:44:17.558903",
     "exception": false,
     "start_time": "2022-05-13T01:44:16.514892",
     "status": "completed"
    },
    "tags": []
   },
   "outputs": [
    {
     "name": "stdout",
     "output_type": "stream",
     "text": [
      "| epoch 1 |  iter 1 / 10 | time 0[s] | loss 1.10\n",
      "| epoch 2 |  iter 1 / 10 | time 0[s] | loss 1.12\n",
      "| epoch 3 |  iter 1 / 10 | time 0[s] | loss 1.13\n",
      "| epoch 4 |  iter 1 / 10 | time 0[s] | loss 1.12\n",
      "| epoch 5 |  iter 1 / 10 | time 0[s] | loss 1.12\n",
      "| epoch 6 |  iter 1 / 10 | time 0[s] | loss 1.10\n",
      "| epoch 7 |  iter 1 / 10 | time 0[s] | loss 1.14\n",
      "| epoch 8 |  iter 1 / 10 | time 0[s] | loss 1.16\n",
      "| epoch 9 |  iter 1 / 10 | time 0[s] | loss 1.11\n",
      "| epoch 10 |  iter 1 / 10 | time 0[s] | loss 1.12\n",
      "| epoch 11 |  iter 1 / 10 | time 0[s] | loss 1.12\n",
      "| epoch 12 |  iter 1 / 10 | time 0[s] | loss 1.12\n",
      "| epoch 13 |  iter 1 / 10 | time 0[s] | loss 1.10\n",
      "| epoch 14 |  iter 1 / 10 | time 0[s] | loss 1.09\n",
      "| epoch 15 |  iter 1 / 10 | time 0[s] | loss 1.08\n",
      "| epoch 16 |  iter 1 / 10 | time 0[s] | loss 1.04\n",
      "| epoch 17 |  iter 1 / 10 | time 0[s] | loss 1.03\n",
      "| epoch 18 |  iter 1 / 10 | time 0[s] | loss 0.94\n",
      "| epoch 19 |  iter 1 / 10 | time 0[s] | loss 0.92\n",
      "| epoch 20 |  iter 1 / 10 | time 0[s] | loss 0.92\n",
      "| epoch 21 |  iter 1 / 10 | time 0[s] | loss 0.87\n",
      "| epoch 22 |  iter 1 / 10 | time 0[s] | loss 0.85\n",
      "| epoch 23 |  iter 1 / 10 | time 0[s] | loss 0.80\n",
      "| epoch 24 |  iter 1 / 10 | time 0[s] | loss 0.79\n",
      "| epoch 25 |  iter 1 / 10 | time 0[s] | loss 0.78\n",
      "| epoch 26 |  iter 1 / 10 | time 0[s] | loss 0.83\n",
      "| epoch 27 |  iter 1 / 10 | time 0[s] | loss 0.77\n",
      "| epoch 28 |  iter 1 / 10 | time 0[s] | loss 0.76\n",
      "| epoch 29 |  iter 1 / 10 | time 0[s] | loss 0.77\n",
      "| epoch 30 |  iter 1 / 10 | time 0[s] | loss 0.76\n",
      "| epoch 31 |  iter 1 / 10 | time 0[s] | loss 0.77\n",
      "| epoch 32 |  iter 1 / 10 | time 0[s] | loss 0.75\n",
      "| epoch 33 |  iter 1 / 10 | time 0[s] | loss 0.78\n",
      "| epoch 34 |  iter 1 / 10 | time 0[s] | loss 0.77\n",
      "| epoch 35 |  iter 1 / 10 | time 0[s] | loss 0.78\n",
      "| epoch 36 |  iter 1 / 10 | time 0[s] | loss 0.74\n",
      "| epoch 37 |  iter 1 / 10 | time 0[s] | loss 0.75\n",
      "| epoch 38 |  iter 1 / 10 | time 0[s] | loss 0.77\n",
      "| epoch 39 |  iter 1 / 10 | time 0[s] | loss 0.75\n",
      "| epoch 40 |  iter 1 / 10 | time 0[s] | loss 0.73\n",
      "| epoch 41 |  iter 1 / 10 | time 0[s] | loss 0.75\n",
      "| epoch 42 |  iter 1 / 10 | time 0[s] | loss 0.76\n",
      "| epoch 43 |  iter 1 / 10 | time 0[s] | loss 0.79\n",
      "| epoch 44 |  iter 1 / 10 | time 0[s] | loss 0.74\n",
      "| epoch 45 |  iter 1 / 10 | time 0[s] | loss 0.75\n",
      "| epoch 46 |  iter 1 / 10 | time 0[s] | loss 0.73\n",
      "| epoch 47 |  iter 1 / 10 | time 0[s] | loss 0.73\n",
      "| epoch 48 |  iter 1 / 10 | time 0[s] | loss 0.73\n",
      "| epoch 49 |  iter 1 / 10 | time 0[s] | loss 0.73\n",
      "| epoch 50 |  iter 1 / 10 | time 0[s] | loss 0.72\n",
      "| epoch 51 |  iter 1 / 10 | time 0[s] | loss 0.72\n",
      "| epoch 52 |  iter 1 / 10 | time 0[s] | loss 0.72\n",
      "| epoch 53 |  iter 1 / 10 | time 0[s] | loss 0.72\n",
      "| epoch 54 |  iter 1 / 10 | time 0[s] | loss 0.74\n",
      "| epoch 55 |  iter 1 / 10 | time 0[s] | loss 0.74\n",
      "| epoch 56 |  iter 1 / 10 | time 0[s] | loss 0.73\n",
      "| epoch 57 |  iter 1 / 10 | time 0[s] | loss 0.72\n",
      "| epoch 58 |  iter 1 / 10 | time 0[s] | loss 0.69\n",
      "| epoch 59 |  iter 1 / 10 | time 0[s] | loss 0.72\n",
      "| epoch 60 |  iter 1 / 10 | time 0[s] | loss 0.70\n",
      "| epoch 61 |  iter 1 / 10 | time 0[s] | loss 0.69\n",
      "| epoch 62 |  iter 1 / 10 | time 0[s] | loss 0.71\n",
      "| epoch 63 |  iter 1 / 10 | time 0[s] | loss 0.70\n",
      "| epoch 64 |  iter 1 / 10 | time 0[s] | loss 0.71\n",
      "| epoch 65 |  iter 1 / 10 | time 0[s] | loss 0.72\n",
      "| epoch 66 |  iter 1 / 10 | time 0[s] | loss 0.71\n",
      "| epoch 67 |  iter 1 / 10 | time 0[s] | loss 0.71\n",
      "| epoch 68 |  iter 1 / 10 | time 0[s] | loss 0.71\n",
      "| epoch 69 |  iter 1 / 10 | time 0[s] | loss 0.70\n",
      "| epoch 70 |  iter 1 / 10 | time 0[s] | loss 0.68\n",
      "| epoch 71 |  iter 1 / 10 | time 0[s] | loss 0.73\n",
      "| epoch 72 |  iter 1 / 10 | time 0[s] | loss 0.66\n",
      "| epoch 73 |  iter 1 / 10 | time 0[s] | loss 0.69\n",
      "| epoch 74 |  iter 1 / 10 | time 0[s] | loss 0.66\n",
      "| epoch 75 |  iter 1 / 10 | time 0[s] | loss 0.70\n",
      "| epoch 76 |  iter 1 / 10 | time 0[s] | loss 0.65\n",
      "| epoch 77 |  iter 1 / 10 | time 0[s] | loss 0.67\n",
      "| epoch 78 |  iter 1 / 10 | time 0[s] | loss 0.70\n",
      "| epoch 79 |  iter 1 / 10 | time 0[s] | loss 0.63\n",
      "| epoch 80 |  iter 1 / 10 | time 0[s] | loss 0.66\n",
      "| epoch 81 |  iter 1 / 10 | time 0[s] | loss 0.65\n",
      "| epoch 82 |  iter 1 / 10 | time 0[s] | loss 0.66\n",
      "| epoch 83 |  iter 1 / 10 | time 0[s] | loss 0.64\n",
      "| epoch 84 |  iter 1 / 10 | time 0[s] | loss 0.62\n",
      "| epoch 85 |  iter 1 / 10 | time 0[s] | loss 0.62\n",
      "| epoch 86 |  iter 1 / 10 | time 0[s] | loss 0.63\n",
      "| epoch 87 |  iter 1 / 10 | time 0[s] | loss 0.59\n",
      "| epoch 88 |  iter 1 / 10 | time 0[s] | loss 0.58\n",
      "| epoch 89 |  iter 1 / 10 | time 0[s] | loss 0.61\n",
      "| epoch 90 |  iter 1 / 10 | time 0[s] | loss 0.59\n",
      "| epoch 91 |  iter 1 / 10 | time 0[s] | loss 0.58\n",
      "| epoch 92 |  iter 1 / 10 | time 0[s] | loss 0.57\n",
      "| epoch 93 |  iter 1 / 10 | time 0[s] | loss 0.55\n",
      "| epoch 94 |  iter 1 / 10 | time 0[s] | loss 0.54\n",
      "| epoch 95 |  iter 1 / 10 | time 0[s] | loss 0.53\n",
      "| epoch 96 |  iter 1 / 10 | time 0[s] | loss 0.54\n",
      "| epoch 97 |  iter 1 / 10 | time 0[s] | loss 0.51\n",
      "| epoch 98 |  iter 1 / 10 | time 0[s] | loss 0.51\n",
      "| epoch 99 |  iter 1 / 10 | time 0[s] | loss 0.50\n",
      "| epoch 100 |  iter 1 / 10 | time 0[s] | loss 0.47\n",
      "| epoch 101 |  iter 1 / 10 | time 0[s] | loss 0.49\n",
      "| epoch 102 |  iter 1 / 10 | time 0[s] | loss 0.46\n",
      "| epoch 103 |  iter 1 / 10 | time 0[s] | loss 0.44\n",
      "| epoch 104 |  iter 1 / 10 | time 0[s] | loss 0.47\n",
      "| epoch 105 |  iter 1 / 10 | time 0[s] | loss 0.44\n",
      "| epoch 106 |  iter 1 / 10 | time 0[s] | loss 0.43\n",
      "| epoch 107 |  iter 1 / 10 | time 0[s] | loss 0.43\n",
      "| epoch 108 |  iter 1 / 10 | time 0[s] | loss 0.39\n",
      "| epoch 109 |  iter 1 / 10 | time 0[s] | loss 0.40\n",
      "| epoch 110 |  iter 1 / 10 | time 0[s] | loss 0.41\n",
      "| epoch 111 |  iter 1 / 10 | time 0[s] | loss 0.38\n",
      "| epoch 112 |  iter 1 / 10 | time 0[s] | loss 0.38\n",
      "| epoch 113 |  iter 1 / 10 | time 0[s] | loss 0.38\n",
      "| epoch 114 |  iter 1 / 10 | time 0[s] | loss 0.37\n",
      "| epoch 115 |  iter 1 / 10 | time 0[s] | loss 0.36\n",
      "| epoch 116 |  iter 1 / 10 | time 0[s] | loss 0.34\n",
      "| epoch 117 |  iter 1 / 10 | time 0[s] | loss 0.35\n",
      "| epoch 118 |  iter 1 / 10 | time 0[s] | loss 0.33\n",
      "| epoch 119 |  iter 1 / 10 | time 0[s] | loss 0.35\n",
      "| epoch 120 |  iter 1 / 10 | time 0[s] | loss 0.33\n",
      "| epoch 121 |  iter 1 / 10 | time 0[s] | loss 0.33\n",
      "| epoch 122 |  iter 1 / 10 | time 0[s] | loss 0.32\n",
      "| epoch 123 |  iter 1 / 10 | time 0[s] | loss 0.31\n",
      "| epoch 124 |  iter 1 / 10 | time 0[s] | loss 0.31\n",
      "| epoch 125 |  iter 1 / 10 | time 0[s] | loss 0.31\n",
      "| epoch 126 |  iter 1 / 10 | time 0[s] | loss 0.30\n",
      "| epoch 127 |  iter 1 / 10 | time 0[s] | loss 0.30\n",
      "| epoch 128 |  iter 1 / 10 | time 0[s] | loss 0.27\n",
      "| epoch 129 |  iter 1 / 10 | time 0[s] | loss 0.30\n",
      "| epoch 130 |  iter 1 / 10 | time 0[s] | loss 0.28\n",
      "| epoch 131 |  iter 1 / 10 | time 0[s] | loss 0.26\n",
      "| epoch 132 |  iter 1 / 10 | time 0[s] | loss 0.27\n",
      "| epoch 133 |  iter 1 / 10 | time 0[s] | loss 0.27\n",
      "| epoch 134 |  iter 1 / 10 | time 0[s] | loss 0.28\n",
      "| epoch 135 |  iter 1 / 10 | time 0[s] | loss 0.26\n",
      "| epoch 136 |  iter 1 / 10 | time 0[s] | loss 0.28\n",
      "| epoch 137 |  iter 1 / 10 | time 0[s] | loss 0.25\n",
      "| epoch 138 |  iter 1 / 10 | time 0[s] | loss 0.26\n",
      "| epoch 139 |  iter 1 / 10 | time 0[s] | loss 0.26\n",
      "| epoch 140 |  iter 1 / 10 | time 0[s] | loss 0.26\n",
      "| epoch 141 |  iter 1 / 10 | time 0[s] | loss 0.23\n",
      "| epoch 142 |  iter 1 / 10 | time 0[s] | loss 0.23\n",
      "| epoch 143 |  iter 1 / 10 | time 0[s] | loss 0.26\n",
      "| epoch 144 |  iter 1 / 10 | time 0[s] | loss 0.23\n",
      "| epoch 145 |  iter 1 / 10 | time 0[s] | loss 0.24\n",
      "| epoch 146 |  iter 1 / 10 | time 0[s] | loss 0.24\n",
      "| epoch 147 |  iter 1 / 10 | time 0[s] | loss 0.25\n",
      "| epoch 148 |  iter 1 / 10 | time 0[s] | loss 0.21\n",
      "| epoch 149 |  iter 1 / 10 | time 0[s] | loss 0.23\n",
      "| epoch 150 |  iter 1 / 10 | time 0[s] | loss 0.22\n",
      "| epoch 151 |  iter 1 / 10 | time 0[s] | loss 0.22\n",
      "| epoch 152 |  iter 1 / 10 | time 0[s] | loss 0.23\n",
      "| epoch 153 |  iter 1 / 10 | time 0[s] | loss 0.23\n",
      "| epoch 154 |  iter 1 / 10 | time 0[s] | loss 0.20\n",
      "| epoch 155 |  iter 1 / 10 | time 0[s] | loss 0.22\n",
      "| epoch 156 |  iter 1 / 10 | time 0[s] | loss 0.21\n",
      "| epoch 157 |  iter 1 / 10 | time 0[s] | loss 0.21\n",
      "| epoch 158 |  iter 1 / 10 | time 0[s] | loss 0.20\n",
      "| epoch 159 |  iter 1 / 10 | time 0[s] | loss 0.21\n",
      "| epoch 160 |  iter 1 / 10 | time 0[s] | loss 0.20\n",
      "| epoch 161 |  iter 1 / 10 | time 0[s] | loss 0.19\n",
      "| epoch 162 |  iter 1 / 10 | time 0[s] | loss 0.22\n",
      "| epoch 163 |  iter 1 / 10 | time 0[s] | loss 0.19\n",
      "| epoch 164 |  iter 1 / 10 | time 0[s] | loss 0.21\n",
      "| epoch 165 |  iter 1 / 10 | time 0[s] | loss 0.20\n",
      "| epoch 166 |  iter 1 / 10 | time 0[s] | loss 0.20\n",
      "| epoch 167 |  iter 1 / 10 | time 0[s] | loss 0.20\n",
      "| epoch 168 |  iter 1 / 10 | time 0[s] | loss 0.19\n",
      "| epoch 169 |  iter 1 / 10 | time 0[s] | loss 0.18\n",
      "| epoch 170 |  iter 1 / 10 | time 0[s] | loss 0.19\n",
      "| epoch 171 |  iter 1 / 10 | time 0[s] | loss 0.19\n",
      "| epoch 172 |  iter 1 / 10 | time 0[s] | loss 0.20\n",
      "| epoch 173 |  iter 1 / 10 | time 0[s] | loss 0.16\n",
      "| epoch 174 |  iter 1 / 10 | time 0[s] | loss 0.20\n",
      "| epoch 175 |  iter 1 / 10 | time 0[s] | loss 0.18\n",
      "| epoch 176 |  iter 1 / 10 | time 0[s] | loss 0.17\n",
      "| epoch 177 |  iter 1 / 10 | time 0[s] | loss 0.17\n",
      "| epoch 178 |  iter 1 / 10 | time 0[s] | loss 0.17\n",
      "| epoch 179 |  iter 1 / 10 | time 0[s] | loss 0.18\n",
      "| epoch 180 |  iter 1 / 10 | time 0[s] | loss 0.19\n",
      "| epoch 181 |  iter 1 / 10 | time 0[s] | loss 0.17\n",
      "| epoch 182 |  iter 1 / 10 | time 0[s] | loss 0.18\n",
      "| epoch 183 |  iter 1 / 10 | time 0[s] | loss 0.16\n",
      "| epoch 184 |  iter 1 / 10 | time 0[s] | loss 0.18\n",
      "| epoch 185 |  iter 1 / 10 | time 0[s] | loss 0.18\n",
      "| epoch 186 |  iter 1 / 10 | time 0[s] | loss 0.17\n",
      "| epoch 187 |  iter 1 / 10 | time 0[s] | loss 0.17\n",
      "| epoch 188 |  iter 1 / 10 | time 0[s] | loss 0.18\n",
      "| epoch 189 |  iter 1 / 10 | time 0[s] | loss 0.16\n",
      "| epoch 190 |  iter 1 / 10 | time 0[s] | loss 0.16\n",
      "| epoch 191 |  iter 1 / 10 | time 0[s] | loss 0.17\n",
      "| epoch 192 |  iter 1 / 10 | time 0[s] | loss 0.17\n",
      "| epoch 193 |  iter 1 / 10 | time 0[s] | loss 0.16\n",
      "| epoch 194 |  iter 1 / 10 | time 0[s] | loss 0.16\n",
      "| epoch 195 |  iter 1 / 10 | time 0[s] | loss 0.16\n",
      "| epoch 196 |  iter 1 / 10 | time 0[s] | loss 0.17\n",
      "| epoch 197 |  iter 1 / 10 | time 0[s] | loss 0.16\n",
      "| epoch 198 |  iter 1 / 10 | time 0[s] | loss 0.17\n",
      "| epoch 199 |  iter 1 / 10 | time 0[s] | loss 0.16\n",
      "| epoch 200 |  iter 1 / 10 | time 0[s] | loss 0.14\n",
      "| epoch 201 |  iter 1 / 10 | time 0[s] | loss 0.16\n",
      "| epoch 202 |  iter 1 / 10 | time 0[s] | loss 0.16\n",
      "| epoch 203 |  iter 1 / 10 | time 0[s] | loss 0.15\n",
      "| epoch 204 |  iter 1 / 10 | time 0[s] | loss 0.16\n",
      "| epoch 205 |  iter 1 / 10 | time 0[s] | loss 0.14\n",
      "| epoch 206 |  iter 1 / 10 | time 0[s] | loss 0.16\n",
      "| epoch 207 |  iter 1 / 10 | time 0[s] | loss 0.16\n",
      "| epoch 208 |  iter 1 / 10 | time 0[s] | loss 0.14\n",
      "| epoch 209 |  iter 1 / 10 | time 0[s] | loss 0.15\n",
      "| epoch 210 |  iter 1 / 10 | time 0[s] | loss 0.16\n",
      "| epoch 211 |  iter 1 / 10 | time 0[s] | loss 0.14\n",
      "| epoch 212 |  iter 1 / 10 | time 0[s] | loss 0.15\n",
      "| epoch 213 |  iter 1 / 10 | time 0[s] | loss 0.15\n",
      "| epoch 214 |  iter 1 / 10 | time 0[s] | loss 0.15\n",
      "| epoch 215 |  iter 1 / 10 | time 0[s] | loss 0.14\n",
      "| epoch 216 |  iter 1 / 10 | time 0[s] | loss 0.14\n",
      "| epoch 217 |  iter 1 / 10 | time 0[s] | loss 0.15\n",
      "| epoch 218 |  iter 1 / 10 | time 0[s] | loss 0.14\n",
      "| epoch 219 |  iter 1 / 10 | time 0[s] | loss 0.15\n",
      "| epoch 220 |  iter 1 / 10 | time 0[s] | loss 0.15\n",
      "| epoch 221 |  iter 1 / 10 | time 0[s] | loss 0.14\n",
      "| epoch 222 |  iter 1 / 10 | time 0[s] | loss 0.13\n",
      "| epoch 223 |  iter 1 / 10 | time 0[s] | loss 0.15\n",
      "| epoch 224 |  iter 1 / 10 | time 0[s] | loss 0.14\n",
      "| epoch 225 |  iter 1 / 10 | time 0[s] | loss 0.16\n",
      "| epoch 226 |  iter 1 / 10 | time 0[s] | loss 0.12\n",
      "| epoch 227 |  iter 1 / 10 | time 0[s] | loss 0.13\n",
      "| epoch 228 |  iter 1 / 10 | time 0[s] | loss 0.15\n",
      "| epoch 229 |  iter 1 / 10 | time 0[s] | loss 0.14\n",
      "| epoch 230 |  iter 1 / 10 | time 0[s] | loss 0.13\n",
      "| epoch 231 |  iter 1 / 10 | time 0[s] | loss 0.14\n",
      "| epoch 232 |  iter 1 / 10 | time 0[s] | loss 0.13\n",
      "| epoch 233 |  iter 1 / 10 | time 0[s] | loss 0.13\n",
      "| epoch 234 |  iter 1 / 10 | time 0[s] | loss 0.14\n",
      "| epoch 235 |  iter 1 / 10 | time 0[s] | loss 0.13\n",
      "| epoch 236 |  iter 1 / 10 | time 0[s] | loss 0.12\n",
      "| epoch 237 |  iter 1 / 10 | time 0[s] | loss 0.13\n",
      "| epoch 238 |  iter 1 / 10 | time 0[s] | loss 0.14\n",
      "| epoch 239 |  iter 1 / 10 | time 0[s] | loss 0.14\n",
      "| epoch 240 |  iter 1 / 10 | time 0[s] | loss 0.13\n",
      "| epoch 241 |  iter 1 / 10 | time 0[s] | loss 0.14\n",
      "| epoch 242 |  iter 1 / 10 | time 0[s] | loss 0.13\n",
      "| epoch 243 |  iter 1 / 10 | time 0[s] | loss 0.13\n",
      "| epoch 244 |  iter 1 / 10 | time 0[s] | loss 0.14\n",
      "| epoch 245 |  iter 1 / 10 | time 0[s] | loss 0.12\n",
      "| epoch 246 |  iter 1 / 10 | time 0[s] | loss 0.13\n",
      "| epoch 247 |  iter 1 / 10 | time 0[s] | loss 0.13\n",
      "| epoch 248 |  iter 1 / 10 | time 0[s] | loss 0.12\n",
      "| epoch 249 |  iter 1 / 10 | time 0[s] | loss 0.14\n",
      "| epoch 250 |  iter 1 / 10 | time 0[s] | loss 0.12\n",
      "| epoch 251 |  iter 1 / 10 | time 0[s] | loss 0.13\n",
      "| epoch 252 |  iter 1 / 10 | time 0[s] | loss 0.13\n",
      "| epoch 253 |  iter 1 / 10 | time 0[s] | loss 0.12\n",
      "| epoch 254 |  iter 1 / 10 | time 0[s] | loss 0.12\n",
      "| epoch 255 |  iter 1 / 10 | time 0[s] | loss 0.13\n",
      "| epoch 256 |  iter 1 / 10 | time 0[s] | loss 0.12\n",
      "| epoch 257 |  iter 1 / 10 | time 0[s] | loss 0.12\n",
      "| epoch 258 |  iter 1 / 10 | time 0[s] | loss 0.12\n",
      "| epoch 259 |  iter 1 / 10 | time 0[s] | loss 0.13\n",
      "| epoch 260 |  iter 1 / 10 | time 0[s] | loss 0.13\n",
      "| epoch 261 |  iter 1 / 10 | time 0[s] | loss 0.11\n",
      "| epoch 262 |  iter 1 / 10 | time 0[s] | loss 0.13\n",
      "| epoch 263 |  iter 1 / 10 | time 0[s] | loss 0.12\n",
      "| epoch 264 |  iter 1 / 10 | time 0[s] | loss 0.11\n",
      "| epoch 265 |  iter 1 / 10 | time 0[s] | loss 0.14\n",
      "| epoch 266 |  iter 1 / 10 | time 0[s] | loss 0.11\n",
      "| epoch 267 |  iter 1 / 10 | time 0[s] | loss 0.13\n",
      "| epoch 268 |  iter 1 / 10 | time 0[s] | loss 0.11\n",
      "| epoch 269 |  iter 1 / 10 | time 0[s] | loss 0.13\n",
      "| epoch 270 |  iter 1 / 10 | time 0[s] | loss 0.11\n",
      "| epoch 271 |  iter 1 / 10 | time 0[s] | loss 0.12\n",
      "| epoch 272 |  iter 1 / 10 | time 0[s] | loss 0.12\n",
      "| epoch 273 |  iter 1 / 10 | time 0[s] | loss 0.12\n",
      "| epoch 274 |  iter 1 / 10 | time 0[s] | loss 0.12\n",
      "| epoch 275 |  iter 1 / 10 | time 0[s] | loss 0.12\n",
      "| epoch 276 |  iter 1 / 10 | time 0[s] | loss 0.12\n",
      "| epoch 277 |  iter 1 / 10 | time 0[s] | loss 0.11\n",
      "| epoch 278 |  iter 1 / 10 | time 0[s] | loss 0.13\n",
      "| epoch 279 |  iter 1 / 10 | time 0[s] | loss 0.11\n",
      "| epoch 280 |  iter 1 / 10 | time 0[s] | loss 0.10\n",
      "| epoch 281 |  iter 1 / 10 | time 0[s] | loss 0.12\n",
      "| epoch 282 |  iter 1 / 10 | time 0[s] | loss 0.11\n",
      "| epoch 283 |  iter 1 / 10 | time 0[s] | loss 0.12\n",
      "| epoch 284 |  iter 1 / 10 | time 0[s] | loss 0.11\n",
      "| epoch 285 |  iter 1 / 10 | time 0[s] | loss 0.11\n",
      "| epoch 286 |  iter 1 / 10 | time 0[s] | loss 0.12\n",
      "| epoch 287 |  iter 1 / 10 | time 0[s] | loss 0.11\n",
      "| epoch 288 |  iter 1 / 10 | time 0[s] | loss 0.11\n",
      "| epoch 289 |  iter 1 / 10 | time 0[s] | loss 0.12\n",
      "| epoch 290 |  iter 1 / 10 | time 0[s] | loss 0.11\n",
      "| epoch 291 |  iter 1 / 10 | time 0[s] | loss 0.11\n",
      "| epoch 292 |  iter 1 / 10 | time 0[s] | loss 0.11\n",
      "| epoch 293 |  iter 1 / 10 | time 0[s] | loss 0.11\n",
      "| epoch 294 |  iter 1 / 10 | time 0[s] | loss 0.11\n",
      "| epoch 295 |  iter 1 / 10 | time 0[s] | loss 0.11\n",
      "| epoch 296 |  iter 1 / 10 | time 0[s] | loss 0.12\n",
      "| epoch 297 |  iter 1 / 10 | time 0[s] | loss 0.11\n",
      "| epoch 298 |  iter 1 / 10 | time 0[s] | loss 0.11\n",
      "| epoch 299 |  iter 1 / 10 | time 0[s] | loss 0.11\n",
      "| epoch 300 |  iter 1 / 10 | time 0[s] | loss 0.11\n"
     ]
    },
    {
     "data": {
      "image/png": "[encoded data removed]",
      "text/plain": [
       "<Figure size 432x288 with 1 Axes>"
      ]
     },
     "metadata": {
      "needs_background": "light"
     },
     "output_type": "display_data"
    }
   ],
   "source": [
    "trainer = Trainer(model, optimizer)\n",
    "trainer.fit(x, t, max_epoch, batch_size, eval_interval=10)\n",
    "trainer.plot()"
   ]
  }
 ],
 "metadata": {
  "kernelspec": {
   "display_name": "Python 3",
   "language": "python",
   "name": "python3"
  },
  "language_info": {
   "codemirror_mode": {
    "name": "ipython",
    "version": 3
   },
   "file_extension": ".py",
   "mimetype": "text/x-python",
   "name": "python",
   "nbconvert_exporter": "python",
   "pygments_lexer": "ipython3",
   "version": "3.7.12"
  },
  "papermill": {
   "default_parameters": {},
   "duration": 15.061717,
   "end_time": "2022-05-13T01:44:18.308588",
   "environment_variables": {},
   "exception": null,
   "input_path": "__notebook__.ipynb",
   "output_path": "__notebook__.ipynb",
   "parameters": {},
   "start_time": "2022-05-13T01:44:03.246871",
   "version": "2.3.4"
  }
 },
 "nbformat": 4,
 "nbformat_minor": 5
}
