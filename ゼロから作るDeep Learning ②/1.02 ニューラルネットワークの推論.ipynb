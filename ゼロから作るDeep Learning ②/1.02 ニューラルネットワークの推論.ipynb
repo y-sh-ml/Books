{
 "cells": [
  {
   "cell_type": "markdown",
   "id": "16993184",
   "metadata": {
    "_cell_guid": "b1076dfc-b9ad-4769-8c92-a6c4dae69d19",
    "_uuid": "8f2839f25d086af736a60e9eeb907d3b93b6e0e5",
    "papermill": {
     "duration": 0.019814,
     "end_time": "2022-05-13T01:45:13.874244",
     "exception": false,
     "start_time": "2022-05-13T01:45:13.854430",
     "status": "completed"
    },
    "tags": []
   },
   "source": [
    "## 1.2 ニューラルネットワークの推論"
   ]
  },
  {
   "cell_type": "code",
   "execution_count": 1,
   "id": "de42b532",
   "metadata": {
    "execution": {
     "iopub.execute_input": "2022-05-13T01:45:13.913901Z",
     "iopub.status.busy": "2022-05-13T01:45:13.913488Z",
     "iopub.status.idle": "2022-05-13T01:45:13.924302Z",
     "shell.execute_reply": "2022-05-13T01:45:13.923803Z"
    },
    "papermill": {
     "duration": 0.032908,
     "end_time": "2022-05-13T01:45:13.926220",
     "exception": false,
     "start_time": "2022-05-13T01:45:13.893312",
     "status": "completed"
    },
    "tags": []
   },
   "outputs": [],
   "source": [
    "import numpy as np"
   ]
  },
  {
   "cell_type": "markdown",
   "id": "c355c77b",
   "metadata": {
    "papermill": {
     "duration": 0.018191,
     "end_time": "2022-05-13T01:45:13.962928",
     "exception": false,
     "start_time": "2022-05-13T01:45:13.944737",
     "status": "completed"
    },
    "tags": []
   },
   "source": [
    "### 1.2.1　ニューラルネットワークの推論の全体図"
   ]
  },
  {
   "cell_type": "code",
   "execution_count": 2,
   "id": "3e92d067",
   "metadata": {
    "execution": {
     "iopub.execute_input": "2022-05-13T01:45:14.001486Z",
     "iopub.status.busy": "2022-05-13T01:45:14.001234Z",
     "iopub.status.idle": "2022-05-13T01:45:14.015148Z",
     "shell.execute_reply": "2022-05-13T01:45:14.014441Z"
    },
    "papermill": {
     "duration": 0.035823,
     "end_time": "2022-05-13T01:45:14.017254",
     "exception": false,
     "start_time": "2022-05-13T01:45:13.981431",
     "status": "completed"
    },
    "tags": []
   },
   "outputs": [
    {
     "name": "stdout",
     "output_type": "stream",
     "text": [
      "(10, 2)\n",
      "(2, 4)\n",
      "(4,)\n",
      "(10, 4)\n"
     ]
    },
    {
     "data": {
      "text/plain": [
       "array([[ 1.74631687,  0.04133774,  2.08017289,  0.04783261],\n",
       "       [-0.33820737,  1.03636798,  2.03546571,  2.02121008],\n",
       "       [-0.39701029,  0.59140653,  1.22118718,  2.1714781 ],\n",
       "       [ 1.25361292,  0.52425014,  2.49537988,  0.46472369],\n",
       "       [ 0.5569919 , -1.44128637, -1.46933727,  1.58378609],\n",
       "       [ 0.3583681 ,  0.0287199 ,  0.89000774,  1.49679668],\n",
       "       [ 0.40435557,  0.51202388,  1.75939819,  1.35221612],\n",
       "       [ 0.49069814,  0.47843492,  1.77435702,  1.26895224],\n",
       "       [ 0.27151118, -1.91116543, -2.51727696,  1.97526795],\n",
       "       [ 2.06178002, -0.53121508,  1.36168272, -0.16642126]])"
      ]
     },
     "execution_count": 2,
     "metadata": {},
     "output_type": "execute_result"
    }
   ],
   "source": [
    "x = np.random.randn(10, 2)\n",
    "W1 = np.random.randn(2, 4)\n",
    "b1 = np.random.randn(4)\n",
    "h = np.dot(x, W1) + b1\n",
    "\n",
    "print(x.shape)\n",
    "print(W1.shape)\n",
    "print(b1.shape)\n",
    "print(h.shape)\n",
    "h"
   ]
  },
  {
   "cell_type": "markdown",
   "id": "000fa86a",
   "metadata": {
    "papermill": {
     "duration": 0.019515,
     "end_time": "2022-05-13T01:45:14.057352",
     "exception": false,
     "start_time": "2022-05-13T01:45:14.037837",
     "status": "completed"
    },
    "tags": []
   },
   "source": [
    "`b` はブロードキャストを用いて加算している。"
   ]
  },
  {
   "cell_type": "code",
   "execution_count": 3,
   "id": "1a8de528",
   "metadata": {
    "execution": {
     "iopub.execute_input": "2022-05-13T01:45:14.099435Z",
     "iopub.status.busy": "2022-05-13T01:45:14.098667Z",
     "iopub.status.idle": "2022-05-13T01:45:14.102100Z",
     "shell.execute_reply": "2022-05-13T01:45:14.101661Z"
    },
    "papermill": {
     "duration": 0.026627,
     "end_time": "2022-05-13T01:45:14.103777",
     "exception": false,
     "start_time": "2022-05-13T01:45:14.077150",
     "status": "completed"
    },
    "tags": []
   },
   "outputs": [],
   "source": [
    "def sigmoid(x):\n",
    "    return 1 / (1 + np.exp(-x))"
   ]
  },
  {
   "cell_type": "code",
   "execution_count": 4,
   "id": "0a061979",
   "metadata": {
    "execution": {
     "iopub.execute_input": "2022-05-13T01:45:14.146327Z",
     "iopub.status.busy": "2022-05-13T01:45:14.145460Z",
     "iopub.status.idle": "2022-05-13T01:45:14.152305Z",
     "shell.execute_reply": "2022-05-13T01:45:14.151559Z"
    },
    "papermill": {
     "duration": 0.029757,
     "end_time": "2022-05-13T01:45:14.154141",
     "exception": false,
     "start_time": "2022-05-13T01:45:14.124384",
     "status": "completed"
    },
    "tags": []
   },
   "outputs": [
    {
     "name": "stdout",
     "output_type": "stream",
     "text": [
      "(10, 2)\n",
      "(2, 4)\n",
      "(4,)\n",
      "(10, 4)\n",
      "(10, 3)\n"
     ]
    }
   ],
   "source": [
    "x = np.random.randn(10, 2)\n",
    "W1 = np.random.randn(2, 4)\n",
    "b1 = np.random.randn(4)\n",
    "W2 = np.random.randn(4, 3)\n",
    "b2 = np.random.randn(3)\n",
    "h = np.dot(x, W1) + b1\n",
    "a = sigmoid(h)\n",
    "s = np.dot(a, W2) * b2\n",
    "\n",
    "print(x.shape)\n",
    "print(W1.shape)\n",
    "print(b1.shape)\n",
    "print(h.shape)\n",
    "print(s.shape)"
   ]
  },
  {
   "cell_type": "markdown",
   "id": "4d72196a",
   "metadata": {
    "papermill": {
     "duration": 0.019764,
     "end_time": "2022-05-13T01:45:14.194025",
     "exception": false,
     "start_time": "2022-05-13T01:45:14.174261",
     "status": "completed"
    },
    "tags": []
   },
   "source": [
    "`x` は 2 次元のデータが 10 個、ミニバッチとしてまとめられていることを意味する。<br>\n",
    "`s` は、10 個のデータがまとめて 3 次元に変換されたということである。<br>\n",
    "つまり、**行はミニバッチ数、列が次元でありニューロンの数**となる。"
   ]
  },
  {
   "cell_type": "markdown",
   "id": "b0246b9e",
   "metadata": {
    "papermill": {
     "duration": 0.019776,
     "end_time": "2022-05-13T01:45:14.233826",
     "exception": false,
     "start_time": "2022-05-13T01:45:14.214050",
     "status": "completed"
    },
    "tags": []
   },
   "source": [
    "### 1.2.2　レイヤとしてのクラス化と順伝播の実装"
   ]
  },
  {
   "cell_type": "markdown",
   "id": "9d9d556d",
   "metadata": {
    "papermill": {
     "duration": 0.019852,
     "end_time": "2022-05-13T01:45:14.273788",
     "exception": false,
     "start_time": "2022-05-13T01:45:14.253936",
     "status": "completed"
    },
    "tags": []
   },
   "source": [
    "ニューラルネットワークにおいて、**推論は順伝播、学習は逆伝播**に相当する。"
   ]
  },
  {
   "cell_type": "code",
   "execution_count": 5,
   "id": "8575e71f",
   "metadata": {
    "execution": {
     "iopub.execute_input": "2022-05-13T01:45:14.315225Z",
     "iopub.status.busy": "2022-05-13T01:45:14.314974Z",
     "iopub.status.idle": "2022-05-13T01:45:14.318855Z",
     "shell.execute_reply": "2022-05-13T01:45:14.318173Z"
    },
    "papermill": {
     "duration": 0.026703,
     "end_time": "2022-05-13T01:45:14.320564",
     "exception": false,
     "start_time": "2022-05-13T01:45:14.293861",
     "status": "completed"
    },
    "tags": []
   },
   "outputs": [],
   "source": [
    "class Sigmoid:\n",
    "    def __init__(self):\n",
    "        self.params = []\n",
    "        \n",
    "    def forward(self, x):\n",
    "        return 1 / (1 + np.exp(-x))"
   ]
  },
  {
   "cell_type": "code",
   "execution_count": 6,
   "id": "7303b1d9",
   "metadata": {
    "execution": {
     "iopub.execute_input": "2022-05-13T01:45:14.363178Z",
     "iopub.status.busy": "2022-05-13T01:45:14.362931Z",
     "iopub.status.idle": "2022-05-13T01:45:14.366947Z",
     "shell.execute_reply": "2022-05-13T01:45:14.366333Z"
    },
    "papermill": {
     "duration": 0.027154,
     "end_time": "2022-05-13T01:45:14.368693",
     "exception": false,
     "start_time": "2022-05-13T01:45:14.341539",
     "status": "completed"
    },
    "tags": []
   },
   "outputs": [],
   "source": [
    "class Affine:\n",
    "    def __init__(self, W, b):\n",
    "        self.params = [W, b]\n",
    "        \n",
    "    def forward(self, x):\n",
    "        W, b = self.params\n",
    "        out = np.dot(x, W) + b\n",
    "        return out"
   ]
  },
  {
   "cell_type": "markdown",
   "id": "f5c3481b",
   "metadata": {
    "papermill": {
     "duration": 0.019896,
     "end_time": "2022-05-13T01:45:14.408877",
     "exception": false,
     "start_time": "2022-05-13T01:45:14.388981",
     "status": "completed"
    },
    "tags": []
   },
   "source": [
    "`Affine` は、レイヤとして使用する際に、`Affine(W, b)` のように引数を入れる必要がある。"
   ]
  },
  {
   "cell_type": "code",
   "execution_count": 7,
   "id": "42bc8f75",
   "metadata": {
    "execution": {
     "iopub.execute_input": "2022-05-13T01:45:14.450447Z",
     "iopub.status.busy": "2022-05-13T01:45:14.450210Z",
     "iopub.status.idle": "2022-05-13T01:45:14.456839Z",
     "shell.execute_reply": "2022-05-13T01:45:14.456221Z"
    },
    "papermill": {
     "duration": 0.029746,
     "end_time": "2022-05-13T01:45:14.458698",
     "exception": false,
     "start_time": "2022-05-13T01:45:14.428952",
     "status": "completed"
    },
    "tags": []
   },
   "outputs": [],
   "source": [
    "class TwoLayerNet:\n",
    "    def __init__(self, input_size, hidden_size, output_size):\n",
    "        I, H, O = input_size, hidden_size, output_size\n",
    "        \n",
    "        W1 = np.random.randn(I, H)\n",
    "        b1 = np.random.randn(H)\n",
    "        W2 = np.random.randn(H, O)\n",
    "        b2 = np.random.randn(O)\n",
    "        \n",
    "        self.layers = [Affine(W1, b1), Sigmoid(), Affine(W2, b2)]\n",
    "        \n",
    "        self.params = []\n",
    "        for layer in self.layers:\n",
    "            self.params += layer.params\n",
    "            \n",
    "        print('W1')\n",
    "        print(self.params[0])\n",
    "        print('b1')\n",
    "        print(self.params[1])\n",
    "        print('W2')\n",
    "        print(self.params[2])\n",
    "        print('b2')\n",
    "        print(self.params[3])\n",
    "            \n",
    "    def predict(self, x):\n",
    "        for layer in self.layers:\n",
    "            x = layer.forward(x)\n",
    "        return x"
   ]
  },
  {
   "cell_type": "markdown",
   "id": "8026e9c8",
   "metadata": {
    "papermill": {
     "duration": 0.01981,
     "end_time": "2022-05-13T01:45:14.498963",
     "exception": false,
     "start_time": "2022-05-13T01:45:14.479153",
     "status": "completed"
    },
    "tags": []
   },
   "source": [
    "`self.params` には、すべての重みをリストにまとめている。"
   ]
  },
  {
   "cell_type": "code",
   "execution_count": 8,
   "id": "ee897052",
   "metadata": {
    "execution": {
     "iopub.execute_input": "2022-05-13T01:45:14.542436Z",
     "iopub.status.busy": "2022-05-13T01:45:14.542187Z",
     "iopub.status.idle": "2022-05-13T01:45:14.548740Z",
     "shell.execute_reply": "2022-05-13T01:45:14.547944Z"
    },
    "papermill": {
     "duration": 0.030424,
     "end_time": "2022-05-13T01:45:14.550622",
     "exception": false,
     "start_time": "2022-05-13T01:45:14.520198",
     "status": "completed"
    },
    "tags": []
   },
   "outputs": [
    {
     "name": "stdout",
     "output_type": "stream",
     "text": [
      "W1\n",
      "[[-0.68217718  1.53681894  1.11989444  0.75638256]\n",
      " [-0.55702698 -0.39163007  0.15778702  0.58297981]]\n",
      "b1\n",
      "[ 1.16889409 -0.82724934  0.95974211  0.81922125]\n",
      "W2\n",
      "[[ 1.59929359 -0.00883219  0.14164042]\n",
      " [ 0.37374822 -0.49358794 -0.0168574 ]\n",
      " [-1.18686907  1.1992656  -1.03587989]\n",
      " [-2.12479081 -2.17982889  0.01887863]]\n",
      "b2\n",
      "[-0.50495549  1.35585606 -1.55077148]\n"
     ]
    }
   ],
   "source": [
    "x = np.random.randn(10, 2)\n",
    "model = TwoLayerNet(2, 4, 3)\n",
    "s = model.predict(x)"
   ]
  },
  {
   "cell_type": "code",
   "execution_count": 9,
   "id": "91ef1a40",
   "metadata": {
    "execution": {
     "iopub.execute_input": "2022-05-13T01:45:14.596311Z",
     "iopub.status.busy": "2022-05-13T01:45:14.596093Z",
     "iopub.status.idle": "2022-05-13T01:45:14.599672Z",
     "shell.execute_reply": "2022-05-13T01:45:14.599237Z"
    },
    "papermill": {
     "duration": 0.030153,
     "end_time": "2022-05-13T01:45:14.601902",
     "exception": false,
     "start_time": "2022-05-13T01:45:14.571749",
     "status": "completed"
    },
    "tags": []
   },
   "outputs": [
    {
     "name": "stdout",
     "output_type": "stream",
     "text": [
      "(10, 3)\n",
      "[[-0.61719925  0.92802945 -2.02903745]\n",
      " [-2.47093898  0.15350584 -2.43475413]\n",
      " [-1.00338617  0.75589767 -2.22352666]\n",
      " [-1.72171392  0.36272921 -2.06297128]\n",
      " [-1.58093047  0.47698816 -2.31339904]\n",
      " [-1.12982556  0.66151413 -2.04799138]\n",
      " [-0.6093891   0.78987177 -1.87684573]\n",
      " [-1.78794997  0.45092629 -2.2066148 ]\n",
      " [-0.18792045  0.69996178 -1.63657334]\n",
      " [-0.53129408  0.84531155 -1.87833096]]\n"
     ]
    }
   ],
   "source": [
    "print(s.shape)\n",
    "print(s)"
   ]
  }
 ],
 "metadata": {
  "kernelspec": {
   "display_name": "Python 3",
   "language": "python",
   "name": "python3"
  },
  "language_info": {
   "codemirror_mode": {
    "name": "ipython",
    "version": 3
   },
   "file_extension": ".py",
   "mimetype": "text/x-python",
   "name": "python",
   "nbconvert_exporter": "python",
   "pygments_lexer": "ipython3",
   "version": "3.7.12"
  },
  "papermill": {
   "default_parameters": {},
   "duration": 11.876528,
   "end_time": "2022-05-13T01:45:15.342577",
   "environment_variables": {},
   "exception": null,
   "input_path": "__notebook__.ipynb",
   "output_path": "__notebook__.ipynb",
   "parameters": {},
   "start_time": "2022-05-13T01:45:03.466049",
   "version": "2.3.4"
  }
 },
 "nbformat": 4,
 "nbformat_minor": 5
}
