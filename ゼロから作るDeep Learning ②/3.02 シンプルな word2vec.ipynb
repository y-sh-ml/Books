{
 "cells": [
  {
   "cell_type": "markdown",
   "id": "2b162ac5",
   "metadata": {
    "_cell_guid": "b1076dfc-b9ad-4769-8c92-a6c4dae69d19",
    "_uuid": "8f2839f25d086af736a60e9eeb907d3b93b6e0e5",
    "papermill": {
     "duration": 0.008,
     "end_time": "2022-04-21T02:41:35.727372",
     "exception": false,
     "start_time": "2022-04-21T02:41:35.719372",
     "status": "completed"
    },
    "tags": []
   },
   "source": [
    "## 3.2　シンプルな word2vec"
   ]
  },
  {
   "cell_type": "code",
   "execution_count": 1,
   "id": "80e95f41",
   "metadata": {
    "execution": {
     "iopub.execute_input": "2022-04-21T02:41:35.744233Z",
     "iopub.status.busy": "2022-04-21T02:41:35.743637Z",
     "iopub.status.idle": "2022-04-21T02:41:35.753189Z",
     "shell.execute_reply": "2022-04-21T02:41:35.752534Z"
    },
    "papermill": {
     "duration": 0.020559,
     "end_time": "2022-04-21T02:41:35.755511",
     "exception": false,
     "start_time": "2022-04-21T02:41:35.734952",
     "status": "completed"
    },
    "tags": []
   },
   "outputs": [],
   "source": [
    "import sys\n",
    "import numpy as np"
   ]
  },
  {
   "cell_type": "code",
   "execution_count": 2,
   "id": "ce354c03",
   "metadata": {
    "execution": {
     "iopub.execute_input": "2022-04-21T02:41:35.771665Z",
     "iopub.status.busy": "2022-04-21T02:41:35.770921Z",
     "iopub.status.idle": "2022-04-21T02:41:35.775315Z",
     "shell.execute_reply": "2022-04-21T02:41:35.774375Z"
    },
    "papermill": {
     "duration": 0.014398,
     "end_time": "2022-04-21T02:41:35.777413",
     "exception": false,
     "start_time": "2022-04-21T02:41:35.763015",
     "status": "completed"
    },
    "tags": []
   },
   "outputs": [],
   "source": [
    "sys.path.append('../input/deeplearningfromscratch2master/deep-learning-from-scratch-2-master')"
   ]
  },
  {
   "cell_type": "code",
   "execution_count": 3,
   "id": "8ef1b44d",
   "metadata": {
    "execution": {
     "iopub.execute_input": "2022-04-21T02:41:35.792759Z",
     "iopub.status.busy": "2022-04-21T02:41:35.792448Z",
     "iopub.status.idle": "2022-04-21T02:41:35.827187Z",
     "shell.execute_reply": "2022-04-21T02:41:35.826219Z"
    },
    "papermill": {
     "duration": 0.045184,
     "end_time": "2022-04-21T02:41:35.829510",
     "exception": false,
     "start_time": "2022-04-21T02:41:35.784326",
     "status": "completed"
    },
    "tags": []
   },
   "outputs": [],
   "source": [
    "from common.layers import MatMul"
   ]
  },
  {
   "cell_type": "markdown",
   "id": "2372d9c4",
   "metadata": {
    "execution": {
     "iopub.execute_input": "2022-04-21T02:21:38.012093Z",
     "iopub.status.busy": "2022-04-21T02:21:38.011757Z",
     "iopub.status.idle": "2022-04-21T02:21:38.032227Z",
     "shell.execute_reply": "2022-04-21T02:21:38.030956Z",
     "shell.execute_reply.started": "2022-04-21T02:21:38.012008Z"
    },
    "papermill": {
     "duration": 0.00659,
     "end_time": "2022-04-21T02:41:35.843085",
     "exception": false,
     "start_time": "2022-04-21T02:41:35.836495",
     "status": "completed"
    },
    "tags": []
   },
   "source": [
    "### 3.2.1　CBOW モデルの推論処理"
   ]
  },
  {
   "cell_type": "code",
   "execution_count": 4,
   "id": "1014702c",
   "metadata": {
    "execution": {
     "iopub.execute_input": "2022-04-21T02:41:35.858825Z",
     "iopub.status.busy": "2022-04-21T02:41:35.858114Z",
     "iopub.status.idle": "2022-04-21T02:41:35.866832Z",
     "shell.execute_reply": "2022-04-21T02:41:35.866120Z"
    },
    "papermill": {
     "duration": 0.018758,
     "end_time": "2022-04-21T02:41:35.868819",
     "exception": false,
     "start_time": "2022-04-21T02:41:35.850061",
     "status": "completed"
    },
    "tags": []
   },
   "outputs": [
    {
     "name": "stdout",
     "output_type": "stream",
     "text": [
      "[[ 0.68238792 -0.99399593  1.0480664  -0.19118498 -0.22444951 -1.71667355\n",
      "   0.7841265 ]]\n"
     ]
    }
   ],
   "source": [
    "c0 = np.array([[1, 0, 0, 0, 0, 0, 0]])\n",
    "c1 = np.array([[0, 0, 1, 0, 0, 0, 0]])\n",
    "\n",
    "W_in = np.random.randn(7, 3)\n",
    "W_out = np.random.randn(3, 7)\n",
    "\n",
    "in_layer0 = MatMul(W_in)\n",
    "in_layer1 = MatMul(W_in)\n",
    "out_layer = MatMul(W_out)\n",
    "\n",
    "h0 = in_layer0.forward(c0)\n",
    "h1 = in_layer1.forward(c1)\n",
    "h = 0.5 * (h0 + h1)\n",
    "s = out_layer.forward(h)\n",
    "\n",
    "print(s)"
   ]
  }
 ],
 "metadata": {
  "kernelspec": {
   "display_name": "Python 3",
   "language": "python",
   "name": "python3"
  },
  "language_info": {
   "codemirror_mode": {
    "name": "ipython",
    "version": 3
   },
   "file_extension": ".py",
   "mimetype": "text/x-python",
   "name": "python",
   "nbconvert_exporter": "python",
   "pygments_lexer": "ipython3",
   "version": "3.7.12"
  },
  "papermill": {
   "default_parameters": {},
   "duration": 10.930516,
   "end_time": "2022-04-21T02:41:36.599472",
   "environment_variables": {},
   "exception": null,
   "input_path": "__notebook__.ipynb",
   "output_path": "__notebook__.ipynb",
   "parameters": {},
   "start_time": "2022-04-21T02:41:25.668956",
   "version": "2.3.4"
  }
 },
 "nbformat": 4,
 "nbformat_minor": 5
}
