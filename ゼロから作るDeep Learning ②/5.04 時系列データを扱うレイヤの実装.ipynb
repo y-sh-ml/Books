{
 "cells": [
  {
   "cell_type": "markdown",
   "id": "c1ccadbc",
   "metadata": {
    "_cell_guid": "b1076dfc-b9ad-4769-8c92-a6c4dae69d19",
    "_uuid": "8f2839f25d086af736a60e9eeb907d3b93b6e0e5",
    "papermill": {
     "duration": 0.005626,
     "end_time": "2022-05-10T02:04:46.401894",
     "exception": false,
     "start_time": "2022-05-10T02:04:46.396268",
     "status": "completed"
    },
    "tags": []
   },
   "source": [
    "## 5.4　時系列データを扱うレイヤの実装"
   ]
  },
  {
   "cell_type": "markdown",
   "id": "983f4d5c",
   "metadata": {
    "papermill": {
     "duration": 0.004121,
     "end_time": "2022-05-10T02:04:46.410976",
     "exception": false,
     "start_time": "2022-05-10T02:04:46.406855",
     "status": "completed"
    },
    "tags": []
   },
   "source": [
    "### 5.4.1　RNNLM の全体図"
   ]
  },
  {
   "cell_type": "markdown",
   "id": "606d7f16",
   "metadata": {
    "papermill": {
     "duration": 0.004215,
     "end_time": "2022-05-10T02:04:46.419665",
     "exception": false,
     "start_time": "2022-05-10T02:04:46.415450",
     "status": "completed"
    },
    "tags": []
   },
   "source": [
    "RNN レイヤは、過去の複数のコンテクストを記憶している。"
   ]
  },
  {
   "cell_type": "markdown",
   "id": "1b5bb3db",
   "metadata": {
    "papermill": {
     "duration": 0.004163,
     "end_time": "2022-05-10T02:04:46.428306",
     "exception": false,
     "start_time": "2022-05-10T02:04:46.424143",
     "status": "completed"
    },
    "tags": []
   },
   "source": [
    "### 5.4.2　Time レイヤの実装"
   ]
  },
  {
   "cell_type": "markdown",
   "id": "5297d5ba",
   "metadata": {
    "papermill": {
     "duration": 0.004218,
     "end_time": "2022-05-10T02:04:46.436938",
     "exception": false,
     "start_time": "2022-05-10T02:04:46.432720",
     "status": "completed"
    },
    "tags": []
   },
   "source": [
    "Time Embedding レイヤは、順伝播時に T 個の Embedding レイヤを用意するが<br>\n",
    "Time Affine レイヤは、効率性を重視して、行列計算としてまとめて処理をする。"
   ]
  }
 ],
 "metadata": {
  "kernelspec": {
   "display_name": "Python 3",
   "language": "python",
   "name": "python3"
  },
  "language_info": {
   "codemirror_mode": {
    "name": "ipython",
    "version": 3
   },
   "file_extension": ".py",
   "mimetype": "text/x-python",
   "name": "python",
   "nbconvert_exporter": "python",
   "pygments_lexer": "ipython3",
   "version": "3.7.12"
  },
  "papermill": {
   "default_parameters": {},
   "duration": 10.925178,
   "end_time": "2022-05-10T02:04:47.265242",
   "environment_variables": {},
   "exception": null,
   "input_path": "__notebook__.ipynb",
   "output_path": "__notebook__.ipynb",
   "parameters": {},
   "start_time": "2022-05-10T02:04:36.340064",
   "version": "2.3.4"
  }
 },
 "nbformat": 4,
 "nbformat_minor": 5
}
