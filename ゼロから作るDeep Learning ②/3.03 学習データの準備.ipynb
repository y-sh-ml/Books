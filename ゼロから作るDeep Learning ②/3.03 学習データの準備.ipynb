{
 "cells": [
  {
   "cell_type": "markdown",
   "id": "baa7d830",
   "metadata": {
    "_cell_guid": "b1076dfc-b9ad-4769-8c92-a6c4dae69d19",
    "_uuid": "8f2839f25d086af736a60e9eeb907d3b93b6e0e5",
    "papermill": {
     "duration": 0.016327,
     "end_time": "2022-04-22T05:35:37.122532",
     "exception": false,
     "start_time": "2022-04-22T05:35:37.106205",
     "status": "completed"
    },
    "tags": []
   },
   "source": [
    "## 3.3　学習データの準備"
   ]
  },
  {
   "cell_type": "code",
   "execution_count": 1,
   "id": "4185cd4e",
   "metadata": {
    "execution": {
     "iopub.execute_input": "2022-04-22T05:35:37.156033Z",
     "iopub.status.busy": "2022-04-22T05:35:37.155371Z",
     "iopub.status.idle": "2022-04-22T05:35:37.164872Z",
     "shell.execute_reply": "2022-04-22T05:35:37.164068Z"
    },
    "papermill": {
     "duration": 0.028723,
     "end_time": "2022-04-22T05:35:37.167067",
     "exception": false,
     "start_time": "2022-04-22T05:35:37.138344",
     "status": "completed"
    },
    "tags": []
   },
   "outputs": [],
   "source": [
    "import sys\n",
    "import numpy as np"
   ]
  },
  {
   "cell_type": "code",
   "execution_count": 2,
   "id": "28b7d1ec",
   "metadata": {
    "execution": {
     "iopub.execute_input": "2022-04-22T05:35:37.198884Z",
     "iopub.status.busy": "2022-04-22T05:35:37.198599Z",
     "iopub.status.idle": "2022-04-22T05:35:37.202515Z",
     "shell.execute_reply": "2022-04-22T05:35:37.201725Z"
    },
    "papermill": {
     "duration": 0.022299,
     "end_time": "2022-04-22T05:35:37.204466",
     "exception": false,
     "start_time": "2022-04-22T05:35:37.182167",
     "status": "completed"
    },
    "tags": []
   },
   "outputs": [],
   "source": [
    "sys.path.append('../input/deeplearningfromscratch2master/deep-learning-from-scratch-2-master')"
   ]
  },
  {
   "cell_type": "code",
   "execution_count": 3,
   "id": "e64b30b4",
   "metadata": {
    "execution": {
     "iopub.execute_input": "2022-04-22T05:35:37.236296Z",
     "iopub.status.busy": "2022-04-22T05:35:37.236031Z",
     "iopub.status.idle": "2022-04-22T05:35:37.268111Z",
     "shell.execute_reply": "2022-04-22T05:35:37.267507Z"
    },
    "papermill": {
     "duration": 0.050847,
     "end_time": "2022-04-22T05:35:37.270303",
     "exception": false,
     "start_time": "2022-04-22T05:35:37.219456",
     "status": "completed"
    },
    "tags": []
   },
   "outputs": [],
   "source": [
    "from common.util import preprocess"
   ]
  },
  {
   "cell_type": "markdown",
   "id": "96387fd8",
   "metadata": {
    "papermill": {
     "duration": 0.015202,
     "end_time": "2022-04-22T05:35:37.301372",
     "exception": false,
     "start_time": "2022-04-22T05:35:37.286170",
     "status": "completed"
    },
    "tags": []
   },
   "source": [
    "### 3.3.1　コンテキストとターゲット"
   ]
  },
  {
   "cell_type": "code",
   "execution_count": 4,
   "id": "f82f6c6c",
   "metadata": {
    "execution": {
     "iopub.execute_input": "2022-04-22T05:35:37.334339Z",
     "iopub.status.busy": "2022-04-22T05:35:37.334071Z",
     "iopub.status.idle": "2022-04-22T05:35:37.341544Z",
     "shell.execute_reply": "2022-04-22T05:35:37.340675Z"
    },
    "papermill": {
     "duration": 0.027245,
     "end_time": "2022-04-22T05:35:37.344355",
     "exception": false,
     "start_time": "2022-04-22T05:35:37.317110",
     "status": "completed"
    },
    "tags": []
   },
   "outputs": [
    {
     "name": "stdout",
     "output_type": "stream",
     "text": [
      "corpus\n",
      "[0 1 2 3 4 1 5 6]\n",
      "id_to_word\n",
      "{0: 'you', 1: 'say', 2: 'goodbye', 3: 'and', 4: 'i', 5: 'hello', 6: '.'}\n"
     ]
    }
   ],
   "source": [
    "text = 'You say goodbye and I say hello.'\n",
    "corpus, word_to_id, id_to_word = preprocess(text)\n",
    "\n",
    "print('corpus')\n",
    "print(corpus)\n",
    "print('id_to_word')\n",
    "print(id_to_word)"
   ]
  },
  {
   "cell_type": "markdown",
   "id": "2c4274aa",
   "metadata": {
    "papermill": {
     "duration": 0.015504,
     "end_time": "2022-04-22T05:35:37.377205",
     "exception": false,
     "start_time": "2022-04-22T05:35:37.361701",
     "status": "completed"
    },
    "tags": []
   },
   "source": [
    "`corpus` は、単語 ID の配列である。"
   ]
  },
  {
   "cell_type": "code",
   "execution_count": 5,
   "id": "fb680d27",
   "metadata": {
    "execution": {
     "iopub.execute_input": "2022-04-22T05:35:37.409911Z",
     "iopub.status.busy": "2022-04-22T05:35:37.409655Z",
     "iopub.status.idle": "2022-04-22T05:35:37.416084Z",
     "shell.execute_reply": "2022-04-22T05:35:37.415141Z"
    },
    "papermill": {
     "duration": 0.02533,
     "end_time": "2022-04-22T05:35:37.418116",
     "exception": false,
     "start_time": "2022-04-22T05:35:37.392786",
     "status": "completed"
    },
    "tags": []
   },
   "outputs": [],
   "source": [
    "def create_contexts_target(corpus, window_size=1):\n",
    "    target = corpus[window_size:-window_size]\n",
    "    contexts = []\n",
    "    \n",
    "    for idx in range(window_size, len(corpus)-window_size):\n",
    "        cs = []\n",
    "        for t in range(-window_size, window_size + 1):\n",
    "            if t == 0:\n",
    "                continue\n",
    "            cs.append(corpus[idx + t])\n",
    "        contexts.append(cs)\n",
    "        \n",
    "    return np.array(contexts), np.array(target)"
   ]
  },
  {
   "cell_type": "code",
   "execution_count": 6,
   "id": "37687691",
   "metadata": {
    "execution": {
     "iopub.execute_input": "2022-04-22T05:35:37.450670Z",
     "iopub.status.busy": "2022-04-22T05:35:37.450194Z",
     "iopub.status.idle": "2022-04-22T05:35:37.454009Z",
     "shell.execute_reply": "2022-04-22T05:35:37.453231Z"
    },
    "papermill": {
     "duration": 0.022326,
     "end_time": "2022-04-22T05:35:37.456067",
     "exception": false,
     "start_time": "2022-04-22T05:35:37.433741",
     "status": "completed"
    },
    "tags": []
   },
   "outputs": [],
   "source": [
    "contexts, target = create_contexts_target(corpus, window_size=1)"
   ]
  },
  {
   "cell_type": "code",
   "execution_count": 7,
   "id": "00b45887",
   "metadata": {
    "execution": {
     "iopub.execute_input": "2022-04-22T05:35:37.489379Z",
     "iopub.status.busy": "2022-04-22T05:35:37.489085Z",
     "iopub.status.idle": "2022-04-22T05:35:37.496556Z",
     "shell.execute_reply": "2022-04-22T05:35:37.495173Z"
    },
    "papermill": {
     "duration": 0.026496,
     "end_time": "2022-04-22T05:35:37.498660",
     "exception": false,
     "start_time": "2022-04-22T05:35:37.472164",
     "status": "completed"
    },
    "tags": []
   },
   "outputs": [
    {
     "name": "stdout",
     "output_type": "stream",
     "text": [
      "corpus\n",
      "[0 1 2 3 4 1 5 6]\n",
      "contexts\n",
      "[[0 2]\n",
      " [1 3]\n",
      " [2 4]\n",
      " [3 1]\n",
      " [4 5]\n",
      " [1 6]]\n",
      "target\n",
      "[1 2 3 4 1 5]\n"
     ]
    }
   ],
   "source": [
    "print('corpus')\n",
    "print(corpus)\n",
    "print('contexts')\n",
    "print(contexts)\n",
    "print('target')\n",
    "print(target)"
   ]
  },
  {
   "cell_type": "markdown",
   "id": "83f91bb2",
   "metadata": {
    "papermill": {
     "duration": 0.015415,
     "end_time": "2022-04-22T05:35:37.529881",
     "exception": false,
     "start_time": "2022-04-22T05:35:37.514466",
     "status": "completed"
    },
    "tags": []
   },
   "source": [
    "`contexts` は、`corpus` の単語 ID に対応している。"
   ]
  },
  {
   "cell_type": "markdown",
   "id": "fd80abcc",
   "metadata": {
    "papermill": {
     "duration": 0.015322,
     "end_time": "2022-04-22T05:35:37.561023",
     "exception": false,
     "start_time": "2022-04-22T05:35:37.545701",
     "status": "completed"
    },
    "tags": []
   },
   "source": [
    "### 3.3.2　one-hot 表現への変換"
   ]
  },
  {
   "cell_type": "code",
   "execution_count": 8,
   "id": "cd7cfc83",
   "metadata": {
    "execution": {
     "iopub.execute_input": "2022-04-22T05:35:37.595115Z",
     "iopub.status.busy": "2022-04-22T05:35:37.594839Z",
     "iopub.status.idle": "2022-04-22T05:35:37.598608Z",
     "shell.execute_reply": "2022-04-22T05:35:37.597832Z"
    },
    "papermill": {
     "duration": 0.023263,
     "end_time": "2022-04-22T05:35:37.600666",
     "exception": false,
     "start_time": "2022-04-22T05:35:37.577403",
     "status": "completed"
    },
    "tags": []
   },
   "outputs": [],
   "source": [
    "from  common.util import preprocess, create_contexts_target, convert_one_hot"
   ]
  },
  {
   "cell_type": "code",
   "execution_count": 9,
   "id": "f9057b2f",
   "metadata": {
    "execution": {
     "iopub.execute_input": "2022-04-22T05:35:37.635275Z",
     "iopub.status.busy": "2022-04-22T05:35:37.634991Z",
     "iopub.status.idle": "2022-04-22T05:35:37.640134Z",
     "shell.execute_reply": "2022-04-22T05:35:37.639552Z"
    },
    "papermill": {
     "duration": 0.024973,
     "end_time": "2022-04-22T05:35:37.641920",
     "exception": false,
     "start_time": "2022-04-22T05:35:37.616947",
     "status": "completed"
    },
    "tags": []
   },
   "outputs": [
    {
     "name": "stdout",
     "output_type": "stream",
     "text": [
      "corpus\n",
      "[0 1 2 3 4 1 5 6]\n",
      "id_to_word\n",
      "{0: 'you', 1: 'say', 2: 'goodbye', 3: 'and', 4: 'i', 5: 'hello', 6: '.'}\n"
     ]
    }
   ],
   "source": [
    "text = 'You say goodbye and I say hello.'\n",
    "corpus, word_to_id, id_to_word = preprocess(text)\n",
    "\n",
    "print('corpus')\n",
    "print(corpus)\n",
    "print('id_to_word')\n",
    "print(id_to_word)"
   ]
  },
  {
   "cell_type": "code",
   "execution_count": 10,
   "id": "355fdb9a",
   "metadata": {
    "execution": {
     "iopub.execute_input": "2022-04-22T05:35:37.675865Z",
     "iopub.status.busy": "2022-04-22T05:35:37.675601Z",
     "iopub.status.idle": "2022-04-22T05:35:37.681705Z",
     "shell.execute_reply": "2022-04-22T05:35:37.680573Z"
    },
    "papermill": {
     "duration": 0.026466,
     "end_time": "2022-04-22T05:35:37.684713",
     "exception": false,
     "start_time": "2022-04-22T05:35:37.658247",
     "status": "completed"
    },
    "tags": []
   },
   "outputs": [
    {
     "name": "stdout",
     "output_type": "stream",
     "text": [
      "contexts\n",
      "[[0 2]\n",
      " [1 3]\n",
      " [2 4]\n",
      " [3 1]\n",
      " [4 5]\n",
      " [1 6]]\n",
      "target\n",
      "[1 2 3 4 1 5]\n"
     ]
    }
   ],
   "source": [
    "contexts, target = create_contexts_target(corpus, window_size=1)\n",
    "\n",
    "print('contexts')\n",
    "print(contexts)\n",
    "print('target')\n",
    "print(target)"
   ]
  },
  {
   "cell_type": "code",
   "execution_count": 11,
   "id": "7f540bdc",
   "metadata": {
    "execution": {
     "iopub.execute_input": "2022-04-22T05:35:37.721748Z",
     "iopub.status.busy": "2022-04-22T05:35:37.721484Z",
     "iopub.status.idle": "2022-04-22T05:35:37.730881Z",
     "shell.execute_reply": "2022-04-22T05:35:37.729278Z"
    },
    "papermill": {
     "duration": 0.03011,
     "end_time": "2022-04-22T05:35:37.732943",
     "exception": false,
     "start_time": "2022-04-22T05:35:37.702833",
     "status": "completed"
    },
    "tags": []
   },
   "outputs": [
    {
     "name": "stdout",
     "output_type": "stream",
     "text": [
      "vocab_size\n",
      "7\n",
      "target\n",
      "[[0 1 0 0 0 0 0]\n",
      " [0 0 1 0 0 0 0]\n",
      " [0 0 0 1 0 0 0]\n",
      " [0 0 0 0 1 0 0]\n",
      " [0 1 0 0 0 0 0]\n",
      " [0 0 0 0 0 1 0]]\n",
      "contexts\n",
      "[[[1 0 0 0 0 0 0]\n",
      "  [0 0 1 0 0 0 0]]\n",
      "\n",
      " [[0 1 0 0 0 0 0]\n",
      "  [0 0 0 1 0 0 0]]\n",
      "\n",
      " [[0 0 1 0 0 0 0]\n",
      "  [0 0 0 0 1 0 0]]\n",
      "\n",
      " [[0 0 0 1 0 0 0]\n",
      "  [0 1 0 0 0 0 0]]\n",
      "\n",
      " [[0 0 0 0 1 0 0]\n",
      "  [0 0 0 0 0 1 0]]\n",
      "\n",
      " [[0 1 0 0 0 0 0]\n",
      "  [0 0 0 0 0 0 1]]]\n"
     ]
    }
   ],
   "source": [
    "vocab_size = len(word_to_id)\n",
    "target = convert_one_hot(target, vocab_size)\n",
    "contexts = convert_one_hot(contexts, vocab_size)\n",
    "\n",
    "print('vocab_size')\n",
    "print(vocab_size)\n",
    "print('target')\n",
    "print(target)\n",
    "print('contexts')\n",
    "print(contexts)"
   ]
  }
 ],
 "metadata": {
  "kernelspec": {
   "display_name": "Python 3",
   "language": "python",
   "name": "python3"
  },
  "language_info": {
   "codemirror_mode": {
    "name": "ipython",
    "version": 3
   },
   "file_extension": ".py",
   "mimetype": "text/x-python",
   "name": "python",
   "nbconvert_exporter": "python",
   "pygments_lexer": "ipython3",
   "version": "3.7.12"
  },
  "papermill": {
   "default_parameters": {},
   "duration": 10.871788,
   "end_time": "2022-04-22T05:35:38.370413",
   "environment_variables": {},
   "exception": null,
   "input_path": "__notebook__.ipynb",
   "output_path": "__notebook__.ipynb",
   "parameters": {},
   "start_time": "2022-04-22T05:35:27.498625",
   "version": "2.3.4"
  }
 },
 "nbformat": 4,
 "nbformat_minor": 5
}
