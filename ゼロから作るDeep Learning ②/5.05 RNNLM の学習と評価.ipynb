{
 "cells": [
  {
   "cell_type": "markdown",
   "id": "3adfdbe5",
   "metadata": {
    "_cell_guid": "b1076dfc-b9ad-4769-8c92-a6c4dae69d19",
    "_uuid": "8f2839f25d086af736a60e9eeb907d3b93b6e0e5",
    "papermill": {
     "duration": 0.008627,
     "end_time": "2022-05-10T02:40:28.224080",
     "exception": false,
     "start_time": "2022-05-10T02:40:28.215453",
     "status": "completed"
    },
    "tags": []
   },
   "source": [
    "## 5.5　RNNLM の学習と評価"
   ]
  },
  {
   "cell_type": "code",
   "execution_count": 1,
   "id": "a0b2f92a",
   "metadata": {
    "execution": {
     "iopub.execute_input": "2022-05-10T02:40:28.241739Z",
     "iopub.status.busy": "2022-05-10T02:40:28.241019Z",
     "iopub.status.idle": "2022-05-10T02:40:28.253290Z",
     "shell.execute_reply": "2022-05-10T02:40:28.252607Z"
    },
    "papermill": {
     "duration": 0.023653,
     "end_time": "2022-05-10T02:40:28.255540",
     "exception": false,
     "start_time": "2022-05-10T02:40:28.231887",
     "status": "completed"
    },
    "tags": []
   },
   "outputs": [],
   "source": [
    "import sys\n",
    "import numpy as np"
   ]
  },
  {
   "cell_type": "code",
   "execution_count": 2,
   "id": "9f309ed8",
   "metadata": {
    "execution": {
     "iopub.execute_input": "2022-05-10T02:40:28.272548Z",
     "iopub.status.busy": "2022-05-10T02:40:28.272268Z",
     "iopub.status.idle": "2022-05-10T02:40:28.276384Z",
     "shell.execute_reply": "2022-05-10T02:40:28.275563Z"
    },
    "papermill": {
     "duration": 0.015032,
     "end_time": "2022-05-10T02:40:28.278363",
     "exception": false,
     "start_time": "2022-05-10T02:40:28.263331",
     "status": "completed"
    },
    "tags": []
   },
   "outputs": [],
   "source": [
    "sys.path.append('../input/deeplearningfromscratch2master/deep-learning-from-scratch-2-master')"
   ]
  },
  {
   "cell_type": "code",
   "execution_count": 3,
   "id": "adffac2a",
   "metadata": {
    "execution": {
     "iopub.execute_input": "2022-05-10T02:40:28.295250Z",
     "iopub.status.busy": "2022-05-10T02:40:28.294644Z",
     "iopub.status.idle": "2022-05-10T02:40:28.319270Z",
     "shell.execute_reply": "2022-05-10T02:40:28.318341Z"
    },
    "papermill": {
     "duration": 0.035615,
     "end_time": "2022-05-10T02:40:28.321494",
     "exception": false,
     "start_time": "2022-05-10T02:40:28.285879",
     "status": "completed"
    },
    "tags": []
   },
   "outputs": [],
   "source": [
    "from common.config import *"
   ]
  },
  {
   "cell_type": "markdown",
   "id": "bb9e1251",
   "metadata": {
    "papermill": {
     "duration": 0.007319,
     "end_time": "2022-05-10T02:40:28.336690",
     "exception": false,
     "start_time": "2022-05-10T02:40:28.329371",
     "status": "completed"
    },
    "tags": []
   },
   "source": [
    "### 5.5.1　RNNLM の実装"
   ]
  },
  {
   "cell_type": "code",
   "execution_count": 4,
   "id": "55220fd2",
   "metadata": {
    "execution": {
     "iopub.execute_input": "2022-05-10T02:40:28.353685Z",
     "iopub.status.busy": "2022-05-10T02:40:28.353372Z",
     "iopub.status.idle": "2022-05-10T02:40:28.363164Z",
     "shell.execute_reply": "2022-05-10T02:40:28.362438Z"
    },
    "papermill": {
     "duration": 0.020919,
     "end_time": "2022-05-10T02:40:28.365273",
     "exception": false,
     "start_time": "2022-05-10T02:40:28.344354",
     "status": "completed"
    },
    "tags": []
   },
   "outputs": [],
   "source": [
    "class SimpleRnnlm:\n",
    "    def __init__(self, vocab_size, wordvec_size, hidden_size):\n",
    "        V, D, H = vocab_size, wordvec_size, hidden_size\n",
    "        rn = np.random.randn\n",
    "        \n",
    "        embed_W = (rn(V, D) / 100).astype('f')\n",
    "        rnn_Wx = (rn(D, H) / np.sqrt(D)).astype('f')\n",
    "        rnn_Wh = (rn(H, H) / np.sqrt(H)).astype('f')\n",
    "        rnn_b = np.zeros(H).astype('f')\n",
    "        affine_W = (rn(H, V) / np.sqrt(H)).astype('f')\n",
    "        affine_b = np.zeros(V).astype('f')\n",
    "        \n",
    "        self.layers = [\n",
    "            TimeEmbedding(embed_W),\n",
    "            TimeRNN(rnn_Wx, rnn_Wh, rnn_b, stateful=True),\n",
    "            TimeAffine(affine_W, affine_b)\n",
    "        ]\n",
    "        \n",
    "        self.loss_layer = TimeSoftmaxWithLoss()\n",
    "        self.rnn_layer = self.layers[1]\n",
    "        \n",
    "        self.params, self.grads = [], []\n",
    "        for layer in self.layers:\n",
    "            self.params += layer.params\n",
    "            self.grads += layer.grads"
   ]
  },
  {
   "cell_type": "code",
   "execution_count": null,
   "id": "d22dc310",
   "metadata": {
    "papermill": {
     "duration": 0.007151,
     "end_time": "2022-05-10T02:40:28.380078",
     "exception": false,
     "start_time": "2022-05-10T02:40:28.372927",
     "status": "completed"
    },
    "tags": []
   },
   "outputs": [],
   "source": []
  }
 ],
 "metadata": {
  "kernelspec": {
   "display_name": "Python 3",
   "language": "python",
   "name": "python3"
  },
  "language_info": {
   "codemirror_mode": {
    "name": "ipython",
    "version": 3
   },
   "file_extension": ".py",
   "mimetype": "text/x-python",
   "name": "python",
   "nbconvert_exporter": "python",
   "pygments_lexer": "ipython3",
   "version": "3.7.12"
  },
  "papermill": {
   "default_parameters": {},
   "duration": 11.064685,
   "end_time": "2022-05-10T02:40:29.009159",
   "environment_variables": {},
   "exception": null,
   "input_path": "__notebook__.ipynb",
   "output_path": "__notebook__.ipynb",
   "parameters": {},
   "start_time": "2022-05-10T02:40:17.944474",
   "version": "2.3.4"
  }
 },
 "nbformat": 4,
 "nbformat_minor": 5
}
