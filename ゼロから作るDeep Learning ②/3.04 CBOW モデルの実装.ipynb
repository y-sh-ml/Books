{
 "cells": [
  {
   "cell_type": "markdown",
   "id": "0bda0093",
   "metadata": {
    "_cell_guid": "b1076dfc-b9ad-4769-8c92-a6c4dae69d19",
    "_uuid": "8f2839f25d086af736a60e9eeb907d3b93b6e0e5",
    "papermill": {
     "duration": 0.013496,
     "end_time": "2022-04-22T06:23:46.787005",
     "exception": false,
     "start_time": "2022-04-22T06:23:46.773509",
     "status": "completed"
    },
    "tags": []
   },
   "source": [
    "## 3.4　CBOW モデルの実装"
   ]
  },
  {
   "cell_type": "code",
   "execution_count": 1,
   "id": "56f40b20",
   "metadata": {
    "execution": {
     "iopub.execute_input": "2022-04-22T06:23:46.813140Z",
     "iopub.status.busy": "2022-04-22T06:23:46.812577Z",
     "iopub.status.idle": "2022-04-22T06:23:46.820432Z",
     "shell.execute_reply": "2022-04-22T06:23:46.819843Z"
    },
    "papermill": {
     "duration": 0.023224,
     "end_time": "2022-04-22T06:23:46.822553",
     "exception": false,
     "start_time": "2022-04-22T06:23:46.799329",
     "status": "completed"
    },
    "tags": []
   },
   "outputs": [],
   "source": [
    "import sys\n",
    "import numpy as np"
   ]
  },
  {
   "cell_type": "code",
   "execution_count": 2,
   "id": "06adf061",
   "metadata": {
    "execution": {
     "iopub.execute_input": "2022-04-22T06:23:46.849071Z",
     "iopub.status.busy": "2022-04-22T06:23:46.848764Z",
     "iopub.status.idle": "2022-04-22T06:23:46.852569Z",
     "shell.execute_reply": "2022-04-22T06:23:46.851863Z"
    },
    "papermill": {
     "duration": 0.019004,
     "end_time": "2022-04-22T06:23:46.854216",
     "exception": false,
     "start_time": "2022-04-22T06:23:46.835212",
     "status": "completed"
    },
    "tags": []
   },
   "outputs": [],
   "source": [
    "sys.path.append('../input/deeplearningfromscratch2master/deep-learning-from-scratch-2-master')"
   ]
  },
  {
   "cell_type": "code",
   "execution_count": 3,
   "id": "8c5875cd",
   "metadata": {
    "execution": {
     "iopub.execute_input": "2022-04-22T06:23:46.879362Z",
     "iopub.status.busy": "2022-04-22T06:23:46.878571Z",
     "iopub.status.idle": "2022-04-22T06:23:46.979065Z",
     "shell.execute_reply": "2022-04-22T06:23:46.978181Z"
    },
    "papermill": {
     "duration": 0.115201,
     "end_time": "2022-04-22T06:23:46.981299",
     "exception": false,
     "start_time": "2022-04-22T06:23:46.866098",
     "status": "completed"
    },
    "tags": []
   },
   "outputs": [],
   "source": [
    "from  common.util import preprocess, create_contexts_target, convert_one_hot\n",
    "from common.layers import MatMul, SoftmaxWithLoss\n",
    "from common.trainer import Trainer\n",
    "from common.optimizer import Adam\n",
    "from ch03.simple_cbow import SimpleCBOW\n",
    "from common.util import preprocess, create_contexts_target, convert_one_hot"
   ]
  },
  {
   "cell_type": "code",
   "execution_count": 4,
   "id": "00260f97",
   "metadata": {
    "execution": {
     "iopub.execute_input": "2022-04-22T06:23:47.012873Z",
     "iopub.status.busy": "2022-04-22T06:23:47.012283Z",
     "iopub.status.idle": "2022-04-22T06:23:47.021484Z",
     "shell.execute_reply": "2022-04-22T06:23:47.020143Z"
    },
    "papermill": {
     "duration": 0.027612,
     "end_time": "2022-04-22T06:23:47.024663",
     "exception": false,
     "start_time": "2022-04-22T06:23:46.997051",
     "status": "completed"
    },
    "tags": []
   },
   "outputs": [
    {
     "name": "stdout",
     "output_type": "stream",
     "text": [
      "corpus\n",
      "[0 1 2 3 4 1 5 6]\n",
      "id_to_word\n",
      "{0: 'you', 1: 'say', 2: 'goodbye', 3: 'and', 4: 'i', 5: 'hello', 6: '.'}\n"
     ]
    }
   ],
   "source": [
    "text = 'You say goodbye and I say hello.'\n",
    "corpus, word_to_id, id_to_word = preprocess(text)\n",
    "\n",
    "print('corpus')\n",
    "print(corpus)\n",
    "print('id_to_word')\n",
    "print(id_to_word)"
   ]
  },
  {
   "cell_type": "code",
   "execution_count": 5,
   "id": "7b964043",
   "metadata": {
    "execution": {
     "iopub.execute_input": "2022-04-22T06:23:47.054587Z",
     "iopub.status.busy": "2022-04-22T06:23:47.054308Z",
     "iopub.status.idle": "2022-04-22T06:23:47.060081Z",
     "shell.execute_reply": "2022-04-22T06:23:47.059095Z"
    },
    "papermill": {
     "duration": 0.02304,
     "end_time": "2022-04-22T06:23:47.062283",
     "exception": false,
     "start_time": "2022-04-22T06:23:47.039243",
     "status": "completed"
    },
    "tags": []
   },
   "outputs": [
    {
     "name": "stdout",
     "output_type": "stream",
     "text": [
      "contexts\n",
      "[[0 2]\n",
      " [1 3]\n",
      " [2 4]\n",
      " [3 1]\n",
      " [4 5]\n",
      " [1 6]]\n",
      "target\n",
      "[1 2 3 4 1 5]\n"
     ]
    }
   ],
   "source": [
    "contexts, target = create_contexts_target(corpus, window_size=1)\n",
    "\n",
    "print('contexts')\n",
    "print(contexts)\n",
    "print('target')\n",
    "print(target)"
   ]
  },
  {
   "cell_type": "code",
   "execution_count": 6,
   "id": "f78f239a",
   "metadata": {
    "execution": {
     "iopub.execute_input": "2022-04-22T06:23:47.089775Z",
     "iopub.status.busy": "2022-04-22T06:23:47.089313Z",
     "iopub.status.idle": "2022-04-22T06:23:47.098071Z",
     "shell.execute_reply": "2022-04-22T06:23:47.097135Z"
    },
    "papermill": {
     "duration": 0.026276,
     "end_time": "2022-04-22T06:23:47.101116",
     "exception": false,
     "start_time": "2022-04-22T06:23:47.074840",
     "status": "completed"
    },
    "tags": []
   },
   "outputs": [
    {
     "name": "stdout",
     "output_type": "stream",
     "text": [
      "vocab_size\n",
      "7\n",
      "target\n",
      "[[0 1 0 0 0 0 0]\n",
      " [0 0 1 0 0 0 0]\n",
      " [0 0 0 1 0 0 0]\n",
      " [0 0 0 0 1 0 0]\n",
      " [0 1 0 0 0 0 0]\n",
      " [0 0 0 0 0 1 0]]\n",
      "contexts\n",
      "(6, 2, 7)\n",
      "[[[1 0 0 0 0 0 0]\n",
      "  [0 0 1 0 0 0 0]]\n",
      "\n",
      " [[0 1 0 0 0 0 0]\n",
      "  [0 0 0 1 0 0 0]]\n",
      "\n",
      " [[0 0 1 0 0 0 0]\n",
      "  [0 0 0 0 1 0 0]]\n",
      "\n",
      " [[0 0 0 1 0 0 0]\n",
      "  [0 1 0 0 0 0 0]]\n",
      "\n",
      " [[0 0 0 0 1 0 0]\n",
      "  [0 0 0 0 0 1 0]]\n",
      "\n",
      " [[0 1 0 0 0 0 0]\n",
      "  [0 0 0 0 0 0 1]]]\n"
     ]
    }
   ],
   "source": [
    "vocab_size = len(word_to_id)\n",
    "target = convert_one_hot(target, vocab_size)\n",
    "contexts = convert_one_hot(contexts, vocab_size)\n",
    "\n",
    "print('vocab_size')\n",
    "print(vocab_size)\n",
    "print('target')\n",
    "print(target)\n",
    "print('contexts')\n",
    "print(contexts.shape)\n",
    "print(contexts)"
   ]
  },
  {
   "cell_type": "markdown",
   "id": "9e99904e",
   "metadata": {
    "papermill": {
     "duration": 0.013115,
     "end_time": "2022-04-22T06:23:47.128374",
     "exception": false,
     "start_time": "2022-04-22T06:23:47.115259",
     "status": "completed"
    },
    "tags": []
   },
   "source": [
    "ミニバッチ数は 6、コンテキストは 2、one-hot ベクトルの要素数は 7 である。"
   ]
  },
  {
   "cell_type": "code",
   "execution_count": 7,
   "id": "a4580fde",
   "metadata": {
    "execution": {
     "iopub.execute_input": "2022-04-22T06:23:47.155928Z",
     "iopub.status.busy": "2022-04-22T06:23:47.155484Z",
     "iopub.status.idle": "2022-04-22T06:23:47.164935Z",
     "shell.execute_reply": "2022-04-22T06:23:47.164334Z"
    },
    "papermill": {
     "duration": 0.025566,
     "end_time": "2022-04-22T06:23:47.166851",
     "exception": false,
     "start_time": "2022-04-22T06:23:47.141285",
     "status": "completed"
    },
    "tags": []
   },
   "outputs": [],
   "source": [
    "class SimpleCBOW:\n",
    "    def __init__(self, vocab_size, hidden_size):\n",
    "        V, H = vocav_size, hidden_size\n",
    "        \n",
    "        W_in = 0.01 * np.random.randn(V, H).astype('f')\n",
    "        W_out = 0.01 * np.random.randn(H, V).astype('f')\n",
    "        \n",
    "        self.in_layer0 = MatMul(W_in)\n",
    "        self.in_layer1 = MatMul(W_in)\n",
    "        self.out_layer = MatMul(W_out)\n",
    "        self.loss_layer = SoftmaxWithLoss()\n",
    "        \n",
    "        layers = [self.in_layer0, self.in_layer1, self.out_layer]\n",
    "        self.params, self.grads = [], []\n",
    "        for layer in layers:\n",
    "            self.params += layer.params\n",
    "            self.grads += layer.grads\n",
    "            \n",
    "        self.word_vecs = W_in\n",
    "        \n",
    "        def forward(self, contexts, target):\n",
    "            h0 = self.in_layer0.forward(contexts[:, 0])\n",
    "            h1 = self.in_layer1.forward(contexts[:, 1])\n",
    "            h = (h0 + h1) * 0.5\n",
    "            score = self.out_layer.forward(h)\n",
    "            loss = self.loss_layer.forward(score, target)\n",
    "            return loss\n",
    "        \n",
    "        def backward(self, dout=1):\n",
    "            ds = self.loss_layer.backward(dout)\n",
    "            da = self.out_layer.backward(ds)\n",
    "            da *= 0.5\n",
    "            self.in_layer1.backward(da)\n",
    "            self.in_layer0.backward(da)\n",
    "            return None"
   ]
  },
  {
   "cell_type": "markdown",
   "id": "7f557ca3",
   "metadata": {
    "execution": {
     "iopub.execute_input": "2022-04-22T06:06:34.925052Z",
     "iopub.status.busy": "2022-04-22T06:06:34.924781Z",
     "iopub.status.idle": "2022-04-22T06:06:34.929163Z",
     "shell.execute_reply": "2022-04-22T06:06:34.928039Z",
     "shell.execute_reply.started": "2022-04-22T06:06:34.925017Z"
    },
    "papermill": {
     "duration": 0.011656,
     "end_time": "2022-04-22T06:23:47.190672",
     "exception": false,
     "start_time": "2022-04-22T06:23:47.179016",
     "status": "completed"
    },
    "tags": []
   },
   "source": [
    "### 3.4.1　学習コードの実装"
   ]
  },
  {
   "cell_type": "code",
   "execution_count": 8,
   "id": "8b4c0c08",
   "metadata": {
    "execution": {
     "iopub.execute_input": "2022-04-22T06:23:47.216150Z",
     "iopub.status.busy": "2022-04-22T06:23:47.215649Z",
     "iopub.status.idle": "2022-04-22T06:23:47.220012Z",
     "shell.execute_reply": "2022-04-22T06:23:47.219289Z"
    },
    "papermill": {
     "duration": 0.019354,
     "end_time": "2022-04-22T06:23:47.221973",
     "exception": false,
     "start_time": "2022-04-22T06:23:47.202619",
     "status": "completed"
    },
    "tags": []
   },
   "outputs": [],
   "source": [
    "window_size = 1\n",
    "hidden_size = 5\n",
    "batch_size = 3\n",
    "max_epoch = 1000"
   ]
  },
  {
   "cell_type": "code",
   "execution_count": 9,
   "id": "d97e0dba",
   "metadata": {
    "execution": {
     "iopub.execute_input": "2022-04-22T06:23:47.248108Z",
     "iopub.status.busy": "2022-04-22T06:23:47.247663Z",
     "iopub.status.idle": "2022-04-22T06:23:47.253305Z",
     "shell.execute_reply": "2022-04-22T06:23:47.252241Z"
    },
    "papermill": {
     "duration": 0.021302,
     "end_time": "2022-04-22T06:23:47.255346",
     "exception": false,
     "start_time": "2022-04-22T06:23:47.234044",
     "status": "completed"
    },
    "tags": []
   },
   "outputs": [
    {
     "name": "stdout",
     "output_type": "stream",
     "text": [
      "corpus\n",
      "[0 1 2 3 4 1 5 6]\n",
      "id_to_word\n",
      "{0: 'you', 1: 'say', 2: 'goodbye', 3: 'and', 4: 'i', 5: 'hello', 6: '.'}\n"
     ]
    }
   ],
   "source": [
    "text = 'You say goodbye and I say hello.'\n",
    "corpus, word_to_id, id_to_word = preprocess(text)\n",
    "\n",
    "print('corpus')\n",
    "print(corpus)\n",
    "print('id_to_word')\n",
    "print(id_to_word)"
   ]
  },
  {
   "cell_type": "code",
   "execution_count": 10,
   "id": "ebe94244",
   "metadata": {
    "execution": {
     "iopub.execute_input": "2022-04-22T06:23:47.283316Z",
     "iopub.status.busy": "2022-04-22T06:23:47.282767Z",
     "iopub.status.idle": "2022-04-22T06:23:47.288933Z",
     "shell.execute_reply": "2022-04-22T06:23:47.288179Z"
    },
    "papermill": {
     "duration": 0.022552,
     "end_time": "2022-04-22T06:23:47.290860",
     "exception": false,
     "start_time": "2022-04-22T06:23:47.268308",
     "status": "completed"
    },
    "tags": []
   },
   "outputs": [
    {
     "name": "stdout",
     "output_type": "stream",
     "text": [
      "contexts\n",
      "[[0 2]\n",
      " [1 3]\n",
      " [2 4]\n",
      " [3 1]\n",
      " [4 5]\n",
      " [1 6]]\n",
      "target\n",
      "[1 2 3 4 1 5]\n"
     ]
    }
   ],
   "source": [
    "contexts, target = create_contexts_target(corpus, window_size=1)\n",
    "\n",
    "print('contexts')\n",
    "print(contexts)\n",
    "print('target')\n",
    "print(target)"
   ]
  },
  {
   "cell_type": "code",
   "execution_count": 11,
   "id": "33acf4fb",
   "metadata": {
    "execution": {
     "iopub.execute_input": "2022-04-22T06:23:47.319928Z",
     "iopub.status.busy": "2022-04-22T06:23:47.319342Z",
     "iopub.status.idle": "2022-04-22T06:23:47.327558Z",
     "shell.execute_reply": "2022-04-22T06:23:47.326508Z"
    },
    "papermill": {
     "duration": 0.025651,
     "end_time": "2022-04-22T06:23:47.330129",
     "exception": false,
     "start_time": "2022-04-22T06:23:47.304478",
     "status": "completed"
    },
    "tags": []
   },
   "outputs": [
    {
     "name": "stdout",
     "output_type": "stream",
     "text": [
      "vocab_size\n",
      "7\n",
      "target\n",
      "[[0 1 0 0 0 0 0]\n",
      " [0 0 1 0 0 0 0]\n",
      " [0 0 0 1 0 0 0]\n",
      " [0 0 0 0 1 0 0]\n",
      " [0 1 0 0 0 0 0]\n",
      " [0 0 0 0 0 1 0]]\n",
      "contexts\n",
      "(6, 2, 7)\n",
      "[[[1 0 0 0 0 0 0]\n",
      "  [0 0 1 0 0 0 0]]\n",
      "\n",
      " [[0 1 0 0 0 0 0]\n",
      "  [0 0 0 1 0 0 0]]\n",
      "\n",
      " [[0 0 1 0 0 0 0]\n",
      "  [0 0 0 0 1 0 0]]\n",
      "\n",
      " [[0 0 0 1 0 0 0]\n",
      "  [0 1 0 0 0 0 0]]\n",
      "\n",
      " [[0 0 0 0 1 0 0]\n",
      "  [0 0 0 0 0 1 0]]\n",
      "\n",
      " [[0 1 0 0 0 0 0]\n",
      "  [0 0 0 0 0 0 1]]]\n"
     ]
    }
   ],
   "source": [
    "vocab_size = len(word_to_id)\n",
    "target = convert_one_hot(target, vocab_size)\n",
    "contexts = convert_one_hot(contexts, vocab_size)\n",
    "\n",
    "print('vocab_size')\n",
    "print(vocab_size)\n",
    "print('target')\n",
    "print(target)\n",
    "print('contexts')\n",
    "print(contexts.shape)\n",
    "print(contexts)"
   ]
  },
  {
   "cell_type": "code",
   "execution_count": 12,
   "id": "d312793d",
   "metadata": {
    "execution": {
     "iopub.execute_input": "2022-04-22T06:23:47.360565Z",
     "iopub.status.busy": "2022-04-22T06:23:47.360168Z",
     "iopub.status.idle": "2022-04-22T06:23:47.430631Z",
     "shell.execute_reply": "2022-04-22T06:23:47.429529Z"
    },
    "papermill": {
     "duration": 0.087778,
     "end_time": "2022-04-22T06:23:47.432409",
     "exception": true,
     "start_time": "2022-04-22T06:23:47.344631",
     "status": "failed"
    },
    "tags": []
   },
   "outputs": [
    {
     "ename": "NameError",
     "evalue": "name 'vocav_size' is not defined",
     "output_type": "error",
     "traceback": [
      "\u001b[0;31m---------------------------------------------------------------------------\u001b[0m",
      "\u001b[0;31mNameError\u001b[0m                                 Traceback (most recent call last)",
      "\u001b[0;32m/tmp/ipykernel_19/1291096068.py\u001b[0m in \u001b[0;36m<module>\u001b[0;34m\u001b[0m\n\u001b[0;32m----> 1\u001b[0;31m \u001b[0mmodel\u001b[0m \u001b[0;34m=\u001b[0m \u001b[0mSimpleCBOW\u001b[0m\u001b[0;34m(\u001b[0m\u001b[0mvocab_size\u001b[0m\u001b[0;34m,\u001b[0m \u001b[0mhidden_size\u001b[0m\u001b[0;34m)\u001b[0m\u001b[0;34m\u001b[0m\u001b[0;34m\u001b[0m\u001b[0m\n\u001b[0m\u001b[1;32m      2\u001b[0m \u001b[0moptimizer\u001b[0m \u001b[0;34m=\u001b[0m \u001b[0mAdam\u001b[0m\u001b[0;34m(\u001b[0m\u001b[0;34m)\u001b[0m\u001b[0;34m\u001b[0m\u001b[0;34m\u001b[0m\u001b[0m\n\u001b[1;32m      3\u001b[0m \u001b[0mtrainer\u001b[0m \u001b[0;34m=\u001b[0m \u001b[0mTrainer\u001b[0m\u001b[0;34m(\u001b[0m\u001b[0mmodel\u001b[0m\u001b[0;34m,\u001b[0m \u001b[0moptimizer\u001b[0m\u001b[0;34m)\u001b[0m\u001b[0;34m\u001b[0m\u001b[0;34m\u001b[0m\u001b[0m\n\u001b[1;32m      4\u001b[0m \u001b[0;34m\u001b[0m\u001b[0m\n\u001b[1;32m      5\u001b[0m \u001b[0mtrainer\u001b[0m\u001b[0;34m.\u001b[0m\u001b[0mfit\u001b[0m\u001b[0;34m(\u001b[0m\u001b[0mcontexts\u001b[0m\u001b[0;34m,\u001b[0m \u001b[0mtarget\u001b[0m\u001b[0;34m,\u001b[0m \u001b[0mmax_epoch\u001b[0m\u001b[0;34m,\u001b[0m \u001b[0mbatch_size\u001b[0m\u001b[0;34m)\u001b[0m\u001b[0;34m\u001b[0m\u001b[0;34m\u001b[0m\u001b[0m\n",
      "\u001b[0;32m/tmp/ipykernel_19/891362273.py\u001b[0m in \u001b[0;36m__init__\u001b[0;34m(self, vocab_size, hidden_size)\u001b[0m\n\u001b[1;32m      1\u001b[0m \u001b[0;32mclass\u001b[0m \u001b[0mSimpleCBOW\u001b[0m\u001b[0;34m:\u001b[0m\u001b[0;34m\u001b[0m\u001b[0;34m\u001b[0m\u001b[0m\n\u001b[1;32m      2\u001b[0m     \u001b[0;32mdef\u001b[0m \u001b[0m__init__\u001b[0m\u001b[0;34m(\u001b[0m\u001b[0mself\u001b[0m\u001b[0;34m,\u001b[0m \u001b[0mvocab_size\u001b[0m\u001b[0;34m,\u001b[0m \u001b[0mhidden_size\u001b[0m\u001b[0;34m)\u001b[0m\u001b[0;34m:\u001b[0m\u001b[0;34m\u001b[0m\u001b[0;34m\u001b[0m\u001b[0m\n\u001b[0;32m----> 3\u001b[0;31m         \u001b[0mV\u001b[0m\u001b[0;34m,\u001b[0m \u001b[0mH\u001b[0m \u001b[0;34m=\u001b[0m \u001b[0mvocav_size\u001b[0m\u001b[0;34m,\u001b[0m \u001b[0mhidden_size\u001b[0m\u001b[0;34m\u001b[0m\u001b[0;34m\u001b[0m\u001b[0m\n\u001b[0m\u001b[1;32m      4\u001b[0m \u001b[0;34m\u001b[0m\u001b[0m\n\u001b[1;32m      5\u001b[0m         \u001b[0mW_in\u001b[0m \u001b[0;34m=\u001b[0m \u001b[0;36m0.01\u001b[0m \u001b[0;34m*\u001b[0m \u001b[0mnp\u001b[0m\u001b[0;34m.\u001b[0m\u001b[0mrandom\u001b[0m\u001b[0;34m.\u001b[0m\u001b[0mrandn\u001b[0m\u001b[0;34m(\u001b[0m\u001b[0mV\u001b[0m\u001b[0;34m,\u001b[0m \u001b[0mH\u001b[0m\u001b[0;34m)\u001b[0m\u001b[0;34m.\u001b[0m\u001b[0mastype\u001b[0m\u001b[0;34m(\u001b[0m\u001b[0;34m'f'\u001b[0m\u001b[0;34m)\u001b[0m\u001b[0;34m\u001b[0m\u001b[0;34m\u001b[0m\u001b[0m\n",
      "\u001b[0;31mNameError\u001b[0m: name 'vocav_size' is not defined"
     ]
    }
   ],
   "source": [
    "model = SimpleCBOW(vocab_size, hidden_size)\n",
    "optimizer = Adam()\n",
    "trainer = Trainer(model, optimizer)\n",
    "\n",
    "trainer.fit(contexts, target, max_epoch, batch_size)\n",
    "trainer.plot()\n",
    "\n",
    "word_vecs = model.word_vecs\n",
    "for word_id, word in id_to_word.items():\n",
    "    print(word, word_vecs[word_id])"
   ]
  }
 ],
 "metadata": {
  "kernelspec": {
   "display_name": "Python 3",
   "language": "python",
   "name": "python3"
  },
  "language_info": {
   "codemirror_mode": {
    "name": "ipython",
    "version": 3
   },
   "file_extension": ".py",
   "mimetype": "text/x-python",
   "name": "python",
   "nbconvert_exporter": "python",
   "pygments_lexer": "ipython3",
   "version": "3.7.12"
  },
  "papermill": {
   "default_parameters": {},
   "duration": 9.854635,
   "end_time": "2022-04-22T06:23:48.067112",
   "environment_variables": {},
   "exception": true,
   "input_path": "__notebook__.ipynb",
   "output_path": "__notebook__.ipynb",
   "parameters": {},
   "start_time": "2022-04-22T06:23:38.212477",
   "version": "2.3.4"
  }
 },
 "nbformat": 4,
 "nbformat_minor": 5
}
