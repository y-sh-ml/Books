{
 "cells": [
  {
   "cell_type": "markdown",
   "id": "428e7aee",
   "metadata": {
    "_cell_guid": "b1076dfc-b9ad-4769-8c92-a6c4dae69d19",
    "_uuid": "8f2839f25d086af736a60e9eeb907d3b93b6e0e5",
    "papermill": {
     "duration": 0.004464,
     "end_time": "2022-02-15T06:02:28.827750",
     "exception": false,
     "start_time": "2022-02-15T06:02:28.823286",
     "status": "completed"
    },
    "tags": []
   },
   "source": [
    "## 2.4　パーセプトロンの限界"
   ]
  },
  {
   "cell_type": "markdown",
   "id": "7621abca",
   "metadata": {
    "papermill": {
     "duration": 0.003197,
     "end_time": "2022-02-15T06:02:28.834752",
     "exception": false,
     "start_time": "2022-02-15T06:02:28.831555",
     "status": "completed"
    },
    "tags": []
   },
   "source": [
    "### 2.4.1　XOR ゲート"
   ]
  },
  {
   "cell_type": "markdown",
   "id": "35b4705b",
   "metadata": {
    "papermill": {
     "duration": 0.003145,
     "end_time": "2022-02-15T06:02:28.841288",
     "exception": false,
     "start_time": "2022-02-15T06:02:28.838143",
     "status": "completed"
    },
    "tags": []
   },
   "source": [
    "パーセプトロンでは、XOR ゲートを実現することはできない。"
   ]
  },
  {
   "cell_type": "markdown",
   "id": "3d13638d",
   "metadata": {
    "papermill": {
     "duration": 0.003141,
     "end_time": "2022-02-15T06:02:28.847757",
     "exception": false,
     "start_time": "2022-02-15T06:02:28.844616",
     "status": "completed"
    },
    "tags": []
   },
   "source": [
    "### 2.4.2　線形と非線形"
   ]
  },
  {
   "cell_type": "markdown",
   "id": "c10117fb",
   "metadata": {
    "papermill": {
     "duration": 0.003133,
     "end_time": "2022-02-15T06:02:28.854200",
     "exception": false,
     "start_time": "2022-02-15T06:02:28.851067",
     "status": "completed"
    },
    "tags": []
   },
   "source": [
    "パーセプトロンの限界は、1本の直線で分けた領域だけしか表現できない。<br>\n",
    "しかし、線形という制約を外すことができれば、XOR ゲートを実現することができる。"
   ]
  }
 ],
 "metadata": {
  "kernelspec": {
   "display_name": "Python 3",
   "language": "python",
   "name": "python3"
  },
  "language_info": {
   "codemirror_mode": {
    "name": "ipython",
    "version": 3
   },
   "file_extension": ".py",
   "mimetype": "text/x-python",
   "name": "python",
   "nbconvert_exporter": "python",
   "pygments_lexer": "ipython3",
   "version": "3.7.12"
  },
  "papermill": {
   "default_parameters": {},
   "duration": 9.132781,
   "end_time": "2022-02-15T06:02:29.468166",
   "environment_variables": {},
   "exception": null,
   "input_path": "__notebook__.ipynb",
   "output_path": "__notebook__.ipynb",
   "parameters": {},
   "start_time": "2022-02-15T06:02:20.335385",
   "version": "2.3.3"
  }
 },
 "nbformat": 4,
 "nbformat_minor": 5
}
