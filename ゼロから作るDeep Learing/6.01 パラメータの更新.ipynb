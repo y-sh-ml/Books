{
 "cells": [
  {
   "cell_type": "markdown",
   "id": "99bb8b2e",
   "metadata": {},
   "source": [
    "## 6.1　パラメータの更新"
   ]
  },
  {
   "cell_type": "code",
   "execution_count": 29,
   "id": "e07e12d6",
   "metadata": {},
   "outputs": [],
   "source": [
    "import numpy as np\n",
    "import matplotlib.pyplot as plt"
   ]
  },
  {
   "cell_type": "markdown",
   "id": "2db3549f",
   "metadata": {},
   "source": [
    "確率的勾配降下法（**S**tochastic **G**radient **D**escent)の欠点を指摘し、別の最適化手法を見ていく。"
   ]
  },
  {
   "cell_type": "markdown",
   "id": "cee4e058",
   "metadata": {},
   "source": [
    "### 6.1.2　SGD"
   ]
  },
  {
   "cell_type": "code",
   "execution_count": 30,
   "id": "a910cf82",
   "metadata": {},
   "outputs": [],
   "source": [
    "class SGD:\n",
    "    def __init__(self, lr=0.01):\n",
    "        self.lr = lr\n",
    "        \n",
    "    def update(self, params, grads):\n",
    "        for key in params.keys():\n",
    "            params[key] -= self.lr * grads[key]"
   ]
  },
  {
   "cell_type": "markdown",
   "id": "5868fbe0",
   "metadata": {},
   "source": [
    "### 6.1.4　Momentum"
   ]
  },
  {
   "cell_type": "code",
   "execution_count": 31,
   "id": "3f826194",
   "metadata": {},
   "outputs": [],
   "source": [
    "class Momemtum:\n",
    "    def __init__(self, lr=0.01, momentum=0.9):\n",
    "        self.lr = lr\n",
    "        self.momentum = momemtum\n",
    "        self.v = None\n",
    "        \n",
    "    def update(self, params, grads):\n",
    "        if self.v is None:\n",
    "            self.v = {}\n",
    "            for key, val in params.items():\n",
    "                self.v[key] = np.zeros_like(val)\n",
    "        \n",
    "        for key in params.keys():\n",
    "            self.v[key] = self.momentum*self.v[key] - self.lr*grads[key]\n",
    "            params[key] += self.v[key]"
   ]
  },
  {
   "cell_type": "markdown",
   "id": "b4657c1d",
   "metadata": {},
   "source": [
    "### 6.1.5　AdaGrad"
   ]
  },
  {
   "cell_type": "code",
   "execution_count": 32,
   "id": "64b857fc",
   "metadata": {},
   "outputs": [],
   "source": [
    "class AdaGrad:\n",
    "    def __init__(self, lr=0.01):\n",
    "        self.lr = lr\n",
    "        self.h = None\n",
    "        \n",
    "    def update(self, params, grads):\n",
    "        if self.h is None:\n",
    "            self.h = {}\n",
    "            for key, val in params.items():\n",
    "                self.h[key] = np.zeros_like(val)\n",
    "                \n",
    "        for key in params.key():\n",
    "            self.h[key] +=grads[key] * grads[key]\n",
    "            params[key] -= self.lr * grads[key] / (np.sqrt(self.h[key]) *+ 1e-7)"
   ]
  },
  {
   "cell_type": "markdown",
   "id": "7cbae751",
   "metadata": {},
   "source": [
    "### 6.1.6　Adam"
   ]
  },
  {
   "cell_type": "markdown",
   "id": "ab1170e2",
   "metadata": {},
   "source": [
    "Adam は、Momemtum と AdaGrad を融合した手法である。"
   ]
  }
 ],
 "metadata": {
  "kernelspec": {
   "display_name": "Python 3",
   "language": "python",
   "name": "python3"
  },
  "language_info": {
   "codemirror_mode": {
    "name": "ipython",
    "version": 3
   },
   "file_extension": ".py",
   "mimetype": "text/x-python",
   "name": "python",
   "nbconvert_exporter": "python",
   "pygments_lexer": "ipython3",
   "version": "3.8.8"
  }
 },
 "nbformat": 4,
 "nbformat_minor": 5
}
