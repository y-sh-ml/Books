{
 "cells": [
  {
   "cell_type": "markdown",
   "id": "6c105adf",
   "metadata": {
    "_cell_guid": "b1076dfc-b9ad-4769-8c92-a6c4dae69d19",
    "_uuid": "8f2839f25d086af736a60e9eeb907d3b93b6e0e5",
    "papermill": {
     "duration": 0.003158,
     "end_time": "2022-05-30T07:51:13.551350",
     "exception": false,
     "start_time": "2022-05-30T07:51:13.548192",
     "status": "completed"
    },
    "tags": []
   },
   "source": [
    "## 6.1　パラメータの更新"
   ]
  },
  {
   "cell_type": "markdown",
   "id": "3dc1e8f9",
   "metadata": {
    "papermill": {
     "duration": 0.002104,
     "end_time": "2022-05-30T07:51:13.556369",
     "exception": false,
     "start_time": "2022-05-30T07:51:13.554265",
     "status": "completed"
    },
    "tags": []
   },
   "source": [
    "### 6.1.2　SGD"
   ]
  },
  {
   "cell_type": "code",
   "execution_count": 1,
   "id": "136d3b47",
   "metadata": {
    "execution": {
     "iopub.execute_input": "2022-05-30T07:51:13.563027Z",
     "iopub.status.busy": "2022-05-30T07:51:13.562372Z",
     "iopub.status.idle": "2022-05-30T07:51:13.573151Z",
     "shell.execute_reply": "2022-05-30T07:51:13.572336Z"
    },
    "papermill": {
     "duration": 0.016995,
     "end_time": "2022-05-30T07:51:13.575648",
     "exception": false,
     "start_time": "2022-05-30T07:51:13.558653",
     "status": "completed"
    },
    "tags": []
   },
   "outputs": [],
   "source": [
    "class SGD:\n",
    "    def __init__(self, lr=0.01):\n",
    "        self.lr = lr\n",
    "        \n",
    "    def update(self, params, grads):\n",
    "        for key in params.keys():\n",
    "            params[key] -= self.lr * grads[key]"
   ]
  },
  {
   "cell_type": "code",
   "execution_count": 2,
   "id": "45dad68a",
   "metadata": {
    "execution": {
     "iopub.execute_input": "2022-05-30T07:51:13.582449Z",
     "iopub.status.busy": "2022-05-30T07:51:13.581564Z",
     "iopub.status.idle": "2022-05-30T07:51:13.586084Z",
     "shell.execute_reply": "2022-05-30T07:51:13.585416Z"
    },
    "papermill": {
     "duration": 0.009972,
     "end_time": "2022-05-30T07:51:13.588132",
     "exception": false,
     "start_time": "2022-05-30T07:51:13.578160",
     "status": "completed"
    },
    "tags": []
   },
   "outputs": [],
   "source": [
    "optimizer = SGD()"
   ]
  },
  {
   "cell_type": "markdown",
   "id": "b590aa70",
   "metadata": {
    "papermill": {
     "duration": 0.002055,
     "end_time": "2022-05-30T07:51:13.592586",
     "exception": false,
     "start_time": "2022-05-30T07:51:13.590531",
     "status": "completed"
    },
    "tags": []
   },
   "source": [
    "`optimizer` は、「最適化を行う者」という意味である。"
   ]
  },
  {
   "cell_type": "code",
   "execution_count": 3,
   "id": "ac7ea694",
   "metadata": {
    "execution": {
     "iopub.execute_input": "2022-05-30T07:51:13.601365Z",
     "iopub.status.busy": "2022-05-30T07:51:13.600480Z",
     "iopub.status.idle": "2022-05-30T07:51:13.607792Z",
     "shell.execute_reply": "2022-05-30T07:51:13.607105Z"
    },
    "papermill": {
     "duration": 0.012578,
     "end_time": "2022-05-30T07:51:13.609732",
     "exception": false,
     "start_time": "2022-05-30T07:51:13.597154",
     "status": "completed"
    },
    "tags": []
   },
   "outputs": [],
   "source": [
    "class Momentum:\n",
    "    def __init__(self, lr=0.01, momentum=0.9):\n",
    "        self.lr = lr\n",
    "        self.momentum = momentum\n",
    "        self.v = None\n",
    "        \n",
    "    def update(self, params, grads):\n",
    "        if self.v is None:\n",
    "            self.v = {}\n",
    "            for key, val in params.items():\n",
    "                self.v[key] = np.zeros_like(val)\n",
    "                \n",
    "        for key in params.key():\n",
    "            self.v[key] = self.momentum*self.v[key] - self.lr*grads[key]\n",
    "            params[key] += self.v[key]"
   ]
  },
  {
   "cell_type": "markdown",
   "id": "ed89a888",
   "metadata": {
    "papermill": {
     "duration": 0.002173,
     "end_time": "2022-05-30T07:51:13.614285",
     "exception": false,
     "start_time": "2022-05-30T07:51:13.612112",
     "status": "completed"
    },
    "tags": []
   },
   "source": [
    "### 6.1.5　AdaGrad"
   ]
  },
  {
   "cell_type": "code",
   "execution_count": 4,
   "id": "22430fa4",
   "metadata": {
    "execution": {
     "iopub.execute_input": "2022-05-30T07:51:13.620966Z",
     "iopub.status.busy": "2022-05-30T07:51:13.620144Z",
     "iopub.status.idle": "2022-05-30T07:51:13.627727Z",
     "shell.execute_reply": "2022-05-30T07:51:13.627034Z"
    },
    "papermill": {
     "duration": 0.013124,
     "end_time": "2022-05-30T07:51:13.629756",
     "exception": false,
     "start_time": "2022-05-30T07:51:13.616632",
     "status": "completed"
    },
    "tags": []
   },
   "outputs": [],
   "source": [
    "class AdaGrad:\n",
    "    def __init__(self, lr=0.01):\n",
    "        self.lr = lr\n",
    "        self.h = None\n",
    "        \n",
    "    def update(self, params, grads):\n",
    "        if self.h is None:\n",
    "            self.h = {}\n",
    "            for key, val in params.items():\n",
    "                self.h[key] = np.zeros_like(val)\n",
    "        \n",
    "        for key in params.keys():\n",
    "            self.h[key] += grads[key] * grads[key]\n",
    "            params[key] -= self.lr * grads[key] / (np.sqrt(self.h[key]) + 1e-7)"
   ]
  }
 ],
 "metadata": {
  "kernelspec": {
   "display_name": "Python 3",
   "language": "python",
   "name": "python3"
  },
  "language_info": {
   "codemirror_mode": {
    "name": "ipython",
    "version": 3
   },
   "file_extension": ".py",
   "mimetype": "text/x-python",
   "name": "python",
   "nbconvert_exporter": "python",
   "pygments_lexer": "ipython3",
   "version": "3.7.12"
  },
  "papermill": {
   "default_parameters": {},
   "duration": 9.753631,
   "end_time": "2022-05-30T07:51:14.252422",
   "environment_variables": {},
   "exception": null,
   "input_path": "__notebook__.ipynb",
   "output_path": "__notebook__.ipynb",
   "parameters": {},
   "start_time": "2022-05-30T07:51:04.498791",
   "version": "2.3.4"
  }
 },
 "nbformat": 4,
 "nbformat_minor": 5
}
