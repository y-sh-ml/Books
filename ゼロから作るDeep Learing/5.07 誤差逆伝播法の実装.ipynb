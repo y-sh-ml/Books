{
 "cells": [
  {
   "cell_type": "markdown",
   "id": "958ed5bb",
   "metadata": {
    "_cell_guid": "b1076dfc-b9ad-4769-8c92-a6c4dae69d19",
    "_uuid": "8f2839f25d086af736a60e9eeb907d3b93b6e0e5",
    "papermill": {
     "duration": 0.011104,
     "end_time": "2022-03-09T03:22:09.637373",
     "exception": false,
     "start_time": "2022-03-09T03:22:09.626269",
     "status": "completed"
    },
    "tags": []
   },
   "source": [
    "## 5.7　誤差逆伝播法の実装"
   ]
  },
  {
   "cell_type": "code",
   "execution_count": 1,
   "id": "99c1e57e",
   "metadata": {
    "execution": {
     "iopub.execute_input": "2022-03-09T03:22:09.668211Z",
     "iopub.status.busy": "2022-03-09T03:22:09.667550Z",
     "iopub.status.idle": "2022-03-09T03:22:09.671681Z",
     "shell.execute_reply": "2022-03-09T03:22:09.671057Z",
     "shell.execute_reply.started": "2022-03-09T03:20:05.734774Z"
    },
    "papermill": {
     "duration": 0.02272,
     "end_time": "2022-03-09T03:22:09.671841",
     "exception": false,
     "start_time": "2022-03-09T03:22:09.649121",
     "status": "completed"
    },
    "tags": []
   },
   "outputs": [],
   "source": [
    "import os\n",
    "import sys\n",
    "import numpy as np"
   ]
  },
  {
   "cell_type": "code",
   "execution_count": 2,
   "id": "0061ba02",
   "metadata": {
    "execution": {
     "iopub.execute_input": "2022-03-09T03:22:09.698403Z",
     "iopub.status.busy": "2022-03-09T03:22:09.697798Z",
     "iopub.status.idle": "2022-03-09T03:22:09.701137Z",
     "shell.execute_reply": "2022-03-09T03:22:09.701613Z",
     "shell.execute_reply.started": "2022-03-09T03:20:05.741245Z"
    },
    "papermill": {
     "duration": 0.020149,
     "end_time": "2022-03-09T03:22:09.701791",
     "exception": false,
     "start_time": "2022-03-09T03:22:09.681642",
     "status": "completed"
    },
    "tags": []
   },
   "outputs": [
    {
     "data": {
      "text/plain": [
       "'/Users/yuta.shimizu/Downloads/ML'"
      ]
     },
     "execution_count": 2,
     "metadata": {},
     "output_type": "execute_result"
    }
   ],
   "source": [
    "os.getcwd()"
   ]
  },
  {
   "cell_type": "code",
   "execution_count": 3,
   "id": "d0e1c45e",
   "metadata": {
    "execution": {
     "iopub.execute_input": "2022-03-09T03:22:09.726904Z",
     "iopub.status.busy": "2022-03-09T03:22:09.726227Z",
     "iopub.status.idle": "2022-03-09T03:22:09.729109Z",
     "shell.execute_reply": "2022-03-09T03:22:09.728491Z",
     "shell.execute_reply.started": "2022-03-09T03:20:05.755820Z"
    },
    "papermill": {
     "duration": 0.016996,
     "end_time": "2022-03-09T03:22:09.729239",
     "exception": false,
     "start_time": "2022-03-09T03:22:09.712243",
     "status": "completed"
    },
    "tags": []
   },
   "outputs": [],
   "source": [
    "os.chdir('/Users/yuta.shimizu/Downloads/ML/deep-learning-from-scratch-master/ch01')\n",
    "sys.path.append(os.pardir)"
   ]
  },
  {
   "cell_type": "code",
   "execution_count": 4,
   "id": "dab6bfa6",
   "metadata": {
    "execution": {
     "iopub.execute_input": "2022-03-09T03:22:09.760071Z",
     "iopub.status.busy": "2022-03-09T03:22:09.759368Z",
     "iopub.status.idle": "2022-03-09T03:22:09.856254Z",
     "shell.execute_reply": "2022-03-09T03:22:09.855705Z",
     "shell.execute_reply.started": "2022-03-09T03:20:05.765057Z"
    },
    "papermill": {
     "duration": 0.117015,
     "end_time": "2022-03-09T03:22:09.856402",
     "exception": false,
     "start_time": "2022-03-09T03:22:09.739387",
     "status": "completed"
    },
    "tags": []
   },
   "outputs": [],
   "source": [
    "from common.layers import *\n",
    "from common.gradient import numerical_gradient\n",
    "from collections import OrderedDict\n",
    "from dataset.mnist import load_mnist\n",
    "# from ch05.two_layer_net import TwoLayerNet"
   ]
  },
  {
   "cell_type": "markdown",
   "id": "31884369",
   "metadata": {
    "papermill": {
     "duration": 0.009807,
     "end_time": "2022-03-09T03:22:09.876650",
     "exception": false,
     "start_time": "2022-03-09T03:22:09.866843",
     "status": "completed"
    },
    "tags": []
   },
   "source": [
    "### 5.7.1　ニューラルネットワークの学習の全体図"
   ]
  },
  {
   "cell_type": "code",
   "execution_count": 5,
   "id": "2379cb66",
   "metadata": {
    "execution": {
     "iopub.execute_input": "2022-03-09T03:22:09.914882Z",
     "iopub.status.busy": "2022-03-09T03:22:09.914156Z",
     "iopub.status.idle": "2022-03-09T03:22:09.916978Z",
     "shell.execute_reply": "2022-03-09T03:22:09.916386Z",
     "shell.execute_reply.started": "2022-03-09T03:20:05.777091Z"
    },
    "papermill": {
     "duration": 0.030189,
     "end_time": "2022-03-09T03:22:09.917112",
     "exception": false,
     "start_time": "2022-03-09T03:22:09.886923",
     "status": "completed"
    },
    "tags": []
   },
   "outputs": [],
   "source": [
    "class TwoLayerNet:\n",
    "    \n",
    "    def __init__(self, input_size, hidden_size, output_size, weight_init_std=0.01):\n",
    "        self.params = {}\n",
    "        self.params['W1'] = weight_init_std * np.random.randn(input_size, hidden_size)\n",
    "        self.params['b1'] = np.zeros(hidden_size)\n",
    "        self.params['W2'] = weight_init_std * np.random.randn(hidden_size, output_size)\n",
    "        self.params['b2'] = np.zeros(output_size)\n",
    "    \n",
    "        self.layers = OrderedDict()\n",
    "        self.layers['Affine1'] = Affine(self.params['W1'], self.params['b1'])\n",
    "        self.layers['Relu1'] = Relu()\n",
    "        self.layers['Affine2'] = Affine(self.params['W2'], self.params['b2'])\n",
    "    \n",
    "        self.lastLayer = SoftmaxWithLoss()\n",
    "    \n",
    "    def predict(self, x):\n",
    "        for layer in self.layers.values():\n",
    "            x = layer.forward(x)\n",
    "    \n",
    "        return x\n",
    "\n",
    "    def loss(self, x, t):\n",
    "        y = self.predict(x)\n",
    "        return self.lastLayer.forward(y, t)\n",
    "    \n",
    "    def accuracy(self, x, t):\n",
    "        y = self.predict(x)\n",
    "        y = np.argmax(y, axis=1)\n",
    "        if t.ndim != 1 :\n",
    "            t = np.argmax(t, axis=1)\n",
    "            \n",
    "        accuracy = np.sum(y == t) / float(x.shape[0])\n",
    "        return accuracy\n",
    "        \n",
    "    def numerical_gradient(self, x, t):\n",
    "        loss_W = lambda W: self.loss(x, t)\n",
    "        \n",
    "        grads = {}\n",
    "        grads['W1'] = numerical_gradient(loss_W, self.params['W1'])\n",
    "        grads['b1'] = numerical_gradient(loss_W, self.params['b1'])\n",
    "        grads['W2'] = numerical_gradient(loss_W, self.params['W2'])\n",
    "        grads['b2'] = numerical_gradient(loss_W, self.params['b2'])\n",
    "        \n",
    "        return grads\n",
    "    \n",
    "    def gradient(self, x, t):\n",
    "        self.loss(x, t)\n",
    "        \n",
    "        dout = 1\n",
    "        dout = self.lastLayer.backward(dout)\n",
    "        \n",
    "        layers = list(self.layers.values())\n",
    "        layers.reverse()\n",
    "        for layer in layers:\n",
    "            dout = layer.backward(dout)\n",
    "            \n",
    "        grads = {}\n",
    "        grads['W1'] = self.layers['Affine1'].dW\n",
    "        grads['b1'] = self.layers['Affine1'].db\n",
    "        grads['W2'] = self.layers['Affine2'].dW\n",
    "        grads['b2'] = self.layers['Affine2'].db\n",
    "        \n",
    "        return grads"
   ]
  },
  {
   "cell_type": "markdown",
   "id": "4598a819",
   "metadata": {
    "papermill": {
     "duration": 0.010281,
     "end_time": "2022-03-09T03:22:09.937686",
     "exception": false,
     "start_time": "2022-03-09T03:22:09.927405",
     "status": "completed"
    },
    "tags": []
   },
   "source": [
    "### 5.7.3　誤差逆伝播法の勾配確認"
   ]
  },
  {
   "cell_type": "markdown",
   "id": "45bd5e51",
   "metadata": {
    "papermill": {
     "duration": 0.009877,
     "end_time": "2022-03-09T03:22:09.957827",
     "exception": false,
     "start_time": "2022-03-09T03:22:09.947950",
     "status": "completed"
    },
    "tags": []
   },
   "source": [
    "勾配を求める方法は、数値微分と誤差逆伝播法の2つがあり<br>\n",
    "数値微分は、誤差逆伝播法の結果を確かめるために利用される。"
   ]
  },
  {
   "cell_type": "code",
   "execution_count": 6,
   "id": "f8b8593d",
   "metadata": {
    "execution": {
     "iopub.execute_input": "2022-03-09T03:22:09.984125Z",
     "iopub.status.busy": "2022-03-09T03:22:09.983397Z",
     "iopub.status.idle": "2022-03-09T03:22:09.987977Z",
     "shell.execute_reply": "2022-03-09T03:22:09.987318Z",
     "shell.execute_reply.started": "2022-03-09T03:21:45.798735Z"
    },
    "papermill": {
     "duration": 0.020101,
     "end_time": "2022-03-09T03:22:09.988110",
     "exception": false,
     "start_time": "2022-03-09T03:22:09.968009",
     "status": "completed"
    },
    "tags": []
   },
   "outputs": [
    {
     "name": "stdout",
     "output_type": "stream",
     "text": [
      "W1 : 4.816236055647198e-10\n",
      "b1 : 2.9101796198988812e-09\n",
      "W2 : 6.948078639077565e-09\n",
      "b2 : 1.3952738492500894e-07\n"
     ]
    }
   ],
   "source": [
    "(x_train, t_train), (x_test, t_test) = load_mnist(normalize=True, one_hot_label=True)\n",
    "network = TwoLayerNet(input_size=784, hidden_size=50, output_size=10)\n",
    "\n",
    "x_batch = x_train[:3]\n",
    "t_batch = t_train[:3]\n",
    "\n",
    "grad_numerical = network.numerical_gradient(x_batch, t_batch)\n",
    "grad_backprop = network.gradient(x_batch, t_batch)\n",
    "\n",
    "for key in grad_numerical.keys():\n",
    "    diff = np.average(np.abs(grad_backprop[key] - grad_numerical[key]))\n",
    "    print(key + ' : ' + str(diff))"
   ]
  },
  {
   "cell_type": "markdown",
   "id": "38b5fbfe",
   "metadata": {},
   "source": [
    "パラメータの初期化に np.random.randn を使用しているので、最終的な出力結果も一定ではなくなる。"
   ]
  },
  {
   "cell_type": "markdown",
   "id": "f62a15fb",
   "metadata": {},
   "source": [
    "### 5.7.4　誤差逆伝播を使った学習"
   ]
  },
  {
   "cell_type": "code",
   "execution_count": 10,
   "id": "0c31513c",
   "metadata": {},
   "outputs": [
    {
     "name": "stdout",
     "output_type": "stream",
     "text": [
      "train_size: 60000\n",
      "batch_size: 100\n",
      "iter_per_epoch: 600.0\n",
      "iters_num: 10000\n",
      "train_acc: 0.086 test_acc: 0.086\n",
      "train_acc: 0.901 test_acc: 0.908\n",
      "train_acc: 0.925 test_acc: 0.928\n",
      "train_acc: 0.937 test_acc: 0.937\n",
      "train_acc: 0.945 test_acc: 0.945\n",
      "train_acc: 0.952 test_acc: 0.949\n",
      "train_acc: 0.957 test_acc: 0.953\n",
      "train_acc: 0.961 test_acc: 0.957\n",
      "train_acc: 0.964 test_acc: 0.961\n",
      "train_acc: 0.967 test_acc: 0.961\n",
      "train_acc: 0.968 test_acc: 0.962\n",
      "train_acc: 0.97 test_acc: 0.964\n",
      "train_acc: 0.972 test_acc: 0.966\n",
      "train_acc: 0.975 test_acc: 0.966\n",
      "train_acc: 0.976 test_acc: 0.967\n",
      "train_acc: 0.978 test_acc: 0.969\n",
      "train_acc: 0.979 test_acc: 0.969\n"
     ]
    }
   ],
   "source": [
    "(x_train, t_train), (x_test, t_test) = load_mnist(normalize=True, one_hot_label=True)\n",
    "network = TwoLayerNet(input_size=784, hidden_size=50, output_size=10)\n",
    "\n",
    "iters_num = 10000\n",
    "train_size = x_train.shape[0]\n",
    "batch_size = 100\n",
    "learning_rate = 0.1\n",
    "\n",
    "train_loss_list = []\n",
    "train_acc_list = []\n",
    "test_acc_list = []\n",
    "\n",
    "iter_per_epoch = max(train_size / batch_size, 1)\n",
    "print('train_size:', train_size)\n",
    "print('batch_size:', batch_size)\n",
    "print('iter_per_epoch:', iter_per_epoch)\n",
    "print('iters_num:', iters_num)\n",
    "\n",
    "for i in range(iters_num):\n",
    "    batch_mask = np.random.choice(train_size, batch_size)\n",
    "    x_batch = x_train[batch_mask]\n",
    "    t_batch = t_train[batch_mask]\n",
    "    \n",
    "    grad = network.gradient(x_batch, t_batch)\n",
    "    \n",
    "    for key in ('W1', 'b1', 'W2', 'b2'):\n",
    "        network.params[key] -= learning_rate * grad[key]\n",
    "        \n",
    "        loss = network.loss(x_batch, t_batch)\n",
    "        train_loss_list.append(loss)\n",
    "        \n",
    "    if i % iter_per_epoch == 0:\n",
    "        train_acc = network.accuracy(x_train, t_train)\n",
    "        test_acc = network.accuracy(x_test, t_test)\n",
    "        train_acc_list.append(train_acc)\n",
    "        test_acc_list.append(test_acc)\n",
    "        print('train_acc:', round(train_acc, 3), 'test_acc:', round(test_acc,3))"
   ]
  },
  {
   "cell_type": "code",
   "execution_count": 8,
   "id": "403169ae",
   "metadata": {},
   "outputs": [
    {
     "name": "stdout",
     "output_type": "stream",
     "text": [
      "最大値: 10\n",
      "余り: 2\n"
     ]
    }
   ],
   "source": [
    "print('最大値:', max(10, 5))\n",
    "print('余り:', 8 % 3)"
   ]
  }
 ],
 "metadata": {
  "kernelspec": {
   "display_name": "Python 3",
   "language": "python",
   "name": "python3"
  },
  "language_info": {
   "codemirror_mode": {
    "name": "ipython",
    "version": 3
   },
   "file_extension": ".py",
   "mimetype": "text/x-python",
   "name": "python",
   "nbconvert_exporter": "python",
   "pygments_lexer": "ipython3",
   "version": "3.8.8"
  },
  "papermill": {
   "default_parameters": {},
   "duration": 13.570889,
   "end_time": "2022-03-09T03:22:13.601024",
   "environment_variables": {},
   "exception": null,
   "input_path": "__notebook__.ipynb",
   "output_path": "__notebook__.ipynb",
   "parameters": {},
   "start_time": "2022-03-09T03:22:00.030135",
   "version": "2.3.3"
  }
 },
 "nbformat": 4,
 "nbformat_minor": 5
}
