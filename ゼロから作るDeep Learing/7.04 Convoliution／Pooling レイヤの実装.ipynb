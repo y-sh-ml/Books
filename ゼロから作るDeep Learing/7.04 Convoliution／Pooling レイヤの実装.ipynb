{
 "cells": [
  {
   "cell_type": "markdown",
   "id": "88100836",
   "metadata": {},
   "source": [
    "## 7.4　Convoliution／Pooling レイヤの実装"
   ]
  },
  {
   "cell_type": "code",
   "execution_count": 9,
   "id": "0aa218df",
   "metadata": {},
   "outputs": [],
   "source": [
    "import os\n",
    "import sys\n",
    "import numpy as np"
   ]
  },
  {
   "cell_type": "code",
   "execution_count": 10,
   "id": "00413c1b",
   "metadata": {},
   "outputs": [],
   "source": [
    "os.chdir('/Users/yuta.shimizu/Downloads/ML/deep-learning-from-scratch-master/ch01')\n",
    "sys.path.append(os.pardir)"
   ]
  },
  {
   "cell_type": "code",
   "execution_count": 11,
   "id": "984cac4d",
   "metadata": {},
   "outputs": [],
   "source": [
    "from common.util import im2col"
   ]
  },
  {
   "cell_type": "markdown",
   "id": "9b2aa2f3",
   "metadata": {},
   "source": [
    "### 7.4.3　Convolution レイヤの実装"
   ]
  },
  {
   "cell_type": "code",
   "execution_count": 12,
   "id": "56cea5da",
   "metadata": {},
   "outputs": [
    {
     "name": "stdout",
     "output_type": "stream",
     "text": [
      "(9, 75)\n",
      "(90, 75)\n"
     ]
    }
   ],
   "source": [
    "x1 = np.random.rand(1, 3, 7, 7)\n",
    "col1 = im2col(x1, 5, 5, stride=1, pad=0)\n",
    "print(col1.shape)\n",
    "\n",
    "x2 = np.random.rand(10, 3, 7, 7)\n",
    "col2 = im2col(x2, 5, 5, stride=1, pad=0)\n",
    "print(col2.shape)"
   ]
  },
  {
   "cell_type": "code",
   "execution_count": 17,
   "id": "5fd84c00",
   "metadata": {},
   "outputs": [],
   "source": [
    "class Convolution:\n",
    "    def __init__(self, W, b, stride=1, pad=0):\n",
    "        self.W = W\n",
    "        self.b = b\n",
    "        self.stride = stride\n",
    "        self.pad = pad"
   ]
  },
  {
   "cell_type": "code",
   "execution_count": 19,
   "id": "b419e00f",
   "metadata": {},
   "outputs": [],
   "source": [
    "def forward(self, x):\n",
    "    FN, C, FH, FW = self.W.shape\n",
    "    N, C, H, W = x.shape\n",
    "    out_h = int(1 + (H + 2*self.pad - FH) / self.stride)\n",
    "    out_w = int(1 + (W + 2*self.pad - FW) / self.stride)\n",
    "    \n",
    "    col = im2col(x, FH, FW, self.stride, self.pad)\n",
    "    col_W = self.W.reshape(FN, -1).T\n",
    "    out = np.dot(col, col_W) + self.b\n",
    "    \n",
    "    out = out.reshape(N, out_h, out_w, -1).transpose(0, 3, 1, 2)\n",
    "    \n",
    "    return out"
   ]
  },
  {
   "cell_type": "markdown",
   "id": "6b65f301",
   "metadata": {},
   "source": [
    "`reshape` の際に `-1` を指定することで、多次元配列の要素の辻褄が合うように、要素数をまとめてくれる。"
   ]
  },
  {
   "cell_type": "code",
   "execution_count": 22,
   "id": "4666a2b1",
   "metadata": {},
   "outputs": [
    {
     "name": "stdout",
     "output_type": "stream",
     "text": [
      "(10, 3, 5, 5)\n",
      "(10, 75)\n"
     ]
    }
   ],
   "source": [
    "x = np.random.rand(10, 3, 5, 5)\n",
    "print(x.shape)\n",
    "x = x.reshape(10, -1)\n",
    "print(x.shape)"
   ]
  },
  {
   "cell_type": "markdown",
   "id": "f3780bd1",
   "metadata": {},
   "source": [
    "`tranpose` は、軸の順番を変更する。"
   ]
  },
  {
   "cell_type": "code",
   "execution_count": 25,
   "id": "60cdc6b6",
   "metadata": {},
   "outputs": [
    {
     "name": "stdout",
     "output_type": "stream",
     "text": [
      "(10, 3, 5, 5)\n",
      "(5, 3, 5, 10)\n"
     ]
    }
   ],
   "source": [
    "x = np.random.rand(10, 3, 5, 5)\n",
    "print(x.shape)\n",
    "x = x.transpose(3, 1, 2, 0)\n",
    "print(x.shape)"
   ]
  },
  {
   "cell_type": "markdown",
   "id": "e440d239",
   "metadata": {},
   "source": [
    "### 7.4.4　Pooling レイヤの実装"
   ]
  },
  {
   "cell_type": "code",
   "execution_count": 27,
   "id": "e31c1100",
   "metadata": {},
   "outputs": [],
   "source": [
    "class Pooling:\n",
    "    def __init__(self, pool_h, pool_w, stride=2, pad=0):\n",
    "        self.pool_h = pool_h\n",
    "        self.pool_w = pool_w\n",
    "        self.stride = stride\n",
    "        self.pad = pad\n",
    "        \n",
    "    def forward(self, x):\n",
    "        N, C, H, W = x.shape\n",
    "        out_h = int(1 + (H - self.pool_h) / self.stride)\n",
    "        out_w = int(1 + (W - self.pool_w) / self.stride)()\n",
    "        \n",
    "        col = im2col(x, self.pool_h, self.pool_w, self.stride, self.pad)\n",
    "        col = col.reshape(-1, self.pool_h*self.pool_w)\n",
    "        \n",
    "        out = np.max(col, axis=1)\n",
    "        out = out.reshape(N, out_h, out_w, C).transpose(0, 3, 1, 2)\n",
    "        \n",
    "        return out"
   ]
  }
 ],
 "metadata": {
  "kernelspec": {
   "display_name": "Python 3",
   "language": "python",
   "name": "python3"
  },
  "language_info": {
   "codemirror_mode": {
    "name": "ipython",
    "version": 3
   },
   "file_extension": ".py",
   "mimetype": "text/x-python",
   "name": "python",
   "nbconvert_exporter": "python",
   "pygments_lexer": "ipython3",
   "version": "3.8.8"
  }
 },
 "nbformat": 4,
 "nbformat_minor": 5
}
