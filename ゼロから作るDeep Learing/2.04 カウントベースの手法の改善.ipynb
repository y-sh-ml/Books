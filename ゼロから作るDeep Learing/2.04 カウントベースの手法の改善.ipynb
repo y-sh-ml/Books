{
 "cells": [
  {
   "cell_type": "markdown",
   "id": "3c92a359",
   "metadata": {
    "_cell_guid": "b1076dfc-b9ad-4769-8c92-a6c4dae69d19",
    "_uuid": "8f2839f25d086af736a60e9eeb907d3b93b6e0e5",
    "id": "3c92a359",
    "papermill": {
     "duration": 0.022859,
     "end_time": "2022-04-19T02:24:47.959038",
     "exception": false,
     "start_time": "2022-04-19T02:24:47.936179",
     "status": "completed"
    },
    "tags": []
   },
   "source": [
    "## 2.4　カウントベースの手法の改善"
   ]
  },
  {
   "cell_type": "code",
   "execution_count": 5,
   "id": "60efd9cd",
   "metadata": {
    "execution": {
     "iopub.execute_input": "2022-04-19T02:24:48.003061Z",
     "iopub.status.busy": "2022-04-19T02:24:48.002644Z",
     "iopub.status.idle": "2022-04-19T02:24:48.013341Z",
     "shell.execute_reply": "2022-04-19T02:24:48.012509Z"
    },
    "executionInfo": {
     "elapsed": 7,
     "status": "ok",
     "timestamp": 1650335230820,
     "user": {
      "displayName": "zoo",
      "userId": "06961267499399105182"
     },
     "user_tz": -540
    },
    "id": "60efd9cd",
    "papermill": {
     "duration": 0.035479,
     "end_time": "2022-04-19T02:24:48.015828",
     "exception": false,
     "start_time": "2022-04-19T02:24:47.980349",
     "status": "completed"
    },
    "tags": []
   },
   "outputs": [],
   "source": [
    "import os\n",
    "import sys\n",
    "import numpy as np\n",
    "import matplotlib.pyplot as plt"
   ]
  },
  {
   "cell_type": "code",
   "execution_count": 6,
   "id": "2f5642b9",
   "metadata": {
    "execution": {
     "iopub.execute_input": "2022-04-19T02:24:48.060064Z",
     "iopub.status.busy": "2022-04-19T02:24:48.059569Z",
     "iopub.status.idle": "2022-04-19T02:24:48.064139Z",
     "shell.execute_reply": "2022-04-19T02:24:48.063287Z"
    },
    "executionInfo": {
     "elapsed": 5,
     "status": "ok",
     "timestamp": 1650335230821,
     "user": {
      "displayName": "zoo",
      "userId": "06961267499399105182"
     },
     "user_tz": -540
    },
    "id": "2f5642b9",
    "papermill": {
     "duration": 0.02972,
     "end_time": "2022-04-19T02:24:48.066150",
     "exception": false,
     "start_time": "2022-04-19T02:24:48.036430",
     "status": "completed"
    },
    "tags": []
   },
   "outputs": [],
   "source": [
    "os.chdir('/Users/yuta.shimizu/Downloads/ML/book-deep-learning-from-scratch-2-master/ch01')\n",
    "sys.path.append(os.pardir)"
   ]
  },
  {
   "cell_type": "markdown",
   "id": "5668ca53",
   "metadata": {
    "id": "5668ca53",
    "papermill": {
     "duration": 0.02065,
     "end_time": "2022-04-19T02:24:48.108074",
     "exception": false,
     "start_time": "2022-04-19T02:24:48.087424",
     "status": "completed"
    },
    "tags": []
   },
   "source": [
    "### 2.4.1　相互情報量"
   ]
  },
  {
   "cell_type": "code",
   "execution_count": 7,
   "id": "be296795",
   "metadata": {
    "execution": {
     "iopub.execute_input": "2022-04-19T02:24:48.152105Z",
     "iopub.status.busy": "2022-04-19T02:24:48.151791Z",
     "iopub.status.idle": "2022-04-19T02:24:48.161219Z",
     "shell.execute_reply": "2022-04-19T02:24:48.160551Z"
    },
    "executionInfo": {
     "elapsed": 465,
     "status": "ok",
     "timestamp": 1650335231281,
     "user": {
      "displayName": "zoo",
      "userId": "06961267499399105182"
     },
     "user_tz": -540
    },
    "id": "be296795",
    "papermill": {
     "duration": 0.034817,
     "end_time": "2022-04-19T02:24:48.163275",
     "exception": false,
     "start_time": "2022-04-19T02:24:48.128458",
     "status": "completed"
    },
    "tags": []
   },
   "outputs": [],
   "source": [
    "def ppmi(C, verbose=False, eps=1e-8):\n",
    "    M = np.zeros_like(C, dtype=np.float32)\n",
    "    N = np.sum(C)\n",
    "    S = np.sum(C, axis=0)\n",
    "    total = C.shape[0] * C.shape[1]\n",
    "    cnt = 0\n",
    "    \n",
    "    print('M')\n",
    "    print(M)\n",
    "    print('N')\n",
    "    print(N)\n",
    "    print('S')\n",
    "    print(S)\n",
    "    \n",
    "    for i in range(C.shape[0]):\n",
    "        for j in range(C.shape[1]):\n",
    "            pmi = np.log2(C[i, j] * N / S[j] * S[i] + eps)\n",
    "            M[i, j] = max(0, pmi)\n",
    "            \n",
    "            if verbose:\n",
    "                cnt += 1\n",
    "                if cnt % (total//100 + 1) == 0:\n",
    "                    print('%.1f%% done' % (100*cnt/total))\n",
    "    print('M')                \n",
    "    return M"
   ]
  },
  {
   "cell_type": "code",
   "execution_count": 8,
   "id": "9fe8077d",
   "metadata": {
    "colab": {
     "base_uri": "https://localhost:8080/"
    },
    "execution": {
     "iopub.execute_input": "2022-04-19T02:24:48.207712Z",
     "iopub.status.busy": "2022-04-19T02:24:48.206917Z",
     "iopub.status.idle": "2022-04-19T02:24:48.212813Z",
     "shell.execute_reply": "2022-04-19T02:24:48.211970Z"
    },
    "executionInfo": {
     "elapsed": 19,
     "status": "ok",
     "timestamp": 1650335231282,
     "user": {
      "displayName": "zoo",
      "userId": "06961267499399105182"
     },
     "user_tz": -540
    },
    "id": "9fe8077d",
    "outputId": "b5621c91-cbcd-4592-d86b-a8aae0cd5c7c",
    "papermill": {
     "duration": 0.031523,
     "end_time": "2022-04-19T02:24:48.215669",
     "exception": false,
     "start_time": "2022-04-19T02:24:48.184146",
     "status": "completed"
    },
    "tags": []
   },
   "outputs": [
    {
     "name": "stdout",
     "output_type": "stream",
     "text": [
      "5\n",
      "3\n",
      "2\n"
     ]
    }
   ],
   "source": [
    "print(10 // 2)\n",
    "print(10 // 3)\n",
    "print(10 // 4)"
   ]
  },
  {
   "cell_type": "markdown",
   "id": "3e09df2d",
   "metadata": {
    "id": "3e09df2d",
    "papermill": {
     "duration": 0.021423,
     "end_time": "2022-04-19T02:24:48.260832",
     "exception": false,
     "start_time": "2022-04-19T02:24:48.239409",
     "status": "completed"
    },
    "tags": []
   },
   "source": [
    "`C` は共起行列を指している。"
   ]
  },
  {
   "cell_type": "code",
   "execution_count": 9,
   "id": "c3491789",
   "metadata": {
    "execution": {
     "iopub.execute_input": "2022-04-19T02:24:48.304952Z",
     "iopub.status.busy": "2022-04-19T02:24:48.304640Z",
     "iopub.status.idle": "2022-04-19T02:24:48.311863Z",
     "shell.execute_reply": "2022-04-19T02:24:48.310489Z"
    },
    "executionInfo": {
     "elapsed": 15,
     "status": "ok",
     "timestamp": 1650335231282,
     "user": {
      "displayName": "zoo",
      "userId": "06961267499399105182"
     },
     "user_tz": -540
    },
    "id": "c3491789",
    "papermill": {
     "duration": 0.031793,
     "end_time": "2022-04-19T02:24:48.314014",
     "exception": false,
     "start_time": "2022-04-19T02:24:48.282221",
     "status": "completed"
    },
    "tags": []
   },
   "outputs": [],
   "source": [
    "C = np.array([\n",
    "    [0, 1, 0, 0, 0, 0, 0],\n",
    "    [1, 0, 1, 0, 1, 1, 0],\n",
    "    [0, 1, 0, 1, 0, 0, 0],\n",
    "    [0, 0, 1, 0, 1, 0, 0],\n",
    "    [0, 1, 0, 1, 0, 0, 0],\n",
    "    [0, 1, 0, 0, 0, 0, 1],\n",
    "    [0, 0, 0, 0, 0, 1, 0]\n",
    "], dtype=np.int32)"
   ]
  },
  {
   "cell_type": "code",
   "execution_count": 10,
   "id": "32bac579",
   "metadata": {
    "colab": {
     "base_uri": "https://localhost:8080/"
    },
    "execution": {
     "iopub.execute_input": "2022-04-19T02:24:48.359283Z",
     "iopub.status.busy": "2022-04-19T02:24:48.359003Z",
     "iopub.status.idle": "2022-04-19T02:24:48.372620Z",
     "shell.execute_reply": "2022-04-19T02:24:48.371326Z"
    },
    "executionInfo": {
     "elapsed": 14,
     "status": "ok",
     "timestamp": 1650335231282,
     "user": {
      "displayName": "zoo",
      "userId": "06961267499399105182"
     },
     "user_tz": -540
    },
    "id": "32bac579",
    "outputId": "1756d23f-c453-4016-d1e6-9451db5644cf",
    "papermill": {
     "duration": 0.038417,
     "end_time": "2022-04-19T02:24:48.374877",
     "exception": false,
     "start_time": "2022-04-19T02:24:48.336460",
     "status": "completed"
    },
    "tags": []
   },
   "outputs": [
    {
     "name": "stdout",
     "output_type": "stream",
     "text": [
      "M\n",
      "[[0. 0. 0. 0. 0. 0. 0.]\n",
      " [0. 0. 0. 0. 0. 0. 0.]\n",
      " [0. 0. 0. 0. 0. 0. 0.]\n",
      " [0. 0. 0. 0. 0. 0. 0.]\n",
      " [0. 0. 0. 0. 0. 0. 0.]\n",
      " [0. 0. 0. 0. 0. 0. 0.]\n",
      " [0. 0. 0. 0. 0. 0. 0.]]\n",
      "N\n",
      "14\n",
      "S\n",
      "[1 4 2 2 2 2 1]\n",
      "M\n"
     ]
    },
    {
     "data": {
      "text/plain": [
       "array([[0.   , 1.807, 0.   , 0.   , 0.   , 0.   , 0.   ],\n",
       "       [5.807, 0.   , 4.807, 0.   , 4.807, 4.807, 0.   ],\n",
       "       [0.   , 2.807, 0.   , 3.807, 0.   , 0.   , 0.   ],\n",
       "       [0.   , 0.   , 3.807, 0.   , 3.807, 0.   , 0.   ],\n",
       "       [0.   , 2.807, 0.   , 3.807, 0.   , 0.   , 0.   ],\n",
       "       [0.   , 2.807, 0.   , 0.   , 0.   , 0.   , 4.807],\n",
       "       [0.   , 0.   , 0.   , 0.   , 0.   , 2.807, 0.   ]], dtype=float32)"
      ]
     },
     "execution_count": 10,
     "metadata": {},
     "output_type": "execute_result"
    }
   ],
   "source": [
    "np.set_printoptions(precision=3)\n",
    "ppmi(C)"
   ]
  },
  {
   "cell_type": "code",
   "execution_count": 11,
   "id": "c1537d8d",
   "metadata": {
    "colab": {
     "base_uri": "https://localhost:8080/",
     "height": 315
    },
    "execution": {
     "iopub.execute_input": "2022-04-19T02:24:48.424258Z",
     "iopub.status.busy": "2022-04-19T02:24:48.423656Z",
     "iopub.status.idle": "2022-04-19T02:24:48.461042Z",
     "shell.execute_reply": "2022-04-19T02:24:48.460130Z"
    },
    "executionInfo": {
     "elapsed": 297,
     "status": "error",
     "timestamp": 1650335231568,
     "user": {
      "displayName": "zoo",
      "userId": "06961267499399105182"
     },
     "user_tz": -540
    },
    "id": "c1537d8d",
    "outputId": "7e7986df-15e4-4191-9ddd-a2e3fa44bc4f",
    "papermill": {
     "duration": 0.065036,
     "end_time": "2022-04-19T02:24:48.463908",
     "exception": false,
     "start_time": "2022-04-19T02:24:48.398872",
     "status": "completed"
    },
    "tags": []
   },
   "outputs": [],
   "source": [
    "from common.util import preprocess, create_co_matrix, cos_similarity, ppmi"
   ]
  },
  {
   "cell_type": "code",
   "execution_count": 12,
   "id": "292bbcdc",
   "metadata": {
    "execution": {
     "iopub.execute_input": "2022-04-19T02:24:48.511900Z",
     "iopub.status.busy": "2022-04-19T02:24:48.511355Z",
     "iopub.status.idle": "2022-04-19T02:24:48.517517Z",
     "shell.execute_reply": "2022-04-19T02:24:48.516825Z"
    },
    "executionInfo": {
     "elapsed": 9,
     "status": "aborted",
     "timestamp": 1650335231282,
     "user": {
      "displayName": "zoo",
      "userId": "06961267499399105182"
     },
     "user_tz": -540
    },
    "id": "292bbcdc",
    "papermill": {
     "duration": 0.032566,
     "end_time": "2022-04-19T02:24:48.519480",
     "exception": false,
     "start_time": "2022-04-19T02:24:48.486914",
     "status": "completed"
    },
    "tags": []
   },
   "outputs": [],
   "source": [
    "text = 'You say goodbye and I say hello.'\n",
    "corpus, word_to_id, id_to_word = preprocess(text)\n",
    "vocab_size = len(word_to_id)\n",
    "C = create_co_matrix(corpus, vocab_size)\n",
    "W = ppmi(C)"
   ]
  },
  {
   "cell_type": "code",
   "execution_count": 13,
   "id": "1a3dd1a6",
   "metadata": {
    "execution": {
     "iopub.execute_input": "2022-04-19T02:24:48.564649Z",
     "iopub.status.busy": "2022-04-19T02:24:48.564361Z",
     "iopub.status.idle": "2022-04-19T02:24:48.573116Z",
     "shell.execute_reply": "2022-04-19T02:24:48.572201Z"
    },
    "executionInfo": {
     "elapsed": 10,
     "status": "aborted",
     "timestamp": 1650335231283,
     "user": {
      "displayName": "zoo",
      "userId": "06961267499399105182"
     },
     "user_tz": -540
    },
    "id": "1a3dd1a6",
    "papermill": {
     "duration": 0.0343,
     "end_time": "2022-04-19T02:24:48.575453",
     "exception": false,
     "start_time": "2022-04-19T02:24:48.541153",
     "status": "completed"
    },
    "tags": []
   },
   "outputs": [
    {
     "name": "stdout",
     "output_type": "stream",
     "text": [
      "covariance matrix\n",
      "[[0 1 0 0 0 0 0]\n",
      " [1 0 1 0 1 1 0]\n",
      " [0 1 0 1 0 0 0]\n",
      " [0 0 1 0 1 0 0]\n",
      " [0 1 0 1 0 0 0]\n",
      " [0 1 0 0 0 0 1]\n",
      " [0 0 0 0 0 1 0]]\n",
      "--------------------------------------------------\n",
      "PPMI\n",
      "[[0.    1.807 0.    0.    0.    0.    0.   ]\n",
      " [1.807 0.    0.807 0.    0.807 0.807 0.   ]\n",
      " [0.    0.807 0.    1.807 0.    0.    0.   ]\n",
      " [0.    0.    1.807 0.    1.807 0.    0.   ]\n",
      " [0.    0.807 0.    1.807 0.    0.    0.   ]\n",
      " [0.    0.807 0.    0.    0.    0.    2.807]\n",
      " [0.    0.    0.    0.    0.    2.807 0.   ]]\n"
     ]
    }
   ],
   "source": [
    "print('covariance matrix')\n",
    "print(C)\n",
    "print('-'*50)\n",
    "print('PPMI')\n",
    "print(W)"
   ]
  },
  {
   "cell_type": "markdown",
   "id": "3d413e6f",
   "metadata": {
    "id": "3d413e6f",
    "papermill": {
     "duration": 0.022632,
     "end_time": "2022-04-19T02:24:48.621076",
     "exception": false,
     "start_time": "2022-04-19T02:24:48.598444",
     "status": "completed"
    },
    "tags": []
   },
   "source": [
    "### 2.4.3　SVDによる次元削減"
   ]
  },
  {
   "cell_type": "code",
   "execution_count": 14,
   "id": "57cfbc53",
   "metadata": {
    "execution": {
     "iopub.execute_input": "2022-04-19T02:24:48.668736Z",
     "iopub.status.busy": "2022-04-19T02:24:48.668153Z",
     "iopub.status.idle": "2022-04-19T02:24:48.682108Z",
     "shell.execute_reply": "2022-04-19T02:24:48.681069Z"
    },
    "executionInfo": {
     "elapsed": 9,
     "status": "aborted",
     "timestamp": 1650335231283,
     "user": {
      "displayName": "zoo",
      "userId": "06961267499399105182"
     },
     "user_tz": -540
    },
    "id": "57cfbc53",
    "papermill": {
     "duration": 0.040673,
     "end_time": "2022-04-19T02:24:48.684821",
     "exception": false,
     "start_time": "2022-04-19T02:24:48.644148",
     "status": "completed"
    },
    "tags": []
   },
   "outputs": [],
   "source": [
    "U, S, V = np.linalg.svd(W)"
   ]
  },
  {
   "cell_type": "code",
   "execution_count": 15,
   "id": "dc1ddcc1",
   "metadata": {
    "execution": {
     "iopub.execute_input": "2022-04-19T02:24:48.732138Z",
     "iopub.status.busy": "2022-04-19T02:24:48.731847Z",
     "iopub.status.idle": "2022-04-19T02:24:48.738947Z",
     "shell.execute_reply": "2022-04-19T02:24:48.738273Z"
    },
    "executionInfo": {
     "elapsed": 9,
     "status": "aborted",
     "timestamp": 1650335231283,
     "user": {
      "displayName": "zoo",
      "userId": "06961267499399105182"
     },
     "user_tz": -540
    },
    "id": "dc1ddcc1",
    "papermill": {
     "duration": 0.033124,
     "end_time": "2022-04-19T02:24:48.740825",
     "exception": false,
     "start_time": "2022-04-19T02:24:48.707701",
     "status": "completed"
    },
    "tags": []
   },
   "outputs": [
    {
     "name": "stdout",
     "output_type": "stream",
     "text": [
      "[0 1 0 0 0 0 0]\n",
      "[0.    1.807 0.    0.    0.    0.    0.   ]\n",
      "[ 3.409e-01  0.000e+00 -3.886e-16 -1.205e-01 -9.323e-01 -1.110e-16\n",
      "  1.958e-17]\n"
     ]
    }
   ],
   "source": [
    "print(C[0])\n",
    "print(W[0])\n",
    "print(U[0])"
   ]
  },
  {
   "cell_type": "markdown",
   "id": "205dfa37",
   "metadata": {
    "id": "205dfa37",
    "papermill": {
     "duration": 0.022884,
     "end_time": "2022-04-19T02:24:48.786847",
     "exception": false,
     "start_time": "2022-04-19T02:24:48.763963",
     "status": "completed"
    },
    "tags": []
   },
   "source": [
    "2 次元のベクトルに削減するのであれば、単に先頭の 2 つの要素を取り出せばよい。"
   ]
  },
  {
   "cell_type": "code",
   "execution_count": 16,
   "id": "c9e586cb",
   "metadata": {
    "execution": {
     "iopub.execute_input": "2022-04-19T02:24:48.836249Z",
     "iopub.status.busy": "2022-04-19T02:24:48.835555Z",
     "iopub.status.idle": "2022-04-19T02:24:48.840458Z",
     "shell.execute_reply": "2022-04-19T02:24:48.839481Z"
    },
    "executionInfo": {
     "elapsed": 292,
     "status": "aborted",
     "timestamp": 1650335231566,
     "user": {
      "displayName": "zoo",
      "userId": "06961267499399105182"
     },
     "user_tz": -540
    },
    "id": "c9e586cb",
    "papermill": {
     "duration": 0.030997,
     "end_time": "2022-04-19T02:24:48.842519",
     "exception": false,
     "start_time": "2022-04-19T02:24:48.811522",
     "status": "completed"
    },
    "tags": []
   },
   "outputs": [
    {
     "name": "stdout",
     "output_type": "stream",
     "text": [
      "[0.341 0.   ]\n"
     ]
    }
   ],
   "source": [
    "print(U[0, :2])"
   ]
  },
  {
   "cell_type": "code",
   "execution_count": 17,
   "id": "4cf1a8c9",
   "metadata": {
    "execution": {
     "iopub.execute_input": "2022-04-19T02:24:48.898936Z",
     "iopub.status.busy": "2022-04-19T02:24:48.898416Z",
     "iopub.status.idle": "2022-04-19T02:24:49.398152Z",
     "shell.execute_reply": "2022-04-19T02:24:49.396906Z"
    },
    "executionInfo": {
     "elapsed": 291,
     "status": "aborted",
     "timestamp": 1650335231566,
     "user": {
      "displayName": "zoo",
      "userId": "06961267499399105182"
     },
     "user_tz": -540
    },
    "id": "4cf1a8c9",
    "papermill": {
     "duration": 0.534779,
     "end_time": "2022-04-19T02:24:49.400518",
     "exception": false,
     "start_time": "2022-04-19T02:24:48.865739",
     "status": "completed"
    },
    "tags": []
   },
   "outputs": [
    {
     "name": "stdout",
     "output_type": "stream",
     "text": [
      "{'you': 0, 'say': 1, 'goodbye': 2, 'and': 3, 'i': 4, 'hello': 5, '.': 6}\n"
     ]
    },
    {
     "data": {
      "image/png": "[encoded data removed]",
      "text/plain": [
       "<Figure size 432x288 with 1 Axes>"
      ]
     },
     "metadata": {
      "needs_background": "light"
     },
     "output_type": "display_data"
    }
   ],
   "source": [
    "print(word_to_id)\n",
    "    \n",
    "for word, word_id in word_to_id.items():\n",
    "    plt.annotate(word, (U[word_id, 0], U[word_id, 1]))\n",
    "    plt.scatter(U[:, 0], U[:, 1], alpha=0.5)"
   ]
  },
  {
   "cell_type": "markdown",
   "id": "d41c6d1e",
   "metadata": {
    "execution": {
     "iopub.execute_input": "2022-04-19T01:40:37.100406Z",
     "iopub.status.busy": "2022-04-19T01:40:37.100118Z",
     "iopub.status.idle": "2022-04-19T01:40:37.105599Z",
     "shell.execute_reply": "2022-04-19T01:40:37.104635Z",
     "shell.execute_reply.started": "2022-04-19T01:40:37.100376Z"
    },
    "id": "d41c6d1e",
    "papermill": {
     "duration": 0.025885,
     "end_time": "2022-04-19T02:24:49.451593",
     "exception": false,
     "start_time": "2022-04-19T02:24:49.425708",
     "status": "completed"
    },
    "tags": []
   },
   "source": [
    "### 2.4.4　PTB データセット"
   ]
  },
  {
   "cell_type": "code",
   "execution_count": 18,
   "id": "2fe610f4",
   "metadata": {
    "execution": {
     "iopub.execute_input": "2022-04-19T02:24:49.503240Z",
     "iopub.status.busy": "2022-04-19T02:24:49.502416Z",
     "iopub.status.idle": "2022-04-19T02:24:49.521239Z",
     "shell.execute_reply": "2022-04-19T02:24:49.520317Z"
    },
    "executionInfo": {
     "elapsed": 292,
     "status": "aborted",
     "timestamp": 1650335231567,
     "user": {
      "displayName": "zoo",
      "userId": "06961267499399105182"
     },
     "user_tz": -540
    },
    "id": "2fe610f4",
    "papermill": {
     "duration": 0.04668,
     "end_time": "2022-04-19T02:24:49.523593",
     "exception": false,
     "start_time": "2022-04-19T02:24:49.476913",
     "status": "completed"
    },
    "tags": []
   },
   "outputs": [],
   "source": [
    "from dataset import ptb"
   ]
  },
  {
   "cell_type": "code",
   "execution_count": 19,
   "id": "c9305060",
   "metadata": {
    "execution": {
     "iopub.execute_input": "2022-04-19T02:24:49.576583Z",
     "iopub.status.busy": "2022-04-19T02:24:49.576084Z",
     "iopub.status.idle": "2022-04-19T02:24:49.579327Z",
     "shell.execute_reply": "2022-04-19T02:24:49.578669Z"
    },
    "executionInfo": {
     "elapsed": 291,
     "status": "aborted",
     "timestamp": 1650335231567,
     "user": {
      "displayName": "zoo",
      "userId": "06961267499399105182"
     },
     "user_tz": -540
    },
    "id": "c9305060",
    "papermill": {
     "duration": 0.031288,
     "end_time": "2022-04-19T02:24:49.581445",
     "exception": false,
     "start_time": "2022-04-19T02:24:49.550157",
     "status": "completed"
    },
    "tags": []
   },
   "outputs": [
    {
     "name": "stdout",
     "output_type": "stream",
     "text": [
      "Downloading ptb.train.txt ... \n",
      "Done\n"
     ]
    }
   ],
   "source": [
    "corpus, word_to_id, id_to_word = ptb.load_data('train')"
   ]
  },
  {
   "cell_type": "code",
   "execution_count": 26,
   "id": "57629dbd",
   "metadata": {
    "execution": {
     "iopub.execute_input": "2022-04-19T02:24:49.632137Z",
     "iopub.status.busy": "2022-04-19T02:24:49.631698Z",
     "iopub.status.idle": "2022-04-19T02:24:49.637642Z",
     "shell.execute_reply": "2022-04-19T02:24:49.637081Z"
    },
    "executionInfo": {
     "elapsed": 5,
     "status": "aborted",
     "timestamp": 1650335231567,
     "user": {
      "displayName": "zoo",
      "userId": "06961267499399105182"
     },
     "user_tz": -540
    },
    "id": "57629dbd",
    "papermill": {
     "duration": 0.033762,
     "end_time": "2022-04-19T02:24:49.639913",
     "exception": false,
     "start_time": "2022-04-19T02:24:49.606151",
     "status": "completed"
    },
    "tags": []
   },
   "outputs": [
    {
     "name": "stdout",
     "output_type": "stream",
     "text": [
      "corpus size: 929589\n",
      "corpus[:30]: [ 0  1  2  3  4  5  6  7  8  9 10 11 12 13 14 15 16 17 18 19 20 21 22 23\n",
      " 24 25 26 27 28 29]\n",
      "\n",
      "id_to_word[0]: aer\n",
      "id_to_word[1]: banknote\n",
      "id_to_word[2]: berlitz\n",
      "\n",
      "id_to_word['car']: 3856\n",
      "id_to_word['happy']: 4428\n",
      "id_to_word[lexus]: 7426\n"
     ]
    }
   ],
   "source": [
    "print(\"corpus size:\", len(corpus))\n",
    "print(\"corpus[:30]:\", corpus[:30])\n",
    "print()\n",
    "print(\"id_to_word[0]:\", id_to_word[0])\n",
    "print(\"id_to_word[1]:\", id_to_word[1])\n",
    "print(\"id_to_word[2]:\", id_to_word[2])\n",
    "print()\n",
    "print(\"id_to_word['car']:\", word_to_id['car'])\n",
    "print(\"id_to_word['happy']:\", word_to_id['happy'])\n",
    "print(\"id_to_word[lexus]:\", word_to_id['lexus'])"
   ]
  },
  {
   "cell_type": "markdown",
   "id": "fef4a91b",
   "metadata": {},
   "source": [
    "### 2.4.5　PTBデータセットでの評価"
   ]
  },
  {
   "cell_type": "code",
   "execution_count": 32,
   "id": "76a5f701",
   "metadata": {},
   "outputs": [],
   "source": [
    "from common.util import most_similar, create_co_matrix, ppmi"
   ]
  },
  {
   "cell_type": "code",
   "execution_count": 33,
   "id": "960c5157",
   "metadata": {},
   "outputs": [
    {
     "name": "stdout",
     "output_type": "stream",
     "text": [
      "counting co-occurrence ...\n",
      "caluculating PPMI ...\n",
      "1.0% done\n",
      "2.0% done\n",
      "3.0% done\n",
      "4.0% done\n",
      "5.0% done\n",
      "6.0% done\n",
      "7.0% done\n",
      "8.0% done\n",
      "9.0% done\n",
      "10.0% done\n",
      "11.0% done\n",
      "12.0% done\n",
      "13.0% done\n",
      "14.0% done\n",
      "15.0% done\n",
      "16.0% done\n",
      "17.0% done\n",
      "18.0% done\n",
      "19.0% done\n",
      "20.0% done\n",
      "21.0% done\n",
      "22.0% done\n",
      "23.0% done\n",
      "24.0% done\n",
      "25.0% done\n",
      "26.0% done\n",
      "27.0% done\n",
      "28.0% done\n",
      "29.0% done\n",
      "30.0% done\n",
      "31.0% done\n",
      "32.0% done\n",
      "33.0% done\n",
      "34.0% done\n",
      "35.0% done\n",
      "36.0% done\n",
      "37.0% done\n",
      "38.0% done\n",
      "39.0% done\n",
      "40.0% done\n",
      "41.0% done\n",
      "42.0% done\n",
      "43.0% done\n",
      "44.0% done\n",
      "45.0% done\n",
      "46.0% done\n",
      "47.0% done\n",
      "48.0% done\n",
      "49.0% done\n",
      "50.0% done\n",
      "51.0% done\n",
      "52.0% done\n",
      "53.0% done\n",
      "54.0% done\n",
      "55.0% done\n",
      "56.0% done\n",
      "57.0% done\n",
      "58.0% done\n",
      "59.0% done\n",
      "60.0% done\n",
      "61.0% done\n",
      "62.0% done\n",
      "63.0% done\n",
      "64.0% done\n",
      "65.0% done\n",
      "66.0% done\n",
      "67.0% done\n",
      "68.0% done\n",
      "69.0% done\n",
      "70.0% done\n",
      "71.0% done\n",
      "72.0% done\n",
      "73.0% done\n",
      "74.0% done\n",
      "75.0% done\n",
      "76.0% done\n",
      "77.0% done\n",
      "78.0% done\n",
      "79.0% done\n",
      "80.0% done\n",
      "81.0% done\n",
      "82.0% done\n",
      "83.0% done\n",
      "84.0% done\n",
      "85.0% done\n",
      "86.0% done\n",
      "87.0% done\n",
      "88.0% done\n",
      "89.0% done\n",
      "90.0% done\n",
      "91.0% done\n",
      "92.0% done\n",
      "93.0% done\n",
      "94.0% done\n",
      "95.0% done\n",
      "96.0% done\n",
      "97.0% done\n",
      "98.0% done\n",
      "99.0% done\n",
      "100.0% done\n",
      "Caluculating SVD ...\n",
      "\n",
      "[query] you\n",
      "i: 0.700317919254303\n",
      "we: 0.6367185115814209\n",
      "anybody: 0.5657642483711243\n",
      "do: 0.563567042350769\n",
      "'ll: 0.5127798318862915\n",
      "\n",
      "[query] year\n",
      "month: 0.6961644887924194\n",
      "quarter: 0.6884941458702087\n",
      "earlier: 0.6663320660591125\n",
      "last: 0.6281364560127258\n",
      "next: 0.6175755858421326\n",
      "\n",
      "[query] car\n",
      "luxury: 0.6728832125663757\n",
      "auto: 0.6452109813690186\n",
      "vehicle: 0.6097723245620728\n",
      "cars: 0.6032834053039551\n",
      "corsica: 0.5698372721672058\n",
      "\n",
      "[query] toyota\n",
      "motor: 0.7585658431053162\n",
      "nissan: 0.714803159236908\n",
      "motors: 0.692615807056427\n",
      "lexus: 0.6583304405212402\n",
      "honda: 0.6350275278091431\n"
     ]
    }
   ],
   "source": [
    "window_size = 2\n",
    "wordvec_size = 100\n",
    "\n",
    "corpus, word_to_id, id_to_word = ptb.load_data('train')\n",
    "vocab_size = len(word_to_id)\n",
    "print('counting co-occurrence ...')\n",
    "C = create_co_matrix(corpus, vocab_size, window_size)\n",
    "print('caluculating PPMI ...')\n",
    "W = ppmi(C, verbose=True)\n",
    "\n",
    "print('Caluculating SVD ...')\n",
    "try:\n",
    "    from sklean.utils.extmath import randomized_svd\n",
    "    U, S, V = randomized_svd(W, n_compenents=wordvec_size, n_iter=5, random_state=None)\n",
    "    \n",
    "except ImportError:\n",
    "    U, S, V = np.linalg.svd(W)\n",
    "    \n",
    "word_vecs = U[:, :wordvec_size]\n",
    "\n",
    "querys = ['you', 'year', 'car', 'toyota']\n",
    "for query in querys:\n",
    "    most_similar(query, word_to_id, id_to_word, word_vecs, top=5)"
   ]
  }
 ],
 "metadata": {
  "colab": {
   "name": "2.04 カウントベースの手法の改善.ipynb",
   "provenance": []
  },
  "kernelspec": {
   "display_name": "Python 3",
   "language": "python",
   "name": "python3"
  },
  "language_info": {
   "codemirror_mode": {
    "name": "ipython",
    "version": 3
   },
   "file_extension": ".py",
   "mimetype": "text/x-python",
   "name": "python",
   "nbconvert_exporter": "python",
   "pygments_lexer": "ipython3",
   "version": "3.8.8"
  },
  "papermill": {
   "default_parameters": {},
   "duration": 12.446024,
   "end_time": "2022-04-19T02:24:50.386399",
   "environment_variables": {},
   "exception": null,
   "input_path": "__notebook__.ipynb",
   "output_path": "__notebook__.ipynb",
   "parameters": {},
   "start_time": "2022-04-19T02:24:37.940375",
   "version": "2.3.4"
  }
 },
 "nbformat": 4,
 "nbformat_minor": 5
}
