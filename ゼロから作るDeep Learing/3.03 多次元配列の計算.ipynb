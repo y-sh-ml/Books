{
 "cells": [
  {
   "cell_type": "markdown",
   "id": "56e2d167",
   "metadata": {
    "papermill": {
     "duration": 0.010832,
     "end_time": "2022-02-21T02:34:29.239253",
     "exception": false,
     "start_time": "2022-02-21T02:34:29.228421",
     "status": "completed"
    },
    "tags": []
   },
   "source": [
    "## 3.3　多次元配列の計算"
   ]
  },
  {
   "cell_type": "code",
   "execution_count": 1,
   "id": "0cf2c2cc",
   "metadata": {
    "execution": {
     "iopub.execute_input": "2022-02-21T02:34:29.269762Z",
     "iopub.status.busy": "2022-02-21T02:34:29.268825Z",
     "iopub.status.idle": "2022-02-21T02:34:29.274500Z",
     "shell.execute_reply": "2022-02-21T02:34:29.275165Z",
     "shell.execute_reply.started": "2022-02-21T02:19:11.803752Z"
    },
    "papermill": {
     "duration": 0.025958,
     "end_time": "2022-02-21T02:34:29.275537",
     "exception": false,
     "start_time": "2022-02-21T02:34:29.249579",
     "status": "completed"
    },
    "tags": []
   },
   "outputs": [],
   "source": [
    "import numpy as np"
   ]
  },
  {
   "cell_type": "markdown",
   "id": "cf96b0dd",
   "metadata": {
    "papermill": {
     "duration": 0.009806,
     "end_time": "2022-02-21T02:34:29.295873",
     "exception": false,
     "start_time": "2022-02-21T02:34:29.286067",
     "status": "completed"
    },
    "tags": []
   },
   "source": [
    "### 3.3.1　多次元配列"
   ]
  },
  {
   "cell_type": "markdown",
   "id": "a1256652",
   "metadata": {
    "papermill": {
     "duration": 0.009925,
     "end_time": "2022-02-21T02:34:29.316371",
     "exception": false,
     "start_time": "2022-02-21T02:34:29.306446",
     "status": "completed"
    },
    "tags": []
   },
   "source": [
    "配列の次元数は、np.dim で取得できる。"
   ]
  },
  {
   "cell_type": "code",
   "execution_count": 2,
   "id": "8a572734",
   "metadata": {
    "execution": {
     "iopub.execute_input": "2022-02-21T02:34:29.340689Z",
     "iopub.status.busy": "2022-02-21T02:34:29.339805Z",
     "iopub.status.idle": "2022-02-21T02:34:29.347900Z",
     "shell.execute_reply": "2022-02-21T02:34:29.348483Z",
     "shell.execute_reply.started": "2022-02-21T02:19:11.841135Z"
    },
    "papermill": {
     "duration": 0.02208,
     "end_time": "2022-02-21T02:34:29.348701",
     "exception": false,
     "start_time": "2022-02-21T02:34:29.326621",
     "status": "completed"
    },
    "tags": []
   },
   "outputs": [
    {
     "name": "stdout",
     "output_type": "stream",
     "text": [
      "[1 2 3 4]\n",
      "1\n",
      "(4,)\n",
      "4\n"
     ]
    }
   ],
   "source": [
    "A = np.array([1, 2, 3, 4])\n",
    "print(A)\n",
    "print(np.ndim(A))\n",
    "print(A.shape)\n",
    "print(A.shape[0])"
   ]
  },
  {
   "cell_type": "code",
   "execution_count": 3,
   "id": "5773b553",
   "metadata": {
    "execution": {
     "iopub.execute_input": "2022-02-21T02:34:29.374346Z",
     "iopub.status.busy": "2022-02-21T02:34:29.373605Z",
     "iopub.status.idle": "2022-02-21T02:34:29.380311Z",
     "shell.execute_reply": "2022-02-21T02:34:29.379628Z",
     "shell.execute_reply.started": "2022-02-21T02:19:11.852095Z"
    },
    "papermill": {
     "duration": 0.020704,
     "end_time": "2022-02-21T02:34:29.380484",
     "exception": false,
     "start_time": "2022-02-21T02:34:29.359780",
     "status": "completed"
    },
    "tags": []
   },
   "outputs": [
    {
     "name": "stdout",
     "output_type": "stream",
     "text": [
      "[[1 2]\n",
      " [3 4]\n",
      " [5 6]]\n",
      "2\n",
      "(3, 2)\n",
      "3\n"
     ]
    }
   ],
   "source": [
    "B = np.array([[1,2], [3,4], [5,6]])\n",
    "print(B)\n",
    "print(np.ndim(B))\n",
    "print(B.shape)\n",
    "print(B.shape[0])"
   ]
  },
  {
   "cell_type": "markdown",
   "id": "e015f464",
   "metadata": {
    "papermill": {
     "duration": 0.011017,
     "end_time": "2022-02-21T02:34:29.402308",
     "exception": false,
     "start_time": "2022-02-21T02:34:29.391291",
     "status": "completed"
    },
    "tags": []
   },
   "source": [
    "### 3.3.2　行列の積"
   ]
  },
  {
   "cell_type": "code",
   "execution_count": 4,
   "id": "c0ba2e58",
   "metadata": {
    "execution": {
     "iopub.execute_input": "2022-02-21T02:34:29.437725Z",
     "iopub.status.busy": "2022-02-21T02:34:29.436829Z",
     "iopub.status.idle": "2022-02-21T02:34:29.441940Z",
     "shell.execute_reply": "2022-02-21T02:34:29.442399Z",
     "shell.execute_reply.started": "2022-02-21T02:21:48.860421Z"
    },
    "papermill": {
     "duration": 0.028921,
     "end_time": "2022-02-21T02:34:29.442581",
     "exception": false,
     "start_time": "2022-02-21T02:34:29.413660",
     "status": "completed"
    },
    "tags": []
   },
   "outputs": [
    {
     "name": "stdout",
     "output_type": "stream",
     "text": [
      "(2, 2)\n",
      "(2, 2)\n"
     ]
    },
    {
     "data": {
      "text/plain": [
       "array([[19, 22],\n",
       "       [43, 50]])"
      ]
     },
     "execution_count": 4,
     "metadata": {},
     "output_type": "execute_result"
    }
   ],
   "source": [
    "A = np.array([[1, 2], [3, 4]])\n",
    "print(A.shape)\n",
    "\n",
    "B = np.array([[5, 6], [7, 8]])\n",
    "print(B.shape)\n",
    "\n",
    "np.dot(A, B)"
   ]
  },
  {
   "cell_type": "code",
   "execution_count": 5,
   "id": "7d9244b2",
   "metadata": {
    "execution": {
     "iopub.execute_input": "2022-02-21T02:34:29.469922Z",
     "iopub.status.busy": "2022-02-21T02:34:29.469330Z",
     "iopub.status.idle": "2022-02-21T02:34:29.477613Z",
     "shell.execute_reply": "2022-02-21T02:34:29.478130Z",
     "shell.execute_reply.started": "2022-02-21T02:22:57.790970Z"
    },
    "papermill": {
     "duration": 0.024291,
     "end_time": "2022-02-21T02:34:29.478310",
     "exception": false,
     "start_time": "2022-02-21T02:34:29.454019",
     "status": "completed"
    },
    "tags": []
   },
   "outputs": [
    {
     "name": "stdout",
     "output_type": "stream",
     "text": [
      "(2, 3)\n",
      "(3, 2)\n"
     ]
    },
    {
     "data": {
      "text/plain": [
       "array([[22, 28],\n",
       "       [49, 64]])"
      ]
     },
     "execution_count": 5,
     "metadata": {},
     "output_type": "execute_result"
    }
   ],
   "source": [
    "A = np.array([[1, 2, 3], [4, 5, 6]])\n",
    "print(A.shape)\n",
    "\n",
    "B = np.array([[1, 2], [3, 4], [5, 6]])\n",
    "print(B.shape)\n",
    "\n",
    "np.dot(A, B)"
   ]
  },
  {
   "cell_type": "code",
   "execution_count": 6,
   "id": "4eacf914",
   "metadata": {
    "execution": {
     "iopub.execute_input": "2022-02-21T02:34:29.511900Z",
     "iopub.status.busy": "2022-02-21T02:34:29.511112Z",
     "iopub.status.idle": "2022-02-21T02:34:29.515501Z",
     "shell.execute_reply": "2022-02-21T02:34:29.515040Z",
     "shell.execute_reply.started": "2022-02-21T02:25:24.395031Z"
    },
    "papermill": {
     "duration": 0.025336,
     "end_time": "2022-02-21T02:34:29.515642",
     "exception": false,
     "start_time": "2022-02-21T02:34:29.490306",
     "status": "completed"
    },
    "tags": []
   },
   "outputs": [
    {
     "name": "stdout",
     "output_type": "stream",
     "text": [
      "(3, 2)\n",
      "(2,)\n"
     ]
    },
    {
     "data": {
      "text/plain": [
       "array([23, 53, 83])"
      ]
     },
     "execution_count": 6,
     "metadata": {},
     "output_type": "execute_result"
    }
   ],
   "source": [
    "A = np.array([[1, 2], [3, 4], [5, 6]])\n",
    "print(A.shape)\n",
    "\n",
    "B = np.array([7, 8])\n",
    "print(B.shape)\n",
    "\n",
    "np.dot(A, B)"
   ]
  },
  {
   "cell_type": "markdown",
   "id": "a25976dc",
   "metadata": {
    "papermill": {
     "duration": 0.012341,
     "end_time": "2022-02-21T02:34:29.540520",
     "exception": false,
     "start_time": "2022-02-21T02:34:29.528179",
     "status": "completed"
    },
    "tags": []
   },
   "source": [
    "### 3.3.3　ニューラルネットワークの行列の積"
   ]
  },
  {
   "cell_type": "code",
   "execution_count": 7,
   "id": "f00a0213",
   "metadata": {
    "execution": {
     "iopub.execute_input": "2022-02-21T02:34:29.570440Z",
     "iopub.status.busy": "2022-02-21T02:34:29.569663Z",
     "iopub.status.idle": "2022-02-21T02:34:29.579705Z",
     "shell.execute_reply": "2022-02-21T02:34:29.580364Z",
     "shell.execute_reply.started": "2022-02-21T02:33:21.013878Z"
    },
    "papermill": {
     "duration": 0.027101,
     "end_time": "2022-02-21T02:34:29.580606",
     "exception": false,
     "start_time": "2022-02-21T02:34:29.553505",
     "status": "completed"
    },
    "tags": []
   },
   "outputs": [
    {
     "name": "stdout",
     "output_type": "stream",
     "text": [
      "(2,)\n",
      "(2, 3)\n",
      "[ 5 11 17]\n"
     ]
    }
   ],
   "source": [
    "X = np.array([1, 2])\n",
    "print(X.shape)\n",
    "\n",
    "W = np.array([[1, 3, 5], [2, 4, 6]])\n",
    "print(W.shape)\n",
    "\n",
    "Y = np.dot(X, W)\n",
    "print(Y)"
   ]
  }
 ],
 "metadata": {
  "kernelspec": {
   "display_name": "Python 3",
   "language": "python",
   "name": "python3"
  },
  "language_info": {
   "codemirror_mode": {
    "name": "ipython",
    "version": 3
   },
   "file_extension": ".py",
   "mimetype": "text/x-python",
   "name": "python",
   "nbconvert_exporter": "python",
   "pygments_lexer": "ipython3",
   "version": "3.7.12"
  },
  "papermill": {
   "default_parameters": {},
   "duration": 11.523494,
   "end_time": "2022-02-21T02:34:30.508856",
   "environment_variables": {},
   "exception": null,
   "input_path": "__notebook__.ipynb",
   "output_path": "__notebook__.ipynb",
   "parameters": {},
   "start_time": "2022-02-21T02:34:18.985362",
   "version": "2.3.3"
  }
 },
 "nbformat": 4,
 "nbformat_minor": 5
}
