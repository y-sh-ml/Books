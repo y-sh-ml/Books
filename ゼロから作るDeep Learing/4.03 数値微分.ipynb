{
 "cells": [
  {
   "cell_type": "markdown",
   "id": "5ffdbaa4",
   "metadata": {
    "_cell_guid": "b1076dfc-b9ad-4769-8c92-a6c4dae69d19",
    "_uuid": "8f2839f25d086af736a60e9eeb907d3b93b6e0e5",
    "papermill": {
     "duration": 0.014806,
     "end_time": "2022-05-16T06:14:25.158445",
     "exception": false,
     "start_time": "2022-05-16T06:14:25.143639",
     "status": "completed"
    },
    "tags": []
   },
   "source": [
    "## 4.3　数値微分"
   ]
  },
  {
   "cell_type": "code",
   "execution_count": 1,
   "id": "5e149a40",
   "metadata": {
    "execution": {
     "iopub.execute_input": "2022-05-16T06:14:25.183131Z",
     "iopub.status.busy": "2022-05-16T06:14:25.182656Z",
     "iopub.status.idle": "2022-05-16T06:14:25.191632Z",
     "shell.execute_reply": "2022-05-16T06:14:25.191033Z"
    },
    "papermill": {
     "duration": 0.022631,
     "end_time": "2022-05-16T06:14:25.194194",
     "exception": false,
     "start_time": "2022-05-16T06:14:25.171563",
     "status": "completed"
    },
    "tags": []
   },
   "outputs": [],
   "source": [
    "import numpy as np\n",
    "import matplotlib.pyplot as plt"
   ]
  },
  {
   "cell_type": "markdown",
   "id": "452bb13e",
   "metadata": {
    "papermill": {
     "duration": 0.012744,
     "end_time": "2022-05-16T06:14:25.220215",
     "exception": false,
     "start_time": "2022-05-16T06:14:25.207471",
     "status": "completed"
    },
    "tags": []
   },
   "source": [
    "### 4.3.1　微分"
   ]
  },
  {
   "cell_type": "markdown",
   "id": "aeb962a6",
   "metadata": {
    "papermill": {
     "duration": 0.0141,
     "end_time": "2022-05-16T06:14:25.246649",
     "exception": false,
     "start_time": "2022-05-16T06:14:25.232549",
     "status": "completed"
    },
    "tags": []
   },
   "source": [
    "任意の関数 `f` に、任意の引数 `x` を入れると、微分をしてくれる関数である。"
   ]
  },
  {
   "cell_type": "code",
   "execution_count": 2,
   "id": "62a6a271",
   "metadata": {
    "execution": {
     "iopub.execute_input": "2022-05-16T06:14:25.266115Z",
     "iopub.status.busy": "2022-05-16T06:14:25.265854Z",
     "iopub.status.idle": "2022-05-16T06:14:25.269357Z",
     "shell.execute_reply": "2022-05-16T06:14:25.268782Z"
    },
    "papermill": {
     "duration": 0.015328,
     "end_time": "2022-05-16T06:14:25.270990",
     "exception": false,
     "start_time": "2022-05-16T06:14:25.255662",
     "status": "completed"
    },
    "tags": []
   },
   "outputs": [],
   "source": [
    "def numerical_diff(f, x):\n",
    "    h = 1e-4\n",
    "    return (f(x+h) - f(x-h)) / (2*h)"
   ]
  },
  {
   "cell_type": "markdown",
   "id": "d9ae72c7",
   "metadata": {
    "papermill": {
     "duration": 0.008653,
     "end_time": "2022-05-16T06:14:25.288459",
     "exception": false,
     "start_time": "2022-05-16T06:14:25.279806",
     "status": "completed"
    },
    "tags": []
   },
   "source": [
    "微分の誤差を減らすために、`(x+h) - x` を `(x+h) - (x-h)` にしたことで、区間が 2 倍になったため、`2h` で割っている。"
   ]
  },
  {
   "cell_type": "markdown",
   "id": "8c98eefa",
   "metadata": {
    "papermill": {
     "duration": 0.008655,
     "end_time": "2022-05-16T06:14:25.306163",
     "exception": false,
     "start_time": "2022-05-16T06:14:25.297508",
     "status": "completed"
    },
    "tags": []
   },
   "source": [
    "### 4.3.2　数値微分の例"
   ]
  },
  {
   "cell_type": "code",
   "execution_count": 3,
   "id": "b000cdf5",
   "metadata": {
    "execution": {
     "iopub.execute_input": "2022-05-16T06:14:25.325559Z",
     "iopub.status.busy": "2022-05-16T06:14:25.325059Z",
     "iopub.status.idle": "2022-05-16T06:14:25.328244Z",
     "shell.execute_reply": "2022-05-16T06:14:25.327739Z"
    },
    "papermill": {
     "duration": 0.014703,
     "end_time": "2022-05-16T06:14:25.329782",
     "exception": false,
     "start_time": "2022-05-16T06:14:25.315079",
     "status": "completed"
    },
    "tags": []
   },
   "outputs": [],
   "source": [
    "def function_1(x):\n",
    "    return 0.01*x**2 + 0.1*x"
   ]
  },
  {
   "cell_type": "code",
   "execution_count": 4,
   "id": "ee54cd0c",
   "metadata": {
    "execution": {
     "iopub.execute_input": "2022-05-16T06:14:25.349433Z",
     "iopub.status.busy": "2022-05-16T06:14:25.348874Z",
     "iopub.status.idle": "2022-05-16T06:14:25.541294Z",
     "shell.execute_reply": "2022-05-16T06:14:25.540500Z"
    },
    "papermill": {
     "duration": 0.204519,
     "end_time": "2022-05-16T06:14:25.543191",
     "exception": false,
     "start_time": "2022-05-16T06:14:25.338672",
     "status": "completed"
    },
    "tags": []
   },
   "outputs": [
    {
     "data": {
      "image/png": "[encoded data removed]",
      "text/plain": [
       "<Figure size 432x288 with 1 Axes>"
      ]
     },
     "metadata": {
      "needs_background": "light"
     },
     "output_type": "display_data"
    }
   ],
   "source": [
    "x = np.arange(0.0, 20.0, 0.1)\n",
    "y = function_1(x)\n",
    "\n",
    "plt.xlabel('x')\n",
    "plt.ylabel('f(x)')\n",
    "plt.plot(x, y)\n",
    "plt.show()"
   ]
  },
  {
   "cell_type": "code",
   "execution_count": 5,
   "id": "b8f934f8",
   "metadata": {
    "execution": {
     "iopub.execute_input": "2022-05-16T06:14:25.565061Z",
     "iopub.status.busy": "2022-05-16T06:14:25.564679Z",
     "iopub.status.idle": "2022-05-16T06:14:25.570348Z",
     "shell.execute_reply": "2022-05-16T06:14:25.569544Z"
    },
    "papermill": {
     "duration": 0.018669,
     "end_time": "2022-05-16T06:14:25.572168",
     "exception": false,
     "start_time": "2022-05-16T06:14:25.553499",
     "status": "completed"
    },
    "tags": []
   },
   "outputs": [
    {
     "name": "stdout",
     "output_type": "stream",
     "text": [
      "0.1999999999990898\n",
      "0.2999999999986347\n"
     ]
    }
   ],
   "source": [
    "print(numerical_diff(function_1, 5))\n",
    "print(numerical_diff(function_1, 10))"
   ]
  },
  {
   "cell_type": "markdown",
   "id": "7aa29c89",
   "metadata": {
    "papermill": {
     "duration": 0.009523,
     "end_time": "2022-05-16T06:14:25.591603",
     "exception": false,
     "start_time": "2022-05-16T06:14:25.582080",
     "status": "completed"
    },
    "tags": []
   },
   "source": [
    "### 4.3.3　偏微分"
   ]
  },
  {
   "cell_type": "code",
   "execution_count": 6,
   "id": "a5142f12",
   "metadata": {
    "execution": {
     "iopub.execute_input": "2022-05-16T06:14:25.612887Z",
     "iopub.status.busy": "2022-05-16T06:14:25.612257Z",
     "iopub.status.idle": "2022-05-16T06:14:25.617528Z",
     "shell.execute_reply": "2022-05-16T06:14:25.616982Z"
    },
    "papermill": {
     "duration": 0.017709,
     "end_time": "2022-05-16T06:14:25.619016",
     "exception": false,
     "start_time": "2022-05-16T06:14:25.601307",
     "status": "completed"
    },
    "tags": []
   },
   "outputs": [
    {
     "data": {
      "text/plain": [
       "6.00000000000378"
      ]
     },
     "execution_count": 6,
     "metadata": {},
     "output_type": "execute_result"
    }
   ],
   "source": [
    "def function_tmp1(x0):\n",
    "    return x0*x0 + 4.0**2.0\n",
    "\n",
    "numerical_diff(function_tmp1, 3.0)"
   ]
  },
  {
   "cell_type": "code",
   "execution_count": 7,
   "id": "a8c0e614",
   "metadata": {
    "execution": {
     "iopub.execute_input": "2022-05-16T06:14:25.640930Z",
     "iopub.status.busy": "2022-05-16T06:14:25.640386Z",
     "iopub.status.idle": "2022-05-16T06:14:25.645786Z",
     "shell.execute_reply": "2022-05-16T06:14:25.644993Z"
    },
    "papermill": {
     "duration": 0.018535,
     "end_time": "2022-05-16T06:14:25.647608",
     "exception": false,
     "start_time": "2022-05-16T06:14:25.629073",
     "status": "completed"
    },
    "tags": []
   },
   "outputs": [
    {
     "data": {
      "text/plain": [
       "7.999999999999119"
      ]
     },
     "execution_count": 7,
     "metadata": {},
     "output_type": "execute_result"
    }
   ],
   "source": [
    "def function_tmp2(x1):\n",
    "    return 3.0**2.0 + x1*x1\n",
    "\n",
    "numerical_diff(function_tmp2, 4.0)"
   ]
  }
 ],
 "metadata": {
  "kernelspec": {
   "display_name": "Python 3",
   "language": "python",
   "name": "python3"
  },
  "language_info": {
   "codemirror_mode": {
    "name": "ipython",
    "version": 3
   },
   "file_extension": ".py",
   "mimetype": "text/x-python",
   "name": "python",
   "nbconvert_exporter": "python",
   "pygments_lexer": "ipython3",
   "version": "3.7.12"
  },
  "papermill": {
   "default_parameters": {},
   "duration": 9.612911,
   "end_time": "2022-05-16T06:14:26.277176",
   "environment_variables": {},
   "exception": null,
   "input_path": "__notebook__.ipynb",
   "output_path": "__notebook__.ipynb",
   "parameters": {},
   "start_time": "2022-05-16T06:14:16.664265",
   "version": "2.3.4"
  }
 },
 "nbformat": 4,
 "nbformat_minor": 5
}
