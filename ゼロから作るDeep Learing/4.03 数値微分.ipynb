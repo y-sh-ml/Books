{
 "cells": [
  {
   "cell_type": "markdown",
   "id": "2f102f0c",
   "metadata": {
    "_cell_guid": "b1076dfc-b9ad-4769-8c92-a6c4dae69d19",
    "_uuid": "8f2839f25d086af736a60e9eeb907d3b93b6e0e5",
    "papermill": {
     "duration": 0.019033,
     "end_time": "2022-03-02T08:30:14.916695",
     "exception": false,
     "start_time": "2022-03-02T08:30:14.897662",
     "status": "completed"
    },
    "tags": []
   },
   "source": [
    "## 4.3　数値微分"
   ]
  },
  {
   "cell_type": "code",
   "execution_count": 1,
   "id": "f301b751",
   "metadata": {
    "execution": {
     "iopub.execute_input": "2022-03-02T08:30:14.959385Z",
     "iopub.status.busy": "2022-03-02T08:30:14.954944Z",
     "iopub.status.idle": "2022-03-02T08:30:14.968584Z",
     "shell.execute_reply": "2022-03-02T08:30:14.967722Z",
     "shell.execute_reply.started": "2022-03-02T08:23:44.087450Z"
    },
    "papermill": {
     "duration": 0.034703,
     "end_time": "2022-03-02T08:30:14.968759",
     "exception": false,
     "start_time": "2022-03-02T08:30:14.934056",
     "status": "completed"
    },
    "tags": []
   },
   "outputs": [],
   "source": [
    "import numpy as np\n",
    "import matplotlib.pylab as plt"
   ]
  },
  {
   "cell_type": "markdown",
   "id": "d7858317",
   "metadata": {
    "papermill": {
     "duration": 0.01749,
     "end_time": "2022-03-02T08:30:15.003683",
     "exception": false,
     "start_time": "2022-03-02T08:30:14.986193",
     "status": "completed"
    },
    "tags": []
   },
   "source": [
    "### 4.3.1　微分"
   ]
  },
  {
   "cell_type": "code",
   "execution_count": 2,
   "id": "ff8e4a81",
   "metadata": {
    "execution": {
     "iopub.execute_input": "2022-03-02T08:30:15.043900Z",
     "iopub.status.busy": "2022-03-02T08:30:15.042787Z",
     "iopub.status.idle": "2022-03-02T08:30:15.044729Z",
     "shell.execute_reply": "2022-03-02T08:30:15.045244Z",
     "shell.execute_reply.started": "2022-03-02T08:23:44.095981Z"
    },
    "papermill": {
     "duration": 0.024414,
     "end_time": "2022-03-02T08:30:15.045409",
     "exception": false,
     "start_time": "2022-03-02T08:30:15.020995",
     "status": "completed"
    },
    "tags": []
   },
   "outputs": [],
   "source": [
    "def numerical_diff(f, x):\n",
    "    h = 1e-4\n",
    "    return (f(x+h) - f(x-h)) / (2*h)"
   ]
  },
  {
   "cell_type": "markdown",
   "id": "b5aeb9cd",
   "metadata": {
    "papermill": {
     "duration": 0.016699,
     "end_time": "2022-03-02T08:30:15.079742",
     "exception": false,
     "start_time": "2022-03-02T08:30:15.063043",
     "status": "completed"
    },
    "tags": []
   },
   "source": [
    "$(x)$ ではなく $(x-h)$ との差分を用いたため、最後に 2 で割っているのではないかと考えられる。"
   ]
  },
  {
   "cell_type": "markdown",
   "id": "efcea5d9",
   "metadata": {
    "papermill": {
     "duration": 0.016714,
     "end_time": "2022-03-02T08:30:15.113703",
     "exception": false,
     "start_time": "2022-03-02T08:30:15.096989",
     "status": "completed"
    },
    "tags": []
   },
   "source": [
    "### 4.3.2　数値微分の例"
   ]
  },
  {
   "cell_type": "code",
   "execution_count": 3,
   "id": "63b05ab1",
   "metadata": {
    "execution": {
     "iopub.execute_input": "2022-03-02T08:30:15.153181Z",
     "iopub.status.busy": "2022-03-02T08:30:15.152076Z",
     "iopub.status.idle": "2022-03-02T08:30:15.153984Z",
     "shell.execute_reply": "2022-03-02T08:30:15.154464Z",
     "shell.execute_reply.started": "2022-03-02T08:23:44.107311Z"
    },
    "papermill": {
     "duration": 0.023847,
     "end_time": "2022-03-02T08:30:15.154628",
     "exception": false,
     "start_time": "2022-03-02T08:30:15.130781",
     "status": "completed"
    },
    "tags": []
   },
   "outputs": [],
   "source": [
    "def function_1(x):\n",
    "    return 0.01*x**2 + 0.1*x"
   ]
  },
  {
   "cell_type": "markdown",
   "id": "590078cc",
   "metadata": {
    "papermill": {
     "duration": 0.016844,
     "end_time": "2022-03-02T08:30:15.189155",
     "exception": false,
     "start_time": "2022-03-02T08:30:15.172311",
     "status": "completed"
    },
    "tags": []
   },
   "source": [
    "$ y = 0.01x^2 + 0.1x$"
   ]
  },
  {
   "cell_type": "code",
   "execution_count": 4,
   "id": "21c5f5ad",
   "metadata": {
    "execution": {
     "iopub.execute_input": "2022-03-02T08:30:15.233649Z",
     "iopub.status.busy": "2022-03-02T08:30:15.232991Z",
     "iopub.status.idle": "2022-03-02T08:30:15.447377Z",
     "shell.execute_reply": "2022-03-02T08:30:15.447886Z",
     "shell.execute_reply.started": "2022-03-02T08:23:44.118538Z"
    },
    "papermill": {
     "duration": 0.241749,
     "end_time": "2022-03-02T08:30:15.448062",
     "exception": false,
     "start_time": "2022-03-02T08:30:15.206313",
     "status": "completed"
    },
    "tags": []
   },
   "outputs": [
    {
     "data": {
      "image/png": "[encoded data removed]",
      "text/plain": [
       "<Figure size 432x288 with 1 Axes>"
      ]
     },
     "metadata": {
      "needs_background": "light"
     },
     "output_type": "display_data"
    }
   ],
   "source": [
    "x = np.arange(0.0, 20.0, 0.1)\n",
    "y = function_1(x)\n",
    "plt.xlabel('x')\n",
    "plt.ylabel('f(x)')\n",
    "plt.plot(x, y)\n",
    "plt.show()"
   ]
  },
  {
   "cell_type": "code",
   "execution_count": 5,
   "id": "a95b852d",
   "metadata": {
    "execution": {
     "iopub.execute_input": "2022-03-02T08:30:15.490413Z",
     "iopub.status.busy": "2022-03-02T08:30:15.489648Z",
     "iopub.status.idle": "2022-03-02T08:30:15.492609Z",
     "shell.execute_reply": "2022-03-02T08:30:15.493150Z",
     "shell.execute_reply.started": "2022-03-02T08:23:44.320285Z"
    },
    "papermill": {
     "duration": 0.026915,
     "end_time": "2022-03-02T08:30:15.493319",
     "exception": false,
     "start_time": "2022-03-02T08:30:15.466404",
     "status": "completed"
    },
    "tags": []
   },
   "outputs": [
    {
     "name": "stdout",
     "output_type": "stream",
     "text": [
      "0.1999999999990898\n",
      "0.2999999999986347\n"
     ]
    }
   ],
   "source": [
    "print(numerical_diff(function_1, 5))\n",
    "print(numerical_diff(function_1, 10))"
   ]
  },
  {
   "cell_type": "code",
   "execution_count": 6,
   "id": "91bb621c",
   "metadata": {
    "execution": {
     "iopub.execute_input": "2022-03-02T08:30:15.536428Z",
     "iopub.status.busy": "2022-03-02T08:30:15.535327Z",
     "iopub.status.idle": "2022-03-02T08:30:15.538281Z",
     "shell.execute_reply": "2022-03-02T08:30:15.538803Z",
     "shell.execute_reply.started": "2022-03-02T08:23:44.326589Z"
    },
    "papermill": {
     "duration": 0.027231,
     "end_time": "2022-03-02T08:30:15.539009",
     "exception": false,
     "start_time": "2022-03-02T08:30:15.511778",
     "status": "completed"
    },
    "tags": []
   },
   "outputs": [],
   "source": [
    "def tangent_line(f, x):\n",
    "    d = numerical_diff(f, x)\n",
    "    print(d)\n",
    "    y = f(x) - d*x\n",
    "    return lambda t: d*t + y"
   ]
  },
  {
   "cell_type": "code",
   "execution_count": 7,
   "id": "ee4e5bab",
   "metadata": {
    "execution": {
     "iopub.execute_input": "2022-03-02T08:30:15.582315Z",
     "iopub.status.busy": "2022-03-02T08:30:15.581588Z",
     "iopub.status.idle": "2022-03-02T08:30:15.584611Z",
     "shell.execute_reply": "2022-03-02T08:30:15.585151Z",
     "shell.execute_reply.started": "2022-03-02T08:23:44.338782Z"
    },
    "papermill": {
     "duration": 0.027403,
     "end_time": "2022-03-02T08:30:15.585322",
     "exception": false,
     "start_time": "2022-03-02T08:30:15.557919",
     "status": "completed"
    },
    "tags": []
   },
   "outputs": [
    {
     "name": "stdout",
     "output_type": "stream",
     "text": [
      "0.1999999999990898\n"
     ]
    }
   ],
   "source": [
    "tf = tangent_line(function_1, 5)\n",
    "y2 = tf(x)"
   ]
  },
  {
   "cell_type": "code",
   "execution_count": 8,
   "id": "25816cea",
   "metadata": {
    "execution": {
     "iopub.execute_input": "2022-03-02T08:30:15.627774Z",
     "iopub.status.busy": "2022-03-02T08:30:15.627102Z",
     "iopub.status.idle": "2022-03-02T08:30:15.934472Z",
     "shell.execute_reply": "2022-03-02T08:30:15.933829Z",
     "shell.execute_reply.started": "2022-03-02T08:23:44.350227Z"
    },
    "papermill": {
     "duration": 0.330395,
     "end_time": "2022-03-02T08:30:15.934621",
     "exception": false,
     "start_time": "2022-03-02T08:30:15.604226",
     "status": "completed"
    },
    "tags": []
   },
   "outputs": [
    {
     "data": {
      "image/png": "[encoded data removed]",
      "text/plain": [
       "<Figure size 432x288 with 1 Axes>"
      ]
     },
     "metadata": {
      "needs_background": "light"
     },
     "output_type": "display_data"
    }
   ],
   "source": [
    "plt.plot(x, y)\n",
    "plt.plot(x, y2)\n",
    "plt.show()"
   ]
  },
  {
   "cell_type": "code",
   "execution_count": 9,
   "id": "73f1211d",
   "metadata": {
    "execution": {
     "iopub.execute_input": "2022-03-02T08:30:15.985952Z",
     "iopub.status.busy": "2022-03-02T08:30:15.985269Z",
     "iopub.status.idle": "2022-03-02T08:30:15.990191Z",
     "shell.execute_reply": "2022-03-02T08:30:15.990779Z",
     "shell.execute_reply.started": "2022-03-02T08:23:44.544494Z"
    },
    "papermill": {
     "duration": 0.028231,
     "end_time": "2022-03-02T08:30:15.990967",
     "exception": false,
     "start_time": "2022-03-02T08:30:15.962736",
     "status": "completed"
    },
    "tags": []
   },
   "outputs": [
    {
     "data": {
      "text/plain": [
       "6"
      ]
     },
     "execution_count": 9,
     "metadata": {},
     "output_type": "execute_result"
    }
   ],
   "source": [
    "add_lambda = lambda a, b=1: a + b\n",
    "add_lambda(5)"
   ]
  },
  {
   "cell_type": "markdown",
   "id": "32a0545d",
   "metadata": {
    "execution": {
     "iopub.execute_input": "2022-03-02T08:24:44.066155Z",
     "iopub.status.busy": "2022-03-02T08:24:44.065839Z",
     "iopub.status.idle": "2022-03-02T08:24:44.069669Z",
     "shell.execute_reply": "2022-03-02T08:24:44.069076Z",
     "shell.execute_reply.started": "2022-03-02T08:24:44.066124Z"
    },
    "papermill": {
     "duration": 0.019768,
     "end_time": "2022-03-02T08:30:16.030926",
     "exception": false,
     "start_time": "2022-03-02T08:30:16.011158",
     "status": "completed"
    },
    "tags": []
   },
   "source": [
    "### 4.3.3　偏微分"
   ]
  },
  {
   "cell_type": "code",
   "execution_count": 10,
   "id": "43369b70",
   "metadata": {
    "execution": {
     "iopub.execute_input": "2022-03-02T08:30:16.076591Z",
     "iopub.status.busy": "2022-03-02T08:30:16.075932Z",
     "iopub.status.idle": "2022-03-02T08:30:16.077311Z",
     "shell.execute_reply": "2022-03-02T08:30:16.077923Z",
     "shell.execute_reply.started": "2022-03-02T08:25:29.770027Z"
    },
    "papermill": {
     "duration": 0.027055,
     "end_time": "2022-03-02T08:30:16.078089",
     "exception": false,
     "start_time": "2022-03-02T08:30:16.051034",
     "status": "completed"
    },
    "tags": []
   },
   "outputs": [],
   "source": [
    "def function_2(x):\n",
    "    return x[0]**2 + x[1]**2"
   ]
  },
  {
   "cell_type": "markdown",
   "id": "ee32a8fe",
   "metadata": {
    "papermill": {
     "duration": 0.019835,
     "end_time": "2022-03-02T08:30:16.118123",
     "exception": false,
     "start_time": "2022-03-02T08:30:16.098288",
     "status": "completed"
    },
    "tags": []
   },
   "source": [
    "片方を定数として計算している。"
   ]
  },
  {
   "cell_type": "code",
   "execution_count": 11,
   "id": "787fa9a4",
   "metadata": {
    "execution": {
     "iopub.execute_input": "2022-03-02T08:30:16.161421Z",
     "iopub.status.busy": "2022-03-02T08:30:16.160705Z",
     "iopub.status.idle": "2022-03-02T08:30:16.166161Z",
     "shell.execute_reply": "2022-03-02T08:30:16.166706Z",
     "shell.execute_reply.started": "2022-03-02T08:27:59.429319Z"
    },
    "papermill": {
     "duration": 0.028668,
     "end_time": "2022-03-02T08:30:16.166895",
     "exception": false,
     "start_time": "2022-03-02T08:30:16.138227",
     "status": "completed"
    },
    "tags": []
   },
   "outputs": [
    {
     "data": {
      "text/plain": [
       "6.00000000000378"
      ]
     },
     "execution_count": 11,
     "metadata": {},
     "output_type": "execute_result"
    }
   ],
   "source": [
    "def function_tmp1(x0):\n",
    "    return x0*x0 + 4.0**2.0\n",
    "\n",
    "numerical_diff(function_tmp1, 3.0)"
   ]
  },
  {
   "cell_type": "code",
   "execution_count": 12,
   "id": "b284993f",
   "metadata": {
    "execution": {
     "iopub.execute_input": "2022-03-02T08:30:16.212747Z",
     "iopub.status.busy": "2022-03-02T08:30:16.212100Z",
     "iopub.status.idle": "2022-03-02T08:30:16.217154Z",
     "shell.execute_reply": "2022-03-02T08:30:16.217744Z",
     "shell.execute_reply.started": "2022-03-02T08:29:08.177580Z"
    },
    "papermill": {
     "duration": 0.030374,
     "end_time": "2022-03-02T08:30:16.217935",
     "exception": false,
     "start_time": "2022-03-02T08:30:16.187561",
     "status": "completed"
    },
    "tags": []
   },
   "outputs": [
    {
     "data": {
      "text/plain": [
       "7.999999999999119"
      ]
     },
     "execution_count": 12,
     "metadata": {},
     "output_type": "execute_result"
    }
   ],
   "source": [
    "def function_tmp2(x1):\n",
    "    return 3.0**2.0 + x1*x1\n",
    "\n",
    "numerical_diff(function_tmp2, 4.0)"
   ]
  }
 ],
 "metadata": {
  "kernelspec": {
   "display_name": "Python 3",
   "language": "python",
   "name": "python3"
  },
  "language_info": {
   "codemirror_mode": {
    "name": "ipython",
    "version": 3
   },
   "file_extension": ".py",
   "mimetype": "text/x-python",
   "name": "python",
   "nbconvert_exporter": "python",
   "pygments_lexer": "ipython3",
   "version": "3.7.12"
  },
  "papermill": {
   "default_parameters": {},
   "duration": 11.681792,
   "end_time": "2022-03-02T08:30:16.847876",
   "environment_variables": {},
   "exception": null,
   "input_path": "__notebook__.ipynb",
   "output_path": "__notebook__.ipynb",
   "parameters": {},
   "start_time": "2022-03-02T08:30:05.166084",
   "version": "2.3.3"
  }
 },
 "nbformat": 4,
 "nbformat_minor": 5
}
