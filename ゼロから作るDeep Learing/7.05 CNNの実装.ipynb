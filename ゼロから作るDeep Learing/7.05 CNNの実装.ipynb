{
 "cells": [
  {
   "cell_type": "markdown",
   "id": "9343fa5c",
   "metadata": {
    "_cell_guid": "b1076dfc-b9ad-4769-8c92-a6c4dae69d19",
    "_uuid": "8f2839f25d086af736a60e9eeb907d3b93b6e0e5",
    "papermill": {
     "duration": 0.003613,
     "end_time": "2022-03-22T05:16:15.654050",
     "exception": false,
     "start_time": "2022-03-22T05:16:15.650437",
     "status": "completed"
    },
    "tags": []
   },
   "source": [
    "# 7.5　CNNの実装"
   ]
  },
  {
   "cell_type": "code",
   "execution_count": 1,
   "id": "8b77d47d",
   "metadata": {
    "execution": {
     "iopub.execute_input": "2022-03-22T05:16:15.663944Z",
     "iopub.status.busy": "2022-03-22T05:16:15.662906Z",
     "iopub.status.idle": "2022-03-22T05:16:15.681390Z",
     "shell.execute_reply": "2022-03-22T05:16:15.681859Z",
     "shell.execute_reply.started": "2022-03-22T05:11:26.529523Z"
    },
    "papermill": {
     "duration": 0.02502,
     "end_time": "2022-03-22T05:16:15.682090",
     "exception": false,
     "start_time": "2022-03-22T05:16:15.657070",
     "status": "completed"
    },
    "tags": []
   },
   "outputs": [],
   "source": [
    "class SimpleNet:\n",
    "    def __init__(self, input_dim=(1, 28, 28),\n",
    "                 conv_param={'filter_num': 30, 'filter_size': 5, 'pad': 0, 'stride': 1},\n",
    "                 hidden_size=100, output_size=10, weight_init_std=0.01):\n",
    "        filter_num = conv_param['filter_num']\n",
    "        filter_size = conv_param['filter_size']\n",
    "        filter_pad = conv_param['pad']\n",
    "        filter_stride = conv_param['stride']\n",
    "        input_size = input_dim[1]\n",
    "        conv_output_size = (input_size - filter_size + 2*filter_pad) / filter_stride + 1\n",
    "        pool_output_size = int(filter_num * (conv_output_size/2) * (conv_output_size/2))\n",
    "        \n",
    "        self.params = {}\n",
    "        self.params['W1'] = weight_init_std * np.random.randn(filter_num, input_dim[0], filter_size, filter_size)\n",
    "        self.parmas['b1'] = np.zeros(filter_num)\n",
    "        self.params['W2'] = weight_init_std * np.random.randn(pool_output_size, hidden_size)\n",
    "        self.params['b2'] = np.zeros(hidden_size)\n",
    "        self.params['b3'] = np.zeros(output_size)\n",
    "        \n",
    "        self.layers = OrderdDict()\n",
    "        self.layers['Conv1'] = Convolution(self.params['W1'], self_params['b1'], conv_param['stride'], conv_param['pad'])\n",
    "        self.layers['Relu1'] = Relu()\n",
    "        self.layers['Pool1'] = Pooling(pool_h=2, pool_w=2, stride=2)\n",
    "        self.layers['Affine1'] = Affine(self.params['W2'], self.params['b2'])\n",
    "        self.layers['Relu2'] = Relu()\n",
    "        self.layer['Affine2'] = Affine(self.params['W3'], self.params['b3'])\n",
    "        \n",
    "        self.last_layer = SoftmaxWithLoss()\n",
    "        \n",
    "        def predict(self, x):\n",
    "            for layer in self.layers.values():\n",
    "                x = layer.forward(x)\n",
    "            return x\n",
    "        \n",
    "        def loss(self, x, t):\n",
    "            y = self.predict(x)\n",
    "            return self.lastlayer.forward(y, t)\n",
    "        \n",
    "        def gradient(self, x, t):\n",
    "            self.loss(x, t)\n",
    "            \n",
    "            dout = 1\n",
    "            dout = self.lastlayer.backward(dout)\n",
    "            \n",
    "            layers = list(self.layers.values())\n",
    "            layers.reverse()\n",
    "            for layer in layers:\n",
    "                dout = layer.backward(dout)\n",
    "                \n",
    "            grads = {}\n",
    "            grads['W1'] = self.layers['Conv1'].dW\n",
    "            grads['b1'] = self.layers['Conv1'].db\n",
    "            grads['W2'] = self.layers['Affine1'].dW\n",
    "            grads['b2'] = self.layers['Affine1'].db\n",
    "            grads['W3'] = self.layers['Affine2'].dW\n",
    "            grads['b3'] = self.layers['Affine2'].db\n",
    "            \n",
    "            return grads"
   ]
  }
 ],
 "metadata": {
  "kernelspec": {
   "display_name": "Python 3",
   "language": "python",
   "name": "python3"
  },
  "language_info": {
   "codemirror_mode": {
    "name": "ipython",
    "version": 3
   },
   "file_extension": ".py",
   "mimetype": "text/x-python",
   "name": "python",
   "nbconvert_exporter": "python",
   "pygments_lexer": "ipython3",
   "version": "3.7.12"
  },
  "papermill": {
   "default_parameters": {},
   "duration": 8.734101,
   "end_time": "2022-03-22T05:16:16.191295",
   "environment_variables": {},
   "exception": null,
   "input_path": "__notebook__.ipynb",
   "output_path": "__notebook__.ipynb",
   "parameters": {},
   "start_time": "2022-03-22T05:16:07.457194",
   "version": "2.3.3"
  }
 },
 "nbformat": 4,
 "nbformat_minor": 5
}
