{
 "cells": [
  {
   "cell_type": "markdown",
   "id": "3371423e",
   "metadata": {
    "_cell_guid": "b1076dfc-b9ad-4769-8c92-a6c4dae69d19",
    "_uuid": "8f2839f25d086af736a60e9eeb907d3b93b6e0e5",
    "papermill": {
     "duration": 0.013585,
     "end_time": "2022-03-09T01:23:35.931729",
     "exception": false,
     "start_time": "2022-03-09T01:23:35.918144",
     "status": "completed"
    },
    "tags": []
   },
   "source": [
    "## 5.6　Affine／Softmax レイヤの実装"
   ]
  },
  {
   "cell_type": "code",
   "execution_count": 1,
   "id": "b2a62afe",
   "metadata": {
    "execution": {
     "iopub.execute_input": "2022-03-09T01:23:35.962988Z",
     "iopub.status.busy": "2022-03-09T01:23:35.961216Z",
     "iopub.status.idle": "2022-03-09T01:23:35.971480Z",
     "shell.execute_reply": "2022-03-09T01:23:35.972035Z",
     "shell.execute_reply.started": "2022-03-09T01:03:22.675645Z"
    },
    "papermill": {
     "duration": 0.028258,
     "end_time": "2022-03-09T01:23:35.972558",
     "exception": false,
     "start_time": "2022-03-09T01:23:35.944300",
     "status": "completed"
    },
    "tags": []
   },
   "outputs": [],
   "source": [
    "import numpy as np"
   ]
  },
  {
   "cell_type": "markdown",
   "id": "c4217ba0",
   "metadata": {
    "papermill": {
     "duration": 0.012257,
     "end_time": "2022-03-09T01:23:35.997437",
     "exception": false,
     "start_time": "2022-03-09T01:23:35.985180",
     "status": "completed"
    },
    "tags": []
   },
   "source": [
    "### 5.6.1　Affine レイヤ"
   ]
  },
  {
   "cell_type": "markdown",
   "id": "1d776523",
   "metadata": {
    "papermill": {
     "duration": 0.011992,
     "end_time": "2022-03-09T01:23:36.021881",
     "exception": false,
     "start_time": "2022-03-09T01:23:36.009889",
     "status": "completed"
    },
    "tags": []
   },
   "source": [
    "ニューラルネットワークの順伝播で行う行列の積は、幾何学の分野では「**アフィン変換**」と呼ばれている。"
   ]
  },
  {
   "cell_type": "code",
   "execution_count": 2,
   "id": "95c1973b",
   "metadata": {
    "execution": {
     "iopub.execute_input": "2022-03-09T01:23:36.052062Z",
     "iopub.status.busy": "2022-03-09T01:23:36.051032Z",
     "iopub.status.idle": "2022-03-09T01:23:36.057156Z",
     "shell.execute_reply": "2022-03-09T01:23:36.057766Z",
     "shell.execute_reply.started": "2022-03-09T01:03:22.711039Z"
    },
    "papermill": {
     "duration": 0.023024,
     "end_time": "2022-03-09T01:23:36.057930",
     "exception": false,
     "start_time": "2022-03-09T01:23:36.034906",
     "status": "completed"
    },
    "tags": []
   },
   "outputs": [
    {
     "name": "stdout",
     "output_type": "stream",
     "text": [
      "(2,)\n",
      "(2, 3)\n",
      "(3,)\n"
     ]
    }
   ],
   "source": [
    "X = np.random.rand(2)\n",
    "W = np.random.rand(2, 3)\n",
    "B = np.random.rand(3)\n",
    "Y = np.dot(X, W) + B\n",
    "\n",
    "print(X.shape)\n",
    "print(W.shape)\n",
    "print(B.shape)"
   ]
  },
  {
   "cell_type": "markdown",
   "id": "666e6b6c",
   "metadata": {
    "execution": {
     "iopub.execute_input": "2022-03-07T08:19:29.080512Z",
     "iopub.status.busy": "2022-03-07T08:19:29.079875Z",
     "iopub.status.idle": "2022-03-07T08:19:29.085422Z",
     "shell.execute_reply": "2022-03-07T08:19:29.084375Z",
     "shell.execute_reply.started": "2022-03-07T08:19:29.080475Z"
    },
    "papermill": {
     "duration": 0.01245,
     "end_time": "2022-03-09T01:23:36.083714",
     "exception": false,
     "start_time": "2022-03-09T01:23:36.071264",
     "status": "completed"
    },
    "tags": []
   },
   "source": [
    "$ (0 \\times 2) \\times (2 \\times 3) $ で内側が揃っているので、外側の $ (0 \\times 3) $ が計算結果となる。"
   ]
  },
  {
   "cell_type": "markdown",
   "id": "dbc737a3",
   "metadata": {
    "papermill": {
     "duration": 0.012476,
     "end_time": "2022-03-09T01:23:36.109010",
     "exception": false,
     "start_time": "2022-03-09T01:23:36.096534",
     "status": "completed"
    },
    "tags": []
   },
   "source": [
    "### 5.6.2　バッチ版 Affine レイヤ"
   ]
  },
  {
   "cell_type": "code",
   "execution_count": 3,
   "id": "d426e331",
   "metadata": {
    "execution": {
     "iopub.execute_input": "2022-03-09T01:23:36.140738Z",
     "iopub.status.busy": "2022-03-09T01:23:36.140005Z",
     "iopub.status.idle": "2022-03-09T01:23:36.142862Z",
     "shell.execute_reply": "2022-03-09T01:23:36.143335Z",
     "shell.execute_reply.started": "2022-03-09T01:04:53.749813Z"
    },
    "papermill": {
     "duration": 0.021634,
     "end_time": "2022-03-09T01:23:36.143517",
     "exception": false,
     "start_time": "2022-03-09T01:23:36.121883",
     "status": "completed"
    },
    "tags": []
   },
   "outputs": [
    {
     "name": "stdout",
     "output_type": "stream",
     "text": [
      "[[ 0  0  0]\n",
      " [10 10 10]]\n",
      "[[ 1  2  3]\n",
      " [11 12 13]]\n"
     ]
    }
   ],
   "source": [
    "X_dot_W = np.array([[0, 0, 0], [10, 10, 10]])\n",
    "B = np.array([1, 2, 3])\n",
    "\n",
    "print(X_dot_W)\n",
    "print((X_dot_W + B))"
   ]
  },
  {
   "cell_type": "code",
   "execution_count": 4,
   "id": "1e4aa6bf",
   "metadata": {
    "execution": {
     "iopub.execute_input": "2022-03-09T01:23:36.178093Z",
     "iopub.status.busy": "2022-03-09T01:23:36.173623Z",
     "iopub.status.idle": "2022-03-09T01:23:36.181341Z",
     "shell.execute_reply": "2022-03-09T01:23:36.180834Z",
     "shell.execute_reply.started": "2022-03-09T01:07:11.076371Z"
    },
    "papermill": {
     "duration": 0.024826,
     "end_time": "2022-03-09T01:23:36.181515",
     "exception": false,
     "start_time": "2022-03-09T01:23:36.156689",
     "status": "completed"
    },
    "tags": []
   },
   "outputs": [
    {
     "data": {
      "text/plain": [
       "array([[1, 2, 3],\n",
       "       [4, 5, 6]])"
      ]
     },
     "execution_count": 4,
     "metadata": {},
     "output_type": "execute_result"
    }
   ],
   "source": [
    "dY = np.array([[1, 2, 3], [4, 5, 6]])\n",
    "dY"
   ]
  },
  {
   "cell_type": "code",
   "execution_count": 5,
   "id": "17015713",
   "metadata": {
    "execution": {
     "iopub.execute_input": "2022-03-09T01:23:36.214559Z",
     "iopub.status.busy": "2022-03-09T01:23:36.212092Z",
     "iopub.status.idle": "2022-03-09T01:23:36.218404Z",
     "shell.execute_reply": "2022-03-09T01:23:36.217858Z",
     "shell.execute_reply.started": "2022-03-09T01:07:12.071045Z"
    },
    "papermill": {
     "duration": 0.022951,
     "end_time": "2022-03-09T01:23:36.218564",
     "exception": false,
     "start_time": "2022-03-09T01:23:36.195613",
     "status": "completed"
    },
    "tags": []
   },
   "outputs": [
    {
     "data": {
      "text/plain": [
       "array([5, 7, 9])"
      ]
     },
     "execution_count": 5,
     "metadata": {},
     "output_type": "execute_result"
    }
   ],
   "source": [
    "dB = np.sum(dY, axis=0)\n",
    "dB"
   ]
  },
  {
   "cell_type": "markdown",
   "id": "29d699d6",
   "metadata": {
    "papermill": {
     "duration": 0.013595,
     "end_time": "2022-03-09T01:23:36.246435",
     "exception": false,
     "start_time": "2022-03-09T01:23:36.232840",
     "status": "completed"
    },
    "tags": []
   },
   "source": [
    "### 5.6.3　Softmax-with-Loss レイヤ"
   ]
  },
  {
   "cell_type": "markdown",
   "id": "1b7061bd",
   "metadata": {
    "papermill": {
     "duration": 0.01366,
     "end_time": "2022-03-09T01:23:36.274067",
     "exception": false,
     "start_time": "2022-03-09T01:23:36.260407",
     "status": "completed"
    },
    "tags": []
   },
   "source": [
    "ニューラルネットの学習時には Softmax レイヤは必要になるが、推論のときには必要でない。<br>\n",
    "また、ニューラルネットワークの Softmax レイヤの逆伝播は、出力と教師ラベルの誤差を前レイヤに伝えていく。"
   ]
  },
  {
   "cell_type": "code",
   "execution_count": 6,
   "id": "4176cd64",
   "metadata": {
    "execution": {
     "iopub.execute_input": "2022-03-09T01:23:36.311392Z",
     "iopub.status.busy": "2022-03-09T01:23:36.310739Z",
     "iopub.status.idle": "2022-03-09T01:23:36.313551Z",
     "shell.execute_reply": "2022-03-09T01:23:36.313044Z",
     "shell.execute_reply.started": "2022-03-09T01:20:59.350917Z"
    },
    "papermill": {
     "duration": 0.023813,
     "end_time": "2022-03-09T01:23:36.313692",
     "exception": false,
     "start_time": "2022-03-09T01:23:36.289879",
     "status": "completed"
    },
    "tags": []
   },
   "outputs": [],
   "source": [
    "class SoftmaxWithLoss:\n",
    "    def __init__(self):\n",
    "        self.loss = None\n",
    "        self.y = None\n",
    "        self.t = None\n",
    "        \n",
    "    def forward(self, x, t):\n",
    "        self.t = t\n",
    "        self.y = softmax()\n",
    "        self.loss = cross_entropy_error(self.y, self.t)\n",
    "        \n",
    "        return self.loss\n",
    "    \n",
    "    def backward(self, dout=1):\n",
    "        batch_size = self.t.shape[0]\n",
    "        dx = (self.y - self.t) / batch_size\n",
    "        \n",
    "        return dx"
   ]
  },
  {
   "cell_type": "code",
   "execution_count": 7,
   "id": "1552a45c",
   "metadata": {
    "execution": {
     "iopub.execute_input": "2022-03-09T01:23:36.349139Z",
     "iopub.status.busy": "2022-03-09T01:23:36.348443Z",
     "iopub.status.idle": "2022-03-09T01:23:36.350011Z",
     "shell.execute_reply": "2022-03-09T01:23:36.350648Z",
     "shell.execute_reply.started": "2022-03-09T01:22:47.159627Z"
    },
    "papermill": {
     "duration": 0.023022,
     "end_time": "2022-03-09T01:23:36.350816",
     "exception": false,
     "start_time": "2022-03-09T01:23:36.327794",
     "status": "completed"
    },
    "tags": []
   },
   "outputs": [],
   "source": [
    "def softmax(a):\n",
    "    exp_a = np.exp(a)\n",
    "    sum_exp_a = np.sum(exp_a)\n",
    "    y = exp_a / sum_exp_a\n",
    "    \n",
    "    return y\n",
    "\n",
    "def cross_entropy_error(y, t):\n",
    "    if y.ndim == 1:\n",
    "        t = t.reshape(1, t.size)\n",
    "        y = y.reshape(1, y.size)\n",
    "        \n",
    "    batch_size = y.shape[0]\n",
    "    return -np.sum(t * np.log(y[np.arange(batch_size), t] + 1e-7)) / batch_size"
   ]
  }
 ],
 "metadata": {
  "kernelspec": {
   "display_name": "Python 3",
   "language": "python",
   "name": "python3"
  },
  "language_info": {
   "codemirror_mode": {
    "name": "ipython",
    "version": 3
   },
   "file_extension": ".py",
   "mimetype": "text/x-python",
   "name": "python",
   "nbconvert_exporter": "python",
   "pygments_lexer": "ipython3",
   "version": "3.7.12"
  },
  "papermill": {
   "default_parameters": {},
   "duration": 11.099828,
   "end_time": "2022-03-09T01:23:36.974580",
   "environment_variables": {},
   "exception": null,
   "input_path": "__notebook__.ipynb",
   "output_path": "__notebook__.ipynb",
   "parameters": {},
   "start_time": "2022-03-09T01:23:25.874752",
   "version": "2.3.3"
  }
 },
 "nbformat": 4,
 "nbformat_minor": 5
}
