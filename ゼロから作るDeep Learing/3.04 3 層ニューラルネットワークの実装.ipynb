{
 "cells": [
  {
   "cell_type": "markdown",
   "id": "0ed836c3",
   "metadata": {
    "_cell_guid": "b1076dfc-b9ad-4769-8c92-a6c4dae69d19",
    "_uuid": "8f2839f25d086af736a60e9eeb907d3b93b6e0e5",
    "papermill": {
     "duration": 0.021619,
     "end_time": "2022-05-13T02:35:03.907641",
     "exception": false,
     "start_time": "2022-05-13T02:35:03.886022",
     "status": "completed"
    },
    "tags": []
   },
   "source": [
    "## 3.4　3層ニューラルネットワークの実装"
   ]
  },
  {
   "cell_type": "code",
   "execution_count": 1,
   "id": "24ac212e",
   "metadata": {
    "execution": {
     "iopub.execute_input": "2022-05-13T02:35:03.949722Z",
     "iopub.status.busy": "2022-05-13T02:35:03.949247Z",
     "iopub.status.idle": "2022-05-13T02:35:03.960421Z",
     "shell.execute_reply": "2022-05-13T02:35:03.959828Z"
    },
    "papermill": {
     "duration": 0.03456,
     "end_time": "2022-05-13T02:35:03.962345",
     "exception": false,
     "start_time": "2022-05-13T02:35:03.927785",
     "status": "completed"
    },
    "tags": []
   },
   "outputs": [],
   "source": [
    "import numpy as np"
   ]
  },
  {
   "cell_type": "markdown",
   "id": "a0ed413d",
   "metadata": {
    "papermill": {
     "duration": 0.019445,
     "end_time": "2022-05-13T02:35:04.001815",
     "exception": false,
     "start_time": "2022-05-13T02:35:03.982370",
     "status": "completed"
    },
    "tags": []
   },
   "source": [
    "### 3.4.2 各層における信号伝達の実装"
   ]
  },
  {
   "cell_type": "markdown",
   "id": "39f37c84",
   "metadata": {
    "papermill": {
     "duration": 0.019399,
     "end_time": "2022-05-13T02:35:04.040981",
     "exception": false,
     "start_time": "2022-05-13T02:35:04.021582",
     "status": "completed"
    },
    "tags": []
   },
   "source": [
    "#### 第 0 層から第 1 層"
   ]
  },
  {
   "cell_type": "markdown",
   "id": "baf6d494",
   "metadata": {
    "papermill": {
     "duration": 0.019303,
     "end_time": "2022-05-13T02:35:04.079998",
     "exception": false,
     "start_time": "2022-05-13T02:35:04.060695",
     "status": "completed"
    },
    "tags": []
   },
   "source": [
    "`W1` には、第 0 層から第 1 層までの 6 つの重みが格納されている。"
   ]
  },
  {
   "cell_type": "code",
   "execution_count": 2,
   "id": "d66bf407",
   "metadata": {
    "execution": {
     "iopub.execute_input": "2022-05-13T02:35:04.120638Z",
     "iopub.status.busy": "2022-05-13T02:35:04.120330Z",
     "iopub.status.idle": "2022-05-13T02:35:04.126053Z",
     "shell.execute_reply": "2022-05-13T02:35:04.125486Z"
    },
    "papermill": {
     "duration": 0.029349,
     "end_time": "2022-05-13T02:35:04.128968",
     "exception": false,
     "start_time": "2022-05-13T02:35:04.099619",
     "status": "completed"
    },
    "tags": []
   },
   "outputs": [
    {
     "name": "stdout",
     "output_type": "stream",
     "text": [
      "(2,)\n",
      "(2, 3)\n",
      "(3,)\n"
     ]
    }
   ],
   "source": [
    "X = np.array([1.0, 0.5])\n",
    "W1 = np.array([[0.1, 0.3, 0.5], [0.2, 0.4, 0.6]])\n",
    "B1 = np.array([0.1, 0.2, 0.3])\n",
    "\n",
    "print(X.shape)\n",
    "print(W1.shape)\n",
    "print(B1.shape)"
   ]
  },
  {
   "cell_type": "markdown",
   "id": "e2a48ee4",
   "metadata": {
    "papermill": {
     "duration": 0.019872,
     "end_time": "2022-05-13T02:35:04.170696",
     "exception": false,
     "start_time": "2022-05-13T02:35:04.150824",
     "status": "completed"
    },
    "tags": []
   },
   "source": [
    "Python において、1 次元の場合は、列の数と判定される。"
   ]
  },
  {
   "cell_type": "markdown",
   "id": "50323331",
   "metadata": {
    "papermill": {
     "duration": 0.01972,
     "end_time": "2022-05-13T02:35:04.210549",
     "exception": false,
     "start_time": "2022-05-13T02:35:04.190829",
     "status": "completed"
    },
    "tags": []
   },
   "source": [
    "第 1 層目の入力 `A1` の各要素 `a1`, `a2`, `a3` を求める。"
   ]
  },
  {
   "cell_type": "code",
   "execution_count": 3,
   "id": "b9bdb9b6",
   "metadata": {
    "execution": {
     "iopub.execute_input": "2022-05-13T02:35:04.254371Z",
     "iopub.status.busy": "2022-05-13T02:35:04.254107Z",
     "iopub.status.idle": "2022-05-13T02:35:04.260452Z",
     "shell.execute_reply": "2022-05-13T02:35:04.259103Z"
    },
    "papermill": {
     "duration": 0.030322,
     "end_time": "2022-05-13T02:35:04.262899",
     "exception": false,
     "start_time": "2022-05-13T02:35:04.232577",
     "status": "completed"
    },
    "tags": []
   },
   "outputs": [
    {
     "name": "stdout",
     "output_type": "stream",
     "text": [
      "(3,)\n",
      "[0.3 0.7 1.1]\n"
     ]
    }
   ],
   "source": [
    "A1 = np.dot(X, W1) + B1\n",
    "print(A1.shape)\n",
    "print(A1)"
   ]
  },
  {
   "cell_type": "code",
   "execution_count": 4,
   "id": "8be12dea",
   "metadata": {
    "execution": {
     "iopub.execute_input": "2022-05-13T02:35:04.306889Z",
     "iopub.status.busy": "2022-05-13T02:35:04.306320Z",
     "iopub.status.idle": "2022-05-13T02:35:04.310588Z",
     "shell.execute_reply": "2022-05-13T02:35:04.310002Z"
    },
    "papermill": {
     "duration": 0.028073,
     "end_time": "2022-05-13T02:35:04.312433",
     "exception": false,
     "start_time": "2022-05-13T02:35:04.284360",
     "status": "completed"
    },
    "tags": []
   },
   "outputs": [],
   "source": [
    "def sigmoid(x):\n",
    "    return 1 / (1 + np.exp(-x))"
   ]
  },
  {
   "cell_type": "code",
   "execution_count": 5,
   "id": "c7dbc31d",
   "metadata": {
    "execution": {
     "iopub.execute_input": "2022-05-13T02:35:04.355353Z",
     "iopub.status.busy": "2022-05-13T02:35:04.355064Z",
     "iopub.status.idle": "2022-05-13T02:35:04.359578Z",
     "shell.execute_reply": "2022-05-13T02:35:04.358731Z"
    },
    "papermill": {
     "duration": 0.029819,
     "end_time": "2022-05-13T02:35:04.363004",
     "exception": false,
     "start_time": "2022-05-13T02:35:04.333185",
     "status": "completed"
    },
    "tags": []
   },
   "outputs": [
    {
     "name": "stdout",
     "output_type": "stream",
     "text": [
      "[0.57444252 0.66818777 0.75026011]\n"
     ]
    }
   ],
   "source": [
    "Z1 = sigmoid(A1)\n",
    "print(Z1)"
   ]
  },
  {
   "cell_type": "markdown",
   "id": "9c4c1b2c",
   "metadata": {
    "papermill": {
     "duration": 0.020794,
     "end_time": "2022-05-13T02:35:04.406622",
     "exception": false,
     "start_time": "2022-05-13T02:35:04.385828",
     "status": "completed"
    },
    "tags": []
   },
   "source": [
    "#### 第 1 層から第 2 層"
   ]
  },
  {
   "cell_type": "markdown",
   "id": "fbbf14c1",
   "metadata": {
    "execution": {
     "iopub.execute_input": "2022-05-13T02:17:37.323221Z",
     "iopub.status.busy": "2022-05-13T02:17:37.322865Z",
     "iopub.status.idle": "2022-05-13T02:17:37.329583Z",
     "shell.execute_reply": "2022-05-13T02:17:37.328107Z",
     "shell.execute_reply.started": "2022-05-13T02:17:37.323185Z"
    },
    "papermill": {
     "duration": 0.020509,
     "end_time": "2022-05-13T02:35:04.448127",
     "exception": false,
     "start_time": "2022-05-13T02:35:04.427618",
     "status": "completed"
    },
    "tags": []
   },
   "source": [
    "`W2` には、第 1 層から第 2 層までの 6 つの重みが格納されている。"
   ]
  },
  {
   "cell_type": "code",
   "execution_count": 6,
   "id": "48c5c41a",
   "metadata": {
    "execution": {
     "iopub.execute_input": "2022-05-13T02:35:04.492150Z",
     "iopub.status.busy": "2022-05-13T02:35:04.491610Z",
     "iopub.status.idle": "2022-05-13T02:35:04.498396Z",
     "shell.execute_reply": "2022-05-13T02:35:04.497398Z"
    },
    "papermill": {
     "duration": 0.031246,
     "end_time": "2022-05-13T02:35:04.500419",
     "exception": false,
     "start_time": "2022-05-13T02:35:04.469173",
     "status": "completed"
    },
    "tags": []
   },
   "outputs": [
    {
     "name": "stdout",
     "output_type": "stream",
     "text": [
      "(3,)\n",
      "(3, 2)\n",
      "(2,)\n"
     ]
    }
   ],
   "source": [
    "W2 = np.array([[0.1, 0.4], [0.2, 0.5], [0.3, 0.6]])\n",
    "B2 = np.array([0.1, 0.2])\n",
    "\n",
    "print(Z1.shape)\n",
    "print(W2.shape)\n",
    "print(B2.shape)"
   ]
  },
  {
   "cell_type": "code",
   "execution_count": 7,
   "id": "969b29d7",
   "metadata": {
    "execution": {
     "iopub.execute_input": "2022-05-13T02:35:04.544950Z",
     "iopub.status.busy": "2022-05-13T02:35:04.544627Z",
     "iopub.status.idle": "2022-05-13T02:35:04.550085Z",
     "shell.execute_reply": "2022-05-13T02:35:04.549299Z"
    },
    "papermill": {
     "duration": 0.03048,
     "end_time": "2022-05-13T02:35:04.552247",
     "exception": false,
     "start_time": "2022-05-13T02:35:04.521767",
     "status": "completed"
    },
    "tags": []
   },
   "outputs": [
    {
     "name": "stdout",
     "output_type": "stream",
     "text": [
      "[0.62624937 0.7710107 ]\n"
     ]
    }
   ],
   "source": [
    "A2 = np.dot(Z1, W2) + B2\n",
    "Z2 = sigmoid(A2)\n",
    "\n",
    "print(Z2)"
   ]
  },
  {
   "cell_type": "markdown",
   "id": "3f91c335",
   "metadata": {
    "papermill": {
     "duration": 0.021591,
     "end_time": "2022-05-13T02:35:04.595853",
     "exception": false,
     "start_time": "2022-05-13T02:35:04.574262",
     "status": "completed"
    },
    "tags": []
   },
   "source": [
    "#### 第 2 層から第 3 層"
   ]
  },
  {
   "cell_type": "code",
   "execution_count": 8,
   "id": "b5b836e6",
   "metadata": {
    "execution": {
     "iopub.execute_input": "2022-05-13T02:35:04.641471Z",
     "iopub.status.busy": "2022-05-13T02:35:04.640943Z",
     "iopub.status.idle": "2022-05-13T02:35:04.644329Z",
     "shell.execute_reply": "2022-05-13T02:35:04.643650Z"
    },
    "papermill": {
     "duration": 0.028247,
     "end_time": "2022-05-13T02:35:04.645982",
     "exception": false,
     "start_time": "2022-05-13T02:35:04.617735",
     "status": "completed"
    },
    "tags": []
   },
   "outputs": [],
   "source": [
    "def identify_function(x):\n",
    "    return x"
   ]
  },
  {
   "cell_type": "markdown",
   "id": "973da13a",
   "metadata": {
    "papermill": {
     "duration": 0.021378,
     "end_time": "2022-05-13T02:35:04.689018",
     "exception": false,
     "start_time": "2022-05-13T02:35:04.667640",
     "status": "completed"
    },
    "tags": []
   },
   "source": [
    "`W2` には、第 2 層から第 3 層までの 4 つの重みが格納されている。"
   ]
  },
  {
   "cell_type": "code",
   "execution_count": 9,
   "id": "6908b32c",
   "metadata": {
    "execution": {
     "iopub.execute_input": "2022-05-13T02:35:04.734002Z",
     "iopub.status.busy": "2022-05-13T02:35:04.733496Z",
     "iopub.status.idle": "2022-05-13T02:35:04.739274Z",
     "shell.execute_reply": "2022-05-13T02:35:04.738250Z"
    },
    "papermill": {
     "duration": 0.030881,
     "end_time": "2022-05-13T02:35:04.741488",
     "exception": false,
     "start_time": "2022-05-13T02:35:04.710607",
     "status": "completed"
    },
    "tags": []
   },
   "outputs": [
    {
     "name": "stdout",
     "output_type": "stream",
     "text": [
      "(2,)\n",
      "(2, 2)\n",
      "(2,)\n"
     ]
    }
   ],
   "source": [
    "W3 = np.array([[0.1, 0.3], [0.2, 0.4]])\n",
    "B3 = np.array([0.1, 0.2])\n",
    "\n",
    "print(Z2.shape)\n",
    "print(W3.shape)\n",
    "print(B3.shape)"
   ]
  },
  {
   "cell_type": "code",
   "execution_count": 10,
   "id": "9addf748",
   "metadata": {
    "execution": {
     "iopub.execute_input": "2022-05-13T02:35:04.798807Z",
     "iopub.status.busy": "2022-05-13T02:35:04.798115Z",
     "iopub.status.idle": "2022-05-13T02:35:04.803027Z",
     "shell.execute_reply": "2022-05-13T02:35:04.802350Z"
    },
    "papermill": {
     "duration": 0.035993,
     "end_time": "2022-05-13T02:35:04.805315",
     "exception": false,
     "start_time": "2022-05-13T02:35:04.769322",
     "status": "completed"
    },
    "tags": []
   },
   "outputs": [
    {
     "name": "stdout",
     "output_type": "stream",
     "text": [
      "[0.31682708 0.69627909]\n"
     ]
    }
   ],
   "source": [
    "A3 = np.dot(Z2, W3) + B3\n",
    "Y = identify_function(A3)\n",
    "\n",
    "print(Y)"
   ]
  },
  {
   "cell_type": "markdown",
   "id": "6b203a32",
   "metadata": {
    "papermill": {
     "duration": 0.022299,
     "end_time": "2022-05-13T02:35:04.850528",
     "exception": false,
     "start_time": "2022-05-13T02:35:04.828229",
     "status": "completed"
    },
    "tags": []
   },
   "source": [
    "本書籍シリーズで `TwoLayerNet` とされているのは、第 0 層、第 1 層、第 2 層（2 層ネットワーク）を実装しているからである。"
   ]
  },
  {
   "cell_type": "markdown",
   "id": "f55216b7",
   "metadata": {
    "papermill": {
     "duration": 0.022373,
     "end_time": "2022-05-13T02:35:04.895493",
     "exception": false,
     "start_time": "2022-05-13T02:35:04.873120",
     "status": "completed"
    },
    "tags": []
   },
   "source": [
    "### 3.4.3　実装まとめ"
   ]
  },
  {
   "cell_type": "code",
   "execution_count": 11,
   "id": "9399e3f0",
   "metadata": {
    "execution": {
     "iopub.execute_input": "2022-05-13T02:35:04.943427Z",
     "iopub.status.busy": "2022-05-13T02:35:04.942901Z",
     "iopub.status.idle": "2022-05-13T02:35:04.952405Z",
     "shell.execute_reply": "2022-05-13T02:35:04.951768Z"
    },
    "papermill": {
     "duration": 0.036514,
     "end_time": "2022-05-13T02:35:04.954627",
     "exception": false,
     "start_time": "2022-05-13T02:35:04.918113",
     "status": "completed"
    },
    "tags": []
   },
   "outputs": [],
   "source": [
    "def init_network():\n",
    "    network = {}\n",
    "    network['W1'] = np.array([[0.1, 0.3, 0.5], [0.2, 0.4, 0.6]])\n",
    "    network['b1'] = np.array([0.1, 0.2, 0.3])\n",
    "    network['W2'] = np.array([[0.1, 0.4], [0.2, 0.5], [0.3, 0.6]])\n",
    "    network['b2'] = np.array([0.1, 0.2])\n",
    "    network['W3'] = np.array([[0.1, 0.3], [0.2, 0.4]])\n",
    "    network['b3'] = np.array([0.1, 0.2])\n",
    "    \n",
    "    return network\n",
    "\n",
    "def forward(network, x):\n",
    "    W1, W2, W3 = network['W1'], network['W2'], network['W3']\n",
    "    b1, b2, b3 = network['b1'], network['b2'], network['b3']\n",
    "    \n",
    "    a1 = np.dot(x, W1) + b1\n",
    "    z1 = sigmoid(a1)\n",
    "    a2 = np.dot(z1, W2) + b2\n",
    "    z2 = sigmoid(a2)\n",
    "    a3 = np.dot(z2, W3) + b3\n",
    "    y = identify_function(a3)\n",
    "    \n",
    "    return y"
   ]
  },
  {
   "cell_type": "code",
   "execution_count": 12,
   "id": "605f868a",
   "metadata": {
    "execution": {
     "iopub.execute_input": "2022-05-13T02:35:05.009005Z",
     "iopub.status.busy": "2022-05-13T02:35:05.008498Z",
     "iopub.status.idle": "2022-05-13T02:35:05.013824Z",
     "shell.execute_reply": "2022-05-13T02:35:05.012958Z"
    },
    "papermill": {
     "duration": 0.036954,
     "end_time": "2022-05-13T02:35:05.015882",
     "exception": false,
     "start_time": "2022-05-13T02:35:04.978928",
     "status": "completed"
    },
    "tags": []
   },
   "outputs": [
    {
     "name": "stdout",
     "output_type": "stream",
     "text": [
      "[0.31682708 0.69627909]\n"
     ]
    }
   ],
   "source": [
    "network = init_network()\n",
    "x = np.array([1.0, 0.5])\n",
    "y = forward(network, x)\n",
    "\n",
    "print(y)"
   ]
  }
 ],
 "metadata": {
  "kernelspec": {
   "display_name": "Python 3",
   "language": "python",
   "name": "python3"
  },
  "language_info": {
   "codemirror_mode": {
    "name": "ipython",
    "version": 3
   },
   "file_extension": ".py",
   "mimetype": "text/x-python",
   "name": "python",
   "nbconvert_exporter": "python",
   "pygments_lexer": "ipython3",
   "version": "3.7.12"
  },
  "papermill": {
   "default_parameters": {},
   "duration": 11.438798,
   "end_time": "2022-05-13T02:35:05.658705",
   "environment_variables": {},
   "exception": null,
   "input_path": "__notebook__.ipynb",
   "output_path": "__notebook__.ipynb",
   "parameters": {},
   "start_time": "2022-05-13T02:34:54.219907",
   "version": "2.3.4"
  }
 },
 "nbformat": 4,
 "nbformat_minor": 5
}
