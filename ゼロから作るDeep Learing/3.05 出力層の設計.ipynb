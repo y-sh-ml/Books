{
 "cells": [
  {
   "cell_type": "markdown",
   "id": "75bc002c",
   "metadata": {
    "_cell_guid": "b1076dfc-b9ad-4769-8c92-a6c4dae69d19",
    "_uuid": "8f2839f25d086af736a60e9eeb907d3b93b6e0e5",
    "papermill": {
     "duration": 0.00646,
     "end_time": "2022-05-13T02:46:35.466673",
     "exception": false,
     "start_time": "2022-05-13T02:46:35.460213",
     "status": "completed"
    },
    "tags": []
   },
   "source": [
    "## 3.5　出力層の設計"
   ]
  },
  {
   "cell_type": "code",
   "execution_count": 1,
   "id": "b10500a6",
   "metadata": {
    "execution": {
     "iopub.execute_input": "2022-05-13T02:46:35.479010Z",
     "iopub.status.busy": "2022-05-13T02:46:35.478644Z",
     "iopub.status.idle": "2022-05-13T02:46:35.487457Z",
     "shell.execute_reply": "2022-05-13T02:46:35.486719Z"
    },
    "papermill": {
     "duration": 0.017494,
     "end_time": "2022-05-13T02:46:35.489455",
     "exception": false,
     "start_time": "2022-05-13T02:46:35.471961",
     "status": "completed"
    },
    "tags": []
   },
   "outputs": [],
   "source": [
    "import numpy as np"
   ]
  },
  {
   "cell_type": "markdown",
   "id": "ebee4402",
   "metadata": {
    "papermill": {
     "duration": 0.004479,
     "end_time": "2022-05-13T02:46:35.499099",
     "exception": false,
     "start_time": "2022-05-13T02:46:35.494620",
     "status": "completed"
    },
    "tags": []
   },
   "source": [
    "### 3.5.1　恒等関数とソフトマックス関数"
   ]
  },
  {
   "cell_type": "code",
   "execution_count": 2,
   "id": "9824120d",
   "metadata": {
    "execution": {
     "iopub.execute_input": "2022-05-13T02:46:35.510848Z",
     "iopub.status.busy": "2022-05-13T02:46:35.510474Z",
     "iopub.status.idle": "2022-05-13T02:46:35.516633Z",
     "shell.execute_reply": "2022-05-13T02:46:35.515736Z"
    },
    "papermill": {
     "duration": 0.015066,
     "end_time": "2022-05-13T02:46:35.518866",
     "exception": false,
     "start_time": "2022-05-13T02:46:35.503800",
     "status": "completed"
    },
    "tags": []
   },
   "outputs": [
    {
     "name": "stdout",
     "output_type": "stream",
     "text": [
      "[ 1.34985881 18.17414537 54.59815003]\n",
      "74.1221542101633\n"
     ]
    }
   ],
   "source": [
    "a = np.array([0.3, 2.9, 4.0])\n",
    "\n",
    "exp_a = np.exp(a)\n",
    "print(exp_a)\n",
    "\n",
    "sum_exp_a = np.sum(exp_a)\n",
    "print(sum_exp_a)"
   ]
  },
  {
   "cell_type": "markdown",
   "id": "d2180da3",
   "metadata": {
    "papermill": {
     "duration": 0.004688,
     "end_time": "2022-05-13T02:46:35.528963",
     "exception": false,
     "start_time": "2022-05-13T02:46:35.524275",
     "status": "completed"
    },
    "tags": []
   },
   "source": [
    "3 つの要素に対して、一気に計算できる。"
   ]
  },
  {
   "cell_type": "code",
   "execution_count": 3,
   "id": "a840bb28",
   "metadata": {
    "execution": {
     "iopub.execute_input": "2022-05-13T02:46:35.540980Z",
     "iopub.status.busy": "2022-05-13T02:46:35.540604Z",
     "iopub.status.idle": "2022-05-13T02:46:35.546116Z",
     "shell.execute_reply": "2022-05-13T02:46:35.545482Z"
    },
    "papermill": {
     "duration": 0.013784,
     "end_time": "2022-05-13T02:46:35.547715",
     "exception": false,
     "start_time": "2022-05-13T02:46:35.533931",
     "status": "completed"
    },
    "tags": []
   },
   "outputs": [
    {
     "name": "stdout",
     "output_type": "stream",
     "text": [
      "[0.01821127 0.24519181 0.73659691]\n"
     ]
    }
   ],
   "source": [
    "y = exp_a / sum_exp_a\n",
    "print(y)"
   ]
  }
 ],
 "metadata": {
  "kernelspec": {
   "display_name": "Python 3",
   "language": "python",
   "name": "python3"
  },
  "language_info": {
   "codemirror_mode": {
    "name": "ipython",
    "version": 3
   },
   "file_extension": ".py",
   "mimetype": "text/x-python",
   "name": "python",
   "nbconvert_exporter": "python",
   "pygments_lexer": "ipython3",
   "version": "3.7.12"
  },
  "papermill": {
   "default_parameters": {},
   "duration": 12.70108,
   "end_time": "2022-05-13T02:46:36.477073",
   "environment_variables": {},
   "exception": null,
   "input_path": "__notebook__.ipynb",
   "output_path": "__notebook__.ipynb",
   "parameters": {},
   "start_time": "2022-05-13T02:46:23.775993",
   "version": "2.3.4"
  }
 },
 "nbformat": 4,
 "nbformat_minor": 5
}
