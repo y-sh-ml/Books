{
 "cells": [
  {
   "cell_type": "markdown",
   "id": "504492cd",
   "metadata": {
    "_cell_guid": "b1076dfc-b9ad-4769-8c92-a6c4dae69d19",
    "_uuid": "8f2839f25d086af736a60e9eeb907d3b93b6e0e5",
    "papermill": {
     "duration": 0.013612,
     "end_time": "2022-02-21T06:08:41.454768",
     "exception": false,
     "start_time": "2022-02-21T06:08:41.441156",
     "status": "completed"
    },
    "tags": []
   },
   "source": [
    "## 3.5　出力層の設計"
   ]
  },
  {
   "cell_type": "code",
   "execution_count": 1,
   "id": "da696f35",
   "metadata": {
    "execution": {
     "iopub.execute_input": "2022-02-21T06:08:41.489448Z",
     "iopub.status.busy": "2022-02-21T06:08:41.488763Z",
     "iopub.status.idle": "2022-02-21T06:08:41.493260Z",
     "shell.execute_reply": "2022-02-21T06:08:41.493700Z",
     "shell.execute_reply.started": "2022-02-21T05:52:11.027891Z"
    },
    "papermill": {
     "duration": 0.025876,
     "end_time": "2022-02-21T06:08:41.493913",
     "exception": false,
     "start_time": "2022-02-21T06:08:41.468037",
     "status": "completed"
    },
    "tags": []
   },
   "outputs": [],
   "source": [
    "import numpy as np"
   ]
  },
  {
   "cell_type": "markdown",
   "id": "b9a0a74d",
   "metadata": {
    "papermill": {
     "duration": 0.0129,
     "end_time": "2022-02-21T06:08:41.519805",
     "exception": false,
     "start_time": "2022-02-21T06:08:41.506905",
     "status": "completed"
    },
    "tags": []
   },
   "source": [
    "### 3.5.1　恒等関数とソフトマックス関数"
   ]
  },
  {
   "cell_type": "code",
   "execution_count": 2,
   "id": "a6a37038",
   "metadata": {
    "execution": {
     "iopub.execute_input": "2022-02-21T06:08:41.548376Z",
     "iopub.status.busy": "2022-02-21T06:08:41.547706Z",
     "iopub.status.idle": "2022-02-21T06:08:41.554106Z",
     "shell.execute_reply": "2022-02-21T06:08:41.553553Z",
     "shell.execute_reply.started": "2022-02-21T05:52:11.055174Z"
    },
    "papermill": {
     "duration": 0.021412,
     "end_time": "2022-02-21T06:08:41.554257",
     "exception": false,
     "start_time": "2022-02-21T06:08:41.532845",
     "status": "completed"
    },
    "tags": []
   },
   "outputs": [
    {
     "name": "stdout",
     "output_type": "stream",
     "text": [
      "[ 1.34985881 18.17414537 54.59815003]\n",
      "74.1221542101633\n",
      "[0.01821127 0.24519181 0.73659691]\n"
     ]
    }
   ],
   "source": [
    "a = np.array([0.3, 2.9, 4.0])\n",
    "\n",
    "exp_a = np.exp(a)\n",
    "print(exp_a)\n",
    "\n",
    "sum_exp_a = np.sum(exp_a)\n",
    "print(sum_exp_a)\n",
    "\n",
    "y = exp_a / sum_exp_a\n",
    "print(y)"
   ]
  },
  {
   "cell_type": "markdown",
   "id": "896b75ab",
   "metadata": {
    "execution": {
     "iopub.execute_input": "2022-02-21T04:50:09.341266Z",
     "iopub.status.busy": "2022-02-21T04:50:09.340966Z",
     "iopub.status.idle": "2022-02-21T04:50:09.346985Z",
     "shell.execute_reply": "2022-02-21T04:50:09.345844Z",
     "shell.execute_reply.started": "2022-02-21T04:50:09.341235Z"
    },
    "papermill": {
     "duration": 0.018994,
     "end_time": "2022-02-21T06:08:41.593561",
     "exception": false,
     "start_time": "2022-02-21T06:08:41.574567",
     "status": "completed"
    },
    "tags": []
   },
   "source": [
    "以下のように対応している。\n",
    "\n",
    "$a_1=0.3$、$a_2=2.9$、$a_3=4.0$<br>\n",
    "$y_1=0.018$、$y_2=0.24$、$y_3=0.7$"
   ]
  },
  {
   "cell_type": "code",
   "execution_count": 3,
   "id": "da880fe9",
   "metadata": {
    "execution": {
     "iopub.execute_input": "2022-02-21T06:08:41.634344Z",
     "iopub.status.busy": "2022-02-21T06:08:41.633747Z",
     "iopub.status.idle": "2022-02-21T06:08:41.636500Z",
     "shell.execute_reply": "2022-02-21T06:08:41.637051Z",
     "shell.execute_reply.started": "2022-02-21T05:52:11.065418Z"
    },
    "papermill": {
     "duration": 0.02455,
     "end_time": "2022-02-21T06:08:41.637190",
     "exception": false,
     "start_time": "2022-02-21T06:08:41.612640",
     "status": "completed"
    },
    "tags": []
   },
   "outputs": [],
   "source": [
    "def softmax(a):\n",
    "    exp_a = np.exp(a)\n",
    "    sum_exp_a = np.sum(exp_a)\n",
    "    y = exp_a / sum_exp_a\n",
    "    \n",
    "    return y"
   ]
  },
  {
   "cell_type": "markdown",
   "id": "76a58797",
   "metadata": {
    "papermill": {
     "duration": 0.018937,
     "end_time": "2022-02-21T06:08:41.675591",
     "exception": false,
     "start_time": "2022-02-21T06:08:41.656654",
     "status": "completed"
    },
    "tags": []
   },
   "source": [
    "### 3.5.2　ソフトマックス関数の実装上の注意"
   ]
  },
  {
   "cell_type": "code",
   "execution_count": 4,
   "id": "a89136f9",
   "metadata": {
    "execution": {
     "iopub.execute_input": "2022-02-21T06:08:41.716773Z",
     "iopub.status.busy": "2022-02-21T06:08:41.716214Z",
     "iopub.status.idle": "2022-02-21T06:08:41.724083Z",
     "shell.execute_reply": "2022-02-21T06:08:41.724575Z",
     "shell.execute_reply.started": "2022-02-21T05:53:05.959166Z"
    },
    "papermill": {
     "duration": 0.029896,
     "end_time": "2022-02-21T06:08:41.724752",
     "exception": false,
     "start_time": "2022-02-21T06:08:41.694856",
     "status": "completed"
    },
    "tags": []
   },
   "outputs": [
    {
     "name": "stderr",
     "output_type": "stream",
     "text": [
      "/opt/conda/lib/python3.7/site-packages/ipykernel_launcher.py:2: RuntimeWarning: overflow encountered in exp\n",
      "  \n",
      "/opt/conda/lib/python3.7/site-packages/ipykernel_launcher.py:2: RuntimeWarning: invalid value encountered in true_divide\n",
      "  \n"
     ]
    },
    {
     "data": {
      "text/plain": [
       "array([nan, nan, nan])"
      ]
     },
     "execution_count": 4,
     "metadata": {},
     "output_type": "execute_result"
    }
   ],
   "source": [
    "a = np.array([1010, 1000, 990])\n",
    "np.exp(a) / np.sum(np.exp(a))"
   ]
  },
  {
   "cell_type": "markdown",
   "id": "5c441812",
   "metadata": {
    "papermill": {
     "duration": 0.020532,
     "end_time": "2022-02-21T06:08:41.765905",
     "exception": false,
     "start_time": "2022-02-21T06:08:41.745373",
     "status": "completed"
    },
    "tags": []
   },
   "source": [
    "$c$ に $a$ の最大値を代入する。"
   ]
  },
  {
   "cell_type": "code",
   "execution_count": 5,
   "id": "a7d35fd6",
   "metadata": {
    "execution": {
     "iopub.execute_input": "2022-02-21T06:08:41.809922Z",
     "iopub.status.busy": "2022-02-21T06:08:41.809364Z",
     "iopub.status.idle": "2022-02-21T06:08:41.814771Z",
     "shell.execute_reply": "2022-02-21T06:08:41.814215Z",
     "shell.execute_reply.started": "2022-02-21T05:53:26.552020Z"
    },
    "papermill": {
     "duration": 0.028369,
     "end_time": "2022-02-21T06:08:41.814887",
     "exception": false,
     "start_time": "2022-02-21T06:08:41.786518",
     "status": "completed"
    },
    "tags": []
   },
   "outputs": [
    {
     "data": {
      "text/plain": [
       "array([  0, -10, -20])"
      ]
     },
     "execution_count": 5,
     "metadata": {},
     "output_type": "execute_result"
    }
   ],
   "source": [
    "c = np.max(a)\n",
    "a - c"
   ]
  },
  {
   "cell_type": "code",
   "execution_count": 6,
   "id": "b2fcc3de",
   "metadata": {
    "execution": {
     "iopub.execute_input": "2022-02-21T06:08:41.862585Z",
     "iopub.status.busy": "2022-02-21T06:08:41.861968Z",
     "iopub.status.idle": "2022-02-21T06:08:41.864434Z",
     "shell.execute_reply": "2022-02-21T06:08:41.864948Z",
     "shell.execute_reply.started": "2022-02-21T05:53:51.072679Z"
    },
    "papermill": {
     "duration": 0.028711,
     "end_time": "2022-02-21T06:08:41.865074",
     "exception": false,
     "start_time": "2022-02-21T06:08:41.836363",
     "status": "completed"
    },
    "tags": []
   },
   "outputs": [
    {
     "data": {
      "text/plain": [
       "array([9.99954600e-01, 4.53978686e-05, 2.06106005e-09])"
      ]
     },
     "execution_count": 6,
     "metadata": {},
     "output_type": "execute_result"
    }
   ],
   "source": [
    "np.exp(a - c) / np.sum(np.exp(a - c))"
   ]
  },
  {
   "cell_type": "code",
   "execution_count": 7,
   "id": "b26f8d73",
   "metadata": {
    "execution": {
     "iopub.execute_input": "2022-02-21T06:08:41.913176Z",
     "iopub.status.busy": "2022-02-21T06:08:41.912576Z",
     "iopub.status.idle": "2022-02-21T06:08:41.915010Z",
     "shell.execute_reply": "2022-02-21T06:08:41.914519Z",
     "shell.execute_reply.started": "2022-02-21T05:56:03.705091Z"
    },
    "papermill": {
     "duration": 0.028221,
     "end_time": "2022-02-21T06:08:41.915143",
     "exception": false,
     "start_time": "2022-02-21T06:08:41.886922",
     "status": "completed"
    },
    "tags": []
   },
   "outputs": [],
   "source": [
    "def softmax(a):\n",
    "    c = np.max(a)\n",
    "    exp_a = np.exp(a - c)\n",
    "    sum_exp_a = np.sum(exp_a)\n",
    "    y = exp_a / sum_exp_a\n",
    "    \n",
    "    return y"
   ]
  },
  {
   "cell_type": "code",
   "execution_count": 8,
   "id": "658df028",
   "metadata": {
    "execution": {
     "iopub.execute_input": "2022-02-21T06:08:41.965492Z",
     "iopub.status.busy": "2022-02-21T06:08:41.964772Z",
     "iopub.status.idle": "2022-02-21T06:08:41.967360Z",
     "shell.execute_reply": "2022-02-21T06:08:41.967848Z",
     "shell.execute_reply.started": "2022-02-21T05:56:11.449795Z"
    },
    "papermill": {
     "duration": 0.030854,
     "end_time": "2022-02-21T06:08:41.968002",
     "exception": false,
     "start_time": "2022-02-21T06:08:41.937148",
     "status": "completed"
    },
    "tags": []
   },
   "outputs": [
    {
     "data": {
      "text/plain": [
       "array([9.99954600e-01, 4.53978686e-05, 2.06106005e-09])"
      ]
     },
     "execution_count": 8,
     "metadata": {},
     "output_type": "execute_result"
    }
   ],
   "source": [
    "softmax(a)"
   ]
  },
  {
   "cell_type": "markdown",
   "id": "1e063560",
   "metadata": {
    "papermill": {
     "duration": 0.022619,
     "end_time": "2022-02-21T06:08:42.013630",
     "exception": false,
     "start_time": "2022-02-21T06:08:41.991011",
     "status": "completed"
    },
    "tags": []
   },
   "source": [
    "### 3.5.3　ソフトマックス関数の特徴"
   ]
  },
  {
   "cell_type": "code",
   "execution_count": 9,
   "id": "fa917530",
   "metadata": {
    "execution": {
     "iopub.execute_input": "2022-02-21T06:08:42.062552Z",
     "iopub.status.busy": "2022-02-21T06:08:42.060922Z",
     "iopub.status.idle": "2022-02-21T06:08:42.065414Z",
     "shell.execute_reply": "2022-02-21T06:08:42.065989Z",
     "shell.execute_reply.started": "2022-02-21T05:57:32.680049Z"
    },
    "papermill": {
     "duration": 0.029362,
     "end_time": "2022-02-21T06:08:42.066131",
     "exception": false,
     "start_time": "2022-02-21T06:08:42.036769",
     "status": "completed"
    },
    "tags": []
   },
   "outputs": [
    {
     "name": "stdout",
     "output_type": "stream",
     "text": [
      "[0.0213123  0.11666243 0.86202526]\n",
      "1.0\n"
     ]
    }
   ],
   "source": [
    "a = np.array([0.3, 2.0, 4.0])\n",
    "y = softmax(a)\n",
    "\n",
    "print(y)\n",
    "print(np.sum(y))"
   ]
  },
  {
   "cell_type": "markdown",
   "id": "b0fd1f11",
   "metadata": {
    "papermill": {
     "duration": 0.021798,
     "end_time": "2022-02-21T06:08:42.110022",
     "exception": false,
     "start_time": "2022-02-21T06:08:42.088224",
     "status": "completed"
    },
    "tags": []
   },
   "source": [
    "ソフトマックス関数の出力の総和は1になる。"
   ]
  },
  {
   "cell_type": "markdown",
   "id": "db23317b",
   "metadata": {
    "papermill": {
     "duration": 0.021782,
     "end_time": "2022-02-21T06:08:42.153603",
     "exception": false,
     "start_time": "2022-02-21T06:08:42.131821",
     "status": "completed"
    },
    "tags": []
   },
   "source": [
    "ニューラルネットワークのクラス分類では、一般的に、出力の 1 番大きいニューロンに相当するクラスだけを認識結果とする。<br>\n",
    "そして、ソフトマックス関数を適用しても、出力の 1 番大きいニューロンの場所は変わらない。<br>\n",
    "そのため、ニューラルネットワークが分類を行う際には、出力層のソフトマックス関数を省略することができ、それが一般的である。"
   ]
  },
  {
   "cell_type": "markdown",
   "id": "5b715dfc",
   "metadata": {
    "papermill": {
     "duration": 0.02177,
     "end_time": "2022-02-21T06:08:42.197486",
     "exception": false,
     "start_time": "2022-02-21T06:08:42.175716",
     "status": "completed"
    },
    "tags": []
   },
   "source": [
    "### 3.5.4　出力層のニューロンの数"
   ]
  },
  {
   "cell_type": "markdown",
   "id": "785e7e87",
   "metadata": {
    "papermill": {
     "duration": 0.022028,
     "end_time": "2022-02-21T06:08:42.241679",
     "exception": false,
     "start_time": "2022-02-21T06:08:42.219651",
     "status": "completed"
    },
    "tags": []
   },
   "source": [
    "クラス分類を行う問題では、出力層のニューロンの数は、分類したいクラスの数に設定するのが一般的である。"
   ]
  }
 ],
 "metadata": {
  "kernelspec": {
   "display_name": "Python 3",
   "language": "python",
   "name": "python3"
  },
  "language_info": {
   "codemirror_mode": {
    "name": "ipython",
    "version": 3
   },
   "file_extension": ".py",
   "mimetype": "text/x-python",
   "name": "python",
   "nbconvert_exporter": "python",
   "pygments_lexer": "ipython3",
   "version": "3.7.12"
  },
  "papermill": {
   "default_parameters": {},
   "duration": 8.385889,
   "end_time": "2022-02-21T06:08:42.975527",
   "environment_variables": {},
   "exception": null,
   "input_path": "__notebook__.ipynb",
   "output_path": "__notebook__.ipynb",
   "parameters": {},
   "start_time": "2022-02-21T06:08:34.589638",
   "version": "2.3.3"
  }
 },
 "nbformat": 4,
 "nbformat_minor": 5
}
