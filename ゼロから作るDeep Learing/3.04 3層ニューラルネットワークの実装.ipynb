{
 "cells": [
  {
   "cell_type": "markdown",
   "id": "6c35b1a5",
   "metadata": {
    "_cell_guid": "b1076dfc-b9ad-4769-8c92-a6c4dae69d19",
    "_uuid": "8f2839f25d086af736a60e9eeb907d3b93b6e0e5",
    "papermill": {
     "duration": 0.013492,
     "end_time": "2022-02-21T04:29:26.020312",
     "exception": false,
     "start_time": "2022-02-21T04:29:26.006820",
     "status": "completed"
    },
    "tags": []
   },
   "source": [
    "## 3.4　3層ニューラルネットワークの実装"
   ]
  },
  {
   "cell_type": "code",
   "execution_count": 1,
   "id": "5619dc02",
   "metadata": {
    "execution": {
     "iopub.execute_input": "2022-02-21T04:29:26.051909Z",
     "iopub.status.busy": "2022-02-21T04:29:26.051316Z",
     "iopub.status.idle": "2022-02-21T04:29:26.055555Z",
     "shell.execute_reply": "2022-02-21T04:29:26.054965Z",
     "shell.execute_reply.started": "2022-02-21T04:16:33.956341Z"
    },
    "papermill": {
     "duration": 0.02371,
     "end_time": "2022-02-21T04:29:26.055730",
     "exception": false,
     "start_time": "2022-02-21T04:29:26.032020",
     "status": "completed"
    },
    "tags": []
   },
   "outputs": [],
   "source": [
    "import numpy as np"
   ]
  },
  {
   "cell_type": "markdown",
   "id": "f6a6f739",
   "metadata": {
    "papermill": {
     "duration": 0.011014,
     "end_time": "2022-02-21T04:29:26.078346",
     "exception": false,
     "start_time": "2022-02-21T04:29:26.067332",
     "status": "completed"
    },
    "tags": []
   },
   "source": [
    "### 3.4.2　各層における信号伝達の実装"
   ]
  },
  {
   "cell_type": "code",
   "execution_count": 2,
   "id": "c7e0cba0",
   "metadata": {
    "execution": {
     "iopub.execute_input": "2022-02-21T04:29:26.109712Z",
     "iopub.status.busy": "2022-02-21T04:29:26.108611Z",
     "iopub.status.idle": "2022-02-21T04:29:26.110913Z",
     "shell.execute_reply": "2022-02-21T04:29:26.111547Z",
     "shell.execute_reply.started": "2022-02-21T04:16:33.991415Z"
    },
    "papermill": {
     "duration": 0.021288,
     "end_time": "2022-02-21T04:29:26.111722",
     "exception": false,
     "start_time": "2022-02-21T04:29:26.090434",
     "status": "completed"
    },
    "tags": []
   },
   "outputs": [],
   "source": [
    "def sigmoid(x):\n",
    "    return 1 / (1 + np.exp(-x))"
   ]
  },
  {
   "cell_type": "markdown",
   "id": "3f94d70a",
   "metadata": {
    "papermill": {
     "duration": 0.018306,
     "end_time": "2022-02-21T04:29:26.146113",
     "exception": false,
     "start_time": "2022-02-21T04:29:26.127807",
     "status": "completed"
    },
    "tags": []
   },
   "source": [
    "第0層から第1層までの実装を行う。"
   ]
  },
  {
   "cell_type": "code",
   "execution_count": 3,
   "id": "49cee0dd",
   "metadata": {
    "execution": {
     "iopub.execute_input": "2022-02-21T04:29:26.177925Z",
     "iopub.status.busy": "2022-02-21T04:29:26.174974Z",
     "iopub.status.idle": "2022-02-21T04:29:26.183215Z",
     "shell.execute_reply": "2022-02-21T04:29:26.183860Z",
     "shell.execute_reply.started": "2022-02-21T04:16:33.997928Z"
    },
    "papermill": {
     "duration": 0.024521,
     "end_time": "2022-02-21T04:29:26.184099",
     "exception": false,
     "start_time": "2022-02-21T04:29:26.159578",
     "status": "completed"
    },
    "tags": []
   },
   "outputs": [
    {
     "name": "stdout",
     "output_type": "stream",
     "text": [
      "(2, 3)\n",
      "(2,)\n",
      "(3,)\n"
     ]
    }
   ],
   "source": [
    "X = np.array([1.0, 0.5])\n",
    "W1 = np.array([[0.1, 0.3, 0.5], [0.2, 0.4, 0.6]])\n",
    "B1 = np.array([0.1, 0.2, 0.3])\n",
    "\n",
    "print(W1.shape)\n",
    "print(X.shape)\n",
    "print(B1.shape)"
   ]
  },
  {
   "cell_type": "code",
   "execution_count": 4,
   "id": "2231f31b",
   "metadata": {
    "execution": {
     "iopub.execute_input": "2022-02-21T04:29:26.217411Z",
     "iopub.status.busy": "2022-02-21T04:29:26.216798Z",
     "iopub.status.idle": "2022-02-21T04:29:26.218991Z",
     "shell.execute_reply": "2022-02-21T04:29:26.219425Z",
     "shell.execute_reply.started": "2022-02-21T04:16:34.018459Z"
    },
    "papermill": {
     "duration": 0.019883,
     "end_time": "2022-02-21T04:29:26.219582",
     "exception": false,
     "start_time": "2022-02-21T04:29:26.199699",
     "status": "completed"
    },
    "tags": []
   },
   "outputs": [
    {
     "name": "stdout",
     "output_type": "stream",
     "text": [
      "[0.3 0.7 1.1]\n",
      "[0.57444252 0.66818777 0.75026011]\n"
     ]
    }
   ],
   "source": [
    "A1 = np.dot(X, W1) + B1\n",
    "Z1 = sigmoid(A1)\n",
    "print(A1)\n",
    "print(Z1)"
   ]
  },
  {
   "cell_type": "markdown",
   "id": "85c2e289",
   "metadata": {
    "papermill": {
     "duration": 0.011477,
     "end_time": "2022-02-21T04:29:26.243128",
     "exception": false,
     "start_time": "2022-02-21T04:29:26.231651",
     "status": "completed"
    },
    "tags": []
   },
   "source": [
    "第1層から第2層までの実装を行う。"
   ]
  },
  {
   "cell_type": "code",
   "execution_count": 5,
   "id": "3998effa",
   "metadata": {
    "execution": {
     "iopub.execute_input": "2022-02-21T04:29:26.272380Z",
     "iopub.status.busy": "2022-02-21T04:29:26.271743Z",
     "iopub.status.idle": "2022-02-21T04:29:26.275529Z",
     "shell.execute_reply": "2022-02-21T04:29:26.275929Z",
     "shell.execute_reply.started": "2022-02-21T04:16:34.038350Z"
    },
    "papermill": {
     "duration": 0.021173,
     "end_time": "2022-02-21T04:29:26.276087",
     "exception": false,
     "start_time": "2022-02-21T04:29:26.254914",
     "status": "completed"
    },
    "tags": []
   },
   "outputs": [
    {
     "name": "stdout",
     "output_type": "stream",
     "text": [
      "(3,)\n",
      "(3, 2)\n",
      "(2,)\n"
     ]
    }
   ],
   "source": [
    "W2 = np.array([[0.1, 0.4], [0.2, 0.5], [0.3, 0.6]])\n",
    "B2 = np.array([0.1, 0.2])\n",
    "\n",
    "print(Z1.shape)\n",
    "print(W2.shape)\n",
    "print(B2.shape)"
   ]
  },
  {
   "cell_type": "code",
   "execution_count": 6,
   "id": "88bc7421",
   "metadata": {
    "execution": {
     "iopub.execute_input": "2022-02-21T04:29:26.306298Z",
     "iopub.status.busy": "2022-02-21T04:29:26.305648Z",
     "iopub.status.idle": "2022-02-21T04:29:26.308666Z",
     "shell.execute_reply": "2022-02-21T04:29:26.308037Z",
     "shell.execute_reply.started": "2022-02-21T04:16:34.056142Z"
    },
    "papermill": {
     "duration": 0.020507,
     "end_time": "2022-02-21T04:29:26.308804",
     "exception": false,
     "start_time": "2022-02-21T04:29:26.288297",
     "status": "completed"
    },
    "tags": []
   },
   "outputs": [
    {
     "name": "stdout",
     "output_type": "stream",
     "text": [
      "[0.51615984 1.21402696]\n",
      "[0.62624937 0.7710107 ]\n"
     ]
    }
   ],
   "source": [
    "A2 = np.dot(Z1, W2) + B2\n",
    "Z2 = sigmoid(A2)\n",
    "\n",
    "print(A2)\n",
    "print(Z2)"
   ]
  },
  {
   "cell_type": "code",
   "execution_count": 7,
   "id": "8a9fae1e",
   "metadata": {
    "execution": {
     "iopub.execute_input": "2022-02-21T04:29:26.338007Z",
     "iopub.status.busy": "2022-02-21T04:29:26.337453Z",
     "iopub.status.idle": "2022-02-21T04:29:26.339077Z",
     "shell.execute_reply": "2022-02-21T04:29:26.339658Z",
     "shell.execute_reply.started": "2022-02-21T04:16:40.121359Z"
    },
    "papermill": {
     "duration": 0.018275,
     "end_time": "2022-02-21T04:29:26.339815",
     "exception": false,
     "start_time": "2022-02-21T04:29:26.321540",
     "status": "completed"
    },
    "tags": []
   },
   "outputs": [],
   "source": [
    "def identity_function(x):\n",
    "    return x"
   ]
  },
  {
   "cell_type": "code",
   "execution_count": 8,
   "id": "b7ad9dfc",
   "metadata": {
    "execution": {
     "iopub.execute_input": "2022-02-21T04:29:26.371834Z",
     "iopub.status.busy": "2022-02-21T04:29:26.371224Z",
     "iopub.status.idle": "2022-02-21T04:29:26.374639Z",
     "shell.execute_reply": "2022-02-21T04:29:26.374067Z",
     "shell.execute_reply.started": "2022-02-21T04:18:20.076150Z"
    },
    "papermill": {
     "duration": 0.022633,
     "end_time": "2022-02-21T04:29:26.374780",
     "exception": false,
     "start_time": "2022-02-21T04:29:26.352147",
     "status": "completed"
    },
    "tags": []
   },
   "outputs": [
    {
     "name": "stdout",
     "output_type": "stream",
     "text": [
      "[0.31682708 0.69627909]\n",
      "[0.31682708 0.69627909]\n"
     ]
    }
   ],
   "source": [
    "W3 = np.array([[0.1, 0.3], [0.2, 0.4]])\n",
    "B3 = np.array([0.1, 0.2])\n",
    "\n",
    "A3 = np.dot(Z2, W3) + B3\n",
    "Y = identity_function(A3)\n",
    "\n",
    "print(A3)\n",
    "print(Y)"
   ]
  },
  {
   "cell_type": "markdown",
   "id": "f8641919",
   "metadata": {
    "papermill": {
     "duration": 0.013212,
     "end_time": "2022-02-21T04:29:26.400816",
     "exception": false,
     "start_time": "2022-02-21T04:29:26.387604",
     "status": "completed"
    },
    "tags": []
   },
   "source": [
    "### 3.4.3　実装のまとめ"
   ]
  },
  {
   "cell_type": "code",
   "execution_count": 9,
   "id": "ecaf6ba8",
   "metadata": {
    "execution": {
     "iopub.execute_input": "2022-02-21T04:29:26.434622Z",
     "iopub.status.busy": "2022-02-21T04:29:26.430725Z",
     "iopub.status.idle": "2022-02-21T04:29:26.436514Z",
     "shell.execute_reply": "2022-02-21T04:29:26.436907Z",
     "shell.execute_reply.started": "2022-02-21T04:23:53.806028Z"
    },
    "papermill": {
     "duration": 0.022171,
     "end_time": "2022-02-21T04:29:26.437064",
     "exception": false,
     "start_time": "2022-02-21T04:29:26.414893",
     "status": "completed"
    },
    "tags": []
   },
   "outputs": [],
   "source": [
    "def init_network():\n",
    "    network = {}\n",
    "    network['W1'] = np.array([[0.1, 0.3, 0.5], [0.2, 0.4, 0.6]])\n",
    "    network['b1'] = np.array([0.1, 0.2, 0.3])\n",
    "    network['W2'] = np.array([[0.1, 0.4], [0.2, 0.5], [0.3, 0.6]])\n",
    "    network['b2'] = np.array([0.1, 0.2])\n",
    "    network['W3'] = np.array([[0.1, 0.3], [0.2, 0.4]])\n",
    "    network['b3'] = np.array([0.1, 0.2])\n",
    "    \n",
    "    return network"
   ]
  },
  {
   "cell_type": "code",
   "execution_count": 10,
   "id": "17875c44",
   "metadata": {
    "execution": {
     "iopub.execute_input": "2022-02-21T04:29:26.470639Z",
     "iopub.status.busy": "2022-02-21T04:29:26.469981Z",
     "iopub.status.idle": "2022-02-21T04:29:26.472567Z",
     "shell.execute_reply": "2022-02-21T04:29:26.472956Z",
     "shell.execute_reply.started": "2022-02-21T04:26:40.634431Z"
    },
    "papermill": {
     "duration": 0.021814,
     "end_time": "2022-02-21T04:29:26.473128",
     "exception": false,
     "start_time": "2022-02-21T04:29:26.451314",
     "status": "completed"
    },
    "tags": []
   },
   "outputs": [],
   "source": [
    "def forward(network, x):\n",
    "    W1, W2, W3 = network['W1'], network['W2'], network['W3']\n",
    "    b1, b2, b3 = network['b1'], network['b2'], network['b3']\n",
    "    a1 = np.dot(x, W1) + b1\n",
    "    z1 = sigmoid(a1)\n",
    "    a2 = np.dot(z1, W2) + b2\n",
    "    z2 = sigmoid(a2)\n",
    "    a3 = np.dot(z2, W3) + b3\n",
    "    y = identity_function(a3)\n",
    "    \n",
    "    return y"
   ]
  },
  {
   "cell_type": "code",
   "execution_count": 11,
   "id": "e8b6ce40",
   "metadata": {
    "execution": {
     "iopub.execute_input": "2022-02-21T04:29:26.503794Z",
     "iopub.status.busy": "2022-02-21T04:29:26.503173Z",
     "iopub.status.idle": "2022-02-21T04:29:26.506598Z",
     "shell.execute_reply": "2022-02-21T04:29:26.505991Z",
     "shell.execute_reply.started": "2022-02-21T04:28:22.782992Z"
    },
    "papermill": {
     "duration": 0.02092,
     "end_time": "2022-02-21T04:29:26.506734",
     "exception": false,
     "start_time": "2022-02-21T04:29:26.485814",
     "status": "completed"
    },
    "tags": []
   },
   "outputs": [
    {
     "name": "stdout",
     "output_type": "stream",
     "text": [
      "[0.31682708 0.69627909]\n"
     ]
    }
   ],
   "source": [
    "network = init_network()\n",
    "x = np.array([1.0, 0.5])\n",
    "y = forward(network, x)\n",
    "print(y)"
   ]
  }
 ],
 "metadata": {
  "kernelspec": {
   "display_name": "Python 3",
   "language": "python",
   "name": "python3"
  },
  "language_info": {
   "codemirror_mode": {
    "name": "ipython",
    "version": 3
   },
   "file_extension": ".py",
   "mimetype": "text/x-python",
   "name": "python",
   "nbconvert_exporter": "python",
   "pygments_lexer": "ipython3",
   "version": "3.7.12"
  },
  "papermill": {
   "default_parameters": {},
   "duration": 10.12734,
   "end_time": "2022-02-21T04:29:27.130715",
   "environment_variables": {},
   "exception": null,
   "input_path": "__notebook__.ipynb",
   "output_path": "__notebook__.ipynb",
   "parameters": {},
   "start_time": "2022-02-21T04:29:17.003375",
   "version": "2.3.3"
  }
 },
 "nbformat": 4,
 "nbformat_minor": 5
}
