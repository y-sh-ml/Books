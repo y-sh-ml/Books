{
 "cells": [
  {
   "cell_type": "markdown",
   "id": "334e0660",
   "metadata": {
    "_cell_guid": "b1076dfc-b9ad-4769-8c92-a6c4dae69d19",
    "_uuid": "8f2839f25d086af736a60e9eeb907d3b93b6e0e5",
    "papermill": {
     "duration": 0.016096,
     "end_time": "2022-02-15T02:47:11.198100",
     "exception": false,
     "start_time": "2022-02-15T02:47:11.182004",
     "status": "completed"
    },
    "tags": []
   },
   "source": [
    "## 2.3　パーセプトロンの実装"
   ]
  },
  {
   "cell_type": "code",
   "execution_count": 1,
   "id": "d93e358f",
   "metadata": {
    "execution": {
     "iopub.execute_input": "2022-02-15T02:47:11.239886Z",
     "iopub.status.busy": "2022-02-15T02:47:11.239251Z",
     "iopub.status.idle": "2022-02-15T02:47:11.243939Z",
     "shell.execute_reply": "2022-02-15T02:47:11.243142Z",
     "shell.execute_reply.started": "2022-02-15T02:31:08.305938Z"
    },
    "papermill": {
     "duration": 0.028631,
     "end_time": "2022-02-15T02:47:11.244110",
     "exception": false,
     "start_time": "2022-02-15T02:47:11.215479",
     "status": "completed"
    },
    "tags": []
   },
   "outputs": [],
   "source": [
    "import numpy as np\n",
    "import pandas as pd"
   ]
  },
  {
   "cell_type": "markdown",
   "id": "c3c26cef",
   "metadata": {
    "papermill": {
     "duration": 0.01492,
     "end_time": "2022-02-15T02:47:11.274411",
     "exception": false,
     "start_time": "2022-02-15T02:47:11.259491",
     "status": "completed"
    },
    "tags": []
   },
   "source": [
    "### 2.3.1 簡単な実装"
   ]
  },
  {
   "cell_type": "code",
   "execution_count": 2,
   "id": "da536b11",
   "metadata": {
    "execution": {
     "iopub.execute_input": "2022-02-15T02:47:11.310356Z",
     "iopub.status.busy": "2022-02-15T02:47:11.309626Z",
     "iopub.status.idle": "2022-02-15T02:47:11.312341Z",
     "shell.execute_reply": "2022-02-15T02:47:11.311664Z",
     "shell.execute_reply.started": "2022-02-15T02:32:38.972062Z"
    },
    "papermill": {
     "duration": 0.022865,
     "end_time": "2022-02-15T02:47:11.312480",
     "exception": false,
     "start_time": "2022-02-15T02:47:11.289615",
     "status": "completed"
    },
    "tags": []
   },
   "outputs": [],
   "source": [
    "def AND(x1, x2):\n",
    "    w1, w2, theta = 0.5, 0.5, 0.7\n",
    "    tmp = x1*w1 + x2*w2\n",
    "    if tmp <= theta:\n",
    "        return 0\n",
    "    elif tmp > theta:\n",
    "        return 1"
   ]
  },
  {
   "cell_type": "code",
   "execution_count": 3,
   "id": "d4aa7e49",
   "metadata": {
    "execution": {
     "iopub.execute_input": "2022-02-15T02:47:11.349115Z",
     "iopub.status.busy": "2022-02-15T02:47:11.348382Z",
     "iopub.status.idle": "2022-02-15T02:47:11.351380Z",
     "shell.execute_reply": "2022-02-15T02:47:11.351912Z",
     "shell.execute_reply.started": "2022-02-15T02:33:24.140000Z"
    },
    "papermill": {
     "duration": 0.023529,
     "end_time": "2022-02-15T02:47:11.352093",
     "exception": false,
     "start_time": "2022-02-15T02:47:11.328564",
     "status": "completed"
    },
    "tags": []
   },
   "outputs": [
    {
     "name": "stdout",
     "output_type": "stream",
     "text": [
      "0\n",
      "0\n",
      "0\n",
      "1\n"
     ]
    }
   ],
   "source": [
    "print(AND(0, 0))\n",
    "print(AND(1, 0))\n",
    "print(AND(0, 1))\n",
    "print(AND(1, 1))"
   ]
  },
  {
   "cell_type": "markdown",
   "id": "2e9aa3eb",
   "metadata": {
    "papermill": {
     "duration": 0.015453,
     "end_time": "2022-02-15T02:47:11.383677",
     "exception": false,
     "start_time": "2022-02-15T02:47:11.368224",
     "status": "completed"
    },
    "tags": []
   },
   "source": [
    "### 2.3.2　重みとバイアスの導入"
   ]
  },
  {
   "cell_type": "code",
   "execution_count": 4,
   "id": "091a1aed",
   "metadata": {
    "execution": {
     "iopub.execute_input": "2022-02-15T02:47:11.421002Z",
     "iopub.status.busy": "2022-02-15T02:47:11.420129Z",
     "iopub.status.idle": "2022-02-15T02:47:11.421599Z",
     "shell.execute_reply": "2022-02-15T02:47:11.422213Z"
    },
    "papermill": {
     "duration": 0.022621,
     "end_time": "2022-02-15T02:47:11.422395",
     "exception": false,
     "start_time": "2022-02-15T02:47:11.399774",
     "status": "completed"
    },
    "tags": []
   },
   "outputs": [],
   "source": [
    "x = np.array([0, 1])\n",
    "w = np.array([0.5, 0.5])\n",
    "b = -0.7"
   ]
  },
  {
   "cell_type": "code",
   "execution_count": 5,
   "id": "8ddd9392",
   "metadata": {
    "execution": {
     "iopub.execute_input": "2022-02-15T02:47:11.458070Z",
     "iopub.status.busy": "2022-02-15T02:47:11.457418Z",
     "iopub.status.idle": "2022-02-15T02:47:11.463830Z",
     "shell.execute_reply": "2022-02-15T02:47:11.464529Z",
     "shell.execute_reply.started": "2022-02-15T02:36:29.028461Z"
    },
    "papermill": {
     "duration": 0.026418,
     "end_time": "2022-02-15T02:47:11.464701",
     "exception": false,
     "start_time": "2022-02-15T02:47:11.438283",
     "status": "completed"
    },
    "tags": []
   },
   "outputs": [
    {
     "name": "stdout",
     "output_type": "stream",
     "text": [
      "[0.  0.5]\n",
      "0.5\n",
      "-0.19999999999999996\n"
     ]
    }
   ],
   "source": [
    "print(w*x)\n",
    "print(np.sum(w*x))\n",
    "print(np.sum(w*x) + b)"
   ]
  },
  {
   "cell_type": "markdown",
   "id": "e9c88e30",
   "metadata": {
    "papermill": {
     "duration": 0.016309,
     "end_time": "2022-02-15T02:47:11.497246",
     "exception": false,
     "start_time": "2022-02-15T02:47:11.480937",
     "status": "completed"
    },
    "tags": []
   },
   "source": [
    "### 2.3.3　重みとバイアスによる実装"
   ]
  },
  {
   "cell_type": "code",
   "execution_count": 6,
   "id": "9ce16e52",
   "metadata": {
    "execution": {
     "iopub.execute_input": "2022-02-15T02:47:11.533045Z",
     "iopub.status.busy": "2022-02-15T02:47:11.532320Z",
     "iopub.status.idle": "2022-02-15T02:47:11.537180Z",
     "shell.execute_reply": "2022-02-15T02:47:11.537704Z",
     "shell.execute_reply.started": "2022-02-15T02:38:42.353545Z"
    },
    "papermill": {
     "duration": 0.024402,
     "end_time": "2022-02-15T02:47:11.537900",
     "exception": false,
     "start_time": "2022-02-15T02:47:11.513498",
     "status": "completed"
    },
    "tags": []
   },
   "outputs": [],
   "source": [
    "def AND(x1, x2):\n",
    "    x = np.array([x1, x2])\n",
    "    w = np.array([0.5, 0.5])\n",
    "    b = -0.7\n",
    "    tmp = np.sum(w*x) + b\n",
    "    if tmp <= 0:\n",
    "        return 0\n",
    "    else:\n",
    "        return 1"
   ]
  },
  {
   "cell_type": "code",
   "execution_count": 7,
   "id": "64bb6596",
   "metadata": {
    "execution": {
     "iopub.execute_input": "2022-02-15T02:47:11.574123Z",
     "iopub.status.busy": "2022-02-15T02:47:11.573459Z",
     "iopub.status.idle": "2022-02-15T02:47:11.579559Z",
     "shell.execute_reply": "2022-02-15T02:47:11.578966Z",
     "shell.execute_reply.started": "2022-02-15T02:39:06.215738Z"
    },
    "papermill": {
     "duration": 0.02518,
     "end_time": "2022-02-15T02:47:11.579700",
     "exception": false,
     "start_time": "2022-02-15T02:47:11.554520",
     "status": "completed"
    },
    "tags": []
   },
   "outputs": [
    {
     "name": "stdout",
     "output_type": "stream",
     "text": [
      "0\n",
      "0\n",
      "0\n",
      "1\n"
     ]
    }
   ],
   "source": [
    "print(AND(0, 0))\n",
    "print(AND(1, 0))\n",
    "print(AND(0, 1))\n",
    "print(AND(1, 1))"
   ]
  },
  {
   "cell_type": "markdown",
   "id": "1cc80cc3",
   "metadata": {
    "papermill": {
     "duration": 0.016233,
     "end_time": "2022-02-15T02:47:11.612358",
     "exception": false,
     "start_time": "2022-02-15T02:47:11.596125",
     "status": "completed"
    },
    "tags": []
   },
   "source": [
    "バイアスは発火のしやすさ（出力信号が1を出力する度合い）を調整するパラメータとして機能する。"
   ]
  },
  {
   "cell_type": "code",
   "execution_count": 8,
   "id": "f35b48d9",
   "metadata": {
    "execution": {
     "iopub.execute_input": "2022-02-15T02:47:11.649482Z",
     "iopub.status.busy": "2022-02-15T02:47:11.648747Z",
     "iopub.status.idle": "2022-02-15T02:47:11.653817Z",
     "shell.execute_reply": "2022-02-15T02:47:11.654413Z",
     "shell.execute_reply.started": "2022-02-15T02:43:29.777129Z"
    },
    "papermill": {
     "duration": 0.025784,
     "end_time": "2022-02-15T02:47:11.654595",
     "exception": false,
     "start_time": "2022-02-15T02:47:11.628811",
     "status": "completed"
    },
    "tags": []
   },
   "outputs": [],
   "source": [
    "def NAND(x1, x2):\n",
    "    x = np.array([x1, x2])\n",
    "    w = np.array([-0.5, -0.5])\n",
    "    b = 0.7\n",
    "    tmp = np.sum(w*x) + b\n",
    "    if tmp <= 0:\n",
    "        return 0\n",
    "    else:\n",
    "        return 1"
   ]
  },
  {
   "cell_type": "code",
   "execution_count": 9,
   "id": "861eb17b",
   "metadata": {
    "execution": {
     "iopub.execute_input": "2022-02-15T02:47:11.691715Z",
     "iopub.status.busy": "2022-02-15T02:47:11.691070Z",
     "iopub.status.idle": "2022-02-15T02:47:11.696599Z",
     "shell.execute_reply": "2022-02-15T02:47:11.697238Z",
     "shell.execute_reply.started": "2022-02-15T02:45:33.759410Z"
    },
    "papermill": {
     "duration": 0.02553,
     "end_time": "2022-02-15T02:47:11.697444",
     "exception": false,
     "start_time": "2022-02-15T02:47:11.671914",
     "status": "completed"
    },
    "tags": []
   },
   "outputs": [
    {
     "name": "stdout",
     "output_type": "stream",
     "text": [
      "1\n",
      "1\n",
      "1\n",
      "0\n"
     ]
    }
   ],
   "source": [
    "print(NAND(0, 0))\n",
    "print(NAND(1, 0))\n",
    "print(NAND(0, 1))\n",
    "print(NAND(1, 1))"
   ]
  },
  {
   "cell_type": "code",
   "execution_count": 10,
   "id": "76dc1b88",
   "metadata": {
    "execution": {
     "iopub.execute_input": "2022-02-15T02:47:11.735945Z",
     "iopub.status.busy": "2022-02-15T02:47:11.735238Z",
     "iopub.status.idle": "2022-02-15T02:47:11.740550Z",
     "shell.execute_reply": "2022-02-15T02:47:11.739898Z",
     "shell.execute_reply.started": "2022-02-15T02:44:46.492724Z"
    },
    "papermill": {
     "duration": 0.025984,
     "end_time": "2022-02-15T02:47:11.740690",
     "exception": false,
     "start_time": "2022-02-15T02:47:11.714706",
     "status": "completed"
    },
    "tags": []
   },
   "outputs": [],
   "source": [
    "def OR(x1, x2):\n",
    "    x = np.array([x1, x2])\n",
    "    w = np.array([0.5, 0.5])\n",
    "    b = -0.2\n",
    "    tmp = np.sum(w*x) + b\n",
    "    if tmp <= 0:\n",
    "        return 0\n",
    "    else:\n",
    "        return 1"
   ]
  },
  {
   "cell_type": "code",
   "execution_count": 11,
   "id": "8300ba80",
   "metadata": {
    "execution": {
     "iopub.execute_input": "2022-02-15T02:47:11.779631Z",
     "iopub.status.busy": "2022-02-15T02:47:11.778944Z",
     "iopub.status.idle": "2022-02-15T02:47:11.785959Z",
     "shell.execute_reply": "2022-02-15T02:47:11.786509Z",
     "shell.execute_reply.started": "2022-02-15T02:45:56.930327Z"
    },
    "papermill": {
     "duration": 0.02887,
     "end_time": "2022-02-15T02:47:11.786681",
     "exception": false,
     "start_time": "2022-02-15T02:47:11.757811",
     "status": "completed"
    },
    "tags": []
   },
   "outputs": [
    {
     "name": "stdout",
     "output_type": "stream",
     "text": [
      "0\n",
      "1\n",
      "1\n",
      "1\n"
     ]
    }
   ],
   "source": [
    "print(OR(0, 0))\n",
    "print(OR(1, 0))\n",
    "print(OR(0, 1))\n",
    "print(OR(1, 1))"
   ]
  }
 ],
 "metadata": {
  "kernelspec": {
   "display_name": "Python 3",
   "language": "python",
   "name": "python3"
  },
  "language_info": {
   "codemirror_mode": {
    "name": "ipython",
    "version": 3
   },
   "file_extension": ".py",
   "mimetype": "text/x-python",
   "name": "python",
   "nbconvert_exporter": "python",
   "pygments_lexer": "ipython3",
   "version": "3.7.12"
  },
  "papermill": {
   "default_parameters": {},
   "duration": 12.024055,
   "end_time": "2022-02-15T02:47:12.415999",
   "environment_variables": {},
   "exception": null,
   "input_path": "__notebook__.ipynb",
   "output_path": "__notebook__.ipynb",
   "parameters": {},
   "start_time": "2022-02-15T02:47:00.391944",
   "version": "2.3.3"
  }
 },
 "nbformat": 4,
 "nbformat_minor": 5
}
