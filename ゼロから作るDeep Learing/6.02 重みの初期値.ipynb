{
 "cells": [
  {
   "cell_type": "markdown",
   "id": "5ca38a99",
   "metadata": {
    "_cell_guid": "b1076dfc-b9ad-4769-8c92-a6c4dae69d19",
    "_uuid": "8f2839f25d086af736a60e9eeb907d3b93b6e0e5",
    "papermill": {
     "duration": 0.00425,
     "end_time": "2022-05-31T05:44:36.021702",
     "exception": false,
     "start_time": "2022-05-31T05:44:36.017452",
     "status": "completed"
    },
    "tags": []
   },
   "source": [
    "## 6.2　重みの初期値"
   ]
  },
  {
   "cell_type": "code",
   "execution_count": 1,
   "id": "010d5a7a",
   "metadata": {
    "execution": {
     "iopub.execute_input": "2022-05-31T05:44:36.032289Z",
     "iopub.status.busy": "2022-05-31T05:44:36.031810Z",
     "iopub.status.idle": "2022-05-31T05:44:36.040911Z",
     "shell.execute_reply": "2022-05-31T05:44:36.039894Z"
    },
    "papermill": {
     "duration": 0.015522,
     "end_time": "2022-05-31T05:44:36.042894",
     "exception": false,
     "start_time": "2022-05-31T05:44:36.027372",
     "status": "completed"
    },
    "tags": []
   },
   "outputs": [],
   "source": [
    "import numpy as np\n",
    "import matplotlib.pyplot as plt"
   ]
  },
  {
   "cell_type": "markdown",
   "id": "6383b4bc",
   "metadata": {
    "execution": {
     "iopub.execute_input": "2022-05-31T05:26:04.544165Z",
     "iopub.status.busy": "2022-05-31T05:26:04.543789Z",
     "iopub.status.idle": "2022-05-31T05:26:04.548127Z",
     "shell.execute_reply": "2022-05-31T05:26:04.547290Z",
     "shell.execute_reply.started": "2022-05-31T05:26:04.544135Z"
    },
    "papermill": {
     "duration": 0.003036,
     "end_time": "2022-05-31T05:44:36.049286",
     "exception": false,
     "start_time": "2022-05-31T05:44:36.046250",
     "status": "completed"
    },
    "tags": []
   },
   "source": [
    "### 6.2.2　隠れ層のアクティベーション分布"
   ]
  },
  {
   "cell_type": "code",
   "execution_count": 2,
   "id": "2f338aba",
   "metadata": {
    "execution": {
     "iopub.execute_input": "2022-05-31T05:44:36.057300Z",
     "iopub.status.busy": "2022-05-31T05:44:36.056643Z",
     "iopub.status.idle": "2022-05-31T05:44:36.061298Z",
     "shell.execute_reply": "2022-05-31T05:44:36.060545Z"
    },
    "papermill": {
     "duration": 0.010779,
     "end_time": "2022-05-31T05:44:36.063257",
     "exception": false,
     "start_time": "2022-05-31T05:44:36.052478",
     "status": "completed"
    },
    "tags": []
   },
   "outputs": [],
   "source": [
    "def sigmoid(x):\n",
    "    return 1 / (1 + np.exp(-x))\n",
    "\n",
    "\n",
    "def ReLU(x):\n",
    "    return np.maximum(0, x)\n",
    "\n",
    "\n",
    "def tanh(x):\n",
    "    return np.tanh(x)"
   ]
  },
  {
   "cell_type": "code",
   "execution_count": 3,
   "id": "fc812ca6",
   "metadata": {
    "execution": {
     "iopub.execute_input": "2022-05-31T05:44:36.071465Z",
     "iopub.status.busy": "2022-05-31T05:44:36.070754Z",
     "iopub.status.idle": "2022-05-31T05:44:36.080010Z",
     "shell.execute_reply": "2022-05-31T05:44:36.079133Z"
    },
    "papermill": {
     "duration": 0.015912,
     "end_time": "2022-05-31T05:44:36.082169",
     "exception": false,
     "start_time": "2022-05-31T05:44:36.066257",
     "status": "completed"
    },
    "tags": []
   },
   "outputs": [
    {
     "name": "stdout",
     "output_type": "stream",
     "text": [
      "(1000, 100)\n"
     ]
    }
   ],
   "source": [
    "x = np.random.randn(1000, 100)\n",
    "print(x.shape)"
   ]
  },
  {
   "cell_type": "code",
   "execution_count": 4,
   "id": "d6a5bbfa",
   "metadata": {
    "execution": {
     "iopub.execute_input": "2022-05-31T05:44:36.090745Z",
     "iopub.status.busy": "2022-05-31T05:44:36.090073Z",
     "iopub.status.idle": "2022-05-31T05:44:36.094450Z",
     "shell.execute_reply": "2022-05-31T05:44:36.093784Z"
    },
    "papermill": {
     "duration": 0.010396,
     "end_time": "2022-05-31T05:44:36.096283",
     "exception": false,
     "start_time": "2022-05-31T05:44:36.085887",
     "status": "completed"
    },
    "tags": []
   },
   "outputs": [],
   "source": [
    "node_num = 100\n",
    "hidden_layer_size = 5\n",
    "activations = {}"
   ]
  },
  {
   "cell_type": "markdown",
   "id": "fbb6d2bf",
   "metadata": {
    "papermill": {
     "duration": 0.002605,
     "end_time": "2022-05-31T05:44:36.101989",
     "exception": false,
     "start_time": "2022-05-31T05:44:36.099384",
     "status": "completed"
    },
    "tags": []
   },
   "source": [
    "5 つの層を単純に繋げて、各層の出力結果を確認する。"
   ]
  },
  {
   "cell_type": "code",
   "execution_count": 5,
   "id": "2e9c9007",
   "metadata": {
    "execution": {
     "iopub.execute_input": "2022-05-31T05:44:36.109532Z",
     "iopub.status.busy": "2022-05-31T05:44:36.108848Z",
     "iopub.status.idle": "2022-05-31T05:44:36.872418Z",
     "shell.execute_reply": "2022-05-31T05:44:36.871351Z"
    },
    "papermill": {
     "duration": 0.769645,
     "end_time": "2022-05-31T05:44:36.874455",
     "exception": false,
     "start_time": "2022-05-31T05:44:36.104810",
     "status": "completed"
    },
    "tags": []
   },
   "outputs": [
    {
     "data": {
      "image/png": "[encoded data removed]",
      "text/plain": [
       "<Figure size 432x288 with 5 Axes>"
      ]
     },
     "metadata": {
      "needs_background": "light"
     },
     "output_type": "display_data"
    }
   ],
   "source": [
    "for i in range(hidden_layer_size):\n",
    "    if i != 0:\n",
    "        x = activations[i-1]\n",
    "        \n",
    "    w = np.random.randn(node_num, node_num) * 1\n",
    "\n",
    "    z = np.dot(x, w)\n",
    "    a = sigmoid(z)\n",
    "    activations[i] = a\n",
    "    \n",
    "for i, a in activations.items():\n",
    "    plt.subplot(1, len(activations), i+1)\n",
    "    plt.title(str(i+1) + '-layer')\n",
    "    if i != 0: plt.yticks([], [])\n",
    "    plt.hist(a.flatten(), 30, range=(0,1))\n",
    "    \n",
    "plt.show()"
   ]
  },
  {
   "cell_type": "markdown",
   "id": "45c78f4f",
   "metadata": {
    "papermill": {
     "duration": 0.003034,
     "end_time": "2022-05-31T05:44:36.880881",
     "exception": false,
     "start_time": "2022-05-31T05:44:36.877847",
     "status": "completed"
    },
    "tags": []
   },
   "source": [
    "1層目以降は、`activations[i-1]` で前の層の出力結果を受け取っている。"
   ]
  },
  {
   "cell_type": "code",
   "execution_count": 6,
   "id": "036eeba6",
   "metadata": {
    "execution": {
     "iopub.execute_input": "2022-05-31T05:44:36.889464Z",
     "iopub.status.busy": "2022-05-31T05:44:36.888516Z",
     "iopub.status.idle": "2022-05-31T05:44:37.614403Z",
     "shell.execute_reply": "2022-05-31T05:44:37.612536Z"
    },
    "papermill": {
     "duration": 0.732541,
     "end_time": "2022-05-31T05:44:37.616735",
     "exception": false,
     "start_time": "2022-05-31T05:44:36.884194",
     "status": "completed"
    },
    "tags": []
   },
   "outputs": [
    {
     "data": {
      "image/png": "[encoded data removed]",
      "text/plain": [
       "<Figure size 432x288 with 5 Axes>"
      ]
     },
     "metadata": {
      "needs_background": "light"
     },
     "output_type": "display_data"
    }
   ],
   "source": [
    "for i in range(hidden_layer_size):\n",
    "    if i != 0:\n",
    "        x = activations[i-1]\n",
    "        \n",
    "    w = np.random.randn(node_num, node_num) * 0.01\n",
    "\n",
    "    z = np.dot(x, w)\n",
    "    a = sigmoid(z)\n",
    "    activations[i] = a\n",
    "    \n",
    "for i, a in activations.items():\n",
    "    plt.subplot(1, len(activations), i+1)\n",
    "    plt.title(str(i+1) + '-layer')\n",
    "    if i != 0: plt.yticks([], [])\n",
    "    plt.hist(a.flatten(), 30, range=(0,1))\n",
    "    \n",
    "plt.show()"
   ]
  },
  {
   "cell_type": "markdown",
   "id": "51d9e478",
   "metadata": {
    "papermill": {
     "duration": 0.003396,
     "end_time": "2022-05-31T05:44:37.623900",
     "exception": false,
     "start_time": "2022-05-31T05:44:37.620504",
     "status": "completed"
    },
    "tags": []
   },
   "source": [
    "Xavier の初期値を用いる。<br>\n",
    "前層のノードの個数を使って、次の層の重みの初期値に適用する。"
   ]
  },
  {
   "cell_type": "code",
   "execution_count": 7,
   "id": "f5006715",
   "metadata": {
    "execution": {
     "iopub.execute_input": "2022-05-31T05:44:37.633087Z",
     "iopub.status.busy": "2022-05-31T05:44:37.632491Z",
     "iopub.status.idle": "2022-05-31T05:44:38.271913Z",
     "shell.execute_reply": "2022-05-31T05:44:38.271163Z"
    },
    "papermill": {
     "duration": 0.646416,
     "end_time": "2022-05-31T05:44:38.273935",
     "exception": false,
     "start_time": "2022-05-31T05:44:37.627519",
     "status": "completed"
    },
    "tags": []
   },
   "outputs": [
    {
     "data": {
      "image/png": "[encoded data removed]",
      "text/plain": [
       "<Figure size 432x288 with 5 Axes>"
      ]
     },
     "metadata": {
      "needs_background": "light"
     },
     "output_type": "display_data"
    }
   ],
   "source": [
    "for i in range(hidden_layer_size):\n",
    "    if i != 0:\n",
    "        x = activations[i-1]\n",
    "        \n",
    "    w = np.random.randn(node_num, node_num) / np.sqrt(node_num)\n",
    "\n",
    "    z = np.dot(x, w)\n",
    "    a = sigmoid(z)\n",
    "    activations[i] = a\n",
    "    \n",
    "for i, a in activations.items():\n",
    "    plt.subplot(1, len(activations), i+1)\n",
    "    plt.title(str(i+1) + '-layer')\n",
    "    if i != 0: plt.yticks([], [])\n",
    "    plt.hist(a.flatten(), 30, range=(0,1))\n",
    "    \n",
    "plt.show()"
   ]
  }
 ],
 "metadata": {
  "kernelspec": {
   "display_name": "Python 3",
   "language": "python",
   "name": "python3"
  },
  "language_info": {
   "codemirror_mode": {
    "name": "ipython",
    "version": 3
   },
   "file_extension": ".py",
   "mimetype": "text/x-python",
   "name": "python",
   "nbconvert_exporter": "python",
   "pygments_lexer": "ipython3",
   "version": "3.7.12"
  },
  "papermill": {
   "default_parameters": {},
   "duration": 12.260465,
   "end_time": "2022-05-31T05:44:39.003785",
   "environment_variables": {},
   "exception": null,
   "input_path": "__notebook__.ipynb",
   "output_path": "__notebook__.ipynb",
   "parameters": {},
   "start_time": "2022-05-31T05:44:26.743320",
   "version": "2.3.4"
  }
 },
 "nbformat": 4,
 "nbformat_minor": 5
}
