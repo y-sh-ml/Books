{
 "cells": [
  {
   "cell_type": "markdown",
   "id": "dfffaa0c",
   "metadata": {
    "_cell_guid": "b1076dfc-b9ad-4769-8c92-a6c4dae69d19",
    "_uuid": "8f2839f25d086af736a60e9eeb907d3b93b6e0e5",
    "papermill": {
     "duration": 0.004676,
     "end_time": "2022-06-03T01:55:23.710489",
     "exception": false,
     "start_time": "2022-06-03T01:55:23.705813",
     "status": "completed"
    },
    "tags": []
   },
   "source": [
    "## 5.7　誤差逆伝播法の実装"
   ]
  },
  {
   "cell_type": "code",
   "execution_count": 1,
   "id": "aa42b9f4",
   "metadata": {
    "execution": {
     "iopub.execute_input": "2022-06-03T01:55:23.722175Z",
     "iopub.status.busy": "2022-06-03T01:55:23.721515Z",
     "iopub.status.idle": "2022-06-03T01:55:23.729843Z",
     "shell.execute_reply": "2022-06-03T01:55:23.728899Z"
    },
    "papermill": {
     "duration": 0.01547,
     "end_time": "2022-06-03T01:55:23.732000",
     "exception": false,
     "start_time": "2022-06-03T01:55:23.716530",
     "status": "completed"
    },
    "tags": []
   },
   "outputs": [],
   "source": [
    "import sys\n",
    "import numpy as np"
   ]
  },
  {
   "cell_type": "code",
   "execution_count": 2,
   "id": "ac8a846c",
   "metadata": {
    "execution": {
     "iopub.execute_input": "2022-06-03T01:55:23.740591Z",
     "iopub.status.busy": "2022-06-03T01:55:23.740217Z",
     "iopub.status.idle": "2022-06-03T01:55:23.744255Z",
     "shell.execute_reply": "2022-06-03T01:55:23.743358Z"
    },
    "papermill": {
     "duration": 0.01037,
     "end_time": "2022-06-03T01:55:23.745972",
     "exception": false,
     "start_time": "2022-06-03T01:55:23.735602",
     "status": "completed"
    },
    "tags": []
   },
   "outputs": [],
   "source": [
    "sys.path.append('../input/deeplearningfromscratchmaster/deep-learning-from-scratch-master')"
   ]
  },
  {
   "cell_type": "code",
   "execution_count": 3,
   "id": "a3ab611c",
   "metadata": {
    "execution": {
     "iopub.execute_input": "2022-06-03T01:55:23.754878Z",
     "iopub.status.busy": "2022-06-03T01:55:23.754283Z",
     "iopub.status.idle": "2022-06-03T01:55:23.820871Z",
     "shell.execute_reply": "2022-06-03T01:55:23.819668Z"
    },
    "papermill": {
     "duration": 0.074379,
     "end_time": "2022-06-03T01:55:23.824045",
     "exception": false,
     "start_time": "2022-06-03T01:55:23.749666",
     "status": "completed"
    },
    "tags": []
   },
   "outputs": [],
   "source": [
    "from common.layers import *\n",
    "from common.gradient import numerical_gradient\n",
    "from collections import OrderedDict"
   ]
  },
  {
   "cell_type": "markdown",
   "id": "6d5ee3e0",
   "metadata": {
    "execution": {
     "iopub.execute_input": "2022-05-26T02:47:15.612234Z",
     "iopub.status.busy": "2022-05-26T02:47:15.611589Z",
     "iopub.status.idle": "2022-05-26T02:47:15.615932Z",
     "shell.execute_reply": "2022-05-26T02:47:15.615026Z",
     "shell.execute_reply.started": "2022-05-26T02:47:15.612197Z"
    },
    "papermill": {
     "duration": 0.003716,
     "end_time": "2022-06-03T01:55:23.832179",
     "exception": false,
     "start_time": "2022-06-03T01:55:23.828463",
     "status": "completed"
    },
    "tags": []
   },
   "source": [
    "### 5.7.2　誤差逆伝播に対応したニューラルネットワークの実装"
   ]
  },
  {
   "cell_type": "markdown",
   "id": "f34add35",
   "metadata": {
    "papermill": {
     "duration": 0.0037,
     "end_time": "2022-06-03T01:55:23.840019",
     "exception": false,
     "start_time": "2022-06-03T01:55:23.836319",
     "status": "completed"
    },
    "tags": []
   },
   "source": [
    "重みを持つ層が 2 層であるから、`TwoLayerNet` となっている。"
   ]
  },
  {
   "cell_type": "code",
   "execution_count": 4,
   "id": "2c4f4a1d",
   "metadata": {
    "execution": {
     "iopub.execute_input": "2022-06-03T01:55:23.850611Z",
     "iopub.status.busy": "2022-06-03T01:55:23.850087Z",
     "iopub.status.idle": "2022-06-03T01:55:23.865960Z",
     "shell.execute_reply": "2022-06-03T01:55:23.864700Z"
    },
    "papermill": {
     "duration": 0.024762,
     "end_time": "2022-06-03T01:55:23.868738",
     "exception": false,
     "start_time": "2022-06-03T01:55:23.843976",
     "status": "completed"
    },
    "tags": []
   },
   "outputs": [],
   "source": [
    "class TwoLayerNet:\n",
    "    \n",
    "    def __init__(self, input_size, hidden_size, output_size, weight_init_std=0.01):\n",
    "        self.params = {}\n",
    "        self.params['W1'] = weight_init_std * np.random.randn(input_size, hidden_size)\n",
    "        self.pamras['b1'] = np.zeros(hidden_size)\n",
    "        self.params['W2'] = weight_init_std * np.random.randn(hidden_size, output_size)\n",
    "        self.params['b2'] = np.zeros(output_size)\n",
    "        \n",
    "        self.layers = OrderedDict()\n",
    "        self.layers['Affine1'] = Affine(self.params['W1'], self.params['b1'])\n",
    "        self.layers['Relu1'] = Relu()\n",
    "        self.layers['Affine2'] = Affine(self.params['W2'], self.params['b2'])\n",
    "        \n",
    "        self.lastLayer = SoftmaxWithLoss()\n",
    "        \n",
    "    def predict(self, x):\n",
    "        for layer in self.layers.values():\n",
    "            x = layer.forward(x)\n",
    "            \n",
    "        return x\n",
    "    \n",
    "    def loss(self, x, t):\n",
    "        y = self.predict(x)\n",
    "        \n",
    "        return self.lastLayer.forward(y, t)\n",
    "    \n",
    "    def accuracy(self, x, t):\n",
    "        y = self.predict(x)\n",
    "        y = np.argmax(y, axis=1)\n",
    "        \n",
    "        if t.ndim != 1:\n",
    "            t = np.argmax(t, axis=1)\n",
    "            \n",
    "        accuracy = np.sum(y == t) / float(x.shape[0])\n",
    "        \n",
    "        return accuracy\n",
    "\n",
    "    def numerical_gradient(self, x, t):\n",
    "        loss_W = lambda W: self.loss(x,t)\n",
    "        \n",
    "        grads = {}\n",
    "        grads['W1'] = numerical_gradient(loss_W, self.params['W1'])\n",
    "        grads['b1'] = numerical_gradient(loss_W, self.params['b1'])\n",
    "        grads['W2'] = numerical_gradient(loss_W, self.params['W2'])\n",
    "        grads['b2'] = numerical_gradient(loss_W, self.params['b2'])\n",
    "        \n",
    "        return grads\n",
    "    \n",
    "    def gradient(self, x, t):\n",
    "        self.loss(x, t)\n",
    "        \n",
    "        dout = 1\n",
    "        dout = self.lastLayer.backward(dout)\n",
    "        \n",
    "        layers = list(self.layers.values())\n",
    "        layers.reverse()\n",
    "        \n",
    "        for layer in layers:\n",
    "            dout = layer.backward(dout)\n",
    "            \n",
    "        grads = {}\n",
    "        grads['W1'] = self.layers['Affine1'].dW\n",
    "        grads['b1'] = self.layers['Affine1'].db\n",
    "        grads['W2'] = self.layers['Affine2'].dW\n",
    "        grads['b2'] = self.layers['Affine2'].db\n",
    "        \n",
    "        return grads"
   ]
  },
  {
   "cell_type": "markdown",
   "id": "c109edfb",
   "metadata": {
    "papermill": {
     "duration": 0.003617,
     "end_time": "2022-06-03T01:55:23.876398",
     "exception": false,
     "start_time": "2022-06-03T01:55:23.872781",
     "status": "completed"
    },
    "tags": []
   },
   "source": [
    "### 5.7.4　誤差逆伝播法を使った学習"
   ]
  },
  {
   "cell_type": "code",
   "execution_count": 5,
   "id": "5ea452c3",
   "metadata": {
    "execution": {
     "iopub.execute_input": "2022-06-03T01:55:23.887771Z",
     "iopub.status.busy": "2022-06-03T01:55:23.886214Z",
     "iopub.status.idle": "2022-06-03T01:55:23.914265Z",
     "shell.execute_reply": "2022-06-03T01:55:23.913203Z"
    },
    "papermill": {
     "duration": 0.036431,
     "end_time": "2022-06-03T01:55:23.916836",
     "exception": false,
     "start_time": "2022-06-03T01:55:23.880405",
     "status": "completed"
    },
    "tags": []
   },
   "outputs": [],
   "source": [
    "from ch05.two_layer_net import TwoLayerNet"
   ]
  },
  {
   "cell_type": "code",
   "execution_count": 6,
   "id": "1262dcaf",
   "metadata": {
    "execution": {
     "iopub.execute_input": "2022-06-03T01:55:23.927727Z",
     "iopub.status.busy": "2022-06-03T01:55:23.926430Z",
     "iopub.status.idle": "2022-06-03T01:55:26.609712Z",
     "shell.execute_reply": "2022-06-03T01:55:26.608515Z"
    },
    "papermill": {
     "duration": 2.692194,
     "end_time": "2022-06-03T01:55:26.612961",
     "exception": false,
     "start_time": "2022-06-03T01:55:23.920767",
     "status": "completed"
    },
    "tags": []
   },
   "outputs": [
    {
     "name": "stdout",
     "output_type": "stream",
     "text": [
      "(60000, 784)\n",
      "(60000, 10)\n",
      "(10000, 784)\n",
      "(10000, 10)\n"
     ]
    }
   ],
   "source": [
    "x_train = np.load('../input/load-mnist/load_mnist/normalize=True, one_hot_label=True/x_train.npy')\n",
    "t_train = np.load('../input/load-mnist/load_mnist/normalize=True, one_hot_label=True/t_train.npy')\n",
    "x_test = np.load('../input/load-mnist/load_mnist/normalize=True, one_hot_label=True/x_test.npy')\n",
    "t_test = np.load('../input/load-mnist/load_mnist/normalize=True, one_hot_label=True/t_test.npy')\n",
    "\n",
    "print(x_train.shape)\n",
    "print(t_train.shape)\n",
    "print(x_test.shape)\n",
    "print(t_test.shape)"
   ]
  },
  {
   "cell_type": "code",
   "execution_count": 7,
   "id": "ad7aa51e",
   "metadata": {
    "execution": {
     "iopub.execute_input": "2022-06-03T01:55:26.623550Z",
     "iopub.status.busy": "2022-06-03T01:55:26.622667Z",
     "iopub.status.idle": "2022-06-03T01:55:26.633292Z",
     "shell.execute_reply": "2022-06-03T01:55:26.632290Z"
    },
    "papermill": {
     "duration": 0.018852,
     "end_time": "2022-06-03T01:55:26.635954",
     "exception": false,
     "start_time": "2022-06-03T01:55:26.617102",
     "status": "completed"
    },
    "tags": []
   },
   "outputs": [],
   "source": [
    "network = TwoLayerNet(input_size=784, hidden_size=50, output_size=10)\n",
    "\n",
    "iters_num = 10000\n",
    "train_size = x_train.shape[0]\n",
    "batch_size = 100\n",
    "learning_rate = 0.1\n",
    "\n",
    "train_loss_list = []\n",
    "train_acc_list = []\n",
    "test_acc_list = []\n",
    "\n",
    "iter_per_epoch = max(train_size / batch_size, 1)"
   ]
  },
  {
   "cell_type": "code",
   "execution_count": 8,
   "id": "acc41167",
   "metadata": {
    "execution": {
     "iopub.execute_input": "2022-06-03T01:55:26.646215Z",
     "iopub.status.busy": "2022-06-03T01:55:26.645721Z",
     "iopub.status.idle": "2022-06-03T01:56:00.230263Z",
     "shell.execute_reply": "2022-06-03T01:56:00.229037Z"
    },
    "papermill": {
     "duration": 33.593374,
     "end_time": "2022-06-03T01:56:00.233511",
     "exception": false,
     "start_time": "2022-06-03T01:55:26.640137",
     "status": "completed"
    },
    "tags": []
   },
   "outputs": [
    {
     "name": "stdout",
     "output_type": "stream",
     "text": [
      "0.17546666666666666 0.1762\n",
      "0.9039833333333334 0.9094\n",
      "0.9253333333333333 0.9273\n",
      "0.9373 0.9375\n",
      "0.9448333333333333 0.9432\n",
      "0.9524 0.9501\n",
      "0.9556666666666667 0.9531\n",
      "0.9614 0.9571\n",
      "0.9636666666666667 0.9595\n",
      "0.9675166666666667 0.9627\n",
      "0.9694833333333334 0.9649\n",
      "0.9712666666666666 0.9652\n",
      "0.9726833333333333 0.9647\n",
      "0.9753 0.9687\n",
      "0.97665 0.9678\n",
      "0.9777666666666667 0.9695\n",
      "0.9786166666666667 0.9697\n"
     ]
    }
   ],
   "source": [
    "for i in range(iters_num):\n",
    "    batch_mask = np.random.choice(train_size, batch_size)\n",
    "    x_batch = x_train[batch_mask]\n",
    "    t_batch = t_train[batch_mask]\n",
    "    \n",
    "    grad = network.gradient(x_batch, t_batch)\n",
    "    \n",
    "    for key in ('W1', 'b1', 'W2', 'b2'):\n",
    "        network.params[key] -= learning_rate * grad[key]\n",
    "        \n",
    "    loss = network.loss(x_batch, t_batch)\n",
    "    train_loss_list.append(loss)\n",
    "        \n",
    "    if i % iter_per_epoch == 0:\n",
    "        train_acc = network.accuracy(x_train, t_train)\n",
    "        test_acc = network.accuracy(x_test, t_test)\n",
    "        train_acc_list.append(train_acc)\n",
    "        test_acc_list.append(test_acc)\n",
    "        print(train_acc, test_acc)"
   ]
  },
  {
   "cell_type": "markdown",
   "id": "4952b802",
   "metadata": {
    "papermill": {
     "duration": 0.008446,
     "end_time": "2022-06-03T01:56:00.250769",
     "exception": false,
     "start_time": "2022-06-03T01:56:00.242323",
     "status": "completed"
    },
    "tags": []
   },
   "source": [
    "代入で、列名も引き継がれる。これは、よくある `df` の代入と同じである。"
   ]
  },
  {
   "cell_type": "code",
   "execution_count": 9,
   "id": "0cfbaa8a",
   "metadata": {
    "execution": {
     "iopub.execute_input": "2022-06-03T01:56:00.270380Z",
     "iopub.status.busy": "2022-06-03T01:56:00.269727Z",
     "iopub.status.idle": "2022-06-03T01:56:00.279827Z",
     "shell.execute_reply": "2022-06-03T01:56:00.278844Z"
    },
    "papermill": {
     "duration": 0.023452,
     "end_time": "2022-06-03T01:56:00.282783",
     "exception": false,
     "start_time": "2022-06-03T01:56:00.259331",
     "status": "completed"
    },
    "tags": []
   },
   "outputs": [],
   "source": [
    "grads = {}\n",
    "grads['W1'] = np.array([[0.1, 0.3, 0.5], [0.2, 0.4, 0.6]])\n",
    "grads['W2'] = np.array([[0.1, 0.4], [0.2, 0.5], [0.3, 0.6]])"
   ]
  },
  {
   "cell_type": "code",
   "execution_count": 10,
   "id": "450ed248",
   "metadata": {
    "execution": {
     "iopub.execute_input": "2022-06-03T01:56:00.301736Z",
     "iopub.status.busy": "2022-06-03T01:56:00.301190Z",
     "iopub.status.idle": "2022-06-03T01:56:00.308641Z",
     "shell.execute_reply": "2022-06-03T01:56:00.307656Z"
    },
    "papermill": {
     "duration": 0.02399,
     "end_time": "2022-06-03T01:56:00.315197",
     "exception": false,
     "start_time": "2022-06-03T01:56:00.291207",
     "status": "completed"
    },
    "tags": []
   },
   "outputs": [
    {
     "name": "stdout",
     "output_type": "stream",
     "text": [
      "[[0.1 0.3 0.5]\n",
      " [0.2 0.4 0.6]]\n",
      "\n",
      "[[0.1 0.4]\n",
      " [0.2 0.5]\n",
      " [0.3 0.6]]\n"
     ]
    }
   ],
   "source": [
    "grad = grads\n",
    "\n",
    "print(grad['W1'])\n",
    "print('')\n",
    "print(grad['W2'])"
   ]
  }
 ],
 "metadata": {
  "kernelspec": {
   "display_name": "Python 3",
   "language": "python",
   "name": "python3"
  },
  "language_info": {
   "codemirror_mode": {
    "name": "ipython",
    "version": 3
   },
   "file_extension": ".py",
   "mimetype": "text/x-python",
   "name": "python",
   "nbconvert_exporter": "python",
   "pygments_lexer": "ipython3",
   "version": "3.7.12"
  },
  "papermill": {
   "default_parameters": {},
   "duration": 45.738366,
   "end_time": "2022-06-03T01:56:00.950028",
   "environment_variables": {},
   "exception": null,
   "input_path": "__notebook__.ipynb",
   "output_path": "__notebook__.ipynb",
   "parameters": {},
   "start_time": "2022-06-03T01:55:15.211662",
   "version": "2.3.4"
  }
 },
 "nbformat": 4,
 "nbformat_minor": 5
}
