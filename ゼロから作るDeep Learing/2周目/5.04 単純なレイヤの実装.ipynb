{
 "cells": [
  {
   "cell_type": "markdown",
   "id": "f1616644",
   "metadata": {
    "_cell_guid": "b1076dfc-b9ad-4769-8c92-a6c4dae69d19",
    "_uuid": "8f2839f25d086af736a60e9eeb907d3b93b6e0e5",
    "papermill": {
     "duration": 0.016236,
     "end_time": "2022-05-25T06:34:33.036455",
     "exception": false,
     "start_time": "2022-05-25T06:34:33.020219",
     "status": "completed"
    },
    "tags": []
   },
   "source": [
    "## 5.4　単純なレイヤの実装"
   ]
  },
  {
   "cell_type": "markdown",
   "id": "938a9841",
   "metadata": {
    "papermill": {
     "duration": 0.015314,
     "end_time": "2022-05-25T06:34:33.067154",
     "exception": false,
     "start_time": "2022-05-25T06:34:33.051840",
     "status": "completed"
    },
    "tags": []
   },
   "source": [
    "順伝播時の入力が `x`、出力が `z` であれば、逆伝播は $\\frac{\\partial z}{\\partial x}$ となる。<br>\n",
    "このルールをもとに、加算ノード `x+y` では 1 が伝達され、乗算ノード `xy` では交差した値が伝えられる。<br>\n",
    "つまり、加算ノードや乗算ノードの便利な計算は、連鎖律によって成立している。"
   ]
  },
  {
   "cell_type": "code",
   "execution_count": 1,
   "id": "ab5165a7",
   "metadata": {
    "execution": {
     "iopub.execute_input": "2022-05-25T06:34:33.099994Z",
     "iopub.status.busy": "2022-05-25T06:34:33.099212Z",
     "iopub.status.idle": "2022-05-25T06:34:33.112970Z",
     "shell.execute_reply": "2022-05-25T06:34:33.112370Z"
    },
    "papermill": {
     "duration": 0.03278,
     "end_time": "2022-05-25T06:34:33.115207",
     "exception": false,
     "start_time": "2022-05-25T06:34:33.082427",
     "status": "completed"
    },
    "tags": []
   },
   "outputs": [],
   "source": [
    "class MulLayer:\n",
    "    def __init__(self):\n",
    "        self.x = None\n",
    "        self.y = None\n",
    "        \n",
    "    def forward(self, x, y):\n",
    "        self.x = x\n",
    "        self.y = y\n",
    "        out = x * y\n",
    "        \n",
    "        return out\n",
    "    \n",
    "    def backward(self, dout):\n",
    "        dx = dout * self.y\n",
    "        dy = dout * self.x\n",
    "        \n",
    "        return dx, dy"
   ]
  },
  {
   "cell_type": "markdown",
   "id": "d4592b6c",
   "metadata": {
    "papermill": {
     "duration": 0.01503,
     "end_time": "2022-05-25T06:34:33.145532",
     "exception": false,
     "start_time": "2022-05-25T06:34:33.130502",
     "status": "completed"
    },
    "tags": []
   },
   "source": [
    "`dout` は、上流から伝わってきた微分である。"
   ]
  },
  {
   "cell_type": "code",
   "execution_count": 2,
   "id": "c71cc2f8",
   "metadata": {
    "execution": {
     "iopub.execute_input": "2022-05-25T06:34:33.177408Z",
     "iopub.status.busy": "2022-05-25T06:34:33.176844Z",
     "iopub.status.idle": "2022-05-25T06:34:33.181305Z",
     "shell.execute_reply": "2022-05-25T06:34:33.180542Z"
    },
    "papermill": {
     "duration": 0.022682,
     "end_time": "2022-05-25T06:34:33.183251",
     "exception": false,
     "start_time": "2022-05-25T06:34:33.160569",
     "status": "completed"
    },
    "tags": []
   },
   "outputs": [],
   "source": [
    "apple = 100\n",
    "apple_num = 2\n",
    "tax = 1.1"
   ]
  },
  {
   "cell_type": "markdown",
   "id": "bef3ce2e",
   "metadata": {
    "papermill": {
     "duration": 0.014763,
     "end_time": "2022-05-25T06:34:33.213622",
     "exception": false,
     "start_time": "2022-05-25T06:34:33.198859",
     "status": "completed"
    },
    "tags": []
   },
   "source": [
    "乗算ごとにレイヤを作成する。<br>\n",
    "掛け算は英語で「multiplication」である。"
   ]
  },
  {
   "cell_type": "code",
   "execution_count": 3,
   "id": "78bd0f33",
   "metadata": {
    "execution": {
     "iopub.execute_input": "2022-05-25T06:34:33.246287Z",
     "iopub.status.busy": "2022-05-25T06:34:33.245711Z",
     "iopub.status.idle": "2022-05-25T06:34:33.249830Z",
     "shell.execute_reply": "2022-05-25T06:34:33.249203Z"
    },
    "papermill": {
     "duration": 0.022584,
     "end_time": "2022-05-25T06:34:33.251849",
     "exception": false,
     "start_time": "2022-05-25T06:34:33.229265",
     "status": "completed"
    },
    "tags": []
   },
   "outputs": [],
   "source": [
    "mul_apple_layer = MulLayer()\n",
    "mul_tax_layer = MulLayer()"
   ]
  },
  {
   "cell_type": "code",
   "execution_count": 4,
   "id": "ca926cab",
   "metadata": {
    "execution": {
     "iopub.execute_input": "2022-05-25T06:34:33.284539Z",
     "iopub.status.busy": "2022-05-25T06:34:33.283996Z",
     "iopub.status.idle": "2022-05-25T06:34:33.289414Z",
     "shell.execute_reply": "2022-05-25T06:34:33.288809Z"
    },
    "papermill": {
     "duration": 0.023989,
     "end_time": "2022-05-25T06:34:33.291103",
     "exception": false,
     "start_time": "2022-05-25T06:34:33.267114",
     "status": "completed"
    },
    "tags": []
   },
   "outputs": [
    {
     "name": "stdout",
     "output_type": "stream",
     "text": [
      "220\n"
     ]
    }
   ],
   "source": [
    "apple_price = mul_apple_layer.forward(apple, apple_num)\n",
    "price = mul_tax_layer.forward(apple_price, tax)\n",
    "\n",
    "print(round(price))"
   ]
  },
  {
   "cell_type": "code",
   "execution_count": 5,
   "id": "1db55ae9",
   "metadata": {
    "execution": {
     "iopub.execute_input": "2022-05-25T06:34:33.323880Z",
     "iopub.status.busy": "2022-05-25T06:34:33.323452Z",
     "iopub.status.idle": "2022-05-25T06:34:33.328685Z",
     "shell.execute_reply": "2022-05-25T06:34:33.327825Z"
    },
    "papermill": {
     "duration": 0.023567,
     "end_time": "2022-05-25T06:34:33.330475",
     "exception": false,
     "start_time": "2022-05-25T06:34:33.306908",
     "status": "completed"
    },
    "tags": []
   },
   "outputs": [
    {
     "name": "stdout",
     "output_type": "stream",
     "text": [
      "2.2 110 200\n"
     ]
    }
   ],
   "source": [
    "dprice = 1\n",
    "dapple_price, dtax = mul_tax_layer.backward(dprice)\n",
    "dapple, dapple_num = mul_apple_layer.backward(dapple_price)\n",
    "print(dapple, round(dapple_num), dtax)"
   ]
  },
  {
   "cell_type": "markdown",
   "id": "47af1cf8",
   "metadata": {
    "papermill": {
     "duration": 0.015452,
     "end_time": "2022-05-25T06:34:33.362275",
     "exception": false,
     "start_time": "2022-05-25T06:34:33.346823",
     "status": "completed"
    },
    "tags": []
   },
   "source": [
    "### 5.4.2　加算レイヤの実装"
   ]
  },
  {
   "cell_type": "code",
   "execution_count": 6,
   "id": "92dd19c8",
   "metadata": {
    "execution": {
     "iopub.execute_input": "2022-05-25T06:34:33.395908Z",
     "iopub.status.busy": "2022-05-25T06:34:33.395408Z",
     "iopub.status.idle": "2022-05-25T06:34:33.400415Z",
     "shell.execute_reply": "2022-05-25T06:34:33.399833Z"
    },
    "papermill": {
     "duration": 0.024135,
     "end_time": "2022-05-25T06:34:33.402284",
     "exception": false,
     "start_time": "2022-05-25T06:34:33.378149",
     "status": "completed"
    },
    "tags": []
   },
   "outputs": [],
   "source": [
    "class AddLayer:\n",
    "    def __init__(self):\n",
    "        pass\n",
    "    \n",
    "    def forward(self, x, y):\n",
    "        out = x + y\n",
    "        return out\n",
    "    \n",
    "    def backward(self, dout):\n",
    "        dx = dout * 1\n",
    "        dy = dout * 1\n",
    "        return dx, dy"
   ]
  },
  {
   "cell_type": "code",
   "execution_count": 7,
   "id": "d4fb71df",
   "metadata": {
    "execution": {
     "iopub.execute_input": "2022-05-25T06:34:33.435892Z",
     "iopub.status.busy": "2022-05-25T06:34:33.435317Z",
     "iopub.status.idle": "2022-05-25T06:34:33.439117Z",
     "shell.execute_reply": "2022-05-25T06:34:33.438481Z"
    },
    "papermill": {
     "duration": 0.02271,
     "end_time": "2022-05-25T06:34:33.440881",
     "exception": false,
     "start_time": "2022-05-25T06:34:33.418171",
     "status": "completed"
    },
    "tags": []
   },
   "outputs": [],
   "source": [
    "apple = 100\n",
    "apple_num = 2\n",
    "orange = 150\n",
    "orange_num = 3\n",
    "tax = 1.1"
   ]
  },
  {
   "cell_type": "code",
   "execution_count": 8,
   "id": "8b99a768",
   "metadata": {
    "execution": {
     "iopub.execute_input": "2022-05-25T06:34:33.473901Z",
     "iopub.status.busy": "2022-05-25T06:34:33.473421Z",
     "iopub.status.idle": "2022-05-25T06:34:33.477167Z",
     "shell.execute_reply": "2022-05-25T06:34:33.476476Z"
    },
    "papermill": {
     "duration": 0.022459,
     "end_time": "2022-05-25T06:34:33.479013",
     "exception": false,
     "start_time": "2022-05-25T06:34:33.456554",
     "status": "completed"
    },
    "tags": []
   },
   "outputs": [],
   "source": [
    "mul_apple_layer = MulLayer()\n",
    "mul_orange_layer = MulLayer()\n",
    "add_apple_orange_layer = AddLayer()\n",
    "mul_tax_layer = MulLayer()"
   ]
  },
  {
   "cell_type": "code",
   "execution_count": 9,
   "id": "27c77ff5",
   "metadata": {
    "execution": {
     "iopub.execute_input": "2022-05-25T06:34:33.512447Z",
     "iopub.status.busy": "2022-05-25T06:34:33.511845Z",
     "iopub.status.idle": "2022-05-25T06:34:33.517248Z",
     "shell.execute_reply": "2022-05-25T06:34:33.516609Z"
    },
    "papermill": {
     "duration": 0.024423,
     "end_time": "2022-05-25T06:34:33.519162",
     "exception": false,
     "start_time": "2022-05-25T06:34:33.494739",
     "status": "completed"
    },
    "tags": []
   },
   "outputs": [],
   "source": [
    "apple_price = mul_apple_layer.forward(apple, apple_num)\n",
    "orange_price = mul_orange_layer.forward(orange, orange_num)\n",
    "all_price = add_apple_orange_layer.forward(apple_price, orange_price)\n",
    "price = mul_tax_layer.forward(all_price, tax)"
   ]
  },
  {
   "cell_type": "code",
   "execution_count": 10,
   "id": "78c39edc",
   "metadata": {
    "execution": {
     "iopub.execute_input": "2022-05-25T06:34:33.552798Z",
     "iopub.status.busy": "2022-05-25T06:34:33.552113Z",
     "iopub.status.idle": "2022-05-25T06:34:33.557651Z",
     "shell.execute_reply": "2022-05-25T06:34:33.557064Z"
    },
    "papermill": {
     "duration": 0.024402,
     "end_time": "2022-05-25T06:34:33.559420",
     "exception": false,
     "start_time": "2022-05-25T06:34:33.535018",
     "status": "completed"
    },
    "tags": []
   },
   "outputs": [],
   "source": [
    "dprice = 1\n",
    "dall_price , dtax = mul_tax_layer.backward(dprice)\n",
    "dapple_price, dorange_price = add_apple_orange_layer.backward(dall_price)\n",
    "dorange, dorange_num = mul_orange_layer.backward(dorange_price)\n",
    "dapple, dapple_num = mul_apple_layer.backward(dapple_price)"
   ]
  },
  {
   "cell_type": "code",
   "execution_count": 11,
   "id": "04c3fe4e",
   "metadata": {
    "execution": {
     "iopub.execute_input": "2022-05-25T06:34:33.593374Z",
     "iopub.status.busy": "2022-05-25T06:34:33.592513Z",
     "iopub.status.idle": "2022-05-25T06:34:33.599162Z",
     "shell.execute_reply": "2022-05-25T06:34:33.598335Z"
    },
    "papermill": {
     "duration": 0.026275,
     "end_time": "2022-05-25T06:34:33.601393",
     "exception": false,
     "start_time": "2022-05-25T06:34:33.575118",
     "status": "completed"
    },
    "tags": []
   },
   "outputs": [
    {
     "name": "stdout",
     "output_type": "stream",
     "text": [
      "715\n",
      "110 2.2 3 165.0 650\n"
     ]
    }
   ],
   "source": [
    "print(round(price))\n",
    "print(round(dapple_num), dapple, round(dorange), dorange_num, dtax)"
   ]
  }
 ],
 "metadata": {
  "kernelspec": {
   "display_name": "Python 3",
   "language": "python",
   "name": "python3"
  },
  "language_info": {
   "codemirror_mode": {
    "name": "ipython",
    "version": 3
   },
   "file_extension": ".py",
   "mimetype": "text/x-python",
   "name": "python",
   "nbconvert_exporter": "python",
   "pygments_lexer": "ipython3",
   "version": "3.7.12"
  },
  "papermill": {
   "default_parameters": {},
   "duration": 11.076819,
   "end_time": "2022-05-25T06:34:34.238128",
   "environment_variables": {},
   "exception": null,
   "input_path": "__notebook__.ipynb",
   "output_path": "__notebook__.ipynb",
   "parameters": {},
   "start_time": "2022-05-25T06:34:23.161309",
   "version": "2.3.4"
  }
 },
 "nbformat": 4,
 "nbformat_minor": 5
}
