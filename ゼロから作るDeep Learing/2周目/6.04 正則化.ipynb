{
 "cells": [
  {
   "cell_type": "markdown",
   "id": "f19d752b",
   "metadata": {
    "_cell_guid": "b1076dfc-b9ad-4769-8c92-a6c4dae69d19",
    "_uuid": "8f2839f25d086af736a60e9eeb907d3b93b6e0e5",
    "papermill": {
     "duration": 0.004503,
     "end_time": "2022-05-30T09:09:21.538221",
     "exception": false,
     "start_time": "2022-05-30T09:09:21.533718",
     "status": "completed"
    },
    "tags": []
   },
   "source": [
    "## 6.4　正則化"
   ]
  },
  {
   "cell_type": "code",
   "execution_count": 1,
   "id": "9292f450",
   "metadata": {
    "execution": {
     "iopub.execute_input": "2022-05-30T09:09:21.550688Z",
     "iopub.status.busy": "2022-05-30T09:09:21.549901Z",
     "iopub.status.idle": "2022-05-30T09:09:21.561102Z",
     "shell.execute_reply": "2022-05-30T09:09:21.560385Z"
    },
    "papermill": {
     "duration": 0.018732,
     "end_time": "2022-05-30T09:09:21.563295",
     "exception": false,
     "start_time": "2022-05-30T09:09:21.544563",
     "status": "completed"
    },
    "tags": []
   },
   "outputs": [],
   "source": [
    "import sys\n",
    "import numpy as np\n",
    "import matplotlib.pyplot as plt"
   ]
  },
  {
   "cell_type": "code",
   "execution_count": 2,
   "id": "ae754727",
   "metadata": {
    "execution": {
     "iopub.execute_input": "2022-05-30T09:09:21.572998Z",
     "iopub.status.busy": "2022-05-30T09:09:21.572451Z",
     "iopub.status.idle": "2022-05-30T09:09:21.576164Z",
     "shell.execute_reply": "2022-05-30T09:09:21.575481Z"
    },
    "papermill": {
     "duration": 0.010512,
     "end_time": "2022-05-30T09:09:21.577951",
     "exception": false,
     "start_time": "2022-05-30T09:09:21.567439",
     "status": "completed"
    },
    "tags": []
   },
   "outputs": [],
   "source": [
    "sys.path.append('../input/deeplearningfromscratchmaster/deep-learning-from-scratch-master')"
   ]
  },
  {
   "cell_type": "code",
   "execution_count": 3,
   "id": "792e42fd",
   "metadata": {
    "execution": {
     "iopub.execute_input": "2022-05-30T09:09:21.586924Z",
     "iopub.status.busy": "2022-05-30T09:09:21.586408Z",
     "iopub.status.idle": "2022-05-30T09:09:21.630013Z",
     "shell.execute_reply": "2022-05-30T09:09:21.629297Z"
    },
    "papermill": {
     "duration": 0.050398,
     "end_time": "2022-05-30T09:09:21.632068",
     "exception": false,
     "start_time": "2022-05-30T09:09:21.581670",
     "status": "completed"
    },
    "tags": []
   },
   "outputs": [],
   "source": [
    "from common.multi_layer_net import MultiLayerNet\n",
    "from common.optimizer import SGD"
   ]
  },
  {
   "cell_type": "markdown",
   "id": "c3a60815",
   "metadata": {
    "papermill": {
     "duration": 0.003226,
     "end_time": "2022-05-30T09:09:21.639016",
     "exception": false,
     "start_time": "2022-05-30T09:09:21.635790",
     "status": "completed"
    },
    "tags": []
   },
   "source": [
    "### 6.4.1　過学習"
   ]
  },
  {
   "cell_type": "code",
   "execution_count": 4,
   "id": "65bc0e64",
   "metadata": {
    "execution": {
     "iopub.execute_input": "2022-05-30T09:09:21.647893Z",
     "iopub.status.busy": "2022-05-30T09:09:21.647247Z",
     "iopub.status.idle": "2022-05-30T09:09:22.986257Z",
     "shell.execute_reply": "2022-05-30T09:09:22.985186Z"
    },
    "papermill": {
     "duration": 1.346522,
     "end_time": "2022-05-30T09:09:22.989078",
     "exception": false,
     "start_time": "2022-05-30T09:09:21.642556",
     "status": "completed"
    },
    "tags": []
   },
   "outputs": [
    {
     "name": "stdout",
     "output_type": "stream",
     "text": [
      "(300, 784)\n",
      "(300, 10)\n",
      "(10000, 784)\n",
      "(10000, 10)\n"
     ]
    }
   ],
   "source": [
    "x_train = np.load('../input/load-mnist/load_mnist/normalize=True, one_hot_label=True/x_train.npy')\n",
    "t_train = np.load('../input/load-mnist/load_mnist/normalize=True, one_hot_label=True/t_train.npy')\n",
    "x_test = np.load('../input/load-mnist/load_mnist/normalize=True, one_hot_label=True/x_test.npy')\n",
    "t_test = np.load('../input/load-mnist/load_mnist/normalize=True, one_hot_label=True/t_test.npy')\n",
    "\n",
    "x_train = x_train[:300]\n",
    "t_train = t_train[:300]\n",
    "\n",
    "print(x_train.shape)\n",
    "print(t_train.shape)\n",
    "print(x_test.shape)\n",
    "print(t_test.shape)"
   ]
  },
  {
   "cell_type": "code",
   "execution_count": 5,
   "id": "08410df6",
   "metadata": {
    "execution": {
     "iopub.execute_input": "2022-05-30T09:09:22.999064Z",
     "iopub.status.busy": "2022-05-30T09:09:22.998248Z",
     "iopub.status.idle": "2022-05-30T09:09:23.009253Z",
     "shell.execute_reply": "2022-05-30T09:09:23.008327Z"
    },
    "papermill": {
     "duration": 0.017898,
     "end_time": "2022-05-30T09:09:23.011507",
     "exception": false,
     "start_time": "2022-05-30T09:09:22.993609",
     "status": "completed"
    },
    "tags": []
   },
   "outputs": [],
   "source": [
    "network = MultiLayerNet(input_size=784, hidden_size_list=[100, 100, 100, 100, 100, 100], output_size=10)\n",
    "optimizer = SGD(lr=0.01)"
   ]
  },
  {
   "cell_type": "code",
   "execution_count": 6,
   "id": "54c0ef8b",
   "metadata": {
    "execution": {
     "iopub.execute_input": "2022-05-30T09:09:23.020261Z",
     "iopub.status.busy": "2022-05-30T09:09:23.019880Z",
     "iopub.status.idle": "2022-05-30T09:09:23.024306Z",
     "shell.execute_reply": "2022-05-30T09:09:23.023394Z"
    },
    "papermill": {
     "duration": 0.011075,
     "end_time": "2022-05-30T09:09:23.026262",
     "exception": false,
     "start_time": "2022-05-30T09:09:23.015187",
     "status": "completed"
    },
    "tags": []
   },
   "outputs": [],
   "source": [
    "max_epochs = 201\n",
    "train_size = x_train.shape[0]\n",
    "batch_size = 100"
   ]
  },
  {
   "cell_type": "code",
   "execution_count": 7,
   "id": "3c2c1d40",
   "metadata": {
    "execution": {
     "iopub.execute_input": "2022-05-30T09:09:23.035133Z",
     "iopub.status.busy": "2022-05-30T09:09:23.034771Z",
     "iopub.status.idle": "2022-05-30T09:09:23.039670Z",
     "shell.execute_reply": "2022-05-30T09:09:23.038967Z"
    },
    "papermill": {
     "duration": 0.011543,
     "end_time": "2022-05-30T09:09:23.041524",
     "exception": false,
     "start_time": "2022-05-30T09:09:23.029981",
     "status": "completed"
    },
    "tags": []
   },
   "outputs": [],
   "source": [
    "train_loss_list = []\n",
    "train_acc_list = []\n",
    "test_acc_list = []"
   ]
  },
  {
   "cell_type": "code",
   "execution_count": 8,
   "id": "eb9e853f",
   "metadata": {
    "execution": {
     "iopub.execute_input": "2022-05-30T09:09:23.050051Z",
     "iopub.status.busy": "2022-05-30T09:09:23.049685Z",
     "iopub.status.idle": "2022-05-30T09:09:23.055187Z",
     "shell.execute_reply": "2022-05-30T09:09:23.054328Z"
    },
    "papermill": {
     "duration": 0.012183,
     "end_time": "2022-05-30T09:09:23.057246",
     "exception": false,
     "start_time": "2022-05-30T09:09:23.045063",
     "status": "completed"
    },
    "tags": []
   },
   "outputs": [],
   "source": [
    "iter_per_epoch = max(train_size / batch_size, 1)\n",
    "epoch_cnt = 0"
   ]
  },
  {
   "cell_type": "code",
   "execution_count": 9,
   "id": "3e327c33",
   "metadata": {
    "execution": {
     "iopub.execute_input": "2022-05-30T09:09:23.065969Z",
     "iopub.status.busy": "2022-05-30T09:09:23.065562Z",
     "iopub.status.idle": "2022-05-30T09:10:12.316881Z",
     "shell.execute_reply": "2022-05-30T09:10:12.315779Z"
    },
    "papermill": {
     "duration": 49.259023,
     "end_time": "2022-05-30T09:10:12.319935",
     "exception": false,
     "start_time": "2022-05-30T09:09:23.060912",
     "status": "completed"
    },
    "tags": []
   },
   "outputs": [],
   "source": [
    "for i in range(1000000000):\n",
    "    batch_mask = np.random.choice(train_size, batch_size)\n",
    "    x_batch = x_train[batch_mask]\n",
    "    t_batch = t_train[batch_mask]\n",
    "    \n",
    "    grads = network.gradient(x_batch, t_batch)\n",
    "    optimizer.update(network.params, grads)\n",
    "    \n",
    "    if i % iter_per_epoch == 0:\n",
    "        train_acc = network.accuracy(x_train, t_train)\n",
    "        test_acc = network.accuracy(x_test, t_test)\n",
    "        train_acc_list.append(train_acc)\n",
    "        test_acc_list.append(test_acc)\n",
    "        \n",
    "        epoch_cnt += 1\n",
    "        if epoch_cnt >= max_epochs:\n",
    "            break"
   ]
  },
  {
   "cell_type": "code",
   "execution_count": 10,
   "id": "8665501b",
   "metadata": {
    "execution": {
     "iopub.execute_input": "2022-05-30T09:10:12.336992Z",
     "iopub.status.busy": "2022-05-30T09:10:12.335928Z",
     "iopub.status.idle": "2022-05-30T09:10:12.584253Z",
     "shell.execute_reply": "2022-05-30T09:10:12.583372Z"
    },
    "papermill": {
     "duration": 0.259299,
     "end_time": "2022-05-30T09:10:12.586500",
     "exception": false,
     "start_time": "2022-05-30T09:10:12.327201",
     "status": "completed"
    },
    "tags": []
   },
   "outputs": [
    {
     "data": {
      "image/png": "[encoded data removed]",
      "text/plain": [
       "<Figure size 432x288 with 1 Axes>"
      ]
     },
     "metadata": {
      "needs_background": "light"
     },
     "output_type": "display_data"
    }
   ],
   "source": [
    "markers = {'train': 'o', 'test': 's'}\n",
    "x = np.arange(max_epochs)\n",
    "plt.plot(x, train_acc_list, marker='o', label='train', markevery=10)\n",
    "plt.plot(x, test_acc_list, marker='s', label='test', markevery=10)\n",
    "plt.xlabel('epochs')\n",
    "plt.ylabel('accuracy')\n",
    "plt.ylim(0, 1.0)\n",
    "plt.legend(loc='lower right')\n",
    "plt.show()"
   ]
  },
  {
   "cell_type": "markdown",
   "id": "c0dfd495",
   "metadata": {
    "papermill": {
     "duration": 0.003797,
     "end_time": "2022-05-30T09:10:12.594492",
     "exception": false,
     "start_time": "2022-05-30T09:10:12.590695",
     "status": "completed"
    },
    "tags": []
   },
   "source": [
    "### 6.4.2　Weight decay"
   ]
  },
  {
   "cell_type": "code",
   "execution_count": 11,
   "id": "998f7ae5",
   "metadata": {
    "execution": {
     "iopub.execute_input": "2022-05-30T09:10:12.604553Z",
     "iopub.status.busy": "2022-05-30T09:10:12.603779Z",
     "iopub.status.idle": "2022-05-30T09:10:12.609726Z",
     "shell.execute_reply": "2022-05-30T09:10:12.608962Z"
    },
    "papermill": {
     "duration": 0.012961,
     "end_time": "2022-05-30T09:10:12.611557",
     "exception": false,
     "start_time": "2022-05-30T09:10:12.598596",
     "status": "completed"
    },
    "tags": []
   },
   "outputs": [],
   "source": [
    "class Dropout:\n",
    "    def __init__(self, dropout_ratio=0.5):\n",
    "        self.dropout_ratio = dropout_ratio\n",
    "        self.mask = None\n",
    "        \n",
    "    def forward(self, x, train_flg=True):\n",
    "        if train_flg:\n",
    "            self.mask = np.random.rand(*x.shape) > self.dropout_ratio\n",
    "            return x * self.mask\n",
    "        else:\n",
    "            return x * (1.0 - self.dropout_ratio)\n",
    "    \n",
    "    def backward(self, dout):\n",
    "        return dout * self.mask"
   ]
  },
  {
   "cell_type": "markdown",
   "id": "5731e9ba",
   "metadata": {
    "papermill": {
     "duration": 0.003963,
     "end_time": "2022-05-30T09:10:12.619579",
     "exception": false,
     "start_time": "2022-05-30T09:10:12.615616",
     "status": "completed"
    },
    "tags": []
   },
   "source": [
    "`self.mask` には、`True` もしくは `False` が格納される。"
   ]
  },
  {
   "cell_type": "code",
   "execution_count": 12,
   "id": "15229e49",
   "metadata": {
    "execution": {
     "iopub.execute_input": "2022-05-30T09:10:12.629382Z",
     "iopub.status.busy": "2022-05-30T09:10:12.628817Z",
     "iopub.status.idle": "2022-05-30T09:10:12.633400Z",
     "shell.execute_reply": "2022-05-30T09:10:12.632624Z"
    },
    "papermill": {
     "duration": 0.011677,
     "end_time": "2022-05-30T09:10:12.635300",
     "exception": false,
     "start_time": "2022-05-30T09:10:12.623623",
     "status": "completed"
    },
    "tags": []
   },
   "outputs": [
    {
     "name": "stdout",
     "output_type": "stream",
     "text": [
      "True\n",
      "1\n",
      "False\n",
      "0\n"
     ]
    }
   ],
   "source": [
    "mask = 2 > 1\n",
    "print(mask)\n",
    "print(1 * mask)\n",
    "\n",
    "mask = 1 > 2\n",
    "print(mask)\n",
    "print(1 * mask)"
   ]
  }
 ],
 "metadata": {
  "kernelspec": {
   "display_name": "Python 3",
   "language": "python",
   "name": "python3"
  },
  "language_info": {
   "codemirror_mode": {
    "name": "ipython",
    "version": 3
   },
   "file_extension": ".py",
   "mimetype": "text/x-python",
   "name": "python",
   "nbconvert_exporter": "python",
   "pygments_lexer": "ipython3",
   "version": "3.7.12"
  },
  "papermill": {
   "default_parameters": {},
   "duration": 60.567437,
   "end_time": "2022-05-30T09:10:13.260077",
   "environment_variables": {},
   "exception": null,
   "input_path": "__notebook__.ipynb",
   "output_path": "__notebook__.ipynb",
   "parameters": {},
   "start_time": "2022-05-30T09:09:12.692640",
   "version": "2.3.4"
  }
 },
 "nbformat": 4,
 "nbformat_minor": 5
}
