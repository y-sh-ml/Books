{
 "cells": [
  {
   "cell_type": "markdown",
   "id": "c76ddda4",
   "metadata": {
    "_cell_guid": "b1076dfc-b9ad-4769-8c92-a6c4dae69d19",
    "_uuid": "8f2839f25d086af736a60e9eeb907d3b93b6e0e5",
    "papermill": {
     "duration": 0.010728,
     "end_time": "2022-05-26T02:04:02.610119",
     "exception": false,
     "start_time": "2022-05-26T02:04:02.599391",
     "status": "completed"
    },
    "tags": []
   },
   "source": [
    "## 5.5　活性化関数レイヤの実装"
   ]
  },
  {
   "cell_type": "code",
   "execution_count": 1,
   "id": "84fcada8",
   "metadata": {
    "execution": {
     "iopub.execute_input": "2022-05-26T02:04:02.631613Z",
     "iopub.status.busy": "2022-05-26T02:04:02.631038Z",
     "iopub.status.idle": "2022-05-26T02:04:02.640727Z",
     "shell.execute_reply": "2022-05-26T02:04:02.640096Z"
    },
    "papermill": {
     "duration": 0.022817,
     "end_time": "2022-05-26T02:04:02.642842",
     "exception": false,
     "start_time": "2022-05-26T02:04:02.620025",
     "status": "completed"
    },
    "tags": []
   },
   "outputs": [],
   "source": [
    "import numpy as np"
   ]
  },
  {
   "cell_type": "markdown",
   "id": "2fc5ce22",
   "metadata": {
    "execution": {
     "iopub.execute_input": "2022-05-25T06:37:01.16407Z",
     "iopub.status.busy": "2022-05-25T06:37:01.163759Z",
     "iopub.status.idle": "2022-05-25T06:37:01.190217Z",
     "shell.execute_reply": "2022-05-25T06:37:01.189485Z",
     "shell.execute_reply.started": "2022-05-25T06:37:01.163987Z"
    },
    "papermill": {
     "duration": 0.009224,
     "end_time": "2022-05-26T02:04:02.661676",
     "exception": false,
     "start_time": "2022-05-26T02:04:02.652452",
     "status": "completed"
    },
    "tags": []
   },
   "source": [
    "### 5.5.1　Relu レイヤ"
   ]
  },
  {
   "cell_type": "code",
   "execution_count": 2,
   "id": "50cb12ac",
   "metadata": {
    "execution": {
     "iopub.execute_input": "2022-05-26T02:04:02.682647Z",
     "iopub.status.busy": "2022-05-26T02:04:02.682111Z",
     "iopub.status.idle": "2022-05-26T02:04:02.687434Z",
     "shell.execute_reply": "2022-05-26T02:04:02.686876Z"
    },
    "papermill": {
     "duration": 0.01792,
     "end_time": "2022-05-26T02:04:02.689405",
     "exception": false,
     "start_time": "2022-05-26T02:04:02.671485",
     "status": "completed"
    },
    "tags": []
   },
   "outputs": [],
   "source": [
    "class Relu:\n",
    "    def __init__(self):\n",
    "        self.mask = None\n",
    "        \n",
    "    def forward(self, x):\n",
    "        self.mask = (x <= 0)\n",
    "        out = x.copy()\n",
    "        out[self.mask] = 0\n",
    "        \n",
    "        return out\n",
    "    \n",
    "    def backward(self, dout):\n",
    "        dout[self.mask] = 0\n",
    "        dx = dout\n",
    "        \n",
    "        return dx"
   ]
  },
  {
   "cell_type": "markdown",
   "id": "fc1e60da",
   "metadata": {
    "papermill": {
     "duration": 0.009575,
     "end_time": "2022-05-26T02:04:02.708722",
     "exception": false,
     "start_time": "2022-05-26T02:04:02.699147",
     "status": "completed"
    },
    "tags": []
   },
   "source": [
    "`self_mask` は、0 以下かどうかを `True` か `False` で返すだけである。"
   ]
  },
  {
   "cell_type": "code",
   "execution_count": 3,
   "id": "489679cb",
   "metadata": {
    "execution": {
     "iopub.execute_input": "2022-05-26T02:04:02.729848Z",
     "iopub.status.busy": "2022-05-26T02:04:02.729550Z",
     "iopub.status.idle": "2022-05-26T02:04:02.737301Z",
     "shell.execute_reply": "2022-05-26T02:04:02.736442Z"
    },
    "papermill": {
     "duration": 0.021005,
     "end_time": "2022-05-26T02:04:02.739707",
     "exception": false,
     "start_time": "2022-05-26T02:04:02.718702",
     "status": "completed"
    },
    "tags": []
   },
   "outputs": [
    {
     "name": "stdout",
     "output_type": "stream",
     "text": [
      "[[ 1.  -0.5]\n",
      " [-2.   3. ]]\n",
      "[[False  True]\n",
      " [ True False]]\n",
      "[[1. 0.]\n",
      " [0. 3.]]\n"
     ]
    }
   ],
   "source": [
    "x = np.array([[1.0, -0.5], [-2.0, 3.0]])\n",
    "print(x)\n",
    "\n",
    "mask = (x <= 0)\n",
    "print(mask)\n",
    "\n",
    "x[mask] = 0\n",
    "print(x)"
   ]
  },
  {
   "cell_type": "markdown",
   "id": "929e6750",
   "metadata": {
    "papermill": {
     "duration": 0.009844,
     "end_time": "2022-05-26T02:04:02.760081",
     "exception": false,
     "start_time": "2022-05-26T02:04:02.750237",
     "status": "completed"
    },
    "tags": []
   },
   "source": [
    "`x` の要素のうち、`True` に該当するものに 0 を代入している。"
   ]
  },
  {
   "cell_type": "markdown",
   "id": "519e9d40",
   "metadata": {
    "papermill": {
     "duration": 0.010326,
     "end_time": "2022-05-26T02:04:02.780533",
     "exception": false,
     "start_time": "2022-05-26T02:04:02.770207",
     "status": "completed"
    },
    "tags": []
   },
   "source": [
    "### 5.5.2　Sigmoid レイヤ"
   ]
  },
  {
   "cell_type": "markdown",
   "id": "bf530835",
   "metadata": {
    "papermill": {
     "duration": 0.009871,
     "end_time": "2022-05-26T02:04:02.800498",
     "exception": false,
     "start_time": "2022-05-26T02:04:02.790627",
     "status": "completed"
    },
    "tags": []
   },
   "source": [
    "`/` ノードは、$y=\\frac{1}{x}$ の計算を行うノードである。"
   ]
  },
  {
   "cell_type": "code",
   "execution_count": 4,
   "id": "7bbf72ce",
   "metadata": {
    "execution": {
     "iopub.execute_input": "2022-05-26T02:04:02.823180Z",
     "iopub.status.busy": "2022-05-26T02:04:02.822128Z",
     "iopub.status.idle": "2022-05-26T02:04:02.829030Z",
     "shell.execute_reply": "2022-05-26T02:04:02.828321Z"
    },
    "papermill": {
     "duration": 0.020346,
     "end_time": "2022-05-26T02:04:02.831112",
     "exception": false,
     "start_time": "2022-05-26T02:04:02.810766",
     "status": "completed"
    },
    "tags": []
   },
   "outputs": [],
   "source": [
    "class Sigmoid:\n",
    "    def __init__(self):\n",
    "        self.out = None\n",
    "        \n",
    "    def forward(self, x):\n",
    "        out = 1 / (1 + np.exp(-x))\n",
    "        self.out = out\n",
    "        \n",
    "        return out\n",
    "    \n",
    "    def backward(self, dout):\n",
    "        dx = dout * (1.0 - self.out) * self.out"
   ]
  },
  {
   "cell_type": "markdown",
   "id": "d037e246",
   "metadata": {
    "papermill": {
     "duration": 0.009703,
     "end_time": "2022-05-26T02:04:02.850856",
     "exception": false,
     "start_time": "2022-05-26T02:04:02.841153",
     "status": "completed"
    },
    "tags": []
   },
   "source": [
    "他の関数 `def` でも使える変数にするには、`__init__` で定義する必要がある。<br>\n",
    "`backward` で使用するために、`self.out` に代入している。"
   ]
  }
 ],
 "metadata": {
  "kernelspec": {
   "display_name": "Python 3",
   "language": "python",
   "name": "python3"
  },
  "language_info": {
   "codemirror_mode": {
    "name": "ipython",
    "version": 3
   },
   "file_extension": ".py",
   "mimetype": "text/x-python",
   "name": "python",
   "nbconvert_exporter": "python",
   "pygments_lexer": "ipython3",
   "version": "3.7.12"
  },
  "papermill": {
   "default_parameters": {},
   "duration": 10.789815,
   "end_time": "2022-05-26T02:04:03.480899",
   "environment_variables": {},
   "exception": null,
   "input_path": "__notebook__.ipynb",
   "output_path": "__notebook__.ipynb",
   "parameters": {},
   "start_time": "2022-05-26T02:03:52.691084",
   "version": "2.3.4"
  }
 },
 "nbformat": 4,
 "nbformat_minor": 5
}
