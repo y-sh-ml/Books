{
 "cells": [
  {
   "cell_type": "markdown",
   "id": "115080dd",
   "metadata": {
    "_cell_guid": "b1076dfc-b9ad-4769-8c92-a6c4dae69d19",
    "_uuid": "8f2839f25d086af736a60e9eeb907d3b93b6e0e5",
    "papermill": {
     "duration": 0.003299,
     "end_time": "2022-05-26T02:46:24.491226",
     "exception": false,
     "start_time": "2022-05-26T02:46:24.487927",
     "status": "completed"
    },
    "tags": []
   },
   "source": [
    "## 5.6　Affine／Softmax レイヤの実装"
   ]
  },
  {
   "cell_type": "code",
   "execution_count": 1,
   "id": "562d398a",
   "metadata": {
    "execution": {
     "iopub.execute_input": "2022-05-26T02:46:24.500067Z",
     "iopub.status.busy": "2022-05-26T02:46:24.499677Z",
     "iopub.status.idle": "2022-05-26T02:46:24.508452Z",
     "shell.execute_reply": "2022-05-26T02:46:24.507562Z"
    },
    "papermill": {
     "duration": 0.015126,
     "end_time": "2022-05-26T02:46:24.510740",
     "exception": false,
     "start_time": "2022-05-26T02:46:24.495614",
     "status": "completed"
    },
    "tags": []
   },
   "outputs": [],
   "source": [
    "import numpy as np"
   ]
  },
  {
   "cell_type": "markdown",
   "id": "713e82e4",
   "metadata": {
    "papermill": {
     "duration": 0.002448,
     "end_time": "2022-05-26T02:46:24.516065",
     "exception": false,
     "start_time": "2022-05-26T02:46:24.513617",
     "status": "completed"
    },
    "tags": []
   },
   "source": [
    "### 5.6.1　Affine レイヤ"
   ]
  },
  {
   "cell_type": "markdown",
   "id": "86ce61e6",
   "metadata": {
    "papermill": {
     "duration": 0.00231,
     "end_time": "2022-05-26T02:46:24.521014",
     "exception": false,
     "start_time": "2022-05-26T02:46:24.518704",
     "status": "completed"
    },
    "tags": []
   },
   "source": [
    "ニューラルネットワークの順伝播での行列の積は、幾何学の分野では「アフィン変換」と呼ばれる。<br>\n",
    "アフィン変換を行う「Affine レイヤ」を実装していく。<br>\n",
    "Affine レイヤとは、多次元の配列の計算に対応した $Y = X \\cdot W + B$ の順伝播と逆伝播を行えるレイヤのことである。"
   ]
  },
  {
   "cell_type": "code",
   "execution_count": 2,
   "id": "027dfad1",
   "metadata": {
    "execution": {
     "iopub.execute_input": "2022-05-26T02:46:24.528147Z",
     "iopub.status.busy": "2022-05-26T02:46:24.527617Z",
     "iopub.status.idle": "2022-05-26T02:46:24.534418Z",
     "shell.execute_reply": "2022-05-26T02:46:24.533884Z"
    },
    "papermill": {
     "duration": 0.012581,
     "end_time": "2022-05-26T02:46:24.536221",
     "exception": false,
     "start_time": "2022-05-26T02:46:24.523640",
     "status": "completed"
    },
    "tags": []
   },
   "outputs": [
    {
     "name": "stdout",
     "output_type": "stream",
     "text": [
      "[[1 2 3]\n",
      " [4 5 6]]\n",
      "[5 7 9]\n"
     ]
    }
   ],
   "source": [
    "dY = np.array([[1, 2, 3], [4, 5, 6]])\n",
    "dB = np.sum(dY, axis=0)\n",
    "\n",
    "print(dY)\n",
    "print(dB)"
   ]
  },
  {
   "cell_type": "markdown",
   "id": "2b15fd54",
   "metadata": {
    "papermill": {
     "duration": 0.002298,
     "end_time": "2022-05-26T02:46:24.541276",
     "exception": false,
     "start_time": "2022-05-26T02:46:24.538978",
     "status": "completed"
    },
    "tags": []
   },
   "source": [
    "$\\frac{\\partial L}{\\partial Y}$ が $(N, 3)$　なのに対して $\\frac{\\partial L}{\\partial B}$ は $(1, 3)$ であるから、$\\frac{\\partial L}{\\partial Y}$ の要素を集約させる必要がある。<br>\n",
    "そのために、最初の軸（第 0 軸）`axis=0` で和をとっている。"
   ]
  },
  {
   "cell_type": "code",
   "execution_count": 3,
   "id": "ab1367e9",
   "metadata": {
    "execution": {
     "iopub.execute_input": "2022-05-26T02:46:24.547961Z",
     "iopub.status.busy": "2022-05-26T02:46:24.547425Z",
     "iopub.status.idle": "2022-05-26T02:46:24.553536Z",
     "shell.execute_reply": "2022-05-26T02:46:24.552446Z"
    },
    "papermill": {
     "duration": 0.011615,
     "end_time": "2022-05-26T02:46:24.555296",
     "exception": false,
     "start_time": "2022-05-26T02:46:24.543681",
     "status": "completed"
    },
    "tags": []
   },
   "outputs": [],
   "source": [
    "class Affine:\n",
    "    def __init__(self, W, b):\n",
    "        self.W = W\n",
    "        self.b = b\n",
    "        self.x = None\n",
    "        self.dW = None\n",
    "        self.db = None\n",
    "        \n",
    "    def forward(self, x):\n",
    "        self.x = x\n",
    "        out = np.dot(x, self.W) + self.b\n",
    "        \n",
    "        return out\n",
    "    \n",
    "    def backward(self, dout):\n",
    "        dx = np.dot(dout, self.W.T)\n",
    "        self.dW = np.dot(self.x.T, dout)\n",
    "        self.db = np.sum(dout, axis=0)\n",
    "        \n",
    "        return dx"
   ]
  },
  {
   "cell_type": "markdown",
   "id": "7926b55f",
   "metadata": {
    "papermill": {
     "duration": 0.00224,
     "end_time": "2022-05-26T02:46:24.560460",
     "exception": false,
     "start_time": "2022-05-26T02:46:24.558220",
     "status": "completed"
    },
    "tags": []
   },
   "source": [
    "Affine レイヤとは、図5-27 の計算を行うレイヤである。"
   ]
  },
  {
   "cell_type": "markdown",
   "id": "1344ea0c",
   "metadata": {
    "papermill": {
     "duration": 0.002221,
     "end_time": "2022-05-26T02:46:24.565080",
     "exception": false,
     "start_time": "2022-05-26T02:46:24.562859",
     "status": "completed"
    },
    "tags": []
   },
   "source": [
    "### 5.6.3　Softmax-with-Loss レイヤ"
   ]
  },
  {
   "cell_type": "markdown",
   "id": "2a7f8d07",
   "metadata": {
    "papermill": {
     "duration": 0.002167,
     "end_time": "2022-05-26T02:46:24.569633",
     "exception": false,
     "start_time": "2022-05-26T02:46:24.567466",
     "status": "completed"
    },
    "tags": []
   },
   "source": [
    "正規化とは、出力の和が 1 になるように変形することである。\n",
    "\n",
    "図 5-30 を実装する。"
   ]
  },
  {
   "cell_type": "code",
   "execution_count": 4,
   "id": "af93d716",
   "metadata": {
    "execution": {
     "iopub.execute_input": "2022-05-26T02:46:24.576469Z",
     "iopub.status.busy": "2022-05-26T02:46:24.575848Z",
     "iopub.status.idle": "2022-05-26T02:46:24.583832Z",
     "shell.execute_reply": "2022-05-26T02:46:24.583146Z"
    },
    "papermill": {
     "duration": 0.013876,
     "end_time": "2022-05-26T02:46:24.586008",
     "exception": false,
     "start_time": "2022-05-26T02:46:24.572132",
     "status": "completed"
    },
    "tags": []
   },
   "outputs": [],
   "source": [
    "class SoftmaxWithLoss:\n",
    "    def __init__(self):\n",
    "        self.y = None\n",
    "        self.t = None\n",
    "        \n",
    "    def forward(self, x, t):\n",
    "        self.t = t\n",
    "        self.y = softmax(x)\n",
    "        self.loss = cross_entropy_error(self.y, self.t)\n",
    "        \n",
    "        return self.loss\n",
    "    \n",
    "    def backward(self, dout=1):\n",
    "        batch_size = self.t.shape[0]\n",
    "        dx = (self.y - self.t) / batch_size\n",
    "        \n",
    "        return dx"
   ]
  }
 ],
 "metadata": {
  "kernelspec": {
   "display_name": "Python 3",
   "language": "python",
   "name": "python3"
  },
  "language_info": {
   "codemirror_mode": {
    "name": "ipython",
    "version": 3
   },
   "file_extension": ".py",
   "mimetype": "text/x-python",
   "name": "python",
   "nbconvert_exporter": "python",
   "pygments_lexer": "ipython3",
   "version": "3.7.12"
  },
  "papermill": {
   "default_parameters": {},
   "duration": 10.035995,
   "end_time": "2022-05-26T02:46:25.310897",
   "environment_variables": {},
   "exception": null,
   "input_path": "__notebook__.ipynb",
   "output_path": "__notebook__.ipynb",
   "parameters": {},
   "start_time": "2022-05-26T02:46:15.274902",
   "version": "2.3.4"
  }
 },
 "nbformat": 4,
 "nbformat_minor": 5
}
