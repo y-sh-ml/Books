{
 "cells": [
  {
   "cell_type": "markdown",
   "id": "4873336d",
   "metadata": {
    "_cell_guid": "b1076dfc-b9ad-4769-8c92-a6c4dae69d19",
    "_uuid": "8f2839f25d086af736a60e9eeb907d3b93b6e0e5",
    "papermill": {
     "duration": 0.012659,
     "end_time": "2022-05-16T05:20:06.768398",
     "exception": false,
     "start_time": "2022-05-16T05:20:06.755739",
     "status": "completed"
    },
    "tags": []
   },
   "source": [
    "## 4.2　損失関数"
   ]
  },
  {
   "cell_type": "code",
   "execution_count": 24,
   "id": "9f85fd46",
   "metadata": {
    "execution": {
     "iopub.execute_input": "2022-05-16T05:20:06.793968Z",
     "iopub.status.busy": "2022-05-16T05:20:06.793374Z",
     "iopub.status.idle": "2022-05-16T05:20:06.802685Z",
     "shell.execute_reply": "2022-05-16T05:20:06.802091Z"
    },
    "papermill": {
     "duration": 0.024241,
     "end_time": "2022-05-16T05:20:06.804769",
     "exception": false,
     "start_time": "2022-05-16T05:20:06.780528",
     "status": "completed"
    },
    "tags": []
   },
   "outputs": [],
   "source": [
    "import sys\n",
    "import numpy as np"
   ]
  },
  {
   "cell_type": "code",
   "execution_count": 25,
   "id": "cf043c34",
   "metadata": {},
   "outputs": [],
   "source": [
    "sys.path.append('/Users/yuta.shimizu/Downloads/ML/deep-learning-from-scratch-master')"
   ]
  },
  {
   "cell_type": "code",
   "execution_count": 26,
   "id": "be8fab5a",
   "metadata": {},
   "outputs": [],
   "source": [
    "from dataset.mnist import load_mnist"
   ]
  },
  {
   "cell_type": "markdown",
   "id": "7a26fa86",
   "metadata": {
    "papermill": {
     "duration": 0.011036,
     "end_time": "2022-05-16T05:20:06.827368",
     "exception": false,
     "start_time": "2022-05-16T05:20:06.816332",
     "status": "completed"
    },
    "tags": []
   },
   "source": [
    "### 4.2.1　2 乗和誤差"
   ]
  },
  {
   "cell_type": "code",
   "execution_count": 27,
   "id": "e7f0952f",
   "metadata": {
    "execution": {
     "iopub.execute_input": "2022-05-16T05:20:06.851789Z",
     "iopub.status.busy": "2022-05-16T05:20:06.851262Z",
     "iopub.status.idle": "2022-05-16T05:20:06.855806Z",
     "shell.execute_reply": "2022-05-16T05:20:06.854803Z"
    },
    "papermill": {
     "duration": 0.019193,
     "end_time": "2022-05-16T05:20:06.857877",
     "exception": false,
     "start_time": "2022-05-16T05:20:06.838684",
     "status": "completed"
    },
    "tags": []
   },
   "outputs": [],
   "source": [
    "def sum_squared_error(y, t):\n",
    "    return 0.5 * np.sum((y-t)**2)"
   ]
  },
  {
   "cell_type": "code",
   "execution_count": 28,
   "id": "4597cad9",
   "metadata": {
    "execution": {
     "iopub.execute_input": "2022-05-16T05:20:06.883306Z",
     "iopub.status.busy": "2022-05-16T05:20:06.882482Z",
     "iopub.status.idle": "2022-05-16T05:20:06.892709Z",
     "shell.execute_reply": "2022-05-16T05:20:06.891880Z"
    },
    "papermill": {
     "duration": 0.025585,
     "end_time": "2022-05-16T05:20:06.895097",
     "exception": false,
     "start_time": "2022-05-16T05:20:06.869512",
     "status": "completed"
    },
    "tags": []
   },
   "outputs": [
    {
     "data": {
      "text/plain": [
       "0.09750000000000003"
      ]
     },
     "execution_count": 28,
     "metadata": {},
     "output_type": "execute_result"
    }
   ],
   "source": [
    "y = [0.1, 0.05, 0.6, 0.0, 0.05, 0.1, 0.0, 0.1, 0.0, 0.0]\n",
    "t = [0, 0, 1, 0, 0, 0, 0, 0, 0, 0]\n",
    "\n",
    "sum_squared_error(np.array(y), np.array(t))"
   ]
  },
  {
   "cell_type": "code",
   "execution_count": 29,
   "id": "c2267880",
   "metadata": {
    "execution": {
     "iopub.execute_input": "2022-05-16T05:20:06.920941Z",
     "iopub.status.busy": "2022-05-16T05:20:06.920327Z",
     "iopub.status.idle": "2022-05-16T05:20:06.928757Z",
     "shell.execute_reply": "2022-05-16T05:20:06.927885Z"
    },
    "papermill": {
     "duration": 0.023768,
     "end_time": "2022-05-16T05:20:06.930918",
     "exception": false,
     "start_time": "2022-05-16T05:20:06.907150",
     "status": "completed"
    },
    "tags": []
   },
   "outputs": [
    {
     "data": {
      "text/plain": [
       "0.5975"
      ]
     },
     "execution_count": 29,
     "metadata": {},
     "output_type": "execute_result"
    }
   ],
   "source": [
    "y = [0.1, 0.05, 0.1, 0.0, 0.05, 0.1, 0.0, 0.6, 0.0, 0.0]\n",
    "t = [0, 0, 1, 0, 0, 0, 0, 0, 0, 0]\n",
    "\n",
    "sum_squared_error(np.array(y), np.array(t))"
   ]
  },
  {
   "cell_type": "markdown",
   "id": "da3f317b",
   "metadata": {
    "papermill": {
     "duration": 0.012687,
     "end_time": "2022-05-16T05:20:06.956532",
     "exception": false,
     "start_time": "2022-05-16T05:20:06.943845",
     "status": "completed"
    },
    "tags": []
   },
   "source": [
    "### 4.2.2　交差エントロピー誤差"
   ]
  },
  {
   "cell_type": "code",
   "execution_count": 30,
   "id": "ef976668",
   "metadata": {
    "execution": {
     "iopub.execute_input": "2022-05-16T05:20:06.982859Z",
     "iopub.status.busy": "2022-05-16T05:20:06.982558Z",
     "iopub.status.idle": "2022-05-16T05:20:06.986862Z",
     "shell.execute_reply": "2022-05-16T05:20:06.986055Z"
    },
    "papermill": {
     "duration": 0.020193,
     "end_time": "2022-05-16T05:20:06.988914",
     "exception": false,
     "start_time": "2022-05-16T05:20:06.968721",
     "status": "completed"
    },
    "tags": []
   },
   "outputs": [],
   "source": [
    "def cross_entropy_error(y, t):\n",
    "    delta = 1e-7\n",
    "    return -np.sum(t * np.log(y + delta))"
   ]
  },
  {
   "cell_type": "code",
   "execution_count": 31,
   "id": "87ea83fc",
   "metadata": {
    "execution": {
     "iopub.execute_input": "2022-05-16T05:20:07.015465Z",
     "iopub.status.busy": "2022-05-16T05:20:07.014844Z",
     "iopub.status.idle": "2022-05-16T05:20:07.022854Z",
     "shell.execute_reply": "2022-05-16T05:20:07.022214Z"
    },
    "papermill": {
     "duration": 0.023566,
     "end_time": "2022-05-16T05:20:07.024819",
     "exception": false,
     "start_time": "2022-05-16T05:20:07.001253",
     "status": "completed"
    },
    "tags": []
   },
   "outputs": [
    {
     "data": {
      "text/plain": [
       "0.510825457099338"
      ]
     },
     "execution_count": 31,
     "metadata": {},
     "output_type": "execute_result"
    }
   ],
   "source": [
    "y = [0.1, 0.05, 0.6, 0.0, 0.05, 0.1, 0.0, 0.1, 0.0, 0.0]\n",
    "t = [0, 0, 1, 0, 0, 0, 0, 0, 0, 0]\n",
    "\n",
    "cross_entropy_error(np.array(y), np.array(t))"
   ]
  },
  {
   "cell_type": "code",
   "execution_count": 32,
   "id": "8d422d78",
   "metadata": {
    "execution": {
     "iopub.execute_input": "2022-05-16T05:20:07.051563Z",
     "iopub.status.busy": "2022-05-16T05:20:07.050991Z",
     "iopub.status.idle": "2022-05-16T05:20:07.059322Z",
     "shell.execute_reply": "2022-05-16T05:20:07.058393Z"
    },
    "papermill": {
     "duration": 0.024219,
     "end_time": "2022-05-16T05:20:07.061456",
     "exception": false,
     "start_time": "2022-05-16T05:20:07.037237",
     "status": "completed"
    },
    "tags": []
   },
   "outputs": [
    {
     "data": {
      "text/plain": [
       "2.302584092994546"
      ]
     },
     "execution_count": 32,
     "metadata": {},
     "output_type": "execute_result"
    }
   ],
   "source": [
    "y = [0.1, 0.05, 0.1, 0.0, 0.05, 0.1, 0.0, 0.6, 0.0, 0.0]\n",
    "t = [0, 0, 1, 0, 0, 0, 0, 0, 0, 0]\n",
    "\n",
    "cross_entropy_error(np.array(y), np.array(t))"
   ]
  },
  {
   "cell_type": "code",
   "execution_count": null,
   "id": "7bd8fabd",
   "metadata": {},
   "outputs": [],
   "source": []
  },
  {
   "cell_type": "markdown",
   "id": "272a35fa",
   "metadata": {
    "papermill": {
     "duration": 0.012675,
     "end_time": "2022-05-16T05:20:07.087122",
     "exception": false,
     "start_time": "2022-05-16T05:20:07.074447",
     "status": "completed"
    },
    "tags": []
   },
   "source": [
    "### 4.2.3　ミニバッチ学習"
   ]
  },
  {
   "cell_type": "markdown",
   "id": "11a930fd",
   "metadata": {
    "papermill": {
     "duration": 0.01246,
     "end_time": "2022-05-16T05:20:07.112770",
     "exception": false,
     "start_time": "2022-05-16T05:20:07.100310",
     "status": "completed"
    },
    "tags": []
   },
   "source": [
    "`N` 個のデータセットにおける、`n`（1〜n）行の `k`（1〜k）番の全ての損失関数を求め、それらの和を `N` で割ることで、全体の損失関数を求める。"
   ]
  },
  {
   "cell_type": "code",
   "execution_count": 33,
   "id": "06a7587a",
   "metadata": {},
   "outputs": [
    {
     "name": "stdout",
     "output_type": "stream",
     "text": [
      "(60000, 784)\n",
      "(60000, 10)\n"
     ]
    }
   ],
   "source": [
    "(x_train, t_train), (x_test, t_test) = load_mnist(normalize=True, one_hot_label=True)\n",
    "\n",
    "print(x_train.shape)\n",
    "print(t_train.shape)"
   ]
  },
  {
   "cell_type": "code",
   "execution_count": 34,
   "id": "99287ab4",
   "metadata": {},
   "outputs": [
    {
     "name": "stdout",
     "output_type": "stream",
     "text": [
      "(10, 784)\n",
      "(10, 10)\n"
     ]
    }
   ],
   "source": [
    "train_size = x_train.shape[0]\n",
    "batch_size = 10\n",
    "batch_mask = np.random.choice(train_size, batch_size)\n",
    "x_batch = x_train[batch_mask]\n",
    "t_batch = t_train[batch_mask]\n",
    "\n",
    "print(x_batch.shape)\n",
    "print(t_batch.shape)"
   ]
  },
  {
   "cell_type": "markdown",
   "id": "42f024e1",
   "metadata": {},
   "source": [
    "### 4.2.4　交差エントロピー誤差の実装（バッチ対応版）"
   ]
  },
  {
   "cell_type": "code",
   "execution_count": 35,
   "id": "011be4c1",
   "metadata": {},
   "outputs": [],
   "source": [
    "def cross_entropy_error(y, t):\n",
    "    if y.dim == 1:\n",
    "        t = t.reshape(1, t.size)\n",
    "        y = y.reshape(1, y_size)\n",
    "        \n",
    "    batch_size = y.shape[0]\n",
    "    return -np.sum(t * np.log(y + 1e-7) / batch_size)"
   ]
  }
 ],
 "metadata": {
  "kernelspec": {
   "display_name": "Python 3",
   "language": "python",
   "name": "python3"
  },
  "language_info": {
   "codemirror_mode": {
    "name": "ipython",
    "version": 3
   },
   "file_extension": ".py",
   "mimetype": "text/x-python",
   "name": "python",
   "nbconvert_exporter": "python",
   "pygments_lexer": "ipython3",
   "version": "3.8.8"
  },
  "papermill": {
   "default_parameters": {},
   "duration": 11.800557,
   "end_time": "2022-05-16T05:20:07.845845",
   "environment_variables": {},
   "exception": null,
   "input_path": "__notebook__.ipynb",
   "output_path": "__notebook__.ipynb",
   "parameters": {},
   "start_time": "2022-05-16T05:19:56.045288",
   "version": "2.3.4"
  }
 },
 "nbformat": 4,
 "nbformat_minor": 5
}
