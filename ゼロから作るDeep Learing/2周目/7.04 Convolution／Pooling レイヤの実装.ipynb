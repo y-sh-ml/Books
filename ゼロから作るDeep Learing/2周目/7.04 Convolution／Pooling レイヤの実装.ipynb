{
 "cells": [
  {
   "cell_type": "markdown",
   "id": "beca3f23",
   "metadata": {
    "_cell_guid": "b1076dfc-b9ad-4769-8c92-a6c4dae69d19",
    "_uuid": "8f2839f25d086af736a60e9eeb907d3b93b6e0e5",
    "papermill": {
     "duration": 0.005741,
     "end_time": "2022-06-01T05:41:22.715773",
     "exception": false,
     "start_time": "2022-06-01T05:41:22.710032",
     "status": "completed"
    },
    "tags": []
   },
   "source": [
    "## 7.4　Convolution／Pooling レイヤの実装"
   ]
  },
  {
   "cell_type": "code",
   "execution_count": 1,
   "id": "595f23ac",
   "metadata": {
    "execution": {
     "iopub.execute_input": "2022-06-01T05:41:22.730774Z",
     "iopub.status.busy": "2022-06-01T05:41:22.729790Z",
     "iopub.status.idle": "2022-06-01T05:41:22.745433Z",
     "shell.execute_reply": "2022-06-01T05:41:22.744186Z"
    },
    "papermill": {
     "duration": 0.024976,
     "end_time": "2022-06-01T05:41:22.748380",
     "exception": false,
     "start_time": "2022-06-01T05:41:22.723404",
     "status": "completed"
    },
    "tags": []
   },
   "outputs": [],
   "source": [
    "import os\n",
    "import sys\n",
    "import numpy as np"
   ]
  },
  {
   "cell_type": "code",
   "execution_count": 2,
   "id": "a26a56b8",
   "metadata": {},
   "outputs": [],
   "source": [
    "os.chdir('/Users/yuta.shimizu/Downloads/Machine Learning/deep-learning-from-scratch-master/ch01')\n",
    "sys.path.append(os.pardir)"
   ]
  },
  {
   "cell_type": "code",
   "execution_count": 3,
   "id": "52b599d2",
   "metadata": {},
   "outputs": [],
   "source": [
    "from common.util import im2col"
   ]
  },
  {
   "cell_type": "markdown",
   "id": "a7867b21",
   "metadata": {},
   "source": [
    "### 7.4.1　4 次元配列"
   ]
  },
  {
   "cell_type": "code",
   "execution_count": 4,
   "id": "92b0eb98",
   "metadata": {},
   "outputs": [
    {
     "data": {
      "text/plain": [
       "(10, 1, 28, 28)"
      ]
     },
     "execution_count": 4,
     "metadata": {},
     "output_type": "execute_result"
    }
   ],
   "source": [
    "x = np.random.rand(10, 1, 28, 28)\n",
    "x.shape"
   ]
  },
  {
   "cell_type": "code",
   "execution_count": 5,
   "id": "9fd71e0b",
   "metadata": {},
   "outputs": [
    {
     "name": "stdout",
     "output_type": "stream",
     "text": [
      "(1, 28, 28)\n",
      "(1, 28, 28)\n"
     ]
    }
   ],
   "source": [
    "print(x[0].shape)\n",
    "print(x[1].shape)"
   ]
  },
  {
   "cell_type": "code",
   "execution_count": 6,
   "id": "a8108150",
   "metadata": {
    "scrolled": false
   },
   "outputs": [
    {
     "data": {
      "text/plain": [
       "array([[0.950543  , 0.34356156, 0.41525097, 0.8591098 , 0.9332909 ,\n",
       "        0.72716431, 0.89415206, 0.15345353, 0.76525538, 0.16490336,\n",
       "        0.76964274, 0.70954623, 0.8368931 , 0.55177753, 0.90738241,\n",
       "        0.00792462, 0.76818761, 0.50721768, 0.57905534, 0.57349874,\n",
       "        0.33806141, 0.5550905 , 0.75851536, 0.96316926, 0.80017213,\n",
       "        0.64085273, 0.02378796, 0.72870626]])"
      ]
     },
     "execution_count": 6,
     "metadata": {},
     "output_type": "execute_result"
    }
   ],
   "source": [
    "x[0, 0][:1]"
   ]
  },
  {
   "cell_type": "markdown",
   "id": "30a45d53",
   "metadata": {},
   "source": [
    "### 7.4.3　Convolution レイヤの実装"
   ]
  },
  {
   "cell_type": "code",
   "execution_count": 7,
   "id": "d22a4f1f",
   "metadata": {},
   "outputs": [
    {
     "name": "stdout",
     "output_type": "stream",
     "text": [
      "(9, 75)\n"
     ]
    }
   ],
   "source": [
    "x1 = np.random.rand(1,3, 7, 7)\n",
    "col1 = im2col(x1, 5, 5, stride=1, pad=0)\n",
    "print(col1.shape)"
   ]
  },
  {
   "cell_type": "code",
   "execution_count": 8,
   "id": "8db8fc23",
   "metadata": {},
   "outputs": [
    {
     "name": "stdout",
     "output_type": "stream",
     "text": [
      "(90, 75)\n"
     ]
    }
   ],
   "source": [
    "x2 = np.random.rand(10, 3, 7, 7)\n",
    "col2 = im2col(x2, 5, 5, stride=1, pad=0)\n",
    "print(col2.shape)"
   ]
  },
  {
   "cell_type": "code",
   "execution_count": 9,
   "id": "7314164c",
   "metadata": {},
   "outputs": [],
   "source": [
    "class Convolution:\n",
    "    def __init__(self, W, b, stride=1, pad=0):\n",
    "        self.W = W\n",
    "        self.b = b\n",
    "        self.stride = stride\n",
    "        self.pad = pad\n",
    "    \n",
    "    def forward(self, x):\n",
    "        FN, C, FH, FW = self.W.shape\n",
    "        N, C, H, W = x.shape\n",
    "        out_h = int(1 + (H + 2*self.pad - FH) / self.stride)\n",
    "        out_w =  int(1 + (W + 2*self.pad - FW) / self.stride)\n",
    "        \n",
    "        col = im2col(x, FH, FW, self.stride, self.pad)\n",
    "        col_W = self.W.reshape(FN, -1).T\n",
    "        out = np.dot(col, col_W) + self.b\n",
    "        \n",
    "        out = out.reshape(N, out_h, out_w, -1).transpose(0, 3, 1, 2)\n",
    "        \n",
    "        return out"
   ]
  },
  {
   "cell_type": "markdown",
   "id": "29c67caa",
   "metadata": {},
   "source": [
    "`out_h` と `out_w` は、P. 212 の式を利用している。<br>\n",
    "また、バッチ処理になってもフィルターの次元は変化しない。（P. 78 参照）"
   ]
  },
  {
   "cell_type": "markdown",
   "id": "ff57f19e",
   "metadata": {},
   "source": [
    "### 7.4.4　Pooling レイヤの実装"
   ]
  },
  {
   "cell_type": "code",
   "execution_count": 10,
   "id": "a5652352",
   "metadata": {},
   "outputs": [],
   "source": [
    "class pooling:\n",
    "    def __init__(self, pool_h, pool_w, stride=2, pad=0):\n",
    "        self.pool_h = pool_h\n",
    "        self.pool_w = pool_w\n",
    "        self.stride = stride\n",
    "        self.pad = pad\n",
    "        \n",
    "    def forward(self, x):\n",
    "        N, C, H, W = x.shape\n",
    "        out_h = int(1 + (H - self.pool_h) / self.stride)\n",
    "        out_w = int(1 + (W - self.pool_w) / self.stride)\n",
    "        \n",
    "        col = im2col(x, self.pool_h, self.pool_w, self.stride, self.pad)\n",
    "        col = col.reshape(-1, self.pool_h*self.pool_w)\n",
    "        \n",
    "        out = np.max(col, axis=1)\n",
    "        out = reshape(N, out_h, out_w, C).transpose(0, 3, 1, 2)\n",
    "        \n",
    "        return out"
   ]
  }
 ],
 "metadata": {
  "kernelspec": {
   "display_name": "Python 3",
   "language": "python",
   "name": "python3"
  },
  "language_info": {
   "codemirror_mode": {
    "name": "ipython",
    "version": 3
   },
   "file_extension": ".py",
   "mimetype": "text/x-python",
   "name": "python",
   "nbconvert_exporter": "python",
   "pygments_lexer": "ipython3",
   "version": "3.8.8"
  },
  "papermill": {
   "default_parameters": {},
   "duration": 36694.244163,
   "end_time": "2022-06-01T15:52:45.852922",
   "environment_variables": {},
   "exception": null,
   "input_path": "__notebook__.ipynb",
   "output_path": "__notebook__.ipynb",
   "parameters": {},
   "start_time": "2022-06-01T05:41:11.608759",
   "version": "2.3.4"
  }
 },
 "nbformat": 4,
 "nbformat_minor": 5
}
