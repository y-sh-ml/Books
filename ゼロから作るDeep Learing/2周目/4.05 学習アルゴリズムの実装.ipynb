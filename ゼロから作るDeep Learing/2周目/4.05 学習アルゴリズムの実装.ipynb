{
 "cells": [
  {
   "cell_type": "markdown",
   "id": "f1d0608e",
   "metadata": {
    "_cell_guid": "b1076dfc-b9ad-4769-8c92-a6c4dae69d19",
    "_uuid": "8f2839f25d086af736a60e9eeb907d3b93b6e0e5",
    "papermill": {
     "duration": 0.019975,
     "end_time": "2022-05-19T06:37:04.634240",
     "exception": false,
     "start_time": "2022-05-19T06:37:04.614265",
     "status": "completed"
    },
    "tags": []
   },
   "source": [
    "## 4.5　学習アルゴリズムの実装"
   ]
  },
  {
   "cell_type": "code",
   "execution_count": 1,
   "id": "ac9f5bdd",
   "metadata": {
    "execution": {
     "iopub.execute_input": "2022-05-19T06:37:04.673171Z",
     "iopub.status.busy": "2022-05-19T06:37:04.672475Z",
     "iopub.status.idle": "2022-05-19T06:37:04.682508Z",
     "shell.execute_reply": "2022-05-19T06:37:04.681917Z"
    },
    "papermill": {
     "duration": 0.032132,
     "end_time": "2022-05-19T06:37:04.684450",
     "exception": false,
     "start_time": "2022-05-19T06:37:04.652318",
     "status": "completed"
    },
    "tags": []
   },
   "outputs": [],
   "source": [
    "import sys\n",
    "import numpy as np\n",
    "import matplotlib.pyplot as plt"
   ]
  },
  {
   "cell_type": "code",
   "execution_count": 2,
   "id": "4893eaf4",
   "metadata": {
    "execution": {
     "iopub.execute_input": "2022-05-19T06:37:04.722328Z",
     "iopub.status.busy": "2022-05-19T06:37:04.721651Z",
     "iopub.status.idle": "2022-05-19T06:37:04.725166Z",
     "shell.execute_reply": "2022-05-19T06:37:04.724575Z"
    },
    "papermill": {
     "duration": 0.024366,
     "end_time": "2022-05-19T06:37:04.726809",
     "exception": false,
     "start_time": "2022-05-19T06:37:04.702443",
     "status": "completed"
    },
    "tags": []
   },
   "outputs": [],
   "source": [
    "sys.path.append('../input/deeplearningfromscratchmaster/deep-learning-from-scratch-master')"
   ]
  },
  {
   "cell_type": "code",
   "execution_count": 3,
   "id": "fc40ee6b",
   "metadata": {
    "execution": {
     "iopub.execute_input": "2022-05-19T06:37:04.764731Z",
     "iopub.status.busy": "2022-05-19T06:37:04.764318Z",
     "iopub.status.idle": "2022-05-19T06:37:04.795791Z",
     "shell.execute_reply": "2022-05-19T06:37:04.794854Z"
    },
    "papermill": {
     "duration": 0.053013,
     "end_time": "2022-05-19T06:37:04.797917",
     "exception": false,
     "start_time": "2022-05-19T06:37:04.744904",
     "status": "completed"
    },
    "tags": []
   },
   "outputs": [],
   "source": [
    "from common.functions import *\n",
    "from common.gradient import numerical_gradient"
   ]
  },
  {
   "cell_type": "markdown",
   "id": "07dc5ac2",
   "metadata": {
    "papermill": {
     "duration": 0.018016,
     "end_time": "2022-05-19T06:37:04.834357",
     "exception": false,
     "start_time": "2022-05-19T06:37:04.816341",
     "status": "completed"
    },
    "tags": []
   },
   "source": [
    "### 4.5.1　2 層ニューラルネットワークのクラス"
   ]
  },
  {
   "cell_type": "markdown",
   "id": "ba850ec0",
   "metadata": {
    "execution": {
     "iopub.execute_input": "2022-05-18T05:46:01.561329Z",
     "iopub.status.busy": "2022-05-18T05:46:01.560882Z",
     "iopub.status.idle": "2022-05-18T05:46:01.568703Z",
     "shell.execute_reply": "2022-05-18T05:46:01.567621Z",
     "shell.execute_reply.started": "2022-05-18T05:46:01.561285Z"
    },
    "papermill": {
     "duration": 0.017645,
     "end_time": "2022-05-19T06:37:04.869870",
     "exception": false,
     "start_time": "2022-05-19T06:37:04.852225",
     "status": "completed"
    },
    "tags": []
   },
   "source": [
    "$784 \\times 100 \\times 10$ の 2 層ネットワークのクラスを作成する。"
   ]
  },
  {
   "cell_type": "code",
   "execution_count": 4,
   "id": "b4d7f89d",
   "metadata": {
    "execution": {
     "iopub.execute_input": "2022-05-19T06:37:04.907815Z",
     "iopub.status.busy": "2022-05-19T06:37:04.907532Z",
     "iopub.status.idle": "2022-05-19T06:37:04.918224Z",
     "shell.execute_reply": "2022-05-19T06:37:04.917460Z"
    },
    "papermill": {
     "duration": 0.031843,
     "end_time": "2022-05-19T06:37:04.920232",
     "exception": false,
     "start_time": "2022-05-19T06:37:04.888389",
     "status": "completed"
    },
    "tags": []
   },
   "outputs": [],
   "source": [
    "class TwoLayerNet:\n",
    "    \n",
    "    def __init__(self, input_size, hidden_size, output_size, weight_init_std=0.01):\n",
    "        self.params = {}\n",
    "        self.params['W1'] = weight_init_std * np.random.randn(input_size, hidden_size)\n",
    "        self.params['b1'] = np.zeros(hidden_size)\n",
    "        self.params['W2'] = weight_init_std * np.random.randn(hidden_size, output_size)\n",
    "        self.params['b2'] = np.zeros(output_size)\n",
    "        \n",
    "    def predict(self, x):\n",
    "        W1, W2 = self.params['W1'], self.params['W2']\n",
    "        b1, b2 = self.params['b1'], self.params['b2']\n",
    "        \n",
    "        a1 = np.dot(x, W1) + b1\n",
    "        z1 = sigmoid(a1)\n",
    "        a2 = np.dot(z1, W2) + b2\n",
    "        y = softmax(a2)\n",
    "        \n",
    "        return y\n",
    "    \n",
    "    def loss(self, x, t):\n",
    "        y = self.predict(x)\n",
    "        \n",
    "        return cross_entropy_error(y, t)\n",
    "    \n",
    "    def accuracy(self, x, t):\n",
    "        y = self.predict(y, axis=1)\n",
    "        y = np.argmax(y, axis=1)\n",
    "        t = np.argmax(t, axis=1)\n",
    "        \n",
    "        accuracy = np.sum(y==t) / float(x.shape[0])\n",
    "        return accuracy\n",
    "    \n",
    "    def numerical_gradient(self, x, t):\n",
    "        loss_W = lambda W: self.loss(x, t)\n",
    "        \n",
    "        grads = {}\n",
    "        \n",
    "        grads['W1'] = numerical_gradient(loss_W, self.params['W1'])\n",
    "        grads['b1'] = numerical_gradient(loss_W, self.params['b1'])\n",
    "        grads['W2'] = numerical_gradient(loss_W, self.params['W2'])\n",
    "        grads['b2'] = numerical_gradient(loss_W, self.params['b2'])\n",
    "        \n",
    "        return grads"
   ]
  },
  {
   "cell_type": "markdown",
   "id": "3cde1b4a",
   "metadata": {
    "papermill": {
     "duration": 0.018106,
     "end_time": "2022-05-19T06:37:04.956160",
     "exception": false,
     "start_time": "2022-05-19T06:37:04.938054",
     "status": "completed"
    },
    "tags": []
   },
   "source": [
    "`loss_W` は損失関数なので、`numerical_gradient` に `loss_W` と `W, b` を与えればいい。<br>\n",
    "`loss` には `predict` が入っているので、この時に順伝播を行っている。"
   ]
  },
  {
   "cell_type": "code",
   "execution_count": 5,
   "id": "1a62d5db",
   "metadata": {
    "execution": {
     "iopub.execute_input": "2022-05-19T06:37:04.996538Z",
     "iopub.status.busy": "2022-05-19T06:37:04.995995Z",
     "iopub.status.idle": "2022-05-19T06:37:05.007540Z",
     "shell.execute_reply": "2022-05-19T06:37:05.006245Z"
    },
    "papermill": {
     "duration": 0.033442,
     "end_time": "2022-05-19T06:37:05.009763",
     "exception": false,
     "start_time": "2022-05-19T06:37:04.976321",
     "status": "completed"
    },
    "tags": []
   },
   "outputs": [
    {
     "name": "stdout",
     "output_type": "stream",
     "text": [
      "(784, 100)\n",
      "(100, 10)\n"
     ]
    }
   ],
   "source": [
    "net = TwoLayerNet(input_size=784, hidden_size=100, output_size=10)\n",
    "print(net.params['W1'].shape)\n",
    "print(net.params['W2'].shape)"
   ]
  },
  {
   "cell_type": "code",
   "execution_count": 6,
   "id": "75e26587",
   "metadata": {
    "execution": {
     "iopub.execute_input": "2022-05-19T06:37:05.048792Z",
     "iopub.status.busy": "2022-05-19T06:37:05.048369Z",
     "iopub.status.idle": "2022-05-19T06:37:05.054877Z",
     "shell.execute_reply": "2022-05-19T06:37:05.053961Z"
    },
    "papermill": {
     "duration": 0.028345,
     "end_time": "2022-05-19T06:37:05.057100",
     "exception": false,
     "start_time": "2022-05-19T06:37:05.028755",
     "status": "completed"
    },
    "tags": []
   },
   "outputs": [
    {
     "name": "stdout",
     "output_type": "stream",
     "text": [
      "(100, 784)\n",
      "(100, 10)\n"
     ]
    }
   ],
   "source": [
    "x = np.random.rand(100, 784)\n",
    "t = np.random.rand(100, 10)\n",
    "\n",
    "print(x.shape)\n",
    "print(t.shape)"
   ]
  },
  {
   "cell_type": "markdown",
   "id": "7b3e48f5",
   "metadata": {
    "papermill": {
     "duration": 0.019694,
     "end_time": "2022-05-19T06:37:05.095540",
     "exception": false,
     "start_time": "2022-05-19T06:37:05.075846",
     "status": "completed"
    },
    "tags": []
   },
   "source": [
    "行数 100 はバッチサイズである。"
   ]
  },
  {
   "cell_type": "code",
   "execution_count": 7,
   "id": "6c3234ef",
   "metadata": {
    "execution": {
     "iopub.execute_input": "2022-05-19T06:37:05.134995Z",
     "iopub.status.busy": "2022-05-19T06:37:05.134564Z",
     "iopub.status.idle": "2022-05-19T06:39:31.286316Z",
     "shell.execute_reply": "2022-05-19T06:39:31.285431Z"
    },
    "papermill": {
     "duration": 146.212939,
     "end_time": "2022-05-19T06:39:31.327373",
     "exception": false,
     "start_time": "2022-05-19T06:37:05.114434",
     "status": "completed"
    },
    "tags": []
   },
   "outputs": [
    {
     "name": "stdout",
     "output_type": "stream",
     "text": [
      "(784, 100)\n",
      "(100,)\n",
      "(100, 10)\n",
      "(10,)\n"
     ]
    }
   ],
   "source": [
    "grads = net.numerical_gradient(x,t)\n",
    "\n",
    "print(grads['W1'].shape)\n",
    "print(grads['b1'].shape)\n",
    "print(grads['W2'].shape)\n",
    "print(grads['b2'].shape)"
   ]
  },
  {
   "cell_type": "markdown",
   "id": "0f99db77",
   "metadata": {
    "papermill": {
     "duration": 0.037068,
     "end_time": "2022-05-19T06:39:31.403342",
     "exception": false,
     "start_time": "2022-05-19T06:39:31.366274",
     "status": "completed"
    },
    "tags": []
   },
   "source": [
    "今回は単純な偏微分の計算 `numerical_gradient` で勾配を求めたが、これには時間がかかる。<br>\n",
    "そのため、誤差逆伝播法という使って、勾配の求める処理を高速にしていく。"
   ]
  },
  {
   "cell_type": "markdown",
   "id": "ac24ac3e",
   "metadata": {
    "papermill": {
     "duration": 0.018626,
     "end_time": "2022-05-19T06:39:31.440866",
     "exception": false,
     "start_time": "2022-05-19T06:39:31.422240",
     "status": "completed"
    },
    "tags": []
   },
   "source": [
    "### 4.5.3 ミニバッチ学習の実装"
   ]
  },
  {
   "cell_type": "code",
   "execution_count": 8,
   "id": "30573c15",
   "metadata": {
    "execution": {
     "iopub.execute_input": "2022-05-19T06:39:31.479890Z",
     "iopub.status.busy": "2022-05-19T06:39:31.479617Z",
     "iopub.status.idle": "2022-05-19T06:39:31.502677Z",
     "shell.execute_reply": "2022-05-19T06:39:31.501809Z"
    },
    "papermill": {
     "duration": 0.045272,
     "end_time": "2022-05-19T06:39:31.504936",
     "exception": false,
     "start_time": "2022-05-19T06:39:31.459664",
     "status": "completed"
    },
    "tags": []
   },
   "outputs": [],
   "source": [
    "from ch04.two_layer_net import TwoLayerNet"
   ]
  },
  {
   "cell_type": "code",
   "execution_count": 9,
   "id": "8de38b0a",
   "metadata": {
    "execution": {
     "iopub.execute_input": "2022-05-19T06:39:31.545730Z",
     "iopub.status.busy": "2022-05-19T06:39:31.545239Z",
     "iopub.status.idle": "2022-05-19T06:39:33.284673Z",
     "shell.execute_reply": "2022-05-19T06:39:33.283611Z"
    },
    "papermill": {
     "duration": 1.762185,
     "end_time": "2022-05-19T06:39:33.286778",
     "exception": false,
     "start_time": "2022-05-19T06:39:31.524593",
     "status": "completed"
    },
    "tags": []
   },
   "outputs": [
    {
     "name": "stdout",
     "output_type": "stream",
     "text": [
      "(60000, 784)\n",
      "(60000, 10)\n",
      "(10000, 784)\n",
      "(10000, 10)\n"
     ]
    }
   ],
   "source": [
    "x_train = np.load('../input/load-mnist/load_mnist/normalize=True, one_hot_label=True/x_train.npy')\n",
    "t_train = np.load('../input/load-mnist/load_mnist/normalize=True, one_hot_label=True/t_train.npy')\n",
    "x_test = np.load('../input/load-mnist/load_mnist/normalize=True, one_hot_label=True/x_test.npy')\n",
    "t_test = np.load('../input/load-mnist/load_mnist/normalize=True, one_hot_label=True/t_test.npy')\n",
    "\n",
    "print(x_train.shape)\n",
    "print(t_train.shape)\n",
    "print(x_test.shape)\n",
    "print(t_test.shape)"
   ]
  },
  {
   "cell_type": "code",
   "execution_count": 10,
   "id": "61a0805a",
   "metadata": {
    "execution": {
     "iopub.execute_input": "2022-05-19T06:39:33.328154Z",
     "iopub.status.busy": "2022-05-19T06:39:33.327469Z",
     "iopub.status.idle": "2022-05-19T06:39:33.331292Z",
     "shell.execute_reply": "2022-05-19T06:39:33.330632Z"
    },
    "papermill": {
     "duration": 0.026354,
     "end_time": "2022-05-19T06:39:33.333189",
     "exception": false,
     "start_time": "2022-05-19T06:39:33.306835",
     "status": "completed"
    },
    "tags": []
   },
   "outputs": [],
   "source": [
    "train_loss_list = []"
   ]
  },
  {
   "cell_type": "code",
   "execution_count": 11,
   "id": "6004b36a",
   "metadata": {
    "execution": {
     "iopub.execute_input": "2022-05-19T06:39:33.374934Z",
     "iopub.status.busy": "2022-05-19T06:39:33.374381Z",
     "iopub.status.idle": "2022-05-19T06:39:33.378395Z",
     "shell.execute_reply": "2022-05-19T06:39:33.377775Z"
    },
    "papermill": {
     "duration": 0.027745,
     "end_time": "2022-05-19T06:39:33.380205",
     "exception": false,
     "start_time": "2022-05-19T06:39:33.352460",
     "status": "completed"
    },
    "tags": []
   },
   "outputs": [],
   "source": [
    "iters_num = 10000\n",
    "train_size = x_train.shape[0]\n",
    "batch_size = 100\n",
    "learning_rate = 0.1"
   ]
  },
  {
   "cell_type": "code",
   "execution_count": 12,
   "id": "4d1d3e06",
   "metadata": {
    "execution": {
     "iopub.execute_input": "2022-05-19T06:39:33.422348Z",
     "iopub.status.busy": "2022-05-19T06:39:33.422058Z",
     "iopub.status.idle": "2022-05-19T06:40:00.843292Z",
     "shell.execute_reply": "2022-05-19T06:40:00.842308Z"
    },
    "papermill": {
     "duration": 27.445973,
     "end_time": "2022-05-19T06:40:00.846585",
     "exception": false,
     "start_time": "2022-05-19T06:39:33.400612",
     "status": "completed"
    },
    "tags": []
   },
   "outputs": [],
   "source": [
    "network = TwoLayerNet(input_size=784, hidden_size=50, output_size=10)\n",
    "\n",
    "for i in range(iters_num):\n",
    "    batch_mask = np.random.choice(train_size, batch_size)\n",
    "    x_batch = x_train[batch_mask]\n",
    "    t_batch = t_train[batch_mask]\n",
    "    \n",
    "    # grad = network.numerical_gradient(x_batch, t_batch)\n",
    "    grad = network.gradient(x_batch, t_batch)\n",
    "    \n",
    "    for key in ('W1', 'b1', 'W2', 'b2'):\n",
    "        network.params[key] -= learning_rate * grad[key]\n",
    "        \n",
    "    loss = network.loss(x_batch, t_batch)\n",
    "    train_loss_list.append(loss)"
   ]
  },
  {
   "cell_type": "markdown",
   "id": "a6ce8d62",
   "metadata": {
    "papermill": {
     "duration": 0.037029,
     "end_time": "2022-05-19T06:40:00.921564",
     "exception": false,
     "start_time": "2022-05-19T06:40:00.884535",
     "status": "completed"
    },
    "tags": []
   },
   "source": [
    "`grad` には `grads['W1'], grads['b1'], grads['W2'], grads['b2']` が代入されている。"
   ]
  },
  {
   "cell_type": "markdown",
   "id": "32c39516",
   "metadata": {
    "papermill": {
     "duration": 0.019755,
     "end_time": "2022-05-19T06:40:00.979994",
     "exception": false,
     "start_time": "2022-05-19T06:40:00.960239",
     "status": "completed"
    },
    "tags": []
   },
   "source": [
    "### 4.5.3　テストデータで評価"
   ]
  },
  {
   "cell_type": "code",
   "execution_count": 13,
   "id": "0a1510ab",
   "metadata": {
    "execution": {
     "iopub.execute_input": "2022-05-19T06:40:01.021004Z",
     "iopub.status.busy": "2022-05-19T06:40:01.020739Z",
     "iopub.status.idle": "2022-05-19T06:40:01.025173Z",
     "shell.execute_reply": "2022-05-19T06:40:01.024302Z"
    },
    "papermill": {
     "duration": 0.027404,
     "end_time": "2022-05-19T06:40:01.027171",
     "exception": false,
     "start_time": "2022-05-19T06:40:00.999767",
     "status": "completed"
    },
    "tags": []
   },
   "outputs": [],
   "source": [
    "iters_num = 10000\n",
    "train_size = x_train.shape[0]\n",
    "batch_size = 100\n",
    "learning_rate = 0.1"
   ]
  },
  {
   "cell_type": "code",
   "execution_count": 14,
   "id": "47599cc0",
   "metadata": {
    "execution": {
     "iopub.execute_input": "2022-05-19T06:40:01.067611Z",
     "iopub.status.busy": "2022-05-19T06:40:01.066958Z",
     "iopub.status.idle": "2022-05-19T06:40:01.071417Z",
     "shell.execute_reply": "2022-05-19T06:40:01.070807Z"
    },
    "papermill": {
     "duration": 0.026609,
     "end_time": "2022-05-19T06:40:01.073350",
     "exception": false,
     "start_time": "2022-05-19T06:40:01.046741",
     "status": "completed"
    },
    "tags": []
   },
   "outputs": [],
   "source": [
    "train_loss_list = []\n",
    "train_acc_list = []\n",
    "test_acc_list = []\n",
    "iter_per_epoch = max(train_size / batch_size, 1)"
   ]
  },
  {
   "cell_type": "code",
   "execution_count": 15,
   "id": "4a5cc963",
   "metadata": {
    "execution": {
     "iopub.execute_input": "2022-05-19T06:40:01.113207Z",
     "iopub.status.busy": "2022-05-19T06:40:01.112425Z",
     "iopub.status.idle": "2022-05-19T06:40:01.117170Z",
     "shell.execute_reply": "2022-05-19T06:40:01.116525Z"
    },
    "papermill": {
     "duration": 0.026511,
     "end_time": "2022-05-19T06:40:01.119035",
     "exception": false,
     "start_time": "2022-05-19T06:40:01.092524",
     "status": "completed"
    },
    "tags": []
   },
   "outputs": [
    {
     "name": "stdout",
     "output_type": "stream",
     "text": [
      "60000\n",
      "100\n",
      "600.0\n"
     ]
    }
   ],
   "source": [
    "print(train_size)\n",
    "print(batch_size)\n",
    "print(iter_per_epoch)"
   ]
  },
  {
   "cell_type": "markdown",
   "id": "fc0ea9a3",
   "metadata": {
    "papermill": {
     "duration": 0.01893,
     "end_time": "2022-05-19T06:40:01.157980",
     "exception": false,
     "start_time": "2022-05-19T06:40:01.139050",
     "status": "completed"
    },
    "tags": []
   },
   "source": [
    "`iter_per_epoch` は、1 エポックあたりの繰り返し数である。"
   ]
  },
  {
   "cell_type": "code",
   "execution_count": 16,
   "id": "3afe37aa",
   "metadata": {
    "execution": {
     "iopub.execute_input": "2022-05-19T06:40:01.198207Z",
     "iopub.status.busy": "2022-05-19T06:40:01.197639Z",
     "iopub.status.idle": "2022-05-19T06:40:37.842439Z",
     "shell.execute_reply": "2022-05-19T06:40:37.841508Z"
    },
    "papermill": {
     "duration": 36.669394,
     "end_time": "2022-05-19T06:40:37.846529",
     "exception": false,
     "start_time": "2022-05-19T06:40:01.177135",
     "status": "completed"
    },
    "tags": []
   },
   "outputs": [
    {
     "name": "stdout",
     "output_type": "stream",
     "text": [
      "train acc, test acc | 0.0993, 0.1031\n",
      "train acc, test acc | 0.7851833333333333, 0.794\n",
      "train acc, test acc | 0.8777166666666667, 0.8826\n",
      "train acc, test acc | 0.899, 0.9021\n",
      "train acc, test acc | 0.90845, 0.9107\n",
      "train acc, test acc | 0.9140333333333334, 0.9159\n",
      "train acc, test acc | 0.9199666666666667, 0.9216\n",
      "train acc, test acc | 0.9237833333333333, 0.925\n",
      "train acc, test acc | 0.9273333333333333, 0.9294\n",
      "train acc, test acc | 0.9302, 0.9321\n",
      "train acc, test acc | 0.9344833333333333, 0.9365\n",
      "train acc, test acc | 0.9368166666666666, 0.9357\n",
      "train acc, test acc | 0.9392666666666667, 0.9394\n",
      "train acc, test acc | 0.9414, 0.9419\n",
      "train acc, test acc | 0.9434666666666667, 0.9431\n",
      "train acc, test acc | 0.9458333333333333, 0.9447\n",
      "train acc, test acc | 0.94795, 0.9463\n"
     ]
    }
   ],
   "source": [
    "network = TwoLayerNet(input_size=784, hidden_size=50, output_size=10)\n",
    "\n",
    "for i in range(iters_num):\n",
    "    batch_mask = np.random.choice(train_size, batch_size)\n",
    "    x_batch = x_train[batch_mask]\n",
    "    t_batch = t_train[batch_mask]\n",
    "    \n",
    "    # grad = network.numerical_gradient(x_batch, t_batch)\n",
    "    grad = network.gradient(x_batch, t_batch)\n",
    "    \n",
    "    for key in ('W1', 'b1', 'W2', 'b2'):\n",
    "        network.params[key] -= learning_rate * grad[key]\n",
    "        \n",
    "    loss = network.loss(x_batch, t_batch)\n",
    "    train_loss_list.append(loss)\n",
    "    \n",
    "    if i % iter_per_epoch == 0:\n",
    "        train_acc = network.accuracy(x_train, t_train)\n",
    "        test_acc = network.accuracy(x_test, t_test)\n",
    "        train_acc_list.append(train_acc)\n",
    "        test_acc_list.append(test_acc)\n",
    "        print('train acc, test acc | ' + str(train_acc) + ', ' + str(test_acc))"
   ]
  },
  {
   "cell_type": "markdown",
   "id": "dc4e3d3f",
   "metadata": {
    "execution": {
     "iopub.execute_input": "2022-05-19T06:26:37.646919Z",
     "iopub.status.busy": "2022-05-19T06:26:37.645400Z",
     "iopub.status.idle": "2022-05-19T06:26:37.653477Z",
     "shell.execute_reply": "2022-05-19T06:26:37.652849Z",
     "shell.execute_reply.started": "2022-05-19T06:26:37.646865Z"
    },
    "papermill": {
     "duration": 0.048963,
     "end_time": "2022-05-19T06:40:37.947343",
     "exception": false,
     "start_time": "2022-05-19T06:40:37.898380",
     "status": "completed"
    },
    "tags": []
   },
   "source": [
    "繰り返し数 `i` が 1 エポック相当になる度に、スコアが出力される。"
   ]
  },
  {
   "cell_type": "code",
   "execution_count": 17,
   "id": "b8e42d90",
   "metadata": {
    "execution": {
     "iopub.execute_input": "2022-05-19T06:40:38.006682Z",
     "iopub.status.busy": "2022-05-19T06:40:38.006408Z",
     "iopub.status.idle": "2022-05-19T06:40:38.222555Z",
     "shell.execute_reply": "2022-05-19T06:40:38.221673Z"
    },
    "papermill": {
     "duration": 0.245812,
     "end_time": "2022-05-19T06:40:38.224453",
     "exception": false,
     "start_time": "2022-05-19T06:40:37.978641",
     "status": "completed"
    },
    "tags": []
   },
   "outputs": [
    {
     "data": {
      "image/png": "[encoded data removed]",
      "text/plain": [
       "<Figure size 432x288 with 1 Axes>"
      ]
     },
     "metadata": {
      "needs_background": "light"
     },
     "output_type": "display_data"
    }
   ],
   "source": [
    "markers = {'train': 'o', 'test': 's'}\n",
    "x = np.arange(len(train_acc_list))\n",
    "plt.plot(x, train_acc_list, label='train acc')\n",
    "plt.plot(x, test_acc_list, label='test acc', linestyle='--')\n",
    "plt.xlabel(\"epochs\")\n",
    "plt.ylabel(\"accuracy\")\n",
    "plt.ylim(0, 1.0)\n",
    "plt.legend(loc='lower right')\n",
    "plt.show()"
   ]
  }
 ],
 "metadata": {
  "kernelspec": {
   "display_name": "Python 3",
   "language": "python",
   "name": "python3"
  },
  "language_info": {
   "codemirror_mode": {
    "name": "ipython",
    "version": 3
   },
   "file_extension": ".py",
   "mimetype": "text/x-python",
   "name": "python",
   "nbconvert_exporter": "python",
   "pygments_lexer": "ipython3",
   "version": "3.7.12"
  },
  "papermill": {
   "default_parameters": {},
   "duration": 222.961999,
   "end_time": "2022-05-19T06:40:38.870236",
   "environment_variables": {},
   "exception": null,
   "input_path": "__notebook__.ipynb",
   "output_path": "__notebook__.ipynb",
   "parameters": {},
   "start_time": "2022-05-19T06:36:55.908237",
   "version": "2.3.4"
  }
 },
 "nbformat": 4,
 "nbformat_minor": 5
}
