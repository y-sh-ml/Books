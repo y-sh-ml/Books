{
 "cells": [
  {
   "cell_type": "markdown",
   "id": "42817332",
   "metadata": {
    "_cell_guid": "b1076dfc-b9ad-4769-8c92-a6c4dae69d19",
    "_uuid": "8f2839f25d086af736a60e9eeb907d3b93b6e0e5",
    "papermill": {
     "duration": 0.010261,
     "end_time": "2022-05-13T03:07:19.488107",
     "exception": false,
     "start_time": "2022-05-13T03:07:19.477846",
     "status": "completed"
    },
    "tags": []
   },
   "source": [
    "## 3.6　手書き文字認識"
   ]
  },
  {
   "cell_type": "code",
   "execution_count": 1,
   "id": "2d98f9e4",
   "metadata": {
    "execution": {
     "iopub.execute_input": "2022-05-13T03:07:19.508285Z",
     "iopub.status.busy": "2022-05-13T03:07:19.507829Z",
     "iopub.status.idle": "2022-05-13T03:07:19.516692Z",
     "shell.execute_reply": "2022-05-13T03:07:19.516126Z"
    },
    "papermill": {
     "duration": 0.021231,
     "end_time": "2022-05-13T03:07:19.518616",
     "exception": false,
     "start_time": "2022-05-13T03:07:19.497385",
     "status": "completed"
    },
    "tags": []
   },
   "outputs": [],
   "source": [
    "import sys\n",
    "import pickle\n",
    "import numpy as np"
   ]
  },
  {
   "cell_type": "code",
   "execution_count": 5,
   "id": "69d3b7e0",
   "metadata": {
    "execution": {
     "iopub.execute_input": "2022-05-13T03:07:19.538616Z",
     "iopub.status.busy": "2022-05-13T03:07:19.538069Z",
     "iopub.status.idle": "2022-05-13T03:07:19.542001Z",
     "shell.execute_reply": "2022-05-13T03:07:19.541323Z"
    },
    "papermill": {
     "duration": 0.016039,
     "end_time": "2022-05-13T03:07:19.543833",
     "exception": false,
     "start_time": "2022-05-13T03:07:19.527794",
     "status": "completed"
    },
    "tags": []
   },
   "outputs": [],
   "source": [
    "sys.path.append('/Users/yuta.shimizu/Downloads/ML/deep-learning-from-scratch-master')"
   ]
  },
  {
   "cell_type": "code",
   "execution_count": 6,
   "id": "04a668e8",
   "metadata": {
    "execution": {
     "iopub.execute_input": "2022-05-13T03:07:19.564430Z",
     "iopub.status.busy": "2022-05-13T03:07:19.563915Z",
     "iopub.status.idle": "2022-05-13T03:07:19.589169Z",
     "shell.execute_reply": "2022-05-13T03:07:19.588470Z"
    },
    "papermill": {
     "duration": 0.037942,
     "end_time": "2022-05-13T03:07:19.591333",
     "exception": false,
     "start_time": "2022-05-13T03:07:19.553391",
     "status": "completed"
    },
    "tags": []
   },
   "outputs": [],
   "source": [
    "from dataset.mnist import load_mnist"
   ]
  },
  {
   "cell_type": "code",
   "execution_count": 32,
   "id": "5e3bfdbd",
   "metadata": {},
   "outputs": [],
   "source": [
    "def sigmoid(x):\n",
    "    return 1 / (1 + np.exp(-x))\n",
    "\n",
    "def softmax(a):\n",
    "    exp_a = np.exp(a)\n",
    "    sum_exp_a = np.sum(exp_a)\n",
    "    y = exp_a / sum_exp_a\n",
    "    \n",
    "    return y"
   ]
  },
  {
   "cell_type": "markdown",
   "id": "169b8bae",
   "metadata": {},
   "source": [
    "### 3.6.1　MNIST データセット"
   ]
  },
  {
   "cell_type": "code",
   "execution_count": 23,
   "id": "3e4b417f",
   "metadata": {},
   "outputs": [
    {
     "name": "stdout",
     "output_type": "stream",
     "text": [
      "(60000, 1, 28, 28)\n",
      "(60000,)\n",
      "(10000, 1, 28, 28)\n",
      "(10000,)\n"
     ]
    }
   ],
   "source": [
    "(x_train, t_train), (x_test, t_test) = load_mnist(normalize=False, flatten=False)\n",
    "\n",
    "print(x_train.shape)\n",
    "print(t_train.shape)\n",
    "print(x_test.shape)\n",
    "print(t_test.shape)"
   ]
  },
  {
   "cell_type": "code",
   "execution_count": 24,
   "id": "56c9e868",
   "metadata": {},
   "outputs": [
    {
     "name": "stdout",
     "output_type": "stream",
     "text": [
      "(60000, 784)\n",
      "(60000,)\n",
      "(10000, 784)\n",
      "(10000,)\n"
     ]
    }
   ],
   "source": [
    "(x_train, t_train), (x_test, t_test) = load_mnist(normalize=False, flatten=True)\n",
    "\n",
    "print(x_train.shape)\n",
    "print(t_train.shape)\n",
    "print(x_test.shape)\n",
    "print(t_test.shape)"
   ]
  },
  {
   "cell_type": "markdown",
   "id": "3ca0c002",
   "metadata": {
    "papermill": {
     "duration": 0.009382,
     "end_time": "2022-05-13T03:07:19.610137",
     "exception": false,
     "start_time": "2022-05-13T03:07:19.600755",
     "status": "completed"
    },
    "tags": []
   },
   "source": [
    "### 3.6.2　ニューラルネットワークの推論処理"
   ]
  },
  {
   "cell_type": "code",
   "execution_count": 25,
   "id": "aa174907",
   "metadata": {
    "execution": {
     "iopub.execute_input": "2022-05-13T03:07:19.630591Z",
     "iopub.status.busy": "2022-05-13T03:07:19.630271Z",
     "iopub.status.idle": "2022-05-13T03:07:19.636943Z",
     "shell.execute_reply": "2022-05-13T03:07:19.636301Z"
    },
    "papermill": {
     "duration": 0.019028,
     "end_time": "2022-05-13T03:07:19.638864",
     "exception": false,
     "start_time": "2022-05-13T03:07:19.619836",
     "status": "completed"
    },
    "tags": []
   },
   "outputs": [],
   "source": [
    "def get_data():\n",
    "    (x_train, t_train), (x_test, t_test) = load_mnist(normalize=True, flatten=True, one_hot_label=False)\n",
    "    return x_test, t_test\n",
    "    \n",
    "def init_network():\n",
    "    with open('/Users/yuta.shimizu/Downloads/ML/deep-learning-from-scratch-master/ch03/sample_weight.pkl', 'rb') as f:\n",
    "        network = pickle.load(f)\n",
    "    return network\n",
    "\n",
    "def predict(network, x):\n",
    "    W1, W2, W3 = network['W1'], network['W2'], network['W3']\n",
    "    b1, b2, b3 = network['b1'], network['b2'], network['b3']\n",
    "    \n",
    "    a1 = np.dot(x, W1) + b1\n",
    "    z1 = sigmoid(a1)\n",
    "    a2 = np.dot(z1, W2) + b2\n",
    "    z2 = sigmoid(a2)\n",
    "    a3 = np.dot(z2, W3) + b3\n",
    "    y = softmax(a3)\n",
    "    \n",
    "    return y"
   ]
  },
  {
   "cell_type": "code",
   "execution_count": 27,
   "id": "c95c4c86",
   "metadata": {
    "papermill": {
     "duration": 0.008788,
     "end_time": "2022-05-13T03:07:19.683107",
     "exception": false,
     "start_time": "2022-05-13T03:07:19.674319",
     "status": "completed"
    },
    "tags": []
   },
   "outputs": [
    {
     "name": "stdout",
     "output_type": "stream",
     "text": [
      "Accuracy:0.9352\n"
     ]
    }
   ],
   "source": [
    "x, t = get_data()\n",
    "network = init_network()\n",
    "\n",
    "accuracy_cnt = 0\n",
    "for i in range(len(x)):\n",
    "    y = predict(network, x[i])\n",
    "    p = np.argmax(y)\n",
    "    if p == t[i]:\n",
    "        accuracy_cnt += 1\n",
    "        \n",
    "print('Accuracy:' + str(float(accuracy_cnt) / len(x)))"
   ]
  },
  {
   "cell_type": "markdown",
   "id": "e09b0eb7",
   "metadata": {
    "papermill": {
     "duration": 0.008804,
     "end_time": "2022-05-13T03:07:19.701385",
     "exception": false,
     "start_time": "2022-05-13T03:07:19.692581",
     "status": "completed"
    },
    "tags": []
   },
   "source": [
    "### 3.6.3　バッチ処理"
   ]
  },
  {
   "cell_type": "markdown",
   "id": "4697a958",
   "metadata": {},
   "source": [
    "P.58 と P.78 を照らし合わせると、層の数とバッチサイズの区別が分かりやすい。<br>\n",
    "784 個の層が入力され、10 個の層（0〜9 の各確率）が出力される。これが画像データ 1 枚に対応している。"
   ]
  },
  {
   "cell_type": "code",
   "execution_count": 28,
   "id": "8295e1ac",
   "metadata": {},
   "outputs": [
    {
     "name": "stdout",
     "output_type": "stream",
     "text": [
      "(10000, 784)\n",
      "(784,)\n",
      "(784, 50)\n",
      "(50, 100)\n",
      "(100, 10)\n"
     ]
    }
   ],
   "source": [
    "x, _ = get_data()\n",
    "network = init_network()\n",
    "W1, W2, W3 = network['W1'], network['W2'], network['W3']\n",
    "\n",
    "print(x.shape)\n",
    "print(x[0].shape)\n",
    "print(W1.shape)\n",
    "print(W2.shape)\n",
    "print(W3.shape)"
   ]
  },
  {
   "cell_type": "markdown",
   "id": "11f607bd",
   "metadata": {},
   "source": [
    "`x[0]` はバッチサイズが 1 なので、1 個のニューラルネットワーク（784 層）を計算する。<br>\n",
    "`x` はバッチサイズが 10000 なので、10000 個のニューラルネットワーク（784 層）を計算する。"
   ]
  },
  {
   "cell_type": "markdown",
   "id": "210f1e08",
   "metadata": {},
   "source": [
    "バッチサイズ 100 でニューラルネットワークを実装する。"
   ]
  },
  {
   "cell_type": "code",
   "execution_count": 30,
   "id": "dad486a9",
   "metadata": {},
   "outputs": [
    {
     "name": "stdout",
     "output_type": "stream",
     "text": [
      "Accuracy:0.9352\n"
     ]
    }
   ],
   "source": [
    "x, t = get_data()\n",
    "network = init_network()\n",
    "\n",
    "batch_size = 100\n",
    "accuracy_cnt = 0\n",
    "\n",
    "for i in range(0, len(x), batch_size):\n",
    "    x_batch = x[i:i+batch_size]\n",
    "    y_batch = predict(network, x_batch)\n",
    "    p = np.argmax(y_batch, axis=1)\n",
    "    accuracy_cnt += np.sum(p==t[i:i+batch_size])\n",
    "    \n",
    "print('Accuracy:' + str(float(accuracy_cnt) / len(x)))"
   ]
  },
  {
   "cell_type": "code",
   "execution_count": 33,
   "id": "afa71932",
   "metadata": {},
   "outputs": [
    {
     "name": "stdout",
     "output_type": "stream",
     "text": [
      "[1 2 1 0]\n"
     ]
    }
   ],
   "source": [
    "x = np.array([[0.1, 0.8, 0.1], [0.3, 0.1, 0.6], [0.2, 0.5, 0.3], [0.8, 0.1, 0.1]])\n",
    "y = np.argmax(x, axis=1)\n",
    "print(y)"
   ]
  },
  {
   "cell_type": "code",
   "execution_count": 34,
   "id": "69394c45",
   "metadata": {},
   "outputs": [
    {
     "name": "stdout",
     "output_type": "stream",
     "text": [
      "[1 2 0 0]\n"
     ]
    }
   ],
   "source": [
    "t = np.array([1, 2, 0, 0])\n",
    "print(t)"
   ]
  },
  {
   "cell_type": "code",
   "execution_count": 37,
   "id": "fa0e174b",
   "metadata": {},
   "outputs": [
    {
     "name": "stdout",
     "output_type": "stream",
     "text": [
      "[ True  True False  True]\n",
      "3\n"
     ]
    }
   ],
   "source": [
    "print(y==t)\n",
    "print(np.sum(y==t))"
   ]
  }
 ],
 "metadata": {
  "kernelspec": {
   "display_name": "Python 3",
   "language": "python",
   "name": "python3"
  },
  "language_info": {
   "codemirror_mode": {
    "name": "ipython",
    "version": 3
   },
   "file_extension": ".py",
   "mimetype": "text/x-python",
   "name": "python",
   "nbconvert_exporter": "python",
   "pygments_lexer": "ipython3",
   "version": "3.8.8"
  },
  "papermill": {
   "default_parameters": {},
   "duration": 11.182483,
   "end_time": "2022-05-13T03:07:20.330198",
   "environment_variables": {},
   "exception": null,
   "input_path": "__notebook__.ipynb",
   "output_path": "__notebook__.ipynb",
   "parameters": {},
   "start_time": "2022-05-13T03:07:09.147715",
   "version": "2.3.4"
  }
 },
 "nbformat": 4,
 "nbformat_minor": 5
}
