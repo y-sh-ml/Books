{
 "cells": [
  {
   "cell_type": "markdown",
   "id": "9936a527",
   "metadata": {},
   "source": [
    "## 6.5　ハイパーパラメータの検証"
   ]
  },
  {
   "cell_type": "code",
   "execution_count": 2,
   "id": "c5d82ce5",
   "metadata": {},
   "outputs": [],
   "source": [
    "import os\n",
    "import sys\n",
    "import numpy as np\n",
    "import matplotlib.pyplot as plt"
   ]
  },
  {
   "cell_type": "code",
   "execution_count": 3,
   "id": "810b2943",
   "metadata": {},
   "outputs": [],
   "source": [
    "os.chdir('/Users/yuta.shimizu/Downloads/ML/deep-learning-from-scratch-master/ch01')\n",
    "sys.path.append(os.pardir)"
   ]
  },
  {
   "cell_type": "code",
   "execution_count": 6,
   "id": "7270337a",
   "metadata": {},
   "outputs": [],
   "source": [
    "from dataset.mnist import load_mnist\n",
    "from common.util import shuffle_dataset"
   ]
  },
  {
   "cell_type": "markdown",
   "id": "e97a7cd9",
   "metadata": {},
   "source": [
    "### 6.5.1　検証データ"
   ]
  },
  {
   "cell_type": "markdown",
   "id": "1e63e6ba",
   "metadata": {},
   "source": [
    "汎化性能を上げるために、テストデータをハイパーパラメータの調整に使うのではなく<br>\n",
    "学習データを分割した、訓練データと検証データを用いる。"
   ]
  },
  {
   "cell_type": "code",
   "execution_count": 8,
   "id": "a7930d5b",
   "metadata": {},
   "outputs": [],
   "source": [
    "(x_train, t_train), (x_test, t_test) = load_mnist()\n",
    "\n",
    "x_train, t_train = shuffle_dataset(x_train, t_train)\n",
    "\n",
    "validation_rate = 0.20\n",
    "validation_num = int(x_train.shape[0] * validation_rate)\n",
    "\n",
    "x_val = x_train[:validation_num]\n",
    "t_val = t_train[:validation_num]\n",
    "x_train = x_train[validation_num:]\n",
    "t_train = t_train[validation_num:]"
   ]
  },
  {
   "cell_type": "markdown",
   "id": "0878269f",
   "metadata": {},
   "source": [
    "### 6.5.2　ハイパーパラメータの最適化"
   ]
  },
  {
   "cell_type": "markdown",
   "id": "de22847c",
   "metadata": {},
   "source": [
    "エポックとは、「1 つの訓練データを何回繰り返して学習させるか」の数である。**1 回分使い切ったら、1 エポック**である。<br>\n",
    "厳密には、全てのデータを使わなくても、訓練データ全体に相当するデータを使用していれば、1 エポックになる。"
   ]
  },
  {
   "cell_type": "markdown",
   "id": "198aa8c7",
   "metadata": {},
   "source": [
    "### 6.5.3　ハイパーパラメータ最適化の実装"
   ]
  },
  {
   "cell_type": "code",
   "execution_count": 11,
   "id": "d33acff9",
   "metadata": {},
   "outputs": [],
   "source": [
    "weight_decay = 10 ** np.random.uniform(-8, -4)\n",
    "lr = 10 ** np.random.uniform(-6, -2)"
   ]
  },
  {
   "cell_type": "markdown",
   "id": "26d98825",
   "metadata": {},
   "source": [
    "### 参考文献"
   ]
  },
  {
   "cell_type": "markdown",
   "id": "b0cfd4ab",
   "metadata": {},
   "source": [
    "・本書籍 P.120<br>\n",
    "・[エポック（epoch）数とは？](https://www.st-hakky-blog.com/entry/2017/01/17/165137)"
   ]
  }
 ],
 "metadata": {
  "kernelspec": {
   "display_name": "Python 3",
   "language": "python",
   "name": "python3"
  },
  "language_info": {
   "codemirror_mode": {
    "name": "ipython",
    "version": 3
   },
   "file_extension": ".py",
   "mimetype": "text/x-python",
   "name": "python",
   "nbconvert_exporter": "python",
   "pygments_lexer": "ipython3",
   "version": "3.8.8"
  }
 },
 "nbformat": 4,
 "nbformat_minor": 5
}
