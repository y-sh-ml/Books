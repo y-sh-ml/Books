{
 "cells": [
  {
   "cell_type": "markdown",
   "id": "beca3f23",
   "metadata": {
    "_cell_guid": "b1076dfc-b9ad-4769-8c92-a6c4dae69d19",
    "_uuid": "8f2839f25d086af736a60e9eeb907d3b93b6e0e5",
    "papermill": {
     "duration": 0.005741,
     "end_time": "2022-06-01T05:41:22.715773",
     "exception": false,
     "start_time": "2022-06-01T05:41:22.710032",
     "status": "completed"
    },
    "tags": []
   },
   "source": [
    "## 6.5　ハイパーパラメータの検証"
   ]
  },
  {
   "cell_type": "code",
   "execution_count": 1,
   "id": "595f23ac",
   "metadata": {
    "execution": {
     "iopub.execute_input": "2022-06-01T05:41:22.730774Z",
     "iopub.status.busy": "2022-06-01T05:41:22.729790Z",
     "iopub.status.idle": "2022-06-01T05:41:22.745433Z",
     "shell.execute_reply": "2022-06-01T05:41:22.744186Z"
    },
    "papermill": {
     "duration": 0.024976,
     "end_time": "2022-06-01T05:41:22.748380",
     "exception": false,
     "start_time": "2022-06-01T05:41:22.723404",
     "status": "completed"
    },
    "tags": []
   },
   "outputs": [],
   "source": [
    "import sys\n",
    "import numpy as np\n",
    "import matplotlib.pyplot as plt"
   ]
  },
  {
   "cell_type": "code",
   "execution_count": 2,
   "id": "bb6d8607",
   "metadata": {
    "execution": {
     "iopub.execute_input": "2022-06-01T05:41:22.763741Z",
     "iopub.status.busy": "2022-06-01T05:41:22.763086Z",
     "iopub.status.idle": "2022-06-01T05:41:22.767456Z",
     "shell.execute_reply": "2022-06-01T05:41:22.766620Z"
    },
    "papermill": {
     "duration": 0.015361,
     "end_time": "2022-06-01T05:41:22.770061",
     "exception": false,
     "start_time": "2022-06-01T05:41:22.754700",
     "status": "completed"
    },
    "tags": []
   },
   "outputs": [],
   "source": [
    "sys.path.append('../input/deeplearningfromscratchmaster/deep-learning-from-scratch-master')"
   ]
  },
  {
   "cell_type": "code",
   "execution_count": 3,
   "id": "d1078a76",
   "metadata": {
    "execution": {
     "iopub.execute_input": "2022-06-01T05:41:22.782793Z",
     "iopub.status.busy": "2022-06-01T05:41:22.782251Z",
     "iopub.status.idle": "2022-06-01T05:41:22.866685Z",
     "shell.execute_reply": "2022-06-01T05:41:22.865846Z"
    },
    "papermill": {
     "duration": 0.093478,
     "end_time": "2022-06-01T05:41:22.869497",
     "exception": false,
     "start_time": "2022-06-01T05:41:22.776019",
     "status": "completed"
    },
    "tags": []
   },
   "outputs": [],
   "source": [
    "from common.util import shuffle_dataset\n",
    "from common.multi_layer_net import MultiLayerNet\n",
    "from common.trainer import Trainer"
   ]
  },
  {
   "cell_type": "markdown",
   "id": "3b76add9",
   "metadata": {
    "papermill": {
     "duration": 0.005509,
     "end_time": "2022-06-01T05:41:22.880455",
     "exception": false,
     "start_time": "2022-06-01T05:41:22.874946",
     "status": "completed"
    },
    "tags": []
   },
   "source": [
    "### 6.5.1　検証データ"
   ]
  },
  {
   "cell_type": "code",
   "execution_count": 4,
   "id": "7971ae74",
   "metadata": {
    "execution": {
     "iopub.execute_input": "2022-06-01T05:41:22.893022Z",
     "iopub.status.busy": "2022-06-01T05:41:22.892254Z",
     "iopub.status.idle": "2022-06-01T05:41:25.524710Z",
     "shell.execute_reply": "2022-06-01T05:41:25.523590Z"
    },
    "papermill": {
     "duration": 2.64169,
     "end_time": "2022-06-01T05:41:25.527365",
     "exception": false,
     "start_time": "2022-06-01T05:41:22.885675",
     "status": "completed"
    },
    "tags": []
   },
   "outputs": [
    {
     "name": "stdout",
     "output_type": "stream",
     "text": [
      "(60000, 784)\n",
      "(60000, 10)\n",
      "(10000, 784)\n",
      "(10000, 10)\n"
     ]
    }
   ],
   "source": [
    "x_train = np.load('../input/load-mnist/load_mnist/normalize=True, one_hot_label=True/x_train.npy')\n",
    "t_train = np.load('../input/load-mnist/load_mnist/normalize=True, one_hot_label=True/t_train.npy')\n",
    "x_test = np.load('../input/load-mnist/load_mnist/normalize=True, one_hot_label=True/x_test.npy')\n",
    "t_test = np.load('../input/load-mnist/load_mnist/normalize=True, one_hot_label=True/t_test.npy')\n",
    "\n",
    "print(x_train.shape)\n",
    "print(t_train.shape)\n",
    "print(x_test.shape)\n",
    "print(t_test.shape)"
   ]
  },
  {
   "cell_type": "code",
   "execution_count": 5,
   "id": "a3d50735",
   "metadata": {
    "execution": {
     "iopub.execute_input": "2022-06-01T05:41:25.539102Z",
     "iopub.status.busy": "2022-06-01T05:41:25.538643Z",
     "iopub.status.idle": "2022-06-01T05:41:25.637522Z",
     "shell.execute_reply": "2022-06-01T05:41:25.636512Z"
    },
    "papermill": {
     "duration": 0.107475,
     "end_time": "2022-06-01T05:41:25.639900",
     "exception": false,
     "start_time": "2022-06-01T05:41:25.532425",
     "status": "completed"
    },
    "tags": []
   },
   "outputs": [],
   "source": [
    "x_train, t_train = shuffle_dataset(x_train, t_train)"
   ]
  },
  {
   "cell_type": "code",
   "execution_count": 6,
   "id": "b8b8ccbe",
   "metadata": {
    "execution": {
     "iopub.execute_input": "2022-06-01T05:41:25.652222Z",
     "iopub.status.busy": "2022-06-01T05:41:25.651226Z",
     "iopub.status.idle": "2022-06-01T05:41:25.656397Z",
     "shell.execute_reply": "2022-06-01T05:41:25.655615Z"
    },
    "papermill": {
     "duration": 0.013536,
     "end_time": "2022-06-01T05:41:25.658406",
     "exception": false,
     "start_time": "2022-06-01T05:41:25.644870",
     "status": "completed"
    },
    "tags": []
   },
   "outputs": [],
   "source": [
    "validation_rate = 0.20\n",
    "validation_num = int(x_train.shape[0] * validation_rate)"
   ]
  },
  {
   "cell_type": "code",
   "execution_count": 7,
   "id": "a19fb055",
   "metadata": {
    "execution": {
     "iopub.execute_input": "2022-06-01T05:41:25.670118Z",
     "iopub.status.busy": "2022-06-01T05:41:25.669706Z",
     "iopub.status.idle": "2022-06-01T05:41:25.676505Z",
     "shell.execute_reply": "2022-06-01T05:41:25.675143Z"
    },
    "papermill": {
     "duration": 0.017111,
     "end_time": "2022-06-01T05:41:25.680418",
     "exception": false,
     "start_time": "2022-06-01T05:41:25.663307",
     "status": "completed"
    },
    "tags": []
   },
   "outputs": [
    {
     "name": "stdout",
     "output_type": "stream",
     "text": [
      "(12000, 784)\n",
      "(12000, 10)\n",
      "(48000, 784)\n",
      "(48000, 10)\n"
     ]
    }
   ],
   "source": [
    "x_val = x_train[:validation_num]\n",
    "t_val = t_train[:validation_num]\n",
    "x_train = x_train[validation_num:]\n",
    "t_train = t_train[validation_num:]\n",
    "\n",
    "print(x_val.shape)\n",
    "print(t_val.shape)\n",
    "print(x_train.shape)\n",
    "print(t_train.shape)"
   ]
  },
  {
   "cell_type": "markdown",
   "id": "af1a5b3f",
   "metadata": {
    "papermill": {
     "duration": 0.004791,
     "end_time": "2022-06-01T05:41:25.690212",
     "exception": false,
     "start_time": "2022-06-01T05:41:25.685421",
     "status": "completed"
    },
    "tags": []
   },
   "source": [
    "### 6.5.3　ハイパーパラメータ最適化の実装"
   ]
  },
  {
   "cell_type": "code",
   "execution_count": 8,
   "id": "f80c8e77",
   "metadata": {
    "execution": {
     "iopub.execute_input": "2022-06-01T05:41:25.702429Z",
     "iopub.status.busy": "2022-06-01T05:41:25.702043Z",
     "iopub.status.idle": "2022-06-01T05:41:25.707618Z",
     "shell.execute_reply": "2022-06-01T05:41:25.706597Z"
    },
    "papermill": {
     "duration": 0.014768,
     "end_time": "2022-06-01T05:41:25.710219",
     "exception": false,
     "start_time": "2022-06-01T05:41:25.695451",
     "status": "completed"
    },
    "tags": []
   },
   "outputs": [
    {
     "name": "stdout",
     "output_type": "stream",
     "text": [
      "1.9183382145685893e-05\n",
      "0.003689579136254875\n"
     ]
    }
   ],
   "source": [
    "weight_decay = 10 ** np.random.uniform(-8, -4)\n",
    "lr = 10 ** np.random.uniform(-6, -2)\n",
    "\n",
    "print(weight_decay)\n",
    "print(lr)"
   ]
  },
  {
   "cell_type": "code",
   "execution_count": 9,
   "id": "01647831",
   "metadata": {
    "execution": {
     "iopub.execute_input": "2022-06-01T05:41:25.721980Z",
     "iopub.status.busy": "2022-06-01T05:41:25.721542Z",
     "iopub.status.idle": "2022-06-01T05:41:25.729095Z",
     "shell.execute_reply": "2022-06-01T05:41:25.728312Z"
    },
    "papermill": {
     "duration": 0.015688,
     "end_time": "2022-06-01T05:41:25.730989",
     "exception": false,
     "start_time": "2022-06-01T05:41:25.715301",
     "status": "completed"
    },
    "tags": []
   },
   "outputs": [],
   "source": [
    "def __train(lr, weight_decay, epocs=50):\n",
    "    \n",
    "    network = MultiLayerNet(input_size=784, hidden_size_list=[100, 100, 100, 100, 100, 100],\n",
    "                            output_size=10, weight_decay_lambda=weight_decay)\n",
    "    \n",
    "    trainer = Trainer(network, x_train, t_train, x_val, t_val,\n",
    "                      epochs=epocs, mini_batch_size=100, optimizer='sgd', optimizer_param={'lr': lr}, verbose=False)\n",
    "    \n",
    "    trainer.train()\n",
    "    \n",
    "    return trainer.test_acc_list, trainer.train_acc_list"
   ]
  },
  {
   "cell_type": "code",
   "execution_count": 10,
   "id": "d478ff5e",
   "metadata": {
    "execution": {
     "iopub.execute_input": "2022-06-01T05:41:25.743922Z",
     "iopub.status.busy": "2022-06-01T05:41:25.743258Z",
     "iopub.status.idle": "2022-06-01T05:41:25.747446Z",
     "shell.execute_reply": "2022-06-01T05:41:25.746769Z"
    },
    "papermill": {
     "duration": 0.013173,
     "end_time": "2022-06-01T05:41:25.749395",
     "exception": false,
     "start_time": "2022-06-01T05:41:25.736222",
     "status": "completed"
    },
    "tags": []
   },
   "outputs": [],
   "source": [
    "optimization_trial = 100\n",
    "results_val = {}\n",
    "results_train = {}"
   ]
  },
  {
   "cell_type": "code",
   "execution_count": 11,
   "id": "da5bff10",
   "metadata": {
    "execution": {
     "iopub.execute_input": "2022-06-01T05:41:25.762037Z",
     "iopub.status.busy": "2022-06-01T05:41:25.760865Z",
     "iopub.status.idle": "2022-06-01T15:52:43.171428Z",
     "shell.execute_reply": "2022-06-01T15:52:43.166291Z"
    },
    "papermill": {
     "duration": 36677.439205,
     "end_time": "2022-06-01T15:52:43.193778",
     "exception": false,
     "start_time": "2022-06-01T05:41:25.754573",
     "status": "completed"
    },
    "tags": []
   },
   "outputs": [
    {
     "name": "stdout",
     "output_type": "stream",
     "text": [
      "val acc:0.968 | lr:0.006249074420512526, weight_decay:4.877287101321547e-05\n",
      "val acc:0.95825 | lr:0.0019158996690496885, weight_decay:2.215825786058933e-07\n",
      "val acc:0.23775 | lr:1.971199910717417e-05, weight_decay:1.1047508518229781e-08\n",
      "val acc:0.93975 | lr:0.0006378184001840894, weight_decay:2.6672915668632655e-05\n",
      "val acc:0.28591666666666665 | lr:1.3394686696818414e-05, weight_decay:8.512463655632525e-08\n",
      "val acc:0.3586666666666667 | lr:1.5513008258638167e-05, weight_decay:1.149592348972823e-05\n",
      "val acc:0.1475 | lr:2.6436674995889926e-06, weight_decay:1.1647789628349288e-08\n",
      "val acc:0.9416666666666667 | lr:0.0009716785435394211, weight_decay:1.3594598304742329e-05\n",
      "val acc:0.9071666666666667 | lr:0.000254739634921114, weight_decay:1.1576435272343954e-06\n",
      "val acc:0.9079166666666667 | lr:0.0002901446379631483, weight_decay:6.472191844241184e-08\n",
      "val acc:0.34675 | lr:1.6011870956492274e-05, weight_decay:1.9871862500478387e-07\n",
      "val acc:0.968 | lr:0.005659513955718125, weight_decay:1.7157996160395392e-08\n",
      "val acc:0.9631666666666666 | lr:0.0030538071383968473, weight_decay:2.3860099537216747e-06\n",
      "val acc:0.185 | lr:6.138610003407065e-06, weight_decay:8.846495247016792e-06\n",
      "val acc:0.9656666666666667 | lr:0.003204140888397157, weight_decay:3.749109994520315e-07\n",
      "val acc:0.1765 | lr:7.81749263200455e-06, weight_decay:2.438582892562822e-07\n",
      "val acc:0.9586666666666667 | lr:0.002276166350590196, weight_decay:5.6155546813221297e-05\n",
      "val acc:0.173 | lr:9.269923365988256e-06, weight_decay:3.703689022140129e-08\n",
      "val acc:0.89875 | lr:0.00023606541421997414, weight_decay:3.4444455064786402e-06\n",
      "val acc:0.879 | lr:0.00019677486110757962, weight_decay:5.291706080407165e-06\n",
      "val acc:0.15591666666666668 | lr:1.364278895237028e-06, weight_decay:1.1933467500870677e-08\n",
      "val acc:0.40641666666666665 | lr:2.1870722415509892e-05, weight_decay:2.8477756148474264e-05\n",
      "val acc:0.9670833333333333 | lr:0.00712391193787763, weight_decay:5.947245814405421e-07\n",
      "val acc:0.9663333333333334 | lr:0.004012291707018608, weight_decay:1.0513457158475533e-08\n",
      "val acc:0.94875 | lr:0.0012362128415113448, weight_decay:5.5072757166210607e-08\n",
      "val acc:0.9555 | lr:0.0015960730380265365, weight_decay:5.907454494857285e-05\n",
      "val acc:0.96775 | lr:0.005134048335039966, weight_decay:3.577030557726823e-07\n",
      "val acc:0.9596666666666667 | lr:0.0022411199628873005, weight_decay:2.486477246659383e-05\n",
      "val acc:0.857 | lr:0.00012971071648022124, weight_decay:1.8021251844907363e-07\n",
      "val acc:0.8318333333333333 | lr:8.605900558749489e-05, weight_decay:3.750905463537824e-06\n",
      "val acc:0.4771666666666667 | lr:3.209686198692972e-05, weight_decay:1.3580058192986435e-07\n",
      "val acc:0.9364166666666667 | lr:0.0006819483804769682, weight_decay:5.2384483441388164e-05\n",
      "val acc:0.16841666666666666 | lr:9.47489011183075e-06, weight_decay:3.834645655860489e-06\n",
      "val acc:0.9701666666666666 | lr:0.009822978243315855, weight_decay:2.438789158942195e-08\n",
      "val acc:0.45808333333333334 | lr:3.965345396961149e-05, weight_decay:2.9894990296844663e-06\n",
      "val acc:0.07341666666666667 | lr:2.0879932186919958e-06, weight_decay:1.957168006916942e-06\n",
      "val acc:0.9366666666666666 | lr:0.0007059686284850723, weight_decay:3.969382277539435e-05\n",
      "val acc:0.9626666666666667 | lr:0.002774908955708103, weight_decay:5.72607164693883e-08\n",
      "val acc:0.9235 | lr:0.000440663056884992, weight_decay:1.935364172107388e-07\n",
      "val acc:0.9405 | lr:0.0008191300047558785, weight_decay:2.84410587986454e-07\n",
      "val acc:0.9694166666666667 | lr:0.00784047724849917, weight_decay:1.483956397150027e-07\n",
      "val acc:0.3849166666666667 | lr:2.6719918072012133e-05, weight_decay:8.223025756898951e-05\n",
      "val acc:0.956 | lr:0.0017112096802321904, weight_decay:3.281851149399572e-05\n",
      "val acc:0.10341666666666667 | lr:2.843806427368327e-06, weight_decay:2.1521654247317915e-08\n",
      "val acc:0.9405 | lr:0.0007392849450983004, weight_decay:2.3269364406183782e-08\n",
      "val acc:0.08175 | lr:1.2537593571850968e-06, weight_decay:4.346401559312499e-07\n",
      "val acc:0.18966666666666668 | lr:1.21844951459348e-05, weight_decay:2.503220541919898e-08\n",
      "val acc:0.82175 | lr:9.14704259442283e-05, weight_decay:1.2447821442062216e-05\n",
      "val acc:0.96925 | lr:0.005401272355527609, weight_decay:7.526568688550566e-07\n",
      "val acc:0.878 | lr:0.00016389610081427107, weight_decay:4.048256312455018e-06\n",
      "val acc:0.11283333333333333 | lr:2.1915666385744537e-06, weight_decay:2.268118367063904e-07\n",
      "val acc:0.84325 | lr:0.00010962917020293373, weight_decay:1.141949872868732e-06\n",
      "val acc:0.9416666666666667 | lr:0.0008395154033764517, weight_decay:1.9347499496276304e-07\n",
      "val acc:0.141 | lr:6.612062982808961e-06, weight_decay:2.6464255616060894e-06\n",
      "val acc:0.238 | lr:1.0896162028030468e-05, weight_decay:9.288325317340056e-05\n",
      "val acc:0.08083333333333333 | lr:1.7722751380296722e-06, weight_decay:1.313536974449429e-05\n",
      "val acc:0.10166666666666667 | lr:1.5924777717198973e-06, weight_decay:6.4145927946055645e-06\n",
      "val acc:0.14191666666666666 | lr:3.505397829147411e-06, weight_decay:8.593064259370866e-06\n",
      "val acc:0.5149166666666667 | lr:3.02442843714681e-05, weight_decay:2.477236009945122e-06\n",
      "val acc:0.5564166666666667 | lr:3.4945284237980055e-05, weight_decay:3.8436278945134246e-05\n",
      "val acc:0.9423333333333334 | lr:0.0008483618088487213, weight_decay:2.6985263136063694e-08\n",
      "val acc:0.24983333333333332 | lr:1.3023671316229457e-05, weight_decay:1.853992692079302e-06\n",
      "val acc:0.9079166666666667 | lr:0.00030318934656501067, weight_decay:1.517469722679022e-08\n",
      "val acc:0.471 | lr:3.5749867154627055e-05, weight_decay:6.092046787078031e-07\n",
      "val acc:0.18725 | lr:9.995272855120009e-06, weight_decay:2.6716534775876434e-06\n",
      "val acc:0.961 | lr:0.002688719308133731, weight_decay:1.35580340285699e-06\n",
      "val acc:0.9273333333333333 | lr:0.0004479452781147676, weight_decay:4.2521228747092335e-05\n",
      "val acc:0.09116666666666666 | lr:3.903653225801422e-06, weight_decay:5.088786102604155e-06\n",
      "val acc:0.8806666666666667 | lr:0.0001725152413499386, weight_decay:1.3817547400516947e-05\n",
      "val acc:0.9625 | lr:0.003409999723073081, weight_decay:2.5687755754237546e-08\n",
      "val acc:0.9685833333333334 | lr:0.007660103011403785, weight_decay:5.027012941626552e-07\n",
      "val acc:0.5013333333333333 | lr:3.3136605028310075e-05, weight_decay:7.808652318147819e-06\n",
      "val acc:0.96775 | lr:0.008354140504854177, weight_decay:1.5830832516599464e-07\n",
      "val acc:0.31316666666666665 | lr:1.6501337709646472e-05, weight_decay:4.037107098647912e-08\n",
      "val acc:0.935 | lr:0.0005393672874881354, weight_decay:2.3887519246770317e-07\n",
      "val acc:0.10808333333333334 | lr:1.2619116745239783e-06, weight_decay:2.271254579142697e-08\n",
      "val acc:0.8038333333333333 | lr:7.906963952382367e-05, weight_decay:2.635844174139601e-07\n",
      "val acc:0.26316666666666666 | lr:1.6701863594715733e-05, weight_decay:2.745819473721717e-06\n",
      "val acc:0.24008333333333334 | lr:1.1447344971351495e-05, weight_decay:1.1823012054424285e-08\n",
      "val acc:0.10508333333333333 | lr:3.2674558823462386e-06, weight_decay:5.02946773076655e-05\n",
      "val acc:0.966 | lr:0.009306581640972459, weight_decay:1.9850706620380215e-05\n",
      "val acc:0.9371666666666667 | lr:0.0006141393491747398, weight_decay:7.0761111574481546e-06\n",
      "val acc:0.8108333333333333 | lr:9.287945205967557e-05, weight_decay:1.0249358202340236e-08\n",
      "val acc:0.10475 | lr:1.070359131602669e-06, weight_decay:2.582631219572005e-06\n",
      "val acc:0.9663333333333334 | lr:0.007084583311866991, weight_decay:2.5017699598495965e-07\n",
      "val acc:0.45525 | lr:2.5665199830266035e-05, weight_decay:8.936984956317204e-05\n",
      "val acc:0.967 | lr:0.006851653577291233, weight_decay:3.14886030765377e-06\n",
      "val acc:0.15116666666666667 | lr:6.556139941098533e-06, weight_decay:8.692017530372796e-06\n",
      "val acc:0.4399166666666667 | lr:2.3228293869100405e-05, weight_decay:4.895538604929876e-08\n",
      "val acc:0.9229166666666667 | lr:0.00041001800345084134, weight_decay:3.3638086987516866e-06\n",
      "val acc:0.08791666666666667 | lr:1.7120082579163294e-06, weight_decay:1.366520116101129e-07\n",
      "val acc:0.1945 | lr:8.915314890674332e-06, weight_decay:1.3697829905501516e-06\n",
      "val acc:0.5664166666666667 | lr:4.390412154428547e-05, weight_decay:7.263290182355945e-06\n",
      "val acc:0.9064166666666666 | lr:0.000234479596259427, weight_decay:9.823849565884316e-07\n",
      "val acc:0.13766666666666666 | lr:3.791037553893129e-06, weight_decay:3.608167998324712e-08\n",
      "val acc:0.10716666666666666 | lr:1.2680366080978969e-06, weight_decay:2.8313031759341998e-05\n",
      "val acc:0.96675 | lr:0.004140033507829982, weight_decay:7.346224997241734e-05\n",
      "val acc:0.9633333333333334 | lr:0.0032172197364996585, weight_decay:1.846421851420579e-06\n",
      "val acc:0.10308333333333333 | lr:3.2492293566094236e-06, weight_decay:1.514856379634336e-08\n",
      "val acc:0.9053333333333333 | lr:0.00027585141350882644, weight_decay:3.634943326111819e-07\n"
     ]
    }
   ],
   "source": [
    "for _ in range(optimization_trial):\n",
    "    weight_decay = 10 ** np.random.uniform(-8, -4)\n",
    "    lr = 10 ** np.random.uniform(-6, -2)\n",
    "    \n",
    "    val_acc_list, train_acc_list = __train(lr, weight_decay)\n",
    "    print('val acc:' + str(val_acc_list[-1]) + ' | lr:' + str(lr) + ', weight_decay:' + str(weight_decay))\n",
    "    key = 'lr:' + str(lr) + ', weight_decay:' + str(weight_decay)\n",
    "    results_val[key] = val_acc_list\n",
    "    results_train[key] = train_acc_list"
   ]
  },
  {
   "cell_type": "markdown",
   "id": "0ca5fa39",
   "metadata": {
    "papermill": {
     "duration": 0.023881,
     "end_time": "2022-06-01T15:52:43.240995",
     "exception": false,
     "start_time": "2022-06-01T15:52:43.217114",
     "status": "completed"
    },
    "tags": []
   },
   "source": [
    "ハイパーパラメータ `lr` と `weight_decay` を調整した後で、そのパラメータを使って学習（勾配降下法）を行い、最適な重みを求める。"
   ]
  },
  {
   "cell_type": "code",
   "execution_count": 12,
   "id": "67bd2bb6",
   "metadata": {
    "execution": {
     "iopub.execute_input": "2022-06-01T15:52:43.288605Z",
     "iopub.status.busy": "2022-06-01T15:52:43.286903Z",
     "iopub.status.idle": "2022-06-01T15:52:44.837623Z",
     "shell.execute_reply": "2022-06-01T15:52:44.836709Z"
    },
    "papermill": {
     "duration": 1.571491,
     "end_time": "2022-06-01T15:52:44.839986",
     "exception": false,
     "start_time": "2022-06-01T15:52:43.268495",
     "status": "completed"
    },
    "tags": []
   },
   "outputs": [
    {
     "name": "stdout",
     "output_type": "stream",
     "text": [
      "=========== Hyper-Parameter Optimization Result ===========\n",
      "Best-1(val acc:0.9701666666666666) | lr:0.009822978243315855, weight_decay:2.438789158942195e-08\n",
      "Best-2(val acc:0.9694166666666667) | lr:0.00784047724849917, weight_decay:1.483956397150027e-07\n",
      "Best-3(val acc:0.96925) | lr:0.005401272355527609, weight_decay:7.526568688550566e-07\n",
      "Best-4(val acc:0.9685833333333334) | lr:0.007660103011403785, weight_decay:5.027012941626552e-07\n",
      "Best-5(val acc:0.968) | lr:0.006249074420512526, weight_decay:4.877287101321547e-05\n",
      "Best-6(val acc:0.968) | lr:0.005659513955718125, weight_decay:1.7157996160395392e-08\n",
      "Best-7(val acc:0.96775) | lr:0.005134048335039966, weight_decay:3.577030557726823e-07\n",
      "Best-8(val acc:0.96775) | lr:0.008354140504854177, weight_decay:1.5830832516599464e-07\n",
      "Best-9(val acc:0.9670833333333333) | lr:0.00712391193787763, weight_decay:5.947245814405421e-07\n",
      "Best-10(val acc:0.967) | lr:0.006851653577291233, weight_decay:3.14886030765377e-06\n",
      "Best-11(val acc:0.96675) | lr:0.004140033507829982, weight_decay:7.346224997241734e-05\n",
      "Best-12(val acc:0.9663333333333334) | lr:0.004012291707018608, weight_decay:1.0513457158475533e-08\n",
      "Best-13(val acc:0.9663333333333334) | lr:0.007084583311866991, weight_decay:2.5017699598495965e-07\n",
      "Best-14(val acc:0.966) | lr:0.009306581640972459, weight_decay:1.9850706620380215e-05\n",
      "Best-15(val acc:0.9656666666666667) | lr:0.003204140888397157, weight_decay:3.749109994520315e-07\n",
      "Best-16(val acc:0.9633333333333334) | lr:0.0032172197364996585, weight_decay:1.846421851420579e-06\n",
      "Best-17(val acc:0.9631666666666666) | lr:0.0030538071383968473, weight_decay:2.3860099537216747e-06\n",
      "Best-18(val acc:0.9626666666666667) | lr:0.002774908955708103, weight_decay:5.72607164693883e-08\n",
      "Best-19(val acc:0.9625) | lr:0.003409999723073081, weight_decay:2.5687755754237546e-08\n",
      "Best-20(val acc:0.961) | lr:0.002688719308133731, weight_decay:1.35580340285699e-06\n"
     ]
    },
    {
     "data": {
      "image/png": "[encoded data removed]",
      "text/plain": [
       "<Figure size 432x288 with 20 Axes>"
      ]
     },
     "metadata": {
      "needs_background": "light"
     },
     "output_type": "display_data"
    }
   ],
   "source": [
    "print('=========== Hyper-Parameter Optimization Result ===========')\n",
    "graph_draw_num = 20\n",
    "col_num = 5\n",
    "row_num = int(np.ceil(graph_draw_num / col_num))\n",
    "i = 0\n",
    "\n",
    "for key, val_acc_list in sorted(results_val.items(), key=lambda x:x[1][-1], reverse=True):\n",
    "    print('Best-' + str(i+1) + '(val acc:' + str(val_acc_list[-1]) + ') | ' + key)\n",
    "\n",
    "    plt.subplot(row_num, col_num, i+1)\n",
    "    plt.title('Best-' + str(i+1))\n",
    "    plt.ylim(0.0, 1.0)\n",
    "    if i % 5: plt.yticks([])\n",
    "    plt.xticks([])\n",
    "    x = np.arange(len(val_acc_list))\n",
    "    plt.plot(x, val_acc_list)\n",
    "    plt.plot(x, results_train[key], '--')\n",
    "    i += 1\n",
    "\n",
    "    if i >= graph_draw_num:\n",
    "        break\n",
    "\n",
    "plt.show()"
   ]
  }
 ],
 "metadata": {
  "kernelspec": {
   "display_name": "Python 3",
   "language": "python",
   "name": "python3"
  },
  "language_info": {
   "codemirror_mode": {
    "name": "ipython",
    "version": 3
   },
   "file_extension": ".py",
   "mimetype": "text/x-python",
   "name": "python",
   "nbconvert_exporter": "python",
   "pygments_lexer": "ipython3",
   "version": "3.7.12"
  },
  "papermill": {
   "default_parameters": {},
   "duration": 36694.244163,
   "end_time": "2022-06-01T15:52:45.852922",
   "environment_variables": {},
   "exception": null,
   "input_path": "__notebook__.ipynb",
   "output_path": "__notebook__.ipynb",
   "parameters": {},
   "start_time": "2022-06-01T05:41:11.608759",
   "version": "2.3.4"
  }
 },
 "nbformat": 4,
 "nbformat_minor": 5
}
