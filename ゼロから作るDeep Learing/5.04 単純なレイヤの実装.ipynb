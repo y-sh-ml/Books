{
 "cells": [
  {
   "cell_type": "markdown",
   "id": "a4f5f2c2",
   "metadata": {
    "_cell_guid": "b1076dfc-b9ad-4769-8c92-a6c4dae69d19",
    "_uuid": "8f2839f25d086af736a60e9eeb907d3b93b6e0e5",
    "papermill": {
     "duration": 0.009623,
     "end_time": "2022-03-07T05:26:04.444323",
     "exception": false,
     "start_time": "2022-03-07T05:26:04.434700",
     "status": "completed"
    },
    "tags": []
   },
   "source": [
    "## 5.4　単純なレイヤの実装"
   ]
  },
  {
   "cell_type": "code",
   "execution_count": 1,
   "id": "dfaef6a5",
   "metadata": {
    "execution": {
     "iopub.execute_input": "2022-03-07T05:26:04.470021Z",
     "iopub.status.busy": "2022-03-07T05:26:04.469068Z",
     "iopub.status.idle": "2022-03-07T05:26:04.474551Z",
     "shell.execute_reply": "2022-03-07T05:26:04.475108Z",
     "shell.execute_reply.started": "2022-03-07T05:23:41.538297Z"
    },
    "papermill": {
     "duration": 0.021744,
     "end_time": "2022-03-07T05:26:04.475453",
     "exception": false,
     "start_time": "2022-03-07T05:26:04.453709",
     "status": "completed"
    },
    "tags": []
   },
   "outputs": [],
   "source": [
    "import os\n",
    "import sys\n",
    "import numpy as np"
   ]
  },
  {
   "cell_type": "code",
   "execution_count": 2,
   "id": "3c137ef2",
   "metadata": {},
   "outputs": [],
   "source": [
    "os.chdir('/Users/yuta.shimizu/Downloads/ML/deep-learning-from-scratch-master/ch05')\n",
    "sys.path.append(os.pardir)"
   ]
  },
  {
   "cell_type": "markdown",
   "id": "9aa5c525",
   "metadata": {
    "papermill": {
     "duration": 0.006633,
     "end_time": "2022-03-07T05:26:04.489145",
     "exception": false,
     "start_time": "2022-03-07T05:26:04.482512",
     "status": "completed"
    },
    "tags": []
   },
   "source": [
    "### 5.4.1　乗算レイヤの実装"
   ]
  },
  {
   "cell_type": "code",
   "execution_count": 3,
   "id": "5e57e6f9",
   "metadata": {
    "execution": {
     "iopub.execute_input": "2022-03-07T05:26:04.507023Z",
     "iopub.status.busy": "2022-03-07T05:26:04.506320Z",
     "iopub.status.idle": "2022-03-07T05:26:04.511818Z",
     "shell.execute_reply": "2022-03-07T05:26:04.512387Z",
     "shell.execute_reply.started": "2022-03-07T05:23:41.542759Z"
    },
    "papermill": {
     "duration": 0.016315,
     "end_time": "2022-03-07T05:26:04.512585",
     "exception": false,
     "start_time": "2022-03-07T05:26:04.496270",
     "status": "completed"
    },
    "tags": []
   },
   "outputs": [],
   "source": [
    "class MulLayer:\n",
    "    def __init__(self):\n",
    "        self.x = None\n",
    "        self.y = None\n",
    "        \n",
    "    def forward(self, x, y):\n",
    "        self.x = x\n",
    "        self.y = y\n",
    "        out = x * y\n",
    "        \n",
    "        return out\n",
    "\n",
    "    def backward(self, dout):\n",
    "        dx = dout * self.y\n",
    "        dy = dout * self.x\n",
    "        \n",
    "        return dx, dy"
   ]
  },
  {
   "cell_type": "markdown",
   "id": "4b828ed1",
   "metadata": {},
   "source": [
    "「乗算」での順伝播なので、out は x　と y の積になっている。"
   ]
  },
  {
   "cell_type": "code",
   "execution_count": 4,
   "id": "4e9446bf",
   "metadata": {
    "execution": {
     "iopub.execute_input": "2022-03-07T05:26:04.530531Z",
     "iopub.status.busy": "2022-03-07T05:26:04.529804Z",
     "iopub.status.idle": "2022-03-07T05:26:04.534279Z",
     "shell.execute_reply": "2022-03-07T05:26:04.534823Z",
     "shell.execute_reply.started": "2022-03-07T05:23:41.554579Z"
    },
    "papermill": {
     "duration": 0.015307,
     "end_time": "2022-03-07T05:26:04.535051",
     "exception": false,
     "start_time": "2022-03-07T05:26:04.519744",
     "status": "completed"
    },
    "tags": []
   },
   "outputs": [],
   "source": [
    "mul_apple_layer = MulLayer()\n",
    "mul_tax_layer = MulLayer()"
   ]
  },
  {
   "cell_type": "markdown",
   "id": "f972b99c",
   "metadata": {},
   "source": [
    "順伝播の実装をする。"
   ]
  },
  {
   "cell_type": "code",
   "execution_count": 5,
   "id": "a8d0bcd5",
   "metadata": {
    "execution": {
     "iopub.execute_input": "2022-03-07T05:26:04.555373Z",
     "iopub.status.busy": "2022-03-07T05:26:04.552587Z",
     "iopub.status.idle": "2022-03-07T05:26:04.559245Z",
     "shell.execute_reply": "2022-03-07T05:26:04.558545Z",
     "shell.execute_reply.started": "2022-03-07T05:23:41.575289Z"
    },
    "papermill": {
     "duration": 0.017079,
     "end_time": "2022-03-07T05:26:04.559420",
     "exception": false,
     "start_time": "2022-03-07T05:26:04.542341",
     "status": "completed"
    },
    "tags": []
   },
   "outputs": [
    {
     "name": "stdout",
     "output_type": "stream",
     "text": [
      "200\n",
      "220\n"
     ]
    }
   ],
   "source": [
    "apple = 100\n",
    "apple_num = 2\n",
    "tax = 1.1\n",
    "\n",
    "apple_price = mul_apple_layer.forward(apple, apple_num)\n",
    "price = mul_tax_layer.forward(apple_price, tax)\n",
    "\n",
    "print(apple_price)\n",
    "print(round(price))"
   ]
  },
  {
   "cell_type": "markdown",
   "id": "b257bd82",
   "metadata": {},
   "source": [
    "逆伝播の実装をする。"
   ]
  },
  {
   "cell_type": "code",
   "execution_count": 6,
   "id": "0aa7db94",
   "metadata": {},
   "outputs": [
    {
     "name": "stdout",
     "output_type": "stream",
     "text": [
      "1.1\n",
      "200\n",
      "2.2\n",
      "110\n"
     ]
    }
   ],
   "source": [
    "dprice = 1\n",
    "\n",
    "dapple_price, dtax = mul_tax_layer.backward(dprice)\n",
    "dapple, dapple_num = mul_apple_layer.backward(dapple_price)\n",
    "\n",
    "print(dapple_price)\n",
    "print(dtax)\n",
    "print(dapple)\n",
    "print(round(dapple_num))"
   ]
  },
  {
   "cell_type": "markdown",
   "id": "28254895",
   "metadata": {},
   "source": [
    "### 5.4.2　加算レイヤの実装"
   ]
  },
  {
   "cell_type": "code",
   "execution_count": 7,
   "id": "a2866e39",
   "metadata": {},
   "outputs": [],
   "source": [
    "class AddLayer:\n",
    "    def __init__(self):\n",
    "        pass\n",
    "    \n",
    "    def forward(self, x, y):\n",
    "        out = x + y\n",
    "        return out\n",
    "    \n",
    "    def backward(self, dout):\n",
    "        dx = dout * 1\n",
    "        dy = dout * 1\n",
    "        return dx, dy"
   ]
  },
  {
   "cell_type": "code",
   "execution_count": 8,
   "id": "532929f8",
   "metadata": {},
   "outputs": [],
   "source": [
    "apple = 100\n",
    "apple_num = 2\n",
    "orange = 150\n",
    "orange_num = 3\n",
    "tax = 1.1"
   ]
  },
  {
   "cell_type": "code",
   "execution_count": 9,
   "id": "b667476e",
   "metadata": {},
   "outputs": [],
   "source": [
    "mul_apple_layer = MulLayer()\n",
    "mul_orange_layer = MulLayer()\n",
    "add_apple_orange_layer = AddLayer()"
   ]
  },
  {
   "cell_type": "markdown",
   "id": "1136ed95",
   "metadata": {},
   "source": [
    "順伝播の実装をする。"
   ]
  },
  {
   "cell_type": "code",
   "execution_count": 16,
   "id": "22c0e1bb",
   "metadata": {},
   "outputs": [
    {
     "name": "stdout",
     "output_type": "stream",
     "text": [
      "price: 715\n"
     ]
    }
   ],
   "source": [
    "apple_price = mul_apple_layer.forward(apple, apple_num)\n",
    "orange_price = mul_orange_layer.forward(orange, orange_num)\n",
    "all_price = add_apple_orange_layer.forward(apple_price, orange_price)\n",
    "price = mul_tax_layer.forward(all_price, tax)\n",
    "\n",
    "print(\"price:\", int(price))"
   ]
  },
  {
   "cell_type": "markdown",
   "id": "78b7544e",
   "metadata": {},
   "source": [
    "逆伝播の実装をする。"
   ]
  },
  {
   "cell_type": "code",
   "execution_count": 17,
   "id": "a4e16c02",
   "metadata": {},
   "outputs": [
    {
     "name": "stdout",
     "output_type": "stream",
     "text": [
      "dApple: 2.2\n",
      "dApple_num: 110\n",
      "dOrange: 3.3000000000000003\n",
      "dOrange_num: 165\n",
      "dTax: 650\n"
     ]
    }
   ],
   "source": [
    "dprice = 1\n",
    "dall_price, dtax = mul_tax_layer.backward(dprice)\n",
    "dapple_price, dorange_price = add_apple_orange_layer.backward(dall_price)\n",
    "dorange, dorange_num = mul_orange_layer.backward(dorange_price)\n",
    "dapple, dapple_num = mul_apple_layer.backward(dapple_price)\n",
    "\n",
    "print(\"dApple:\", dapple)\n",
    "print(\"dApple_num:\", int(dapple_num))\n",
    "print(\"dOrange:\", dorange)\n",
    "print(\"dOrange_num:\", int(dorange_num))\n",
    "print(\"dTax:\", dtax)"
   ]
  }
 ],
 "metadata": {
  "kernelspec": {
   "display_name": "Python 3",
   "language": "python",
   "name": "python3"
  },
  "language_info": {
   "codemirror_mode": {
    "name": "ipython",
    "version": 3
   },
   "file_extension": ".py",
   "mimetype": "text/x-python",
   "name": "python",
   "nbconvert_exporter": "python",
   "pygments_lexer": "ipython3",
   "version": "3.8.8"
  },
  "papermill": {
   "default_parameters": {},
   "duration": 11.673839,
   "end_time": "2022-03-07T05:26:05.380951",
   "environment_variables": {},
   "exception": null,
   "input_path": "__notebook__.ipynb",
   "output_path": "__notebook__.ipynb",
   "parameters": {},
   "start_time": "2022-03-07T05:25:53.707112",
   "version": "2.3.3"
  }
 },
 "nbformat": 4,
 "nbformat_minor": 5
}
