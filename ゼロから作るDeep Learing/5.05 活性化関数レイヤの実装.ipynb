{
 "cells": [
  {
   "cell_type": "markdown",
   "id": "3fa7a26b",
   "metadata": {
    "_cell_guid": "b1076dfc-b9ad-4769-8c92-a6c4dae69d19",
    "_uuid": "8f2839f25d086af736a60e9eeb907d3b93b6e0e5",
    "papermill": {
     "duration": 0.015215,
     "end_time": "2022-03-07T08:15:35.408090",
     "exception": false,
     "start_time": "2022-03-07T08:15:35.392875",
     "status": "completed"
    },
    "tags": []
   },
   "source": [
    "## 5.5　活性化関数レイヤの実装"
   ]
  },
  {
   "cell_type": "code",
   "execution_count": 1,
   "id": "c7eff7ac",
   "metadata": {
    "execution": {
     "iopub.execute_input": "2022-03-07T08:15:35.436319Z",
     "iopub.status.busy": "2022-03-07T08:15:35.435397Z",
     "iopub.status.idle": "2022-03-07T08:15:35.439237Z",
     "shell.execute_reply": "2022-03-07T08:15:35.440357Z",
     "shell.execute_reply.started": "2022-03-07T08:14:43.486971Z"
    },
    "papermill": {
     "duration": 0.023739,
     "end_time": "2022-03-07T08:15:35.440697",
     "exception": false,
     "start_time": "2022-03-07T08:15:35.416958",
     "status": "completed"
    },
    "tags": []
   },
   "outputs": [],
   "source": [
    "import numpy as np"
   ]
  },
  {
   "cell_type": "markdown",
   "id": "82101072",
   "metadata": {
    "papermill": {
     "duration": 0.008645,
     "end_time": "2022-03-07T08:15:35.457799",
     "exception": false,
     "start_time": "2022-03-07T08:15:35.449154",
     "status": "completed"
    },
    "tags": []
   },
   "source": [
    "### 5.5.1　ReLU レイヤ"
   ]
  },
  {
   "cell_type": "markdown",
   "id": "10a5e752",
   "metadata": {
    "papermill": {
     "duration": 0.008077,
     "end_time": "2022-03-07T08:15:35.474400",
     "exception": false,
     "start_time": "2022-03-07T08:15:35.466323",
     "status": "completed"
    },
    "tags": []
   },
   "source": [
    "順伝播では上流の値に 1 をかけてそのまま流し、逆伝播では 0 をかけて信号がストップする。"
   ]
  },
  {
   "cell_type": "code",
   "execution_count": 2,
   "id": "d9ce6875",
   "metadata": {
    "execution": {
     "iopub.execute_input": "2022-03-07T08:15:35.495089Z",
     "iopub.status.busy": "2022-03-07T08:15:35.494082Z",
     "iopub.status.idle": "2022-03-07T08:15:35.500159Z",
     "shell.execute_reply": "2022-03-07T08:15:35.500740Z",
     "shell.execute_reply.started": "2022-03-07T08:14:43.492288Z"
    },
    "papermill": {
     "duration": 0.018127,
     "end_time": "2022-03-07T08:15:35.500912",
     "exception": false,
     "start_time": "2022-03-07T08:15:35.482785",
     "status": "completed"
    },
    "tags": []
   },
   "outputs": [],
   "source": [
    "class Relu:\n",
    "    def __init__(self):\n",
    "        self.mask = None\n",
    "        \n",
    "    def forward(self, x):\n",
    "        self.mask = (x <= 0)\n",
    "        out = x.copy()\n",
    "        out[self.mask] = 0\n",
    "        \n",
    "        return out\n",
    "    \n",
    "    def backward(self, dout):\n",
    "        dout[self.mask] = 0\n",
    "        dx = dout\n",
    "        \n",
    "        return dx"
   ]
  },
  {
   "cell_type": "code",
   "execution_count": 3,
   "id": "ee928132",
   "metadata": {
    "execution": {
     "iopub.execute_input": "2022-03-07T08:15:35.521195Z",
     "iopub.status.busy": "2022-03-07T08:15:35.520462Z",
     "iopub.status.idle": "2022-03-07T08:15:35.526182Z",
     "shell.execute_reply": "2022-03-07T08:15:35.526754Z",
     "shell.execute_reply.started": "2022-03-07T08:14:43.511129Z"
    },
    "papermill": {
     "duration": 0.017718,
     "end_time": "2022-03-07T08:15:35.526927",
     "exception": false,
     "start_time": "2022-03-07T08:15:35.509209",
     "status": "completed"
    },
    "tags": []
   },
   "outputs": [
    {
     "name": "stdout",
     "output_type": "stream",
     "text": [
      "[[ 1.  -0.5]\n",
      " [-2.   3. ]]\n",
      "[[False  True]\n",
      " [ True False]]\n"
     ]
    }
   ],
   "source": [
    "x = np.array([[1.0, -0.5], [-2.0, 3.0]])\n",
    "print(x)\n",
    "mask = (x <= 0)\n",
    "print(mask)"
   ]
  },
  {
   "cell_type": "markdown",
   "id": "6c2f576b",
   "metadata": {
    "papermill": {
     "duration": 0.008577,
     "end_time": "2022-03-07T08:15:35.544657",
     "exception": false,
     "start_time": "2022-03-07T08:15:35.536080",
     "status": "completed"
    },
    "tags": []
   },
   "source": [
    "逆伝播では、順伝播時に保持した mask を使って、上流から伝播された dout に対して、mask の要素が True の場所を 0 に設定する。<br>\n",
    "ここでいう dout とは、output を微分しているものである。"
   ]
  },
  {
   "cell_type": "markdown",
   "id": "252f4950",
   "metadata": {
    "papermill": {
     "duration": 0.008493,
     "end_time": "2022-03-07T08:15:35.561933",
     "exception": false,
     "start_time": "2022-03-07T08:15:35.553440",
     "status": "completed"
    },
    "tags": []
   },
   "source": [
    "### 5.5.2　Sigmoid レイヤ"
   ]
  },
  {
   "cell_type": "code",
   "execution_count": 4,
   "id": "06fe0b82",
   "metadata": {
    "execution": {
     "iopub.execute_input": "2022-03-07T08:15:35.583341Z",
     "iopub.status.busy": "2022-03-07T08:15:35.582666Z",
     "iopub.status.idle": "2022-03-07T08:15:35.588316Z",
     "shell.execute_reply": "2022-03-07T08:15:35.588854Z",
     "shell.execute_reply.started": "2022-03-07T08:14:43.530962Z"
    },
    "papermill": {
     "duration": 0.018079,
     "end_time": "2022-03-07T08:15:35.589025",
     "exception": false,
     "start_time": "2022-03-07T08:15:35.570946",
     "status": "completed"
    },
    "tags": []
   },
   "outputs": [],
   "source": [
    "class Sigmoid:\n",
    "    def __init__(self):\n",
    "        self.out = None\n",
    "        \n",
    "    def forward(self, x):\n",
    "        out = 1 / (1 + np.exp(-x))\n",
    "        self.out = out\n",
    "        \n",
    "        return out\n",
    "        \n",
    "    def backward(self, dout):\n",
    "        dx = dout * (1.0 - self.out) * self.out\n",
    "        \n",
    "        return dx"
   ]
  }
 ],
 "metadata": {
  "kernelspec": {
   "display_name": "Python 3",
   "language": "python",
   "name": "python3"
  },
  "language_info": {
   "codemirror_mode": {
    "name": "ipython",
    "version": 3
   },
   "file_extension": ".py",
   "mimetype": "text/x-python",
   "name": "python",
   "nbconvert_exporter": "python",
   "pygments_lexer": "ipython3",
   "version": "3.7.12"
  },
  "papermill": {
   "default_parameters": {},
   "duration": 12.150874,
   "end_time": "2022-03-07T08:15:36.207937",
   "environment_variables": {},
   "exception": null,
   "input_path": "__notebook__.ipynb",
   "output_path": "__notebook__.ipynb",
   "parameters": {},
   "start_time": "2022-03-07T08:15:24.057063",
   "version": "2.3.3"
  }
 },
 "nbformat": 4,
 "nbformat_minor": 5
}
