{
 "cells": [
  {
   "cell_type": "markdown",
   "id": "976d06d4",
   "metadata": {
    "_cell_guid": "b1076dfc-b9ad-4769-8c92-a6c4dae69d19",
    "_uuid": "8f2839f25d086af736a60e9eeb907d3b93b6e0e5",
    "papermill": {
     "duration": 0.006129,
     "end_time": "2022-02-16T01:58:42.554269",
     "exception": false,
     "start_time": "2022-02-16T01:58:42.548140",
     "status": "completed"
    },
    "tags": []
   },
   "source": [
    "## 2.5　多層パーセプトロン"
   ]
  },
  {
   "cell_type": "code",
   "execution_count": 1,
   "id": "e2803c6f",
   "metadata": {
    "execution": {
     "iopub.execute_input": "2022-02-16T01:58:42.568184Z",
     "iopub.status.busy": "2022-02-16T01:58:42.567154Z",
     "iopub.status.idle": "2022-02-16T01:58:42.573839Z",
     "shell.execute_reply": "2022-02-16T01:58:42.574328Z",
     "shell.execute_reply.started": "2022-02-16T01:52:51.097008Z"
    },
    "papermill": {
     "duration": 0.015099,
     "end_time": "2022-02-16T01:58:42.574590",
     "exception": false,
     "start_time": "2022-02-16T01:58:42.559491",
     "status": "completed"
    },
    "tags": []
   },
   "outputs": [],
   "source": [
    "import numpy as np\n",
    "import pandas as pd"
   ]
  },
  {
   "cell_type": "markdown",
   "id": "fe1af5c2",
   "metadata": {
    "papermill": {
     "duration": 0.004593,
     "end_time": "2022-02-16T01:58:42.584164",
     "exception": false,
     "start_time": "2022-02-16T01:58:42.579571",
     "status": "completed"
    },
    "tags": []
   },
   "source": [
    "### 2.5.2　XOR ゲートの実装"
   ]
  },
  {
   "cell_type": "code",
   "execution_count": 2,
   "id": "a4c918e7",
   "metadata": {
    "execution": {
     "iopub.execute_input": "2022-02-16T01:58:42.596645Z",
     "iopub.status.busy": "2022-02-16T01:58:42.596053Z",
     "iopub.status.idle": "2022-02-16T01:58:42.602264Z",
     "shell.execute_reply": "2022-02-16T01:58:42.602768Z",
     "shell.execute_reply.started": "2022-02-16T01:53:46.533246Z"
    },
    "papermill": {
     "duration": 0.013922,
     "end_time": "2022-02-16T01:58:42.602922",
     "exception": false,
     "start_time": "2022-02-16T01:58:42.589000",
     "status": "completed"
    },
    "tags": []
   },
   "outputs": [],
   "source": [
    "def AND(x1, x2):\n",
    "    x = np.array([x1, x2])\n",
    "    w = np.array([0.5, 0.5])\n",
    "    b = -0.7\n",
    "    tmp = np.sum(w*x) + b\n",
    "    if tmp <= 0:\n",
    "        return 0\n",
    "    else:\n",
    "        return 1\n",
    "    \n",
    "def NAND(x1, x2):\n",
    "    x = np.array([x1, x2])\n",
    "    w = np.array([-0.5, -0.5])\n",
    "    b = 0.7\n",
    "    tmp = np.sum(w*x) + b\n",
    "    if tmp <= 0:\n",
    "        return 0\n",
    "    else:\n",
    "        return 1\n",
    "    \n",
    "def OR(x1, x2):\n",
    "    x = np.array([x1, x2])\n",
    "    w = np.array([0.5, 0.5])\n",
    "    b = -0.2\n",
    "    tmp = np.sum(w*x) + b\n",
    "    if tmp <= 0:\n",
    "        return 0\n",
    "    else:\n",
    "        return 1"
   ]
  },
  {
   "cell_type": "code",
   "execution_count": 3,
   "id": "fab1a8c3",
   "metadata": {
    "execution": {
     "iopub.execute_input": "2022-02-16T01:58:42.618107Z",
     "iopub.status.busy": "2022-02-16T01:58:42.617244Z",
     "iopub.status.idle": "2022-02-16T01:58:42.620775Z",
     "shell.execute_reply": "2022-02-16T01:58:42.619940Z",
     "shell.execute_reply.started": "2022-02-16T01:53:49.063877Z"
    },
    "papermill": {
     "duration": 0.012942,
     "end_time": "2022-02-16T01:58:42.620931",
     "exception": false,
     "start_time": "2022-02-16T01:58:42.607989",
     "status": "completed"
    },
    "tags": []
   },
   "outputs": [],
   "source": [
    "def XOR(x1, x2):\n",
    "    s1 = NAND(x1, x2)\n",
    "    s2 = OR(x1, x2)\n",
    "    y = AND(s1, s2)\n",
    "    return y"
   ]
  },
  {
   "cell_type": "code",
   "execution_count": 4,
   "id": "73532296",
   "metadata": {
    "execution": {
     "iopub.execute_input": "2022-02-16T01:58:42.638241Z",
     "iopub.status.busy": "2022-02-16T01:58:42.636082Z",
     "iopub.status.idle": "2022-02-16T01:58:42.642330Z",
     "shell.execute_reply": "2022-02-16T01:58:42.643001Z",
     "shell.execute_reply.started": "2022-02-16T01:54:02.955500Z"
    },
    "papermill": {
     "duration": 0.016957,
     "end_time": "2022-02-16T01:58:42.643172",
     "exception": false,
     "start_time": "2022-02-16T01:58:42.626215",
     "status": "completed"
    },
    "tags": []
   },
   "outputs": [
    {
     "name": "stdout",
     "output_type": "stream",
     "text": [
      "0\n",
      "1\n",
      "1\n",
      "0\n"
     ]
    }
   ],
   "source": [
    "print(XOR(0, 0))\n",
    "print(XOR(1, 0))\n",
    "print(XOR(0, 1))\n",
    "print(XOR(1, 1))"
   ]
  }
 ],
 "metadata": {
  "kernelspec": {
   "display_name": "Python 3",
   "language": "python",
   "name": "python3"
  },
  "language_info": {
   "codemirror_mode": {
    "name": "ipython",
    "version": 3
   },
   "file_extension": ".py",
   "mimetype": "text/x-python",
   "name": "python",
   "nbconvert_exporter": "python",
   "pygments_lexer": "ipython3",
   "version": "3.7.12"
  },
  "papermill": {
   "default_parameters": {},
   "duration": 9.031064,
   "end_time": "2022-02-16T01:58:43.260834",
   "environment_variables": {},
   "exception": null,
   "input_path": "__notebook__.ipynb",
   "output_path": "__notebook__.ipynb",
   "parameters": {},
   "start_time": "2022-02-16T01:58:34.229770",
   "version": "2.3.3"
  }
 },
 "nbformat": 4,
 "nbformat_minor": 5
}
