{
 "cells": [
  {
   "cell_type": "markdown",
   "id": "b27bd7b6",
   "metadata": {
    "_cell_guid": "b1076dfc-b9ad-4769-8c92-a6c4dae69d19",
    "_uuid": "8f2839f25d086af736a60e9eeb907d3b93b6e0e5",
    "papermill": {
     "duration": 0.007267,
     "end_time": "2022-03-15T06:39:09.819867",
     "exception": false,
     "start_time": "2022-03-15T06:39:09.812600",
     "status": "completed"
    },
    "tags": []
   },
   "source": [
    "## 6.4　正則化"
   ]
  },
  {
   "cell_type": "code",
   "execution_count": 1,
   "id": "36ba8586",
   "metadata": {
    "execution": {
     "iopub.execute_input": "2022-03-15T06:39:09.840608Z",
     "iopub.status.busy": "2022-03-15T06:39:09.836072Z",
     "iopub.status.idle": "2022-03-15T06:39:09.846473Z",
     "shell.execute_reply": "2022-03-15T06:39:09.847019Z",
     "shell.execute_reply.started": "2022-03-15T06:36:31.279559Z"
    },
    "papermill": {
     "duration": 0.021904,
     "end_time": "2022-03-15T06:39:09.847299",
     "exception": false,
     "start_time": "2022-03-15T06:39:09.825395",
     "status": "completed"
    },
    "tags": []
   },
   "outputs": [],
   "source": [
    "import os\n",
    "import sys\n",
    "import numpy as np\n",
    "import matplotlib.pyplot as plt"
   ]
  },
  {
   "cell_type": "code",
   "execution_count": 2,
   "id": "60ea04ca",
   "metadata": {},
   "outputs": [],
   "source": [
    "os.chdir('/Users/yuta.shimizu/Downloads/ML/deep-learning-from-scratch-master/ch01')\n",
    "sys.path.append(os.pardir)"
   ]
  },
  {
   "cell_type": "code",
   "execution_count": 3,
   "id": "3b4f5c84",
   "metadata": {},
   "outputs": [],
   "source": [
    "from dataset.mnist import load_mnist\n",
    "from common.multi_layer_net import MultiLayerNet\n",
    "from common.optimizer import SGD"
   ]
  },
  {
   "cell_type": "markdown",
   "id": "ef5b55f8",
   "metadata": {
    "execution": {
     "iopub.execute_input": "2022-03-15T06:36:48.004971Z",
     "iopub.status.busy": "2022-03-15T06:36:48.004517Z",
     "iopub.status.idle": "2022-03-15T06:36:48.008380Z",
     "shell.execute_reply": "2022-03-15T06:36:48.007708Z",
     "shell.execute_reply.started": "2022-03-15T06:36:48.004920Z"
    },
    "papermill": {
     "duration": 0.00431,
     "end_time": "2022-03-15T06:39:09.856386",
     "exception": false,
     "start_time": "2022-03-15T06:39:09.852076",
     "status": "completed"
    },
    "tags": []
   },
   "source": [
    "### 6.4.1　過学習"
   ]
  },
  {
   "cell_type": "code",
   "execution_count": 4,
   "id": "8fd2c9e0",
   "metadata": {
    "papermill": {
     "duration": 0.004319,
     "end_time": "2022-03-15T06:39:09.865364",
     "exception": false,
     "start_time": "2022-03-15T06:39:09.861045",
     "status": "completed"
    },
    "tags": []
   },
   "outputs": [
    {
     "name": "stdout",
     "output_type": "stream",
     "text": [
      "(300, 784)\n",
      "(300,)\n"
     ]
    }
   ],
   "source": [
    "(x_train, t_train), (x_test, t_test) = load_mnist(normalize=True)\n",
    "\n",
    "x_train = x_train[:300]\n",
    "t_train = t_train[:300]\n",
    "\n",
    "print(x_train.shape)\n",
    "print(t_train.shape)"
   ]
  },
  {
   "cell_type": "code",
   "execution_count": 5,
   "id": "27ee1201",
   "metadata": {},
   "outputs": [
    {
     "name": "stdout",
     "output_type": "stream",
     "text": [
      "epoch:0, train acc:0.07666666666666666, test acc:0.1191\n",
      "epoch:1, train acc:0.13, test acc:0.1324\n",
      "epoch:2, train acc:0.17666666666666667, test acc:0.1493\n",
      "epoch:3, train acc:0.20666666666666667, test acc:0.1635\n",
      "epoch:4, train acc:0.22333333333333333, test acc:0.179\n",
      "epoch:5, train acc:0.25, test acc:0.1964\n",
      "epoch:6, train acc:0.2633333333333333, test acc:0.2034\n",
      "epoch:7, train acc:0.29333333333333333, test acc:0.2266\n",
      "epoch:8, train acc:0.33, test acc:0.24\n",
      "epoch:9, train acc:0.3333333333333333, test acc:0.2497\n",
      "epoch:10, train acc:0.3566666666666667, test acc:0.262\n",
      "epoch:11, train acc:0.37, test acc:0.277\n",
      "epoch:12, train acc:0.4033333333333333, test acc:0.2909\n",
      "epoch:13, train acc:0.42333333333333334, test acc:0.3106\n",
      "epoch:14, train acc:0.45, test acc:0.3352\n",
      "epoch:15, train acc:0.44666666666666666, test acc:0.3458\n",
      "epoch:16, train acc:0.47, test acc:0.3549\n",
      "epoch:17, train acc:0.48, test acc:0.3662\n",
      "epoch:18, train acc:0.5066666666666667, test acc:0.3871\n",
      "epoch:19, train acc:0.5166666666666667, test acc:0.3869\n",
      "epoch:20, train acc:0.5233333333333333, test acc:0.4039\n",
      "epoch:21, train acc:0.53, test acc:0.4216\n",
      "epoch:22, train acc:0.57, test acc:0.4446\n",
      "epoch:23, train acc:0.5866666666666667, test acc:0.4611\n",
      "epoch:24, train acc:0.58, test acc:0.4565\n",
      "epoch:25, train acc:0.5733333333333334, test acc:0.458\n",
      "epoch:26, train acc:0.64, test acc:0.4808\n",
      "epoch:27, train acc:0.6333333333333333, test acc:0.4801\n",
      "epoch:28, train acc:0.6766666666666666, test acc:0.5053\n",
      "epoch:29, train acc:0.68, test acc:0.5197\n",
      "epoch:30, train acc:0.6966666666666667, test acc:0.5228\n",
      "epoch:31, train acc:0.7033333333333334, test acc:0.5293\n",
      "epoch:32, train acc:0.71, test acc:0.53\n",
      "epoch:33, train acc:0.7133333333333334, test acc:0.5333\n",
      "epoch:34, train acc:0.7233333333333334, test acc:0.5392\n",
      "epoch:35, train acc:0.7366666666666667, test acc:0.5451\n",
      "epoch:36, train acc:0.7366666666666667, test acc:0.5555\n",
      "epoch:37, train acc:0.7433333333333333, test acc:0.5539\n",
      "epoch:38, train acc:0.7333333333333333, test acc:0.5547\n",
      "epoch:39, train acc:0.7533333333333333, test acc:0.5562\n",
      "epoch:40, train acc:0.7866666666666666, test acc:0.5675\n",
      "epoch:41, train acc:0.7966666666666666, test acc:0.5678\n",
      "epoch:42, train acc:0.8066666666666666, test acc:0.5626\n",
      "epoch:43, train acc:0.8033333333333333, test acc:0.5815\n",
      "epoch:44, train acc:0.81, test acc:0.5818\n",
      "epoch:45, train acc:0.8433333333333334, test acc:0.5957\n",
      "epoch:46, train acc:0.8366666666666667, test acc:0.5872\n",
      "epoch:47, train acc:0.8533333333333334, test acc:0.5962\n",
      "epoch:48, train acc:0.86, test acc:0.6034\n",
      "epoch:49, train acc:0.8566666666666667, test acc:0.6048\n",
      "epoch:50, train acc:0.87, test acc:0.6128\n",
      "epoch:51, train acc:0.87, test acc:0.6315\n",
      "epoch:52, train acc:0.89, test acc:0.6315\n",
      "epoch:53, train acc:0.8866666666666667, test acc:0.6443\n",
      "epoch:54, train acc:0.8966666666666666, test acc:0.6367\n",
      "epoch:55, train acc:0.8833333333333333, test acc:0.6238\n",
      "epoch:56, train acc:0.9, test acc:0.6502\n",
      "epoch:57, train acc:0.8933333333333333, test acc:0.6444\n",
      "epoch:58, train acc:0.89, test acc:0.6411\n",
      "epoch:59, train acc:0.9066666666666666, test acc:0.6546\n",
      "epoch:60, train acc:0.9133333333333333, test acc:0.6501\n",
      "epoch:61, train acc:0.91, test acc:0.6498\n",
      "epoch:62, train acc:0.9133333333333333, test acc:0.6651\n",
      "epoch:63, train acc:0.91, test acc:0.6596\n",
      "epoch:64, train acc:0.9066666666666666, test acc:0.6587\n",
      "epoch:65, train acc:0.92, test acc:0.662\n",
      "epoch:66, train acc:0.9266666666666666, test acc:0.6582\n",
      "epoch:67, train acc:0.9133333333333333, test acc:0.659\n",
      "epoch:68, train acc:0.93, test acc:0.6649\n",
      "epoch:69, train acc:0.93, test acc:0.6739\n",
      "epoch:70, train acc:0.9233333333333333, test acc:0.6572\n",
      "epoch:71, train acc:0.94, test acc:0.6769\n",
      "epoch:72, train acc:0.9333333333333333, test acc:0.6718\n",
      "epoch:73, train acc:0.95, test acc:0.6762\n",
      "epoch:74, train acc:0.9433333333333334, test acc:0.6761\n",
      "epoch:75, train acc:0.9533333333333334, test acc:0.6832\n",
      "epoch:76, train acc:0.95, test acc:0.6877\n",
      "epoch:77, train acc:0.95, test acc:0.6848\n",
      "epoch:78, train acc:0.9533333333333334, test acc:0.6878\n",
      "epoch:79, train acc:0.95, test acc:0.6819\n",
      "epoch:80, train acc:0.95, test acc:0.7007\n",
      "epoch:81, train acc:0.9466666666666667, test acc:0.6854\n",
      "epoch:82, train acc:0.9566666666666667, test acc:0.6963\n",
      "epoch:83, train acc:0.97, test acc:0.6849\n",
      "epoch:84, train acc:0.9733333333333334, test acc:0.6851\n",
      "epoch:85, train acc:0.97, test acc:0.6926\n",
      "epoch:86, train acc:0.9666666666666667, test acc:0.6998\n",
      "epoch:87, train acc:0.9733333333333334, test acc:0.6927\n",
      "epoch:88, train acc:0.97, test acc:0.6972\n",
      "epoch:89, train acc:0.9666666666666667, test acc:0.7074\n",
      "epoch:90, train acc:0.97, test acc:0.6982\n",
      "epoch:91, train acc:0.9733333333333334, test acc:0.7025\n",
      "epoch:92, train acc:0.9633333333333334, test acc:0.6964\n",
      "epoch:93, train acc:0.97, test acc:0.7021\n",
      "epoch:94, train acc:0.98, test acc:0.7021\n",
      "epoch:95, train acc:0.9733333333333334, test acc:0.7049\n",
      "epoch:96, train acc:0.9733333333333334, test acc:0.706\n",
      "epoch:97, train acc:0.9833333333333333, test acc:0.7068\n",
      "epoch:98, train acc:0.9733333333333334, test acc:0.7011\n",
      "epoch:99, train acc:0.98, test acc:0.7054\n",
      "epoch:100, train acc:0.9866666666666667, test acc:0.7072\n",
      "epoch:101, train acc:0.9833333333333333, test acc:0.7103\n",
      "epoch:102, train acc:0.9833333333333333, test acc:0.7093\n",
      "epoch:103, train acc:0.9866666666666667, test acc:0.7123\n",
      "epoch:104, train acc:0.9866666666666667, test acc:0.7105\n",
      "epoch:105, train acc:0.9933333333333333, test acc:0.7073\n",
      "epoch:106, train acc:0.99, test acc:0.7064\n",
      "epoch:107, train acc:0.99, test acc:0.708\n",
      "epoch:108, train acc:0.9866666666666667, test acc:0.7119\n",
      "epoch:109, train acc:0.9833333333333333, test acc:0.7088\n",
      "epoch:110, train acc:0.9966666666666667, test acc:0.7112\n",
      "epoch:111, train acc:0.9866666666666667, test acc:0.7152\n",
      "epoch:112, train acc:0.99, test acc:0.7101\n",
      "epoch:113, train acc:0.9966666666666667, test acc:0.7122\n",
      "epoch:114, train acc:0.9933333333333333, test acc:0.7127\n",
      "epoch:115, train acc:0.9966666666666667, test acc:0.7103\n",
      "epoch:116, train acc:0.9966666666666667, test acc:0.7135\n",
      "epoch:117, train acc:0.9966666666666667, test acc:0.716\n",
      "epoch:118, train acc:0.9966666666666667, test acc:0.7118\n",
      "epoch:119, train acc:0.9933333333333333, test acc:0.7119\n",
      "epoch:120, train acc:0.9966666666666667, test acc:0.7114\n",
      "epoch:121, train acc:0.9966666666666667, test acc:0.7103\n",
      "epoch:122, train acc:0.9966666666666667, test acc:0.7117\n",
      "epoch:123, train acc:0.9933333333333333, test acc:0.7155\n",
      "epoch:124, train acc:0.9933333333333333, test acc:0.71\n",
      "epoch:125, train acc:0.9966666666666667, test acc:0.7131\n",
      "epoch:126, train acc:0.9966666666666667, test acc:0.7154\n",
      "epoch:127, train acc:1.0, test acc:0.7174\n",
      "epoch:128, train acc:0.9966666666666667, test acc:0.7167\n",
      "epoch:129, train acc:1.0, test acc:0.7199\n",
      "epoch:130, train acc:0.9966666666666667, test acc:0.7178\n",
      "epoch:131, train acc:0.9966666666666667, test acc:0.7151\n",
      "epoch:132, train acc:0.9966666666666667, test acc:0.7179\n",
      "epoch:133, train acc:1.0, test acc:0.7191\n",
      "epoch:134, train acc:1.0, test acc:0.7198\n",
      "epoch:135, train acc:0.9966666666666667, test acc:0.7175\n",
      "epoch:136, train acc:1.0, test acc:0.7207\n",
      "epoch:137, train acc:1.0, test acc:0.7172\n",
      "epoch:138, train acc:1.0, test acc:0.719\n",
      "epoch:139, train acc:1.0, test acc:0.7196\n",
      "epoch:140, train acc:1.0, test acc:0.7196\n",
      "epoch:141, train acc:0.9966666666666667, test acc:0.718\n",
      "epoch:142, train acc:1.0, test acc:0.7176\n",
      "epoch:143, train acc:0.9966666666666667, test acc:0.7159\n",
      "epoch:144, train acc:1.0, test acc:0.7176\n",
      "epoch:145, train acc:0.9966666666666667, test acc:0.7182\n",
      "epoch:146, train acc:1.0, test acc:0.7203\n",
      "epoch:147, train acc:1.0, test acc:0.7187\n",
      "epoch:148, train acc:1.0, test acc:0.7203\n",
      "epoch:149, train acc:1.0, test acc:0.7194\n",
      "epoch:150, train acc:0.9966666666666667, test acc:0.7202\n",
      "epoch:151, train acc:1.0, test acc:0.7223\n",
      "epoch:152, train acc:0.9966666666666667, test acc:0.7209\n",
      "epoch:153, train acc:1.0, test acc:0.72\n",
      "epoch:154, train acc:1.0, test acc:0.7206\n",
      "epoch:155, train acc:1.0, test acc:0.7219\n",
      "epoch:156, train acc:1.0, test acc:0.7212\n",
      "epoch:157, train acc:1.0, test acc:0.7206\n",
      "epoch:158, train acc:1.0, test acc:0.7218\n",
      "epoch:159, train acc:1.0, test acc:0.7222\n",
      "epoch:160, train acc:1.0, test acc:0.7244\n",
      "epoch:161, train acc:1.0, test acc:0.7219\n",
      "epoch:162, train acc:1.0, test acc:0.7196\n"
     ]
    },
    {
     "name": "stdout",
     "output_type": "stream",
     "text": [
      "epoch:163, train acc:1.0, test acc:0.7221\n",
      "epoch:164, train acc:1.0, test acc:0.7222\n",
      "epoch:165, train acc:1.0, test acc:0.7219\n",
      "epoch:166, train acc:1.0, test acc:0.7216\n",
      "epoch:167, train acc:1.0, test acc:0.7231\n",
      "epoch:168, train acc:1.0, test acc:0.7252\n",
      "epoch:169, train acc:1.0, test acc:0.7234\n",
      "epoch:170, train acc:1.0, test acc:0.7244\n",
      "epoch:171, train acc:1.0, test acc:0.7234\n",
      "epoch:172, train acc:1.0, test acc:0.7225\n",
      "epoch:173, train acc:1.0, test acc:0.7236\n",
      "epoch:174, train acc:1.0, test acc:0.7239\n",
      "epoch:175, train acc:1.0, test acc:0.7249\n",
      "epoch:176, train acc:1.0, test acc:0.7255\n",
      "epoch:177, train acc:1.0, test acc:0.722\n",
      "epoch:178, train acc:1.0, test acc:0.7232\n",
      "epoch:179, train acc:1.0, test acc:0.725\n",
      "epoch:180, train acc:1.0, test acc:0.7235\n",
      "epoch:181, train acc:1.0, test acc:0.7224\n",
      "epoch:182, train acc:1.0, test acc:0.7207\n",
      "epoch:183, train acc:1.0, test acc:0.7231\n",
      "epoch:184, train acc:1.0, test acc:0.7222\n",
      "epoch:185, train acc:1.0, test acc:0.7253\n",
      "epoch:186, train acc:1.0, test acc:0.7221\n",
      "epoch:187, train acc:1.0, test acc:0.722\n",
      "epoch:188, train acc:1.0, test acc:0.7228\n",
      "epoch:189, train acc:1.0, test acc:0.725\n",
      "epoch:190, train acc:1.0, test acc:0.7236\n",
      "epoch:191, train acc:1.0, test acc:0.7229\n",
      "epoch:192, train acc:1.0, test acc:0.724\n",
      "epoch:193, train acc:1.0, test acc:0.7238\n",
      "epoch:194, train acc:1.0, test acc:0.7234\n",
      "epoch:195, train acc:1.0, test acc:0.724\n",
      "epoch:196, train acc:1.0, test acc:0.7258\n",
      "epoch:197, train acc:1.0, test acc:0.7273\n",
      "epoch:198, train acc:1.0, test acc:0.7248\n",
      "epoch:199, train acc:1.0, test acc:0.7238\n",
      "epoch:200, train acc:1.0, test acc:0.7249\n"
     ]
    }
   ],
   "source": [
    "network = MultiLayerNet(input_size=784, hidden_size_list=[100, 100, 100, 100, 100, 100], output_size=10)\n",
    "optimizer = SGD(lr=0.01)\n",
    "\n",
    "max_epochs = 201\n",
    "train_size = x_train.shape[0]\n",
    "batch_size = 100\n",
    "\n",
    "train_loss_list = []\n",
    "train_acc_list = []\n",
    "test_acc_list = []\n",
    "\n",
    "iter_per_epoch = max(train_size / batch_size, 1)\n",
    "epoch_cnt = 0\n",
    "\n",
    "for i in range(1000000000):\n",
    "    batch_mask = np.random.choice(train_size, batch_size)\n",
    "    x_batch = x_train[batch_mask]\n",
    "    t_batch = t_train[batch_mask]\n",
    "    \n",
    "    grads = network.gradient(x_batch, t_batch)\n",
    "    optimizer.update(network.params, grads)\n",
    "    \n",
    "    if i % iter_per_epoch == 0:\n",
    "        train_acc = network.accuracy(x_train, t_train)\n",
    "        test_acc = network.accuracy(x_test, t_test)\n",
    "        train_acc_list.append(train_acc)\n",
    "        test_acc_list.append(test_acc)\n",
    "        \n",
    "        print('epoch:' + str(epoch_cnt) + ', train acc:' + str(train_acc) + ', test acc:' + str(test_acc))\n",
    "        \n",
    "        epoch_cnt += 1\n",
    "        if epoch_cnt >= max_epochs:\n",
    "            break"
   ]
  },
  {
   "cell_type": "code",
   "execution_count": 6,
   "id": "96e8d563",
   "metadata": {},
   "outputs": [
    {
     "data": {
      "image/png": "[encoded data removed]",
      "text/plain": [
       "<Figure size 432x288 with 1 Axes>"
      ]
     },
     "metadata": {
      "needs_background": "light"
     },
     "output_type": "display_data"
    }
   ],
   "source": [
    "markers = {'train': 'o', 'test': 's'}\n",
    "x = np.arange(max_epochs)\n",
    "plt.plot(x, train_acc_list, marker='o', label='train', markevery=10)\n",
    "plt.plot(x, test_acc_list, marker='s', label='test', markevery=10)\n",
    "plt.xlabel(\"epochs\")\n",
    "plt.ylabel(\"accuracy\")\n",
    "plt.ylim(0, 1.0)\n",
    "plt.legend(loc='lower right')\n",
    "plt.show()"
   ]
  },
  {
   "cell_type": "markdown",
   "id": "1046fdf3",
   "metadata": {},
   "source": [
    "### 6.4.3　Dropout"
   ]
  },
  {
   "cell_type": "code",
   "execution_count": 7,
   "id": "6d7debb9",
   "metadata": {},
   "outputs": [],
   "source": [
    "class Dropout:\n",
    "    def __init__(self, dropout_ratio=0.5):\n",
    "        self.dropout_ratio = dropout_ratio\n",
    "        self.mask = None\n",
    "        \n",
    "    def forward(self, x, train_flg=True):\n",
    "        if train_flg:\n",
    "            self.mask = np.random.rand(*x.shape) > self.dropout_ratio\n",
    "            return x * self.mask\n",
    "        \n",
    "        else:\n",
    "            return x * (1.0 - self.dropout_ratio)\n",
    "        \n",
    "    def backward(self, dout):\n",
    "        return dout * self.mask"
   ]
  }
 ],
 "metadata": {
  "kernelspec": {
   "display_name": "Python 3",
   "language": "python",
   "name": "python3"
  },
  "language_info": {
   "codemirror_mode": {
    "name": "ipython",
    "version": 3
   },
   "file_extension": ".py",
   "mimetype": "text/x-python",
   "name": "python",
   "nbconvert_exporter": "python",
   "pygments_lexer": "ipython3",
   "version": "3.8.8"
  },
  "papermill": {
   "default_parameters": {},
   "duration": 10.224912,
   "end_time": "2022-03-15T06:39:10.479699",
   "environment_variables": {},
   "exception": null,
   "input_path": "__notebook__.ipynb",
   "output_path": "__notebook__.ipynb",
   "parameters": {},
   "start_time": "2022-03-15T06:39:00.254787",
   "version": "2.3.3"
  }
 },
 "nbformat": 4,
 "nbformat_minor": 5
}
